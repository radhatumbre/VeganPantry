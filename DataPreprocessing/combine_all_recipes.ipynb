{
 "cells": [
  {
   "cell_type": "code",
   "execution_count": 1,
   "id": "ebccbb88",
   "metadata": {},
   "outputs": [],
   "source": [
    "import pandas as pd\n",
    "import numpy as np"
   ]
  },
  {
   "cell_type": "code",
   "execution_count": 2,
   "id": "18214836",
   "metadata": {},
   "outputs": [],
   "source": [
    "df1 = pd.read_csv('final_maincourse_recipes.csv')\n",
    "df2 = pd.read_csv('final_dessert_recipes.csv')\n",
    "df3 = pd.read_csv('final_appetizer_recipes.csv')\n",
    "df4 = pd.read_csv('final_drinks_recipes.csv')"
   ]
  },
  {
   "cell_type": "code",
   "execution_count": 3,
   "id": "5072980c",
   "metadata": {},
   "outputs": [
    {
     "name": "stdout",
     "output_type": "stream",
     "text": [
      "<class 'pandas.core.frame.DataFrame'>\n",
      "RangeIndex: 144 entries, 0 to 143\n",
      "Data columns (total 11 columns):\n",
      " #   Column                        Non-Null Count  Dtype \n",
      "---  ------                        --------------  ----- \n",
      " 0   title                         144 non-null    object\n",
      " 1   prep_time                     144 non-null    object\n",
      " 2   cook_time                     144 non-null    object\n",
      " 3   total_time                    144 non-null    object\n",
      " 4   ingredients                   144 non-null    object\n",
      " 5   ingredients with measurement  144 non-null    object\n",
      " 6   instructions                  144 non-null    object\n",
      " 7   calories                      144 non-null    object\n",
      " 8   servings                      144 non-null    int64 \n",
      " 9   images                        144 non-null    object\n",
      " 10  type_of_meal                  144 non-null    object\n",
      "dtypes: int64(1), object(10)\n",
      "memory usage: 12.5+ KB\n"
     ]
    }
   ],
   "source": [
    "df4.info()"
   ]
  },
  {
   "cell_type": "code",
   "execution_count": 4,
   "id": "4e63abe3",
   "metadata": {},
   "outputs": [],
   "source": [
    "# Empty Dataframe\n",
    "columns = [\n",
    "    'title',\n",
    "    'prep_time',\n",
    "    'cook_time',\n",
    "    'total_time',\n",
    "    'ingredients',\n",
    "    'ingredients with measurement',\n",
    "    'instructions',\n",
    "    'calories',\n",
    "    'servings',\n",
    "    'images',\n",
    "    'type_of_meal'\n",
    "]"
   ]
  },
  {
   "cell_type": "code",
   "execution_count": 5,
   "id": "f45e925c",
   "metadata": {},
   "outputs": [
    {
     "data": {
      "text/html": [
       "<div>\n",
       "<style scoped>\n",
       "    .dataframe tbody tr th:only-of-type {\n",
       "        vertical-align: middle;\n",
       "    }\n",
       "\n",
       "    .dataframe tbody tr th {\n",
       "        vertical-align: top;\n",
       "    }\n",
       "\n",
       "    .dataframe thead th {\n",
       "        text-align: right;\n",
       "    }\n",
       "</style>\n",
       "<table border=\"1\" class=\"dataframe\">\n",
       "  <thead>\n",
       "    <tr style=\"text-align: right;\">\n",
       "      <th></th>\n",
       "      <th>title</th>\n",
       "      <th>prep_time</th>\n",
       "      <th>cook_time</th>\n",
       "      <th>total_time</th>\n",
       "      <th>ingredients</th>\n",
       "      <th>ingredients with measurement</th>\n",
       "      <th>instructions</th>\n",
       "      <th>calories</th>\n",
       "      <th>servings</th>\n",
       "      <th>images</th>\n",
       "      <th>type_of_meal</th>\n",
       "    </tr>\n",
       "  </thead>\n",
       "  <tbody>\n",
       "  </tbody>\n",
       "</table>\n",
       "</div>"
      ],
      "text/plain": [
       "Empty DataFrame\n",
       "Columns: [title, prep_time, cook_time, total_time, ingredients, ingredients with measurement, instructions, calories, servings, images, type_of_meal]\n",
       "Index: []"
      ]
     },
     "execution_count": 5,
     "metadata": {},
     "output_type": "execute_result"
    }
   ],
   "source": [
    "final = pd.DataFrame(columns=columns)\n",
    "final"
   ]
  },
  {
   "cell_type": "code",
   "execution_count": 6,
   "id": "50489f11",
   "metadata": {},
   "outputs": [],
   "source": [
    "final = pd.concat([final, df1], ignore_index=True)\n",
    "final = pd.concat([final, df2], ignore_index=True)\n",
    "final = pd.concat([final, df3], ignore_index=True)\n",
    "final = pd.concat([final, df4], ignore_index=True)"
   ]
  },
  {
   "cell_type": "code",
   "execution_count": 13,
   "id": "f10e7ad9",
   "metadata": {},
   "outputs": [
    {
     "name": "stdout",
     "output_type": "stream",
     "text": [
      "<class 'pandas.core.frame.DataFrame'>\n",
      "RangeIndex: 2350 entries, 0 to 2349\n",
      "Data columns (total 11 columns):\n",
      " #   Column                        Non-Null Count  Dtype \n",
      "---  ------                        --------------  ----- \n",
      " 0   title                         2350 non-null   object\n",
      " 1   prep_time                     2350 non-null   object\n",
      " 2   cook_time                     2350 non-null   object\n",
      " 3   total_time                    2350 non-null   object\n",
      " 4   ingredients                   2350 non-null   object\n",
      " 5   ingredients with measurement  2350 non-null   object\n",
      " 6   instructions                  2350 non-null   object\n",
      " 7   calories                      2350 non-null   object\n",
      " 8   servings                      2350 non-null   object\n",
      " 9   images                        2350 non-null   object\n",
      " 10  type_of_meal                  2350 non-null   object\n",
      "dtypes: object(11)\n",
      "memory usage: 202.1+ KB\n"
     ]
    }
   ],
   "source": [
    "final.info()"
   ]
  },
  {
   "cell_type": "code",
   "execution_count": 15,
   "id": "798e053d",
   "metadata": {},
   "outputs": [],
   "source": [
    "final = final.reset_index(drop=True)"
   ]
  },
  {
   "cell_type": "code",
   "execution_count": 17,
   "id": "b8f3e812",
   "metadata": {},
   "outputs": [
    {
     "data": {
      "text/html": [
       "<div>\n",
       "<style scoped>\n",
       "    .dataframe tbody tr th:only-of-type {\n",
       "        vertical-align: middle;\n",
       "    }\n",
       "\n",
       "    .dataframe tbody tr th {\n",
       "        vertical-align: top;\n",
       "    }\n",
       "\n",
       "    .dataframe thead th {\n",
       "        text-align: right;\n",
       "    }\n",
       "</style>\n",
       "<table border=\"1\" class=\"dataframe\">\n",
       "  <thead>\n",
       "    <tr style=\"text-align: right;\">\n",
       "      <th></th>\n",
       "      <th>title</th>\n",
       "      <th>prep_time</th>\n",
       "      <th>cook_time</th>\n",
       "      <th>total_time</th>\n",
       "      <th>ingredients</th>\n",
       "      <th>ingredients with measurement</th>\n",
       "      <th>instructions</th>\n",
       "      <th>calories</th>\n",
       "      <th>servings</th>\n",
       "      <th>images</th>\n",
       "      <th>type_of_meal</th>\n",
       "    </tr>\n",
       "  </thead>\n",
       "  <tbody>\n",
       "    <tr>\n",
       "      <th>2345</th>\n",
       "      <td>Fig Bourbon Cider Smash</td>\n",
       "      <td>{'minutes': '5'}</td>\n",
       "      <td>-</td>\n",
       "      <td>{'minutes': '5'}</td>\n",
       "      <td>['apple cider', 'orange zest + 2 tablespoons j...</td>\n",
       "      <td>{'apple cider': '1/4', 'orange zest + 2 tables...</td>\n",
       "      <td>['1. In a cocktail shaker, combine the apple c...</td>\n",
       "      <td>52 kcal</td>\n",
       "      <td>1</td>\n",
       "      <td>https://www.halfbakedharvest.com/wp-content/up...</td>\n",
       "      <td>drink</td>\n",
       "    </tr>\n",
       "    <tr>\n",
       "      <th>2346</th>\n",
       "      <td>Salted Watermelon Paloma</td>\n",
       "      <td>{'minutes': '10'}</td>\n",
       "      <td>-</td>\n",
       "      <td>{'minutes': '10'}</td>\n",
       "      <td>['cubed watermelon', 'kosher salt', 'Florida’s...</td>\n",
       "      <td>{'cubed watermelon': '2', 'kosher salt': 'seas...</td>\n",
       "      <td>['1. Add the watermelon to a blender and pulse...</td>\n",
       "      <td>68 kcal</td>\n",
       "      <td>1</td>\n",
       "      <td>https://www.halfbakedharvest.com/wp-content/up...</td>\n",
       "      <td>drink</td>\n",
       "    </tr>\n",
       "    <tr>\n",
       "      <th>2347</th>\n",
       "      <td>Blackberry Thyme Margarita</td>\n",
       "      <td>{'minutes': '5'}</td>\n",
       "      <td>-</td>\n",
       "      <td>{'minutes': '5'}</td>\n",
       "      <td>['fresh blackberries', 'small red plum, quarte...</td>\n",
       "      <td>{'fresh blackberries': '8', 'small red plum, q...</td>\n",
       "      <td>['1.\\xa0Run a lime wedge around the rim of you...</td>\n",
       "      <td>84 kcal</td>\n",
       "      <td>1</td>\n",
       "      <td>https://www.halfbakedharvest.com/wp-content/up...</td>\n",
       "      <td>drink</td>\n",
       "    </tr>\n",
       "    <tr>\n",
       "      <th>2348</th>\n",
       "      <td>Sweet Bourbon Peach Lemonade</td>\n",
       "      <td>{'minutes': '5'}</td>\n",
       "      <td>-</td>\n",
       "      <td>{'minutes': '5'}</td>\n",
       "      <td>[\"Florida's Natural® Brand Lemonade with Raspb...</td>\n",
       "      <td>{\"Florida's Natural® Brand Lemonade with Raspb...</td>\n",
       "      <td>['1. In a blender, combine the lemonade and pe...</td>\n",
       "      <td>136 kcal</td>\n",
       "      <td>8</td>\n",
       "      <td>https://www.halfbakedharvest.com/wp-content/up...</td>\n",
       "      <td>drink</td>\n",
       "    </tr>\n",
       "    <tr>\n",
       "      <th>2349</th>\n",
       "      <td>Hibiscus Cherry Vodka Spritz</td>\n",
       "      <td>{'minutes': '15'}</td>\n",
       "      <td>{'minutes': '5'}</td>\n",
       "      <td>{'minutes': '20'}</td>\n",
       "      <td>['fresh cherries', 'dried hibiscus flowers', '...</td>\n",
       "      <td>{'fresh cherries': '3/4', 'dried hibiscus flow...</td>\n",
       "      <td>['1. Add the cherries to a medium size pot. Us...</td>\n",
       "      <td>158 kcal</td>\n",
       "      <td>4</td>\n",
       "      <td>https://www.halfbakedharvest.com/wp-content/up...</td>\n",
       "      <td>drink</td>\n",
       "    </tr>\n",
       "  </tbody>\n",
       "</table>\n",
       "</div>"
      ],
      "text/plain": [
       "                             title          prep_time         cook_time  \\\n",
       "2345       Fig Bourbon Cider Smash   {'minutes': '5'}                 -   \n",
       "2346      Salted Watermelon Paloma  {'minutes': '10'}                 -   \n",
       "2347    Blackberry Thyme Margarita   {'minutes': '5'}                 -   \n",
       "2348  Sweet Bourbon Peach Lemonade   {'minutes': '5'}                 -   \n",
       "2349  Hibiscus Cherry Vodka Spritz  {'minutes': '15'}  {'minutes': '5'}   \n",
       "\n",
       "             total_time                                        ingredients  \\\n",
       "2345   {'minutes': '5'}  ['apple cider', 'orange zest + 2 tablespoons j...   \n",
       "2346  {'minutes': '10'}  ['cubed watermelon', 'kosher salt', 'Florida’s...   \n",
       "2347   {'minutes': '5'}  ['fresh blackberries', 'small red plum, quarte...   \n",
       "2348   {'minutes': '5'}  [\"Florida's Natural® Brand Lemonade with Raspb...   \n",
       "2349  {'minutes': '20'}  ['fresh cherries', 'dried hibiscus flowers', '...   \n",
       "\n",
       "                           ingredients with measurement  \\\n",
       "2345  {'apple cider': '1/4', 'orange zest + 2 tables...   \n",
       "2346  {'cubed watermelon': '2', 'kosher salt': 'seas...   \n",
       "2347  {'fresh blackberries': '8', 'small red plum, q...   \n",
       "2348  {\"Florida's Natural® Brand Lemonade with Raspb...   \n",
       "2349  {'fresh cherries': '3/4', 'dried hibiscus flow...   \n",
       "\n",
       "                                           instructions  calories servings  \\\n",
       "2345  ['1. In a cocktail shaker, combine the apple c...   52 kcal        1   \n",
       "2346  ['1. Add the watermelon to a blender and pulse...   68 kcal        1   \n",
       "2347  ['1.\\xa0Run a lime wedge around the rim of you...   84 kcal        1   \n",
       "2348  ['1. In a blender, combine the lemonade and pe...  136 kcal        8   \n",
       "2349  ['1. Add the cherries to a medium size pot. Us...  158 kcal        4   \n",
       "\n",
       "                                                 images type_of_meal  \n",
       "2345  https://www.halfbakedharvest.com/wp-content/up...        drink  \n",
       "2346  https://www.halfbakedharvest.com/wp-content/up...        drink  \n",
       "2347  https://www.halfbakedharvest.com/wp-content/up...        drink  \n",
       "2348  https://www.halfbakedharvest.com/wp-content/up...        drink  \n",
       "2349  https://www.halfbakedharvest.com/wp-content/up...        drink  "
      ]
     },
     "execution_count": 17,
     "metadata": {},
     "output_type": "execute_result"
    }
   ],
   "source": [
    "final.tail(5)"
   ]
  },
  {
   "cell_type": "code",
   "execution_count": 20,
   "id": "845342e7",
   "metadata": {},
   "outputs": [
    {
     "name": "stdout",
     "output_type": "stream",
     "text": [
      "<class 'pandas.core.frame.DataFrame'>\n",
      "RangeIndex: 2350 entries, 0 to 2349\n",
      "Data columns (total 11 columns):\n",
      " #   Column                        Non-Null Count  Dtype \n",
      "---  ------                        --------------  ----- \n",
      " 0   title                         2350 non-null   object\n",
      " 1   prep_time                     2350 non-null   object\n",
      " 2   cook_time                     2350 non-null   object\n",
      " 3   total_time                    2350 non-null   object\n",
      " 4   ingredients                   2350 non-null   object\n",
      " 5   ingredients with measurement  2350 non-null   object\n",
      " 6   instructions                  2350 non-null   object\n",
      " 7   calories                      2350 non-null   object\n",
      " 8   servings                      2350 non-null   object\n",
      " 9   images                        2350 non-null   object\n",
      " 10  type_of_meal                  2350 non-null   object\n",
      "dtypes: object(11)\n",
      "memory usage: 202.1+ KB\n"
     ]
    }
   ],
   "source": [
    "final.info()"
   ]
  },
  {
   "cell_type": "code",
   "execution_count": 22,
   "id": "0ad643df",
   "metadata": {},
   "outputs": [],
   "source": [
    "final.loc[:, ['title', 'ingredients']] = final[['title', 'ingredients']].replace('-', np.nan)"
   ]
  },
  {
   "cell_type": "code",
   "execution_count": 23,
   "id": "bbca151c",
   "metadata": {},
   "outputs": [],
   "source": [
    "final.replace('None', np.nan, inplace=True)"
   ]
  },
  {
   "cell_type": "code",
   "execution_count": 24,
   "id": "d463c08b",
   "metadata": {},
   "outputs": [
    {
     "data": {
      "text/plain": [
       "title                           0\n",
       "prep_time                       0\n",
       "cook_time                       0\n",
       "total_time                      0\n",
       "ingredients                     0\n",
       "ingredients with measurement    0\n",
       "instructions                    0\n",
       "calories                        0\n",
       "servings                        0\n",
       "images                          0\n",
       "type_of_meal                    0\n",
       "dtype: int64"
      ]
     },
     "execution_count": 24,
     "metadata": {},
     "output_type": "execute_result"
    }
   ],
   "source": [
    "final.isnull().sum()"
   ]
  },
  {
   "cell_type": "code",
   "execution_count": null,
   "id": "8098d2ec",
   "metadata": {},
   "outputs": [],
   "source": [
    "final.dropna(inplace=True)"
   ]
  },
  {
   "cell_type": "code",
   "execution_count": null,
   "id": "63bc9638",
   "metadata": {},
   "outputs": [],
   "source": []
  },
  {
   "cell_type": "code",
   "execution_count": 18,
   "id": "ac104966",
   "metadata": {},
   "outputs": [],
   "source": [
    "def save_list_to_txt(filename, data_list):\n",
    "    with open(filename, 'w') as f:\n",
    "        for item in data_list:\n",
    "            f.write(f\"{item}\\n\")"
   ]
  },
  {
   "cell_type": "code",
   "execution_count": 19,
   "id": "03ae1479",
   "metadata": {},
   "outputs": [],
   "source": [
    "final.to_csv('final_recipes.csv', index=False)"
   ]
  },
  {
   "cell_type": "code",
   "execution_count": null,
   "id": "c4944503",
   "metadata": {},
   "outputs": [],
   "source": []
  }
 ],
 "metadata": {
  "kernelspec": {
   "display_name": "Python 3 (ipykernel)",
   "language": "python",
   "name": "python3"
  },
  "language_info": {
   "codemirror_mode": {
    "name": "ipython",
    "version": 3
   },
   "file_extension": ".py",
   "mimetype": "text/x-python",
   "name": "python",
   "nbconvert_exporter": "python",
   "pygments_lexer": "ipython3",
   "version": "3.9.8"
  }
 },
 "nbformat": 4,
 "nbformat_minor": 5
}
