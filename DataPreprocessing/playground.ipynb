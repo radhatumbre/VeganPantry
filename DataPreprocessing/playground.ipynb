{
 "cells": [
  {
   "cell_type": "code",
   "execution_count": 8,
   "id": "0ffdb271",
   "metadata": {},
   "outputs": [
    {
     "name": "stdout",
     "output_type": "stream",
     "text": [
      "['steak', 'rice', 'avocado', 'cilantro']\n"
     ]
    }
   ],
   "source": [
    "import pandas as pd\n",
    "\n",
    "def extract_ingr(ingr):\n",
    "    global all_ingredients  # Use global to modify the list outside the function\n",
    "    if ingr is not None:\n",
    "        for i in ingr:\n",
    "            words = [word.strip() for word in i.replace(',', ' ').split()]\n",
    "            for word in words:\n",
    "                if word in base_ingredients:\n",
    "                    all_ingredients.append(word)\n",
    "                    break  # Exit the loop once a match is found\n",
    "            else:\n",
    "                all_ingredients.append(i)  # If no match found, add the entire ingredient\n",
    "\n",
    "# Sample base_ingredients list\n",
    "base_ingredients = ['steak', 'chicken', 'rice', 'coconut', 'avocado', 'cilantro']\n",
    "\n",
    "# Sample DataFrame column 'ingredients' containing lists of ingredients\n",
    "df = pd.DataFrame({'ingredients': [['flank steak, cubed', 'rice or coconut rice, for serving'],\n",
    "                                   ['avocado, yogurt/sour cream + limes, for serving', 'fresh cilantro, chopped']]})\n",
    "\n",
    "# Initialize all_ingredients list\n",
    "all_ingredients = []\n",
    "\n",
    "# Apply the extract_ingr function to the 'ingredients' column\n",
    "df['ingredients'].apply(extract_ingr)\n",
    "\n",
    "# Print the updated list of ingredients\n",
    "print(all_ingredients)\n"
   ]
  },
  {
   "cell_type": "code",
   "execution_count": null,
   "id": "0de9646c",
   "metadata": {},
   "outputs": [],
   "source": []
  },
  {
   "cell_type": "code",
   "execution_count": null,
   "id": "5ad95221",
   "metadata": {},
   "outputs": [],
   "source": []
  }
 ],
 "metadata": {
  "kernelspec": {
   "display_name": "Python 3 (ipykernel)",
   "language": "python",
   "name": "python3"
  },
  "language_info": {
   "codemirror_mode": {
    "name": "ipython",
    "version": 3
   },
   "file_extension": ".py",
   "mimetype": "text/x-python",
   "name": "python",
   "nbconvert_exporter": "python",
   "pygments_lexer": "ipython3",
   "version": "3.9.8"
  }
 },
 "nbformat": 4,
 "nbformat_minor": 5
}
