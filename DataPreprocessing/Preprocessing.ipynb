{
 "cells": [
  {
   "cell_type": "code",
   "execution_count": 1,
   "id": "1a4abc07",
   "metadata": {},
   "outputs": [],
   "source": [
    "import numpy as np\n",
    "import pandas as pd"
   ]
  },
  {
   "cell_type": "code",
   "execution_count": 2,
   "id": "9341b465",
   "metadata": {},
   "outputs": [],
   "source": [
    "df = pd.read_csv('recipes.csv')"
   ]
  },
  {
   "cell_type": "code",
   "execution_count": 3,
   "id": "202f5c03",
   "metadata": {},
   "outputs": [],
   "source": [
    "import ast\n",
    "def safe_literal_eval(val):\n",
    "    if val is None:\n",
    "        return val\n",
    "    try:\n",
    "        return ast.literal_eval(val)\n",
    "    except (ValueError, SyntaxError):\n",
    "        return val\n",
    "    \n",
    "# Convert string representations of lists to actual lists\n",
    "df['ingredients'] = df['ingredients'].apply(safe_literal_eval)\n",
    "df['instructions'] = df['instructions'].apply(safe_literal_eval)"
   ]
  },
  {
   "cell_type": "code",
   "execution_count": 4,
   "id": "63b7781c",
   "metadata": {},
   "outputs": [
    {
     "name": "stdout",
     "output_type": "stream",
     "text": [
      "<class 'pandas.core.frame.DataFrame'>\n",
      "RangeIndex: 1157 entries, 0 to 1156\n",
      "Data columns (total 10 columns):\n",
      " #   Column                        Non-Null Count  Dtype \n",
      "---  ------                        --------------  ----- \n",
      " 0   title                         1157 non-null   object\n",
      " 1   prep_time                     1157 non-null   object\n",
      " 2   cook_time                     1157 non-null   object\n",
      " 3   total_time                    1157 non-null   object\n",
      " 4   ingredients                   1157 non-null   object\n",
      " 5   ingredients with measurement  1157 non-null   object\n",
      " 6   instructions                  1157 non-null   object\n",
      " 7   calories                      1157 non-null   object\n",
      " 8   servings                      1157 non-null   object\n",
      " 9   images                        1157 non-null   object\n",
      "dtypes: object(10)\n",
      "memory usage: 90.5+ KB\n"
     ]
    }
   ],
   "source": [
    "df.info()"
   ]
  },
  {
   "cell_type": "code",
   "execution_count": 5,
   "id": "7285f27a",
   "metadata": {},
   "outputs": [
    {
     "data": {
      "text/plain": [
       "title                                          Zucchini, Bacon, and Pecorino Tart\n",
       "prep_time                                                       {'minutes': '20'}\n",
       "cook_time                                                          {'hours': '1'}\n",
       "total_time                                        {'hours': '1', 'minutes': '20'}\n",
       "ingredients                     [frozen puff pastry, thawed, medium zucchini, ...\n",
       "ingredients with measurement    {'frozen puff pastry, thawed': '1', 'medium zu...\n",
       "instructions                    [1. Preheat the oven to 400 degrees. Grease a ...\n",
       "calories                                                                 638 kcal\n",
       "servings                                                                        6\n",
       "images                          https://www.halfbakedharvest.com/wp-content/up...\n",
       "Name: 1092, dtype: object"
      ]
     },
     "execution_count": 5,
     "metadata": {},
     "output_type": "execute_result"
    }
   ],
   "source": [
    "df.loc[1092]"
   ]
  },
  {
   "cell_type": "code",
   "execution_count": 6,
   "id": "63494578",
   "metadata": {},
   "outputs": [
    {
     "data": {
      "text/plain": [
       "['1. Preheat the oven to 400 degrees. Grease a 9-inch tart pan with a little butter or oil, then dust it with flour until well coated.',\n",
       " '2. Roll out the puff pastry into a large circle and drape it over the tart pan. Press the pastry into the nooks and crannies, then roll a rolling-pin over the top to cut away the excess pastry. Cover the pastry with a sheet of parchment paper and fill it with baking beans or weights. Set the pan in the oven and bake for 15 minutes, until dry to the touch. Remove from the oven, discard the parchment paper and baking beans, and bake for 3 to 5 minutes more to crisp up the base.',\n",
       " '3. Meanwhile, roughly slice the zucchini into 1 inch thick rounds. Drizzle the olive oil into a large saucepan, set on medium heat, and add the zucchini and salt. Cook, stirring until the zucchini begin to color very lightly, 3 to 5 minutes. Toss in the pancetta and cook, stirring until the pancetta is crisp, 3 to 5 minutes more.',\n",
       " '4. In a large bowl, whisk the eggs and cream with a fork, then whisk in the cheese. Season with a little salt. Allow the pancetta and zucchini mixture to cool a little (so that  it doesn’t cook the eggs), then add it to the eggs and cheese, and toss well.',\n",
       " '5. Pour the filling into the prepared pastry shell. If using, open the zucchini blossoms very gently and pull out and discard the stamens. Then arrange the flowers on the top of the pie, gently pressing them into the filling. Bake the pie for 20 to 25 minutes, until golden on top. It’s delicious eaten warm from the oven, or at room temperature.']"
      ]
     },
     "execution_count": 6,
     "metadata": {},
     "output_type": "execute_result"
    }
   ],
   "source": [
    "df['instructions'].loc[1092]"
   ]
  },
  {
   "cell_type": "code",
   "execution_count": 7,
   "id": "6be5795d",
   "metadata": {},
   "outputs": [],
   "source": [
    "df = df[df['instructions'].apply(lambda x: len(x) > 0)]\n"
   ]
  },
  {
   "cell_type": "code",
   "execution_count": 8,
   "id": "460b9821",
   "metadata": {},
   "outputs": [
    {
     "name": "stdout",
     "output_type": "stream",
     "text": [
      "<class 'pandas.core.frame.DataFrame'>\n",
      "Int64Index: 1157 entries, 0 to 1156\n",
      "Data columns (total 10 columns):\n",
      " #   Column                        Non-Null Count  Dtype \n",
      "---  ------                        --------------  ----- \n",
      " 0   title                         1157 non-null   object\n",
      " 1   prep_time                     1157 non-null   object\n",
      " 2   cook_time                     1157 non-null   object\n",
      " 3   total_time                    1157 non-null   object\n",
      " 4   ingredients                   1157 non-null   object\n",
      " 5   ingredients with measurement  1157 non-null   object\n",
      " 6   instructions                  1157 non-null   object\n",
      " 7   calories                      1157 non-null   object\n",
      " 8   servings                      1157 non-null   object\n",
      " 9   images                        1157 non-null   object\n",
      "dtypes: object(10)\n",
      "memory usage: 99.4+ KB\n"
     ]
    }
   ],
   "source": [
    "df.info()"
   ]
  },
  {
   "cell_type": "code",
   "execution_count": 9,
   "id": "e0850740",
   "metadata": {},
   "outputs": [],
   "source": [
    "df.to_csv('recipes.csv', index=False)"
   ]
  },
  {
   "cell_type": "code",
   "execution_count": null,
   "id": "1bc9a8d6",
   "metadata": {},
   "outputs": [],
   "source": []
  }
 ],
 "metadata": {
  "kernelspec": {
   "display_name": "Python 3 (ipykernel)",
   "language": "python",
   "name": "python3"
  },
  "language_info": {
   "codemirror_mode": {
    "name": "ipython",
    "version": 3
   },
   "file_extension": ".py",
   "mimetype": "text/x-python",
   "name": "python",
   "nbconvert_exporter": "python",
   "pygments_lexer": "ipython3",
   "version": "3.9.8"
  }
 },
 "nbformat": 4,
 "nbformat_minor": 5
}
