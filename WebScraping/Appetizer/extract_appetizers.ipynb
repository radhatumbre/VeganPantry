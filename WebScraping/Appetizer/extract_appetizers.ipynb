{
 "cells": [
  {
   "cell_type": "code",
   "execution_count": 1,
   "id": "54010bad",
   "metadata": {},
   "outputs": [],
   "source": [
    "import pandas as pd\n",
    "import requests\n",
    "import itertools\n",
    "from bs4 import BeautifulSoup\n",
    "from requests.exceptions import ChunkedEncodingError"
   ]
  },
  {
   "cell_type": "code",
   "execution_count": 2,
   "id": "ccf6e546",
   "metadata": {},
   "outputs": [
    {
     "data": {
      "text/plain": [
       "360"
      ]
     },
     "execution_count": 2,
     "metadata": {},
     "output_type": "execute_result"
    }
   ],
   "source": [
    "\n",
    "# Read the URLs from the text file\n",
    "with open('all_recipes_url.txt', 'r') as file:\n",
    "    all_recipes_url = file.readlines()\n",
    "\n",
    "# Strip newline characters from each URL\n",
    "all_recipes_url = [url.strip() for url in all_recipes_url]\n",
    "\n",
    "len(all_recipes_url)"
   ]
  },
  {
   "cell_type": "code",
   "execution_count": 3,
   "id": "77306887",
   "metadata": {
    "scrolled": true
   },
   "outputs": [
    {
     "data": {
      "text/plain": [
       "['https://www.halfbakedharvest.com/sour-cream-and-onion-smashed-potatoes/',\n",
       " 'https://www.halfbakedharvest.com/tomato-cheese-pie/',\n",
       " 'https://www.halfbakedharvest.com/open-face-tomato-bacon-sandwich/',\n",
       " 'https://www.halfbakedharvest.com/garlic-oil-feta-dip/',\n",
       " 'https://www.halfbakedharvest.com/marinated-burrata/',\n",
       " 'https://www.halfbakedharvest.com/pull-apart-cheeseburger-sliders/',\n",
       " 'https://www.halfbakedharvest.com/31-recipes-to-cook-in-july/',\n",
       " 'https://www.halfbakedharvest.com/watermelon-peach-salad/',\n",
       " 'https://www.halfbakedharvest.com/7-layer-dip/',\n",
       " 'https://www.halfbakedharvest.com/honey-garlic-parmesan-biscuits/',\n",
       " 'https://www.halfbakedharvest.com/bbq-snack-mix/',\n",
       " 'https://www.halfbakedharvest.com/tomato-burrata-caprese/',\n",
       " 'https://www.halfbakedharvest.com/31-recipes-to-cook-in-may/',\n",
       " 'https://www.halfbakedharvest.com/garlic-olive-oil-dip/',\n",
       " 'https://www.halfbakedharvest.com/garlic-parmesan-boneless-wings/',\n",
       " 'https://www.halfbakedharvest.com/fried-goat-cheese-balls/',\n",
       " 'https://www.halfbakedharvest.com/prosciutto-wrapped-baked-brie-rolls/',\n",
       " 'https://www.halfbakedharvest.com/popular-holiday-appetizers-and-cocktails-mocktails/',\n",
       " 'https://www.halfbakedharvest.com/goat-cheese-puff-pastry-swirls/',\n",
       " 'https://www.halfbakedharvest.com/beef-tenderloin-crostini/',\n",
       " 'https://www.halfbakedharvest.com/pastry-wrapped-baked-brie-with-maple-butter-roasted-apples/',\n",
       " 'https://www.halfbakedharvest.com/the-50-most-popular-fall-recipes/',\n",
       " 'https://www.halfbakedharvest.com/garlic-butter-pizza-egg-rolls/',\n",
       " 'https://www.halfbakedharvest.com/parmesan-buffalo-chicken-wings/',\n",
       " 'https://www.halfbakedharvest.com/buffalo-cauliflower-taquitos/',\n",
       " 'https://www.halfbakedharvest.com/burrata-pepperoni-pizza-dip/',\n",
       " 'https://www.halfbakedharvest.com/peach-burrata-parmesan-crostini-with-hot-honey/',\n",
       " 'https://www.halfbakedharvest.com/mezze-platter/',\n",
       " 'https://www.halfbakedharvest.com/marinated-cherry-tomatoes-with-burrata/',\n",
       " 'https://www.halfbakedharvest.com/gruyere-tomato-bruschetta/',\n",
       " 'https://www.halfbakedharvest.com/strawberry-jam-with-goat-cheese/',\n",
       " 'https://www.halfbakedharvest.com/jalapeno-cheddar-cornbread-biscuits/',\n",
       " 'https://www.halfbakedharvest.com/salmon-sushi-cups/',\n",
       " 'https://www.halfbakedharvest.com/garlic-butter-soft-pretzel-knots/',\n",
       " 'https://www.halfbakedharvest.com/baked-brie-crostini/',\n",
       " 'https://www.halfbakedharvest.com/street-corn-dip-sliders/',\n",
       " 'https://www.halfbakedharvest.com/roasted-garlic-caprese-dip/',\n",
       " 'https://www.halfbakedharvest.com/beef-rolls/',\n",
       " 'https://www.halfbakedharvest.com/coconut-chicken-fingers/',\n",
       " 'https://www.halfbakedharvest.com/jalapeno-dip/',\n",
       " 'https://www.halfbakedharvest.com/garlic-parmesan-french-fries/',\n",
       " 'https://www.halfbakedharvest.com/baked-artichokes/',\n",
       " 'https://www.halfbakedharvest.com/the-25-most-popular-game-day-recipes/',\n",
       " 'https://www.halfbakedharvest.com/hot-honey-cauliflower/',\n",
       " 'https://www.halfbakedharvest.com/cheesy-sweet-potato-skins/',\n",
       " 'https://www.halfbakedharvest.com/chicken-enchilada-bean-dip/',\n",
       " 'https://www.halfbakedharvest.com/prosciutto-wrapped-baked-brie/',\n",
       " 'https://www.halfbakedharvest.com/everything-ranch-crackers-and-pretzels/',\n",
       " 'https://www.halfbakedharvest.com/jalapeno-cheddar-corn-fritters/',\n",
       " 'https://www.halfbakedharvest.com/bacon-wrapped-cheddar-corn-jalapeno-poppers/',\n",
       " 'https://www.halfbakedharvest.com/crispy-sesame-ginger-potstickers/',\n",
       " 'https://www.halfbakedharvest.com/roasted-tomato-cheddar-tart/',\n",
       " 'https://www.halfbakedharvest.com/garlic-parmesan-herb-butter-polenta-fries/',\n",
       " 'https://www.halfbakedharvest.com/mac-and-cheese-stuffed-oven-fried-zucchini-bites/',\n",
       " 'https://www.halfbakedharvest.com/marinated-goat-cheese-strawberry-crostini/',\n",
       " 'https://www.halfbakedharvest.com/crispy-bbq-beer-battered-cauliflower-nuggets/',\n",
       " 'https://www.halfbakedharvest.com/homemade-goldfish/',\n",
       " 'https://www.halfbakedharvest.com/pan-fried-brie/',\n",
       " 'https://www.halfbakedharvest.com/coconut-popcorn-chicken/',\n",
       " 'https://www.halfbakedharvest.com/crispy-chicken-tinga-taquitos/',\n",
       " 'https://www.halfbakedharvest.com/prosciutto-caprese-puff-pastries/',\n",
       " 'https://www.halfbakedharvest.com/honey-mustard-pretzel-chicken-fingers/',\n",
       " 'https://www.halfbakedharvest.com/cheesy-herb-stuffed-naan/',\n",
       " 'https://www.halfbakedharvest.com/tuscan-fries/',\n",
       " 'https://www.halfbakedharvest.com/no-knead-rosemary-garlic-parmesan-bread/',\n",
       " 'https://www.halfbakedharvest.com/garlic-butter-scallops/',\n",
       " 'https://www.halfbakedharvest.com/extra-flakey-broccoli-cheddar-soup-mini-pies/',\n",
       " 'https://www.halfbakedharvest.com/buffalo-ranch-chicken-pull-apart-bread/',\n",
       " 'https://www.halfbakedharvest.com/oven-fried-cajun-popcorn-chicken/',\n",
       " 'https://www.halfbakedharvest.com/whipped-ricotta-toast/',\n",
       " 'https://www.halfbakedharvest.com/chinese-mushroom-dumplings/',\n",
       " 'https://www.halfbakedharvest.com/burrata-with-lemon-pepper-salami-bites/',\n",
       " 'https://www.halfbakedharvest.com/addicting-baked-seasoned-ritz-crackers/',\n",
       " 'https://www.halfbakedharvest.com/baked-brie-and-prosciutto-rolls/',\n",
       " 'https://www.halfbakedharvest.com/roasted-lemon-spinach-and-artichoke-dip/',\n",
       " 'https://www.halfbakedharvest.com/sweet-n-savory-roasted-nuts-and-pretzels/',\n",
       " 'https://www.halfbakedharvest.com/brie-stuffed-crispy-baby-potatoes/',\n",
       " 'https://www.halfbakedharvest.com/honey-butter-roasted-acorn-with-burrata-and-pomegranate/',\n",
       " 'https://www.halfbakedharvest.com/caramelized-garlic-butter-toast-with-pan-fried-mushrooms/',\n",
       " 'https://www.halfbakedharvest.com/opened-faced-tomato-and-goat-cheese-sandwich-with-hot-bacon-vinaigrette/',\n",
       " 'https://www.halfbakedharvest.com/thai-coconut-butter-mussels-with-garlic-lemongrass-toast/',\n",
       " 'https://www.halfbakedharvest.com/10-minute-garden-herb-avocado-dip/',\n",
       " 'https://www.halfbakedharvest.com/honey-thyme-sweet-cherry-grilled-brie/',\n",
       " 'https://www.halfbakedharvest.com/tuscan-summer-stone-fruit-tomato-and-burrata-panzanella-salad/',\n",
       " 'https://www.halfbakedharvest.com/lemon-feta-dip-garlic-tomato-vinaigrette/',\n",
       " 'https://www.halfbakedharvest.com/farmers-market-pickled-crudite-platter/',\n",
       " 'https://www.halfbakedharvest.com/quick-pickled-veggies/',\n",
       " 'https://www.halfbakedharvest.com/brunch-bruschetta-bar/',\n",
       " 'https://www.halfbakedharvest.com/lighter-cheese-board/',\n",
       " 'https://www.halfbakedharvest.com/caprese-burrata-garlic-bread/',\n",
       " 'https://www.halfbakedharvest.com/honey-garlic-korean-bbq-grilled-shrimp/',\n",
       " 'https://www.halfbakedharvest.com/honey-raspberry-brie-crostini-with-basil-oil/',\n",
       " 'https://www.halfbakedharvest.com/the-perfect-moroccan-brunch/',\n",
       " 'https://www.halfbakedharvest.com/baked-thai-coconut-shrimp-with-lemongrass-guacamole/',\n",
       " 'https://www.halfbakedharvest.com/farro-tabbouleh-with-burrata-and-hummus/',\n",
       " 'https://www.halfbakedharvest.com/roasted-red-pepper-meze-platter/',\n",
       " 'https://www.halfbakedharvest.com/sun-dried-tomato-muhammara-roasted-red-pepper-spread/',\n",
       " 'https://www.halfbakedharvest.com/black-bean-turkey-nachos-with-jalapeno-yogurt/',\n",
       " 'https://www.halfbakedharvest.com/chicken-parmesan-meatball-crostini/',\n",
       " 'https://www.halfbakedharvest.com/buffalo-cheddar-soft-pretzel-twist-everything-spice/',\n",
       " 'https://www.halfbakedharvest.com/herbed-goat-cheese-stuffed-mushrooms/',\n",
       " 'https://www.halfbakedharvest.com/3-ingredient-cheesy-pizza-pretzels/',\n",
       " 'https://www.halfbakedharvest.com/cheese-fondue-board/',\n",
       " 'https://www.halfbakedharvest.com/cranberry-brie-pull-apart-bread/',\n",
       " 'https://www.halfbakedharvest.com/cheesy-bacon-holiday-crack/',\n",
       " 'https://www.halfbakedharvest.com/7-easy-fall-dinners/',\n",
       " 'https://www.halfbakedharvest.com/pumpkin-beer-pretzels-with-chipotle-queso/',\n",
       " 'https://www.halfbakedharvest.com/skinny-cajun-sweet-potato-fries-with-garlic-cheese-sauce/',\n",
       " 'https://www.halfbakedharvest.com/cheesy-buffalo-chicken-french-bread/',\n",
       " 'https://www.halfbakedharvest.com/market-veggie-board-with-roasted-corn-jalapeno-hummus-honey-whipped-goat-cheese/',\n",
       " 'https://www.halfbakedharvest.com/summer-garden-guacamole/',\n",
       " 'https://www.halfbakedharvest.com/sweet-chili-butter-grilled-lobster-fries-havarti-cheese/',\n",
       " 'https://www.halfbakedharvest.com/summer-fruit-plate/',\n",
       " 'https://www.halfbakedharvest.com/bacon-wrapped-parmesan-broccoli-rabe/',\n",
       " 'https://www.halfbakedharvest.com/simple-summer-cheese-board/',\n",
       " 'https://www.halfbakedharvest.com/summer-crostini-6-ways/',\n",
       " 'https://www.halfbakedharvest.com/farmers-market-hummus/',\n",
       " 'https://www.halfbakedharvest.com/southwest-bbq-pork-sliders/',\n",
       " 'https://www.halfbakedharvest.com/avocado-veggie-spring-rolls-sweet-thai-mango-sauce/',\n",
       " 'https://www.halfbakedharvest.com/mediterranean-antipasto-platter/',\n",
       " 'https://www.halfbakedharvest.com/panzanella-style-caprese-asparagus-salad/',\n",
       " 'https://www.halfbakedharvest.com/mexican-carnitas-bar/',\n",
       " 'https://www.halfbakedharvest.com/new-crudite-platter/',\n",
       " 'https://www.halfbakedharvest.com/artichoke-ricotta-flatbread/',\n",
       " 'https://www.halfbakedharvest.com/brie-stuffed-artichokes/',\n",
       " 'https://www.halfbakedharvest.com/salmon-fajita-salad-boats/',\n",
       " 'https://www.halfbakedharvest.com/sticky-mango-curry-oven-baked-boneless-wings/',\n",
       " 'https://www.halfbakedharvest.com/margherita-pizza-dip-burrata/',\n",
       " 'https://www.halfbakedharvest.com/sriracha-buffalo-cauliflower-bites/',\n",
       " 'https://www.halfbakedharvest.com/roasted-beet-hummus-video/',\n",
       " 'https://www.halfbakedharvest.com/sweet-potato-and-black-bean-nachos-with-green-chile-salsa/',\n",
       " 'https://www.halfbakedharvest.com/queso-fundido-alla-tequila/',\n",
       " 'https://www.halfbakedharvest.com/pomegranate-guacamole-with-fried-plantain-chips/',\n",
       " 'https://www.halfbakedharvest.com/easy-crockpot-christmas-eve-chex-mix/',\n",
       " 'https://www.halfbakedharvest.com/honey-baked-brie-seasoned-pretzels-easy-christmas-appetizer/',\n",
       " 'https://www.halfbakedharvest.com/caramelized-pineapple-ham-and-cheese-turnovers/',\n",
       " 'https://www.halfbakedharvest.com/crispy-prosciutto-baked-brie-bites-with-honey-pears-walnuts/',\n",
       " 'https://www.halfbakedharvest.com/the-big-holiday-hummus-board-with-roasted-root-veggie-chips/',\n",
       " 'https://www.halfbakedharvest.com/deathly-hallows-cheese-board/',\n",
       " 'https://www.halfbakedharvest.com/simple-baked-italian-oregano-meatballs/',\n",
       " 'https://www.halfbakedharvest.com/easy-enchilada-beef-nachos/',\n",
       " 'https://www.halfbakedharvest.com/fall-harvest-peanut-picnic-a-family-hike/',\n",
       " 'https://www.halfbakedharvest.com/crispy-buffalo-cheddar-potato-nachos/',\n",
       " 'https://www.halfbakedharvest.com/cheesy-miso-caramelized-corn-and-pineapple-chile-dip/',\n",
       " 'https://www.halfbakedharvest.com/summer-fruit-salsa-and-pesto-hummus/',\n",
       " 'https://www.halfbakedharvest.com/how-to-make-a-killer-summer-cheeseboard-with-pickled-strawberries-herb-roasted-cherry-tomatoes/',\n",
       " 'https://www.halfbakedharvest.com/skinny-greek-feta-fries-with-roasted-garlic-saffron-aioli/',\n",
       " 'https://www.halfbakedharvest.com/tomato-salami-and-chunky-arugula-basil-pesto-bruschetta/',\n",
       " 'https://www.halfbakedharvest.com/quick-balsamic-fig-roasted-tomato-and-burrata-cheese-tarts/',\n",
       " 'https://www.halfbakedharvest.com/kentucky-hot-brown-sandwiches-jalapeno-cornbread-biscuits-honey-bourbon-bacon/',\n",
       " 'https://www.halfbakedharvest.com/cheesy-avocado-crab-stuffed-piquillo-pepper-ciabatta-pizzettes-with-sriracha-aioli/',\n",
       " 'https://www.halfbakedharvest.com/authentic-canadian-poutine/',\n",
       " 'https://www.halfbakedharvest.com/smoky-3-cheese-fondue-toasted-garlic-buttered-croissants/',\n",
       " 'https://www.halfbakedharvest.com/greek-feta-chickpea-pancake-fritters-poached-eggs-olive-tapenade/',\n",
       " 'https://www.halfbakedharvest.com/fully-loaded-potato-skins-chipotle-southwest-guacamole/',\n",
       " 'https://www.halfbakedharvest.com/thai-peanut-chicken-wings-fiery-pineapple-jalapeno-salsa/',\n",
       " 'https://www.halfbakedharvest.com/big-popper-hot-buffalo-chicken-bacon-grilled-cheese/',\n",
       " 'https://www.halfbakedharvest.com/spicy-green-harissa/',\n",
       " 'https://www.halfbakedharvest.com/spicy-fontina-spinach-artichoke-chorizo-stuffed-mushrooms/',\n",
       " 'https://www.halfbakedharvest.com/ham-cheese-sandwiches-wbacon-pineapple-caramelized-onions-jerk-bbq-sauce/',\n",
       " 'https://www.halfbakedharvest.com/salted-coffee-butter-roasted-chestnuts/',\n",
       " 'https://www.halfbakedharvest.com/goat-cheese-stuffed-phyllo-swirls-pomegranate-honey-pistachios/',\n",
       " 'https://www.halfbakedharvest.com/mushroom-havarti-turnovers/',\n",
       " 'https://www.halfbakedharvest.com/sun-dried-tomato-olive-pesto-pizza-salami-roasted-red-peppers/',\n",
       " 'https://www.halfbakedharvest.com/chinese-chicken-brussels-sprouts-egg-rolls-sweet-chile-pomegranate-sauce/',\n",
       " 'https://www.halfbakedharvest.com/gingery-steak-brie-sliders-balsamic-cranberry-sauce/',\n",
       " 'https://www.halfbakedharvest.com/simple-salty-sweet-potato-skin-chips/',\n",
       " 'https://www.halfbakedharvest.com/lets-talk-thanksgiving-snacks-appetizers-sides-desserts/',\n",
       " 'https://www.halfbakedharvest.com/caramelized-apple-cheddar-cheese-soft-pretzels-apple-cider-dipping-sauce/',\n",
       " 'https://www.halfbakedharvest.com/caramelized-onion-bbq-chicken-strombolis/',\n",
       " 'https://www.halfbakedharvest.com/homemade-naan-step-step-photos/',\n",
       " 'https://www.halfbakedharvest.com/sweet-sour-sticky-thai-boneless-oven-baked-chicken-wings/',\n",
       " 'https://www.halfbakedharvest.com/roasted-cauliflower-white-pizza-dip/',\n",
       " 'https://www.halfbakedharvest.com/zucchini-parmesan-crusted-chicken-nuggets/',\n",
       " 'https://www.halfbakedharvest.com/simple-crispy-basil-caramelized-garden-vegetable-fontina-french-bread-pizza/',\n",
       " 'https://www.halfbakedharvest.com/blue-cheese-guacamole-stuffed-mushrooms-with-buffalo-sauce/',\n",
       " 'https://www.halfbakedharvest.com/curried-zucchini-chicken-and-goat-cheese-rolls-with-cashew-mango-fried-rice/',\n",
       " 'https://www.halfbakedharvest.com/fried-mozzarella-basil-and-nectarine-stacks-with-balsamic-glaze/',\n",
       " 'https://www.halfbakedharvest.com/blue-cheese-lobster-beignets-with-spicy-avocado-cream-garden-veggie-saute/',\n",
       " 'https://www.halfbakedharvest.com/avocado-and-gouda-blt-corn-fritter-stacks-with-chipotle-bourbon-dressing/',\n",
       " 'https://www.halfbakedharvest.com/exactly-how-i-grill-my-corn-chipotle-lime-and-cotija-cheese-butter/',\n",
       " 'https://www.halfbakedharvest.com/peach-and-gorgonzola-grilled-polenta-rounds-with-chipotle-honey/',\n",
       " 'https://www.halfbakedharvest.com/grilled-tex-mex-quinoa-stuffed-sweet-potatoes-skins/',\n",
       " 'https://www.halfbakedharvest.com/blistered-tomato-grilled-toast-caprese-nachos-with-balsamic-glaze/',\n",
       " 'https://www.halfbakedharvest.com/grilled-blackberry-strawberry-basil-and-brie-pizza-crisps/',\n",
       " 'https://www.halfbakedharvest.com/crispy-buffalo-style-salmon-sliders/',\n",
       " 'https://www.halfbakedharvest.com/hawaiian-bbq-quesadillas-with-pineapple-mango-guacamole/',\n",
       " 'https://www.halfbakedharvest.com/blueberry-basil-balsamic-mozzarella-crisps/',\n",
       " 'https://www.halfbakedharvest.com/brie-crab-cake-pretzel-slider-melts-with-strawberry-pineapple-salsa/',\n",
       " 'https://www.halfbakedharvest.com/cheesy-cajun-fries-with-grilled-corn-guacamole-bacon-and-fried-eggs/',\n",
       " 'https://www.halfbakedharvest.com/caprese-quinoa-grilled-stuffed-mushrooms-with-balsamic-glaze/',\n",
       " 'https://www.halfbakedharvest.com/cajun-bbq-cheddar-chicken-fingers/',\n",
       " 'https://www.halfbakedharvest.com/antipasto-tortellini-skewers/',\n",
       " 'https://www.halfbakedharvest.com/crispy-roasted-blackened-cauliflower/',\n",
       " 'https://www.halfbakedharvest.com/spinach-and-artichoke-pita-grilled-cheese/',\n",
       " 'https://www.halfbakedharvest.com/halloumi-bites/',\n",
       " 'https://www.halfbakedharvest.com/lemon-garlic-butter-shrimp/',\n",
       " 'https://www.halfbakedharvest.com/queso-fundido-taquitos/',\n",
       " 'https://www.halfbakedharvest.com/spanakopita-melt/',\n",
       " 'https://www.halfbakedharvest.com/baked-parmesan-tater-tots/',\n",
       " 'https://www.halfbakedharvest.com/garlic-parmesan-bread/',\n",
       " 'https://www.halfbakedharvest.com/my-favorite-new-years-cocktails-and-appetizers/',\n",
       " 'https://www.halfbakedharvest.com/seasoned-crackers/',\n",
       " 'https://www.halfbakedharvest.com/honey-whipped-ricotta-and-prosciutto-crackers/',\n",
       " 'https://www.halfbakedharvest.com/sweet-savory-cheesy-bacon-wrapped-puff-pastry-twist/',\n",
       " 'https://www.halfbakedharvest.com/pastry-wrapped-cranberry-baked-brie-bites/',\n",
       " 'https://www.halfbakedharvest.com/homemade-cheesy-pizza-rolls/',\n",
       " 'https://www.halfbakedharvest.com/oven-toasted-garlic-herb-cheese-ravioli/',\n",
       " 'https://www.halfbakedharvest.com/garlic-parmesan-sweet-potato-fries/',\n",
       " 'https://www.halfbakedharvest.com/everything-ranch-cheese-and-pretzel-snack-mix/',\n",
       " 'https://www.halfbakedharvest.com/cauliflower-and-cheese/',\n",
       " 'https://www.halfbakedharvest.com/black-pepper-rub-chicken-fingers-greek-yogurt-ranch/',\n",
       " 'https://www.halfbakedharvest.com/crockpot-bbq-beer-chicken-taquitos/',\n",
       " 'https://www.halfbakedharvest.com/baked-buffalo-chicken-egg-rolls/',\n",
       " 'https://www.halfbakedharvest.com/oven-fried-coconut-shrimp/',\n",
       " 'https://www.halfbakedharvest.com/peach-brie-pastry-tarts/',\n",
       " 'https://www.halfbakedharvest.com/how-to-make-an-easy-holiday-cheese-board/',\n",
       " 'https://www.halfbakedharvest.com/idiot-proof-5-ingredient-cranberry-brie-cinnamon-sugar-puff-pastry-swirls/',\n",
       " 'https://www.halfbakedharvest.com/goat-cheese-stuffed-bacon-wrapped-dates/',\n",
       " 'https://www.halfbakedharvest.com/spicy-ranch-chex-mix/',\n",
       " 'https://www.halfbakedharvest.com/parmesan-popovers/',\n",
       " 'https://www.halfbakedharvest.com/sweet-potato-parmesan-tater-tots/',\n",
       " 'https://www.halfbakedharvest.com/baked-boneless-honey-bbq-chicken-wings/',\n",
       " 'https://www.halfbakedharvest.com/pastry-wrapped-baked-brie-with-thyme-butter-roasted-plums/',\n",
       " 'https://www.halfbakedharvest.com/prosciutto-goat-cheese-stuffed-peaches/',\n",
       " 'https://www.halfbakedharvest.com/grilled-street-corn-salad/',\n",
       " 'https://www.halfbakedharvest.com/peach-thyme-tarts/',\n",
       " 'https://www.halfbakedharvest.com/no-fuss-farmers-market-mezze-platter/',\n",
       " 'https://www.halfbakedharvest.com/easy-tzatziki/',\n",
       " 'https://www.halfbakedharvest.com/pan-fried-feta-with-peppered-honey/',\n",
       " 'https://www.halfbakedharvest.com/browned-butter-jalapeno-cornbread-muffins/',\n",
       " 'https://www.halfbakedharvest.com/caramelized-onion-and-balsamic-tomato-tarts/',\n",
       " 'https://www.halfbakedharvest.com/roasted-caprese-burrata-sliders/',\n",
       " 'https://www.halfbakedharvest.com/crispy-prosciutto-asparagus-and-brie-toast/',\n",
       " 'https://www.halfbakedharvest.com/cheesy-potato-chive-galette/',\n",
       " 'https://www.halfbakedharvest.com/sesame-roasted-asparagus-with-whipped-feta/',\n",
       " 'https://www.halfbakedharvest.com/herby-everything-cheddar-swirl-buns/',\n",
       " 'https://www.halfbakedharvest.com/khachapuri-georgian-cheese-bread/',\n",
       " 'https://www.halfbakedharvest.com/fried-buffalo-goat-cheese-balls/',\n",
       " 'https://www.halfbakedharvest.com/spinach-and-artichoke-stuffed-soft-pretzels/',\n",
       " 'https://www.halfbakedharvest.com/fried-mozzarella-sandwiches/',\n",
       " 'https://www.halfbakedharvest.com/easy-cheese-and-prosciutto-croissants/',\n",
       " 'https://www.halfbakedharvest.com/herbed-cheddar-latkes/',\n",
       " 'https://www.halfbakedharvest.com/ginger-sesame-chicken-potstickers/',\n",
       " 'https://www.halfbakedharvest.com/cranberry-brie-pastry-tarts/',\n",
       " 'https://www.halfbakedharvest.com/holiday-cheese-board/',\n",
       " 'https://www.halfbakedharvest.com/chipotle-braised-chicken-nachos/',\n",
       " 'https://www.halfbakedharvest.com/onion-spinach-and-cheddar-flaky-pastries/',\n",
       " 'https://www.halfbakedharvest.com/baked-sweet-potato-fries/',\n",
       " 'https://www.halfbakedharvest.com/spinach-and-artichoke-pull-apart-pretzel-bread/',\n",
       " 'https://www.halfbakedharvest.com/corn-and-tomato-tarte-tatin/',\n",
       " 'https://www.halfbakedharvest.com/heirloom-tomato-basil-and-manchego-toast/',\n",
       " 'https://www.halfbakedharvest.com/marinated-tomato-and-grilled-veggie-cheese-board/',\n",
       " 'https://www.halfbakedharvest.com/thyme-honey-peach-and-goat-cheese-crostini/',\n",
       " 'https://www.halfbakedharvest.com/melon-caprese-salad/',\n",
       " 'https://www.halfbakedharvest.com/spicy-corn-and-peaches-with-burrata/',\n",
       " 'https://www.halfbakedharvest.com/asparagus-brie-puff-pastry/',\n",
       " 'https://www.halfbakedharvest.com/the-best-jalapeno-queso/',\n",
       " 'https://www.halfbakedharvest.com/zucchini-bacon-and-pecorino-tart/',\n",
       " 'https://www.halfbakedharvest.com/moroccan-dip-platter/',\n",
       " 'https://www.halfbakedharvest.com/greek-spinach-and-feta-pie-spanakopita/',\n",
       " 'https://www.halfbakedharvest.com/asparagus-egg-and-prosciutto-tart-with-everything-spice/',\n",
       " 'https://www.halfbakedharvest.com/homemade-vegetable-potstickers-with-toasted-sesame-honey-soy-sauce/',\n",
       " 'https://www.halfbakedharvest.com/spicy-cauliflower-cheese-bites-with-tahini-ranch/',\n",
       " 'https://www.halfbakedharvest.com/buttered-mushroom-sage-pesto-goat-cheese-sourdough-toast/',\n",
       " 'https://www.halfbakedharvest.com/apple-crisp-baked-brie-sunday-links-inspire/',\n",
       " 'https://www.halfbakedharvest.com/spicy-chipotle-pumpkin-hummus-halloween-links/',\n",
       " 'https://www.halfbakedharvest.com/skinny-tandoori-butter-sweet-potato-fries-wcreamy-baked-harissa-feta/',\n",
       " 'https://www.halfbakedharvest.com/sweet-spicy-rosemary-cheddar-gorgonzola-pumpkin-crackers/',\n",
       " 'https://www.halfbakedharvest.com/brie-cheddar-apple-beer-soup-cinnamon-pecan-oat-crumble/',\n",
       " 'https://www.halfbakedharvest.com/25-favorite-fall-recipes/',\n",
       " 'https://www.halfbakedharvest.com/hot-wings-cookbook-giveaway/',\n",
       " 'https://www.halfbakedharvest.com/sticky-asian-bbq-boneless-oven-baked-chicken-wings/',\n",
       " 'https://www.halfbakedharvest.com/caramelized-corn-heirloom-tomato-galette-wherbed-roasted-garlic-goat-cheese/',\n",
       " 'https://www.halfbakedharvest.com/mac-cheese-stuffed-fried-zucchini/',\n",
       " 'https://www.halfbakedharvest.com/cheesy-margarita-pizza-hummus-grilled-pesto-pizza-bread/',\n",
       " 'https://www.halfbakedharvest.com/grilled-brie-plus-blackberry-basil-smash-salsa/',\n",
       " 'https://www.halfbakedharvest.com/easy-grilled-parmesan-polenta-chips/',\n",
       " 'https://www.halfbakedharvest.com/garden-veggie-goat-cheese-samosas-sweet-peach-basil-chutney/',\n",
       " 'https://www.halfbakedharvest.com/coconut-lime-fried-shrimp-fiery-mango-peach-jalapeno-sauce/',\n",
       " 'https://www.halfbakedharvest.com/spicy-peanut-butter-bacon-sliders/',\n",
       " 'https://www.halfbakedharvest.com/sweet-tea-oven-fried-chicken-sliders-wjalapeno-cheddar-corn-slaw-crispy-onions/',\n",
       " 'https://www.halfbakedharvest.com/grilled-caprese-toast-burrata-cheese-grilled-avocados/',\n",
       " 'https://www.halfbakedharvest.com/spinach-artichoke-corn-fritters-brie-sweet-honey-jalapeno-cream/',\n",
       " 'https://www.halfbakedharvest.com/deep-dish-pizza-casserole/',\n",
       " 'https://www.halfbakedharvest.com/pan-fried-lemony-artichokes-asparagus-pistachio-pesto-pasta/',\n",
       " 'https://www.halfbakedharvest.com/quinoa-crusted-chicken-strips-bbq-honey-mustard/',\n",
       " 'https://www.halfbakedharvest.com/hawaiian-shrimp-truck-special-garlic-lemon-butter-shrimp/',\n",
       " 'https://www.halfbakedharvest.com/greek-steak-salad-french-bread-soft-boiled-eggs-feta/',\n",
       " 'https://www.halfbakedharvest.com/cheesy-black-bean-quinoa-taco-bake/',\n",
       " 'https://www.halfbakedharvest.com/buffalo-chicken-avocado-blt-wraps/',\n",
       " 'https://www.halfbakedharvest.com/irish-tater-nachos/',\n",
       " 'https://www.halfbakedharvest.com/buffalo-cheddar-chex-mix/',\n",
       " 'https://www.halfbakedharvest.com/buffalo-chicken-jalapeno-poppers/',\n",
       " 'https://www.halfbakedharvest.com/months-worth-healthier-football-food-life-talk/',\n",
       " 'https://www.halfbakedharvest.com/ridiculously-easy-classic-fiesta-guacamole/',\n",
       " 'https://www.halfbakedharvest.com/tortilla-chip-crusted-oven-fried-ravioli-spicy-fontina-queso-fundido/',\n",
       " 'https://www.halfbakedharvest.com/moms-secret-christmas-eve-chex-mix/',\n",
       " 'https://www.halfbakedharvest.com/brussels-sprout-avocado-winter-rolls-grapefruit-hoisin-dipping-sauce/',\n",
       " 'https://www.halfbakedharvest.com/coconut-crusted-brie-stuffed-quinoa-bites/',\n",
       " 'https://www.halfbakedharvest.com/crazy-greek-feta-sun-dried-tomato-pistachio-truffles/',\n",
       " 'https://www.halfbakedharvest.com/curried-sweet-potato-rounds-honeyed-walnuts-cranberries-blue-cheese/',\n",
       " 'https://www.halfbakedharvest.com/chipotle-quinoa-sweet-potato-tacos-roasted-cranberry-pomegranate-salsa/',\n",
       " 'https://www.halfbakedharvest.com/roasted-garlic-sage-pesto-pumpkin-soup-spicy-fried-pumpkin-seeds/',\n",
       " 'https://www.halfbakedharvest.com/cheesy-fontina-chorizo-caramelized-onion-artichoke-dip/',\n",
       " 'https://www.halfbakedharvest.com/cranberry-butternut-brussels-sprout-brie-skillet-nachos/',\n",
       " 'https://www.halfbakedharvest.com/chipotle-pumpkin-broccoli-pizza-bacon-gouda-cheese-giveaway/',\n",
       " 'https://www.halfbakedharvest.com/20-minute-chicken-cheesesteak-sloppy-joe-sliders/',\n",
       " 'https://www.halfbakedharvest.com/roasted-pumpkin-chipotle-cheddar-tots-avocado-blue-cheese-ranch/',\n",
       " 'https://www.halfbakedharvest.com/roasted-pumpkin-seed-hummus/',\n",
       " 'https://www.halfbakedharvest.com/crockpot-chicken-chili-con-carne-loaded-tostada-stacks/',\n",
       " 'https://www.halfbakedharvest.com/loaded-greek-goddess-chickpea-quinoa-pita-chip-nachos/',\n",
       " 'https://www.halfbakedharvest.com/thanksgiving-turkey-cheese-board/',\n",
       " 'https://www.halfbakedharvest.com/sweet-potato-bites/',\n",
       " 'https://www.halfbakedharvest.com/spinach-and-artichoke-dip-sliders/',\n",
       " 'https://www.halfbakedharvest.com/cheesy-soft-pretzel-bites/',\n",
       " 'https://www.halfbakedharvest.com/ranch-pretzels/',\n",
       " 'https://www.halfbakedharvest.com/white-chicken-chili-corn-dip/',\n",
       " 'https://www.halfbakedharvest.com/heirloom-tomato-cheddar-tart-everything-spice/',\n",
       " 'https://www.halfbakedharvest.com/sweet-corn-wontons/',\n",
       " 'https://www.halfbakedharvest.com/tomato-peach-crostini/',\n",
       " 'https://www.halfbakedharvest.com/caprese-garlic-bread/',\n",
       " 'https://www.halfbakedharvest.com/street-corn-dip/',\n",
       " 'https://www.halfbakedharvest.com/pull-apart-italian-sub-sliders/',\n",
       " 'https://www.halfbakedharvest.com/charred-peppers/',\n",
       " 'https://www.halfbakedharvest.com/strawberry-watermelon-salad/',\n",
       " 'https://www.halfbakedharvest.com/avocado-shrimp-salsa/',\n",
       " 'https://www.halfbakedharvest.com/jalapeno-cheddar-popovers/',\n",
       " 'https://www.halfbakedharvest.com/summer-rolls/',\n",
       " 'https://www.halfbakedharvest.com/crumbled-feta-and-tomato-basil-vinaigrette-dip/',\n",
       " 'https://www.halfbakedharvest.com/cheese-rangoons/',\n",
       " 'https://www.halfbakedharvest.com/spinach-and-brie-triangles/',\n",
       " 'https://www.halfbakedharvest.com/roasted-cauliflower-hummus/',\n",
       " 'https://www.halfbakedharvest.com/fried-feta-rolls/',\n",
       " 'https://www.halfbakedharvest.com/artichoke-gouda-tart/',\n",
       " 'https://www.halfbakedharvest.com/garlic-herb-roasted-olives/',\n",
       " 'https://www.halfbakedharvest.com/oregano-roasted-potatoes/',\n",
       " 'https://www.halfbakedharvest.com/jalapeno-cream-cheese-buffalo-chicken-taquitos/',\n",
       " 'https://www.halfbakedharvest.com/nacho-fries/',\n",
       " 'https://www.halfbakedharvest.com/hot-honey-popcorn-chicken/',\n",
       " 'https://www.halfbakedharvest.com/chipotle-chicken-nachos/',\n",
       " 'https://www.halfbakedharvest.com/buffalo-cauliflower/',\n",
       " 'https://www.halfbakedharvest.com/christmas-tree-cheese-board/',\n",
       " 'https://www.halfbakedharvest.com/baked-gruyere-in-pastry/',\n",
       " 'https://www.halfbakedharvest.com/crispy-sesame-ginger-egg-rolls-with-sweet-chili-sauce/',\n",
       " 'https://www.halfbakedharvest.com/prosciutto-and-cheese-pastry-twist/',\n",
       " 'https://www.halfbakedharvest.com/pastry-wrapped-cranberry-baked-brie/',\n",
       " 'https://www.halfbakedharvest.com/bacon-wrapped-parmesan-brussels-sprouts/',\n",
       " 'https://www.halfbakedharvest.com/goat-cheese-with-warm-candied-bacon/',\n",
       " 'https://www.halfbakedharvest.com/pizza-dip-sliders/',\n",
       " 'https://www.halfbakedharvest.com/soft-garlic-herb-cheddar-cheese-bread/',\n",
       " 'https://www.halfbakedharvest.com/hard-cider-pretzels/',\n",
       " 'https://www.halfbakedharvest.com/honey-whipped-feta/',\n",
       " 'https://www.halfbakedharvest.com/peach-burrata-crostin/',\n",
       " 'https://www.halfbakedharvest.com/caprese-pesto-tarts/',\n",
       " 'https://www.halfbakedharvest.com/tomato-peach-and-burrata-salad/',\n",
       " 'https://www.halfbakedharvest.com/marinated-mozzarella-melon-skewers/',\n",
       " 'https://www.halfbakedharvest.com/charred-baby-bell-peppers/',\n",
       " 'https://www.halfbakedharvest.com/blt-corn-fritter-stacks/',\n",
       " 'https://www.halfbakedharvest.com/ricotta-toast-with-marinated-tomatoes/']"
      ]
     },
     "execution_count": 3,
     "metadata": {},
     "output_type": "execute_result"
    }
   ],
   "source": [
    "all_recipes_url"
   ]
  },
  {
   "cell_type": "code",
   "execution_count": null,
   "id": "05734891",
   "metadata": {},
   "outputs": [],
   "source": []
  },
  {
   "cell_type": "markdown",
   "id": "1607b7d2",
   "metadata": {},
   "source": [
    "# Extract Information of all recipes"
   ]
  },
  {
   "cell_type": "code",
   "execution_count": 4,
   "id": "fb1dc3f6",
   "metadata": {},
   "outputs": [],
   "source": [
    "failed_url = []"
   ]
  },
  {
   "cell_type": "code",
   "execution_count": 5,
   "id": "5230da34",
   "metadata": {},
   "outputs": [],
   "source": [
    "# Empty Dataframe\n",
    "columns = [\n",
    "    'title',\n",
    "    'prep_time',\n",
    "    'cook_time',\n",
    "    'total_time',\n",
    "    'ingredients',\n",
    "    'ingredients with measurement',\n",
    "    'instructions',\n",
    "    'calories',\n",
    "    'servings',\n",
    "    'images'\n",
    "]"
   ]
  },
  {
   "cell_type": "code",
   "execution_count": 6,
   "id": "0aedaaab",
   "metadata": {},
   "outputs": [
    {
     "data": {
      "text/html": [
       "<div>\n",
       "<style scoped>\n",
       "    .dataframe tbody tr th:only-of-type {\n",
       "        vertical-align: middle;\n",
       "    }\n",
       "\n",
       "    .dataframe tbody tr th {\n",
       "        vertical-align: top;\n",
       "    }\n",
       "\n",
       "    .dataframe thead th {\n",
       "        text-align: right;\n",
       "    }\n",
       "</style>\n",
       "<table border=\"1\" class=\"dataframe\">\n",
       "  <thead>\n",
       "    <tr style=\"text-align: right;\">\n",
       "      <th></th>\n",
       "      <th>title</th>\n",
       "      <th>prep_time</th>\n",
       "      <th>cook_time</th>\n",
       "      <th>total_time</th>\n",
       "      <th>ingredients</th>\n",
       "      <th>ingredients with measurement</th>\n",
       "      <th>instructions</th>\n",
       "      <th>calories</th>\n",
       "      <th>servings</th>\n",
       "      <th>images</th>\n",
       "    </tr>\n",
       "  </thead>\n",
       "  <tbody>\n",
       "  </tbody>\n",
       "</table>\n",
       "</div>"
      ],
      "text/plain": [
       "Empty DataFrame\n",
       "Columns: [title, prep_time, cook_time, total_time, ingredients, ingredients with measurement, instructions, calories, servings, images]\n",
       "Index: []"
      ]
     },
     "execution_count": 6,
     "metadata": {},
     "output_type": "execute_result"
    }
   ],
   "source": [
    "final = pd.DataFrame(columns=columns)\n",
    "final"
   ]
  },
  {
   "cell_type": "markdown",
   "id": "203deee8",
   "metadata": {},
   "source": [
    "# Extract Function"
   ]
  },
  {
   "cell_type": "code",
   "execution_count": 7,
   "id": "5fc26b8c",
   "metadata": {},
   "outputs": [],
   "source": [
    "def extract(soup):\n",
    "    try:\n",
    "        # TITLE\n",
    "        h2_tag = soup.find('h2', class_='wprm-recipe-name')  # Replaced temp_soup with soup\n",
    "        if h2_tag:\n",
    "            title.append(h2_tag.text.strip())\n",
    "        else:\n",
    "            title.append('-')\n",
    "\n",
    "        # PREP TIME\n",
    "        prep_time_elem = soup.find(class_='wprm-recipe-prep-time-container')  # Replaced temp_soup with soup\n",
    "        if prep_time_elem:\n",
    "            time_dict = {}\n",
    "            hours_tag = prep_time_elem.find('span', class_='wprm-recipe-prep_time-hours')\n",
    "            minutes_tag = prep_time_elem.find('span', class_='wprm-recipe-prep_time-minutes')\n",
    "\n",
    "            if hours_tag:\n",
    "                hours_text = hours_tag.text.strip() if hours_tag else None\n",
    "                hours_value = re.sub(r'\\D', '', hours_text) if hours_text else None\n",
    "                time_dict['hours'] = hours_value\n",
    "            if minutes_tag:\n",
    "                minutes_text = minutes_tag.text.strip() if minutes_tag else None\n",
    "                minutes_value = re.sub(r'\\D', '', minutes_text) if minutes_text else None\n",
    "                time_dict['minutes'] = minutes_value\n",
    "            prep_time.append(time_dict) \n",
    "        else:\n",
    "            prep_time.append('-')\n",
    "\n",
    "        # COOK TIME\n",
    "        cook_time_elem = soup.find(class_='wprm-recipe-cook-time-container')  # Replaced temp_soup with soup\n",
    "        if cook_time_elem:\n",
    "            time_dict = {}\n",
    "            hours_tag = cook_time_elem.find('span', class_='wprm-recipe-cook_time-hours')\n",
    "            minutes_tag = cook_time_elem.find('span', class_='wprm-recipe-cook_time-minutes')\n",
    "\n",
    "            if hours_tag:\n",
    "                hours_text = hours_tag.text.strip() if hours_tag else None\n",
    "                hours_value = re.sub(r'\\D', '', hours_text) if hours_text else None\n",
    "                time_dict['hours'] = hours_value\n",
    "            if minutes_tag:\n",
    "                minutes_text = minutes_tag.text.strip() if minutes_tag else None\n",
    "                minutes_value = re.sub(r'\\D', '', minutes_text) if minutes_text else None\n",
    "                time_dict['minutes'] = minutes_value\n",
    "\n",
    "            cook_time.append(time_dict) \n",
    "        else:\n",
    "            cook_time.append('-')\n",
    "\n",
    "        # TOTAL TIME\n",
    "        total_time_elem = soup.find(class_='wprm-recipe-total-time-container')  # Replaced temp_soup with soup\n",
    "        if total_time_elem:\n",
    "            time_dict = {}\n",
    "            hours_tag = total_time_elem.find('span', class_='wprm-recipe-total_time-hours')\n",
    "            minutes_tag = total_time_elem.find('span', class_='wprm-recipe-total_time-minutes')\n",
    "\n",
    "            if hours_tag:\n",
    "                hours_text = hours_tag.text.strip() if hours_tag else None\n",
    "                hours_value = re.sub(r'\\D', '', hours_text) if hours_text else None\n",
    "                time_dict['hours'] = hours_value\n",
    "            if minutes_tag:\n",
    "                minutes_text = minutes_tag.text.strip() if minutes_tag else None\n",
    "                minutes_value = re.sub(r'\\D', '', minutes_text) if minutes_text else None\n",
    "                time_dict['minutes'] = minutes_value\n",
    "            total_time.append(time_dict) \n",
    "        else:\n",
    "            total_time.append('-')\n",
    "\n",
    "        # INGREDIENTS\n",
    "        ingr_list = soup.find_all('li', class_='wprm-recipe-ingredient')  # Replaced temp_soup with soup\n",
    "        if ingr_list:\n",
    "            ingredient_dict = {}\n",
    "            ingredients_recipe = []\n",
    "            for ingr in ingr_list:\n",
    "                ingr_amount_elem = ingr.find(class_='wprm-recipe-ingredient-amount')\n",
    "                ingr_amount = ingr_amount_elem.text.strip() if ingr_amount_elem else None\n",
    "                ingr_name_elem = ingr.find(class_='wprm-recipe-ingredient-name')\n",
    "                ingr_name = ingr_name_elem.text.strip() if ingr_name_elem else None\n",
    "                ingredient_dict[ingr_name] = ingr_amount if ingr_amount else \"seasoning\"\n",
    "                ingredients_recipe.append(ingr_name)\n",
    "            ingredients_measurment.append(ingredient_dict)\n",
    "            ingredients.append(ingredients_recipe)\n",
    "        else:\n",
    "            ingredients_measurment.append('-')\n",
    "            ingredients.append('-')\n",
    "\n",
    "        # INSTRUCTIONS\n",
    "        recipe_instr = soup.find(class_='wprm-recipe-instruction-group')  # Replaced temp_soup with soup\n",
    "        if recipe_instr:\n",
    "            recipe_steps = []\n",
    "            steps = recipe_instr.find_all(\"span\", attrs={\"class\": None})\n",
    "            for step in steps:\n",
    "                recipe_steps.append(step.text.strip())\n",
    "            instructions.append(recipe_steps)\n",
    "        else:\n",
    "            instructions.append('-')\n",
    "\n",
    "        # SERVINGS\n",
    "        serving_div = soup.find('span', class_='wprm-recipe-servings')  # Replaced temp_soup with soup\n",
    "        if serving_div:\n",
    "            servings.append(serving_div.text.strip())\n",
    "        else:\n",
    "            servings.append('-')\n",
    "\n",
    "        # CALORIES\n",
    "        calorie_div = soup.find('span',class_='wprm-recipe-nutrition-with-unit')  # Replaced temp_soup with soup\n",
    "        if calorie_div:\n",
    "            calories.append(calorie_div.text.strip())\n",
    "        else:\n",
    "            calories.append('-')\n",
    "\n",
    "        # IMAGES\n",
    "        images.append('-')\n",
    "        img_div = soup.find(class_='entry-content')\n",
    "        img_tags = img_div.find_all('img')\n",
    "        jpg_links = [img['src'] for img in img_tags if img['src'].endswith('.jpg')]\n",
    "        if len(jpg_links) >= 2:\n",
    "            second_jpg_link = jpg_links[1]\n",
    "            images[-1] = second_jpg_link\n",
    "\n",
    "    except requests.exceptions.RequestException as e:\n",
    "        print(f\"Failed to fetch the page: {e}\")\n",
    "        failed_url.append(url)  # Append failed URL to list\n"
   ]
  },
  {
   "cell_type": "markdown",
   "id": "f02d31b8",
   "metadata": {},
   "source": [
    "### Recipes 0-24"
   ]
  },
  {
   "cell_type": "code",
   "execution_count": 8,
   "id": "583cee40",
   "metadata": {
    "scrolled": true
   },
   "outputs": [
    {
     "name": "stdout",
     "output_type": "stream",
     "text": [
      "Proxies loaded: ['35.220.254.137:8080', '181.114.61.17:8085']\n"
     ]
    },
    {
     "data": {
      "application/javascript": [
       "\n",
       "        if (window._pyforest_update_imports_cell) { window._pyforest_update_imports_cell('import re'); }\n",
       "    "
      ],
      "text/plain": [
       "<IPython.core.display.Javascript object>"
      ]
     },
     "metadata": {},
     "output_type": "display_data"
    },
    {
     "data": {
      "application/javascript": [
       "\n",
       "        if (window._pyforest_update_imports_cell) { window._pyforest_update_imports_cell('import re'); }\n",
       "    "
      ],
      "text/plain": [
       "<IPython.core.display.Javascript object>"
      ]
     },
     "metadata": {},
     "output_type": "display_data"
    },
    {
     "data": {
      "application/javascript": [
       "\n",
       "        if (window._pyforest_update_imports_cell) { window._pyforest_update_imports_cell('import re'); }\n",
       "    "
      ],
      "text/plain": [
       "<IPython.core.display.Javascript object>"
      ]
     },
     "metadata": {},
     "output_type": "display_data"
    },
    {
     "data": {
      "application/javascript": [
       "\n",
       "        if (window._pyforest_update_imports_cell) { window._pyforest_update_imports_cell('import re'); }\n",
       "    "
      ],
      "text/plain": [
       "<IPython.core.display.Javascript object>"
      ]
     },
     "metadata": {},
     "output_type": "display_data"
    },
    {
     "name": "stdout",
     "output_type": "stream",
     "text": [
      "Successfully retrieved 0 - https://www.halfbakedharvest.com/sour-cream-and-onion-smashed-potatoes/ with proxy 35.220.254.137:8080\n",
      "Proxy 181.114.61.17:8085 failed for https://www.halfbakedharvest.com/tomato-cheese-pie/: HTTPSConnectionPool(host='www.halfbakedharvest.com', port=443): Max retries exceeded with url: /tomato-cheese-pie/ (Caused by ProxyError('Unable to connect to proxy', ConnectTimeoutError(<urllib3.connection.HTTPSConnection object at 0x137683c40>, 'Connection to 181.114.61.17 timed out. (connect timeout=30)')))\n"
     ]
    },
    {
     "data": {
      "application/javascript": [
       "\n",
       "        if (window._pyforest_update_imports_cell) { window._pyforest_update_imports_cell('import re'); }\n",
       "    "
      ],
      "text/plain": [
       "<IPython.core.display.Javascript object>"
      ]
     },
     "metadata": {},
     "output_type": "display_data"
    },
    {
     "data": {
      "application/javascript": [
       "\n",
       "        if (window._pyforest_update_imports_cell) { window._pyforest_update_imports_cell('import re'); }\n",
       "    "
      ],
      "text/plain": [
       "<IPython.core.display.Javascript object>"
      ]
     },
     "metadata": {},
     "output_type": "display_data"
    },
    {
     "data": {
      "application/javascript": [
       "\n",
       "        if (window._pyforest_update_imports_cell) { window._pyforest_update_imports_cell('import re'); }\n",
       "    "
      ],
      "text/plain": [
       "<IPython.core.display.Javascript object>"
      ]
     },
     "metadata": {},
     "output_type": "display_data"
    },
    {
     "name": "stdout",
     "output_type": "stream",
     "text": [
      "Successfully retrieved 2 - https://www.halfbakedharvest.com/open-face-tomato-bacon-sandwich/ with proxy 35.220.254.137:8080\n",
      "Proxy 181.114.61.17:8085 failed for https://www.halfbakedharvest.com/garlic-oil-feta-dip/: HTTPSConnectionPool(host='www.halfbakedharvest.com', port=443): Max retries exceeded with url: /garlic-oil-feta-dip/ (Caused by ProxyError('Unable to connect to proxy', ConnectTimeoutError(<urllib3.connection.HTTPSConnection object at 0x13789d190>, 'Connection to 181.114.61.17 timed out. (connect timeout=30)')))\n"
     ]
    },
    {
     "data": {
      "application/javascript": [
       "\n",
       "        if (window._pyforest_update_imports_cell) { window._pyforest_update_imports_cell('import re'); }\n",
       "    "
      ],
      "text/plain": [
       "<IPython.core.display.Javascript object>"
      ]
     },
     "metadata": {},
     "output_type": "display_data"
    },
    {
     "data": {
      "application/javascript": [
       "\n",
       "        if (window._pyforest_update_imports_cell) { window._pyforest_update_imports_cell('import re'); }\n",
       "    "
      ],
      "text/plain": [
       "<IPython.core.display.Javascript object>"
      ]
     },
     "metadata": {},
     "output_type": "display_data"
    },
    {
     "data": {
      "application/javascript": [
       "\n",
       "        if (window._pyforest_update_imports_cell) { window._pyforest_update_imports_cell('import re'); }\n",
       "    "
      ],
      "text/plain": [
       "<IPython.core.display.Javascript object>"
      ]
     },
     "metadata": {},
     "output_type": "display_data"
    },
    {
     "name": "stdout",
     "output_type": "stream",
     "text": [
      "Successfully retrieved 4 - https://www.halfbakedharvest.com/marinated-burrata/ with proxy 35.220.254.137:8080\n"
     ]
    },
    {
     "data": {
      "application/javascript": [
       "\n",
       "        if (window._pyforest_update_imports_cell) { window._pyforest_update_imports_cell('import re'); }\n",
       "    "
      ],
      "text/plain": [
       "<IPython.core.display.Javascript object>"
      ]
     },
     "metadata": {},
     "output_type": "display_data"
    },
    {
     "data": {
      "application/javascript": [
       "\n",
       "        if (window._pyforest_update_imports_cell) { window._pyforest_update_imports_cell('import re'); }\n",
       "    "
      ],
      "text/plain": [
       "<IPython.core.display.Javascript object>"
      ]
     },
     "metadata": {},
     "output_type": "display_data"
    },
    {
     "data": {
      "application/javascript": [
       "\n",
       "        if (window._pyforest_update_imports_cell) { window._pyforest_update_imports_cell('import re'); }\n",
       "    "
      ],
      "text/plain": [
       "<IPython.core.display.Javascript object>"
      ]
     },
     "metadata": {},
     "output_type": "display_data"
    },
    {
     "name": "stdout",
     "output_type": "stream",
     "text": [
      "Successfully retrieved 5 - https://www.halfbakedharvest.com/pull-apart-cheeseburger-sliders/ with proxy 181.114.61.17:8085\n",
      "Successfully retrieved 6 - https://www.halfbakedharvest.com/31-recipes-to-cook-in-july/ with proxy 35.220.254.137:8080\n"
     ]
    },
    {
     "data": {
      "application/javascript": [
       "\n",
       "        if (window._pyforest_update_imports_cell) { window._pyforest_update_imports_cell('import re'); }\n",
       "    "
      ],
      "text/plain": [
       "<IPython.core.display.Javascript object>"
      ]
     },
     "metadata": {},
     "output_type": "display_data"
    },
    {
     "data": {
      "application/javascript": [
       "\n",
       "        if (window._pyforest_update_imports_cell) { window._pyforest_update_imports_cell('import re'); }\n",
       "    "
      ],
      "text/plain": [
       "<IPython.core.display.Javascript object>"
      ]
     },
     "metadata": {},
     "output_type": "display_data"
    },
    {
     "name": "stdout",
     "output_type": "stream",
     "text": [
      "Successfully retrieved 7 - https://www.halfbakedharvest.com/watermelon-peach-salad/ with proxy 181.114.61.17:8085\n"
     ]
    },
    {
     "data": {
      "application/javascript": [
       "\n",
       "        if (window._pyforest_update_imports_cell) { window._pyforest_update_imports_cell('import re'); }\n",
       "    "
      ],
      "text/plain": [
       "<IPython.core.display.Javascript object>"
      ]
     },
     "metadata": {},
     "output_type": "display_data"
    },
    {
     "data": {
      "application/javascript": [
       "\n",
       "        if (window._pyforest_update_imports_cell) { window._pyforest_update_imports_cell('import re'); }\n",
       "    "
      ],
      "text/plain": [
       "<IPython.core.display.Javascript object>"
      ]
     },
     "metadata": {},
     "output_type": "display_data"
    },
    {
     "name": "stdout",
     "output_type": "stream",
     "text": [
      "Successfully retrieved 8 - https://www.halfbakedharvest.com/7-layer-dip/ with proxy 35.220.254.137:8080\n"
     ]
    },
    {
     "data": {
      "application/javascript": [
       "\n",
       "        if (window._pyforest_update_imports_cell) { window._pyforest_update_imports_cell('import re'); }\n",
       "    "
      ],
      "text/plain": [
       "<IPython.core.display.Javascript object>"
      ]
     },
     "metadata": {},
     "output_type": "display_data"
    },
    {
     "data": {
      "application/javascript": [
       "\n",
       "        if (window._pyforest_update_imports_cell) { window._pyforest_update_imports_cell('import re'); }\n",
       "    "
      ],
      "text/plain": [
       "<IPython.core.display.Javascript object>"
      ]
     },
     "metadata": {},
     "output_type": "display_data"
    },
    {
     "data": {
      "application/javascript": [
       "\n",
       "        if (window._pyforest_update_imports_cell) { window._pyforest_update_imports_cell('import re'); }\n",
       "    "
      ],
      "text/plain": [
       "<IPython.core.display.Javascript object>"
      ]
     },
     "metadata": {},
     "output_type": "display_data"
    },
    {
     "name": "stdout",
     "output_type": "stream",
     "text": [
      "Successfully retrieved 9 - https://www.halfbakedharvest.com/honey-garlic-parmesan-biscuits/ with proxy 181.114.61.17:8085\n"
     ]
    },
    {
     "data": {
      "application/javascript": [
       "\n",
       "        if (window._pyforest_update_imports_cell) { window._pyforest_update_imports_cell('import re'); }\n",
       "    "
      ],
      "text/plain": [
       "<IPython.core.display.Javascript object>"
      ]
     },
     "metadata": {},
     "output_type": "display_data"
    },
    {
     "data": {
      "application/javascript": [
       "\n",
       "        if (window._pyforest_update_imports_cell) { window._pyforest_update_imports_cell('import re'); }\n",
       "    "
      ],
      "text/plain": [
       "<IPython.core.display.Javascript object>"
      ]
     },
     "metadata": {},
     "output_type": "display_data"
    },
    {
     "data": {
      "application/javascript": [
       "\n",
       "        if (window._pyforest_update_imports_cell) { window._pyforest_update_imports_cell('import re'); }\n",
       "    "
      ],
      "text/plain": [
       "<IPython.core.display.Javascript object>"
      ]
     },
     "metadata": {},
     "output_type": "display_data"
    },
    {
     "name": "stdout",
     "output_type": "stream",
     "text": [
      "Successfully retrieved 10 - https://www.halfbakedharvest.com/bbq-snack-mix/ with proxy 35.220.254.137:8080\n"
     ]
    },
    {
     "data": {
      "application/javascript": [
       "\n",
       "        if (window._pyforest_update_imports_cell) { window._pyforest_update_imports_cell('import re'); }\n",
       "    "
      ],
      "text/plain": [
       "<IPython.core.display.Javascript object>"
      ]
     },
     "metadata": {},
     "output_type": "display_data"
    },
    {
     "data": {
      "application/javascript": [
       "\n",
       "        if (window._pyforest_update_imports_cell) { window._pyforest_update_imports_cell('import re'); }\n",
       "    "
      ],
      "text/plain": [
       "<IPython.core.display.Javascript object>"
      ]
     },
     "metadata": {},
     "output_type": "display_data"
    },
    {
     "data": {
      "application/javascript": [
       "\n",
       "        if (window._pyforest_update_imports_cell) { window._pyforest_update_imports_cell('import re'); }\n",
       "    "
      ],
      "text/plain": [
       "<IPython.core.display.Javascript object>"
      ]
     },
     "metadata": {},
     "output_type": "display_data"
    },
    {
     "name": "stdout",
     "output_type": "stream",
     "text": [
      "Successfully retrieved 11 - https://www.halfbakedharvest.com/tomato-burrata-caprese/ with proxy 181.114.61.17:8085\n",
      "Successfully retrieved 12 - https://www.halfbakedharvest.com/31-recipes-to-cook-in-may/ with proxy 35.220.254.137:8080\n"
     ]
    },
    {
     "data": {
      "application/javascript": [
       "\n",
       "        if (window._pyforest_update_imports_cell) { window._pyforest_update_imports_cell('import re'); }\n",
       "    "
      ],
      "text/plain": [
       "<IPython.core.display.Javascript object>"
      ]
     },
     "metadata": {},
     "output_type": "display_data"
    },
    {
     "data": {
      "application/javascript": [
       "\n",
       "        if (window._pyforest_update_imports_cell) { window._pyforest_update_imports_cell('import re'); }\n",
       "    "
      ],
      "text/plain": [
       "<IPython.core.display.Javascript object>"
      ]
     },
     "metadata": {},
     "output_type": "display_data"
    },
    {
     "data": {
      "application/javascript": [
       "\n",
       "        if (window._pyforest_update_imports_cell) { window._pyforest_update_imports_cell('import re'); }\n",
       "    "
      ],
      "text/plain": [
       "<IPython.core.display.Javascript object>"
      ]
     },
     "metadata": {},
     "output_type": "display_data"
    },
    {
     "name": "stdout",
     "output_type": "stream",
     "text": [
      "Successfully retrieved 13 - https://www.halfbakedharvest.com/garlic-olive-oil-dip/ with proxy 181.114.61.17:8085\n"
     ]
    },
    {
     "data": {
      "application/javascript": [
       "\n",
       "        if (window._pyforest_update_imports_cell) { window._pyforest_update_imports_cell('import re'); }\n",
       "    "
      ],
      "text/plain": [
       "<IPython.core.display.Javascript object>"
      ]
     },
     "metadata": {},
     "output_type": "display_data"
    },
    {
     "data": {
      "application/javascript": [
       "\n",
       "        if (window._pyforest_update_imports_cell) { window._pyforest_update_imports_cell('import re'); }\n",
       "    "
      ],
      "text/plain": [
       "<IPython.core.display.Javascript object>"
      ]
     },
     "metadata": {},
     "output_type": "display_data"
    },
    {
     "data": {
      "application/javascript": [
       "\n",
       "        if (window._pyforest_update_imports_cell) { window._pyforest_update_imports_cell('import re'); }\n",
       "    "
      ],
      "text/plain": [
       "<IPython.core.display.Javascript object>"
      ]
     },
     "metadata": {},
     "output_type": "display_data"
    },
    {
     "name": "stdout",
     "output_type": "stream",
     "text": [
      "Successfully retrieved 14 - https://www.halfbakedharvest.com/garlic-parmesan-boneless-wings/ with proxy 35.220.254.137:8080\n",
      "Proxy 181.114.61.17:8085 failed for https://www.halfbakedharvest.com/fried-goat-cheese-balls/: HTTPSConnectionPool(host='www.halfbakedharvest.com', port=443): Max retries exceeded with url: /fried-goat-cheese-balls/ (Caused by ProxyError('Unable to connect to proxy', ConnectTimeoutError(<urllib3.connection.HTTPSConnection object at 0x1430eec10>, 'Connection to 181.114.61.17 timed out. (connect timeout=30)')))\n"
     ]
    },
    {
     "data": {
      "application/javascript": [
       "\n",
       "        if (window._pyforest_update_imports_cell) { window._pyforest_update_imports_cell('import re'); }\n",
       "    "
      ],
      "text/plain": [
       "<IPython.core.display.Javascript object>"
      ]
     },
     "metadata": {},
     "output_type": "display_data"
    },
    {
     "data": {
      "application/javascript": [
       "\n",
       "        if (window._pyforest_update_imports_cell) { window._pyforest_update_imports_cell('import re'); }\n",
       "    "
      ],
      "text/plain": [
       "<IPython.core.display.Javascript object>"
      ]
     },
     "metadata": {},
     "output_type": "display_data"
    },
    {
     "data": {
      "application/javascript": [
       "\n",
       "        if (window._pyforest_update_imports_cell) { window._pyforest_update_imports_cell('import re'); }\n",
       "    "
      ],
      "text/plain": [
       "<IPython.core.display.Javascript object>"
      ]
     },
     "metadata": {},
     "output_type": "display_data"
    },
    {
     "name": "stdout",
     "output_type": "stream",
     "text": [
      "Successfully retrieved 16 - https://www.halfbakedharvest.com/prosciutto-wrapped-baked-brie-rolls/ with proxy 35.220.254.137:8080\n",
      "Proxy 181.114.61.17:8085 failed for https://www.halfbakedharvest.com/popular-holiday-appetizers-and-cocktails-mocktails/: HTTPSConnectionPool(host='www.halfbakedharvest.com', port=443): Max retries exceeded with url: /popular-holiday-appetizers-and-cocktails-mocktails/ (Caused by ProxyError('Unable to connect to proxy', ConnectTimeoutError(<urllib3.connection.HTTPSConnection object at 0x143293670>, 'Connection to 181.114.61.17 timed out. (connect timeout=30)')))\n"
     ]
    },
    {
     "data": {
      "application/javascript": [
       "\n",
       "        if (window._pyforest_update_imports_cell) { window._pyforest_update_imports_cell('import re'); }\n",
       "    "
      ],
      "text/plain": [
       "<IPython.core.display.Javascript object>"
      ]
     },
     "metadata": {},
     "output_type": "display_data"
    },
    {
     "data": {
      "application/javascript": [
       "\n",
       "        if (window._pyforest_update_imports_cell) { window._pyforest_update_imports_cell('import re'); }\n",
       "    "
      ],
      "text/plain": [
       "<IPython.core.display.Javascript object>"
      ]
     },
     "metadata": {},
     "output_type": "display_data"
    },
    {
     "data": {
      "application/javascript": [
       "\n",
       "        if (window._pyforest_update_imports_cell) { window._pyforest_update_imports_cell('import re'); }\n",
       "    "
      ],
      "text/plain": [
       "<IPython.core.display.Javascript object>"
      ]
     },
     "metadata": {},
     "output_type": "display_data"
    },
    {
     "name": "stdout",
     "output_type": "stream",
     "text": [
      "Successfully retrieved 18 - https://www.halfbakedharvest.com/goat-cheese-puff-pastry-swirls/ with proxy 35.220.254.137:8080\n",
      "Proxy 181.114.61.17:8085 failed for https://www.halfbakedharvest.com/beef-tenderloin-crostini/: HTTPSConnectionPool(host='www.halfbakedharvest.com', port=443): Max retries exceeded with url: /beef-tenderloin-crostini/ (Caused by ProxyError('Unable to connect to proxy', ConnectTimeoutError(<urllib3.connection.HTTPSConnection object at 0x137ce9d90>, 'Connection to 181.114.61.17 timed out. (connect timeout=30)')))\n"
     ]
    },
    {
     "data": {
      "application/javascript": [
       "\n",
       "        if (window._pyforest_update_imports_cell) { window._pyforest_update_imports_cell('import re'); }\n",
       "    "
      ],
      "text/plain": [
       "<IPython.core.display.Javascript object>"
      ]
     },
     "metadata": {},
     "output_type": "display_data"
    },
    {
     "data": {
      "application/javascript": [
       "\n",
       "        if (window._pyforest_update_imports_cell) { window._pyforest_update_imports_cell('import re'); }\n",
       "    "
      ],
      "text/plain": [
       "<IPython.core.display.Javascript object>"
      ]
     },
     "metadata": {},
     "output_type": "display_data"
    },
    {
     "data": {
      "application/javascript": [
       "\n",
       "        if (window._pyforest_update_imports_cell) { window._pyforest_update_imports_cell('import re'); }\n",
       "    "
      ],
      "text/plain": [
       "<IPython.core.display.Javascript object>"
      ]
     },
     "metadata": {},
     "output_type": "display_data"
    },
    {
     "name": "stdout",
     "output_type": "stream",
     "text": [
      "Successfully retrieved 20 - https://www.halfbakedharvest.com/pastry-wrapped-baked-brie-with-maple-butter-roasted-apples/ with proxy 35.220.254.137:8080\n",
      "Proxy 181.114.61.17:8085 failed for https://www.halfbakedharvest.com/the-50-most-popular-fall-recipes/: HTTPSConnectionPool(host='www.halfbakedharvest.com', port=443): Max retries exceeded with url: /the-50-most-popular-fall-recipes/ (Caused by ProxyError('Unable to connect to proxy', ConnectTimeoutError(<urllib3.connection.HTTPSConnection object at 0x1376df280>, 'Connection to 181.114.61.17 timed out. (connect timeout=30)')))\n"
     ]
    },
    {
     "data": {
      "application/javascript": [
       "\n",
       "        if (window._pyforest_update_imports_cell) { window._pyforest_update_imports_cell('import re'); }\n",
       "    "
      ],
      "text/plain": [
       "<IPython.core.display.Javascript object>"
      ]
     },
     "metadata": {},
     "output_type": "display_data"
    },
    {
     "data": {
      "application/javascript": [
       "\n",
       "        if (window._pyforest_update_imports_cell) { window._pyforest_update_imports_cell('import re'); }\n",
       "    "
      ],
      "text/plain": [
       "<IPython.core.display.Javascript object>"
      ]
     },
     "metadata": {},
     "output_type": "display_data"
    },
    {
     "data": {
      "application/javascript": [
       "\n",
       "        if (window._pyforest_update_imports_cell) { window._pyforest_update_imports_cell('import re'); }\n",
       "    "
      ],
      "text/plain": [
       "<IPython.core.display.Javascript object>"
      ]
     },
     "metadata": {},
     "output_type": "display_data"
    },
    {
     "name": "stdout",
     "output_type": "stream",
     "text": [
      "Successfully retrieved 22 - https://www.halfbakedharvest.com/garlic-butter-pizza-egg-rolls/ with proxy 35.220.254.137:8080\n",
      "Proxy 181.114.61.17:8085 failed for https://www.halfbakedharvest.com/parmesan-buffalo-chicken-wings/: HTTPSConnectionPool(host='www.halfbakedharvest.com', port=443): Max retries exceeded with url: /parmesan-buffalo-chicken-wings/ (Caused by ProxyError('Unable to connect to proxy', ConnectTimeoutError(<urllib3.connection.HTTPSConnection object at 0x137b26700>, 'Connection to 181.114.61.17 timed out. (connect timeout=30)')))\n"
     ]
    },
    {
     "data": {
      "application/javascript": [
       "\n",
       "        if (window._pyforest_update_imports_cell) { window._pyforest_update_imports_cell('import re'); }\n",
       "    "
      ],
      "text/plain": [
       "<IPython.core.display.Javascript object>"
      ]
     },
     "metadata": {},
     "output_type": "display_data"
    },
    {
     "data": {
      "application/javascript": [
       "\n",
       "        if (window._pyforest_update_imports_cell) { window._pyforest_update_imports_cell('import re'); }\n",
       "    "
      ],
      "text/plain": [
       "<IPython.core.display.Javascript object>"
      ]
     },
     "metadata": {},
     "output_type": "display_data"
    },
    {
     "data": {
      "application/javascript": [
       "\n",
       "        if (window._pyforest_update_imports_cell) { window._pyforest_update_imports_cell('import re'); }\n",
       "    "
      ],
      "text/plain": [
       "<IPython.core.display.Javascript object>"
      ]
     },
     "metadata": {},
     "output_type": "display_data"
    },
    {
     "name": "stdout",
     "output_type": "stream",
     "text": [
      "Successfully retrieved 24 - https://www.halfbakedharvest.com/buffalo-cauliflower-taquitos/ with proxy 35.220.254.137:8080\n"
     ]
    },
    {
     "data": {
      "application/javascript": [
       "\n",
       "        if (window._pyforest_update_imports_cell) { window._pyforest_update_imports_cell('import re'); }\n",
       "    "
      ],
      "text/plain": [
       "<IPython.core.display.Javascript object>"
      ]
     },
     "metadata": {},
     "output_type": "display_data"
    },
    {
     "data": {
      "application/javascript": [
       "\n",
       "        if (window._pyforest_update_imports_cell) { window._pyforest_update_imports_cell('import re'); }\n",
       "    "
      ],
      "text/plain": [
       "<IPython.core.display.Javascript object>"
      ]
     },
     "metadata": {},
     "output_type": "display_data"
    },
    {
     "data": {
      "application/javascript": [
       "\n",
       "        if (window._pyforest_update_imports_cell) { window._pyforest_update_imports_cell('import re'); }\n",
       "    "
      ],
      "text/plain": [
       "<IPython.core.display.Javascript object>"
      ]
     },
     "metadata": {},
     "output_type": "display_data"
    },
    {
     "name": "stdout",
     "output_type": "stream",
     "text": [
      "Successfully retrieved 25 - https://www.halfbakedharvest.com/burrata-pepperoni-pizza-dip/ with proxy 181.114.61.17:8085\n"
     ]
    },
    {
     "data": {
      "application/javascript": [
       "\n",
       "        if (window._pyforest_update_imports_cell) { window._pyforest_update_imports_cell('import re'); }\n",
       "    "
      ],
      "text/plain": [
       "<IPython.core.display.Javascript object>"
      ]
     },
     "metadata": {},
     "output_type": "display_data"
    },
    {
     "data": {
      "application/javascript": [
       "\n",
       "        if (window._pyforest_update_imports_cell) { window._pyforest_update_imports_cell('import re'); }\n",
       "    "
      ],
      "text/plain": [
       "<IPython.core.display.Javascript object>"
      ]
     },
     "metadata": {},
     "output_type": "display_data"
    },
    {
     "data": {
      "application/javascript": [
       "\n",
       "        if (window._pyforest_update_imports_cell) { window._pyforest_update_imports_cell('import re'); }\n",
       "    "
      ],
      "text/plain": [
       "<IPython.core.display.Javascript object>"
      ]
     },
     "metadata": {},
     "output_type": "display_data"
    },
    {
     "name": "stdout",
     "output_type": "stream",
     "text": [
      "Successfully retrieved 26 - https://www.halfbakedharvest.com/peach-burrata-parmesan-crostini-with-hot-honey/ with proxy 35.220.254.137:8080\n",
      "Proxy 181.114.61.17:8085 failed for https://www.halfbakedharvest.com/mezze-platter/: HTTPSConnectionPool(host='www.halfbakedharvest.com', port=443): Max retries exceeded with url: /mezze-platter/ (Caused by ProxyError('Unable to connect to proxy', ConnectTimeoutError(<urllib3.connection.HTTPSConnection object at 0x137cc3250>, 'Connection to 181.114.61.17 timed out. (connect timeout=30)')))\n"
     ]
    },
    {
     "data": {
      "application/javascript": [
       "\n",
       "        if (window._pyforest_update_imports_cell) { window._pyforest_update_imports_cell('import re'); }\n",
       "    "
      ],
      "text/plain": [
       "<IPython.core.display.Javascript object>"
      ]
     },
     "metadata": {},
     "output_type": "display_data"
    },
    {
     "data": {
      "application/javascript": [
       "\n",
       "        if (window._pyforest_update_imports_cell) { window._pyforest_update_imports_cell('import re'); }\n",
       "    "
      ],
      "text/plain": [
       "<IPython.core.display.Javascript object>"
      ]
     },
     "metadata": {},
     "output_type": "display_data"
    },
    {
     "name": "stdout",
     "output_type": "stream",
     "text": [
      "Successfully retrieved 28 - https://www.halfbakedharvest.com/marinated-cherry-tomatoes-with-burrata/ with proxy 35.220.254.137:8080\n"
     ]
    },
    {
     "data": {
      "application/javascript": [
       "\n",
       "        if (window._pyforest_update_imports_cell) { window._pyforest_update_imports_cell('import re'); }\n",
       "    "
      ],
      "text/plain": [
       "<IPython.core.display.Javascript object>"
      ]
     },
     "metadata": {},
     "output_type": "display_data"
    },
    {
     "data": {
      "application/javascript": [
       "\n",
       "        if (window._pyforest_update_imports_cell) { window._pyforest_update_imports_cell('import re'); }\n",
       "    "
      ],
      "text/plain": [
       "<IPython.core.display.Javascript object>"
      ]
     },
     "metadata": {},
     "output_type": "display_data"
    },
    {
     "data": {
      "application/javascript": [
       "\n",
       "        if (window._pyforest_update_imports_cell) { window._pyforest_update_imports_cell('import re'); }\n",
       "    "
      ],
      "text/plain": [
       "<IPython.core.display.Javascript object>"
      ]
     },
     "metadata": {},
     "output_type": "display_data"
    },
    {
     "name": "stdout",
     "output_type": "stream",
     "text": [
      "Successfully retrieved 29 - https://www.halfbakedharvest.com/gruyere-tomato-bruschetta/ with proxy 181.114.61.17:8085\n"
     ]
    },
    {
     "data": {
      "application/javascript": [
       "\n",
       "        if (window._pyforest_update_imports_cell) { window._pyforest_update_imports_cell('import re'); }\n",
       "    "
      ],
      "text/plain": [
       "<IPython.core.display.Javascript object>"
      ]
     },
     "metadata": {},
     "output_type": "display_data"
    },
    {
     "data": {
      "application/javascript": [
       "\n",
       "        if (window._pyforest_update_imports_cell) { window._pyforest_update_imports_cell('import re'); }\n",
       "    "
      ],
      "text/plain": [
       "<IPython.core.display.Javascript object>"
      ]
     },
     "metadata": {},
     "output_type": "display_data"
    },
    {
     "data": {
      "application/javascript": [
       "\n",
       "        if (window._pyforest_update_imports_cell) { window._pyforest_update_imports_cell('import re'); }\n",
       "    "
      ],
      "text/plain": [
       "<IPython.core.display.Javascript object>"
      ]
     },
     "metadata": {},
     "output_type": "display_data"
    },
    {
     "name": "stdout",
     "output_type": "stream",
     "text": [
      "Successfully retrieved 30 - https://www.halfbakedharvest.com/strawberry-jam-with-goat-cheese/ with proxy 35.220.254.137:8080\n",
      "Proxy 181.114.61.17:8085 failed for https://www.halfbakedharvest.com/jalapeno-cheddar-cornbread-biscuits/: HTTPSConnectionPool(host='www.halfbakedharvest.com', port=443): Max retries exceeded with url: /jalapeno-cheddar-cornbread-biscuits/ (Caused by ProxyError('Unable to connect to proxy', ConnectTimeoutError(<urllib3.connection.HTTPSConnection object at 0x137595070>, 'Connection to 181.114.61.17 timed out. (connect timeout=30)')))\n"
     ]
    },
    {
     "data": {
      "application/javascript": [
       "\n",
       "        if (window._pyforest_update_imports_cell) { window._pyforest_update_imports_cell('import re'); }\n",
       "    "
      ],
      "text/plain": [
       "<IPython.core.display.Javascript object>"
      ]
     },
     "metadata": {},
     "output_type": "display_data"
    },
    {
     "data": {
      "application/javascript": [
       "\n",
       "        if (window._pyforest_update_imports_cell) { window._pyforest_update_imports_cell('import re'); }\n",
       "    "
      ],
      "text/plain": [
       "<IPython.core.display.Javascript object>"
      ]
     },
     "metadata": {},
     "output_type": "display_data"
    },
    {
     "data": {
      "application/javascript": [
       "\n",
       "        if (window._pyforest_update_imports_cell) { window._pyforest_update_imports_cell('import re'); }\n",
       "    "
      ],
      "text/plain": [
       "<IPython.core.display.Javascript object>"
      ]
     },
     "metadata": {},
     "output_type": "display_data"
    },
    {
     "name": "stdout",
     "output_type": "stream",
     "text": [
      "Successfully retrieved 32 - https://www.halfbakedharvest.com/salmon-sushi-cups/ with proxy 35.220.254.137:8080\n"
     ]
    },
    {
     "data": {
      "application/javascript": [
       "\n",
       "        if (window._pyforest_update_imports_cell) { window._pyforest_update_imports_cell('import re'); }\n",
       "    "
      ],
      "text/plain": [
       "<IPython.core.display.Javascript object>"
      ]
     },
     "metadata": {},
     "output_type": "display_data"
    },
    {
     "data": {
      "application/javascript": [
       "\n",
       "        if (window._pyforest_update_imports_cell) { window._pyforest_update_imports_cell('import re'); }\n",
       "    "
      ],
      "text/plain": [
       "<IPython.core.display.Javascript object>"
      ]
     },
     "metadata": {},
     "output_type": "display_data"
    },
    {
     "data": {
      "application/javascript": [
       "\n",
       "        if (window._pyforest_update_imports_cell) { window._pyforest_update_imports_cell('import re'); }\n",
       "    "
      ],
      "text/plain": [
       "<IPython.core.display.Javascript object>"
      ]
     },
     "metadata": {},
     "output_type": "display_data"
    },
    {
     "data": {
      "application/javascript": [
       "\n",
       "        if (window._pyforest_update_imports_cell) { window._pyforest_update_imports_cell('import re'); }\n",
       "    "
      ],
      "text/plain": [
       "<IPython.core.display.Javascript object>"
      ]
     },
     "metadata": {},
     "output_type": "display_data"
    },
    {
     "name": "stdout",
     "output_type": "stream",
     "text": [
      "Successfully retrieved 33 - https://www.halfbakedharvest.com/garlic-butter-soft-pretzel-knots/ with proxy 181.114.61.17:8085\n"
     ]
    },
    {
     "data": {
      "application/javascript": [
       "\n",
       "        if (window._pyforest_update_imports_cell) { window._pyforest_update_imports_cell('import re'); }\n",
       "    "
      ],
      "text/plain": [
       "<IPython.core.display.Javascript object>"
      ]
     },
     "metadata": {},
     "output_type": "display_data"
    },
    {
     "data": {
      "application/javascript": [
       "\n",
       "        if (window._pyforest_update_imports_cell) { window._pyforest_update_imports_cell('import re'); }\n",
       "    "
      ],
      "text/plain": [
       "<IPython.core.display.Javascript object>"
      ]
     },
     "metadata": {},
     "output_type": "display_data"
    },
    {
     "data": {
      "application/javascript": [
       "\n",
       "        if (window._pyforest_update_imports_cell) { window._pyforest_update_imports_cell('import re'); }\n",
       "    "
      ],
      "text/plain": [
       "<IPython.core.display.Javascript object>"
      ]
     },
     "metadata": {},
     "output_type": "display_data"
    },
    {
     "name": "stdout",
     "output_type": "stream",
     "text": [
      "Successfully retrieved 34 - https://www.halfbakedharvest.com/baked-brie-crostini/ with proxy 35.220.254.137:8080\n",
      "Proxy 181.114.61.17:8085 failed for https://www.halfbakedharvest.com/street-corn-dip-sliders/: HTTPSConnectionPool(host='www.halfbakedharvest.com', port=443): Max retries exceeded with url: /street-corn-dip-sliders/ (Caused by ProxyError('Unable to connect to proxy', ConnectTimeoutError(<urllib3.connection.HTTPSConnection object at 0x13774d760>, 'Connection to 181.114.61.17 timed out. (connect timeout=30)')))\n"
     ]
    },
    {
     "data": {
      "application/javascript": [
       "\n",
       "        if (window._pyforest_update_imports_cell) { window._pyforest_update_imports_cell('import re'); }\n",
       "    "
      ],
      "text/plain": [
       "<IPython.core.display.Javascript object>"
      ]
     },
     "metadata": {},
     "output_type": "display_data"
    },
    {
     "data": {
      "application/javascript": [
       "\n",
       "        if (window._pyforest_update_imports_cell) { window._pyforest_update_imports_cell('import re'); }\n",
       "    "
      ],
      "text/plain": [
       "<IPython.core.display.Javascript object>"
      ]
     },
     "metadata": {},
     "output_type": "display_data"
    },
    {
     "data": {
      "application/javascript": [
       "\n",
       "        if (window._pyforest_update_imports_cell) { window._pyforest_update_imports_cell('import re'); }\n",
       "    "
      ],
      "text/plain": [
       "<IPython.core.display.Javascript object>"
      ]
     },
     "metadata": {},
     "output_type": "display_data"
    },
    {
     "data": {
      "application/javascript": [
       "\n",
       "        if (window._pyforest_update_imports_cell) { window._pyforest_update_imports_cell('import re'); }\n",
       "    "
      ],
      "text/plain": [
       "<IPython.core.display.Javascript object>"
      ]
     },
     "metadata": {},
     "output_type": "display_data"
    },
    {
     "data": {
      "application/javascript": [
       "\n",
       "        if (window._pyforest_update_imports_cell) { window._pyforest_update_imports_cell('import re'); }\n",
       "    "
      ],
      "text/plain": [
       "<IPython.core.display.Javascript object>"
      ]
     },
     "metadata": {},
     "output_type": "display_data"
    },
    {
     "name": "stdout",
     "output_type": "stream",
     "text": [
      "Successfully retrieved 36 - https://www.halfbakedharvest.com/roasted-garlic-caprese-dip/ with proxy 35.220.254.137:8080\n"
     ]
    },
    {
     "data": {
      "application/javascript": [
       "\n",
       "        if (window._pyforest_update_imports_cell) { window._pyforest_update_imports_cell('import re'); }\n",
       "    "
      ],
      "text/plain": [
       "<IPython.core.display.Javascript object>"
      ]
     },
     "metadata": {},
     "output_type": "display_data"
    },
    {
     "data": {
      "application/javascript": [
       "\n",
       "        if (window._pyforest_update_imports_cell) { window._pyforest_update_imports_cell('import re'); }\n",
       "    "
      ],
      "text/plain": [
       "<IPython.core.display.Javascript object>"
      ]
     },
     "metadata": {},
     "output_type": "display_data"
    },
    {
     "data": {
      "application/javascript": [
       "\n",
       "        if (window._pyforest_update_imports_cell) { window._pyforest_update_imports_cell('import re'); }\n",
       "    "
      ],
      "text/plain": [
       "<IPython.core.display.Javascript object>"
      ]
     },
     "metadata": {},
     "output_type": "display_data"
    },
    {
     "name": "stdout",
     "output_type": "stream",
     "text": [
      "Successfully retrieved 37 - https://www.halfbakedharvest.com/beef-rolls/ with proxy 181.114.61.17:8085\n"
     ]
    },
    {
     "data": {
      "application/javascript": [
       "\n",
       "        if (window._pyforest_update_imports_cell) { window._pyforest_update_imports_cell('import re'); }\n",
       "    "
      ],
      "text/plain": [
       "<IPython.core.display.Javascript object>"
      ]
     },
     "metadata": {},
     "output_type": "display_data"
    },
    {
     "data": {
      "application/javascript": [
       "\n",
       "        if (window._pyforest_update_imports_cell) { window._pyforest_update_imports_cell('import re'); }\n",
       "    "
      ],
      "text/plain": [
       "<IPython.core.display.Javascript object>"
      ]
     },
     "metadata": {},
     "output_type": "display_data"
    },
    {
     "data": {
      "application/javascript": [
       "\n",
       "        if (window._pyforest_update_imports_cell) { window._pyforest_update_imports_cell('import re'); }\n",
       "    "
      ],
      "text/plain": [
       "<IPython.core.display.Javascript object>"
      ]
     },
     "metadata": {},
     "output_type": "display_data"
    },
    {
     "name": "stdout",
     "output_type": "stream",
     "text": [
      "Successfully retrieved 38 - https://www.halfbakedharvest.com/coconut-chicken-fingers/ with proxy 35.220.254.137:8080\n"
     ]
    },
    {
     "data": {
      "application/javascript": [
       "\n",
       "        if (window._pyforest_update_imports_cell) { window._pyforest_update_imports_cell('import re'); }\n",
       "    "
      ],
      "text/plain": [
       "<IPython.core.display.Javascript object>"
      ]
     },
     "metadata": {},
     "output_type": "display_data"
    },
    {
     "data": {
      "application/javascript": [
       "\n",
       "        if (window._pyforest_update_imports_cell) { window._pyforest_update_imports_cell('import re'); }\n",
       "    "
      ],
      "text/plain": [
       "<IPython.core.display.Javascript object>"
      ]
     },
     "metadata": {},
     "output_type": "display_data"
    },
    {
     "data": {
      "application/javascript": [
       "\n",
       "        if (window._pyforest_update_imports_cell) { window._pyforest_update_imports_cell('import re'); }\n",
       "    "
      ],
      "text/plain": [
       "<IPython.core.display.Javascript object>"
      ]
     },
     "metadata": {},
     "output_type": "display_data"
    },
    {
     "name": "stdout",
     "output_type": "stream",
     "text": [
      "Successfully retrieved 39 - https://www.halfbakedharvest.com/jalapeno-dip/ with proxy 181.114.61.17:8085\n"
     ]
    },
    {
     "data": {
      "application/javascript": [
       "\n",
       "        if (window._pyforest_update_imports_cell) { window._pyforest_update_imports_cell('import re'); }\n",
       "    "
      ],
      "text/plain": [
       "<IPython.core.display.Javascript object>"
      ]
     },
     "metadata": {},
     "output_type": "display_data"
    },
    {
     "data": {
      "application/javascript": [
       "\n",
       "        if (window._pyforest_update_imports_cell) { window._pyforest_update_imports_cell('import re'); }\n",
       "    "
      ],
      "text/plain": [
       "<IPython.core.display.Javascript object>"
      ]
     },
     "metadata": {},
     "output_type": "display_data"
    },
    {
     "data": {
      "application/javascript": [
       "\n",
       "        if (window._pyforest_update_imports_cell) { window._pyforest_update_imports_cell('import re'); }\n",
       "    "
      ],
      "text/plain": [
       "<IPython.core.display.Javascript object>"
      ]
     },
     "metadata": {},
     "output_type": "display_data"
    },
    {
     "name": "stdout",
     "output_type": "stream",
     "text": [
      "Successfully retrieved 40 - https://www.halfbakedharvest.com/garlic-parmesan-french-fries/ with proxy 35.220.254.137:8080\n",
      "Proxy 181.114.61.17:8085 failed for https://www.halfbakedharvest.com/baked-artichokes/: HTTPSConnectionPool(host='www.halfbakedharvest.com', port=443): Max retries exceeded with url: /baked-artichokes/ (Caused by ProxyError('Unable to connect to proxy', ConnectTimeoutError(<urllib3.connection.HTTPSConnection object at 0x13751d7f0>, 'Connection to 181.114.61.17 timed out. (connect timeout=30)')))\n",
      "Successfully retrieved 42 - https://www.halfbakedharvest.com/the-25-most-popular-game-day-recipes/ with proxy 35.220.254.137:8080\n",
      "Proxy 181.114.61.17:8085 failed for https://www.halfbakedharvest.com/hot-honey-cauliflower/: HTTPSConnectionPool(host='www.halfbakedharvest.com', port=443): Max retries exceeded with url: /hot-honey-cauliflower/ (Caused by ProxyError('Unable to connect to proxy', ConnectTimeoutError(<urllib3.connection.HTTPSConnection object at 0x137637a30>, 'Connection to 181.114.61.17 timed out. (connect timeout=30)')))\n"
     ]
    },
    {
     "data": {
      "application/javascript": [
       "\n",
       "        if (window._pyforest_update_imports_cell) { window._pyforest_update_imports_cell('import re'); }\n",
       "    "
      ],
      "text/plain": [
       "<IPython.core.display.Javascript object>"
      ]
     },
     "metadata": {},
     "output_type": "display_data"
    },
    {
     "data": {
      "application/javascript": [
       "\n",
       "        if (window._pyforest_update_imports_cell) { window._pyforest_update_imports_cell('import re'); }\n",
       "    "
      ],
      "text/plain": [
       "<IPython.core.display.Javascript object>"
      ]
     },
     "metadata": {},
     "output_type": "display_data"
    },
    {
     "data": {
      "application/javascript": [
       "\n",
       "        if (window._pyforest_update_imports_cell) { window._pyforest_update_imports_cell('import re'); }\n",
       "    "
      ],
      "text/plain": [
       "<IPython.core.display.Javascript object>"
      ]
     },
     "metadata": {},
     "output_type": "display_data"
    },
    {
     "data": {
      "application/javascript": [
       "\n",
       "        if (window._pyforest_update_imports_cell) { window._pyforest_update_imports_cell('import re'); }\n",
       "    "
      ],
      "text/plain": [
       "<IPython.core.display.Javascript object>"
      ]
     },
     "metadata": {},
     "output_type": "display_data"
    },
    {
     "data": {
      "application/javascript": [
       "\n",
       "        if (window._pyforest_update_imports_cell) { window._pyforest_update_imports_cell('import re'); }\n",
       "    "
      ],
      "text/plain": [
       "<IPython.core.display.Javascript object>"
      ]
     },
     "metadata": {},
     "output_type": "display_data"
    },
    {
     "name": "stdout",
     "output_type": "stream",
     "text": [
      "Successfully retrieved 44 - https://www.halfbakedharvest.com/cheesy-sweet-potato-skins/ with proxy 35.220.254.137:8080\n",
      "Proxy 181.114.61.17:8085 failed for https://www.halfbakedharvest.com/chicken-enchilada-bean-dip/: HTTPSConnectionPool(host='www.halfbakedharvest.com', port=443): Max retries exceeded with url: /chicken-enchilada-bean-dip/ (Caused by ProxyError('Unable to connect to proxy', ConnectTimeoutError(<urllib3.connection.HTTPSConnection object at 0x142cc3550>, 'Connection to 181.114.61.17 timed out. (connect timeout=30)')))\n"
     ]
    },
    {
     "data": {
      "application/javascript": [
       "\n",
       "        if (window._pyforest_update_imports_cell) { window._pyforest_update_imports_cell('import re'); }\n",
       "    "
      ],
      "text/plain": [
       "<IPython.core.display.Javascript object>"
      ]
     },
     "metadata": {},
     "output_type": "display_data"
    },
    {
     "data": {
      "application/javascript": [
       "\n",
       "        if (window._pyforest_update_imports_cell) { window._pyforest_update_imports_cell('import re'); }\n",
       "    "
      ],
      "text/plain": [
       "<IPython.core.display.Javascript object>"
      ]
     },
     "metadata": {},
     "output_type": "display_data"
    },
    {
     "data": {
      "application/javascript": [
       "\n",
       "        if (window._pyforest_update_imports_cell) { window._pyforest_update_imports_cell('import re'); }\n",
       "    "
      ],
      "text/plain": [
       "<IPython.core.display.Javascript object>"
      ]
     },
     "metadata": {},
     "output_type": "display_data"
    },
    {
     "name": "stdout",
     "output_type": "stream",
     "text": [
      "Successfully retrieved 46 - https://www.halfbakedharvest.com/prosciutto-wrapped-baked-brie/ with proxy 35.220.254.137:8080\n",
      "Proxy 181.114.61.17:8085 failed for https://www.halfbakedharvest.com/everything-ranch-crackers-and-pretzels/: HTTPSConnectionPool(host='www.halfbakedharvest.com', port=443): Max retries exceeded with url: /everything-ranch-crackers-and-pretzels/ (Caused by ProxyError('Unable to connect to proxy', ConnectTimeoutError(<urllib3.connection.HTTPSConnection object at 0x137722400>, 'Connection to 181.114.61.17 timed out. (connect timeout=30)')))\n"
     ]
    },
    {
     "data": {
      "application/javascript": [
       "\n",
       "        if (window._pyforest_update_imports_cell) { window._pyforest_update_imports_cell('import re'); }\n",
       "    "
      ],
      "text/plain": [
       "<IPython.core.display.Javascript object>"
      ]
     },
     "metadata": {},
     "output_type": "display_data"
    },
    {
     "data": {
      "application/javascript": [
       "\n",
       "        if (window._pyforest_update_imports_cell) { window._pyforest_update_imports_cell('import re'); }\n",
       "    "
      ],
      "text/plain": [
       "<IPython.core.display.Javascript object>"
      ]
     },
     "metadata": {},
     "output_type": "display_data"
    },
    {
     "data": {
      "application/javascript": [
       "\n",
       "        if (window._pyforest_update_imports_cell) { window._pyforest_update_imports_cell('import re'); }\n",
       "    "
      ],
      "text/plain": [
       "<IPython.core.display.Javascript object>"
      ]
     },
     "metadata": {},
     "output_type": "display_data"
    },
    {
     "name": "stdout",
     "output_type": "stream",
     "text": [
      "Successfully retrieved 48 - https://www.halfbakedharvest.com/jalapeno-cheddar-corn-fritters/ with proxy 35.220.254.137:8080\n",
      "Proxy 181.114.61.17:8085 failed for https://www.halfbakedharvest.com/bacon-wrapped-cheddar-corn-jalapeno-poppers/: HTTPSConnectionPool(host='www.halfbakedharvest.com', port=443): Max retries exceeded with url: /bacon-wrapped-cheddar-corn-jalapeno-poppers/ (Caused by ProxyError('Unable to connect to proxy', ConnectTimeoutError(<urllib3.connection.HTTPSConnection object at 0x143175820>, 'Connection to 181.114.61.17 timed out. (connect timeout=30)')))\n"
     ]
    },
    {
     "data": {
      "application/javascript": [
       "\n",
       "        if (window._pyforest_update_imports_cell) { window._pyforest_update_imports_cell('import re'); }\n",
       "    "
      ],
      "text/plain": [
       "<IPython.core.display.Javascript object>"
      ]
     },
     "metadata": {},
     "output_type": "display_data"
    },
    {
     "data": {
      "application/javascript": [
       "\n",
       "        if (window._pyforest_update_imports_cell) { window._pyforest_update_imports_cell('import re'); }\n",
       "    "
      ],
      "text/plain": [
       "<IPython.core.display.Javascript object>"
      ]
     },
     "metadata": {},
     "output_type": "display_data"
    },
    {
     "data": {
      "application/javascript": [
       "\n",
       "        if (window._pyforest_update_imports_cell) { window._pyforest_update_imports_cell('import re'); }\n",
       "    "
      ],
      "text/plain": [
       "<IPython.core.display.Javascript object>"
      ]
     },
     "metadata": {},
     "output_type": "display_data"
    },
    {
     "name": "stdout",
     "output_type": "stream",
     "text": [
      "Successfully retrieved 50 - https://www.halfbakedharvest.com/crispy-sesame-ginger-potstickers/ with proxy 35.220.254.137:8080\n",
      "Proxy 181.114.61.17:8085 failed for https://www.halfbakedharvest.com/roasted-tomato-cheddar-tart/: HTTPSConnectionPool(host='www.halfbakedharvest.com', port=443): Max retries exceeded with url: /roasted-tomato-cheddar-tart/ (Caused by ProxyError('Unable to connect to proxy', ConnectTimeoutError(<urllib3.connection.HTTPSConnection object at 0x142f67280>, 'Connection to 181.114.61.17 timed out. (connect timeout=30)')))\n"
     ]
    },
    {
     "data": {
      "application/javascript": [
       "\n",
       "        if (window._pyforest_update_imports_cell) { window._pyforest_update_imports_cell('import re'); }\n",
       "    "
      ],
      "text/plain": [
       "<IPython.core.display.Javascript object>"
      ]
     },
     "metadata": {},
     "output_type": "display_data"
    },
    {
     "data": {
      "application/javascript": [
       "\n",
       "        if (window._pyforest_update_imports_cell) { window._pyforest_update_imports_cell('import re'); }\n",
       "    "
      ],
      "text/plain": [
       "<IPython.core.display.Javascript object>"
      ]
     },
     "metadata": {},
     "output_type": "display_data"
    },
    {
     "data": {
      "application/javascript": [
       "\n",
       "        if (window._pyforest_update_imports_cell) { window._pyforest_update_imports_cell('import re'); }\n",
       "    "
      ],
      "text/plain": [
       "<IPython.core.display.Javascript object>"
      ]
     },
     "metadata": {},
     "output_type": "display_data"
    },
    {
     "name": "stdout",
     "output_type": "stream",
     "text": [
      "Successfully retrieved 52 - https://www.halfbakedharvest.com/garlic-parmesan-herb-butter-polenta-fries/ with proxy 35.220.254.137:8080\n",
      "Proxy 181.114.61.17:8085 failed for https://www.halfbakedharvest.com/mac-and-cheese-stuffed-oven-fried-zucchini-bites/: HTTPSConnectionPool(host='www.halfbakedharvest.com', port=443): Max retries exceeded with url: /mac-and-cheese-stuffed-oven-fried-zucchini-bites/ (Caused by ProxyError('Unable to connect to proxy', ConnectTimeoutError(<urllib3.connection.HTTPSConnection object at 0x1438e5d00>, 'Connection to 181.114.61.17 timed out. (connect timeout=30)')))\n"
     ]
    },
    {
     "data": {
      "application/javascript": [
       "\n",
       "        if (window._pyforest_update_imports_cell) { window._pyforest_update_imports_cell('import re'); }\n",
       "    "
      ],
      "text/plain": [
       "<IPython.core.display.Javascript object>"
      ]
     },
     "metadata": {},
     "output_type": "display_data"
    },
    {
     "data": {
      "application/javascript": [
       "\n",
       "        if (window._pyforest_update_imports_cell) { window._pyforest_update_imports_cell('import re'); }\n",
       "    "
      ],
      "text/plain": [
       "<IPython.core.display.Javascript object>"
      ]
     },
     "metadata": {},
     "output_type": "display_data"
    },
    {
     "data": {
      "application/javascript": [
       "\n",
       "        if (window._pyforest_update_imports_cell) { window._pyforest_update_imports_cell('import re'); }\n",
       "    "
      ],
      "text/plain": [
       "<IPython.core.display.Javascript object>"
      ]
     },
     "metadata": {},
     "output_type": "display_data"
    },
    {
     "name": "stdout",
     "output_type": "stream",
     "text": [
      "Successfully retrieved 54 - https://www.halfbakedharvest.com/marinated-goat-cheese-strawberry-crostini/ with proxy 35.220.254.137:8080\n",
      "Proxy 181.114.61.17:8085 failed for https://www.halfbakedharvest.com/crispy-bbq-beer-battered-cauliflower-nuggets/: HTTPSConnectionPool(host='www.halfbakedharvest.com', port=443): Max retries exceeded with url: /crispy-bbq-beer-battered-cauliflower-nuggets/ (Caused by ProxyError('Unable to connect to proxy', ConnectTimeoutError(<urllib3.connection.HTTPSConnection object at 0x143918be0>, 'Connection to 181.114.61.17 timed out. (connect timeout=30)')))\n"
     ]
    },
    {
     "data": {
      "application/javascript": [
       "\n",
       "        if (window._pyforest_update_imports_cell) { window._pyforest_update_imports_cell('import re'); }\n",
       "    "
      ],
      "text/plain": [
       "<IPython.core.display.Javascript object>"
      ]
     },
     "metadata": {},
     "output_type": "display_data"
    },
    {
     "data": {
      "application/javascript": [
       "\n",
       "        if (window._pyforest_update_imports_cell) { window._pyforest_update_imports_cell('import re'); }\n",
       "    "
      ],
      "text/plain": [
       "<IPython.core.display.Javascript object>"
      ]
     },
     "metadata": {},
     "output_type": "display_data"
    },
    {
     "data": {
      "application/javascript": [
       "\n",
       "        if (window._pyforest_update_imports_cell) { window._pyforest_update_imports_cell('import re'); }\n",
       "    "
      ],
      "text/plain": [
       "<IPython.core.display.Javascript object>"
      ]
     },
     "metadata": {},
     "output_type": "display_data"
    },
    {
     "name": "stdout",
     "output_type": "stream",
     "text": [
      "Successfully retrieved 56 - https://www.halfbakedharvest.com/homemade-goldfish/ with proxy 35.220.254.137:8080\n",
      "Proxy 181.114.61.17:8085 failed for https://www.halfbakedharvest.com/pan-fried-brie/: HTTPSConnectionPool(host='www.halfbakedharvest.com', port=443): Max retries exceeded with url: /pan-fried-brie/ (Caused by ProxyError('Unable to connect to proxy', ConnectTimeoutError(<urllib3.connection.HTTPSConnection object at 0x1375bf1c0>, 'Connection to 181.114.61.17 timed out. (connect timeout=30)')))\n"
     ]
    },
    {
     "data": {
      "application/javascript": [
       "\n",
       "        if (window._pyforest_update_imports_cell) { window._pyforest_update_imports_cell('import re'); }\n",
       "    "
      ],
      "text/plain": [
       "<IPython.core.display.Javascript object>"
      ]
     },
     "metadata": {},
     "output_type": "display_data"
    },
    {
     "data": {
      "application/javascript": [
       "\n",
       "        if (window._pyforest_update_imports_cell) { window._pyforest_update_imports_cell('import re'); }\n",
       "    "
      ],
      "text/plain": [
       "<IPython.core.display.Javascript object>"
      ]
     },
     "metadata": {},
     "output_type": "display_data"
    },
    {
     "data": {
      "application/javascript": [
       "\n",
       "        if (window._pyforest_update_imports_cell) { window._pyforest_update_imports_cell('import re'); }\n",
       "    "
      ],
      "text/plain": [
       "<IPython.core.display.Javascript object>"
      ]
     },
     "metadata": {},
     "output_type": "display_data"
    },
    {
     "name": "stdout",
     "output_type": "stream",
     "text": [
      "Successfully retrieved 58 - https://www.halfbakedharvest.com/coconut-popcorn-chicken/ with proxy 35.220.254.137:8080\n",
      "Proxy 181.114.61.17:8085 failed for https://www.halfbakedharvest.com/crispy-chicken-tinga-taquitos/: HTTPSConnectionPool(host='www.halfbakedharvest.com', port=443): Max retries exceeded with url: /crispy-chicken-tinga-taquitos/ (Caused by ProxyError('Unable to connect to proxy', ConnectTimeoutError(<urllib3.connection.HTTPSConnection object at 0x1436b0130>, 'Connection to 181.114.61.17 timed out. (connect timeout=30)')))\n"
     ]
    },
    {
     "data": {
      "application/javascript": [
       "\n",
       "        if (window._pyforest_update_imports_cell) { window._pyforest_update_imports_cell('import re'); }\n",
       "    "
      ],
      "text/plain": [
       "<IPython.core.display.Javascript object>"
      ]
     },
     "metadata": {},
     "output_type": "display_data"
    },
    {
     "data": {
      "application/javascript": [
       "\n",
       "        if (window._pyforest_update_imports_cell) { window._pyforest_update_imports_cell('import re'); }\n",
       "    "
      ],
      "text/plain": [
       "<IPython.core.display.Javascript object>"
      ]
     },
     "metadata": {},
     "output_type": "display_data"
    },
    {
     "data": {
      "application/javascript": [
       "\n",
       "        if (window._pyforest_update_imports_cell) { window._pyforest_update_imports_cell('import re'); }\n",
       "    "
      ],
      "text/plain": [
       "<IPython.core.display.Javascript object>"
      ]
     },
     "metadata": {},
     "output_type": "display_data"
    },
    {
     "name": "stdout",
     "output_type": "stream",
     "text": [
      "Successfully retrieved 60 - https://www.halfbakedharvest.com/prosciutto-caprese-puff-pastries/ with proxy 35.220.254.137:8080\n",
      "Proxy 181.114.61.17:8085 failed for https://www.halfbakedharvest.com/honey-mustard-pretzel-chicken-fingers/: HTTPSConnectionPool(host='www.halfbakedharvest.com', port=443): Max retries exceeded with url: /honey-mustard-pretzel-chicken-fingers/ (Caused by ProxyError('Unable to connect to proxy', ConnectTimeoutError(<urllib3.connection.HTTPSConnection object at 0x1437e4a60>, 'Connection to 181.114.61.17 timed out. (connect timeout=30)')))\n"
     ]
    },
    {
     "data": {
      "application/javascript": [
       "\n",
       "        if (window._pyforest_update_imports_cell) { window._pyforest_update_imports_cell('import re'); }\n",
       "    "
      ],
      "text/plain": [
       "<IPython.core.display.Javascript object>"
      ]
     },
     "metadata": {},
     "output_type": "display_data"
    },
    {
     "data": {
      "application/javascript": [
       "\n",
       "        if (window._pyforest_update_imports_cell) { window._pyforest_update_imports_cell('import re'); }\n",
       "    "
      ],
      "text/plain": [
       "<IPython.core.display.Javascript object>"
      ]
     },
     "metadata": {},
     "output_type": "display_data"
    },
    {
     "data": {
      "application/javascript": [
       "\n",
       "        if (window._pyforest_update_imports_cell) { window._pyforest_update_imports_cell('import re'); }\n",
       "    "
      ],
      "text/plain": [
       "<IPython.core.display.Javascript object>"
      ]
     },
     "metadata": {},
     "output_type": "display_data"
    },
    {
     "data": {
      "application/javascript": [
       "\n",
       "        if (window._pyforest_update_imports_cell) { window._pyforest_update_imports_cell('import re'); }\n",
       "    "
      ],
      "text/plain": [
       "<IPython.core.display.Javascript object>"
      ]
     },
     "metadata": {},
     "output_type": "display_data"
    },
    {
     "name": "stdout",
     "output_type": "stream",
     "text": [
      "Successfully retrieved 62 - https://www.halfbakedharvest.com/cheesy-herb-stuffed-naan/ with proxy 35.220.254.137:8080\n",
      "Proxy 181.114.61.17:8085 failed for https://www.halfbakedharvest.com/tuscan-fries/: HTTPSConnectionPool(host='www.halfbakedharvest.com', port=443): Max retries exceeded with url: /tuscan-fries/ (Caused by ProxyError('Unable to connect to proxy', ConnectTimeoutError(<urllib3.connection.HTTPSConnection object at 0x137bb4f40>, 'Connection to 181.114.61.17 timed out. (connect timeout=30)')))\n"
     ]
    },
    {
     "data": {
      "application/javascript": [
       "\n",
       "        if (window._pyforest_update_imports_cell) { window._pyforest_update_imports_cell('import re'); }\n",
       "    "
      ],
      "text/plain": [
       "<IPython.core.display.Javascript object>"
      ]
     },
     "metadata": {},
     "output_type": "display_data"
    },
    {
     "data": {
      "application/javascript": [
       "\n",
       "        if (window._pyforest_update_imports_cell) { window._pyforest_update_imports_cell('import re'); }\n",
       "    "
      ],
      "text/plain": [
       "<IPython.core.display.Javascript object>"
      ]
     },
     "metadata": {},
     "output_type": "display_data"
    },
    {
     "data": {
      "application/javascript": [
       "\n",
       "        if (window._pyforest_update_imports_cell) { window._pyforest_update_imports_cell('import re'); }\n",
       "    "
      ],
      "text/plain": [
       "<IPython.core.display.Javascript object>"
      ]
     },
     "metadata": {},
     "output_type": "display_data"
    },
    {
     "data": {
      "application/javascript": [
       "\n",
       "        if (window._pyforest_update_imports_cell) { window._pyforest_update_imports_cell('import re'); }\n",
       "    "
      ],
      "text/plain": [
       "<IPython.core.display.Javascript object>"
      ]
     },
     "metadata": {},
     "output_type": "display_data"
    },
    {
     "name": "stdout",
     "output_type": "stream",
     "text": [
      "Successfully retrieved 64 - https://www.halfbakedharvest.com/no-knead-rosemary-garlic-parmesan-bread/ with proxy 35.220.254.137:8080\n",
      "Proxy 181.114.61.17:8085 failed for https://www.halfbakedharvest.com/garlic-butter-scallops/: HTTPSConnectionPool(host='www.halfbakedharvest.com', port=443): Max retries exceeded with url: /garlic-butter-scallops/ (Caused by ProxyError('Unable to connect to proxy', ConnectTimeoutError(<urllib3.connection.HTTPSConnection object at 0x137d7b580>, 'Connection to 181.114.61.17 timed out. (connect timeout=30)')))\n"
     ]
    },
    {
     "data": {
      "application/javascript": [
       "\n",
       "        if (window._pyforest_update_imports_cell) { window._pyforest_update_imports_cell('import re'); }\n",
       "    "
      ],
      "text/plain": [
       "<IPython.core.display.Javascript object>"
      ]
     },
     "metadata": {},
     "output_type": "display_data"
    },
    {
     "data": {
      "application/javascript": [
       "\n",
       "        if (window._pyforest_update_imports_cell) { window._pyforest_update_imports_cell('import re'); }\n",
       "    "
      ],
      "text/plain": [
       "<IPython.core.display.Javascript object>"
      ]
     },
     "metadata": {},
     "output_type": "display_data"
    },
    {
     "data": {
      "application/javascript": [
       "\n",
       "        if (window._pyforest_update_imports_cell) { window._pyforest_update_imports_cell('import re'); }\n",
       "    "
      ],
      "text/plain": [
       "<IPython.core.display.Javascript object>"
      ]
     },
     "metadata": {},
     "output_type": "display_data"
    },
    {
     "name": "stdout",
     "output_type": "stream",
     "text": [
      "Successfully retrieved 66 - https://www.halfbakedharvest.com/extra-flakey-broccoli-cheddar-soup-mini-pies/ with proxy 35.220.254.137:8080\n"
     ]
    },
    {
     "data": {
      "application/javascript": [
       "\n",
       "        if (window._pyforest_update_imports_cell) { window._pyforest_update_imports_cell('import re'); }\n",
       "    "
      ],
      "text/plain": [
       "<IPython.core.display.Javascript object>"
      ]
     },
     "metadata": {},
     "output_type": "display_data"
    },
    {
     "data": {
      "application/javascript": [
       "\n",
       "        if (window._pyforest_update_imports_cell) { window._pyforest_update_imports_cell('import re'); }\n",
       "    "
      ],
      "text/plain": [
       "<IPython.core.display.Javascript object>"
      ]
     },
     "metadata": {},
     "output_type": "display_data"
    },
    {
     "data": {
      "application/javascript": [
       "\n",
       "        if (window._pyforest_update_imports_cell) { window._pyforest_update_imports_cell('import re'); }\n",
       "    "
      ],
      "text/plain": [
       "<IPython.core.display.Javascript object>"
      ]
     },
     "metadata": {},
     "output_type": "display_data"
    },
    {
     "name": "stdout",
     "output_type": "stream",
     "text": [
      "Successfully retrieved 67 - https://www.halfbakedharvest.com/buffalo-ranch-chicken-pull-apart-bread/ with proxy 181.114.61.17:8085\n"
     ]
    },
    {
     "data": {
      "application/javascript": [
       "\n",
       "        if (window._pyforest_update_imports_cell) { window._pyforest_update_imports_cell('import re'); }\n",
       "    "
      ],
      "text/plain": [
       "<IPython.core.display.Javascript object>"
      ]
     },
     "metadata": {},
     "output_type": "display_data"
    },
    {
     "data": {
      "application/javascript": [
       "\n",
       "        if (window._pyforest_update_imports_cell) { window._pyforest_update_imports_cell('import re'); }\n",
       "    "
      ],
      "text/plain": [
       "<IPython.core.display.Javascript object>"
      ]
     },
     "metadata": {},
     "output_type": "display_data"
    },
    {
     "data": {
      "application/javascript": [
       "\n",
       "        if (window._pyforest_update_imports_cell) { window._pyforest_update_imports_cell('import re'); }\n",
       "    "
      ],
      "text/plain": [
       "<IPython.core.display.Javascript object>"
      ]
     },
     "metadata": {},
     "output_type": "display_data"
    },
    {
     "name": "stdout",
     "output_type": "stream",
     "text": [
      "Successfully retrieved 68 - https://www.halfbakedharvest.com/oven-fried-cajun-popcorn-chicken/ with proxy 35.220.254.137:8080\n",
      "Proxy 181.114.61.17:8085 failed for https://www.halfbakedharvest.com/whipped-ricotta-toast/: HTTPSConnectionPool(host='www.halfbakedharvest.com', port=443): Max retries exceeded with url: /whipped-ricotta-toast/ (Caused by ProxyError('Unable to connect to proxy', ConnectTimeoutError(<urllib3.connection.HTTPSConnection object at 0x137997370>, 'Connection to 181.114.61.17 timed out. (connect timeout=30)')))\n"
     ]
    },
    {
     "data": {
      "application/javascript": [
       "\n",
       "        if (window._pyforest_update_imports_cell) { window._pyforest_update_imports_cell('import re'); }\n",
       "    "
      ],
      "text/plain": [
       "<IPython.core.display.Javascript object>"
      ]
     },
     "metadata": {},
     "output_type": "display_data"
    },
    {
     "data": {
      "application/javascript": [
       "\n",
       "        if (window._pyforest_update_imports_cell) { window._pyforest_update_imports_cell('import re'); }\n",
       "    "
      ],
      "text/plain": [
       "<IPython.core.display.Javascript object>"
      ]
     },
     "metadata": {},
     "output_type": "display_data"
    },
    {
     "data": {
      "application/javascript": [
       "\n",
       "        if (window._pyforest_update_imports_cell) { window._pyforest_update_imports_cell('import re'); }\n",
       "    "
      ],
      "text/plain": [
       "<IPython.core.display.Javascript object>"
      ]
     },
     "metadata": {},
     "output_type": "display_data"
    },
    {
     "name": "stdout",
     "output_type": "stream",
     "text": [
      "Successfully retrieved 70 - https://www.halfbakedharvest.com/chinese-mushroom-dumplings/ with proxy 35.220.254.137:8080\n",
      "Proxy 181.114.61.17:8085 failed for https://www.halfbakedharvest.com/burrata-with-lemon-pepper-salami-bites/: HTTPSConnectionPool(host='www.halfbakedharvest.com', port=443): Max retries exceeded with url: /burrata-with-lemon-pepper-salami-bites/ (Caused by ProxyError('Unable to connect to proxy', ConnectTimeoutError(<urllib3.connection.HTTPSConnection object at 0x143608700>, 'Connection to 181.114.61.17 timed out. (connect timeout=30)')))\n"
     ]
    },
    {
     "data": {
      "application/javascript": [
       "\n",
       "        if (window._pyforest_update_imports_cell) { window._pyforest_update_imports_cell('import re'); }\n",
       "    "
      ],
      "text/plain": [
       "<IPython.core.display.Javascript object>"
      ]
     },
     "metadata": {},
     "output_type": "display_data"
    },
    {
     "data": {
      "application/javascript": [
       "\n",
       "        if (window._pyforest_update_imports_cell) { window._pyforest_update_imports_cell('import re'); }\n",
       "    "
      ],
      "text/plain": [
       "<IPython.core.display.Javascript object>"
      ]
     },
     "metadata": {},
     "output_type": "display_data"
    },
    {
     "data": {
      "application/javascript": [
       "\n",
       "        if (window._pyforest_update_imports_cell) { window._pyforest_update_imports_cell('import re'); }\n",
       "    "
      ],
      "text/plain": [
       "<IPython.core.display.Javascript object>"
      ]
     },
     "metadata": {},
     "output_type": "display_data"
    },
    {
     "name": "stdout",
     "output_type": "stream",
     "text": [
      "Successfully retrieved 72 - https://www.halfbakedharvest.com/addicting-baked-seasoned-ritz-crackers/ with proxy 35.220.254.137:8080\n",
      "Proxy 181.114.61.17:8085 failed for https://www.halfbakedharvest.com/baked-brie-and-prosciutto-rolls/: HTTPSConnectionPool(host='www.halfbakedharvest.com', port=443): Max retries exceeded with url: /baked-brie-and-prosciutto-rolls/ (Caused by ProxyError('Unable to connect to proxy', ConnectTimeoutError(<urllib3.connection.HTTPSConnection object at 0x142f25e50>, 'Connection to 181.114.61.17 timed out. (connect timeout=30)')))\n"
     ]
    },
    {
     "data": {
      "application/javascript": [
       "\n",
       "        if (window._pyforest_update_imports_cell) { window._pyforest_update_imports_cell('import re'); }\n",
       "    "
      ],
      "text/plain": [
       "<IPython.core.display.Javascript object>"
      ]
     },
     "metadata": {},
     "output_type": "display_data"
    },
    {
     "data": {
      "application/javascript": [
       "\n",
       "        if (window._pyforest_update_imports_cell) { window._pyforest_update_imports_cell('import re'); }\n",
       "    "
      ],
      "text/plain": [
       "<IPython.core.display.Javascript object>"
      ]
     },
     "metadata": {},
     "output_type": "display_data"
    },
    {
     "data": {
      "application/javascript": [
       "\n",
       "        if (window._pyforest_update_imports_cell) { window._pyforest_update_imports_cell('import re'); }\n",
       "    "
      ],
      "text/plain": [
       "<IPython.core.display.Javascript object>"
      ]
     },
     "metadata": {},
     "output_type": "display_data"
    },
    {
     "name": "stdout",
     "output_type": "stream",
     "text": [
      "Successfully retrieved 74 - https://www.halfbakedharvest.com/roasted-lemon-spinach-and-artichoke-dip/ with proxy 35.220.254.137:8080\n",
      "Proxy 181.114.61.17:8085 failed for https://www.halfbakedharvest.com/sweet-n-savory-roasted-nuts-and-pretzels/: HTTPSConnectionPool(host='www.halfbakedharvest.com', port=443): Max retries exceeded with url: /sweet-n-savory-roasted-nuts-and-pretzels/ (Caused by ProxyError('Unable to connect to proxy', ConnectTimeoutError(<urllib3.connection.HTTPSConnection object at 0x142ff4cd0>, 'Connection to 181.114.61.17 timed out. (connect timeout=30)')))\n"
     ]
    },
    {
     "data": {
      "application/javascript": [
       "\n",
       "        if (window._pyforest_update_imports_cell) { window._pyforest_update_imports_cell('import re'); }\n",
       "    "
      ],
      "text/plain": [
       "<IPython.core.display.Javascript object>"
      ]
     },
     "metadata": {},
     "output_type": "display_data"
    },
    {
     "data": {
      "application/javascript": [
       "\n",
       "        if (window._pyforest_update_imports_cell) { window._pyforest_update_imports_cell('import re'); }\n",
       "    "
      ],
      "text/plain": [
       "<IPython.core.display.Javascript object>"
      ]
     },
     "metadata": {},
     "output_type": "display_data"
    },
    {
     "data": {
      "application/javascript": [
       "\n",
       "        if (window._pyforest_update_imports_cell) { window._pyforest_update_imports_cell('import re'); }\n",
       "    "
      ],
      "text/plain": [
       "<IPython.core.display.Javascript object>"
      ]
     },
     "metadata": {},
     "output_type": "display_data"
    },
    {
     "name": "stdout",
     "output_type": "stream",
     "text": [
      "Successfully retrieved 76 - https://www.halfbakedharvest.com/brie-stuffed-crispy-baby-potatoes/ with proxy 35.220.254.137:8080\n",
      "Proxy 181.114.61.17:8085 failed for https://www.halfbakedharvest.com/honey-butter-roasted-acorn-with-burrata-and-pomegranate/: ('Connection aborted.', RemoteDisconnected('Remote end closed connection without response'))\n"
     ]
    },
    {
     "data": {
      "application/javascript": [
       "\n",
       "        if (window._pyforest_update_imports_cell) { window._pyforest_update_imports_cell('import re'); }\n",
       "    "
      ],
      "text/plain": [
       "<IPython.core.display.Javascript object>"
      ]
     },
     "metadata": {},
     "output_type": "display_data"
    },
    {
     "data": {
      "application/javascript": [
       "\n",
       "        if (window._pyforest_update_imports_cell) { window._pyforest_update_imports_cell('import re'); }\n",
       "    "
      ],
      "text/plain": [
       "<IPython.core.display.Javascript object>"
      ]
     },
     "metadata": {},
     "output_type": "display_data"
    },
    {
     "data": {
      "application/javascript": [
       "\n",
       "        if (window._pyforest_update_imports_cell) { window._pyforest_update_imports_cell('import re'); }\n",
       "    "
      ],
      "text/plain": [
       "<IPython.core.display.Javascript object>"
      ]
     },
     "metadata": {},
     "output_type": "display_data"
    },
    {
     "name": "stdout",
     "output_type": "stream",
     "text": [
      "Successfully retrieved 78 - https://www.halfbakedharvest.com/caramelized-garlic-butter-toast-with-pan-fried-mushrooms/ with proxy 35.220.254.137:8080\n",
      "Proxy 181.114.61.17:8085 failed for https://www.halfbakedharvest.com/opened-faced-tomato-and-goat-cheese-sandwich-with-hot-bacon-vinaigrette/: HTTPSConnectionPool(host='www.halfbakedharvest.com', port=443): Max retries exceeded with url: /opened-faced-tomato-and-goat-cheese-sandwich-with-hot-bacon-vinaigrette/ (Caused by ProxyError('Unable to connect to proxy', ConnectTimeoutError(<urllib3.connection.HTTPSConnection object at 0x137a5d820>, 'Connection to 181.114.61.17 timed out. (connect timeout=30)')))\n"
     ]
    },
    {
     "data": {
      "application/javascript": [
       "\n",
       "        if (window._pyforest_update_imports_cell) { window._pyforest_update_imports_cell('import re'); }\n",
       "    "
      ],
      "text/plain": [
       "<IPython.core.display.Javascript object>"
      ]
     },
     "metadata": {},
     "output_type": "display_data"
    },
    {
     "data": {
      "application/javascript": [
       "\n",
       "        if (window._pyforest_update_imports_cell) { window._pyforest_update_imports_cell('import re'); }\n",
       "    "
      ],
      "text/plain": [
       "<IPython.core.display.Javascript object>"
      ]
     },
     "metadata": {},
     "output_type": "display_data"
    },
    {
     "data": {
      "application/javascript": [
       "\n",
       "        if (window._pyforest_update_imports_cell) { window._pyforest_update_imports_cell('import re'); }\n",
       "    "
      ],
      "text/plain": [
       "<IPython.core.display.Javascript object>"
      ]
     },
     "metadata": {},
     "output_type": "display_data"
    },
    {
     "name": "stdout",
     "output_type": "stream",
     "text": [
      "Successfully retrieved 80 - https://www.halfbakedharvest.com/thai-coconut-butter-mussels-with-garlic-lemongrass-toast/ with proxy 35.220.254.137:8080\n",
      "Proxy 181.114.61.17:8085 failed for https://www.halfbakedharvest.com/10-minute-garden-herb-avocado-dip/: HTTPSConnectionPool(host='www.halfbakedharvest.com', port=443): Max retries exceeded with url: /10-minute-garden-herb-avocado-dip/ (Caused by ProxyError('Unable to connect to proxy', ConnectTimeoutError(<urllib3.connection.HTTPSConnection object at 0x142fc8fa0>, 'Connection to 181.114.61.17 timed out. (connect timeout=30)')))\n"
     ]
    },
    {
     "data": {
      "application/javascript": [
       "\n",
       "        if (window._pyforest_update_imports_cell) { window._pyforest_update_imports_cell('import re'); }\n",
       "    "
      ],
      "text/plain": [
       "<IPython.core.display.Javascript object>"
      ]
     },
     "metadata": {},
     "output_type": "display_data"
    },
    {
     "data": {
      "application/javascript": [
       "\n",
       "        if (window._pyforest_update_imports_cell) { window._pyforest_update_imports_cell('import re'); }\n",
       "    "
      ],
      "text/plain": [
       "<IPython.core.display.Javascript object>"
      ]
     },
     "metadata": {},
     "output_type": "display_data"
    },
    {
     "data": {
      "application/javascript": [
       "\n",
       "        if (window._pyforest_update_imports_cell) { window._pyforest_update_imports_cell('import re'); }\n",
       "    "
      ],
      "text/plain": [
       "<IPython.core.display.Javascript object>"
      ]
     },
     "metadata": {},
     "output_type": "display_data"
    },
    {
     "name": "stdout",
     "output_type": "stream",
     "text": [
      "Successfully retrieved 82 - https://www.halfbakedharvest.com/honey-thyme-sweet-cherry-grilled-brie/ with proxy 35.220.254.137:8080\n",
      "Proxy 181.114.61.17:8085 failed for https://www.halfbakedharvest.com/tuscan-summer-stone-fruit-tomato-and-burrata-panzanella-salad/: HTTPSConnectionPool(host='www.halfbakedharvest.com', port=443): Max retries exceeded with url: /tuscan-summer-stone-fruit-tomato-and-burrata-panzanella-salad/ (Caused by ProxyError('Unable to connect to proxy', ConnectTimeoutError(<urllib3.connection.HTTPSConnection object at 0x1437625b0>, 'Connection to 181.114.61.17 timed out. (connect timeout=30)')))\n"
     ]
    },
    {
     "data": {
      "application/javascript": [
       "\n",
       "        if (window._pyforest_update_imports_cell) { window._pyforest_update_imports_cell('import re'); }\n",
       "    "
      ],
      "text/plain": [
       "<IPython.core.display.Javascript object>"
      ]
     },
     "metadata": {},
     "output_type": "display_data"
    },
    {
     "data": {
      "application/javascript": [
       "\n",
       "        if (window._pyforest_update_imports_cell) { window._pyforest_update_imports_cell('import re'); }\n",
       "    "
      ],
      "text/plain": [
       "<IPython.core.display.Javascript object>"
      ]
     },
     "metadata": {},
     "output_type": "display_data"
    },
    {
     "data": {
      "application/javascript": [
       "\n",
       "        if (window._pyforest_update_imports_cell) { window._pyforest_update_imports_cell('import re'); }\n",
       "    "
      ],
      "text/plain": [
       "<IPython.core.display.Javascript object>"
      ]
     },
     "metadata": {},
     "output_type": "display_data"
    },
    {
     "name": "stdout",
     "output_type": "stream",
     "text": [
      "Successfully retrieved 84 - https://www.halfbakedharvest.com/lemon-feta-dip-garlic-tomato-vinaigrette/ with proxy 35.220.254.137:8080\n"
     ]
    },
    {
     "data": {
      "application/javascript": [
       "\n",
       "        if (window._pyforest_update_imports_cell) { window._pyforest_update_imports_cell('import re'); }\n",
       "    "
      ],
      "text/plain": [
       "<IPython.core.display.Javascript object>"
      ]
     },
     "metadata": {},
     "output_type": "display_data"
    },
    {
     "data": {
      "application/javascript": [
       "\n",
       "        if (window._pyforest_update_imports_cell) { window._pyforest_update_imports_cell('import re'); }\n",
       "    "
      ],
      "text/plain": [
       "<IPython.core.display.Javascript object>"
      ]
     },
     "metadata": {},
     "output_type": "display_data"
    },
    {
     "name": "stdout",
     "output_type": "stream",
     "text": [
      "Successfully retrieved 85 - https://www.halfbakedharvest.com/farmers-market-pickled-crudite-platter/ with proxy 181.114.61.17:8085\n"
     ]
    },
    {
     "data": {
      "application/javascript": [
       "\n",
       "        if (window._pyforest_update_imports_cell) { window._pyforest_update_imports_cell('import re'); }\n",
       "    "
      ],
      "text/plain": [
       "<IPython.core.display.Javascript object>"
      ]
     },
     "metadata": {},
     "output_type": "display_data"
    },
    {
     "data": {
      "application/javascript": [
       "\n",
       "        if (window._pyforest_update_imports_cell) { window._pyforest_update_imports_cell('import re'); }\n",
       "    "
      ],
      "text/plain": [
       "<IPython.core.display.Javascript object>"
      ]
     },
     "metadata": {},
     "output_type": "display_data"
    },
    {
     "data": {
      "application/javascript": [
       "\n",
       "        if (window._pyforest_update_imports_cell) { window._pyforest_update_imports_cell('import re'); }\n",
       "    "
      ],
      "text/plain": [
       "<IPython.core.display.Javascript object>"
      ]
     },
     "metadata": {},
     "output_type": "display_data"
    },
    {
     "name": "stdout",
     "output_type": "stream",
     "text": [
      "Successfully retrieved 86 - https://www.halfbakedharvest.com/quick-pickled-veggies/ with proxy 35.220.254.137:8080\n"
     ]
    },
    {
     "data": {
      "application/javascript": [
       "\n",
       "        if (window._pyforest_update_imports_cell) { window._pyforest_update_imports_cell('import re'); }\n",
       "    "
      ],
      "text/plain": [
       "<IPython.core.display.Javascript object>"
      ]
     },
     "metadata": {},
     "output_type": "display_data"
    },
    {
     "data": {
      "application/javascript": [
       "\n",
       "        if (window._pyforest_update_imports_cell) { window._pyforest_update_imports_cell('import re'); }\n",
       "    "
      ],
      "text/plain": [
       "<IPython.core.display.Javascript object>"
      ]
     },
     "metadata": {},
     "output_type": "display_data"
    },
    {
     "name": "stdout",
     "output_type": "stream",
     "text": [
      "Successfully retrieved 87 - https://www.halfbakedharvest.com/brunch-bruschetta-bar/ with proxy 181.114.61.17:8085\n"
     ]
    },
    {
     "data": {
      "application/javascript": [
       "\n",
       "        if (window._pyforest_update_imports_cell) { window._pyforest_update_imports_cell('import re'); }\n",
       "    "
      ],
      "text/plain": [
       "<IPython.core.display.Javascript object>"
      ]
     },
     "metadata": {},
     "output_type": "display_data"
    },
    {
     "data": {
      "application/javascript": [
       "\n",
       "        if (window._pyforest_update_imports_cell) { window._pyforest_update_imports_cell('import re'); }\n",
       "    "
      ],
      "text/plain": [
       "<IPython.core.display.Javascript object>"
      ]
     },
     "metadata": {},
     "output_type": "display_data"
    },
    {
     "data": {
      "application/javascript": [
       "\n",
       "        if (window._pyforest_update_imports_cell) { window._pyforest_update_imports_cell('import re'); }\n",
       "    "
      ],
      "text/plain": [
       "<IPython.core.display.Javascript object>"
      ]
     },
     "metadata": {},
     "output_type": "display_data"
    },
    {
     "name": "stdout",
     "output_type": "stream",
     "text": [
      "Successfully retrieved 88 - https://www.halfbakedharvest.com/lighter-cheese-board/ with proxy 35.220.254.137:8080\n",
      "Proxy 181.114.61.17:8085 failed for https://www.halfbakedharvest.com/caprese-burrata-garlic-bread/: HTTPSConnectionPool(host='www.halfbakedharvest.com', port=443): Max retries exceeded with url: /caprese-burrata-garlic-bread/ (Caused by ProxyError('Unable to connect to proxy', ConnectTimeoutError(<urllib3.connection.HTTPSConnection object at 0x13761c520>, 'Connection to 181.114.61.17 timed out. (connect timeout=30)')))\n"
     ]
    },
    {
     "data": {
      "application/javascript": [
       "\n",
       "        if (window._pyforest_update_imports_cell) { window._pyforest_update_imports_cell('import re'); }\n",
       "    "
      ],
      "text/plain": [
       "<IPython.core.display.Javascript object>"
      ]
     },
     "metadata": {},
     "output_type": "display_data"
    },
    {
     "data": {
      "application/javascript": [
       "\n",
       "        if (window._pyforest_update_imports_cell) { window._pyforest_update_imports_cell('import re'); }\n",
       "    "
      ],
      "text/plain": [
       "<IPython.core.display.Javascript object>"
      ]
     },
     "metadata": {},
     "output_type": "display_data"
    },
    {
     "data": {
      "application/javascript": [
       "\n",
       "        if (window._pyforest_update_imports_cell) { window._pyforest_update_imports_cell('import re'); }\n",
       "    "
      ],
      "text/plain": [
       "<IPython.core.display.Javascript object>"
      ]
     },
     "metadata": {},
     "output_type": "display_data"
    },
    {
     "name": "stdout",
     "output_type": "stream",
     "text": [
      "Successfully retrieved 90 - https://www.halfbakedharvest.com/honey-garlic-korean-bbq-grilled-shrimp/ with proxy 35.220.254.137:8080\n",
      "Proxy 181.114.61.17:8085 failed for https://www.halfbakedharvest.com/honey-raspberry-brie-crostini-with-basil-oil/: HTTPSConnectionPool(host='www.halfbakedharvest.com', port=443): Max retries exceeded with url: /honey-raspberry-brie-crostini-with-basil-oil/ (Caused by ProxyError('Unable to connect to proxy', ConnectTimeoutError(<urllib3.connection.HTTPSConnection object at 0x142e5d580>, 'Connection to 181.114.61.17 timed out. (connect timeout=30)')))\n",
      "Successfully retrieved 92 - https://www.halfbakedharvest.com/the-perfect-moroccan-brunch/ with proxy 35.220.254.137:8080\n",
      "Proxy 181.114.61.17:8085 failed for https://www.halfbakedharvest.com/baked-thai-coconut-shrimp-with-lemongrass-guacamole/: HTTPSConnectionPool(host='www.halfbakedharvest.com', port=443): Max retries exceeded with url: /baked-thai-coconut-shrimp-with-lemongrass-guacamole/ (Caused by ProxyError('Unable to connect to proxy', ConnectTimeoutError(<urllib3.connection.HTTPSConnection object at 0x14342ed00>, 'Connection to 181.114.61.17 timed out. (connect timeout=30)')))\n"
     ]
    },
    {
     "data": {
      "application/javascript": [
       "\n",
       "        if (window._pyforest_update_imports_cell) { window._pyforest_update_imports_cell('import re'); }\n",
       "    "
      ],
      "text/plain": [
       "<IPython.core.display.Javascript object>"
      ]
     },
     "metadata": {},
     "output_type": "display_data"
    },
    {
     "data": {
      "application/javascript": [
       "\n",
       "        if (window._pyforest_update_imports_cell) { window._pyforest_update_imports_cell('import re'); }\n",
       "    "
      ],
      "text/plain": [
       "<IPython.core.display.Javascript object>"
      ]
     },
     "metadata": {},
     "output_type": "display_data"
    },
    {
     "data": {
      "application/javascript": [
       "\n",
       "        if (window._pyforest_update_imports_cell) { window._pyforest_update_imports_cell('import re'); }\n",
       "    "
      ],
      "text/plain": [
       "<IPython.core.display.Javascript object>"
      ]
     },
     "metadata": {},
     "output_type": "display_data"
    },
    {
     "name": "stdout",
     "output_type": "stream",
     "text": [
      "Successfully retrieved 94 - https://www.halfbakedharvest.com/farro-tabbouleh-with-burrata-and-hummus/ with proxy 35.220.254.137:8080\n",
      "Proxy 181.114.61.17:8085 failed for https://www.halfbakedharvest.com/roasted-red-pepper-meze-platter/: HTTPSConnectionPool(host='www.halfbakedharvest.com', port=443): Max retries exceeded with url: /roasted-red-pepper-meze-platter/ (Caused by ProxyError('Unable to connect to proxy', ConnectTimeoutError(<urllib3.connection.HTTPSConnection object at 0x137b4c220>, 'Connection to 181.114.61.17 timed out. (connect timeout=30)')))\n"
     ]
    },
    {
     "data": {
      "application/javascript": [
       "\n",
       "        if (window._pyforest_update_imports_cell) { window._pyforest_update_imports_cell('import re'); }\n",
       "    "
      ],
      "text/plain": [
       "<IPython.core.display.Javascript object>"
      ]
     },
     "metadata": {},
     "output_type": "display_data"
    },
    {
     "data": {
      "application/javascript": [
       "\n",
       "        if (window._pyforest_update_imports_cell) { window._pyforest_update_imports_cell('import re'); }\n",
       "    "
      ],
      "text/plain": [
       "<IPython.core.display.Javascript object>"
      ]
     },
     "metadata": {},
     "output_type": "display_data"
    },
    {
     "name": "stdout",
     "output_type": "stream",
     "text": [
      "Successfully retrieved 96 - https://www.halfbakedharvest.com/sun-dried-tomato-muhammara-roasted-red-pepper-spread/ with proxy 35.220.254.137:8080\n",
      "Proxy 181.114.61.17:8085 failed for https://www.halfbakedharvest.com/black-bean-turkey-nachos-with-jalapeno-yogurt/: HTTPSConnectionPool(host='www.halfbakedharvest.com', port=443): Max retries exceeded with url: /black-bean-turkey-nachos-with-jalapeno-yogurt/ (Caused by ProxyError('Unable to connect to proxy', ConnectTimeoutError(<urllib3.connection.HTTPSConnection object at 0x1437374c0>, 'Connection to 181.114.61.17 timed out. (connect timeout=30)')))\n"
     ]
    },
    {
     "data": {
      "application/javascript": [
       "\n",
       "        if (window._pyforest_update_imports_cell) { window._pyforest_update_imports_cell('import re'); }\n",
       "    "
      ],
      "text/plain": [
       "<IPython.core.display.Javascript object>"
      ]
     },
     "metadata": {},
     "output_type": "display_data"
    },
    {
     "data": {
      "application/javascript": [
       "\n",
       "        if (window._pyforest_update_imports_cell) { window._pyforest_update_imports_cell('import re'); }\n",
       "    "
      ],
      "text/plain": [
       "<IPython.core.display.Javascript object>"
      ]
     },
     "metadata": {},
     "output_type": "display_data"
    },
    {
     "data": {
      "application/javascript": [
       "\n",
       "        if (window._pyforest_update_imports_cell) { window._pyforest_update_imports_cell('import re'); }\n",
       "    "
      ],
      "text/plain": [
       "<IPython.core.display.Javascript object>"
      ]
     },
     "metadata": {},
     "output_type": "display_data"
    },
    {
     "name": "stdout",
     "output_type": "stream",
     "text": [
      "Successfully retrieved 98 - https://www.halfbakedharvest.com/chicken-parmesan-meatball-crostini/ with proxy 35.220.254.137:8080\n"
     ]
    },
    {
     "data": {
      "application/javascript": [
       "\n",
       "        if (window._pyforest_update_imports_cell) { window._pyforest_update_imports_cell('import re'); }\n",
       "    "
      ],
      "text/plain": [
       "<IPython.core.display.Javascript object>"
      ]
     },
     "metadata": {},
     "output_type": "display_data"
    },
    {
     "data": {
      "application/javascript": [
       "\n",
       "        if (window._pyforest_update_imports_cell) { window._pyforest_update_imports_cell('import re'); }\n",
       "    "
      ],
      "text/plain": [
       "<IPython.core.display.Javascript object>"
      ]
     },
     "metadata": {},
     "output_type": "display_data"
    },
    {
     "data": {
      "application/javascript": [
       "\n",
       "        if (window._pyforest_update_imports_cell) { window._pyforest_update_imports_cell('import re'); }\n",
       "    "
      ],
      "text/plain": [
       "<IPython.core.display.Javascript object>"
      ]
     },
     "metadata": {},
     "output_type": "display_data"
    },
    {
     "name": "stdout",
     "output_type": "stream",
     "text": [
      "Successfully retrieved 99 - https://www.halfbakedharvest.com/buffalo-cheddar-soft-pretzel-twist-everything-spice/ with proxy 181.114.61.17:8085\n"
     ]
    },
    {
     "data": {
      "application/javascript": [
       "\n",
       "        if (window._pyforest_update_imports_cell) { window._pyforest_update_imports_cell('import re'); }\n",
       "    "
      ],
      "text/plain": [
       "<IPython.core.display.Javascript object>"
      ]
     },
     "metadata": {},
     "output_type": "display_data"
    },
    {
     "data": {
      "application/javascript": [
       "\n",
       "        if (window._pyforest_update_imports_cell) { window._pyforest_update_imports_cell('import re'); }\n",
       "    "
      ],
      "text/plain": [
       "<IPython.core.display.Javascript object>"
      ]
     },
     "metadata": {},
     "output_type": "display_data"
    },
    {
     "data": {
      "application/javascript": [
       "\n",
       "        if (window._pyforest_update_imports_cell) { window._pyforest_update_imports_cell('import re'); }\n",
       "    "
      ],
      "text/plain": [
       "<IPython.core.display.Javascript object>"
      ]
     },
     "metadata": {},
     "output_type": "display_data"
    },
    {
     "name": "stdout",
     "output_type": "stream",
     "text": [
      "Successfully retrieved 100 - https://www.halfbakedharvest.com/herbed-goat-cheese-stuffed-mushrooms/ with proxy 35.220.254.137:8080\n",
      "Proxy 181.114.61.17:8085 failed for https://www.halfbakedharvest.com/3-ingredient-cheesy-pizza-pretzels/: HTTPSConnectionPool(host='www.halfbakedharvest.com', port=443): Max retries exceeded with url: /3-ingredient-cheesy-pizza-pretzels/ (Caused by ProxyError('Unable to connect to proxy', ConnectTimeoutError(<urllib3.connection.HTTPSConnection object at 0x137794790>, 'Connection to 181.114.61.17 timed out. (connect timeout=30)')))\n"
     ]
    },
    {
     "data": {
      "application/javascript": [
       "\n",
       "        if (window._pyforest_update_imports_cell) { window._pyforest_update_imports_cell('import re'); }\n",
       "    "
      ],
      "text/plain": [
       "<IPython.core.display.Javascript object>"
      ]
     },
     "metadata": {},
     "output_type": "display_data"
    },
    {
     "data": {
      "application/javascript": [
       "\n",
       "        if (window._pyforest_update_imports_cell) { window._pyforest_update_imports_cell('import re'); }\n",
       "    "
      ],
      "text/plain": [
       "<IPython.core.display.Javascript object>"
      ]
     },
     "metadata": {},
     "output_type": "display_data"
    },
    {
     "data": {
      "application/javascript": [
       "\n",
       "        if (window._pyforest_update_imports_cell) { window._pyforest_update_imports_cell('import re'); }\n",
       "    "
      ],
      "text/plain": [
       "<IPython.core.display.Javascript object>"
      ]
     },
     "metadata": {},
     "output_type": "display_data"
    },
    {
     "name": "stdout",
     "output_type": "stream",
     "text": [
      "Successfully retrieved 102 - https://www.halfbakedharvest.com/cheese-fondue-board/ with proxy 35.220.254.137:8080\n",
      "Proxy 181.114.61.17:8085 failed for https://www.halfbakedharvest.com/cranberry-brie-pull-apart-bread/: HTTPSConnectionPool(host='www.halfbakedharvest.com', port=443): Max retries exceeded with url: /cranberry-brie-pull-apart-bread/ (Caused by ProxyError('Unable to connect to proxy', ConnectTimeoutError(<urllib3.connection.HTTPSConnection object at 0x1433bf880>, 'Connection to 181.114.61.17 timed out. (connect timeout=30)')))\n"
     ]
    },
    {
     "data": {
      "application/javascript": [
       "\n",
       "        if (window._pyforest_update_imports_cell) { window._pyforest_update_imports_cell('import re'); }\n",
       "    "
      ],
      "text/plain": [
       "<IPython.core.display.Javascript object>"
      ]
     },
     "metadata": {},
     "output_type": "display_data"
    },
    {
     "data": {
      "application/javascript": [
       "\n",
       "        if (window._pyforest_update_imports_cell) { window._pyforest_update_imports_cell('import re'); }\n",
       "    "
      ],
      "text/plain": [
       "<IPython.core.display.Javascript object>"
      ]
     },
     "metadata": {},
     "output_type": "display_data"
    },
    {
     "data": {
      "application/javascript": [
       "\n",
       "        if (window._pyforest_update_imports_cell) { window._pyforest_update_imports_cell('import re'); }\n",
       "    "
      ],
      "text/plain": [
       "<IPython.core.display.Javascript object>"
      ]
     },
     "metadata": {},
     "output_type": "display_data"
    },
    {
     "name": "stdout",
     "output_type": "stream",
     "text": [
      "Successfully retrieved 104 - https://www.halfbakedharvest.com/cheesy-bacon-holiday-crack/ with proxy 35.220.254.137:8080\n",
      "Proxy 181.114.61.17:8085 failed for https://www.halfbakedharvest.com/7-easy-fall-dinners/: HTTPSConnectionPool(host='www.halfbakedharvest.com', port=443): Max retries exceeded with url: /7-easy-fall-dinners/ (Caused by ProxyError('Unable to connect to proxy', ConnectTimeoutError(<urllib3.connection.HTTPSConnection object at 0x137a66130>, 'Connection to 181.114.61.17 timed out. (connect timeout=30)')))\n"
     ]
    },
    {
     "data": {
      "application/javascript": [
       "\n",
       "        if (window._pyforest_update_imports_cell) { window._pyforest_update_imports_cell('import re'); }\n",
       "    "
      ],
      "text/plain": [
       "<IPython.core.display.Javascript object>"
      ]
     },
     "metadata": {},
     "output_type": "display_data"
    },
    {
     "data": {
      "application/javascript": [
       "\n",
       "        if (window._pyforest_update_imports_cell) { window._pyforest_update_imports_cell('import re'); }\n",
       "    "
      ],
      "text/plain": [
       "<IPython.core.display.Javascript object>"
      ]
     },
     "metadata": {},
     "output_type": "display_data"
    },
    {
     "data": {
      "application/javascript": [
       "\n",
       "        if (window._pyforest_update_imports_cell) { window._pyforest_update_imports_cell('import re'); }\n",
       "    "
      ],
      "text/plain": [
       "<IPython.core.display.Javascript object>"
      ]
     },
     "metadata": {},
     "output_type": "display_data"
    },
    {
     "name": "stdout",
     "output_type": "stream",
     "text": [
      "Successfully retrieved 106 - https://www.halfbakedharvest.com/pumpkin-beer-pretzels-with-chipotle-queso/ with proxy 35.220.254.137:8080\n",
      "Proxy 181.114.61.17:8085 failed for https://www.halfbakedharvest.com/skinny-cajun-sweet-potato-fries-with-garlic-cheese-sauce/: HTTPSConnectionPool(host='www.halfbakedharvest.com', port=443): Max retries exceeded with url: /skinny-cajun-sweet-potato-fries-with-garlic-cheese-sauce/ (Caused by ProxyError('Unable to connect to proxy', ConnectTimeoutError(<urllib3.connection.HTTPSConnection object at 0x1432e9460>, 'Connection to 181.114.61.17 timed out. (connect timeout=30)')))\n"
     ]
    },
    {
     "data": {
      "application/javascript": [
       "\n",
       "        if (window._pyforest_update_imports_cell) { window._pyforest_update_imports_cell('import re'); }\n",
       "    "
      ],
      "text/plain": [
       "<IPython.core.display.Javascript object>"
      ]
     },
     "metadata": {},
     "output_type": "display_data"
    },
    {
     "data": {
      "application/javascript": [
       "\n",
       "        if (window._pyforest_update_imports_cell) { window._pyforest_update_imports_cell('import re'); }\n",
       "    "
      ],
      "text/plain": [
       "<IPython.core.display.Javascript object>"
      ]
     },
     "metadata": {},
     "output_type": "display_data"
    },
    {
     "data": {
      "application/javascript": [
       "\n",
       "        if (window._pyforest_update_imports_cell) { window._pyforest_update_imports_cell('import re'); }\n",
       "    "
      ],
      "text/plain": [
       "<IPython.core.display.Javascript object>"
      ]
     },
     "metadata": {},
     "output_type": "display_data"
    },
    {
     "name": "stdout",
     "output_type": "stream",
     "text": [
      "Successfully retrieved 108 - https://www.halfbakedharvest.com/cheesy-buffalo-chicken-french-bread/ with proxy 35.220.254.137:8080\n"
     ]
    },
    {
     "data": {
      "application/javascript": [
       "\n",
       "        if (window._pyforest_update_imports_cell) { window._pyforest_update_imports_cell('import re'); }\n",
       "    "
      ],
      "text/plain": [
       "<IPython.core.display.Javascript object>"
      ]
     },
     "metadata": {},
     "output_type": "display_data"
    },
    {
     "data": {
      "application/javascript": [
       "\n",
       "        if (window._pyforest_update_imports_cell) { window._pyforest_update_imports_cell('import re'); }\n",
       "    "
      ],
      "text/plain": [
       "<IPython.core.display.Javascript object>"
      ]
     },
     "metadata": {},
     "output_type": "display_data"
    },
    {
     "data": {
      "application/javascript": [
       "\n",
       "        if (window._pyforest_update_imports_cell) { window._pyforest_update_imports_cell('import re'); }\n",
       "    "
      ],
      "text/plain": [
       "<IPython.core.display.Javascript object>"
      ]
     },
     "metadata": {},
     "output_type": "display_data"
    },
    {
     "name": "stdout",
     "output_type": "stream",
     "text": [
      "Successfully retrieved 109 - https://www.halfbakedharvest.com/market-veggie-board-with-roasted-corn-jalapeno-hummus-honey-whipped-goat-cheese/ with proxy 181.114.61.17:8085\n"
     ]
    },
    {
     "data": {
      "application/javascript": [
       "\n",
       "        if (window._pyforest_update_imports_cell) { window._pyforest_update_imports_cell('import re'); }\n",
       "    "
      ],
      "text/plain": [
       "<IPython.core.display.Javascript object>"
      ]
     },
     "metadata": {},
     "output_type": "display_data"
    },
    {
     "data": {
      "application/javascript": [
       "\n",
       "        if (window._pyforest_update_imports_cell) { window._pyforest_update_imports_cell('import re'); }\n",
       "    "
      ],
      "text/plain": [
       "<IPython.core.display.Javascript object>"
      ]
     },
     "metadata": {},
     "output_type": "display_data"
    },
    {
     "name": "stdout",
     "output_type": "stream",
     "text": [
      "Successfully retrieved 110 - https://www.halfbakedharvest.com/summer-garden-guacamole/ with proxy 35.220.254.137:8080\n",
      "Proxy 181.114.61.17:8085 failed for https://www.halfbakedharvest.com/sweet-chili-butter-grilled-lobster-fries-havarti-cheese/: HTTPSConnectionPool(host='www.halfbakedharvest.com', port=443): Max retries exceeded with url: /sweet-chili-butter-grilled-lobster-fries-havarti-cheese/ (Caused by ProxyError('Unable to connect to proxy', ConnectTimeoutError(<urllib3.connection.HTTPSConnection object at 0x137dd0d60>, 'Connection to 181.114.61.17 timed out. (connect timeout=30)')))\n"
     ]
    },
    {
     "data": {
      "application/javascript": [
       "\n",
       "        if (window._pyforest_update_imports_cell) { window._pyforest_update_imports_cell('import re'); }\n",
       "    "
      ],
      "text/plain": [
       "<IPython.core.display.Javascript object>"
      ]
     },
     "metadata": {},
     "output_type": "display_data"
    },
    {
     "data": {
      "application/javascript": [
       "\n",
       "        if (window._pyforest_update_imports_cell) { window._pyforest_update_imports_cell('import re'); }\n",
       "    "
      ],
      "text/plain": [
       "<IPython.core.display.Javascript object>"
      ]
     },
     "metadata": {},
     "output_type": "display_data"
    },
    {
     "name": "stdout",
     "output_type": "stream",
     "text": [
      "Successfully retrieved 112 - https://www.halfbakedharvest.com/summer-fruit-plate/ with proxy 35.220.254.137:8080\n",
      "Proxy 181.114.61.17:8085 failed for https://www.halfbakedharvest.com/bacon-wrapped-parmesan-broccoli-rabe/: HTTPSConnectionPool(host='www.halfbakedharvest.com', port=443): Max retries exceeded with url: /bacon-wrapped-parmesan-broccoli-rabe/ (Caused by ProxyError('Unable to connect to proxy', ConnectTimeoutError(<urllib3.connection.HTTPSConnection object at 0x1374b3400>, 'Connection to 181.114.61.17 timed out. (connect timeout=30)')))\n"
     ]
    },
    {
     "data": {
      "application/javascript": [
       "\n",
       "        if (window._pyforest_update_imports_cell) { window._pyforest_update_imports_cell('import re'); }\n",
       "    "
      ],
      "text/plain": [
       "<IPython.core.display.Javascript object>"
      ]
     },
     "metadata": {},
     "output_type": "display_data"
    },
    {
     "data": {
      "application/javascript": [
       "\n",
       "        if (window._pyforest_update_imports_cell) { window._pyforest_update_imports_cell('import re'); }\n",
       "    "
      ],
      "text/plain": [
       "<IPython.core.display.Javascript object>"
      ]
     },
     "metadata": {},
     "output_type": "display_data"
    },
    {
     "data": {
      "application/javascript": [
       "\n",
       "        if (window._pyforest_update_imports_cell) { window._pyforest_update_imports_cell('import re'); }\n",
       "    "
      ],
      "text/plain": [
       "<IPython.core.display.Javascript object>"
      ]
     },
     "metadata": {},
     "output_type": "display_data"
    },
    {
     "name": "stdout",
     "output_type": "stream",
     "text": [
      "Successfully retrieved 114 - https://www.halfbakedharvest.com/simple-summer-cheese-board/ with proxy 35.220.254.137:8080\n",
      "Proxy 181.114.61.17:8085 failed for https://www.halfbakedharvest.com/summer-crostini-6-ways/: HTTPSConnectionPool(host='www.halfbakedharvest.com', port=443): Max retries exceeded with url: /summer-crostini-6-ways/ (Caused by ProxyError('Unable to connect to proxy', ConnectTimeoutError(<urllib3.connection.HTTPSConnection object at 0x142f43610>, 'Connection to 181.114.61.17 timed out. (connect timeout=30)')))\n"
     ]
    },
    {
     "data": {
      "application/javascript": [
       "\n",
       "        if (window._pyforest_update_imports_cell) { window._pyforest_update_imports_cell('import re'); }\n",
       "    "
      ],
      "text/plain": [
       "<IPython.core.display.Javascript object>"
      ]
     },
     "metadata": {},
     "output_type": "display_data"
    },
    {
     "data": {
      "application/javascript": [
       "\n",
       "        if (window._pyforest_update_imports_cell) { window._pyforest_update_imports_cell('import re'); }\n",
       "    "
      ],
      "text/plain": [
       "<IPython.core.display.Javascript object>"
      ]
     },
     "metadata": {},
     "output_type": "display_data"
    },
    {
     "name": "stdout",
     "output_type": "stream",
     "text": [
      "Successfully retrieved 116 - https://www.halfbakedharvest.com/farmers-market-hummus/ with proxy 35.220.254.137:8080\n",
      "Proxy 181.114.61.17:8085 failed for https://www.halfbakedharvest.com/southwest-bbq-pork-sliders/: HTTPSConnectionPool(host='www.halfbakedharvest.com', port=443): Max retries exceeded with url: /southwest-bbq-pork-sliders/ (Caused by ProxyError('Unable to connect to proxy', ConnectTimeoutError(<urllib3.connection.HTTPSConnection object at 0x13763d400>, 'Connection to 181.114.61.17 timed out. (connect timeout=30)')))\n"
     ]
    },
    {
     "data": {
      "application/javascript": [
       "\n",
       "        if (window._pyforest_update_imports_cell) { window._pyforest_update_imports_cell('import re'); }\n",
       "    "
      ],
      "text/plain": [
       "<IPython.core.display.Javascript object>"
      ]
     },
     "metadata": {},
     "output_type": "display_data"
    },
    {
     "data": {
      "application/javascript": [
       "\n",
       "        if (window._pyforest_update_imports_cell) { window._pyforest_update_imports_cell('import re'); }\n",
       "    "
      ],
      "text/plain": [
       "<IPython.core.display.Javascript object>"
      ]
     },
     "metadata": {},
     "output_type": "display_data"
    },
    {
     "data": {
      "application/javascript": [
       "\n",
       "        if (window._pyforest_update_imports_cell) { window._pyforest_update_imports_cell('import re'); }\n",
       "    "
      ],
      "text/plain": [
       "<IPython.core.display.Javascript object>"
      ]
     },
     "metadata": {},
     "output_type": "display_data"
    },
    {
     "name": "stdout",
     "output_type": "stream",
     "text": [
      "Successfully retrieved 118 - https://www.halfbakedharvest.com/avocado-veggie-spring-rolls-sweet-thai-mango-sauce/ with proxy 35.220.254.137:8080\n",
      "Proxy 181.114.61.17:8085 failed for https://www.halfbakedharvest.com/mediterranean-antipasto-platter/: HTTPSConnectionPool(host='www.halfbakedharvest.com', port=443): Max retries exceeded with url: /mediterranean-antipasto-platter/ (Caused by ProxyError('Unable to connect to proxy', ConnectTimeoutError(<urllib3.connection.HTTPSConnection object at 0x137b5da60>, 'Connection to 181.114.61.17 timed out. (connect timeout=30)')))\n"
     ]
    },
    {
     "data": {
      "application/javascript": [
       "\n",
       "        if (window._pyforest_update_imports_cell) { window._pyforest_update_imports_cell('import re'); }\n",
       "    "
      ],
      "text/plain": [
       "<IPython.core.display.Javascript object>"
      ]
     },
     "metadata": {},
     "output_type": "display_data"
    },
    {
     "data": {
      "application/javascript": [
       "\n",
       "        if (window._pyforest_update_imports_cell) { window._pyforest_update_imports_cell('import re'); }\n",
       "    "
      ],
      "text/plain": [
       "<IPython.core.display.Javascript object>"
      ]
     },
     "metadata": {},
     "output_type": "display_data"
    },
    {
     "data": {
      "application/javascript": [
       "\n",
       "        if (window._pyforest_update_imports_cell) { window._pyforest_update_imports_cell('import re'); }\n",
       "    "
      ],
      "text/plain": [
       "<IPython.core.display.Javascript object>"
      ]
     },
     "metadata": {},
     "output_type": "display_data"
    },
    {
     "name": "stdout",
     "output_type": "stream",
     "text": [
      "Successfully retrieved 120 - https://www.halfbakedharvest.com/panzanella-style-caprese-asparagus-salad/ with proxy 35.220.254.137:8080\n",
      "Proxy 181.114.61.17:8085 failed for https://www.halfbakedharvest.com/mexican-carnitas-bar/: HTTPSConnectionPool(host='www.halfbakedharvest.com', port=443): Max retries exceeded with url: /mexican-carnitas-bar/ (Caused by ProxyError('Unable to connect to proxy', ConnectTimeoutError(<urllib3.connection.HTTPSConnection object at 0x142f8e400>, 'Connection to 181.114.61.17 timed out. (connect timeout=30)')))\n"
     ]
    },
    {
     "data": {
      "application/javascript": [
       "\n",
       "        if (window._pyforest_update_imports_cell) { window._pyforest_update_imports_cell('import re'); }\n",
       "    "
      ],
      "text/plain": [
       "<IPython.core.display.Javascript object>"
      ]
     },
     "metadata": {},
     "output_type": "display_data"
    },
    {
     "data": {
      "application/javascript": [
       "\n",
       "        if (window._pyforest_update_imports_cell) { window._pyforest_update_imports_cell('import re'); }\n",
       "    "
      ],
      "text/plain": [
       "<IPython.core.display.Javascript object>"
      ]
     },
     "metadata": {},
     "output_type": "display_data"
    },
    {
     "data": {
      "application/javascript": [
       "\n",
       "        if (window._pyforest_update_imports_cell) { window._pyforest_update_imports_cell('import re'); }\n",
       "    "
      ],
      "text/plain": [
       "<IPython.core.display.Javascript object>"
      ]
     },
     "metadata": {},
     "output_type": "display_data"
    },
    {
     "name": "stdout",
     "output_type": "stream",
     "text": [
      "Successfully retrieved 122 - https://www.halfbakedharvest.com/new-crudite-platter/ with proxy 35.220.254.137:8080\n",
      "Proxy 181.114.61.17:8085 failed for https://www.halfbakedharvest.com/artichoke-ricotta-flatbread/: HTTPSConnectionPool(host='www.halfbakedharvest.com', port=443): Max retries exceeded with url: /artichoke-ricotta-flatbread/ (Caused by ProxyError('Unable to connect to proxy', ConnectTimeoutError(<urllib3.connection.HTTPSConnection object at 0x1375d5400>, 'Connection to 181.114.61.17 timed out. (connect timeout=30)')))\n"
     ]
    },
    {
     "data": {
      "application/javascript": [
       "\n",
       "        if (window._pyforest_update_imports_cell) { window._pyforest_update_imports_cell('import re'); }\n",
       "    "
      ],
      "text/plain": [
       "<IPython.core.display.Javascript object>"
      ]
     },
     "metadata": {},
     "output_type": "display_data"
    },
    {
     "data": {
      "application/javascript": [
       "\n",
       "        if (window._pyforest_update_imports_cell) { window._pyforest_update_imports_cell('import re'); }\n",
       "    "
      ],
      "text/plain": [
       "<IPython.core.display.Javascript object>"
      ]
     },
     "metadata": {},
     "output_type": "display_data"
    },
    {
     "data": {
      "application/javascript": [
       "\n",
       "        if (window._pyforest_update_imports_cell) { window._pyforest_update_imports_cell('import re'); }\n",
       "    "
      ],
      "text/plain": [
       "<IPython.core.display.Javascript object>"
      ]
     },
     "metadata": {},
     "output_type": "display_data"
    },
    {
     "name": "stdout",
     "output_type": "stream",
     "text": [
      "Successfully retrieved 124 - https://www.halfbakedharvest.com/brie-stuffed-artichokes/ with proxy 35.220.254.137:8080\n",
      "Proxy 181.114.61.17:8085 failed for https://www.halfbakedharvest.com/salmon-fajita-salad-boats/: HTTPSConnectionPool(host='www.halfbakedharvest.com', port=443): Max retries exceeded with url: /salmon-fajita-salad-boats/ (Caused by ProxyError('Unable to connect to proxy', ConnectTimeoutError(<urllib3.connection.HTTPSConnection object at 0x14348d9d0>, 'Connection to 181.114.61.17 timed out. (connect timeout=30)')))\n"
     ]
    },
    {
     "data": {
      "application/javascript": [
       "\n",
       "        if (window._pyforest_update_imports_cell) { window._pyforest_update_imports_cell('import re'); }\n",
       "    "
      ],
      "text/plain": [
       "<IPython.core.display.Javascript object>"
      ]
     },
     "metadata": {},
     "output_type": "display_data"
    },
    {
     "data": {
      "application/javascript": [
       "\n",
       "        if (window._pyforest_update_imports_cell) { window._pyforest_update_imports_cell('import re'); }\n",
       "    "
      ],
      "text/plain": [
       "<IPython.core.display.Javascript object>"
      ]
     },
     "metadata": {},
     "output_type": "display_data"
    },
    {
     "data": {
      "application/javascript": [
       "\n",
       "        if (window._pyforest_update_imports_cell) { window._pyforest_update_imports_cell('import re'); }\n",
       "    "
      ],
      "text/plain": [
       "<IPython.core.display.Javascript object>"
      ]
     },
     "metadata": {},
     "output_type": "display_data"
    },
    {
     "name": "stdout",
     "output_type": "stream",
     "text": [
      "Successfully retrieved 126 - https://www.halfbakedharvest.com/sticky-mango-curry-oven-baked-boneless-wings/ with proxy 35.220.254.137:8080\n",
      "Proxy 181.114.61.17:8085 failed for https://www.halfbakedharvest.com/margherita-pizza-dip-burrata/: HTTPSConnectionPool(host='www.halfbakedharvest.com', port=443): Max retries exceeded with url: /margherita-pizza-dip-burrata/ (Caused by ProxyError('Unable to connect to proxy', ConnectTimeoutError(<urllib3.connection.HTTPSConnection object at 0x142c7ed90>, 'Connection to 181.114.61.17 timed out. (connect timeout=30)')))\n"
     ]
    },
    {
     "data": {
      "application/javascript": [
       "\n",
       "        if (window._pyforest_update_imports_cell) { window._pyforest_update_imports_cell('import re'); }\n",
       "    "
      ],
      "text/plain": [
       "<IPython.core.display.Javascript object>"
      ]
     },
     "metadata": {},
     "output_type": "display_data"
    },
    {
     "data": {
      "application/javascript": [
       "\n",
       "        if (window._pyforest_update_imports_cell) { window._pyforest_update_imports_cell('import re'); }\n",
       "    "
      ],
      "text/plain": [
       "<IPython.core.display.Javascript object>"
      ]
     },
     "metadata": {},
     "output_type": "display_data"
    },
    {
     "data": {
      "application/javascript": [
       "\n",
       "        if (window._pyforest_update_imports_cell) { window._pyforest_update_imports_cell('import re'); }\n",
       "    "
      ],
      "text/plain": [
       "<IPython.core.display.Javascript object>"
      ]
     },
     "metadata": {},
     "output_type": "display_data"
    },
    {
     "name": "stdout",
     "output_type": "stream",
     "text": [
      "Successfully retrieved 128 - https://www.halfbakedharvest.com/sriracha-buffalo-cauliflower-bites/ with proxy 35.220.254.137:8080\n"
     ]
    },
    {
     "data": {
      "application/javascript": [
       "\n",
       "        if (window._pyforest_update_imports_cell) { window._pyforest_update_imports_cell('import re'); }\n",
       "    "
      ],
      "text/plain": [
       "<IPython.core.display.Javascript object>"
      ]
     },
     "metadata": {},
     "output_type": "display_data"
    },
    {
     "data": {
      "application/javascript": [
       "\n",
       "        if (window._pyforest_update_imports_cell) { window._pyforest_update_imports_cell('import re'); }\n",
       "    "
      ],
      "text/plain": [
       "<IPython.core.display.Javascript object>"
      ]
     },
     "metadata": {},
     "output_type": "display_data"
    },
    {
     "data": {
      "application/javascript": [
       "\n",
       "        if (window._pyforest_update_imports_cell) { window._pyforest_update_imports_cell('import re'); }\n",
       "    "
      ],
      "text/plain": [
       "<IPython.core.display.Javascript object>"
      ]
     },
     "metadata": {},
     "output_type": "display_data"
    },
    {
     "name": "stdout",
     "output_type": "stream",
     "text": [
      "Successfully retrieved 129 - https://www.halfbakedharvest.com/roasted-beet-hummus-video/ with proxy 181.114.61.17:8085\n"
     ]
    },
    {
     "data": {
      "application/javascript": [
       "\n",
       "        if (window._pyforest_update_imports_cell) { window._pyforest_update_imports_cell('import re'); }\n",
       "    "
      ],
      "text/plain": [
       "<IPython.core.display.Javascript object>"
      ]
     },
     "metadata": {},
     "output_type": "display_data"
    },
    {
     "data": {
      "application/javascript": [
       "\n",
       "        if (window._pyforest_update_imports_cell) { window._pyforest_update_imports_cell('import re'); }\n",
       "    "
      ],
      "text/plain": [
       "<IPython.core.display.Javascript object>"
      ]
     },
     "metadata": {},
     "output_type": "display_data"
    },
    {
     "data": {
      "application/javascript": [
       "\n",
       "        if (window._pyforest_update_imports_cell) { window._pyforest_update_imports_cell('import re'); }\n",
       "    "
      ],
      "text/plain": [
       "<IPython.core.display.Javascript object>"
      ]
     },
     "metadata": {},
     "output_type": "display_data"
    },
    {
     "name": "stdout",
     "output_type": "stream",
     "text": [
      "Successfully retrieved 130 - https://www.halfbakedharvest.com/sweet-potato-and-black-bean-nachos-with-green-chile-salsa/ with proxy 35.220.254.137:8080\n",
      "Proxy 181.114.61.17:8085 failed for https://www.halfbakedharvest.com/queso-fundido-alla-tequila/: HTTPSConnectionPool(host='www.halfbakedharvest.com', port=443): Max retries exceeded with url: /queso-fundido-alla-tequila/ (Caused by ProxyError('Unable to connect to proxy', ConnectTimeoutError(<urllib3.connection.HTTPSConnection object at 0x13758fa00>, 'Connection to 181.114.61.17 timed out. (connect timeout=30)')))\n"
     ]
    },
    {
     "data": {
      "application/javascript": [
       "\n",
       "        if (window._pyforest_update_imports_cell) { window._pyforest_update_imports_cell('import re'); }\n",
       "    "
      ],
      "text/plain": [
       "<IPython.core.display.Javascript object>"
      ]
     },
     "metadata": {},
     "output_type": "display_data"
    },
    {
     "data": {
      "application/javascript": [
       "\n",
       "        if (window._pyforest_update_imports_cell) { window._pyforest_update_imports_cell('import re'); }\n",
       "    "
      ],
      "text/plain": [
       "<IPython.core.display.Javascript object>"
      ]
     },
     "metadata": {},
     "output_type": "display_data"
    },
    {
     "data": {
      "application/javascript": [
       "\n",
       "        if (window._pyforest_update_imports_cell) { window._pyforest_update_imports_cell('import re'); }\n",
       "    "
      ],
      "text/plain": [
       "<IPython.core.display.Javascript object>"
      ]
     },
     "metadata": {},
     "output_type": "display_data"
    },
    {
     "name": "stdout",
     "output_type": "stream",
     "text": [
      "Successfully retrieved 132 - https://www.halfbakedharvest.com/pomegranate-guacamole-with-fried-plantain-chips/ with proxy 35.220.254.137:8080\n"
     ]
    },
    {
     "data": {
      "application/javascript": [
       "\n",
       "        if (window._pyforest_update_imports_cell) { window._pyforest_update_imports_cell('import re'); }\n",
       "    "
      ],
      "text/plain": [
       "<IPython.core.display.Javascript object>"
      ]
     },
     "metadata": {},
     "output_type": "display_data"
    },
    {
     "data": {
      "application/javascript": [
       "\n",
       "        if (window._pyforest_update_imports_cell) { window._pyforest_update_imports_cell('import re'); }\n",
       "    "
      ],
      "text/plain": [
       "<IPython.core.display.Javascript object>"
      ]
     },
     "metadata": {},
     "output_type": "display_data"
    },
    {
     "data": {
      "application/javascript": [
       "\n",
       "        if (window._pyforest_update_imports_cell) { window._pyforest_update_imports_cell('import re'); }\n",
       "    "
      ],
      "text/plain": [
       "<IPython.core.display.Javascript object>"
      ]
     },
     "metadata": {},
     "output_type": "display_data"
    },
    {
     "data": {
      "application/javascript": [
       "\n",
       "        if (window._pyforest_update_imports_cell) { window._pyforest_update_imports_cell('import re'); }\n",
       "    "
      ],
      "text/plain": [
       "<IPython.core.display.Javascript object>"
      ]
     },
     "metadata": {},
     "output_type": "display_data"
    },
    {
     "name": "stdout",
     "output_type": "stream",
     "text": [
      "Successfully retrieved 133 - https://www.halfbakedharvest.com/easy-crockpot-christmas-eve-chex-mix/ with proxy 181.114.61.17:8085\n"
     ]
    },
    {
     "data": {
      "application/javascript": [
       "\n",
       "        if (window._pyforest_update_imports_cell) { window._pyforest_update_imports_cell('import re'); }\n",
       "    "
      ],
      "text/plain": [
       "<IPython.core.display.Javascript object>"
      ]
     },
     "metadata": {},
     "output_type": "display_data"
    },
    {
     "data": {
      "application/javascript": [
       "\n",
       "        if (window._pyforest_update_imports_cell) { window._pyforest_update_imports_cell('import re'); }\n",
       "    "
      ],
      "text/plain": [
       "<IPython.core.display.Javascript object>"
      ]
     },
     "metadata": {},
     "output_type": "display_data"
    },
    {
     "data": {
      "application/javascript": [
       "\n",
       "        if (window._pyforest_update_imports_cell) { window._pyforest_update_imports_cell('import re'); }\n",
       "    "
      ],
      "text/plain": [
       "<IPython.core.display.Javascript object>"
      ]
     },
     "metadata": {},
     "output_type": "display_data"
    },
    {
     "data": {
      "application/javascript": [
       "\n",
       "        if (window._pyforest_update_imports_cell) { window._pyforest_update_imports_cell('import re'); }\n",
       "    "
      ],
      "text/plain": [
       "<IPython.core.display.Javascript object>"
      ]
     },
     "metadata": {},
     "output_type": "display_data"
    },
    {
     "name": "stdout",
     "output_type": "stream",
     "text": [
      "Successfully retrieved 134 - https://www.halfbakedharvest.com/honey-baked-brie-seasoned-pretzels-easy-christmas-appetizer/ with proxy 35.220.254.137:8080\n"
     ]
    },
    {
     "data": {
      "application/javascript": [
       "\n",
       "        if (window._pyforest_update_imports_cell) { window._pyforest_update_imports_cell('import re'); }\n",
       "    "
      ],
      "text/plain": [
       "<IPython.core.display.Javascript object>"
      ]
     },
     "metadata": {},
     "output_type": "display_data"
    },
    {
     "data": {
      "application/javascript": [
       "\n",
       "        if (window._pyforest_update_imports_cell) { window._pyforest_update_imports_cell('import re'); }\n",
       "    "
      ],
      "text/plain": [
       "<IPython.core.display.Javascript object>"
      ]
     },
     "metadata": {},
     "output_type": "display_data"
    },
    {
     "data": {
      "application/javascript": [
       "\n",
       "        if (window._pyforest_update_imports_cell) { window._pyforest_update_imports_cell('import re'); }\n",
       "    "
      ],
      "text/plain": [
       "<IPython.core.display.Javascript object>"
      ]
     },
     "metadata": {},
     "output_type": "display_data"
    },
    {
     "name": "stdout",
     "output_type": "stream",
     "text": [
      "Successfully retrieved 135 - https://www.halfbakedharvest.com/caramelized-pineapple-ham-and-cheese-turnovers/ with proxy 181.114.61.17:8085\n"
     ]
    },
    {
     "data": {
      "application/javascript": [
       "\n",
       "        if (window._pyforest_update_imports_cell) { window._pyforest_update_imports_cell('import re'); }\n",
       "    "
      ],
      "text/plain": [
       "<IPython.core.display.Javascript object>"
      ]
     },
     "metadata": {},
     "output_type": "display_data"
    },
    {
     "data": {
      "application/javascript": [
       "\n",
       "        if (window._pyforest_update_imports_cell) { window._pyforest_update_imports_cell('import re'); }\n",
       "    "
      ],
      "text/plain": [
       "<IPython.core.display.Javascript object>"
      ]
     },
     "metadata": {},
     "output_type": "display_data"
    },
    {
     "data": {
      "application/javascript": [
       "\n",
       "        if (window._pyforest_update_imports_cell) { window._pyforest_update_imports_cell('import re'); }\n",
       "    "
      ],
      "text/plain": [
       "<IPython.core.display.Javascript object>"
      ]
     },
     "metadata": {},
     "output_type": "display_data"
    },
    {
     "name": "stdout",
     "output_type": "stream",
     "text": [
      "Successfully retrieved 136 - https://www.halfbakedharvest.com/crispy-prosciutto-baked-brie-bites-with-honey-pears-walnuts/ with proxy 35.220.254.137:8080\n",
      "Proxy 181.114.61.17:8085 failed for https://www.halfbakedharvest.com/the-big-holiday-hummus-board-with-roasted-root-veggie-chips/: HTTPSConnectionPool(host='www.halfbakedharvest.com', port=443): Max retries exceeded with url: /the-big-holiday-hummus-board-with-roasted-root-veggie-chips/ (Caused by ProxyError('Unable to connect to proxy', ConnectTimeoutError(<urllib3.connection.HTTPSConnection object at 0x137da5640>, 'Connection to 181.114.61.17 timed out. (connect timeout=30)')))\n"
     ]
    },
    {
     "data": {
      "application/javascript": [
       "\n",
       "        if (window._pyforest_update_imports_cell) { window._pyforest_update_imports_cell('import re'); }\n",
       "    "
      ],
      "text/plain": [
       "<IPython.core.display.Javascript object>"
      ]
     },
     "metadata": {},
     "output_type": "display_data"
    },
    {
     "data": {
      "application/javascript": [
       "\n",
       "        if (window._pyforest_update_imports_cell) { window._pyforest_update_imports_cell('import re'); }\n",
       "    "
      ],
      "text/plain": [
       "<IPython.core.display.Javascript object>"
      ]
     },
     "metadata": {},
     "output_type": "display_data"
    },
    {
     "data": {
      "application/javascript": [
       "\n",
       "        if (window._pyforest_update_imports_cell) { window._pyforest_update_imports_cell('import re'); }\n",
       "    "
      ],
      "text/plain": [
       "<IPython.core.display.Javascript object>"
      ]
     },
     "metadata": {},
     "output_type": "display_data"
    },
    {
     "data": {
      "application/javascript": [
       "\n",
       "        if (window._pyforest_update_imports_cell) { window._pyforest_update_imports_cell('import re'); }\n",
       "    "
      ],
      "text/plain": [
       "<IPython.core.display.Javascript object>"
      ]
     },
     "metadata": {},
     "output_type": "display_data"
    },
    {
     "name": "stdout",
     "output_type": "stream",
     "text": [
      "Successfully retrieved 138 - https://www.halfbakedharvest.com/deathly-hallows-cheese-board/ with proxy 35.220.254.137:8080\n",
      "Proxy 181.114.61.17:8085 failed for https://www.halfbakedharvest.com/simple-baked-italian-oregano-meatballs/: HTTPSConnectionPool(host='www.halfbakedharvest.com', port=443): Max retries exceeded with url: /simple-baked-italian-oregano-meatballs/ (Caused by ProxyError('Unable to connect to proxy', ConnectTimeoutError(<urllib3.connection.HTTPSConnection object at 0x1377d03d0>, 'Connection to 181.114.61.17 timed out. (connect timeout=30)')))\n"
     ]
    },
    {
     "data": {
      "application/javascript": [
       "\n",
       "        if (window._pyforest_update_imports_cell) { window._pyforest_update_imports_cell('import re'); }\n",
       "    "
      ],
      "text/plain": [
       "<IPython.core.display.Javascript object>"
      ]
     },
     "metadata": {},
     "output_type": "display_data"
    },
    {
     "data": {
      "application/javascript": [
       "\n",
       "        if (window._pyforest_update_imports_cell) { window._pyforest_update_imports_cell('import re'); }\n",
       "    "
      ],
      "text/plain": [
       "<IPython.core.display.Javascript object>"
      ]
     },
     "metadata": {},
     "output_type": "display_data"
    },
    {
     "data": {
      "application/javascript": [
       "\n",
       "        if (window._pyforest_update_imports_cell) { window._pyforest_update_imports_cell('import re'); }\n",
       "    "
      ],
      "text/plain": [
       "<IPython.core.display.Javascript object>"
      ]
     },
     "metadata": {},
     "output_type": "display_data"
    },
    {
     "name": "stdout",
     "output_type": "stream",
     "text": [
      "Successfully retrieved 140 - https://www.halfbakedharvest.com/easy-enchilada-beef-nachos/ with proxy 35.220.254.137:8080\n",
      "Proxy 181.114.61.17:8085 failed for https://www.halfbakedharvest.com/fall-harvest-peanut-picnic-a-family-hike/: ('Connection aborted.', RemoteDisconnected('Remote end closed connection without response'))\n"
     ]
    },
    {
     "data": {
      "application/javascript": [
       "\n",
       "        if (window._pyforest_update_imports_cell) { window._pyforest_update_imports_cell('import re'); }\n",
       "    "
      ],
      "text/plain": [
       "<IPython.core.display.Javascript object>"
      ]
     },
     "metadata": {},
     "output_type": "display_data"
    },
    {
     "data": {
      "application/javascript": [
       "\n",
       "        if (window._pyforest_update_imports_cell) { window._pyforest_update_imports_cell('import re'); }\n",
       "    "
      ],
      "text/plain": [
       "<IPython.core.display.Javascript object>"
      ]
     },
     "metadata": {},
     "output_type": "display_data"
    },
    {
     "data": {
      "application/javascript": [
       "\n",
       "        if (window._pyforest_update_imports_cell) { window._pyforest_update_imports_cell('import re'); }\n",
       "    "
      ],
      "text/plain": [
       "<IPython.core.display.Javascript object>"
      ]
     },
     "metadata": {},
     "output_type": "display_data"
    },
    {
     "name": "stdout",
     "output_type": "stream",
     "text": [
      "Successfully retrieved 142 - https://www.halfbakedharvest.com/crispy-buffalo-cheddar-potato-nachos/ with proxy 35.220.254.137:8080\n"
     ]
    },
    {
     "data": {
      "application/javascript": [
       "\n",
       "        if (window._pyforest_update_imports_cell) { window._pyforest_update_imports_cell('import re'); }\n",
       "    "
      ],
      "text/plain": [
       "<IPython.core.display.Javascript object>"
      ]
     },
     "metadata": {},
     "output_type": "display_data"
    },
    {
     "data": {
      "application/javascript": [
       "\n",
       "        if (window._pyforest_update_imports_cell) { window._pyforest_update_imports_cell('import re'); }\n",
       "    "
      ],
      "text/plain": [
       "<IPython.core.display.Javascript object>"
      ]
     },
     "metadata": {},
     "output_type": "display_data"
    },
    {
     "data": {
      "application/javascript": [
       "\n",
       "        if (window._pyforest_update_imports_cell) { window._pyforest_update_imports_cell('import re'); }\n",
       "    "
      ],
      "text/plain": [
       "<IPython.core.display.Javascript object>"
      ]
     },
     "metadata": {},
     "output_type": "display_data"
    },
    {
     "name": "stdout",
     "output_type": "stream",
     "text": [
      "Successfully retrieved 143 - https://www.halfbakedharvest.com/cheesy-miso-caramelized-corn-and-pineapple-chile-dip/ with proxy 181.114.61.17:8085\n"
     ]
    },
    {
     "data": {
      "application/javascript": [
       "\n",
       "        if (window._pyforest_update_imports_cell) { window._pyforest_update_imports_cell('import re'); }\n",
       "    "
      ],
      "text/plain": [
       "<IPython.core.display.Javascript object>"
      ]
     },
     "metadata": {},
     "output_type": "display_data"
    },
    {
     "data": {
      "application/javascript": [
       "\n",
       "        if (window._pyforest_update_imports_cell) { window._pyforest_update_imports_cell('import re'); }\n",
       "    "
      ],
      "text/plain": [
       "<IPython.core.display.Javascript object>"
      ]
     },
     "metadata": {},
     "output_type": "display_data"
    },
    {
     "name": "stdout",
     "output_type": "stream",
     "text": [
      "Successfully retrieved 144 - https://www.halfbakedharvest.com/summer-fruit-salsa-and-pesto-hummus/ with proxy 35.220.254.137:8080\n",
      "Proxy 181.114.61.17:8085 failed for https://www.halfbakedharvest.com/how-to-make-a-killer-summer-cheeseboard-with-pickled-strawberries-herb-roasted-cherry-tomatoes/: HTTPSConnectionPool(host='www.halfbakedharvest.com', port=443): Max retries exceeded with url: /how-to-make-a-killer-summer-cheeseboard-with-pickled-strawberries-herb-roasted-cherry-tomatoes/ (Caused by ProxyError('Unable to connect to proxy', ConnectTimeoutError(<urllib3.connection.HTTPSConnection object at 0x13769cbe0>, 'Connection to 181.114.61.17 timed out. (connect timeout=30)')))\n"
     ]
    },
    {
     "data": {
      "application/javascript": [
       "\n",
       "        if (window._pyforest_update_imports_cell) { window._pyforest_update_imports_cell('import re'); }\n",
       "    "
      ],
      "text/plain": [
       "<IPython.core.display.Javascript object>"
      ]
     },
     "metadata": {},
     "output_type": "display_data"
    },
    {
     "data": {
      "application/javascript": [
       "\n",
       "        if (window._pyforest_update_imports_cell) { window._pyforest_update_imports_cell('import re'); }\n",
       "    "
      ],
      "text/plain": [
       "<IPython.core.display.Javascript object>"
      ]
     },
     "metadata": {},
     "output_type": "display_data"
    },
    {
     "data": {
      "application/javascript": [
       "\n",
       "        if (window._pyforest_update_imports_cell) { window._pyforest_update_imports_cell('import re'); }\n",
       "    "
      ],
      "text/plain": [
       "<IPython.core.display.Javascript object>"
      ]
     },
     "metadata": {},
     "output_type": "display_data"
    },
    {
     "name": "stdout",
     "output_type": "stream",
     "text": [
      "Successfully retrieved 146 - https://www.halfbakedharvest.com/skinny-greek-feta-fries-with-roasted-garlic-saffron-aioli/ with proxy 35.220.254.137:8080\n"
     ]
    },
    {
     "data": {
      "application/javascript": [
       "\n",
       "        if (window._pyforest_update_imports_cell) { window._pyforest_update_imports_cell('import re'); }\n",
       "    "
      ],
      "text/plain": [
       "<IPython.core.display.Javascript object>"
      ]
     },
     "metadata": {},
     "output_type": "display_data"
    },
    {
     "data": {
      "application/javascript": [
       "\n",
       "        if (window._pyforest_update_imports_cell) { window._pyforest_update_imports_cell('import re'); }\n",
       "    "
      ],
      "text/plain": [
       "<IPython.core.display.Javascript object>"
      ]
     },
     "metadata": {},
     "output_type": "display_data"
    },
    {
     "data": {
      "application/javascript": [
       "\n",
       "        if (window._pyforest_update_imports_cell) { window._pyforest_update_imports_cell('import re'); }\n",
       "    "
      ],
      "text/plain": [
       "<IPython.core.display.Javascript object>"
      ]
     },
     "metadata": {},
     "output_type": "display_data"
    },
    {
     "name": "stdout",
     "output_type": "stream",
     "text": [
      "Successfully retrieved 147 - https://www.halfbakedharvest.com/tomato-salami-and-chunky-arugula-basil-pesto-bruschetta/ with proxy 181.114.61.17:8085\n"
     ]
    },
    {
     "data": {
      "application/javascript": [
       "\n",
       "        if (window._pyforest_update_imports_cell) { window._pyforest_update_imports_cell('import re'); }\n",
       "    "
      ],
      "text/plain": [
       "<IPython.core.display.Javascript object>"
      ]
     },
     "metadata": {},
     "output_type": "display_data"
    },
    {
     "data": {
      "application/javascript": [
       "\n",
       "        if (window._pyforest_update_imports_cell) { window._pyforest_update_imports_cell('import re'); }\n",
       "    "
      ],
      "text/plain": [
       "<IPython.core.display.Javascript object>"
      ]
     },
     "metadata": {},
     "output_type": "display_data"
    },
    {
     "data": {
      "application/javascript": [
       "\n",
       "        if (window._pyforest_update_imports_cell) { window._pyforest_update_imports_cell('import re'); }\n",
       "    "
      ],
      "text/plain": [
       "<IPython.core.display.Javascript object>"
      ]
     },
     "metadata": {},
     "output_type": "display_data"
    },
    {
     "name": "stdout",
     "output_type": "stream",
     "text": [
      "Successfully retrieved 148 - https://www.halfbakedharvest.com/quick-balsamic-fig-roasted-tomato-and-burrata-cheese-tarts/ with proxy 35.220.254.137:8080\n",
      "Proxy 181.114.61.17:8085 failed for https://www.halfbakedharvest.com/kentucky-hot-brown-sandwiches-jalapeno-cornbread-biscuits-honey-bourbon-bacon/: ('Connection aborted.', RemoteDisconnected('Remote end closed connection without response'))\n"
     ]
    }
   ],
   "source": [
    "# Read proxies from the file and create a cycle iterator\n",
    "with open('proxies.txt', 'r') as f:\n",
    "    proxies = [line.strip() for line in f if line.strip()]\n",
    "\n",
    "# Check if proxies are being read correctly\n",
    "if not proxies:\n",
    "    print(\"No valid proxies found in proxies.txt\")\n",
    "else:\n",
    "    print(f\"Proxies loaded: {proxies}\")\n",
    "\n",
    "proxy_cycle = itertools.cycle(proxies)\n",
    "\n",
    "# Initialize an empty DataFrame to store results\n",
    "temp_recipes_1 = pd.DataFrame(columns=columns)\n",
    "title = []\n",
    "prep_time = []\n",
    "cook_time = []\n",
    "total_time = []\n",
    "\n",
    "ingredients_measurment = []\n",
    "ingredients = []\n",
    "instructions = []\n",
    "\n",
    "calories = []\n",
    "servings = []\n",
    "images = []\n",
    "\n",
    "# Loop over the desired number of pages\n",
    "for i in range(0, 150):\n",
    "    proxy = next(proxy_cycle)\n",
    "\n",
    "    # Set up request with proxy\n",
    "    headers = {'User-Agent': 'Mozilla/5.0 (Windows NT 6.3; Win64; x64) AppleWebKit/537.36 (KHTML, like Gecko) Chrome/80.0.3987.162 Safari/537.36'}\n",
    "    url = all_recipes_url[i]\n",
    "    proxy_dict = {'http': proxy, 'https': proxy}\n",
    "\n",
    "    try:\n",
    "        response = requests.get(url, headers=headers, proxies=proxy_dict, timeout=30)\n",
    "        \n",
    "        # Check if the request was successful\n",
    "        if response.status_code == 200:\n",
    "            soup = BeautifulSoup(response.content, 'html.parser')\n",
    "            extract(soup)\n",
    "            print(f\"Successfully retrieved {i} - {url} with proxy {proxy}\")\n",
    "        else:\n",
    "            failed_url.append(url)\n",
    "            print(f\"Failed to retrieve page {url} with proxy {proxy}. Status code: {response.status_code}\")\n",
    "    except (requests.ConnectionError, requests.Timeout) as e:\n",
    "        failed_url.append(url)\n",
    "        print(f\"Proxy {proxy} failed for {url}: {e}\")\n",
    "    except ChunkedEncodingError as e:  # Handle ChunkedEncodingError\n",
    "        failed_url.append(url)\n",
    "        print(f\"ChunkedEncodingError occurred for proxy {proxy} and {url}: {e}\")\n",
    "        continue  # Move to the next page\n",
    "\n",
    "\n",
    "\n",
    "temp_recipes_1['title'] = title\n",
    "temp_recipes_1['prep_time'] = prep_time\n",
    "temp_recipes_1['cook_time'] = cook_time\n",
    "temp_recipes_1['total_time'] = total_time\n",
    "temp_recipes_1['ingredients'] = ingredients\n",
    "temp_recipes_1['ingredients with measurement'] = ingredients_measurment\n",
    "temp_recipes_1['instructions'] = instructions\n",
    "temp_recipes_1['calories'] = calories\n",
    "temp_recipes_1['servings'] = servings\n",
    "temp_recipes_1['images']= images\n",
    "\n",
    "\n",
    "\n",
    "    "
   ]
  },
  {
   "cell_type": "code",
   "execution_count": 9,
   "id": "47437d82",
   "metadata": {},
   "outputs": [
    {
     "name": "stdout",
     "output_type": "stream",
     "text": [
      "55\n"
     ]
    }
   ],
   "source": [
    "print(len(failed_url))"
   ]
  },
  {
   "cell_type": "code",
   "execution_count": 11,
   "id": "17979e50",
   "metadata": {
    "scrolled": true
   },
   "outputs": [
    {
     "data": {
      "text/plain": [
       "['https://www.halfbakedharvest.com/tomato-cheese-pie/',\n",
       " 'https://www.halfbakedharvest.com/garlic-oil-feta-dip/',\n",
       " 'https://www.halfbakedharvest.com/fried-goat-cheese-balls/',\n",
       " 'https://www.halfbakedharvest.com/popular-holiday-appetizers-and-cocktails-mocktails/',\n",
       " 'https://www.halfbakedharvest.com/beef-tenderloin-crostini/',\n",
       " 'https://www.halfbakedharvest.com/the-50-most-popular-fall-recipes/',\n",
       " 'https://www.halfbakedharvest.com/parmesan-buffalo-chicken-wings/',\n",
       " 'https://www.halfbakedharvest.com/mezze-platter/',\n",
       " 'https://www.halfbakedharvest.com/jalapeno-cheddar-cornbread-biscuits/',\n",
       " 'https://www.halfbakedharvest.com/street-corn-dip-sliders/',\n",
       " 'https://www.halfbakedharvest.com/baked-artichokes/',\n",
       " 'https://www.halfbakedharvest.com/hot-honey-cauliflower/',\n",
       " 'https://www.halfbakedharvest.com/chicken-enchilada-bean-dip/',\n",
       " 'https://www.halfbakedharvest.com/everything-ranch-crackers-and-pretzels/',\n",
       " 'https://www.halfbakedharvest.com/bacon-wrapped-cheddar-corn-jalapeno-poppers/',\n",
       " 'https://www.halfbakedharvest.com/roasted-tomato-cheddar-tart/',\n",
       " 'https://www.halfbakedharvest.com/mac-and-cheese-stuffed-oven-fried-zucchini-bites/',\n",
       " 'https://www.halfbakedharvest.com/crispy-bbq-beer-battered-cauliflower-nuggets/',\n",
       " 'https://www.halfbakedharvest.com/pan-fried-brie/',\n",
       " 'https://www.halfbakedharvest.com/crispy-chicken-tinga-taquitos/',\n",
       " 'https://www.halfbakedharvest.com/honey-mustard-pretzel-chicken-fingers/',\n",
       " 'https://www.halfbakedharvest.com/tuscan-fries/',\n",
       " 'https://www.halfbakedharvest.com/garlic-butter-scallops/',\n",
       " 'https://www.halfbakedharvest.com/whipped-ricotta-toast/',\n",
       " 'https://www.halfbakedharvest.com/burrata-with-lemon-pepper-salami-bites/',\n",
       " 'https://www.halfbakedharvest.com/baked-brie-and-prosciutto-rolls/',\n",
       " 'https://www.halfbakedharvest.com/sweet-n-savory-roasted-nuts-and-pretzels/',\n",
       " 'https://www.halfbakedharvest.com/honey-butter-roasted-acorn-with-burrata-and-pomegranate/',\n",
       " 'https://www.halfbakedharvest.com/opened-faced-tomato-and-goat-cheese-sandwich-with-hot-bacon-vinaigrette/',\n",
       " 'https://www.halfbakedharvest.com/10-minute-garden-herb-avocado-dip/',\n",
       " 'https://www.halfbakedharvest.com/tuscan-summer-stone-fruit-tomato-and-burrata-panzanella-salad/',\n",
       " 'https://www.halfbakedharvest.com/caprese-burrata-garlic-bread/',\n",
       " 'https://www.halfbakedharvest.com/honey-raspberry-brie-crostini-with-basil-oil/',\n",
       " 'https://www.halfbakedharvest.com/baked-thai-coconut-shrimp-with-lemongrass-guacamole/',\n",
       " 'https://www.halfbakedharvest.com/roasted-red-pepper-meze-platter/',\n",
       " 'https://www.halfbakedharvest.com/black-bean-turkey-nachos-with-jalapeno-yogurt/',\n",
       " 'https://www.halfbakedharvest.com/3-ingredient-cheesy-pizza-pretzels/',\n",
       " 'https://www.halfbakedharvest.com/cranberry-brie-pull-apart-bread/',\n",
       " 'https://www.halfbakedharvest.com/7-easy-fall-dinners/',\n",
       " 'https://www.halfbakedharvest.com/skinny-cajun-sweet-potato-fries-with-garlic-cheese-sauce/',\n",
       " 'https://www.halfbakedharvest.com/sweet-chili-butter-grilled-lobster-fries-havarti-cheese/',\n",
       " 'https://www.halfbakedharvest.com/bacon-wrapped-parmesan-broccoli-rabe/',\n",
       " 'https://www.halfbakedharvest.com/summer-crostini-6-ways/',\n",
       " 'https://www.halfbakedharvest.com/southwest-bbq-pork-sliders/',\n",
       " 'https://www.halfbakedharvest.com/mediterranean-antipasto-platter/',\n",
       " 'https://www.halfbakedharvest.com/mexican-carnitas-bar/',\n",
       " 'https://www.halfbakedharvest.com/artichoke-ricotta-flatbread/',\n",
       " 'https://www.halfbakedharvest.com/salmon-fajita-salad-boats/',\n",
       " 'https://www.halfbakedharvest.com/margherita-pizza-dip-burrata/',\n",
       " 'https://www.halfbakedharvest.com/queso-fundido-alla-tequila/',\n",
       " 'https://www.halfbakedharvest.com/the-big-holiday-hummus-board-with-roasted-root-veggie-chips/',\n",
       " 'https://www.halfbakedharvest.com/simple-baked-italian-oregano-meatballs/',\n",
       " 'https://www.halfbakedharvest.com/fall-harvest-peanut-picnic-a-family-hike/',\n",
       " 'https://www.halfbakedharvest.com/how-to-make-a-killer-summer-cheeseboard-with-pickled-strawberries-herb-roasted-cherry-tomatoes/',\n",
       " 'https://www.halfbakedharvest.com/kentucky-hot-brown-sandwiches-jalapeno-cornbread-biscuits-honey-bourbon-bacon/']"
      ]
     },
     "execution_count": 11,
     "metadata": {},
     "output_type": "execute_result"
    }
   ],
   "source": [
    "failed_url"
   ]
  },
  {
   "cell_type": "code",
   "execution_count": 12,
   "id": "8cdd5073",
   "metadata": {},
   "outputs": [
    {
     "data": {
      "text/html": [
       "<div>\n",
       "<style scoped>\n",
       "    .dataframe tbody tr th:only-of-type {\n",
       "        vertical-align: middle;\n",
       "    }\n",
       "\n",
       "    .dataframe tbody tr th {\n",
       "        vertical-align: top;\n",
       "    }\n",
       "\n",
       "    .dataframe thead th {\n",
       "        text-align: right;\n",
       "    }\n",
       "</style>\n",
       "<table border=\"1\" class=\"dataframe\">\n",
       "  <thead>\n",
       "    <tr style=\"text-align: right;\">\n",
       "      <th></th>\n",
       "      <th>title</th>\n",
       "      <th>prep_time</th>\n",
       "      <th>cook_time</th>\n",
       "      <th>total_time</th>\n",
       "      <th>ingredients</th>\n",
       "      <th>ingredients with measurement</th>\n",
       "      <th>instructions</th>\n",
       "      <th>calories</th>\n",
       "      <th>servings</th>\n",
       "      <th>images</th>\n",
       "    </tr>\n",
       "  </thead>\n",
       "  <tbody>\n",
       "    <tr>\n",
       "      <th>0</th>\n",
       "      <td>Sour Cream and Onion Smashed Potatoes</td>\n",
       "      <td>{'minutes': '15'}</td>\n",
       "      <td>{'hours': '1'}</td>\n",
       "      <td>{'hours': '1', 'minutes': '15'}</td>\n",
       "      <td>[small to medium potatoes, beer, sea salt and ...</td>\n",
       "      <td>{'small to medium potatoes': '1', 'beer': '1',...</td>\n",
       "      <td>[1. Preheat the oven to 400° F., 2. Arrange th...</td>\n",
       "      <td>136 kcal</td>\n",
       "      <td>6</td>\n",
       "      <td>https://www.halfbakedharvest.com/wp-content/up...</td>\n",
       "    </tr>\n",
       "    <tr>\n",
       "      <th>1</th>\n",
       "      <td>Open Face Tomato Bacon Sandwich</td>\n",
       "      <td>{'minutes': '15'}</td>\n",
       "      <td>{'minutes': '10'}</td>\n",
       "      <td>{'minutes': '25'}</td>\n",
       "      <td>[thick-cut bacon, chopped, extra virgin olive ...</td>\n",
       "      <td>{'thick-cut bacon, chopped': '6', 'extra virgi...</td>\n",
       "      <td>[1. To make the dressing. Combine all ingredie...</td>\n",
       "      <td>641 kcal</td>\n",
       "      <td>6</td>\n",
       "      <td>https://www.halfbakedharvest.com/wp-content/up...</td>\n",
       "    </tr>\n",
       "    <tr>\n",
       "      <th>2</th>\n",
       "      <td>Effortless Marinated Burrata</td>\n",
       "      <td>{'minutes': '10'}</td>\n",
       "      <td>{'minutes': '10'}</td>\n",
       "      <td>{'minutes': '20'}</td>\n",
       "      <td>[marinated mozzarella balls, fresh burrata che...</td>\n",
       "      <td>{'marinated mozzarella balls': '1', 'fresh bur...</td>\n",
       "      <td>[1. Arrange the burrata in a shallow serving b...</td>\n",
       "      <td>372 kcal</td>\n",
       "      <td>8</td>\n",
       "      <td>https://www.halfbakedharvest.com/wp-content/up...</td>\n",
       "    </tr>\n",
       "    <tr>\n",
       "      <th>3</th>\n",
       "      <td>Pull Apart Cheeseburger Sliders.</td>\n",
       "      <td>{'minutes': '20'}</td>\n",
       "      <td>{'minutes': '30'}</td>\n",
       "      <td>{'minutes': '50'}</td>\n",
       "      <td>[mayo, sweet Thai chili sauce, tamari/soy sauc...</td>\n",
       "      <td>{'mayo': '1/2', 'sweet Thai chili sauce': '1/3...</td>\n",
       "      <td>[1. To make the sauce: combine all ingredients...</td>\n",
       "      <td>294 kcal</td>\n",
       "      <td>12</td>\n",
       "      <td>https://www.halfbakedharvest.com/wp-content/up...</td>\n",
       "    </tr>\n",
       "    <tr>\n",
       "      <th>4</th>\n",
       "      <td>-</td>\n",
       "      <td>-</td>\n",
       "      <td>-</td>\n",
       "      <td>-</td>\n",
       "      <td>-</td>\n",
       "      <td>-</td>\n",
       "      <td>-</td>\n",
       "      <td>-</td>\n",
       "      <td>-</td>\n",
       "      <td>https://www.halfbakedharvest.com/wp-content/up...</td>\n",
       "    </tr>\n",
       "    <tr>\n",
       "      <th>...</th>\n",
       "      <td>...</td>\n",
       "      <td>...</td>\n",
       "      <td>...</td>\n",
       "      <td>...</td>\n",
       "      <td>...</td>\n",
       "      <td>...</td>\n",
       "      <td>...</td>\n",
       "      <td>...</td>\n",
       "      <td>...</td>\n",
       "      <td>...</td>\n",
       "    </tr>\n",
       "    <tr>\n",
       "      <th>90</th>\n",
       "      <td>Cheesy Miso Caramelized Corn and Pineapple Chi...</td>\n",
       "      <td>{'minutes': '10'}</td>\n",
       "      <td>{'minutes': '25'}</td>\n",
       "      <td>{'minutes': '35'}</td>\n",
       "      <td>[butter or olive oil, fresh corn, finely diced...</td>\n",
       "      <td>{'butter or olive oil': '3', 'fresh corn': '4'...</td>\n",
       "      <td>[Add the butter to a large oven-safe skillet s...</td>\n",
       "      <td>548 kcal</td>\n",
       "      <td>8</td>\n",
       "      <td>https://www.halfbakedharvest.com/wp-content/up...</td>\n",
       "    </tr>\n",
       "    <tr>\n",
       "      <th>91</th>\n",
       "      <td>Summer Fruit Salsa and Miso Hummus.</td>\n",
       "      <td>{'minutes': '15'}</td>\n",
       "      <td>-</td>\n",
       "      <td>{'minutes': '15'}</td>\n",
       "      <td>[cooked chickpeas, tahini, creamy almond butte...</td>\n",
       "      <td>{'cooked chickpeas': '2', 'tahini': '1/4', 'cr...</td>\n",
       "      <td>[]</td>\n",
       "      <td>752 kcal</td>\n",
       "      <td>3</td>\n",
       "      <td>https://www.halfbakedharvest.com/wp-content/up...</td>\n",
       "    </tr>\n",
       "    <tr>\n",
       "      <th>92</th>\n",
       "      <td>Greek Feta Fries with Roasted Garlic Saffron A...</td>\n",
       "      <td>{'minutes': '15'}</td>\n",
       "      <td>{'minutes': '30'}</td>\n",
       "      <td>{'minutes': '45'}</td>\n",
       "      <td>[russet potatoes, cut into 1/4 inch wide strip...</td>\n",
       "      <td>{'russet potatoes, cut into 1/4 inch wide stri...</td>\n",
       "      <td>[]</td>\n",
       "      <td>677 kcal</td>\n",
       "      <td>4</td>\n",
       "      <td>https://www.halfbakedharvest.com/wp-content/up...</td>\n",
       "    </tr>\n",
       "    <tr>\n",
       "      <th>93</th>\n",
       "      <td>Tomato, Salami and Chunky Arugula-Basil Pesto ...</td>\n",
       "      <td>{'minutes': '10'}</td>\n",
       "      <td>{'minutes': '5'}</td>\n",
       "      <td>{'minutes': '15'}</td>\n",
       "      <td>[fresh basil, fresh arugula, garlic, roasted c...</td>\n",
       "      <td>{'fresh basil': '2', 'fresh arugula': '1', 'ga...</td>\n",
       "      <td>[]</td>\n",
       "      <td>495 kcal</td>\n",
       "      <td>6</td>\n",
       "      <td>https://www.halfbakedharvest.com/wp-content/up...</td>\n",
       "    </tr>\n",
       "    <tr>\n",
       "      <th>94</th>\n",
       "      <td>Quick Balsamic Fig Roasted Tomato and Burrata ...</td>\n",
       "      <td>{'minutes': '10'}</td>\n",
       "      <td>{'minutes': '20'}</td>\n",
       "      <td>{'minutes': '30'}</td>\n",
       "      <td>[sheets prepared puff pastry, fig preserves, b...</td>\n",
       "      <td>{'sheets prepared puff pastry': '4', 'fig pres...</td>\n",
       "      <td>[]</td>\n",
       "      <td>1676 kcal</td>\n",
       "      <td>6</td>\n",
       "      <td>https://www.halfbakedharvest.com/wp-content/up...</td>\n",
       "    </tr>\n",
       "  </tbody>\n",
       "</table>\n",
       "<p>95 rows × 10 columns</p>\n",
       "</div>"
      ],
      "text/plain": [
       "                                                title          prep_time  \\\n",
       "0               Sour Cream and Onion Smashed Potatoes  {'minutes': '15'}   \n",
       "1                     Open Face Tomato Bacon Sandwich  {'minutes': '15'}   \n",
       "2                        Effortless Marinated Burrata  {'minutes': '10'}   \n",
       "3                    Pull Apart Cheeseburger Sliders.  {'minutes': '20'}   \n",
       "4                                                   -                  -   \n",
       "..                                                ...                ...   \n",
       "90  Cheesy Miso Caramelized Corn and Pineapple Chi...  {'minutes': '10'}   \n",
       "91                Summer Fruit Salsa and Miso Hummus.  {'minutes': '15'}   \n",
       "92  Greek Feta Fries with Roasted Garlic Saffron A...  {'minutes': '15'}   \n",
       "93  Tomato, Salami and Chunky Arugula-Basil Pesto ...  {'minutes': '10'}   \n",
       "94  Quick Balsamic Fig Roasted Tomato and Burrata ...  {'minutes': '10'}   \n",
       "\n",
       "            cook_time                       total_time  \\\n",
       "0      {'hours': '1'}  {'hours': '1', 'minutes': '15'}   \n",
       "1   {'minutes': '10'}                {'minutes': '25'}   \n",
       "2   {'minutes': '10'}                {'minutes': '20'}   \n",
       "3   {'minutes': '30'}                {'minutes': '50'}   \n",
       "4                   -                                -   \n",
       "..                ...                              ...   \n",
       "90  {'minutes': '25'}                {'minutes': '35'}   \n",
       "91                  -                {'minutes': '15'}   \n",
       "92  {'minutes': '30'}                {'minutes': '45'}   \n",
       "93   {'minutes': '5'}                {'minutes': '15'}   \n",
       "94  {'minutes': '20'}                {'minutes': '30'}   \n",
       "\n",
       "                                          ingredients  \\\n",
       "0   [small to medium potatoes, beer, sea salt and ...   \n",
       "1   [thick-cut bacon, chopped, extra virgin olive ...   \n",
       "2   [marinated mozzarella balls, fresh burrata che...   \n",
       "3   [mayo, sweet Thai chili sauce, tamari/soy sauc...   \n",
       "4                                                   -   \n",
       "..                                                ...   \n",
       "90  [butter or olive oil, fresh corn, finely diced...   \n",
       "91  [cooked chickpeas, tahini, creamy almond butte...   \n",
       "92  [russet potatoes, cut into 1/4 inch wide strip...   \n",
       "93  [fresh basil, fresh arugula, garlic, roasted c...   \n",
       "94  [sheets prepared puff pastry, fig preserves, b...   \n",
       "\n",
       "                         ingredients with measurement  \\\n",
       "0   {'small to medium potatoes': '1', 'beer': '1',...   \n",
       "1   {'thick-cut bacon, chopped': '6', 'extra virgi...   \n",
       "2   {'marinated mozzarella balls': '1', 'fresh bur...   \n",
       "3   {'mayo': '1/2', 'sweet Thai chili sauce': '1/3...   \n",
       "4                                                   -   \n",
       "..                                                ...   \n",
       "90  {'butter or olive oil': '3', 'fresh corn': '4'...   \n",
       "91  {'cooked chickpeas': '2', 'tahini': '1/4', 'cr...   \n",
       "92  {'russet potatoes, cut into 1/4 inch wide stri...   \n",
       "93  {'fresh basil': '2', 'fresh arugula': '1', 'ga...   \n",
       "94  {'sheets prepared puff pastry': '4', 'fig pres...   \n",
       "\n",
       "                                         instructions   calories servings  \\\n",
       "0   [1. Preheat the oven to 400° F., 2. Arrange th...   136 kcal        6   \n",
       "1   [1. To make the dressing. Combine all ingredie...   641 kcal        6   \n",
       "2   [1. Arrange the burrata in a shallow serving b...   372 kcal        8   \n",
       "3   [1. To make the sauce: combine all ingredients...   294 kcal       12   \n",
       "4                                                   -          -        -   \n",
       "..                                                ...        ...      ...   \n",
       "90  [Add the butter to a large oven-safe skillet s...   548 kcal        8   \n",
       "91                                                 []   752 kcal        3   \n",
       "92                                                 []   677 kcal        4   \n",
       "93                                                 []   495 kcal        6   \n",
       "94                                                 []  1676 kcal        6   \n",
       "\n",
       "                                               images  \n",
       "0   https://www.halfbakedharvest.com/wp-content/up...  \n",
       "1   https://www.halfbakedharvest.com/wp-content/up...  \n",
       "2   https://www.halfbakedharvest.com/wp-content/up...  \n",
       "3   https://www.halfbakedharvest.com/wp-content/up...  \n",
       "4   https://www.halfbakedharvest.com/wp-content/up...  \n",
       "..                                                ...  \n",
       "90  https://www.halfbakedharvest.com/wp-content/up...  \n",
       "91  https://www.halfbakedharvest.com/wp-content/up...  \n",
       "92  https://www.halfbakedharvest.com/wp-content/up...  \n",
       "93  https://www.halfbakedharvest.com/wp-content/up...  \n",
       "94  https://www.halfbakedharvest.com/wp-content/up...  \n",
       "\n",
       "[95 rows x 10 columns]"
      ]
     },
     "execution_count": 12,
     "metadata": {},
     "output_type": "execute_result"
    }
   ],
   "source": [
    "temp_recipes_1"
   ]
  },
  {
   "cell_type": "code",
   "execution_count": 13,
   "id": "53acf06d",
   "metadata": {},
   "outputs": [
    {
     "data": {
      "text/plain": [
       "['Sour Cream and Onion Smashed Potatoes',\n",
       " 'Open Face Tomato Bacon Sandwich',\n",
       " 'Effortless Marinated Burrata',\n",
       " 'Pull Apart Cheeseburger Sliders.',\n",
       " '-',\n",
       " 'Watermelon Peach Salad',\n",
       " 'Granny’s 7 Layer Dip',\n",
       " 'Honey Garlic Parmesan Biscuits',\n",
       " 'Pool Day Spicy BBQ Snack Mix.',\n",
       " 'Roasted Garlic Tomato Caprese',\n",
       " '-',\n",
       " 'Sun-Dried Tomato Garlic Olive Oil Dip',\n",
       " 'Baked Garlic Parmesan Boneless Wings',\n",
       " 'Prosciutto Wrapped Baked Brie Rolls',\n",
       " 'Cranberry Goat Cheese Puff Pastry Swirls',\n",
       " 'Pastry Wrapped Apple Baked Brie',\n",
       " 'Garlic Butter Pizza Egg Rolls',\n",
       " 'Crispy Jalapeño Cream Cheese Cauliflower Taquitos',\n",
       " 'Tomato Burrata Pepperoni Pizza Dip',\n",
       " 'Peach Burrata Parmesan Crusted Crostini with Hot Honey',\n",
       " 'Marinated Cherry Tomatoes with Burrata',\n",
       " 'Baked Gruyère Tomato Bruschetta',\n",
       " 'Strawberry Jam with Honey Whipped Goat Cheese',\n",
       " 'Baked Chipotle Salmon Sushi Cups',\n",
       " 'Pesto Cheese Garlic Butter Soft Pretzel Knots',\n",
       " 'Baked Brie Crostini with Crispy Prosciutto',\n",
       " 'Roasted Garlic Bread Caprese Dip',\n",
       " '20 Minute Thai Basil Beef Rolls',\n",
       " 'Coconut Chicken Fingers with Bang Bang Sauce',\n",
       " 'Mexican Street Style Jalapeño Dip',\n",
       " 'Garlic Parmesan French Fries Dressed in Caesar Dressing',\n",
       " '-',\n",
       " 'Crispy Cheesy Sweet Potato Skins',\n",
       " 'Prosciutto Wrapped Baked Brie in Pastry',\n",
       " 'Jalapeño Garlic Corn Fritters with Chipotle Aioli.',\n",
       " 'Crispy Sesame Ginger Potstickers with Chive Chili Sauce',\n",
       " 'Garlic Parmesan Herb Butter Polenta Fries with Lemon Aioli',\n",
       " 'Marinated Goat Cheese and Strawberry Crostini',\n",
       " 'Homemade Goldfish',\n",
       " 'Coconut Popcorn Chicken with Sweet Thai Chili Lime Sauce',\n",
       " 'Prosciutto Caprese Puff Pastry with Peppery Thyme Honey.',\n",
       " 'Cheesy Herb Stuffed Naan',\n",
       " 'No-Knead Rosemary Garlic Parmesan Bread.',\n",
       " 'Extra Flaky Broccoli Cheddar Soup Mini Pies',\n",
       " 'Buffalo Ranch Chicken Pull Apart Bread.',\n",
       " 'Oven Fried Cajun Popcorn Chicken with Creamy Honey Mustard',\n",
       " 'Chinese Mushroom Dumplings with Sweet Chili Ginger Sesame Sauce.',\n",
       " 'Addicting Baked Seasoned Ritz Crackers',\n",
       " 'Roasted Lemon Spinach and Artichoke Dip',\n",
       " 'Brie Stuffed Crispy Baby Potatoes',\n",
       " 'Caramelized Garlic Butter Toast with Pan Fried Mushrooms',\n",
       " 'Thai Coconut Mussels with Garlic Lemongrass Toast',\n",
       " 'Honey Thyme and Sweet Cherry Grilled Brie',\n",
       " 'Lemon Feta Dip with Garlic Tomato Vinaigrette',\n",
       " 'Farmer Market Pickled Crudité Platter',\n",
       " 'Quick Pickled Veggies',\n",
       " 'Brunch Bruschetta Bar',\n",
       " 'The Lighter Cheese Board',\n",
       " 'Honey Garlic Korean BBQ Grilled Shrimp',\n",
       " '-',\n",
       " 'Farro Tabbouleh with Burrata and Hummus',\n",
       " 'Sun-Dried Tomato Muhammara (Roasted Red Pepper Spread)',\n",
       " 'Chicken Parmesan Meatball Crostini.',\n",
       " 'Buffalo Cheddar Soft Pretzel Twists with Everything Spice.',\n",
       " 'Herbed Goat Cheese Stuffed Mushrooms.',\n",
       " 'Cheese Fondue Board.',\n",
       " 'Cheesy Bacon Holiday Crack.',\n",
       " 'Pumpkin Beer Pretzels with Chipotle Queso.',\n",
       " 'Cheesy Buffalo Chicken Stuffed French Bread.',\n",
       " 'Market Veggie Board with Roasted Corn Jalapeno Hummus + Honey Whipped Goat Cheese.',\n",
       " 'Summer Garden Guacamole.',\n",
       " 'Summer Fruit Plate.',\n",
       " 'Simple Summer Cheese Board.',\n",
       " 'Farmers Market Hummus.',\n",
       " 'Veggie Spring Rolls with Thai Mango Dipping Sauce.',\n",
       " 'Panzanella Style Caprese Asparagus Salad.',\n",
       " 'The New Crudité Platter.',\n",
       " 'Brie Stuffed Artichokes.',\n",
       " 'Sticky Mango Curry Oven Baked Boneless Wings.',\n",
       " 'Sriracha Buffalo Cauliflower Bites.',\n",
       " 'Roasted Beet Hummus (VIDEO).',\n",
       " 'Sweet Potato and Black Bean Nachos with Green Chile Salsa.',\n",
       " 'Pomegranate Guacamole with Fried Plantain Chips.',\n",
       " 'Easy Crockpot (Christmas Eve) Chex Mix.',\n",
       " 'Caramelized Garlic Honey Baked Brie with Seasoned Pretzels (EASY CHRISTMAS APPETIZER).',\n",
       " 'Caramelized Pineapple, Ham and Cheese Turnovers.',\n",
       " 'Crispy Prosciutto Baked Brie Bites with Honey Pears + Walnuts.',\n",
       " 'Deathly Hallows Cheese Board.',\n",
       " 'Easy Enchilada Beef Nachos.',\n",
       " 'Crispy Buffalo Cheddar Potato Nachos.',\n",
       " 'Cheesy Miso Caramelized Corn and Pineapple Chile Dip.',\n",
       " 'Summer Fruit Salsa and Miso Hummus.',\n",
       " 'Greek Feta Fries with Roasted Garlic Saffron Aioli.',\n",
       " 'Tomato, Salami and Chunky Arugula-Basil Pesto Bruschetta.',\n",
       " 'Quick Balsamic Fig Roasted Tomato and Burrata Cheese Tarts.']"
      ]
     },
     "execution_count": 13,
     "metadata": {},
     "output_type": "execute_result"
    }
   ],
   "source": [
    "title"
   ]
  },
  {
   "cell_type": "code",
   "execution_count": 14,
   "id": "0ed45647",
   "metadata": {},
   "outputs": [],
   "source": [
    "final = pd.concat([final, temp_recipes_1], ignore_index=True)"
   ]
  },
  {
   "cell_type": "code",
   "execution_count": 15,
   "id": "0608a9db",
   "metadata": {},
   "outputs": [
    {
     "data": {
      "text/html": [
       "<div>\n",
       "<style scoped>\n",
       "    .dataframe tbody tr th:only-of-type {\n",
       "        vertical-align: middle;\n",
       "    }\n",
       "\n",
       "    .dataframe tbody tr th {\n",
       "        vertical-align: top;\n",
       "    }\n",
       "\n",
       "    .dataframe thead th {\n",
       "        text-align: right;\n",
       "    }\n",
       "</style>\n",
       "<table border=\"1\" class=\"dataframe\">\n",
       "  <thead>\n",
       "    <tr style=\"text-align: right;\">\n",
       "      <th></th>\n",
       "      <th>title</th>\n",
       "      <th>prep_time</th>\n",
       "      <th>cook_time</th>\n",
       "      <th>total_time</th>\n",
       "      <th>ingredients</th>\n",
       "      <th>ingredients with measurement</th>\n",
       "      <th>instructions</th>\n",
       "      <th>calories</th>\n",
       "      <th>servings</th>\n",
       "      <th>images</th>\n",
       "    </tr>\n",
       "  </thead>\n",
       "  <tbody>\n",
       "    <tr>\n",
       "      <th>0</th>\n",
       "      <td>Sour Cream and Onion Smashed Potatoes</td>\n",
       "      <td>{'minutes': '15'}</td>\n",
       "      <td>{'hours': '1'}</td>\n",
       "      <td>{'hours': '1', 'minutes': '15'}</td>\n",
       "      <td>[small to medium potatoes, beer, sea salt and ...</td>\n",
       "      <td>{'small to medium potatoes': '1', 'beer': '1',...</td>\n",
       "      <td>[1. Preheat the oven to 400° F., 2. Arrange th...</td>\n",
       "      <td>136 kcal</td>\n",
       "      <td>6</td>\n",
       "      <td>https://www.halfbakedharvest.com/wp-content/up...</td>\n",
       "    </tr>\n",
       "    <tr>\n",
       "      <th>1</th>\n",
       "      <td>Open Face Tomato Bacon Sandwich</td>\n",
       "      <td>{'minutes': '15'}</td>\n",
       "      <td>{'minutes': '10'}</td>\n",
       "      <td>{'minutes': '25'}</td>\n",
       "      <td>[thick-cut bacon, chopped, extra virgin olive ...</td>\n",
       "      <td>{'thick-cut bacon, chopped': '6', 'extra virgi...</td>\n",
       "      <td>[1. To make the dressing. Combine all ingredie...</td>\n",
       "      <td>641 kcal</td>\n",
       "      <td>6</td>\n",
       "      <td>https://www.halfbakedharvest.com/wp-content/up...</td>\n",
       "    </tr>\n",
       "    <tr>\n",
       "      <th>2</th>\n",
       "      <td>Effortless Marinated Burrata</td>\n",
       "      <td>{'minutes': '10'}</td>\n",
       "      <td>{'minutes': '10'}</td>\n",
       "      <td>{'minutes': '20'}</td>\n",
       "      <td>[marinated mozzarella balls, fresh burrata che...</td>\n",
       "      <td>{'marinated mozzarella balls': '1', 'fresh bur...</td>\n",
       "      <td>[1. Arrange the burrata in a shallow serving b...</td>\n",
       "      <td>372 kcal</td>\n",
       "      <td>8</td>\n",
       "      <td>https://www.halfbakedharvest.com/wp-content/up...</td>\n",
       "    </tr>\n",
       "    <tr>\n",
       "      <th>3</th>\n",
       "      <td>Pull Apart Cheeseburger Sliders.</td>\n",
       "      <td>{'minutes': '20'}</td>\n",
       "      <td>{'minutes': '30'}</td>\n",
       "      <td>{'minutes': '50'}</td>\n",
       "      <td>[mayo, sweet Thai chili sauce, tamari/soy sauc...</td>\n",
       "      <td>{'mayo': '1/2', 'sweet Thai chili sauce': '1/3...</td>\n",
       "      <td>[1. To make the sauce: combine all ingredients...</td>\n",
       "      <td>294 kcal</td>\n",
       "      <td>12</td>\n",
       "      <td>https://www.halfbakedharvest.com/wp-content/up...</td>\n",
       "    </tr>\n",
       "    <tr>\n",
       "      <th>4</th>\n",
       "      <td>-</td>\n",
       "      <td>-</td>\n",
       "      <td>-</td>\n",
       "      <td>-</td>\n",
       "      <td>-</td>\n",
       "      <td>-</td>\n",
       "      <td>-</td>\n",
       "      <td>-</td>\n",
       "      <td>-</td>\n",
       "      <td>https://www.halfbakedharvest.com/wp-content/up...</td>\n",
       "    </tr>\n",
       "    <tr>\n",
       "      <th>...</th>\n",
       "      <td>...</td>\n",
       "      <td>...</td>\n",
       "      <td>...</td>\n",
       "      <td>...</td>\n",
       "      <td>...</td>\n",
       "      <td>...</td>\n",
       "      <td>...</td>\n",
       "      <td>...</td>\n",
       "      <td>...</td>\n",
       "      <td>...</td>\n",
       "    </tr>\n",
       "    <tr>\n",
       "      <th>90</th>\n",
       "      <td>Cheesy Miso Caramelized Corn and Pineapple Chi...</td>\n",
       "      <td>{'minutes': '10'}</td>\n",
       "      <td>{'minutes': '25'}</td>\n",
       "      <td>{'minutes': '35'}</td>\n",
       "      <td>[butter or olive oil, fresh corn, finely diced...</td>\n",
       "      <td>{'butter or olive oil': '3', 'fresh corn': '4'...</td>\n",
       "      <td>[Add the butter to a large oven-safe skillet s...</td>\n",
       "      <td>548 kcal</td>\n",
       "      <td>8</td>\n",
       "      <td>https://www.halfbakedharvest.com/wp-content/up...</td>\n",
       "    </tr>\n",
       "    <tr>\n",
       "      <th>91</th>\n",
       "      <td>Summer Fruit Salsa and Miso Hummus.</td>\n",
       "      <td>{'minutes': '15'}</td>\n",
       "      <td>-</td>\n",
       "      <td>{'minutes': '15'}</td>\n",
       "      <td>[cooked chickpeas, tahini, creamy almond butte...</td>\n",
       "      <td>{'cooked chickpeas': '2', 'tahini': '1/4', 'cr...</td>\n",
       "      <td>[]</td>\n",
       "      <td>752 kcal</td>\n",
       "      <td>3</td>\n",
       "      <td>https://www.halfbakedharvest.com/wp-content/up...</td>\n",
       "    </tr>\n",
       "    <tr>\n",
       "      <th>92</th>\n",
       "      <td>Greek Feta Fries with Roasted Garlic Saffron A...</td>\n",
       "      <td>{'minutes': '15'}</td>\n",
       "      <td>{'minutes': '30'}</td>\n",
       "      <td>{'minutes': '45'}</td>\n",
       "      <td>[russet potatoes, cut into 1/4 inch wide strip...</td>\n",
       "      <td>{'russet potatoes, cut into 1/4 inch wide stri...</td>\n",
       "      <td>[]</td>\n",
       "      <td>677 kcal</td>\n",
       "      <td>4</td>\n",
       "      <td>https://www.halfbakedharvest.com/wp-content/up...</td>\n",
       "    </tr>\n",
       "    <tr>\n",
       "      <th>93</th>\n",
       "      <td>Tomato, Salami and Chunky Arugula-Basil Pesto ...</td>\n",
       "      <td>{'minutes': '10'}</td>\n",
       "      <td>{'minutes': '5'}</td>\n",
       "      <td>{'minutes': '15'}</td>\n",
       "      <td>[fresh basil, fresh arugula, garlic, roasted c...</td>\n",
       "      <td>{'fresh basil': '2', 'fresh arugula': '1', 'ga...</td>\n",
       "      <td>[]</td>\n",
       "      <td>495 kcal</td>\n",
       "      <td>6</td>\n",
       "      <td>https://www.halfbakedharvest.com/wp-content/up...</td>\n",
       "    </tr>\n",
       "    <tr>\n",
       "      <th>94</th>\n",
       "      <td>Quick Balsamic Fig Roasted Tomato and Burrata ...</td>\n",
       "      <td>{'minutes': '10'}</td>\n",
       "      <td>{'minutes': '20'}</td>\n",
       "      <td>{'minutes': '30'}</td>\n",
       "      <td>[sheets prepared puff pastry, fig preserves, b...</td>\n",
       "      <td>{'sheets prepared puff pastry': '4', 'fig pres...</td>\n",
       "      <td>[]</td>\n",
       "      <td>1676 kcal</td>\n",
       "      <td>6</td>\n",
       "      <td>https://www.halfbakedharvest.com/wp-content/up...</td>\n",
       "    </tr>\n",
       "  </tbody>\n",
       "</table>\n",
       "<p>95 rows × 10 columns</p>\n",
       "</div>"
      ],
      "text/plain": [
       "                                                title          prep_time  \\\n",
       "0               Sour Cream and Onion Smashed Potatoes  {'minutes': '15'}   \n",
       "1                     Open Face Tomato Bacon Sandwich  {'minutes': '15'}   \n",
       "2                        Effortless Marinated Burrata  {'minutes': '10'}   \n",
       "3                    Pull Apart Cheeseburger Sliders.  {'minutes': '20'}   \n",
       "4                                                   -                  -   \n",
       "..                                                ...                ...   \n",
       "90  Cheesy Miso Caramelized Corn and Pineapple Chi...  {'minutes': '10'}   \n",
       "91                Summer Fruit Salsa and Miso Hummus.  {'minutes': '15'}   \n",
       "92  Greek Feta Fries with Roasted Garlic Saffron A...  {'minutes': '15'}   \n",
       "93  Tomato, Salami and Chunky Arugula-Basil Pesto ...  {'minutes': '10'}   \n",
       "94  Quick Balsamic Fig Roasted Tomato and Burrata ...  {'minutes': '10'}   \n",
       "\n",
       "            cook_time                       total_time  \\\n",
       "0      {'hours': '1'}  {'hours': '1', 'minutes': '15'}   \n",
       "1   {'minutes': '10'}                {'minutes': '25'}   \n",
       "2   {'minutes': '10'}                {'minutes': '20'}   \n",
       "3   {'minutes': '30'}                {'minutes': '50'}   \n",
       "4                   -                                -   \n",
       "..                ...                              ...   \n",
       "90  {'minutes': '25'}                {'minutes': '35'}   \n",
       "91                  -                {'minutes': '15'}   \n",
       "92  {'minutes': '30'}                {'minutes': '45'}   \n",
       "93   {'minutes': '5'}                {'minutes': '15'}   \n",
       "94  {'minutes': '20'}                {'minutes': '30'}   \n",
       "\n",
       "                                          ingredients  \\\n",
       "0   [small to medium potatoes, beer, sea salt and ...   \n",
       "1   [thick-cut bacon, chopped, extra virgin olive ...   \n",
       "2   [marinated mozzarella balls, fresh burrata che...   \n",
       "3   [mayo, sweet Thai chili sauce, tamari/soy sauc...   \n",
       "4                                                   -   \n",
       "..                                                ...   \n",
       "90  [butter or olive oil, fresh corn, finely diced...   \n",
       "91  [cooked chickpeas, tahini, creamy almond butte...   \n",
       "92  [russet potatoes, cut into 1/4 inch wide strip...   \n",
       "93  [fresh basil, fresh arugula, garlic, roasted c...   \n",
       "94  [sheets prepared puff pastry, fig preserves, b...   \n",
       "\n",
       "                         ingredients with measurement  \\\n",
       "0   {'small to medium potatoes': '1', 'beer': '1',...   \n",
       "1   {'thick-cut bacon, chopped': '6', 'extra virgi...   \n",
       "2   {'marinated mozzarella balls': '1', 'fresh bur...   \n",
       "3   {'mayo': '1/2', 'sweet Thai chili sauce': '1/3...   \n",
       "4                                                   -   \n",
       "..                                                ...   \n",
       "90  {'butter or olive oil': '3', 'fresh corn': '4'...   \n",
       "91  {'cooked chickpeas': '2', 'tahini': '1/4', 'cr...   \n",
       "92  {'russet potatoes, cut into 1/4 inch wide stri...   \n",
       "93  {'fresh basil': '2', 'fresh arugula': '1', 'ga...   \n",
       "94  {'sheets prepared puff pastry': '4', 'fig pres...   \n",
       "\n",
       "                                         instructions   calories servings  \\\n",
       "0   [1. Preheat the oven to 400° F., 2. Arrange th...   136 kcal        6   \n",
       "1   [1. To make the dressing. Combine all ingredie...   641 kcal        6   \n",
       "2   [1. Arrange the burrata in a shallow serving b...   372 kcal        8   \n",
       "3   [1. To make the sauce: combine all ingredients...   294 kcal       12   \n",
       "4                                                   -          -        -   \n",
       "..                                                ...        ...      ...   \n",
       "90  [Add the butter to a large oven-safe skillet s...   548 kcal        8   \n",
       "91                                                 []   752 kcal        3   \n",
       "92                                                 []   677 kcal        4   \n",
       "93                                                 []   495 kcal        6   \n",
       "94                                                 []  1676 kcal        6   \n",
       "\n",
       "                                               images  \n",
       "0   https://www.halfbakedharvest.com/wp-content/up...  \n",
       "1   https://www.halfbakedharvest.com/wp-content/up...  \n",
       "2   https://www.halfbakedharvest.com/wp-content/up...  \n",
       "3   https://www.halfbakedharvest.com/wp-content/up...  \n",
       "4   https://www.halfbakedharvest.com/wp-content/up...  \n",
       "..                                                ...  \n",
       "90  https://www.halfbakedharvest.com/wp-content/up...  \n",
       "91  https://www.halfbakedharvest.com/wp-content/up...  \n",
       "92  https://www.halfbakedharvest.com/wp-content/up...  \n",
       "93  https://www.halfbakedharvest.com/wp-content/up...  \n",
       "94  https://www.halfbakedharvest.com/wp-content/up...  \n",
       "\n",
       "[95 rows x 10 columns]"
      ]
     },
     "execution_count": 15,
     "metadata": {},
     "output_type": "execute_result"
    }
   ],
   "source": [
    "final"
   ]
  },
  {
   "cell_type": "markdown",
   "id": "88573086",
   "metadata": {},
   "source": [
    "### Recipes 25-200"
   ]
  },
  {
   "cell_type": "code",
   "execution_count": 16,
   "id": "96880399",
   "metadata": {
    "scrolled": true
   },
   "outputs": [
    {
     "name": "stdout",
     "output_type": "stream",
     "text": [
      "Proxies loaded: ['35.220.254.137:8080', '181.114.61.17:8085']\n"
     ]
    },
    {
     "data": {
      "application/javascript": [
       "\n",
       "        if (window._pyforest_update_imports_cell) { window._pyforest_update_imports_cell('import re'); }\n",
       "    "
      ],
      "text/plain": [
       "<IPython.core.display.Javascript object>"
      ]
     },
     "metadata": {},
     "output_type": "display_data"
    },
    {
     "data": {
      "application/javascript": [
       "\n",
       "        if (window._pyforest_update_imports_cell) { window._pyforest_update_imports_cell('import re'); }\n",
       "    "
      ],
      "text/plain": [
       "<IPython.core.display.Javascript object>"
      ]
     },
     "metadata": {},
     "output_type": "display_data"
    },
    {
     "data": {
      "application/javascript": [
       "\n",
       "        if (window._pyforest_update_imports_cell) { window._pyforest_update_imports_cell('import re'); }\n",
       "    "
      ],
      "text/plain": [
       "<IPython.core.display.Javascript object>"
      ]
     },
     "metadata": {},
     "output_type": "display_data"
    },
    {
     "name": "stdout",
     "output_type": "stream",
     "text": [
      "Successfully retrieved 150 - https://www.halfbakedharvest.com/cheesy-avocado-crab-stuffed-piquillo-pepper-ciabatta-pizzettes-with-sriracha-aioli/ with proxy 35.220.254.137:8080\n",
      "Proxy 181.114.61.17:8085 failed for https://www.halfbakedharvest.com/authentic-canadian-poutine/: HTTPSConnectionPool(host='www.halfbakedharvest.com', port=443): Max retries exceeded with url: /authentic-canadian-poutine/ (Caused by ProxyError('Unable to connect to proxy', ConnectTimeoutError(<urllib3.connection.HTTPSConnection object at 0x1374ce9a0>, 'Connection to 181.114.61.17 timed out. (connect timeout=30)')))\n"
     ]
    },
    {
     "data": {
      "application/javascript": [
       "\n",
       "        if (window._pyforest_update_imports_cell) { window._pyforest_update_imports_cell('import re'); }\n",
       "    "
      ],
      "text/plain": [
       "<IPython.core.display.Javascript object>"
      ]
     },
     "metadata": {},
     "output_type": "display_data"
    },
    {
     "data": {
      "application/javascript": [
       "\n",
       "        if (window._pyforest_update_imports_cell) { window._pyforest_update_imports_cell('import re'); }\n",
       "    "
      ],
      "text/plain": [
       "<IPython.core.display.Javascript object>"
      ]
     },
     "metadata": {},
     "output_type": "display_data"
    },
    {
     "data": {
      "application/javascript": [
       "\n",
       "        if (window._pyforest_update_imports_cell) { window._pyforest_update_imports_cell('import re'); }\n",
       "    "
      ],
      "text/plain": [
       "<IPython.core.display.Javascript object>"
      ]
     },
     "metadata": {},
     "output_type": "display_data"
    },
    {
     "name": "stdout",
     "output_type": "stream",
     "text": [
      "Successfully retrieved 152 - https://www.halfbakedharvest.com/smoky-3-cheese-fondue-toasted-garlic-buttered-croissants/ with proxy 35.220.254.137:8080\n"
     ]
    },
    {
     "data": {
      "application/javascript": [
       "\n",
       "        if (window._pyforest_update_imports_cell) { window._pyforest_update_imports_cell('import re'); }\n",
       "    "
      ],
      "text/plain": [
       "<IPython.core.display.Javascript object>"
      ]
     },
     "metadata": {},
     "output_type": "display_data"
    },
    {
     "data": {
      "application/javascript": [
       "\n",
       "        if (window._pyforest_update_imports_cell) { window._pyforest_update_imports_cell('import re'); }\n",
       "    "
      ],
      "text/plain": [
       "<IPython.core.display.Javascript object>"
      ]
     },
     "metadata": {},
     "output_type": "display_data"
    },
    {
     "data": {
      "application/javascript": [
       "\n",
       "        if (window._pyforest_update_imports_cell) { window._pyforest_update_imports_cell('import re'); }\n",
       "    "
      ],
      "text/plain": [
       "<IPython.core.display.Javascript object>"
      ]
     },
     "metadata": {},
     "output_type": "display_data"
    },
    {
     "name": "stdout",
     "output_type": "stream",
     "text": [
      "Successfully retrieved 153 - https://www.halfbakedharvest.com/greek-feta-chickpea-pancake-fritters-poached-eggs-olive-tapenade/ with proxy 181.114.61.17:8085\n"
     ]
    },
    {
     "data": {
      "application/javascript": [
       "\n",
       "        if (window._pyforest_update_imports_cell) { window._pyforest_update_imports_cell('import re'); }\n",
       "    "
      ],
      "text/plain": [
       "<IPython.core.display.Javascript object>"
      ]
     },
     "metadata": {},
     "output_type": "display_data"
    },
    {
     "data": {
      "application/javascript": [
       "\n",
       "        if (window._pyforest_update_imports_cell) { window._pyforest_update_imports_cell('import re'); }\n",
       "    "
      ],
      "text/plain": [
       "<IPython.core.display.Javascript object>"
      ]
     },
     "metadata": {},
     "output_type": "display_data"
    },
    {
     "data": {
      "application/javascript": [
       "\n",
       "        if (window._pyforest_update_imports_cell) { window._pyforest_update_imports_cell('import re'); }\n",
       "    "
      ],
      "text/plain": [
       "<IPython.core.display.Javascript object>"
      ]
     },
     "metadata": {},
     "output_type": "display_data"
    },
    {
     "data": {
      "application/javascript": [
       "\n",
       "        if (window._pyforest_update_imports_cell) { window._pyforest_update_imports_cell('import re'); }\n",
       "    "
      ],
      "text/plain": [
       "<IPython.core.display.Javascript object>"
      ]
     },
     "metadata": {},
     "output_type": "display_data"
    },
    {
     "data": {
      "application/javascript": [
       "\n",
       "        if (window._pyforest_update_imports_cell) { window._pyforest_update_imports_cell('import re'); }\n",
       "    "
      ],
      "text/plain": [
       "<IPython.core.display.Javascript object>"
      ]
     },
     "metadata": {},
     "output_type": "display_data"
    },
    {
     "name": "stdout",
     "output_type": "stream",
     "text": [
      "Successfully retrieved 154 - https://www.halfbakedharvest.com/fully-loaded-potato-skins-chipotle-southwest-guacamole/ with proxy 35.220.254.137:8080\n",
      "Proxy 181.114.61.17:8085 failed for https://www.halfbakedharvest.com/thai-peanut-chicken-wings-fiery-pineapple-jalapeno-salsa/: HTTPSConnectionPool(host='www.halfbakedharvest.com', port=443): Max retries exceeded with url: /thai-peanut-chicken-wings-fiery-pineapple-jalapeno-salsa/ (Caused by ProxyError('Unable to connect to proxy', ConnectTimeoutError(<urllib3.connection.HTTPSConnection object at 0x1375b6eb0>, 'Connection to 181.114.61.17 timed out. (connect timeout=30)')))\n"
     ]
    },
    {
     "data": {
      "application/javascript": [
       "\n",
       "        if (window._pyforest_update_imports_cell) { window._pyforest_update_imports_cell('import re'); }\n",
       "    "
      ],
      "text/plain": [
       "<IPython.core.display.Javascript object>"
      ]
     },
     "metadata": {},
     "output_type": "display_data"
    },
    {
     "data": {
      "application/javascript": [
       "\n",
       "        if (window._pyforest_update_imports_cell) { window._pyforest_update_imports_cell('import re'); }\n",
       "    "
      ],
      "text/plain": [
       "<IPython.core.display.Javascript object>"
      ]
     },
     "metadata": {},
     "output_type": "display_data"
    },
    {
     "data": {
      "application/javascript": [
       "\n",
       "        if (window._pyforest_update_imports_cell) { window._pyforest_update_imports_cell('import re'); }\n",
       "    "
      ],
      "text/plain": [
       "<IPython.core.display.Javascript object>"
      ]
     },
     "metadata": {},
     "output_type": "display_data"
    },
    {
     "name": "stdout",
     "output_type": "stream",
     "text": [
      "Successfully retrieved 156 - https://www.halfbakedharvest.com/big-popper-hot-buffalo-chicken-bacon-grilled-cheese/ with proxy 35.220.254.137:8080\n",
      "Proxy 181.114.61.17:8085 failed for https://www.halfbakedharvest.com/spicy-green-harissa/: HTTPSConnectionPool(host='www.halfbakedharvest.com', port=443): Max retries exceeded with url: /spicy-green-harissa/ (Caused by ProxyError('Unable to connect to proxy', ConnectTimeoutError(<urllib3.connection.HTTPSConnection object at 0x1432e6cd0>, 'Connection to 181.114.61.17 timed out. (connect timeout=30)')))\n"
     ]
    },
    {
     "data": {
      "application/javascript": [
       "\n",
       "        if (window._pyforest_update_imports_cell) { window._pyforest_update_imports_cell('import re'); }\n",
       "    "
      ],
      "text/plain": [
       "<IPython.core.display.Javascript object>"
      ]
     },
     "metadata": {},
     "output_type": "display_data"
    },
    {
     "data": {
      "application/javascript": [
       "\n",
       "        if (window._pyforest_update_imports_cell) { window._pyforest_update_imports_cell('import re'); }\n",
       "    "
      ],
      "text/plain": [
       "<IPython.core.display.Javascript object>"
      ]
     },
     "metadata": {},
     "output_type": "display_data"
    },
    {
     "data": {
      "application/javascript": [
       "\n",
       "        if (window._pyforest_update_imports_cell) { window._pyforest_update_imports_cell('import re'); }\n",
       "    "
      ],
      "text/plain": [
       "<IPython.core.display.Javascript object>"
      ]
     },
     "metadata": {},
     "output_type": "display_data"
    },
    {
     "name": "stdout",
     "output_type": "stream",
     "text": [
      "Successfully retrieved 158 - https://www.halfbakedharvest.com/spicy-fontina-spinach-artichoke-chorizo-stuffed-mushrooms/ with proxy 35.220.254.137:8080\n",
      "Proxy 181.114.61.17:8085 failed for https://www.halfbakedharvest.com/ham-cheese-sandwiches-wbacon-pineapple-caramelized-onions-jerk-bbq-sauce/: HTTPSConnectionPool(host='www.halfbakedharvest.com', port=443): Max retries exceeded with url: /ham-cheese-sandwiches-wbacon-pineapple-caramelized-onions-jerk-bbq-sauce/ (Caused by ProxyError('Unable to connect to proxy', ConnectTimeoutError(<urllib3.connection.HTTPSConnection object at 0x137488880>, 'Connection to 181.114.61.17 timed out. (connect timeout=30)')))\n"
     ]
    },
    {
     "data": {
      "application/javascript": [
       "\n",
       "        if (window._pyforest_update_imports_cell) { window._pyforest_update_imports_cell('import re'); }\n",
       "    "
      ],
      "text/plain": [
       "<IPython.core.display.Javascript object>"
      ]
     },
     "metadata": {},
     "output_type": "display_data"
    },
    {
     "data": {
      "application/javascript": [
       "\n",
       "        if (window._pyforest_update_imports_cell) { window._pyforest_update_imports_cell('import re'); }\n",
       "    "
      ],
      "text/plain": [
       "<IPython.core.display.Javascript object>"
      ]
     },
     "metadata": {},
     "output_type": "display_data"
    },
    {
     "data": {
      "application/javascript": [
       "\n",
       "        if (window._pyforest_update_imports_cell) { window._pyforest_update_imports_cell('import re'); }\n",
       "    "
      ],
      "text/plain": [
       "<IPython.core.display.Javascript object>"
      ]
     },
     "metadata": {},
     "output_type": "display_data"
    },
    {
     "name": "stdout",
     "output_type": "stream",
     "text": [
      "Successfully retrieved 160 - https://www.halfbakedharvest.com/salted-coffee-butter-roasted-chestnuts/ with proxy 35.220.254.137:8080\n",
      "Proxy 181.114.61.17:8085 failed for https://www.halfbakedharvest.com/goat-cheese-stuffed-phyllo-swirls-pomegranate-honey-pistachios/: HTTPSConnectionPool(host='www.halfbakedharvest.com', port=443): Max retries exceeded with url: /goat-cheese-stuffed-phyllo-swirls-pomegranate-honey-pistachios/ (Caused by ProxyError('Unable to connect to proxy', ConnectTimeoutError(<urllib3.connection.HTTPSConnection object at 0x137d961c0>, 'Connection to 181.114.61.17 timed out. (connect timeout=30)')))\n"
     ]
    },
    {
     "data": {
      "application/javascript": [
       "\n",
       "        if (window._pyforest_update_imports_cell) { window._pyforest_update_imports_cell('import re'); }\n",
       "    "
      ],
      "text/plain": [
       "<IPython.core.display.Javascript object>"
      ]
     },
     "metadata": {},
     "output_type": "display_data"
    },
    {
     "data": {
      "application/javascript": [
       "\n",
       "        if (window._pyforest_update_imports_cell) { window._pyforest_update_imports_cell('import re'); }\n",
       "    "
      ],
      "text/plain": [
       "<IPython.core.display.Javascript object>"
      ]
     },
     "metadata": {},
     "output_type": "display_data"
    },
    {
     "data": {
      "application/javascript": [
       "\n",
       "        if (window._pyforest_update_imports_cell) { window._pyforest_update_imports_cell('import re'); }\n",
       "    "
      ],
      "text/plain": [
       "<IPython.core.display.Javascript object>"
      ]
     },
     "metadata": {},
     "output_type": "display_data"
    },
    {
     "name": "stdout",
     "output_type": "stream",
     "text": [
      "Successfully retrieved 162 - https://www.halfbakedharvest.com/mushroom-havarti-turnovers/ with proxy 35.220.254.137:8080\n",
      "Proxy 181.114.61.17:8085 failed for https://www.halfbakedharvest.com/sun-dried-tomato-olive-pesto-pizza-salami-roasted-red-peppers/: HTTPSConnectionPool(host='www.halfbakedharvest.com', port=443): Max retries exceeded with url: /sun-dried-tomato-olive-pesto-pizza-salami-roasted-red-peppers/ (Caused by ProxyError('Unable to connect to proxy', ConnectTimeoutError(<urllib3.connection.HTTPSConnection object at 0x142cb6dc0>, 'Connection to 181.114.61.17 timed out. (connect timeout=30)')))\n"
     ]
    },
    {
     "data": {
      "application/javascript": [
       "\n",
       "        if (window._pyforest_update_imports_cell) { window._pyforest_update_imports_cell('import re'); }\n",
       "    "
      ],
      "text/plain": [
       "<IPython.core.display.Javascript object>"
      ]
     },
     "metadata": {},
     "output_type": "display_data"
    },
    {
     "data": {
      "application/javascript": [
       "\n",
       "        if (window._pyforest_update_imports_cell) { window._pyforest_update_imports_cell('import re'); }\n",
       "    "
      ],
      "text/plain": [
       "<IPython.core.display.Javascript object>"
      ]
     },
     "metadata": {},
     "output_type": "display_data"
    },
    {
     "data": {
      "application/javascript": [
       "\n",
       "        if (window._pyforest_update_imports_cell) { window._pyforest_update_imports_cell('import re'); }\n",
       "    "
      ],
      "text/plain": [
       "<IPython.core.display.Javascript object>"
      ]
     },
     "metadata": {},
     "output_type": "display_data"
    },
    {
     "data": {
      "application/javascript": [
       "\n",
       "        if (window._pyforest_update_imports_cell) { window._pyforest_update_imports_cell('import re'); }\n",
       "    "
      ],
      "text/plain": [
       "<IPython.core.display.Javascript object>"
      ]
     },
     "metadata": {},
     "output_type": "display_data"
    },
    {
     "name": "stdout",
     "output_type": "stream",
     "text": [
      "Successfully retrieved 164 - https://www.halfbakedharvest.com/chinese-chicken-brussels-sprouts-egg-rolls-sweet-chile-pomegranate-sauce/ with proxy 35.220.254.137:8080\n",
      "Proxy 181.114.61.17:8085 failed for https://www.halfbakedharvest.com/gingery-steak-brie-sliders-balsamic-cranberry-sauce/: HTTPSConnectionPool(host='www.halfbakedharvest.com', port=443): Max retries exceeded with url: /gingery-steak-brie-sliders-balsamic-cranberry-sauce/ (Caused by ProxyError('Unable to connect to proxy', ConnectTimeoutError(<urllib3.connection.HTTPSConnection object at 0x13775f670>, 'Connection to 181.114.61.17 timed out. (connect timeout=30)')))\n"
     ]
    },
    {
     "data": {
      "application/javascript": [
       "\n",
       "        if (window._pyforest_update_imports_cell) { window._pyforest_update_imports_cell('import re'); }\n",
       "    "
      ],
      "text/plain": [
       "<IPython.core.display.Javascript object>"
      ]
     },
     "metadata": {},
     "output_type": "display_data"
    },
    {
     "data": {
      "application/javascript": [
       "\n",
       "        if (window._pyforest_update_imports_cell) { window._pyforest_update_imports_cell('import re'); }\n",
       "    "
      ],
      "text/plain": [
       "<IPython.core.display.Javascript object>"
      ]
     },
     "metadata": {},
     "output_type": "display_data"
    },
    {
     "data": {
      "application/javascript": [
       "\n",
       "        if (window._pyforest_update_imports_cell) { window._pyforest_update_imports_cell('import re'); }\n",
       "    "
      ],
      "text/plain": [
       "<IPython.core.display.Javascript object>"
      ]
     },
     "metadata": {},
     "output_type": "display_data"
    },
    {
     "name": "stdout",
     "output_type": "stream",
     "text": [
      "Successfully retrieved 166 - https://www.halfbakedharvest.com/simple-salty-sweet-potato-skin-chips/ with proxy 35.220.254.137:8080\n",
      "Proxy 181.114.61.17:8085 failed for https://www.halfbakedharvest.com/lets-talk-thanksgiving-snacks-appetizers-sides-desserts/: HTTPSConnectionPool(host='www.halfbakedharvest.com', port=443): Max retries exceeded with url: /lets-talk-thanksgiving-snacks-appetizers-sides-desserts/ (Caused by ProxyError('Unable to connect to proxy', ConnectTimeoutError(<urllib3.connection.HTTPSConnection object at 0x14329c1c0>, 'Connection to 181.114.61.17 timed out. (connect timeout=30)')))\n",
      "Successfully retrieved 168 - https://www.halfbakedharvest.com/caramelized-apple-cheddar-cheese-soft-pretzels-apple-cider-dipping-sauce/ with proxy 35.220.254.137:8080\n"
     ]
    },
    {
     "data": {
      "application/javascript": [
       "\n",
       "        if (window._pyforest_update_imports_cell) { window._pyforest_update_imports_cell('import re'); }\n",
       "    "
      ],
      "text/plain": [
       "<IPython.core.display.Javascript object>"
      ]
     },
     "metadata": {},
     "output_type": "display_data"
    },
    {
     "data": {
      "application/javascript": [
       "\n",
       "        if (window._pyforest_update_imports_cell) { window._pyforest_update_imports_cell('import re'); }\n",
       "    "
      ],
      "text/plain": [
       "<IPython.core.display.Javascript object>"
      ]
     },
     "metadata": {},
     "output_type": "display_data"
    },
    {
     "data": {
      "application/javascript": [
       "\n",
       "        if (window._pyforest_update_imports_cell) { window._pyforest_update_imports_cell('import re'); }\n",
       "    "
      ],
      "text/plain": [
       "<IPython.core.display.Javascript object>"
      ]
     },
     "metadata": {},
     "output_type": "display_data"
    },
    {
     "data": {
      "application/javascript": [
       "\n",
       "        if (window._pyforest_update_imports_cell) { window._pyforest_update_imports_cell('import re'); }\n",
       "    "
      ],
      "text/plain": [
       "<IPython.core.display.Javascript object>"
      ]
     },
     "metadata": {},
     "output_type": "display_data"
    },
    {
     "data": {
      "application/javascript": [
       "\n",
       "        if (window._pyforest_update_imports_cell) { window._pyforest_update_imports_cell('import re'); }\n",
       "    "
      ],
      "text/plain": [
       "<IPython.core.display.Javascript object>"
      ]
     },
     "metadata": {},
     "output_type": "display_data"
    },
    {
     "name": "stdout",
     "output_type": "stream",
     "text": [
      "Successfully retrieved 169 - https://www.halfbakedharvest.com/caramelized-onion-bbq-chicken-strombolis/ with proxy 181.114.61.17:8085\n"
     ]
    },
    {
     "data": {
      "application/javascript": [
       "\n",
       "        if (window._pyforest_update_imports_cell) { window._pyforest_update_imports_cell('import re'); }\n",
       "    "
      ],
      "text/plain": [
       "<IPython.core.display.Javascript object>"
      ]
     },
     "metadata": {},
     "output_type": "display_data"
    },
    {
     "data": {
      "application/javascript": [
       "\n",
       "        if (window._pyforest_update_imports_cell) { window._pyforest_update_imports_cell('import re'); }\n",
       "    "
      ],
      "text/plain": [
       "<IPython.core.display.Javascript object>"
      ]
     },
     "metadata": {},
     "output_type": "display_data"
    },
    {
     "data": {
      "application/javascript": [
       "\n",
       "        if (window._pyforest_update_imports_cell) { window._pyforest_update_imports_cell('import re'); }\n",
       "    "
      ],
      "text/plain": [
       "<IPython.core.display.Javascript object>"
      ]
     },
     "metadata": {},
     "output_type": "display_data"
    },
    {
     "data": {
      "application/javascript": [
       "\n",
       "        if (window._pyforest_update_imports_cell) { window._pyforest_update_imports_cell('import re'); }\n",
       "    "
      ],
      "text/plain": [
       "<IPython.core.display.Javascript object>"
      ]
     },
     "metadata": {},
     "output_type": "display_data"
    },
    {
     "name": "stdout",
     "output_type": "stream",
     "text": [
      "Successfully retrieved 170 - https://www.halfbakedharvest.com/homemade-naan-step-step-photos/ with proxy 35.220.254.137:8080\n"
     ]
    },
    {
     "data": {
      "application/javascript": [
       "\n",
       "        if (window._pyforest_update_imports_cell) { window._pyforest_update_imports_cell('import re'); }\n",
       "    "
      ],
      "text/plain": [
       "<IPython.core.display.Javascript object>"
      ]
     },
     "metadata": {},
     "output_type": "display_data"
    },
    {
     "data": {
      "application/javascript": [
       "\n",
       "        if (window._pyforest_update_imports_cell) { window._pyforest_update_imports_cell('import re'); }\n",
       "    "
      ],
      "text/plain": [
       "<IPython.core.display.Javascript object>"
      ]
     },
     "metadata": {},
     "output_type": "display_data"
    },
    {
     "data": {
      "application/javascript": [
       "\n",
       "        if (window._pyforest_update_imports_cell) { window._pyforest_update_imports_cell('import re'); }\n",
       "    "
      ],
      "text/plain": [
       "<IPython.core.display.Javascript object>"
      ]
     },
     "metadata": {},
     "output_type": "display_data"
    },
    {
     "name": "stdout",
     "output_type": "stream",
     "text": [
      "Successfully retrieved 171 - https://www.halfbakedharvest.com/sweet-sour-sticky-thai-boneless-oven-baked-chicken-wings/ with proxy 181.114.61.17:8085\n"
     ]
    },
    {
     "data": {
      "application/javascript": [
       "\n",
       "        if (window._pyforest_update_imports_cell) { window._pyforest_update_imports_cell('import re'); }\n",
       "    "
      ],
      "text/plain": [
       "<IPython.core.display.Javascript object>"
      ]
     },
     "metadata": {},
     "output_type": "display_data"
    },
    {
     "data": {
      "application/javascript": [
       "\n",
       "        if (window._pyforest_update_imports_cell) { window._pyforest_update_imports_cell('import re'); }\n",
       "    "
      ],
      "text/plain": [
       "<IPython.core.display.Javascript object>"
      ]
     },
     "metadata": {},
     "output_type": "display_data"
    },
    {
     "data": {
      "application/javascript": [
       "\n",
       "        if (window._pyforest_update_imports_cell) { window._pyforest_update_imports_cell('import re'); }\n",
       "    "
      ],
      "text/plain": [
       "<IPython.core.display.Javascript object>"
      ]
     },
     "metadata": {},
     "output_type": "display_data"
    },
    {
     "data": {
      "application/javascript": [
       "\n",
       "        if (window._pyforest_update_imports_cell) { window._pyforest_update_imports_cell('import re'); }\n",
       "    "
      ],
      "text/plain": [
       "<IPython.core.display.Javascript object>"
      ]
     },
     "metadata": {},
     "output_type": "display_data"
    },
    {
     "name": "stdout",
     "output_type": "stream",
     "text": [
      "Successfully retrieved 172 - https://www.halfbakedharvest.com/roasted-cauliflower-white-pizza-dip/ with proxy 35.220.254.137:8080\n"
     ]
    },
    {
     "data": {
      "application/javascript": [
       "\n",
       "        if (window._pyforest_update_imports_cell) { window._pyforest_update_imports_cell('import re'); }\n",
       "    "
      ],
      "text/plain": [
       "<IPython.core.display.Javascript object>"
      ]
     },
     "metadata": {},
     "output_type": "display_data"
    },
    {
     "data": {
      "application/javascript": [
       "\n",
       "        if (window._pyforest_update_imports_cell) { window._pyforest_update_imports_cell('import re'); }\n",
       "    "
      ],
      "text/plain": [
       "<IPython.core.display.Javascript object>"
      ]
     },
     "metadata": {},
     "output_type": "display_data"
    },
    {
     "data": {
      "application/javascript": [
       "\n",
       "        if (window._pyforest_update_imports_cell) { window._pyforest_update_imports_cell('import re'); }\n",
       "    "
      ],
      "text/plain": [
       "<IPython.core.display.Javascript object>"
      ]
     },
     "metadata": {},
     "output_type": "display_data"
    },
    {
     "name": "stdout",
     "output_type": "stream",
     "text": [
      "Successfully retrieved 173 - https://www.halfbakedharvest.com/zucchini-parmesan-crusted-chicken-nuggets/ with proxy 181.114.61.17:8085\n"
     ]
    },
    {
     "data": {
      "application/javascript": [
       "\n",
       "        if (window._pyforest_update_imports_cell) { window._pyforest_update_imports_cell('import re'); }\n",
       "    "
      ],
      "text/plain": [
       "<IPython.core.display.Javascript object>"
      ]
     },
     "metadata": {},
     "output_type": "display_data"
    },
    {
     "data": {
      "application/javascript": [
       "\n",
       "        if (window._pyforest_update_imports_cell) { window._pyforest_update_imports_cell('import re'); }\n",
       "    "
      ],
      "text/plain": [
       "<IPython.core.display.Javascript object>"
      ]
     },
     "metadata": {},
     "output_type": "display_data"
    },
    {
     "data": {
      "application/javascript": [
       "\n",
       "        if (window._pyforest_update_imports_cell) { window._pyforest_update_imports_cell('import re'); }\n",
       "    "
      ],
      "text/plain": [
       "<IPython.core.display.Javascript object>"
      ]
     },
     "metadata": {},
     "output_type": "display_data"
    },
    {
     "name": "stdout",
     "output_type": "stream",
     "text": [
      "Successfully retrieved 174 - https://www.halfbakedharvest.com/simple-crispy-basil-caramelized-garden-vegetable-fontina-french-bread-pizza/ with proxy 35.220.254.137:8080\n",
      "Proxy 181.114.61.17:8085 failed for https://www.halfbakedharvest.com/blue-cheese-guacamole-stuffed-mushrooms-with-buffalo-sauce/: HTTPSConnectionPool(host='www.halfbakedharvest.com', port=443): Max retries exceeded with url: /blue-cheese-guacamole-stuffed-mushrooms-with-buffalo-sauce/ (Caused by ProxyError('Unable to connect to proxy', ConnectTimeoutError(<urllib3.connection.HTTPSConnection object at 0x1378502e0>, 'Connection to 181.114.61.17 timed out. (connect timeout=30)')))\n"
     ]
    },
    {
     "data": {
      "application/javascript": [
       "\n",
       "        if (window._pyforest_update_imports_cell) { window._pyforest_update_imports_cell('import re'); }\n",
       "    "
      ],
      "text/plain": [
       "<IPython.core.display.Javascript object>"
      ]
     },
     "metadata": {},
     "output_type": "display_data"
    },
    {
     "data": {
      "application/javascript": [
       "\n",
       "        if (window._pyforest_update_imports_cell) { window._pyforest_update_imports_cell('import re'); }\n",
       "    "
      ],
      "text/plain": [
       "<IPython.core.display.Javascript object>"
      ]
     },
     "metadata": {},
     "output_type": "display_data"
    },
    {
     "data": {
      "application/javascript": [
       "\n",
       "        if (window._pyforest_update_imports_cell) { window._pyforest_update_imports_cell('import re'); }\n",
       "    "
      ],
      "text/plain": [
       "<IPython.core.display.Javascript object>"
      ]
     },
     "metadata": {},
     "output_type": "display_data"
    },
    {
     "name": "stdout",
     "output_type": "stream",
     "text": [
      "Successfully retrieved 176 - https://www.halfbakedharvest.com/curried-zucchini-chicken-and-goat-cheese-rolls-with-cashew-mango-fried-rice/ with proxy 35.220.254.137:8080\n"
     ]
    },
    {
     "data": {
      "application/javascript": [
       "\n",
       "        if (window._pyforest_update_imports_cell) { window._pyforest_update_imports_cell('import re'); }\n",
       "    "
      ],
      "text/plain": [
       "<IPython.core.display.Javascript object>"
      ]
     },
     "metadata": {},
     "output_type": "display_data"
    },
    {
     "data": {
      "application/javascript": [
       "\n",
       "        if (window._pyforest_update_imports_cell) { window._pyforest_update_imports_cell('import re'); }\n",
       "    "
      ],
      "text/plain": [
       "<IPython.core.display.Javascript object>"
      ]
     },
     "metadata": {},
     "output_type": "display_data"
    },
    {
     "data": {
      "application/javascript": [
       "\n",
       "        if (window._pyforest_update_imports_cell) { window._pyforest_update_imports_cell('import re'); }\n",
       "    "
      ],
      "text/plain": [
       "<IPython.core.display.Javascript object>"
      ]
     },
     "metadata": {},
     "output_type": "display_data"
    },
    {
     "name": "stdout",
     "output_type": "stream",
     "text": [
      "Successfully retrieved 177 - https://www.halfbakedharvest.com/fried-mozzarella-basil-and-nectarine-stacks-with-balsamic-glaze/ with proxy 181.114.61.17:8085\n"
     ]
    },
    {
     "data": {
      "application/javascript": [
       "\n",
       "        if (window._pyforest_update_imports_cell) { window._pyforest_update_imports_cell('import re'); }\n",
       "    "
      ],
      "text/plain": [
       "<IPython.core.display.Javascript object>"
      ]
     },
     "metadata": {},
     "output_type": "display_data"
    },
    {
     "data": {
      "application/javascript": [
       "\n",
       "        if (window._pyforest_update_imports_cell) { window._pyforest_update_imports_cell('import re'); }\n",
       "    "
      ],
      "text/plain": [
       "<IPython.core.display.Javascript object>"
      ]
     },
     "metadata": {},
     "output_type": "display_data"
    },
    {
     "data": {
      "application/javascript": [
       "\n",
       "        if (window._pyforest_update_imports_cell) { window._pyforest_update_imports_cell('import re'); }\n",
       "    "
      ],
      "text/plain": [
       "<IPython.core.display.Javascript object>"
      ]
     },
     "metadata": {},
     "output_type": "display_data"
    },
    {
     "name": "stdout",
     "output_type": "stream",
     "text": [
      "Successfully retrieved 178 - https://www.halfbakedharvest.com/blue-cheese-lobster-beignets-with-spicy-avocado-cream-garden-veggie-saute/ with proxy 35.220.254.137:8080\n",
      "Proxy 181.114.61.17:8085 failed for https://www.halfbakedharvest.com/avocado-and-gouda-blt-corn-fritter-stacks-with-chipotle-bourbon-dressing/: ('Connection aborted.', ConnectionResetError(54, 'Connection reset by peer'))\n"
     ]
    },
    {
     "data": {
      "application/javascript": [
       "\n",
       "        if (window._pyforest_update_imports_cell) { window._pyforest_update_imports_cell('import re'); }\n",
       "    "
      ],
      "text/plain": [
       "<IPython.core.display.Javascript object>"
      ]
     },
     "metadata": {},
     "output_type": "display_data"
    },
    {
     "data": {
      "application/javascript": [
       "\n",
       "        if (window._pyforest_update_imports_cell) { window._pyforest_update_imports_cell('import re'); }\n",
       "    "
      ],
      "text/plain": [
       "<IPython.core.display.Javascript object>"
      ]
     },
     "metadata": {},
     "output_type": "display_data"
    },
    {
     "data": {
      "application/javascript": [
       "\n",
       "        if (window._pyforest_update_imports_cell) { window._pyforest_update_imports_cell('import re'); }\n",
       "    "
      ],
      "text/plain": [
       "<IPython.core.display.Javascript object>"
      ]
     },
     "metadata": {},
     "output_type": "display_data"
    },
    {
     "name": "stdout",
     "output_type": "stream",
     "text": [
      "Successfully retrieved 180 - https://www.halfbakedharvest.com/exactly-how-i-grill-my-corn-chipotle-lime-and-cotija-cheese-butter/ with proxy 35.220.254.137:8080\n",
      "Proxy 181.114.61.17:8085 failed for https://www.halfbakedharvest.com/peach-and-gorgonzola-grilled-polenta-rounds-with-chipotle-honey/: HTTPSConnectionPool(host='www.halfbakedharvest.com', port=443): Max retries exceeded with url: /peach-and-gorgonzola-grilled-polenta-rounds-with-chipotle-honey/ (Caused by ProxyError('Unable to connect to proxy', ConnectTimeoutError(<urllib3.connection.HTTPSConnection object at 0x13763d4c0>, 'Connection to 181.114.61.17 timed out. (connect timeout=30)')))\n"
     ]
    },
    {
     "data": {
      "application/javascript": [
       "\n",
       "        if (window._pyforest_update_imports_cell) { window._pyforest_update_imports_cell('import re'); }\n",
       "    "
      ],
      "text/plain": [
       "<IPython.core.display.Javascript object>"
      ]
     },
     "metadata": {},
     "output_type": "display_data"
    },
    {
     "data": {
      "application/javascript": [
       "\n",
       "        if (window._pyforest_update_imports_cell) { window._pyforest_update_imports_cell('import re'); }\n",
       "    "
      ],
      "text/plain": [
       "<IPython.core.display.Javascript object>"
      ]
     },
     "metadata": {},
     "output_type": "display_data"
    },
    {
     "data": {
      "application/javascript": [
       "\n",
       "        if (window._pyforest_update_imports_cell) { window._pyforest_update_imports_cell('import re'); }\n",
       "    "
      ],
      "text/plain": [
       "<IPython.core.display.Javascript object>"
      ]
     },
     "metadata": {},
     "output_type": "display_data"
    },
    {
     "name": "stdout",
     "output_type": "stream",
     "text": [
      "Successfully retrieved 182 - https://www.halfbakedharvest.com/grilled-tex-mex-quinoa-stuffed-sweet-potatoes-skins/ with proxy 35.220.254.137:8080\n",
      "Proxy 181.114.61.17:8085 failed for https://www.halfbakedharvest.com/blistered-tomato-grilled-toast-caprese-nachos-with-balsamic-glaze/: HTTPSConnectionPool(host='www.halfbakedharvest.com', port=443): Max retries exceeded with url: /blistered-tomato-grilled-toast-caprese-nachos-with-balsamic-glaze/ (Caused by ProxyError('Unable to connect to proxy', ConnectTimeoutError(<urllib3.connection.HTTPSConnection object at 0x137a092b0>, 'Connection to 181.114.61.17 timed out. (connect timeout=30)')))\n"
     ]
    },
    {
     "data": {
      "application/javascript": [
       "\n",
       "        if (window._pyforest_update_imports_cell) { window._pyforest_update_imports_cell('import re'); }\n",
       "    "
      ],
      "text/plain": [
       "<IPython.core.display.Javascript object>"
      ]
     },
     "metadata": {},
     "output_type": "display_data"
    },
    {
     "data": {
      "application/javascript": [
       "\n",
       "        if (window._pyforest_update_imports_cell) { window._pyforest_update_imports_cell('import re'); }\n",
       "    "
      ],
      "text/plain": [
       "<IPython.core.display.Javascript object>"
      ]
     },
     "metadata": {},
     "output_type": "display_data"
    },
    {
     "data": {
      "application/javascript": [
       "\n",
       "        if (window._pyforest_update_imports_cell) { window._pyforest_update_imports_cell('import re'); }\n",
       "    "
      ],
      "text/plain": [
       "<IPython.core.display.Javascript object>"
      ]
     },
     "metadata": {},
     "output_type": "display_data"
    },
    {
     "name": "stdout",
     "output_type": "stream",
     "text": [
      "Successfully retrieved 184 - https://www.halfbakedharvest.com/grilled-blackberry-strawberry-basil-and-brie-pizza-crisps/ with proxy 35.220.254.137:8080\n",
      "Proxy 181.114.61.17:8085 failed for https://www.halfbakedharvest.com/crispy-buffalo-style-salmon-sliders/: HTTPSConnectionPool(host='www.halfbakedharvest.com', port=443): Max retries exceeded with url: /crispy-buffalo-style-salmon-sliders/ (Caused by ProxyError('Unable to connect to proxy', ConnectTimeoutError(<urllib3.connection.HTTPSConnection object at 0x14378df40>, 'Connection to 181.114.61.17 timed out. (connect timeout=30)')))\n"
     ]
    },
    {
     "data": {
      "application/javascript": [
       "\n",
       "        if (window._pyforest_update_imports_cell) { window._pyforest_update_imports_cell('import re'); }\n",
       "    "
      ],
      "text/plain": [
       "<IPython.core.display.Javascript object>"
      ]
     },
     "metadata": {},
     "output_type": "display_data"
    },
    {
     "data": {
      "application/javascript": [
       "\n",
       "        if (window._pyforest_update_imports_cell) { window._pyforest_update_imports_cell('import re'); }\n",
       "    "
      ],
      "text/plain": [
       "<IPython.core.display.Javascript object>"
      ]
     },
     "metadata": {},
     "output_type": "display_data"
    },
    {
     "data": {
      "application/javascript": [
       "\n",
       "        if (window._pyforest_update_imports_cell) { window._pyforest_update_imports_cell('import re'); }\n",
       "    "
      ],
      "text/plain": [
       "<IPython.core.display.Javascript object>"
      ]
     },
     "metadata": {},
     "output_type": "display_data"
    },
    {
     "name": "stdout",
     "output_type": "stream",
     "text": [
      "Successfully retrieved 186 - https://www.halfbakedharvest.com/hawaiian-bbq-quesadillas-with-pineapple-mango-guacamole/ with proxy 35.220.254.137:8080\n"
     ]
    },
    {
     "data": {
      "application/javascript": [
       "\n",
       "        if (window._pyforest_update_imports_cell) { window._pyforest_update_imports_cell('import re'); }\n",
       "    "
      ],
      "text/plain": [
       "<IPython.core.display.Javascript object>"
      ]
     },
     "metadata": {},
     "output_type": "display_data"
    },
    {
     "data": {
      "application/javascript": [
       "\n",
       "        if (window._pyforest_update_imports_cell) { window._pyforest_update_imports_cell('import re'); }\n",
       "    "
      ],
      "text/plain": [
       "<IPython.core.display.Javascript object>"
      ]
     },
     "metadata": {},
     "output_type": "display_data"
    },
    {
     "data": {
      "application/javascript": [
       "\n",
       "        if (window._pyforest_update_imports_cell) { window._pyforest_update_imports_cell('import re'); }\n",
       "    "
      ],
      "text/plain": [
       "<IPython.core.display.Javascript object>"
      ]
     },
     "metadata": {},
     "output_type": "display_data"
    },
    {
     "name": "stdout",
     "output_type": "stream",
     "text": [
      "Successfully retrieved 187 - https://www.halfbakedharvest.com/blueberry-basil-balsamic-mozzarella-crisps/ with proxy 181.114.61.17:8085\n"
     ]
    },
    {
     "data": {
      "application/javascript": [
       "\n",
       "        if (window._pyforest_update_imports_cell) { window._pyforest_update_imports_cell('import re'); }\n",
       "    "
      ],
      "text/plain": [
       "<IPython.core.display.Javascript object>"
      ]
     },
     "metadata": {},
     "output_type": "display_data"
    },
    {
     "data": {
      "application/javascript": [
       "\n",
       "        if (window._pyforest_update_imports_cell) { window._pyforest_update_imports_cell('import re'); }\n",
       "    "
      ],
      "text/plain": [
       "<IPython.core.display.Javascript object>"
      ]
     },
     "metadata": {},
     "output_type": "display_data"
    },
    {
     "data": {
      "application/javascript": [
       "\n",
       "        if (window._pyforest_update_imports_cell) { window._pyforest_update_imports_cell('import re'); }\n",
       "    "
      ],
      "text/plain": [
       "<IPython.core.display.Javascript object>"
      ]
     },
     "metadata": {},
     "output_type": "display_data"
    },
    {
     "name": "stdout",
     "output_type": "stream",
     "text": [
      "Successfully retrieved 188 - https://www.halfbakedharvest.com/brie-crab-cake-pretzel-slider-melts-with-strawberry-pineapple-salsa/ with proxy 35.220.254.137:8080\n",
      "Proxy 181.114.61.17:8085 failed for https://www.halfbakedharvest.com/cheesy-cajun-fries-with-grilled-corn-guacamole-bacon-and-fried-eggs/: HTTPSConnectionPool(host='www.halfbakedharvest.com', port=443): Max retries exceeded with url: /cheesy-cajun-fries-with-grilled-corn-guacamole-bacon-and-fried-eggs/ (Caused by ProxyError('Unable to connect to proxy', ConnectTimeoutError(<urllib3.connection.HTTPSConnection object at 0x137884520>, 'Connection to 181.114.61.17 timed out. (connect timeout=30)')))\n"
     ]
    },
    {
     "data": {
      "application/javascript": [
       "\n",
       "        if (window._pyforest_update_imports_cell) { window._pyforest_update_imports_cell('import re'); }\n",
       "    "
      ],
      "text/plain": [
       "<IPython.core.display.Javascript object>"
      ]
     },
     "metadata": {},
     "output_type": "display_data"
    },
    {
     "data": {
      "application/javascript": [
       "\n",
       "        if (window._pyforest_update_imports_cell) { window._pyforest_update_imports_cell('import re'); }\n",
       "    "
      ],
      "text/plain": [
       "<IPython.core.display.Javascript object>"
      ]
     },
     "metadata": {},
     "output_type": "display_data"
    },
    {
     "data": {
      "application/javascript": [
       "\n",
       "        if (window._pyforest_update_imports_cell) { window._pyforest_update_imports_cell('import re'); }\n",
       "    "
      ],
      "text/plain": [
       "<IPython.core.display.Javascript object>"
      ]
     },
     "metadata": {},
     "output_type": "display_data"
    },
    {
     "name": "stdout",
     "output_type": "stream",
     "text": [
      "Successfully retrieved 190 - https://www.halfbakedharvest.com/caprese-quinoa-grilled-stuffed-mushrooms-with-balsamic-glaze/ with proxy 35.220.254.137:8080\n",
      "Proxy 181.114.61.17:8085 failed for https://www.halfbakedharvest.com/cajun-bbq-cheddar-chicken-fingers/: HTTPSConnectionPool(host='www.halfbakedharvest.com', port=443): Max retries exceeded with url: /cajun-bbq-cheddar-chicken-fingers/ (Caused by ProxyError('Unable to connect to proxy', ConnectTimeoutError(<urllib3.connection.HTTPSConnection object at 0x14342e310>, 'Connection to 181.114.61.17 timed out. (connect timeout=30)')))\n"
     ]
    },
    {
     "data": {
      "application/javascript": [
       "\n",
       "        if (window._pyforest_update_imports_cell) { window._pyforest_update_imports_cell('import re'); }\n",
       "    "
      ],
      "text/plain": [
       "<IPython.core.display.Javascript object>"
      ]
     },
     "metadata": {},
     "output_type": "display_data"
    },
    {
     "data": {
      "application/javascript": [
       "\n",
       "        if (window._pyforest_update_imports_cell) { window._pyforest_update_imports_cell('import re'); }\n",
       "    "
      ],
      "text/plain": [
       "<IPython.core.display.Javascript object>"
      ]
     },
     "metadata": {},
     "output_type": "display_data"
    },
    {
     "data": {
      "application/javascript": [
       "\n",
       "        if (window._pyforest_update_imports_cell) { window._pyforest_update_imports_cell('import re'); }\n",
       "    "
      ],
      "text/plain": [
       "<IPython.core.display.Javascript object>"
      ]
     },
     "metadata": {},
     "output_type": "display_data"
    },
    {
     "name": "stdout",
     "output_type": "stream",
     "text": [
      "Successfully retrieved 192 - https://www.halfbakedharvest.com/antipasto-tortellini-skewers/ with proxy 35.220.254.137:8080\n",
      "Proxy 181.114.61.17:8085 failed for https://www.halfbakedharvest.com/crispy-roasted-blackened-cauliflower/: HTTPSConnectionPool(host='www.halfbakedharvest.com', port=443): Max retries exceeded with url: /crispy-roasted-blackened-cauliflower/ (Caused by ProxyError('Unable to connect to proxy', ConnectTimeoutError(<urllib3.connection.HTTPSConnection object at 0x142ec6610>, 'Connection to 181.114.61.17 timed out. (connect timeout=30)')))\n"
     ]
    },
    {
     "data": {
      "application/javascript": [
       "\n",
       "        if (window._pyforest_update_imports_cell) { window._pyforest_update_imports_cell('import re'); }\n",
       "    "
      ],
      "text/plain": [
       "<IPython.core.display.Javascript object>"
      ]
     },
     "metadata": {},
     "output_type": "display_data"
    },
    {
     "data": {
      "application/javascript": [
       "\n",
       "        if (window._pyforest_update_imports_cell) { window._pyforest_update_imports_cell('import re'); }\n",
       "    "
      ],
      "text/plain": [
       "<IPython.core.display.Javascript object>"
      ]
     },
     "metadata": {},
     "output_type": "display_data"
    },
    {
     "data": {
      "application/javascript": [
       "\n",
       "        if (window._pyforest_update_imports_cell) { window._pyforest_update_imports_cell('import re'); }\n",
       "    "
      ],
      "text/plain": [
       "<IPython.core.display.Javascript object>"
      ]
     },
     "metadata": {},
     "output_type": "display_data"
    },
    {
     "name": "stdout",
     "output_type": "stream",
     "text": [
      "Successfully retrieved 194 - https://www.halfbakedharvest.com/spinach-and-artichoke-pita-grilled-cheese/ with proxy 35.220.254.137:8080\n",
      "Proxy 181.114.61.17:8085 failed for https://www.halfbakedharvest.com/halloumi-bites/: HTTPSConnectionPool(host='www.halfbakedharvest.com', port=443): Max retries exceeded with url: /halloumi-bites/ (Caused by ProxyError('Unable to connect to proxy', ConnectTimeoutError(<urllib3.connection.HTTPSConnection object at 0x1437a3640>, 'Connection to 181.114.61.17 timed out. (connect timeout=30)')))\n"
     ]
    },
    {
     "data": {
      "application/javascript": [
       "\n",
       "        if (window._pyforest_update_imports_cell) { window._pyforest_update_imports_cell('import re'); }\n",
       "    "
      ],
      "text/plain": [
       "<IPython.core.display.Javascript object>"
      ]
     },
     "metadata": {},
     "output_type": "display_data"
    },
    {
     "data": {
      "application/javascript": [
       "\n",
       "        if (window._pyforest_update_imports_cell) { window._pyforest_update_imports_cell('import re'); }\n",
       "    "
      ],
      "text/plain": [
       "<IPython.core.display.Javascript object>"
      ]
     },
     "metadata": {},
     "output_type": "display_data"
    },
    {
     "data": {
      "application/javascript": [
       "\n",
       "        if (window._pyforest_update_imports_cell) { window._pyforest_update_imports_cell('import re'); }\n",
       "    "
      ],
      "text/plain": [
       "<IPython.core.display.Javascript object>"
      ]
     },
     "metadata": {},
     "output_type": "display_data"
    },
    {
     "name": "stdout",
     "output_type": "stream",
     "text": [
      "Successfully retrieved 196 - https://www.halfbakedharvest.com/lemon-garlic-butter-shrimp/ with proxy 35.220.254.137:8080\n",
      "Proxy 181.114.61.17:8085 failed for https://www.halfbakedharvest.com/queso-fundido-taquitos/: HTTPSConnectionPool(host='www.halfbakedharvest.com', port=443): Max retries exceeded with url: /queso-fundido-taquitos/ (Caused by ProxyError('Unable to connect to proxy', ConnectTimeoutError(<urllib3.connection.HTTPSConnection object at 0x142f43df0>, 'Connection to 181.114.61.17 timed out. (connect timeout=30)')))\n"
     ]
    },
    {
     "data": {
      "application/javascript": [
       "\n",
       "        if (window._pyforest_update_imports_cell) { window._pyforest_update_imports_cell('import re'); }\n",
       "    "
      ],
      "text/plain": [
       "<IPython.core.display.Javascript object>"
      ]
     },
     "metadata": {},
     "output_type": "display_data"
    },
    {
     "data": {
      "application/javascript": [
       "\n",
       "        if (window._pyforest_update_imports_cell) { window._pyforest_update_imports_cell('import re'); }\n",
       "    "
      ],
      "text/plain": [
       "<IPython.core.display.Javascript object>"
      ]
     },
     "metadata": {},
     "output_type": "display_data"
    },
    {
     "data": {
      "application/javascript": [
       "\n",
       "        if (window._pyforest_update_imports_cell) { window._pyforest_update_imports_cell('import re'); }\n",
       "    "
      ],
      "text/plain": [
       "<IPython.core.display.Javascript object>"
      ]
     },
     "metadata": {},
     "output_type": "display_data"
    },
    {
     "name": "stdout",
     "output_type": "stream",
     "text": [
      "Successfully retrieved 198 - https://www.halfbakedharvest.com/spanakopita-melt/ with proxy 35.220.254.137:8080\n",
      "Proxy 181.114.61.17:8085 failed for https://www.halfbakedharvest.com/baked-parmesan-tater-tots/: HTTPSConnectionPool(host='www.halfbakedharvest.com', port=443): Max retries exceeded with url: /baked-parmesan-tater-tots/ (Caused by ProxyError('Unable to connect to proxy', ConnectTimeoutError(<urllib3.connection.HTTPSConnection object at 0x143454040>, 'Connection to 181.114.61.17 timed out. (connect timeout=30)')))\n"
     ]
    },
    {
     "data": {
      "application/javascript": [
       "\n",
       "        if (window._pyforest_update_imports_cell) { window._pyforest_update_imports_cell('import re'); }\n",
       "    "
      ],
      "text/plain": [
       "<IPython.core.display.Javascript object>"
      ]
     },
     "metadata": {},
     "output_type": "display_data"
    },
    {
     "data": {
      "application/javascript": [
       "\n",
       "        if (window._pyforest_update_imports_cell) { window._pyforest_update_imports_cell('import re'); }\n",
       "    "
      ],
      "text/plain": [
       "<IPython.core.display.Javascript object>"
      ]
     },
     "metadata": {},
     "output_type": "display_data"
    },
    {
     "data": {
      "application/javascript": [
       "\n",
       "        if (window._pyforest_update_imports_cell) { window._pyforest_update_imports_cell('import re'); }\n",
       "    "
      ],
      "text/plain": [
       "<IPython.core.display.Javascript object>"
      ]
     },
     "metadata": {},
     "output_type": "display_data"
    },
    {
     "name": "stdout",
     "output_type": "stream",
     "text": [
      "Successfully retrieved 200 - https://www.halfbakedharvest.com/garlic-parmesan-bread/ with proxy 35.220.254.137:8080\n",
      "Successfully retrieved 201 - https://www.halfbakedharvest.com/my-favorite-new-years-cocktails-and-appetizers/ with proxy 181.114.61.17:8085\n"
     ]
    },
    {
     "data": {
      "application/javascript": [
       "\n",
       "        if (window._pyforest_update_imports_cell) { window._pyforest_update_imports_cell('import re'); }\n",
       "    "
      ],
      "text/plain": [
       "<IPython.core.display.Javascript object>"
      ]
     },
     "metadata": {},
     "output_type": "display_data"
    },
    {
     "data": {
      "application/javascript": [
       "\n",
       "        if (window._pyforest_update_imports_cell) { window._pyforest_update_imports_cell('import re'); }\n",
       "    "
      ],
      "text/plain": [
       "<IPython.core.display.Javascript object>"
      ]
     },
     "metadata": {},
     "output_type": "display_data"
    },
    {
     "data": {
      "application/javascript": [
       "\n",
       "        if (window._pyforest_update_imports_cell) { window._pyforest_update_imports_cell('import re'); }\n",
       "    "
      ],
      "text/plain": [
       "<IPython.core.display.Javascript object>"
      ]
     },
     "metadata": {},
     "output_type": "display_data"
    },
    {
     "name": "stdout",
     "output_type": "stream",
     "text": [
      "Successfully retrieved 202 - https://www.halfbakedharvest.com/seasoned-crackers/ with proxy 35.220.254.137:8080\n",
      "Proxy 181.114.61.17:8085 failed for https://www.halfbakedharvest.com/honey-whipped-ricotta-and-prosciutto-crackers/: HTTPSConnectionPool(host='www.halfbakedharvest.com', port=443): Max retries exceeded with url: /honey-whipped-ricotta-and-prosciutto-crackers/ (Caused by ProxyError('Unable to connect to proxy', ConnectTimeoutError(<urllib3.connection.HTTPSConnection object at 0x137a30c70>, 'Connection to 181.114.61.17 timed out. (connect timeout=30)')))\n"
     ]
    },
    {
     "data": {
      "application/javascript": [
       "\n",
       "        if (window._pyforest_update_imports_cell) { window._pyforest_update_imports_cell('import re'); }\n",
       "    "
      ],
      "text/plain": [
       "<IPython.core.display.Javascript object>"
      ]
     },
     "metadata": {},
     "output_type": "display_data"
    },
    {
     "data": {
      "application/javascript": [
       "\n",
       "        if (window._pyforest_update_imports_cell) { window._pyforest_update_imports_cell('import re'); }\n",
       "    "
      ],
      "text/plain": [
       "<IPython.core.display.Javascript object>"
      ]
     },
     "metadata": {},
     "output_type": "display_data"
    },
    {
     "data": {
      "application/javascript": [
       "\n",
       "        if (window._pyforest_update_imports_cell) { window._pyforest_update_imports_cell('import re'); }\n",
       "    "
      ],
      "text/plain": [
       "<IPython.core.display.Javascript object>"
      ]
     },
     "metadata": {},
     "output_type": "display_data"
    },
    {
     "name": "stdout",
     "output_type": "stream",
     "text": [
      "Successfully retrieved 204 - https://www.halfbakedharvest.com/sweet-savory-cheesy-bacon-wrapped-puff-pastry-twist/ with proxy 35.220.254.137:8080\n",
      "Proxy 181.114.61.17:8085 failed for https://www.halfbakedharvest.com/pastry-wrapped-cranberry-baked-brie-bites/: HTTPSConnectionPool(host='www.halfbakedharvest.com', port=443): Max retries exceeded with url: /pastry-wrapped-cranberry-baked-brie-bites/ (Caused by ProxyError('Unable to connect to proxy', ConnectTimeoutError(<urllib3.connection.HTTPSConnection object at 0x1436b3ac0>, 'Connection to 181.114.61.17 timed out. (connect timeout=30)')))\n"
     ]
    },
    {
     "data": {
      "application/javascript": [
       "\n",
       "        if (window._pyforest_update_imports_cell) { window._pyforest_update_imports_cell('import re'); }\n",
       "    "
      ],
      "text/plain": [
       "<IPython.core.display.Javascript object>"
      ]
     },
     "metadata": {},
     "output_type": "display_data"
    },
    {
     "data": {
      "application/javascript": [
       "\n",
       "        if (window._pyforest_update_imports_cell) { window._pyforest_update_imports_cell('import re'); }\n",
       "    "
      ],
      "text/plain": [
       "<IPython.core.display.Javascript object>"
      ]
     },
     "metadata": {},
     "output_type": "display_data"
    },
    {
     "data": {
      "application/javascript": [
       "\n",
       "        if (window._pyforest_update_imports_cell) { window._pyforest_update_imports_cell('import re'); }\n",
       "    "
      ],
      "text/plain": [
       "<IPython.core.display.Javascript object>"
      ]
     },
     "metadata": {},
     "output_type": "display_data"
    },
    {
     "name": "stdout",
     "output_type": "stream",
     "text": [
      "Successfully retrieved 206 - https://www.halfbakedharvest.com/homemade-cheesy-pizza-rolls/ with proxy 35.220.254.137:8080\n",
      "Proxy 181.114.61.17:8085 failed for https://www.halfbakedharvest.com/oven-toasted-garlic-herb-cheese-ravioli/: HTTPSConnectionPool(host='www.halfbakedharvest.com', port=443): Max retries exceeded with url: /oven-toasted-garlic-herb-cheese-ravioli/ (Caused by ProxyError('Unable to connect to proxy', ConnectTimeoutError(<urllib3.connection.HTTPSConnection object at 0x137a9e1c0>, 'Connection to 181.114.61.17 timed out. (connect timeout=30)')))\n"
     ]
    },
    {
     "data": {
      "application/javascript": [
       "\n",
       "        if (window._pyforest_update_imports_cell) { window._pyforest_update_imports_cell('import re'); }\n",
       "    "
      ],
      "text/plain": [
       "<IPython.core.display.Javascript object>"
      ]
     },
     "metadata": {},
     "output_type": "display_data"
    },
    {
     "data": {
      "application/javascript": [
       "\n",
       "        if (window._pyforest_update_imports_cell) { window._pyforest_update_imports_cell('import re'); }\n",
       "    "
      ],
      "text/plain": [
       "<IPython.core.display.Javascript object>"
      ]
     },
     "metadata": {},
     "output_type": "display_data"
    },
    {
     "data": {
      "application/javascript": [
       "\n",
       "        if (window._pyforest_update_imports_cell) { window._pyforest_update_imports_cell('import re'); }\n",
       "    "
      ],
      "text/plain": [
       "<IPython.core.display.Javascript object>"
      ]
     },
     "metadata": {},
     "output_type": "display_data"
    },
    {
     "name": "stdout",
     "output_type": "stream",
     "text": [
      "Successfully retrieved 208 - https://www.halfbakedharvest.com/garlic-parmesan-sweet-potato-fries/ with proxy 35.220.254.137:8080\n",
      "Proxy 181.114.61.17:8085 failed for https://www.halfbakedharvest.com/everything-ranch-cheese-and-pretzel-snack-mix/: HTTPSConnectionPool(host='www.halfbakedharvest.com', port=443): Max retries exceeded with url: /everything-ranch-cheese-and-pretzel-snack-mix/ (Caused by ProxyError('Unable to connect to proxy', ConnectTimeoutError(<urllib3.connection.HTTPSConnection object at 0x1431f8640>, 'Connection to 181.114.61.17 timed out. (connect timeout=30)')))\n"
     ]
    },
    {
     "data": {
      "application/javascript": [
       "\n",
       "        if (window._pyforest_update_imports_cell) { window._pyforest_update_imports_cell('import re'); }\n",
       "    "
      ],
      "text/plain": [
       "<IPython.core.display.Javascript object>"
      ]
     },
     "metadata": {},
     "output_type": "display_data"
    },
    {
     "data": {
      "application/javascript": [
       "\n",
       "        if (window._pyforest_update_imports_cell) { window._pyforest_update_imports_cell('import re'); }\n",
       "    "
      ],
      "text/plain": [
       "<IPython.core.display.Javascript object>"
      ]
     },
     "metadata": {},
     "output_type": "display_data"
    },
    {
     "data": {
      "application/javascript": [
       "\n",
       "        if (window._pyforest_update_imports_cell) { window._pyforest_update_imports_cell('import re'); }\n",
       "    "
      ],
      "text/plain": [
       "<IPython.core.display.Javascript object>"
      ]
     },
     "metadata": {},
     "output_type": "display_data"
    },
    {
     "name": "stdout",
     "output_type": "stream",
     "text": [
      "Successfully retrieved 210 - https://www.halfbakedharvest.com/cauliflower-and-cheese/ with proxy 35.220.254.137:8080\n",
      "Proxy 181.114.61.17:8085 failed for https://www.halfbakedharvest.com/black-pepper-rub-chicken-fingers-greek-yogurt-ranch/: HTTPSConnectionPool(host='www.halfbakedharvest.com', port=443): Max retries exceeded with url: /black-pepper-rub-chicken-fingers-greek-yogurt-ranch/ (Caused by ProxyError('Unable to connect to proxy', ConnectTimeoutError(<urllib3.connection.HTTPSConnection object at 0x143297af0>, 'Connection to 181.114.61.17 timed out. (connect timeout=30)')))\n"
     ]
    },
    {
     "data": {
      "application/javascript": [
       "\n",
       "        if (window._pyforest_update_imports_cell) { window._pyforest_update_imports_cell('import re'); }\n",
       "    "
      ],
      "text/plain": [
       "<IPython.core.display.Javascript object>"
      ]
     },
     "metadata": {},
     "output_type": "display_data"
    },
    {
     "data": {
      "application/javascript": [
       "\n",
       "        if (window._pyforest_update_imports_cell) { window._pyforest_update_imports_cell('import re'); }\n",
       "    "
      ],
      "text/plain": [
       "<IPython.core.display.Javascript object>"
      ]
     },
     "metadata": {},
     "output_type": "display_data"
    },
    {
     "data": {
      "application/javascript": [
       "\n",
       "        if (window._pyforest_update_imports_cell) { window._pyforest_update_imports_cell('import re'); }\n",
       "    "
      ],
      "text/plain": [
       "<IPython.core.display.Javascript object>"
      ]
     },
     "metadata": {},
     "output_type": "display_data"
    },
    {
     "data": {
      "application/javascript": [
       "\n",
       "        if (window._pyforest_update_imports_cell) { window._pyforest_update_imports_cell('import re'); }\n",
       "    "
      ],
      "text/plain": [
       "<IPython.core.display.Javascript object>"
      ]
     },
     "metadata": {},
     "output_type": "display_data"
    },
    {
     "name": "stdout",
     "output_type": "stream",
     "text": [
      "Successfully retrieved 212 - https://www.halfbakedharvest.com/crockpot-bbq-beer-chicken-taquitos/ with proxy 35.220.254.137:8080\n",
      "Proxy 181.114.61.17:8085 failed for https://www.halfbakedharvest.com/baked-buffalo-chicken-egg-rolls/: HTTPSConnectionPool(host='www.halfbakedharvest.com', port=443): Max retries exceeded with url: /baked-buffalo-chicken-egg-rolls/ (Caused by ProxyError('Unable to connect to proxy', ConnectTimeoutError(<urllib3.connection.HTTPSConnection object at 0x137582070>, 'Connection to 181.114.61.17 timed out. (connect timeout=30)')))\n"
     ]
    },
    {
     "data": {
      "application/javascript": [
       "\n",
       "        if (window._pyforest_update_imports_cell) { window._pyforest_update_imports_cell('import re'); }\n",
       "    "
      ],
      "text/plain": [
       "<IPython.core.display.Javascript object>"
      ]
     },
     "metadata": {},
     "output_type": "display_data"
    },
    {
     "data": {
      "application/javascript": [
       "\n",
       "        if (window._pyforest_update_imports_cell) { window._pyforest_update_imports_cell('import re'); }\n",
       "    "
      ],
      "text/plain": [
       "<IPython.core.display.Javascript object>"
      ]
     },
     "metadata": {},
     "output_type": "display_data"
    },
    {
     "data": {
      "application/javascript": [
       "\n",
       "        if (window._pyforest_update_imports_cell) { window._pyforest_update_imports_cell('import re'); }\n",
       "    "
      ],
      "text/plain": [
       "<IPython.core.display.Javascript object>"
      ]
     },
     "metadata": {},
     "output_type": "display_data"
    },
    {
     "name": "stdout",
     "output_type": "stream",
     "text": [
      "Successfully retrieved 214 - https://www.halfbakedharvest.com/oven-fried-coconut-shrimp/ with proxy 35.220.254.137:8080\n",
      "Proxy 181.114.61.17:8085 failed for https://www.halfbakedharvest.com/peach-brie-pastry-tarts/: HTTPSConnectionPool(host='www.halfbakedharvest.com', port=443): Max retries exceeded with url: /peach-brie-pastry-tarts/ (Caused by ProxyError('Unable to connect to proxy', ConnectTimeoutError(<urllib3.connection.HTTPSConnection object at 0x1374b23d0>, 'Connection to 181.114.61.17 timed out. (connect timeout=30)')))\n"
     ]
    },
    {
     "data": {
      "application/javascript": [
       "\n",
       "        if (window._pyforest_update_imports_cell) { window._pyforest_update_imports_cell('import re'); }\n",
       "    "
      ],
      "text/plain": [
       "<IPython.core.display.Javascript object>"
      ]
     },
     "metadata": {},
     "output_type": "display_data"
    },
    {
     "data": {
      "application/javascript": [
       "\n",
       "        if (window._pyforest_update_imports_cell) { window._pyforest_update_imports_cell('import re'); }\n",
       "    "
      ],
      "text/plain": [
       "<IPython.core.display.Javascript object>"
      ]
     },
     "metadata": {},
     "output_type": "display_data"
    },
    {
     "name": "stdout",
     "output_type": "stream",
     "text": [
      "Successfully retrieved 216 - https://www.halfbakedharvest.com/how-to-make-an-easy-holiday-cheese-board/ with proxy 35.220.254.137:8080\n"
     ]
    },
    {
     "data": {
      "application/javascript": [
       "\n",
       "        if (window._pyforest_update_imports_cell) { window._pyforest_update_imports_cell('import re'); }\n",
       "    "
      ],
      "text/plain": [
       "<IPython.core.display.Javascript object>"
      ]
     },
     "metadata": {},
     "output_type": "display_data"
    },
    {
     "data": {
      "application/javascript": [
       "\n",
       "        if (window._pyforest_update_imports_cell) { window._pyforest_update_imports_cell('import re'); }\n",
       "    "
      ],
      "text/plain": [
       "<IPython.core.display.Javascript object>"
      ]
     },
     "metadata": {},
     "output_type": "display_data"
    },
    {
     "data": {
      "application/javascript": [
       "\n",
       "        if (window._pyforest_update_imports_cell) { window._pyforest_update_imports_cell('import re'); }\n",
       "    "
      ],
      "text/plain": [
       "<IPython.core.display.Javascript object>"
      ]
     },
     "metadata": {},
     "output_type": "display_data"
    },
    {
     "name": "stdout",
     "output_type": "stream",
     "text": [
      "Successfully retrieved 217 - https://www.halfbakedharvest.com/idiot-proof-5-ingredient-cranberry-brie-cinnamon-sugar-puff-pastry-swirls/ with proxy 181.114.61.17:8085\n"
     ]
    },
    {
     "data": {
      "application/javascript": [
       "\n",
       "        if (window._pyforest_update_imports_cell) { window._pyforest_update_imports_cell('import re'); }\n",
       "    "
      ],
      "text/plain": [
       "<IPython.core.display.Javascript object>"
      ]
     },
     "metadata": {},
     "output_type": "display_data"
    },
    {
     "data": {
      "application/javascript": [
       "\n",
       "        if (window._pyforest_update_imports_cell) { window._pyforest_update_imports_cell('import re'); }\n",
       "    "
      ],
      "text/plain": [
       "<IPython.core.display.Javascript object>"
      ]
     },
     "metadata": {},
     "output_type": "display_data"
    },
    {
     "data": {
      "application/javascript": [
       "\n",
       "        if (window._pyforest_update_imports_cell) { window._pyforest_update_imports_cell('import re'); }\n",
       "    "
      ],
      "text/plain": [
       "<IPython.core.display.Javascript object>"
      ]
     },
     "metadata": {},
     "output_type": "display_data"
    },
    {
     "name": "stdout",
     "output_type": "stream",
     "text": [
      "Successfully retrieved 218 - https://www.halfbakedharvest.com/goat-cheese-stuffed-bacon-wrapped-dates/ with proxy 35.220.254.137:8080\n"
     ]
    },
    {
     "data": {
      "application/javascript": [
       "\n",
       "        if (window._pyforest_update_imports_cell) { window._pyforest_update_imports_cell('import re'); }\n",
       "    "
      ],
      "text/plain": [
       "<IPython.core.display.Javascript object>"
      ]
     },
     "metadata": {},
     "output_type": "display_data"
    },
    {
     "data": {
      "application/javascript": [
       "\n",
       "        if (window._pyforest_update_imports_cell) { window._pyforest_update_imports_cell('import re'); }\n",
       "    "
      ],
      "text/plain": [
       "<IPython.core.display.Javascript object>"
      ]
     },
     "metadata": {},
     "output_type": "display_data"
    },
    {
     "data": {
      "application/javascript": [
       "\n",
       "        if (window._pyforest_update_imports_cell) { window._pyforest_update_imports_cell('import re'); }\n",
       "    "
      ],
      "text/plain": [
       "<IPython.core.display.Javascript object>"
      ]
     },
     "metadata": {},
     "output_type": "display_data"
    },
    {
     "name": "stdout",
     "output_type": "stream",
     "text": [
      "Successfully retrieved 219 - https://www.halfbakedharvest.com/spicy-ranch-chex-mix/ with proxy 181.114.61.17:8085\n"
     ]
    },
    {
     "data": {
      "application/javascript": [
       "\n",
       "        if (window._pyforest_update_imports_cell) { window._pyforest_update_imports_cell('import re'); }\n",
       "    "
      ],
      "text/plain": [
       "<IPython.core.display.Javascript object>"
      ]
     },
     "metadata": {},
     "output_type": "display_data"
    },
    {
     "data": {
      "application/javascript": [
       "\n",
       "        if (window._pyforest_update_imports_cell) { window._pyforest_update_imports_cell('import re'); }\n",
       "    "
      ],
      "text/plain": [
       "<IPython.core.display.Javascript object>"
      ]
     },
     "metadata": {},
     "output_type": "display_data"
    },
    {
     "data": {
      "application/javascript": [
       "\n",
       "        if (window._pyforest_update_imports_cell) { window._pyforest_update_imports_cell('import re'); }\n",
       "    "
      ],
      "text/plain": [
       "<IPython.core.display.Javascript object>"
      ]
     },
     "metadata": {},
     "output_type": "display_data"
    },
    {
     "name": "stdout",
     "output_type": "stream",
     "text": [
      "Successfully retrieved 220 - https://www.halfbakedharvest.com/parmesan-popovers/ with proxy 35.220.254.137:8080\n",
      "Proxy 181.114.61.17:8085 failed for https://www.halfbakedharvest.com/sweet-potato-parmesan-tater-tots/: HTTPSConnectionPool(host='www.halfbakedharvest.com', port=443): Max retries exceeded with url: /sweet-potato-parmesan-tater-tots/ (Caused by ProxyError('Unable to connect to proxy', ConnectTimeoutError(<urllib3.connection.HTTPSConnection object at 0x14354b910>, 'Connection to 181.114.61.17 timed out. (connect timeout=30)')))\n"
     ]
    },
    {
     "data": {
      "application/javascript": [
       "\n",
       "        if (window._pyforest_update_imports_cell) { window._pyforest_update_imports_cell('import re'); }\n",
       "    "
      ],
      "text/plain": [
       "<IPython.core.display.Javascript object>"
      ]
     },
     "metadata": {},
     "output_type": "display_data"
    },
    {
     "data": {
      "application/javascript": [
       "\n",
       "        if (window._pyforest_update_imports_cell) { window._pyforest_update_imports_cell('import re'); }\n",
       "    "
      ],
      "text/plain": [
       "<IPython.core.display.Javascript object>"
      ]
     },
     "metadata": {},
     "output_type": "display_data"
    },
    {
     "data": {
      "application/javascript": [
       "\n",
       "        if (window._pyforest_update_imports_cell) { window._pyforest_update_imports_cell('import re'); }\n",
       "    "
      ],
      "text/plain": [
       "<IPython.core.display.Javascript object>"
      ]
     },
     "metadata": {},
     "output_type": "display_data"
    },
    {
     "name": "stdout",
     "output_type": "stream",
     "text": [
      "Successfully retrieved 222 - https://www.halfbakedharvest.com/baked-boneless-honey-bbq-chicken-wings/ with proxy 35.220.254.137:8080\n",
      "Proxy 181.114.61.17:8085 failed for https://www.halfbakedharvest.com/pastry-wrapped-baked-brie-with-thyme-butter-roasted-plums/: HTTPSConnectionPool(host='www.halfbakedharvest.com', port=443): Max retries exceeded with url: /pastry-wrapped-baked-brie-with-thyme-butter-roasted-plums/ (Caused by ProxyError('Unable to connect to proxy', ConnectTimeoutError(<urllib3.connection.HTTPSConnection object at 0x143364970>, 'Connection to 181.114.61.17 timed out. (connect timeout=30)')))\n"
     ]
    },
    {
     "data": {
      "application/javascript": [
       "\n",
       "        if (window._pyforest_update_imports_cell) { window._pyforest_update_imports_cell('import re'); }\n",
       "    "
      ],
      "text/plain": [
       "<IPython.core.display.Javascript object>"
      ]
     },
     "metadata": {},
     "output_type": "display_data"
    },
    {
     "data": {
      "application/javascript": [
       "\n",
       "        if (window._pyforest_update_imports_cell) { window._pyforest_update_imports_cell('import re'); }\n",
       "    "
      ],
      "text/plain": [
       "<IPython.core.display.Javascript object>"
      ]
     },
     "metadata": {},
     "output_type": "display_data"
    },
    {
     "data": {
      "application/javascript": [
       "\n",
       "        if (window._pyforest_update_imports_cell) { window._pyforest_update_imports_cell('import re'); }\n",
       "    "
      ],
      "text/plain": [
       "<IPython.core.display.Javascript object>"
      ]
     },
     "metadata": {},
     "output_type": "display_data"
    },
    {
     "name": "stdout",
     "output_type": "stream",
     "text": [
      "Successfully retrieved 224 - https://www.halfbakedharvest.com/prosciutto-goat-cheese-stuffed-peaches/ with proxy 35.220.254.137:8080\n",
      "Proxy 181.114.61.17:8085 failed for https://www.halfbakedharvest.com/grilled-street-corn-salad/: HTTPSConnectionPool(host='www.halfbakedharvest.com', port=443): Max retries exceeded with url: /grilled-street-corn-salad/ (Caused by ProxyError('Unable to connect to proxy', ConnectTimeoutError(<urllib3.connection.HTTPSConnection object at 0x137c7f2b0>, 'Connection to 181.114.61.17 timed out. (connect timeout=30)')))\n"
     ]
    },
    {
     "data": {
      "application/javascript": [
       "\n",
       "        if (window._pyforest_update_imports_cell) { window._pyforest_update_imports_cell('import re'); }\n",
       "    "
      ],
      "text/plain": [
       "<IPython.core.display.Javascript object>"
      ]
     },
     "metadata": {},
     "output_type": "display_data"
    },
    {
     "data": {
      "application/javascript": [
       "\n",
       "        if (window._pyforest_update_imports_cell) { window._pyforest_update_imports_cell('import re'); }\n",
       "    "
      ],
      "text/plain": [
       "<IPython.core.display.Javascript object>"
      ]
     },
     "metadata": {},
     "output_type": "display_data"
    },
    {
     "data": {
      "application/javascript": [
       "\n",
       "        if (window._pyforest_update_imports_cell) { window._pyforest_update_imports_cell('import re'); }\n",
       "    "
      ],
      "text/plain": [
       "<IPython.core.display.Javascript object>"
      ]
     },
     "metadata": {},
     "output_type": "display_data"
    },
    {
     "name": "stdout",
     "output_type": "stream",
     "text": [
      "Successfully retrieved 226 - https://www.halfbakedharvest.com/peach-thyme-tarts/ with proxy 35.220.254.137:8080\n",
      "Proxy 181.114.61.17:8085 failed for https://www.halfbakedharvest.com/no-fuss-farmers-market-mezze-platter/: HTTPSConnectionPool(host='www.halfbakedharvest.com', port=443): Max retries exceeded with url: /no-fuss-farmers-market-mezze-platter/ (Caused by ProxyError('Unable to connect to proxy', ConnectTimeoutError(<urllib3.connection.HTTPSConnection object at 0x1432ec6a0>, 'Connection to 181.114.61.17 timed out. (connect timeout=30)')))\n"
     ]
    },
    {
     "data": {
      "application/javascript": [
       "\n",
       "        if (window._pyforest_update_imports_cell) { window._pyforest_update_imports_cell('import re'); }\n",
       "    "
      ],
      "text/plain": [
       "<IPython.core.display.Javascript object>"
      ]
     },
     "metadata": {},
     "output_type": "display_data"
    },
    {
     "data": {
      "application/javascript": [
       "\n",
       "        if (window._pyforest_update_imports_cell) { window._pyforest_update_imports_cell('import re'); }\n",
       "    "
      ],
      "text/plain": [
       "<IPython.core.display.Javascript object>"
      ]
     },
     "metadata": {},
     "output_type": "display_data"
    },
    {
     "name": "stdout",
     "output_type": "stream",
     "text": [
      "Successfully retrieved 228 - https://www.halfbakedharvest.com/easy-tzatziki/ with proxy 35.220.254.137:8080\n",
      "Proxy 181.114.61.17:8085 failed for https://www.halfbakedharvest.com/pan-fried-feta-with-peppered-honey/: HTTPSConnectionPool(host='www.halfbakedharvest.com', port=443): Max retries exceeded with url: /pan-fried-feta-with-peppered-honey/ (Caused by ProxyError('Unable to connect to proxy', ConnectTimeoutError(<urllib3.connection.HTTPSConnection object at 0x1376092b0>, 'Connection to 181.114.61.17 timed out. (connect timeout=30)')))\n"
     ]
    },
    {
     "data": {
      "application/javascript": [
       "\n",
       "        if (window._pyforest_update_imports_cell) { window._pyforest_update_imports_cell('import re'); }\n",
       "    "
      ],
      "text/plain": [
       "<IPython.core.display.Javascript object>"
      ]
     },
     "metadata": {},
     "output_type": "display_data"
    },
    {
     "data": {
      "application/javascript": [
       "\n",
       "        if (window._pyforest_update_imports_cell) { window._pyforest_update_imports_cell('import re'); }\n",
       "    "
      ],
      "text/plain": [
       "<IPython.core.display.Javascript object>"
      ]
     },
     "metadata": {},
     "output_type": "display_data"
    },
    {
     "data": {
      "application/javascript": [
       "\n",
       "        if (window._pyforest_update_imports_cell) { window._pyforest_update_imports_cell('import re'); }\n",
       "    "
      ],
      "text/plain": [
       "<IPython.core.display.Javascript object>"
      ]
     },
     "metadata": {},
     "output_type": "display_data"
    },
    {
     "name": "stdout",
     "output_type": "stream",
     "text": [
      "Successfully retrieved 230 - https://www.halfbakedharvest.com/browned-butter-jalapeno-cornbread-muffins/ with proxy 35.220.254.137:8080\n"
     ]
    },
    {
     "data": {
      "application/javascript": [
       "\n",
       "        if (window._pyforest_update_imports_cell) { window._pyforest_update_imports_cell('import re'); }\n",
       "    "
      ],
      "text/plain": [
       "<IPython.core.display.Javascript object>"
      ]
     },
     "metadata": {},
     "output_type": "display_data"
    },
    {
     "data": {
      "application/javascript": [
       "\n",
       "        if (window._pyforest_update_imports_cell) { window._pyforest_update_imports_cell('import re'); }\n",
       "    "
      ],
      "text/plain": [
       "<IPython.core.display.Javascript object>"
      ]
     },
     "metadata": {},
     "output_type": "display_data"
    },
    {
     "data": {
      "application/javascript": [
       "\n",
       "        if (window._pyforest_update_imports_cell) { window._pyforest_update_imports_cell('import re'); }\n",
       "    "
      ],
      "text/plain": [
       "<IPython.core.display.Javascript object>"
      ]
     },
     "metadata": {},
     "output_type": "display_data"
    },
    {
     "name": "stdout",
     "output_type": "stream",
     "text": [
      "Successfully retrieved 231 - https://www.halfbakedharvest.com/caramelized-onion-and-balsamic-tomato-tarts/ with proxy 181.114.61.17:8085\n"
     ]
    },
    {
     "data": {
      "application/javascript": [
       "\n",
       "        if (window._pyforest_update_imports_cell) { window._pyforest_update_imports_cell('import re'); }\n",
       "    "
      ],
      "text/plain": [
       "<IPython.core.display.Javascript object>"
      ]
     },
     "metadata": {},
     "output_type": "display_data"
    },
    {
     "data": {
      "application/javascript": [
       "\n",
       "        if (window._pyforest_update_imports_cell) { window._pyforest_update_imports_cell('import re'); }\n",
       "    "
      ],
      "text/plain": [
       "<IPython.core.display.Javascript object>"
      ]
     },
     "metadata": {},
     "output_type": "display_data"
    },
    {
     "data": {
      "application/javascript": [
       "\n",
       "        if (window._pyforest_update_imports_cell) { window._pyforest_update_imports_cell('import re'); }\n",
       "    "
      ],
      "text/plain": [
       "<IPython.core.display.Javascript object>"
      ]
     },
     "metadata": {},
     "output_type": "display_data"
    },
    {
     "name": "stdout",
     "output_type": "stream",
     "text": [
      "Successfully retrieved 232 - https://www.halfbakedharvest.com/roasted-caprese-burrata-sliders/ with proxy 35.220.254.137:8080\n"
     ]
    },
    {
     "data": {
      "application/javascript": [
       "\n",
       "        if (window._pyforest_update_imports_cell) { window._pyforest_update_imports_cell('import re'); }\n",
       "    "
      ],
      "text/plain": [
       "<IPython.core.display.Javascript object>"
      ]
     },
     "metadata": {},
     "output_type": "display_data"
    },
    {
     "data": {
      "application/javascript": [
       "\n",
       "        if (window._pyforest_update_imports_cell) { window._pyforest_update_imports_cell('import re'); }\n",
       "    "
      ],
      "text/plain": [
       "<IPython.core.display.Javascript object>"
      ]
     },
     "metadata": {},
     "output_type": "display_data"
    },
    {
     "data": {
      "application/javascript": [
       "\n",
       "        if (window._pyforest_update_imports_cell) { window._pyforest_update_imports_cell('import re'); }\n",
       "    "
      ],
      "text/plain": [
       "<IPython.core.display.Javascript object>"
      ]
     },
     "metadata": {},
     "output_type": "display_data"
    },
    {
     "name": "stdout",
     "output_type": "stream",
     "text": [
      "Successfully retrieved 233 - https://www.halfbakedharvest.com/crispy-prosciutto-asparagus-and-brie-toast/ with proxy 181.114.61.17:8085\n",
      "Proxy 35.220.254.137:8080 failed for https://www.halfbakedharvest.com/cheesy-potato-chive-galette/: ('Connection aborted.', ConnectionResetError(54, 'Connection reset by peer'))\n"
     ]
    },
    {
     "data": {
      "application/javascript": [
       "\n",
       "        if (window._pyforest_update_imports_cell) { window._pyforest_update_imports_cell('import re'); }\n",
       "    "
      ],
      "text/plain": [
       "<IPython.core.display.Javascript object>"
      ]
     },
     "metadata": {},
     "output_type": "display_data"
    },
    {
     "data": {
      "application/javascript": [
       "\n",
       "        if (window._pyforest_update_imports_cell) { window._pyforest_update_imports_cell('import re'); }\n",
       "    "
      ],
      "text/plain": [
       "<IPython.core.display.Javascript object>"
      ]
     },
     "metadata": {},
     "output_type": "display_data"
    },
    {
     "data": {
      "application/javascript": [
       "\n",
       "        if (window._pyforest_update_imports_cell) { window._pyforest_update_imports_cell('import re'); }\n",
       "    "
      ],
      "text/plain": [
       "<IPython.core.display.Javascript object>"
      ]
     },
     "metadata": {},
     "output_type": "display_data"
    },
    {
     "name": "stdout",
     "output_type": "stream",
     "text": [
      "Successfully retrieved 235 - https://www.halfbakedharvest.com/sesame-roasted-asparagus-with-whipped-feta/ with proxy 181.114.61.17:8085\n"
     ]
    },
    {
     "data": {
      "application/javascript": [
       "\n",
       "        if (window._pyforest_update_imports_cell) { window._pyforest_update_imports_cell('import re'); }\n",
       "    "
      ],
      "text/plain": [
       "<IPython.core.display.Javascript object>"
      ]
     },
     "metadata": {},
     "output_type": "display_data"
    },
    {
     "data": {
      "application/javascript": [
       "\n",
       "        if (window._pyforest_update_imports_cell) { window._pyforest_update_imports_cell('import re'); }\n",
       "    "
      ],
      "text/plain": [
       "<IPython.core.display.Javascript object>"
      ]
     },
     "metadata": {},
     "output_type": "display_data"
    },
    {
     "data": {
      "application/javascript": [
       "\n",
       "        if (window._pyforest_update_imports_cell) { window._pyforest_update_imports_cell('import re'); }\n",
       "    "
      ],
      "text/plain": [
       "<IPython.core.display.Javascript object>"
      ]
     },
     "metadata": {},
     "output_type": "display_data"
    },
    {
     "data": {
      "application/javascript": [
       "\n",
       "        if (window._pyforest_update_imports_cell) { window._pyforest_update_imports_cell('import re'); }\n",
       "    "
      ],
      "text/plain": [
       "<IPython.core.display.Javascript object>"
      ]
     },
     "metadata": {},
     "output_type": "display_data"
    },
    {
     "name": "stdout",
     "output_type": "stream",
     "text": [
      "Successfully retrieved 236 - https://www.halfbakedharvest.com/herby-everything-cheddar-swirl-buns/ with proxy 35.220.254.137:8080\n",
      "Proxy 181.114.61.17:8085 failed for https://www.halfbakedharvest.com/khachapuri-georgian-cheese-bread/: HTTPSConnectionPool(host='www.halfbakedharvest.com', port=443): Max retries exceeded with url: /khachapuri-georgian-cheese-bread/ (Caused by ProxyError('Unable to connect to proxy', ConnectTimeoutError(<urllib3.connection.HTTPSConnection object at 0x142f04e20>, 'Connection to 181.114.61.17 timed out. (connect timeout=30)')))\n"
     ]
    },
    {
     "data": {
      "application/javascript": [
       "\n",
       "        if (window._pyforest_update_imports_cell) { window._pyforest_update_imports_cell('import re'); }\n",
       "    "
      ],
      "text/plain": [
       "<IPython.core.display.Javascript object>"
      ]
     },
     "metadata": {},
     "output_type": "display_data"
    },
    {
     "data": {
      "application/javascript": [
       "\n",
       "        if (window._pyforest_update_imports_cell) { window._pyforest_update_imports_cell('import re'); }\n",
       "    "
      ],
      "text/plain": [
       "<IPython.core.display.Javascript object>"
      ]
     },
     "metadata": {},
     "output_type": "display_data"
    },
    {
     "data": {
      "application/javascript": [
       "\n",
       "        if (window._pyforest_update_imports_cell) { window._pyforest_update_imports_cell('import re'); }\n",
       "    "
      ],
      "text/plain": [
       "<IPython.core.display.Javascript object>"
      ]
     },
     "metadata": {},
     "output_type": "display_data"
    },
    {
     "name": "stdout",
     "output_type": "stream",
     "text": [
      "Successfully retrieved 238 - https://www.halfbakedharvest.com/fried-buffalo-goat-cheese-balls/ with proxy 35.220.254.137:8080\n",
      "Proxy 181.114.61.17:8085 failed for https://www.halfbakedharvest.com/spinach-and-artichoke-stuffed-soft-pretzels/: HTTPSConnectionPool(host='www.halfbakedharvest.com', port=443): Max retries exceeded with url: /spinach-and-artichoke-stuffed-soft-pretzels/ (Caused by ProxyError('Unable to connect to proxy', ConnectTimeoutError(<urllib3.connection.HTTPSConnection object at 0x137592790>, 'Connection to 181.114.61.17 timed out. (connect timeout=30)')))\n"
     ]
    },
    {
     "data": {
      "application/javascript": [
       "\n",
       "        if (window._pyforest_update_imports_cell) { window._pyforest_update_imports_cell('import re'); }\n",
       "    "
      ],
      "text/plain": [
       "<IPython.core.display.Javascript object>"
      ]
     },
     "metadata": {},
     "output_type": "display_data"
    },
    {
     "data": {
      "application/javascript": [
       "\n",
       "        if (window._pyforest_update_imports_cell) { window._pyforest_update_imports_cell('import re'); }\n",
       "    "
      ],
      "text/plain": [
       "<IPython.core.display.Javascript object>"
      ]
     },
     "metadata": {},
     "output_type": "display_data"
    },
    {
     "data": {
      "application/javascript": [
       "\n",
       "        if (window._pyforest_update_imports_cell) { window._pyforest_update_imports_cell('import re'); }\n",
       "    "
      ],
      "text/plain": [
       "<IPython.core.display.Javascript object>"
      ]
     },
     "metadata": {},
     "output_type": "display_data"
    },
    {
     "name": "stdout",
     "output_type": "stream",
     "text": [
      "Successfully retrieved 240 - https://www.halfbakedharvest.com/fried-mozzarella-sandwiches/ with proxy 35.220.254.137:8080\n",
      "Proxy 181.114.61.17:8085 failed for https://www.halfbakedharvest.com/easy-cheese-and-prosciutto-croissants/: HTTPSConnectionPool(host='www.halfbakedharvest.com', port=443): Max retries exceeded with url: /easy-cheese-and-prosciutto-croissants/ (Caused by ProxyError('Unable to connect to proxy', ConnectTimeoutError(<urllib3.connection.HTTPSConnection object at 0x142e86580>, 'Connection to 181.114.61.17 timed out. (connect timeout=30)')))\n"
     ]
    },
    {
     "data": {
      "application/javascript": [
       "\n",
       "        if (window._pyforest_update_imports_cell) { window._pyforest_update_imports_cell('import re'); }\n",
       "    "
      ],
      "text/plain": [
       "<IPython.core.display.Javascript object>"
      ]
     },
     "metadata": {},
     "output_type": "display_data"
    },
    {
     "data": {
      "application/javascript": [
       "\n",
       "        if (window._pyforest_update_imports_cell) { window._pyforest_update_imports_cell('import re'); }\n",
       "    "
      ],
      "text/plain": [
       "<IPython.core.display.Javascript object>"
      ]
     },
     "metadata": {},
     "output_type": "display_data"
    },
    {
     "data": {
      "application/javascript": [
       "\n",
       "        if (window._pyforest_update_imports_cell) { window._pyforest_update_imports_cell('import re'); }\n",
       "    "
      ],
      "text/plain": [
       "<IPython.core.display.Javascript object>"
      ]
     },
     "metadata": {},
     "output_type": "display_data"
    },
    {
     "name": "stdout",
     "output_type": "stream",
     "text": [
      "Successfully retrieved 242 - https://www.halfbakedharvest.com/herbed-cheddar-latkes/ with proxy 35.220.254.137:8080\n",
      "Proxy 181.114.61.17:8085 failed for https://www.halfbakedharvest.com/ginger-sesame-chicken-potstickers/: HTTPSConnectionPool(host='www.halfbakedharvest.com', port=443): Max retries exceeded with url: /ginger-sesame-chicken-potstickers/ (Caused by ProxyError('Unable to connect to proxy', ConnectTimeoutError(<urllib3.connection.HTTPSConnection object at 0x137781d30>, 'Connection to 181.114.61.17 timed out. (connect timeout=30)')))\n"
     ]
    },
    {
     "data": {
      "application/javascript": [
       "\n",
       "        if (window._pyforest_update_imports_cell) { window._pyforest_update_imports_cell('import re'); }\n",
       "    "
      ],
      "text/plain": [
       "<IPython.core.display.Javascript object>"
      ]
     },
     "metadata": {},
     "output_type": "display_data"
    },
    {
     "data": {
      "application/javascript": [
       "\n",
       "        if (window._pyforest_update_imports_cell) { window._pyforest_update_imports_cell('import re'); }\n",
       "    "
      ],
      "text/plain": [
       "<IPython.core.display.Javascript object>"
      ]
     },
     "metadata": {},
     "output_type": "display_data"
    },
    {
     "data": {
      "application/javascript": [
       "\n",
       "        if (window._pyforest_update_imports_cell) { window._pyforest_update_imports_cell('import re'); }\n",
       "    "
      ],
      "text/plain": [
       "<IPython.core.display.Javascript object>"
      ]
     },
     "metadata": {},
     "output_type": "display_data"
    },
    {
     "name": "stdout",
     "output_type": "stream",
     "text": [
      "Successfully retrieved 244 - https://www.halfbakedharvest.com/cranberry-brie-pastry-tarts/ with proxy 35.220.254.137:8080\n",
      "Proxy 181.114.61.17:8085 failed for https://www.halfbakedharvest.com/holiday-cheese-board/: HTTPSConnectionPool(host='www.halfbakedharvest.com', port=443): Max retries exceeded with url: /holiday-cheese-board/ (Caused by ProxyError('Unable to connect to proxy', ConnectTimeoutError(<urllib3.connection.HTTPSConnection object at 0x143801550>, 'Connection to 181.114.61.17 timed out. (connect timeout=30)')))\n"
     ]
    },
    {
     "data": {
      "application/javascript": [
       "\n",
       "        if (window._pyforest_update_imports_cell) { window._pyforest_update_imports_cell('import re'); }\n",
       "    "
      ],
      "text/plain": [
       "<IPython.core.display.Javascript object>"
      ]
     },
     "metadata": {},
     "output_type": "display_data"
    },
    {
     "data": {
      "application/javascript": [
       "\n",
       "        if (window._pyforest_update_imports_cell) { window._pyforest_update_imports_cell('import re'); }\n",
       "    "
      ],
      "text/plain": [
       "<IPython.core.display.Javascript object>"
      ]
     },
     "metadata": {},
     "output_type": "display_data"
    },
    {
     "data": {
      "application/javascript": [
       "\n",
       "        if (window._pyforest_update_imports_cell) { window._pyforest_update_imports_cell('import re'); }\n",
       "    "
      ],
      "text/plain": [
       "<IPython.core.display.Javascript object>"
      ]
     },
     "metadata": {},
     "output_type": "display_data"
    },
    {
     "name": "stdout",
     "output_type": "stream",
     "text": [
      "Successfully retrieved 246 - https://www.halfbakedharvest.com/chipotle-braised-chicken-nachos/ with proxy 35.220.254.137:8080\n",
      "Proxy 181.114.61.17:8085 failed for https://www.halfbakedharvest.com/onion-spinach-and-cheddar-flaky-pastries/: HTTPSConnectionPool(host='www.halfbakedharvest.com', port=443): Max retries exceeded with url: /onion-spinach-and-cheddar-flaky-pastries/ (Caused by ProxyError('Unable to connect to proxy', ConnectTimeoutError(<urllib3.connection.HTTPSConnection object at 0x1375f2be0>, 'Connection to 181.114.61.17 timed out. (connect timeout=30)')))\n"
     ]
    },
    {
     "data": {
      "application/javascript": [
       "\n",
       "        if (window._pyforest_update_imports_cell) { window._pyforest_update_imports_cell('import re'); }\n",
       "    "
      ],
      "text/plain": [
       "<IPython.core.display.Javascript object>"
      ]
     },
     "metadata": {},
     "output_type": "display_data"
    },
    {
     "data": {
      "application/javascript": [
       "\n",
       "        if (window._pyforest_update_imports_cell) { window._pyforest_update_imports_cell('import re'); }\n",
       "    "
      ],
      "text/plain": [
       "<IPython.core.display.Javascript object>"
      ]
     },
     "metadata": {},
     "output_type": "display_data"
    },
    {
     "data": {
      "application/javascript": [
       "\n",
       "        if (window._pyforest_update_imports_cell) { window._pyforest_update_imports_cell('import re'); }\n",
       "    "
      ],
      "text/plain": [
       "<IPython.core.display.Javascript object>"
      ]
     },
     "metadata": {},
     "output_type": "display_data"
    },
    {
     "name": "stdout",
     "output_type": "stream",
     "text": [
      "Successfully retrieved 248 - https://www.halfbakedharvest.com/baked-sweet-potato-fries/ with proxy 35.220.254.137:8080\n"
     ]
    },
    {
     "data": {
      "application/javascript": [
       "\n",
       "        if (window._pyforest_update_imports_cell) { window._pyforest_update_imports_cell('import re'); }\n",
       "    "
      ],
      "text/plain": [
       "<IPython.core.display.Javascript object>"
      ]
     },
     "metadata": {},
     "output_type": "display_data"
    },
    {
     "data": {
      "application/javascript": [
       "\n",
       "        if (window._pyforest_update_imports_cell) { window._pyforest_update_imports_cell('import re'); }\n",
       "    "
      ],
      "text/plain": [
       "<IPython.core.display.Javascript object>"
      ]
     },
     "metadata": {},
     "output_type": "display_data"
    },
    {
     "data": {
      "application/javascript": [
       "\n",
       "        if (window._pyforest_update_imports_cell) { window._pyforest_update_imports_cell('import re'); }\n",
       "    "
      ],
      "text/plain": [
       "<IPython.core.display.Javascript object>"
      ]
     },
     "metadata": {},
     "output_type": "display_data"
    },
    {
     "data": {
      "application/javascript": [
       "\n",
       "        if (window._pyforest_update_imports_cell) { window._pyforest_update_imports_cell('import re'); }\n",
       "    "
      ],
      "text/plain": [
       "<IPython.core.display.Javascript object>"
      ]
     },
     "metadata": {},
     "output_type": "display_data"
    },
    {
     "name": "stdout",
     "output_type": "stream",
     "text": [
      "Successfully retrieved 249 - https://www.halfbakedharvest.com/spinach-and-artichoke-pull-apart-pretzel-bread/ with proxy 181.114.61.17:8085\n"
     ]
    },
    {
     "data": {
      "application/javascript": [
       "\n",
       "        if (window._pyforest_update_imports_cell) { window._pyforest_update_imports_cell('import re'); }\n",
       "    "
      ],
      "text/plain": [
       "<IPython.core.display.Javascript object>"
      ]
     },
     "metadata": {},
     "output_type": "display_data"
    },
    {
     "data": {
      "application/javascript": [
       "\n",
       "        if (window._pyforest_update_imports_cell) { window._pyforest_update_imports_cell('import re'); }\n",
       "    "
      ],
      "text/plain": [
       "<IPython.core.display.Javascript object>"
      ]
     },
     "metadata": {},
     "output_type": "display_data"
    },
    {
     "data": {
      "application/javascript": [
       "\n",
       "        if (window._pyforest_update_imports_cell) { window._pyforest_update_imports_cell('import re'); }\n",
       "    "
      ],
      "text/plain": [
       "<IPython.core.display.Javascript object>"
      ]
     },
     "metadata": {},
     "output_type": "display_data"
    },
    {
     "name": "stdout",
     "output_type": "stream",
     "text": [
      "Successfully retrieved 250 - https://www.halfbakedharvest.com/corn-and-tomato-tarte-tatin/ with proxy 35.220.254.137:8080\n",
      "Proxy 181.114.61.17:8085 failed for https://www.halfbakedharvest.com/heirloom-tomato-basil-and-manchego-toast/: HTTPSConnectionPool(host='www.halfbakedharvest.com', port=443): Max retries exceeded with url: /heirloom-tomato-basil-and-manchego-toast/ (Caused by ProxyError('Unable to connect to proxy', ConnectTimeoutError(<urllib3.connection.HTTPSConnection object at 0x137997340>, 'Connection to 181.114.61.17 timed out. (connect timeout=30)')))\n"
     ]
    },
    {
     "data": {
      "application/javascript": [
       "\n",
       "        if (window._pyforest_update_imports_cell) { window._pyforest_update_imports_cell('import re'); }\n",
       "    "
      ],
      "text/plain": [
       "<IPython.core.display.Javascript object>"
      ]
     },
     "metadata": {},
     "output_type": "display_data"
    },
    {
     "data": {
      "application/javascript": [
       "\n",
       "        if (window._pyforest_update_imports_cell) { window._pyforest_update_imports_cell('import re'); }\n",
       "    "
      ],
      "text/plain": [
       "<IPython.core.display.Javascript object>"
      ]
     },
     "metadata": {},
     "output_type": "display_data"
    },
    {
     "data": {
      "application/javascript": [
       "\n",
       "        if (window._pyforest_update_imports_cell) { window._pyforest_update_imports_cell('import re'); }\n",
       "    "
      ],
      "text/plain": [
       "<IPython.core.display.Javascript object>"
      ]
     },
     "metadata": {},
     "output_type": "display_data"
    },
    {
     "name": "stdout",
     "output_type": "stream",
     "text": [
      "Successfully retrieved 252 - https://www.halfbakedharvest.com/marinated-tomato-and-grilled-veggie-cheese-board/ with proxy 35.220.254.137:8080\n",
      "Proxy 181.114.61.17:8085 failed for https://www.halfbakedharvest.com/thyme-honey-peach-and-goat-cheese-crostini/: HTTPSConnectionPool(host='www.halfbakedharvest.com', port=443): Max retries exceeded with url: /thyme-honey-peach-and-goat-cheese-crostini/ (Caused by ProxyError('Unable to connect to proxy', ConnectTimeoutError(<urllib3.connection.HTTPSConnection object at 0x143107f10>, 'Connection to 181.114.61.17 timed out. (connect timeout=30)')))\n"
     ]
    },
    {
     "data": {
      "application/javascript": [
       "\n",
       "        if (window._pyforest_update_imports_cell) { window._pyforest_update_imports_cell('import re'); }\n",
       "    "
      ],
      "text/plain": [
       "<IPython.core.display.Javascript object>"
      ]
     },
     "metadata": {},
     "output_type": "display_data"
    },
    {
     "data": {
      "application/javascript": [
       "\n",
       "        if (window._pyforest_update_imports_cell) { window._pyforest_update_imports_cell('import re'); }\n",
       "    "
      ],
      "text/plain": [
       "<IPython.core.display.Javascript object>"
      ]
     },
     "metadata": {},
     "output_type": "display_data"
    },
    {
     "name": "stdout",
     "output_type": "stream",
     "text": [
      "Successfully retrieved 254 - https://www.halfbakedharvest.com/melon-caprese-salad/ with proxy 35.220.254.137:8080\n",
      "Proxy 181.114.61.17:8085 failed for https://www.halfbakedharvest.com/spicy-corn-and-peaches-with-burrata/: HTTPSConnectionPool(host='www.halfbakedharvest.com', port=443): Max retries exceeded with url: /spicy-corn-and-peaches-with-burrata/ (Caused by ProxyError('Unable to connect to proxy', ConnectTimeoutError(<urllib3.connection.HTTPSConnection object at 0x14336e070>, 'Connection to 181.114.61.17 timed out. (connect timeout=30)')))\n"
     ]
    },
    {
     "data": {
      "application/javascript": [
       "\n",
       "        if (window._pyforest_update_imports_cell) { window._pyforest_update_imports_cell('import re'); }\n",
       "    "
      ],
      "text/plain": [
       "<IPython.core.display.Javascript object>"
      ]
     },
     "metadata": {},
     "output_type": "display_data"
    },
    {
     "data": {
      "application/javascript": [
       "\n",
       "        if (window._pyforest_update_imports_cell) { window._pyforest_update_imports_cell('import re'); }\n",
       "    "
      ],
      "text/plain": [
       "<IPython.core.display.Javascript object>"
      ]
     },
     "metadata": {},
     "output_type": "display_data"
    },
    {
     "data": {
      "application/javascript": [
       "\n",
       "        if (window._pyforest_update_imports_cell) { window._pyforest_update_imports_cell('import re'); }\n",
       "    "
      ],
      "text/plain": [
       "<IPython.core.display.Javascript object>"
      ]
     },
     "metadata": {},
     "output_type": "display_data"
    },
    {
     "name": "stdout",
     "output_type": "stream",
     "text": [
      "Successfully retrieved 256 - https://www.halfbakedharvest.com/asparagus-brie-puff-pastry/ with proxy 35.220.254.137:8080\n",
      "Proxy 181.114.61.17:8085 failed for https://www.halfbakedharvest.com/the-best-jalapeno-queso/: HTTPSConnectionPool(host='www.halfbakedharvest.com', port=443): Max retries exceeded with url: /the-best-jalapeno-queso/ (Caused by ProxyError('Unable to connect to proxy', ConnectTimeoutError(<urllib3.connection.HTTPSConnection object at 0x142ef6970>, 'Connection to 181.114.61.17 timed out. (connect timeout=30)')))\n"
     ]
    },
    {
     "data": {
      "application/javascript": [
       "\n",
       "        if (window._pyforest_update_imports_cell) { window._pyforest_update_imports_cell('import re'); }\n",
       "    "
      ],
      "text/plain": [
       "<IPython.core.display.Javascript object>"
      ]
     },
     "metadata": {},
     "output_type": "display_data"
    },
    {
     "data": {
      "application/javascript": [
       "\n",
       "        if (window._pyforest_update_imports_cell) { window._pyforest_update_imports_cell('import re'); }\n",
       "    "
      ],
      "text/plain": [
       "<IPython.core.display.Javascript object>"
      ]
     },
     "metadata": {},
     "output_type": "display_data"
    },
    {
     "data": {
      "application/javascript": [
       "\n",
       "        if (window._pyforest_update_imports_cell) { window._pyforest_update_imports_cell('import re'); }\n",
       "    "
      ],
      "text/plain": [
       "<IPython.core.display.Javascript object>"
      ]
     },
     "metadata": {},
     "output_type": "display_data"
    },
    {
     "data": {
      "application/javascript": [
       "\n",
       "        if (window._pyforest_update_imports_cell) { window._pyforest_update_imports_cell('import re'); }\n",
       "    "
      ],
      "text/plain": [
       "<IPython.core.display.Javascript object>"
      ]
     },
     "metadata": {},
     "output_type": "display_data"
    },
    {
     "name": "stdout",
     "output_type": "stream",
     "text": [
      "Successfully retrieved 258 - https://www.halfbakedharvest.com/zucchini-bacon-and-pecorino-tart/ with proxy 35.220.254.137:8080\n",
      "Proxy 181.114.61.17:8085 failed for https://www.halfbakedharvest.com/moroccan-dip-platter/: ('Connection aborted.', RemoteDisconnected('Remote end closed connection without response'))\n"
     ]
    },
    {
     "data": {
      "application/javascript": [
       "\n",
       "        if (window._pyforest_update_imports_cell) { window._pyforest_update_imports_cell('import re'); }\n",
       "    "
      ],
      "text/plain": [
       "<IPython.core.display.Javascript object>"
      ]
     },
     "metadata": {},
     "output_type": "display_data"
    },
    {
     "data": {
      "application/javascript": [
       "\n",
       "        if (window._pyforest_update_imports_cell) { window._pyforest_update_imports_cell('import re'); }\n",
       "    "
      ],
      "text/plain": [
       "<IPython.core.display.Javascript object>"
      ]
     },
     "metadata": {},
     "output_type": "display_data"
    },
    {
     "data": {
      "application/javascript": [
       "\n",
       "        if (window._pyforest_update_imports_cell) { window._pyforest_update_imports_cell('import re'); }\n",
       "    "
      ],
      "text/plain": [
       "<IPython.core.display.Javascript object>"
      ]
     },
     "metadata": {},
     "output_type": "display_data"
    },
    {
     "data": {
      "application/javascript": [
       "\n",
       "        if (window._pyforest_update_imports_cell) { window._pyforest_update_imports_cell('import re'); }\n",
       "    "
      ],
      "text/plain": [
       "<IPython.core.display.Javascript object>"
      ]
     },
     "metadata": {},
     "output_type": "display_data"
    },
    {
     "name": "stdout",
     "output_type": "stream",
     "text": [
      "Successfully retrieved 260 - https://www.halfbakedharvest.com/greek-spinach-and-feta-pie-spanakopita/ with proxy 35.220.254.137:8080\n",
      "Proxy 181.114.61.17:8085 failed for https://www.halfbakedharvest.com/asparagus-egg-and-prosciutto-tart-with-everything-spice/: HTTPSConnectionPool(host='www.halfbakedharvest.com', port=443): Max retries exceeded with url: /asparagus-egg-and-prosciutto-tart-with-everything-spice/ (Caused by ProxyError('Unable to connect to proxy', ConnectTimeoutError(<urllib3.connection.HTTPSConnection object at 0x14319f310>, 'Connection to 181.114.61.17 timed out. (connect timeout=30)')))\n"
     ]
    },
    {
     "data": {
      "application/javascript": [
       "\n",
       "        if (window._pyforest_update_imports_cell) { window._pyforest_update_imports_cell('import re'); }\n",
       "    "
      ],
      "text/plain": [
       "<IPython.core.display.Javascript object>"
      ]
     },
     "metadata": {},
     "output_type": "display_data"
    },
    {
     "data": {
      "application/javascript": [
       "\n",
       "        if (window._pyforest_update_imports_cell) { window._pyforest_update_imports_cell('import re'); }\n",
       "    "
      ],
      "text/plain": [
       "<IPython.core.display.Javascript object>"
      ]
     },
     "metadata": {},
     "output_type": "display_data"
    },
    {
     "data": {
      "application/javascript": [
       "\n",
       "        if (window._pyforest_update_imports_cell) { window._pyforest_update_imports_cell('import re'); }\n",
       "    "
      ],
      "text/plain": [
       "<IPython.core.display.Javascript object>"
      ]
     },
     "metadata": {},
     "output_type": "display_data"
    },
    {
     "name": "stdout",
     "output_type": "stream",
     "text": [
      "Successfully retrieved 262 - https://www.halfbakedharvest.com/homemade-vegetable-potstickers-with-toasted-sesame-honey-soy-sauce/ with proxy 35.220.254.137:8080\n",
      "Proxy 181.114.61.17:8085 failed for https://www.halfbakedharvest.com/spicy-cauliflower-cheese-bites-with-tahini-ranch/: HTTPSConnectionPool(host='www.halfbakedharvest.com', port=443): Max retries exceeded with url: /spicy-cauliflower-cheese-bites-with-tahini-ranch/ (Caused by ProxyError('Unable to connect to proxy', ConnectTimeoutError(<urllib3.connection.HTTPSConnection object at 0x137576d30>, 'Connection to 181.114.61.17 timed out. (connect timeout=30)')))\n"
     ]
    },
    {
     "data": {
      "application/javascript": [
       "\n",
       "        if (window._pyforest_update_imports_cell) { window._pyforest_update_imports_cell('import re'); }\n",
       "    "
      ],
      "text/plain": [
       "<IPython.core.display.Javascript object>"
      ]
     },
     "metadata": {},
     "output_type": "display_data"
    },
    {
     "data": {
      "application/javascript": [
       "\n",
       "        if (window._pyforest_update_imports_cell) { window._pyforest_update_imports_cell('import re'); }\n",
       "    "
      ],
      "text/plain": [
       "<IPython.core.display.Javascript object>"
      ]
     },
     "metadata": {},
     "output_type": "display_data"
    },
    {
     "data": {
      "application/javascript": [
       "\n",
       "        if (window._pyforest_update_imports_cell) { window._pyforest_update_imports_cell('import re'); }\n",
       "    "
      ],
      "text/plain": [
       "<IPython.core.display.Javascript object>"
      ]
     },
     "metadata": {},
     "output_type": "display_data"
    },
    {
     "name": "stdout",
     "output_type": "stream",
     "text": [
      "Successfully retrieved 264 - https://www.halfbakedharvest.com/buttered-mushroom-sage-pesto-goat-cheese-sourdough-toast/ with proxy 35.220.254.137:8080\n",
      "Proxy 181.114.61.17:8085 failed for https://www.halfbakedharvest.com/apple-crisp-baked-brie-sunday-links-inspire/: HTTPSConnectionPool(host='www.halfbakedharvest.com', port=443): Max retries exceeded with url: /apple-crisp-baked-brie-sunday-links-inspire/ (Caused by ProxyError('Unable to connect to proxy', ConnectTimeoutError(<urllib3.connection.HTTPSConnection object at 0x14331c760>, 'Connection to 181.114.61.17 timed out. (connect timeout=30)')))\n"
     ]
    },
    {
     "data": {
      "application/javascript": [
       "\n",
       "        if (window._pyforest_update_imports_cell) { window._pyforest_update_imports_cell('import re'); }\n",
       "    "
      ],
      "text/plain": [
       "<IPython.core.display.Javascript object>"
      ]
     },
     "metadata": {},
     "output_type": "display_data"
    },
    {
     "data": {
      "application/javascript": [
       "\n",
       "        if (window._pyforest_update_imports_cell) { window._pyforest_update_imports_cell('import re'); }\n",
       "    "
      ],
      "text/plain": [
       "<IPython.core.display.Javascript object>"
      ]
     },
     "metadata": {},
     "output_type": "display_data"
    },
    {
     "name": "stdout",
     "output_type": "stream",
     "text": [
      "Successfully retrieved 266 - https://www.halfbakedharvest.com/spicy-chipotle-pumpkin-hummus-halloween-links/ with proxy 35.220.254.137:8080\n",
      "Proxy 181.114.61.17:8085 failed for https://www.halfbakedharvest.com/skinny-tandoori-butter-sweet-potato-fries-wcreamy-baked-harissa-feta/: HTTPSConnectionPool(host='www.halfbakedharvest.com', port=443): Max retries exceeded with url: /skinny-tandoori-butter-sweet-potato-fries-wcreamy-baked-harissa-feta/ (Caused by ProxyError('Unable to connect to proxy', ConnectTimeoutError(<urllib3.connection.HTTPSConnection object at 0x143a377f0>, 'Connection to 181.114.61.17 timed out. (connect timeout=30)')))\n",
      "Proxy 35.220.254.137:8080 failed for https://www.halfbakedharvest.com/sweet-spicy-rosemary-cheddar-gorgonzola-pumpkin-crackers/: ('Connection aborted.', ConnectionResetError(54, 'Connection reset by peer'))\n",
      "Proxy 181.114.61.17:8085 failed for https://www.halfbakedharvest.com/brie-cheddar-apple-beer-soup-cinnamon-pecan-oat-crumble/: HTTPSConnectionPool(host='www.halfbakedharvest.com', port=443): Max retries exceeded with url: /brie-cheddar-apple-beer-soup-cinnamon-pecan-oat-crumble/ (Caused by ProxyError('Unable to connect to proxy', ConnectTimeoutError(<urllib3.connection.HTTPSConnection object at 0x143a27bb0>, 'Connection to 181.114.61.17 timed out. (connect timeout=30)')))\n",
      "Successfully retrieved 270 - https://www.halfbakedharvest.com/25-favorite-fall-recipes/ with proxy 35.220.254.137:8080\n",
      "Proxy 181.114.61.17:8085 failed for https://www.halfbakedharvest.com/hot-wings-cookbook-giveaway/: HTTPSConnectionPool(host='www.halfbakedharvest.com', port=443): Max retries exceeded with url: /hot-wings-cookbook-giveaway/ (Caused by ProxyError('Unable to connect to proxy', ConnectTimeoutError(<urllib3.connection.HTTPSConnection object at 0x1372732b0>, 'Connection to 181.114.61.17 timed out. (connect timeout=30)')))\n"
     ]
    },
    {
     "data": {
      "application/javascript": [
       "\n",
       "        if (window._pyforest_update_imports_cell) { window._pyforest_update_imports_cell('import re'); }\n",
       "    "
      ],
      "text/plain": [
       "<IPython.core.display.Javascript object>"
      ]
     },
     "metadata": {},
     "output_type": "display_data"
    },
    {
     "data": {
      "application/javascript": [
       "\n",
       "        if (window._pyforest_update_imports_cell) { window._pyforest_update_imports_cell('import re'); }\n",
       "    "
      ],
      "text/plain": [
       "<IPython.core.display.Javascript object>"
      ]
     },
     "metadata": {},
     "output_type": "display_data"
    },
    {
     "data": {
      "application/javascript": [
       "\n",
       "        if (window._pyforest_update_imports_cell) { window._pyforest_update_imports_cell('import re'); }\n",
       "    "
      ],
      "text/plain": [
       "<IPython.core.display.Javascript object>"
      ]
     },
     "metadata": {},
     "output_type": "display_data"
    },
    {
     "name": "stdout",
     "output_type": "stream",
     "text": [
      "Successfully retrieved 272 - https://www.halfbakedharvest.com/sticky-asian-bbq-boneless-oven-baked-chicken-wings/ with proxy 35.220.254.137:8080\n",
      "Proxy 181.114.61.17:8085 failed for https://www.halfbakedharvest.com/caramelized-corn-heirloom-tomato-galette-wherbed-roasted-garlic-goat-cheese/: HTTPSConnectionPool(host='www.halfbakedharvest.com', port=443): Read timed out. (read timeout=30)\n"
     ]
    },
    {
     "data": {
      "application/javascript": [
       "\n",
       "        if (window._pyforest_update_imports_cell) { window._pyforest_update_imports_cell('import re'); }\n",
       "    "
      ],
      "text/plain": [
       "<IPython.core.display.Javascript object>"
      ]
     },
     "metadata": {},
     "output_type": "display_data"
    },
    {
     "data": {
      "application/javascript": [
       "\n",
       "        if (window._pyforest_update_imports_cell) { window._pyforest_update_imports_cell('import re'); }\n",
       "    "
      ],
      "text/plain": [
       "<IPython.core.display.Javascript object>"
      ]
     },
     "metadata": {},
     "output_type": "display_data"
    },
    {
     "data": {
      "application/javascript": [
       "\n",
       "        if (window._pyforest_update_imports_cell) { window._pyforest_update_imports_cell('import re'); }\n",
       "    "
      ],
      "text/plain": [
       "<IPython.core.display.Javascript object>"
      ]
     },
     "metadata": {},
     "output_type": "display_data"
    },
    {
     "data": {
      "application/javascript": [
       "\n",
       "        if (window._pyforest_update_imports_cell) { window._pyforest_update_imports_cell('import re'); }\n",
       "    "
      ],
      "text/plain": [
       "<IPython.core.display.Javascript object>"
      ]
     },
     "metadata": {},
     "output_type": "display_data"
    },
    {
     "name": "stdout",
     "output_type": "stream",
     "text": [
      "Successfully retrieved 274 - https://www.halfbakedharvest.com/mac-cheese-stuffed-fried-zucchini/ with proxy 35.220.254.137:8080\n",
      "Proxy 181.114.61.17:8085 failed for https://www.halfbakedharvest.com/cheesy-margarita-pizza-hummus-grilled-pesto-pizza-bread/: HTTPSConnectionPool(host='www.halfbakedharvest.com', port=443): Max retries exceeded with url: /cheesy-margarita-pizza-hummus-grilled-pesto-pizza-bread/ (Caused by ProxyError('Unable to connect to proxy', ConnectTimeoutError(<urllib3.connection.HTTPSConnection object at 0x137786d30>, 'Connection to 181.114.61.17 timed out. (connect timeout=30)')))\n"
     ]
    },
    {
     "data": {
      "application/javascript": [
       "\n",
       "        if (window._pyforest_update_imports_cell) { window._pyforest_update_imports_cell('import re'); }\n",
       "    "
      ],
      "text/plain": [
       "<IPython.core.display.Javascript object>"
      ]
     },
     "metadata": {},
     "output_type": "display_data"
    },
    {
     "data": {
      "application/javascript": [
       "\n",
       "        if (window._pyforest_update_imports_cell) { window._pyforest_update_imports_cell('import re'); }\n",
       "    "
      ],
      "text/plain": [
       "<IPython.core.display.Javascript object>"
      ]
     },
     "metadata": {},
     "output_type": "display_data"
    },
    {
     "data": {
      "application/javascript": [
       "\n",
       "        if (window._pyforest_update_imports_cell) { window._pyforest_update_imports_cell('import re'); }\n",
       "    "
      ],
      "text/plain": [
       "<IPython.core.display.Javascript object>"
      ]
     },
     "metadata": {},
     "output_type": "display_data"
    },
    {
     "name": "stdout",
     "output_type": "stream",
     "text": [
      "Successfully retrieved 276 - https://www.halfbakedharvest.com/grilled-brie-plus-blackberry-basil-smash-salsa/ with proxy 35.220.254.137:8080\n",
      "Proxy 181.114.61.17:8085 failed for https://www.halfbakedharvest.com/easy-grilled-parmesan-polenta-chips/: HTTPSConnectionPool(host='www.halfbakedharvest.com', port=443): Max retries exceeded with url: /easy-grilled-parmesan-polenta-chips/ (Caused by ProxyError('Unable to connect to proxy', ConnectTimeoutError(<urllib3.connection.HTTPSConnection object at 0x1437fda60>, 'Connection to 181.114.61.17 timed out. (connect timeout=30)')))\n"
     ]
    },
    {
     "data": {
      "application/javascript": [
       "\n",
       "        if (window._pyforest_update_imports_cell) { window._pyforest_update_imports_cell('import re'); }\n",
       "    "
      ],
      "text/plain": [
       "<IPython.core.display.Javascript object>"
      ]
     },
     "metadata": {},
     "output_type": "display_data"
    },
    {
     "data": {
      "application/javascript": [
       "\n",
       "        if (window._pyforest_update_imports_cell) { window._pyforest_update_imports_cell('import re'); }\n",
       "    "
      ],
      "text/plain": [
       "<IPython.core.display.Javascript object>"
      ]
     },
     "metadata": {},
     "output_type": "display_data"
    },
    {
     "data": {
      "application/javascript": [
       "\n",
       "        if (window._pyforest_update_imports_cell) { window._pyforest_update_imports_cell('import re'); }\n",
       "    "
      ],
      "text/plain": [
       "<IPython.core.display.Javascript object>"
      ]
     },
     "metadata": {},
     "output_type": "display_data"
    },
    {
     "name": "stdout",
     "output_type": "stream",
     "text": [
      "Successfully retrieved 278 - https://www.halfbakedharvest.com/garden-veggie-goat-cheese-samosas-sweet-peach-basil-chutney/ with proxy 35.220.254.137:8080\n"
     ]
    },
    {
     "data": {
      "application/javascript": [
       "\n",
       "        if (window._pyforest_update_imports_cell) { window._pyforest_update_imports_cell('import re'); }\n",
       "    "
      ],
      "text/plain": [
       "<IPython.core.display.Javascript object>"
      ]
     },
     "metadata": {},
     "output_type": "display_data"
    },
    {
     "data": {
      "application/javascript": [
       "\n",
       "        if (window._pyforest_update_imports_cell) { window._pyforest_update_imports_cell('import re'); }\n",
       "    "
      ],
      "text/plain": [
       "<IPython.core.display.Javascript object>"
      ]
     },
     "metadata": {},
     "output_type": "display_data"
    },
    {
     "data": {
      "application/javascript": [
       "\n",
       "        if (window._pyforest_update_imports_cell) { window._pyforest_update_imports_cell('import re'); }\n",
       "    "
      ],
      "text/plain": [
       "<IPython.core.display.Javascript object>"
      ]
     },
     "metadata": {},
     "output_type": "display_data"
    },
    {
     "name": "stdout",
     "output_type": "stream",
     "text": [
      "Successfully retrieved 279 - https://www.halfbakedharvest.com/coconut-lime-fried-shrimp-fiery-mango-peach-jalapeno-sauce/ with proxy 181.114.61.17:8085\n",
      "Successfully retrieved 280 - https://www.halfbakedharvest.com/spicy-peanut-butter-bacon-sliders/ with proxy 35.220.254.137:8080\n"
     ]
    },
    {
     "data": {
      "application/javascript": [
       "\n",
       "        if (window._pyforest_update_imports_cell) { window._pyforest_update_imports_cell('import re'); }\n",
       "    "
      ],
      "text/plain": [
       "<IPython.core.display.Javascript object>"
      ]
     },
     "metadata": {},
     "output_type": "display_data"
    },
    {
     "data": {
      "application/javascript": [
       "\n",
       "        if (window._pyforest_update_imports_cell) { window._pyforest_update_imports_cell('import re'); }\n",
       "    "
      ],
      "text/plain": [
       "<IPython.core.display.Javascript object>"
      ]
     },
     "metadata": {},
     "output_type": "display_data"
    },
    {
     "data": {
      "application/javascript": [
       "\n",
       "        if (window._pyforest_update_imports_cell) { window._pyforest_update_imports_cell('import re'); }\n",
       "    "
      ],
      "text/plain": [
       "<IPython.core.display.Javascript object>"
      ]
     },
     "metadata": {},
     "output_type": "display_data"
    },
    {
     "data": {
      "application/javascript": [
       "\n",
       "        if (window._pyforest_update_imports_cell) { window._pyforest_update_imports_cell('import re'); }\n",
       "    "
      ],
      "text/plain": [
       "<IPython.core.display.Javascript object>"
      ]
     },
     "metadata": {},
     "output_type": "display_data"
    },
    {
     "name": "stdout",
     "output_type": "stream",
     "text": [
      "Successfully retrieved 281 - https://www.halfbakedharvest.com/sweet-tea-oven-fried-chicken-sliders-wjalapeno-cheddar-corn-slaw-crispy-onions/ with proxy 181.114.61.17:8085\n"
     ]
    },
    {
     "data": {
      "application/javascript": [
       "\n",
       "        if (window._pyforest_update_imports_cell) { window._pyforest_update_imports_cell('import re'); }\n",
       "    "
      ],
      "text/plain": [
       "<IPython.core.display.Javascript object>"
      ]
     },
     "metadata": {},
     "output_type": "display_data"
    },
    {
     "data": {
      "application/javascript": [
       "\n",
       "        if (window._pyforest_update_imports_cell) { window._pyforest_update_imports_cell('import re'); }\n",
       "    "
      ],
      "text/plain": [
       "<IPython.core.display.Javascript object>"
      ]
     },
     "metadata": {},
     "output_type": "display_data"
    },
    {
     "data": {
      "application/javascript": [
       "\n",
       "        if (window._pyforest_update_imports_cell) { window._pyforest_update_imports_cell('import re'); }\n",
       "    "
      ],
      "text/plain": [
       "<IPython.core.display.Javascript object>"
      ]
     },
     "metadata": {},
     "output_type": "display_data"
    },
    {
     "name": "stdout",
     "output_type": "stream",
     "text": [
      "Successfully retrieved 282 - https://www.halfbakedharvest.com/grilled-caprese-toast-burrata-cheese-grilled-avocados/ with proxy 35.220.254.137:8080\n",
      "Proxy 181.114.61.17:8085 failed for https://www.halfbakedharvest.com/spinach-artichoke-corn-fritters-brie-sweet-honey-jalapeno-cream/: HTTPSConnectionPool(host='www.halfbakedharvest.com', port=443): Max retries exceeded with url: /spinach-artichoke-corn-fritters-brie-sweet-honey-jalapeno-cream/ (Caused by ProxyError('Unable to connect to proxy', ConnectTimeoutError(<urllib3.connection.HTTPSConnection object at 0x137b9ee50>, 'Connection to 181.114.61.17 timed out. (connect timeout=30)')))\n",
      "Successfully retrieved 284 - https://www.halfbakedharvest.com/deep-dish-pizza-casserole/ with proxy 35.220.254.137:8080\n"
     ]
    },
    {
     "data": {
      "application/javascript": [
       "\n",
       "        if (window._pyforest_update_imports_cell) { window._pyforest_update_imports_cell('import re'); }\n",
       "    "
      ],
      "text/plain": [
       "<IPython.core.display.Javascript object>"
      ]
     },
     "metadata": {},
     "output_type": "display_data"
    },
    {
     "data": {
      "application/javascript": [
       "\n",
       "        if (window._pyforest_update_imports_cell) { window._pyforest_update_imports_cell('import re'); }\n",
       "    "
      ],
      "text/plain": [
       "<IPython.core.display.Javascript object>"
      ]
     },
     "metadata": {},
     "output_type": "display_data"
    },
    {
     "data": {
      "application/javascript": [
       "\n",
       "        if (window._pyforest_update_imports_cell) { window._pyforest_update_imports_cell('import re'); }\n",
       "    "
      ],
      "text/plain": [
       "<IPython.core.display.Javascript object>"
      ]
     },
     "metadata": {},
     "output_type": "display_data"
    },
    {
     "name": "stdout",
     "output_type": "stream",
     "text": [
      "Successfully retrieved 285 - https://www.halfbakedharvest.com/pan-fried-lemony-artichokes-asparagus-pistachio-pesto-pasta/ with proxy 181.114.61.17:8085\n"
     ]
    },
    {
     "data": {
      "application/javascript": [
       "\n",
       "        if (window._pyforest_update_imports_cell) { window._pyforest_update_imports_cell('import re'); }\n",
       "    "
      ],
      "text/plain": [
       "<IPython.core.display.Javascript object>"
      ]
     },
     "metadata": {},
     "output_type": "display_data"
    },
    {
     "data": {
      "application/javascript": [
       "\n",
       "        if (window._pyforest_update_imports_cell) { window._pyforest_update_imports_cell('import re'); }\n",
       "    "
      ],
      "text/plain": [
       "<IPython.core.display.Javascript object>"
      ]
     },
     "metadata": {},
     "output_type": "display_data"
    },
    {
     "data": {
      "application/javascript": [
       "\n",
       "        if (window._pyforest_update_imports_cell) { window._pyforest_update_imports_cell('import re'); }\n",
       "    "
      ],
      "text/plain": [
       "<IPython.core.display.Javascript object>"
      ]
     },
     "metadata": {},
     "output_type": "display_data"
    },
    {
     "data": {
      "application/javascript": [
       "\n",
       "        if (window._pyforest_update_imports_cell) { window._pyforest_update_imports_cell('import re'); }\n",
       "    "
      ],
      "text/plain": [
       "<IPython.core.display.Javascript object>"
      ]
     },
     "metadata": {},
     "output_type": "display_data"
    },
    {
     "name": "stdout",
     "output_type": "stream",
     "text": [
      "Successfully retrieved 286 - https://www.halfbakedharvest.com/quinoa-crusted-chicken-strips-bbq-honey-mustard/ with proxy 35.220.254.137:8080\n",
      "Proxy 181.114.61.17:8085 failed for https://www.halfbakedharvest.com/hawaiian-shrimp-truck-special-garlic-lemon-butter-shrimp/: HTTPSConnectionPool(host='www.halfbakedharvest.com', port=443): Max retries exceeded with url: /hawaiian-shrimp-truck-special-garlic-lemon-butter-shrimp/ (Caused by ProxyError('Unable to connect to proxy', ConnectTimeoutError(<urllib3.connection.HTTPSConnection object at 0x142eeb8b0>, 'Connection to 181.114.61.17 timed out. (connect timeout=30)')))\n"
     ]
    },
    {
     "data": {
      "application/javascript": [
       "\n",
       "        if (window._pyforest_update_imports_cell) { window._pyforest_update_imports_cell('import re'); }\n",
       "    "
      ],
      "text/plain": [
       "<IPython.core.display.Javascript object>"
      ]
     },
     "metadata": {},
     "output_type": "display_data"
    },
    {
     "data": {
      "application/javascript": [
       "\n",
       "        if (window._pyforest_update_imports_cell) { window._pyforest_update_imports_cell('import re'); }\n",
       "    "
      ],
      "text/plain": [
       "<IPython.core.display.Javascript object>"
      ]
     },
     "metadata": {},
     "output_type": "display_data"
    },
    {
     "data": {
      "application/javascript": [
       "\n",
       "        if (window._pyforest_update_imports_cell) { window._pyforest_update_imports_cell('import re'); }\n",
       "    "
      ],
      "text/plain": [
       "<IPython.core.display.Javascript object>"
      ]
     },
     "metadata": {},
     "output_type": "display_data"
    },
    {
     "data": {
      "application/javascript": [
       "\n",
       "        if (window._pyforest_update_imports_cell) { window._pyforest_update_imports_cell('import re'); }\n",
       "    "
      ],
      "text/plain": [
       "<IPython.core.display.Javascript object>"
      ]
     },
     "metadata": {},
     "output_type": "display_data"
    },
    {
     "name": "stdout",
     "output_type": "stream",
     "text": [
      "Successfully retrieved 288 - https://www.halfbakedharvest.com/greek-steak-salad-french-bread-soft-boiled-eggs-feta/ with proxy 35.220.254.137:8080\n",
      "Proxy 181.114.61.17:8085 failed for https://www.halfbakedharvest.com/cheesy-black-bean-quinoa-taco-bake/: HTTPSConnectionPool(host='www.halfbakedharvest.com', port=443): Max retries exceeded with url: /cheesy-black-bean-quinoa-taco-bake/ (Caused by ProxyError('Unable to connect to proxy', ConnectTimeoutError(<urllib3.connection.HTTPSConnection object at 0x1432e8190>, 'Connection to 181.114.61.17 timed out. (connect timeout=30)')))\n"
     ]
    },
    {
     "data": {
      "application/javascript": [
       "\n",
       "        if (window._pyforest_update_imports_cell) { window._pyforest_update_imports_cell('import re'); }\n",
       "    "
      ],
      "text/plain": [
       "<IPython.core.display.Javascript object>"
      ]
     },
     "metadata": {},
     "output_type": "display_data"
    },
    {
     "data": {
      "application/javascript": [
       "\n",
       "        if (window._pyforest_update_imports_cell) { window._pyforest_update_imports_cell('import re'); }\n",
       "    "
      ],
      "text/plain": [
       "<IPython.core.display.Javascript object>"
      ]
     },
     "metadata": {},
     "output_type": "display_data"
    },
    {
     "data": {
      "application/javascript": [
       "\n",
       "        if (window._pyforest_update_imports_cell) { window._pyforest_update_imports_cell('import re'); }\n",
       "    "
      ],
      "text/plain": [
       "<IPython.core.display.Javascript object>"
      ]
     },
     "metadata": {},
     "output_type": "display_data"
    },
    {
     "name": "stdout",
     "output_type": "stream",
     "text": [
      "Successfully retrieved 290 - https://www.halfbakedharvest.com/buffalo-chicken-avocado-blt-wraps/ with proxy 35.220.254.137:8080\n",
      "Proxy 181.114.61.17:8085 failed for https://www.halfbakedharvest.com/irish-tater-nachos/: HTTPSConnectionPool(host='www.halfbakedharvest.com', port=443): Max retries exceeded with url: /irish-tater-nachos/ (Caused by ProxyError('Unable to connect to proxy', ConnectTimeoutError(<urllib3.connection.HTTPSConnection object at 0x137776280>, 'Connection to 181.114.61.17 timed out. (connect timeout=30)')))\n"
     ]
    },
    {
     "data": {
      "application/javascript": [
       "\n",
       "        if (window._pyforest_update_imports_cell) { window._pyforest_update_imports_cell('import re'); }\n",
       "    "
      ],
      "text/plain": [
       "<IPython.core.display.Javascript object>"
      ]
     },
     "metadata": {},
     "output_type": "display_data"
    },
    {
     "data": {
      "application/javascript": [
       "\n",
       "        if (window._pyforest_update_imports_cell) { window._pyforest_update_imports_cell('import re'); }\n",
       "    "
      ],
      "text/plain": [
       "<IPython.core.display.Javascript object>"
      ]
     },
     "metadata": {},
     "output_type": "display_data"
    },
    {
     "data": {
      "application/javascript": [
       "\n",
       "        if (window._pyforest_update_imports_cell) { window._pyforest_update_imports_cell('import re'); }\n",
       "    "
      ],
      "text/plain": [
       "<IPython.core.display.Javascript object>"
      ]
     },
     "metadata": {},
     "output_type": "display_data"
    },
    {
     "data": {
      "application/javascript": [
       "\n",
       "        if (window._pyforest_update_imports_cell) { window._pyforest_update_imports_cell('import re'); }\n",
       "    "
      ],
      "text/plain": [
       "<IPython.core.display.Javascript object>"
      ]
     },
     "metadata": {},
     "output_type": "display_data"
    },
    {
     "name": "stdout",
     "output_type": "stream",
     "text": [
      "Successfully retrieved 292 - https://www.halfbakedharvest.com/buffalo-cheddar-chex-mix/ with proxy 35.220.254.137:8080\n"
     ]
    },
    {
     "data": {
      "application/javascript": [
       "\n",
       "        if (window._pyforest_update_imports_cell) { window._pyforest_update_imports_cell('import re'); }\n",
       "    "
      ],
      "text/plain": [
       "<IPython.core.display.Javascript object>"
      ]
     },
     "metadata": {},
     "output_type": "display_data"
    },
    {
     "data": {
      "application/javascript": [
       "\n",
       "        if (window._pyforest_update_imports_cell) { window._pyforest_update_imports_cell('import re'); }\n",
       "    "
      ],
      "text/plain": [
       "<IPython.core.display.Javascript object>"
      ]
     },
     "metadata": {},
     "output_type": "display_data"
    },
    {
     "data": {
      "application/javascript": [
       "\n",
       "        if (window._pyforest_update_imports_cell) { window._pyforest_update_imports_cell('import re'); }\n",
       "    "
      ],
      "text/plain": [
       "<IPython.core.display.Javascript object>"
      ]
     },
     "metadata": {},
     "output_type": "display_data"
    },
    {
     "name": "stdout",
     "output_type": "stream",
     "text": [
      "Successfully retrieved 293 - https://www.halfbakedharvest.com/buffalo-chicken-jalapeno-poppers/ with proxy 181.114.61.17:8085\n",
      "Successfully retrieved 294 - https://www.halfbakedharvest.com/months-worth-healthier-football-food-life-talk/ with proxy 35.220.254.137:8080\n",
      "Proxy 181.114.61.17:8085 failed for https://www.halfbakedharvest.com/ridiculously-easy-classic-fiesta-guacamole/: HTTPSConnectionPool(host='www.halfbakedharvest.com', port=443): Max retries exceeded with url: /ridiculously-easy-classic-fiesta-guacamole/ (Caused by ProxyError('Unable to connect to proxy', ConnectTimeoutError(<urllib3.connection.HTTPSConnection object at 0x142d065b0>, 'Connection to 181.114.61.17 timed out. (connect timeout=30)')))\n"
     ]
    },
    {
     "data": {
      "application/javascript": [
       "\n",
       "        if (window._pyforest_update_imports_cell) { window._pyforest_update_imports_cell('import re'); }\n",
       "    "
      ],
      "text/plain": [
       "<IPython.core.display.Javascript object>"
      ]
     },
     "metadata": {},
     "output_type": "display_data"
    },
    {
     "data": {
      "application/javascript": [
       "\n",
       "        if (window._pyforest_update_imports_cell) { window._pyforest_update_imports_cell('import re'); }\n",
       "    "
      ],
      "text/plain": [
       "<IPython.core.display.Javascript object>"
      ]
     },
     "metadata": {},
     "output_type": "display_data"
    },
    {
     "data": {
      "application/javascript": [
       "\n",
       "        if (window._pyforest_update_imports_cell) { window._pyforest_update_imports_cell('import re'); }\n",
       "    "
      ],
      "text/plain": [
       "<IPython.core.display.Javascript object>"
      ]
     },
     "metadata": {},
     "output_type": "display_data"
    },
    {
     "name": "stdout",
     "output_type": "stream",
     "text": [
      "Successfully retrieved 296 - https://www.halfbakedharvest.com/tortilla-chip-crusted-oven-fried-ravioli-spicy-fontina-queso-fundido/ with proxy 35.220.254.137:8080\n",
      "Proxy 181.114.61.17:8085 failed for https://www.halfbakedharvest.com/moms-secret-christmas-eve-chex-mix/: HTTPSConnectionPool(host='www.halfbakedharvest.com', port=443): Max retries exceeded with url: /moms-secret-christmas-eve-chex-mix/ (Caused by ProxyError('Unable to connect to proxy', ConnectTimeoutError(<urllib3.connection.HTTPSConnection object at 0x1432ae5b0>, 'Connection to 181.114.61.17 timed out. (connect timeout=30)')))\n"
     ]
    },
    {
     "data": {
      "application/javascript": [
       "\n",
       "        if (window._pyforest_update_imports_cell) { window._pyforest_update_imports_cell('import re'); }\n",
       "    "
      ],
      "text/plain": [
       "<IPython.core.display.Javascript object>"
      ]
     },
     "metadata": {},
     "output_type": "display_data"
    },
    {
     "data": {
      "application/javascript": [
       "\n",
       "        if (window._pyforest_update_imports_cell) { window._pyforest_update_imports_cell('import re'); }\n",
       "    "
      ],
      "text/plain": [
       "<IPython.core.display.Javascript object>"
      ]
     },
     "metadata": {},
     "output_type": "display_data"
    },
    {
     "data": {
      "application/javascript": [
       "\n",
       "        if (window._pyforest_update_imports_cell) { window._pyforest_update_imports_cell('import re'); }\n",
       "    "
      ],
      "text/plain": [
       "<IPython.core.display.Javascript object>"
      ]
     },
     "metadata": {},
     "output_type": "display_data"
    },
    {
     "name": "stdout",
     "output_type": "stream",
     "text": [
      "Successfully retrieved 298 - https://www.halfbakedharvest.com/brussels-sprout-avocado-winter-rolls-grapefruit-hoisin-dipping-sauce/ with proxy 35.220.254.137:8080\n",
      "Proxy 181.114.61.17:8085 failed for https://www.halfbakedharvest.com/coconut-crusted-brie-stuffed-quinoa-bites/: HTTPSConnectionPool(host='www.halfbakedharvest.com', port=443): Max retries exceeded with url: /coconut-crusted-brie-stuffed-quinoa-bites/ (Caused by ProxyError('Unable to connect to proxy', ConnectTimeoutError(<urllib3.connection.HTTPSConnection object at 0x1377dcf40>, 'Connection to 181.114.61.17 timed out. (connect timeout=30)')))\n"
     ]
    },
    {
     "data": {
      "application/javascript": [
       "\n",
       "        if (window._pyforest_update_imports_cell) { window._pyforest_update_imports_cell('import re'); }\n",
       "    "
      ],
      "text/plain": [
       "<IPython.core.display.Javascript object>"
      ]
     },
     "metadata": {},
     "output_type": "display_data"
    },
    {
     "data": {
      "application/javascript": [
       "\n",
       "        if (window._pyforest_update_imports_cell) { window._pyforest_update_imports_cell('import re'); }\n",
       "    "
      ],
      "text/plain": [
       "<IPython.core.display.Javascript object>"
      ]
     },
     "metadata": {},
     "output_type": "display_data"
    },
    {
     "data": {
      "application/javascript": [
       "\n",
       "        if (window._pyforest_update_imports_cell) { window._pyforest_update_imports_cell('import re'); }\n",
       "    "
      ],
      "text/plain": [
       "<IPython.core.display.Javascript object>"
      ]
     },
     "metadata": {},
     "output_type": "display_data"
    },
    {
     "data": {
      "application/javascript": [
       "\n",
       "        if (window._pyforest_update_imports_cell) { window._pyforest_update_imports_cell('import re'); }\n",
       "    "
      ],
      "text/plain": [
       "<IPython.core.display.Javascript object>"
      ]
     },
     "metadata": {},
     "output_type": "display_data"
    },
    {
     "name": "stdout",
     "output_type": "stream",
     "text": [
      "Successfully retrieved 300 - https://www.halfbakedharvest.com/crazy-greek-feta-sun-dried-tomato-pistachio-truffles/ with proxy 35.220.254.137:8080\n",
      "Proxy 181.114.61.17:8085 failed for https://www.halfbakedharvest.com/curried-sweet-potato-rounds-honeyed-walnuts-cranberries-blue-cheese/: HTTPSConnectionPool(host='www.halfbakedharvest.com', port=443): Max retries exceeded with url: /curried-sweet-potato-rounds-honeyed-walnuts-cranberries-blue-cheese/ (Caused by ProxyError('Unable to connect to proxy', ConnectTimeoutError(<urllib3.connection.HTTPSConnection object at 0x143364df0>, 'Connection to 181.114.61.17 timed out. (connect timeout=30)')))\n"
     ]
    },
    {
     "data": {
      "application/javascript": [
       "\n",
       "        if (window._pyforest_update_imports_cell) { window._pyforest_update_imports_cell('import re'); }\n",
       "    "
      ],
      "text/plain": [
       "<IPython.core.display.Javascript object>"
      ]
     },
     "metadata": {},
     "output_type": "display_data"
    },
    {
     "data": {
      "application/javascript": [
       "\n",
       "        if (window._pyforest_update_imports_cell) { window._pyforest_update_imports_cell('import re'); }\n",
       "    "
      ],
      "text/plain": [
       "<IPython.core.display.Javascript object>"
      ]
     },
     "metadata": {},
     "output_type": "display_data"
    },
    {
     "data": {
      "application/javascript": [
       "\n",
       "        if (window._pyforest_update_imports_cell) { window._pyforest_update_imports_cell('import re'); }\n",
       "    "
      ],
      "text/plain": [
       "<IPython.core.display.Javascript object>"
      ]
     },
     "metadata": {},
     "output_type": "display_data"
    },
    {
     "name": "stdout",
     "output_type": "stream",
     "text": [
      "Successfully retrieved 302 - https://www.halfbakedharvest.com/chipotle-quinoa-sweet-potato-tacos-roasted-cranberry-pomegranate-salsa/ with proxy 35.220.254.137:8080\n"
     ]
    },
    {
     "data": {
      "application/javascript": [
       "\n",
       "        if (window._pyforest_update_imports_cell) { window._pyforest_update_imports_cell('import re'); }\n",
       "    "
      ],
      "text/plain": [
       "<IPython.core.display.Javascript object>"
      ]
     },
     "metadata": {},
     "output_type": "display_data"
    },
    {
     "data": {
      "application/javascript": [
       "\n",
       "        if (window._pyforest_update_imports_cell) { window._pyforest_update_imports_cell('import re'); }\n",
       "    "
      ],
      "text/plain": [
       "<IPython.core.display.Javascript object>"
      ]
     },
     "metadata": {},
     "output_type": "display_data"
    },
    {
     "data": {
      "application/javascript": [
       "\n",
       "        if (window._pyforest_update_imports_cell) { window._pyforest_update_imports_cell('import re'); }\n",
       "    "
      ],
      "text/plain": [
       "<IPython.core.display.Javascript object>"
      ]
     },
     "metadata": {},
     "output_type": "display_data"
    },
    {
     "data": {
      "application/javascript": [
       "\n",
       "        if (window._pyforest_update_imports_cell) { window._pyforest_update_imports_cell('import re'); }\n",
       "    "
      ],
      "text/plain": [
       "<IPython.core.display.Javascript object>"
      ]
     },
     "metadata": {},
     "output_type": "display_data"
    },
    {
     "name": "stdout",
     "output_type": "stream",
     "text": [
      "Successfully retrieved 303 - https://www.halfbakedharvest.com/roasted-garlic-sage-pesto-pumpkin-soup-spicy-fried-pumpkin-seeds/ with proxy 181.114.61.17:8085\n"
     ]
    },
    {
     "data": {
      "application/javascript": [
       "\n",
       "        if (window._pyforest_update_imports_cell) { window._pyforest_update_imports_cell('import re'); }\n",
       "    "
      ],
      "text/plain": [
       "<IPython.core.display.Javascript object>"
      ]
     },
     "metadata": {},
     "output_type": "display_data"
    },
    {
     "data": {
      "application/javascript": [
       "\n",
       "        if (window._pyforest_update_imports_cell) { window._pyforest_update_imports_cell('import re'); }\n",
       "    "
      ],
      "text/plain": [
       "<IPython.core.display.Javascript object>"
      ]
     },
     "metadata": {},
     "output_type": "display_data"
    },
    {
     "data": {
      "application/javascript": [
       "\n",
       "        if (window._pyforest_update_imports_cell) { window._pyforest_update_imports_cell('import re'); }\n",
       "    "
      ],
      "text/plain": [
       "<IPython.core.display.Javascript object>"
      ]
     },
     "metadata": {},
     "output_type": "display_data"
    },
    {
     "data": {
      "application/javascript": [
       "\n",
       "        if (window._pyforest_update_imports_cell) { window._pyforest_update_imports_cell('import re'); }\n",
       "    "
      ],
      "text/plain": [
       "<IPython.core.display.Javascript object>"
      ]
     },
     "metadata": {},
     "output_type": "display_data"
    },
    {
     "name": "stdout",
     "output_type": "stream",
     "text": [
      "Successfully retrieved 304 - https://www.halfbakedharvest.com/cheesy-fontina-chorizo-caramelized-onion-artichoke-dip/ with proxy 35.220.254.137:8080\n",
      "Proxy 181.114.61.17:8085 failed for https://www.halfbakedharvest.com/cranberry-butternut-brussels-sprout-brie-skillet-nachos/: HTTPSConnectionPool(host='www.halfbakedharvest.com', port=443): Max retries exceeded with url: /cranberry-butternut-brussels-sprout-brie-skillet-nachos/ (Caused by ProxyError('Unable to connect to proxy', ConnectTimeoutError(<urllib3.connection.HTTPSConnection object at 0x137681130>, 'Connection to 181.114.61.17 timed out. (connect timeout=30)')))\n",
      "Successfully retrieved 306 - https://www.halfbakedharvest.com/chipotle-pumpkin-broccoli-pizza-bacon-gouda-cheese-giveaway/ with proxy 35.220.254.137:8080\n",
      "Proxy 181.114.61.17:8085 failed for https://www.halfbakedharvest.com/20-minute-chicken-cheesesteak-sloppy-joe-sliders/: HTTPSConnectionPool(host='www.halfbakedharvest.com', port=443): Max retries exceeded with url: /20-minute-chicken-cheesesteak-sloppy-joe-sliders/ (Caused by ProxyError('Unable to connect to proxy', ConnectTimeoutError(<urllib3.connection.HTTPSConnection object at 0x137a66880>, 'Connection to 181.114.61.17 timed out. (connect timeout=30)')))\n"
     ]
    },
    {
     "data": {
      "application/javascript": [
       "\n",
       "        if (window._pyforest_update_imports_cell) { window._pyforest_update_imports_cell('import re'); }\n",
       "    "
      ],
      "text/plain": [
       "<IPython.core.display.Javascript object>"
      ]
     },
     "metadata": {},
     "output_type": "display_data"
    },
    {
     "data": {
      "application/javascript": [
       "\n",
       "        if (window._pyforest_update_imports_cell) { window._pyforest_update_imports_cell('import re'); }\n",
       "    "
      ],
      "text/plain": [
       "<IPython.core.display.Javascript object>"
      ]
     },
     "metadata": {},
     "output_type": "display_data"
    },
    {
     "data": {
      "application/javascript": [
       "\n",
       "        if (window._pyforest_update_imports_cell) { window._pyforest_update_imports_cell('import re'); }\n",
       "    "
      ],
      "text/plain": [
       "<IPython.core.display.Javascript object>"
      ]
     },
     "metadata": {},
     "output_type": "display_data"
    },
    {
     "data": {
      "application/javascript": [
       "\n",
       "        if (window._pyforest_update_imports_cell) { window._pyforest_update_imports_cell('import re'); }\n",
       "    "
      ],
      "text/plain": [
       "<IPython.core.display.Javascript object>"
      ]
     },
     "metadata": {},
     "output_type": "display_data"
    },
    {
     "data": {
      "application/javascript": [
       "\n",
       "        if (window._pyforest_update_imports_cell) { window._pyforest_update_imports_cell('import re'); }\n",
       "    "
      ],
      "text/plain": [
       "<IPython.core.display.Javascript object>"
      ]
     },
     "metadata": {},
     "output_type": "display_data"
    },
    {
     "name": "stdout",
     "output_type": "stream",
     "text": [
      "Successfully retrieved 308 - https://www.halfbakedharvest.com/roasted-pumpkin-chipotle-cheddar-tots-avocado-blue-cheese-ranch/ with proxy 35.220.254.137:8080\n"
     ]
    },
    {
     "data": {
      "application/javascript": [
       "\n",
       "        if (window._pyforest_update_imports_cell) { window._pyforest_update_imports_cell('import re'); }\n",
       "    "
      ],
      "text/plain": [
       "<IPython.core.display.Javascript object>"
      ]
     },
     "metadata": {},
     "output_type": "display_data"
    },
    {
     "data": {
      "application/javascript": [
       "\n",
       "        if (window._pyforest_update_imports_cell) { window._pyforest_update_imports_cell('import re'); }\n",
       "    "
      ],
      "text/plain": [
       "<IPython.core.display.Javascript object>"
      ]
     },
     "metadata": {},
     "output_type": "display_data"
    },
    {
     "data": {
      "application/javascript": [
       "\n",
       "        if (window._pyforest_update_imports_cell) { window._pyforest_update_imports_cell('import re'); }\n",
       "    "
      ],
      "text/plain": [
       "<IPython.core.display.Javascript object>"
      ]
     },
     "metadata": {},
     "output_type": "display_data"
    },
    {
     "name": "stdout",
     "output_type": "stream",
     "text": [
      "Successfully retrieved 309 - https://www.halfbakedharvest.com/roasted-pumpkin-seed-hummus/ with proxy 181.114.61.17:8085\n"
     ]
    },
    {
     "data": {
      "application/javascript": [
       "\n",
       "        if (window._pyforest_update_imports_cell) { window._pyforest_update_imports_cell('import re'); }\n",
       "    "
      ],
      "text/plain": [
       "<IPython.core.display.Javascript object>"
      ]
     },
     "metadata": {},
     "output_type": "display_data"
    },
    {
     "data": {
      "application/javascript": [
       "\n",
       "        if (window._pyforest_update_imports_cell) { window._pyforest_update_imports_cell('import re'); }\n",
       "    "
      ],
      "text/plain": [
       "<IPython.core.display.Javascript object>"
      ]
     },
     "metadata": {},
     "output_type": "display_data"
    },
    {
     "data": {
      "application/javascript": [
       "\n",
       "        if (window._pyforest_update_imports_cell) { window._pyforest_update_imports_cell('import re'); }\n",
       "    "
      ],
      "text/plain": [
       "<IPython.core.display.Javascript object>"
      ]
     },
     "metadata": {},
     "output_type": "display_data"
    },
    {
     "data": {
      "application/javascript": [
       "\n",
       "        if (window._pyforest_update_imports_cell) { window._pyforest_update_imports_cell('import re'); }\n",
       "    "
      ],
      "text/plain": [
       "<IPython.core.display.Javascript object>"
      ]
     },
     "metadata": {},
     "output_type": "display_data"
    },
    {
     "name": "stdout",
     "output_type": "stream",
     "text": [
      "Successfully retrieved 310 - https://www.halfbakedharvest.com/crockpot-chicken-chili-con-carne-loaded-tostada-stacks/ with proxy 35.220.254.137:8080\n",
      "Proxy 181.114.61.17:8085 failed for https://www.halfbakedharvest.com/loaded-greek-goddess-chickpea-quinoa-pita-chip-nachos/: HTTPSConnectionPool(host='www.halfbakedharvest.com', port=443): Max retries exceeded with url: /loaded-greek-goddess-chickpea-quinoa-pita-chip-nachos/ (Caused by ProxyError('Unable to connect to proxy', ConnectTimeoutError(<urllib3.connection.HTTPSConnection object at 0x1438a4d60>, 'Connection to 181.114.61.17 timed out. (connect timeout=30)')))\n"
     ]
    },
    {
     "data": {
      "application/javascript": [
       "\n",
       "        if (window._pyforest_update_imports_cell) { window._pyforest_update_imports_cell('import re'); }\n",
       "    "
      ],
      "text/plain": [
       "<IPython.core.display.Javascript object>"
      ]
     },
     "metadata": {},
     "output_type": "display_data"
    },
    {
     "data": {
      "application/javascript": [
       "\n",
       "        if (window._pyforest_update_imports_cell) { window._pyforest_update_imports_cell('import re'); }\n",
       "    "
      ],
      "text/plain": [
       "<IPython.core.display.Javascript object>"
      ]
     },
     "metadata": {},
     "output_type": "display_data"
    },
    {
     "name": "stdout",
     "output_type": "stream",
     "text": [
      "Successfully retrieved 312 - https://www.halfbakedharvest.com/thanksgiving-turkey-cheese-board/ with proxy 35.220.254.137:8080\n",
      "Proxy 181.114.61.17:8085 failed for https://www.halfbakedharvest.com/sweet-potato-bites/: HTTPSConnectionPool(host='www.halfbakedharvest.com', port=443): Max retries exceeded with url: /sweet-potato-bites/ (Caused by ProxyError('Unable to connect to proxy', ConnectTimeoutError(<urllib3.connection.HTTPSConnection object at 0x143aa9be0>, 'Connection to 181.114.61.17 timed out. (connect timeout=30)')))\n"
     ]
    },
    {
     "data": {
      "application/javascript": [
       "\n",
       "        if (window._pyforest_update_imports_cell) { window._pyforest_update_imports_cell('import re'); }\n",
       "    "
      ],
      "text/plain": [
       "<IPython.core.display.Javascript object>"
      ]
     },
     "metadata": {},
     "output_type": "display_data"
    },
    {
     "data": {
      "application/javascript": [
       "\n",
       "        if (window._pyforest_update_imports_cell) { window._pyforest_update_imports_cell('import re'); }\n",
       "    "
      ],
      "text/plain": [
       "<IPython.core.display.Javascript object>"
      ]
     },
     "metadata": {},
     "output_type": "display_data"
    },
    {
     "data": {
      "application/javascript": [
       "\n",
       "        if (window._pyforest_update_imports_cell) { window._pyforest_update_imports_cell('import re'); }\n",
       "    "
      ],
      "text/plain": [
       "<IPython.core.display.Javascript object>"
      ]
     },
     "metadata": {},
     "output_type": "display_data"
    },
    {
     "data": {
      "application/javascript": [
       "\n",
       "        if (window._pyforest_update_imports_cell) { window._pyforest_update_imports_cell('import re'); }\n",
       "    "
      ],
      "text/plain": [
       "<IPython.core.display.Javascript object>"
      ]
     },
     "metadata": {},
     "output_type": "display_data"
    },
    {
     "name": "stdout",
     "output_type": "stream",
     "text": [
      "Successfully retrieved 314 - https://www.halfbakedharvest.com/spinach-and-artichoke-dip-sliders/ with proxy 35.220.254.137:8080\n",
      "Proxy 181.114.61.17:8085 failed for https://www.halfbakedharvest.com/cheesy-soft-pretzel-bites/: HTTPSConnectionPool(host='www.halfbakedharvest.com', port=443): Max retries exceeded with url: /cheesy-soft-pretzel-bites/ (Caused by ProxyError('Unable to connect to proxy', ConnectTimeoutError(<urllib3.connection.HTTPSConnection object at 0x137d72df0>, 'Connection to 181.114.61.17 timed out. (connect timeout=30)')))\n"
     ]
    },
    {
     "data": {
      "application/javascript": [
       "\n",
       "        if (window._pyforest_update_imports_cell) { window._pyforest_update_imports_cell('import re'); }\n",
       "    "
      ],
      "text/plain": [
       "<IPython.core.display.Javascript object>"
      ]
     },
     "metadata": {},
     "output_type": "display_data"
    },
    {
     "data": {
      "application/javascript": [
       "\n",
       "        if (window._pyforest_update_imports_cell) { window._pyforest_update_imports_cell('import re'); }\n",
       "    "
      ],
      "text/plain": [
       "<IPython.core.display.Javascript object>"
      ]
     },
     "metadata": {},
     "output_type": "display_data"
    },
    {
     "data": {
      "application/javascript": [
       "\n",
       "        if (window._pyforest_update_imports_cell) { window._pyforest_update_imports_cell('import re'); }\n",
       "    "
      ],
      "text/plain": [
       "<IPython.core.display.Javascript object>"
      ]
     },
     "metadata": {},
     "output_type": "display_data"
    },
    {
     "name": "stdout",
     "output_type": "stream",
     "text": [
      "Successfully retrieved 316 - https://www.halfbakedharvest.com/ranch-pretzels/ with proxy 35.220.254.137:8080\n"
     ]
    },
    {
     "data": {
      "application/javascript": [
       "\n",
       "        if (window._pyforest_update_imports_cell) { window._pyforest_update_imports_cell('import re'); }\n",
       "    "
      ],
      "text/plain": [
       "<IPython.core.display.Javascript object>"
      ]
     },
     "metadata": {},
     "output_type": "display_data"
    },
    {
     "data": {
      "application/javascript": [
       "\n",
       "        if (window._pyforest_update_imports_cell) { window._pyforest_update_imports_cell('import re'); }\n",
       "    "
      ],
      "text/plain": [
       "<IPython.core.display.Javascript object>"
      ]
     },
     "metadata": {},
     "output_type": "display_data"
    },
    {
     "data": {
      "application/javascript": [
       "\n",
       "        if (window._pyforest_update_imports_cell) { window._pyforest_update_imports_cell('import re'); }\n",
       "    "
      ],
      "text/plain": [
       "<IPython.core.display.Javascript object>"
      ]
     },
     "metadata": {},
     "output_type": "display_data"
    },
    {
     "name": "stdout",
     "output_type": "stream",
     "text": [
      "Successfully retrieved 317 - https://www.halfbakedharvest.com/white-chicken-chili-corn-dip/ with proxy 181.114.61.17:8085\n"
     ]
    },
    {
     "data": {
      "application/javascript": [
       "\n",
       "        if (window._pyforest_update_imports_cell) { window._pyforest_update_imports_cell('import re'); }\n",
       "    "
      ],
      "text/plain": [
       "<IPython.core.display.Javascript object>"
      ]
     },
     "metadata": {},
     "output_type": "display_data"
    },
    {
     "data": {
      "application/javascript": [
       "\n",
       "        if (window._pyforest_update_imports_cell) { window._pyforest_update_imports_cell('import re'); }\n",
       "    "
      ],
      "text/plain": [
       "<IPython.core.display.Javascript object>"
      ]
     },
     "metadata": {},
     "output_type": "display_data"
    },
    {
     "data": {
      "application/javascript": [
       "\n",
       "        if (window._pyforest_update_imports_cell) { window._pyforest_update_imports_cell('import re'); }\n",
       "    "
      ],
      "text/plain": [
       "<IPython.core.display.Javascript object>"
      ]
     },
     "metadata": {},
     "output_type": "display_data"
    },
    {
     "name": "stdout",
     "output_type": "stream",
     "text": [
      "Successfully retrieved 318 - https://www.halfbakedharvest.com/heirloom-tomato-cheddar-tart-everything-spice/ with proxy 35.220.254.137:8080\n"
     ]
    },
    {
     "data": {
      "application/javascript": [
       "\n",
       "        if (window._pyforest_update_imports_cell) { window._pyforest_update_imports_cell('import re'); }\n",
       "    "
      ],
      "text/plain": [
       "<IPython.core.display.Javascript object>"
      ]
     },
     "metadata": {},
     "output_type": "display_data"
    },
    {
     "data": {
      "application/javascript": [
       "\n",
       "        if (window._pyforest_update_imports_cell) { window._pyforest_update_imports_cell('import re'); }\n",
       "    "
      ],
      "text/plain": [
       "<IPython.core.display.Javascript object>"
      ]
     },
     "metadata": {},
     "output_type": "display_data"
    },
    {
     "data": {
      "application/javascript": [
       "\n",
       "        if (window._pyforest_update_imports_cell) { window._pyforest_update_imports_cell('import re'); }\n",
       "    "
      ],
      "text/plain": [
       "<IPython.core.display.Javascript object>"
      ]
     },
     "metadata": {},
     "output_type": "display_data"
    },
    {
     "name": "stdout",
     "output_type": "stream",
     "text": [
      "Successfully retrieved 319 - https://www.halfbakedharvest.com/sweet-corn-wontons/ with proxy 181.114.61.17:8085\n"
     ]
    },
    {
     "data": {
      "application/javascript": [
       "\n",
       "        if (window._pyforest_update_imports_cell) { window._pyforest_update_imports_cell('import re'); }\n",
       "    "
      ],
      "text/plain": [
       "<IPython.core.display.Javascript object>"
      ]
     },
     "metadata": {},
     "output_type": "display_data"
    },
    {
     "data": {
      "application/javascript": [
       "\n",
       "        if (window._pyforest_update_imports_cell) { window._pyforest_update_imports_cell('import re'); }\n",
       "    "
      ],
      "text/plain": [
       "<IPython.core.display.Javascript object>"
      ]
     },
     "metadata": {},
     "output_type": "display_data"
    },
    {
     "data": {
      "application/javascript": [
       "\n",
       "        if (window._pyforest_update_imports_cell) { window._pyforest_update_imports_cell('import re'); }\n",
       "    "
      ],
      "text/plain": [
       "<IPython.core.display.Javascript object>"
      ]
     },
     "metadata": {},
     "output_type": "display_data"
    },
    {
     "name": "stdout",
     "output_type": "stream",
     "text": [
      "Successfully retrieved 320 - https://www.halfbakedharvest.com/tomato-peach-crostini/ with proxy 35.220.254.137:8080\n",
      "Proxy 181.114.61.17:8085 failed for https://www.halfbakedharvest.com/caprese-garlic-bread/: HTTPSConnectionPool(host='www.halfbakedharvest.com', port=443): Max retries exceeded with url: /caprese-garlic-bread/ (Caused by ProxyError('Unable to connect to proxy', ConnectTimeoutError(<urllib3.connection.HTTPSConnection object at 0x142fdbe80>, 'Connection to 181.114.61.17 timed out. (connect timeout=30)')))\n"
     ]
    },
    {
     "data": {
      "application/javascript": [
       "\n",
       "        if (window._pyforest_update_imports_cell) { window._pyforest_update_imports_cell('import re'); }\n",
       "    "
      ],
      "text/plain": [
       "<IPython.core.display.Javascript object>"
      ]
     },
     "metadata": {},
     "output_type": "display_data"
    },
    {
     "data": {
      "application/javascript": [
       "\n",
       "        if (window._pyforest_update_imports_cell) { window._pyforest_update_imports_cell('import re'); }\n",
       "    "
      ],
      "text/plain": [
       "<IPython.core.display.Javascript object>"
      ]
     },
     "metadata": {},
     "output_type": "display_data"
    },
    {
     "data": {
      "application/javascript": [
       "\n",
       "        if (window._pyforest_update_imports_cell) { window._pyforest_update_imports_cell('import re'); }\n",
       "    "
      ],
      "text/plain": [
       "<IPython.core.display.Javascript object>"
      ]
     },
     "metadata": {},
     "output_type": "display_data"
    },
    {
     "name": "stdout",
     "output_type": "stream",
     "text": [
      "Successfully retrieved 322 - https://www.halfbakedharvest.com/street-corn-dip/ with proxy 35.220.254.137:8080\n"
     ]
    },
    {
     "data": {
      "application/javascript": [
       "\n",
       "        if (window._pyforest_update_imports_cell) { window._pyforest_update_imports_cell('import re'); }\n",
       "    "
      ],
      "text/plain": [
       "<IPython.core.display.Javascript object>"
      ]
     },
     "metadata": {},
     "output_type": "display_data"
    },
    {
     "data": {
      "application/javascript": [
       "\n",
       "        if (window._pyforest_update_imports_cell) { window._pyforest_update_imports_cell('import re'); }\n",
       "    "
      ],
      "text/plain": [
       "<IPython.core.display.Javascript object>"
      ]
     },
     "metadata": {},
     "output_type": "display_data"
    },
    {
     "data": {
      "application/javascript": [
       "\n",
       "        if (window._pyforest_update_imports_cell) { window._pyforest_update_imports_cell('import re'); }\n",
       "    "
      ],
      "text/plain": [
       "<IPython.core.display.Javascript object>"
      ]
     },
     "metadata": {},
     "output_type": "display_data"
    },
    {
     "name": "stdout",
     "output_type": "stream",
     "text": [
      "Successfully retrieved 323 - https://www.halfbakedharvest.com/pull-apart-italian-sub-sliders/ with proxy 181.114.61.17:8085\n"
     ]
    },
    {
     "data": {
      "application/javascript": [
       "\n",
       "        if (window._pyforest_update_imports_cell) { window._pyforest_update_imports_cell('import re'); }\n",
       "    "
      ],
      "text/plain": [
       "<IPython.core.display.Javascript object>"
      ]
     },
     "metadata": {},
     "output_type": "display_data"
    },
    {
     "data": {
      "application/javascript": [
       "\n",
       "        if (window._pyforest_update_imports_cell) { window._pyforest_update_imports_cell('import re'); }\n",
       "    "
      ],
      "text/plain": [
       "<IPython.core.display.Javascript object>"
      ]
     },
     "metadata": {},
     "output_type": "display_data"
    },
    {
     "data": {
      "application/javascript": [
       "\n",
       "        if (window._pyforest_update_imports_cell) { window._pyforest_update_imports_cell('import re'); }\n",
       "    "
      ],
      "text/plain": [
       "<IPython.core.display.Javascript object>"
      ]
     },
     "metadata": {},
     "output_type": "display_data"
    },
    {
     "name": "stdout",
     "output_type": "stream",
     "text": [
      "Successfully retrieved 324 - https://www.halfbakedharvest.com/charred-peppers/ with proxy 35.220.254.137:8080\n",
      "Proxy 181.114.61.17:8085 failed for https://www.halfbakedharvest.com/strawberry-watermelon-salad/: HTTPSConnectionPool(host='www.halfbakedharvest.com', port=443): Read timed out. (read timeout=30)\n",
      "Proxy 35.220.254.137:8080 failed for https://www.halfbakedharvest.com/avocado-shrimp-salsa/: HTTPSConnectionPool(host='www.halfbakedharvest.com', port=443): Max retries exceeded with url: /avocado-shrimp-salsa/ (Caused by ProxyError('Unable to connect to proxy', NewConnectionError('<urllib3.connection.HTTPSConnection object at 0x1434b6190>: Failed to establish a new connection: [Errno 51] Network is unreachable')))\n",
      "Proxy 181.114.61.17:8085 failed for https://www.halfbakedharvest.com/jalapeno-cheddar-popovers/: HTTPSConnectionPool(host='www.halfbakedharvest.com', port=443): Max retries exceeded with url: /jalapeno-cheddar-popovers/ (Caused by ProxyError('Unable to connect to proxy', NewConnectionError('<urllib3.connection.HTTPSConnection object at 0x137997dc0>: Failed to establish a new connection: [Errno 51] Network is unreachable')))\n",
      "Proxy 35.220.254.137:8080 failed for https://www.halfbakedharvest.com/summer-rolls/: HTTPSConnectionPool(host='www.halfbakedharvest.com', port=443): Max retries exceeded with url: /summer-rolls/ (Caused by ProxyError('Unable to connect to proxy', NewConnectionError('<urllib3.connection.HTTPSConnection object at 0x137997b20>: Failed to establish a new connection: [Errno 51] Network is unreachable')))\n",
      "Proxy 181.114.61.17:8085 failed for https://www.halfbakedharvest.com/crumbled-feta-and-tomato-basil-vinaigrette-dip/: HTTPSConnectionPool(host='www.halfbakedharvest.com', port=443): Max retries exceeded with url: /crumbled-feta-and-tomato-basil-vinaigrette-dip/ (Caused by ProxyError('Unable to connect to proxy', NewConnectionError('<urllib3.connection.HTTPSConnection object at 0x1434b6e20>: Failed to establish a new connection: [Errno 51] Network is unreachable')))\n",
      "Proxy 35.220.254.137:8080 failed for https://www.halfbakedharvest.com/cheese-rangoons/: HTTPSConnectionPool(host='www.halfbakedharvest.com', port=443): Max retries exceeded with url: /cheese-rangoons/ (Caused by ProxyError('Unable to connect to proxy', NewConnectionError('<urllib3.connection.HTTPSConnection object at 0x1434b6eb0>: Failed to establish a new connection: [Errno 51] Network is unreachable')))\n",
      "Proxy 181.114.61.17:8085 failed for https://www.halfbakedharvest.com/spinach-and-brie-triangles/: HTTPSConnectionPool(host='www.halfbakedharvest.com', port=443): Max retries exceeded with url: /spinach-and-brie-triangles/ (Caused by ProxyError('Unable to connect to proxy', NewConnectionError('<urllib3.connection.HTTPSConnection object at 0x142cc0550>: Failed to establish a new connection: [Errno 51] Network is unreachable')))\n",
      "Proxy 35.220.254.137:8080 failed for https://www.halfbakedharvest.com/roasted-cauliflower-hummus/: HTTPSConnectionPool(host='www.halfbakedharvest.com', port=443): Max retries exceeded with url: /roasted-cauliflower-hummus/ (Caused by ProxyError('Unable to connect to proxy', NewConnectionError('<urllib3.connection.HTTPSConnection object at 0x137997820>: Failed to establish a new connection: [Errno 51] Network is unreachable')))\n",
      "Proxy 181.114.61.17:8085 failed for https://www.halfbakedharvest.com/fried-feta-rolls/: HTTPSConnectionPool(host='www.halfbakedharvest.com', port=443): Max retries exceeded with url: /fried-feta-rolls/ (Caused by ProxyError('Unable to connect to proxy', NewConnectionError('<urllib3.connection.HTTPSConnection object at 0x142ff4880>: Failed to establish a new connection: [Errno 51] Network is unreachable')))\n",
      "Proxy 35.220.254.137:8080 failed for https://www.halfbakedharvest.com/artichoke-gouda-tart/: HTTPSConnectionPool(host='www.halfbakedharvest.com', port=443): Max retries exceeded with url: /artichoke-gouda-tart/ (Caused by ProxyError('Unable to connect to proxy', NewConnectionError('<urllib3.connection.HTTPSConnection object at 0x142cc0b50>: Failed to establish a new connection: [Errno 51] Network is unreachable')))\n",
      "Proxy 181.114.61.17:8085 failed for https://www.halfbakedharvest.com/garlic-herb-roasted-olives/: HTTPSConnectionPool(host='www.halfbakedharvest.com', port=443): Max retries exceeded with url: /garlic-herb-roasted-olives/ (Caused by ProxyError('Unable to connect to proxy', NewConnectionError('<urllib3.connection.HTTPSConnection object at 0x137997160>: Failed to establish a new connection: [Errno 51] Network is unreachable')))\n",
      "Proxy 35.220.254.137:8080 failed for https://www.halfbakedharvest.com/oregano-roasted-potatoes/: HTTPSConnectionPool(host='www.halfbakedharvest.com', port=443): Max retries exceeded with url: /oregano-roasted-potatoes/ (Caused by ProxyError('Unable to connect to proxy', NewConnectionError('<urllib3.connection.HTTPSConnection object at 0x1379973d0>: Failed to establish a new connection: [Errno 51] Network is unreachable')))\n",
      "Proxy 181.114.61.17:8085 failed for https://www.halfbakedharvest.com/jalapeno-cream-cheese-buffalo-chicken-taquitos/: HTTPSConnectionPool(host='www.halfbakedharvest.com', port=443): Max retries exceeded with url: /jalapeno-cream-cheese-buffalo-chicken-taquitos/ (Caused by ProxyError('Unable to connect to proxy', NewConnectionError('<urllib3.connection.HTTPSConnection object at 0x1434b6d90>: Failed to establish a new connection: [Errno 51] Network is unreachable')))\n",
      "Proxy 35.220.254.137:8080 failed for https://www.halfbakedharvest.com/nacho-fries/: HTTPSConnectionPool(host='www.halfbakedharvest.com', port=443): Max retries exceeded with url: /nacho-fries/ (Caused by ProxyError('Unable to connect to proxy', NewConnectionError('<urllib3.connection.HTTPSConnection object at 0x1434b6e80>: Failed to establish a new connection: [Errno 51] Network is unreachable')))\n",
      "Proxy 181.114.61.17:8085 failed for https://www.halfbakedharvest.com/hot-honey-popcorn-chicken/: HTTPSConnectionPool(host='www.halfbakedharvest.com', port=443): Max retries exceeded with url: /hot-honey-popcorn-chicken/ (Caused by ProxyError('Unable to connect to proxy', NewConnectionError('<urllib3.connection.HTTPSConnection object at 0x142ff4f40>: Failed to establish a new connection: [Errno 51] Network is unreachable')))\n",
      "Proxy 35.220.254.137:8080 failed for https://www.halfbakedharvest.com/chipotle-chicken-nachos/: HTTPSConnectionPool(host='www.halfbakedharvest.com', port=443): Max retries exceeded with url: /chipotle-chicken-nachos/ (Caused by ProxyError('Unable to connect to proxy', NewConnectionError('<urllib3.connection.HTTPSConnection object at 0x1434b6640>: Failed to establish a new connection: [Errno 51] Network is unreachable')))\n",
      "Proxy 181.114.61.17:8085 failed for https://www.halfbakedharvest.com/buffalo-cauliflower/: HTTPSConnectionPool(host='www.halfbakedharvest.com', port=443): Max retries exceeded with url: /buffalo-cauliflower/ (Caused by ProxyError('Unable to connect to proxy', NewConnectionError('<urllib3.connection.HTTPSConnection object at 0x1434b67f0>: Failed to establish a new connection: [Errno 51] Network is unreachable')))\n",
      "Proxy 35.220.254.137:8080 failed for https://www.halfbakedharvest.com/christmas-tree-cheese-board/: HTTPSConnectionPool(host='www.halfbakedharvest.com', port=443): Max retries exceeded with url: /christmas-tree-cheese-board/ (Caused by ProxyError('Unable to connect to proxy', NewConnectionError('<urllib3.connection.HTTPSConnection object at 0x137997e80>: Failed to establish a new connection: [Errno 51] Network is unreachable')))\n",
      "Proxy 181.114.61.17:8085 failed for https://www.halfbakedharvest.com/baked-gruyere-in-pastry/: HTTPSConnectionPool(host='www.halfbakedharvest.com', port=443): Max retries exceeded with url: /baked-gruyere-in-pastry/ (Caused by ProxyError('Unable to connect to proxy', NewConnectionError('<urllib3.connection.HTTPSConnection object at 0x142ff4be0>: Failed to establish a new connection: [Errno 51] Network is unreachable')))\n",
      "Proxy 35.220.254.137:8080 failed for https://www.halfbakedharvest.com/crispy-sesame-ginger-egg-rolls-with-sweet-chili-sauce/: HTTPSConnectionPool(host='www.halfbakedharvest.com', port=443): Max retries exceeded with url: /crispy-sesame-ginger-egg-rolls-with-sweet-chili-sauce/ (Caused by ProxyError('Unable to connect to proxy', NewConnectionError('<urllib3.connection.HTTPSConnection object at 0x142ff4fd0>: Failed to establish a new connection: [Errno 51] Network is unreachable')))\n",
      "Proxy 181.114.61.17:8085 failed for https://www.halfbakedharvest.com/prosciutto-and-cheese-pastry-twist/: HTTPSConnectionPool(host='www.halfbakedharvest.com', port=443): Max retries exceeded with url: /prosciutto-and-cheese-pastry-twist/ (Caused by ProxyError('Unable to connect to proxy', NewConnectionError('<urllib3.connection.HTTPSConnection object at 0x142cc0850>: Failed to establish a new connection: [Errno 51] Network is unreachable')))\n",
      "Proxy 35.220.254.137:8080 failed for https://www.halfbakedharvest.com/pastry-wrapped-cranberry-baked-brie/: HTTPSConnectionPool(host='www.halfbakedharvest.com', port=443): Max retries exceeded with url: /pastry-wrapped-cranberry-baked-brie/ (Caused by ProxyError('Unable to connect to proxy', NewConnectionError('<urllib3.connection.HTTPSConnection object at 0x137997040>: Failed to establish a new connection: [Errno 51] Network is unreachable')))\n",
      "Proxy 181.114.61.17:8085 failed for https://www.halfbakedharvest.com/bacon-wrapped-parmesan-brussels-sprouts/: HTTPSConnectionPool(host='www.halfbakedharvest.com', port=443): Max retries exceeded with url: /bacon-wrapped-parmesan-brussels-sprouts/ (Caused by ProxyError('Unable to connect to proxy', NewConnectionError('<urllib3.connection.HTTPSConnection object at 0x142ff40d0>: Failed to establish a new connection: [Errno 51] Network is unreachable')))\n",
      "Proxy 35.220.254.137:8080 failed for https://www.halfbakedharvest.com/goat-cheese-with-warm-candied-bacon/: HTTPSConnectionPool(host='www.halfbakedharvest.com', port=443): Max retries exceeded with url: /goat-cheese-with-warm-candied-bacon/ (Caused by ProxyError('Unable to connect to proxy', NewConnectionError('<urllib3.connection.HTTPSConnection object at 0x142ff4b80>: Failed to establish a new connection: [Errno 51] Network is unreachable')))\n",
      "Proxy 181.114.61.17:8085 failed for https://www.halfbakedharvest.com/pizza-dip-sliders/: HTTPSConnectionPool(host='www.halfbakedharvest.com', port=443): Max retries exceeded with url: /pizza-dip-sliders/ (Caused by ProxyError('Unable to connect to proxy', NewConnectionError('<urllib3.connection.HTTPSConnection object at 0x1434b6d90>: Failed to establish a new connection: [Errno 51] Network is unreachable')))\n",
      "Proxy 35.220.254.137:8080 failed for https://www.halfbakedharvest.com/soft-garlic-herb-cheddar-cheese-bread/: HTTPSConnectionPool(host='www.halfbakedharvest.com', port=443): Max retries exceeded with url: /soft-garlic-herb-cheddar-cheese-bread/ (Caused by ProxyError('Unable to connect to proxy', NewConnectionError('<urllib3.connection.HTTPSConnection object at 0x142cc0c40>: Failed to establish a new connection: [Errno 51] Network is unreachable')))\n",
      "Proxy 181.114.61.17:8085 failed for https://www.halfbakedharvest.com/hard-cider-pretzels/: HTTPSConnectionPool(host='www.halfbakedharvest.com', port=443): Max retries exceeded with url: /hard-cider-pretzels/ (Caused by ProxyError('Unable to connect to proxy', NewConnectionError('<urllib3.connection.HTTPSConnection object at 0x1434b6ca0>: Failed to establish a new connection: [Errno 51] Network is unreachable')))\n",
      "Proxy 35.220.254.137:8080 failed for https://www.halfbakedharvest.com/honey-whipped-feta/: HTTPSConnectionPool(host='www.halfbakedharvest.com', port=443): Max retries exceeded with url: /honey-whipped-feta/ (Caused by ProxyError('Unable to connect to proxy', NewConnectionError('<urllib3.connection.HTTPSConnection object at 0x1434b62b0>: Failed to establish a new connection: [Errno 51] Network is unreachable')))\n",
      "Proxy 181.114.61.17:8085 failed for https://www.halfbakedharvest.com/peach-burrata-crostin/: HTTPSConnectionPool(host='www.halfbakedharvest.com', port=443): Max retries exceeded with url: /peach-burrata-crostin/ (Caused by ProxyError('Unable to connect to proxy', NewConnectionError('<urllib3.connection.HTTPSConnection object at 0x142ff47c0>: Failed to establish a new connection: [Errno 51] Network is unreachable')))\n",
      "Proxy 35.220.254.137:8080 failed for https://www.halfbakedharvest.com/caprese-pesto-tarts/: HTTPSConnectionPool(host='www.halfbakedharvest.com', port=443): Max retries exceeded with url: /caprese-pesto-tarts/ (Caused by ProxyError('Unable to connect to proxy', NewConnectionError('<urllib3.connection.HTTPSConnection object at 0x137997070>: Failed to establish a new connection: [Errno 51] Network is unreachable')))\n",
      "Proxy 181.114.61.17:8085 failed for https://www.halfbakedharvest.com/tomato-peach-and-burrata-salad/: HTTPSConnectionPool(host='www.halfbakedharvest.com', port=443): Max retries exceeded with url: /tomato-peach-and-burrata-salad/ (Caused by ProxyError('Unable to connect to proxy', NewConnectionError('<urllib3.connection.HTTPSConnection object at 0x137997520>: Failed to establish a new connection: [Errno 51] Network is unreachable')))\n",
      "Proxy 35.220.254.137:8080 failed for https://www.halfbakedharvest.com/marinated-mozzarella-melon-skewers/: HTTPSConnectionPool(host='www.halfbakedharvest.com', port=443): Max retries exceeded with url: /marinated-mozzarella-melon-skewers/ (Caused by ProxyError('Unable to connect to proxy', NewConnectionError('<urllib3.connection.HTTPSConnection object at 0x1437623a0>: Failed to establish a new connection: [Errno 51] Network is unreachable')))\n",
      "Proxy 181.114.61.17:8085 failed for https://www.halfbakedharvest.com/charred-baby-bell-peppers/: HTTPSConnectionPool(host='www.halfbakedharvest.com', port=443): Max retries exceeded with url: /charred-baby-bell-peppers/ (Caused by ProxyError('Unable to connect to proxy', NewConnectionError('<urllib3.connection.HTTPSConnection object at 0x137997c40>: Failed to establish a new connection: [Errno 51] Network is unreachable')))\n",
      "Proxy 35.220.254.137:8080 failed for https://www.halfbakedharvest.com/blt-corn-fritter-stacks/: HTTPSConnectionPool(host='www.halfbakedharvest.com', port=443): Max retries exceeded with url: /blt-corn-fritter-stacks/ (Caused by ProxyError('Unable to connect to proxy', NewConnectionError('<urllib3.connection.HTTPSConnection object at 0x142ff4760>: Failed to establish a new connection: [Errno 51] Network is unreachable')))\n",
      "Proxy 181.114.61.17:8085 failed for https://www.halfbakedharvest.com/ricotta-toast-with-marinated-tomatoes/: HTTPSConnectionPool(host='www.halfbakedharvest.com', port=443): Max retries exceeded with url: /ricotta-toast-with-marinated-tomatoes/ (Caused by ProxyError('Unable to connect to proxy', NewConnectionError('<urllib3.connection.HTTPSConnection object at 0x142ff47c0>: Failed to establish a new connection: [Errno 51] Network is unreachable')))\n"
     ]
    }
   ],
   "source": [
    "# Read proxies from the file and create a cycle iterator\n",
    "with open('proxies.txt', 'r') as f:\n",
    "    proxies = [line.strip() for line in f if line.strip()]\n",
    "\n",
    "# Check if proxies are being read correctly\n",
    "if not proxies:\n",
    "    print(\"No valid proxies found in proxies.txt\")\n",
    "else:\n",
    "    print(f\"Proxies loaded: {proxies}\")\n",
    "\n",
    "proxy_cycle = itertools.cycle(proxies)\n",
    "\n",
    "# Initialize an empty DataFrame to store results\n",
    "temp_recipes_2 = pd.DataFrame(columns=columns)\n",
    "title = []\n",
    "prep_time = []\n",
    "cook_time = []\n",
    "total_time = []\n",
    "\n",
    "ingredients_measurment = []\n",
    "ingredients = []\n",
    "instructions = []\n",
    "\n",
    "calories = []\n",
    "servings = []\n",
    "images = []\n",
    "\n",
    "# Loop over the desired number of pages\n",
    "for i in range(150, 360):\n",
    "    proxy = next(proxy_cycle)\n",
    "\n",
    "    # Set up request with proxy\n",
    "    headers = {'User-Agent': 'Mozilla/5.0 (Windows NT 6.3; Win64; x64) AppleWebKit/537.36 (KHTML, like Gecko) Chrome/80.0.3987.162 Safari/537.36'}\n",
    "    url = all_recipes_url[i]\n",
    "    proxy_dict = {'http': proxy, 'https': proxy}\n",
    "\n",
    "    try:\n",
    "        response = requests.get(url, headers=headers, proxies=proxy_dict, timeout=30)\n",
    "        \n",
    "        # Check if the request was successful\n",
    "        if response.status_code == 200:\n",
    "            soup = BeautifulSoup(response.content, 'html.parser')\n",
    "            extract(soup)\n",
    "            print(f\"Successfully retrieved {i} - {url} with proxy {proxy}\")\n",
    "        else:\n",
    "            failed_url.append(url)\n",
    "            print(f\"Failed to retrieve page {url} with proxy {proxy}. Status code: {response.status_code}\")\n",
    "    except (requests.ConnectionError, requests.Timeout) as e:\n",
    "        failed_url.append(url)\n",
    "        print(f\"Proxy {proxy} failed for {url}: {e}\")\n",
    "    except ChunkedEncodingError as e:  # Handle ChunkedEncodingError\n",
    "        failed_url.append(url)\n",
    "        print(f\"ChunkedEncodingError occurred for proxy {proxy} and {url}: {e}\")\n",
    "        continue  # Move to the next page\n",
    "\n",
    "\n",
    "\n",
    "temp_recipes_2['title'] = title\n",
    "temp_recipes_2['prep_time'] = prep_time\n",
    "temp_recipes_2['cook_time'] = cook_time\n",
    "temp_recipes_2['total_time'] = total_time\n",
    "temp_recipes_2['ingredients'] = ingredients\n",
    "temp_recipes_2['ingredients with measurement'] = ingredients_measurment\n",
    "temp_recipes_2['instructions'] = instructions\n",
    "temp_recipes_2['calories'] = calories\n",
    "temp_recipes_2['servings'] = servings\n",
    "temp_recipes_2['images']= images\n",
    "\n",
    "\n",
    "\n",
    "    "
   ]
  },
  {
   "cell_type": "code",
   "execution_count": 17,
   "id": "86fec35e",
   "metadata": {},
   "outputs": [
    {
     "name": "stdout",
     "output_type": "stream",
     "text": [
      "157\n"
     ]
    }
   ],
   "source": [
    "print(len(failed_url))"
   ]
  },
  {
   "cell_type": "code",
   "execution_count": 18,
   "id": "f7862ade",
   "metadata": {},
   "outputs": [
    {
     "data": {
      "text/plain": [
       "['https://www.halfbakedharvest.com/tomato-cheese-pie/',\n",
       " 'https://www.halfbakedharvest.com/garlic-oil-feta-dip/',\n",
       " 'https://www.halfbakedharvest.com/fried-goat-cheese-balls/',\n",
       " 'https://www.halfbakedharvest.com/popular-holiday-appetizers-and-cocktails-mocktails/',\n",
       " 'https://www.halfbakedharvest.com/beef-tenderloin-crostini/',\n",
       " 'https://www.halfbakedharvest.com/the-50-most-popular-fall-recipes/',\n",
       " 'https://www.halfbakedharvest.com/parmesan-buffalo-chicken-wings/',\n",
       " 'https://www.halfbakedharvest.com/mezze-platter/',\n",
       " 'https://www.halfbakedharvest.com/jalapeno-cheddar-cornbread-biscuits/',\n",
       " 'https://www.halfbakedharvest.com/street-corn-dip-sliders/',\n",
       " 'https://www.halfbakedharvest.com/baked-artichokes/',\n",
       " 'https://www.halfbakedharvest.com/hot-honey-cauliflower/',\n",
       " 'https://www.halfbakedharvest.com/chicken-enchilada-bean-dip/',\n",
       " 'https://www.halfbakedharvest.com/everything-ranch-crackers-and-pretzels/',\n",
       " 'https://www.halfbakedharvest.com/bacon-wrapped-cheddar-corn-jalapeno-poppers/',\n",
       " 'https://www.halfbakedharvest.com/roasted-tomato-cheddar-tart/',\n",
       " 'https://www.halfbakedharvest.com/mac-and-cheese-stuffed-oven-fried-zucchini-bites/',\n",
       " 'https://www.halfbakedharvest.com/crispy-bbq-beer-battered-cauliflower-nuggets/',\n",
       " 'https://www.halfbakedharvest.com/pan-fried-brie/',\n",
       " 'https://www.halfbakedharvest.com/crispy-chicken-tinga-taquitos/',\n",
       " 'https://www.halfbakedharvest.com/honey-mustard-pretzel-chicken-fingers/',\n",
       " 'https://www.halfbakedharvest.com/tuscan-fries/',\n",
       " 'https://www.halfbakedharvest.com/garlic-butter-scallops/',\n",
       " 'https://www.halfbakedharvest.com/whipped-ricotta-toast/',\n",
       " 'https://www.halfbakedharvest.com/burrata-with-lemon-pepper-salami-bites/',\n",
       " 'https://www.halfbakedharvest.com/baked-brie-and-prosciutto-rolls/',\n",
       " 'https://www.halfbakedharvest.com/sweet-n-savory-roasted-nuts-and-pretzels/',\n",
       " 'https://www.halfbakedharvest.com/honey-butter-roasted-acorn-with-burrata-and-pomegranate/',\n",
       " 'https://www.halfbakedharvest.com/opened-faced-tomato-and-goat-cheese-sandwich-with-hot-bacon-vinaigrette/',\n",
       " 'https://www.halfbakedharvest.com/10-minute-garden-herb-avocado-dip/',\n",
       " 'https://www.halfbakedharvest.com/tuscan-summer-stone-fruit-tomato-and-burrata-panzanella-salad/',\n",
       " 'https://www.halfbakedharvest.com/caprese-burrata-garlic-bread/',\n",
       " 'https://www.halfbakedharvest.com/honey-raspberry-brie-crostini-with-basil-oil/',\n",
       " 'https://www.halfbakedharvest.com/baked-thai-coconut-shrimp-with-lemongrass-guacamole/',\n",
       " 'https://www.halfbakedharvest.com/roasted-red-pepper-meze-platter/',\n",
       " 'https://www.halfbakedharvest.com/black-bean-turkey-nachos-with-jalapeno-yogurt/',\n",
       " 'https://www.halfbakedharvest.com/3-ingredient-cheesy-pizza-pretzels/',\n",
       " 'https://www.halfbakedharvest.com/cranberry-brie-pull-apart-bread/',\n",
       " 'https://www.halfbakedharvest.com/7-easy-fall-dinners/',\n",
       " 'https://www.halfbakedharvest.com/skinny-cajun-sweet-potato-fries-with-garlic-cheese-sauce/',\n",
       " 'https://www.halfbakedharvest.com/sweet-chili-butter-grilled-lobster-fries-havarti-cheese/',\n",
       " 'https://www.halfbakedharvest.com/bacon-wrapped-parmesan-broccoli-rabe/',\n",
       " 'https://www.halfbakedharvest.com/summer-crostini-6-ways/',\n",
       " 'https://www.halfbakedharvest.com/southwest-bbq-pork-sliders/',\n",
       " 'https://www.halfbakedharvest.com/mediterranean-antipasto-platter/',\n",
       " 'https://www.halfbakedharvest.com/mexican-carnitas-bar/',\n",
       " 'https://www.halfbakedharvest.com/artichoke-ricotta-flatbread/',\n",
       " 'https://www.halfbakedharvest.com/salmon-fajita-salad-boats/',\n",
       " 'https://www.halfbakedharvest.com/margherita-pizza-dip-burrata/',\n",
       " 'https://www.halfbakedharvest.com/queso-fundido-alla-tequila/',\n",
       " 'https://www.halfbakedharvest.com/the-big-holiday-hummus-board-with-roasted-root-veggie-chips/',\n",
       " 'https://www.halfbakedharvest.com/simple-baked-italian-oregano-meatballs/',\n",
       " 'https://www.halfbakedharvest.com/fall-harvest-peanut-picnic-a-family-hike/',\n",
       " 'https://www.halfbakedharvest.com/how-to-make-a-killer-summer-cheeseboard-with-pickled-strawberries-herb-roasted-cherry-tomatoes/',\n",
       " 'https://www.halfbakedharvest.com/kentucky-hot-brown-sandwiches-jalapeno-cornbread-biscuits-honey-bourbon-bacon/',\n",
       " 'https://www.halfbakedharvest.com/authentic-canadian-poutine/',\n",
       " 'https://www.halfbakedharvest.com/thai-peanut-chicken-wings-fiery-pineapple-jalapeno-salsa/',\n",
       " 'https://www.halfbakedharvest.com/spicy-green-harissa/',\n",
       " 'https://www.halfbakedharvest.com/ham-cheese-sandwiches-wbacon-pineapple-caramelized-onions-jerk-bbq-sauce/',\n",
       " 'https://www.halfbakedharvest.com/goat-cheese-stuffed-phyllo-swirls-pomegranate-honey-pistachios/',\n",
       " 'https://www.halfbakedharvest.com/sun-dried-tomato-olive-pesto-pizza-salami-roasted-red-peppers/',\n",
       " 'https://www.halfbakedharvest.com/gingery-steak-brie-sliders-balsamic-cranberry-sauce/',\n",
       " 'https://www.halfbakedharvest.com/lets-talk-thanksgiving-snacks-appetizers-sides-desserts/',\n",
       " 'https://www.halfbakedharvest.com/blue-cheese-guacamole-stuffed-mushrooms-with-buffalo-sauce/',\n",
       " 'https://www.halfbakedharvest.com/avocado-and-gouda-blt-corn-fritter-stacks-with-chipotle-bourbon-dressing/',\n",
       " 'https://www.halfbakedharvest.com/peach-and-gorgonzola-grilled-polenta-rounds-with-chipotle-honey/',\n",
       " 'https://www.halfbakedharvest.com/blistered-tomato-grilled-toast-caprese-nachos-with-balsamic-glaze/',\n",
       " 'https://www.halfbakedharvest.com/crispy-buffalo-style-salmon-sliders/',\n",
       " 'https://www.halfbakedharvest.com/cheesy-cajun-fries-with-grilled-corn-guacamole-bacon-and-fried-eggs/',\n",
       " 'https://www.halfbakedharvest.com/cajun-bbq-cheddar-chicken-fingers/',\n",
       " 'https://www.halfbakedharvest.com/crispy-roasted-blackened-cauliflower/',\n",
       " 'https://www.halfbakedharvest.com/halloumi-bites/',\n",
       " 'https://www.halfbakedharvest.com/queso-fundido-taquitos/',\n",
       " 'https://www.halfbakedharvest.com/baked-parmesan-tater-tots/',\n",
       " 'https://www.halfbakedharvest.com/honey-whipped-ricotta-and-prosciutto-crackers/',\n",
       " 'https://www.halfbakedharvest.com/pastry-wrapped-cranberry-baked-brie-bites/',\n",
       " 'https://www.halfbakedharvest.com/oven-toasted-garlic-herb-cheese-ravioli/',\n",
       " 'https://www.halfbakedharvest.com/everything-ranch-cheese-and-pretzel-snack-mix/',\n",
       " 'https://www.halfbakedharvest.com/black-pepper-rub-chicken-fingers-greek-yogurt-ranch/',\n",
       " 'https://www.halfbakedharvest.com/baked-buffalo-chicken-egg-rolls/',\n",
       " 'https://www.halfbakedharvest.com/peach-brie-pastry-tarts/',\n",
       " 'https://www.halfbakedharvest.com/sweet-potato-parmesan-tater-tots/',\n",
       " 'https://www.halfbakedharvest.com/pastry-wrapped-baked-brie-with-thyme-butter-roasted-plums/',\n",
       " 'https://www.halfbakedharvest.com/grilled-street-corn-salad/',\n",
       " 'https://www.halfbakedharvest.com/no-fuss-farmers-market-mezze-platter/',\n",
       " 'https://www.halfbakedharvest.com/pan-fried-feta-with-peppered-honey/',\n",
       " 'https://www.halfbakedharvest.com/cheesy-potato-chive-galette/',\n",
       " 'https://www.halfbakedharvest.com/khachapuri-georgian-cheese-bread/',\n",
       " 'https://www.halfbakedharvest.com/spinach-and-artichoke-stuffed-soft-pretzels/',\n",
       " 'https://www.halfbakedharvest.com/easy-cheese-and-prosciutto-croissants/',\n",
       " 'https://www.halfbakedharvest.com/ginger-sesame-chicken-potstickers/',\n",
       " 'https://www.halfbakedharvest.com/holiday-cheese-board/',\n",
       " 'https://www.halfbakedharvest.com/onion-spinach-and-cheddar-flaky-pastries/',\n",
       " 'https://www.halfbakedharvest.com/heirloom-tomato-basil-and-manchego-toast/',\n",
       " 'https://www.halfbakedharvest.com/thyme-honey-peach-and-goat-cheese-crostini/',\n",
       " 'https://www.halfbakedharvest.com/spicy-corn-and-peaches-with-burrata/',\n",
       " 'https://www.halfbakedharvest.com/the-best-jalapeno-queso/',\n",
       " 'https://www.halfbakedharvest.com/moroccan-dip-platter/',\n",
       " 'https://www.halfbakedharvest.com/asparagus-egg-and-prosciutto-tart-with-everything-spice/',\n",
       " 'https://www.halfbakedharvest.com/spicy-cauliflower-cheese-bites-with-tahini-ranch/',\n",
       " 'https://www.halfbakedharvest.com/apple-crisp-baked-brie-sunday-links-inspire/',\n",
       " 'https://www.halfbakedharvest.com/skinny-tandoori-butter-sweet-potato-fries-wcreamy-baked-harissa-feta/',\n",
       " 'https://www.halfbakedharvest.com/sweet-spicy-rosemary-cheddar-gorgonzola-pumpkin-crackers/',\n",
       " 'https://www.halfbakedharvest.com/brie-cheddar-apple-beer-soup-cinnamon-pecan-oat-crumble/',\n",
       " 'https://www.halfbakedharvest.com/hot-wings-cookbook-giveaway/',\n",
       " 'https://www.halfbakedharvest.com/caramelized-corn-heirloom-tomato-galette-wherbed-roasted-garlic-goat-cheese/',\n",
       " 'https://www.halfbakedharvest.com/cheesy-margarita-pizza-hummus-grilled-pesto-pizza-bread/',\n",
       " 'https://www.halfbakedharvest.com/easy-grilled-parmesan-polenta-chips/',\n",
       " 'https://www.halfbakedharvest.com/spinach-artichoke-corn-fritters-brie-sweet-honey-jalapeno-cream/',\n",
       " 'https://www.halfbakedharvest.com/hawaiian-shrimp-truck-special-garlic-lemon-butter-shrimp/',\n",
       " 'https://www.halfbakedharvest.com/cheesy-black-bean-quinoa-taco-bake/',\n",
       " 'https://www.halfbakedharvest.com/irish-tater-nachos/',\n",
       " 'https://www.halfbakedharvest.com/ridiculously-easy-classic-fiesta-guacamole/',\n",
       " 'https://www.halfbakedharvest.com/moms-secret-christmas-eve-chex-mix/',\n",
       " 'https://www.halfbakedharvest.com/coconut-crusted-brie-stuffed-quinoa-bites/',\n",
       " 'https://www.halfbakedharvest.com/curried-sweet-potato-rounds-honeyed-walnuts-cranberries-blue-cheese/',\n",
       " 'https://www.halfbakedharvest.com/cranberry-butternut-brussels-sprout-brie-skillet-nachos/',\n",
       " 'https://www.halfbakedharvest.com/20-minute-chicken-cheesesteak-sloppy-joe-sliders/',\n",
       " 'https://www.halfbakedharvest.com/loaded-greek-goddess-chickpea-quinoa-pita-chip-nachos/',\n",
       " 'https://www.halfbakedharvest.com/sweet-potato-bites/',\n",
       " 'https://www.halfbakedharvest.com/cheesy-soft-pretzel-bites/',\n",
       " 'https://www.halfbakedharvest.com/caprese-garlic-bread/',\n",
       " 'https://www.halfbakedharvest.com/strawberry-watermelon-salad/',\n",
       " 'https://www.halfbakedharvest.com/avocado-shrimp-salsa/',\n",
       " 'https://www.halfbakedharvest.com/jalapeno-cheddar-popovers/',\n",
       " 'https://www.halfbakedharvest.com/summer-rolls/',\n",
       " 'https://www.halfbakedharvest.com/crumbled-feta-and-tomato-basil-vinaigrette-dip/',\n",
       " 'https://www.halfbakedharvest.com/cheese-rangoons/',\n",
       " 'https://www.halfbakedharvest.com/spinach-and-brie-triangles/',\n",
       " 'https://www.halfbakedharvest.com/roasted-cauliflower-hummus/',\n",
       " 'https://www.halfbakedharvest.com/fried-feta-rolls/',\n",
       " 'https://www.halfbakedharvest.com/artichoke-gouda-tart/',\n",
       " 'https://www.halfbakedharvest.com/garlic-herb-roasted-olives/',\n",
       " 'https://www.halfbakedharvest.com/oregano-roasted-potatoes/',\n",
       " 'https://www.halfbakedharvest.com/jalapeno-cream-cheese-buffalo-chicken-taquitos/',\n",
       " 'https://www.halfbakedharvest.com/nacho-fries/',\n",
       " 'https://www.halfbakedharvest.com/hot-honey-popcorn-chicken/',\n",
       " 'https://www.halfbakedharvest.com/chipotle-chicken-nachos/',\n",
       " 'https://www.halfbakedharvest.com/buffalo-cauliflower/',\n",
       " 'https://www.halfbakedharvest.com/christmas-tree-cheese-board/',\n",
       " 'https://www.halfbakedharvest.com/baked-gruyere-in-pastry/',\n",
       " 'https://www.halfbakedharvest.com/crispy-sesame-ginger-egg-rolls-with-sweet-chili-sauce/',\n",
       " 'https://www.halfbakedharvest.com/prosciutto-and-cheese-pastry-twist/',\n",
       " 'https://www.halfbakedharvest.com/pastry-wrapped-cranberry-baked-brie/',\n",
       " 'https://www.halfbakedharvest.com/bacon-wrapped-parmesan-brussels-sprouts/',\n",
       " 'https://www.halfbakedharvest.com/goat-cheese-with-warm-candied-bacon/',\n",
       " 'https://www.halfbakedharvest.com/pizza-dip-sliders/',\n",
       " 'https://www.halfbakedharvest.com/soft-garlic-herb-cheddar-cheese-bread/',\n",
       " 'https://www.halfbakedharvest.com/hard-cider-pretzels/',\n",
       " 'https://www.halfbakedharvest.com/honey-whipped-feta/',\n",
       " 'https://www.halfbakedharvest.com/peach-burrata-crostin/',\n",
       " 'https://www.halfbakedharvest.com/caprese-pesto-tarts/',\n",
       " 'https://www.halfbakedharvest.com/tomato-peach-and-burrata-salad/',\n",
       " 'https://www.halfbakedharvest.com/marinated-mozzarella-melon-skewers/',\n",
       " 'https://www.halfbakedharvest.com/charred-baby-bell-peppers/',\n",
       " 'https://www.halfbakedharvest.com/blt-corn-fritter-stacks/',\n",
       " 'https://www.halfbakedharvest.com/ricotta-toast-with-marinated-tomatoes/']"
      ]
     },
     "execution_count": 18,
     "metadata": {},
     "output_type": "execute_result"
    }
   ],
   "source": [
    "failed_url"
   ]
  },
  {
   "cell_type": "code",
   "execution_count": 19,
   "id": "b867696d",
   "metadata": {},
   "outputs": [
    {
     "data": {
      "text/html": [
       "<div>\n",
       "<style scoped>\n",
       "    .dataframe tbody tr th:only-of-type {\n",
       "        vertical-align: middle;\n",
       "    }\n",
       "\n",
       "    .dataframe tbody tr th {\n",
       "        vertical-align: top;\n",
       "    }\n",
       "\n",
       "    .dataframe thead th {\n",
       "        text-align: right;\n",
       "    }\n",
       "</style>\n",
       "<table border=\"1\" class=\"dataframe\">\n",
       "  <thead>\n",
       "    <tr style=\"text-align: right;\">\n",
       "      <th></th>\n",
       "      <th>title</th>\n",
       "      <th>prep_time</th>\n",
       "      <th>cook_time</th>\n",
       "      <th>total_time</th>\n",
       "      <th>ingredients</th>\n",
       "      <th>ingredients with measurement</th>\n",
       "      <th>instructions</th>\n",
       "      <th>calories</th>\n",
       "      <th>servings</th>\n",
       "      <th>images</th>\n",
       "    </tr>\n",
       "  </thead>\n",
       "  <tbody>\n",
       "    <tr>\n",
       "      <th>0</th>\n",
       "      <td>Cheesy Avocado Crab Stuffed Piquillo Pepper Ci...</td>\n",
       "      <td>{'minutes': '15'}</td>\n",
       "      <td>{'minutes': '20'}</td>\n",
       "      <td>{'minutes': '35'}</td>\n",
       "      <td>[egg yolk, apple cider vinegar, juice of 1 lem...</td>\n",
       "      <td>{'egg yolk': '1', 'apple cider vinegar': '1', ...</td>\n",
       "      <td>[]</td>\n",
       "      <td>404 kcal</td>\n",
       "      <td>8</td>\n",
       "      <td>https://www.halfbakedharvest.com/wp-content/up...</td>\n",
       "    </tr>\n",
       "    <tr>\n",
       "      <th>1</th>\n",
       "      <td>Smoky 3 Cheese Fondue with Toasted Garlic Butt...</td>\n",
       "      <td>{'minutes': '10'}</td>\n",
       "      <td>{'minutes': '20'}</td>\n",
       "      <td>{'minutes': '30'}</td>\n",
       "      <td>[smoked gouda cheese, gruyere cheese, swiss ch...</td>\n",
       "      <td>{'smoked gouda cheese': '12', 'gruyere cheese'...</td>\n",
       "      <td>[]</td>\n",
       "      <td>850 kcal</td>\n",
       "      <td>6</td>\n",
       "      <td>https://www.halfbakedharvest.com/wp-content/up...</td>\n",
       "    </tr>\n",
       "    <tr>\n",
       "      <th>2</th>\n",
       "      <td>Greek Feta Chickpea Pancake Fritters with Poac...</td>\n",
       "      <td>{'minutes': '10'}</td>\n",
       "      <td>{'minutes': '20'}</td>\n",
       "      <td>{'minutes': '30'}</td>\n",
       "      <td>[olive oil, medium leek, salt and pepper, kale...</td>\n",
       "      <td>{'olive oil': '1/4', 'medium leek': '1', 'salt...</td>\n",
       "      <td>[]</td>\n",
       "      <td>858 kcal</td>\n",
       "      <td>4</td>\n",
       "      <td>https://www.halfbakedharvest.com/wp-content/up...</td>\n",
       "    </tr>\n",
       "    <tr>\n",
       "      <th>3</th>\n",
       "      <td>Fully Loaded Potato Skins with Chipotle Southw...</td>\n",
       "      <td>{'minutes': '10'}</td>\n",
       "      <td>{'hours': '1', 'minutes': '30'}</td>\n",
       "      <td>{'hours': '1', 'minutes': '40'}</td>\n",
       "      <td>[medium size russet potatoes, butter, salt and...</td>\n",
       "      <td>{'medium size russet potatoes': '8', 'butter':...</td>\n",
       "      <td>[]</td>\n",
       "      <td>366 kcal</td>\n",
       "      <td>16</td>\n",
       "      <td>https://www.halfbakedharvest.com/wp-content/up...</td>\n",
       "    </tr>\n",
       "    <tr>\n",
       "      <th>4</th>\n",
       "      <td>Big Popper Hot Buffalo Chicken and Bacon Grill...</td>\n",
       "      <td>{'minutes': '25'}</td>\n",
       "      <td>{'minutes': '20'}</td>\n",
       "      <td>{'minutes': '45'}</td>\n",
       "      <td>[boneless skinless chicken breast tenders, egg...</td>\n",
       "      <td>{'boneless skinless chicken breast tenders': '...</td>\n",
       "      <td>[]</td>\n",
       "      <td>1028 kcal</td>\n",
       "      <td>4</td>\n",
       "      <td>https://www.halfbakedharvest.com/wp-content/up...</td>\n",
       "    </tr>\n",
       "    <tr>\n",
       "      <th>...</th>\n",
       "      <td>...</td>\n",
       "      <td>...</td>\n",
       "      <td>...</td>\n",
       "      <td>...</td>\n",
       "      <td>...</td>\n",
       "      <td>...</td>\n",
       "      <td>...</td>\n",
       "      <td>...</td>\n",
       "      <td>...</td>\n",
       "      <td>...</td>\n",
       "    </tr>\n",
       "    <tr>\n",
       "      <th>103</th>\n",
       "      <td>Sweet Cheesy Corn Wontons</td>\n",
       "      <td>{'minutes': '20'}</td>\n",
       "      <td>{'minutes': '10'}</td>\n",
       "      <td>{'minutes': '30'}</td>\n",
       "      <td>[fresh yellow corn, mayo, shredded mozzarella,...</td>\n",
       "      <td>{'fresh yellow corn': '2', 'mayo': '1/3', 'shr...</td>\n",
       "      <td>[1. In a bowl, toss together the corn, mayo, m...</td>\n",
       "      <td>95 kcal</td>\n",
       "      <td>24</td>\n",
       "      <td>https://www.halfbakedharvest.com/wp-content/up...</td>\n",
       "    </tr>\n",
       "    <tr>\n",
       "      <th>104</th>\n",
       "      <td>Tomato Peach Crostini with Hot Bacon Dressing</td>\n",
       "      <td>{'minutes': '15'}</td>\n",
       "      <td>{'minutes': '15'}</td>\n",
       "      <td>{'minutes': '30'}</td>\n",
       "      <td>[thick-cut slices of bacon, chopped, extra vir...</td>\n",
       "      <td>{'thick-cut slices of bacon, chopped': '6', 'e...</td>\n",
       "      <td>[1. To make the dressing. Combine all ingredie...</td>\n",
       "      <td>468 kcal</td>\n",
       "      <td>8</td>\n",
       "      <td>https://www.halfbakedharvest.com/wp-content/up...</td>\n",
       "    </tr>\n",
       "    <tr>\n",
       "      <th>105</th>\n",
       "      <td>Mexican Street Corn Dip</td>\n",
       "      <td>{'minutes': '15'}</td>\n",
       "      <td>{'minutes': '15'}</td>\n",
       "      <td>{'minutes': '30'}</td>\n",
       "      <td>[chili powder, smoked paprika, cayenne pepper,...</td>\n",
       "      <td>{'chili powder': '2', 'smoked paprika': '2', '...</td>\n",
       "      <td>[1. Mix the spices. In a bowl, combine the chi...</td>\n",
       "      <td>282 kcal</td>\n",
       "      <td>8</td>\n",
       "      <td>https://www.halfbakedharvest.com/wp-content/up...</td>\n",
       "    </tr>\n",
       "    <tr>\n",
       "      <th>106</th>\n",
       "      <td>Pull Apart Italian Sub Sliders</td>\n",
       "      <td>{'minutes': '20'}</td>\n",
       "      <td>{'minutes': '20'}</td>\n",
       "      <td>{'minutes': '45'}</td>\n",
       "      <td>[dinner rolls, halved lengthwise, dijon mustar...</td>\n",
       "      <td>{'dinner rolls, halved lengthwise': '1', 'dijo...</td>\n",
       "      <td>[1. Preheat the oven to 400° F., 2. Place the ...</td>\n",
       "      <td>243 kcal</td>\n",
       "      <td>12</td>\n",
       "      <td>https://www.halfbakedharvest.com/wp-content/up...</td>\n",
       "    </tr>\n",
       "    <tr>\n",
       "      <th>107</th>\n",
       "      <td>Charred Peppers with Marinated Feta and Tzatziki</td>\n",
       "      <td>{'minutes': '25'}</td>\n",
       "      <td>{'minutes': '15'}</td>\n",
       "      <td>{'minutes': '40'}</td>\n",
       "      <td>[baby bell peppers, extra virgin olive oil, fr...</td>\n",
       "      <td>{'baby bell peppers': '1', 'extra virgin olive...</td>\n",
       "      <td>[1. To make the feta. Arrange the feta, garlic...</td>\n",
       "      <td>321 kcal</td>\n",
       "      <td>8</td>\n",
       "      <td>https://www.halfbakedharvest.com/wp-content/up...</td>\n",
       "    </tr>\n",
       "  </tbody>\n",
       "</table>\n",
       "<p>108 rows × 10 columns</p>\n",
       "</div>"
      ],
      "text/plain": [
       "                                                 title          prep_time  \\\n",
       "0    Cheesy Avocado Crab Stuffed Piquillo Pepper Ci...  {'minutes': '15'}   \n",
       "1    Smoky 3 Cheese Fondue with Toasted Garlic Butt...  {'minutes': '10'}   \n",
       "2    Greek Feta Chickpea Pancake Fritters with Poac...  {'minutes': '10'}   \n",
       "3    Fully Loaded Potato Skins with Chipotle Southw...  {'minutes': '10'}   \n",
       "4    Big Popper Hot Buffalo Chicken and Bacon Grill...  {'minutes': '25'}   \n",
       "..                                                 ...                ...   \n",
       "103                          Sweet Cheesy Corn Wontons  {'minutes': '20'}   \n",
       "104      Tomato Peach Crostini with Hot Bacon Dressing  {'minutes': '15'}   \n",
       "105                            Mexican Street Corn Dip  {'minutes': '15'}   \n",
       "106                     Pull Apart Italian Sub Sliders  {'minutes': '20'}   \n",
       "107   Charred Peppers with Marinated Feta and Tzatziki  {'minutes': '25'}   \n",
       "\n",
       "                           cook_time                       total_time  \\\n",
       "0                  {'minutes': '20'}                {'minutes': '35'}   \n",
       "1                  {'minutes': '20'}                {'minutes': '30'}   \n",
       "2                  {'minutes': '20'}                {'minutes': '30'}   \n",
       "3    {'hours': '1', 'minutes': '30'}  {'hours': '1', 'minutes': '40'}   \n",
       "4                  {'minutes': '20'}                {'minutes': '45'}   \n",
       "..                               ...                              ...   \n",
       "103                {'minutes': '10'}                {'minutes': '30'}   \n",
       "104                {'minutes': '15'}                {'minutes': '30'}   \n",
       "105                {'minutes': '15'}                {'minutes': '30'}   \n",
       "106                {'minutes': '20'}                {'minutes': '45'}   \n",
       "107                {'minutes': '15'}                {'minutes': '40'}   \n",
       "\n",
       "                                           ingredients  \\\n",
       "0    [egg yolk, apple cider vinegar, juice of 1 lem...   \n",
       "1    [smoked gouda cheese, gruyere cheese, swiss ch...   \n",
       "2    [olive oil, medium leek, salt and pepper, kale...   \n",
       "3    [medium size russet potatoes, butter, salt and...   \n",
       "4    [boneless skinless chicken breast tenders, egg...   \n",
       "..                                                 ...   \n",
       "103  [fresh yellow corn, mayo, shredded mozzarella,...   \n",
       "104  [thick-cut slices of bacon, chopped, extra vir...   \n",
       "105  [chili powder, smoked paprika, cayenne pepper,...   \n",
       "106  [dinner rolls, halved lengthwise, dijon mustar...   \n",
       "107  [baby bell peppers, extra virgin olive oil, fr...   \n",
       "\n",
       "                          ingredients with measurement  \\\n",
       "0    {'egg yolk': '1', 'apple cider vinegar': '1', ...   \n",
       "1    {'smoked gouda cheese': '12', 'gruyere cheese'...   \n",
       "2    {'olive oil': '1/4', 'medium leek': '1', 'salt...   \n",
       "3    {'medium size russet potatoes': '8', 'butter':...   \n",
       "4    {'boneless skinless chicken breast tenders': '...   \n",
       "..                                                 ...   \n",
       "103  {'fresh yellow corn': '2', 'mayo': '1/3', 'shr...   \n",
       "104  {'thick-cut slices of bacon, chopped': '6', 'e...   \n",
       "105  {'chili powder': '2', 'smoked paprika': '2', '...   \n",
       "106  {'dinner rolls, halved lengthwise': '1', 'dijo...   \n",
       "107  {'baby bell peppers': '1', 'extra virgin olive...   \n",
       "\n",
       "                                          instructions   calories servings  \\\n",
       "0                                                   []   404 kcal        8   \n",
       "1                                                   []   850 kcal        6   \n",
       "2                                                   []   858 kcal        4   \n",
       "3                                                   []   366 kcal       16   \n",
       "4                                                   []  1028 kcal        4   \n",
       "..                                                 ...        ...      ...   \n",
       "103  [1. In a bowl, toss together the corn, mayo, m...    95 kcal       24   \n",
       "104  [1. To make the dressing. Combine all ingredie...   468 kcal        8   \n",
       "105  [1. Mix the spices. In a bowl, combine the chi...   282 kcal        8   \n",
       "106  [1. Preheat the oven to 400° F., 2. Place the ...   243 kcal       12   \n",
       "107  [1. To make the feta. Arrange the feta, garlic...   321 kcal        8   \n",
       "\n",
       "                                                images  \n",
       "0    https://www.halfbakedharvest.com/wp-content/up...  \n",
       "1    https://www.halfbakedharvest.com/wp-content/up...  \n",
       "2    https://www.halfbakedharvest.com/wp-content/up...  \n",
       "3    https://www.halfbakedharvest.com/wp-content/up...  \n",
       "4    https://www.halfbakedharvest.com/wp-content/up...  \n",
       "..                                                 ...  \n",
       "103  https://www.halfbakedharvest.com/wp-content/up...  \n",
       "104  https://www.halfbakedharvest.com/wp-content/up...  \n",
       "105  https://www.halfbakedharvest.com/wp-content/up...  \n",
       "106  https://www.halfbakedharvest.com/wp-content/up...  \n",
       "107  https://www.halfbakedharvest.com/wp-content/up...  \n",
       "\n",
       "[108 rows x 10 columns]"
      ]
     },
     "execution_count": 19,
     "metadata": {},
     "output_type": "execute_result"
    }
   ],
   "source": [
    "temp_recipes_2"
   ]
  },
  {
   "cell_type": "code",
   "execution_count": 21,
   "id": "f7df378c",
   "metadata": {},
   "outputs": [
    {
     "data": {
      "text/html": [
       "<div>\n",
       "<style scoped>\n",
       "    .dataframe tbody tr th:only-of-type {\n",
       "        vertical-align: middle;\n",
       "    }\n",
       "\n",
       "    .dataframe tbody tr th {\n",
       "        vertical-align: top;\n",
       "    }\n",
       "\n",
       "    .dataframe thead th {\n",
       "        text-align: right;\n",
       "    }\n",
       "</style>\n",
       "<table border=\"1\" class=\"dataframe\">\n",
       "  <thead>\n",
       "    <tr style=\"text-align: right;\">\n",
       "      <th></th>\n",
       "      <th>title</th>\n",
       "      <th>prep_time</th>\n",
       "      <th>cook_time</th>\n",
       "      <th>total_time</th>\n",
       "      <th>ingredients</th>\n",
       "      <th>ingredients with measurement</th>\n",
       "      <th>instructions</th>\n",
       "      <th>calories</th>\n",
       "      <th>servings</th>\n",
       "      <th>images</th>\n",
       "    </tr>\n",
       "  </thead>\n",
       "  <tbody>\n",
       "    <tr>\n",
       "      <th>0</th>\n",
       "      <td>Sour Cream and Onion Smashed Potatoes</td>\n",
       "      <td>{'minutes': '15'}</td>\n",
       "      <td>{'hours': '1'}</td>\n",
       "      <td>{'hours': '1', 'minutes': '15'}</td>\n",
       "      <td>[small to medium potatoes, beer, sea salt and ...</td>\n",
       "      <td>{'small to medium potatoes': '1', 'beer': '1',...</td>\n",
       "      <td>[1. Preheat the oven to 400° F., 2. Arrange th...</td>\n",
       "      <td>136 kcal</td>\n",
       "      <td>6</td>\n",
       "      <td>https://www.halfbakedharvest.com/wp-content/up...</td>\n",
       "    </tr>\n",
       "    <tr>\n",
       "      <th>1</th>\n",
       "      <td>Open Face Tomato Bacon Sandwich</td>\n",
       "      <td>{'minutes': '15'}</td>\n",
       "      <td>{'minutes': '10'}</td>\n",
       "      <td>{'minutes': '25'}</td>\n",
       "      <td>[thick-cut bacon, chopped, extra virgin olive ...</td>\n",
       "      <td>{'thick-cut bacon, chopped': '6', 'extra virgi...</td>\n",
       "      <td>[1. To make the dressing. Combine all ingredie...</td>\n",
       "      <td>641 kcal</td>\n",
       "      <td>6</td>\n",
       "      <td>https://www.halfbakedharvest.com/wp-content/up...</td>\n",
       "    </tr>\n",
       "    <tr>\n",
       "      <th>2</th>\n",
       "      <td>Effortless Marinated Burrata</td>\n",
       "      <td>{'minutes': '10'}</td>\n",
       "      <td>{'minutes': '10'}</td>\n",
       "      <td>{'minutes': '20'}</td>\n",
       "      <td>[marinated mozzarella balls, fresh burrata che...</td>\n",
       "      <td>{'marinated mozzarella balls': '1', 'fresh bur...</td>\n",
       "      <td>[1. Arrange the burrata in a shallow serving b...</td>\n",
       "      <td>372 kcal</td>\n",
       "      <td>8</td>\n",
       "      <td>https://www.halfbakedharvest.com/wp-content/up...</td>\n",
       "    </tr>\n",
       "    <tr>\n",
       "      <th>3</th>\n",
       "      <td>Pull Apart Cheeseburger Sliders.</td>\n",
       "      <td>{'minutes': '20'}</td>\n",
       "      <td>{'minutes': '30'}</td>\n",
       "      <td>{'minutes': '50'}</td>\n",
       "      <td>[mayo, sweet Thai chili sauce, tamari/soy sauc...</td>\n",
       "      <td>{'mayo': '1/2', 'sweet Thai chili sauce': '1/3...</td>\n",
       "      <td>[1. To make the sauce: combine all ingredients...</td>\n",
       "      <td>294 kcal</td>\n",
       "      <td>12</td>\n",
       "      <td>https://www.halfbakedharvest.com/wp-content/up...</td>\n",
       "    </tr>\n",
       "    <tr>\n",
       "      <th>4</th>\n",
       "      <td>-</td>\n",
       "      <td>-</td>\n",
       "      <td>-</td>\n",
       "      <td>-</td>\n",
       "      <td>-</td>\n",
       "      <td>-</td>\n",
       "      <td>-</td>\n",
       "      <td>-</td>\n",
       "      <td>-</td>\n",
       "      <td>https://www.halfbakedharvest.com/wp-content/up...</td>\n",
       "    </tr>\n",
       "    <tr>\n",
       "      <th>...</th>\n",
       "      <td>...</td>\n",
       "      <td>...</td>\n",
       "      <td>...</td>\n",
       "      <td>...</td>\n",
       "      <td>...</td>\n",
       "      <td>...</td>\n",
       "      <td>...</td>\n",
       "      <td>...</td>\n",
       "      <td>...</td>\n",
       "      <td>...</td>\n",
       "    </tr>\n",
       "    <tr>\n",
       "      <th>306</th>\n",
       "      <td>Sweet Cheesy Corn Wontons</td>\n",
       "      <td>{'minutes': '20'}</td>\n",
       "      <td>{'minutes': '10'}</td>\n",
       "      <td>{'minutes': '30'}</td>\n",
       "      <td>[fresh yellow corn, mayo, shredded mozzarella,...</td>\n",
       "      <td>{'fresh yellow corn': '2', 'mayo': '1/3', 'shr...</td>\n",
       "      <td>[1. In a bowl, toss together the corn, mayo, m...</td>\n",
       "      <td>95 kcal</td>\n",
       "      <td>24</td>\n",
       "      <td>https://www.halfbakedharvest.com/wp-content/up...</td>\n",
       "    </tr>\n",
       "    <tr>\n",
       "      <th>307</th>\n",
       "      <td>Tomato Peach Crostini with Hot Bacon Dressing</td>\n",
       "      <td>{'minutes': '15'}</td>\n",
       "      <td>{'minutes': '15'}</td>\n",
       "      <td>{'minutes': '30'}</td>\n",
       "      <td>[thick-cut slices of bacon, chopped, extra vir...</td>\n",
       "      <td>{'thick-cut slices of bacon, chopped': '6', 'e...</td>\n",
       "      <td>[1. To make the dressing. Combine all ingredie...</td>\n",
       "      <td>468 kcal</td>\n",
       "      <td>8</td>\n",
       "      <td>https://www.halfbakedharvest.com/wp-content/up...</td>\n",
       "    </tr>\n",
       "    <tr>\n",
       "      <th>308</th>\n",
       "      <td>Mexican Street Corn Dip</td>\n",
       "      <td>{'minutes': '15'}</td>\n",
       "      <td>{'minutes': '15'}</td>\n",
       "      <td>{'minutes': '30'}</td>\n",
       "      <td>[chili powder, smoked paprika, cayenne pepper,...</td>\n",
       "      <td>{'chili powder': '2', 'smoked paprika': '2', '...</td>\n",
       "      <td>[1. Mix the spices. In a bowl, combine the chi...</td>\n",
       "      <td>282 kcal</td>\n",
       "      <td>8</td>\n",
       "      <td>https://www.halfbakedharvest.com/wp-content/up...</td>\n",
       "    </tr>\n",
       "    <tr>\n",
       "      <th>309</th>\n",
       "      <td>Pull Apart Italian Sub Sliders</td>\n",
       "      <td>{'minutes': '20'}</td>\n",
       "      <td>{'minutes': '20'}</td>\n",
       "      <td>{'minutes': '45'}</td>\n",
       "      <td>[dinner rolls, halved lengthwise, dijon mustar...</td>\n",
       "      <td>{'dinner rolls, halved lengthwise': '1', 'dijo...</td>\n",
       "      <td>[1. Preheat the oven to 400° F., 2. Place the ...</td>\n",
       "      <td>243 kcal</td>\n",
       "      <td>12</td>\n",
       "      <td>https://www.halfbakedharvest.com/wp-content/up...</td>\n",
       "    </tr>\n",
       "    <tr>\n",
       "      <th>310</th>\n",
       "      <td>Charred Peppers with Marinated Feta and Tzatziki</td>\n",
       "      <td>{'minutes': '25'}</td>\n",
       "      <td>{'minutes': '15'}</td>\n",
       "      <td>{'minutes': '40'}</td>\n",
       "      <td>[baby bell peppers, extra virgin olive oil, fr...</td>\n",
       "      <td>{'baby bell peppers': '1', 'extra virgin olive...</td>\n",
       "      <td>[1. To make the feta. Arrange the feta, garlic...</td>\n",
       "      <td>321 kcal</td>\n",
       "      <td>8</td>\n",
       "      <td>https://www.halfbakedharvest.com/wp-content/up...</td>\n",
       "    </tr>\n",
       "  </tbody>\n",
       "</table>\n",
       "<p>311 rows × 10 columns</p>\n",
       "</div>"
      ],
      "text/plain": [
       "                                                title          prep_time  \\\n",
       "0               Sour Cream and Onion Smashed Potatoes  {'minutes': '15'}   \n",
       "1                     Open Face Tomato Bacon Sandwich  {'minutes': '15'}   \n",
       "2                        Effortless Marinated Burrata  {'minutes': '10'}   \n",
       "3                    Pull Apart Cheeseburger Sliders.  {'minutes': '20'}   \n",
       "4                                                   -                  -   \n",
       "..                                                ...                ...   \n",
       "306                         Sweet Cheesy Corn Wontons  {'minutes': '20'}   \n",
       "307     Tomato Peach Crostini with Hot Bacon Dressing  {'minutes': '15'}   \n",
       "308                           Mexican Street Corn Dip  {'minutes': '15'}   \n",
       "309                    Pull Apart Italian Sub Sliders  {'minutes': '20'}   \n",
       "310  Charred Peppers with Marinated Feta and Tzatziki  {'minutes': '25'}   \n",
       "\n",
       "             cook_time                       total_time  \\\n",
       "0       {'hours': '1'}  {'hours': '1', 'minutes': '15'}   \n",
       "1    {'minutes': '10'}                {'minutes': '25'}   \n",
       "2    {'minutes': '10'}                {'minutes': '20'}   \n",
       "3    {'minutes': '30'}                {'minutes': '50'}   \n",
       "4                    -                                -   \n",
       "..                 ...                              ...   \n",
       "306  {'minutes': '10'}                {'minutes': '30'}   \n",
       "307  {'minutes': '15'}                {'minutes': '30'}   \n",
       "308  {'minutes': '15'}                {'minutes': '30'}   \n",
       "309  {'minutes': '20'}                {'minutes': '45'}   \n",
       "310  {'minutes': '15'}                {'minutes': '40'}   \n",
       "\n",
       "                                           ingredients  \\\n",
       "0    [small to medium potatoes, beer, sea salt and ...   \n",
       "1    [thick-cut bacon, chopped, extra virgin olive ...   \n",
       "2    [marinated mozzarella balls, fresh burrata che...   \n",
       "3    [mayo, sweet Thai chili sauce, tamari/soy sauc...   \n",
       "4                                                    -   \n",
       "..                                                 ...   \n",
       "306  [fresh yellow corn, mayo, shredded mozzarella,...   \n",
       "307  [thick-cut slices of bacon, chopped, extra vir...   \n",
       "308  [chili powder, smoked paprika, cayenne pepper,...   \n",
       "309  [dinner rolls, halved lengthwise, dijon mustar...   \n",
       "310  [baby bell peppers, extra virgin olive oil, fr...   \n",
       "\n",
       "                          ingredients with measurement  \\\n",
       "0    {'small to medium potatoes': '1', 'beer': '1',...   \n",
       "1    {'thick-cut bacon, chopped': '6', 'extra virgi...   \n",
       "2    {'marinated mozzarella balls': '1', 'fresh bur...   \n",
       "3    {'mayo': '1/2', 'sweet Thai chili sauce': '1/3...   \n",
       "4                                                    -   \n",
       "..                                                 ...   \n",
       "306  {'fresh yellow corn': '2', 'mayo': '1/3', 'shr...   \n",
       "307  {'thick-cut slices of bacon, chopped': '6', 'e...   \n",
       "308  {'chili powder': '2', 'smoked paprika': '2', '...   \n",
       "309  {'dinner rolls, halved lengthwise': '1', 'dijo...   \n",
       "310  {'baby bell peppers': '1', 'extra virgin olive...   \n",
       "\n",
       "                                          instructions  calories servings  \\\n",
       "0    [1. Preheat the oven to 400° F., 2. Arrange th...  136 kcal        6   \n",
       "1    [1. To make the dressing. Combine all ingredie...  641 kcal        6   \n",
       "2    [1. Arrange the burrata in a shallow serving b...  372 kcal        8   \n",
       "3    [1. To make the sauce: combine all ingredients...  294 kcal       12   \n",
       "4                                                    -         -        -   \n",
       "..                                                 ...       ...      ...   \n",
       "306  [1. In a bowl, toss together the corn, mayo, m...   95 kcal       24   \n",
       "307  [1. To make the dressing. Combine all ingredie...  468 kcal        8   \n",
       "308  [1. Mix the spices. In a bowl, combine the chi...  282 kcal        8   \n",
       "309  [1. Preheat the oven to 400° F., 2. Place the ...  243 kcal       12   \n",
       "310  [1. To make the feta. Arrange the feta, garlic...  321 kcal        8   \n",
       "\n",
       "                                                images  \n",
       "0    https://www.halfbakedharvest.com/wp-content/up...  \n",
       "1    https://www.halfbakedharvest.com/wp-content/up...  \n",
       "2    https://www.halfbakedharvest.com/wp-content/up...  \n",
       "3    https://www.halfbakedharvest.com/wp-content/up...  \n",
       "4    https://www.halfbakedharvest.com/wp-content/up...  \n",
       "..                                                 ...  \n",
       "306  https://www.halfbakedharvest.com/wp-content/up...  \n",
       "307  https://www.halfbakedharvest.com/wp-content/up...  \n",
       "308  https://www.halfbakedharvest.com/wp-content/up...  \n",
       "309  https://www.halfbakedharvest.com/wp-content/up...  \n",
       "310  https://www.halfbakedharvest.com/wp-content/up...  \n",
       "\n",
       "[311 rows x 10 columns]"
      ]
     },
     "execution_count": 21,
     "metadata": {},
     "output_type": "execute_result"
    }
   ],
   "source": [
    "final = pd.concat([final, temp_recipes_2], ignore_index=True)\n",
    "final"
   ]
  },
  {
   "cell_type": "code",
   "execution_count": null,
   "id": "08e31e99",
   "metadata": {},
   "outputs": [],
   "source": []
  },
  {
   "cell_type": "code",
   "execution_count": null,
   "id": "4aa264ae",
   "metadata": {},
   "outputs": [],
   "source": []
  },
  {
   "cell_type": "code",
   "execution_count": 22,
   "id": "751db088",
   "metadata": {},
   "outputs": [],
   "source": [
    "def save_list_to_txt(filename, data_list):\n",
    "    \"\"\"\n",
    "    Save a list of strings to a text file, one item per line.\n",
    "    \n",
    "    :param filename: The name of the file to save the list to.\n",
    "    :param data_list: The list of strings to save.\n",
    "    \"\"\"\n",
    "    with open(filename, 'w') as f:\n",
    "        for item in data_list:\n",
    "            f.write(f\"{item}\\n\")"
   ]
  },
  {
   "cell_type": "code",
   "execution_count": 23,
   "id": "7da183ed",
   "metadata": {},
   "outputs": [],
   "source": [
    "save_list_to_txt('failed_urls.txt', failed_url)\n",
    "final.to_csv('appetizers_1_end.csv', index=False)"
   ]
  },
  {
   "cell_type": "code",
   "execution_count": null,
   "id": "6b4517a6",
   "metadata": {},
   "outputs": [],
   "source": []
  },
  {
   "cell_type": "code",
   "execution_count": null,
   "id": "584b8a40",
   "metadata": {},
   "outputs": [],
   "source": []
  },
  {
   "cell_type": "code",
   "execution_count": null,
   "id": "54dd8922",
   "metadata": {},
   "outputs": [],
   "source": []
  },
  {
   "cell_type": "code",
   "execution_count": null,
   "id": "793ea025",
   "metadata": {},
   "outputs": [],
   "source": []
  },
  {
   "cell_type": "code",
   "execution_count": null,
   "id": "d368577a",
   "metadata": {},
   "outputs": [],
   "source": []
  },
  {
   "cell_type": "code",
   "execution_count": null,
   "id": "65f477dc",
   "metadata": {},
   "outputs": [],
   "source": []
  },
  {
   "cell_type": "code",
   "execution_count": null,
   "id": "d9a3a0b2",
   "metadata": {},
   "outputs": [],
   "source": []
  },
  {
   "cell_type": "code",
   "execution_count": null,
   "id": "9ffe78f4",
   "metadata": {},
   "outputs": [],
   "source": []
  },
  {
   "cell_type": "code",
   "execution_count": null,
   "id": "8c80385b",
   "metadata": {},
   "outputs": [],
   "source": []
  },
  {
   "cell_type": "code",
   "execution_count": null,
   "id": "b86d43b3",
   "metadata": {},
   "outputs": [],
   "source": []
  },
  {
   "cell_type": "code",
   "execution_count": null,
   "id": "f3bd71a8",
   "metadata": {},
   "outputs": [],
   "source": []
  },
  {
   "cell_type": "markdown",
   "id": "b6e401ee",
   "metadata": {},
   "source": [
    "### Recipes 201-500"
   ]
  },
  {
   "cell_type": "code",
   "execution_count": null,
   "id": "c01c6671",
   "metadata": {
    "scrolled": true
   },
   "outputs": [],
   "source": [
    "# Read proxies from the file and create a cycle iterator\n",
    "with open('proxies.txt', 'r') as f:\n",
    "    proxies = [line.strip() for line in f if line.strip()]\n",
    "\n",
    "# Check if proxies are being read correctly\n",
    "if not proxies:\n",
    "    print(\"No valid proxies found in proxies.txt\")\n",
    "else:\n",
    "    print(f\"Proxies loaded: {proxies}\")\n",
    "\n",
    "proxy_cycle = itertools.cycle(proxies)\n",
    "\n",
    "# Initialize an empty DataFrame to store results\n",
    "temp_recipes_3 = pd.DataFrame(columns=columns)\n",
    "title = []\n",
    "prep_time = []\n",
    "cook_time = []\n",
    "total_time = []\n",
    "\n",
    "ingredients_measurment = []\n",
    "ingredients = []\n",
    "instructions = []\n",
    "\n",
    "calories = []\n",
    "servings = []\n",
    "images = []\n",
    "\n",
    "# Loop over the desired number of pages\n",
    "for i in range(201, 501):\n",
    "    proxy = next(proxy_cycle)\n",
    "\n",
    "    # Set up request with proxy\n",
    "    headers = {'User-Agent': 'Mozilla/5.0 (Windows NT 6.3; Win64; x64) AppleWebKit/537.36 (KHTML, like Gecko) Chrome/80.0.3987.162 Safari/537.36'}\n",
    "    url = all_recipes_url[i]\n",
    "    proxy_dict = {'http': proxy, 'https': proxy}\n",
    "\n",
    "    try:\n",
    "        response = requests.get(url, headers=headers, proxies=proxy_dict, timeout=30)\n",
    "        \n",
    "        # Check if the request was successful\n",
    "        if response.status_code == 200:\n",
    "            soup = BeautifulSoup(response.content, 'html.parser')\n",
    "            extract(soup)\n",
    "            print(f\"Successfully retrieved {i} - {url} with proxy {proxy}\")\n",
    "        else:\n",
    "            failed_url.append(url)\n",
    "            print(f\"Failed to retrieve page {url} with proxy {proxy}. Status code: {response.status_code}\")\n",
    "    except (requests.ConnectionError, requests.Timeout) as e:\n",
    "        failed_url.append(url)\n",
    "        print(f\"Proxy {proxy} failed for {url}: {e}\")\n",
    "    except ChunkedEncodingError as e:  # Handle ChunkedEncodingError\n",
    "        failed_url.append(url)\n",
    "        print(f\"ChunkedEncodingError occurred for proxy {proxy} and {url}: {e}\")\n",
    "        continue  # Move to the next page\n",
    "\n",
    "\n",
    "\n",
    "temp_recipes_3['title'] = title\n",
    "temp_recipes_3['prep_time'] = prep_time\n",
    "temp_recipes_3['cook_time'] = cook_time\n",
    "temp_recipes_3['total_time'] = total_time\n",
    "temp_recipes_3['ingredients'] = ingredients\n",
    "temp_recipes_3['ingredients with measurement'] = ingredients_measurment\n",
    "temp_recipes_3['instructions'] = instructions\n",
    "temp_recipes_3['calories'] = calories\n",
    "temp_recipes_3['servings'] = servings\n",
    "temp_recipes_3['images']= images\n",
    "\n",
    "\n",
    "\n",
    "    "
   ]
  },
  {
   "cell_type": "code",
   "execution_count": null,
   "id": "fbfb2603",
   "metadata": {},
   "outputs": [],
   "source": [
    "len(failed_url)"
   ]
  },
  {
   "cell_type": "code",
   "execution_count": null,
   "id": "1decf1ab",
   "metadata": {},
   "outputs": [],
   "source": [
    "temp_recipes_3"
   ]
  },
  {
   "cell_type": "code",
   "execution_count": null,
   "id": "5e699a3a",
   "metadata": {},
   "outputs": [],
   "source": [
    "final = pd.concat([final, temp_recipes_3], ignore_index=True)\n",
    "final"
   ]
  },
  {
   "cell_type": "code",
   "execution_count": null,
   "id": "f1aaeecb",
   "metadata": {},
   "outputs": [],
   "source": [
    "def save_list_to_txt(filename, data_list):\n",
    "    \"\"\"\n",
    "    Save a list of strings to a text file, one item per line.\n",
    "    \n",
    "    :param filename: The name of the file to save the list to.\n",
    "    :param data_list: The list of strings to save.\n",
    "    \"\"\"\n",
    "    with open(filename, 'w') as f:\n",
    "        for item in data_list:\n",
    "            f.write(f\"{item}\\n\")"
   ]
  },
  {
   "cell_type": "code",
   "execution_count": null,
   "id": "5fd1ee0e",
   "metadata": {},
   "outputs": [],
   "source": [
    "save_list_to_txt('failed_urls_till501.txt', failed_url)\n",
    "final.to_csv('desserts_201_501.csv', index=False)"
   ]
  },
  {
   "cell_type": "code",
   "execution_count": null,
   "id": "f2e767bb",
   "metadata": {},
   "outputs": [],
   "source": []
  },
  {
   "cell_type": "code",
   "execution_count": null,
   "id": "382f90d1",
   "metadata": {},
   "outputs": [],
   "source": []
  },
  {
   "cell_type": "code",
   "execution_count": null,
   "id": "76e81e61",
   "metadata": {},
   "outputs": [],
   "source": []
  },
  {
   "cell_type": "code",
   "execution_count": null,
   "id": "df03c5d3",
   "metadata": {},
   "outputs": [],
   "source": []
  },
  {
   "cell_type": "code",
   "execution_count": null,
   "id": "1e10152e",
   "metadata": {},
   "outputs": [],
   "source": []
  },
  {
   "cell_type": "code",
   "execution_count": null,
   "id": "f73e7e1b",
   "metadata": {},
   "outputs": [],
   "source": []
  },
  {
   "cell_type": "code",
   "execution_count": null,
   "id": "109578be",
   "metadata": {},
   "outputs": [],
   "source": []
  },
  {
   "cell_type": "code",
   "execution_count": null,
   "id": "1d416d69",
   "metadata": {},
   "outputs": [],
   "source": []
  },
  {
   "cell_type": "code",
   "execution_count": null,
   "id": "ae4b1919",
   "metadata": {},
   "outputs": [],
   "source": []
  },
  {
   "cell_type": "code",
   "execution_count": null,
   "id": "11fd3c4e",
   "metadata": {},
   "outputs": [],
   "source": []
  },
  {
   "cell_type": "code",
   "execution_count": null,
   "id": "9df36c54",
   "metadata": {},
   "outputs": [],
   "source": []
  },
  {
   "cell_type": "code",
   "execution_count": null,
   "id": "bf6c7112",
   "metadata": {},
   "outputs": [],
   "source": []
  },
  {
   "cell_type": "markdown",
   "id": "c2c25062",
   "metadata": {},
   "source": [
    "### Recipes 501-800"
   ]
  },
  {
   "cell_type": "code",
   "execution_count": null,
   "id": "bf153261",
   "metadata": {
    "scrolled": true
   },
   "outputs": [],
   "source": [
    "# Read proxies from the file and create a cycle iterator\n",
    "with open('proxies.txt', 'r') as f:\n",
    "    proxies = [line.strip() for line in f if line.strip()]\n",
    "\n",
    "# Check if proxies are being read correctly\n",
    "if not proxies:\n",
    "    print(\"No valid proxies found in proxies.txt\")\n",
    "else:\n",
    "    print(f\"Proxies loaded: {proxies}\")\n",
    "\n",
    "proxy_cycle = itertools.cycle(proxies)\n",
    "\n",
    "# Initialize an empty DataFrame to store results\n",
    "temp_recipes_4 = pd.DataFrame(columns=columns)\n",
    "title = []\n",
    "prep_time = []\n",
    "cook_time = []\n",
    "total_time = []\n",
    "\n",
    "ingredients_measurment = []\n",
    "ingredients = []\n",
    "instructions = []\n",
    "\n",
    "calories = []\n",
    "servings = []\n",
    "images = []\n",
    "\n",
    "# Loop over the desired number of pages\n",
    "for i in range(501, 792):\n",
    "    proxy = next(proxy_cycle)\n",
    "\n",
    "    # Set up request with proxy\n",
    "    headers = {'User-Agent': 'Mozilla/5.0 (Windows NT 6.3; Win64; x64) AppleWebKit/537.36 (KHTML, like Gecko) Chrome/80.0.3987.162 Safari/537.36'}\n",
    "    url = all_recipes_url[i]\n",
    "    proxy_dict = {'http': proxy, 'https': proxy}\n",
    "\n",
    "    try:\n",
    "        response = requests.get(url, headers=headers, proxies=proxy_dict, timeout=30)\n",
    "        \n",
    "        # Check if the request was successful\n",
    "        if response.status_code == 200:\n",
    "            soup = BeautifulSoup(response.content, 'html.parser')\n",
    "            extract(soup)\n",
    "            print(f\"Successfully retrieved {i} - {url} with proxy {proxy}\")\n",
    "        else:\n",
    "            failed_url.append(url)\n",
    "            print(f\"Failed to retrieve page {url} with proxy {proxy}. Status code: {response.status_code}\")\n",
    "    except (requests.ConnectionError, requests.Timeout) as e:\n",
    "        failed_url.append(url)\n",
    "        print(f\"Proxy {proxy} failed for {url}: {e}\")\n",
    "    except ChunkedEncodingError as e:  # Handle ChunkedEncodingError\n",
    "        failed_url.append(url)\n",
    "        print(f\"ChunkedEncodingError occurred for proxy {proxy} and {url}: {e}\")\n",
    "        continue  # Move to the next page\n",
    "\n",
    "\n",
    "\n",
    "temp_recipes_4['title'] = title\n",
    "temp_recipes_4['prep_time'] = prep_time\n",
    "temp_recipes_4['cook_time'] = cook_time\n",
    "temp_recipes_4['total_time'] = total_time\n",
    "temp_recipes_4['ingredients'] = ingredients\n",
    "temp_recipes_4['ingredients with measurement'] = ingredients_measurment\n",
    "temp_recipes_4['instructions'] = instructions\n",
    "temp_recipes_4['calories'] = calories\n",
    "temp_recipes_4['servings'] = servings\n",
    "temp_recipes_4['images']= images\n",
    "\n",
    "\n",
    "\n",
    "    "
   ]
  },
  {
   "cell_type": "code",
   "execution_count": null,
   "id": "3ee03d80",
   "metadata": {},
   "outputs": [],
   "source": [
    "len(failed_url)"
   ]
  },
  {
   "cell_type": "code",
   "execution_count": null,
   "id": "2600aa35",
   "metadata": {},
   "outputs": [],
   "source": [
    "temp_recipes_4"
   ]
  },
  {
   "cell_type": "code",
   "execution_count": null,
   "id": "15b8297f",
   "metadata": {},
   "outputs": [],
   "source": [
    "final = pd.concat([final, temp_recipes_4], ignore_index=True)\n",
    "final"
   ]
  },
  {
   "cell_type": "code",
   "execution_count": null,
   "id": "866bb7b8",
   "metadata": {},
   "outputs": [],
   "source": [
    "save_list_to_txt('failed_urls_till201_792.txt', failed_url)\n",
    "final.to_csv('recipes_501_792.csv', index=False)"
   ]
  },
  {
   "cell_type": "code",
   "execution_count": null,
   "id": "5124a2ae",
   "metadata": {},
   "outputs": [],
   "source": []
  },
  {
   "cell_type": "code",
   "execution_count": null,
   "id": "a353e6c1",
   "metadata": {},
   "outputs": [],
   "source": []
  },
  {
   "cell_type": "code",
   "execution_count": null,
   "id": "0ad8b628",
   "metadata": {},
   "outputs": [],
   "source": []
  },
  {
   "cell_type": "code",
   "execution_count": null,
   "id": "4380119e",
   "metadata": {},
   "outputs": [],
   "source": [
    "urls2 = []\n",
    "\n",
    "with open('all_urls.txt', 'r') as file:\n",
    "    for line in file:\n",
    "        urls2.append(line.strip())\n",
    "\n",
    "print(urls2)"
   ]
  },
  {
   "cell_type": "code",
   "execution_count": null,
   "id": "3f3ba63d",
   "metadata": {},
   "outputs": [],
   "source": [
    "failed_url = []"
   ]
  },
  {
   "cell_type": "markdown",
   "id": "cad1c608",
   "metadata": {},
   "source": [
    "### Recipes 801-1001"
   ]
  },
  {
   "cell_type": "code",
   "execution_count": null,
   "id": "4c995dc5",
   "metadata": {
    "scrolled": true
   },
   "outputs": [],
   "source": [
    "# Read proxies from the file and create a cycle iterator\n",
    "with open('proxies.txt', 'r') as f:\n",
    "    proxies = [line.strip() for line in f if line.strip()]\n",
    "\n",
    "# Check if proxies are being read correctly\n",
    "if not proxies:\n",
    "    print(\"No valid proxies found in proxies.txt\")\n",
    "else:\n",
    "    print(f\"Proxies loaded: {proxies}\")\n",
    "\n",
    "proxy_cycle = itertools.cycle(proxies)\n",
    "\n",
    "# Initialize an empty DataFrame to store results\n",
    "temp_recipes_5 = pd.DataFrame(columns=columns)\n",
    "title = []\n",
    "prep_time = []\n",
    "cook_time = []\n",
    "total_time = []\n",
    "\n",
    "ingredients_measurment = []\n",
    "ingredients = []\n",
    "instructions = []\n",
    "\n",
    "calories = []\n",
    "servings = []\n",
    "images = []\n",
    "\n",
    "# Loop over the desired number of pages\n",
    "for i in range(801, 1001):\n",
    "    proxy = next(proxy_cycle)\n",
    "\n",
    "    # Set up request with proxy\n",
    "    headers = {'User-Agent': 'Mozilla/5.0 (Windows NT 6.3; Win64; x64) AppleWebKit/537.36 (KHTML, like Gecko) Chrome/80.0.3987.162 Safari/537.36'}\n",
    "    url = urls2[i]\n",
    "    proxy_dict = {'http': proxy, 'https': proxy}\n",
    "\n",
    "    try:\n",
    "        response = requests.get(url, headers=headers, proxies=proxy_dict, timeout=30)\n",
    "        \n",
    "        # Check if the request was successful\n",
    "        if response.status_code == 200:\n",
    "            soup = BeautifulSoup(response.content, 'html.parser')\n",
    "            extract(soup)\n",
    "            print(f\"Successfully retrieved {i} - {url} with proxy {proxy}\")\n",
    "        else:\n",
    "            failed_url.append(url)\n",
    "            print(f\"Failed to retrieve page {url} with proxy {proxy}. Status code: {response.status_code}\")\n",
    "    except (requests.ConnectionError, requests.Timeout) as e:\n",
    "        failed_url.append(url)\n",
    "        print(f\"Proxy {proxy} failed for {url}: {e}\")\n",
    "    except ChunkedEncodingError as e:  # Handle ChunkedEncodingError\n",
    "        failed_url.append(url)\n",
    "        print(f\"ChunkedEncodingError occurred for proxy {proxy} and {url}: {e}\")\n",
    "        continue  # Move to the next page\n",
    "\n",
    "\n",
    "\n",
    "temp_recipes_5['title'] = title\n",
    "temp_recipes_5['prep_time'] = prep_time\n",
    "temp_recipes_5['cook_time'] = cook_time\n",
    "temp_recipes_5['total_time'] = total_time\n",
    "temp_recipes_5['ingredients'] = ingredients\n",
    "temp_recipes_5['ingredients with measurement'] = ingredients_measurment\n",
    "temp_recipes_5['instructions'] = instructions\n",
    "temp_recipes_5['calories'] = calories\n",
    "temp_recipes_5['servings'] = servings\n",
    "temp_recipes_5['images']= images\n",
    "\n",
    "\n",
    "\n",
    "    "
   ]
  },
  {
   "cell_type": "code",
   "execution_count": null,
   "id": "90f1e496",
   "metadata": {},
   "outputs": [],
   "source": []
  },
  {
   "cell_type": "code",
   "execution_count": null,
   "id": "bbc61ddc",
   "metadata": {},
   "outputs": [],
   "source": [
    "final3 = pd.DataFrame(columns=columns)\n",
    "final3"
   ]
  },
  {
   "cell_type": "code",
   "execution_count": null,
   "id": "9418d2e5",
   "metadata": {},
   "outputs": [],
   "source": [
    "len(failed_url)"
   ]
  },
  {
   "cell_type": "code",
   "execution_count": null,
   "id": "0a31ba5e",
   "metadata": {},
   "outputs": [],
   "source": [
    "temp_recipes_5"
   ]
  },
  {
   "cell_type": "code",
   "execution_count": null,
   "id": "676eed53",
   "metadata": {},
   "outputs": [],
   "source": [
    "final3 = pd.concat([final3, temp_recipes_5], ignore_index=True)\n",
    "final3"
   ]
  },
  {
   "cell_type": "code",
   "execution_count": null,
   "id": "a6bd2510",
   "metadata": {},
   "outputs": [],
   "source": [
    "# Read proxies from the file and create a cycle iterator\n",
    "with open('proxies.txt', 'r') as f:\n",
    "    proxies = [line.strip() for line in f if line.strip()]\n",
    "\n",
    "# Check if proxies are being read correctly\n",
    "if not proxies:\n",
    "    print(\"No valid proxies found in proxies.txt\")\n",
    "else:\n",
    "    print(f\"Proxies loaded: {proxies}\")\n",
    "\n",
    "proxy_cycle = itertools.cycle(proxies)\n",
    "\n",
    "# Initialize an empty DataFrame to store results\n",
    "temp_recipes_6 = pd.DataFrame(columns=columns)\n",
    "title = []\n",
    "prep_time = []\n",
    "cook_time = []\n",
    "total_time = []\n",
    "\n",
    "ingredients_measurment = []\n",
    "ingredients = []\n",
    "instructions = []\n",
    "\n",
    "calories = []\n",
    "servings = []\n",
    "images = []\n",
    "\n",
    "# Loop over the desired number of pages\n",
    "for i in range(1001, 1401):\n",
    "    proxy = next(proxy_cycle)\n",
    "\n",
    "    # Set up request with proxy\n",
    "    headers = {'User-Agent': 'Mozilla/5.0 (Windows NT 6.3; Win64; x64) AppleWebKit/537.36 (KHTML, like Gecko) Chrome/80.0.3987.162 Safari/537.36'}\n",
    "    url = urls2[i]\n",
    "    proxy_dict = {'http': proxy, 'https': proxy}\n",
    "\n",
    "    try:\n",
    "        response = requests.get(url, headers=headers, proxies=proxy_dict, timeout=30)\n",
    "        \n",
    "        # Check if the request was successful\n",
    "        if response.status_code == 200:\n",
    "            soup = BeautifulSoup(response.content, 'html.parser')\n",
    "            extract(soup)\n",
    "            print(f\"Successfully retrieved {i} - {url} with proxy {proxy}\")\n",
    "        else:\n",
    "            failed_url.append(url)\n",
    "            print(f\"Failed to retrieve page {url} with proxy {proxy}. Status code: {response.status_code}\")\n",
    "    except (requests.ConnectionError, requests.Timeout) as e:\n",
    "        failed_url.append(url)\n",
    "        print(f\"Proxy {proxy} failed for {url}: {e}\")\n",
    "    except ChunkedEncodingError as e:  # Handle ChunkedEncodingError\n",
    "        failed_url.append(url)\n",
    "        print(f\"ChunkedEncodingError occurred for proxy {proxy} and {url}: {e}\")\n",
    "        continue  # Move to the next page\n",
    "\n",
    "\n",
    "\n",
    "temp_recipes_6['title'] = title\n",
    "temp_recipes_6['prep_time'] = prep_time\n",
    "temp_recipes_6['cook_time'] = cook_time\n",
    "temp_recipes_6['total_time'] = total_time\n",
    "temp_recipes_6['ingredients'] = ingredients\n",
    "temp_recipes_6['ingredients with measurement'] = ingredients_measurment\n",
    "temp_recipes_6['instructions'] = instructions\n",
    "temp_recipes_6['calories'] = calories\n",
    "temp_recipes_6['servings'] = servings\n",
    "temp_recipes_6['images']= images\n",
    "\n",
    "\n",
    "\n",
    "    "
   ]
  },
  {
   "cell_type": "code",
   "execution_count": null,
   "id": "7a5cdb65",
   "metadata": {},
   "outputs": [],
   "source": [
    "len(failed_url)"
   ]
  },
  {
   "cell_type": "code",
   "execution_count": null,
   "id": "a23c55c6",
   "metadata": {},
   "outputs": [],
   "source": [
    "temp_recipes_6"
   ]
  },
  {
   "cell_type": "code",
   "execution_count": null,
   "id": "dd24a144",
   "metadata": {},
   "outputs": [],
   "source": [
    "final3 = pd.concat([final3, temp_recipes_6], ignore_index=True)\n",
    "final3"
   ]
  },
  {
   "cell_type": "code",
   "execution_count": null,
   "id": "82f16ddb",
   "metadata": {},
   "outputs": [],
   "source": []
  },
  {
   "cell_type": "code",
   "execution_count": null,
   "id": "8937c767",
   "metadata": {},
   "outputs": [],
   "source": []
  },
  {
   "cell_type": "code",
   "execution_count": null,
   "id": "ec75a1fb",
   "metadata": {},
   "outputs": [],
   "source": []
  },
  {
   "cell_type": "code",
   "execution_count": null,
   "id": "6859b2d4",
   "metadata": {},
   "outputs": [],
   "source": []
  },
  {
   "cell_type": "code",
   "execution_count": null,
   "id": "518412b0",
   "metadata": {},
   "outputs": [],
   "source": []
  },
  {
   "cell_type": "code",
   "execution_count": null,
   "id": "2ede269f",
   "metadata": {},
   "outputs": [],
   "source": []
  },
  {
   "cell_type": "code",
   "execution_count": null,
   "id": "5d657072",
   "metadata": {},
   "outputs": [],
   "source": []
  },
  {
   "cell_type": "code",
   "execution_count": null,
   "id": "502adb25",
   "metadata": {},
   "outputs": [],
   "source": [
    "# Read proxies from the file and create a cycle iterator\n",
    "with open('proxies.txt', 'r') as f:\n",
    "    proxies = [line.strip() for line in f if line.strip()]\n",
    "\n",
    "# Check if proxies are being read correctly\n",
    "if not proxies:\n",
    "    print(\"No valid proxies found in proxies.txt\")\n",
    "else:\n",
    "    print(f\"Proxies loaded: {proxies}\")\n",
    "\n",
    "proxy_cycle = itertools.cycle(proxies)\n",
    "\n",
    "# Initialize an empty DataFrame to store results\n",
    "temp_recipes_7 = pd.DataFrame(columns=columns)\n",
    "title = []\n",
    "prep_time = []\n",
    "cook_time = []\n",
    "total_time = []\n",
    "\n",
    "ingredients_measurment = []\n",
    "ingredients = []\n",
    "instructions = []\n",
    "\n",
    "calories = []\n",
    "servings = []\n",
    "images = []\n",
    "\n",
    "# Loop over the desired number of pages\n",
    "for i in range(1401, 1607):\n",
    "    proxy = next(proxy_cycle)\n",
    "\n",
    "    # Set up request with proxy\n",
    "    headers = {'User-Agent': 'Mozilla/5.0 (Windows NT 6.3; Win64; x64) AppleWebKit/537.36 (KHTML, like Gecko) Chrome/80.0.3987.162 Safari/537.36'}\n",
    "    url = urls2[i]\n",
    "    proxy_dict = {'http': proxy, 'https': proxy}\n",
    "\n",
    "    try:\n",
    "        response = requests.get(url, headers=headers, proxies=proxy_dict, timeout=30)\n",
    "        \n",
    "        # Check if the request was successful\n",
    "        if response.status_code == 200:\n",
    "            soup = BeautifulSoup(response.content, 'html.parser')\n",
    "            extract(soup)\n",
    "            print(f\"Successfully retrieved {i} - {url} with proxy {proxy}\")\n",
    "        else:\n",
    "            failed_url.append(url)\n",
    "            print(f\"Failed to retrieve page {url} with proxy {proxy}. Status code: {response.status_code}\")\n",
    "    except (requests.ConnectionError, requests.Timeout) as e:\n",
    "        failed_url.append(url)\n",
    "        print(f\"Proxy {proxy} failed for {url}: {e}\")\n",
    "    except ChunkedEncodingError as e:  # Handle ChunkedEncodingError\n",
    "        failed_url.append(url)\n",
    "        print(f\"ChunkedEncodingError occurred for proxy {proxy} and {url}: {e}\")\n",
    "        continue  # Move to the next page\n",
    "\n",
    "\n",
    "\n",
    "temp_recipes_7['title'] = title\n",
    "temp_recipes_7['prep_time'] = prep_time\n",
    "temp_recipes_7['cook_time'] = cook_time\n",
    "temp_recipes_7['total_time'] = total_time\n",
    "temp_recipes_7['ingredients'] = ingredients\n",
    "temp_recipes_7['ingredients with measurement'] = ingredients_measurment\n",
    "temp_recipes_7['instructions'] = instructions\n",
    "temp_recipes_7['calories'] = calories\n",
    "temp_recipes_7['servings'] = servings\n",
    "temp_recipes_7['images']= images\n",
    "\n",
    "\n",
    "\n",
    "    "
   ]
  },
  {
   "cell_type": "code",
   "execution_count": null,
   "id": "74d0eb6d",
   "metadata": {},
   "outputs": [],
   "source": [
    "len(failed_url)"
   ]
  },
  {
   "cell_type": "code",
   "execution_count": null,
   "id": "61ece967",
   "metadata": {},
   "outputs": [],
   "source": [
    "temp_recipes_7"
   ]
  },
  {
   "cell_type": "code",
   "execution_count": null,
   "id": "1e642971",
   "metadata": {},
   "outputs": [],
   "source": []
  }
 ],
 "metadata": {
  "kernelspec": {
   "display_name": "Python 3 (ipykernel)",
   "language": "python",
   "name": "python3"
  },
  "language_info": {
   "codemirror_mode": {
    "name": "ipython",
    "version": 3
   },
   "file_extension": ".py",
   "mimetype": "text/x-python",
   "name": "python",
   "nbconvert_exporter": "python",
   "pygments_lexer": "ipython3",
   "version": "3.9.8"
  }
 },
 "nbformat": 4,
 "nbformat_minor": 5
}
