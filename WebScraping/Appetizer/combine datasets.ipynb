{
 "cells": [
  {
   "cell_type": "code",
   "execution_count": 1,
   "id": "d5d06e24",
   "metadata": {},
   "outputs": [],
   "source": [
    "import pandas as pd\n",
    "import numpy as np"
   ]
  },
  {
   "cell_type": "code",
   "execution_count": 2,
   "id": "61cd8bac",
   "metadata": {},
   "outputs": [],
   "source": [
    "df1 = pd.read_csv('failed_appetizers.csv')\n",
    "df2 = pd.read_csv('appetizers_1_end.csv')"
   ]
  },
  {
   "cell_type": "code",
   "execution_count": 3,
   "id": "8145af10",
   "metadata": {},
   "outputs": [
    {
     "name": "stdout",
     "output_type": "stream",
     "text": [
      "<class 'pandas.core.frame.DataFrame'>\n",
      "RangeIndex: 157 entries, 0 to 156\n",
      "Data columns (total 10 columns):\n",
      " #   Column                        Non-Null Count  Dtype \n",
      "---  ------                        --------------  ----- \n",
      " 0   title                         157 non-null    object\n",
      " 1   prep_time                     157 non-null    object\n",
      " 2   cook_time                     157 non-null    object\n",
      " 3   total_time                    157 non-null    object\n",
      " 4   ingredients                   157 non-null    object\n",
      " 5   ingredients with measurement  157 non-null    object\n",
      " 6   instructions                  157 non-null    object\n",
      " 7   calories                      157 non-null    object\n",
      " 8   servings                      157 non-null    object\n",
      " 9   images                        157 non-null    object\n",
      "dtypes: object(10)\n",
      "memory usage: 12.4+ KB\n"
     ]
    }
   ],
   "source": [
    "df1.info()"
   ]
  },
  {
   "cell_type": "code",
   "execution_count": null,
   "id": "809d1df2",
   "metadata": {},
   "outputs": [],
   "source": []
  },
  {
   "cell_type": "code",
   "execution_count": null,
   "id": "21d8202d",
   "metadata": {},
   "outputs": [],
   "source": []
  },
  {
   "cell_type": "code",
   "execution_count": null,
   "id": "dc4f1494",
   "metadata": {},
   "outputs": [],
   "source": []
  },
  {
   "cell_type": "code",
   "execution_count": null,
   "id": "94dd3e89",
   "metadata": {},
   "outputs": [],
   "source": []
  },
  {
   "cell_type": "code",
   "execution_count": null,
   "id": "29cbcf69",
   "metadata": {},
   "outputs": [],
   "source": []
  },
  {
   "cell_type": "code",
   "execution_count": null,
   "id": "83118bc5",
   "metadata": {},
   "outputs": [],
   "source": []
  },
  {
   "cell_type": "code",
   "execution_count": null,
   "id": "ad1e7b3b",
   "metadata": {},
   "outputs": [],
   "source": []
  },
  {
   "cell_type": "code",
   "execution_count": null,
   "id": "a2be3077",
   "metadata": {},
   "outputs": [],
   "source": []
  },
  {
   "cell_type": "code",
   "execution_count": null,
   "id": "97de7c2a",
   "metadata": {},
   "outputs": [],
   "source": []
  },
  {
   "cell_type": "code",
   "execution_count": 5,
   "id": "4278398b",
   "metadata": {},
   "outputs": [],
   "source": [
    "# Empty Dataframe\n",
    "columns = [\n",
    "    'title',\n",
    "    'prep_time',\n",
    "    'cook_time',\n",
    "    'total_time',\n",
    "    'ingredients',\n",
    "    'ingredients with measurement',\n",
    "    'instructions',\n",
    "    'calories',\n",
    "    'servings',\n",
    "    'images'\n",
    "]"
   ]
  },
  {
   "cell_type": "code",
   "execution_count": 6,
   "id": "c22fb984",
   "metadata": {},
   "outputs": [
    {
     "data": {
      "text/html": [
       "<div>\n",
       "<style scoped>\n",
       "    .dataframe tbody tr th:only-of-type {\n",
       "        vertical-align: middle;\n",
       "    }\n",
       "\n",
       "    .dataframe tbody tr th {\n",
       "        vertical-align: top;\n",
       "    }\n",
       "\n",
       "    .dataframe thead th {\n",
       "        text-align: right;\n",
       "    }\n",
       "</style>\n",
       "<table border=\"1\" class=\"dataframe\">\n",
       "  <thead>\n",
       "    <tr style=\"text-align: right;\">\n",
       "      <th></th>\n",
       "      <th>title</th>\n",
       "      <th>prep_time</th>\n",
       "      <th>cook_time</th>\n",
       "      <th>total_time</th>\n",
       "      <th>ingredients</th>\n",
       "      <th>ingredients with measurement</th>\n",
       "      <th>instructions</th>\n",
       "      <th>calories</th>\n",
       "      <th>servings</th>\n",
       "      <th>images</th>\n",
       "    </tr>\n",
       "  </thead>\n",
       "  <tbody>\n",
       "  </tbody>\n",
       "</table>\n",
       "</div>"
      ],
      "text/plain": [
       "Empty DataFrame\n",
       "Columns: [title, prep_time, cook_time, total_time, ingredients, ingredients with measurement, instructions, calories, servings, images]\n",
       "Index: []"
      ]
     },
     "execution_count": 6,
     "metadata": {},
     "output_type": "execute_result"
    }
   ],
   "source": [
    "final = pd.DataFrame(columns=columns)\n",
    "final"
   ]
  },
  {
   "cell_type": "code",
   "execution_count": 7,
   "id": "a98d4da7",
   "metadata": {},
   "outputs": [
    {
     "name": "stdout",
     "output_type": "stream",
     "text": [
      "<class 'pandas.core.frame.DataFrame'>\n",
      "RangeIndex: 157 entries, 0 to 156\n",
      "Data columns (total 10 columns):\n",
      " #   Column                        Non-Null Count  Dtype \n",
      "---  ------                        --------------  ----- \n",
      " 0   title                         157 non-null    object\n",
      " 1   prep_time                     157 non-null    object\n",
      " 2   cook_time                     157 non-null    object\n",
      " 3   total_time                    157 non-null    object\n",
      " 4   ingredients                   157 non-null    object\n",
      " 5   ingredients with measurement  157 non-null    object\n",
      " 6   instructions                  157 non-null    object\n",
      " 7   calories                      157 non-null    object\n",
      " 8   servings                      157 non-null    object\n",
      " 9   images                        157 non-null    object\n",
      "dtypes: object(10)\n",
      "memory usage: 12.4+ KB\n"
     ]
    }
   ],
   "source": [
    "final = pd.concat([final, df1], ignore_index=True)\n",
    "final.info()"
   ]
  },
  {
   "cell_type": "code",
   "execution_count": 8,
   "id": "e787425d",
   "metadata": {},
   "outputs": [
    {
     "name": "stdout",
     "output_type": "stream",
     "text": [
      "<class 'pandas.core.frame.DataFrame'>\n",
      "RangeIndex: 468 entries, 0 to 467\n",
      "Data columns (total 10 columns):\n",
      " #   Column                        Non-Null Count  Dtype \n",
      "---  ------                        --------------  ----- \n",
      " 0   title                         468 non-null    object\n",
      " 1   prep_time                     468 non-null    object\n",
      " 2   cook_time                     468 non-null    object\n",
      " 3   total_time                    468 non-null    object\n",
      " 4   ingredients                   468 non-null    object\n",
      " 5   ingredients with measurement  468 non-null    object\n",
      " 6   instructions                  468 non-null    object\n",
      " 7   calories                      468 non-null    object\n",
      " 8   servings                      468 non-null    object\n",
      " 9   images                        468 non-null    object\n",
      "dtypes: object(10)\n",
      "memory usage: 36.7+ KB\n"
     ]
    }
   ],
   "source": [
    "final = pd.concat([final, df2], ignore_index=True)\n",
    "final.info()"
   ]
  },
  {
   "cell_type": "code",
   "execution_count": 9,
   "id": "6a803449",
   "metadata": {},
   "outputs": [],
   "source": [
    "final['type_of_meal'] = 'appetizer'"
   ]
  },
  {
   "cell_type": "code",
   "execution_count": 10,
   "id": "d6fc1189",
   "metadata": {},
   "outputs": [
    {
     "data": {
      "text/html": [
       "<div>\n",
       "<style scoped>\n",
       "    .dataframe tbody tr th:only-of-type {\n",
       "        vertical-align: middle;\n",
       "    }\n",
       "\n",
       "    .dataframe tbody tr th {\n",
       "        vertical-align: top;\n",
       "    }\n",
       "\n",
       "    .dataframe thead th {\n",
       "        text-align: right;\n",
       "    }\n",
       "</style>\n",
       "<table border=\"1\" class=\"dataframe\">\n",
       "  <thead>\n",
       "    <tr style=\"text-align: right;\">\n",
       "      <th></th>\n",
       "      <th>title</th>\n",
       "      <th>prep_time</th>\n",
       "      <th>cook_time</th>\n",
       "      <th>total_time</th>\n",
       "      <th>ingredients</th>\n",
       "      <th>ingredients with measurement</th>\n",
       "      <th>instructions</th>\n",
       "      <th>calories</th>\n",
       "      <th>servings</th>\n",
       "      <th>images</th>\n",
       "      <th>type_of_meal</th>\n",
       "    </tr>\n",
       "  </thead>\n",
       "  <tbody>\n",
       "    <tr>\n",
       "      <th>33</th>\n",
       "      <td>Ham and Cheese Sandwiches with Bacon, Pineappl...</td>\n",
       "      <td>{'minutes': '30'}</td>\n",
       "      <td>{'minutes': '40'}</td>\n",
       "      <td>{'hours': '1', 'minutes': '10'}</td>\n",
       "      <td>['large onion', 'sweet onions', 'butter', 'pin...</td>\n",
       "      <td>{'large onion': '1', 'sweet onions': '2', 'but...</td>\n",
       "      <td>[]</td>\n",
       "      <td>567 kcal</td>\n",
       "      <td>12</td>\n",
       "      <td>https://www.halfbakedharvest.com/wp-content/up...</td>\n",
       "      <td>appetizer</td>\n",
       "    </tr>\n",
       "    <tr>\n",
       "      <th>412</th>\n",
       "      <td>Crispy Prosciutto, Asparagus, and Brie Toast.</td>\n",
       "      <td>{'minutes': '15'}</td>\n",
       "      <td>{'minutes': '15'}</td>\n",
       "      <td>{'minutes': '30'}</td>\n",
       "      <td>['extra virgin olive oil', 'thin asparagus, en...</td>\n",
       "      <td>{'extra virgin olive oil': '6', 'thin asparagu...</td>\n",
       "      <td>['1. Preheat the oven to 425 degrees F.', '2. ...</td>\n",
       "      <td>694 kcal</td>\n",
       "      <td>8</td>\n",
       "      <td>https://www.halfbakedharvest.com/wp-content/up...</td>\n",
       "      <td>appetizer</td>\n",
       "    </tr>\n",
       "    <tr>\n",
       "      <th>58</th>\n",
       "      <td>Spinach and Artichoke Corn Fritters with Brie ...</td>\n",
       "      <td>{'minutes': '15'}</td>\n",
       "      <td>{'minutes': '15'}</td>\n",
       "      <td>{'minutes': '30'}</td>\n",
       "      <td>['sweet yellow corn', 'fresh spinach', 'marina...</td>\n",
       "      <td>{'sweet yellow corn': '1 1/4', 'fresh spinach'...</td>\n",
       "      <td>[]</td>\n",
       "      <td>140 kcal</td>\n",
       "      <td>20</td>\n",
       "      <td>https://www.halfbakedharvest.com/wp-content/up...</td>\n",
       "      <td>appetizer</td>\n",
       "    </tr>\n",
       "    <tr>\n",
       "      <th>451</th>\n",
       "      <td>Chipotle Quinoa Sweet Potato Tacos with Roaste...</td>\n",
       "      <td>{'minutes': '10'}</td>\n",
       "      <td>{'minutes': '40'}</td>\n",
       "      <td>{'minutes': '50'}</td>\n",
       "      <td>['olive oil', 'a small sweet onion', 'garlic',...</td>\n",
       "      <td>{'olive oil': '2', 'a small sweet onion': '1/2...</td>\n",
       "      <td>[]</td>\n",
       "      <td>628 kcal</td>\n",
       "      <td>8</td>\n",
       "      <td>https://www.halfbakedharvest.com/wp-content/up...</td>\n",
       "      <td>appetizer</td>\n",
       "    </tr>\n",
       "    <tr>\n",
       "      <th>318</th>\n",
       "      <td>Zucchini, Bacon, and Pecorino Tart</td>\n",
       "      <td>{'minutes': '20'}</td>\n",
       "      <td>{'hours': '1'}</td>\n",
       "      <td>{'hours': '1', 'minutes': '20'}</td>\n",
       "      <td>['frozen puff pastry, thawed', 'medium zucchin...</td>\n",
       "      <td>{'frozen puff pastry, thawed': '1', 'medium zu...</td>\n",
       "      <td>['1. Preheat the oven to 400 degrees. Grease a...</td>\n",
       "      <td>638 kcal</td>\n",
       "      <td>6</td>\n",
       "      <td>https://www.halfbakedharvest.com/wp-content/up...</td>\n",
       "      <td>appetizer</td>\n",
       "    </tr>\n",
       "  </tbody>\n",
       "</table>\n",
       "</div>"
      ],
      "text/plain": [
       "                                                 title          prep_time  \\\n",
       "33   Ham and Cheese Sandwiches with Bacon, Pineappl...  {'minutes': '30'}   \n",
       "412      Crispy Prosciutto, Asparagus, and Brie Toast.  {'minutes': '15'}   \n",
       "58   Spinach and Artichoke Corn Fritters with Brie ...  {'minutes': '15'}   \n",
       "451  Chipotle Quinoa Sweet Potato Tacos with Roaste...  {'minutes': '10'}   \n",
       "318                 Zucchini, Bacon, and Pecorino Tart  {'minutes': '20'}   \n",
       "\n",
       "             cook_time                       total_time  \\\n",
       "33   {'minutes': '40'}  {'hours': '1', 'minutes': '10'}   \n",
       "412  {'minutes': '15'}                {'minutes': '30'}   \n",
       "58   {'minutes': '15'}                {'minutes': '30'}   \n",
       "451  {'minutes': '40'}                {'minutes': '50'}   \n",
       "318     {'hours': '1'}  {'hours': '1', 'minutes': '20'}   \n",
       "\n",
       "                                           ingredients  \\\n",
       "33   ['large onion', 'sweet onions', 'butter', 'pin...   \n",
       "412  ['extra virgin olive oil', 'thin asparagus, en...   \n",
       "58   ['sweet yellow corn', 'fresh spinach', 'marina...   \n",
       "451  ['olive oil', 'a small sweet onion', 'garlic',...   \n",
       "318  ['frozen puff pastry, thawed', 'medium zucchin...   \n",
       "\n",
       "                          ingredients with measurement  \\\n",
       "33   {'large onion': '1', 'sweet onions': '2', 'but...   \n",
       "412  {'extra virgin olive oil': '6', 'thin asparagu...   \n",
       "58   {'sweet yellow corn': '1 1/4', 'fresh spinach'...   \n",
       "451  {'olive oil': '2', 'a small sweet onion': '1/2...   \n",
       "318  {'frozen puff pastry, thawed': '1', 'medium zu...   \n",
       "\n",
       "                                          instructions  calories servings  \\\n",
       "33                                                  []  567 kcal       12   \n",
       "412  ['1. Preheat the oven to 425 degrees F.', '2. ...  694 kcal        8   \n",
       "58                                                  []  140 kcal       20   \n",
       "451                                                 []  628 kcal        8   \n",
       "318  ['1. Preheat the oven to 400 degrees. Grease a...  638 kcal        6   \n",
       "\n",
       "                                                images type_of_meal  \n",
       "33   https://www.halfbakedharvest.com/wp-content/up...    appetizer  \n",
       "412  https://www.halfbakedharvest.com/wp-content/up...    appetizer  \n",
       "58   https://www.halfbakedharvest.com/wp-content/up...    appetizer  \n",
       "451  https://www.halfbakedharvest.com/wp-content/up...    appetizer  \n",
       "318  https://www.halfbakedharvest.com/wp-content/up...    appetizer  "
      ]
     },
     "execution_count": 10,
     "metadata": {},
     "output_type": "execute_result"
    }
   ],
   "source": [
    "final.sample(5)"
   ]
  },
  {
   "cell_type": "code",
   "execution_count": 11,
   "id": "d31d9aef",
   "metadata": {},
   "outputs": [],
   "source": [
    "def save_list_to_txt(filename, data_list):\n",
    "    \"\"\"\n",
    "    Save a list of strings to a text file, one item per line.\n",
    "    \n",
    "    :param filename: The name of the file to save the list to.\n",
    "    :param data_list: The list of strings to save.\n",
    "    \"\"\"\n",
    "    with open(filename, 'w') as f:\n",
    "        for item in data_list:\n",
    "            f.write(f\"{item}\\n\")"
   ]
  },
  {
   "cell_type": "code",
   "execution_count": 12,
   "id": "00d63265",
   "metadata": {},
   "outputs": [],
   "source": [
    "final.to_csv('recipes_appetizer.csv', index=False)"
   ]
  },
  {
   "cell_type": "code",
   "execution_count": null,
   "id": "d3a9f970",
   "metadata": {},
   "outputs": [],
   "source": []
  }
 ],
 "metadata": {
  "kernelspec": {
   "display_name": "Python 3 (ipykernel)",
   "language": "python",
   "name": "python3"
  },
  "language_info": {
   "codemirror_mode": {
    "name": "ipython",
    "version": 3
   },
   "file_extension": ".py",
   "mimetype": "text/x-python",
   "name": "python",
   "nbconvert_exporter": "python",
   "pygments_lexer": "ipython3",
   "version": "3.9.8"
  }
 },
 "nbformat": 4,
 "nbformat_minor": 5
}
