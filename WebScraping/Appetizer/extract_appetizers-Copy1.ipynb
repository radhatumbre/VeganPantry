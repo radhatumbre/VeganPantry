{
 "cells": [
  {
   "cell_type": "code",
   "execution_count": 1,
   "id": "54010bad",
   "metadata": {},
   "outputs": [],
   "source": [
    "import pandas as pd\n",
    "import requests\n",
    "import itertools\n",
    "from bs4 import BeautifulSoup\n",
    "from requests.exceptions import ChunkedEncodingError"
   ]
  },
  {
   "cell_type": "code",
   "execution_count": 2,
   "id": "ccf6e546",
   "metadata": {},
   "outputs": [
    {
     "data": {
      "text/plain": [
       "360"
      ]
     },
     "execution_count": 2,
     "metadata": {},
     "output_type": "execute_result"
    }
   ],
   "source": [
    "\n",
    "# Read the URLs from the text file\n",
    "with open('all_recipes_url.txt', 'r') as file:\n",
    "    all_recipes_url = file.readlines()\n",
    "\n",
    "# Strip newline characters from each URL\n",
    "all_recipes_url = [url.strip() for url in all_recipes_url]\n",
    "\n",
    "len(all_recipes_url)"
   ]
  },
  {
   "cell_type": "code",
   "execution_count": 3,
   "id": "77306887",
   "metadata": {},
   "outputs": [
    {
     "data": {
      "text/plain": [
       "['https://www.halfbakedharvest.com/sour-cream-and-onion-smashed-potatoes/',\n",
       " 'https://www.halfbakedharvest.com/tomato-cheese-pie/',\n",
       " 'https://www.halfbakedharvest.com/open-face-tomato-bacon-sandwich/',\n",
       " 'https://www.halfbakedharvest.com/garlic-oil-feta-dip/',\n",
       " 'https://www.halfbakedharvest.com/marinated-burrata/',\n",
       " 'https://www.halfbakedharvest.com/pull-apart-cheeseburger-sliders/',\n",
       " 'https://www.halfbakedharvest.com/31-recipes-to-cook-in-july/',\n",
       " 'https://www.halfbakedharvest.com/watermelon-peach-salad/',\n",
       " 'https://www.halfbakedharvest.com/7-layer-dip/',\n",
       " 'https://www.halfbakedharvest.com/honey-garlic-parmesan-biscuits/',\n",
       " 'https://www.halfbakedharvest.com/bbq-snack-mix/',\n",
       " 'https://www.halfbakedharvest.com/tomato-burrata-caprese/',\n",
       " 'https://www.halfbakedharvest.com/31-recipes-to-cook-in-may/',\n",
       " 'https://www.halfbakedharvest.com/garlic-olive-oil-dip/',\n",
       " 'https://www.halfbakedharvest.com/garlic-parmesan-boneless-wings/',\n",
       " 'https://www.halfbakedharvest.com/fried-goat-cheese-balls/',\n",
       " 'https://www.halfbakedharvest.com/prosciutto-wrapped-baked-brie-rolls/',\n",
       " 'https://www.halfbakedharvest.com/popular-holiday-appetizers-and-cocktails-mocktails/',\n",
       " 'https://www.halfbakedharvest.com/goat-cheese-puff-pastry-swirls/',\n",
       " 'https://www.halfbakedharvest.com/beef-tenderloin-crostini/',\n",
       " 'https://www.halfbakedharvest.com/pastry-wrapped-baked-brie-with-maple-butter-roasted-apples/',\n",
       " 'https://www.halfbakedharvest.com/the-50-most-popular-fall-recipes/',\n",
       " 'https://www.halfbakedharvest.com/garlic-butter-pizza-egg-rolls/',\n",
       " 'https://www.halfbakedharvest.com/parmesan-buffalo-chicken-wings/',\n",
       " 'https://www.halfbakedharvest.com/buffalo-cauliflower-taquitos/',\n",
       " 'https://www.halfbakedharvest.com/burrata-pepperoni-pizza-dip/',\n",
       " 'https://www.halfbakedharvest.com/peach-burrata-parmesan-crostini-with-hot-honey/',\n",
       " 'https://www.halfbakedharvest.com/mezze-platter/',\n",
       " 'https://www.halfbakedharvest.com/marinated-cherry-tomatoes-with-burrata/',\n",
       " 'https://www.halfbakedharvest.com/gruyere-tomato-bruschetta/',\n",
       " 'https://www.halfbakedharvest.com/strawberry-jam-with-goat-cheese/',\n",
       " 'https://www.halfbakedharvest.com/jalapeno-cheddar-cornbread-biscuits/',\n",
       " 'https://www.halfbakedharvest.com/salmon-sushi-cups/',\n",
       " 'https://www.halfbakedharvest.com/garlic-butter-soft-pretzel-knots/',\n",
       " 'https://www.halfbakedharvest.com/baked-brie-crostini/',\n",
       " 'https://www.halfbakedharvest.com/street-corn-dip-sliders/',\n",
       " 'https://www.halfbakedharvest.com/roasted-garlic-caprese-dip/',\n",
       " 'https://www.halfbakedharvest.com/beef-rolls/',\n",
       " 'https://www.halfbakedharvest.com/coconut-chicken-fingers/',\n",
       " 'https://www.halfbakedharvest.com/jalapeno-dip/',\n",
       " 'https://www.halfbakedharvest.com/garlic-parmesan-french-fries/',\n",
       " 'https://www.halfbakedharvest.com/baked-artichokes/',\n",
       " 'https://www.halfbakedharvest.com/the-25-most-popular-game-day-recipes/',\n",
       " 'https://www.halfbakedharvest.com/hot-honey-cauliflower/',\n",
       " 'https://www.halfbakedharvest.com/cheesy-sweet-potato-skins/',\n",
       " 'https://www.halfbakedharvest.com/chicken-enchilada-bean-dip/',\n",
       " 'https://www.halfbakedharvest.com/prosciutto-wrapped-baked-brie/',\n",
       " 'https://www.halfbakedharvest.com/everything-ranch-crackers-and-pretzels/',\n",
       " 'https://www.halfbakedharvest.com/jalapeno-cheddar-corn-fritters/',\n",
       " 'https://www.halfbakedharvest.com/bacon-wrapped-cheddar-corn-jalapeno-poppers/',\n",
       " 'https://www.halfbakedharvest.com/crispy-sesame-ginger-potstickers/',\n",
       " 'https://www.halfbakedharvest.com/roasted-tomato-cheddar-tart/',\n",
       " 'https://www.halfbakedharvest.com/garlic-parmesan-herb-butter-polenta-fries/',\n",
       " 'https://www.halfbakedharvest.com/mac-and-cheese-stuffed-oven-fried-zucchini-bites/',\n",
       " 'https://www.halfbakedharvest.com/marinated-goat-cheese-strawberry-crostini/',\n",
       " 'https://www.halfbakedharvest.com/crispy-bbq-beer-battered-cauliflower-nuggets/',\n",
       " 'https://www.halfbakedharvest.com/homemade-goldfish/',\n",
       " 'https://www.halfbakedharvest.com/pan-fried-brie/',\n",
       " 'https://www.halfbakedharvest.com/coconut-popcorn-chicken/',\n",
       " 'https://www.halfbakedharvest.com/crispy-chicken-tinga-taquitos/',\n",
       " 'https://www.halfbakedharvest.com/prosciutto-caprese-puff-pastries/',\n",
       " 'https://www.halfbakedharvest.com/honey-mustard-pretzel-chicken-fingers/',\n",
       " 'https://www.halfbakedharvest.com/cheesy-herb-stuffed-naan/',\n",
       " 'https://www.halfbakedharvest.com/tuscan-fries/',\n",
       " 'https://www.halfbakedharvest.com/no-knead-rosemary-garlic-parmesan-bread/',\n",
       " 'https://www.halfbakedharvest.com/garlic-butter-scallops/',\n",
       " 'https://www.halfbakedharvest.com/extra-flakey-broccoli-cheddar-soup-mini-pies/',\n",
       " 'https://www.halfbakedharvest.com/buffalo-ranch-chicken-pull-apart-bread/',\n",
       " 'https://www.halfbakedharvest.com/oven-fried-cajun-popcorn-chicken/',\n",
       " 'https://www.halfbakedharvest.com/whipped-ricotta-toast/',\n",
       " 'https://www.halfbakedharvest.com/chinese-mushroom-dumplings/',\n",
       " 'https://www.halfbakedharvest.com/burrata-with-lemon-pepper-salami-bites/',\n",
       " 'https://www.halfbakedharvest.com/addicting-baked-seasoned-ritz-crackers/',\n",
       " 'https://www.halfbakedharvest.com/baked-brie-and-prosciutto-rolls/',\n",
       " 'https://www.halfbakedharvest.com/roasted-lemon-spinach-and-artichoke-dip/',\n",
       " 'https://www.halfbakedharvest.com/sweet-n-savory-roasted-nuts-and-pretzels/',\n",
       " 'https://www.halfbakedharvest.com/brie-stuffed-crispy-baby-potatoes/',\n",
       " 'https://www.halfbakedharvest.com/honey-butter-roasted-acorn-with-burrata-and-pomegranate/',\n",
       " 'https://www.halfbakedharvest.com/caramelized-garlic-butter-toast-with-pan-fried-mushrooms/',\n",
       " 'https://www.halfbakedharvest.com/opened-faced-tomato-and-goat-cheese-sandwich-with-hot-bacon-vinaigrette/',\n",
       " 'https://www.halfbakedharvest.com/thai-coconut-butter-mussels-with-garlic-lemongrass-toast/',\n",
       " 'https://www.halfbakedharvest.com/10-minute-garden-herb-avocado-dip/',\n",
       " 'https://www.halfbakedharvest.com/honey-thyme-sweet-cherry-grilled-brie/',\n",
       " 'https://www.halfbakedharvest.com/tuscan-summer-stone-fruit-tomato-and-burrata-panzanella-salad/',\n",
       " 'https://www.halfbakedharvest.com/lemon-feta-dip-garlic-tomato-vinaigrette/',\n",
       " 'https://www.halfbakedharvest.com/farmers-market-pickled-crudite-platter/',\n",
       " 'https://www.halfbakedharvest.com/quick-pickled-veggies/',\n",
       " 'https://www.halfbakedharvest.com/brunch-bruschetta-bar/',\n",
       " 'https://www.halfbakedharvest.com/lighter-cheese-board/',\n",
       " 'https://www.halfbakedharvest.com/caprese-burrata-garlic-bread/',\n",
       " 'https://www.halfbakedharvest.com/honey-garlic-korean-bbq-grilled-shrimp/',\n",
       " 'https://www.halfbakedharvest.com/honey-raspberry-brie-crostini-with-basil-oil/',\n",
       " 'https://www.halfbakedharvest.com/the-perfect-moroccan-brunch/',\n",
       " 'https://www.halfbakedharvest.com/baked-thai-coconut-shrimp-with-lemongrass-guacamole/',\n",
       " 'https://www.halfbakedharvest.com/farro-tabbouleh-with-burrata-and-hummus/',\n",
       " 'https://www.halfbakedharvest.com/roasted-red-pepper-meze-platter/',\n",
       " 'https://www.halfbakedharvest.com/sun-dried-tomato-muhammara-roasted-red-pepper-spread/',\n",
       " 'https://www.halfbakedharvest.com/black-bean-turkey-nachos-with-jalapeno-yogurt/',\n",
       " 'https://www.halfbakedharvest.com/chicken-parmesan-meatball-crostini/',\n",
       " 'https://www.halfbakedharvest.com/buffalo-cheddar-soft-pretzel-twist-everything-spice/',\n",
       " 'https://www.halfbakedharvest.com/herbed-goat-cheese-stuffed-mushrooms/',\n",
       " 'https://www.halfbakedharvest.com/3-ingredient-cheesy-pizza-pretzels/',\n",
       " 'https://www.halfbakedharvest.com/cheese-fondue-board/',\n",
       " 'https://www.halfbakedharvest.com/cranberry-brie-pull-apart-bread/',\n",
       " 'https://www.halfbakedharvest.com/cheesy-bacon-holiday-crack/',\n",
       " 'https://www.halfbakedharvest.com/7-easy-fall-dinners/',\n",
       " 'https://www.halfbakedharvest.com/pumpkin-beer-pretzels-with-chipotle-queso/',\n",
       " 'https://www.halfbakedharvest.com/skinny-cajun-sweet-potato-fries-with-garlic-cheese-sauce/',\n",
       " 'https://www.halfbakedharvest.com/cheesy-buffalo-chicken-french-bread/',\n",
       " 'https://www.halfbakedharvest.com/market-veggie-board-with-roasted-corn-jalapeno-hummus-honey-whipped-goat-cheese/',\n",
       " 'https://www.halfbakedharvest.com/summer-garden-guacamole/',\n",
       " 'https://www.halfbakedharvest.com/sweet-chili-butter-grilled-lobster-fries-havarti-cheese/',\n",
       " 'https://www.halfbakedharvest.com/summer-fruit-plate/',\n",
       " 'https://www.halfbakedharvest.com/bacon-wrapped-parmesan-broccoli-rabe/',\n",
       " 'https://www.halfbakedharvest.com/simple-summer-cheese-board/',\n",
       " 'https://www.halfbakedharvest.com/summer-crostini-6-ways/',\n",
       " 'https://www.halfbakedharvest.com/farmers-market-hummus/',\n",
       " 'https://www.halfbakedharvest.com/southwest-bbq-pork-sliders/',\n",
       " 'https://www.halfbakedharvest.com/avocado-veggie-spring-rolls-sweet-thai-mango-sauce/',\n",
       " 'https://www.halfbakedharvest.com/mediterranean-antipasto-platter/',\n",
       " 'https://www.halfbakedharvest.com/panzanella-style-caprese-asparagus-salad/',\n",
       " 'https://www.halfbakedharvest.com/mexican-carnitas-bar/',\n",
       " 'https://www.halfbakedharvest.com/new-crudite-platter/',\n",
       " 'https://www.halfbakedharvest.com/artichoke-ricotta-flatbread/',\n",
       " 'https://www.halfbakedharvest.com/brie-stuffed-artichokes/',\n",
       " 'https://www.halfbakedharvest.com/salmon-fajita-salad-boats/',\n",
       " 'https://www.halfbakedharvest.com/sticky-mango-curry-oven-baked-boneless-wings/',\n",
       " 'https://www.halfbakedharvest.com/margherita-pizza-dip-burrata/',\n",
       " 'https://www.halfbakedharvest.com/sriracha-buffalo-cauliflower-bites/',\n",
       " 'https://www.halfbakedharvest.com/roasted-beet-hummus-video/',\n",
       " 'https://www.halfbakedharvest.com/sweet-potato-and-black-bean-nachos-with-green-chile-salsa/',\n",
       " 'https://www.halfbakedharvest.com/queso-fundido-alla-tequila/',\n",
       " 'https://www.halfbakedharvest.com/pomegranate-guacamole-with-fried-plantain-chips/',\n",
       " 'https://www.halfbakedharvest.com/easy-crockpot-christmas-eve-chex-mix/',\n",
       " 'https://www.halfbakedharvest.com/honey-baked-brie-seasoned-pretzels-easy-christmas-appetizer/',\n",
       " 'https://www.halfbakedharvest.com/caramelized-pineapple-ham-and-cheese-turnovers/',\n",
       " 'https://www.halfbakedharvest.com/crispy-prosciutto-baked-brie-bites-with-honey-pears-walnuts/',\n",
       " 'https://www.halfbakedharvest.com/the-big-holiday-hummus-board-with-roasted-root-veggie-chips/',\n",
       " 'https://www.halfbakedharvest.com/deathly-hallows-cheese-board/',\n",
       " 'https://www.halfbakedharvest.com/simple-baked-italian-oregano-meatballs/',\n",
       " 'https://www.halfbakedharvest.com/easy-enchilada-beef-nachos/',\n",
       " 'https://www.halfbakedharvest.com/fall-harvest-peanut-picnic-a-family-hike/',\n",
       " 'https://www.halfbakedharvest.com/crispy-buffalo-cheddar-potato-nachos/',\n",
       " 'https://www.halfbakedharvest.com/cheesy-miso-caramelized-corn-and-pineapple-chile-dip/',\n",
       " 'https://www.halfbakedharvest.com/summer-fruit-salsa-and-pesto-hummus/',\n",
       " 'https://www.halfbakedharvest.com/how-to-make-a-killer-summer-cheeseboard-with-pickled-strawberries-herb-roasted-cherry-tomatoes/',\n",
       " 'https://www.halfbakedharvest.com/skinny-greek-feta-fries-with-roasted-garlic-saffron-aioli/',\n",
       " 'https://www.halfbakedharvest.com/tomato-salami-and-chunky-arugula-basil-pesto-bruschetta/',\n",
       " 'https://www.halfbakedharvest.com/quick-balsamic-fig-roasted-tomato-and-burrata-cheese-tarts/',\n",
       " 'https://www.halfbakedharvest.com/kentucky-hot-brown-sandwiches-jalapeno-cornbread-biscuits-honey-bourbon-bacon/',\n",
       " 'https://www.halfbakedharvest.com/cheesy-avocado-crab-stuffed-piquillo-pepper-ciabatta-pizzettes-with-sriracha-aioli/',\n",
       " 'https://www.halfbakedharvest.com/authentic-canadian-poutine/',\n",
       " 'https://www.halfbakedharvest.com/smoky-3-cheese-fondue-toasted-garlic-buttered-croissants/',\n",
       " 'https://www.halfbakedharvest.com/greek-feta-chickpea-pancake-fritters-poached-eggs-olive-tapenade/',\n",
       " 'https://www.halfbakedharvest.com/fully-loaded-potato-skins-chipotle-southwest-guacamole/',\n",
       " 'https://www.halfbakedharvest.com/thai-peanut-chicken-wings-fiery-pineapple-jalapeno-salsa/',\n",
       " 'https://www.halfbakedharvest.com/big-popper-hot-buffalo-chicken-bacon-grilled-cheese/',\n",
       " 'https://www.halfbakedharvest.com/spicy-green-harissa/',\n",
       " 'https://www.halfbakedharvest.com/spicy-fontina-spinach-artichoke-chorizo-stuffed-mushrooms/',\n",
       " 'https://www.halfbakedharvest.com/ham-cheese-sandwiches-wbacon-pineapple-caramelized-onions-jerk-bbq-sauce/',\n",
       " 'https://www.halfbakedharvest.com/salted-coffee-butter-roasted-chestnuts/',\n",
       " 'https://www.halfbakedharvest.com/goat-cheese-stuffed-phyllo-swirls-pomegranate-honey-pistachios/',\n",
       " 'https://www.halfbakedharvest.com/mushroom-havarti-turnovers/',\n",
       " 'https://www.halfbakedharvest.com/sun-dried-tomato-olive-pesto-pizza-salami-roasted-red-peppers/',\n",
       " 'https://www.halfbakedharvest.com/chinese-chicken-brussels-sprouts-egg-rolls-sweet-chile-pomegranate-sauce/',\n",
       " 'https://www.halfbakedharvest.com/gingery-steak-brie-sliders-balsamic-cranberry-sauce/',\n",
       " 'https://www.halfbakedharvest.com/simple-salty-sweet-potato-skin-chips/',\n",
       " 'https://www.halfbakedharvest.com/lets-talk-thanksgiving-snacks-appetizers-sides-desserts/',\n",
       " 'https://www.halfbakedharvest.com/caramelized-apple-cheddar-cheese-soft-pretzels-apple-cider-dipping-sauce/',\n",
       " 'https://www.halfbakedharvest.com/caramelized-onion-bbq-chicken-strombolis/',\n",
       " 'https://www.halfbakedharvest.com/homemade-naan-step-step-photos/',\n",
       " 'https://www.halfbakedharvest.com/sweet-sour-sticky-thai-boneless-oven-baked-chicken-wings/',\n",
       " 'https://www.halfbakedharvest.com/roasted-cauliflower-white-pizza-dip/',\n",
       " 'https://www.halfbakedharvest.com/zucchini-parmesan-crusted-chicken-nuggets/',\n",
       " 'https://www.halfbakedharvest.com/simple-crispy-basil-caramelized-garden-vegetable-fontina-french-bread-pizza/',\n",
       " 'https://www.halfbakedharvest.com/blue-cheese-guacamole-stuffed-mushrooms-with-buffalo-sauce/',\n",
       " 'https://www.halfbakedharvest.com/curried-zucchini-chicken-and-goat-cheese-rolls-with-cashew-mango-fried-rice/',\n",
       " 'https://www.halfbakedharvest.com/fried-mozzarella-basil-and-nectarine-stacks-with-balsamic-glaze/',\n",
       " 'https://www.halfbakedharvest.com/blue-cheese-lobster-beignets-with-spicy-avocado-cream-garden-veggie-saute/',\n",
       " 'https://www.halfbakedharvest.com/avocado-and-gouda-blt-corn-fritter-stacks-with-chipotle-bourbon-dressing/',\n",
       " 'https://www.halfbakedharvest.com/exactly-how-i-grill-my-corn-chipotle-lime-and-cotija-cheese-butter/',\n",
       " 'https://www.halfbakedharvest.com/peach-and-gorgonzola-grilled-polenta-rounds-with-chipotle-honey/',\n",
       " 'https://www.halfbakedharvest.com/grilled-tex-mex-quinoa-stuffed-sweet-potatoes-skins/',\n",
       " 'https://www.halfbakedharvest.com/blistered-tomato-grilled-toast-caprese-nachos-with-balsamic-glaze/',\n",
       " 'https://www.halfbakedharvest.com/grilled-blackberry-strawberry-basil-and-brie-pizza-crisps/',\n",
       " 'https://www.halfbakedharvest.com/crispy-buffalo-style-salmon-sliders/',\n",
       " 'https://www.halfbakedharvest.com/hawaiian-bbq-quesadillas-with-pineapple-mango-guacamole/',\n",
       " 'https://www.halfbakedharvest.com/blueberry-basil-balsamic-mozzarella-crisps/',\n",
       " 'https://www.halfbakedharvest.com/brie-crab-cake-pretzel-slider-melts-with-strawberry-pineapple-salsa/',\n",
       " 'https://www.halfbakedharvest.com/cheesy-cajun-fries-with-grilled-corn-guacamole-bacon-and-fried-eggs/',\n",
       " 'https://www.halfbakedharvest.com/caprese-quinoa-grilled-stuffed-mushrooms-with-balsamic-glaze/',\n",
       " 'https://www.halfbakedharvest.com/cajun-bbq-cheddar-chicken-fingers/',\n",
       " 'https://www.halfbakedharvest.com/antipasto-tortellini-skewers/',\n",
       " 'https://www.halfbakedharvest.com/crispy-roasted-blackened-cauliflower/',\n",
       " 'https://www.halfbakedharvest.com/spinach-and-artichoke-pita-grilled-cheese/',\n",
       " 'https://www.halfbakedharvest.com/halloumi-bites/',\n",
       " 'https://www.halfbakedharvest.com/lemon-garlic-butter-shrimp/',\n",
       " 'https://www.halfbakedharvest.com/queso-fundido-taquitos/',\n",
       " 'https://www.halfbakedharvest.com/spanakopita-melt/',\n",
       " 'https://www.halfbakedharvest.com/baked-parmesan-tater-tots/',\n",
       " 'https://www.halfbakedharvest.com/garlic-parmesan-bread/',\n",
       " 'https://www.halfbakedharvest.com/my-favorite-new-years-cocktails-and-appetizers/',\n",
       " 'https://www.halfbakedharvest.com/seasoned-crackers/',\n",
       " 'https://www.halfbakedharvest.com/honey-whipped-ricotta-and-prosciutto-crackers/',\n",
       " 'https://www.halfbakedharvest.com/sweet-savory-cheesy-bacon-wrapped-puff-pastry-twist/',\n",
       " 'https://www.halfbakedharvest.com/pastry-wrapped-cranberry-baked-brie-bites/',\n",
       " 'https://www.halfbakedharvest.com/homemade-cheesy-pizza-rolls/',\n",
       " 'https://www.halfbakedharvest.com/oven-toasted-garlic-herb-cheese-ravioli/',\n",
       " 'https://www.halfbakedharvest.com/garlic-parmesan-sweet-potato-fries/',\n",
       " 'https://www.halfbakedharvest.com/everything-ranch-cheese-and-pretzel-snack-mix/',\n",
       " 'https://www.halfbakedharvest.com/cauliflower-and-cheese/',\n",
       " 'https://www.halfbakedharvest.com/black-pepper-rub-chicken-fingers-greek-yogurt-ranch/',\n",
       " 'https://www.halfbakedharvest.com/crockpot-bbq-beer-chicken-taquitos/',\n",
       " 'https://www.halfbakedharvest.com/baked-buffalo-chicken-egg-rolls/',\n",
       " 'https://www.halfbakedharvest.com/oven-fried-coconut-shrimp/',\n",
       " 'https://www.halfbakedharvest.com/peach-brie-pastry-tarts/',\n",
       " 'https://www.halfbakedharvest.com/how-to-make-an-easy-holiday-cheese-board/',\n",
       " 'https://www.halfbakedharvest.com/idiot-proof-5-ingredient-cranberry-brie-cinnamon-sugar-puff-pastry-swirls/',\n",
       " 'https://www.halfbakedharvest.com/goat-cheese-stuffed-bacon-wrapped-dates/',\n",
       " 'https://www.halfbakedharvest.com/spicy-ranch-chex-mix/',\n",
       " 'https://www.halfbakedharvest.com/parmesan-popovers/',\n",
       " 'https://www.halfbakedharvest.com/sweet-potato-parmesan-tater-tots/',\n",
       " 'https://www.halfbakedharvest.com/baked-boneless-honey-bbq-chicken-wings/',\n",
       " 'https://www.halfbakedharvest.com/pastry-wrapped-baked-brie-with-thyme-butter-roasted-plums/',\n",
       " 'https://www.halfbakedharvest.com/prosciutto-goat-cheese-stuffed-peaches/',\n",
       " 'https://www.halfbakedharvest.com/grilled-street-corn-salad/',\n",
       " 'https://www.halfbakedharvest.com/peach-thyme-tarts/',\n",
       " 'https://www.halfbakedharvest.com/no-fuss-farmers-market-mezze-platter/',\n",
       " 'https://www.halfbakedharvest.com/easy-tzatziki/',\n",
       " 'https://www.halfbakedharvest.com/pan-fried-feta-with-peppered-honey/',\n",
       " 'https://www.halfbakedharvest.com/browned-butter-jalapeno-cornbread-muffins/',\n",
       " 'https://www.halfbakedharvest.com/caramelized-onion-and-balsamic-tomato-tarts/',\n",
       " 'https://www.halfbakedharvest.com/roasted-caprese-burrata-sliders/',\n",
       " 'https://www.halfbakedharvest.com/crispy-prosciutto-asparagus-and-brie-toast/',\n",
       " 'https://www.halfbakedharvest.com/cheesy-potato-chive-galette/',\n",
       " 'https://www.halfbakedharvest.com/sesame-roasted-asparagus-with-whipped-feta/',\n",
       " 'https://www.halfbakedharvest.com/herby-everything-cheddar-swirl-buns/',\n",
       " 'https://www.halfbakedharvest.com/khachapuri-georgian-cheese-bread/',\n",
       " 'https://www.halfbakedharvest.com/fried-buffalo-goat-cheese-balls/',\n",
       " 'https://www.halfbakedharvest.com/spinach-and-artichoke-stuffed-soft-pretzels/',\n",
       " 'https://www.halfbakedharvest.com/fried-mozzarella-sandwiches/',\n",
       " 'https://www.halfbakedharvest.com/easy-cheese-and-prosciutto-croissants/',\n",
       " 'https://www.halfbakedharvest.com/herbed-cheddar-latkes/',\n",
       " 'https://www.halfbakedharvest.com/ginger-sesame-chicken-potstickers/',\n",
       " 'https://www.halfbakedharvest.com/cranberry-brie-pastry-tarts/',\n",
       " 'https://www.halfbakedharvest.com/holiday-cheese-board/',\n",
       " 'https://www.halfbakedharvest.com/chipotle-braised-chicken-nachos/',\n",
       " 'https://www.halfbakedharvest.com/onion-spinach-and-cheddar-flaky-pastries/',\n",
       " 'https://www.halfbakedharvest.com/baked-sweet-potato-fries/',\n",
       " 'https://www.halfbakedharvest.com/spinach-and-artichoke-pull-apart-pretzel-bread/',\n",
       " 'https://www.halfbakedharvest.com/corn-and-tomato-tarte-tatin/',\n",
       " 'https://www.halfbakedharvest.com/heirloom-tomato-basil-and-manchego-toast/',\n",
       " 'https://www.halfbakedharvest.com/marinated-tomato-and-grilled-veggie-cheese-board/',\n",
       " 'https://www.halfbakedharvest.com/thyme-honey-peach-and-goat-cheese-crostini/',\n",
       " 'https://www.halfbakedharvest.com/melon-caprese-salad/',\n",
       " 'https://www.halfbakedharvest.com/spicy-corn-and-peaches-with-burrata/',\n",
       " 'https://www.halfbakedharvest.com/asparagus-brie-puff-pastry/',\n",
       " 'https://www.halfbakedharvest.com/the-best-jalapeno-queso/',\n",
       " 'https://www.halfbakedharvest.com/zucchini-bacon-and-pecorino-tart/',\n",
       " 'https://www.halfbakedharvest.com/moroccan-dip-platter/',\n",
       " 'https://www.halfbakedharvest.com/greek-spinach-and-feta-pie-spanakopita/',\n",
       " 'https://www.halfbakedharvest.com/asparagus-egg-and-prosciutto-tart-with-everything-spice/',\n",
       " 'https://www.halfbakedharvest.com/homemade-vegetable-potstickers-with-toasted-sesame-honey-soy-sauce/',\n",
       " 'https://www.halfbakedharvest.com/spicy-cauliflower-cheese-bites-with-tahini-ranch/',\n",
       " 'https://www.halfbakedharvest.com/buttered-mushroom-sage-pesto-goat-cheese-sourdough-toast/',\n",
       " 'https://www.halfbakedharvest.com/apple-crisp-baked-brie-sunday-links-inspire/',\n",
       " 'https://www.halfbakedharvest.com/spicy-chipotle-pumpkin-hummus-halloween-links/',\n",
       " 'https://www.halfbakedharvest.com/skinny-tandoori-butter-sweet-potato-fries-wcreamy-baked-harissa-feta/',\n",
       " 'https://www.halfbakedharvest.com/sweet-spicy-rosemary-cheddar-gorgonzola-pumpkin-crackers/',\n",
       " 'https://www.halfbakedharvest.com/brie-cheddar-apple-beer-soup-cinnamon-pecan-oat-crumble/',\n",
       " 'https://www.halfbakedharvest.com/25-favorite-fall-recipes/',\n",
       " 'https://www.halfbakedharvest.com/hot-wings-cookbook-giveaway/',\n",
       " 'https://www.halfbakedharvest.com/sticky-asian-bbq-boneless-oven-baked-chicken-wings/',\n",
       " 'https://www.halfbakedharvest.com/caramelized-corn-heirloom-tomato-galette-wherbed-roasted-garlic-goat-cheese/',\n",
       " 'https://www.halfbakedharvest.com/mac-cheese-stuffed-fried-zucchini/',\n",
       " 'https://www.halfbakedharvest.com/cheesy-margarita-pizza-hummus-grilled-pesto-pizza-bread/',\n",
       " 'https://www.halfbakedharvest.com/grilled-brie-plus-blackberry-basil-smash-salsa/',\n",
       " 'https://www.halfbakedharvest.com/easy-grilled-parmesan-polenta-chips/',\n",
       " 'https://www.halfbakedharvest.com/garden-veggie-goat-cheese-samosas-sweet-peach-basil-chutney/',\n",
       " 'https://www.halfbakedharvest.com/coconut-lime-fried-shrimp-fiery-mango-peach-jalapeno-sauce/',\n",
       " 'https://www.halfbakedharvest.com/spicy-peanut-butter-bacon-sliders/',\n",
       " 'https://www.halfbakedharvest.com/sweet-tea-oven-fried-chicken-sliders-wjalapeno-cheddar-corn-slaw-crispy-onions/',\n",
       " 'https://www.halfbakedharvest.com/grilled-caprese-toast-burrata-cheese-grilled-avocados/',\n",
       " 'https://www.halfbakedharvest.com/spinach-artichoke-corn-fritters-brie-sweet-honey-jalapeno-cream/',\n",
       " 'https://www.halfbakedharvest.com/deep-dish-pizza-casserole/',\n",
       " 'https://www.halfbakedharvest.com/pan-fried-lemony-artichokes-asparagus-pistachio-pesto-pasta/',\n",
       " 'https://www.halfbakedharvest.com/quinoa-crusted-chicken-strips-bbq-honey-mustard/',\n",
       " 'https://www.halfbakedharvest.com/hawaiian-shrimp-truck-special-garlic-lemon-butter-shrimp/',\n",
       " 'https://www.halfbakedharvest.com/greek-steak-salad-french-bread-soft-boiled-eggs-feta/',\n",
       " 'https://www.halfbakedharvest.com/cheesy-black-bean-quinoa-taco-bake/',\n",
       " 'https://www.halfbakedharvest.com/buffalo-chicken-avocado-blt-wraps/',\n",
       " 'https://www.halfbakedharvest.com/irish-tater-nachos/',\n",
       " 'https://www.halfbakedharvest.com/buffalo-cheddar-chex-mix/',\n",
       " 'https://www.halfbakedharvest.com/buffalo-chicken-jalapeno-poppers/',\n",
       " 'https://www.halfbakedharvest.com/months-worth-healthier-football-food-life-talk/',\n",
       " 'https://www.halfbakedharvest.com/ridiculously-easy-classic-fiesta-guacamole/',\n",
       " 'https://www.halfbakedharvest.com/tortilla-chip-crusted-oven-fried-ravioli-spicy-fontina-queso-fundido/',\n",
       " 'https://www.halfbakedharvest.com/moms-secret-christmas-eve-chex-mix/',\n",
       " 'https://www.halfbakedharvest.com/brussels-sprout-avocado-winter-rolls-grapefruit-hoisin-dipping-sauce/',\n",
       " 'https://www.halfbakedharvest.com/coconut-crusted-brie-stuffed-quinoa-bites/',\n",
       " 'https://www.halfbakedharvest.com/crazy-greek-feta-sun-dried-tomato-pistachio-truffles/',\n",
       " 'https://www.halfbakedharvest.com/curried-sweet-potato-rounds-honeyed-walnuts-cranberries-blue-cheese/',\n",
       " 'https://www.halfbakedharvest.com/chipotle-quinoa-sweet-potato-tacos-roasted-cranberry-pomegranate-salsa/',\n",
       " 'https://www.halfbakedharvest.com/roasted-garlic-sage-pesto-pumpkin-soup-spicy-fried-pumpkin-seeds/',\n",
       " 'https://www.halfbakedharvest.com/cheesy-fontina-chorizo-caramelized-onion-artichoke-dip/',\n",
       " 'https://www.halfbakedharvest.com/cranberry-butternut-brussels-sprout-brie-skillet-nachos/',\n",
       " 'https://www.halfbakedharvest.com/chipotle-pumpkin-broccoli-pizza-bacon-gouda-cheese-giveaway/',\n",
       " 'https://www.halfbakedharvest.com/20-minute-chicken-cheesesteak-sloppy-joe-sliders/',\n",
       " 'https://www.halfbakedharvest.com/roasted-pumpkin-chipotle-cheddar-tots-avocado-blue-cheese-ranch/',\n",
       " 'https://www.halfbakedharvest.com/roasted-pumpkin-seed-hummus/',\n",
       " 'https://www.halfbakedharvest.com/crockpot-chicken-chili-con-carne-loaded-tostada-stacks/',\n",
       " 'https://www.halfbakedharvest.com/loaded-greek-goddess-chickpea-quinoa-pita-chip-nachos/',\n",
       " 'https://www.halfbakedharvest.com/thanksgiving-turkey-cheese-board/',\n",
       " 'https://www.halfbakedharvest.com/sweet-potato-bites/',\n",
       " 'https://www.halfbakedharvest.com/spinach-and-artichoke-dip-sliders/',\n",
       " 'https://www.halfbakedharvest.com/cheesy-soft-pretzel-bites/',\n",
       " 'https://www.halfbakedharvest.com/ranch-pretzels/',\n",
       " 'https://www.halfbakedharvest.com/white-chicken-chili-corn-dip/',\n",
       " 'https://www.halfbakedharvest.com/heirloom-tomato-cheddar-tart-everything-spice/',\n",
       " 'https://www.halfbakedharvest.com/sweet-corn-wontons/',\n",
       " 'https://www.halfbakedharvest.com/tomato-peach-crostini/',\n",
       " 'https://www.halfbakedharvest.com/caprese-garlic-bread/',\n",
       " 'https://www.halfbakedharvest.com/street-corn-dip/',\n",
       " 'https://www.halfbakedharvest.com/pull-apart-italian-sub-sliders/',\n",
       " 'https://www.halfbakedharvest.com/charred-peppers/',\n",
       " 'https://www.halfbakedharvest.com/strawberry-watermelon-salad/',\n",
       " 'https://www.halfbakedharvest.com/avocado-shrimp-salsa/',\n",
       " 'https://www.halfbakedharvest.com/jalapeno-cheddar-popovers/',\n",
       " 'https://www.halfbakedharvest.com/summer-rolls/',\n",
       " 'https://www.halfbakedharvest.com/crumbled-feta-and-tomato-basil-vinaigrette-dip/',\n",
       " 'https://www.halfbakedharvest.com/cheese-rangoons/',\n",
       " 'https://www.halfbakedharvest.com/spinach-and-brie-triangles/',\n",
       " 'https://www.halfbakedharvest.com/roasted-cauliflower-hummus/',\n",
       " 'https://www.halfbakedharvest.com/fried-feta-rolls/',\n",
       " 'https://www.halfbakedharvest.com/artichoke-gouda-tart/',\n",
       " 'https://www.halfbakedharvest.com/garlic-herb-roasted-olives/',\n",
       " 'https://www.halfbakedharvest.com/oregano-roasted-potatoes/',\n",
       " 'https://www.halfbakedharvest.com/jalapeno-cream-cheese-buffalo-chicken-taquitos/',\n",
       " 'https://www.halfbakedharvest.com/nacho-fries/',\n",
       " 'https://www.halfbakedharvest.com/hot-honey-popcorn-chicken/',\n",
       " 'https://www.halfbakedharvest.com/chipotle-chicken-nachos/',\n",
       " 'https://www.halfbakedharvest.com/buffalo-cauliflower/',\n",
       " 'https://www.halfbakedharvest.com/christmas-tree-cheese-board/',\n",
       " 'https://www.halfbakedharvest.com/baked-gruyere-in-pastry/',\n",
       " 'https://www.halfbakedharvest.com/crispy-sesame-ginger-egg-rolls-with-sweet-chili-sauce/',\n",
       " 'https://www.halfbakedharvest.com/prosciutto-and-cheese-pastry-twist/',\n",
       " 'https://www.halfbakedharvest.com/pastry-wrapped-cranberry-baked-brie/',\n",
       " 'https://www.halfbakedharvest.com/bacon-wrapped-parmesan-brussels-sprouts/',\n",
       " 'https://www.halfbakedharvest.com/goat-cheese-with-warm-candied-bacon/',\n",
       " 'https://www.halfbakedharvest.com/pizza-dip-sliders/',\n",
       " 'https://www.halfbakedharvest.com/soft-garlic-herb-cheddar-cheese-bread/',\n",
       " 'https://www.halfbakedharvest.com/hard-cider-pretzels/',\n",
       " 'https://www.halfbakedharvest.com/honey-whipped-feta/',\n",
       " 'https://www.halfbakedharvest.com/peach-burrata-crostin/',\n",
       " 'https://www.halfbakedharvest.com/caprese-pesto-tarts/',\n",
       " 'https://www.halfbakedharvest.com/tomato-peach-and-burrata-salad/',\n",
       " 'https://www.halfbakedharvest.com/marinated-mozzarella-melon-skewers/',\n",
       " 'https://www.halfbakedharvest.com/charred-baby-bell-peppers/',\n",
       " 'https://www.halfbakedharvest.com/blt-corn-fritter-stacks/',\n",
       " 'https://www.halfbakedharvest.com/ricotta-toast-with-marinated-tomatoes/']"
      ]
     },
     "execution_count": 3,
     "metadata": {},
     "output_type": "execute_result"
    }
   ],
   "source": [
    "all_recipes_url"
   ]
  },
  {
   "cell_type": "code",
   "execution_count": 4,
   "id": "a5357845",
   "metadata": {},
   "outputs": [
    {
     "data": {
      "text/plain": [
       "157"
      ]
     },
     "execution_count": 4,
     "metadata": {},
     "output_type": "execute_result"
    }
   ],
   "source": [
    "\n",
    "# Read the URLs from the text file\n",
    "with open('failed_urls.txt', 'r') as file:\n",
    "    failed_url = file.readlines()\n",
    "\n",
    "# Strip newline characters from each URL\n",
    "failed_url = [url.strip() for url in failed_url]\n",
    "\n",
    "len(failed_url)"
   ]
  },
  {
   "cell_type": "code",
   "execution_count": 5,
   "id": "a8a66fb7",
   "metadata": {
    "scrolled": true
   },
   "outputs": [
    {
     "data": {
      "text/plain": [
       "['https://www.halfbakedharvest.com/tomato-cheese-pie/',\n",
       " 'https://www.halfbakedharvest.com/garlic-oil-feta-dip/',\n",
       " 'https://www.halfbakedharvest.com/fried-goat-cheese-balls/',\n",
       " 'https://www.halfbakedharvest.com/popular-holiday-appetizers-and-cocktails-mocktails/',\n",
       " 'https://www.halfbakedharvest.com/beef-tenderloin-crostini/',\n",
       " 'https://www.halfbakedharvest.com/the-50-most-popular-fall-recipes/',\n",
       " 'https://www.halfbakedharvest.com/parmesan-buffalo-chicken-wings/',\n",
       " 'https://www.halfbakedharvest.com/mezze-platter/',\n",
       " 'https://www.halfbakedharvest.com/jalapeno-cheddar-cornbread-biscuits/',\n",
       " 'https://www.halfbakedharvest.com/street-corn-dip-sliders/',\n",
       " 'https://www.halfbakedharvest.com/baked-artichokes/',\n",
       " 'https://www.halfbakedharvest.com/hot-honey-cauliflower/',\n",
       " 'https://www.halfbakedharvest.com/chicken-enchilada-bean-dip/',\n",
       " 'https://www.halfbakedharvest.com/everything-ranch-crackers-and-pretzels/',\n",
       " 'https://www.halfbakedharvest.com/bacon-wrapped-cheddar-corn-jalapeno-poppers/',\n",
       " 'https://www.halfbakedharvest.com/roasted-tomato-cheddar-tart/',\n",
       " 'https://www.halfbakedharvest.com/mac-and-cheese-stuffed-oven-fried-zucchini-bites/',\n",
       " 'https://www.halfbakedharvest.com/crispy-bbq-beer-battered-cauliflower-nuggets/',\n",
       " 'https://www.halfbakedharvest.com/pan-fried-brie/',\n",
       " 'https://www.halfbakedharvest.com/crispy-chicken-tinga-taquitos/',\n",
       " 'https://www.halfbakedharvest.com/honey-mustard-pretzel-chicken-fingers/',\n",
       " 'https://www.halfbakedharvest.com/tuscan-fries/',\n",
       " 'https://www.halfbakedharvest.com/garlic-butter-scallops/',\n",
       " 'https://www.halfbakedharvest.com/whipped-ricotta-toast/',\n",
       " 'https://www.halfbakedharvest.com/burrata-with-lemon-pepper-salami-bites/',\n",
       " 'https://www.halfbakedharvest.com/baked-brie-and-prosciutto-rolls/',\n",
       " 'https://www.halfbakedharvest.com/sweet-n-savory-roasted-nuts-and-pretzels/',\n",
       " 'https://www.halfbakedharvest.com/honey-butter-roasted-acorn-with-burrata-and-pomegranate/',\n",
       " 'https://www.halfbakedharvest.com/opened-faced-tomato-and-goat-cheese-sandwich-with-hot-bacon-vinaigrette/',\n",
       " 'https://www.halfbakedharvest.com/10-minute-garden-herb-avocado-dip/',\n",
       " 'https://www.halfbakedharvest.com/tuscan-summer-stone-fruit-tomato-and-burrata-panzanella-salad/',\n",
       " 'https://www.halfbakedharvest.com/caprese-burrata-garlic-bread/',\n",
       " 'https://www.halfbakedharvest.com/honey-raspberry-brie-crostini-with-basil-oil/',\n",
       " 'https://www.halfbakedharvest.com/baked-thai-coconut-shrimp-with-lemongrass-guacamole/',\n",
       " 'https://www.halfbakedharvest.com/roasted-red-pepper-meze-platter/',\n",
       " 'https://www.halfbakedharvest.com/black-bean-turkey-nachos-with-jalapeno-yogurt/',\n",
       " 'https://www.halfbakedharvest.com/3-ingredient-cheesy-pizza-pretzels/',\n",
       " 'https://www.halfbakedharvest.com/cranberry-brie-pull-apart-bread/',\n",
       " 'https://www.halfbakedharvest.com/7-easy-fall-dinners/',\n",
       " 'https://www.halfbakedharvest.com/skinny-cajun-sweet-potato-fries-with-garlic-cheese-sauce/',\n",
       " 'https://www.halfbakedharvest.com/sweet-chili-butter-grilled-lobster-fries-havarti-cheese/',\n",
       " 'https://www.halfbakedharvest.com/bacon-wrapped-parmesan-broccoli-rabe/',\n",
       " 'https://www.halfbakedharvest.com/summer-crostini-6-ways/',\n",
       " 'https://www.halfbakedharvest.com/southwest-bbq-pork-sliders/',\n",
       " 'https://www.halfbakedharvest.com/mediterranean-antipasto-platter/',\n",
       " 'https://www.halfbakedharvest.com/mexican-carnitas-bar/',\n",
       " 'https://www.halfbakedharvest.com/artichoke-ricotta-flatbread/',\n",
       " 'https://www.halfbakedharvest.com/salmon-fajita-salad-boats/',\n",
       " 'https://www.halfbakedharvest.com/margherita-pizza-dip-burrata/',\n",
       " 'https://www.halfbakedharvest.com/queso-fundido-alla-tequila/',\n",
       " 'https://www.halfbakedharvest.com/the-big-holiday-hummus-board-with-roasted-root-veggie-chips/',\n",
       " 'https://www.halfbakedharvest.com/simple-baked-italian-oregano-meatballs/',\n",
       " 'https://www.halfbakedharvest.com/fall-harvest-peanut-picnic-a-family-hike/',\n",
       " 'https://www.halfbakedharvest.com/how-to-make-a-killer-summer-cheeseboard-with-pickled-strawberries-herb-roasted-cherry-tomatoes/',\n",
       " 'https://www.halfbakedharvest.com/kentucky-hot-brown-sandwiches-jalapeno-cornbread-biscuits-honey-bourbon-bacon/',\n",
       " 'https://www.halfbakedharvest.com/authentic-canadian-poutine/',\n",
       " 'https://www.halfbakedharvest.com/thai-peanut-chicken-wings-fiery-pineapple-jalapeno-salsa/',\n",
       " 'https://www.halfbakedharvest.com/spicy-green-harissa/',\n",
       " 'https://www.halfbakedharvest.com/ham-cheese-sandwiches-wbacon-pineapple-caramelized-onions-jerk-bbq-sauce/',\n",
       " 'https://www.halfbakedharvest.com/goat-cheese-stuffed-phyllo-swirls-pomegranate-honey-pistachios/',\n",
       " 'https://www.halfbakedharvest.com/sun-dried-tomato-olive-pesto-pizza-salami-roasted-red-peppers/',\n",
       " 'https://www.halfbakedharvest.com/gingery-steak-brie-sliders-balsamic-cranberry-sauce/',\n",
       " 'https://www.halfbakedharvest.com/lets-talk-thanksgiving-snacks-appetizers-sides-desserts/',\n",
       " 'https://www.halfbakedharvest.com/blue-cheese-guacamole-stuffed-mushrooms-with-buffalo-sauce/',\n",
       " 'https://www.halfbakedharvest.com/avocado-and-gouda-blt-corn-fritter-stacks-with-chipotle-bourbon-dressing/',\n",
       " 'https://www.halfbakedharvest.com/peach-and-gorgonzola-grilled-polenta-rounds-with-chipotle-honey/',\n",
       " 'https://www.halfbakedharvest.com/blistered-tomato-grilled-toast-caprese-nachos-with-balsamic-glaze/',\n",
       " 'https://www.halfbakedharvest.com/crispy-buffalo-style-salmon-sliders/',\n",
       " 'https://www.halfbakedharvest.com/cheesy-cajun-fries-with-grilled-corn-guacamole-bacon-and-fried-eggs/',\n",
       " 'https://www.halfbakedharvest.com/cajun-bbq-cheddar-chicken-fingers/',\n",
       " 'https://www.halfbakedharvest.com/crispy-roasted-blackened-cauliflower/',\n",
       " 'https://www.halfbakedharvest.com/halloumi-bites/',\n",
       " 'https://www.halfbakedharvest.com/queso-fundido-taquitos/',\n",
       " 'https://www.halfbakedharvest.com/baked-parmesan-tater-tots/',\n",
       " 'https://www.halfbakedharvest.com/honey-whipped-ricotta-and-prosciutto-crackers/',\n",
       " 'https://www.halfbakedharvest.com/pastry-wrapped-cranberry-baked-brie-bites/',\n",
       " 'https://www.halfbakedharvest.com/oven-toasted-garlic-herb-cheese-ravioli/',\n",
       " 'https://www.halfbakedharvest.com/everything-ranch-cheese-and-pretzel-snack-mix/',\n",
       " 'https://www.halfbakedharvest.com/black-pepper-rub-chicken-fingers-greek-yogurt-ranch/',\n",
       " 'https://www.halfbakedharvest.com/baked-buffalo-chicken-egg-rolls/',\n",
       " 'https://www.halfbakedharvest.com/peach-brie-pastry-tarts/',\n",
       " 'https://www.halfbakedharvest.com/sweet-potato-parmesan-tater-tots/',\n",
       " 'https://www.halfbakedharvest.com/pastry-wrapped-baked-brie-with-thyme-butter-roasted-plums/',\n",
       " 'https://www.halfbakedharvest.com/grilled-street-corn-salad/',\n",
       " 'https://www.halfbakedharvest.com/no-fuss-farmers-market-mezze-platter/',\n",
       " 'https://www.halfbakedharvest.com/pan-fried-feta-with-peppered-honey/',\n",
       " 'https://www.halfbakedharvest.com/cheesy-potato-chive-galette/',\n",
       " 'https://www.halfbakedharvest.com/khachapuri-georgian-cheese-bread/',\n",
       " 'https://www.halfbakedharvest.com/spinach-and-artichoke-stuffed-soft-pretzels/',\n",
       " 'https://www.halfbakedharvest.com/easy-cheese-and-prosciutto-croissants/',\n",
       " 'https://www.halfbakedharvest.com/ginger-sesame-chicken-potstickers/',\n",
       " 'https://www.halfbakedharvest.com/holiday-cheese-board/',\n",
       " 'https://www.halfbakedharvest.com/onion-spinach-and-cheddar-flaky-pastries/',\n",
       " 'https://www.halfbakedharvest.com/heirloom-tomato-basil-and-manchego-toast/',\n",
       " 'https://www.halfbakedharvest.com/thyme-honey-peach-and-goat-cheese-crostini/',\n",
       " 'https://www.halfbakedharvest.com/spicy-corn-and-peaches-with-burrata/',\n",
       " 'https://www.halfbakedharvest.com/the-best-jalapeno-queso/',\n",
       " 'https://www.halfbakedharvest.com/moroccan-dip-platter/',\n",
       " 'https://www.halfbakedharvest.com/asparagus-egg-and-prosciutto-tart-with-everything-spice/',\n",
       " 'https://www.halfbakedharvest.com/spicy-cauliflower-cheese-bites-with-tahini-ranch/',\n",
       " 'https://www.halfbakedharvest.com/apple-crisp-baked-brie-sunday-links-inspire/',\n",
       " 'https://www.halfbakedharvest.com/skinny-tandoori-butter-sweet-potato-fries-wcreamy-baked-harissa-feta/',\n",
       " 'https://www.halfbakedharvest.com/sweet-spicy-rosemary-cheddar-gorgonzola-pumpkin-crackers/',\n",
       " 'https://www.halfbakedharvest.com/brie-cheddar-apple-beer-soup-cinnamon-pecan-oat-crumble/',\n",
       " 'https://www.halfbakedharvest.com/hot-wings-cookbook-giveaway/',\n",
       " 'https://www.halfbakedharvest.com/caramelized-corn-heirloom-tomato-galette-wherbed-roasted-garlic-goat-cheese/',\n",
       " 'https://www.halfbakedharvest.com/cheesy-margarita-pizza-hummus-grilled-pesto-pizza-bread/',\n",
       " 'https://www.halfbakedharvest.com/easy-grilled-parmesan-polenta-chips/',\n",
       " 'https://www.halfbakedharvest.com/spinach-artichoke-corn-fritters-brie-sweet-honey-jalapeno-cream/',\n",
       " 'https://www.halfbakedharvest.com/hawaiian-shrimp-truck-special-garlic-lemon-butter-shrimp/',\n",
       " 'https://www.halfbakedharvest.com/cheesy-black-bean-quinoa-taco-bake/',\n",
       " 'https://www.halfbakedharvest.com/irish-tater-nachos/',\n",
       " 'https://www.halfbakedharvest.com/ridiculously-easy-classic-fiesta-guacamole/',\n",
       " 'https://www.halfbakedharvest.com/moms-secret-christmas-eve-chex-mix/',\n",
       " 'https://www.halfbakedharvest.com/coconut-crusted-brie-stuffed-quinoa-bites/',\n",
       " 'https://www.halfbakedharvest.com/curried-sweet-potato-rounds-honeyed-walnuts-cranberries-blue-cheese/',\n",
       " 'https://www.halfbakedharvest.com/cranberry-butternut-brussels-sprout-brie-skillet-nachos/',\n",
       " 'https://www.halfbakedharvest.com/20-minute-chicken-cheesesteak-sloppy-joe-sliders/',\n",
       " 'https://www.halfbakedharvest.com/loaded-greek-goddess-chickpea-quinoa-pita-chip-nachos/',\n",
       " 'https://www.halfbakedharvest.com/sweet-potato-bites/',\n",
       " 'https://www.halfbakedharvest.com/cheesy-soft-pretzel-bites/',\n",
       " 'https://www.halfbakedharvest.com/caprese-garlic-bread/',\n",
       " 'https://www.halfbakedharvest.com/strawberry-watermelon-salad/',\n",
       " 'https://www.halfbakedharvest.com/avocado-shrimp-salsa/',\n",
       " 'https://www.halfbakedharvest.com/jalapeno-cheddar-popovers/',\n",
       " 'https://www.halfbakedharvest.com/summer-rolls/',\n",
       " 'https://www.halfbakedharvest.com/crumbled-feta-and-tomato-basil-vinaigrette-dip/',\n",
       " 'https://www.halfbakedharvest.com/cheese-rangoons/',\n",
       " 'https://www.halfbakedharvest.com/spinach-and-brie-triangles/',\n",
       " 'https://www.halfbakedharvest.com/roasted-cauliflower-hummus/',\n",
       " 'https://www.halfbakedharvest.com/fried-feta-rolls/',\n",
       " 'https://www.halfbakedharvest.com/artichoke-gouda-tart/',\n",
       " 'https://www.halfbakedharvest.com/garlic-herb-roasted-olives/',\n",
       " 'https://www.halfbakedharvest.com/oregano-roasted-potatoes/',\n",
       " 'https://www.halfbakedharvest.com/jalapeno-cream-cheese-buffalo-chicken-taquitos/',\n",
       " 'https://www.halfbakedharvest.com/nacho-fries/',\n",
       " 'https://www.halfbakedharvest.com/hot-honey-popcorn-chicken/',\n",
       " 'https://www.halfbakedharvest.com/chipotle-chicken-nachos/',\n",
       " 'https://www.halfbakedharvest.com/buffalo-cauliflower/',\n",
       " 'https://www.halfbakedharvest.com/christmas-tree-cheese-board/',\n",
       " 'https://www.halfbakedharvest.com/baked-gruyere-in-pastry/',\n",
       " 'https://www.halfbakedharvest.com/crispy-sesame-ginger-egg-rolls-with-sweet-chili-sauce/',\n",
       " 'https://www.halfbakedharvest.com/prosciutto-and-cheese-pastry-twist/',\n",
       " 'https://www.halfbakedharvest.com/pastry-wrapped-cranberry-baked-brie/',\n",
       " 'https://www.halfbakedharvest.com/bacon-wrapped-parmesan-brussels-sprouts/',\n",
       " 'https://www.halfbakedharvest.com/goat-cheese-with-warm-candied-bacon/',\n",
       " 'https://www.halfbakedharvest.com/pizza-dip-sliders/',\n",
       " 'https://www.halfbakedharvest.com/soft-garlic-herb-cheddar-cheese-bread/',\n",
       " 'https://www.halfbakedharvest.com/hard-cider-pretzels/',\n",
       " 'https://www.halfbakedharvest.com/honey-whipped-feta/',\n",
       " 'https://www.halfbakedharvest.com/peach-burrata-crostin/',\n",
       " 'https://www.halfbakedharvest.com/caprese-pesto-tarts/',\n",
       " 'https://www.halfbakedharvest.com/tomato-peach-and-burrata-salad/',\n",
       " 'https://www.halfbakedharvest.com/marinated-mozzarella-melon-skewers/',\n",
       " 'https://www.halfbakedharvest.com/charred-baby-bell-peppers/',\n",
       " 'https://www.halfbakedharvest.com/blt-corn-fritter-stacks/',\n",
       " 'https://www.halfbakedharvest.com/ricotta-toast-with-marinated-tomatoes/']"
      ]
     },
     "execution_count": 5,
     "metadata": {},
     "output_type": "execute_result"
    }
   ],
   "source": [
    "failed_url"
   ]
  },
  {
   "cell_type": "code",
   "execution_count": null,
   "id": "05734891",
   "metadata": {},
   "outputs": [],
   "source": []
  },
  {
   "cell_type": "markdown",
   "id": "1607b7d2",
   "metadata": {},
   "source": [
    "# Extract Information of all recipes"
   ]
  },
  {
   "cell_type": "code",
   "execution_count": 6,
   "id": "fb1dc3f6",
   "metadata": {},
   "outputs": [],
   "source": [
    "new_failed_url = []"
   ]
  },
  {
   "cell_type": "code",
   "execution_count": 7,
   "id": "5230da34",
   "metadata": {},
   "outputs": [],
   "source": [
    "# Empty Dataframe\n",
    "columns = [\n",
    "    'title',\n",
    "    'prep_time',\n",
    "    'cook_time',\n",
    "    'total_time',\n",
    "    'ingredients',\n",
    "    'ingredients with measurement',\n",
    "    'instructions',\n",
    "    'calories',\n",
    "    'servings',\n",
    "    'images'\n",
    "]"
   ]
  },
  {
   "cell_type": "code",
   "execution_count": 8,
   "id": "0aedaaab",
   "metadata": {},
   "outputs": [
    {
     "data": {
      "text/html": [
       "<div>\n",
       "<style scoped>\n",
       "    .dataframe tbody tr th:only-of-type {\n",
       "        vertical-align: middle;\n",
       "    }\n",
       "\n",
       "    .dataframe tbody tr th {\n",
       "        vertical-align: top;\n",
       "    }\n",
       "\n",
       "    .dataframe thead th {\n",
       "        text-align: right;\n",
       "    }\n",
       "</style>\n",
       "<table border=\"1\" class=\"dataframe\">\n",
       "  <thead>\n",
       "    <tr style=\"text-align: right;\">\n",
       "      <th></th>\n",
       "      <th>title</th>\n",
       "      <th>prep_time</th>\n",
       "      <th>cook_time</th>\n",
       "      <th>total_time</th>\n",
       "      <th>ingredients</th>\n",
       "      <th>ingredients with measurement</th>\n",
       "      <th>instructions</th>\n",
       "      <th>calories</th>\n",
       "      <th>servings</th>\n",
       "      <th>images</th>\n",
       "    </tr>\n",
       "  </thead>\n",
       "  <tbody>\n",
       "  </tbody>\n",
       "</table>\n",
       "</div>"
      ],
      "text/plain": [
       "Empty DataFrame\n",
       "Columns: [title, prep_time, cook_time, total_time, ingredients, ingredients with measurement, instructions, calories, servings, images]\n",
       "Index: []"
      ]
     },
     "execution_count": 8,
     "metadata": {},
     "output_type": "execute_result"
    }
   ],
   "source": [
    "final = pd.DataFrame(columns=columns)\n",
    "final"
   ]
  },
  {
   "cell_type": "markdown",
   "id": "203deee8",
   "metadata": {},
   "source": [
    "# Extract Function"
   ]
  },
  {
   "cell_type": "code",
   "execution_count": 27,
   "id": "5fc26b8c",
   "metadata": {},
   "outputs": [],
   "source": [
    "def extract(soup):\n",
    "    try:\n",
    "        # TITLE\n",
    "        h2_tag = soup.find('h2', class_='wprm-recipe-name')  # Replaced temp_soup with soup\n",
    "        if h2_tag:\n",
    "            title.append(h2_tag.text.strip())\n",
    "        else:\n",
    "            title.append('-')\n",
    "\n",
    "        # PREP TIME\n",
    "        prep_time_elem = soup.find(class_='wprm-recipe-prep-time-container')  # Replaced temp_soup with soup\n",
    "        if prep_time_elem:\n",
    "            time_dict = {}\n",
    "            hours_tag = prep_time_elem.find('span', class_='wprm-recipe-prep_time-hours')\n",
    "            minutes_tag = prep_time_elem.find('span', class_='wprm-recipe-prep_time-minutes')\n",
    "\n",
    "            if hours_tag:\n",
    "                hours_text = hours_tag.text.strip() if hours_tag else None\n",
    "                hours_value = re.sub(r'\\D', '', hours_text) if hours_text else None\n",
    "                time_dict['hours'] = hours_value\n",
    "            if minutes_tag:\n",
    "                minutes_text = minutes_tag.text.strip() if minutes_tag else None\n",
    "                minutes_value = re.sub(r'\\D', '', minutes_text) if minutes_text else None\n",
    "                time_dict['minutes'] = minutes_value\n",
    "            prep_time.append(time_dict) \n",
    "        else:\n",
    "            prep_time.append('-')\n",
    "\n",
    "        # COOK TIME\n",
    "        cook_time_elem = soup.find(class_='wprm-recipe-cook-time-container')  # Replaced temp_soup with soup\n",
    "        if cook_time_elem:\n",
    "            time_dict = {}\n",
    "            hours_tag = cook_time_elem.find('span', class_='wprm-recipe-cook_time-hours')\n",
    "            minutes_tag = cook_time_elem.find('span', class_='wprm-recipe-cook_time-minutes')\n",
    "\n",
    "            if hours_tag:\n",
    "                hours_text = hours_tag.text.strip() if hours_tag else None\n",
    "                hours_value = re.sub(r'\\D', '', hours_text) if hours_text else None\n",
    "                time_dict['hours'] = hours_value\n",
    "            if minutes_tag:\n",
    "                minutes_text = minutes_tag.text.strip() if minutes_tag else None\n",
    "                minutes_value = re.sub(r'\\D', '', minutes_text) if minutes_text else None\n",
    "                time_dict['minutes'] = minutes_value\n",
    "\n",
    "            cook_time.append(time_dict) \n",
    "        else:\n",
    "            cook_time.append('-')\n",
    "\n",
    "        # TOTAL TIME\n",
    "        total_time_elem = soup.find(class_='wprm-recipe-total-time-container')  # Replaced temp_soup with soup\n",
    "        if total_time_elem:\n",
    "            time_dict = {}\n",
    "            hours_tag = total_time_elem.find('span', class_='wprm-recipe-total_time-hours')\n",
    "            minutes_tag = total_time_elem.find('span', class_='wprm-recipe-total_time-minutes')\n",
    "\n",
    "            if hours_tag:\n",
    "                hours_text = hours_tag.text.strip() if hours_tag else None\n",
    "                hours_value = re.sub(r'\\D', '', hours_text) if hours_text else None\n",
    "                time_dict['hours'] = hours_value\n",
    "            if minutes_tag:\n",
    "                minutes_text = minutes_tag.text.strip() if minutes_tag else None\n",
    "                minutes_value = re.sub(r'\\D', '', minutes_text) if minutes_text else None\n",
    "                time_dict['minutes'] = minutes_value\n",
    "            total_time.append(time_dict) \n",
    "        else:\n",
    "            total_time.append('-')\n",
    "\n",
    "        # INGREDIENTS\n",
    "        ingr_list = soup.find_all('li', class_='wprm-recipe-ingredient')  # Replaced temp_soup with soup\n",
    "        if ingr_list:\n",
    "            ingredient_dict = {}\n",
    "            ingredients_recipe = []\n",
    "            for ingr in ingr_list:\n",
    "                ingr_amount_elem = ingr.find(class_='wprm-recipe-ingredient-amount')\n",
    "                ingr_amount = ingr_amount_elem.text.strip() if ingr_amount_elem else None\n",
    "                ingr_name_elem = ingr.find(class_='wprm-recipe-ingredient-name')\n",
    "                ingr_name = ingr_name_elem.text.strip() if ingr_name_elem else None\n",
    "                ingredient_dict[ingr_name] = ingr_amount if ingr_amount else \"seasoning\"\n",
    "                ingredients_recipe.append(ingr_name)\n",
    "            ingredients_measurment.append(ingredient_dict)\n",
    "            ingredients.append(ingredients_recipe)\n",
    "        else:\n",
    "            ingredients_measurment.append('-')\n",
    "            ingredients.append('-')\n",
    "\n",
    "        # INSTRUCTIONS\n",
    "        recipe_instr = soup.find(class_='wprm-recipe-instruction-group')  # Replaced temp_soup with soup\n",
    "        if recipe_instr:\n",
    "            recipe_steps = []\n",
    "            steps = recipe_instr.find_all(\"span\", attrs={\"class\": None})\n",
    "            for step in steps:\n",
    "                recipe_steps.append(step.text.strip())\n",
    "            instructions.append(recipe_steps)\n",
    "        else:\n",
    "            instructions.append('-')\n",
    "\n",
    "        # SERVINGS\n",
    "        serving_div = soup.find('span', class_='wprm-recipe-servings')  # Replaced temp_soup with soup\n",
    "        if serving_div:\n",
    "            servings.append(serving_div.text.strip())\n",
    "        else:\n",
    "            servings.append('-')\n",
    "\n",
    "        # CALORIES\n",
    "        calorie_div = soup.find('span',class_='wprm-recipe-nutrition-with-unit')  # Replaced temp_soup with soup\n",
    "        if calorie_div:\n",
    "            calories.append(calorie_div.text.strip())\n",
    "        else:\n",
    "            calories.append('-')\n",
    "\n",
    "        # IMAGES\n",
    "        images.append('-')\n",
    "        img_div = soup.find(class_='entry-content')\n",
    "        img_tags = img_div.find_all('img')\n",
    "        try:\n",
    "            jpg_links = [img['src'] for img in img_tags if img['src'].endswith('.jpg')]\n",
    "            if len(jpg_links) >= 2:\n",
    "                second_jpg_link = jpg_links[1]\n",
    "                images[-1] = second_jpg_link\n",
    "        except KeyError:\n",
    "            pass  # Skip if 'src' attribute doesn't exist\n",
    "        \n",
    "\n",
    "    except requests.exceptions.RequestException as e:\n",
    "        print(f\"Failed to fetch the page: {e}\")\n",
    "        new_failed_url.append(url)  # Append failed URL to list\n"
   ]
  },
  {
   "cell_type": "markdown",
   "id": "f02d31b8",
   "metadata": {},
   "source": [
    "### Recipes 0-24"
   ]
  },
  {
   "cell_type": "code",
   "execution_count": 10,
   "id": "583cee40",
   "metadata": {
    "scrolled": true
   },
   "outputs": [
    {
     "name": "stdout",
     "output_type": "stream",
     "text": [
      "Proxies loaded: ['35.220.254.137:8080', '181.114.61.17:8085']\n"
     ]
    },
    {
     "data": {
      "application/javascript": [
       "\n",
       "        if (window._pyforest_update_imports_cell) { window._pyforest_update_imports_cell('import re'); }\n",
       "    "
      ],
      "text/plain": [
       "<IPython.core.display.Javascript object>"
      ]
     },
     "metadata": {},
     "output_type": "display_data"
    },
    {
     "data": {
      "application/javascript": [
       "\n",
       "        if (window._pyforest_update_imports_cell) { window._pyforest_update_imports_cell('import re'); }\n",
       "    "
      ],
      "text/plain": [
       "<IPython.core.display.Javascript object>"
      ]
     },
     "metadata": {},
     "output_type": "display_data"
    },
    {
     "data": {
      "application/javascript": [
       "\n",
       "        if (window._pyforest_update_imports_cell) { window._pyforest_update_imports_cell('import re'); }\n",
       "    "
      ],
      "text/plain": [
       "<IPython.core.display.Javascript object>"
      ]
     },
     "metadata": {},
     "output_type": "display_data"
    },
    {
     "name": "stdout",
     "output_type": "stream",
     "text": [
      "Successfully retrieved 0 - https://www.halfbakedharvest.com/tomato-cheese-pie/ with proxy 35.220.254.137:8080\n",
      "Proxy 181.114.61.17:8085 failed for https://www.halfbakedharvest.com/garlic-oil-feta-dip/: HTTPSConnectionPool(host='www.halfbakedharvest.com', port=443): Max retries exceeded with url: /garlic-oil-feta-dip/ (Caused by ProxyError('Unable to connect to proxy', ConnectTimeoutError(<urllib3.connection.HTTPSConnection object at 0x117da4310>, 'Connection to 181.114.61.17 timed out. (connect timeout=30)')))\n"
     ]
    },
    {
     "data": {
      "application/javascript": [
       "\n",
       "        if (window._pyforest_update_imports_cell) { window._pyforest_update_imports_cell('import re'); }\n",
       "    "
      ],
      "text/plain": [
       "<IPython.core.display.Javascript object>"
      ]
     },
     "metadata": {},
     "output_type": "display_data"
    },
    {
     "data": {
      "application/javascript": [
       "\n",
       "        if (window._pyforest_update_imports_cell) { window._pyforest_update_imports_cell('import re'); }\n",
       "    "
      ],
      "text/plain": [
       "<IPython.core.display.Javascript object>"
      ]
     },
     "metadata": {},
     "output_type": "display_data"
    },
    {
     "data": {
      "application/javascript": [
       "\n",
       "        if (window._pyforest_update_imports_cell) { window._pyforest_update_imports_cell('import re'); }\n",
       "    "
      ],
      "text/plain": [
       "<IPython.core.display.Javascript object>"
      ]
     },
     "metadata": {},
     "output_type": "display_data"
    },
    {
     "name": "stdout",
     "output_type": "stream",
     "text": [
      "Successfully retrieved 2 - https://www.halfbakedharvest.com/fried-goat-cheese-balls/ with proxy 35.220.254.137:8080\n",
      "Proxy 181.114.61.17:8085 failed for https://www.halfbakedharvest.com/popular-holiday-appetizers-and-cocktails-mocktails/: HTTPSConnectionPool(host='www.halfbakedharvest.com', port=443): Max retries exceeded with url: /popular-holiday-appetizers-and-cocktails-mocktails/ (Caused by ProxyError('Unable to connect to proxy', ConnectTimeoutError(<urllib3.connection.HTTPSConnection object at 0x12001f310>, 'Connection to 181.114.61.17 timed out. (connect timeout=30)')))\n"
     ]
    },
    {
     "data": {
      "application/javascript": [
       "\n",
       "        if (window._pyforest_update_imports_cell) { window._pyforest_update_imports_cell('import re'); }\n",
       "    "
      ],
      "text/plain": [
       "<IPython.core.display.Javascript object>"
      ]
     },
     "metadata": {},
     "output_type": "display_data"
    },
    {
     "data": {
      "application/javascript": [
       "\n",
       "        if (window._pyforest_update_imports_cell) { window._pyforest_update_imports_cell('import re'); }\n",
       "    "
      ],
      "text/plain": [
       "<IPython.core.display.Javascript object>"
      ]
     },
     "metadata": {},
     "output_type": "display_data"
    },
    {
     "data": {
      "application/javascript": [
       "\n",
       "        if (window._pyforest_update_imports_cell) { window._pyforest_update_imports_cell('import re'); }\n",
       "    "
      ],
      "text/plain": [
       "<IPython.core.display.Javascript object>"
      ]
     },
     "metadata": {},
     "output_type": "display_data"
    },
    {
     "name": "stdout",
     "output_type": "stream",
     "text": [
      "Successfully retrieved 4 - https://www.halfbakedharvest.com/beef-tenderloin-crostini/ with proxy 35.220.254.137:8080\n",
      "Proxy 181.114.61.17:8085 failed for https://www.halfbakedharvest.com/the-50-most-popular-fall-recipes/: HTTPSConnectionPool(host='www.halfbakedharvest.com', port=443): Max retries exceeded with url: /the-50-most-popular-fall-recipes/ (Caused by ProxyError('Unable to connect to proxy', ConnectTimeoutError(<urllib3.connection.HTTPSConnection object at 0x1202ac430>, 'Connection to 181.114.61.17 timed out. (connect timeout=30)')))\n"
     ]
    },
    {
     "data": {
      "application/javascript": [
       "\n",
       "        if (window._pyforest_update_imports_cell) { window._pyforest_update_imports_cell('import re'); }\n",
       "    "
      ],
      "text/plain": [
       "<IPython.core.display.Javascript object>"
      ]
     },
     "metadata": {},
     "output_type": "display_data"
    },
    {
     "data": {
      "application/javascript": [
       "\n",
       "        if (window._pyforest_update_imports_cell) { window._pyforest_update_imports_cell('import re'); }\n",
       "    "
      ],
      "text/plain": [
       "<IPython.core.display.Javascript object>"
      ]
     },
     "metadata": {},
     "output_type": "display_data"
    },
    {
     "data": {
      "application/javascript": [
       "\n",
       "        if (window._pyforest_update_imports_cell) { window._pyforest_update_imports_cell('import re'); }\n",
       "    "
      ],
      "text/plain": [
       "<IPython.core.display.Javascript object>"
      ]
     },
     "metadata": {},
     "output_type": "display_data"
    },
    {
     "name": "stdout",
     "output_type": "stream",
     "text": [
      "Successfully retrieved 6 - https://www.halfbakedharvest.com/parmesan-buffalo-chicken-wings/ with proxy 35.220.254.137:8080\n",
      "Proxy 181.114.61.17:8085 failed for https://www.halfbakedharvest.com/mezze-platter/: HTTPSConnectionPool(host='www.halfbakedharvest.com', port=443): Max retries exceeded with url: /mezze-platter/ (Caused by ProxyError('Unable to connect to proxy', ConnectTimeoutError(<urllib3.connection.HTTPSConnection object at 0x12704b880>, 'Connection to 181.114.61.17 timed out. (connect timeout=30)')))\n"
     ]
    },
    {
     "data": {
      "application/javascript": [
       "\n",
       "        if (window._pyforest_update_imports_cell) { window._pyforest_update_imports_cell('import re'); }\n",
       "    "
      ],
      "text/plain": [
       "<IPython.core.display.Javascript object>"
      ]
     },
     "metadata": {},
     "output_type": "display_data"
    },
    {
     "data": {
      "application/javascript": [
       "\n",
       "        if (window._pyforest_update_imports_cell) { window._pyforest_update_imports_cell('import re'); }\n",
       "    "
      ],
      "text/plain": [
       "<IPython.core.display.Javascript object>"
      ]
     },
     "metadata": {},
     "output_type": "display_data"
    },
    {
     "data": {
      "application/javascript": [
       "\n",
       "        if (window._pyforest_update_imports_cell) { window._pyforest_update_imports_cell('import re'); }\n",
       "    "
      ],
      "text/plain": [
       "<IPython.core.display.Javascript object>"
      ]
     },
     "metadata": {},
     "output_type": "display_data"
    },
    {
     "name": "stdout",
     "output_type": "stream",
     "text": [
      "Successfully retrieved 8 - https://www.halfbakedharvest.com/jalapeno-cheddar-cornbread-biscuits/ with proxy 35.220.254.137:8080\n",
      "Proxy 181.114.61.17:8085 failed for https://www.halfbakedharvest.com/street-corn-dip-sliders/: HTTPSConnectionPool(host='www.halfbakedharvest.com', port=443): Max retries exceeded with url: /street-corn-dip-sliders/ (Caused by ProxyError('Unable to connect to proxy', ConnectTimeoutError(<urllib3.connection.HTTPSConnection object at 0x1272bcd90>, 'Connection to 181.114.61.17 timed out. (connect timeout=30)')))\n"
     ]
    },
    {
     "data": {
      "application/javascript": [
       "\n",
       "        if (window._pyforest_update_imports_cell) { window._pyforest_update_imports_cell('import re'); }\n",
       "    "
      ],
      "text/plain": [
       "<IPython.core.display.Javascript object>"
      ]
     },
     "metadata": {},
     "output_type": "display_data"
    },
    {
     "data": {
      "application/javascript": [
       "\n",
       "        if (window._pyforest_update_imports_cell) { window._pyforest_update_imports_cell('import re'); }\n",
       "    "
      ],
      "text/plain": [
       "<IPython.core.display.Javascript object>"
      ]
     },
     "metadata": {},
     "output_type": "display_data"
    },
    {
     "data": {
      "application/javascript": [
       "\n",
       "        if (window._pyforest_update_imports_cell) { window._pyforest_update_imports_cell('import re'); }\n",
       "    "
      ],
      "text/plain": [
       "<IPython.core.display.Javascript object>"
      ]
     },
     "metadata": {},
     "output_type": "display_data"
    },
    {
     "name": "stdout",
     "output_type": "stream",
     "text": [
      "Successfully retrieved 10 - https://www.halfbakedharvest.com/baked-artichokes/ with proxy 35.220.254.137:8080\n",
      "Proxy 181.114.61.17:8085 failed for https://www.halfbakedharvest.com/hot-honey-cauliflower/: HTTPSConnectionPool(host='www.halfbakedharvest.com', port=443): Max retries exceeded with url: /hot-honey-cauliflower/ (Caused by ProxyError('Unable to connect to proxy', ConnectTimeoutError(<urllib3.connection.HTTPSConnection object at 0x1274fbf40>, 'Connection to 181.114.61.17 timed out. (connect timeout=30)')))\n"
     ]
    },
    {
     "data": {
      "application/javascript": [
       "\n",
       "        if (window._pyforest_update_imports_cell) { window._pyforest_update_imports_cell('import re'); }\n",
       "    "
      ],
      "text/plain": [
       "<IPython.core.display.Javascript object>"
      ]
     },
     "metadata": {},
     "output_type": "display_data"
    },
    {
     "data": {
      "application/javascript": [
       "\n",
       "        if (window._pyforest_update_imports_cell) { window._pyforest_update_imports_cell('import re'); }\n",
       "    "
      ],
      "text/plain": [
       "<IPython.core.display.Javascript object>"
      ]
     },
     "metadata": {},
     "output_type": "display_data"
    },
    {
     "data": {
      "application/javascript": [
       "\n",
       "        if (window._pyforest_update_imports_cell) { window._pyforest_update_imports_cell('import re'); }\n",
       "    "
      ],
      "text/plain": [
       "<IPython.core.display.Javascript object>"
      ]
     },
     "metadata": {},
     "output_type": "display_data"
    },
    {
     "name": "stdout",
     "output_type": "stream",
     "text": [
      "Successfully retrieved 12 - https://www.halfbakedharvest.com/chicken-enchilada-bean-dip/ with proxy 35.220.254.137:8080\n",
      "Proxy 181.114.61.17:8085 failed for https://www.halfbakedharvest.com/everything-ranch-crackers-and-pretzels/: HTTPSConnectionPool(host='www.halfbakedharvest.com', port=443): Max retries exceeded with url: /everything-ranch-crackers-and-pretzels/ (Caused by ProxyError('Unable to connect to proxy', ConnectTimeoutError(<urllib3.connection.HTTPSConnection object at 0x127763370>, 'Connection to 181.114.61.17 timed out. (connect timeout=30)')))\n"
     ]
    },
    {
     "data": {
      "application/javascript": [
       "\n",
       "        if (window._pyforest_update_imports_cell) { window._pyforest_update_imports_cell('import re'); }\n",
       "    "
      ],
      "text/plain": [
       "<IPython.core.display.Javascript object>"
      ]
     },
     "metadata": {},
     "output_type": "display_data"
    },
    {
     "data": {
      "application/javascript": [
       "\n",
       "        if (window._pyforest_update_imports_cell) { window._pyforest_update_imports_cell('import re'); }\n",
       "    "
      ],
      "text/plain": [
       "<IPython.core.display.Javascript object>"
      ]
     },
     "metadata": {},
     "output_type": "display_data"
    },
    {
     "data": {
      "application/javascript": [
       "\n",
       "        if (window._pyforest_update_imports_cell) { window._pyforest_update_imports_cell('import re'); }\n",
       "    "
      ],
      "text/plain": [
       "<IPython.core.display.Javascript object>"
      ]
     },
     "metadata": {},
     "output_type": "display_data"
    },
    {
     "name": "stdout",
     "output_type": "stream",
     "text": [
      "Successfully retrieved 14 - https://www.halfbakedharvest.com/bacon-wrapped-cheddar-corn-jalapeno-poppers/ with proxy 35.220.254.137:8080\n",
      "Proxy 181.114.61.17:8085 failed for https://www.halfbakedharvest.com/roasted-tomato-cheddar-tart/: HTTPSConnectionPool(host='www.halfbakedharvest.com', port=443): Max retries exceeded with url: /roasted-tomato-cheddar-tart/ (Caused by ProxyError('Unable to connect to proxy', ConnectTimeoutError(<urllib3.connection.HTTPSConnection object at 0x1279ccbe0>, 'Connection to 181.114.61.17 timed out. (connect timeout=30)')))\n"
     ]
    },
    {
     "data": {
      "application/javascript": [
       "\n",
       "        if (window._pyforest_update_imports_cell) { window._pyforest_update_imports_cell('import re'); }\n",
       "    "
      ],
      "text/plain": [
       "<IPython.core.display.Javascript object>"
      ]
     },
     "metadata": {},
     "output_type": "display_data"
    },
    {
     "data": {
      "application/javascript": [
       "\n",
       "        if (window._pyforest_update_imports_cell) { window._pyforest_update_imports_cell('import re'); }\n",
       "    "
      ],
      "text/plain": [
       "<IPython.core.display.Javascript object>"
      ]
     },
     "metadata": {},
     "output_type": "display_data"
    },
    {
     "data": {
      "application/javascript": [
       "\n",
       "        if (window._pyforest_update_imports_cell) { window._pyforest_update_imports_cell('import re'); }\n",
       "    "
      ],
      "text/plain": [
       "<IPython.core.display.Javascript object>"
      ]
     },
     "metadata": {},
     "output_type": "display_data"
    },
    {
     "name": "stdout",
     "output_type": "stream",
     "text": [
      "Successfully retrieved 16 - https://www.halfbakedharvest.com/mac-and-cheese-stuffed-oven-fried-zucchini-bites/ with proxy 35.220.254.137:8080\n",
      "Proxy 181.114.61.17:8085 failed for https://www.halfbakedharvest.com/crispy-bbq-beer-battered-cauliflower-nuggets/: HTTPSConnectionPool(host='www.halfbakedharvest.com', port=443): Max retries exceeded with url: /crispy-bbq-beer-battered-cauliflower-nuggets/ (Caused by ProxyError('Unable to connect to proxy', ConnectTimeoutError(<urllib3.connection.HTTPSConnection object at 0x127bcbb20>, 'Connection to 181.114.61.17 timed out. (connect timeout=30)')))\n"
     ]
    },
    {
     "data": {
      "application/javascript": [
       "\n",
       "        if (window._pyforest_update_imports_cell) { window._pyforest_update_imports_cell('import re'); }\n",
       "    "
      ],
      "text/plain": [
       "<IPython.core.display.Javascript object>"
      ]
     },
     "metadata": {},
     "output_type": "display_data"
    },
    {
     "data": {
      "application/javascript": [
       "\n",
       "        if (window._pyforest_update_imports_cell) { window._pyforest_update_imports_cell('import re'); }\n",
       "    "
      ],
      "text/plain": [
       "<IPython.core.display.Javascript object>"
      ]
     },
     "metadata": {},
     "output_type": "display_data"
    },
    {
     "data": {
      "application/javascript": [
       "\n",
       "        if (window._pyforest_update_imports_cell) { window._pyforest_update_imports_cell('import re'); }\n",
       "    "
      ],
      "text/plain": [
       "<IPython.core.display.Javascript object>"
      ]
     },
     "metadata": {},
     "output_type": "display_data"
    },
    {
     "name": "stdout",
     "output_type": "stream",
     "text": [
      "Successfully retrieved 18 - https://www.halfbakedharvest.com/pan-fried-brie/ with proxy 35.220.254.137:8080\n",
      "Proxy 181.114.61.17:8085 failed for https://www.halfbakedharvest.com/crispy-chicken-tinga-taquitos/: HTTPSConnectionPool(host='www.halfbakedharvest.com', port=443): Max retries exceeded with url: /crispy-chicken-tinga-taquitos/ (Caused by ProxyError('Unable to connect to proxy', ConnectTimeoutError(<urllib3.connection.HTTPSConnection object at 0x1272a6280>, 'Connection to 181.114.61.17 timed out. (connect timeout=30)')))\n"
     ]
    },
    {
     "data": {
      "application/javascript": [
       "\n",
       "        if (window._pyforest_update_imports_cell) { window._pyforest_update_imports_cell('import re'); }\n",
       "    "
      ],
      "text/plain": [
       "<IPython.core.display.Javascript object>"
      ]
     },
     "metadata": {},
     "output_type": "display_data"
    },
    {
     "data": {
      "application/javascript": [
       "\n",
       "        if (window._pyforest_update_imports_cell) { window._pyforest_update_imports_cell('import re'); }\n",
       "    "
      ],
      "text/plain": [
       "<IPython.core.display.Javascript object>"
      ]
     },
     "metadata": {},
     "output_type": "display_data"
    },
    {
     "data": {
      "application/javascript": [
       "\n",
       "        if (window._pyforest_update_imports_cell) { window._pyforest_update_imports_cell('import re'); }\n",
       "    "
      ],
      "text/plain": [
       "<IPython.core.display.Javascript object>"
      ]
     },
     "metadata": {},
     "output_type": "display_data"
    },
    {
     "name": "stdout",
     "output_type": "stream",
     "text": [
      "Successfully retrieved 20 - https://www.halfbakedharvest.com/honey-mustard-pretzel-chicken-fingers/ with proxy 35.220.254.137:8080\n",
      "Proxy 181.114.61.17:8085 failed for https://www.halfbakedharvest.com/tuscan-fries/: HTTPSConnectionPool(host='www.halfbakedharvest.com', port=443): Max retries exceeded with url: /tuscan-fries/ (Caused by ProxyError('Unable to connect to proxy', ConnectTimeoutError(<urllib3.connection.HTTPSConnection object at 0x1279546d0>, 'Connection to 181.114.61.17 timed out. (connect timeout=30)')))\n"
     ]
    },
    {
     "data": {
      "application/javascript": [
       "\n",
       "        if (window._pyforest_update_imports_cell) { window._pyforest_update_imports_cell('import re'); }\n",
       "    "
      ],
      "text/plain": [
       "<IPython.core.display.Javascript object>"
      ]
     },
     "metadata": {},
     "output_type": "display_data"
    },
    {
     "data": {
      "application/javascript": [
       "\n",
       "        if (window._pyforest_update_imports_cell) { window._pyforest_update_imports_cell('import re'); }\n",
       "    "
      ],
      "text/plain": [
       "<IPython.core.display.Javascript object>"
      ]
     },
     "metadata": {},
     "output_type": "display_data"
    },
    {
     "data": {
      "application/javascript": [
       "\n",
       "        if (window._pyforest_update_imports_cell) { window._pyforest_update_imports_cell('import re'); }\n",
       "    "
      ],
      "text/plain": [
       "<IPython.core.display.Javascript object>"
      ]
     },
     "metadata": {},
     "output_type": "display_data"
    },
    {
     "name": "stdout",
     "output_type": "stream",
     "text": [
      "Successfully retrieved 22 - https://www.halfbakedharvest.com/garlic-butter-scallops/ with proxy 35.220.254.137:8080\n",
      "Proxy 181.114.61.17:8085 failed for https://www.halfbakedharvest.com/whipped-ricotta-toast/: HTTPSConnectionPool(host='www.halfbakedharvest.com', port=443): Max retries exceeded with url: /whipped-ricotta-toast/ (Caused by ProxyError('Unable to connect to proxy', ConnectTimeoutError(<urllib3.connection.HTTPSConnection object at 0x127856e20>, 'Connection to 181.114.61.17 timed out. (connect timeout=30)')))\n"
     ]
    },
    {
     "data": {
      "application/javascript": [
       "\n",
       "        if (window._pyforest_update_imports_cell) { window._pyforest_update_imports_cell('import re'); }\n",
       "    "
      ],
      "text/plain": [
       "<IPython.core.display.Javascript object>"
      ]
     },
     "metadata": {},
     "output_type": "display_data"
    },
    {
     "data": {
      "application/javascript": [
       "\n",
       "        if (window._pyforest_update_imports_cell) { window._pyforest_update_imports_cell('import re'); }\n",
       "    "
      ],
      "text/plain": [
       "<IPython.core.display.Javascript object>"
      ]
     },
     "metadata": {},
     "output_type": "display_data"
    },
    {
     "data": {
      "application/javascript": [
       "\n",
       "        if (window._pyforest_update_imports_cell) { window._pyforest_update_imports_cell('import re'); }\n",
       "    "
      ],
      "text/plain": [
       "<IPython.core.display.Javascript object>"
      ]
     },
     "metadata": {},
     "output_type": "display_data"
    },
    {
     "name": "stdout",
     "output_type": "stream",
     "text": [
      "Successfully retrieved 24 - https://www.halfbakedharvest.com/burrata-with-lemon-pepper-salami-bites/ with proxy 35.220.254.137:8080\n",
      "Proxy 181.114.61.17:8085 failed for https://www.halfbakedharvest.com/baked-brie-and-prosciutto-rolls/: HTTPSConnectionPool(host='www.halfbakedharvest.com', port=443): Max retries exceeded with url: /baked-brie-and-prosciutto-rolls/ (Caused by ProxyError('Unable to connect to proxy', ConnectTimeoutError(<urllib3.connection.HTTPSConnection object at 0x1276d91c0>, 'Connection to 181.114.61.17 timed out. (connect timeout=30)')))\n"
     ]
    },
    {
     "data": {
      "application/javascript": [
       "\n",
       "        if (window._pyforest_update_imports_cell) { window._pyforest_update_imports_cell('import re'); }\n",
       "    "
      ],
      "text/plain": [
       "<IPython.core.display.Javascript object>"
      ]
     },
     "metadata": {},
     "output_type": "display_data"
    },
    {
     "data": {
      "application/javascript": [
       "\n",
       "        if (window._pyforest_update_imports_cell) { window._pyforest_update_imports_cell('import re'); }\n",
       "    "
      ],
      "text/plain": [
       "<IPython.core.display.Javascript object>"
      ]
     },
     "metadata": {},
     "output_type": "display_data"
    },
    {
     "data": {
      "application/javascript": [
       "\n",
       "        if (window._pyforest_update_imports_cell) { window._pyforest_update_imports_cell('import re'); }\n",
       "    "
      ],
      "text/plain": [
       "<IPython.core.display.Javascript object>"
      ]
     },
     "metadata": {},
     "output_type": "display_data"
    },
    {
     "name": "stdout",
     "output_type": "stream",
     "text": [
      "Successfully retrieved 26 - https://www.halfbakedharvest.com/sweet-n-savory-roasted-nuts-and-pretzels/ with proxy 35.220.254.137:8080\n",
      "Proxy 181.114.61.17:8085 failed for https://www.halfbakedharvest.com/honey-butter-roasted-acorn-with-burrata-and-pomegranate/: HTTPSConnectionPool(host='www.halfbakedharvest.com', port=443): Max retries exceeded with url: /honey-butter-roasted-acorn-with-burrata-and-pomegranate/ (Caused by ProxyError('Unable to connect to proxy', ConnectTimeoutError(<urllib3.connection.HTTPSConnection object at 0x12716b520>, 'Connection to 181.114.61.17 timed out. (connect timeout=30)')))\n"
     ]
    },
    {
     "data": {
      "application/javascript": [
       "\n",
       "        if (window._pyforest_update_imports_cell) { window._pyforest_update_imports_cell('import re'); }\n",
       "    "
      ],
      "text/plain": [
       "<IPython.core.display.Javascript object>"
      ]
     },
     "metadata": {},
     "output_type": "display_data"
    },
    {
     "data": {
      "application/javascript": [
       "\n",
       "        if (window._pyforest_update_imports_cell) { window._pyforest_update_imports_cell('import re'); }\n",
       "    "
      ],
      "text/plain": [
       "<IPython.core.display.Javascript object>"
      ]
     },
     "metadata": {},
     "output_type": "display_data"
    },
    {
     "data": {
      "application/javascript": [
       "\n",
       "        if (window._pyforest_update_imports_cell) { window._pyforest_update_imports_cell('import re'); }\n",
       "    "
      ],
      "text/plain": [
       "<IPython.core.display.Javascript object>"
      ]
     },
     "metadata": {},
     "output_type": "display_data"
    },
    {
     "name": "stdout",
     "output_type": "stream",
     "text": [
      "Successfully retrieved 28 - https://www.halfbakedharvest.com/opened-faced-tomato-and-goat-cheese-sandwich-with-hot-bacon-vinaigrette/ with proxy 35.220.254.137:8080\n"
     ]
    },
    {
     "data": {
      "application/javascript": [
       "\n",
       "        if (window._pyforest_update_imports_cell) { window._pyforest_update_imports_cell('import re'); }\n",
       "    "
      ],
      "text/plain": [
       "<IPython.core.display.Javascript object>"
      ]
     },
     "metadata": {},
     "output_type": "display_data"
    },
    {
     "data": {
      "application/javascript": [
       "\n",
       "        if (window._pyforest_update_imports_cell) { window._pyforest_update_imports_cell('import re'); }\n",
       "    "
      ],
      "text/plain": [
       "<IPython.core.display.Javascript object>"
      ]
     },
     "metadata": {},
     "output_type": "display_data"
    },
    {
     "name": "stdout",
     "output_type": "stream",
     "text": [
      "Successfully retrieved 29 - https://www.halfbakedharvest.com/10-minute-garden-herb-avocado-dip/ with proxy 181.114.61.17:8085\n"
     ]
    },
    {
     "data": {
      "application/javascript": [
       "\n",
       "        if (window._pyforest_update_imports_cell) { window._pyforest_update_imports_cell('import re'); }\n",
       "    "
      ],
      "text/plain": [
       "<IPython.core.display.Javascript object>"
      ]
     },
     "metadata": {},
     "output_type": "display_data"
    },
    {
     "data": {
      "application/javascript": [
       "\n",
       "        if (window._pyforest_update_imports_cell) { window._pyforest_update_imports_cell('import re'); }\n",
       "    "
      ],
      "text/plain": [
       "<IPython.core.display.Javascript object>"
      ]
     },
     "metadata": {},
     "output_type": "display_data"
    },
    {
     "data": {
      "application/javascript": [
       "\n",
       "        if (window._pyforest_update_imports_cell) { window._pyforest_update_imports_cell('import re'); }\n",
       "    "
      ],
      "text/plain": [
       "<IPython.core.display.Javascript object>"
      ]
     },
     "metadata": {},
     "output_type": "display_data"
    },
    {
     "name": "stdout",
     "output_type": "stream",
     "text": [
      "Successfully retrieved 30 - https://www.halfbakedharvest.com/tuscan-summer-stone-fruit-tomato-and-burrata-panzanella-salad/ with proxy 35.220.254.137:8080\n",
      "Proxy 181.114.61.17:8085 failed for https://www.halfbakedharvest.com/caprese-burrata-garlic-bread/: HTTPSConnectionPool(host='www.halfbakedharvest.com', port=443): Max retries exceeded with url: /caprese-burrata-garlic-bread/ (Caused by ProxyError('Unable to connect to proxy', ConnectTimeoutError(<urllib3.connection.HTTPSConnection object at 0x1271f1100>, 'Connection to 181.114.61.17 timed out. (connect timeout=30)')))\n"
     ]
    },
    {
     "data": {
      "application/javascript": [
       "\n",
       "        if (window._pyforest_update_imports_cell) { window._pyforest_update_imports_cell('import re'); }\n",
       "    "
      ],
      "text/plain": [
       "<IPython.core.display.Javascript object>"
      ]
     },
     "metadata": {},
     "output_type": "display_data"
    },
    {
     "data": {
      "application/javascript": [
       "\n",
       "        if (window._pyforest_update_imports_cell) { window._pyforest_update_imports_cell('import re'); }\n",
       "    "
      ],
      "text/plain": [
       "<IPython.core.display.Javascript object>"
      ]
     },
     "metadata": {},
     "output_type": "display_data"
    },
    {
     "data": {
      "application/javascript": [
       "\n",
       "        if (window._pyforest_update_imports_cell) { window._pyforest_update_imports_cell('import re'); }\n",
       "    "
      ],
      "text/plain": [
       "<IPython.core.display.Javascript object>"
      ]
     },
     "metadata": {},
     "output_type": "display_data"
    },
    {
     "name": "stdout",
     "output_type": "stream",
     "text": [
      "Successfully retrieved 32 - https://www.halfbakedharvest.com/honey-raspberry-brie-crostini-with-basil-oil/ with proxy 35.220.254.137:8080\n",
      "Proxy 181.114.61.17:8085 failed for https://www.halfbakedharvest.com/baked-thai-coconut-shrimp-with-lemongrass-guacamole/: HTTPSConnectionPool(host='www.halfbakedharvest.com', port=443): Max retries exceeded with url: /baked-thai-coconut-shrimp-with-lemongrass-guacamole/ (Caused by ProxyError('Unable to connect to proxy', ConnectTimeoutError(<urllib3.connection.HTTPSConnection object at 0x1271735e0>, 'Connection to 181.114.61.17 timed out. (connect timeout=30)')))\n"
     ]
    },
    {
     "data": {
      "application/javascript": [
       "\n",
       "        if (window._pyforest_update_imports_cell) { window._pyforest_update_imports_cell('import re'); }\n",
       "    "
      ],
      "text/plain": [
       "<IPython.core.display.Javascript object>"
      ]
     },
     "metadata": {},
     "output_type": "display_data"
    },
    {
     "data": {
      "application/javascript": [
       "\n",
       "        if (window._pyforest_update_imports_cell) { window._pyforest_update_imports_cell('import re'); }\n",
       "    "
      ],
      "text/plain": [
       "<IPython.core.display.Javascript object>"
      ]
     },
     "metadata": {},
     "output_type": "display_data"
    },
    {
     "data": {
      "application/javascript": [
       "\n",
       "        if (window._pyforest_update_imports_cell) { window._pyforest_update_imports_cell('import re'); }\n",
       "    "
      ],
      "text/plain": [
       "<IPython.core.display.Javascript object>"
      ]
     },
     "metadata": {},
     "output_type": "display_data"
    },
    {
     "name": "stdout",
     "output_type": "stream",
     "text": [
      "Successfully retrieved 34 - https://www.halfbakedharvest.com/roasted-red-pepper-meze-platter/ with proxy 35.220.254.137:8080\n"
     ]
    },
    {
     "data": {
      "application/javascript": [
       "\n",
       "        if (window._pyforest_update_imports_cell) { window._pyforest_update_imports_cell('import re'); }\n",
       "    "
      ],
      "text/plain": [
       "<IPython.core.display.Javascript object>"
      ]
     },
     "metadata": {},
     "output_type": "display_data"
    },
    {
     "data": {
      "application/javascript": [
       "\n",
       "        if (window._pyforest_update_imports_cell) { window._pyforest_update_imports_cell('import re'); }\n",
       "    "
      ],
      "text/plain": [
       "<IPython.core.display.Javascript object>"
      ]
     },
     "metadata": {},
     "output_type": "display_data"
    },
    {
     "data": {
      "application/javascript": [
       "\n",
       "        if (window._pyforest_update_imports_cell) { window._pyforest_update_imports_cell('import re'); }\n",
       "    "
      ],
      "text/plain": [
       "<IPython.core.display.Javascript object>"
      ]
     },
     "metadata": {},
     "output_type": "display_data"
    },
    {
     "name": "stdout",
     "output_type": "stream",
     "text": [
      "Successfully retrieved 35 - https://www.halfbakedharvest.com/black-bean-turkey-nachos-with-jalapeno-yogurt/ with proxy 181.114.61.17:8085\n"
     ]
    },
    {
     "data": {
      "application/javascript": [
       "\n",
       "        if (window._pyforest_update_imports_cell) { window._pyforest_update_imports_cell('import re'); }\n",
       "    "
      ],
      "text/plain": [
       "<IPython.core.display.Javascript object>"
      ]
     },
     "metadata": {},
     "output_type": "display_data"
    },
    {
     "data": {
      "application/javascript": [
       "\n",
       "        if (window._pyforest_update_imports_cell) { window._pyforest_update_imports_cell('import re'); }\n",
       "    "
      ],
      "text/plain": [
       "<IPython.core.display.Javascript object>"
      ]
     },
     "metadata": {},
     "output_type": "display_data"
    },
    {
     "data": {
      "application/javascript": [
       "\n",
       "        if (window._pyforest_update_imports_cell) { window._pyforest_update_imports_cell('import re'); }\n",
       "    "
      ],
      "text/plain": [
       "<IPython.core.display.Javascript object>"
      ]
     },
     "metadata": {},
     "output_type": "display_data"
    },
    {
     "name": "stdout",
     "output_type": "stream",
     "text": [
      "Successfully retrieved 36 - https://www.halfbakedharvest.com/3-ingredient-cheesy-pizza-pretzels/ with proxy 35.220.254.137:8080\n",
      "Proxy 181.114.61.17:8085 failed for https://www.halfbakedharvest.com/cranberry-brie-pull-apart-bread/: HTTPSConnectionPool(host='www.halfbakedharvest.com', port=443): Max retries exceeded with url: /cranberry-brie-pull-apart-bread/ (Caused by ProxyError('Unable to connect to proxy', ConnectTimeoutError(<urllib3.connection.HTTPSConnection object at 0x1277257f0>, 'Connection to 181.114.61.17 timed out. (connect timeout=30)')))\n",
      "Successfully retrieved 38 - https://www.halfbakedharvest.com/7-easy-fall-dinners/ with proxy 35.220.254.137:8080\n",
      "Proxy 181.114.61.17:8085 failed for https://www.halfbakedharvest.com/skinny-cajun-sweet-potato-fries-with-garlic-cheese-sauce/: ('Connection aborted.', ConnectionResetError(54, 'Connection reset by peer'))\n"
     ]
    },
    {
     "data": {
      "application/javascript": [
       "\n",
       "        if (window._pyforest_update_imports_cell) { window._pyforest_update_imports_cell('import re'); }\n",
       "    "
      ],
      "text/plain": [
       "<IPython.core.display.Javascript object>"
      ]
     },
     "metadata": {},
     "output_type": "display_data"
    },
    {
     "data": {
      "application/javascript": [
       "\n",
       "        if (window._pyforest_update_imports_cell) { window._pyforest_update_imports_cell('import re'); }\n",
       "    "
      ],
      "text/plain": [
       "<IPython.core.display.Javascript object>"
      ]
     },
     "metadata": {},
     "output_type": "display_data"
    },
    {
     "data": {
      "application/javascript": [
       "\n",
       "        if (window._pyforest_update_imports_cell) { window._pyforest_update_imports_cell('import re'); }\n",
       "    "
      ],
      "text/plain": [
       "<IPython.core.display.Javascript object>"
      ]
     },
     "metadata": {},
     "output_type": "display_data"
    },
    {
     "name": "stdout",
     "output_type": "stream",
     "text": [
      "Successfully retrieved 40 - https://www.halfbakedharvest.com/sweet-chili-butter-grilled-lobster-fries-havarti-cheese/ with proxy 35.220.254.137:8080\n",
      "Proxy 181.114.61.17:8085 failed for https://www.halfbakedharvest.com/bacon-wrapped-parmesan-broccoli-rabe/: HTTPSConnectionPool(host='www.halfbakedharvest.com', port=443): Max retries exceeded with url: /bacon-wrapped-parmesan-broccoli-rabe/ (Caused by ProxyError('Unable to connect to proxy', ConnectTimeoutError(<urllib3.connection.HTTPSConnection object at 0x127c6b580>, 'Connection to 181.114.61.17 timed out. (connect timeout=30)')))\n",
      "Successfully retrieved 42 - https://www.halfbakedharvest.com/summer-crostini-6-ways/ with proxy 35.220.254.137:8080\n",
      "Proxy 181.114.61.17:8085 failed for https://www.halfbakedharvest.com/southwest-bbq-pork-sliders/: HTTPSConnectionPool(host='www.halfbakedharvest.com', port=443): Max retries exceeded with url: /southwest-bbq-pork-sliders/ (Caused by ProxyError('Unable to connect to proxy', ConnectTimeoutError(<urllib3.connection.HTTPSConnection object at 0x127a59dc0>, 'Connection to 181.114.61.17 timed out. (connect timeout=30)')))\n"
     ]
    },
    {
     "data": {
      "application/javascript": [
       "\n",
       "        if (window._pyforest_update_imports_cell) { window._pyforest_update_imports_cell('import re'); }\n",
       "    "
      ],
      "text/plain": [
       "<IPython.core.display.Javascript object>"
      ]
     },
     "metadata": {},
     "output_type": "display_data"
    },
    {
     "data": {
      "application/javascript": [
       "\n",
       "        if (window._pyforest_update_imports_cell) { window._pyforest_update_imports_cell('import re'); }\n",
       "    "
      ],
      "text/plain": [
       "<IPython.core.display.Javascript object>"
      ]
     },
     "metadata": {},
     "output_type": "display_data"
    },
    {
     "data": {
      "application/javascript": [
       "\n",
       "        if (window._pyforest_update_imports_cell) { window._pyforest_update_imports_cell('import re'); }\n",
       "    "
      ],
      "text/plain": [
       "<IPython.core.display.Javascript object>"
      ]
     },
     "metadata": {},
     "output_type": "display_data"
    },
    {
     "data": {
      "application/javascript": [
       "\n",
       "        if (window._pyforest_update_imports_cell) { window._pyforest_update_imports_cell('import re'); }\n",
       "    "
      ],
      "text/plain": [
       "<IPython.core.display.Javascript object>"
      ]
     },
     "metadata": {},
     "output_type": "display_data"
    },
    {
     "name": "stdout",
     "output_type": "stream",
     "text": [
      "Successfully retrieved 44 - https://www.halfbakedharvest.com/mediterranean-antipasto-platter/ with proxy 35.220.254.137:8080\n",
      "Proxy 181.114.61.17:8085 failed for https://www.halfbakedharvest.com/mexican-carnitas-bar/: HTTPSConnectionPool(host='www.halfbakedharvest.com', port=443): Max retries exceeded with url: /mexican-carnitas-bar/ (Caused by ProxyError('Unable to connect to proxy', ConnectTimeoutError(<urllib3.connection.HTTPSConnection object at 0x1205d8c70>, 'Connection to 181.114.61.17 timed out. (connect timeout=30)')))\n"
     ]
    },
    {
     "data": {
      "application/javascript": [
       "\n",
       "        if (window._pyforest_update_imports_cell) { window._pyforest_update_imports_cell('import re'); }\n",
       "    "
      ],
      "text/plain": [
       "<IPython.core.display.Javascript object>"
      ]
     },
     "metadata": {},
     "output_type": "display_data"
    },
    {
     "data": {
      "application/javascript": [
       "\n",
       "        if (window._pyforest_update_imports_cell) { window._pyforest_update_imports_cell('import re'); }\n",
       "    "
      ],
      "text/plain": [
       "<IPython.core.display.Javascript object>"
      ]
     },
     "metadata": {},
     "output_type": "display_data"
    },
    {
     "data": {
      "application/javascript": [
       "\n",
       "        if (window._pyforest_update_imports_cell) { window._pyforest_update_imports_cell('import re'); }\n",
       "    "
      ],
      "text/plain": [
       "<IPython.core.display.Javascript object>"
      ]
     },
     "metadata": {},
     "output_type": "display_data"
    },
    {
     "name": "stdout",
     "output_type": "stream",
     "text": [
      "Successfully retrieved 46 - https://www.halfbakedharvest.com/artichoke-ricotta-flatbread/ with proxy 35.220.254.137:8080\n",
      "Proxy 181.114.61.17:8085 failed for https://www.halfbakedharvest.com/salmon-fajita-salad-boats/: HTTPSConnectionPool(host='www.halfbakedharvest.com', port=443): Max retries exceeded with url: /salmon-fajita-salad-boats/ (Caused by ProxyError('Unable to connect to proxy', ConnectTimeoutError(<urllib3.connection.HTTPSConnection object at 0x117e0c9a0>, 'Connection to 181.114.61.17 timed out. (connect timeout=30)')))\n"
     ]
    },
    {
     "data": {
      "application/javascript": [
       "\n",
       "        if (window._pyforest_update_imports_cell) { window._pyforest_update_imports_cell('import re'); }\n",
       "    "
      ],
      "text/plain": [
       "<IPython.core.display.Javascript object>"
      ]
     },
     "metadata": {},
     "output_type": "display_data"
    },
    {
     "data": {
      "application/javascript": [
       "\n",
       "        if (window._pyforest_update_imports_cell) { window._pyforest_update_imports_cell('import re'); }\n",
       "    "
      ],
      "text/plain": [
       "<IPython.core.display.Javascript object>"
      ]
     },
     "metadata": {},
     "output_type": "display_data"
    },
    {
     "data": {
      "application/javascript": [
       "\n",
       "        if (window._pyforest_update_imports_cell) { window._pyforest_update_imports_cell('import re'); }\n",
       "    "
      ],
      "text/plain": [
       "<IPython.core.display.Javascript object>"
      ]
     },
     "metadata": {},
     "output_type": "display_data"
    },
    {
     "name": "stdout",
     "output_type": "stream",
     "text": [
      "Successfully retrieved 48 - https://www.halfbakedharvest.com/margherita-pizza-dip-burrata/ with proxy 35.220.254.137:8080\n",
      "Proxy 181.114.61.17:8085 failed for https://www.halfbakedharvest.com/queso-fundido-alla-tequila/: HTTPSConnectionPool(host='www.halfbakedharvest.com', port=443): Max retries exceeded with url: /queso-fundido-alla-tequila/ (Caused by ProxyError('Unable to connect to proxy', ConnectTimeoutError(<urllib3.connection.HTTPSConnection object at 0x127c35370>, 'Connection to 181.114.61.17 timed out. (connect timeout=30)')))\n"
     ]
    },
    {
     "data": {
      "application/javascript": [
       "\n",
       "        if (window._pyforest_update_imports_cell) { window._pyforest_update_imports_cell('import re'); }\n",
       "    "
      ],
      "text/plain": [
       "<IPython.core.display.Javascript object>"
      ]
     },
     "metadata": {},
     "output_type": "display_data"
    },
    {
     "data": {
      "application/javascript": [
       "\n",
       "        if (window._pyforest_update_imports_cell) { window._pyforest_update_imports_cell('import re'); }\n",
       "    "
      ],
      "text/plain": [
       "<IPython.core.display.Javascript object>"
      ]
     },
     "metadata": {},
     "output_type": "display_data"
    },
    {
     "data": {
      "application/javascript": [
       "\n",
       "        if (window._pyforest_update_imports_cell) { window._pyforest_update_imports_cell('import re'); }\n",
       "    "
      ],
      "text/plain": [
       "<IPython.core.display.Javascript object>"
      ]
     },
     "metadata": {},
     "output_type": "display_data"
    },
    {
     "name": "stdout",
     "output_type": "stream",
     "text": [
      "Successfully retrieved 50 - https://www.halfbakedharvest.com/the-big-holiday-hummus-board-with-roasted-root-veggie-chips/ with proxy 35.220.254.137:8080\n"
     ]
    },
    {
     "data": {
      "application/javascript": [
       "\n",
       "        if (window._pyforest_update_imports_cell) { window._pyforest_update_imports_cell('import re'); }\n",
       "    "
      ],
      "text/plain": [
       "<IPython.core.display.Javascript object>"
      ]
     },
     "metadata": {},
     "output_type": "display_data"
    },
    {
     "data": {
      "application/javascript": [
       "\n",
       "        if (window._pyforest_update_imports_cell) { window._pyforest_update_imports_cell('import re'); }\n",
       "    "
      ],
      "text/plain": [
       "<IPython.core.display.Javascript object>"
      ]
     },
     "metadata": {},
     "output_type": "display_data"
    },
    {
     "data": {
      "application/javascript": [
       "\n",
       "        if (window._pyforest_update_imports_cell) { window._pyforest_update_imports_cell('import re'); }\n",
       "    "
      ],
      "text/plain": [
       "<IPython.core.display.Javascript object>"
      ]
     },
     "metadata": {},
     "output_type": "display_data"
    },
    {
     "name": "stdout",
     "output_type": "stream",
     "text": [
      "Successfully retrieved 51 - https://www.halfbakedharvest.com/simple-baked-italian-oregano-meatballs/ with proxy 181.114.61.17:8085\n"
     ]
    },
    {
     "data": {
      "application/javascript": [
       "\n",
       "        if (window._pyforest_update_imports_cell) { window._pyforest_update_imports_cell('import re'); }\n",
       "    "
      ],
      "text/plain": [
       "<IPython.core.display.Javascript object>"
      ]
     },
     "metadata": {},
     "output_type": "display_data"
    },
    {
     "data": {
      "application/javascript": [
       "\n",
       "        if (window._pyforest_update_imports_cell) { window._pyforest_update_imports_cell('import re'); }\n",
       "    "
      ],
      "text/plain": [
       "<IPython.core.display.Javascript object>"
      ]
     },
     "metadata": {},
     "output_type": "display_data"
    },
    {
     "data": {
      "application/javascript": [
       "\n",
       "        if (window._pyforest_update_imports_cell) { window._pyforest_update_imports_cell('import re'); }\n",
       "    "
      ],
      "text/plain": [
       "<IPython.core.display.Javascript object>"
      ]
     },
     "metadata": {},
     "output_type": "display_data"
    },
    {
     "name": "stdout",
     "output_type": "stream",
     "text": [
      "Successfully retrieved 52 - https://www.halfbakedharvest.com/fall-harvest-peanut-picnic-a-family-hike/ with proxy 35.220.254.137:8080\n",
      "Proxy 181.114.61.17:8085 failed for https://www.halfbakedharvest.com/how-to-make-a-killer-summer-cheeseboard-with-pickled-strawberries-herb-roasted-cherry-tomatoes/: HTTPSConnectionPool(host='www.halfbakedharvest.com', port=443): Max retries exceeded with url: /how-to-make-a-killer-summer-cheeseboard-with-pickled-strawberries-herb-roasted-cherry-tomatoes/ (Caused by ProxyError('Unable to connect to proxy', ConnectTimeoutError(<urllib3.connection.HTTPSConnection object at 0x1270ddd60>, 'Connection to 181.114.61.17 timed out. (connect timeout=30)')))\n"
     ]
    },
    {
     "data": {
      "application/javascript": [
       "\n",
       "        if (window._pyforest_update_imports_cell) { window._pyforest_update_imports_cell('import re'); }\n",
       "    "
      ],
      "text/plain": [
       "<IPython.core.display.Javascript object>"
      ]
     },
     "metadata": {},
     "output_type": "display_data"
    },
    {
     "data": {
      "application/javascript": [
       "\n",
       "        if (window._pyforest_update_imports_cell) { window._pyforest_update_imports_cell('import re'); }\n",
       "    "
      ],
      "text/plain": [
       "<IPython.core.display.Javascript object>"
      ]
     },
     "metadata": {},
     "output_type": "display_data"
    },
    {
     "data": {
      "application/javascript": [
       "\n",
       "        if (window._pyforest_update_imports_cell) { window._pyforest_update_imports_cell('import re'); }\n",
       "    "
      ],
      "text/plain": [
       "<IPython.core.display.Javascript object>"
      ]
     },
     "metadata": {},
     "output_type": "display_data"
    },
    {
     "name": "stdout",
     "output_type": "stream",
     "text": [
      "Successfully retrieved 54 - https://www.halfbakedharvest.com/kentucky-hot-brown-sandwiches-jalapeno-cornbread-biscuits-honey-bourbon-bacon/ with proxy 35.220.254.137:8080\n",
      "Proxy 181.114.61.17:8085 failed for https://www.halfbakedharvest.com/authentic-canadian-poutine/: ('Connection aborted.', RemoteDisconnected('Remote end closed connection without response'))\n"
     ]
    },
    {
     "data": {
      "application/javascript": [
       "\n",
       "        if (window._pyforest_update_imports_cell) { window._pyforest_update_imports_cell('import re'); }\n",
       "    "
      ],
      "text/plain": [
       "<IPython.core.display.Javascript object>"
      ]
     },
     "metadata": {},
     "output_type": "display_data"
    },
    {
     "data": {
      "application/javascript": [
       "\n",
       "        if (window._pyforest_update_imports_cell) { window._pyforest_update_imports_cell('import re'); }\n",
       "    "
      ],
      "text/plain": [
       "<IPython.core.display.Javascript object>"
      ]
     },
     "metadata": {},
     "output_type": "display_data"
    },
    {
     "data": {
      "application/javascript": [
       "\n",
       "        if (window._pyforest_update_imports_cell) { window._pyforest_update_imports_cell('import re'); }\n",
       "    "
      ],
      "text/plain": [
       "<IPython.core.display.Javascript object>"
      ]
     },
     "metadata": {},
     "output_type": "display_data"
    },
    {
     "data": {
      "application/javascript": [
       "\n",
       "        if (window._pyforest_update_imports_cell) { window._pyforest_update_imports_cell('import re'); }\n",
       "    "
      ],
      "text/plain": [
       "<IPython.core.display.Javascript object>"
      ]
     },
     "metadata": {},
     "output_type": "display_data"
    },
    {
     "name": "stdout",
     "output_type": "stream",
     "text": [
      "Successfully retrieved 56 - https://www.halfbakedharvest.com/thai-peanut-chicken-wings-fiery-pineapple-jalapeno-salsa/ with proxy 35.220.254.137:8080\n"
     ]
    },
    {
     "data": {
      "application/javascript": [
       "\n",
       "        if (window._pyforest_update_imports_cell) { window._pyforest_update_imports_cell('import re'); }\n",
       "    "
      ],
      "text/plain": [
       "<IPython.core.display.Javascript object>"
      ]
     },
     "metadata": {},
     "output_type": "display_data"
    },
    {
     "data": {
      "application/javascript": [
       "\n",
       "        if (window._pyforest_update_imports_cell) { window._pyforest_update_imports_cell('import re'); }\n",
       "    "
      ],
      "text/plain": [
       "<IPython.core.display.Javascript object>"
      ]
     },
     "metadata": {},
     "output_type": "display_data"
    },
    {
     "data": {
      "application/javascript": [
       "\n",
       "        if (window._pyforest_update_imports_cell) { window._pyforest_update_imports_cell('import re'); }\n",
       "    "
      ],
      "text/plain": [
       "<IPython.core.display.Javascript object>"
      ]
     },
     "metadata": {},
     "output_type": "display_data"
    },
    {
     "name": "stdout",
     "output_type": "stream",
     "text": [
      "Successfully retrieved 57 - https://www.halfbakedharvest.com/spicy-green-harissa/ with proxy 181.114.61.17:8085\n"
     ]
    },
    {
     "data": {
      "application/javascript": [
       "\n",
       "        if (window._pyforest_update_imports_cell) { window._pyforest_update_imports_cell('import re'); }\n",
       "    "
      ],
      "text/plain": [
       "<IPython.core.display.Javascript object>"
      ]
     },
     "metadata": {},
     "output_type": "display_data"
    },
    {
     "data": {
      "application/javascript": [
       "\n",
       "        if (window._pyforest_update_imports_cell) { window._pyforest_update_imports_cell('import re'); }\n",
       "    "
      ],
      "text/plain": [
       "<IPython.core.display.Javascript object>"
      ]
     },
     "metadata": {},
     "output_type": "display_data"
    },
    {
     "data": {
      "application/javascript": [
       "\n",
       "        if (window._pyforest_update_imports_cell) { window._pyforest_update_imports_cell('import re'); }\n",
       "    "
      ],
      "text/plain": [
       "<IPython.core.display.Javascript object>"
      ]
     },
     "metadata": {},
     "output_type": "display_data"
    },
    {
     "data": {
      "application/javascript": [
       "\n",
       "        if (window._pyforest_update_imports_cell) { window._pyforest_update_imports_cell('import re'); }\n",
       "    "
      ],
      "text/plain": [
       "<IPython.core.display.Javascript object>"
      ]
     },
     "metadata": {},
     "output_type": "display_data"
    },
    {
     "name": "stdout",
     "output_type": "stream",
     "text": [
      "Successfully retrieved 58 - https://www.halfbakedharvest.com/ham-cheese-sandwiches-wbacon-pineapple-caramelized-onions-jerk-bbq-sauce/ with proxy 35.220.254.137:8080\n",
      "Proxy 181.114.61.17:8085 failed for https://www.halfbakedharvest.com/goat-cheese-stuffed-phyllo-swirls-pomegranate-honey-pistachios/: HTTPSConnectionPool(host='www.halfbakedharvest.com', port=443): Max retries exceeded with url: /goat-cheese-stuffed-phyllo-swirls-pomegranate-honey-pistachios/ (Caused by ProxyError('Unable to connect to proxy', ConnectTimeoutError(<urllib3.connection.HTTPSConnection object at 0x1201300a0>, 'Connection to 181.114.61.17 timed out. (connect timeout=30)')))\n",
      "Proxy 35.220.254.137:8080 failed for https://www.halfbakedharvest.com/sun-dried-tomato-olive-pesto-pizza-salami-roasted-red-peppers/: HTTPSConnectionPool(host='www.halfbakedharvest.com', port=443): Read timed out.\n"
     ]
    },
    {
     "data": {
      "application/javascript": [
       "\n",
       "        if (window._pyforest_update_imports_cell) { window._pyforest_update_imports_cell('import re'); }\n",
       "    "
      ],
      "text/plain": [
       "<IPython.core.display.Javascript object>"
      ]
     },
     "metadata": {},
     "output_type": "display_data"
    },
    {
     "data": {
      "application/javascript": [
       "\n",
       "        if (window._pyforest_update_imports_cell) { window._pyforest_update_imports_cell('import re'); }\n",
       "    "
      ],
      "text/plain": [
       "<IPython.core.display.Javascript object>"
      ]
     },
     "metadata": {},
     "output_type": "display_data"
    },
    {
     "data": {
      "application/javascript": [
       "\n",
       "        if (window._pyforest_update_imports_cell) { window._pyforest_update_imports_cell('import re'); }\n",
       "    "
      ],
      "text/plain": [
       "<IPython.core.display.Javascript object>"
      ]
     },
     "metadata": {},
     "output_type": "display_data"
    },
    {
     "data": {
      "application/javascript": [
       "\n",
       "        if (window._pyforest_update_imports_cell) { window._pyforest_update_imports_cell('import re'); }\n",
       "    "
      ],
      "text/plain": [
       "<IPython.core.display.Javascript object>"
      ]
     },
     "metadata": {},
     "output_type": "display_data"
    },
    {
     "name": "stdout",
     "output_type": "stream",
     "text": [
      "Successfully retrieved 61 - https://www.halfbakedharvest.com/gingery-steak-brie-sliders-balsamic-cranberry-sauce/ with proxy 181.114.61.17:8085\n",
      "Successfully retrieved 62 - https://www.halfbakedharvest.com/lets-talk-thanksgiving-snacks-appetizers-sides-desserts/ with proxy 35.220.254.137:8080\n"
     ]
    },
    {
     "data": {
      "application/javascript": [
       "\n",
       "        if (window._pyforest_update_imports_cell) { window._pyforest_update_imports_cell('import re'); }\n",
       "    "
      ],
      "text/plain": [
       "<IPython.core.display.Javascript object>"
      ]
     },
     "metadata": {},
     "output_type": "display_data"
    },
    {
     "data": {
      "application/javascript": [
       "\n",
       "        if (window._pyforest_update_imports_cell) { window._pyforest_update_imports_cell('import re'); }\n",
       "    "
      ],
      "text/plain": [
       "<IPython.core.display.Javascript object>"
      ]
     },
     "metadata": {},
     "output_type": "display_data"
    },
    {
     "data": {
      "application/javascript": [
       "\n",
       "        if (window._pyforest_update_imports_cell) { window._pyforest_update_imports_cell('import re'); }\n",
       "    "
      ],
      "text/plain": [
       "<IPython.core.display.Javascript object>"
      ]
     },
     "metadata": {},
     "output_type": "display_data"
    },
    {
     "name": "stdout",
     "output_type": "stream",
     "text": [
      "Successfully retrieved 63 - https://www.halfbakedharvest.com/blue-cheese-guacamole-stuffed-mushrooms-with-buffalo-sauce/ with proxy 181.114.61.17:8085\n"
     ]
    },
    {
     "data": {
      "application/javascript": [
       "\n",
       "        if (window._pyforest_update_imports_cell) { window._pyforest_update_imports_cell('import re'); }\n",
       "    "
      ],
      "text/plain": [
       "<IPython.core.display.Javascript object>"
      ]
     },
     "metadata": {},
     "output_type": "display_data"
    },
    {
     "data": {
      "application/javascript": [
       "\n",
       "        if (window._pyforest_update_imports_cell) { window._pyforest_update_imports_cell('import re'); }\n",
       "    "
      ],
      "text/plain": [
       "<IPython.core.display.Javascript object>"
      ]
     },
     "metadata": {},
     "output_type": "display_data"
    },
    {
     "data": {
      "application/javascript": [
       "\n",
       "        if (window._pyforest_update_imports_cell) { window._pyforest_update_imports_cell('import re'); }\n",
       "    "
      ],
      "text/plain": [
       "<IPython.core.display.Javascript object>"
      ]
     },
     "metadata": {},
     "output_type": "display_data"
    },
    {
     "name": "stdout",
     "output_type": "stream",
     "text": [
      "Successfully retrieved 64 - https://www.halfbakedharvest.com/avocado-and-gouda-blt-corn-fritter-stacks-with-chipotle-bourbon-dressing/ with proxy 35.220.254.137:8080\n",
      "Proxy 181.114.61.17:8085 failed for https://www.halfbakedharvest.com/peach-and-gorgonzola-grilled-polenta-rounds-with-chipotle-honey/: HTTPSConnectionPool(host='www.halfbakedharvest.com', port=443): Max retries exceeded with url: /peach-and-gorgonzola-grilled-polenta-rounds-with-chipotle-honey/ (Caused by ProxyError('Unable to connect to proxy', ConnectTimeoutError(<urllib3.connection.HTTPSConnection object at 0x117bd8c40>, 'Connection to 181.114.61.17 timed out. (connect timeout=30)')))\n"
     ]
    },
    {
     "data": {
      "application/javascript": [
       "\n",
       "        if (window._pyforest_update_imports_cell) { window._pyforest_update_imports_cell('import re'); }\n",
       "    "
      ],
      "text/plain": [
       "<IPython.core.display.Javascript object>"
      ]
     },
     "metadata": {},
     "output_type": "display_data"
    },
    {
     "data": {
      "application/javascript": [
       "\n",
       "        if (window._pyforest_update_imports_cell) { window._pyforest_update_imports_cell('import re'); }\n",
       "    "
      ],
      "text/plain": [
       "<IPython.core.display.Javascript object>"
      ]
     },
     "metadata": {},
     "output_type": "display_data"
    },
    {
     "data": {
      "application/javascript": [
       "\n",
       "        if (window._pyforest_update_imports_cell) { window._pyforest_update_imports_cell('import re'); }\n",
       "    "
      ],
      "text/plain": [
       "<IPython.core.display.Javascript object>"
      ]
     },
     "metadata": {},
     "output_type": "display_data"
    },
    {
     "name": "stdout",
     "output_type": "stream",
     "text": [
      "Successfully retrieved 66 - https://www.halfbakedharvest.com/blistered-tomato-grilled-toast-caprese-nachos-with-balsamic-glaze/ with proxy 35.220.254.137:8080\n",
      "Proxy 181.114.61.17:8085 failed for https://www.halfbakedharvest.com/crispy-buffalo-style-salmon-sliders/: ('Connection aborted.', ConnectionResetError(54, 'Connection reset by peer'))\n"
     ]
    },
    {
     "data": {
      "application/javascript": [
       "\n",
       "        if (window._pyforest_update_imports_cell) { window._pyforest_update_imports_cell('import re'); }\n",
       "    "
      ],
      "text/plain": [
       "<IPython.core.display.Javascript object>"
      ]
     },
     "metadata": {},
     "output_type": "display_data"
    },
    {
     "data": {
      "application/javascript": [
       "\n",
       "        if (window._pyforest_update_imports_cell) { window._pyforest_update_imports_cell('import re'); }\n",
       "    "
      ],
      "text/plain": [
       "<IPython.core.display.Javascript object>"
      ]
     },
     "metadata": {},
     "output_type": "display_data"
    },
    {
     "data": {
      "application/javascript": [
       "\n",
       "        if (window._pyforest_update_imports_cell) { window._pyforest_update_imports_cell('import re'); }\n",
       "    "
      ],
      "text/plain": [
       "<IPython.core.display.Javascript object>"
      ]
     },
     "metadata": {},
     "output_type": "display_data"
    },
    {
     "data": {
      "application/javascript": [
       "\n",
       "        if (window._pyforest_update_imports_cell) { window._pyforest_update_imports_cell('import re'); }\n",
       "    "
      ],
      "text/plain": [
       "<IPython.core.display.Javascript object>"
      ]
     },
     "metadata": {},
     "output_type": "display_data"
    },
    {
     "data": {
      "application/javascript": [
       "\n",
       "        if (window._pyforest_update_imports_cell) { window._pyforest_update_imports_cell('import re'); }\n",
       "    "
      ],
      "text/plain": [
       "<IPython.core.display.Javascript object>"
      ]
     },
     "metadata": {},
     "output_type": "display_data"
    },
    {
     "name": "stdout",
     "output_type": "stream",
     "text": [
      "Successfully retrieved 68 - https://www.halfbakedharvest.com/cheesy-cajun-fries-with-grilled-corn-guacamole-bacon-and-fried-eggs/ with proxy 35.220.254.137:8080\n",
      "Proxy 181.114.61.17:8085 failed for https://www.halfbakedharvest.com/cajun-bbq-cheddar-chicken-fingers/: HTTPSConnectionPool(host='www.halfbakedharvest.com', port=443): Max retries exceeded with url: /cajun-bbq-cheddar-chicken-fingers/ (Caused by ProxyError('Unable to connect to proxy', ConnectTimeoutError(<urllib3.connection.HTTPSConnection object at 0x1278ccbe0>, 'Connection to 181.114.61.17 timed out. (connect timeout=30)')))\n",
      "Proxy 35.220.254.137:8080 failed for https://www.halfbakedharvest.com/crispy-roasted-blackened-cauliflower/: HTTPSConnectionPool(host='www.halfbakedharvest.com', port=443): Max retries exceeded with url: /crispy-roasted-blackened-cauliflower/ (Caused by ProxyError('Unable to connect to proxy', NewConnectionError('<urllib3.connection.HTTPSConnection object at 0x1278f24f0>: Failed to establish a new connection: [Errno 61] Connection refused')))\n"
     ]
    },
    {
     "data": {
      "application/javascript": [
       "\n",
       "        if (window._pyforest_update_imports_cell) { window._pyforest_update_imports_cell('import re'); }\n",
       "    "
      ],
      "text/plain": [
       "<IPython.core.display.Javascript object>"
      ]
     },
     "metadata": {},
     "output_type": "display_data"
    },
    {
     "data": {
      "application/javascript": [
       "\n",
       "        if (window._pyforest_update_imports_cell) { window._pyforest_update_imports_cell('import re'); }\n",
       "    "
      ],
      "text/plain": [
       "<IPython.core.display.Javascript object>"
      ]
     },
     "metadata": {},
     "output_type": "display_data"
    },
    {
     "data": {
      "application/javascript": [
       "\n",
       "        if (window._pyforest_update_imports_cell) { window._pyforest_update_imports_cell('import re'); }\n",
       "    "
      ],
      "text/plain": [
       "<IPython.core.display.Javascript object>"
      ]
     },
     "metadata": {},
     "output_type": "display_data"
    },
    {
     "name": "stdout",
     "output_type": "stream",
     "text": [
      "Successfully retrieved 71 - https://www.halfbakedharvest.com/halloumi-bites/ with proxy 181.114.61.17:8085\n",
      "Proxy 35.220.254.137:8080 failed for https://www.halfbakedharvest.com/queso-fundido-taquitos/: HTTPSConnectionPool(host='www.halfbakedharvest.com', port=443): Max retries exceeded with url: /queso-fundido-taquitos/ (Caused by ProxyError('Unable to connect to proxy', NewConnectionError('<urllib3.connection.HTTPSConnection object at 0x1201f12b0>: Failed to establish a new connection: [Errno 61] Connection refused')))\n",
      "Proxy 181.114.61.17:8085 failed for https://www.halfbakedharvest.com/baked-parmesan-tater-tots/: HTTPSConnectionPool(host='www.halfbakedharvest.com', port=443): Max retries exceeded with url: /baked-parmesan-tater-tots/ (Caused by ProxyError('Unable to connect to proxy', ConnectTimeoutError(<urllib3.connection.HTTPSConnection object at 0x1201f1bb0>, 'Connection to 181.114.61.17 timed out. (connect timeout=30)')))\n",
      "Proxy 35.220.254.137:8080 failed for https://www.halfbakedharvest.com/honey-whipped-ricotta-and-prosciutto-crackers/: HTTPSConnectionPool(host='www.halfbakedharvest.com', port=443): Max retries exceeded with url: /honey-whipped-ricotta-and-prosciutto-crackers/ (Caused by ProxyError('Unable to connect to proxy', NewConnectionError('<urllib3.connection.HTTPSConnection object at 0x1201f24c0>: Failed to establish a new connection: [Errno 61] Connection refused')))\n"
     ]
    },
    {
     "data": {
      "application/javascript": [
       "\n",
       "        if (window._pyforest_update_imports_cell) { window._pyforest_update_imports_cell('import re'); }\n",
       "    "
      ],
      "text/plain": [
       "<IPython.core.display.Javascript object>"
      ]
     },
     "metadata": {},
     "output_type": "display_data"
    },
    {
     "data": {
      "application/javascript": [
       "\n",
       "        if (window._pyforest_update_imports_cell) { window._pyforest_update_imports_cell('import re'); }\n",
       "    "
      ],
      "text/plain": [
       "<IPython.core.display.Javascript object>"
      ]
     },
     "metadata": {},
     "output_type": "display_data"
    },
    {
     "data": {
      "application/javascript": [
       "\n",
       "        if (window._pyforest_update_imports_cell) { window._pyforest_update_imports_cell('import re'); }\n",
       "    "
      ],
      "text/plain": [
       "<IPython.core.display.Javascript object>"
      ]
     },
     "metadata": {},
     "output_type": "display_data"
    },
    {
     "name": "stdout",
     "output_type": "stream",
     "text": [
      "Successfully retrieved 75 - https://www.halfbakedharvest.com/pastry-wrapped-cranberry-baked-brie-bites/ with proxy 181.114.61.17:8085\n",
      "Proxy 35.220.254.137:8080 failed for https://www.halfbakedharvest.com/oven-toasted-garlic-herb-cheese-ravioli/: HTTPSConnectionPool(host='www.halfbakedharvest.com', port=443): Max retries exceeded with url: /oven-toasted-garlic-herb-cheese-ravioli/ (Caused by ProxyError('Unable to connect to proxy', NewConnectionError('<urllib3.connection.HTTPSConnection object at 0x120269ca0>: Failed to establish a new connection: [Errno 61] Connection refused')))\n"
     ]
    },
    {
     "data": {
      "application/javascript": [
       "\n",
       "        if (window._pyforest_update_imports_cell) { window._pyforest_update_imports_cell('import re'); }\n",
       "    "
      ],
      "text/plain": [
       "<IPython.core.display.Javascript object>"
      ]
     },
     "metadata": {},
     "output_type": "display_data"
    },
    {
     "data": {
      "application/javascript": [
       "\n",
       "        if (window._pyforest_update_imports_cell) { window._pyforest_update_imports_cell('import re'); }\n",
       "    "
      ],
      "text/plain": [
       "<IPython.core.display.Javascript object>"
      ]
     },
     "metadata": {},
     "output_type": "display_data"
    },
    {
     "data": {
      "application/javascript": [
       "\n",
       "        if (window._pyforest_update_imports_cell) { window._pyforest_update_imports_cell('import re'); }\n",
       "    "
      ],
      "text/plain": [
       "<IPython.core.display.Javascript object>"
      ]
     },
     "metadata": {},
     "output_type": "display_data"
    },
    {
     "name": "stdout",
     "output_type": "stream",
     "text": [
      "Successfully retrieved 77 - https://www.halfbakedharvest.com/everything-ranch-cheese-and-pretzel-snack-mix/ with proxy 181.114.61.17:8085\n",
      "Proxy 35.220.254.137:8080 failed for https://www.halfbakedharvest.com/black-pepper-rub-chicken-fingers-greek-yogurt-ranch/: HTTPSConnectionPool(host='www.halfbakedharvest.com', port=443): Max retries exceeded with url: /black-pepper-rub-chicken-fingers-greek-yogurt-ranch/ (Caused by ProxyError('Unable to connect to proxy', NewConnectionError('<urllib3.connection.HTTPSConnection object at 0x12767c3a0>: Failed to establish a new connection: [Errno 61] Connection refused')))\n",
      "Proxy 181.114.61.17:8085 failed for https://www.halfbakedharvest.com/baked-buffalo-chicken-egg-rolls/: ('Connection aborted.', RemoteDisconnected('Remote end closed connection without response'))\n",
      "Proxy 35.220.254.137:8080 failed for https://www.halfbakedharvest.com/peach-brie-pastry-tarts/: HTTPSConnectionPool(host='www.halfbakedharvest.com', port=443): Max retries exceeded with url: /peach-brie-pastry-tarts/ (Caused by ProxyError('Unable to connect to proxy', NewConnectionError('<urllib3.connection.HTTPSConnection object at 0x127cf6610>: Failed to establish a new connection: [Errno 61] Connection refused')))\n"
     ]
    },
    {
     "data": {
      "application/javascript": [
       "\n",
       "        if (window._pyforest_update_imports_cell) { window._pyforest_update_imports_cell('import re'); }\n",
       "    "
      ],
      "text/plain": [
       "<IPython.core.display.Javascript object>"
      ]
     },
     "metadata": {},
     "output_type": "display_data"
    },
    {
     "data": {
      "application/javascript": [
       "\n",
       "        if (window._pyforest_update_imports_cell) { window._pyforest_update_imports_cell('import re'); }\n",
       "    "
      ],
      "text/plain": [
       "<IPython.core.display.Javascript object>"
      ]
     },
     "metadata": {},
     "output_type": "display_data"
    },
    {
     "data": {
      "application/javascript": [
       "\n",
       "        if (window._pyforest_update_imports_cell) { window._pyforest_update_imports_cell('import re'); }\n",
       "    "
      ],
      "text/plain": [
       "<IPython.core.display.Javascript object>"
      ]
     },
     "metadata": {},
     "output_type": "display_data"
    },
    {
     "data": {
      "application/javascript": [
       "\n",
       "        if (window._pyforest_update_imports_cell) { window._pyforest_update_imports_cell('import re'); }\n",
       "    "
      ],
      "text/plain": [
       "<IPython.core.display.Javascript object>"
      ]
     },
     "metadata": {},
     "output_type": "display_data"
    },
    {
     "data": {
      "application/javascript": [
       "\n",
       "        if (window._pyforest_update_imports_cell) { window._pyforest_update_imports_cell('import re'); }\n",
       "    "
      ],
      "text/plain": [
       "<IPython.core.display.Javascript object>"
      ]
     },
     "metadata": {},
     "output_type": "display_data"
    },
    {
     "name": "stdout",
     "output_type": "stream",
     "text": [
      "Successfully retrieved 81 - https://www.halfbakedharvest.com/sweet-potato-parmesan-tater-tots/ with proxy 181.114.61.17:8085\n",
      "Proxy 35.220.254.137:8080 failed for https://www.halfbakedharvest.com/pastry-wrapped-baked-brie-with-thyme-butter-roasted-plums/: HTTPSConnectionPool(host='www.halfbakedharvest.com', port=443): Max retries exceeded with url: /pastry-wrapped-baked-brie-with-thyme-butter-roasted-plums/ (Caused by ProxyError('Unable to connect to proxy', NewConnectionError('<urllib3.connection.HTTPSConnection object at 0x127324f40>: Failed to establish a new connection: [Errno 61] Connection refused')))\n",
      "Proxy 181.114.61.17:8085 failed for https://www.halfbakedharvest.com/grilled-street-corn-salad/: HTTPSConnectionPool(host='www.halfbakedharvest.com', port=443): Max retries exceeded with url: /grilled-street-corn-salad/ (Caused by ProxyError('Unable to connect to proxy', ConnectTimeoutError(<urllib3.connection.HTTPSConnection object at 0x127324a90>, 'Connection to 181.114.61.17 timed out. (connect timeout=30)')))\n"
     ]
    },
    {
     "data": {
      "application/javascript": [
       "\n",
       "        if (window._pyforest_update_imports_cell) { window._pyforest_update_imports_cell('import re'); }\n",
       "    "
      ],
      "text/plain": [
       "<IPython.core.display.Javascript object>"
      ]
     },
     "metadata": {},
     "output_type": "display_data"
    },
    {
     "data": {
      "application/javascript": [
       "\n",
       "        if (window._pyforest_update_imports_cell) { window._pyforest_update_imports_cell('import re'); }\n",
       "    "
      ],
      "text/plain": [
       "<IPython.core.display.Javascript object>"
      ]
     },
     "metadata": {},
     "output_type": "display_data"
    },
    {
     "name": "stdout",
     "output_type": "stream",
     "text": [
      "Successfully retrieved 84 - https://www.halfbakedharvest.com/no-fuss-farmers-market-mezze-platter/ with proxy 35.220.254.137:8080\n",
      "Proxy 181.114.61.17:8085 failed for https://www.halfbakedharvest.com/pan-fried-feta-with-peppered-honey/: HTTPSConnectionPool(host='www.halfbakedharvest.com', port=443): Max retries exceeded with url: /pan-fried-feta-with-peppered-honey/ (Caused by ProxyError('Unable to connect to proxy', ConnectTimeoutError(<urllib3.connection.HTTPSConnection object at 0x1202669d0>, 'Connection to 181.114.61.17 timed out. (connect timeout=30)')))\n"
     ]
    },
    {
     "data": {
      "application/javascript": [
       "\n",
       "        if (window._pyforest_update_imports_cell) { window._pyforest_update_imports_cell('import re'); }\n",
       "    "
      ],
      "text/plain": [
       "<IPython.core.display.Javascript object>"
      ]
     },
     "metadata": {},
     "output_type": "display_data"
    },
    {
     "data": {
      "application/javascript": [
       "\n",
       "        if (window._pyforest_update_imports_cell) { window._pyforest_update_imports_cell('import re'); }\n",
       "    "
      ],
      "text/plain": [
       "<IPython.core.display.Javascript object>"
      ]
     },
     "metadata": {},
     "output_type": "display_data"
    },
    {
     "data": {
      "application/javascript": [
       "\n",
       "        if (window._pyforest_update_imports_cell) { window._pyforest_update_imports_cell('import re'); }\n",
       "    "
      ],
      "text/plain": [
       "<IPython.core.display.Javascript object>"
      ]
     },
     "metadata": {},
     "output_type": "display_data"
    },
    {
     "name": "stdout",
     "output_type": "stream",
     "text": [
      "Successfully retrieved 86 - https://www.halfbakedharvest.com/cheesy-potato-chive-galette/ with proxy 35.220.254.137:8080\n",
      "Proxy 181.114.61.17:8085 failed for https://www.halfbakedharvest.com/khachapuri-georgian-cheese-bread/: HTTPSConnectionPool(host='www.halfbakedharvest.com', port=443): Max retries exceeded with url: /khachapuri-georgian-cheese-bread/ (Caused by ProxyError('Unable to connect to proxy', ConnectTimeoutError(<urllib3.connection.HTTPSConnection object at 0x1205fe340>, 'Connection to 181.114.61.17 timed out. (connect timeout=30)')))\n"
     ]
    },
    {
     "data": {
      "application/javascript": [
       "\n",
       "        if (window._pyforest_update_imports_cell) { window._pyforest_update_imports_cell('import re'); }\n",
       "    "
      ],
      "text/plain": [
       "<IPython.core.display.Javascript object>"
      ]
     },
     "metadata": {},
     "output_type": "display_data"
    },
    {
     "data": {
      "application/javascript": [
       "\n",
       "        if (window._pyforest_update_imports_cell) { window._pyforest_update_imports_cell('import re'); }\n",
       "    "
      ],
      "text/plain": [
       "<IPython.core.display.Javascript object>"
      ]
     },
     "metadata": {},
     "output_type": "display_data"
    },
    {
     "data": {
      "application/javascript": [
       "\n",
       "        if (window._pyforest_update_imports_cell) { window._pyforest_update_imports_cell('import re'); }\n",
       "    "
      ],
      "text/plain": [
       "<IPython.core.display.Javascript object>"
      ]
     },
     "metadata": {},
     "output_type": "display_data"
    },
    {
     "name": "stdout",
     "output_type": "stream",
     "text": [
      "Successfully retrieved 88 - https://www.halfbakedharvest.com/spinach-and-artichoke-stuffed-soft-pretzels/ with proxy 35.220.254.137:8080\n",
      "Proxy 181.114.61.17:8085 failed for https://www.halfbakedharvest.com/easy-cheese-and-prosciutto-croissants/: HTTPSConnectionPool(host='www.halfbakedharvest.com', port=443): Max retries exceeded with url: /easy-cheese-and-prosciutto-croissants/ (Caused by ProxyError('Unable to connect to proxy', ConnectTimeoutError(<urllib3.connection.HTTPSConnection object at 0x1276de490>, 'Connection to 181.114.61.17 timed out. (connect timeout=30)')))\n"
     ]
    },
    {
     "data": {
      "application/javascript": [
       "\n",
       "        if (window._pyforest_update_imports_cell) { window._pyforest_update_imports_cell('import re'); }\n",
       "    "
      ],
      "text/plain": [
       "<IPython.core.display.Javascript object>"
      ]
     },
     "metadata": {},
     "output_type": "display_data"
    },
    {
     "data": {
      "application/javascript": [
       "\n",
       "        if (window._pyforest_update_imports_cell) { window._pyforest_update_imports_cell('import re'); }\n",
       "    "
      ],
      "text/plain": [
       "<IPython.core.display.Javascript object>"
      ]
     },
     "metadata": {},
     "output_type": "display_data"
    },
    {
     "data": {
      "application/javascript": [
       "\n",
       "        if (window._pyforest_update_imports_cell) { window._pyforest_update_imports_cell('import re'); }\n",
       "    "
      ],
      "text/plain": [
       "<IPython.core.display.Javascript object>"
      ]
     },
     "metadata": {},
     "output_type": "display_data"
    },
    {
     "name": "stdout",
     "output_type": "stream",
     "text": [
      "Successfully retrieved 90 - https://www.halfbakedharvest.com/ginger-sesame-chicken-potstickers/ with proxy 35.220.254.137:8080\n",
      "Proxy 181.114.61.17:8085 failed for https://www.halfbakedharvest.com/holiday-cheese-board/: HTTPSConnectionPool(host='www.halfbakedharvest.com', port=443): Max retries exceeded with url: /holiday-cheese-board/ (Caused by ProxyError('Unable to connect to proxy', ConnectTimeoutError(<urllib3.connection.HTTPSConnection object at 0x12747b430>, 'Connection to 181.114.61.17 timed out. (connect timeout=30)')))\n"
     ]
    },
    {
     "data": {
      "application/javascript": [
       "\n",
       "        if (window._pyforest_update_imports_cell) { window._pyforest_update_imports_cell('import re'); }\n",
       "    "
      ],
      "text/plain": [
       "<IPython.core.display.Javascript object>"
      ]
     },
     "metadata": {},
     "output_type": "display_data"
    },
    {
     "data": {
      "application/javascript": [
       "\n",
       "        if (window._pyforest_update_imports_cell) { window._pyforest_update_imports_cell('import re'); }\n",
       "    "
      ],
      "text/plain": [
       "<IPython.core.display.Javascript object>"
      ]
     },
     "metadata": {},
     "output_type": "display_data"
    },
    {
     "data": {
      "application/javascript": [
       "\n",
       "        if (window._pyforest_update_imports_cell) { window._pyforest_update_imports_cell('import re'); }\n",
       "    "
      ],
      "text/plain": [
       "<IPython.core.display.Javascript object>"
      ]
     },
     "metadata": {},
     "output_type": "display_data"
    },
    {
     "name": "stdout",
     "output_type": "stream",
     "text": [
      "Successfully retrieved 92 - https://www.halfbakedharvest.com/onion-spinach-and-cheddar-flaky-pastries/ with proxy 35.220.254.137:8080\n",
      "Proxy 181.114.61.17:8085 failed for https://www.halfbakedharvest.com/heirloom-tomato-basil-and-manchego-toast/: HTTPSConnectionPool(host='www.halfbakedharvest.com', port=443): Max retries exceeded with url: /heirloom-tomato-basil-and-manchego-toast/ (Caused by ProxyError('Unable to connect to proxy', ConnectTimeoutError(<urllib3.connection.HTTPSConnection object at 0x127bb20a0>, 'Connection to 181.114.61.17 timed out. (connect timeout=30)')))\n"
     ]
    },
    {
     "data": {
      "application/javascript": [
       "\n",
       "        if (window._pyforest_update_imports_cell) { window._pyforest_update_imports_cell('import re'); }\n",
       "    "
      ],
      "text/plain": [
       "<IPython.core.display.Javascript object>"
      ]
     },
     "metadata": {},
     "output_type": "display_data"
    },
    {
     "data": {
      "application/javascript": [
       "\n",
       "        if (window._pyforest_update_imports_cell) { window._pyforest_update_imports_cell('import re'); }\n",
       "    "
      ],
      "text/plain": [
       "<IPython.core.display.Javascript object>"
      ]
     },
     "metadata": {},
     "output_type": "display_data"
    },
    {
     "data": {
      "application/javascript": [
       "\n",
       "        if (window._pyforest_update_imports_cell) { window._pyforest_update_imports_cell('import re'); }\n",
       "    "
      ],
      "text/plain": [
       "<IPython.core.display.Javascript object>"
      ]
     },
     "metadata": {},
     "output_type": "display_data"
    },
    {
     "name": "stdout",
     "output_type": "stream",
     "text": [
      "Successfully retrieved 94 - https://www.halfbakedharvest.com/thyme-honey-peach-and-goat-cheese-crostini/ with proxy 35.220.254.137:8080\n",
      "Proxy 181.114.61.17:8085 failed for https://www.halfbakedharvest.com/spicy-corn-and-peaches-with-burrata/: HTTPSConnectionPool(host='www.halfbakedharvest.com', port=443): Max retries exceeded with url: /spicy-corn-and-peaches-with-burrata/ (Caused by ProxyError('Unable to connect to proxy', ConnectTimeoutError(<urllib3.connection.HTTPSConnection object at 0x117e564c0>, 'Connection to 181.114.61.17 timed out. (connect timeout=30)')))\n"
     ]
    },
    {
     "data": {
      "application/javascript": [
       "\n",
       "        if (window._pyforest_update_imports_cell) { window._pyforest_update_imports_cell('import re'); }\n",
       "    "
      ],
      "text/plain": [
       "<IPython.core.display.Javascript object>"
      ]
     },
     "metadata": {},
     "output_type": "display_data"
    },
    {
     "data": {
      "application/javascript": [
       "\n",
       "        if (window._pyforest_update_imports_cell) { window._pyforest_update_imports_cell('import re'); }\n",
       "    "
      ],
      "text/plain": [
       "<IPython.core.display.Javascript object>"
      ]
     },
     "metadata": {},
     "output_type": "display_data"
    },
    {
     "data": {
      "application/javascript": [
       "\n",
       "        if (window._pyforest_update_imports_cell) { window._pyforest_update_imports_cell('import re'); }\n",
       "    "
      ],
      "text/plain": [
       "<IPython.core.display.Javascript object>"
      ]
     },
     "metadata": {},
     "output_type": "display_data"
    },
    {
     "name": "stdout",
     "output_type": "stream",
     "text": [
      "Successfully retrieved 96 - https://www.halfbakedharvest.com/the-best-jalapeno-queso/ with proxy 35.220.254.137:8080\n",
      "Proxy 181.114.61.17:8085 failed for https://www.halfbakedharvest.com/moroccan-dip-platter/: HTTPSConnectionPool(host='www.halfbakedharvest.com', port=443): Max retries exceeded with url: /moroccan-dip-platter/ (Caused by ProxyError('Unable to connect to proxy', ConnectTimeoutError(<urllib3.connection.HTTPSConnection object at 0x127af5040>, 'Connection to 181.114.61.17 timed out. (connect timeout=30)')))\n"
     ]
    },
    {
     "data": {
      "application/javascript": [
       "\n",
       "        if (window._pyforest_update_imports_cell) { window._pyforest_update_imports_cell('import re'); }\n",
       "    "
      ],
      "text/plain": [
       "<IPython.core.display.Javascript object>"
      ]
     },
     "metadata": {},
     "output_type": "display_data"
    },
    {
     "data": {
      "application/javascript": [
       "\n",
       "        if (window._pyforest_update_imports_cell) { window._pyforest_update_imports_cell('import re'); }\n",
       "    "
      ],
      "text/plain": [
       "<IPython.core.display.Javascript object>"
      ]
     },
     "metadata": {},
     "output_type": "display_data"
    },
    {
     "data": {
      "application/javascript": [
       "\n",
       "        if (window._pyforest_update_imports_cell) { window._pyforest_update_imports_cell('import re'); }\n",
       "    "
      ],
      "text/plain": [
       "<IPython.core.display.Javascript object>"
      ]
     },
     "metadata": {},
     "output_type": "display_data"
    },
    {
     "name": "stdout",
     "output_type": "stream",
     "text": [
      "Successfully retrieved 98 - https://www.halfbakedharvest.com/asparagus-egg-and-prosciutto-tart-with-everything-spice/ with proxy 35.220.254.137:8080\n",
      "Proxy 181.114.61.17:8085 failed for https://www.halfbakedharvest.com/spicy-cauliflower-cheese-bites-with-tahini-ranch/: HTTPSConnectionPool(host='www.halfbakedharvest.com', port=443): Max retries exceeded with url: /spicy-cauliflower-cheese-bites-with-tahini-ranch/ (Caused by ProxyError('Unable to connect to proxy', ConnectTimeoutError(<urllib3.connection.HTTPSConnection object at 0x127a069d0>, 'Connection to 181.114.61.17 timed out. (connect timeout=30)')))\n",
      "Successfully retrieved 100 - https://www.halfbakedharvest.com/apple-crisp-baked-brie-sunday-links-inspire/ with proxy 35.220.254.137:8080\n",
      "Proxy 181.114.61.17:8085 failed for https://www.halfbakedharvest.com/skinny-tandoori-butter-sweet-potato-fries-wcreamy-baked-harissa-feta/: HTTPSConnectionPool(host='www.halfbakedharvest.com', port=443): Max retries exceeded with url: /skinny-tandoori-butter-sweet-potato-fries-wcreamy-baked-harissa-feta/ (Caused by ProxyError('Unable to connect to proxy', ConnectTimeoutError(<urllib3.connection.HTTPSConnection object at 0x1273964f0>, 'Connection to 181.114.61.17 timed out. (connect timeout=30)')))\n"
     ]
    },
    {
     "data": {
      "application/javascript": [
       "\n",
       "        if (window._pyforest_update_imports_cell) { window._pyforest_update_imports_cell('import re'); }\n",
       "    "
      ],
      "text/plain": [
       "<IPython.core.display.Javascript object>"
      ]
     },
     "metadata": {},
     "output_type": "display_data"
    },
    {
     "data": {
      "application/javascript": [
       "\n",
       "        if (window._pyforest_update_imports_cell) { window._pyforest_update_imports_cell('import re'); }\n",
       "    "
      ],
      "text/plain": [
       "<IPython.core.display.Javascript object>"
      ]
     },
     "metadata": {},
     "output_type": "display_data"
    },
    {
     "data": {
      "application/javascript": [
       "\n",
       "        if (window._pyforest_update_imports_cell) { window._pyforest_update_imports_cell('import re'); }\n",
       "    "
      ],
      "text/plain": [
       "<IPython.core.display.Javascript object>"
      ]
     },
     "metadata": {},
     "output_type": "display_data"
    },
    {
     "name": "stdout",
     "output_type": "stream",
     "text": [
      "Successfully retrieved 102 - https://www.halfbakedharvest.com/sweet-spicy-rosemary-cheddar-gorgonzola-pumpkin-crackers/ with proxy 35.220.254.137:8080\n"
     ]
    },
    {
     "data": {
      "application/javascript": [
       "\n",
       "        if (window._pyforest_update_imports_cell) { window._pyforest_update_imports_cell('import re'); }\n",
       "    "
      ],
      "text/plain": [
       "<IPython.core.display.Javascript object>"
      ]
     },
     "metadata": {},
     "output_type": "display_data"
    },
    {
     "data": {
      "application/javascript": [
       "\n",
       "        if (window._pyforest_update_imports_cell) { window._pyforest_update_imports_cell('import re'); }\n",
       "    "
      ],
      "text/plain": [
       "<IPython.core.display.Javascript object>"
      ]
     },
     "metadata": {},
     "output_type": "display_data"
    },
    {
     "data": {
      "application/javascript": [
       "\n",
       "        if (window._pyforest_update_imports_cell) { window._pyforest_update_imports_cell('import re'); }\n",
       "    "
      ],
      "text/plain": [
       "<IPython.core.display.Javascript object>"
      ]
     },
     "metadata": {},
     "output_type": "display_data"
    },
    {
     "name": "stdout",
     "output_type": "stream",
     "text": [
      "Successfully retrieved 103 - https://www.halfbakedharvest.com/brie-cheddar-apple-beer-soup-cinnamon-pecan-oat-crumble/ with proxy 181.114.61.17:8085\n"
     ]
    },
    {
     "data": {
      "application/javascript": [
       "\n",
       "        if (window._pyforest_update_imports_cell) { window._pyforest_update_imports_cell('import re'); }\n",
       "    "
      ],
      "text/plain": [
       "<IPython.core.display.Javascript object>"
      ]
     },
     "metadata": {},
     "output_type": "display_data"
    },
    {
     "data": {
      "application/javascript": [
       "\n",
       "        if (window._pyforest_update_imports_cell) { window._pyforest_update_imports_cell('import re'); }\n",
       "    "
      ],
      "text/plain": [
       "<IPython.core.display.Javascript object>"
      ]
     },
     "metadata": {},
     "output_type": "display_data"
    },
    {
     "data": {
      "application/javascript": [
       "\n",
       "        if (window._pyforest_update_imports_cell) { window._pyforest_update_imports_cell('import re'); }\n",
       "    "
      ],
      "text/plain": [
       "<IPython.core.display.Javascript object>"
      ]
     },
     "metadata": {},
     "output_type": "display_data"
    },
    {
     "data": {
      "application/javascript": [
       "\n",
       "        if (window._pyforest_update_imports_cell) { window._pyforest_update_imports_cell('import re'); }\n",
       "    "
      ],
      "text/plain": [
       "<IPython.core.display.Javascript object>"
      ]
     },
     "metadata": {},
     "output_type": "display_data"
    },
    {
     "name": "stdout",
     "output_type": "stream",
     "text": [
      "Successfully retrieved 104 - https://www.halfbakedharvest.com/hot-wings-cookbook-giveaway/ with proxy 35.220.254.137:8080\n"
     ]
    },
    {
     "data": {
      "application/javascript": [
       "\n",
       "        if (window._pyforest_update_imports_cell) { window._pyforest_update_imports_cell('import re'); }\n",
       "    "
      ],
      "text/plain": [
       "<IPython.core.display.Javascript object>"
      ]
     },
     "metadata": {},
     "output_type": "display_data"
    },
    {
     "data": {
      "application/javascript": [
       "\n",
       "        if (window._pyforest_update_imports_cell) { window._pyforest_update_imports_cell('import re'); }\n",
       "    "
      ],
      "text/plain": [
       "<IPython.core.display.Javascript object>"
      ]
     },
     "metadata": {},
     "output_type": "display_data"
    },
    {
     "data": {
      "application/javascript": [
       "\n",
       "        if (window._pyforest_update_imports_cell) { window._pyforest_update_imports_cell('import re'); }\n",
       "    "
      ],
      "text/plain": [
       "<IPython.core.display.Javascript object>"
      ]
     },
     "metadata": {},
     "output_type": "display_data"
    },
    {
     "data": {
      "application/javascript": [
       "\n",
       "        if (window._pyforest_update_imports_cell) { window._pyforest_update_imports_cell('import re'); }\n",
       "    "
      ],
      "text/plain": [
       "<IPython.core.display.Javascript object>"
      ]
     },
     "metadata": {},
     "output_type": "display_data"
    },
    {
     "data": {
      "application/javascript": [
       "\n",
       "        if (window._pyforest_update_imports_cell) { window._pyforest_update_imports_cell('import re'); }\n",
       "    "
      ],
      "text/plain": [
       "<IPython.core.display.Javascript object>"
      ]
     },
     "metadata": {},
     "output_type": "display_data"
    },
    {
     "name": "stdout",
     "output_type": "stream",
     "text": [
      "Successfully retrieved 105 - https://www.halfbakedharvest.com/caramelized-corn-heirloom-tomato-galette-wherbed-roasted-garlic-goat-cheese/ with proxy 181.114.61.17:8085\n"
     ]
    },
    {
     "data": {
      "application/javascript": [
       "\n",
       "        if (window._pyforest_update_imports_cell) { window._pyforest_update_imports_cell('import re'); }\n",
       "    "
      ],
      "text/plain": [
       "<IPython.core.display.Javascript object>"
      ]
     },
     "metadata": {},
     "output_type": "display_data"
    },
    {
     "data": {
      "application/javascript": [
       "\n",
       "        if (window._pyforest_update_imports_cell) { window._pyforest_update_imports_cell('import re'); }\n",
       "    "
      ],
      "text/plain": [
       "<IPython.core.display.Javascript object>"
      ]
     },
     "metadata": {},
     "output_type": "display_data"
    },
    {
     "data": {
      "application/javascript": [
       "\n",
       "        if (window._pyforest_update_imports_cell) { window._pyforest_update_imports_cell('import re'); }\n",
       "    "
      ],
      "text/plain": [
       "<IPython.core.display.Javascript object>"
      ]
     },
     "metadata": {},
     "output_type": "display_data"
    },
    {
     "name": "stdout",
     "output_type": "stream",
     "text": [
      "Successfully retrieved 106 - https://www.halfbakedharvest.com/cheesy-margarita-pizza-hummus-grilled-pesto-pizza-bread/ with proxy 35.220.254.137:8080\n",
      "Proxy 181.114.61.17:8085 failed for https://www.halfbakedharvest.com/easy-grilled-parmesan-polenta-chips/: HTTPSConnectionPool(host='www.halfbakedharvest.com', port=443): Max retries exceeded with url: /easy-grilled-parmesan-polenta-chips/ (Caused by ProxyError('Unable to connect to proxy', ConnectTimeoutError(<urllib3.connection.HTTPSConnection object at 0x127a6b970>, 'Connection to 181.114.61.17 timed out. (connect timeout=30)')))\n"
     ]
    },
    {
     "data": {
      "application/javascript": [
       "\n",
       "        if (window._pyforest_update_imports_cell) { window._pyforest_update_imports_cell('import re'); }\n",
       "    "
      ],
      "text/plain": [
       "<IPython.core.display.Javascript object>"
      ]
     },
     "metadata": {},
     "output_type": "display_data"
    },
    {
     "data": {
      "application/javascript": [
       "\n",
       "        if (window._pyforest_update_imports_cell) { window._pyforest_update_imports_cell('import re'); }\n",
       "    "
      ],
      "text/plain": [
       "<IPython.core.display.Javascript object>"
      ]
     },
     "metadata": {},
     "output_type": "display_data"
    },
    {
     "data": {
      "application/javascript": [
       "\n",
       "        if (window._pyforest_update_imports_cell) { window._pyforest_update_imports_cell('import re'); }\n",
       "    "
      ],
      "text/plain": [
       "<IPython.core.display.Javascript object>"
      ]
     },
     "metadata": {},
     "output_type": "display_data"
    },
    {
     "name": "stdout",
     "output_type": "stream",
     "text": [
      "Successfully retrieved 108 - https://www.halfbakedharvest.com/spinach-artichoke-corn-fritters-brie-sweet-honey-jalapeno-cream/ with proxy 35.220.254.137:8080\n",
      "Proxy 181.114.61.17:8085 failed for https://www.halfbakedharvest.com/hawaiian-shrimp-truck-special-garlic-lemon-butter-shrimp/: HTTPSConnectionPool(host='www.halfbakedharvest.com', port=443): Max retries exceeded with url: /hawaiian-shrimp-truck-special-garlic-lemon-butter-shrimp/ (Caused by ProxyError('Unable to connect to proxy', ConnectTimeoutError(<urllib3.connection.HTTPSConnection object at 0x117f7e070>, 'Connection to 181.114.61.17 timed out. (connect timeout=30)')))\n"
     ]
    },
    {
     "data": {
      "application/javascript": [
       "\n",
       "        if (window._pyforest_update_imports_cell) { window._pyforest_update_imports_cell('import re'); }\n",
       "    "
      ],
      "text/plain": [
       "<IPython.core.display.Javascript object>"
      ]
     },
     "metadata": {},
     "output_type": "display_data"
    },
    {
     "data": {
      "application/javascript": [
       "\n",
       "        if (window._pyforest_update_imports_cell) { window._pyforest_update_imports_cell('import re'); }\n",
       "    "
      ],
      "text/plain": [
       "<IPython.core.display.Javascript object>"
      ]
     },
     "metadata": {},
     "output_type": "display_data"
    },
    {
     "data": {
      "application/javascript": [
       "\n",
       "        if (window._pyforest_update_imports_cell) { window._pyforest_update_imports_cell('import re'); }\n",
       "    "
      ],
      "text/plain": [
       "<IPython.core.display.Javascript object>"
      ]
     },
     "metadata": {},
     "output_type": "display_data"
    },
    {
     "name": "stdout",
     "output_type": "stream",
     "text": [
      "Successfully retrieved 110 - https://www.halfbakedharvest.com/cheesy-black-bean-quinoa-taco-bake/ with proxy 35.220.254.137:8080\n",
      "Proxy 181.114.61.17:8085 failed for https://www.halfbakedharvest.com/irish-tater-nachos/: HTTPSConnectionPool(host='www.halfbakedharvest.com', port=443): Max retries exceeded with url: /irish-tater-nachos/ (Caused by ProxyError('Unable to connect to proxy', ConnectTimeoutError(<urllib3.connection.HTTPSConnection object at 0x127107670>, 'Connection to 181.114.61.17 timed out. (connect timeout=30)')))\n"
     ]
    },
    {
     "data": {
      "application/javascript": [
       "\n",
       "        if (window._pyforest_update_imports_cell) { window._pyforest_update_imports_cell('import re'); }\n",
       "    "
      ],
      "text/plain": [
       "<IPython.core.display.Javascript object>"
      ]
     },
     "metadata": {},
     "output_type": "display_data"
    },
    {
     "data": {
      "application/javascript": [
       "\n",
       "        if (window._pyforest_update_imports_cell) { window._pyforest_update_imports_cell('import re'); }\n",
       "    "
      ],
      "text/plain": [
       "<IPython.core.display.Javascript object>"
      ]
     },
     "metadata": {},
     "output_type": "display_data"
    },
    {
     "name": "stdout",
     "output_type": "stream",
     "text": [
      "Successfully retrieved 112 - https://www.halfbakedharvest.com/ridiculously-easy-classic-fiesta-guacamole/ with proxy 35.220.254.137:8080\n"
     ]
    },
    {
     "data": {
      "application/javascript": [
       "\n",
       "        if (window._pyforest_update_imports_cell) { window._pyforest_update_imports_cell('import re'); }\n",
       "    "
      ],
      "text/plain": [
       "<IPython.core.display.Javascript object>"
      ]
     },
     "metadata": {},
     "output_type": "display_data"
    },
    {
     "data": {
      "application/javascript": [
       "\n",
       "        if (window._pyforest_update_imports_cell) { window._pyforest_update_imports_cell('import re'); }\n",
       "    "
      ],
      "text/plain": [
       "<IPython.core.display.Javascript object>"
      ]
     },
     "metadata": {},
     "output_type": "display_data"
    },
    {
     "data": {
      "application/javascript": [
       "\n",
       "        if (window._pyforest_update_imports_cell) { window._pyforest_update_imports_cell('import re'); }\n",
       "    "
      ],
      "text/plain": [
       "<IPython.core.display.Javascript object>"
      ]
     },
     "metadata": {},
     "output_type": "display_data"
    },
    {
     "data": {
      "application/javascript": [
       "\n",
       "        if (window._pyforest_update_imports_cell) { window._pyforest_update_imports_cell('import re'); }\n",
       "    "
      ],
      "text/plain": [
       "<IPython.core.display.Javascript object>"
      ]
     },
     "metadata": {},
     "output_type": "display_data"
    },
    {
     "name": "stdout",
     "output_type": "stream",
     "text": [
      "Successfully retrieved 113 - https://www.halfbakedharvest.com/moms-secret-christmas-eve-chex-mix/ with proxy 181.114.61.17:8085\n"
     ]
    },
    {
     "data": {
      "application/javascript": [
       "\n",
       "        if (window._pyforest_update_imports_cell) { window._pyforest_update_imports_cell('import re'); }\n",
       "    "
      ],
      "text/plain": [
       "<IPython.core.display.Javascript object>"
      ]
     },
     "metadata": {},
     "output_type": "display_data"
    },
    {
     "data": {
      "application/javascript": [
       "\n",
       "        if (window._pyforest_update_imports_cell) { window._pyforest_update_imports_cell('import re'); }\n",
       "    "
      ],
      "text/plain": [
       "<IPython.core.display.Javascript object>"
      ]
     },
     "metadata": {},
     "output_type": "display_data"
    },
    {
     "data": {
      "application/javascript": [
       "\n",
       "        if (window._pyforest_update_imports_cell) { window._pyforest_update_imports_cell('import re'); }\n",
       "    "
      ],
      "text/plain": [
       "<IPython.core.display.Javascript object>"
      ]
     },
     "metadata": {},
     "output_type": "display_data"
    },
    {
     "name": "stdout",
     "output_type": "stream",
     "text": [
      "Successfully retrieved 114 - https://www.halfbakedharvest.com/coconut-crusted-brie-stuffed-quinoa-bites/ with proxy 35.220.254.137:8080\n",
      "Proxy 181.114.61.17:8085 failed for https://www.halfbakedharvest.com/curried-sweet-potato-rounds-honeyed-walnuts-cranberries-blue-cheese/: HTTPSConnectionPool(host='www.halfbakedharvest.com', port=443): Max retries exceeded with url: /curried-sweet-potato-rounds-honeyed-walnuts-cranberries-blue-cheese/ (Caused by ProxyError('Unable to connect to proxy', ConnectTimeoutError(<urllib3.connection.HTTPSConnection object at 0x127a70dc0>, 'Connection to 181.114.61.17 timed out. (connect timeout=30)')))\n"
     ]
    },
    {
     "data": {
      "application/javascript": [
       "\n",
       "        if (window._pyforest_update_imports_cell) { window._pyforest_update_imports_cell('import re'); }\n",
       "    "
      ],
      "text/plain": [
       "<IPython.core.display.Javascript object>"
      ]
     },
     "metadata": {},
     "output_type": "display_data"
    },
    {
     "data": {
      "application/javascript": [
       "\n",
       "        if (window._pyforest_update_imports_cell) { window._pyforest_update_imports_cell('import re'); }\n",
       "    "
      ],
      "text/plain": [
       "<IPython.core.display.Javascript object>"
      ]
     },
     "metadata": {},
     "output_type": "display_data"
    },
    {
     "data": {
      "application/javascript": [
       "\n",
       "        if (window._pyforest_update_imports_cell) { window._pyforest_update_imports_cell('import re'); }\n",
       "    "
      ],
      "text/plain": [
       "<IPython.core.display.Javascript object>"
      ]
     },
     "metadata": {},
     "output_type": "display_data"
    },
    {
     "name": "stdout",
     "output_type": "stream",
     "text": [
      "Successfully retrieved 116 - https://www.halfbakedharvest.com/cranberry-butternut-brussels-sprout-brie-skillet-nachos/ with proxy 35.220.254.137:8080\n",
      "Proxy 181.114.61.17:8085 failed for https://www.halfbakedharvest.com/20-minute-chicken-cheesesteak-sloppy-joe-sliders/: HTTPSConnectionPool(host='www.halfbakedharvest.com', port=443): Max retries exceeded with url: /20-minute-chicken-cheesesteak-sloppy-joe-sliders/ (Caused by ProxyError('Unable to connect to proxy', ConnectTimeoutError(<urllib3.connection.HTTPSConnection object at 0x117fc73a0>, 'Connection to 181.114.61.17 timed out. (connect timeout=30)')))\n"
     ]
    },
    {
     "data": {
      "application/javascript": [
       "\n",
       "        if (window._pyforest_update_imports_cell) { window._pyforest_update_imports_cell('import re'); }\n",
       "    "
      ],
      "text/plain": [
       "<IPython.core.display.Javascript object>"
      ]
     },
     "metadata": {},
     "output_type": "display_data"
    },
    {
     "data": {
      "application/javascript": [
       "\n",
       "        if (window._pyforest_update_imports_cell) { window._pyforest_update_imports_cell('import re'); }\n",
       "    "
      ],
      "text/plain": [
       "<IPython.core.display.Javascript object>"
      ]
     },
     "metadata": {},
     "output_type": "display_data"
    },
    {
     "data": {
      "application/javascript": [
       "\n",
       "        if (window._pyforest_update_imports_cell) { window._pyforest_update_imports_cell('import re'); }\n",
       "    "
      ],
      "text/plain": [
       "<IPython.core.display.Javascript object>"
      ]
     },
     "metadata": {},
     "output_type": "display_data"
    },
    {
     "name": "stdout",
     "output_type": "stream",
     "text": [
      "Successfully retrieved 118 - https://www.halfbakedharvest.com/loaded-greek-goddess-chickpea-quinoa-pita-chip-nachos/ with proxy 35.220.254.137:8080\n",
      "Proxy 181.114.61.17:8085 failed for https://www.halfbakedharvest.com/sweet-potato-bites/: HTTPSConnectionPool(host='www.halfbakedharvest.com', port=443): Max retries exceeded with url: /sweet-potato-bites/ (Caused by ProxyError('Unable to connect to proxy', ConnectTimeoutError(<urllib3.connection.HTTPSConnection object at 0x1273281f0>, 'Connection to 181.114.61.17 timed out. (connect timeout=30)')))\n"
     ]
    },
    {
     "data": {
      "application/javascript": [
       "\n",
       "        if (window._pyforest_update_imports_cell) { window._pyforest_update_imports_cell('import re'); }\n",
       "    "
      ],
      "text/plain": [
       "<IPython.core.display.Javascript object>"
      ]
     },
     "metadata": {},
     "output_type": "display_data"
    },
    {
     "data": {
      "application/javascript": [
       "\n",
       "        if (window._pyforest_update_imports_cell) { window._pyforest_update_imports_cell('import re'); }\n",
       "    "
      ],
      "text/plain": [
       "<IPython.core.display.Javascript object>"
      ]
     },
     "metadata": {},
     "output_type": "display_data"
    },
    {
     "data": {
      "application/javascript": [
       "\n",
       "        if (window._pyforest_update_imports_cell) { window._pyforest_update_imports_cell('import re'); }\n",
       "    "
      ],
      "text/plain": [
       "<IPython.core.display.Javascript object>"
      ]
     },
     "metadata": {},
     "output_type": "display_data"
    },
    {
     "name": "stdout",
     "output_type": "stream",
     "text": [
      "Successfully retrieved 120 - https://www.halfbakedharvest.com/cheesy-soft-pretzel-bites/ with proxy 35.220.254.137:8080\n",
      "Proxy 181.114.61.17:8085 failed for https://www.halfbakedharvest.com/caprese-garlic-bread/: HTTPSConnectionPool(host='www.halfbakedharvest.com', port=443): Max retries exceeded with url: /caprese-garlic-bread/ (Caused by ProxyError('Unable to connect to proxy', ConnectTimeoutError(<urllib3.connection.HTTPSConnection object at 0x12786e310>, 'Connection to 181.114.61.17 timed out. (connect timeout=30)')))\n"
     ]
    },
    {
     "data": {
      "application/javascript": [
       "\n",
       "        if (window._pyforest_update_imports_cell) { window._pyforest_update_imports_cell('import re'); }\n",
       "    "
      ],
      "text/plain": [
       "<IPython.core.display.Javascript object>"
      ]
     },
     "metadata": {},
     "output_type": "display_data"
    },
    {
     "data": {
      "application/javascript": [
       "\n",
       "        if (window._pyforest_update_imports_cell) { window._pyforest_update_imports_cell('import re'); }\n",
       "    "
      ],
      "text/plain": [
       "<IPython.core.display.Javascript object>"
      ]
     },
     "metadata": {},
     "output_type": "display_data"
    },
    {
     "name": "stdout",
     "output_type": "stream",
     "text": [
      "Successfully retrieved 122 - https://www.halfbakedharvest.com/strawberry-watermelon-salad/ with proxy 35.220.254.137:8080\n",
      "Proxy 181.114.61.17:8085 failed for https://www.halfbakedharvest.com/avocado-shrimp-salsa/: HTTPSConnectionPool(host='www.halfbakedharvest.com', port=443): Max retries exceeded with url: /avocado-shrimp-salsa/ (Caused by ProxyError('Unable to connect to proxy', ConnectTimeoutError(<urllib3.connection.HTTPSConnection object at 0x1272ecb50>, 'Connection to 181.114.61.17 timed out. (connect timeout=30)')))\n"
     ]
    },
    {
     "data": {
      "application/javascript": [
       "\n",
       "        if (window._pyforest_update_imports_cell) { window._pyforest_update_imports_cell('import re'); }\n",
       "    "
      ],
      "text/plain": [
       "<IPython.core.display.Javascript object>"
      ]
     },
     "metadata": {},
     "output_type": "display_data"
    },
    {
     "data": {
      "application/javascript": [
       "\n",
       "        if (window._pyforest_update_imports_cell) { window._pyforest_update_imports_cell('import re'); }\n",
       "    "
      ],
      "text/plain": [
       "<IPython.core.display.Javascript object>"
      ]
     },
     "metadata": {},
     "output_type": "display_data"
    },
    {
     "data": {
      "application/javascript": [
       "\n",
       "        if (window._pyforest_update_imports_cell) { window._pyforest_update_imports_cell('import re'); }\n",
       "    "
      ],
      "text/plain": [
       "<IPython.core.display.Javascript object>"
      ]
     },
     "metadata": {},
     "output_type": "display_data"
    },
    {
     "name": "stdout",
     "output_type": "stream",
     "text": [
      "Successfully retrieved 124 - https://www.halfbakedharvest.com/jalapeno-cheddar-popovers/ with proxy 35.220.254.137:8080\n",
      "Proxy 181.114.61.17:8085 failed for https://www.halfbakedharvest.com/summer-rolls/: HTTPSConnectionPool(host='www.halfbakedharvest.com', port=443): Max retries exceeded with url: /summer-rolls/ (Caused by ProxyError('Unable to connect to proxy', ConnectTimeoutError(<urllib3.connection.HTTPSConnection object at 0x127cd7040>, 'Connection to 181.114.61.17 timed out. (connect timeout=30)')))\n"
     ]
    },
    {
     "data": {
      "application/javascript": [
       "\n",
       "        if (window._pyforest_update_imports_cell) { window._pyforest_update_imports_cell('import re'); }\n",
       "    "
      ],
      "text/plain": [
       "<IPython.core.display.Javascript object>"
      ]
     },
     "metadata": {},
     "output_type": "display_data"
    },
    {
     "data": {
      "application/javascript": [
       "\n",
       "        if (window._pyforest_update_imports_cell) { window._pyforest_update_imports_cell('import re'); }\n",
       "    "
      ],
      "text/plain": [
       "<IPython.core.display.Javascript object>"
      ]
     },
     "metadata": {},
     "output_type": "display_data"
    },
    {
     "data": {
      "application/javascript": [
       "\n",
       "        if (window._pyforest_update_imports_cell) { window._pyforest_update_imports_cell('import re'); }\n",
       "    "
      ],
      "text/plain": [
       "<IPython.core.display.Javascript object>"
      ]
     },
     "metadata": {},
     "output_type": "display_data"
    },
    {
     "name": "stdout",
     "output_type": "stream",
     "text": [
      "Successfully retrieved 126 - https://www.halfbakedharvest.com/crumbled-feta-and-tomato-basil-vinaigrette-dip/ with proxy 35.220.254.137:8080\n",
      "Proxy 181.114.61.17:8085 failed for https://www.halfbakedharvest.com/cheese-rangoons/: HTTPSConnectionPool(host='www.halfbakedharvest.com', port=443): Max retries exceeded with url: /cheese-rangoons/ (Caused by ProxyError('Unable to connect to proxy', ConnectTimeoutError(<urllib3.connection.HTTPSConnection object at 0x120359850>, 'Connection to 181.114.61.17 timed out. (connect timeout=30)')))\n"
     ]
    },
    {
     "data": {
      "application/javascript": [
       "\n",
       "        if (window._pyforest_update_imports_cell) { window._pyforest_update_imports_cell('import re'); }\n",
       "    "
      ],
      "text/plain": [
       "<IPython.core.display.Javascript object>"
      ]
     },
     "metadata": {},
     "output_type": "display_data"
    },
    {
     "data": {
      "application/javascript": [
       "\n",
       "        if (window._pyforest_update_imports_cell) { window._pyforest_update_imports_cell('import re'); }\n",
       "    "
      ],
      "text/plain": [
       "<IPython.core.display.Javascript object>"
      ]
     },
     "metadata": {},
     "output_type": "display_data"
    },
    {
     "data": {
      "application/javascript": [
       "\n",
       "        if (window._pyforest_update_imports_cell) { window._pyforest_update_imports_cell('import re'); }\n",
       "    "
      ],
      "text/plain": [
       "<IPython.core.display.Javascript object>"
      ]
     },
     "metadata": {},
     "output_type": "display_data"
    },
    {
     "name": "stdout",
     "output_type": "stream",
     "text": [
      "Successfully retrieved 128 - https://www.halfbakedharvest.com/spinach-and-brie-triangles/ with proxy 35.220.254.137:8080\n",
      "Proxy 181.114.61.17:8085 failed for https://www.halfbakedharvest.com/roasted-cauliflower-hummus/: HTTPSConnectionPool(host='www.halfbakedharvest.com', port=443): Max retries exceeded with url: /roasted-cauliflower-hummus/ (Caused by ProxyError('Unable to connect to proxy', ConnectTimeoutError(<urllib3.connection.HTTPSConnection object at 0x1275b29d0>, 'Connection to 181.114.61.17 timed out. (connect timeout=30)')))\n"
     ]
    },
    {
     "data": {
      "application/javascript": [
       "\n",
       "        if (window._pyforest_update_imports_cell) { window._pyforest_update_imports_cell('import re'); }\n",
       "    "
      ],
      "text/plain": [
       "<IPython.core.display.Javascript object>"
      ]
     },
     "metadata": {},
     "output_type": "display_data"
    },
    {
     "data": {
      "application/javascript": [
       "\n",
       "        if (window._pyforest_update_imports_cell) { window._pyforest_update_imports_cell('import re'); }\n",
       "    "
      ],
      "text/plain": [
       "<IPython.core.display.Javascript object>"
      ]
     },
     "metadata": {},
     "output_type": "display_data"
    },
    {
     "data": {
      "application/javascript": [
       "\n",
       "        if (window._pyforest_update_imports_cell) { window._pyforest_update_imports_cell('import re'); }\n",
       "    "
      ],
      "text/plain": [
       "<IPython.core.display.Javascript object>"
      ]
     },
     "metadata": {},
     "output_type": "display_data"
    },
    {
     "name": "stdout",
     "output_type": "stream",
     "text": [
      "Successfully retrieved 130 - https://www.halfbakedharvest.com/fried-feta-rolls/ with proxy 35.220.254.137:8080\n",
      "Proxy 181.114.61.17:8085 failed for https://www.halfbakedharvest.com/artichoke-gouda-tart/: HTTPSConnectionPool(host='www.halfbakedharvest.com', port=443): Max retries exceeded with url: /artichoke-gouda-tart/ (Caused by ProxyError('Unable to connect to proxy', ConnectTimeoutError(<urllib3.connection.HTTPSConnection object at 0x127ca8bb0>, 'Connection to 181.114.61.17 timed out. (connect timeout=30)')))\n"
     ]
    },
    {
     "data": {
      "application/javascript": [
       "\n",
       "        if (window._pyforest_update_imports_cell) { window._pyforest_update_imports_cell('import re'); }\n",
       "    "
      ],
      "text/plain": [
       "<IPython.core.display.Javascript object>"
      ]
     },
     "metadata": {},
     "output_type": "display_data"
    },
    {
     "data": {
      "application/javascript": [
       "\n",
       "        if (window._pyforest_update_imports_cell) { window._pyforest_update_imports_cell('import re'); }\n",
       "    "
      ],
      "text/plain": [
       "<IPython.core.display.Javascript object>"
      ]
     },
     "metadata": {},
     "output_type": "display_data"
    },
    {
     "data": {
      "application/javascript": [
       "\n",
       "        if (window._pyforest_update_imports_cell) { window._pyforest_update_imports_cell('import re'); }\n",
       "    "
      ],
      "text/plain": [
       "<IPython.core.display.Javascript object>"
      ]
     },
     "metadata": {},
     "output_type": "display_data"
    },
    {
     "name": "stdout",
     "output_type": "stream",
     "text": [
      "Successfully retrieved 132 - https://www.halfbakedharvest.com/garlic-herb-roasted-olives/ with proxy 35.220.254.137:8080\n",
      "Proxy 181.114.61.17:8085 failed for https://www.halfbakedharvest.com/oregano-roasted-potatoes/: HTTPSConnectionPool(host='www.halfbakedharvest.com', port=443): Max retries exceeded with url: /oregano-roasted-potatoes/ (Caused by ProxyError('Unable to connect to proxy', ConnectTimeoutError(<urllib3.connection.HTTPSConnection object at 0x1276caa90>, 'Connection to 181.114.61.17 timed out. (connect timeout=30)')))\n"
     ]
    },
    {
     "data": {
      "application/javascript": [
       "\n",
       "        if (window._pyforest_update_imports_cell) { window._pyforest_update_imports_cell('import re'); }\n",
       "    "
      ],
      "text/plain": [
       "<IPython.core.display.Javascript object>"
      ]
     },
     "metadata": {},
     "output_type": "display_data"
    },
    {
     "data": {
      "application/javascript": [
       "\n",
       "        if (window._pyforest_update_imports_cell) { window._pyforest_update_imports_cell('import re'); }\n",
       "    "
      ],
      "text/plain": [
       "<IPython.core.display.Javascript object>"
      ]
     },
     "metadata": {},
     "output_type": "display_data"
    },
    {
     "data": {
      "application/javascript": [
       "\n",
       "        if (window._pyforest_update_imports_cell) { window._pyforest_update_imports_cell('import re'); }\n",
       "    "
      ],
      "text/plain": [
       "<IPython.core.display.Javascript object>"
      ]
     },
     "metadata": {},
     "output_type": "display_data"
    },
    {
     "name": "stdout",
     "output_type": "stream",
     "text": [
      "Successfully retrieved 134 - https://www.halfbakedharvest.com/jalapeno-cream-cheese-buffalo-chicken-taquitos/ with proxy 35.220.254.137:8080\n",
      "Proxy 181.114.61.17:8085 failed for https://www.halfbakedharvest.com/nacho-fries/: HTTPSConnectionPool(host='www.halfbakedharvest.com', port=443): Max retries exceeded with url: /nacho-fries/ (Caused by ProxyError('Unable to connect to proxy', ConnectTimeoutError(<urllib3.connection.HTTPSConnection object at 0x12002a2b0>, 'Connection to 181.114.61.17 timed out. (connect timeout=30)')))\n"
     ]
    },
    {
     "data": {
      "application/javascript": [
       "\n",
       "        if (window._pyforest_update_imports_cell) { window._pyforest_update_imports_cell('import re'); }\n",
       "    "
      ],
      "text/plain": [
       "<IPython.core.display.Javascript object>"
      ]
     },
     "metadata": {},
     "output_type": "display_data"
    },
    {
     "data": {
      "application/javascript": [
       "\n",
       "        if (window._pyforest_update_imports_cell) { window._pyforest_update_imports_cell('import re'); }\n",
       "    "
      ],
      "text/plain": [
       "<IPython.core.display.Javascript object>"
      ]
     },
     "metadata": {},
     "output_type": "display_data"
    },
    {
     "data": {
      "application/javascript": [
       "\n",
       "        if (window._pyforest_update_imports_cell) { window._pyforest_update_imports_cell('import re'); }\n",
       "    "
      ],
      "text/plain": [
       "<IPython.core.display.Javascript object>"
      ]
     },
     "metadata": {},
     "output_type": "display_data"
    },
    {
     "name": "stdout",
     "output_type": "stream",
     "text": [
      "Successfully retrieved 136 - https://www.halfbakedharvest.com/hot-honey-popcorn-chicken/ with proxy 35.220.254.137:8080\n",
      "Proxy 181.114.61.17:8085 failed for https://www.halfbakedharvest.com/chipotle-chicken-nachos/: HTTPSConnectionPool(host='www.halfbakedharvest.com', port=443): Max retries exceeded with url: /chipotle-chicken-nachos/ (Caused by ProxyError('Unable to connect to proxy', ConnectTimeoutError(<urllib3.connection.HTTPSConnection object at 0x127717640>, 'Connection to 181.114.61.17 timed out. (connect timeout=30)')))\n"
     ]
    },
    {
     "data": {
      "application/javascript": [
       "\n",
       "        if (window._pyforest_update_imports_cell) { window._pyforest_update_imports_cell('import re'); }\n",
       "    "
      ],
      "text/plain": [
       "<IPython.core.display.Javascript object>"
      ]
     },
     "metadata": {},
     "output_type": "display_data"
    },
    {
     "data": {
      "application/javascript": [
       "\n",
       "        if (window._pyforest_update_imports_cell) { window._pyforest_update_imports_cell('import re'); }\n",
       "    "
      ],
      "text/plain": [
       "<IPython.core.display.Javascript object>"
      ]
     },
     "metadata": {},
     "output_type": "display_data"
    },
    {
     "data": {
      "application/javascript": [
       "\n",
       "        if (window._pyforest_update_imports_cell) { window._pyforest_update_imports_cell('import re'); }\n",
       "    "
      ],
      "text/plain": [
       "<IPython.core.display.Javascript object>"
      ]
     },
     "metadata": {},
     "output_type": "display_data"
    },
    {
     "name": "stdout",
     "output_type": "stream",
     "text": [
      "Successfully retrieved 138 - https://www.halfbakedharvest.com/buffalo-cauliflower/ with proxy 35.220.254.137:8080\n",
      "Proxy 181.114.61.17:8085 failed for https://www.halfbakedharvest.com/christmas-tree-cheese-board/: HTTPSConnectionPool(host='www.halfbakedharvest.com', port=443): Max retries exceeded with url: /christmas-tree-cheese-board/ (Caused by ProxyError('Unable to connect to proxy', ConnectTimeoutError(<urllib3.connection.HTTPSConnection object at 0x127195ac0>, 'Connection to 181.114.61.17 timed out. (connect timeout=30)')))\n"
     ]
    },
    {
     "data": {
      "application/javascript": [
       "\n",
       "        if (window._pyforest_update_imports_cell) { window._pyforest_update_imports_cell('import re'); }\n",
       "    "
      ],
      "text/plain": [
       "<IPython.core.display.Javascript object>"
      ]
     },
     "metadata": {},
     "output_type": "display_data"
    },
    {
     "data": {
      "application/javascript": [
       "\n",
       "        if (window._pyforest_update_imports_cell) { window._pyforest_update_imports_cell('import re'); }\n",
       "    "
      ],
      "text/plain": [
       "<IPython.core.display.Javascript object>"
      ]
     },
     "metadata": {},
     "output_type": "display_data"
    },
    {
     "data": {
      "application/javascript": [
       "\n",
       "        if (window._pyforest_update_imports_cell) { window._pyforest_update_imports_cell('import re'); }\n",
       "    "
      ],
      "text/plain": [
       "<IPython.core.display.Javascript object>"
      ]
     },
     "metadata": {},
     "output_type": "display_data"
    },
    {
     "name": "stdout",
     "output_type": "stream",
     "text": [
      "Successfully retrieved 140 - https://www.halfbakedharvest.com/baked-gruyere-in-pastry/ with proxy 35.220.254.137:8080\n",
      "Proxy 181.114.61.17:8085 failed for https://www.halfbakedharvest.com/crispy-sesame-ginger-egg-rolls-with-sweet-chili-sauce/: HTTPSConnectionPool(host='www.halfbakedharvest.com', port=443): Max retries exceeded with url: /crispy-sesame-ginger-egg-rolls-with-sweet-chili-sauce/ (Caused by ProxyError('Unable to connect to proxy', ConnectTimeoutError(<urllib3.connection.HTTPSConnection object at 0x127adc340>, 'Connection to 181.114.61.17 timed out. (connect timeout=30)')))\n"
     ]
    },
    {
     "data": {
      "application/javascript": [
       "\n",
       "        if (window._pyforest_update_imports_cell) { window._pyforest_update_imports_cell('import re'); }\n",
       "    "
      ],
      "text/plain": [
       "<IPython.core.display.Javascript object>"
      ]
     },
     "metadata": {},
     "output_type": "display_data"
    },
    {
     "data": {
      "application/javascript": [
       "\n",
       "        if (window._pyforest_update_imports_cell) { window._pyforest_update_imports_cell('import re'); }\n",
       "    "
      ],
      "text/plain": [
       "<IPython.core.display.Javascript object>"
      ]
     },
     "metadata": {},
     "output_type": "display_data"
    },
    {
     "data": {
      "application/javascript": [
       "\n",
       "        if (window._pyforest_update_imports_cell) { window._pyforest_update_imports_cell('import re'); }\n",
       "    "
      ],
      "text/plain": [
       "<IPython.core.display.Javascript object>"
      ]
     },
     "metadata": {},
     "output_type": "display_data"
    },
    {
     "name": "stdout",
     "output_type": "stream",
     "text": [
      "Successfully retrieved 142 - https://www.halfbakedharvest.com/prosciutto-and-cheese-pastry-twist/ with proxy 35.220.254.137:8080\n",
      "Proxy 181.114.61.17:8085 failed for https://www.halfbakedharvest.com/pastry-wrapped-cranberry-baked-brie/: HTTPSConnectionPool(host='www.halfbakedharvest.com', port=443): Max retries exceeded with url: /pastry-wrapped-cranberry-baked-brie/ (Caused by ProxyError('Unable to connect to proxy', ConnectTimeoutError(<urllib3.connection.HTTPSConnection object at 0x1278a5700>, 'Connection to 181.114.61.17 timed out. (connect timeout=30)')))\n"
     ]
    },
    {
     "data": {
      "application/javascript": [
       "\n",
       "        if (window._pyforest_update_imports_cell) { window._pyforest_update_imports_cell('import re'); }\n",
       "    "
      ],
      "text/plain": [
       "<IPython.core.display.Javascript object>"
      ]
     },
     "metadata": {},
     "output_type": "display_data"
    },
    {
     "data": {
      "application/javascript": [
       "\n",
       "        if (window._pyforest_update_imports_cell) { window._pyforest_update_imports_cell('import re'); }\n",
       "    "
      ],
      "text/plain": [
       "<IPython.core.display.Javascript object>"
      ]
     },
     "metadata": {},
     "output_type": "display_data"
    },
    {
     "data": {
      "application/javascript": [
       "\n",
       "        if (window._pyforest_update_imports_cell) { window._pyforest_update_imports_cell('import re'); }\n",
       "    "
      ],
      "text/plain": [
       "<IPython.core.display.Javascript object>"
      ]
     },
     "metadata": {},
     "output_type": "display_data"
    },
    {
     "name": "stdout",
     "output_type": "stream",
     "text": [
      "Successfully retrieved 144 - https://www.halfbakedharvest.com/bacon-wrapped-parmesan-brussels-sprouts/ with proxy 35.220.254.137:8080\n",
      "Proxy 181.114.61.17:8085 failed for https://www.halfbakedharvest.com/goat-cheese-with-warm-candied-bacon/: HTTPSConnectionPool(host='www.halfbakedharvest.com', port=443): Max retries exceeded with url: /goat-cheese-with-warm-candied-bacon/ (Caused by ProxyError('Unable to connect to proxy', ConnectTimeoutError(<urllib3.connection.HTTPSConnection object at 0x12015b070>, 'Connection to 181.114.61.17 timed out. (connect timeout=30)')))\n"
     ]
    },
    {
     "data": {
      "application/javascript": [
       "\n",
       "        if (window._pyforest_update_imports_cell) { window._pyforest_update_imports_cell('import re'); }\n",
       "    "
      ],
      "text/plain": [
       "<IPython.core.display.Javascript object>"
      ]
     },
     "metadata": {},
     "output_type": "display_data"
    },
    {
     "data": {
      "application/javascript": [
       "\n",
       "        if (window._pyforest_update_imports_cell) { window._pyforest_update_imports_cell('import re'); }\n",
       "    "
      ],
      "text/plain": [
       "<IPython.core.display.Javascript object>"
      ]
     },
     "metadata": {},
     "output_type": "display_data"
    },
    {
     "data": {
      "application/javascript": [
       "\n",
       "        if (window._pyforest_update_imports_cell) { window._pyforest_update_imports_cell('import re'); }\n",
       "    "
      ],
      "text/plain": [
       "<IPython.core.display.Javascript object>"
      ]
     },
     "metadata": {},
     "output_type": "display_data"
    },
    {
     "data": {
      "application/javascript": [
       "\n",
       "        if (window._pyforest_update_imports_cell) { window._pyforest_update_imports_cell('import re'); }\n",
       "    "
      ],
      "text/plain": [
       "<IPython.core.display.Javascript object>"
      ]
     },
     "metadata": {},
     "output_type": "display_data"
    },
    {
     "name": "stdout",
     "output_type": "stream",
     "text": [
      "Successfully retrieved 146 - https://www.halfbakedharvest.com/pizza-dip-sliders/ with proxy 35.220.254.137:8080\n",
      "Proxy 181.114.61.17:8085 failed for https://www.halfbakedharvest.com/soft-garlic-herb-cheddar-cheese-bread/: HTTPSConnectionPool(host='www.halfbakedharvest.com', port=443): Max retries exceeded with url: /soft-garlic-herb-cheddar-cheese-bread/ (Caused by ProxyError('Unable to connect to proxy', ConnectTimeoutError(<urllib3.connection.HTTPSConnection object at 0x1176d8340>, 'Connection to 181.114.61.17 timed out. (connect timeout=30)')))\n"
     ]
    },
    {
     "data": {
      "application/javascript": [
       "\n",
       "        if (window._pyforest_update_imports_cell) { window._pyforest_update_imports_cell('import re'); }\n",
       "    "
      ],
      "text/plain": [
       "<IPython.core.display.Javascript object>"
      ]
     },
     "metadata": {},
     "output_type": "display_data"
    },
    {
     "data": {
      "application/javascript": [
       "\n",
       "        if (window._pyforest_update_imports_cell) { window._pyforest_update_imports_cell('import re'); }\n",
       "    "
      ],
      "text/plain": [
       "<IPython.core.display.Javascript object>"
      ]
     },
     "metadata": {},
     "output_type": "display_data"
    },
    {
     "data": {
      "application/javascript": [
       "\n",
       "        if (window._pyforest_update_imports_cell) { window._pyforest_update_imports_cell('import re'); }\n",
       "    "
      ],
      "text/plain": [
       "<IPython.core.display.Javascript object>"
      ]
     },
     "metadata": {},
     "output_type": "display_data"
    },
    {
     "name": "stdout",
     "output_type": "stream",
     "text": [
      "Successfully retrieved 148 - https://www.halfbakedharvest.com/hard-cider-pretzels/ with proxy 35.220.254.137:8080\n",
      "Proxy 181.114.61.17:8085 failed for https://www.halfbakedharvest.com/honey-whipped-feta/: HTTPSConnectionPool(host='www.halfbakedharvest.com', port=443): Max retries exceeded with url: /honey-whipped-feta/ (Caused by ProxyError('Unable to connect to proxy', ConnectTimeoutError(<urllib3.connection.HTTPSConnection object at 0x127af9190>, 'Connection to 181.114.61.17 timed out. (connect timeout=30)')))\n"
     ]
    },
    {
     "data": {
      "application/javascript": [
       "\n",
       "        if (window._pyforest_update_imports_cell) { window._pyforest_update_imports_cell('import re'); }\n",
       "    "
      ],
      "text/plain": [
       "<IPython.core.display.Javascript object>"
      ]
     },
     "metadata": {},
     "output_type": "display_data"
    },
    {
     "data": {
      "application/javascript": [
       "\n",
       "        if (window._pyforest_update_imports_cell) { window._pyforest_update_imports_cell('import re'); }\n",
       "    "
      ],
      "text/plain": [
       "<IPython.core.display.Javascript object>"
      ]
     },
     "metadata": {},
     "output_type": "display_data"
    },
    {
     "data": {
      "application/javascript": [
       "\n",
       "        if (window._pyforest_update_imports_cell) { window._pyforest_update_imports_cell('import re'); }\n",
       "    "
      ],
      "text/plain": [
       "<IPython.core.display.Javascript object>"
      ]
     },
     "metadata": {},
     "output_type": "display_data"
    },
    {
     "name": "stdout",
     "output_type": "stream",
     "text": [
      "Successfully retrieved 150 - https://www.halfbakedharvest.com/peach-burrata-crostin/ with proxy 35.220.254.137:8080\n",
      "Proxy 181.114.61.17:8085 failed for https://www.halfbakedharvest.com/caprese-pesto-tarts/: HTTPSConnectionPool(host='www.halfbakedharvest.com', port=443): Max retries exceeded with url: /caprese-pesto-tarts/ (Caused by ProxyError('Unable to connect to proxy', ConnectTimeoutError(<urllib3.connection.HTTPSConnection object at 0x12026a7c0>, 'Connection to 181.114.61.17 timed out. (connect timeout=30)')))\n"
     ]
    },
    {
     "data": {
      "application/javascript": [
       "\n",
       "        if (window._pyforest_update_imports_cell) { window._pyforest_update_imports_cell('import re'); }\n",
       "    "
      ],
      "text/plain": [
       "<IPython.core.display.Javascript object>"
      ]
     },
     "metadata": {},
     "output_type": "display_data"
    },
    {
     "data": {
      "application/javascript": [
       "\n",
       "        if (window._pyforest_update_imports_cell) { window._pyforest_update_imports_cell('import re'); }\n",
       "    "
      ],
      "text/plain": [
       "<IPython.core.display.Javascript object>"
      ]
     },
     "metadata": {},
     "output_type": "display_data"
    },
    {
     "name": "stdout",
     "output_type": "stream",
     "text": [
      "Successfully retrieved 152 - https://www.halfbakedharvest.com/tomato-peach-and-burrata-salad/ with proxy 35.220.254.137:8080\n",
      "Proxy 181.114.61.17:8085 failed for https://www.halfbakedharvest.com/marinated-mozzarella-melon-skewers/: HTTPSConnectionPool(host='www.halfbakedharvest.com', port=443): Max retries exceeded with url: /marinated-mozzarella-melon-skewers/ (Caused by ProxyError('Unable to connect to proxy', ConnectTimeoutError(<urllib3.connection.HTTPSConnection object at 0x1276601f0>, 'Connection to 181.114.61.17 timed out. (connect timeout=30)')))\n"
     ]
    },
    {
     "data": {
      "application/javascript": [
       "\n",
       "        if (window._pyforest_update_imports_cell) { window._pyforest_update_imports_cell('import re'); }\n",
       "    "
      ],
      "text/plain": [
       "<IPython.core.display.Javascript object>"
      ]
     },
     "metadata": {},
     "output_type": "display_data"
    },
    {
     "data": {
      "application/javascript": [
       "\n",
       "        if (window._pyforest_update_imports_cell) { window._pyforest_update_imports_cell('import re'); }\n",
       "    "
      ],
      "text/plain": [
       "<IPython.core.display.Javascript object>"
      ]
     },
     "metadata": {},
     "output_type": "display_data"
    },
    {
     "data": {
      "application/javascript": [
       "\n",
       "        if (window._pyforest_update_imports_cell) { window._pyforest_update_imports_cell('import re'); }\n",
       "    "
      ],
      "text/plain": [
       "<IPython.core.display.Javascript object>"
      ]
     },
     "metadata": {},
     "output_type": "display_data"
    },
    {
     "name": "stdout",
     "output_type": "stream",
     "text": [
      "Successfully retrieved 154 - https://www.halfbakedharvest.com/charred-baby-bell-peppers/ with proxy 35.220.254.137:8080\n",
      "Proxy 181.114.61.17:8085 failed for https://www.halfbakedharvest.com/blt-corn-fritter-stacks/: HTTPSConnectionPool(host='www.halfbakedharvest.com', port=443): Max retries exceeded with url: /blt-corn-fritter-stacks/ (Caused by ProxyError('Unable to connect to proxy', ConnectTimeoutError(<urllib3.connection.HTTPSConnection object at 0x127c204c0>, 'Connection to 181.114.61.17 timed out. (connect timeout=30)')))\n"
     ]
    },
    {
     "data": {
      "application/javascript": [
       "\n",
       "        if (window._pyforest_update_imports_cell) { window._pyforest_update_imports_cell('import re'); }\n",
       "    "
      ],
      "text/plain": [
       "<IPython.core.display.Javascript object>"
      ]
     },
     "metadata": {},
     "output_type": "display_data"
    },
    {
     "data": {
      "application/javascript": [
       "\n",
       "        if (window._pyforest_update_imports_cell) { window._pyforest_update_imports_cell('import re'); }\n",
       "    "
      ],
      "text/plain": [
       "<IPython.core.display.Javascript object>"
      ]
     },
     "metadata": {},
     "output_type": "display_data"
    },
    {
     "data": {
      "application/javascript": [
       "\n",
       "        if (window._pyforest_update_imports_cell) { window._pyforest_update_imports_cell('import re'); }\n",
       "    "
      ],
      "text/plain": [
       "<IPython.core.display.Javascript object>"
      ]
     },
     "metadata": {},
     "output_type": "display_data"
    },
    {
     "name": "stdout",
     "output_type": "stream",
     "text": [
      "Successfully retrieved 156 - https://www.halfbakedharvest.com/ricotta-toast-with-marinated-tomatoes/ with proxy 35.220.254.137:8080\n"
     ]
    }
   ],
   "source": [
    "# Read proxies from the file and create a cycle iterator\n",
    "with open('proxies.txt', 'r') as f:\n",
    "    proxies = [line.strip() for line in f if line.strip()]\n",
    "\n",
    "# Check if proxies are being read correctly\n",
    "if not proxies:\n",
    "    print(\"No valid proxies found in proxies.txt\")\n",
    "else:\n",
    "    print(f\"Proxies loaded: {proxies}\")\n",
    "\n",
    "proxy_cycle = itertools.cycle(proxies)\n",
    "\n",
    "# Initialize an empty DataFrame to store results\n",
    "temp_recipes_1 = pd.DataFrame(columns=columns)\n",
    "title = []\n",
    "prep_time = []\n",
    "cook_time = []\n",
    "total_time = []\n",
    "\n",
    "ingredients_measurment = []\n",
    "ingredients = []\n",
    "instructions = []\n",
    "\n",
    "calories = []\n",
    "servings = []\n",
    "images = []\n",
    "\n",
    "# Loop over the desired number of pages\n",
    "for i in range(0, len(failed_url)):\n",
    "    proxy = next(proxy_cycle)\n",
    "\n",
    "    # Set up request with proxy\n",
    "    headers = {'User-Agent': 'Mozilla/5.0 (Windows NT 6.3; Win64; x64) AppleWebKit/537.36 (KHTML, like Gecko) Chrome/80.0.3987.162 Safari/537.36'}\n",
    "    url = failed_url[i]\n",
    "    proxy_dict = {'http': proxy, 'https': proxy}\n",
    "\n",
    "    try:\n",
    "        response = requests.get(url, headers=headers, proxies=proxy_dict, timeout=30)\n",
    "        \n",
    "        # Check if the request was successful\n",
    "        if response.status_code == 200:\n",
    "            soup = BeautifulSoup(response.content, 'html.parser')\n",
    "            extract(soup)\n",
    "            print(f\"Successfully retrieved {i} - {url} with proxy {proxy}\")\n",
    "        else:\n",
    "            new_failed_url.append(url)\n",
    "            print(f\"Failed to retrieve page {url} with proxy {proxy}. Status code: {response.status_code}\")\n",
    "    except (requests.ConnectionError, requests.Timeout) as e:\n",
    "        new_failed_url.append(url)\n",
    "        print(f\"Proxy {proxy} failed for {url}: {e}\")\n",
    "    except ChunkedEncodingError as e:  # Handle ChunkedEncodingError\n",
    "        new_failed_url.append(url)\n",
    "        print(f\"ChunkedEncodingError occurred for proxy {proxy} and {url}: {e}\")\n",
    "        continue  # Move to the next page\n",
    "\n",
    "\n",
    "\n",
    "temp_recipes_1['title'] = title\n",
    "temp_recipes_1['prep_time'] = prep_time\n",
    "temp_recipes_1['cook_time'] = cook_time\n",
    "temp_recipes_1['total_time'] = total_time\n",
    "temp_recipes_1['ingredients'] = ingredients\n",
    "temp_recipes_1['ingredients with measurement'] = ingredients_measurment\n",
    "temp_recipes_1['instructions'] = instructions\n",
    "temp_recipes_1['calories'] = calories\n",
    "temp_recipes_1['servings'] = servings\n",
    "temp_recipes_1['images']= images\n",
    "\n",
    "\n",
    "\n",
    "    "
   ]
  },
  {
   "cell_type": "code",
   "execution_count": 11,
   "id": "47437d82",
   "metadata": {},
   "outputs": [
    {
     "name": "stdout",
     "output_type": "stream",
     "text": [
      "73\n"
     ]
    }
   ],
   "source": [
    "print(len(new_failed_url))"
   ]
  },
  {
   "cell_type": "code",
   "execution_count": 12,
   "id": "17979e50",
   "metadata": {},
   "outputs": [
    {
     "data": {
      "text/plain": [
       "['https://www.halfbakedharvest.com/garlic-oil-feta-dip/',\n",
       " 'https://www.halfbakedharvest.com/popular-holiday-appetizers-and-cocktails-mocktails/',\n",
       " 'https://www.halfbakedharvest.com/the-50-most-popular-fall-recipes/',\n",
       " 'https://www.halfbakedharvest.com/mezze-platter/',\n",
       " 'https://www.halfbakedharvest.com/street-corn-dip-sliders/',\n",
       " 'https://www.halfbakedharvest.com/hot-honey-cauliflower/',\n",
       " 'https://www.halfbakedharvest.com/everything-ranch-crackers-and-pretzels/',\n",
       " 'https://www.halfbakedharvest.com/roasted-tomato-cheddar-tart/',\n",
       " 'https://www.halfbakedharvest.com/crispy-bbq-beer-battered-cauliflower-nuggets/',\n",
       " 'https://www.halfbakedharvest.com/crispy-chicken-tinga-taquitos/',\n",
       " 'https://www.halfbakedharvest.com/tuscan-fries/',\n",
       " 'https://www.halfbakedharvest.com/whipped-ricotta-toast/',\n",
       " 'https://www.halfbakedharvest.com/baked-brie-and-prosciutto-rolls/',\n",
       " 'https://www.halfbakedharvest.com/honey-butter-roasted-acorn-with-burrata-and-pomegranate/',\n",
       " 'https://www.halfbakedharvest.com/caprese-burrata-garlic-bread/',\n",
       " 'https://www.halfbakedharvest.com/baked-thai-coconut-shrimp-with-lemongrass-guacamole/',\n",
       " 'https://www.halfbakedharvest.com/cranberry-brie-pull-apart-bread/',\n",
       " 'https://www.halfbakedharvest.com/skinny-cajun-sweet-potato-fries-with-garlic-cheese-sauce/',\n",
       " 'https://www.halfbakedharvest.com/bacon-wrapped-parmesan-broccoli-rabe/',\n",
       " 'https://www.halfbakedharvest.com/southwest-bbq-pork-sliders/',\n",
       " 'https://www.halfbakedharvest.com/mexican-carnitas-bar/',\n",
       " 'https://www.halfbakedharvest.com/salmon-fajita-salad-boats/',\n",
       " 'https://www.halfbakedharvest.com/queso-fundido-alla-tequila/',\n",
       " 'https://www.halfbakedharvest.com/how-to-make-a-killer-summer-cheeseboard-with-pickled-strawberries-herb-roasted-cherry-tomatoes/',\n",
       " 'https://www.halfbakedharvest.com/authentic-canadian-poutine/',\n",
       " 'https://www.halfbakedharvest.com/goat-cheese-stuffed-phyllo-swirls-pomegranate-honey-pistachios/',\n",
       " 'https://www.halfbakedharvest.com/sun-dried-tomato-olive-pesto-pizza-salami-roasted-red-peppers/',\n",
       " 'https://www.halfbakedharvest.com/peach-and-gorgonzola-grilled-polenta-rounds-with-chipotle-honey/',\n",
       " 'https://www.halfbakedharvest.com/crispy-buffalo-style-salmon-sliders/',\n",
       " 'https://www.halfbakedharvest.com/cajun-bbq-cheddar-chicken-fingers/',\n",
       " 'https://www.halfbakedharvest.com/crispy-roasted-blackened-cauliflower/',\n",
       " 'https://www.halfbakedharvest.com/queso-fundido-taquitos/',\n",
       " 'https://www.halfbakedharvest.com/baked-parmesan-tater-tots/',\n",
       " 'https://www.halfbakedharvest.com/honey-whipped-ricotta-and-prosciutto-crackers/',\n",
       " 'https://www.halfbakedharvest.com/oven-toasted-garlic-herb-cheese-ravioli/',\n",
       " 'https://www.halfbakedharvest.com/black-pepper-rub-chicken-fingers-greek-yogurt-ranch/',\n",
       " 'https://www.halfbakedharvest.com/baked-buffalo-chicken-egg-rolls/',\n",
       " 'https://www.halfbakedharvest.com/peach-brie-pastry-tarts/',\n",
       " 'https://www.halfbakedharvest.com/pastry-wrapped-baked-brie-with-thyme-butter-roasted-plums/',\n",
       " 'https://www.halfbakedharvest.com/grilled-street-corn-salad/',\n",
       " 'https://www.halfbakedharvest.com/pan-fried-feta-with-peppered-honey/',\n",
       " 'https://www.halfbakedharvest.com/khachapuri-georgian-cheese-bread/',\n",
       " 'https://www.halfbakedharvest.com/easy-cheese-and-prosciutto-croissants/',\n",
       " 'https://www.halfbakedharvest.com/holiday-cheese-board/',\n",
       " 'https://www.halfbakedharvest.com/heirloom-tomato-basil-and-manchego-toast/',\n",
       " 'https://www.halfbakedharvest.com/spicy-corn-and-peaches-with-burrata/',\n",
       " 'https://www.halfbakedharvest.com/moroccan-dip-platter/',\n",
       " 'https://www.halfbakedharvest.com/spicy-cauliflower-cheese-bites-with-tahini-ranch/',\n",
       " 'https://www.halfbakedharvest.com/skinny-tandoori-butter-sweet-potato-fries-wcreamy-baked-harissa-feta/',\n",
       " 'https://www.halfbakedharvest.com/easy-grilled-parmesan-polenta-chips/',\n",
       " 'https://www.halfbakedharvest.com/hawaiian-shrimp-truck-special-garlic-lemon-butter-shrimp/',\n",
       " 'https://www.halfbakedharvest.com/irish-tater-nachos/',\n",
       " 'https://www.halfbakedharvest.com/curried-sweet-potato-rounds-honeyed-walnuts-cranberries-blue-cheese/',\n",
       " 'https://www.halfbakedharvest.com/20-minute-chicken-cheesesteak-sloppy-joe-sliders/',\n",
       " 'https://www.halfbakedharvest.com/sweet-potato-bites/',\n",
       " 'https://www.halfbakedharvest.com/caprese-garlic-bread/',\n",
       " 'https://www.halfbakedharvest.com/avocado-shrimp-salsa/',\n",
       " 'https://www.halfbakedharvest.com/summer-rolls/',\n",
       " 'https://www.halfbakedharvest.com/cheese-rangoons/',\n",
       " 'https://www.halfbakedharvest.com/roasted-cauliflower-hummus/',\n",
       " 'https://www.halfbakedharvest.com/artichoke-gouda-tart/',\n",
       " 'https://www.halfbakedharvest.com/oregano-roasted-potatoes/',\n",
       " 'https://www.halfbakedharvest.com/nacho-fries/',\n",
       " 'https://www.halfbakedharvest.com/chipotle-chicken-nachos/',\n",
       " 'https://www.halfbakedharvest.com/christmas-tree-cheese-board/',\n",
       " 'https://www.halfbakedharvest.com/crispy-sesame-ginger-egg-rolls-with-sweet-chili-sauce/',\n",
       " 'https://www.halfbakedharvest.com/pastry-wrapped-cranberry-baked-brie/',\n",
       " 'https://www.halfbakedharvest.com/goat-cheese-with-warm-candied-bacon/',\n",
       " 'https://www.halfbakedharvest.com/soft-garlic-herb-cheddar-cheese-bread/',\n",
       " 'https://www.halfbakedharvest.com/honey-whipped-feta/',\n",
       " 'https://www.halfbakedharvest.com/caprese-pesto-tarts/',\n",
       " 'https://www.halfbakedharvest.com/marinated-mozzarella-melon-skewers/',\n",
       " 'https://www.halfbakedharvest.com/blt-corn-fritter-stacks/']"
      ]
     },
     "execution_count": 12,
     "metadata": {},
     "output_type": "execute_result"
    }
   ],
   "source": [
    "new_failed_url"
   ]
  },
  {
   "cell_type": "code",
   "execution_count": 13,
   "id": "8cdd5073",
   "metadata": {},
   "outputs": [
    {
     "data": {
      "text/html": [
       "<div>\n",
       "<style scoped>\n",
       "    .dataframe tbody tr th:only-of-type {\n",
       "        vertical-align: middle;\n",
       "    }\n",
       "\n",
       "    .dataframe tbody tr th {\n",
       "        vertical-align: top;\n",
       "    }\n",
       "\n",
       "    .dataframe thead th {\n",
       "        text-align: right;\n",
       "    }\n",
       "</style>\n",
       "<table border=\"1\" class=\"dataframe\">\n",
       "  <thead>\n",
       "    <tr style=\"text-align: right;\">\n",
       "      <th></th>\n",
       "      <th>title</th>\n",
       "      <th>prep_time</th>\n",
       "      <th>cook_time</th>\n",
       "      <th>total_time</th>\n",
       "      <th>ingredients</th>\n",
       "      <th>ingredients with measurement</th>\n",
       "      <th>instructions</th>\n",
       "      <th>calories</th>\n",
       "      <th>servings</th>\n",
       "      <th>images</th>\n",
       "    </tr>\n",
       "  </thead>\n",
       "  <tbody>\n",
       "    <tr>\n",
       "      <th>0</th>\n",
       "      <td>Tomato Cheese Pie</td>\n",
       "      <td>{'minutes': '15'}</td>\n",
       "      <td>{'minutes': '45'}</td>\n",
       "      <td>{'hours': '1'}</td>\n",
       "      <td>[heirloom tomatoes, sliced, salt and black pep...</td>\n",
       "      <td>{'heirloom tomatoes, sliced': '2-3', 'salt and...</td>\n",
       "      <td>[1. Preheat the oven to 400 degrees F. Line a ...</td>\n",
       "      <td>456 kcal</td>\n",
       "      <td>6</td>\n",
       "      <td>https://www.halfbakedharvest.com/wp-content/up...</td>\n",
       "    </tr>\n",
       "    <tr>\n",
       "      <th>1</th>\n",
       "      <td>Fried Goat Cheese Balls with Spicy Sage Honey</td>\n",
       "      <td>{'minutes': '30'}</td>\n",
       "      <td>{'minutes': '5'}</td>\n",
       "      <td>{'minutes': '35'}</td>\n",
       "      <td>[all-purpose flour, black pepper, Panko breadc...</td>\n",
       "      <td>{'all-purpose flour': '1/3', 'black pepper': '...</td>\n",
       "      <td>[1. Add the flour and a pinch of pepper to a b...</td>\n",
       "      <td>129 kcal</td>\n",
       "      <td>10</td>\n",
       "      <td>https://www.halfbakedharvest.com/wp-content/up...</td>\n",
       "    </tr>\n",
       "    <tr>\n",
       "      <th>2</th>\n",
       "      <td>Beef Tenderloin Crostini with Parmesan Wine Cr...</td>\n",
       "      <td>{'minutes': '15'}</td>\n",
       "      <td>{'minutes': '30'}</td>\n",
       "      <td>{'minutes': '45'}</td>\n",
       "      <td>[beef tenderloin, trimmed and tied, black pepp...</td>\n",
       "      <td>{'beef tenderloin, trimmed and tied': '1', 'bl...</td>\n",
       "      <td>[1. Allow the beef to come to room temperature...</td>\n",
       "      <td>209 kcal</td>\n",
       "      <td>16</td>\n",
       "      <td>https://www.halfbakedharvest.com/wp-content/up...</td>\n",
       "    </tr>\n",
       "    <tr>\n",
       "      <th>3</th>\n",
       "      <td>Baked Garlic Parmesan Buffalo Chicken Wings</td>\n",
       "      <td>{'minutes': '15'}</td>\n",
       "      <td>{'minutes': '40'}</td>\n",
       "      <td>{'minutes': '55'}</td>\n",
       "      <td>[chicken wings or drumsticks, smoked paprika, ...</td>\n",
       "      <td>{'chicken wings or drumsticks': '2', 'smoked p...</td>\n",
       "      <td>[1. Preheat the oven to 450° F. Line a baking ...</td>\n",
       "      <td>423 kcal</td>\n",
       "      <td>6</td>\n",
       "      <td>https://www.halfbakedharvest.com/wp-content/up...</td>\n",
       "    </tr>\n",
       "    <tr>\n",
       "      <th>4</th>\n",
       "      <td>Honey Butter Jalapeño Cheddar Cornbread Biscuits</td>\n",
       "      <td>{'minutes': '20'}</td>\n",
       "      <td>{'minutes': '15'}</td>\n",
       "      <td>{'minutes': '35'}</td>\n",
       "      <td>[cold, salted butter, white whole wheat or all...</td>\n",
       "      <td>{'cold, salted butter': '6', 'white whole whea...</td>\n",
       "      <td>[1. Preheat the oven to 350° F. Butter a 24-cu...</td>\n",
       "      <td>144 kcal</td>\n",
       "      <td>24</td>\n",
       "      <td>https://www.halfbakedharvest.com/wp-content/up...</td>\n",
       "    </tr>\n",
       "    <tr>\n",
       "      <th>...</th>\n",
       "      <td>...</td>\n",
       "      <td>...</td>\n",
       "      <td>...</td>\n",
       "      <td>...</td>\n",
       "      <td>...</td>\n",
       "      <td>...</td>\n",
       "      <td>...</td>\n",
       "      <td>...</td>\n",
       "      <td>...</td>\n",
       "      <td>...</td>\n",
       "    </tr>\n",
       "    <tr>\n",
       "      <th>79</th>\n",
       "      <td>Hard Cider Pretzels with Creamy Honey Mustard</td>\n",
       "      <td>{'minutes': '30'}</td>\n",
       "      <td>{'minutes': '25'}</td>\n",
       "      <td>{'hours': '2'}</td>\n",
       "      <td>[warm water, honey, active dry yeast, hard cid...</td>\n",
       "      <td>{'warm water': '1/3', 'honey': '1/4', 'active ...</td>\n",
       "      <td>[1. Combine the water, honey, and yeast in the...</td>\n",
       "      <td>444 kcal</td>\n",
       "      <td>8</td>\n",
       "      <td>https://www.halfbakedharvest.com/wp-content/up...</td>\n",
       "    </tr>\n",
       "    <tr>\n",
       "      <th>80</th>\n",
       "      <td>Peach Burrata Crostini with Burst Cherry Tomat...</td>\n",
       "      <td>{'minutes': '15'}</td>\n",
       "      <td>{'minutes': '15'}</td>\n",
       "      <td>{'minutes': '30'}</td>\n",
       "      <td>[extra virgin olive oil, small cherry tomatoes...</td>\n",
       "      <td>{'extra virgin olive oil': '1/3', 'small cherr...</td>\n",
       "      <td>[1. To make the vinaigrette. Heat a large skil...</td>\n",
       "      <td>320 kcal</td>\n",
       "      <td>8</td>\n",
       "      <td>https://www.halfbakedharvest.com/wp-content/up...</td>\n",
       "    </tr>\n",
       "    <tr>\n",
       "      <th>81</th>\n",
       "      <td>Tomato, Peach, and Burrata Salad</td>\n",
       "      <td>{'minutes': '25'}</td>\n",
       "      <td>-</td>\n",
       "      <td>{'minutes': '25'}</td>\n",
       "      <td>[extra virgin olive oil, balsamic or champagne...</td>\n",
       "      <td>{'extra virgin olive oil': '1/2', 'balsamic or...</td>\n",
       "      <td>[1. To make the vinaigrette: combine all ingre...</td>\n",
       "      <td>408 kcal</td>\n",
       "      <td>6</td>\n",
       "      <td>https://www.halfbakedharvest.com/wp-content/up...</td>\n",
       "    </tr>\n",
       "    <tr>\n",
       "      <th>82</th>\n",
       "      <td>Charred Baby Bell Peppers with Burrata</td>\n",
       "      <td>{'minutes': '15'}</td>\n",
       "      <td>{'minutes': '10'}</td>\n",
       "      <td>{'minutes': '25'}</td>\n",
       "      <td>[extra virgin olive oil, honey, roasted pistac...</td>\n",
       "      <td>{'extra virgin olive oil': '1/4', 'honey': '2'...</td>\n",
       "      <td>[1. To make the vinaigrette. Combine 1/4 cup o...</td>\n",
       "      <td>338 kcal</td>\n",
       "      <td>10</td>\n",
       "      <td>https://www.halfbakedharvest.com/wp-content/up...</td>\n",
       "    </tr>\n",
       "    <tr>\n",
       "      <th>83</th>\n",
       "      <td>Whipped Ricotta Toast with Marinated Tomatoes ...</td>\n",
       "      <td>{'minutes': '15'}</td>\n",
       "      <td>{'minutes': '5'}</td>\n",
       "      <td>{'minutes': '25'}</td>\n",
       "      <td>[cherry tomatoes, halved, extra virgin olive o...</td>\n",
       "      <td>{'cherry tomatoes, halved': '2', 'extra virgin...</td>\n",
       "      <td>[1. To make the tomatoes. Combine all ingredie...</td>\n",
       "      <td>294 kcal</td>\n",
       "      <td>8</td>\n",
       "      <td>https://www.halfbakedharvest.com/wp-content/up...</td>\n",
       "    </tr>\n",
       "  </tbody>\n",
       "</table>\n",
       "<p>84 rows × 10 columns</p>\n",
       "</div>"
      ],
      "text/plain": [
       "                                                title          prep_time  \\\n",
       "0                                   Tomato Cheese Pie  {'minutes': '15'}   \n",
       "1       Fried Goat Cheese Balls with Spicy Sage Honey  {'minutes': '30'}   \n",
       "2   Beef Tenderloin Crostini with Parmesan Wine Cr...  {'minutes': '15'}   \n",
       "3         Baked Garlic Parmesan Buffalo Chicken Wings  {'minutes': '15'}   \n",
       "4    Honey Butter Jalapeño Cheddar Cornbread Biscuits  {'minutes': '20'}   \n",
       "..                                                ...                ...   \n",
       "79      Hard Cider Pretzels with Creamy Honey Mustard  {'minutes': '30'}   \n",
       "80  Peach Burrata Crostini with Burst Cherry Tomat...  {'minutes': '15'}   \n",
       "81                   Tomato, Peach, and Burrata Salad  {'minutes': '25'}   \n",
       "82             Charred Baby Bell Peppers with Burrata  {'minutes': '15'}   \n",
       "83  Whipped Ricotta Toast with Marinated Tomatoes ...  {'minutes': '15'}   \n",
       "\n",
       "            cook_time         total_time  \\\n",
       "0   {'minutes': '45'}     {'hours': '1'}   \n",
       "1    {'minutes': '5'}  {'minutes': '35'}   \n",
       "2   {'minutes': '30'}  {'minutes': '45'}   \n",
       "3   {'minutes': '40'}  {'minutes': '55'}   \n",
       "4   {'minutes': '15'}  {'minutes': '35'}   \n",
       "..                ...                ...   \n",
       "79  {'minutes': '25'}     {'hours': '2'}   \n",
       "80  {'minutes': '15'}  {'minutes': '30'}   \n",
       "81                  -  {'minutes': '25'}   \n",
       "82  {'minutes': '10'}  {'minutes': '25'}   \n",
       "83   {'minutes': '5'}  {'minutes': '25'}   \n",
       "\n",
       "                                          ingredients  \\\n",
       "0   [heirloom tomatoes, sliced, salt and black pep...   \n",
       "1   [all-purpose flour, black pepper, Panko breadc...   \n",
       "2   [beef tenderloin, trimmed and tied, black pepp...   \n",
       "3   [chicken wings or drumsticks, smoked paprika, ...   \n",
       "4   [cold, salted butter, white whole wheat or all...   \n",
       "..                                                ...   \n",
       "79  [warm water, honey, active dry yeast, hard cid...   \n",
       "80  [extra virgin olive oil, small cherry tomatoes...   \n",
       "81  [extra virgin olive oil, balsamic or champagne...   \n",
       "82  [extra virgin olive oil, honey, roasted pistac...   \n",
       "83  [cherry tomatoes, halved, extra virgin olive o...   \n",
       "\n",
       "                         ingredients with measurement  \\\n",
       "0   {'heirloom tomatoes, sliced': '2-3', 'salt and...   \n",
       "1   {'all-purpose flour': '1/3', 'black pepper': '...   \n",
       "2   {'beef tenderloin, trimmed and tied': '1', 'bl...   \n",
       "3   {'chicken wings or drumsticks': '2', 'smoked p...   \n",
       "4   {'cold, salted butter': '6', 'white whole whea...   \n",
       "..                                                ...   \n",
       "79  {'warm water': '1/3', 'honey': '1/4', 'active ...   \n",
       "80  {'extra virgin olive oil': '1/3', 'small cherr...   \n",
       "81  {'extra virgin olive oil': '1/2', 'balsamic or...   \n",
       "82  {'extra virgin olive oil': '1/4', 'honey': '2'...   \n",
       "83  {'cherry tomatoes, halved': '2', 'extra virgin...   \n",
       "\n",
       "                                         instructions  calories servings  \\\n",
       "0   [1. Preheat the oven to 400 degrees F. Line a ...  456 kcal        6   \n",
       "1   [1. Add the flour and a pinch of pepper to a b...  129 kcal       10   \n",
       "2   [1. Allow the beef to come to room temperature...  209 kcal       16   \n",
       "3   [1. Preheat the oven to 450° F. Line a baking ...  423 kcal        6   \n",
       "4   [1. Preheat the oven to 350° F. Butter a 24-cu...  144 kcal       24   \n",
       "..                                                ...       ...      ...   \n",
       "79  [1. Combine the water, honey, and yeast in the...  444 kcal        8   \n",
       "80  [1. To make the vinaigrette. Heat a large skil...  320 kcal        8   \n",
       "81  [1. To make the vinaigrette: combine all ingre...  408 kcal        6   \n",
       "82  [1. To make the vinaigrette. Combine 1/4 cup o...  338 kcal       10   \n",
       "83  [1. To make the tomatoes. Combine all ingredie...  294 kcal        8   \n",
       "\n",
       "                                               images  \n",
       "0   https://www.halfbakedharvest.com/wp-content/up...  \n",
       "1   https://www.halfbakedharvest.com/wp-content/up...  \n",
       "2   https://www.halfbakedharvest.com/wp-content/up...  \n",
       "3   https://www.halfbakedharvest.com/wp-content/up...  \n",
       "4   https://www.halfbakedharvest.com/wp-content/up...  \n",
       "..                                                ...  \n",
       "79  https://www.halfbakedharvest.com/wp-content/up...  \n",
       "80  https://www.halfbakedharvest.com/wp-content/up...  \n",
       "81  https://www.halfbakedharvest.com/wp-content/up...  \n",
       "82  https://www.halfbakedharvest.com/wp-content/up...  \n",
       "83  https://www.halfbakedharvest.com/wp-content/up...  \n",
       "\n",
       "[84 rows x 10 columns]"
      ]
     },
     "execution_count": 13,
     "metadata": {},
     "output_type": "execute_result"
    }
   ],
   "source": [
    "temp_recipes_1"
   ]
  },
  {
   "cell_type": "code",
   "execution_count": 14,
   "id": "53acf06d",
   "metadata": {},
   "outputs": [
    {
     "data": {
      "text/plain": [
       "['Tomato Cheese Pie',\n",
       " 'Fried Goat Cheese Balls with Spicy Sage Honey',\n",
       " 'Beef Tenderloin Crostini with Parmesan Wine Cream Sauce',\n",
       " 'Baked Garlic Parmesan Buffalo Chicken Wings',\n",
       " 'Honey Butter Jalapeño Cheddar Cornbread Biscuits',\n",
       " 'Baked Artichokes with Honey Whipped Feta',\n",
       " 'Hot Chicken Enchilada Bean Dip',\n",
       " 'Bacon Wrapped Cheddar Corn Jalapeño Poppers with Cilantro Lime Ranch.',\n",
       " 'Mac and Cheese Stuffed Oven Fried Zucchini Bites',\n",
       " 'Pan Fried Brie with Peppered Honey and Olives',\n",
       " 'Baked Hot Honey Mustard Pretzel Chicken Fingers.',\n",
       " 'Herbed Garlic Butter Scallops with Lemony Feta Dressing.',\n",
       " 'Burrata with Lemon Pepper Salami Bites',\n",
       " \"Sweet 'n' Savory Roasted Nuts and Pretzels\",\n",
       " 'Opened Faced Tomato and Goat Cheese Sandwich with Hot Bacon Vinaigrette',\n",
       " '10 Minute Garden Herb Avocado Dip',\n",
       " 'Tuscan Summer Stone Fruit, Tomato, and Burrata Panzanella Salad',\n",
       " 'Honey Raspberry Brie Crostini with Basil Oil',\n",
       " 'Roasted Red Pepper Meze Platter',\n",
       " 'Black Bean Turkey Nachos with Jalapeno Yogurt.',\n",
       " '3 Ingredient Cheesy Pizza Pretzels.',\n",
       " '-',\n",
       " 'Sweet Chili Butter Grilled Lobster Fries with Aged Havarti Cheese.',\n",
       " '-',\n",
       " 'Antipasto Platter.',\n",
       " 'Artichoke Ricotta Flatbread.',\n",
       " 'Margarita Pizza Dip (withBurrata!!).',\n",
       " 'The Big Holiday Hummus Board with Roasted Root Veggie Chips.',\n",
       " 'Simple Baked Italian Oregano Meatballs.',\n",
       " 'Peanut Butter, Apple and Cheddar Croissants Sammies with Granola.',\n",
       " 'Jalapeño Cornbread Biscuit Kentucky Hot Brown with Honey Bourbon Bacon.',\n",
       " 'Thai Peanut Chicken Wings with Fiery Pineapple-Jalapeño Salsa.',\n",
       " 'Spicy Green Harissa.',\n",
       " 'Ham and Cheese Sandwiches with Bacon, Pineapple Caramelized Onions + Jerk BBQ Sauce.',\n",
       " 'Gingery Steak and Brie Sliders with Balsamic Cranberry Sauce.',\n",
       " '-',\n",
       " 'Blue Cheese Guacamole Stuffed Mushrooms with Buffalo Sauce',\n",
       " 'Avocado and Gouda BLT Corn Fritter Stacks with Chipotle Bourbon Dressing',\n",
       " 'Caramelized Blistered Tomato Grilled Toast Caprese Nachos with Balsamic Glaze',\n",
       " 'Cheesy Cajun Fries with Cajun Guacamole, Bacon and Fried Eggs',\n",
       " 'Oven Fried Halloumi Bites with Hot Honey',\n",
       " 'Mini Pastry Wrapped Cranberry Baked Brie Bites',\n",
       " 'Everything Ranch Cheese and Pretzel Snack Mix',\n",
       " 'Sweet Potato Parmesan Tater Tots.',\n",
       " 'No Fuss farmers market mezze platter',\n",
       " 'Cheesy Potato Chive Galette.',\n",
       " 'Spinach and Artichoke Stuffed Soft Pretzels.',\n",
       " 'Ginger Sesame Chicken Potstickers with Sweet Chili Pomegranate Sauce',\n",
       " 'Caramelized Onion, Spinach, and Cheddar Flaky Pastries',\n",
       " 'Thyme Honey, Peach, and Goat Cheese Crostini',\n",
       " 'The Best Jalapeño Queso',\n",
       " 'Asparagus, Egg, and Prosciutto Tart with Everything Spice',\n",
       " '-',\n",
       " 'Sweet and Spicy Rosemary Cheddar + Gorgonzola Pumpkin Crackers',\n",
       " 'Brie + Cheddar Apple Beer Soup with Cinnamon Pecan Oat Crumble.',\n",
       " 'Hot Wings.',\n",
       " 'Caramelized Corn and Heirloom Tomato Galette w/Herbed Roasted Garlic Goat Cheese.',\n",
       " 'Cheesy Margherita Pizza Hummus with Grilled Pesto Pizza Bread.',\n",
       " 'Spinach and Artichoke Corn Fritters with Brie and Sweet Honey Jalapeno Cream.',\n",
       " 'Cheesy Black Bean + Quinoa Taco Bake.',\n",
       " 'Ridiculously Easy Classic Fiesta Guacamole.',\n",
       " 'Mom’s Secret Christmas Eve Chex Mix.',\n",
       " 'Coconut Crusted Brie Stuffed Quinoa Bites with Sweet Cranberries',\n",
       " 'Cranberry, Butternut and Brussels Sprout Brie Skillet Nachos',\n",
       " 'Greek Goddess Chickpea + Quinoa Nachos with Pita Chips',\n",
       " 'Easy Cheesy Soft Pretzel Bites',\n",
       " 'Strawberry Watermelon Salad with Burrata',\n",
       " 'Jalapeño Cheddar Popovers with Honey Butter',\n",
       " 'Crumbled Feta and Tomato Basil Vinaigrette Dip',\n",
       " 'Spinach and Brie Triangles',\n",
       " 'Oven Fried Feta Rolls with Chili Honey',\n",
       " 'Garlic Herb Roasted Olives with Burrata',\n",
       " 'Jalapeño Cream Cheese Chicken Taquitos\\xa0with Buffalo Sauce',\n",
       " 'Oven Fried Southern Hot Honey Popcorn Chicken',\n",
       " 'Buffalo Cauliflower with Spicy Tahini Ranch',\n",
       " 'Baked Gruyère in Pastry with Rosemary and Garlic',\n",
       " 'Prosciutto and Cheese Pastry Twist',\n",
       " 'Crispy Bacon Wrapped Parmesan Brussels Sprouts',\n",
       " 'Pull Apart Roasted Garlic Butter Pizza Dip Sliders',\n",
       " 'Hard Cider Pretzels with Creamy Honey Mustard',\n",
       " 'Peach Burrata Crostini with Burst Cherry Tomato Vinaigrette',\n",
       " 'Tomato, Peach, and Burrata Salad',\n",
       " 'Charred Baby Bell Peppers with Burrata',\n",
       " 'Whipped Ricotta Toast with Marinated Tomatoes and Lemon Thyme Honey']"
      ]
     },
     "execution_count": 14,
     "metadata": {},
     "output_type": "execute_result"
    }
   ],
   "source": [
    "title"
   ]
  },
  {
   "cell_type": "code",
   "execution_count": 15,
   "id": "0ed45647",
   "metadata": {},
   "outputs": [],
   "source": [
    "final = pd.concat([final, temp_recipes_1], ignore_index=True)"
   ]
  },
  {
   "cell_type": "code",
   "execution_count": 16,
   "id": "0608a9db",
   "metadata": {},
   "outputs": [
    {
     "data": {
      "text/html": [
       "<div>\n",
       "<style scoped>\n",
       "    .dataframe tbody tr th:only-of-type {\n",
       "        vertical-align: middle;\n",
       "    }\n",
       "\n",
       "    .dataframe tbody tr th {\n",
       "        vertical-align: top;\n",
       "    }\n",
       "\n",
       "    .dataframe thead th {\n",
       "        text-align: right;\n",
       "    }\n",
       "</style>\n",
       "<table border=\"1\" class=\"dataframe\">\n",
       "  <thead>\n",
       "    <tr style=\"text-align: right;\">\n",
       "      <th></th>\n",
       "      <th>title</th>\n",
       "      <th>prep_time</th>\n",
       "      <th>cook_time</th>\n",
       "      <th>total_time</th>\n",
       "      <th>ingredients</th>\n",
       "      <th>ingredients with measurement</th>\n",
       "      <th>instructions</th>\n",
       "      <th>calories</th>\n",
       "      <th>servings</th>\n",
       "      <th>images</th>\n",
       "    </tr>\n",
       "  </thead>\n",
       "  <tbody>\n",
       "    <tr>\n",
       "      <th>0</th>\n",
       "      <td>Tomato Cheese Pie</td>\n",
       "      <td>{'minutes': '15'}</td>\n",
       "      <td>{'minutes': '45'}</td>\n",
       "      <td>{'hours': '1'}</td>\n",
       "      <td>[heirloom tomatoes, sliced, salt and black pep...</td>\n",
       "      <td>{'heirloom tomatoes, sliced': '2-3', 'salt and...</td>\n",
       "      <td>[1. Preheat the oven to 400 degrees F. Line a ...</td>\n",
       "      <td>456 kcal</td>\n",
       "      <td>6</td>\n",
       "      <td>https://www.halfbakedharvest.com/wp-content/up...</td>\n",
       "    </tr>\n",
       "    <tr>\n",
       "      <th>1</th>\n",
       "      <td>Fried Goat Cheese Balls with Spicy Sage Honey</td>\n",
       "      <td>{'minutes': '30'}</td>\n",
       "      <td>{'minutes': '5'}</td>\n",
       "      <td>{'minutes': '35'}</td>\n",
       "      <td>[all-purpose flour, black pepper, Panko breadc...</td>\n",
       "      <td>{'all-purpose flour': '1/3', 'black pepper': '...</td>\n",
       "      <td>[1. Add the flour and a pinch of pepper to a b...</td>\n",
       "      <td>129 kcal</td>\n",
       "      <td>10</td>\n",
       "      <td>https://www.halfbakedharvest.com/wp-content/up...</td>\n",
       "    </tr>\n",
       "    <tr>\n",
       "      <th>2</th>\n",
       "      <td>Beef Tenderloin Crostini with Parmesan Wine Cr...</td>\n",
       "      <td>{'minutes': '15'}</td>\n",
       "      <td>{'minutes': '30'}</td>\n",
       "      <td>{'minutes': '45'}</td>\n",
       "      <td>[beef tenderloin, trimmed and tied, black pepp...</td>\n",
       "      <td>{'beef tenderloin, trimmed and tied': '1', 'bl...</td>\n",
       "      <td>[1. Allow the beef to come to room temperature...</td>\n",
       "      <td>209 kcal</td>\n",
       "      <td>16</td>\n",
       "      <td>https://www.halfbakedharvest.com/wp-content/up...</td>\n",
       "    </tr>\n",
       "    <tr>\n",
       "      <th>3</th>\n",
       "      <td>Baked Garlic Parmesan Buffalo Chicken Wings</td>\n",
       "      <td>{'minutes': '15'}</td>\n",
       "      <td>{'minutes': '40'}</td>\n",
       "      <td>{'minutes': '55'}</td>\n",
       "      <td>[chicken wings or drumsticks, smoked paprika, ...</td>\n",
       "      <td>{'chicken wings or drumsticks': '2', 'smoked p...</td>\n",
       "      <td>[1. Preheat the oven to 450° F. Line a baking ...</td>\n",
       "      <td>423 kcal</td>\n",
       "      <td>6</td>\n",
       "      <td>https://www.halfbakedharvest.com/wp-content/up...</td>\n",
       "    </tr>\n",
       "    <tr>\n",
       "      <th>4</th>\n",
       "      <td>Honey Butter Jalapeño Cheddar Cornbread Biscuits</td>\n",
       "      <td>{'minutes': '20'}</td>\n",
       "      <td>{'minutes': '15'}</td>\n",
       "      <td>{'minutes': '35'}</td>\n",
       "      <td>[cold, salted butter, white whole wheat or all...</td>\n",
       "      <td>{'cold, salted butter': '6', 'white whole whea...</td>\n",
       "      <td>[1. Preheat the oven to 350° F. Butter a 24-cu...</td>\n",
       "      <td>144 kcal</td>\n",
       "      <td>24</td>\n",
       "      <td>https://www.halfbakedharvest.com/wp-content/up...</td>\n",
       "    </tr>\n",
       "    <tr>\n",
       "      <th>...</th>\n",
       "      <td>...</td>\n",
       "      <td>...</td>\n",
       "      <td>...</td>\n",
       "      <td>...</td>\n",
       "      <td>...</td>\n",
       "      <td>...</td>\n",
       "      <td>...</td>\n",
       "      <td>...</td>\n",
       "      <td>...</td>\n",
       "      <td>...</td>\n",
       "    </tr>\n",
       "    <tr>\n",
       "      <th>79</th>\n",
       "      <td>Hard Cider Pretzels with Creamy Honey Mustard</td>\n",
       "      <td>{'minutes': '30'}</td>\n",
       "      <td>{'minutes': '25'}</td>\n",
       "      <td>{'hours': '2'}</td>\n",
       "      <td>[warm water, honey, active dry yeast, hard cid...</td>\n",
       "      <td>{'warm water': '1/3', 'honey': '1/4', 'active ...</td>\n",
       "      <td>[1. Combine the water, honey, and yeast in the...</td>\n",
       "      <td>444 kcal</td>\n",
       "      <td>8</td>\n",
       "      <td>https://www.halfbakedharvest.com/wp-content/up...</td>\n",
       "    </tr>\n",
       "    <tr>\n",
       "      <th>80</th>\n",
       "      <td>Peach Burrata Crostini with Burst Cherry Tomat...</td>\n",
       "      <td>{'minutes': '15'}</td>\n",
       "      <td>{'minutes': '15'}</td>\n",
       "      <td>{'minutes': '30'}</td>\n",
       "      <td>[extra virgin olive oil, small cherry tomatoes...</td>\n",
       "      <td>{'extra virgin olive oil': '1/3', 'small cherr...</td>\n",
       "      <td>[1. To make the vinaigrette. Heat a large skil...</td>\n",
       "      <td>320 kcal</td>\n",
       "      <td>8</td>\n",
       "      <td>https://www.halfbakedharvest.com/wp-content/up...</td>\n",
       "    </tr>\n",
       "    <tr>\n",
       "      <th>81</th>\n",
       "      <td>Tomato, Peach, and Burrata Salad</td>\n",
       "      <td>{'minutes': '25'}</td>\n",
       "      <td>-</td>\n",
       "      <td>{'minutes': '25'}</td>\n",
       "      <td>[extra virgin olive oil, balsamic or champagne...</td>\n",
       "      <td>{'extra virgin olive oil': '1/2', 'balsamic or...</td>\n",
       "      <td>[1. To make the vinaigrette: combine all ingre...</td>\n",
       "      <td>408 kcal</td>\n",
       "      <td>6</td>\n",
       "      <td>https://www.halfbakedharvest.com/wp-content/up...</td>\n",
       "    </tr>\n",
       "    <tr>\n",
       "      <th>82</th>\n",
       "      <td>Charred Baby Bell Peppers with Burrata</td>\n",
       "      <td>{'minutes': '15'}</td>\n",
       "      <td>{'minutes': '10'}</td>\n",
       "      <td>{'minutes': '25'}</td>\n",
       "      <td>[extra virgin olive oil, honey, roasted pistac...</td>\n",
       "      <td>{'extra virgin olive oil': '1/4', 'honey': '2'...</td>\n",
       "      <td>[1. To make the vinaigrette. Combine 1/4 cup o...</td>\n",
       "      <td>338 kcal</td>\n",
       "      <td>10</td>\n",
       "      <td>https://www.halfbakedharvest.com/wp-content/up...</td>\n",
       "    </tr>\n",
       "    <tr>\n",
       "      <th>83</th>\n",
       "      <td>Whipped Ricotta Toast with Marinated Tomatoes ...</td>\n",
       "      <td>{'minutes': '15'}</td>\n",
       "      <td>{'minutes': '5'}</td>\n",
       "      <td>{'minutes': '25'}</td>\n",
       "      <td>[cherry tomatoes, halved, extra virgin olive o...</td>\n",
       "      <td>{'cherry tomatoes, halved': '2', 'extra virgin...</td>\n",
       "      <td>[1. To make the tomatoes. Combine all ingredie...</td>\n",
       "      <td>294 kcal</td>\n",
       "      <td>8</td>\n",
       "      <td>https://www.halfbakedharvest.com/wp-content/up...</td>\n",
       "    </tr>\n",
       "  </tbody>\n",
       "</table>\n",
       "<p>84 rows × 10 columns</p>\n",
       "</div>"
      ],
      "text/plain": [
       "                                                title          prep_time  \\\n",
       "0                                   Tomato Cheese Pie  {'minutes': '15'}   \n",
       "1       Fried Goat Cheese Balls with Spicy Sage Honey  {'minutes': '30'}   \n",
       "2   Beef Tenderloin Crostini with Parmesan Wine Cr...  {'minutes': '15'}   \n",
       "3         Baked Garlic Parmesan Buffalo Chicken Wings  {'minutes': '15'}   \n",
       "4    Honey Butter Jalapeño Cheddar Cornbread Biscuits  {'minutes': '20'}   \n",
       "..                                                ...                ...   \n",
       "79      Hard Cider Pretzels with Creamy Honey Mustard  {'minutes': '30'}   \n",
       "80  Peach Burrata Crostini with Burst Cherry Tomat...  {'minutes': '15'}   \n",
       "81                   Tomato, Peach, and Burrata Salad  {'minutes': '25'}   \n",
       "82             Charred Baby Bell Peppers with Burrata  {'minutes': '15'}   \n",
       "83  Whipped Ricotta Toast with Marinated Tomatoes ...  {'minutes': '15'}   \n",
       "\n",
       "            cook_time         total_time  \\\n",
       "0   {'minutes': '45'}     {'hours': '1'}   \n",
       "1    {'minutes': '5'}  {'minutes': '35'}   \n",
       "2   {'minutes': '30'}  {'minutes': '45'}   \n",
       "3   {'minutes': '40'}  {'minutes': '55'}   \n",
       "4   {'minutes': '15'}  {'minutes': '35'}   \n",
       "..                ...                ...   \n",
       "79  {'minutes': '25'}     {'hours': '2'}   \n",
       "80  {'minutes': '15'}  {'minutes': '30'}   \n",
       "81                  -  {'minutes': '25'}   \n",
       "82  {'minutes': '10'}  {'minutes': '25'}   \n",
       "83   {'minutes': '5'}  {'minutes': '25'}   \n",
       "\n",
       "                                          ingredients  \\\n",
       "0   [heirloom tomatoes, sliced, salt and black pep...   \n",
       "1   [all-purpose flour, black pepper, Panko breadc...   \n",
       "2   [beef tenderloin, trimmed and tied, black pepp...   \n",
       "3   [chicken wings or drumsticks, smoked paprika, ...   \n",
       "4   [cold, salted butter, white whole wheat or all...   \n",
       "..                                                ...   \n",
       "79  [warm water, honey, active dry yeast, hard cid...   \n",
       "80  [extra virgin olive oil, small cherry tomatoes...   \n",
       "81  [extra virgin olive oil, balsamic or champagne...   \n",
       "82  [extra virgin olive oil, honey, roasted pistac...   \n",
       "83  [cherry tomatoes, halved, extra virgin olive o...   \n",
       "\n",
       "                         ingredients with measurement  \\\n",
       "0   {'heirloom tomatoes, sliced': '2-3', 'salt and...   \n",
       "1   {'all-purpose flour': '1/3', 'black pepper': '...   \n",
       "2   {'beef tenderloin, trimmed and tied': '1', 'bl...   \n",
       "3   {'chicken wings or drumsticks': '2', 'smoked p...   \n",
       "4   {'cold, salted butter': '6', 'white whole whea...   \n",
       "..                                                ...   \n",
       "79  {'warm water': '1/3', 'honey': '1/4', 'active ...   \n",
       "80  {'extra virgin olive oil': '1/3', 'small cherr...   \n",
       "81  {'extra virgin olive oil': '1/2', 'balsamic or...   \n",
       "82  {'extra virgin olive oil': '1/4', 'honey': '2'...   \n",
       "83  {'cherry tomatoes, halved': '2', 'extra virgin...   \n",
       "\n",
       "                                         instructions  calories servings  \\\n",
       "0   [1. Preheat the oven to 400 degrees F. Line a ...  456 kcal        6   \n",
       "1   [1. Add the flour and a pinch of pepper to a b...  129 kcal       10   \n",
       "2   [1. Allow the beef to come to room temperature...  209 kcal       16   \n",
       "3   [1. Preheat the oven to 450° F. Line a baking ...  423 kcal        6   \n",
       "4   [1. Preheat the oven to 350° F. Butter a 24-cu...  144 kcal       24   \n",
       "..                                                ...       ...      ...   \n",
       "79  [1. Combine the water, honey, and yeast in the...  444 kcal        8   \n",
       "80  [1. To make the vinaigrette. Heat a large skil...  320 kcal        8   \n",
       "81  [1. To make the vinaigrette: combine all ingre...  408 kcal        6   \n",
       "82  [1. To make the vinaigrette. Combine 1/4 cup o...  338 kcal       10   \n",
       "83  [1. To make the tomatoes. Combine all ingredie...  294 kcal        8   \n",
       "\n",
       "                                               images  \n",
       "0   https://www.halfbakedharvest.com/wp-content/up...  \n",
       "1   https://www.halfbakedharvest.com/wp-content/up...  \n",
       "2   https://www.halfbakedharvest.com/wp-content/up...  \n",
       "3   https://www.halfbakedharvest.com/wp-content/up...  \n",
       "4   https://www.halfbakedharvest.com/wp-content/up...  \n",
       "..                                                ...  \n",
       "79  https://www.halfbakedharvest.com/wp-content/up...  \n",
       "80  https://www.halfbakedharvest.com/wp-content/up...  \n",
       "81  https://www.halfbakedharvest.com/wp-content/up...  \n",
       "82  https://www.halfbakedharvest.com/wp-content/up...  \n",
       "83  https://www.halfbakedharvest.com/wp-content/up...  \n",
       "\n",
       "[84 rows x 10 columns]"
      ]
     },
     "execution_count": 16,
     "metadata": {},
     "output_type": "execute_result"
    }
   ],
   "source": [
    "final"
   ]
  },
  {
   "cell_type": "code",
   "execution_count": null,
   "id": "18b7a886",
   "metadata": {},
   "outputs": [],
   "source": [
    "# def save_list_to_txt(filename, data_list):\n",
    "#     \"\"\"\n",
    "#     Save a list of strings to a text file, one item per line.\n",
    "    \n",
    "#     :param filename: The name of the file to save the list to.\n",
    "#     :param data_list: The list of strings to save.\n",
    "#     \"\"\"\n",
    "#     with open(filename, 'w') as f:\n",
    "#         for item in data_list:\n",
    "#             f.write(f\"{item}\\n\")"
   ]
  },
  {
   "cell_type": "code",
   "execution_count": null,
   "id": "6243ee7b",
   "metadata": {},
   "outputs": [],
   "source": [
    "# save_list_to_txt('newnewnewfailed_url.txt', new_failed_url)\n",
    "# final.to_csv('failed_desserts3.csv', index=False)"
   ]
  },
  {
   "cell_type": "code",
   "execution_count": null,
   "id": "063b6bb1",
   "metadata": {},
   "outputs": [],
   "source": [
    "# save_list_to_txt('newnewfailed_url.txt', failed_url)"
   ]
  },
  {
   "cell_type": "markdown",
   "id": "ad5f4226",
   "metadata": {},
   "source": [
    "# STOP"
   ]
  },
  {
   "cell_type": "code",
   "execution_count": 68,
   "id": "06efa33b",
   "metadata": {},
   "outputs": [],
   "source": [
    "failed_url = new_failed_url"
   ]
  },
  {
   "cell_type": "code",
   "execution_count": 69,
   "id": "d0002fad",
   "metadata": {},
   "outputs": [
    {
     "data": {
      "text/plain": [
       "1"
      ]
     },
     "execution_count": 69,
     "metadata": {},
     "output_type": "execute_result"
    }
   ],
   "source": [
    "len(failed_url)"
   ]
  },
  {
   "cell_type": "code",
   "execution_count": 70,
   "id": "c5cab9ef",
   "metadata": {},
   "outputs": [],
   "source": [
    "new_failed_url = []"
   ]
  },
  {
   "cell_type": "markdown",
   "id": "88573086",
   "metadata": {},
   "source": [
    "### Recipes 25-200"
   ]
  },
  {
   "cell_type": "code",
   "execution_count": 71,
   "id": "96880399",
   "metadata": {
    "scrolled": true
   },
   "outputs": [
    {
     "name": "stdout",
     "output_type": "stream",
     "text": [
      "Proxies loaded: ['35.220.254.137:8080', '181.114.61.17:8085']\n"
     ]
    },
    {
     "data": {
      "application/javascript": [
       "\n",
       "        if (window._pyforest_update_imports_cell) { window._pyforest_update_imports_cell('import re'); }\n",
       "    "
      ],
      "text/plain": [
       "<IPython.core.display.Javascript object>"
      ]
     },
     "metadata": {},
     "output_type": "display_data"
    },
    {
     "data": {
      "application/javascript": [
       "\n",
       "        if (window._pyforest_update_imports_cell) { window._pyforest_update_imports_cell('import re'); }\n",
       "    "
      ],
      "text/plain": [
       "<IPython.core.display.Javascript object>"
      ]
     },
     "metadata": {},
     "output_type": "display_data"
    },
    {
     "data": {
      "application/javascript": [
       "\n",
       "        if (window._pyforest_update_imports_cell) { window._pyforest_update_imports_cell('import re'); }\n",
       "    "
      ],
      "text/plain": [
       "<IPython.core.display.Javascript object>"
      ]
     },
     "metadata": {},
     "output_type": "display_data"
    },
    {
     "name": "stdout",
     "output_type": "stream",
     "text": [
      "Successfully retrieved 0 - https://www.halfbakedharvest.com/spicy-cauliflower-cheese-bites-with-tahini-ranch/ with proxy 35.220.254.137:8080\n"
     ]
    }
   ],
   "source": [
    "# Read proxies from the file and create a cycle iterator\n",
    "with open('proxies.txt', 'r') as f:\n",
    "    proxies = [line.strip() for line in f if line.strip()]\n",
    "\n",
    "# Check if proxies are being read correctly\n",
    "if not proxies:\n",
    "    print(\"No valid proxies found in proxies.txt\")\n",
    "else:\n",
    "    print(f\"Proxies loaded: {proxies}\")\n",
    "\n",
    "proxy_cycle = itertools.cycle(proxies)\n",
    "\n",
    "# Initialize an empty DataFrame to store results\n",
    "temp_recipes_2 = pd.DataFrame(columns=columns)\n",
    "title = []\n",
    "prep_time = []\n",
    "cook_time = []\n",
    "total_time = []\n",
    "\n",
    "ingredients_measurment = []\n",
    "ingredients = []\n",
    "instructions = []\n",
    "\n",
    "calories = []\n",
    "servings = []\n",
    "images = []\n",
    "\n",
    "# Loop over the desired number of pages\n",
    "for i in range(0, len(failed_url)):\n",
    "    proxy = next(proxy_cycle)\n",
    "\n",
    "    # Set up request with proxy\n",
    "    headers = {'User-Agent': 'Mozilla/5.0 (Windows NT 6.3; Win64; x64) AppleWebKit/537.36 (KHTML, like Gecko) Chrome/80.0.3987.162 Safari/537.36'}\n",
    "    url = failed_url[i]\n",
    "    proxy_dict = {'http': proxy, 'https': proxy}\n",
    "\n",
    "    try:\n",
    "        response = requests.get(url, headers=headers, proxies=proxy_dict, timeout=30)\n",
    "        \n",
    "        # Check if the request was successful\n",
    "        if response.status_code == 200:\n",
    "            soup = BeautifulSoup(response.content, 'html.parser')\n",
    "            extract(soup)\n",
    "            print(f\"Successfully retrieved {i} - {url} with proxy {proxy}\")\n",
    "        else:\n",
    "            new_failed_url.append(url)\n",
    "            print(f\"Failed to retrieve page {url} with proxy {proxy}. Status code: {response.status_code}\")\n",
    "    except (requests.ConnectionError, requests.Timeout) as e:\n",
    "        new_failed_url.append(url)\n",
    "        print(f\"Proxy {proxy} failed for {url}: {e}\")\n",
    "    except ChunkedEncodingError as e:  # Handle ChunkedEncodingError\n",
    "        new_failed_url.append(url)\n",
    "        print(f\"ChunkedEncodingError occurred for proxy {proxy} and {url}: {e}\")\n",
    "        continue  # Move to the next page\n",
    "\n",
    "\n",
    "\n",
    "\n",
    "temp_recipes_2['title'] = title\n",
    "temp_recipes_2['prep_time'] = prep_time\n",
    "temp_recipes_2['cook_time'] = cook_time\n",
    "temp_recipes_2['total_time'] = total_time\n",
    "temp_recipes_2['ingredients'] = ingredients\n",
    "temp_recipes_2['ingredients with measurement'] = ingredients_measurment\n",
    "temp_recipes_2['instructions'] = instructions\n",
    "temp_recipes_2['calories'] = calories\n",
    "temp_recipes_2['servings'] = servings\n",
    "temp_recipes_2['images']= images\n",
    "\n",
    "\n",
    "\n",
    "    "
   ]
  },
  {
   "cell_type": "code",
   "execution_count": 72,
   "id": "86fec35e",
   "metadata": {},
   "outputs": [
    {
     "name": "stdout",
     "output_type": "stream",
     "text": [
      "0\n"
     ]
    }
   ],
   "source": [
    "print(len(new_failed_url))"
   ]
  },
  {
   "cell_type": "code",
   "execution_count": 73,
   "id": "f7862ade",
   "metadata": {},
   "outputs": [
    {
     "data": {
      "text/plain": [
       "[]"
      ]
     },
     "execution_count": 73,
     "metadata": {},
     "output_type": "execute_result"
    }
   ],
   "source": [
    "new_failed_url"
   ]
  },
  {
   "cell_type": "code",
   "execution_count": 74,
   "id": "b867696d",
   "metadata": {},
   "outputs": [
    {
     "data": {
      "text/html": [
       "<div>\n",
       "<style scoped>\n",
       "    .dataframe tbody tr th:only-of-type {\n",
       "        vertical-align: middle;\n",
       "    }\n",
       "\n",
       "    .dataframe tbody tr th {\n",
       "        vertical-align: top;\n",
       "    }\n",
       "\n",
       "    .dataframe thead th {\n",
       "        text-align: right;\n",
       "    }\n",
       "</style>\n",
       "<table border=\"1\" class=\"dataframe\">\n",
       "  <thead>\n",
       "    <tr style=\"text-align: right;\">\n",
       "      <th></th>\n",
       "      <th>title</th>\n",
       "      <th>prep_time</th>\n",
       "      <th>cook_time</th>\n",
       "      <th>total_time</th>\n",
       "      <th>ingredients</th>\n",
       "      <th>ingredients with measurement</th>\n",
       "      <th>instructions</th>\n",
       "      <th>calories</th>\n",
       "      <th>servings</th>\n",
       "      <th>images</th>\n",
       "    </tr>\n",
       "  </thead>\n",
       "  <tbody>\n",
       "    <tr>\n",
       "      <th>0</th>\n",
       "      <td>Spicy Cauliflower Cheese Bites with Tahini Ranch</td>\n",
       "      <td>{'minutes': '15'}</td>\n",
       "      <td>{'minutes': '30'}</td>\n",
       "      <td>{'minutes': '45'}</td>\n",
       "      <td>[heads cauliflower, cut into florets, extra vi...</td>\n",
       "      <td>{'heads cauliflower, cut into florets': '2', '...</td>\n",
       "      <td>[1. Preheat the oven to 425 degrees F., 2. On ...</td>\n",
       "      <td>248 kcal</td>\n",
       "      <td>6</td>\n",
       "      <td>https://www.halfbakedharvest.com/wp-content/up...</td>\n",
       "    </tr>\n",
       "  </tbody>\n",
       "</table>\n",
       "</div>"
      ],
      "text/plain": [
       "                                              title          prep_time  \\\n",
       "0  Spicy Cauliflower Cheese Bites with Tahini Ranch  {'minutes': '15'}   \n",
       "\n",
       "           cook_time         total_time  \\\n",
       "0  {'minutes': '30'}  {'minutes': '45'}   \n",
       "\n",
       "                                         ingredients  \\\n",
       "0  [heads cauliflower, cut into florets, extra vi...   \n",
       "\n",
       "                        ingredients with measurement  \\\n",
       "0  {'heads cauliflower, cut into florets': '2', '...   \n",
       "\n",
       "                                        instructions  calories servings  \\\n",
       "0  [1. Preheat the oven to 425 degrees F., 2. On ...  248 kcal        6   \n",
       "\n",
       "                                              images  \n",
       "0  https://www.halfbakedharvest.com/wp-content/up...  "
      ]
     },
     "execution_count": 74,
     "metadata": {},
     "output_type": "execute_result"
    }
   ],
   "source": [
    "temp_recipes_2"
   ]
  },
  {
   "cell_type": "code",
   "execution_count": 75,
   "id": "f7df378c",
   "metadata": {
    "scrolled": true
   },
   "outputs": [
    {
     "data": {
      "text/html": [
       "<div>\n",
       "<style scoped>\n",
       "    .dataframe tbody tr th:only-of-type {\n",
       "        vertical-align: middle;\n",
       "    }\n",
       "\n",
       "    .dataframe tbody tr th {\n",
       "        vertical-align: top;\n",
       "    }\n",
       "\n",
       "    .dataframe thead th {\n",
       "        text-align: right;\n",
       "    }\n",
       "</style>\n",
       "<table border=\"1\" class=\"dataframe\">\n",
       "  <thead>\n",
       "    <tr style=\"text-align: right;\">\n",
       "      <th></th>\n",
       "      <th>title</th>\n",
       "      <th>prep_time</th>\n",
       "      <th>cook_time</th>\n",
       "      <th>total_time</th>\n",
       "      <th>ingredients</th>\n",
       "      <th>ingredients with measurement</th>\n",
       "      <th>instructions</th>\n",
       "      <th>calories</th>\n",
       "      <th>servings</th>\n",
       "      <th>images</th>\n",
       "    </tr>\n",
       "  </thead>\n",
       "  <tbody>\n",
       "    <tr>\n",
       "      <th>0</th>\n",
       "      <td>Tomato Cheese Pie</td>\n",
       "      <td>{'minutes': '15'}</td>\n",
       "      <td>{'minutes': '45'}</td>\n",
       "      <td>{'hours': '1'}</td>\n",
       "      <td>[heirloom tomatoes, sliced, salt and black pep...</td>\n",
       "      <td>{'heirloom tomatoes, sliced': '2-3', 'salt and...</td>\n",
       "      <td>[1. Preheat the oven to 400 degrees F. Line a ...</td>\n",
       "      <td>456 kcal</td>\n",
       "      <td>6</td>\n",
       "      <td>https://www.halfbakedharvest.com/wp-content/up...</td>\n",
       "    </tr>\n",
       "    <tr>\n",
       "      <th>1</th>\n",
       "      <td>Fried Goat Cheese Balls with Spicy Sage Honey</td>\n",
       "      <td>{'minutes': '30'}</td>\n",
       "      <td>{'minutes': '5'}</td>\n",
       "      <td>{'minutes': '35'}</td>\n",
       "      <td>[all-purpose flour, black pepper, Panko breadc...</td>\n",
       "      <td>{'all-purpose flour': '1/3', 'black pepper': '...</td>\n",
       "      <td>[1. Add the flour and a pinch of pepper to a b...</td>\n",
       "      <td>129 kcal</td>\n",
       "      <td>10</td>\n",
       "      <td>https://www.halfbakedharvest.com/wp-content/up...</td>\n",
       "    </tr>\n",
       "    <tr>\n",
       "      <th>2</th>\n",
       "      <td>Beef Tenderloin Crostini with Parmesan Wine Cr...</td>\n",
       "      <td>{'minutes': '15'}</td>\n",
       "      <td>{'minutes': '30'}</td>\n",
       "      <td>{'minutes': '45'}</td>\n",
       "      <td>[beef tenderloin, trimmed and tied, black pepp...</td>\n",
       "      <td>{'beef tenderloin, trimmed and tied': '1', 'bl...</td>\n",
       "      <td>[1. Allow the beef to come to room temperature...</td>\n",
       "      <td>209 kcal</td>\n",
       "      <td>16</td>\n",
       "      <td>https://www.halfbakedharvest.com/wp-content/up...</td>\n",
       "    </tr>\n",
       "    <tr>\n",
       "      <th>3</th>\n",
       "      <td>Baked Garlic Parmesan Buffalo Chicken Wings</td>\n",
       "      <td>{'minutes': '15'}</td>\n",
       "      <td>{'minutes': '40'}</td>\n",
       "      <td>{'minutes': '55'}</td>\n",
       "      <td>[chicken wings or drumsticks, smoked paprika, ...</td>\n",
       "      <td>{'chicken wings or drumsticks': '2', 'smoked p...</td>\n",
       "      <td>[1. Preheat the oven to 450° F. Line a baking ...</td>\n",
       "      <td>423 kcal</td>\n",
       "      <td>6</td>\n",
       "      <td>https://www.halfbakedharvest.com/wp-content/up...</td>\n",
       "    </tr>\n",
       "    <tr>\n",
       "      <th>4</th>\n",
       "      <td>Honey Butter Jalapeño Cheddar Cornbread Biscuits</td>\n",
       "      <td>{'minutes': '20'}</td>\n",
       "      <td>{'minutes': '15'}</td>\n",
       "      <td>{'minutes': '35'}</td>\n",
       "      <td>[cold, salted butter, white whole wheat or all...</td>\n",
       "      <td>{'cold, salted butter': '6', 'white whole whea...</td>\n",
       "      <td>[1. Preheat the oven to 350° F. Butter a 24-cu...</td>\n",
       "      <td>144 kcal</td>\n",
       "      <td>24</td>\n",
       "      <td>https://www.halfbakedharvest.com/wp-content/up...</td>\n",
       "    </tr>\n",
       "    <tr>\n",
       "      <th>...</th>\n",
       "      <td>...</td>\n",
       "      <td>...</td>\n",
       "      <td>...</td>\n",
       "      <td>...</td>\n",
       "      <td>...</td>\n",
       "      <td>...</td>\n",
       "      <td>...</td>\n",
       "      <td>...</td>\n",
       "      <td>...</td>\n",
       "      <td>...</td>\n",
       "    </tr>\n",
       "    <tr>\n",
       "      <th>152</th>\n",
       "      <td>Simplest Whipped Ricotta Toast with Lemon Thym...</td>\n",
       "      <td>{'minutes': '10'}</td>\n",
       "      <td>{'minutes': '10'}</td>\n",
       "      <td>{'minutes': '20'}</td>\n",
       "      <td>[olive oil, oranges, sliced, honey, Meyer or r...</td>\n",
       "      <td>{'olive oil': 'seasoning', 'oranges, sliced': ...</td>\n",
       "      <td>[1. Preheat the broiler to high. Rub a baking ...</td>\n",
       "      <td>410 kcal</td>\n",
       "      <td>6</td>\n",
       "      <td>https://www.halfbakedharvest.com/wp-content/up...</td>\n",
       "    </tr>\n",
       "    <tr>\n",
       "      <th>153</th>\n",
       "      <td>Black Pepper Rub Chicken Fingers with Greek Yo...</td>\n",
       "      <td>{'minutes': '15'}</td>\n",
       "      <td>{'minutes': '15'}</td>\n",
       "      <td>{'minutes': '30'}</td>\n",
       "      <td>[boneless skinless chicken tenders, buttermilk...</td>\n",
       "      <td>{'boneless skinless chicken tenders': '2', 'bu...</td>\n",
       "      <td>[1. In a bowl, combine the chicken, buttermilk...</td>\n",
       "      <td>602 kcal</td>\n",
       "      <td>6</td>\n",
       "      <td>https://www.halfbakedharvest.com/wp-content/up...</td>\n",
       "    </tr>\n",
       "    <tr>\n",
       "      <th>154</th>\n",
       "      <td>Honey Whipped Feta with Garlic Herb Roasted Ol...</td>\n",
       "      <td>{'minutes': '15'}</td>\n",
       "      <td>{'minutes': '20'}</td>\n",
       "      <td>{'minutes': '35'}</td>\n",
       "      <td>[mixed olives pitted, extra virgin olive oil, ...</td>\n",
       "      <td>{'mixed olives pitted': '2', 'extra virgin oli...</td>\n",
       "      <td>[1. Preheat the oven to 450° F. In a baking di...</td>\n",
       "      <td>255 kcal</td>\n",
       "      <td>8</td>\n",
       "      <td>https://www.halfbakedharvest.com/wp-content/up...</td>\n",
       "    </tr>\n",
       "    <tr>\n",
       "      <th>155</th>\n",
       "      <td>Southwest BBQ Pork Sliders.</td>\n",
       "      <td>{'minutes': '10'}</td>\n",
       "      <td>{'hours': '6'}</td>\n",
       "      <td>{'hours': '6', 'minutes': '10'}</td>\n",
       "      <td>[pork shoulder or butt, can Old El Paso Enchil...</td>\n",
       "      <td>{'pork shoulder or butt': '2 1/2', 'can Old El...</td>\n",
       "      <td>[]</td>\n",
       "      <td>1007 kcal</td>\n",
       "      <td>8</td>\n",
       "      <td>https://www.halfbakedharvest.com/wp-content/up...</td>\n",
       "    </tr>\n",
       "    <tr>\n",
       "      <th>156</th>\n",
       "      <td>Spicy Cauliflower Cheese Bites with Tahini Ranch</td>\n",
       "      <td>{'minutes': '15'}</td>\n",
       "      <td>{'minutes': '30'}</td>\n",
       "      <td>{'minutes': '45'}</td>\n",
       "      <td>[heads cauliflower, cut into florets, extra vi...</td>\n",
       "      <td>{'heads cauliflower, cut into florets': '2', '...</td>\n",
       "      <td>[1. Preheat the oven to 425 degrees F., 2. On ...</td>\n",
       "      <td>248 kcal</td>\n",
       "      <td>6</td>\n",
       "      <td>https://www.halfbakedharvest.com/wp-content/up...</td>\n",
       "    </tr>\n",
       "  </tbody>\n",
       "</table>\n",
       "<p>157 rows × 10 columns</p>\n",
       "</div>"
      ],
      "text/plain": [
       "                                                 title          prep_time  \\\n",
       "0                                    Tomato Cheese Pie  {'minutes': '15'}   \n",
       "1        Fried Goat Cheese Balls with Spicy Sage Honey  {'minutes': '30'}   \n",
       "2    Beef Tenderloin Crostini with Parmesan Wine Cr...  {'minutes': '15'}   \n",
       "3          Baked Garlic Parmesan Buffalo Chicken Wings  {'minutes': '15'}   \n",
       "4     Honey Butter Jalapeño Cheddar Cornbread Biscuits  {'minutes': '20'}   \n",
       "..                                                 ...                ...   \n",
       "152  Simplest Whipped Ricotta Toast with Lemon Thym...  {'minutes': '10'}   \n",
       "153  Black Pepper Rub Chicken Fingers with Greek Yo...  {'minutes': '15'}   \n",
       "154  Honey Whipped Feta with Garlic Herb Roasted Ol...  {'minutes': '15'}   \n",
       "155                        Southwest BBQ Pork Sliders.  {'minutes': '10'}   \n",
       "156   Spicy Cauliflower Cheese Bites with Tahini Ranch  {'minutes': '15'}   \n",
       "\n",
       "             cook_time                       total_time  \\\n",
       "0    {'minutes': '45'}                   {'hours': '1'}   \n",
       "1     {'minutes': '5'}                {'minutes': '35'}   \n",
       "2    {'minutes': '30'}                {'minutes': '45'}   \n",
       "3    {'minutes': '40'}                {'minutes': '55'}   \n",
       "4    {'minutes': '15'}                {'minutes': '35'}   \n",
       "..                 ...                              ...   \n",
       "152  {'minutes': '10'}                {'minutes': '20'}   \n",
       "153  {'minutes': '15'}                {'minutes': '30'}   \n",
       "154  {'minutes': '20'}                {'minutes': '35'}   \n",
       "155     {'hours': '6'}  {'hours': '6', 'minutes': '10'}   \n",
       "156  {'minutes': '30'}                {'minutes': '45'}   \n",
       "\n",
       "                                           ingredients  \\\n",
       "0    [heirloom tomatoes, sliced, salt and black pep...   \n",
       "1    [all-purpose flour, black pepper, Panko breadc...   \n",
       "2    [beef tenderloin, trimmed and tied, black pepp...   \n",
       "3    [chicken wings or drumsticks, smoked paprika, ...   \n",
       "4    [cold, salted butter, white whole wheat or all...   \n",
       "..                                                 ...   \n",
       "152  [olive oil, oranges, sliced, honey, Meyer or r...   \n",
       "153  [boneless skinless chicken tenders, buttermilk...   \n",
       "154  [mixed olives pitted, extra virgin olive oil, ...   \n",
       "155  [pork shoulder or butt, can Old El Paso Enchil...   \n",
       "156  [heads cauliflower, cut into florets, extra vi...   \n",
       "\n",
       "                          ingredients with measurement  \\\n",
       "0    {'heirloom tomatoes, sliced': '2-3', 'salt and...   \n",
       "1    {'all-purpose flour': '1/3', 'black pepper': '...   \n",
       "2    {'beef tenderloin, trimmed and tied': '1', 'bl...   \n",
       "3    {'chicken wings or drumsticks': '2', 'smoked p...   \n",
       "4    {'cold, salted butter': '6', 'white whole whea...   \n",
       "..                                                 ...   \n",
       "152  {'olive oil': 'seasoning', 'oranges, sliced': ...   \n",
       "153  {'boneless skinless chicken tenders': '2', 'bu...   \n",
       "154  {'mixed olives pitted': '2', 'extra virgin oli...   \n",
       "155  {'pork shoulder or butt': '2 1/2', 'can Old El...   \n",
       "156  {'heads cauliflower, cut into florets': '2', '...   \n",
       "\n",
       "                                          instructions   calories servings  \\\n",
       "0    [1. Preheat the oven to 400 degrees F. Line a ...   456 kcal        6   \n",
       "1    [1. Add the flour and a pinch of pepper to a b...   129 kcal       10   \n",
       "2    [1. Allow the beef to come to room temperature...   209 kcal       16   \n",
       "3    [1. Preheat the oven to 450° F. Line a baking ...   423 kcal        6   \n",
       "4    [1. Preheat the oven to 350° F. Butter a 24-cu...   144 kcal       24   \n",
       "..                                                 ...        ...      ...   \n",
       "152  [1. Preheat the broiler to high. Rub a baking ...   410 kcal        6   \n",
       "153  [1. In a bowl, combine the chicken, buttermilk...   602 kcal        6   \n",
       "154  [1. Preheat the oven to 450° F. In a baking di...   255 kcal        8   \n",
       "155                                                 []  1007 kcal        8   \n",
       "156  [1. Preheat the oven to 425 degrees F., 2. On ...   248 kcal        6   \n",
       "\n",
       "                                                images  \n",
       "0    https://www.halfbakedharvest.com/wp-content/up...  \n",
       "1    https://www.halfbakedharvest.com/wp-content/up...  \n",
       "2    https://www.halfbakedharvest.com/wp-content/up...  \n",
       "3    https://www.halfbakedharvest.com/wp-content/up...  \n",
       "4    https://www.halfbakedharvest.com/wp-content/up...  \n",
       "..                                                 ...  \n",
       "152  https://www.halfbakedharvest.com/wp-content/up...  \n",
       "153  https://www.halfbakedharvest.com/wp-content/up...  \n",
       "154  https://www.halfbakedharvest.com/wp-content/up...  \n",
       "155  https://www.halfbakedharvest.com/wp-content/up...  \n",
       "156  https://www.halfbakedharvest.com/wp-content/up...  \n",
       "\n",
       "[157 rows x 10 columns]"
      ]
     },
     "execution_count": 75,
     "metadata": {},
     "output_type": "execute_result"
    }
   ],
   "source": [
    "final = pd.concat([final, temp_recipes_2], ignore_index=True)\n",
    "final"
   ]
  },
  {
   "cell_type": "code",
   "execution_count": null,
   "id": "08e31e99",
   "metadata": {},
   "outputs": [],
   "source": []
  },
  {
   "cell_type": "code",
   "execution_count": null,
   "id": "cd510138",
   "metadata": {},
   "outputs": [],
   "source": []
  },
  {
   "cell_type": "code",
   "execution_count": null,
   "id": "1d89d69b",
   "metadata": {},
   "outputs": [],
   "source": []
  },
  {
   "cell_type": "code",
   "execution_count": null,
   "id": "a047bc29",
   "metadata": {},
   "outputs": [],
   "source": []
  },
  {
   "cell_type": "code",
   "execution_count": null,
   "id": "4aa264ae",
   "metadata": {},
   "outputs": [],
   "source": []
  },
  {
   "cell_type": "code",
   "execution_count": 76,
   "id": "751db088",
   "metadata": {},
   "outputs": [],
   "source": [
    "def save_list_to_txt(filename, data_list):\n",
    "    \"\"\"\n",
    "    Save a list of strings to a text file, one item per line.\n",
    "    \n",
    "    :param filename: The name of the file to save the list to.\n",
    "    :param data_list: The list of strings to save.\n",
    "    \"\"\"\n",
    "    with open(filename, 'w') as f:\n",
    "        for item in data_list:\n",
    "            f.write(f\"{item}\\n\")"
   ]
  },
  {
   "cell_type": "code",
   "execution_count": 78,
   "id": "7da183ed",
   "metadata": {},
   "outputs": [],
   "source": [
    "# save_list_to_txt('failed_urls_till201.txt', failed_url)\n",
    "final.to_csv('failed_appetizers.csv', index=False)"
   ]
  },
  {
   "cell_type": "code",
   "execution_count": null,
   "id": "6b4517a6",
   "metadata": {},
   "outputs": [],
   "source": []
  },
  {
   "cell_type": "code",
   "execution_count": null,
   "id": "584b8a40",
   "metadata": {},
   "outputs": [],
   "source": []
  },
  {
   "cell_type": "code",
   "execution_count": null,
   "id": "54dd8922",
   "metadata": {},
   "outputs": [],
   "source": []
  },
  {
   "cell_type": "code",
   "execution_count": null,
   "id": "793ea025",
   "metadata": {},
   "outputs": [],
   "source": []
  },
  {
   "cell_type": "code",
   "execution_count": null,
   "id": "d368577a",
   "metadata": {},
   "outputs": [],
   "source": []
  },
  {
   "cell_type": "code",
   "execution_count": null,
   "id": "65f477dc",
   "metadata": {},
   "outputs": [],
   "source": []
  },
  {
   "cell_type": "code",
   "execution_count": null,
   "id": "d9a3a0b2",
   "metadata": {},
   "outputs": [],
   "source": []
  },
  {
   "cell_type": "code",
   "execution_count": null,
   "id": "9ffe78f4",
   "metadata": {},
   "outputs": [],
   "source": []
  },
  {
   "cell_type": "code",
   "execution_count": null,
   "id": "8c80385b",
   "metadata": {},
   "outputs": [],
   "source": []
  },
  {
   "cell_type": "code",
   "execution_count": null,
   "id": "b86d43b3",
   "metadata": {},
   "outputs": [],
   "source": []
  },
  {
   "cell_type": "code",
   "execution_count": null,
   "id": "f3bd71a8",
   "metadata": {},
   "outputs": [],
   "source": []
  },
  {
   "cell_type": "markdown",
   "id": "b6e401ee",
   "metadata": {},
   "source": [
    "### Recipes 201-500"
   ]
  },
  {
   "cell_type": "code",
   "execution_count": null,
   "id": "c01c6671",
   "metadata": {
    "scrolled": true
   },
   "outputs": [],
   "source": [
    "# Read proxies from the file and create a cycle iterator\n",
    "with open('proxies.txt', 'r') as f:\n",
    "    proxies = [line.strip() for line in f if line.strip()]\n",
    "\n",
    "# Check if proxies are being read correctly\n",
    "if not proxies:\n",
    "    print(\"No valid proxies found in proxies.txt\")\n",
    "else:\n",
    "    print(f\"Proxies loaded: {proxies}\")\n",
    "\n",
    "proxy_cycle = itertools.cycle(proxies)\n",
    "\n",
    "# Initialize an empty DataFrame to store results\n",
    "temp_recipes_3 = pd.DataFrame(columns=columns)\n",
    "title = []\n",
    "prep_time = []\n",
    "cook_time = []\n",
    "total_time = []\n",
    "\n",
    "ingredients_measurment = []\n",
    "ingredients = []\n",
    "instructions = []\n",
    "\n",
    "calories = []\n",
    "servings = []\n",
    "images = []\n",
    "\n",
    "# Loop over the desired number of pages\n",
    "for i in range(201, 501):\n",
    "    proxy = next(proxy_cycle)\n",
    "\n",
    "    # Set up request with proxy\n",
    "    headers = {'User-Agent': 'Mozilla/5.0 (Windows NT 6.3; Win64; x64) AppleWebKit/537.36 (KHTML, like Gecko) Chrome/80.0.3987.162 Safari/537.36'}\n",
    "    url = all_recipes_url[i]\n",
    "    proxy_dict = {'http': proxy, 'https': proxy}\n",
    "\n",
    "    try:\n",
    "        response = requests.get(url, headers=headers, proxies=proxy_dict, timeout=30)\n",
    "        \n",
    "        # Check if the request was successful\n",
    "        if response.status_code == 200:\n",
    "            soup = BeautifulSoup(response.content, 'html.parser')\n",
    "            extract(soup)\n",
    "            print(f\"Successfully retrieved {i} - {url} with proxy {proxy}\")\n",
    "        else:\n",
    "            failed_url.append(url)\n",
    "            print(f\"Failed to retrieve page {url} with proxy {proxy}. Status code: {response.status_code}\")\n",
    "    except (requests.ConnectionError, requests.Timeout) as e:\n",
    "        failed_url.append(url)\n",
    "        print(f\"Proxy {proxy} failed for {url}: {e}\")\n",
    "    except ChunkedEncodingError as e:  # Handle ChunkedEncodingError\n",
    "        failed_url.append(url)\n",
    "        print(f\"ChunkedEncodingError occurred for proxy {proxy} and {url}: {e}\")\n",
    "        continue  # Move to the next page\n",
    "\n",
    "\n",
    "\n",
    "temp_recipes_3['title'] = title\n",
    "temp_recipes_3['prep_time'] = prep_time\n",
    "temp_recipes_3['cook_time'] = cook_time\n",
    "temp_recipes_3['total_time'] = total_time\n",
    "temp_recipes_3['ingredients'] = ingredients\n",
    "temp_recipes_3['ingredients with measurement'] = ingredients_measurment\n",
    "temp_recipes_3['instructions'] = instructions\n",
    "temp_recipes_3['calories'] = calories\n",
    "temp_recipes_3['servings'] = servings\n",
    "temp_recipes_3['images']= images\n",
    "\n",
    "\n",
    "\n",
    "    "
   ]
  },
  {
   "cell_type": "code",
   "execution_count": null,
   "id": "fbfb2603",
   "metadata": {},
   "outputs": [],
   "source": [
    "len(failed_url)"
   ]
  },
  {
   "cell_type": "code",
   "execution_count": null,
   "id": "1decf1ab",
   "metadata": {},
   "outputs": [],
   "source": [
    "temp_recipes_3"
   ]
  },
  {
   "cell_type": "code",
   "execution_count": null,
   "id": "5e699a3a",
   "metadata": {},
   "outputs": [],
   "source": [
    "final = pd.concat([final, temp_recipes_3], ignore_index=True)\n",
    "final"
   ]
  },
  {
   "cell_type": "code",
   "execution_count": null,
   "id": "f1aaeecb",
   "metadata": {},
   "outputs": [],
   "source": [
    "def save_list_to_txt(filename, data_list):\n",
    "    \"\"\"\n",
    "    Save a list of strings to a text file, one item per line.\n",
    "    \n",
    "    :param filename: The name of the file to save the list to.\n",
    "    :param data_list: The list of strings to save.\n",
    "    \"\"\"\n",
    "    with open(filename, 'w') as f:\n",
    "        for item in data_list:\n",
    "            f.write(f\"{item}\\n\")"
   ]
  },
  {
   "cell_type": "code",
   "execution_count": null,
   "id": "5fd1ee0e",
   "metadata": {},
   "outputs": [],
   "source": [
    "save_list_to_txt('failed_urls_till501.txt', failed_url)\n",
    "final.to_csv('desserts_201_501.csv', index=False)"
   ]
  },
  {
   "cell_type": "code",
   "execution_count": null,
   "id": "f2e767bb",
   "metadata": {},
   "outputs": [],
   "source": []
  },
  {
   "cell_type": "code",
   "execution_count": null,
   "id": "382f90d1",
   "metadata": {},
   "outputs": [],
   "source": []
  },
  {
   "cell_type": "code",
   "execution_count": null,
   "id": "76e81e61",
   "metadata": {},
   "outputs": [],
   "source": []
  },
  {
   "cell_type": "code",
   "execution_count": null,
   "id": "df03c5d3",
   "metadata": {},
   "outputs": [],
   "source": []
  },
  {
   "cell_type": "code",
   "execution_count": null,
   "id": "1e10152e",
   "metadata": {},
   "outputs": [],
   "source": []
  },
  {
   "cell_type": "code",
   "execution_count": null,
   "id": "f73e7e1b",
   "metadata": {},
   "outputs": [],
   "source": []
  },
  {
   "cell_type": "code",
   "execution_count": null,
   "id": "109578be",
   "metadata": {},
   "outputs": [],
   "source": []
  },
  {
   "cell_type": "code",
   "execution_count": null,
   "id": "1d416d69",
   "metadata": {},
   "outputs": [],
   "source": []
  },
  {
   "cell_type": "code",
   "execution_count": null,
   "id": "ae4b1919",
   "metadata": {},
   "outputs": [],
   "source": []
  },
  {
   "cell_type": "code",
   "execution_count": null,
   "id": "11fd3c4e",
   "metadata": {},
   "outputs": [],
   "source": []
  },
  {
   "cell_type": "code",
   "execution_count": null,
   "id": "9df36c54",
   "metadata": {},
   "outputs": [],
   "source": []
  },
  {
   "cell_type": "code",
   "execution_count": null,
   "id": "bf6c7112",
   "metadata": {},
   "outputs": [],
   "source": []
  },
  {
   "cell_type": "markdown",
   "id": "c2c25062",
   "metadata": {},
   "source": [
    "### Recipes 501-800"
   ]
  },
  {
   "cell_type": "code",
   "execution_count": null,
   "id": "bf153261",
   "metadata": {
    "scrolled": true
   },
   "outputs": [],
   "source": [
    "# Read proxies from the file and create a cycle iterator\n",
    "with open('proxies.txt', 'r') as f:\n",
    "    proxies = [line.strip() for line in f if line.strip()]\n",
    "\n",
    "# Check if proxies are being read correctly\n",
    "if not proxies:\n",
    "    print(\"No valid proxies found in proxies.txt\")\n",
    "else:\n",
    "    print(f\"Proxies loaded: {proxies}\")\n",
    "\n",
    "proxy_cycle = itertools.cycle(proxies)\n",
    "\n",
    "# Initialize an empty DataFrame to store results\n",
    "temp_recipes_4 = pd.DataFrame(columns=columns)\n",
    "title = []\n",
    "prep_time = []\n",
    "cook_time = []\n",
    "total_time = []\n",
    "\n",
    "ingredients_measurment = []\n",
    "ingredients = []\n",
    "instructions = []\n",
    "\n",
    "calories = []\n",
    "servings = []\n",
    "images = []\n",
    "\n",
    "# Loop over the desired number of pages\n",
    "for i in range(501, 792):\n",
    "    proxy = next(proxy_cycle)\n",
    "\n",
    "    # Set up request with proxy\n",
    "    headers = {'User-Agent': 'Mozilla/5.0 (Windows NT 6.3; Win64; x64) AppleWebKit/537.36 (KHTML, like Gecko) Chrome/80.0.3987.162 Safari/537.36'}\n",
    "    url = all_recipes_url[i]\n",
    "    proxy_dict = {'http': proxy, 'https': proxy}\n",
    "\n",
    "    try:\n",
    "        response = requests.get(url, headers=headers, proxies=proxy_dict, timeout=30)\n",
    "        \n",
    "        # Check if the request was successful\n",
    "        if response.status_code == 200:\n",
    "            soup = BeautifulSoup(response.content, 'html.parser')\n",
    "            extract(soup)\n",
    "            print(f\"Successfully retrieved {i} - {url} with proxy {proxy}\")\n",
    "        else:\n",
    "            failed_url.append(url)\n",
    "            print(f\"Failed to retrieve page {url} with proxy {proxy}. Status code: {response.status_code}\")\n",
    "    except (requests.ConnectionError, requests.Timeout) as e:\n",
    "        failed_url.append(url)\n",
    "        print(f\"Proxy {proxy} failed for {url}: {e}\")\n",
    "    except ChunkedEncodingError as e:  # Handle ChunkedEncodingError\n",
    "        failed_url.append(url)\n",
    "        print(f\"ChunkedEncodingError occurred for proxy {proxy} and {url}: {e}\")\n",
    "        continue  # Move to the next page\n",
    "\n",
    "\n",
    "\n",
    "temp_recipes_4['title'] = title\n",
    "temp_recipes_4['prep_time'] = prep_time\n",
    "temp_recipes_4['cook_time'] = cook_time\n",
    "temp_recipes_4['total_time'] = total_time\n",
    "temp_recipes_4['ingredients'] = ingredients\n",
    "temp_recipes_4['ingredients with measurement'] = ingredients_measurment\n",
    "temp_recipes_4['instructions'] = instructions\n",
    "temp_recipes_4['calories'] = calories\n",
    "temp_recipes_4['servings'] = servings\n",
    "temp_recipes_4['images']= images\n",
    "\n",
    "\n",
    "\n",
    "    "
   ]
  },
  {
   "cell_type": "code",
   "execution_count": null,
   "id": "3ee03d80",
   "metadata": {},
   "outputs": [],
   "source": [
    "len(failed_url)"
   ]
  },
  {
   "cell_type": "code",
   "execution_count": null,
   "id": "2600aa35",
   "metadata": {},
   "outputs": [],
   "source": [
    "temp_recipes_4"
   ]
  },
  {
   "cell_type": "code",
   "execution_count": null,
   "id": "15b8297f",
   "metadata": {},
   "outputs": [],
   "source": [
    "final = pd.concat([final, temp_recipes_4], ignore_index=True)\n",
    "final"
   ]
  },
  {
   "cell_type": "code",
   "execution_count": null,
   "id": "866bb7b8",
   "metadata": {},
   "outputs": [],
   "source": [
    "save_list_to_txt('all_urls.txt', all_recipes_url)\n",
    "save_list_to_txt('failed_urls_till500.txt', failed_url)\n",
    "final2.to_csv('recipes_501_800.csv', index=False)"
   ]
  },
  {
   "cell_type": "code",
   "execution_count": null,
   "id": "5124a2ae",
   "metadata": {},
   "outputs": [],
   "source": []
  },
  {
   "cell_type": "code",
   "execution_count": null,
   "id": "a353e6c1",
   "metadata": {},
   "outputs": [],
   "source": []
  },
  {
   "cell_type": "code",
   "execution_count": null,
   "id": "0ad8b628",
   "metadata": {},
   "outputs": [],
   "source": []
  },
  {
   "cell_type": "code",
   "execution_count": null,
   "id": "4380119e",
   "metadata": {},
   "outputs": [],
   "source": [
    "urls2 = []\n",
    "\n",
    "with open('all_urls.txt', 'r') as file:\n",
    "    for line in file:\n",
    "        urls2.append(line.strip())\n",
    "\n",
    "print(urls2)"
   ]
  },
  {
   "cell_type": "code",
   "execution_count": null,
   "id": "3f3ba63d",
   "metadata": {},
   "outputs": [],
   "source": [
    "failed_url = []"
   ]
  },
  {
   "cell_type": "markdown",
   "id": "cad1c608",
   "metadata": {},
   "source": [
    "### Recipes 801-1001"
   ]
  },
  {
   "cell_type": "code",
   "execution_count": null,
   "id": "4c995dc5",
   "metadata": {
    "scrolled": true
   },
   "outputs": [],
   "source": [
    "# Read proxies from the file and create a cycle iterator\n",
    "with open('proxies.txt', 'r') as f:\n",
    "    proxies = [line.strip() for line in f if line.strip()]\n",
    "\n",
    "# Check if proxies are being read correctly\n",
    "if not proxies:\n",
    "    print(\"No valid proxies found in proxies.txt\")\n",
    "else:\n",
    "    print(f\"Proxies loaded: {proxies}\")\n",
    "\n",
    "proxy_cycle = itertools.cycle(proxies)\n",
    "\n",
    "# Initialize an empty DataFrame to store results\n",
    "temp_recipes_5 = pd.DataFrame(columns=columns)\n",
    "title = []\n",
    "prep_time = []\n",
    "cook_time = []\n",
    "total_time = []\n",
    "\n",
    "ingredients_measurment = []\n",
    "ingredients = []\n",
    "instructions = []\n",
    "\n",
    "calories = []\n",
    "servings = []\n",
    "images = []\n",
    "\n",
    "# Loop over the desired number of pages\n",
    "for i in range(801, 1001):\n",
    "    proxy = next(proxy_cycle)\n",
    "\n",
    "    # Set up request with proxy\n",
    "    headers = {'User-Agent': 'Mozilla/5.0 (Windows NT 6.3; Win64; x64) AppleWebKit/537.36 (KHTML, like Gecko) Chrome/80.0.3987.162 Safari/537.36'}\n",
    "    url = urls2[i]\n",
    "    proxy_dict = {'http': proxy, 'https': proxy}\n",
    "\n",
    "    try:\n",
    "        response = requests.get(url, headers=headers, proxies=proxy_dict, timeout=30)\n",
    "        \n",
    "        # Check if the request was successful\n",
    "        if response.status_code == 200:\n",
    "            soup = BeautifulSoup(response.content, 'html.parser')\n",
    "            extract(soup)\n",
    "            print(f\"Successfully retrieved {i} - {url} with proxy {proxy}\")\n",
    "        else:\n",
    "            failed_url.append(url)\n",
    "            print(f\"Failed to retrieve page {url} with proxy {proxy}. Status code: {response.status_code}\")\n",
    "    except (requests.ConnectionError, requests.Timeout) as e:\n",
    "        failed_url.append(url)\n",
    "        print(f\"Proxy {proxy} failed for {url}: {e}\")\n",
    "    except ChunkedEncodingError as e:  # Handle ChunkedEncodingError\n",
    "        failed_url.append(url)\n",
    "        print(f\"ChunkedEncodingError occurred for proxy {proxy} and {url}: {e}\")\n",
    "        continue  # Move to the next page\n",
    "\n",
    "\n",
    "\n",
    "temp_recipes_5['title'] = title\n",
    "temp_recipes_5['prep_time'] = prep_time\n",
    "temp_recipes_5['cook_time'] = cook_time\n",
    "temp_recipes_5['total_time'] = total_time\n",
    "temp_recipes_5['ingredients'] = ingredients\n",
    "temp_recipes_5['ingredients with measurement'] = ingredients_measurment\n",
    "temp_recipes_5['instructions'] = instructions\n",
    "temp_recipes_5['calories'] = calories\n",
    "temp_recipes_5['servings'] = servings\n",
    "temp_recipes_5['images']= images\n",
    "\n",
    "\n",
    "\n",
    "    "
   ]
  },
  {
   "cell_type": "code",
   "execution_count": null,
   "id": "90f1e496",
   "metadata": {},
   "outputs": [],
   "source": []
  },
  {
   "cell_type": "code",
   "execution_count": null,
   "id": "bbc61ddc",
   "metadata": {},
   "outputs": [],
   "source": [
    "final3 = pd.DataFrame(columns=columns)\n",
    "final3"
   ]
  },
  {
   "cell_type": "code",
   "execution_count": null,
   "id": "9418d2e5",
   "metadata": {},
   "outputs": [],
   "source": [
    "len(failed_url)"
   ]
  },
  {
   "cell_type": "code",
   "execution_count": null,
   "id": "0a31ba5e",
   "metadata": {},
   "outputs": [],
   "source": [
    "temp_recipes_5"
   ]
  },
  {
   "cell_type": "code",
   "execution_count": null,
   "id": "676eed53",
   "metadata": {},
   "outputs": [],
   "source": [
    "final3 = pd.concat([final3, temp_recipes_5], ignore_index=True)\n",
    "final3"
   ]
  },
  {
   "cell_type": "code",
   "execution_count": null,
   "id": "a6bd2510",
   "metadata": {},
   "outputs": [],
   "source": [
    "# Read proxies from the file and create a cycle iterator\n",
    "with open('proxies.txt', 'r') as f:\n",
    "    proxies = [line.strip() for line in f if line.strip()]\n",
    "\n",
    "# Check if proxies are being read correctly\n",
    "if not proxies:\n",
    "    print(\"No valid proxies found in proxies.txt\")\n",
    "else:\n",
    "    print(f\"Proxies loaded: {proxies}\")\n",
    "\n",
    "proxy_cycle = itertools.cycle(proxies)\n",
    "\n",
    "# Initialize an empty DataFrame to store results\n",
    "temp_recipes_6 = pd.DataFrame(columns=columns)\n",
    "title = []\n",
    "prep_time = []\n",
    "cook_time = []\n",
    "total_time = []\n",
    "\n",
    "ingredients_measurment = []\n",
    "ingredients = []\n",
    "instructions = []\n",
    "\n",
    "calories = []\n",
    "servings = []\n",
    "images = []\n",
    "\n",
    "# Loop over the desired number of pages\n",
    "for i in range(1001, 1401):\n",
    "    proxy = next(proxy_cycle)\n",
    "\n",
    "    # Set up request with proxy\n",
    "    headers = {'User-Agent': 'Mozilla/5.0 (Windows NT 6.3; Win64; x64) AppleWebKit/537.36 (KHTML, like Gecko) Chrome/80.0.3987.162 Safari/537.36'}\n",
    "    url = urls2[i]\n",
    "    proxy_dict = {'http': proxy, 'https': proxy}\n",
    "\n",
    "    try:\n",
    "        response = requests.get(url, headers=headers, proxies=proxy_dict, timeout=30)\n",
    "        \n",
    "        # Check if the request was successful\n",
    "        if response.status_code == 200:\n",
    "            soup = BeautifulSoup(response.content, 'html.parser')\n",
    "            extract(soup)\n",
    "            print(f\"Successfully retrieved {i} - {url} with proxy {proxy}\")\n",
    "        else:\n",
    "            failed_url.append(url)\n",
    "            print(f\"Failed to retrieve page {url} with proxy {proxy}. Status code: {response.status_code}\")\n",
    "    except (requests.ConnectionError, requests.Timeout) as e:\n",
    "        failed_url.append(url)\n",
    "        print(f\"Proxy {proxy} failed for {url}: {e}\")\n",
    "    except ChunkedEncodingError as e:  # Handle ChunkedEncodingError\n",
    "        failed_url.append(url)\n",
    "        print(f\"ChunkedEncodingError occurred for proxy {proxy} and {url}: {e}\")\n",
    "        continue  # Move to the next page\n",
    "\n",
    "\n",
    "\n",
    "temp_recipes_6['title'] = title\n",
    "temp_recipes_6['prep_time'] = prep_time\n",
    "temp_recipes_6['cook_time'] = cook_time\n",
    "temp_recipes_6['total_time'] = total_time\n",
    "temp_recipes_6['ingredients'] = ingredients\n",
    "temp_recipes_6['ingredients with measurement'] = ingredients_measurment\n",
    "temp_recipes_6['instructions'] = instructions\n",
    "temp_recipes_6['calories'] = calories\n",
    "temp_recipes_6['servings'] = servings\n",
    "temp_recipes_6['images']= images\n",
    "\n",
    "\n",
    "\n",
    "    "
   ]
  },
  {
   "cell_type": "code",
   "execution_count": null,
   "id": "7a5cdb65",
   "metadata": {},
   "outputs": [],
   "source": [
    "len(failed_url)"
   ]
  },
  {
   "cell_type": "code",
   "execution_count": null,
   "id": "a23c55c6",
   "metadata": {},
   "outputs": [],
   "source": [
    "temp_recipes_6"
   ]
  },
  {
   "cell_type": "code",
   "execution_count": null,
   "id": "dd24a144",
   "metadata": {},
   "outputs": [],
   "source": [
    "final3 = pd.concat([final3, temp_recipes_6], ignore_index=True)\n",
    "final3"
   ]
  },
  {
   "cell_type": "code",
   "execution_count": null,
   "id": "82f16ddb",
   "metadata": {},
   "outputs": [],
   "source": []
  },
  {
   "cell_type": "code",
   "execution_count": null,
   "id": "8937c767",
   "metadata": {},
   "outputs": [],
   "source": []
  },
  {
   "cell_type": "code",
   "execution_count": null,
   "id": "ec75a1fb",
   "metadata": {},
   "outputs": [],
   "source": []
  },
  {
   "cell_type": "code",
   "execution_count": null,
   "id": "6859b2d4",
   "metadata": {},
   "outputs": [],
   "source": []
  },
  {
   "cell_type": "code",
   "execution_count": null,
   "id": "518412b0",
   "metadata": {},
   "outputs": [],
   "source": []
  },
  {
   "cell_type": "code",
   "execution_count": null,
   "id": "2ede269f",
   "metadata": {},
   "outputs": [],
   "source": []
  },
  {
   "cell_type": "code",
   "execution_count": null,
   "id": "5d657072",
   "metadata": {},
   "outputs": [],
   "source": []
  },
  {
   "cell_type": "code",
   "execution_count": null,
   "id": "502adb25",
   "metadata": {},
   "outputs": [],
   "source": [
    "# Read proxies from the file and create a cycle iterator\n",
    "with open('proxies.txt', 'r') as f:\n",
    "    proxies = [line.strip() for line in f if line.strip()]\n",
    "\n",
    "# Check if proxies are being read correctly\n",
    "if not proxies:\n",
    "    print(\"No valid proxies found in proxies.txt\")\n",
    "else:\n",
    "    print(f\"Proxies loaded: {proxies}\")\n",
    "\n",
    "proxy_cycle = itertools.cycle(proxies)\n",
    "\n",
    "# Initialize an empty DataFrame to store results\n",
    "temp_recipes_7 = pd.DataFrame(columns=columns)\n",
    "title = []\n",
    "prep_time = []\n",
    "cook_time = []\n",
    "total_time = []\n",
    "\n",
    "ingredients_measurment = []\n",
    "ingredients = []\n",
    "instructions = []\n",
    "\n",
    "calories = []\n",
    "servings = []\n",
    "images = []\n",
    "\n",
    "# Loop over the desired number of pages\n",
    "for i in range(1401, 1607):\n",
    "    proxy = next(proxy_cycle)\n",
    "\n",
    "    # Set up request with proxy\n",
    "    headers = {'User-Agent': 'Mozilla/5.0 (Windows NT 6.3; Win64; x64) AppleWebKit/537.36 (KHTML, like Gecko) Chrome/80.0.3987.162 Safari/537.36'}\n",
    "    url = urls2[i]\n",
    "    proxy_dict = {'http': proxy, 'https': proxy}\n",
    "\n",
    "    try:\n",
    "        response = requests.get(url, headers=headers, proxies=proxy_dict, timeout=30)\n",
    "        \n",
    "        # Check if the request was successful\n",
    "        if response.status_code == 200:\n",
    "            soup = BeautifulSoup(response.content, 'html.parser')\n",
    "            extract(soup)\n",
    "            print(f\"Successfully retrieved {i} - {url} with proxy {proxy}\")\n",
    "        else:\n",
    "            failed_url.append(url)\n",
    "            print(f\"Failed to retrieve page {url} with proxy {proxy}. Status code: {response.status_code}\")\n",
    "    except (requests.ConnectionError, requests.Timeout) as e:\n",
    "        failed_url.append(url)\n",
    "        print(f\"Proxy {proxy} failed for {url}: {e}\")\n",
    "    except ChunkedEncodingError as e:  # Handle ChunkedEncodingError\n",
    "        failed_url.append(url)\n",
    "        print(f\"ChunkedEncodingError occurred for proxy {proxy} and {url}: {e}\")\n",
    "        continue  # Move to the next page\n",
    "\n",
    "\n",
    "\n",
    "temp_recipes_7['title'] = title\n",
    "temp_recipes_7['prep_time'] = prep_time\n",
    "temp_recipes_7['cook_time'] = cook_time\n",
    "temp_recipes_7['total_time'] = total_time\n",
    "temp_recipes_7['ingredients'] = ingredients\n",
    "temp_recipes_7['ingredients with measurement'] = ingredients_measurment\n",
    "temp_recipes_7['instructions'] = instructions\n",
    "temp_recipes_7['calories'] = calories\n",
    "temp_recipes_7['servings'] = servings\n",
    "temp_recipes_7['images']= images\n",
    "\n",
    "\n",
    "\n",
    "    "
   ]
  },
  {
   "cell_type": "code",
   "execution_count": null,
   "id": "74d0eb6d",
   "metadata": {},
   "outputs": [],
   "source": [
    "len(failed_url)"
   ]
  },
  {
   "cell_type": "code",
   "execution_count": null,
   "id": "61ece967",
   "metadata": {},
   "outputs": [],
   "source": [
    "temp_recipes_7"
   ]
  },
  {
   "cell_type": "code",
   "execution_count": null,
   "id": "1e642971",
   "metadata": {},
   "outputs": [],
   "source": []
  }
 ],
 "metadata": {
  "kernelspec": {
   "display_name": "Python 3 (ipykernel)",
   "language": "python",
   "name": "python3"
  },
  "language_info": {
   "codemirror_mode": {
    "name": "ipython",
    "version": 3
   },
   "file_extension": ".py",
   "mimetype": "text/x-python",
   "name": "python",
   "nbconvert_exporter": "python",
   "pygments_lexer": "ipython3",
   "version": "3.9.8"
  }
 },
 "nbformat": 4,
 "nbformat_minor": 5
}
