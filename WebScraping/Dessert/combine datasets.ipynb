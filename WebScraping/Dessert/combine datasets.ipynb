{
 "cells": [
  {
   "cell_type": "code",
   "execution_count": 1,
   "id": "d5d06e24",
   "metadata": {},
   "outputs": [],
   "source": [
    "import pandas as pd\n",
    "import numpy as np"
   ]
  },
  {
   "cell_type": "code",
   "execution_count": 2,
   "id": "61cd8bac",
   "metadata": {},
   "outputs": [],
   "source": [
    "df1 = pd.read_csv('failed_desserts1.csv')\n",
    "df2 = pd.read_csv('failed_desserts2.csv')\n",
    "df3 = pd.read_csv('failed_desserts3.csv')\n",
    "df4 = pd.read_csv('failed_desserts_186.csv')"
   ]
  },
  {
   "cell_type": "code",
   "execution_count": 3,
   "id": "8145af10",
   "metadata": {},
   "outputs": [
    {
     "name": "stdout",
     "output_type": "stream",
     "text": [
      "<class 'pandas.core.frame.DataFrame'>\n",
      "RangeIndex: 76 entries, 0 to 75\n",
      "Data columns (total 10 columns):\n",
      " #   Column                        Non-Null Count  Dtype \n",
      "---  ------                        --------------  ----- \n",
      " 0   title                         76 non-null     object\n",
      " 1   prep_time                     76 non-null     object\n",
      " 2   cook_time                     76 non-null     object\n",
      " 3   total_time                    76 non-null     object\n",
      " 4   ingredients                   76 non-null     object\n",
      " 5   ingredients with measurement  76 non-null     object\n",
      " 6   instructions                  76 non-null     object\n",
      " 7   calories                      76 non-null     object\n",
      " 8   servings                      76 non-null     object\n",
      " 9   images                        76 non-null     object\n",
      "dtypes: object(10)\n",
      "memory usage: 6.1+ KB\n"
     ]
    }
   ],
   "source": [
    "df1.info()"
   ]
  },
  {
   "cell_type": "code",
   "execution_count": 4,
   "id": "033e8c01",
   "metadata": {},
   "outputs": [
    {
     "name": "stdout",
     "output_type": "stream",
     "text": [
      "<class 'pandas.core.frame.DataFrame'>\n",
      "RangeIndex: 291 entries, 0 to 290\n",
      "Data columns (total 10 columns):\n",
      " #   Column                        Non-Null Count  Dtype \n",
      "---  ------                        --------------  ----- \n",
      " 0   title                         291 non-null    object\n",
      " 1   prep_time                     291 non-null    object\n",
      " 2   cook_time                     291 non-null    object\n",
      " 3   total_time                    291 non-null    object\n",
      " 4   ingredients                   291 non-null    object\n",
      " 5   ingredients with measurement  291 non-null    object\n",
      " 6   instructions                  291 non-null    object\n",
      " 7   calories                      291 non-null    object\n",
      " 8   servings                      291 non-null    object\n",
      " 9   images                        291 non-null    object\n",
      "dtypes: object(10)\n",
      "memory usage: 22.9+ KB\n"
     ]
    }
   ],
   "source": [
    "df2.info()"
   ]
  },
  {
   "cell_type": "code",
   "execution_count": 9,
   "id": "99df75eb",
   "metadata": {},
   "outputs": [
    {
     "name": "stdout",
     "output_type": "stream",
     "text": [
      "<class 'pandas.core.frame.DataFrame'>\n",
      "RangeIndex: 59 entries, 0 to 58\n",
      "Data columns (total 10 columns):\n",
      " #   Column                        Non-Null Count  Dtype \n",
      "---  ------                        --------------  ----- \n",
      " 0   title                         59 non-null     object\n",
      " 1   prep_time                     59 non-null     object\n",
      " 2   cook_time                     59 non-null     object\n",
      " 3   total_time                    59 non-null     object\n",
      " 4   ingredients                   59 non-null     object\n",
      " 5   ingredients with measurement  59 non-null     object\n",
      " 6   instructions                  59 non-null     object\n",
      " 7   calories                      59 non-null     object\n",
      " 8   servings                      59 non-null     object\n",
      " 9   images                        59 non-null     object\n",
      "dtypes: object(10)\n",
      "memory usage: 4.7+ KB\n"
     ]
    }
   ],
   "source": [
    "df3.info()"
   ]
  },
  {
   "cell_type": "code",
   "execution_count": 10,
   "id": "2ebbc08e",
   "metadata": {},
   "outputs": [
    {
     "name": "stdout",
     "output_type": "stream",
     "text": [
      "<class 'pandas.core.frame.DataFrame'>\n",
      "RangeIndex: 186 entries, 0 to 185\n",
      "Data columns (total 10 columns):\n",
      " #   Column                        Non-Null Count  Dtype \n",
      "---  ------                        --------------  ----- \n",
      " 0   title                         186 non-null    object\n",
      " 1   prep_time                     186 non-null    object\n",
      " 2   cook_time                     186 non-null    object\n",
      " 3   total_time                    186 non-null    object\n",
      " 4   ingredients                   186 non-null    object\n",
      " 5   ingredients with measurement  186 non-null    object\n",
      " 6   instructions                  186 non-null    object\n",
      " 7   calories                      186 non-null    object\n",
      " 8   servings                      186 non-null    object\n",
      " 9   images                        186 non-null    object\n",
      "dtypes: object(10)\n",
      "memory usage: 14.7+ KB\n"
     ]
    }
   ],
   "source": [
    "df4.info()"
   ]
  },
  {
   "cell_type": "code",
   "execution_count": null,
   "id": "1238120e",
   "metadata": {},
   "outputs": [],
   "source": []
  },
  {
   "cell_type": "code",
   "execution_count": 5,
   "id": "7b7bf424",
   "metadata": {},
   "outputs": [],
   "source": [
    "df5 = pd.read_csv('desserts_1_201.csv')\n",
    "# df6 = pd.read_csv('desserts_201_501.csv')\n",
    "df7 = pd.read_csv('desserts_501_792.csv')"
   ]
  },
  {
   "cell_type": "code",
   "execution_count": 6,
   "id": "033d91ed",
   "metadata": {},
   "outputs": [
    {
     "name": "stdout",
     "output_type": "stream",
     "text": [
      "<class 'pandas.core.frame.DataFrame'>\n",
      "RangeIndex: 75 entries, 0 to 74\n",
      "Data columns (total 10 columns):\n",
      " #   Column                        Non-Null Count  Dtype \n",
      "---  ------                        --------------  ----- \n",
      " 0   title                         75 non-null     object\n",
      " 1   prep_time                     75 non-null     object\n",
      " 2   cook_time                     75 non-null     object\n",
      " 3   total_time                    75 non-null     object\n",
      " 4   ingredients                   75 non-null     object\n",
      " 5   ingredients with measurement  75 non-null     object\n",
      " 6   instructions                  75 non-null     object\n",
      " 7   calories                      75 non-null     object\n",
      " 8   servings                      75 non-null     object\n",
      " 9   images                        75 non-null     object\n",
      "dtypes: object(10)\n",
      "memory usage: 6.0+ KB\n"
     ]
    }
   ],
   "source": [
    "df5.info()"
   ]
  },
  {
   "cell_type": "code",
   "execution_count": 7,
   "id": "19a4df91",
   "metadata": {},
   "outputs": [
    {
     "name": "stdout",
     "output_type": "stream",
     "text": [
      "<class 'pandas.core.frame.DataFrame'>\n",
      "RangeIndex: 124 entries, 0 to 123\n",
      "Data columns (total 10 columns):\n",
      " #   Column                        Non-Null Count  Dtype \n",
      "---  ------                        --------------  ----- \n",
      " 0   title                         124 non-null    object\n",
      " 1   prep_time                     124 non-null    object\n",
      " 2   cook_time                     124 non-null    object\n",
      " 3   total_time                    124 non-null    object\n",
      " 4   ingredients                   124 non-null    object\n",
      " 5   ingredients with measurement  124 non-null    object\n",
      " 6   instructions                  124 non-null    object\n",
      " 7   calories                      124 non-null    object\n",
      " 8   servings                      124 non-null    object\n",
      " 9   images                        124 non-null    object\n",
      "dtypes: object(10)\n",
      "memory usage: 9.8+ KB\n"
     ]
    }
   ],
   "source": [
    "df6.info()"
   ]
  },
  {
   "cell_type": "code",
   "execution_count": 8,
   "id": "8c611c89",
   "metadata": {},
   "outputs": [
    {
     "name": "stdout",
     "output_type": "stream",
     "text": [
      "<class 'pandas.core.frame.DataFrame'>\n",
      "RangeIndex: 240 entries, 0 to 239\n",
      "Data columns (total 10 columns):\n",
      " #   Column                        Non-Null Count  Dtype \n",
      "---  ------                        --------------  ----- \n",
      " 0   title                         240 non-null    object\n",
      " 1   prep_time                     240 non-null    object\n",
      " 2   cook_time                     240 non-null    object\n",
      " 3   total_time                    240 non-null    object\n",
      " 4   ingredients                   240 non-null    object\n",
      " 5   ingredients with measurement  240 non-null    object\n",
      " 6   instructions                  240 non-null    object\n",
      " 7   calories                      240 non-null    object\n",
      " 8   servings                      240 non-null    object\n",
      " 9   images                        240 non-null    object\n",
      "dtypes: object(10)\n",
      "memory usage: 18.9+ KB\n"
     ]
    }
   ],
   "source": [
    "df7.info()"
   ]
  },
  {
   "cell_type": "code",
   "execution_count": null,
   "id": "809d1df2",
   "metadata": {},
   "outputs": [],
   "source": []
  },
  {
   "cell_type": "code",
   "execution_count": null,
   "id": "21d8202d",
   "metadata": {},
   "outputs": [],
   "source": []
  },
  {
   "cell_type": "code",
   "execution_count": 11,
   "id": "4278398b",
   "metadata": {},
   "outputs": [],
   "source": [
    "# Empty Dataframe\n",
    "columns = [\n",
    "    'title',\n",
    "    'prep_time',\n",
    "    'cook_time',\n",
    "    'total_time',\n",
    "    'ingredients',\n",
    "    'ingredients with measurement',\n",
    "    'instructions',\n",
    "    'calories',\n",
    "    'servings',\n",
    "    'images'\n",
    "]"
   ]
  },
  {
   "cell_type": "code",
   "execution_count": 12,
   "id": "c22fb984",
   "metadata": {},
   "outputs": [
    {
     "data": {
      "text/html": [
       "<div>\n",
       "<style scoped>\n",
       "    .dataframe tbody tr th:only-of-type {\n",
       "        vertical-align: middle;\n",
       "    }\n",
       "\n",
       "    .dataframe tbody tr th {\n",
       "        vertical-align: top;\n",
       "    }\n",
       "\n",
       "    .dataframe thead th {\n",
       "        text-align: right;\n",
       "    }\n",
       "</style>\n",
       "<table border=\"1\" class=\"dataframe\">\n",
       "  <thead>\n",
       "    <tr style=\"text-align: right;\">\n",
       "      <th></th>\n",
       "      <th>title</th>\n",
       "      <th>prep_time</th>\n",
       "      <th>cook_time</th>\n",
       "      <th>total_time</th>\n",
       "      <th>ingredients</th>\n",
       "      <th>ingredients with measurement</th>\n",
       "      <th>instructions</th>\n",
       "      <th>calories</th>\n",
       "      <th>servings</th>\n",
       "      <th>images</th>\n",
       "    </tr>\n",
       "  </thead>\n",
       "  <tbody>\n",
       "  </tbody>\n",
       "</table>\n",
       "</div>"
      ],
      "text/plain": [
       "Empty DataFrame\n",
       "Columns: [title, prep_time, cook_time, total_time, ingredients, ingredients with measurement, instructions, calories, servings, images]\n",
       "Index: []"
      ]
     },
     "execution_count": 12,
     "metadata": {},
     "output_type": "execute_result"
    }
   ],
   "source": [
    "final = pd.DataFrame(columns=columns)\n",
    "final"
   ]
  },
  {
   "cell_type": "code",
   "execution_count": 13,
   "id": "a98d4da7",
   "metadata": {},
   "outputs": [
    {
     "name": "stdout",
     "output_type": "stream",
     "text": [
      "<class 'pandas.core.frame.DataFrame'>\n",
      "RangeIndex: 291 entries, 0 to 290\n",
      "Data columns (total 10 columns):\n",
      " #   Column                        Non-Null Count  Dtype \n",
      "---  ------                        --------------  ----- \n",
      " 0   title                         291 non-null    object\n",
      " 1   prep_time                     291 non-null    object\n",
      " 2   cook_time                     291 non-null    object\n",
      " 3   total_time                    291 non-null    object\n",
      " 4   ingredients                   291 non-null    object\n",
      " 5   ingredients with measurement  291 non-null    object\n",
      " 6   instructions                  291 non-null    object\n",
      " 7   calories                      291 non-null    object\n",
      " 8   servings                      291 non-null    object\n",
      " 9   images                        291 non-null    object\n",
      "dtypes: object(10)\n",
      "memory usage: 22.9+ KB\n"
     ]
    }
   ],
   "source": [
    "final = pd.concat([final, df2], ignore_index=True)\n",
    "final.info()"
   ]
  },
  {
   "cell_type": "code",
   "execution_count": 14,
   "id": "e787425d",
   "metadata": {},
   "outputs": [
    {
     "name": "stdout",
     "output_type": "stream",
     "text": [
      "<class 'pandas.core.frame.DataFrame'>\n",
      "RangeIndex: 477 entries, 0 to 476\n",
      "Data columns (total 10 columns):\n",
      " #   Column                        Non-Null Count  Dtype \n",
      "---  ------                        --------------  ----- \n",
      " 0   title                         477 non-null    object\n",
      " 1   prep_time                     477 non-null    object\n",
      " 2   cook_time                     477 non-null    object\n",
      " 3   total_time                    477 non-null    object\n",
      " 4   ingredients                   477 non-null    object\n",
      " 5   ingredients with measurement  477 non-null    object\n",
      " 6   instructions                  477 non-null    object\n",
      " 7   calories                      477 non-null    object\n",
      " 8   servings                      477 non-null    object\n",
      " 9   images                        477 non-null    object\n",
      "dtypes: object(10)\n",
      "memory usage: 37.4+ KB\n"
     ]
    }
   ],
   "source": [
    "final = pd.concat([final, df4], ignore_index=True)\n",
    "final.info()"
   ]
  },
  {
   "cell_type": "code",
   "execution_count": 15,
   "id": "1f5e81b4",
   "metadata": {},
   "outputs": [
    {
     "name": "stdout",
     "output_type": "stream",
     "text": [
      "<class 'pandas.core.frame.DataFrame'>\n",
      "RangeIndex: 552 entries, 0 to 551\n",
      "Data columns (total 10 columns):\n",
      " #   Column                        Non-Null Count  Dtype \n",
      "---  ------                        --------------  ----- \n",
      " 0   title                         552 non-null    object\n",
      " 1   prep_time                     552 non-null    object\n",
      " 2   cook_time                     552 non-null    object\n",
      " 3   total_time                    552 non-null    object\n",
      " 4   ingredients                   552 non-null    object\n",
      " 5   ingredients with measurement  552 non-null    object\n",
      " 6   instructions                  552 non-null    object\n",
      " 7   calories                      552 non-null    object\n",
      " 8   servings                      552 non-null    object\n",
      " 9   images                        552 non-null    object\n",
      "dtypes: object(10)\n",
      "memory usage: 43.2+ KB\n"
     ]
    }
   ],
   "source": [
    "final = pd.concat([final, df5], ignore_index=True)\n",
    "final.info()"
   ]
  },
  {
   "cell_type": "code",
   "execution_count": 16,
   "id": "ae06247f",
   "metadata": {},
   "outputs": [
    {
     "name": "stdout",
     "output_type": "stream",
     "text": [
      "<class 'pandas.core.frame.DataFrame'>\n",
      "RangeIndex: 792 entries, 0 to 791\n",
      "Data columns (total 10 columns):\n",
      " #   Column                        Non-Null Count  Dtype \n",
      "---  ------                        --------------  ----- \n",
      " 0   title                         792 non-null    object\n",
      " 1   prep_time                     792 non-null    object\n",
      " 2   cook_time                     792 non-null    object\n",
      " 3   total_time                    792 non-null    object\n",
      " 4   ingredients                   792 non-null    object\n",
      " 5   ingredients with measurement  792 non-null    object\n",
      " 6   instructions                  792 non-null    object\n",
      " 7   calories                      792 non-null    object\n",
      " 8   servings                      792 non-null    object\n",
      " 9   images                        792 non-null    object\n",
      "dtypes: object(10)\n",
      "memory usage: 62.0+ KB\n"
     ]
    }
   ],
   "source": [
    "final = pd.concat([final, df7], ignore_index=True)\n",
    "final.info()"
   ]
  },
  {
   "cell_type": "code",
   "execution_count": 18,
   "id": "6a803449",
   "metadata": {},
   "outputs": [],
   "source": [
    "final['type_of_meal'] = 'dessert'"
   ]
  },
  {
   "cell_type": "code",
   "execution_count": 20,
   "id": "d6fc1189",
   "metadata": {},
   "outputs": [
    {
     "data": {
      "text/html": [
       "<div>\n",
       "<style scoped>\n",
       "    .dataframe tbody tr th:only-of-type {\n",
       "        vertical-align: middle;\n",
       "    }\n",
       "\n",
       "    .dataframe tbody tr th {\n",
       "        vertical-align: top;\n",
       "    }\n",
       "\n",
       "    .dataframe thead th {\n",
       "        text-align: right;\n",
       "    }\n",
       "</style>\n",
       "<table border=\"1\" class=\"dataframe\">\n",
       "  <thead>\n",
       "    <tr style=\"text-align: right;\">\n",
       "      <th></th>\n",
       "      <th>title</th>\n",
       "      <th>prep_time</th>\n",
       "      <th>cook_time</th>\n",
       "      <th>total_time</th>\n",
       "      <th>ingredients</th>\n",
       "      <th>ingredients with measurement</th>\n",
       "      <th>instructions</th>\n",
       "      <th>calories</th>\n",
       "      <th>servings</th>\n",
       "      <th>images</th>\n",
       "      <th>type_of_meal</th>\n",
       "    </tr>\n",
       "  </thead>\n",
       "  <tbody>\n",
       "    <tr>\n",
       "      <th>696</th>\n",
       "      <td>Creamy Lemon Bars with Browned Butter Raspberr...</td>\n",
       "      <td>{'minutes': '20'}</td>\n",
       "      <td>{'minutes': '30'}</td>\n",
       "      <td>{'hours': '2', 'minutes': '50'}</td>\n",
       "      <td>['Ritz crackers, finely crushed into crumbs', ...</td>\n",
       "      <td>{'Ritz crackers, finely crushed into crumbs': ...</td>\n",
       "      <td>['1. Preheat the oven to 350 degrees F. Line a...</td>\n",
       "      <td>695 kcal</td>\n",
       "      <td>8</td>\n",
       "      <td>https://www.halfbakedharvest.com/wp-content/up...</td>\n",
       "      <td>dessert</td>\n",
       "    </tr>\n",
       "    <tr>\n",
       "      <th>259</th>\n",
       "      <td>-</td>\n",
       "      <td>-</td>\n",
       "      <td>-</td>\n",
       "      <td>-</td>\n",
       "      <td>-</td>\n",
       "      <td>-</td>\n",
       "      <td>-</td>\n",
       "      <td>-</td>\n",
       "      <td>-</td>\n",
       "      <td>https://www.halfbakedharvest.com/wp-content/up...</td>\n",
       "      <td>dessert</td>\n",
       "    </tr>\n",
       "    <tr>\n",
       "      <th>711</th>\n",
       "      <td>Strawberry Shortcake Grilled Doughnuts.</td>\n",
       "      <td>{'minutes': '25'}</td>\n",
       "      <td>{'minutes': '5'}</td>\n",
       "      <td>{'minutes': '30'}</td>\n",
       "      <td>['fresh strawberries', 'granulated sugar', 'ze...</td>\n",
       "      <td>{'fresh strawberries': '6', 'granulated sugar'...</td>\n",
       "      <td>[]</td>\n",
       "      <td>578 kcal</td>\n",
       "      <td>12</td>\n",
       "      <td>https://www.halfbakedharvest.com/wp-content/up...</td>\n",
       "      <td>dessert</td>\n",
       "    </tr>\n",
       "    <tr>\n",
       "      <th>299</th>\n",
       "      <td>Salted Pretzel Snickers Chocolate Chip Cookie ...</td>\n",
       "      <td>{'minutes': '20'}</td>\n",
       "      <td>{'minutes': '20'}</td>\n",
       "      <td>{'minutes': '40'}</td>\n",
       "      <td>['salted butter', 'packed dark brown sugar', '...</td>\n",
       "      <td>{'salted butter': '2', 'packed dark brown suga...</td>\n",
       "      <td>['1. Preheat the oven to 350° F. Line a 9×13 i...</td>\n",
       "      <td>250 kcal</td>\n",
       "      <td>22</td>\n",
       "      <td>https://www.halfbakedharvest.com/wp-content/up...</td>\n",
       "      <td>dessert</td>\n",
       "    </tr>\n",
       "    <tr>\n",
       "      <th>15</th>\n",
       "      <td>Chocolate Cinnamon Sugar Pull Apart Wreath</td>\n",
       "      <td>{'minutes': '30'}</td>\n",
       "      <td>{'minutes': '30'}</td>\n",
       "      <td>{'hours': '2', 'minutes': '30'}</td>\n",
       "      <td>['warm milk', 'active dry yeast', 'honey', 'sa...</td>\n",
       "      <td>{'warm milk': '3/4', 'active dry yeast': '2 1/...</td>\n",
       "      <td>['1. In the bowl of a stand mixer fitted with ...</td>\n",
       "      <td>518 kcal</td>\n",
       "      <td>10</td>\n",
       "      <td>https://www.halfbakedharvest.com/wp-content/up...</td>\n",
       "      <td>dessert</td>\n",
       "    </tr>\n",
       "  </tbody>\n",
       "</table>\n",
       "</div>"
      ],
      "text/plain": [
       "                                                 title          prep_time  \\\n",
       "696  Creamy Lemon Bars with Browned Butter Raspberr...  {'minutes': '20'}   \n",
       "259                                                  -                  -   \n",
       "711            Strawberry Shortcake Grilled Doughnuts.  {'minutes': '25'}   \n",
       "299  Salted Pretzel Snickers Chocolate Chip Cookie ...  {'minutes': '20'}   \n",
       "15          Chocolate Cinnamon Sugar Pull Apart Wreath  {'minutes': '30'}   \n",
       "\n",
       "             cook_time                       total_time  \\\n",
       "696  {'minutes': '30'}  {'hours': '2', 'minutes': '50'}   \n",
       "259                  -                                -   \n",
       "711   {'minutes': '5'}                {'minutes': '30'}   \n",
       "299  {'minutes': '20'}                {'minutes': '40'}   \n",
       "15   {'minutes': '30'}  {'hours': '2', 'minutes': '30'}   \n",
       "\n",
       "                                           ingredients  \\\n",
       "696  ['Ritz crackers, finely crushed into crumbs', ...   \n",
       "259                                                  -   \n",
       "711  ['fresh strawberries', 'granulated sugar', 'ze...   \n",
       "299  ['salted butter', 'packed dark brown sugar', '...   \n",
       "15   ['warm milk', 'active dry yeast', 'honey', 'sa...   \n",
       "\n",
       "                          ingredients with measurement  \\\n",
       "696  {'Ritz crackers, finely crushed into crumbs': ...   \n",
       "259                                                  -   \n",
       "711  {'fresh strawberries': '6', 'granulated sugar'...   \n",
       "299  {'salted butter': '2', 'packed dark brown suga...   \n",
       "15   {'warm milk': '3/4', 'active dry yeast': '2 1/...   \n",
       "\n",
       "                                          instructions  calories servings  \\\n",
       "696  ['1. Preheat the oven to 350 degrees F. Line a...  695 kcal        8   \n",
       "259                                                  -         -        -   \n",
       "711                                                 []  578 kcal       12   \n",
       "299  ['1. Preheat the oven to 350° F. Line a 9×13 i...  250 kcal       22   \n",
       "15   ['1. In the bowl of a stand mixer fitted with ...  518 kcal       10   \n",
       "\n",
       "                                                images type_of_meal  \n",
       "696  https://www.halfbakedharvest.com/wp-content/up...      dessert  \n",
       "259  https://www.halfbakedharvest.com/wp-content/up...      dessert  \n",
       "711  https://www.halfbakedharvest.com/wp-content/up...      dessert  \n",
       "299  https://www.halfbakedharvest.com/wp-content/up...      dessert  \n",
       "15   https://www.halfbakedharvest.com/wp-content/up...      dessert  "
      ]
     },
     "execution_count": 20,
     "metadata": {},
     "output_type": "execute_result"
    }
   ],
   "source": [
    "final.sample(5)"
   ]
  },
  {
   "cell_type": "code",
   "execution_count": 21,
   "id": "d31d9aef",
   "metadata": {},
   "outputs": [],
   "source": [
    "def save_list_to_txt(filename, data_list):\n",
    "    \"\"\"\n",
    "    Save a list of strings to a text file, one item per line.\n",
    "    \n",
    "    :param filename: The name of the file to save the list to.\n",
    "    :param data_list: The list of strings to save.\n",
    "    \"\"\"\n",
    "    with open(filename, 'w') as f:\n",
    "        for item in data_list:\n",
    "            f.write(f\"{item}\\n\")"
   ]
  },
  {
   "cell_type": "code",
   "execution_count": 22,
   "id": "00d63265",
   "metadata": {},
   "outputs": [],
   "source": [
    "final.to_csv('recipes_desserts.csv', index=False)"
   ]
  },
  {
   "cell_type": "code",
   "execution_count": null,
   "id": "d3a9f970",
   "metadata": {},
   "outputs": [],
   "source": []
  }
 ],
 "metadata": {
  "kernelspec": {
   "display_name": "Python 3 (ipykernel)",
   "language": "python",
   "name": "python3"
  },
  "language_info": {
   "codemirror_mode": {
    "name": "ipython",
    "version": 3
   },
   "file_extension": ".py",
   "mimetype": "text/x-python",
   "name": "python",
   "nbconvert_exporter": "python",
   "pygments_lexer": "ipython3",
   "version": "3.9.8"
  }
 },
 "nbformat": 4,
 "nbformat_minor": 5
}
