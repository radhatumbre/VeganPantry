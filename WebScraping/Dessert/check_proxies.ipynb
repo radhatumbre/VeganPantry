{
 "cells": [
  {
   "cell_type": "code",
   "execution_count": null,
   "id": "557ac0f8",
   "metadata": {},
   "outputs": [],
   "source": [
    "import requests\n",
    "\n",
    "# Load proxies from file\n",
    "def load_proxies(file_path):\n",
    "    with open(file_path, 'r') as file:\n",
    "        proxies = file.read().splitlines()\n",
    "    return proxies\n",
    "\n",
    "# Function to check if a proxy works\n",
    "def check_proxy(proxy, url):\n",
    "    try:\n",
    "        response = requests.get(url, proxies={\"http\": proxy, \"https\": proxy}, timeout=5)\n",
    "        if response.status_code == 200:\n",
    "            return True\n",
    "    except:\n",
    "        return False\n",
    "\n",
    "# Test proxies\n",
    "def test_proxies(proxies, url):\n",
    "    working_proxies = []\n",
    "    for proxy in proxies:\n",
    "        if check_proxy(proxy, url):\n",
    "            print(f\"Working proxy: {proxy}\")\n",
    "            working_proxies.append(proxy)\n",
    "        else:\n",
    "            print(f\"Failed proxy: {proxy}\")\n",
    "    return working_proxies\n",
    "\n",
    "# Main function\n",
    "if __name__ == \"__main__\":\n",
    "    proxies = load_proxies(\"proxies.txt\")\n",
    "    url = \"https://www.halfbakedharvest.com/category/recipes/type-of-meal/desserts/page/2/\"\n",
    "    working_proxies = test_proxies(proxies, url)\n",
    "    \n",
    "    # Save working proxies to a file\n",
    "    with open(\"working_proxies.txt\", \"w\") as file:\n",
    "        for proxy in working_proxies:\n",
    "            file.write(proxy + \"\\n\")\n"
   ]
  },
  {
   "cell_type": "code",
   "execution_count": null,
   "id": "222200e6",
   "metadata": {},
   "outputs": [],
   "source": []
  }
 ],
 "metadata": {
  "kernelspec": {
   "display_name": "Python 3 (ipykernel)",
   "language": "python",
   "name": "python3"
  },
  "language_info": {
   "codemirror_mode": {
    "name": "ipython",
    "version": 3
   },
   "file_extension": ".py",
   "mimetype": "text/x-python",
   "name": "python",
   "nbconvert_exporter": "python",
   "pygments_lexer": "ipython3",
   "version": "3.9.8"
  }
 },
 "nbformat": 4,
 "nbformat_minor": 5
}
