{
 "cells": [
  {
   "cell_type": "code",
   "execution_count": 13,
   "id": "54010bad",
   "metadata": {},
   "outputs": [],
   "source": [
    "import pandas as pd\n",
    "import requests\n",
    "import itertools\n",
    "from bs4 import BeautifulSoup\n",
    "from requests.exceptions import ChunkedEncodingError"
   ]
  },
  {
   "cell_type": "code",
   "execution_count": 14,
   "id": "ccf6e546",
   "metadata": {},
   "outputs": [
    {
     "data": {
      "text/plain": [
       "792"
      ]
     },
     "execution_count": 14,
     "metadata": {},
     "output_type": "execute_result"
    }
   ],
   "source": [
    "\n",
    "# Read the URLs from the text file\n",
    "with open('all_recipes_url.txt', 'r') as file:\n",
    "    all_recipes_url = file.readlines()\n",
    "\n",
    "# Strip newline characters from each URL\n",
    "all_recipes_url = [url.strip() for url in all_recipes_url]\n",
    "\n",
    "len(all_recipes_url)"
   ]
  },
  {
   "cell_type": "code",
   "execution_count": 15,
   "id": "77306887",
   "metadata": {},
   "outputs": [
    {
     "data": {
      "text/plain": [
       "['https://www.halfbakedharvest.com/marshmallow-brown-sugar-cookie-bars/',\n",
       " 'https://www.halfbakedharvest.com/brown-sugar-chocolate-chip-muffins/',\n",
       " 'https://www.halfbakedharvest.com/cinnamon-pop-tart-bars/',\n",
       " 'https://www.halfbakedharvest.com/nutter-butter-cookie-bars/',\n",
       " 'https://www.halfbakedharvest.com/peanut-butter-crunch-bars/',\n",
       " 'https://www.halfbakedharvest.com/caramel-brulee-zucchini-muffins/',\n",
       " 'https://www.halfbakedharvest.com/peach-dump-cake/',\n",
       " 'https://www.halfbakedharvest.com/chocolate-peanut-butter-cream-pie/',\n",
       " 'https://www.halfbakedharvest.com/peach-pretzel-ice-cream-cake/',\n",
       " 'https://www.halfbakedharvest.com/no-churn-strawberry-ice-cream/',\n",
       " 'https://www.halfbakedharvest.com/blueberry-cherry-galette/',\n",
       " 'https://www.halfbakedharvest.com/strawberry-ice-cream-cake/',\n",
       " 'https://www.halfbakedharvest.com/cookie-dough-ice-cream-bites/',\n",
       " 'https://www.halfbakedharvest.com/strawberries-and-cream-cookies/',\n",
       " 'https://www.halfbakedharvest.com/31-recipes-to-cook-in-may/',\n",
       " 'https://www.halfbakedharvest.com/chocolate-chunk-yogurt-coffee-cake/',\n",
       " 'https://www.halfbakedharvest.com/banana-bread-carrot-cake/',\n",
       " 'https://www.halfbakedharvest.com/strawberry-shortcake-sheet-cake/',\n",
       " 'https://www.halfbakedharvest.com/coconut-chocolate-chip-cookies/',\n",
       " 'https://www.halfbakedharvest.com/sour-fruit-gummies/',\n",
       " 'https://www.halfbakedharvest.com/coconut-sheet-cake/',\n",
       " 'https://www.halfbakedharvest.com/the-50-most-popular-easter-recipes/',\n",
       " 'https://www.halfbakedharvest.com/blueberry-sour-cream-coffee-cake/',\n",
       " 'https://www.halfbakedharvest.com/banana-cupcakes/',\n",
       " 'https://www.halfbakedharvest.com/chocolate-fudge-pop-tart-bars/',\n",
       " 'https://www.halfbakedharvest.com/raspberry-swirled-pistachio-cookies/',\n",
       " 'https://www.halfbakedharvest.com/raspberry-honey-sweet-rolls/',\n",
       " 'https://www.halfbakedharvest.com/coconut-chocolate-bars/',\n",
       " 'https://www.halfbakedharvest.com/ginger-crunch-carrot-cake-bread/',\n",
       " 'https://www.halfbakedharvest.com/easy-chocolate-truffles/',\n",
       " 'https://www.halfbakedharvest.com/game-day-cookies/',\n",
       " 'https://www.halfbakedharvest.com/chocolate-peanut-fudge-bars/',\n",
       " 'https://www.halfbakedharvest.com/maple-bacon-doughnuts/',\n",
       " 'https://www.halfbakedharvest.com/iced-grapefruit-yogurt-cake/',\n",
       " 'https://www.halfbakedharvest.com/buckwheat-chocolate-chunk-banana-bread/',\n",
       " 'https://www.halfbakedharvest.com/chocolate-chunk-honey-sesame-cookies/',\n",
       " 'https://www.halfbakedharvest.com/sesame-oatmeal-bars/',\n",
       " 'https://www.halfbakedharvest.com/christmas-puppy-chow/',\n",
       " 'https://www.halfbakedharvest.com/christmas-tree-cookies/',\n",
       " 'https://www.halfbakedharvest.com/2023-christmas-cookie-box/',\n",
       " 'https://www.halfbakedharvest.com/brown-sugar-eggnog-cookies/',\n",
       " 'https://www.halfbakedharvest.com/chewy-christmas-snickerdoodles/',\n",
       " 'https://www.halfbakedharvest.com/hot-chocolate-molten-cookies/',\n",
       " 'https://www.halfbakedharvest.com/chocolate-covered-espresso-spiced-pretzels/',\n",
       " 'https://www.halfbakedharvest.com/gooey-pecan-pie-brownies/',\n",
       " 'https://www.halfbakedharvest.com/cinnamon-swirl-snickerdoodle-blondies/',\n",
       " 'https://www.halfbakedharvest.com/pumpkin-oatmeal-latte-cookies/',\n",
       " 'https://www.halfbakedharvest.com/pumpkin-shortbread-cookies/',\n",
       " 'https://www.halfbakedharvest.com/zucchini-doughnuts/',\n",
       " 'https://www.halfbakedharvest.com/cookie-dough-ice-cream-cake/',\n",
       " 'https://www.halfbakedharvest.com/strawberry-cream-pretzel-tart/',\n",
       " 'https://www.halfbakedharvest.com/cottage-cheese-chocolate-chip-peanut-muffins/',\n",
       " 'https://www.halfbakedharvest.com/strawberry-mango-popsicles/',\n",
       " 'https://www.halfbakedharvest.com/chocolate-peanut-butter-yogurt-cups/',\n",
       " 'https://www.halfbakedharvest.com/banana-yogurt-clusters/',\n",
       " 'https://www.halfbakedharvest.com/strawberry-ice-cream-sandwiches/',\n",
       " 'https://www.halfbakedharvest.com/creamy-chocolate-peanut-butter-banana-fudge-popsicles/',\n",
       " 'https://www.halfbakedharvest.com/chocolate-chip-cookie-coffee-cake/',\n",
       " 'https://www.halfbakedharvest.com/brown-sugar-strawberry-cobbler/',\n",
       " 'https://www.halfbakedharvest.com/blender-chocolate-peanut-butter-ice-cream/',\n",
       " 'https://www.halfbakedharvest.com/strawberry-white-chocolate-blondies/',\n",
       " 'https://www.halfbakedharvest.com/banana-pudding-ice-cream-cake-cake/',\n",
       " 'https://www.halfbakedharvest.com/carrot-cake-cupcakes/',\n",
       " 'https://www.halfbakedharvest.com/peanut-butter-pretzel-chocolate-chip-cookies/',\n",
       " 'https://www.halfbakedharvest.com/banana-doughnuts/',\n",
       " 'https://www.halfbakedharvest.com/coffee-chocolate-chip-blondies/',\n",
       " 'https://www.halfbakedharvest.com/luckys-golden-ticket-cupcakes/',\n",
       " 'https://www.halfbakedharvest.com/strawberry-sugar-cookies/',\n",
       " 'https://www.halfbakedharvest.com/chocolate-chip-muffins/',\n",
       " 'https://www.halfbakedharvest.com/chocolate-chip-nutella-oatmeal-cookies/',\n",
       " 'https://www.halfbakedharvest.com/blackout-doughnuts/',\n",
       " 'https://www.halfbakedharvest.com/chocolate-celebration-cupcakes/',\n",
       " 'https://www.halfbakedharvest.com/tahini-oatmeal-chocolate-chip-cookies/',\n",
       " 'https://www.halfbakedharvest.com/chocolate-chunk-rye-banana-bread/',\n",
       " 'https://www.halfbakedharvest.com/brown-butter-iced-mocha-cinnamon-rolls/',\n",
       " 'https://www.halfbakedharvest.com/2021-holiday-cookie-box/',\n",
       " 'https://www.halfbakedharvest.com/samoas-pretzel-presents/',\n",
       " 'https://www.halfbakedharvest.com/brown-sugar-maple-ginger-cookies/',\n",
       " 'https://www.halfbakedharvest.com/christmas-monster-cookies/',\n",
       " 'https://www.halfbakedharvest.com/christmas-lights-cookies/',\n",
       " 'https://www.halfbakedharvest.com/espresso-hot-cocoa/',\n",
       " 'https://www.halfbakedharvest.com/chocolate-cinnamon-sugar-pull-apart-wreath/',\n",
       " 'https://www.halfbakedharvest.com/vanilla-burnt-basque-cheesecake/',\n",
       " 'https://www.halfbakedharvest.com/brown-sugar-maple-cookie-pie/',\n",
       " 'https://www.halfbakedharvest.com/white-chocolate-chai-pumpkin-snickerdoodles/',\n",
       " 'https://www.halfbakedharvest.com/mocha-pudding-pie/',\n",
       " 'https://www.halfbakedharvest.com/roly-poly-pumpkin-cookies/',\n",
       " 'https://www.halfbakedharvest.com/caramel-mocha-nutella-brownies/',\n",
       " 'https://www.halfbakedharvest.com/pumpkin-butter-chocolate-chip-blondies/',\n",
       " 'https://www.halfbakedharvest.com/apple-crumble-coffee-cake/',\n",
       " 'https://www.halfbakedharvest.com/pretzel-snickers-chocolate-chip-cookie-bars/',\n",
       " 'https://www.halfbakedharvest.com/cinnamon-knots-with-coffee-icing/',\n",
       " 'https://www.halfbakedharvest.com/black-cat-pumpkin-cupcakes/',\n",
       " 'https://www.halfbakedharvest.com/cinnamon-pumpkin-butter-bread/',\n",
       " 'https://www.halfbakedharvest.com/black-widow-peanut-butter-bars/',\n",
       " 'https://www.halfbakedharvest.com/chai-latte-cupcakes/',\n",
       " 'https://www.halfbakedharvest.com/tiramisu-cake/',\n",
       " 'https://www.halfbakedharvest.com/vegan-snickers/',\n",
       " 'https://www.halfbakedharvest.com/banana-bread-mug-cake/',\n",
       " 'https://www.halfbakedharvest.com/tahini-butter-chocolate-chip-cookies/',\n",
       " 'https://www.halfbakedharvest.com/baked-hot-chocolate-doughnuts/',\n",
       " 'https://www.halfbakedharvest.com/christmas-mm-cookie-bars/',\n",
       " 'https://www.halfbakedharvest.com/vanilla-sugar-dusted-macaroon-trees/',\n",
       " 'https://www.halfbakedharvest.com/chai-gingerbread-cookies/',\n",
       " 'https://www.halfbakedharvest.com/2020-holiday-cookie-box/',\n",
       " 'https://www.halfbakedharvest.com/milk-chocolate-peanut-butter-truffle-brownies/',\n",
       " 'https://www.halfbakedharvest.com/brown-butter-millionaires-bars/',\n",
       " 'https://www.halfbakedharvest.com/hot-chocolate-lace-cookies/',\n",
       " 'https://www.halfbakedharvest.com/caramel-brulee-latte/',\n",
       " 'https://www.halfbakedharvest.com/the-santa-clause-cookies/',\n",
       " 'https://www.halfbakedharvest.com/easy-fluffy-eggnog-cinnamon-rolls/',\n",
       " 'https://www.halfbakedharvest.com/chocolate-bourbon-pecan-pie-cupcakes-butter-pecan-frosting/',\n",
       " 'https://www.halfbakedharvest.com/bourbon-caramel-pretzel-cookies/',\n",
       " 'https://www.halfbakedharvest.com/molten-chocolate-crackle-pie/',\n",
       " 'https://www.halfbakedharvest.com/crinkly-caramel-stuffed-brownie-cookies/',\n",
       " 'https://www.halfbakedharvest.com/idiot-proof-snickerdoodle-peanut-butter-chocolate-chex-mix-bars/',\n",
       " 'https://www.halfbakedharvest.com/brown-sugar-maple-chocolate-pecan-pie-bars/',\n",
       " 'https://www.halfbakedharvest.com/chai-pumpkin-latte-cupcakes/',\n",
       " 'https://www.halfbakedharvest.com/chocolate-butterscotch-bars/',\n",
       " 'https://www.halfbakedharvest.com/mini-apple-cider-cakes/',\n",
       " 'https://www.halfbakedharvest.com/blueberry-lemon-thyme-cake/',\n",
       " 'https://www.halfbakedharvest.com/lemon-sugar-coconut-cream-pie/',\n",
       " 'https://www.halfbakedharvest.com/fudgy-chocolate-peanut-butter-ice-cream-pretzel-cake/',\n",
       " 'https://www.halfbakedharvest.com/healthy-dark-chocolate-chunk-oatmeal-cookie-bars-idiot-proof/',\n",
       " 'https://www.halfbakedharvest.com/strawberry-pretzel-pie/',\n",
       " 'https://www.halfbakedharvest.com/dirty-horchata-tres-leches-cake/',\n",
       " 'https://www.halfbakedharvest.com/homemade-frosted-brown-sugar-cinnamon-pop-tarts/',\n",
       " 'https://www.halfbakedharvest.com/single-lady-5-minute-gooey-molten-chocolate-mug-cake/',\n",
       " 'https://www.halfbakedharvest.com/skillet-strawberry-bourbon-cobbler/',\n",
       " 'https://www.halfbakedharvest.com/homemade-chocolate-fudge-poptarts/',\n",
       " 'https://www.halfbakedharvest.com/blueberry-lemon-thyme-tarts/',\n",
       " 'https://www.halfbakedharvest.com/chocolate-peanut-butter-skillet-blondies/',\n",
       " 'https://www.halfbakedharvest.com/coconut-carrot-cake/',\n",
       " 'https://www.halfbakedharvest.com/milk-chocolate-stuffed-peanut-butter-bunny-cookies/',\n",
       " 'https://www.halfbakedharvest.com/homemade-samoas-cookies/',\n",
       " 'https://www.halfbakedharvest.com/teddy-bear-snickerdoodles/',\n",
       " 'https://www.halfbakedharvest.com/coconut-lime-tart/',\n",
       " 'https://www.halfbakedharvest.com/salted-cookie-crinkle-top-brownies/',\n",
       " 'https://www.halfbakedharvest.com/coconut-banana-cake/',\n",
       " 'https://www.halfbakedharvest.com/4-ingredient-chocolate-mousse/',\n",
       " 'https://www.halfbakedharvest.com/flourless-chocolate-espresso-cake/',\n",
       " 'https://www.halfbakedharvest.com/double-chocolate-chex-mix/',\n",
       " 'https://www.halfbakedharvest.com/cowboy-party-cookies/',\n",
       " 'https://www.halfbakedharvest.com/fudgy-avocado-brownies-with-chocolate-fudge-frosting/',\n",
       " 'https://www.halfbakedharvest.com/lemon-poppy-seed-cake/',\n",
       " 'https://www.halfbakedharvest.com/homemade-vegan-twix-bars/',\n",
       " 'https://www.halfbakedharvest.com/one-bowl-chocolate-chunk-chai-banana-muffins/',\n",
       " 'https://www.halfbakedharvest.com/5-ingredient-tripple-decker-chocolate-peanut-butter-bars/',\n",
       " 'https://www.halfbakedharvest.com/white-christmas-cranberry-layer-cake/',\n",
       " 'https://www.halfbakedharvest.com/holly-jolly-santa-cookies/',\n",
       " 'https://www.halfbakedharvest.com/vanilla-wreath-cookies/',\n",
       " 'https://www.halfbakedharvest.com/2019-holiday-cookie-box/',\n",
       " 'https://www.halfbakedharvest.com/cream-cheese-swirled-chai-gingerbread-cake/',\n",
       " 'https://www.halfbakedharvest.com/salted-caramel-pretzel-snickerdoodles/',\n",
       " 'https://www.halfbakedharvest.com/creamy-coconut-hot-chocolate/',\n",
       " 'https://www.halfbakedharvest.com/butter-pecan-cookies/',\n",
       " 'https://www.halfbakedharvest.com/gooey-chocolate-chip-cookie-pumpkin-pie/',\n",
       " 'https://www.halfbakedharvest.com/chai-spiced-maple-sugar-cookies/',\n",
       " 'https://www.halfbakedharvest.com/burnt-basque-pumpkin-spice-cheesecake/',\n",
       " 'https://www.halfbakedharvest.com/peanut-butter-stuffed-chocolate-jack-o-lantern-cookies/',\n",
       " 'https://www.halfbakedharvest.com/pumpkin-butter-chocolate-chip-cookies/',\n",
       " 'https://www.halfbakedharvest.com/monster-chocolate-covered-pretzels-brownies/',\n",
       " 'https://www.halfbakedharvest.com/6-ingredient-milk-chocolate-salted-caramel-cups/',\n",
       " 'https://www.halfbakedharvest.com/chocolate-peanut-butter-cake/',\n",
       " 'https://www.halfbakedharvest.com/cream-cheese-swirled-pumpkin-banana-bread/',\n",
       " 'https://www.halfbakedharvest.com/chai-spiced-apple-ricotta-galette/',\n",
       " 'https://www.halfbakedharvest.com/spiced-pecan-apple-cider-doughnut-cake/',\n",
       " 'https://www.halfbakedharvest.com/chocolate-peanut-butter-pretzel-blondies/',\n",
       " 'https://www.halfbakedharvest.com/healthier-banoffee-pie/',\n",
       " 'https://www.halfbakedharvest.com/brown-butter-rice-krispie-treats/',\n",
       " 'https://www.halfbakedharvest.com/skillet-brown-sugar-peach-cobbler/',\n",
       " 'https://www.halfbakedharvest.com/healthy-coconut-tart/',\n",
       " 'https://www.halfbakedharvest.com/no-churn-minted-white-chocolate-swirled-ice-cream/',\n",
       " 'https://www.halfbakedharvest.com/zucchini-chocolate-chunk-coconut-bread/',\n",
       " 'https://www.halfbakedharvest.com/peaches-and-cream-pretzel-pie/',\n",
       " 'https://www.halfbakedharvest.com/simple-blueberry-basque-cheesecake/',\n",
       " 'https://www.halfbakedharvest.com/blackberry-lavender-cobbler/',\n",
       " 'https://www.halfbakedharvest.com/creme-fraiche-chocolate-chunk-cookie-bars/',\n",
       " 'https://www.halfbakedharvest.com/cherry-strawberry-streusel-cake/',\n",
       " 'https://www.halfbakedharvest.com/buttery-cherry-berry-skillet-crisp/',\n",
       " 'https://www.halfbakedharvest.com/no-bake-eton-mess-berry-cheesecake/',\n",
       " 'https://www.halfbakedharvest.com/browned-butter-grilled-peaches/',\n",
       " 'https://www.halfbakedharvest.com/the-best-strawberry-shortcakes/',\n",
       " 'https://www.halfbakedharvest.com/homemade-animal-crackers/',\n",
       " 'https://www.halfbakedharvest.com/nonnies-6-ingredient-chocolate-peanut-butter-ice-cream-cake/',\n",
       " 'https://www.halfbakedharvest.com/bursting-blueberry-lemon-layer-cake/',\n",
       " 'https://www.halfbakedharvest.com/chocolate-covered-brown-butter-krispie-treats/',\n",
       " 'https://www.halfbakedharvest.com/no-fuss-lemon-tart/',\n",
       " 'https://www.halfbakedharvest.com/strawberry-glazed-chai-doughnuts/',\n",
       " 'https://www.halfbakedharvest.com/jammy-strawberry-galette/',\n",
       " 'https://www.halfbakedharvest.com/smores-chocolate-mousse-bars/',\n",
       " 'https://www.halfbakedharvest.com/kentucky-derby-pie-chocolate-chip-cookie-bars/',\n",
       " 'https://www.halfbakedharvest.com/vanilla-mocha-hot-cocoa/',\n",
       " 'https://www.halfbakedharvest.com/salted-chocolate-coconut-bars/',\n",
       " 'https://www.halfbakedharvest.com/pecan-pie-cookies-with-butter-pecan-frosting/',\n",
       " 'https://www.halfbakedharvest.com/pumpkin-ginger-bread/',\n",
       " 'https://www.halfbakedharvest.com/chai-pumpkin-cake/',\n",
       " 'https://www.halfbakedharvest.com/maple-pecan-sticky-buns/',\n",
       " 'https://www.halfbakedharvest.com/caramel-apples/',\n",
       " 'https://www.halfbakedharvest.com/monster-oatmeal-chocolate-chip-cookie-bars/',\n",
       " 'https://www.halfbakedharvest.com/milk-chocolate-stuffed-jack-o-lantern-cookies/',\n",
       " 'https://www.halfbakedharvest.com/6-ingredient-spiced-pumpkin-butter/',\n",
       " 'https://www.halfbakedharvest.com/apple-cider-doughnuts/',\n",
       " 'https://www.halfbakedharvest.com/apple-butter-bars/',\n",
       " 'https://www.halfbakedharvest.com/peanut-butter-crunch-brownies/',\n",
       " 'https://www.halfbakedharvest.com/chocolate-vanilla-birthday-cake/',\n",
       " 'https://www.halfbakedharvest.com/chocolate-chip-peanut-butter-swirled-cookie-bars/',\n",
       " 'https://www.halfbakedharvest.com/blueberry-buckle/',\n",
       " 'https://www.halfbakedharvest.com/browned-butter-coconut-chocolate-chip-cookies/',\n",
       " 'https://www.halfbakedharvest.com/peach-ricotta-layer-cake/',\n",
       " 'https://www.halfbakedharvest.com/chocolate-caramel-crunch-ice-cream-bars/',\n",
       " 'https://www.halfbakedharvest.com/blackberry-ruffled-milk-pie/',\n",
       " 'https://www.halfbakedharvest.com/6-ingredient-no-bake-chocolate-chip-cookies/',\n",
       " 'https://www.halfbakedharvest.com/sweet-peach-rose-tart/',\n",
       " 'https://www.halfbakedharvest.com/cinnamon-peach-dutch-baby/',\n",
       " 'https://www.halfbakedharvest.com/raspberry-crumble-bars/',\n",
       " 'https://www.halfbakedharvest.com/easy-chocolate-heart-doughnuts/',\n",
       " 'https://www.halfbakedharvest.com/browned-butter-sugar-cookie-bars-with-white-chocolate-frosting/',\n",
       " 'https://www.halfbakedharvest.com/one-bowl-chocolate-sheet-cake-with-milk-chocolate-fudge-frosting/',\n",
       " 'https://www.halfbakedharvest.com/chewy-chocolate-chip-cookie-granola/',\n",
       " 'https://www.halfbakedharvest.com/vegan-chocolate-custard-cake/',\n",
       " 'https://www.halfbakedharvest.com/5-ingredient-chocolate-dipped-peanut-butter-cookies/',\n",
       " 'https://www.halfbakedharvest.com/vegan-whole-wheat-chocolate-chip-banana-bread-muffins/',\n",
       " 'https://www.halfbakedharvest.com/dark-chocolate-covered-coconut-bars/',\n",
       " 'https://www.halfbakedharvest.com/extra-fudgy-ricotta-brownies/',\n",
       " 'https://www.halfbakedharvest.com/gingerbread-snowglobe-place-setting/',\n",
       " 'https://www.halfbakedharvest.com/eggnog-frosted-chai-snickerdoodle-snowmen/',\n",
       " 'https://www.halfbakedharvest.com/how-to-create-the-best-holiday-cookie-box/',\n",
       " 'https://www.halfbakedharvest.com/salted-milk-chocolate-and-peanut-butter-blondies/',\n",
       " 'https://www.halfbakedharvest.com/sugar-cookie-chocolate-creme-brulee/',\n",
       " 'https://www.halfbakedharvest.com/chewy-chocolate-ginger-molasses-cookies/',\n",
       " 'https://www.halfbakedharvest.com/salted-chocolate-covered-bourbon-cider-caramels/',\n",
       " 'https://www.halfbakedharvest.com/chai-pumpkin-pie-with-maple-whipped-cream/',\n",
       " 'https://www.halfbakedharvest.com/browned-butter-pecan-chocolate-chip-cookies/',\n",
       " 'https://www.halfbakedharvest.com/pumpkin-butter-rugelach-cookies/',\n",
       " 'https://www.halfbakedharvest.com/spooky-halloween-pretzels/',\n",
       " 'https://www.halfbakedharvest.com/cardamom-cognac-apple-cake/',\n",
       " 'https://www.halfbakedharvest.com/hocus-pocus-spellbook-brownies/',\n",
       " 'https://www.halfbakedharvest.com/cinnamon-spiced-sugar-cookies-with-browned-butter-frosting/',\n",
       " 'https://www.halfbakedharvest.com/mulled-apple-cider-chai-french-crullers/',\n",
       " 'https://www.halfbakedharvest.com/honeycrisp-apple-pandowdy/',\n",
       " 'https://www.halfbakedharvest.com/healthy-5-ingredient-buckeyes/',\n",
       " 'https://www.halfbakedharvest.com/the-best-chocolate-birthday-cupcakes-with-fudgy-chocolate-buttercream/',\n",
       " 'https://www.halfbakedharvest.com/brown-sugar-peach-puff-pastry-pop-tarts/',\n",
       " 'https://www.halfbakedharvest.com/giant-chocolate-chip-cookies/',\n",
       " 'https://www.halfbakedharvest.com/vanilla-glazed-blackberry-peach-coffee-cake/',\n",
       " 'https://www.halfbakedharvest.com/chocolate-chip-olive-oil-zucchini-banana-bread/',\n",
       " 'https://www.halfbakedharvest.com/pbj-oat-streusel-muffins/',\n",
       " 'https://www.halfbakedharvest.com/blackberry-lavender-white-chocolate-clafoutis/',\n",
       " 'https://www.halfbakedharvest.com/raspberry-ginger-stone-fruit-galette/',\n",
       " 'https://www.halfbakedharvest.com/sweet-peach-thyme-shortcakes/',\n",
       " 'https://www.halfbakedharvest.com/6-ingredient-chocolate-coffee-nice-cream/',\n",
       " 'https://www.halfbakedharvest.com/brown-sugar-oatmeal-cookie-cookie-dough-ice-cream-sandwiches/',\n",
       " 'https://www.halfbakedharvest.com/maple-fig-tarte-tatin/',\n",
       " 'https://www.halfbakedharvest.com/mixed-berry-almond-croissants/',\n",
       " 'https://www.halfbakedharvest.com/bonfire-brownies-half-baked-harvest-cookbook-sneak-peak/',\n",
       " 'https://www.halfbakedharvest.com/mulled-cherry-bomb-pie/',\n",
       " 'https://www.halfbakedharvest.com/my-favorite-buttermilk-pie-crust/',\n",
       " 'https://www.halfbakedharvest.com/triple-layer-roasted-berry-pinata-ice-cream-cake/',\n",
       " 'https://www.halfbakedharvest.com/easiest-raspberry-shortcake-ricotta-ice-cream/',\n",
       " 'https://www.halfbakedharvest.com/salty-peanut-butter-smore-ice-cream-cake-video/',\n",
       " 'https://www.halfbakedharvest.com/honey-strawberry-apricot-tart/',\n",
       " 'https://www.halfbakedharvest.com/blueberry-brown-betty/',\n",
       " 'https://www.halfbakedharvest.com/tiramisu-brownie-ice-cream-sandwich-bars/',\n",
       " 'https://www.halfbakedharvest.com/strawberry-cornmeal-cake-with-buttermilk-glaze/',\n",
       " 'https://www.halfbakedharvest.com/frozen-peanut-butter-cup-pie/',\n",
       " 'https://www.halfbakedharvest.com/rainbow-frozen-yogurt-pops/',\n",
       " 'https://www.halfbakedharvest.com/chocolate-layered-zebra-mousse-cake/',\n",
       " 'https://www.halfbakedharvest.com/moroccan-chocolate-almond-phyllo-cake-snake-cake/',\n",
       " 'https://www.halfbakedharvest.com/pistachio-rose-rice-pudding/',\n",
       " 'https://www.halfbakedharvest.com/nonnies-kentucky-derby-pie/',\n",
       " 'https://www.halfbakedharvest.com/peanut-butter-swirled-chocolate-fudge-popsicles/',\n",
       " 'https://www.halfbakedharvest.com/strawberry-ripple-almond-cheesecake/',\n",
       " 'https://www.halfbakedharvest.com/easy-lemon-ricotta-old-fashioned-doughnuts/',\n",
       " 'https://www.halfbakedharvest.com/strawberry-coconut-carrot-cake-with-mascarpone-buttercream/',\n",
       " 'https://www.halfbakedharvest.com/best-chocolate-covered-peanut-butter-rice-crispy-treats/',\n",
       " 'https://www.halfbakedharvest.com/pistachio-butter-cookies-with-chocolate-tres-leches-drizzle/',\n",
       " 'https://www.halfbakedharvest.com/homemade-strawberry-white-chocolate-pop-tarts/',\n",
       " 'https://www.halfbakedharvest.com/raw-chocolate-banana-cashew-cream-pie-bars/',\n",
       " 'https://www.halfbakedharvest.com/one-bowl-8-ingredient-irish-coffee-fudge-brownies/',\n",
       " 'https://www.halfbakedharvest.com/cardamom-rose-beignets/',\n",
       " 'https://www.halfbakedharvest.com/healthy-ish-chocolate-chip-cookie-bars/',\n",
       " 'https://www.halfbakedharvest.com/meyer-lemon-chamomile-suzette-crepes-with-greek-yogurt/',\n",
       " 'https://www.halfbakedharvest.com/single-girls-wholesome-molten-chocolate-lava-cake/',\n",
       " 'https://www.halfbakedharvest.com/soft-and-fluffy-cream-cheese-sugar-cookies/',\n",
       " 'https://www.halfbakedharvest.com/valentines-surprise-chocolate-high-hat-cupcakes/',\n",
       " 'https://www.halfbakedharvest.com/winter-bliss-balls/',\n",
       " 'https://www.halfbakedharvest.com/nourishing-7-ingredient-chocolate-chip-ricotta-banana-bread/',\n",
       " 'https://www.halfbakedharvest.com/pistachio-mint-chip-ice-cream/',\n",
       " 'https://www.halfbakedharvest.com/skillet-strawberry-cobbler-with-cream-cheese-swirled-biscuits/',\n",
       " 'https://www.halfbakedharvest.com/campfire-grilled-smore-calzones/',\n",
       " 'https://www.halfbakedharvest.com/10-minute-magical-chocolate-almond-butter-superfood-seed-bars/',\n",
       " 'https://www.halfbakedharvest.com/fudgy-one-bowl-chocolate-peanut-butter-cup-pretzel-cake/',\n",
       " 'https://www.halfbakedharvest.com/tres-leches-coconut-and-chocolate-fudge-ice-cream-tacos-with-banana-peanut-salsa/',\n",
       " 'https://www.halfbakedharvest.com/whole-wheat-belgium-chocolate-chip-waffles-with-coconut-caramelized-bananas/',\n",
       " 'https://www.halfbakedharvest.com/banana-fritters-stick-peanut-sugar-mexican-chocolate-sauce/',\n",
       " 'https://www.halfbakedharvest.com/7-layer-dulce-de-leche-oatmeal-chocolate-chip-bars/',\n",
       " 'https://www.halfbakedharvest.com/almond-honey-cake-with-strawberry-ripple-cream/',\n",
       " 'https://www.halfbakedharvest.com/lavender-honey-and-raspberry-rhubarb-galette/',\n",
       " 'https://www.halfbakedharvest.com/matcha-green-tea-cake-with-vanilla-honey-cream-cheese-frosting/',\n",
       " 'https://www.halfbakedharvest.com/chocolate-peanut-butter-bubble-panna-cotta-with-honey-roasted-peanuts/',\n",
       " 'https://www.halfbakedharvest.com/chocolate-dipped-coconut-tres-leches-cronuts/',\n",
       " 'https://www.halfbakedharvest.com/5-ingredient-magic-matzo-chocolate-bars/',\n",
       " 'https://www.halfbakedharvest.com/double-chocolate-nutella-carrot-cake-cups-with-malted-cream-cheese-frosting/',\n",
       " 'https://www.halfbakedharvest.com/chocolate-dipped-homemade-peanut-butter-samoa-oreo-cookies/',\n",
       " 'https://www.halfbakedharvest.com/vanilla-almond-matcha-chocolate-lava-shake/',\n",
       " 'https://www.halfbakedharvest.com/drunken-sunken-irish-coffee-chocolate-cake-with-salted-baileys-cream/',\n",
       " 'https://www.halfbakedharvest.com/double-chocolate-brownie-irish-car-bomb-cheesecakes/',\n",
       " 'https://www.halfbakedharvest.com/an-irish-mans-whiskey-mocha-chocolate-mousse/',\n",
       " 'https://www.halfbakedharvest.com/chocolate-coconut-french-silk-banoffee-tart/',\n",
       " 'https://www.halfbakedharvest.com/chocolate-covered-toasted-sesame-fortune-cookies/',\n",
       " 'https://www.halfbakedharvest.com/coconut-honey-crepes-whipped-mascarpone-blood-orange-compote/',\n",
       " 'https://www.halfbakedharvest.com/quick-easy-oatmeal-chocolate-chip-cookie-peanut-butter-fudge-parfaits/',\n",
       " 'https://www.halfbakedharvest.com/dark-chocolate-avocado-mousse-coconut-caramelized-bananas/',\n",
       " 'https://www.halfbakedharvest.com/months-worth-healthier-football-food-life-talk/',\n",
       " 'https://www.halfbakedharvest.com/dark-chocolate-covered-coffee-roasted-almond-peanut-butter-oatmeal-bites/',\n",
       " 'https://www.halfbakedharvest.com/mexican-beer-spiked-churros-chocolate-dulce-de-leche/',\n",
       " 'https://www.halfbakedharvest.com/salted-chocolate-chip-cookie-baklava/',\n",
       " 'https://www.halfbakedharvest.com/coffee-roasted-almond-toasted-coconut-dark-chocolate-bark/',\n",
       " 'https://www.halfbakedharvest.com/loaded-peanut-butter-chocolate-covered-potato-chip-fudge-kitchenaid-giveaway/',\n",
       " 'https://www.halfbakedharvest.com/best-ever-hot-chocolate-french-toast/',\n",
       " 'https://www.halfbakedharvest.com/gingerbread-boy-granola/',\n",
       " 'https://www.halfbakedharvest.com/sugar-cookie-hot-cocoa-cupcakes/',\n",
       " 'https://www.halfbakedharvest.com/homemade-holiday-gifts-easy-double-chocolate-vanilla-bean-hot-cocoa-mugs-marshmallows/',\n",
       " 'https://www.halfbakedharvest.com/idiot-proof-salted-chocolate-covered-pretzel-nutella-turtle-cookies/',\n",
       " 'https://www.halfbakedharvest.com/toasted-coconut-cream-rum-chocolate-mousse-crepe-cake/',\n",
       " 'https://www.halfbakedharvest.com/giant-vanilla-salted-butterscotch-sticky-buns/',\n",
       " 'https://www.halfbakedharvest.com/fudge-browne-chocolate-frangelico-creme-brulee-pie/',\n",
       " 'https://www.halfbakedharvest.com/easy-jalapeno-popper-chicken-chili-cheddar-polenta-pot-pies/',\n",
       " 'https://www.halfbakedharvest.com/cinnamon-brioche-chocolate-chip-french-toast-muffins-coconut-streusel/',\n",
       " 'https://www.halfbakedharvest.com/oatmeal-chocolate-chunk-salted-coffee-caramel-apple-skillet-cookie/',\n",
       " 'https://www.halfbakedharvest.com/giant-chocolate-chip-cookie-cookie-dough-peanut-butter-cups/',\n",
       " 'https://www.halfbakedharvest.com/sweet-potato-quinoa-dark-chocolate-coconut-crumble-crunch-muffins/',\n",
       " 'https://www.halfbakedharvest.com/deseed-pomegranate-pictures/',\n",
       " 'https://www.halfbakedharvest.com/chocolate-lovers-pumpkin-fudge-brownie-pancakes-chocolate-kahlua-sauce/',\n",
       " 'https://www.halfbakedharvest.com/sweet-salty-bourbon-cinnamon-pecan-caramel-apples-chocolate-drizzle/',\n",
       " 'https://www.halfbakedharvest.com/apple-maple-ricotta-munchkins/',\n",
       " 'https://www.halfbakedharvest.com/pumpkin-spice-ginger-cookies/',\n",
       " 'https://www.halfbakedharvest.com/chocolate-peanut-butter-bark/',\n",
       " 'https://www.halfbakedharvest.com/pumpkin-butter-cinnamon-roll-bread/',\n",
       " 'https://www.halfbakedharvest.com/pumpkin-cream-cheese-muffins/',\n",
       " 'https://www.halfbakedharvest.com/peanut-butter-spider-cookies/',\n",
       " 'https://www.halfbakedharvest.com/cinnamon-sugar-apple-cake/',\n",
       " 'https://www.halfbakedharvest.com/apple-cider-doughnut-cookies/',\n",
       " 'https://www.halfbakedharvest.com/easy-apple-fritters/',\n",
       " 'https://www.halfbakedharvest.com/maple-brown-sugar-blondies/',\n",
       " 'https://www.halfbakedharvest.com/strawberry-glazed-doughnut/',\n",
       " 'https://www.halfbakedharvest.com/glazed-peanut-butter-bars/',\n",
       " 'https://www.halfbakedharvest.com/cinnamon-crunch-quick-bread/',\n",
       " 'https://www.halfbakedharvest.com/magic-oatmeal-chocolate-chip-cookies/',\n",
       " 'https://www.halfbakedharvest.com/monster-crunchies/',\n",
       " 'https://www.halfbakedharvest.com/oatmeal-cookie-magic-bars/',\n",
       " 'https://www.halfbakedharvest.com/peach-galette/',\n",
       " 'https://www.halfbakedharvest.com/ice-cream-stuffed-dates/',\n",
       " 'https://www.halfbakedharvest.com/ginger-blackberry-peach-cobbler/',\n",
       " 'https://www.halfbakedharvest.com/double-chocolate-chip-zucchini-bread/',\n",
       " 'https://www.halfbakedharvest.com/chocolate-malt-oreo-ice-cream/',\n",
       " 'https://www.halfbakedharvest.com/strawberry-tiramisu/',\n",
       " 'https://www.halfbakedharvest.com/smores-ice-cream-sandwiches/',\n",
       " 'https://www.halfbakedharvest.com/cookie-dough-chocolate-peanut-butter-bars/',\n",
       " 'https://www.halfbakedharvest.com/raspberry-white-chocolate-layer-cake/',\n",
       " 'https://www.halfbakedharvest.com/blackberry-lavender-ice-cream-sandwiches/',\n",
       " 'https://www.halfbakedharvest.com/chocolate-peanut-butter-fudge-bars/',\n",
       " 'https://www.halfbakedharvest.com/strawberry-bourbon-crisp/',\n",
       " 'https://www.halfbakedharvest.com/giant-frosted-strawberry-pop-tart/',\n",
       " 'https://www.halfbakedharvest.com/baklava/',\n",
       " 'https://www.halfbakedharvest.com/maple-glazed-doughnuts/',\n",
       " 'https://www.halfbakedharvest.com/espresso-chocolate-mousse/',\n",
       " 'https://www.halfbakedharvest.com/chewy-oatmeal-chocolate-chip-cookies/',\n",
       " 'https://www.halfbakedharvest.com/lemon-coconut-vanilla-sheet-cake/',\n",
       " 'https://www.halfbakedharvest.com/brown-butter-glazed-peanut-butter-blondies/',\n",
       " 'https://www.halfbakedharvest.com/double-strawberry-cupcakes/',\n",
       " 'https://www.halfbakedharvest.com/molten-coffee-brownie-pudding/',\n",
       " 'https://www.halfbakedharvest.com/swirled-caramel-sheet-cake/',\n",
       " 'https://www.halfbakedharvest.com/chewy-chocolate-peanut-butter-bars/',\n",
       " 'https://www.halfbakedharvest.com/baked-chocolate-fudge-glazed-doughnuts/',\n",
       " 'https://www.halfbakedharvest.com/iced-lemon-loaf/',\n",
       " 'https://www.halfbakedharvest.com/chocolate-sheet-cake/',\n",
       " 'https://www.halfbakedharvest.com/tahini-honey-chocolate-chunk-cookies/',\n",
       " 'https://www.halfbakedharvest.com/chocolate-peanut-butter-oatmeal-bars/',\n",
       " 'https://www.halfbakedharvest.com/almond-butter-cookies/',\n",
       " 'https://www.halfbakedharvest.com/triple-chocolate-espresso-mousse-cake/',\n",
       " 'https://www.halfbakedharvest.com/lemon-chai-cake/',\n",
       " 'https://www.halfbakedharvest.com/peanut-butter-twix-bars/',\n",
       " 'https://www.halfbakedharvest.com/baked-blueberry-cinnamon-sugar-doughnuts/',\n",
       " 'https://www.halfbakedharvest.com/oatmeal-chocolate-chip-cookie-cereal/',\n",
       " 'https://www.halfbakedharvest.com/chocolate-fudge-skillet-cake/',\n",
       " 'https://www.halfbakedharvest.com/brown-butter-bourbon-pecan-chocolate-chunk-cookies/',\n",
       " 'https://www.halfbakedharvest.com/old-fashioned-chocolate-cream-pie/',\n",
       " 'https://www.halfbakedharvest.com/molten-chocolate-coffee-blondies/',\n",
       " 'https://www.halfbakedharvest.com/key-lime-pie-bars/',\n",
       " 'https://www.halfbakedharvest.com/magic-chocolate-chip-cookies/',\n",
       " 'https://www.halfbakedharvest.com/5-minute-grilled-cinnamon-toast-with-chocolate/',\n",
       " 'https://www.halfbakedharvest.com/swirled-carrot-cake-cheesecake-bars/',\n",
       " 'https://www.halfbakedharvest.com/blueberry-lemon-poppy-seed-creme-cake/',\n",
       " 'https://www.halfbakedharvest.com/chocolate-peanut-butter-pie/',\n",
       " 'https://www.halfbakedharvest.com/coconut-pecan-caramel-butter-cake/',\n",
       " 'https://www.halfbakedharvest.com/chocolate-cinnamon-crunch-knots/',\n",
       " 'https://www.halfbakedharvest.com/lemon-sugar-burnt-basque-cheesecake/',\n",
       " 'https://www.halfbakedharvest.com/vanilla-earl-grey-creme-brulee/',\n",
       " 'https://www.halfbakedharvest.com/brown-sugar-peanut-butter-cookies/',\n",
       " 'https://www.halfbakedharvest.com/cinnamon-streusel-coffee-coffee-cake/',\n",
       " 'https://www.halfbakedharvest.com/gooey-chocolate-oatmeal-bars/',\n",
       " 'https://www.halfbakedharvest.com/caramel-butter-cake/',\n",
       " 'https://www.halfbakedharvest.com/earl-grey-blueberry-lemon-cake/',\n",
       " 'https://www.halfbakedharvest.com/brown-butter-malted-chocolate-chunk-cookies/',\n",
       " 'https://www.halfbakedharvest.com/strawberry-conversation-heart-cupcakes/',\n",
       " 'https://www.halfbakedharvest.com/salted-pretzel-magic-bars/',\n",
       " 'https://www.halfbakedharvest.com/no-bake-mixed-berry-custard-tart/',\n",
       " 'https://www.halfbakedharvest.com/bourbon-pecan-cherry-hand-pies/',\n",
       " 'https://www.halfbakedharvest.com/6-ingredient-rice-krispie-treat-chocolate-ice-cream-sandwiches/',\n",
       " 'https://www.halfbakedharvest.com/blackberry-lavender-naked-cake/',\n",
       " 'https://www.halfbakedharvest.com/blueberry-galette/',\n",
       " 'https://www.halfbakedharvest.com/toasted-smore-chocolate-ice-cream-cups/',\n",
       " 'https://www.halfbakedharvest.com/creamy-mocha-custard/',\n",
       " 'https://www.halfbakedharvest.com/cookie-ice-cream-sandwiches/',\n",
       " 'https://www.halfbakedharvest.com/chocolate-peanut-butter-cheerio-bars/',\n",
       " 'https://www.halfbakedharvest.com/fudge-popsicles/',\n",
       " 'https://www.halfbakedharvest.com/no-bake-fruit-tart/',\n",
       " 'https://www.halfbakedharvest.com/easy-baklava/',\n",
       " 'https://www.halfbakedharvest.com/chocolate-chip-skillet-cookie/',\n",
       " 'https://www.halfbakedharvest.com/strawberry-shortcakes/',\n",
       " 'https://www.halfbakedharvest.com/tres-leches-cake/',\n",
       " 'https://www.halfbakedharvest.com/easy-cinnamon-churros-with-coffee-chocolate-sauce/',\n",
       " 'https://www.halfbakedharvest.com/dark-chocolate-chiffon-pie/',\n",
       " 'https://www.halfbakedharvest.com/5-ingredient-chocolate-covered-peanut-butter-crunch-bars/',\n",
       " 'https://www.halfbakedharvest.com/hydrangea-flower-carrot-cake-cupcakes/',\n",
       " 'https://www.halfbakedharvest.com/blueberry-lemon-cheesecake-bars-with-candied-lemon/',\n",
       " 'https://www.halfbakedharvest.com/strawberry-chamomile-naked-cake/',\n",
       " 'https://www.halfbakedharvest.com/coconut-banana-cake-with-chocolate-frosting/',\n",
       " 'https://www.halfbakedharvest.com/6-ingredient-vegan-chocolate-chia-mousse/',\n",
       " 'https://www.halfbakedharvest.com/crinkle-top-brownies/',\n",
       " 'https://www.halfbakedharvest.com/strawberry-rhubarb-cobbler-honey-butter-biscuits/',\n",
       " 'https://www.halfbakedharvest.com/rocky-road-pudding-parfaits/',\n",
       " 'https://www.halfbakedharvest.com/banana-cream-pie-chocolate-peanuts/',\n",
       " 'https://www.halfbakedharvest.com/strawberry-rosehip-frozen-yogurt/',\n",
       " 'https://www.halfbakedharvest.com/fresh-fruit-fools-honey-butter-croissants/',\n",
       " 'https://www.halfbakedharvest.com/coconut-chocolate-chunk-cookies-video/',\n",
       " 'https://www.halfbakedharvest.com/coconut-banana-3-milk-cupcakes-with-nutella-buttercream/',\n",
       " 'https://www.halfbakedharvest.com/coconut-eton-mess-cake-whipped-ricotta-cream/',\n",
       " 'https://www.halfbakedharvest.com/coconut-carrot-cake-cheesecake/',\n",
       " 'https://www.halfbakedharvest.com/sweet-cuban-coconut-balls-with-melted-chocolate-coquito-acaramelado/',\n",
       " 'https://www.halfbakedharvest.com/double-chocolate-irish-tea-infused-oat-muffins/',\n",
       " 'https://www.halfbakedharvest.com/cheesecake-eggs-with-shortbread-soldiers/',\n",
       " 'https://www.halfbakedharvest.com/chocolate-chip-almond-butter-banana-bread/',\n",
       " 'https://www.halfbakedharvest.com/vegan-chocolate-cake-creamy-chocolate-almond-butter-buttercream/',\n",
       " 'https://www.halfbakedharvest.com/chocolate-dunked-salted-honey-nut-bars/',\n",
       " 'https://www.halfbakedharvest.com/superfood-hot-chocolate-with-honey-caramelized-brioche/',\n",
       " 'https://www.halfbakedharvest.com/secret-ingredient-peanut-butter-stuffed-chocolate-chip-skillet-cookie/',\n",
       " 'https://www.halfbakedharvest.com/banana-and-chocolate-chia-cream-pie-parfaits/',\n",
       " 'https://www.halfbakedharvest.com/superfood-chocolate-quinoa-bark/',\n",
       " 'https://www.halfbakedharvest.com/chocolate-coconut-almond-bars/',\n",
       " 'https://www.halfbakedharvest.com/4-ingredient-dark-chocolate-covered-peanut-butter-stuffed-dates/',\n",
       " 'https://www.halfbakedharvest.com/addicting-4-ingredient-buttery-chocolate-covered-ritz-bark-akachristmas-crack/',\n",
       " 'https://www.halfbakedharvest.com/gingerbread-latte-salted-caramel-sugar-video/',\n",
       " 'https://www.halfbakedharvest.com/hot-chocolate-party-with-4-hot-cocoa-recipes/',\n",
       " 'https://www.halfbakedharvest.com/chocolate-tahini-mocha-mousse-wcoconut-bubble-milk-chocolate-expresso-beans/',\n",
       " 'https://www.halfbakedharvest.com/fresh-watermelon-cake-summer-berries-links-inspire/',\n",
       " 'https://www.halfbakedharvest.com/healthy-bake-salted-dark-chocolate-chunk-oatmeal-cookie-bars/',\n",
       " 'https://www.halfbakedharvest.com/brown-sugar-peaches-cream-grilled-french-toast/',\n",
       " 'https://www.halfbakedharvest.com/5-ingredient-caramel-double-chocolate-birthday-ice-cream-cake-bars-stick/',\n",
       " 'https://www.halfbakedharvest.com/hot-fudge-brownie-double-scooped-ice-cream-sundae-high-hat-cupcakes-cone/',\n",
       " 'https://www.halfbakedharvest.com/vanilla-bean-coconut-quinoa-pudding-honey-drizzled-raspberries/',\n",
       " 'https://www.halfbakedharvest.com/vanilla-bourbon-cherry-blueberry-pie/',\n",
       " 'https://www.halfbakedharvest.com/firecracker-berry-margarita-floats/',\n",
       " 'https://www.halfbakedharvest.com/build-candied-balboa-bars/',\n",
       " 'https://www.halfbakedharvest.com/coconut-raspberry-macarons-raspberry-rose-buttercream/',\n",
       " 'https://www.halfbakedharvest.com/vegan-deconstructed-boozy-mocha-drenched-grilled-banana-coconut-cream-pies/',\n",
       " 'https://www.halfbakedharvest.com/coconut-iced-coffee-mini-chocolate-glazed-coffee-doughnuts/',\n",
       " 'https://www.halfbakedharvest.com/caramelized-strawberry-graham-cracker-crumble-ice-cream/',\n",
       " 'https://www.halfbakedharvest.com/churn-caramel-peanut-butter-cup-soft-pretzel-ice-cream-sammies-whot-fudge/',\n",
       " 'https://www.halfbakedharvest.com/oatmeal-chocolate-chip-graham-cracker-cookie-smores/',\n",
       " 'https://www.halfbakedharvest.com/triple-berry-kahlua-crisp-double-crumble/',\n",
       " 'https://www.halfbakedharvest.com/vegan-chocolate-fudge-popsicles/',\n",
       " 'https://www.halfbakedharvest.com/frozen-hot-fudge-peanut-butter-swirled-pretzel-macarons/',\n",
       " 'https://www.halfbakedharvest.com/lemon-ricotta-cheese-stuffed-french-toast-crepes-vanilla-stewed-strawberries/',\n",
       " 'https://www.halfbakedharvest.com/churro-milkshakes-dulce-de-leche/',\n",
       " 'https://www.halfbakedharvest.com/kentucky-derby-mini-chocolate-pecan-cakes-vanilla-bourbon-smash-ice-cream/',\n",
       " 'https://www.halfbakedharvest.com/angel-food-cupcakes-chocolate-whipped-coconut-frosting-crispy-phyllo-nest/',\n",
       " 'https://www.halfbakedharvest.com/banana-bread-chocolate-fudge-swirled-cheesecakes/',\n",
       " 'https://www.halfbakedharvest.com/tahini-hot-chocolate/',\n",
       " 'https://www.halfbakedharvest.com/fudgy-chocolate-peanut-butter-bars/',\n",
       " 'https://www.halfbakedharvest.com/lemon-ricotta-poppy-seed-cakes/',\n",
       " 'https://www.halfbakedharvest.com/blender-chocolate-peanut-butter-muffins/',\n",
       " 'https://www.halfbakedharvest.com/chocolate-chip-espresso-yogurt-cake/',\n",
       " 'https://www.halfbakedharvest.com/vanilla-chai-hot-chocolate/',\n",
       " 'https://www.halfbakedharvest.com/healthier-buckeye-brownies/',\n",
       " 'https://www.halfbakedharvest.com/maple-banana-bread/',\n",
       " 'https://www.halfbakedharvest.com/peanut-butter-protein-chocolate-chip-cookies/',\n",
       " 'https://www.halfbakedharvest.com/chocolate-peanut-butter-millionaire-bars/',\n",
       " 'https://www.halfbakedharvest.com/gingerbread-latte-cookies/',\n",
       " 'https://www.halfbakedharvest.com/frosted-cinnamon-swirl-snickerdoodles/',\n",
       " 'https://www.halfbakedharvest.com/slice-n-bake-vanilla-bean-sugar-cookies/',\n",
       " 'https://www.halfbakedharvest.com/vanilla-bean-hot-cocoa/',\n",
       " 'https://www.halfbakedharvest.com/pretzel-pecan-cookies/',\n",
       " 'https://www.halfbakedharvest.com/caramel-snickerdoodle-pie/',\n",
       " 'https://www.halfbakedharvest.com/chocolate-bourbon-chai-latte-cupcakes/',\n",
       " 'https://www.halfbakedharvest.com/pumpkin-sugar-cookies/',\n",
       " 'https://www.halfbakedharvest.com/cinnamon-pumpkin-coffee-cake/',\n",
       " 'https://www.halfbakedharvest.com/cinnamon-sugar-apple-cider-doughnut-holes/',\n",
       " 'https://www.halfbakedharvest.com/pumpkin-oatmeal-chocolate-chip-cookies/',\n",
       " 'https://www.halfbakedharvest.com/boo-chocolate-peanut-butter-bars/',\n",
       " 'https://www.halfbakedharvest.com/pumpkin-butter-bars/',\n",
       " 'https://www.halfbakedharvest.com/apple-butter-soft-pretzel-knots/',\n",
       " 'https://www.halfbakedharvest.com/halloween-monster-mash-cookies/',\n",
       " 'https://www.halfbakedharvest.com/healthier-caramel-apples/',\n",
       " 'https://www.halfbakedharvest.com/caramel-apple-butter-cake/',\n",
       " 'https://www.halfbakedharvest.com/chai-banana-bread/',\n",
       " 'https://www.halfbakedharvest.com/chocolate-chip-espresso-oatmeal-cookies/',\n",
       " 'https://www.halfbakedharvest.com/cinnamon-sugar-swirled-apple-butter-bread/',\n",
       " 'https://www.halfbakedharvest.com/chocolate-olive-oil-sheet-cake/',\n",
       " 'https://www.halfbakedharvest.com/blackberry-yogurt-bark/',\n",
       " 'https://www.halfbakedharvest.com/scotcheroos/',\n",
       " 'https://www.halfbakedharvest.com/giant-frosted-chocolate-fudge-pop-tart/',\n",
       " 'https://www.halfbakedharvest.com/brown-butter-oatmeal-chocolate-chip-cookies/',\n",
       " 'https://www.halfbakedharvest.com/blueberry-yogurt-granola-bars/',\n",
       " 'https://www.halfbakedharvest.com/blackberry-peach-galette/',\n",
       " 'https://www.halfbakedharvest.com/vanilla-bean-olive-oil-ice-cream/',\n",
       " 'https://www.halfbakedharvest.com/peach-mug-cake/',\n",
       " 'https://www.halfbakedharvest.com/raspberry-chocolate-chip-cookies/',\n",
       " 'https://www.halfbakedharvest.com/brown-sugar-peach-cobbler/',\n",
       " 'https://www.halfbakedharvest.com/zucchini-banana-muffins/',\n",
       " 'https://www.halfbakedharvest.com/special-k-bars/',\n",
       " 'https://www.halfbakedharvest.com/strawberry-pretzel-ice-cream-cake/',\n",
       " 'https://www.halfbakedharvest.com/no-churn-chocolate-peanut-butter-ice-cream/',\n",
       " 'https://www.halfbakedharvest.com/strawberry-shortcake-ice-cream-bars/',\n",
       " 'https://www.halfbakedharvest.com/strawberry-jam-dutch-baby/',\n",
       " 'https://www.halfbakedharvest.com/frozen-chocolate-covered-banana-bites/',\n",
       " 'https://www.halfbakedharvest.com/chocolate-covered-creamy-peanut-butter-cup-bars/',\n",
       " 'https://www.halfbakedharvest.com/lemon-coconut-naked-cake/',\n",
       " 'https://www.halfbakedharvest.com/coconut-banana-cream-pie-parfaits/',\n",
       " 'https://www.halfbakedharvest.com/creamy-lemon-bars/',\n",
       " 'https://www.halfbakedharvest.com/strawberry-olive-oil-cake/',\n",
       " 'https://www.halfbakedharvest.com/vegan-gooey-chocolate-coconut-caramel-bars/',\n",
       " 'https://www.halfbakedharvest.com/cheesecake-stuffed-chocolate-chunk-banana-bread-muffins/',\n",
       " 'https://www.halfbakedharvest.com/giant-strawberries-n-cream-pop-tart/',\n",
       " 'https://www.halfbakedharvest.com/easiest-cinnamon-buttermilk-beignets/',\n",
       " 'https://www.halfbakedharvest.com/peanut-butter-chocolate-chunk-oatmeal-cookies/',\n",
       " 'https://www.halfbakedharvest.com/whipped-lemon-ricotta-cheesecake/',\n",
       " 'https://www.halfbakedharvest.com/warm-chocolate-banana-galette/',\n",
       " 'https://www.halfbakedharvest.com/lemon-rose-shortbread-cookies/',\n",
       " 'https://www.halfbakedharvest.com/chocolate-chip-cookie-stuffed-soft-pretzels/',\n",
       " 'https://www.halfbakedharvest.com/chocolate-chunk-coconut-banana-bread/',\n",
       " 'https://www.halfbakedharvest.com/vegan-triple-chocolate-mousse-cake/',\n",
       " 'https://www.halfbakedharvest.com/ombre-citrus-cream-tart/',\n",
       " 'https://www.halfbakedharvest.com/5-ingredient-chocolate-covered-cashew-bars/',\n",
       " 'https://www.halfbakedharvest.com/salted-caramel-and-milk-chocolate-brownies/',\n",
       " 'https://www.halfbakedharvest.com/gingerbread-cupcakes/',\n",
       " 'https://www.halfbakedharvest.com/2018-holiday-cookie-box/',\n",
       " 'https://www.halfbakedharvest.com/north-pole-cake/',\n",
       " 'https://www.halfbakedharvest.com/chai-spiced-santa-cookies/',\n",
       " 'https://www.halfbakedharvest.com/slice-n-bake-chocolate-covered-peanut-butter-cookies/',\n",
       " 'https://www.halfbakedharvest.com/my-favorite-autumn-recipes/',\n",
       " 'https://www.halfbakedharvest.com/vanilla-birthday-cake-with-whipped-chocolate-buttercream/',\n",
       " 'https://www.halfbakedharvest.com/buckeye-fudge-ice-cream/',\n",
       " 'https://www.halfbakedharvest.com/cinnamon-sugar-nutella-quesadilla/',\n",
       " 'https://www.halfbakedharvest.com/brown-sugar-caramel-oatmeal-cookie-peach-crisp/',\n",
       " 'https://www.halfbakedharvest.com/salted-caramel-chocolate-covered-potato-chip-sundaes/',\n",
       " 'https://www.halfbakedharvest.com/chocolate-chip-cookie-nutella-ice-box-cake/',\n",
       " 'https://www.halfbakedharvest.com/cinnamon-grilled-peaches-mascarpone-ice-cream/',\n",
       " 'https://www.halfbakedharvest.com/melon-lemonade-margarita-popsicles/',\n",
       " 'https://www.halfbakedharvest.com/bourbon-glazed-peach-fritters/',\n",
       " 'https://www.halfbakedharvest.com/blueberry-brie-cornbread-biscuits-honey-butter/',\n",
       " 'https://www.halfbakedharvest.com/creamy-coconut-almond-breakfast-pops/',\n",
       " 'https://www.halfbakedharvest.com/honey-strawberry-peach-pie/',\n",
       " 'https://www.halfbakedharvest.com/triple-layer-chocolate-fudge-ice-cream-cake/',\n",
       " 'https://www.halfbakedharvest.com/layered-caramel-buster-bars/',\n",
       " 'https://www.halfbakedharvest.com/no-bake-triple-decker-peanut-butter-smores-bars/',\n",
       " 'https://www.halfbakedharvest.com/3-ingredient-strawberry-mango-popsicles/',\n",
       " 'https://www.halfbakedharvest.com/strawberry-shortcake-grilled-doughnuts/',\n",
       " 'https://www.halfbakedharvest.com/salted-pretzel-nutella-cookie-ice-cream-sandwiches/',\n",
       " 'https://www.halfbakedharvest.com/chocolate-glazed-mochi-doughnuts/',\n",
       " 'https://www.halfbakedharvest.com/berry-cheesecake-ice-cream-pavlova-jars/',\n",
       " 'https://www.halfbakedharvest.com/churro-waffless/',\n",
       " 'https://www.halfbakedharvest.com/mexican-samoas-cookies/',\n",
       " 'https://www.halfbakedharvest.com/salted-chamomile-honey-cakes-with-raspberry-ripple-cream/',\n",
       " 'https://www.halfbakedharvest.com/baked-gingerbread-custard-waffle-french-toast/',\n",
       " 'https://www.halfbakedharvest.com/chocolate-hazelnut-and-caramel-stuffed-brownie-cookies/',\n",
       " 'https://www.halfbakedharvest.com/chocolate-dipped-vanilla-bean-cashew-crescent-cookies/',\n",
       " 'https://www.halfbakedharvest.com/salted-peanut-butter-caramel-chocolate-truffles/',\n",
       " 'https://www.halfbakedharvest.com/edible-christmas-gifts-in-jars/',\n",
       " 'https://www.halfbakedharvest.com/eggnog-scented-sugar-cookies-with-easy-vanilla-icing/',\n",
       " 'https://www.halfbakedharvest.com/chocolate-covered-cinnamon-sugar-pretzels/',\n",
       " 'https://www.halfbakedharvest.com/slice-n-bake-vanilla-brown-butter-pecan-cookies-dipped-chocolate/',\n",
       " 'https://www.halfbakedharvest.com/sweet-potato-pie-cinnamon-rolls-with-butter-whipped-meringue-frosting/',\n",
       " 'https://www.halfbakedharvest.com/caramelized-condensed-milk-mini-apple-pies/',\n",
       " 'https://www.halfbakedharvest.com/salted-bourbon-pecan-pumpkin-pie/',\n",
       " 'https://www.halfbakedharvest.com/chocolate-cinnamon-swirl-pumpkin-brioche-bread/',\n",
       " 'https://www.halfbakedharvest.com/easy-peanut-butter-cup-fudge-with-salted-bourbon-sugar/',\n",
       " 'https://www.halfbakedharvest.com/chocolate-covered-roasted-pumpkin-seed-turtle-clusters/',\n",
       " 'https://www.halfbakedharvest.com/baked-buttermilk-pumpkin-doughnuts-with-hot-cocoa-glaze/',\n",
       " 'https://www.halfbakedharvest.com/caramelized-pear-and-hazelnut-crumble-tart/',\n",
       " 'https://www.halfbakedharvest.com/healthy-caramel-apples-six-ways/',\n",
       " 'https://www.halfbakedharvest.com/deathly-chocolate-graveyard-cakes-witches-beware/',\n",
       " 'https://www.halfbakedharvest.com/homemade-tim-tams/',\n",
       " 'https://www.halfbakedharvest.com/pumpkin-nutella-crepe-cake/',\n",
       " 'https://www.halfbakedharvest.com/easy-warm-swedish-caramel-apple-cheesecake/',\n",
       " 'https://www.halfbakedharvest.com/maple-glazed-apple-fritters/',\n",
       " 'https://www.halfbakedharvest.com/fall-harvest-peanut-picnic-a-family-hike/',\n",
       " 'https://www.halfbakedharvest.com/harvest-oatmeal-chocolate-chunk-cookies-with-salted-toasted-pepitas/',\n",
       " 'https://www.halfbakedharvest.com/hot-buttered-rum-apple-pie-stuffed-cinnamon-sugar-soft-pretzels/',\n",
       " 'https://www.halfbakedharvest.com/molten-chocolate-pumpkin-streusel-bread-heavy-chocolate-streusel/',\n",
       " 'https://www.halfbakedharvest.com/salted-caramel-apple-snickers-cake/',\n",
       " 'https://www.halfbakedharvest.com/death-butterbeer-cupcakes-wtreacle-butter-frosting-chocolate-covered-pretzels/',\n",
       " 'https://www.halfbakedharvest.com/coffee-roasted-pumpkin-seed-snack-clusters-dipped-chocolate/',\n",
       " 'https://www.halfbakedharvest.com/overnight-cider-pumpkin-waffles-wtoasted-pecan-butter-cider-syrup-spiced-apples/',\n",
       " 'https://www.halfbakedharvest.com/fried-apple-pies-links-inspire/',\n",
       " 'https://www.halfbakedharvest.com/salted-caramel-mocha-nutella-brownies/',\n",
       " 'https://www.halfbakedharvest.com/nutella-banana-tarte-tatin-cinnamon-sugar-roasted-pumpkin-seed-hazelnut-crunch/',\n",
       " 'https://www.halfbakedharvest.com/25-favorite-fall-recipes/',\n",
       " 'https://www.halfbakedharvest.com/peanut-butter-cheesecake-doughnuts-salted-chocolate-bourbon-caramel/',\n",
       " 'https://www.halfbakedharvest.com/brown-butter-caramelized-apple-crisp-bars-wpecan-streusel-mascarpone-maple-glaze/',\n",
       " 'https://www.halfbakedharvest.com/samoa-macaroon-tarts/',\n",
       " 'https://www.halfbakedharvest.com/magic-gooey-chocolate-meringue-texas-sheet-cake/',\n",
       " 'https://www.halfbakedharvest.com/caramelized-peach-whole-wheat-white-chocolate-oatmeal-skillet-cookie-pie/',\n",
       " 'https://www.halfbakedharvest.com/double-trouble-chocolate-chunk-peanut-butter-honey-cookies/',\n",
       " 'https://www.halfbakedharvest.com/oatmeal-chocolate-chip-cookies-n-milk-breakfast-cups/',\n",
       " 'https://www.halfbakedharvest.com/homemade-italian-ice-links-inspire/',\n",
       " 'https://www.halfbakedharvest.com/milk-chocolate-dipped-zucchini-granola-bars/',\n",
       " 'https://www.halfbakedharvest.com/2-ingredient-strawberry-popsicles-links-inspire/',\n",
       " 'https://www.halfbakedharvest.com/healthier-chocolate-lovers-sweet-corn-hazelnut-crunch-chocolate-cake-wganache/',\n",
       " 'https://www.halfbakedharvest.com/inside-peanut-butter-nutella-banana-smores/',\n",
       " 'https://www.halfbakedharvest.com/sweet-balsamic-strawberries-wwhipped-ricotta-cream-maple-glazed-seeded-nuts/',\n",
       " 'https://www.halfbakedharvest.com/munchies-sweet-corn-ice-cream-sandwiches-wpeanut-butter-chip-cookies/',\n",
       " 'https://www.halfbakedharvest.com/glazed-peanut-butter-jelly-doughnuts-strawberry-rhubarb-chia-jelly/',\n",
       " 'https://www.halfbakedharvest.com/6-layer-3-coconut-covered-chocolate-peeps-cake/',\n",
       " 'https://www.halfbakedharvest.com/coffee-caramelized-croissant-french-toast-sticks/',\n",
       " 'https://www.halfbakedharvest.com/oatmeal-chocolate-chunk-cookie-peanut-butter-swirled-brownies/',\n",
       " 'https://www.halfbakedharvest.com/honey-nut-cheerio-bars/',\n",
       " 'https://www.halfbakedharvest.com/chocolate-coconut-ice-cream-cookie-dough-blizzard-video/',\n",
       " 'https://www.halfbakedharvest.com/blueberry-vanilla-greek-yogurt-granola-bars/',\n",
       " 'https://www.halfbakedharvest.com/meringue-encased-chocolate-mousse-smore-cakes/',\n",
       " 'https://www.halfbakedharvest.com/mini-chocolate-stout-brownie-sundae-floats-burnt-irish-caramel-hot-fudge/',\n",
       " 'https://www.halfbakedharvest.com/super-healthy-peanut-butter-date-special-k-bars/',\n",
       " 'https://www.halfbakedharvest.com/beignets-tiramisu-chocolate-ganache/',\n",
       " 'https://www.halfbakedharvest.com/banoffee-nutella-greek-yogurt-waffle-cone-parfaits-cashew-caramel-popcorn/',\n",
       " 'https://www.halfbakedharvest.com/peanut-butter-stuffed-chocolate-covered-pretzel-cookies-n-cream/',\n",
       " 'https://www.halfbakedharvest.com/toasted-coconut-lemon-bread-salted-honey-butter/',\n",
       " 'https://www.halfbakedharvest.com/toasted-fluffernutters-cabernet-chocolate-fondue/',\n",
       " 'https://www.halfbakedharvest.com/brigadeiros-brazilian-chocolate-truffles/',\n",
       " 'https://www.halfbakedharvest.com/sweet-banana-lumpia-milk-chocolate-toasted-coconut-butter/',\n",
       " 'https://www.halfbakedharvest.com/red-velvet-molten-chocolate-lava-cakes-chocolate-ganache-center/',\n",
       " 'https://www.halfbakedharvest.com/moms-simple-oatmeal-chocolate-chip-cookies-best-oatmeal-chocolate-chip-cookies-around/',\n",
       " 'https://www.halfbakedharvest.com/rice-krispie-treat-pancakes-browned-butter-syrup/',\n",
       " 'https://www.halfbakedharvest.com/warm-chocolate-chip-cookie-stuffed-soft-pretzels/',\n",
       " 'https://www.halfbakedharvest.com/thick-creamy-chocolate-pistachio-chia-shake/',\n",
       " 'https://www.halfbakedharvest.com/simple-chocolate-birthday-cake-whipped-chocolate-buttercream-video/',\n",
       " 'https://www.halfbakedharvest.com/toasted-coconut-chocolate-chunk-roasted-banana-bread/',\n",
       " 'https://www.halfbakedharvest.com/chocolate-lovers-greek-yogurt-chocolate-mousse-cake/',\n",
       " 'https://www.halfbakedharvest.com/superfood-cashew-goji-berry-bars/',\n",
       " 'https://www.halfbakedharvest.com/salted-caramel-chocolate-covered-pretzels/',\n",
       " 'https://www.halfbakedharvest.com/chocolate-peanut-butter-crinkle-cookies/',\n",
       " 'https://www.halfbakedharvest.com/christmas-chocolate-chip-cookies/',\n",
       " 'https://www.halfbakedharvest.com/sugar-cookie-hot-chocolate/',\n",
       " 'https://www.halfbakedharvest.com/chocolate-espresso-thumbprint-cookies/',\n",
       " 'https://www.halfbakedharvest.com/gingerbread-cake-with-caramel-cream-cheese-buttercream/',\n",
       " 'https://www.halfbakedharvest.com/chocolate-dipped-coconut-caramel-macaroons/',\n",
       " 'https://www.halfbakedharvest.com/christmas-cookie-decorating-kit/',\n",
       " 'https://www.halfbakedharvest.com/butter-pecan-frosted-fudge-brownies/',\n",
       " 'https://www.halfbakedharvest.com/pumpkin-chai-snickerdoodles/',\n",
       " 'https://www.halfbakedharvest.com/gooey-chocolate-chip-cookie-pie/',\n",
       " 'https://www.halfbakedharvest.com/easy-twisted-pumpkin-spice-danish/',\n",
       " 'https://www.halfbakedharvest.com/nutella-stuffed-pumpkin-beignets/',\n",
       " 'https://www.halfbakedharvest.com/addicting-5-ingredient-crockpot-chocolate-bars/',\n",
       " 'https://www.halfbakedharvest.com/mini-pecan-butter-apple-rose-tarts/',\n",
       " 'https://www.halfbakedharvest.com/cream-cheese-swirled-brown-sugar-pumpkin-coffee-cake/',\n",
       " 'https://www.halfbakedharvest.com/monster-mash-cookies/',\n",
       " 'https://www.halfbakedharvest.com/cinnamon-apple-crumble-cake/',\n",
       " 'https://www.halfbakedharvest.com/forbidden-forest-chocolate-butterbeer-cake/',\n",
       " 'https://www.halfbakedharvest.com/chocolate-chip-pumpkin-pancakes-with-whipped-maple-butter/',\n",
       " 'https://www.halfbakedharvest.com/mocha-caramel-crunch-chocolate-chip-cookie-bars/',\n",
       " 'https://www.halfbakedharvest.com/baked-salted-caramel-apple-cider-doughnuts/',\n",
       " 'https://www.halfbakedharvest.com/homemade-chocolate-peanut-butter-fudge-pop-tarts/',\n",
       " 'https://www.halfbakedharvest.com/brown-butter-plum-up-side-down-yogurt-cake-with-pistachios/',\n",
       " 'https://www.halfbakedharvest.com/chocolate-bourbon-caramel-macaron-cake-to-celebrate-my-little-kind-of-big-secret/',\n",
       " 'https://www.halfbakedharvest.com/salted-pretzel-nutella-fudge-milkshake-with-malted-milk-whipped-cream/',\n",
       " 'https://www.halfbakedharvest.com/mini-bourbon-caramelized-peach-baked-alaska-with-butter-pecan-ice-cream/',\n",
       " 'https://www.halfbakedharvest.com/chewy-cherry-almond-and-cacao-nib-granola-bars/',\n",
       " 'https://www.halfbakedharvest.com/double-chocolate-hawaiian-tiramisu/',\n",
       " 'https://www.halfbakedharvest.com/baked-mixed-berry-coconut-cornbread-muffins/',\n",
       " 'https://www.halfbakedharvest.com/chocolate-chip-cookie-dough-infused-waffles-made-into-waffle-ice-cream-sammies/',\n",
       " 'https://www.halfbakedharvest.com/oatmeal-chocolate-chunk-cookie-stuffed-campfire-bananas/',\n",
       " 'https://www.halfbakedharvest.com/cherry-cobbler-with-honey-butter-vanilla-bean-biscuits-links/',\n",
       " 'https://www.halfbakedharvest.com/double-chocolate-coconut-oil-zucchini-muffins-with-caramelized-buckwheat/',\n",
       " 'https://www.halfbakedharvest.com/miso-chocolate-fudge-and-haupia-coconut-pudding-macaroon-pie/',\n",
       " 'https://www.halfbakedharvest.com/raspberry-nectarine-and-sweet-corn-clafoutis/',\n",
       " 'https://www.halfbakedharvest.com/strawberry-jelly-and-vanilla-cream-brioche-doughnuts-with-lilac-sugar/',\n",
       " 'https://www.halfbakedharvest.com/hibiscus-cherry-and-ginger-beer-ice-cream-floats/',\n",
       " 'https://www.halfbakedharvest.com/honey-butter-stone-fruit-and-blackberry-meringue-tart/',\n",
       " 'https://www.halfbakedharvest.com/chocolate-dipped-peanut-butter-espresso-smore/',\n",
       " 'https://www.halfbakedharvest.com/cherry-and-goats-milk-coconut-mousse/',\n",
       " 'https://www.halfbakedharvest.com/no-churn-ice-cream-5-ways/',\n",
       " 'https://www.halfbakedharvest.com/sweet-blueberry-buttermilk-pies-with-chamomile-cream/',\n",
       " 'https://www.halfbakedharvest.com/salted-chocolate-dipped-banana-almond-pops-with-malted-coconut-honey/',\n",
       " 'https://www.halfbakedharvest.com/mini-vegan-no-bake-chocolate-mocha-fudge-and-coconut-tarts/',\n",
       " 'https://www.halfbakedharvest.com/ginger-hibiscus-and-minty-watermelon-popsicles/',\n",
       " 'https://www.halfbakedharvest.com/brooklyn-blackout-cake/',\n",
       " 'https://www.halfbakedharvest.com/deep-dark-rosy-red-velvet-cupcakes/',\n",
       " 'https://www.halfbakedharvest.com/kahlua-chocolate-pudding-oatmeal-chocolate-chip-cookies/',\n",
       " 'https://www.halfbakedharvest.com/best-peanut-butter-cup-fudge-brownies/',\n",
       " 'https://www.halfbakedharvest.com/chocolate-fudge-swirled-lemon-ricotta-tart/',\n",
       " 'https://www.halfbakedharvest.com/vanilla-cream-filled-cabernet-hot-chocolate-snowball-doughnuts/',\n",
       " 'https://www.halfbakedharvest.com/dark-chocolate-dipped-crunchy-coconut-cashew-sesame-bars/',\n",
       " 'https://www.halfbakedharvest.com/vanilla-chia-earl-grey-chocolate-banana-muffins/',\n",
       " 'https://www.halfbakedharvest.com/chocolate-truffle-martini-dulce-de-leche-rum-butter-truffles/',\n",
       " 'https://www.halfbakedharvest.com/eggnog-chocolate-marzipan-babka-french-toast/',\n",
       " 'https://www.halfbakedharvest.com/naughty-nice-hot-cocoa-spiked-eggnog-marshmallows/',\n",
       " 'https://www.halfbakedharvest.com/chocolate-candy-bar-baklava-butter-rum-sauce/',\n",
       " 'https://www.halfbakedharvest.com/chocolate-chip-cookie-bottomed-salted-rum-caramel-tart-toasted-marshmallow/',\n",
       " 'https://www.halfbakedharvest.com/triple-chocolate-truffle-cheesecake-cookies/',\n",
       " 'https://www.halfbakedharvest.com/homemade-holidays-coconut-caramel-stuffed-chocolate-covered-pretzel-presents/',\n",
       " 'https://www.halfbakedharvest.com/gingerbread-surprise-beignets-spiced-mocha-hot-chocolate/',\n",
       " 'https://www.halfbakedharvest.com/easy-slice-n-bake-vanilla-bean-christmas-sugar-cookies-wwhipped-buttercream/',\n",
       " 'https://www.halfbakedharvest.com/loaded-chocolate-hazelnut-liquor-turnovers-salted-vanilla-bean-whipped-cream/',\n",
       " 'https://www.halfbakedharvest.com/idiot-proof-5-ingredient-puppy-chow-ritz-cracker-cookies/',\n",
       " 'https://www.halfbakedharvest.com/incredibly-gooey-collapsing-chocolate-bourbon-pecan-pie-custard-cake/',\n",
       " 'https://www.halfbakedharvest.com/chocolate-drizzled-buttery-pecan-caramelized-condensed-milk-cookies/',\n",
       " 'https://www.halfbakedharvest.com/warm-toasted-caramel-coconut-gooey-chocolate-crunch-bars/',\n",
       " 'https://www.halfbakedharvest.com/cinnamon-sugar-nutella-swirled-pumpkin-pie-pop-tarts/',\n",
       " 'https://www.halfbakedharvest.com/mini-chocolate-pumpkin-seed-candy-peanut-butter-cups/',\n",
       " 'https://www.halfbakedharvest.com/chewy-brown-sugar-maple-cookies/',\n",
       " 'https://www.halfbakedharvest.com/baked-apple-cider-doughnuts/',\n",
       " 'https://www.halfbakedharvest.com/iced-fudge-brownies/',\n",
       " 'https://www.halfbakedharvest.com/chocolate-zucchini-banana-cake/',\n",
       " 'https://www.halfbakedharvest.com/vegan-double-chocolate-chunk-cookies/',\n",
       " 'https://www.halfbakedharvest.com/blackberry-lavender-sheet-cake/',\n",
       " 'https://www.halfbakedharvest.com/coffee-and-fudge-ice-cream-cake/',\n",
       " 'https://www.halfbakedharvest.com/iced-brown-sugar-latte/',\n",
       " 'https://www.halfbakedharvest.com/raspberry-peach-sherbet/',\n",
       " 'https://www.halfbakedharvest.com/frozen-chocolate-peanut-butter-cups/',\n",
       " 'https://www.halfbakedharvest.com/brown-sugar-peach-shortcakes/',\n",
       " 'https://www.halfbakedharvest.com/chocolate-frosty/',\n",
       " 'https://www.halfbakedharvest.com/berry-ice-cream-butter-cake/',\n",
       " 'https://www.halfbakedharvest.com/strawberry-pink-drink/',\n",
       " 'https://www.halfbakedharvest.com/mangonada/',\n",
       " 'https://www.halfbakedharvest.com/5-ingredient-peach-dump/',\n",
       " 'https://www.halfbakedharvest.com/buster-bars/',\n",
       " 'https://www.halfbakedharvest.com/creamy-fruit-popsicles/',\n",
       " 'https://www.halfbakedharvest.com/blueberry-lavender-pie/',\n",
       " 'https://www.halfbakedharvest.com/smores-skillet-brownie/',\n",
       " 'https://www.halfbakedharvest.com/blackberry-peach-crisp/',\n",
       " 'https://www.halfbakedharvest.com/strawberry-and-cream-rye-pretzel-tart/',\n",
       " 'https://www.halfbakedharvest.com/cookies-n-cream-chocolate-chip-cookies/',\n",
       " 'https://www.halfbakedharvest.com/peanut-butter-mocha-oreo-ice-cream-sandwiches/',\n",
       " 'https://www.halfbakedharvest.com/double-stuffed-pumpkin-pie-oreos/',\n",
       " 'https://www.halfbakedharvest.com/vegan-gooey-chocolate-doughnuts-giveaway/',\n",
       " 'https://www.halfbakedharvest.com/chocolate-chip-pumpkin-cinnamon-roll-dutch-baby/',\n",
       " 'https://www.halfbakedharvest.com/salted-pretzel-chocolate-chip-cookie-dough-snickers-bars/',\n",
       " 'https://www.halfbakedharvest.com/toasted-coconut-chocolate-pumpkin-spice-latte-chocolate-drizzle/',\n",
       " 'https://www.halfbakedharvest.com/peanut-butter-cup-cookies-cream-salted-caramel-popcorn-bars/',\n",
       " 'https://www.halfbakedharvest.com/apple-pecan-pie-cronuts-apple-cider-caramel-drizzle/',\n",
       " 'https://www.halfbakedharvest.com/roasted-apple-pecan-brie-buckwheat-waffles-caramel-drizzle/',\n",
       " 'https://www.halfbakedharvest.com/homemade-croissants-step-step-photos/',\n",
       " 'https://www.halfbakedharvest.com/ultimate-triple-layer-chocolate-bourbon-peanut-butter-buckeye-cake/',\n",
       " 'https://www.halfbakedharvest.com/whole-wheat-chocolate-chip-pumpkin-cookie-bars/',\n",
       " 'https://www.halfbakedharvest.com/brown-butter-vanilla-bean-nutella-swirled-rice-krispie-treats/',\n",
       " 'https://www.halfbakedharvest.com/chewy-chocolate-drenched-peanut-butter-cornflake-crunch-fudge-brownies/',\n",
       " 'https://www.halfbakedharvest.com/chocolate-chip-banana-fluffernutter-sandwich-cookies/',\n",
       " 'https://www.halfbakedharvest.com/chocolate-lovers-triple-layer-coffee-caramel-chocolate-mousse-cakes/',\n",
       " 'https://www.halfbakedharvest.com/nutella-stuffed-whole-wheat-peanut-butter-banana-and-zucchini-muffins/',\n",
       " 'https://www.halfbakedharvest.com/jalapeno-cheddar-cornbread-pancakes-with-roasted-blueberry-honey-syrup/',\n",
       " 'https://www.halfbakedharvest.com/honey-toasted-hazelnut-chocolate-chunk-cupcakes-with-boozy-honey-buttercream-frosting/',\n",
       " 'https://www.halfbakedharvest.com/homemade-strawberry-nutri-grain-bars/',\n",
       " 'https://www.halfbakedharvest.com/smore-mousse-filled-chocolate-cups/',\n",
       " 'https://www.halfbakedharvest.com/coconut-banana-cream-chocolate-truffle-pie/',\n",
       " 'https://www.halfbakedharvest.com/fudge-brownie-caramel-popcorn-oatmeal-cookie-crumble-7-layer-bars/',\n",
       " 'https://www.halfbakedharvest.com/chocolate-chip-stuffed-cinnamon-roll-ice-cream-with-vanilla-bean-brown-butter-sauce/',\n",
       " 'https://www.halfbakedharvest.com/chocolate-dipped-homemade-peanut-butter-oreo-mocha-ice-cream-sandwiches/',\n",
       " 'https://www.halfbakedharvest.com/cinnamon-swirl-chocolate-chip-pumpkin-butter-bread/',\n",
       " 'https://www.halfbakedharvest.com/brown-sugar-maple-cookies/',\n",
       " 'https://www.halfbakedharvest.com/salted-pretzel-chocolate-chip-cookie-snickers-bars/',\n",
       " 'https://www.halfbakedharvest.com/brown-butter-apple-blondies/',\n",
       " 'https://www.halfbakedharvest.com/cinnamon-spiced-apple-fritters/',\n",
       " 'https://www.halfbakedharvest.com/salted-maple-apple-tarte-tatin-with-vanilla-cream-toasted-pumpkin-seeds/',\n",
       " 'https://www.halfbakedharvest.com/homemade-nutter-butter-cookies/',\n",
       " 'https://www.halfbakedharvest.com/chocolate-peanut-butter-bars/',\n",
       " 'https://www.halfbakedharvest.com/no-churn-fudge-brownie-coffee-ice-cream/',\n",
       " 'https://www.halfbakedharvest.com/smores-stuffed-chocolate-chip-skillet-cookie/',\n",
       " 'https://www.halfbakedharvest.com/skillet-cinnamon-sugar-peach-upside-down-cake/',\n",
       " 'https://www.halfbakedharvest.com/cinnamon-sugar-blueberry-crumb-bars/',\n",
       " 'https://www.halfbakedharvest.com/chocolate-fudge-pops/',\n",
       " 'https://www.halfbakedharvest.com/strawberry-chamomile-cheesecake/',\n",
       " 'https://www.halfbakedharvest.com/chocolate-chunk-almond-butter-zucchini-bread/',\n",
       " 'https://www.halfbakedharvest.com/malted-milk-cookies-n-cream-ice-cream-sandwiches/',\n",
       " 'https://www.halfbakedharvest.com/key-lime-pie/',\n",
       " 'https://www.halfbakedharvest.com/raspberry-cream-pretzel-hand-pies/',\n",
       " 'https://www.halfbakedharvest.com/peanut-butter-brownie-ice-cream-bars/',\n",
       " 'https://www.halfbakedharvest.com/lavender-lemon-sugar-cookies/',\n",
       " 'https://www.halfbakedharvest.com/skillet-blueberry-bourbon-pandowdy/',\n",
       " 'https://www.halfbakedharvest.com/buckeye-crunch-bars/',\n",
       " 'https://www.halfbakedharvest.com/hot-fudge-cookies/',\n",
       " 'https://www.halfbakedharvest.com/cinnamon-sugar-peach-cobbler/']"
      ]
     },
     "execution_count": 15,
     "metadata": {},
     "output_type": "execute_result"
    }
   ],
   "source": [
    "all_recipes_url"
   ]
  },
  {
   "cell_type": "code",
   "execution_count": 35,
   "id": "a5357845",
   "metadata": {},
   "outputs": [
    {
     "data": {
      "text/plain": [
       "477"
      ]
     },
     "execution_count": 35,
     "metadata": {},
     "output_type": "execute_result"
    }
   ],
   "source": [
    "\n",
    "# Read the URLs from the text file\n",
    "with open('failed_urls_till201_792.txt', 'r') as file:\n",
    "    failed_url = file.readlines()\n",
    "\n",
    "# Strip newline characters from each URL\n",
    "failed_url = [url.strip() for url in failed_url]\n",
    "\n",
    "len(failed_url)"
   ]
  },
  {
   "cell_type": "code",
   "execution_count": 36,
   "id": "a8a66fb7",
   "metadata": {
    "scrolled": true
   },
   "outputs": [
    {
     "data": {
      "text/plain": [
       "['https://www.halfbakedharvest.com/marshmallow-brown-sugar-cookie-bars/',\n",
       " 'https://www.halfbakedharvest.com/brown-sugar-chocolate-chip-muffins/',\n",
       " 'https://www.halfbakedharvest.com/cinnamon-pop-tart-bars/',\n",
       " 'https://www.halfbakedharvest.com/peanut-butter-crunch-bars/',\n",
       " 'https://www.halfbakedharvest.com/peach-dump-cake/',\n",
       " 'https://www.halfbakedharvest.com/no-churn-strawberry-ice-cream/',\n",
       " 'https://www.halfbakedharvest.com/cookie-dough-ice-cream-bites/',\n",
       " 'https://www.halfbakedharvest.com/31-recipes-to-cook-in-may/',\n",
       " 'https://www.halfbakedharvest.com/chocolate-chunk-yogurt-coffee-cake/',\n",
       " 'https://www.halfbakedharvest.com/banana-bread-carrot-cake/',\n",
       " 'https://www.halfbakedharvest.com/coconut-chocolate-chip-cookies/',\n",
       " 'https://www.halfbakedharvest.com/sour-fruit-gummies/',\n",
       " 'https://www.halfbakedharvest.com/the-50-most-popular-easter-recipes/',\n",
       " 'https://www.halfbakedharvest.com/blueberry-sour-cream-coffee-cake/',\n",
       " 'https://www.halfbakedharvest.com/banana-cupcakes/',\n",
       " 'https://www.halfbakedharvest.com/raspberry-swirled-pistachio-cookies/',\n",
       " 'https://www.halfbakedharvest.com/raspberry-honey-sweet-rolls/',\n",
       " 'https://www.halfbakedharvest.com/ginger-crunch-carrot-cake-bread/',\n",
       " 'https://www.halfbakedharvest.com/chocolate-peanut-fudge-bars/',\n",
       " 'https://www.halfbakedharvest.com/iced-grapefruit-yogurt-cake/',\n",
       " 'https://www.halfbakedharvest.com/buckwheat-chocolate-chunk-banana-bread/',\n",
       " 'https://www.halfbakedharvest.com/chocolate-chunk-honey-sesame-cookies/',\n",
       " 'https://www.halfbakedharvest.com/sesame-oatmeal-bars/',\n",
       " 'https://www.halfbakedharvest.com/christmas-tree-cookies/',\n",
       " 'https://www.halfbakedharvest.com/2023-christmas-cookie-box/',\n",
       " 'https://www.halfbakedharvest.com/chewy-christmas-snickerdoodles/',\n",
       " 'https://www.halfbakedharvest.com/hot-chocolate-molten-cookies/',\n",
       " 'https://www.halfbakedharvest.com/cinnamon-swirl-snickerdoodle-blondies/',\n",
       " 'https://www.halfbakedharvest.com/zucchini-doughnuts/',\n",
       " 'https://www.halfbakedharvest.com/strawberry-cream-pretzel-tart/',\n",
       " 'https://www.halfbakedharvest.com/cottage-cheese-chocolate-chip-peanut-muffins/',\n",
       " 'https://www.halfbakedharvest.com/strawberry-mango-popsicles/',\n",
       " 'https://www.halfbakedharvest.com/strawberry-ice-cream-sandwiches/',\n",
       " 'https://www.halfbakedharvest.com/brown-sugar-strawberry-cobbler/',\n",
       " 'https://www.halfbakedharvest.com/banana-pudding-ice-cream-cake-cake/',\n",
       " 'https://www.halfbakedharvest.com/carrot-cake-cupcakes/',\n",
       " 'https://www.halfbakedharvest.com/banana-doughnuts/',\n",
       " 'https://www.halfbakedharvest.com/chocolate-chip-muffins/',\n",
       " 'https://www.halfbakedharvest.com/blackout-doughnuts/',\n",
       " 'https://www.halfbakedharvest.com/chocolate-chunk-rye-banana-bread/',\n",
       " 'https://www.halfbakedharvest.com/brown-butter-iced-mocha-cinnamon-rolls/',\n",
       " 'https://www.halfbakedharvest.com/samoas-pretzel-presents/',\n",
       " 'https://www.halfbakedharvest.com/christmas-monster-cookies/',\n",
       " 'https://www.halfbakedharvest.com/chocolate-cinnamon-sugar-pull-apart-wreath/',\n",
       " 'https://www.halfbakedharvest.com/vanilla-burnt-basque-cheesecake/',\n",
       " 'https://www.halfbakedharvest.com/brown-sugar-maple-cookie-pie/',\n",
       " 'https://www.halfbakedharvest.com/white-chocolate-chai-pumpkin-snickerdoodles/',\n",
       " 'https://www.halfbakedharvest.com/mocha-pudding-pie/',\n",
       " 'https://www.halfbakedharvest.com/roly-poly-pumpkin-cookies/',\n",
       " 'https://www.halfbakedharvest.com/caramel-mocha-nutella-brownies/',\n",
       " 'https://www.halfbakedharvest.com/pretzel-snickers-chocolate-chip-cookie-bars/',\n",
       " 'https://www.halfbakedharvest.com/cinnamon-knots-with-coffee-icing/',\n",
       " 'https://www.halfbakedharvest.com/black-cat-pumpkin-cupcakes/',\n",
       " 'https://www.halfbakedharvest.com/cinnamon-pumpkin-butter-bread/',\n",
       " 'https://www.halfbakedharvest.com/chai-latte-cupcakes/',\n",
       " 'https://www.halfbakedharvest.com/tiramisu-cake/',\n",
       " 'https://www.halfbakedharvest.com/banana-bread-mug-cake/',\n",
       " 'https://www.halfbakedharvest.com/tahini-butter-chocolate-chip-cookies/',\n",
       " 'https://www.halfbakedharvest.com/christmas-mm-cookie-bars/',\n",
       " 'https://www.halfbakedharvest.com/chai-gingerbread-cookies/',\n",
       " 'https://www.halfbakedharvest.com/brown-butter-millionaires-bars/',\n",
       " 'https://www.halfbakedharvest.com/caramel-brulee-latte/',\n",
       " 'https://www.halfbakedharvest.com/chocolate-bourbon-pecan-pie-cupcakes-butter-pecan-frosting/',\n",
       " 'https://www.halfbakedharvest.com/bourbon-caramel-pretzel-cookies/',\n",
       " 'https://www.halfbakedharvest.com/molten-chocolate-crackle-pie/',\n",
       " 'https://www.halfbakedharvest.com/crinkly-caramel-stuffed-brownie-cookies/',\n",
       " 'https://www.halfbakedharvest.com/brown-sugar-maple-chocolate-pecan-pie-bars/',\n",
       " 'https://www.halfbakedharvest.com/chai-pumpkin-latte-cupcakes/',\n",
       " 'https://www.halfbakedharvest.com/mini-apple-cider-cakes/',\n",
       " 'https://www.halfbakedharvest.com/lemon-sugar-coconut-cream-pie/',\n",
       " 'https://www.halfbakedharvest.com/fudgy-chocolate-peanut-butter-ice-cream-pretzel-cake/',\n",
       " 'https://www.halfbakedharvest.com/healthy-dark-chocolate-chunk-oatmeal-cookie-bars-idiot-proof/',\n",
       " 'https://www.halfbakedharvest.com/dirty-horchata-tres-leches-cake/',\n",
       " 'https://www.halfbakedharvest.com/homemade-frosted-brown-sugar-cinnamon-pop-tarts/',\n",
       " 'https://www.halfbakedharvest.com/skillet-strawberry-bourbon-cobbler/',\n",
       " 'https://www.halfbakedharvest.com/homemade-chocolate-fudge-poptarts/',\n",
       " 'https://www.halfbakedharvest.com/blueberry-lemon-thyme-tarts/',\n",
       " 'https://www.halfbakedharvest.com/chocolate-peanut-butter-skillet-blondies/',\n",
       " 'https://www.halfbakedharvest.com/milk-chocolate-stuffed-peanut-butter-bunny-cookies/',\n",
       " 'https://www.halfbakedharvest.com/coconut-lime-tart/',\n",
       " 'https://www.halfbakedharvest.com/salted-cookie-crinkle-top-brownies/',\n",
       " 'https://www.halfbakedharvest.com/coconut-banana-cake/',\n",
       " 'https://www.halfbakedharvest.com/4-ingredient-chocolate-mousse/',\n",
       " 'https://www.halfbakedharvest.com/flourless-chocolate-espresso-cake/',\n",
       " 'https://www.halfbakedharvest.com/double-chocolate-chex-mix/',\n",
       " 'https://www.halfbakedharvest.com/cowboy-party-cookies/',\n",
       " 'https://www.halfbakedharvest.com/homemade-vegan-twix-bars/',\n",
       " 'https://www.halfbakedharvest.com/5-ingredient-tripple-decker-chocolate-peanut-butter-bars/',\n",
       " 'https://www.halfbakedharvest.com/white-christmas-cranberry-layer-cake/',\n",
       " 'https://www.halfbakedharvest.com/holly-jolly-santa-cookies/',\n",
       " 'https://www.halfbakedharvest.com/vanilla-wreath-cookies/',\n",
       " 'https://www.halfbakedharvest.com/2019-holiday-cookie-box/',\n",
       " 'https://www.halfbakedharvest.com/creamy-coconut-hot-chocolate/',\n",
       " 'https://www.halfbakedharvest.com/gooey-chocolate-chip-cookie-pumpkin-pie/',\n",
       " 'https://www.halfbakedharvest.com/chai-spiced-maple-sugar-cookies/',\n",
       " 'https://www.halfbakedharvest.com/burnt-basque-pumpkin-spice-cheesecake/',\n",
       " 'https://www.halfbakedharvest.com/pumpkin-butter-chocolate-chip-cookies/',\n",
       " 'https://www.halfbakedharvest.com/monster-chocolate-covered-pretzels-brownies/',\n",
       " 'https://www.halfbakedharvest.com/cream-cheese-swirled-pumpkin-banana-bread/',\n",
       " 'https://www.halfbakedharvest.com/chai-spiced-apple-ricotta-galette/',\n",
       " 'https://www.halfbakedharvest.com/chocolate-peanut-butter-pretzel-blondies/',\n",
       " 'https://www.halfbakedharvest.com/healthier-banoffee-pie/',\n",
       " 'https://www.halfbakedharvest.com/brown-butter-rice-krispie-treats/',\n",
       " 'https://www.halfbakedharvest.com/skillet-brown-sugar-peach-cobbler/',\n",
       " 'https://www.halfbakedharvest.com/healthy-coconut-tart/',\n",
       " 'https://www.halfbakedharvest.com/zucchini-chocolate-chunk-coconut-bread/',\n",
       " 'https://www.halfbakedharvest.com/peaches-and-cream-pretzel-pie/',\n",
       " 'https://www.halfbakedharvest.com/simple-blueberry-basque-cheesecake/',\n",
       " 'https://www.halfbakedharvest.com/blackberry-lavender-cobbler/',\n",
       " 'https://www.halfbakedharvest.com/creme-fraiche-chocolate-chunk-cookie-bars/',\n",
       " 'https://www.halfbakedharvest.com/cherry-strawberry-streusel-cake/',\n",
       " 'https://www.halfbakedharvest.com/buttery-cherry-berry-skillet-crisp/',\n",
       " 'https://www.halfbakedharvest.com/no-bake-eton-mess-berry-cheesecake/',\n",
       " 'https://www.halfbakedharvest.com/homemade-animal-crackers/',\n",
       " 'https://www.halfbakedharvest.com/nonnies-6-ingredient-chocolate-peanut-butter-ice-cream-cake/',\n",
       " 'https://www.halfbakedharvest.com/bursting-blueberry-lemon-layer-cake/',\n",
       " 'https://www.halfbakedharvest.com/strawberry-glazed-chai-doughnuts/',\n",
       " 'https://www.halfbakedharvest.com/jammy-strawberry-galette/',\n",
       " 'https://www.halfbakedharvest.com/vanilla-mocha-hot-cocoa/',\n",
       " 'https://www.halfbakedharvest.com/salted-chocolate-coconut-bars/',\n",
       " 'https://www.halfbakedharvest.com/pecan-pie-cookies-with-butter-pecan-frosting/',\n",
       " 'https://www.halfbakedharvest.com/pumpkin-ginger-bread/',\n",
       " 'https://www.halfbakedharvest.com/chai-pumpkin-cake/',\n",
       " 'https://www.halfbakedharvest.com/maple-pecan-sticky-buns/',\n",
       " 'https://www.halfbakedharvest.com/monster-oatmeal-chocolate-chip-cookie-bars/',\n",
       " 'https://www.halfbakedharvest.com/milk-chocolate-stuffed-jack-o-lantern-cookies/',\n",
       " 'https://www.halfbakedharvest.com/apple-butter-bars/',\n",
       " 'https://www.halfbakedharvest.com/chocolate-vanilla-birthday-cake/',\n",
       " 'https://www.halfbakedharvest.com/chocolate-chip-peanut-butter-swirled-cookie-bars/',\n",
       " 'https://www.halfbakedharvest.com/peach-ricotta-layer-cake/',\n",
       " 'https://www.halfbakedharvest.com/blackberry-ruffled-milk-pie/',\n",
       " 'https://www.halfbakedharvest.com/6-ingredient-no-bake-chocolate-chip-cookies/',\n",
       " 'https://www.halfbakedharvest.com/raspberry-crumble-bars/',\n",
       " 'https://www.halfbakedharvest.com/easy-chocolate-heart-doughnuts/',\n",
       " 'https://www.halfbakedharvest.com/browned-butter-sugar-cookie-bars-with-white-chocolate-frosting/',\n",
       " 'https://www.halfbakedharvest.com/one-bowl-chocolate-sheet-cake-with-milk-chocolate-fudge-frosting/',\n",
       " 'https://www.halfbakedharvest.com/chewy-chocolate-chip-cookie-granola/',\n",
       " 'https://www.halfbakedharvest.com/vegan-chocolate-custard-cake/',\n",
       " 'https://www.halfbakedharvest.com/5-ingredient-chocolate-dipped-peanut-butter-cookies/',\n",
       " 'https://www.halfbakedharvest.com/vegan-whole-wheat-chocolate-chip-banana-bread-muffins/',\n",
       " 'https://www.halfbakedharvest.com/dark-chocolate-covered-coconut-bars/',\n",
       " 'https://www.halfbakedharvest.com/eggnog-frosted-chai-snickerdoodle-snowmen/',\n",
       " 'https://www.halfbakedharvest.com/salted-milk-chocolate-and-peanut-butter-blondies/',\n",
       " 'https://www.halfbakedharvest.com/sugar-cookie-chocolate-creme-brulee/',\n",
       " 'https://www.halfbakedharvest.com/chai-pumpkin-pie-with-maple-whipped-cream/',\n",
       " 'https://www.halfbakedharvest.com/spooky-halloween-pretzels/',\n",
       " 'https://www.halfbakedharvest.com/cinnamon-spiced-sugar-cookies-with-browned-butter-frosting/',\n",
       " 'https://www.halfbakedharvest.com/mulled-apple-cider-chai-french-crullers/',\n",
       " 'https://www.halfbakedharvest.com/the-best-chocolate-birthday-cupcakes-with-fudgy-chocolate-buttercream/',\n",
       " 'https://www.halfbakedharvest.com/giant-chocolate-chip-cookies/',\n",
       " 'https://www.halfbakedharvest.com/vanilla-glazed-blackberry-peach-coffee-cake/',\n",
       " 'https://www.halfbakedharvest.com/6-ingredient-chocolate-coffee-nice-cream/',\n",
       " 'https://www.halfbakedharvest.com/brown-sugar-oatmeal-cookie-cookie-dough-ice-cream-sandwiches/',\n",
       " 'https://www.halfbakedharvest.com/maple-fig-tarte-tatin/',\n",
       " 'https://www.halfbakedharvest.com/mixed-berry-almond-croissants/',\n",
       " 'https://www.halfbakedharvest.com/mulled-cherry-bomb-pie/',\n",
       " 'https://www.halfbakedharvest.com/my-favorite-buttermilk-pie-crust/',\n",
       " 'https://www.halfbakedharvest.com/triple-layer-roasted-berry-pinata-ice-cream-cake/',\n",
       " 'https://www.halfbakedharvest.com/easiest-raspberry-shortcake-ricotta-ice-cream/',\n",
       " 'https://www.halfbakedharvest.com/salty-peanut-butter-smore-ice-cream-cake-video/',\n",
       " 'https://www.halfbakedharvest.com/strawberry-cornmeal-cake-with-buttermilk-glaze/',\n",
       " 'https://www.halfbakedharvest.com/frozen-peanut-butter-cup-pie/',\n",
       " 'https://www.halfbakedharvest.com/rainbow-frozen-yogurt-pops/',\n",
       " 'https://www.halfbakedharvest.com/moroccan-chocolate-almond-phyllo-cake-snake-cake/',\n",
       " 'https://www.halfbakedharvest.com/pistachio-rose-rice-pudding/',\n",
       " 'https://www.halfbakedharvest.com/nonnies-kentucky-derby-pie/',\n",
       " 'https://www.halfbakedharvest.com/peanut-butter-swirled-chocolate-fudge-popsicles/',\n",
       " 'https://www.halfbakedharvest.com/strawberry-coconut-carrot-cake-with-mascarpone-buttercream/',\n",
       " 'https://www.halfbakedharvest.com/pistachio-butter-cookies-with-chocolate-tres-leches-drizzle/',\n",
       " 'https://www.halfbakedharvest.com/raw-chocolate-banana-cashew-cream-pie-bars/',\n",
       " 'https://www.halfbakedharvest.com/one-bowl-8-ingredient-irish-coffee-fudge-brownies/',\n",
       " 'https://www.halfbakedharvest.com/meyer-lemon-chamomile-suzette-crepes-with-greek-yogurt/',\n",
       " 'https://www.halfbakedharvest.com/soft-and-fluffy-cream-cheese-sugar-cookies/',\n",
       " 'https://www.halfbakedharvest.com/winter-bliss-balls/',\n",
       " 'https://www.halfbakedharvest.com/nourishing-7-ingredient-chocolate-chip-ricotta-banana-bread/',\n",
       " 'https://www.halfbakedharvest.com/pistachio-mint-chip-ice-cream/',\n",
       " 'https://www.halfbakedharvest.com/tres-leches-coconut-and-chocolate-fudge-ice-cream-tacos-with-banana-peanut-salsa/',\n",
       " 'https://www.halfbakedharvest.com/7-layer-dulce-de-leche-oatmeal-chocolate-chip-bars/',\n",
       " 'https://www.halfbakedharvest.com/lavender-honey-and-raspberry-rhubarb-galette/',\n",
       " 'https://www.halfbakedharvest.com/chocolate-peanut-butter-bubble-panna-cotta-with-honey-roasted-peanuts/',\n",
       " 'https://www.halfbakedharvest.com/chocolate-dipped-coconut-tres-leches-cronuts/',\n",
       " 'https://www.halfbakedharvest.com/drunken-sunken-irish-coffee-chocolate-cake-with-salted-baileys-cream/',\n",
       " 'https://www.halfbakedharvest.com/double-chocolate-brownie-irish-car-bomb-cheesecakes/',\n",
       " 'https://www.halfbakedharvest.com/an-irish-mans-whiskey-mocha-chocolate-mousse/',\n",
       " 'https://www.halfbakedharvest.com/chocolate-covered-toasted-sesame-fortune-cookies/',\n",
       " 'https://www.halfbakedharvest.com/coconut-honey-crepes-whipped-mascarpone-blood-orange-compote/',\n",
       " 'https://www.halfbakedharvest.com/dark-chocolate-avocado-mousse-coconut-caramelized-bananas/',\n",
       " 'https://www.halfbakedharvest.com/months-worth-healthier-football-food-life-talk/',\n",
       " 'https://www.halfbakedharvest.com/mexican-beer-spiked-churros-chocolate-dulce-de-leche/',\n",
       " 'https://www.halfbakedharvest.com/salted-chocolate-chip-cookie-baklava/',\n",
       " 'https://www.halfbakedharvest.com/best-ever-hot-chocolate-french-toast/',\n",
       " 'https://www.halfbakedharvest.com/sugar-cookie-hot-cocoa-cupcakes/',\n",
       " 'https://www.halfbakedharvest.com/homemade-holiday-gifts-easy-double-chocolate-vanilla-bean-hot-cocoa-mugs-marshmallows/',\n",
       " 'https://www.halfbakedharvest.com/toasted-coconut-cream-rum-chocolate-mousse-crepe-cake/',\n",
       " 'https://www.halfbakedharvest.com/giant-vanilla-salted-butterscotch-sticky-buns/',\n",
       " 'https://www.halfbakedharvest.com/easy-jalapeno-popper-chicken-chili-cheddar-polenta-pot-pies/',\n",
       " 'https://www.halfbakedharvest.com/cinnamon-brioche-chocolate-chip-french-toast-muffins-coconut-streusel/',\n",
       " 'https://www.halfbakedharvest.com/oatmeal-chocolate-chunk-salted-coffee-caramel-apple-skillet-cookie/',\n",
       " 'https://www.halfbakedharvest.com/giant-chocolate-chip-cookie-cookie-dough-peanut-butter-cups/',\n",
       " 'https://www.halfbakedharvest.com/deseed-pomegranate-pictures/',\n",
       " 'https://www.halfbakedharvest.com/chocolate-lovers-pumpkin-fudge-brownie-pancakes-chocolate-kahlua-sauce/',\n",
       " 'https://www.halfbakedharvest.com/apple-maple-ricotta-munchkins/',\n",
       " 'https://www.halfbakedharvest.com/chocolate-peanut-butter-bark/',\n",
       " 'https://www.halfbakedharvest.com/pumpkin-cream-cheese-muffins/',\n",
       " 'https://www.halfbakedharvest.com/easy-apple-fritters/',\n",
       " 'https://www.halfbakedharvest.com/glazed-peanut-butter-bars/',\n",
       " 'https://www.halfbakedharvest.com/monster-crunchies/',\n",
       " 'https://www.halfbakedharvest.com/ice-cream-stuffed-dates/',\n",
       " 'https://www.halfbakedharvest.com/double-chocolate-chip-zucchini-bread/',\n",
       " 'https://www.halfbakedharvest.com/strawberry-tiramisu/',\n",
       " 'https://www.halfbakedharvest.com/blackberry-lavender-ice-cream-sandwiches/',\n",
       " 'https://www.halfbakedharvest.com/maple-glazed-doughnuts/',\n",
       " 'https://www.halfbakedharvest.com/espresso-chocolate-mousse/',\n",
       " 'https://www.halfbakedharvest.com/brown-butter-glazed-peanut-butter-blondies/',\n",
       " 'https://www.halfbakedharvest.com/double-strawberry-cupcakes/',\n",
       " 'https://www.halfbakedharvest.com/swirled-caramel-sheet-cake/',\n",
       " 'https://www.halfbakedharvest.com/chewy-chocolate-peanut-butter-bars/',\n",
       " 'https://www.halfbakedharvest.com/baked-chocolate-fudge-glazed-doughnuts/',\n",
       " 'https://www.halfbakedharvest.com/iced-lemon-loaf/',\n",
       " 'https://www.halfbakedharvest.com/chocolate-sheet-cake/',\n",
       " 'https://www.halfbakedharvest.com/chocolate-peanut-butter-oatmeal-bars/',\n",
       " 'https://www.halfbakedharvest.com/almond-butter-cookies/',\n",
       " 'https://www.halfbakedharvest.com/lemon-chai-cake/',\n",
       " 'https://www.halfbakedharvest.com/peanut-butter-twix-bars/',\n",
       " 'https://www.halfbakedharvest.com/baked-blueberry-cinnamon-sugar-doughnuts/',\n",
       " 'https://www.halfbakedharvest.com/oatmeal-chocolate-chip-cookie-cereal/',\n",
       " 'https://www.halfbakedharvest.com/chocolate-fudge-skillet-cake/',\n",
       " 'https://www.halfbakedharvest.com/brown-butter-bourbon-pecan-chocolate-chunk-cookies/',\n",
       " 'https://www.halfbakedharvest.com/old-fashioned-chocolate-cream-pie/',\n",
       " 'https://www.halfbakedharvest.com/molten-chocolate-coffee-blondies/',\n",
       " 'https://www.halfbakedharvest.com/key-lime-pie-bars/',\n",
       " 'https://www.halfbakedharvest.com/5-minute-grilled-cinnamon-toast-with-chocolate/',\n",
       " 'https://www.halfbakedharvest.com/swirled-carrot-cake-cheesecake-bars/',\n",
       " 'https://www.halfbakedharvest.com/blueberry-lemon-poppy-seed-creme-cake/',\n",
       " 'https://www.halfbakedharvest.com/chocolate-peanut-butter-pie/',\n",
       " 'https://www.halfbakedharvest.com/lemon-sugar-burnt-basque-cheesecake/',\n",
       " 'https://www.halfbakedharvest.com/vanilla-earl-grey-creme-brulee/',\n",
       " 'https://www.halfbakedharvest.com/cinnamon-streusel-coffee-coffee-cake/',\n",
       " 'https://www.halfbakedharvest.com/caramel-butter-cake/',\n",
       " 'https://www.halfbakedharvest.com/earl-grey-blueberry-lemon-cake/',\n",
       " 'https://www.halfbakedharvest.com/brown-butter-malted-chocolate-chunk-cookies/',\n",
       " 'https://www.halfbakedharvest.com/strawberry-conversation-heart-cupcakes/',\n",
       " 'https://www.halfbakedharvest.com/salted-pretzel-magic-bars/',\n",
       " 'https://www.halfbakedharvest.com/6-ingredient-rice-krispie-treat-chocolate-ice-cream-sandwiches/',\n",
       " 'https://www.halfbakedharvest.com/blueberry-galette/',\n",
       " 'https://www.halfbakedharvest.com/cookie-ice-cream-sandwiches/',\n",
       " 'https://www.halfbakedharvest.com/no-bake-fruit-tart/',\n",
       " 'https://www.halfbakedharvest.com/chocolate-chip-skillet-cookie/',\n",
       " 'https://www.halfbakedharvest.com/tres-leches-cake/',\n",
       " 'https://www.halfbakedharvest.com/easy-cinnamon-churros-with-coffee-chocolate-sauce/',\n",
       " 'https://www.halfbakedharvest.com/hydrangea-flower-carrot-cake-cupcakes/',\n",
       " 'https://www.halfbakedharvest.com/strawberry-chamomile-naked-cake/',\n",
       " 'https://www.halfbakedharvest.com/6-ingredient-vegan-chocolate-chia-mousse/',\n",
       " 'https://www.halfbakedharvest.com/crinkle-top-brownies/',\n",
       " 'https://www.halfbakedharvest.com/strawberry-rhubarb-cobbler-honey-butter-biscuits/',\n",
       " 'https://www.halfbakedharvest.com/rocky-road-pudding-parfaits/',\n",
       " 'https://www.halfbakedharvest.com/banana-cream-pie-chocolate-peanuts/',\n",
       " 'https://www.halfbakedharvest.com/strawberry-rosehip-frozen-yogurt/',\n",
       " 'https://www.halfbakedharvest.com/fresh-fruit-fools-honey-butter-croissants/',\n",
       " 'https://www.halfbakedharvest.com/coconut-chocolate-chunk-cookies-video/',\n",
       " 'https://www.halfbakedharvest.com/coconut-banana-3-milk-cupcakes-with-nutella-buttercream/',\n",
       " 'https://www.halfbakedharvest.com/coconut-eton-mess-cake-whipped-ricotta-cream/',\n",
       " 'https://www.halfbakedharvest.com/coconut-carrot-cake-cheesecake/',\n",
       " 'https://www.halfbakedharvest.com/sweet-cuban-coconut-balls-with-melted-chocolate-coquito-acaramelado/',\n",
       " 'https://www.halfbakedharvest.com/double-chocolate-irish-tea-infused-oat-muffins/',\n",
       " 'https://www.halfbakedharvest.com/cheesecake-eggs-with-shortbread-soldiers/',\n",
       " 'https://www.halfbakedharvest.com/vegan-chocolate-cake-creamy-chocolate-almond-butter-buttercream/',\n",
       " 'https://www.halfbakedharvest.com/chocolate-dunked-salted-honey-nut-bars/',\n",
       " 'https://www.halfbakedharvest.com/superfood-hot-chocolate-with-honey-caramelized-brioche/',\n",
       " 'https://www.halfbakedharvest.com/secret-ingredient-peanut-butter-stuffed-chocolate-chip-skillet-cookie/',\n",
       " 'https://www.halfbakedharvest.com/banana-and-chocolate-chia-cream-pie-parfaits/',\n",
       " 'https://www.halfbakedharvest.com/chocolate-coconut-almond-bars/',\n",
       " 'https://www.halfbakedharvest.com/4-ingredient-dark-chocolate-covered-peanut-butter-stuffed-dates/',\n",
       " 'https://www.halfbakedharvest.com/addicting-4-ingredient-buttery-chocolate-covered-ritz-bark-akachristmas-crack/',\n",
       " 'https://www.halfbakedharvest.com/gingerbread-latte-salted-caramel-sugar-video/',\n",
       " 'https://www.halfbakedharvest.com/hot-chocolate-party-with-4-hot-cocoa-recipes/',\n",
       " 'https://www.halfbakedharvest.com/brown-sugar-peaches-cream-grilled-french-toast/',\n",
       " 'https://www.halfbakedharvest.com/hot-fudge-brownie-double-scooped-ice-cream-sundae-high-hat-cupcakes-cone/',\n",
       " 'https://www.halfbakedharvest.com/vanilla-bean-coconut-quinoa-pudding-honey-drizzled-raspberries/',\n",
       " 'https://www.halfbakedharvest.com/vanilla-bourbon-cherry-blueberry-pie/',\n",
       " 'https://www.halfbakedharvest.com/firecracker-berry-margarita-floats/',\n",
       " 'https://www.halfbakedharvest.com/coconut-raspberry-macarons-raspberry-rose-buttercream/',\n",
       " 'https://www.halfbakedharvest.com/vegan-deconstructed-boozy-mocha-drenched-grilled-banana-coconut-cream-pies/',\n",
       " 'https://www.halfbakedharvest.com/caramelized-strawberry-graham-cracker-crumble-ice-cream/',\n",
       " 'https://www.halfbakedharvest.com/triple-berry-kahlua-crisp-double-crumble/',\n",
       " 'https://www.halfbakedharvest.com/vegan-chocolate-fudge-popsicles/',\n",
       " 'https://www.halfbakedharvest.com/lemon-ricotta-cheese-stuffed-french-toast-crepes-vanilla-stewed-strawberries/',\n",
       " 'https://www.halfbakedharvest.com/churro-milkshakes-dulce-de-leche/',\n",
       " 'https://www.halfbakedharvest.com/angel-food-cupcakes-chocolate-whipped-coconut-frosting-crispy-phyllo-nest/',\n",
       " 'https://www.halfbakedharvest.com/banana-bread-chocolate-fudge-swirled-cheesecakes/',\n",
       " 'https://www.halfbakedharvest.com/tahini-hot-chocolate/',\n",
       " 'https://www.halfbakedharvest.com/fudgy-chocolate-peanut-butter-bars/',\n",
       " 'https://www.halfbakedharvest.com/lemon-ricotta-poppy-seed-cakes/',\n",
       " 'https://www.halfbakedharvest.com/blender-chocolate-peanut-butter-muffins/',\n",
       " 'https://www.halfbakedharvest.com/vanilla-chai-hot-chocolate/',\n",
       " 'https://www.halfbakedharvest.com/chocolate-peanut-butter-millionaire-bars/',\n",
       " 'https://www.halfbakedharvest.com/gingerbread-latte-cookies/',\n",
       " 'https://www.halfbakedharvest.com/frosted-cinnamon-swirl-snickerdoodles/',\n",
       " 'https://www.halfbakedharvest.com/caramel-snickerdoodle-pie/',\n",
       " 'https://www.halfbakedharvest.com/chocolate-bourbon-chai-latte-cupcakes/',\n",
       " 'https://www.halfbakedharvest.com/pumpkin-sugar-cookies/',\n",
       " 'https://www.halfbakedharvest.com/pumpkin-oatmeal-chocolate-chip-cookies/',\n",
       " 'https://www.halfbakedharvest.com/pumpkin-butter-bars/',\n",
       " 'https://www.halfbakedharvest.com/healthier-caramel-apples/',\n",
       " 'https://www.halfbakedharvest.com/chocolate-chip-espresso-oatmeal-cookies/',\n",
       " 'https://www.halfbakedharvest.com/giant-frosted-chocolate-fudge-pop-tart/',\n",
       " 'https://www.halfbakedharvest.com/vanilla-bean-olive-oil-ice-cream/',\n",
       " 'https://www.halfbakedharvest.com/brown-sugar-peach-cobbler/',\n",
       " 'https://www.halfbakedharvest.com/special-k-bars/',\n",
       " 'https://www.halfbakedharvest.com/strawberry-shortcake-ice-cream-bars/',\n",
       " 'https://www.halfbakedharvest.com/strawberry-jam-dutch-baby/',\n",
       " 'https://www.halfbakedharvest.com/lemon-coconut-naked-cake/',\n",
       " 'https://www.halfbakedharvest.com/strawberry-olive-oil-cake/',\n",
       " 'https://www.halfbakedharvest.com/vegan-gooey-chocolate-coconut-caramel-bars/',\n",
       " 'https://www.halfbakedharvest.com/giant-strawberries-n-cream-pop-tart/',\n",
       " 'https://www.halfbakedharvest.com/peanut-butter-chocolate-chunk-oatmeal-cookies/',\n",
       " 'https://www.halfbakedharvest.com/whipped-lemon-ricotta-cheesecake/',\n",
       " 'https://www.halfbakedharvest.com/lemon-rose-shortbread-cookies/',\n",
       " 'https://www.halfbakedharvest.com/chocolate-chunk-coconut-banana-bread/',\n",
       " 'https://www.halfbakedharvest.com/salted-caramel-and-milk-chocolate-brownies/',\n",
       " 'https://www.halfbakedharvest.com/gingerbread-cupcakes/',\n",
       " 'https://www.halfbakedharvest.com/2018-holiday-cookie-box/',\n",
       " 'https://www.halfbakedharvest.com/north-pole-cake/',\n",
       " 'https://www.halfbakedharvest.com/chai-spiced-santa-cookies/',\n",
       " 'https://www.halfbakedharvest.com/slice-n-bake-chocolate-covered-peanut-butter-cookies/',\n",
       " 'https://www.halfbakedharvest.com/vanilla-birthday-cake-with-whipped-chocolate-buttercream/',\n",
       " 'https://www.halfbakedharvest.com/buckeye-fudge-ice-cream/',\n",
       " 'https://www.halfbakedharvest.com/brown-sugar-caramel-oatmeal-cookie-peach-crisp/',\n",
       " 'https://www.halfbakedharvest.com/melon-lemonade-margarita-popsicles/',\n",
       " 'https://www.halfbakedharvest.com/blueberry-brie-cornbread-biscuits-honey-butter/',\n",
       " 'https://www.halfbakedharvest.com/creamy-coconut-almond-breakfast-pops/',\n",
       " 'https://www.halfbakedharvest.com/honey-strawberry-peach-pie/',\n",
       " 'https://www.halfbakedharvest.com/triple-layer-chocolate-fudge-ice-cream-cake/',\n",
       " 'https://www.halfbakedharvest.com/layered-caramel-buster-bars/',\n",
       " 'https://www.halfbakedharvest.com/no-bake-triple-decker-peanut-butter-smores-bars/',\n",
       " 'https://www.halfbakedharvest.com/salted-pretzel-nutella-cookie-ice-cream-sandwiches/',\n",
       " 'https://www.halfbakedharvest.com/chocolate-glazed-mochi-doughnuts/',\n",
       " 'https://www.halfbakedharvest.com/churro-waffless/',\n",
       " 'https://www.halfbakedharvest.com/mexican-samoas-cookies/',\n",
       " 'https://www.halfbakedharvest.com/baked-gingerbread-custard-waffle-french-toast/',\n",
       " 'https://www.halfbakedharvest.com/chocolate-hazelnut-and-caramel-stuffed-brownie-cookies/',\n",
       " 'https://www.halfbakedharvest.com/edible-christmas-gifts-in-jars/',\n",
       " 'https://www.halfbakedharvest.com/chocolate-covered-cinnamon-sugar-pretzels/',\n",
       " 'https://www.halfbakedharvest.com/slice-n-bake-vanilla-brown-butter-pecan-cookies-dipped-chocolate/',\n",
       " 'https://www.halfbakedharvest.com/sweet-potato-pie-cinnamon-rolls-with-butter-whipped-meringue-frosting/',\n",
       " 'https://www.halfbakedharvest.com/caramelized-condensed-milk-mini-apple-pies/',\n",
       " 'https://www.halfbakedharvest.com/easy-peanut-butter-cup-fudge-with-salted-bourbon-sugar/',\n",
       " 'https://www.halfbakedharvest.com/baked-buttermilk-pumpkin-doughnuts-with-hot-cocoa-glaze/',\n",
       " 'https://www.halfbakedharvest.com/caramelized-pear-and-hazelnut-crumble-tart/',\n",
       " 'https://www.halfbakedharvest.com/healthy-caramel-apples-six-ways/',\n",
       " 'https://www.halfbakedharvest.com/deathly-chocolate-graveyard-cakes-witches-beware/',\n",
       " 'https://www.halfbakedharvest.com/homemade-tim-tams/',\n",
       " 'https://www.halfbakedharvest.com/pumpkin-nutella-crepe-cake/',\n",
       " 'https://www.halfbakedharvest.com/easy-warm-swedish-caramel-apple-cheesecake/',\n",
       " 'https://www.halfbakedharvest.com/maple-glazed-apple-fritters/',\n",
       " 'https://www.halfbakedharvest.com/fall-harvest-peanut-picnic-a-family-hike/',\n",
       " 'https://www.halfbakedharvest.com/death-butterbeer-cupcakes-wtreacle-butter-frosting-chocolate-covered-pretzels/',\n",
       " 'https://www.halfbakedharvest.com/overnight-cider-pumpkin-waffles-wtoasted-pecan-butter-cider-syrup-spiced-apples/',\n",
       " 'https://www.halfbakedharvest.com/nutella-banana-tarte-tatin-cinnamon-sugar-roasted-pumpkin-seed-hazelnut-crunch/',\n",
       " 'https://www.halfbakedharvest.com/25-favorite-fall-recipes/',\n",
       " 'https://www.halfbakedharvest.com/brown-butter-caramelized-apple-crisp-bars-wpecan-streusel-mascarpone-maple-glaze/',\n",
       " 'https://www.halfbakedharvest.com/samoa-macaroon-tarts/',\n",
       " 'https://www.halfbakedharvest.com/magic-gooey-chocolate-meringue-texas-sheet-cake/',\n",
       " 'https://www.halfbakedharvest.com/caramelized-peach-whole-wheat-white-chocolate-oatmeal-skillet-cookie-pie/',\n",
       " 'https://www.halfbakedharvest.com/homemade-italian-ice-links-inspire/',\n",
       " 'https://www.halfbakedharvest.com/2-ingredient-strawberry-popsicles-links-inspire/',\n",
       " 'https://www.halfbakedharvest.com/healthier-chocolate-lovers-sweet-corn-hazelnut-crunch-chocolate-cake-wganache/',\n",
       " 'https://www.halfbakedharvest.com/sweet-balsamic-strawberries-wwhipped-ricotta-cream-maple-glazed-seeded-nuts/',\n",
       " 'https://www.halfbakedharvest.com/6-layer-3-coconut-covered-chocolate-peeps-cake/',\n",
       " 'https://www.halfbakedharvest.com/oatmeal-chocolate-chunk-cookie-peanut-butter-swirled-brownies/',\n",
       " 'https://www.halfbakedharvest.com/blueberry-vanilla-greek-yogurt-granola-bars/',\n",
       " 'https://www.halfbakedharvest.com/meringue-encased-chocolate-mousse-smore-cakes/',\n",
       " 'https://www.halfbakedharvest.com/mini-chocolate-stout-brownie-sundae-floats-burnt-irish-caramel-hot-fudge/',\n",
       " 'https://www.halfbakedharvest.com/beignets-tiramisu-chocolate-ganache/',\n",
       " 'https://www.halfbakedharvest.com/banoffee-nutella-greek-yogurt-waffle-cone-parfaits-cashew-caramel-popcorn/',\n",
       " 'https://www.halfbakedharvest.com/toasted-coconut-lemon-bread-salted-honey-butter/',\n",
       " 'https://www.halfbakedharvest.com/toasted-fluffernutters-cabernet-chocolate-fondue/',\n",
       " 'https://www.halfbakedharvest.com/sweet-banana-lumpia-milk-chocolate-toasted-coconut-butter/',\n",
       " 'https://www.halfbakedharvest.com/red-velvet-molten-chocolate-lava-cakes-chocolate-ganache-center/',\n",
       " 'https://www.halfbakedharvest.com/moms-simple-oatmeal-chocolate-chip-cookies-best-oatmeal-chocolate-chip-cookies-around/',\n",
       " 'https://www.halfbakedharvest.com/warm-chocolate-chip-cookie-stuffed-soft-pretzels/',\n",
       " 'https://www.halfbakedharvest.com/toasted-coconut-chocolate-chunk-roasted-banana-bread/',\n",
       " 'https://www.halfbakedharvest.com/chocolate-lovers-greek-yogurt-chocolate-mousse-cake/',\n",
       " 'https://www.halfbakedharvest.com/salted-caramel-chocolate-covered-pretzels/',\n",
       " 'https://www.halfbakedharvest.com/christmas-chocolate-chip-cookies/',\n",
       " 'https://www.halfbakedharvest.com/gingerbread-cake-with-caramel-cream-cheese-buttercream/',\n",
       " 'https://www.halfbakedharvest.com/chocolate-dipped-coconut-caramel-macaroons/',\n",
       " 'https://www.halfbakedharvest.com/christmas-cookie-decorating-kit/',\n",
       " 'https://www.halfbakedharvest.com/butter-pecan-frosted-fudge-brownies/',\n",
       " 'https://www.halfbakedharvest.com/pumpkin-chai-snickerdoodles/',\n",
       " 'https://www.halfbakedharvest.com/gooey-chocolate-chip-cookie-pie/',\n",
       " 'https://www.halfbakedharvest.com/nutella-stuffed-pumpkin-beignets/',\n",
       " 'https://www.halfbakedharvest.com/addicting-5-ingredient-crockpot-chocolate-bars/',\n",
       " 'https://www.halfbakedharvest.com/cream-cheese-swirled-brown-sugar-pumpkin-coffee-cake/',\n",
       " 'https://www.halfbakedharvest.com/cinnamon-apple-crumble-cake/',\n",
       " 'https://www.halfbakedharvest.com/forbidden-forest-chocolate-butterbeer-cake/',\n",
       " 'https://www.halfbakedharvest.com/mocha-caramel-crunch-chocolate-chip-cookie-bars/',\n",
       " 'https://www.halfbakedharvest.com/baked-salted-caramel-apple-cider-doughnuts/',\n",
       " 'https://www.halfbakedharvest.com/homemade-chocolate-peanut-butter-fudge-pop-tarts/',\n",
       " 'https://www.halfbakedharvest.com/brown-butter-plum-up-side-down-yogurt-cake-with-pistachios/',\n",
       " 'https://www.halfbakedharvest.com/chocolate-bourbon-caramel-macaron-cake-to-celebrate-my-little-kind-of-big-secret/',\n",
       " 'https://www.halfbakedharvest.com/chewy-cherry-almond-and-cacao-nib-granola-bars/',\n",
       " 'https://www.halfbakedharvest.com/baked-mixed-berry-coconut-cornbread-muffins/',\n",
       " 'https://www.halfbakedharvest.com/chocolate-chip-cookie-dough-infused-waffles-made-into-waffle-ice-cream-sammies/',\n",
       " 'https://www.halfbakedharvest.com/oatmeal-chocolate-chunk-cookie-stuffed-campfire-bananas/',\n",
       " 'https://www.halfbakedharvest.com/cherry-cobbler-with-honey-butter-vanilla-bean-biscuits-links/',\n",
       " 'https://www.halfbakedharvest.com/raspberry-nectarine-and-sweet-corn-clafoutis/',\n",
       " 'https://www.halfbakedharvest.com/strawberry-jelly-and-vanilla-cream-brioche-doughnuts-with-lilac-sugar/',\n",
       " 'https://www.halfbakedharvest.com/chocolate-dipped-peanut-butter-espresso-smore/',\n",
       " 'https://www.halfbakedharvest.com/cherry-and-goats-milk-coconut-mousse/',\n",
       " 'https://www.halfbakedharvest.com/sweet-blueberry-buttermilk-pies-with-chamomile-cream/',\n",
       " 'https://www.halfbakedharvest.com/salted-chocolate-dipped-banana-almond-pops-with-malted-coconut-honey/',\n",
       " 'https://www.halfbakedharvest.com/mini-vegan-no-bake-chocolate-mocha-fudge-and-coconut-tarts/',\n",
       " 'https://www.halfbakedharvest.com/ginger-hibiscus-and-minty-watermelon-popsicles/',\n",
       " 'https://www.halfbakedharvest.com/brooklyn-blackout-cake/',\n",
       " 'https://www.halfbakedharvest.com/deep-dark-rosy-red-velvet-cupcakes/',\n",
       " 'https://www.halfbakedharvest.com/best-peanut-butter-cup-fudge-brownies/',\n",
       " 'https://www.halfbakedharvest.com/chocolate-fudge-swirled-lemon-ricotta-tart/',\n",
       " 'https://www.halfbakedharvest.com/vanilla-cream-filled-cabernet-hot-chocolate-snowball-doughnuts/',\n",
       " 'https://www.halfbakedharvest.com/vanilla-chia-earl-grey-chocolate-banana-muffins/',\n",
       " 'https://www.halfbakedharvest.com/chocolate-truffle-martini-dulce-de-leche-rum-butter-truffles/',\n",
       " 'https://www.halfbakedharvest.com/eggnog-chocolate-marzipan-babka-french-toast/',\n",
       " 'https://www.halfbakedharvest.com/chocolate-candy-bar-baklava-butter-rum-sauce/',\n",
       " 'https://www.halfbakedharvest.com/chocolate-chip-cookie-bottomed-salted-rum-caramel-tart-toasted-marshmallow/',\n",
       " 'https://www.halfbakedharvest.com/triple-chocolate-truffle-cheesecake-cookies/',\n",
       " 'https://www.halfbakedharvest.com/easy-slice-n-bake-vanilla-bean-christmas-sugar-cookies-wwhipped-buttercream/',\n",
       " 'https://www.halfbakedharvest.com/idiot-proof-5-ingredient-puppy-chow-ritz-cracker-cookies/',\n",
       " 'https://www.halfbakedharvest.com/incredibly-gooey-collapsing-chocolate-bourbon-pecan-pie-custard-cake/',\n",
       " 'https://www.halfbakedharvest.com/chocolate-drizzled-buttery-pecan-caramelized-condensed-milk-cookies/',\n",
       " 'https://www.halfbakedharvest.com/warm-toasted-caramel-coconut-gooey-chocolate-crunch-bars/',\n",
       " 'https://www.halfbakedharvest.com/cinnamon-sugar-nutella-swirled-pumpkin-pie-pop-tarts/',\n",
       " 'https://www.halfbakedharvest.com/baked-apple-cider-doughnuts/',\n",
       " 'https://www.halfbakedharvest.com/vegan-double-chocolate-chunk-cookies/',\n",
       " 'https://www.halfbakedharvest.com/blackberry-lavender-sheet-cake/',\n",
       " 'https://www.halfbakedharvest.com/raspberry-peach-sherbet/',\n",
       " 'https://www.halfbakedharvest.com/frozen-chocolate-peanut-butter-cups/',\n",
       " 'https://www.halfbakedharvest.com/brown-sugar-peach-shortcakes/',\n",
       " 'https://www.halfbakedharvest.com/buster-bars/',\n",
       " 'https://www.halfbakedharvest.com/creamy-fruit-popsicles/',\n",
       " 'https://www.halfbakedharvest.com/blueberry-lavender-pie/',\n",
       " 'https://www.halfbakedharvest.com/smores-skillet-brownie/',\n",
       " 'https://www.halfbakedharvest.com/blackberry-peach-crisp/',\n",
       " 'https://www.halfbakedharvest.com/strawberry-and-cream-rye-pretzel-tart/',\n",
       " 'https://www.halfbakedharvest.com/cookies-n-cream-chocolate-chip-cookies/',\n",
       " 'https://www.halfbakedharvest.com/peanut-butter-mocha-oreo-ice-cream-sandwiches/',\n",
       " 'https://www.halfbakedharvest.com/double-stuffed-pumpkin-pie-oreos/',\n",
       " 'https://www.halfbakedharvest.com/vegan-gooey-chocolate-doughnuts-giveaway/',\n",
       " 'https://www.halfbakedharvest.com/chocolate-chip-pumpkin-cinnamon-roll-dutch-baby/',\n",
       " 'https://www.halfbakedharvest.com/salted-pretzel-chocolate-chip-cookie-dough-snickers-bars/',\n",
       " 'https://www.halfbakedharvest.com/peanut-butter-cup-cookies-cream-salted-caramel-popcorn-bars/',\n",
       " 'https://www.halfbakedharvest.com/homemade-croissants-step-step-photos/',\n",
       " 'https://www.halfbakedharvest.com/ultimate-triple-layer-chocolate-bourbon-peanut-butter-buckeye-cake/',\n",
       " 'https://www.halfbakedharvest.com/whole-wheat-chocolate-chip-pumpkin-cookie-bars/',\n",
       " 'https://www.halfbakedharvest.com/brown-butter-vanilla-bean-nutella-swirled-rice-krispie-treats/',\n",
       " 'https://www.halfbakedharvest.com/chocolate-chip-banana-fluffernutter-sandwich-cookies/',\n",
       " 'https://www.halfbakedharvest.com/chocolate-lovers-triple-layer-coffee-caramel-chocolate-mousse-cakes/',\n",
       " 'https://www.halfbakedharvest.com/jalapeno-cheddar-cornbread-pancakes-with-roasted-blueberry-honey-syrup/',\n",
       " 'https://www.halfbakedharvest.com/honey-toasted-hazelnut-chocolate-chunk-cupcakes-with-boozy-honey-buttercream-frosting/',\n",
       " 'https://www.halfbakedharvest.com/coconut-banana-cream-chocolate-truffle-pie/',\n",
       " 'https://www.halfbakedharvest.com/chocolate-chip-stuffed-cinnamon-roll-ice-cream-with-vanilla-bean-brown-butter-sauce/',\n",
       " 'https://www.halfbakedharvest.com/chocolate-dipped-homemade-peanut-butter-oreo-mocha-ice-cream-sandwiches/',\n",
       " 'https://www.halfbakedharvest.com/brown-sugar-maple-cookies/',\n",
       " 'https://www.halfbakedharvest.com/salted-pretzel-chocolate-chip-cookie-snickers-bars/',\n",
       " 'https://www.halfbakedharvest.com/cinnamon-spiced-apple-fritters/',\n",
       " 'https://www.halfbakedharvest.com/chocolate-peanut-butter-bars/',\n",
       " 'https://www.halfbakedharvest.com/skillet-cinnamon-sugar-peach-upside-down-cake/',\n",
       " 'https://www.halfbakedharvest.com/cinnamon-sugar-blueberry-crumb-bars/',\n",
       " 'https://www.halfbakedharvest.com/strawberry-chamomile-cheesecake/',\n",
       " 'https://www.halfbakedharvest.com/chocolate-chunk-almond-butter-zucchini-bread/',\n",
       " 'https://www.halfbakedharvest.com/malted-milk-cookies-n-cream-ice-cream-sandwiches/',\n",
       " 'https://www.halfbakedharvest.com/key-lime-pie/',\n",
       " 'https://www.halfbakedharvest.com/raspberry-cream-pretzel-hand-pies/',\n",
       " 'https://www.halfbakedharvest.com/lavender-lemon-sugar-cookies/',\n",
       " 'https://www.halfbakedharvest.com/skillet-blueberry-bourbon-pandowdy/',\n",
       " 'https://www.halfbakedharvest.com/buckeye-crunch-bars/',\n",
       " 'https://www.halfbakedharvest.com/hot-fudge-cookies/',\n",
       " 'https://www.halfbakedharvest.com/cinnamon-sugar-peach-cobbler/']"
      ]
     },
     "execution_count": 36,
     "metadata": {},
     "output_type": "execute_result"
    }
   ],
   "source": [
    "failed_url"
   ]
  },
  {
   "cell_type": "code",
   "execution_count": null,
   "id": "05734891",
   "metadata": {},
   "outputs": [],
   "source": []
  },
  {
   "cell_type": "markdown",
   "id": "1607b7d2",
   "metadata": {},
   "source": [
    "# Extract Information of all recipes"
   ]
  },
  {
   "cell_type": "code",
   "execution_count": null,
   "id": "fb1dc3f6",
   "metadata": {},
   "outputs": [],
   "source": [
    "failed_url = []"
   ]
  },
  {
   "cell_type": "code",
   "execution_count": 37,
   "id": "5230da34",
   "metadata": {},
   "outputs": [],
   "source": [
    "# Empty Dataframe\n",
    "columns = [\n",
    "    'title',\n",
    "    'prep_time',\n",
    "    'cook_time',\n",
    "    'total_time',\n",
    "    'ingredients',\n",
    "    'ingredients with measurement',\n",
    "    'instructions',\n",
    "    'calories',\n",
    "    'servings',\n",
    "    'images'\n",
    "]"
   ]
  },
  {
   "cell_type": "code",
   "execution_count": 38,
   "id": "0aedaaab",
   "metadata": {},
   "outputs": [
    {
     "data": {
      "text/html": [
       "<div>\n",
       "<style scoped>\n",
       "    .dataframe tbody tr th:only-of-type {\n",
       "        vertical-align: middle;\n",
       "    }\n",
       "\n",
       "    .dataframe tbody tr th {\n",
       "        vertical-align: top;\n",
       "    }\n",
       "\n",
       "    .dataframe thead th {\n",
       "        text-align: right;\n",
       "    }\n",
       "</style>\n",
       "<table border=\"1\" class=\"dataframe\">\n",
       "  <thead>\n",
       "    <tr style=\"text-align: right;\">\n",
       "      <th></th>\n",
       "      <th>title</th>\n",
       "      <th>prep_time</th>\n",
       "      <th>cook_time</th>\n",
       "      <th>total_time</th>\n",
       "      <th>ingredients</th>\n",
       "      <th>ingredients with measurement</th>\n",
       "      <th>instructions</th>\n",
       "      <th>calories</th>\n",
       "      <th>servings</th>\n",
       "      <th>images</th>\n",
       "    </tr>\n",
       "  </thead>\n",
       "  <tbody>\n",
       "  </tbody>\n",
       "</table>\n",
       "</div>"
      ],
      "text/plain": [
       "Empty DataFrame\n",
       "Columns: [title, prep_time, cook_time, total_time, ingredients, ingredients with measurement, instructions, calories, servings, images]\n",
       "Index: []"
      ]
     },
     "execution_count": 38,
     "metadata": {},
     "output_type": "execute_result"
    }
   ],
   "source": [
    "final = pd.DataFrame(columns=columns)\n",
    "final"
   ]
  },
  {
   "cell_type": "markdown",
   "id": "203deee8",
   "metadata": {},
   "source": [
    "# Extract Function"
   ]
  },
  {
   "cell_type": "code",
   "execution_count": 39,
   "id": "5fc26b8c",
   "metadata": {},
   "outputs": [],
   "source": [
    "def extract(soup):\n",
    "    try:\n",
    "        # TITLE\n",
    "        h2_tag = soup.find('h2', class_='wprm-recipe-name')  # Replaced temp_soup with soup\n",
    "        if h2_tag:\n",
    "            title.append(h2_tag.text.strip())\n",
    "        else:\n",
    "            title.append('-')\n",
    "\n",
    "        # PREP TIME\n",
    "        prep_time_elem = soup.find(class_='wprm-recipe-prep-time-container')  # Replaced temp_soup with soup\n",
    "        if prep_time_elem:\n",
    "            time_dict = {}\n",
    "            hours_tag = prep_time_elem.find('span', class_='wprm-recipe-prep_time-hours')\n",
    "            minutes_tag = prep_time_elem.find('span', class_='wprm-recipe-prep_time-minutes')\n",
    "\n",
    "            if hours_tag:\n",
    "                hours_text = hours_tag.text.strip() if hours_tag else None\n",
    "                hours_value = re.sub(r'\\D', '', hours_text) if hours_text else None\n",
    "                time_dict['hours'] = hours_value\n",
    "            if minutes_tag:\n",
    "                minutes_text = minutes_tag.text.strip() if minutes_tag else None\n",
    "                minutes_value = re.sub(r'\\D', '', minutes_text) if minutes_text else None\n",
    "                time_dict['minutes'] = minutes_value\n",
    "            prep_time.append(time_dict) \n",
    "        else:\n",
    "            prep_time.append('-')\n",
    "\n",
    "        # COOK TIME\n",
    "        cook_time_elem = soup.find(class_='wprm-recipe-cook-time-container')  # Replaced temp_soup with soup\n",
    "        if cook_time_elem:\n",
    "            time_dict = {}\n",
    "            hours_tag = cook_time_elem.find('span', class_='wprm-recipe-cook_time-hours')\n",
    "            minutes_tag = cook_time_elem.find('span', class_='wprm-recipe-cook_time-minutes')\n",
    "\n",
    "            if hours_tag:\n",
    "                hours_text = hours_tag.text.strip() if hours_tag else None\n",
    "                hours_value = re.sub(r'\\D', '', hours_text) if hours_text else None\n",
    "                time_dict['hours'] = hours_value\n",
    "            if minutes_tag:\n",
    "                minutes_text = minutes_tag.text.strip() if minutes_tag else None\n",
    "                minutes_value = re.sub(r'\\D', '', minutes_text) if minutes_text else None\n",
    "                time_dict['minutes'] = minutes_value\n",
    "\n",
    "            cook_time.append(time_dict) \n",
    "        else:\n",
    "            cook_time.append('-')\n",
    "\n",
    "        # TOTAL TIME\n",
    "        total_time_elem = soup.find(class_='wprm-recipe-total-time-container')  # Replaced temp_soup with soup\n",
    "        if total_time_elem:\n",
    "            time_dict = {}\n",
    "            hours_tag = total_time_elem.find('span', class_='wprm-recipe-total_time-hours')\n",
    "            minutes_tag = total_time_elem.find('span', class_='wprm-recipe-total_time-minutes')\n",
    "\n",
    "            if hours_tag:\n",
    "                hours_text = hours_tag.text.strip() if hours_tag else None\n",
    "                hours_value = re.sub(r'\\D', '', hours_text) if hours_text else None\n",
    "                time_dict['hours'] = hours_value\n",
    "            if minutes_tag:\n",
    "                minutes_text = minutes_tag.text.strip() if minutes_tag else None\n",
    "                minutes_value = re.sub(r'\\D', '', minutes_text) if minutes_text else None\n",
    "                time_dict['minutes'] = minutes_value\n",
    "            total_time.append(time_dict) \n",
    "        else:\n",
    "            total_time.append('-')\n",
    "\n",
    "        # INGREDIENTS\n",
    "        ingr_list = soup.find_all('li', class_='wprm-recipe-ingredient')  # Replaced temp_soup with soup\n",
    "        if ingr_list:\n",
    "            ingredient_dict = {}\n",
    "            ingredients_recipe = []\n",
    "            for ingr in ingr_list:\n",
    "                ingr_amount_elem = ingr.find(class_='wprm-recipe-ingredient-amount')\n",
    "                ingr_amount = ingr_amount_elem.text.strip() if ingr_amount_elem else None\n",
    "                ingr_name_elem = ingr.find(class_='wprm-recipe-ingredient-name')\n",
    "                ingr_name = ingr_name_elem.text.strip() if ingr_name_elem else None\n",
    "                ingredient_dict[ingr_name] = ingr_amount if ingr_amount else \"seasoning\"\n",
    "                ingredients_recipe.append(ingr_name)\n",
    "            ingredients_measurment.append(ingredient_dict)\n",
    "            ingredients.append(ingredients_recipe)\n",
    "        else:\n",
    "            ingredients_measurment.append('-')\n",
    "            ingredients.append('-')\n",
    "\n",
    "        # INSTRUCTIONS\n",
    "        recipe_instr = soup.find(class_='wprm-recipe-instruction-group')  # Replaced temp_soup with soup\n",
    "        if recipe_instr:\n",
    "            recipe_steps = []\n",
    "            steps = recipe_instr.find_all(\"span\", attrs={\"class\": None})\n",
    "            for step in steps:\n",
    "                recipe_steps.append(step.text.strip())\n",
    "            instructions.append(recipe_steps)\n",
    "        else:\n",
    "            instructions.append('-')\n",
    "\n",
    "        # SERVINGS\n",
    "        serving_div = soup.find('span', class_='wprm-recipe-servings')  # Replaced temp_soup with soup\n",
    "        if serving_div:\n",
    "            servings.append(serving_div.text.strip())\n",
    "        else:\n",
    "            servings.append('-')\n",
    "\n",
    "        # CALORIES\n",
    "        calorie_div = soup.find('span',class_='wprm-recipe-nutrition-with-unit')  # Replaced temp_soup with soup\n",
    "        if calorie_div:\n",
    "            calories.append(calorie_div.text.strip())\n",
    "        else:\n",
    "            calories.append('-')\n",
    "\n",
    "        # IMAGES\n",
    "        images.append('-')\n",
    "        img_div = soup.find(class_='entry-content')\n",
    "        img_tags = img_div.find_all('img')\n",
    "        jpg_links = [img['src'] for img in img_tags if img['src'].endswith('.jpg')]\n",
    "        if len(jpg_links) >= 2:\n",
    "            second_jpg_link = jpg_links[1]\n",
    "            images[-1] = second_jpg_link\n",
    "\n",
    "    except requests.exceptions.RequestException as e:\n",
    "        print(f\"Failed to fetch the page: {e}\")\n",
    "        failed_url.append(url)  # Append failed URL to list\n"
   ]
  },
  {
   "cell_type": "markdown",
   "id": "f02d31b8",
   "metadata": {},
   "source": [
    "### Recipes 0-24"
   ]
  },
  {
   "cell_type": "code",
   "execution_count": null,
   "id": "583cee40",
   "metadata": {
    "scrolled": true
   },
   "outputs": [],
   "source": [
    "# Read proxies from the file and create a cycle iterator\n",
    "with open('proxies.txt', 'r') as f:\n",
    "    proxies = [line.strip() for line in f if line.strip()]\n",
    "\n",
    "# Check if proxies are being read correctly\n",
    "if not proxies:\n",
    "    print(\"No valid proxies found in proxies.txt\")\n",
    "else:\n",
    "    print(f\"Proxies loaded: {proxies}\")\n",
    "\n",
    "proxy_cycle = itertools.cycle(proxies)\n",
    "\n",
    "# Initialize an empty DataFrame to store results\n",
    "temp_recipes_1 = pd.DataFrame(columns=columns)\n",
    "title = []\n",
    "prep_time = []\n",
    "cook_time = []\n",
    "total_time = []\n",
    "\n",
    "ingredients_measurment = []\n",
    "ingredients = []\n",
    "instructions = []\n",
    "\n",
    "calories = []\n",
    "servings = []\n",
    "images = []\n",
    "\n",
    "# Loop over the desired number of pages\n",
    "for i in range(0, 25):\n",
    "    proxy = next(proxy_cycle)\n",
    "\n",
    "    # Set up request with proxy\n",
    "    headers = {'User-Agent': 'Mozilla/5.0 (Windows NT 6.3; Win64; x64) AppleWebKit/537.36 (KHTML, like Gecko) Chrome/80.0.3987.162 Safari/537.36'}\n",
    "    url = all_recipes_url[i]\n",
    "    proxy_dict = {'http': proxy, 'https': proxy}\n",
    "\n",
    "    try:\n",
    "        response = requests.get(url, headers=headers, proxies=proxy_dict, timeout=30)\n",
    "        \n",
    "        # Check if the request was successful\n",
    "        if response.status_code == 200:\n",
    "            soup = BeautifulSoup(response.content, 'html.parser')\n",
    "            extract(soup)\n",
    "            print(f\"Successfully retrieved {i} - {url} with proxy {proxy}\")\n",
    "        else:\n",
    "            failed_url.append(url)\n",
    "            print(f\"Failed to retrieve page {url} with proxy {proxy}. Status code: {response.status_code}\")\n",
    "    except (requests.ConnectionError, requests.Timeout) as e:\n",
    "        failed_url.append(url)\n",
    "        print(f\"Proxy {proxy} failed for {url}: {e}\")\n",
    "    except ChunkedEncodingError as e:  # Handle ChunkedEncodingError\n",
    "        failed_url.append(url)\n",
    "        print(f\"ChunkedEncodingError occurred for proxy {proxy} and {url}: {e}\")\n",
    "        continue  # Move to the next page\n",
    "\n",
    "\n",
    "\n",
    "temp_recipes_1['title'] = title\n",
    "temp_recipes_1['prep_time'] = prep_time\n",
    "temp_recipes_1['cook_time'] = cook_time\n",
    "temp_recipes_1['total_time'] = total_time\n",
    "temp_recipes_1['ingredients'] = ingredients\n",
    "temp_recipes_1['ingredients with measurement'] = ingredients_measurment\n",
    "temp_recipes_1['instructions'] = instructions\n",
    "temp_recipes_1['calories'] = calories\n",
    "temp_recipes_1['servings'] = servings\n",
    "temp_recipes_1['images']= images\n",
    "\n",
    "\n",
    "\n",
    "    "
   ]
  },
  {
   "cell_type": "code",
   "execution_count": null,
   "id": "47437d82",
   "metadata": {},
   "outputs": [],
   "source": [
    "print(len(failed_url))"
   ]
  },
  {
   "cell_type": "code",
   "execution_count": null,
   "id": "17979e50",
   "metadata": {},
   "outputs": [],
   "source": [
    "failed_url"
   ]
  },
  {
   "cell_type": "code",
   "execution_count": null,
   "id": "8cdd5073",
   "metadata": {},
   "outputs": [],
   "source": [
    "temp_recipes_1"
   ]
  },
  {
   "cell_type": "code",
   "execution_count": null,
   "id": "53acf06d",
   "metadata": {},
   "outputs": [],
   "source": [
    "title"
   ]
  },
  {
   "cell_type": "code",
   "execution_count": null,
   "id": "0ed45647",
   "metadata": {},
   "outputs": [],
   "source": [
    "final = pd.concat([final, temp_recipes_1], ignore_index=True)"
   ]
  },
  {
   "cell_type": "code",
   "execution_count": null,
   "id": "0608a9db",
   "metadata": {},
   "outputs": [],
   "source": [
    "final"
   ]
  },
  {
   "cell_type": "markdown",
   "id": "88573086",
   "metadata": {},
   "source": [
    "### Recipes 25-200"
   ]
  },
  {
   "cell_type": "code",
   "execution_count": null,
   "id": "96880399",
   "metadata": {
    "scrolled": true
   },
   "outputs": [],
   "source": [
    "# Read proxies from the file and create a cycle iterator\n",
    "with open('proxies.txt', 'r') as f:\n",
    "    proxies = [line.strip() for line in f if line.strip()]\n",
    "\n",
    "# Check if proxies are being read correctly\n",
    "if not proxies:\n",
    "    print(\"No valid proxies found in proxies.txt\")\n",
    "else:\n",
    "    print(f\"Proxies loaded: {proxies}\")\n",
    "\n",
    "proxy_cycle = itertools.cycle(proxies)\n",
    "\n",
    "# Initialize an empty DataFrame to store results\n",
    "temp_recipes_2 = pd.DataFrame(columns=columns)\n",
    "title = []\n",
    "prep_time = []\n",
    "cook_time = []\n",
    "total_time = []\n",
    "\n",
    "ingredients_measurment = []\n",
    "ingredients = []\n",
    "instructions = []\n",
    "\n",
    "calories = []\n",
    "servings = []\n",
    "images = []\n",
    "\n",
    "# Loop over the desired number of pages\n",
    "for i in range(25, 201):\n",
    "    proxy = next(proxy_cycle)\n",
    "\n",
    "    # Set up request with proxy\n",
    "    headers = {'User-Agent': 'Mozilla/5.0 (Windows NT 6.3; Win64; x64) AppleWebKit/537.36 (KHTML, like Gecko) Chrome/80.0.3987.162 Safari/537.36'}\n",
    "    url = all_recipes_url[i]\n",
    "    proxy_dict = {'http': proxy, 'https': proxy}\n",
    "\n",
    "    try:\n",
    "        response = requests.get(url, headers=headers, proxies=proxy_dict, timeout=30)\n",
    "        \n",
    "        # Check if the request was successful\n",
    "        if response.status_code == 200:\n",
    "            soup = BeautifulSoup(response.content, 'html.parser')\n",
    "            extract(soup)\n",
    "            print(f\"Successfully retrieved {i} - {url} with proxy {proxy}\")\n",
    "        else:\n",
    "            failed_url.append(url)\n",
    "            print(f\"Failed to retrieve page {url} with proxy {proxy}. Status code: {response.status_code}\")\n",
    "    except (requests.ConnectionError, requests.Timeout) as e:\n",
    "        failed_url.append(url)\n",
    "        print(f\"Proxy {proxy} failed for {url}: {e}\")\n",
    "    except ChunkedEncodingError as e:  # Handle ChunkedEncodingError\n",
    "        failed_url.append(url)\n",
    "        print(f\"ChunkedEncodingError occurred for proxy {proxy} and {url}: {e}\")\n",
    "        continue  # Move to the next page\n",
    "\n",
    "\n",
    "\n",
    "temp_recipes_2['title'] = title\n",
    "temp_recipes_2['prep_time'] = prep_time\n",
    "temp_recipes_2['cook_time'] = cook_time\n",
    "temp_recipes_2['total_time'] = total_time\n",
    "temp_recipes_2['ingredients'] = ingredients\n",
    "temp_recipes_2['ingredients with measurement'] = ingredients_measurment\n",
    "temp_recipes_2['instructions'] = instructions\n",
    "temp_recipes_2['calories'] = calories\n",
    "temp_recipes_2['servings'] = servings\n",
    "temp_recipes_2['images']= images\n",
    "\n",
    "\n",
    "\n",
    "    "
   ]
  },
  {
   "cell_type": "code",
   "execution_count": null,
   "id": "86fec35e",
   "metadata": {},
   "outputs": [],
   "source": [
    "print(len(failed_url))"
   ]
  },
  {
   "cell_type": "code",
   "execution_count": null,
   "id": "f7862ade",
   "metadata": {},
   "outputs": [],
   "source": [
    "failed_url"
   ]
  },
  {
   "cell_type": "code",
   "execution_count": null,
   "id": "b867696d",
   "metadata": {},
   "outputs": [],
   "source": [
    "temp_recipes_2"
   ]
  },
  {
   "cell_type": "code",
   "execution_count": null,
   "id": "f7df378c",
   "metadata": {},
   "outputs": [],
   "source": [
    "final = pd.concat([final, temp_recipes_2], ignore_index=True)\n",
    "final"
   ]
  },
  {
   "cell_type": "code",
   "execution_count": null,
   "id": "08e31e99",
   "metadata": {},
   "outputs": [],
   "source": []
  },
  {
   "cell_type": "code",
   "execution_count": null,
   "id": "4aa264ae",
   "metadata": {},
   "outputs": [],
   "source": []
  },
  {
   "cell_type": "code",
   "execution_count": null,
   "id": "751db088",
   "metadata": {},
   "outputs": [],
   "source": [
    "def save_list_to_txt(filename, data_list):\n",
    "    \"\"\"\n",
    "    Save a list of strings to a text file, one item per line.\n",
    "    \n",
    "    :param filename: The name of the file to save the list to.\n",
    "    :param data_list: The list of strings to save.\n",
    "    \"\"\"\n",
    "    with open(filename, 'w') as f:\n",
    "        for item in data_list:\n",
    "            f.write(f\"{item}\\n\")"
   ]
  },
  {
   "cell_type": "code",
   "execution_count": null,
   "id": "7da183ed",
   "metadata": {},
   "outputs": [],
   "source": [
    "save_list_to_txt('failed_urls_till201.txt', failed_url)\n",
    "final.to_csv('desserts_1_201.csv', index=False)"
   ]
  },
  {
   "cell_type": "code",
   "execution_count": null,
   "id": "6b4517a6",
   "metadata": {},
   "outputs": [],
   "source": []
  },
  {
   "cell_type": "code",
   "execution_count": null,
   "id": "584b8a40",
   "metadata": {},
   "outputs": [],
   "source": []
  },
  {
   "cell_type": "code",
   "execution_count": null,
   "id": "54dd8922",
   "metadata": {},
   "outputs": [],
   "source": []
  },
  {
   "cell_type": "code",
   "execution_count": null,
   "id": "793ea025",
   "metadata": {},
   "outputs": [],
   "source": []
  },
  {
   "cell_type": "code",
   "execution_count": null,
   "id": "d368577a",
   "metadata": {},
   "outputs": [],
   "source": []
  },
  {
   "cell_type": "code",
   "execution_count": null,
   "id": "65f477dc",
   "metadata": {},
   "outputs": [],
   "source": []
  },
  {
   "cell_type": "code",
   "execution_count": null,
   "id": "d9a3a0b2",
   "metadata": {},
   "outputs": [],
   "source": []
  },
  {
   "cell_type": "code",
   "execution_count": null,
   "id": "9ffe78f4",
   "metadata": {},
   "outputs": [],
   "source": []
  },
  {
   "cell_type": "code",
   "execution_count": null,
   "id": "8c80385b",
   "metadata": {},
   "outputs": [],
   "source": []
  },
  {
   "cell_type": "code",
   "execution_count": null,
   "id": "b86d43b3",
   "metadata": {},
   "outputs": [],
   "source": []
  },
  {
   "cell_type": "code",
   "execution_count": null,
   "id": "f3bd71a8",
   "metadata": {},
   "outputs": [],
   "source": []
  },
  {
   "cell_type": "markdown",
   "id": "b6e401ee",
   "metadata": {},
   "source": [
    "### Recipes 201-500"
   ]
  },
  {
   "cell_type": "code",
   "execution_count": 21,
   "id": "c01c6671",
   "metadata": {
    "scrolled": true
   },
   "outputs": [
    {
     "name": "stdout",
     "output_type": "stream",
     "text": [
      "Proxies loaded: ['4.234.52.159:8080', '4.159.24.156:8080', '20.26.186.150:8080']\n"
     ]
    },
    {
     "data": {
      "application/javascript": [
       "\n",
       "        if (window._pyforest_update_imports_cell) { window._pyforest_update_imports_cell('import re'); }\n",
       "    "
      ],
      "text/plain": [
       "<IPython.core.display.Javascript object>"
      ]
     },
     "metadata": {},
     "output_type": "display_data"
    },
    {
     "data": {
      "application/javascript": [
       "\n",
       "        if (window._pyforest_update_imports_cell) { window._pyforest_update_imports_cell('import re'); }\n",
       "    "
      ],
      "text/plain": [
       "<IPython.core.display.Javascript object>"
      ]
     },
     "metadata": {},
     "output_type": "display_data"
    },
    {
     "data": {
      "application/javascript": [
       "\n",
       "        if (window._pyforest_update_imports_cell) { window._pyforest_update_imports_cell('import re'); }\n",
       "    "
      ],
      "text/plain": [
       "<IPython.core.display.Javascript object>"
      ]
     },
     "metadata": {},
     "output_type": "display_data"
    },
    {
     "name": "stdout",
     "output_type": "stream",
     "text": [
      "Successfully retrieved 201 - https://www.halfbakedharvest.com/6-ingredient-spiced-pumpkin-butter/ with proxy 4.234.52.159:8080\n"
     ]
    },
    {
     "data": {
      "application/javascript": [
       "\n",
       "        if (window._pyforest_update_imports_cell) { window._pyforest_update_imports_cell('import re'); }\n",
       "    "
      ],
      "text/plain": [
       "<IPython.core.display.Javascript object>"
      ]
     },
     "metadata": {},
     "output_type": "display_data"
    },
    {
     "data": {
      "application/javascript": [
       "\n",
       "        if (window._pyforest_update_imports_cell) { window._pyforest_update_imports_cell('import re'); }\n",
       "    "
      ],
      "text/plain": [
       "<IPython.core.display.Javascript object>"
      ]
     },
     "metadata": {},
     "output_type": "display_data"
    },
    {
     "data": {
      "application/javascript": [
       "\n",
       "        if (window._pyforest_update_imports_cell) { window._pyforest_update_imports_cell('import re'); }\n",
       "    "
      ],
      "text/plain": [
       "<IPython.core.display.Javascript object>"
      ]
     },
     "metadata": {},
     "output_type": "display_data"
    },
    {
     "name": "stdout",
     "output_type": "stream",
     "text": [
      "Successfully retrieved 202 - https://www.halfbakedharvest.com/apple-cider-doughnuts/ with proxy 4.159.24.156:8080\n",
      "Proxy 20.26.186.150:8080 failed for https://www.halfbakedharvest.com/apple-butter-bars/: ('Connection aborted.', ConnectionResetError(54, 'Connection reset by peer'))\n"
     ]
    },
    {
     "data": {
      "application/javascript": [
       "\n",
       "        if (window._pyforest_update_imports_cell) { window._pyforest_update_imports_cell('import re'); }\n",
       "    "
      ],
      "text/plain": [
       "<IPython.core.display.Javascript object>"
      ]
     },
     "metadata": {},
     "output_type": "display_data"
    },
    {
     "data": {
      "application/javascript": [
       "\n",
       "        if (window._pyforest_update_imports_cell) { window._pyforest_update_imports_cell('import re'); }\n",
       "    "
      ],
      "text/plain": [
       "<IPython.core.display.Javascript object>"
      ]
     },
     "metadata": {},
     "output_type": "display_data"
    },
    {
     "data": {
      "application/javascript": [
       "\n",
       "        if (window._pyforest_update_imports_cell) { window._pyforest_update_imports_cell('import re'); }\n",
       "    "
      ],
      "text/plain": [
       "<IPython.core.display.Javascript object>"
      ]
     },
     "metadata": {},
     "output_type": "display_data"
    },
    {
     "name": "stdout",
     "output_type": "stream",
     "text": [
      "Successfully retrieved 204 - https://www.halfbakedharvest.com/peanut-butter-crunch-brownies/ with proxy 4.234.52.159:8080\n",
      "Proxy 4.159.24.156:8080 failed for https://www.halfbakedharvest.com/chocolate-vanilla-birthday-cake/: HTTPSConnectionPool(host='www.halfbakedharvest.com', port=443): Read timed out. (read timeout=30)\n",
      "Proxy 20.26.186.150:8080 failed for https://www.halfbakedharvest.com/chocolate-chip-peanut-butter-swirled-cookie-bars/: ('Connection aborted.', ConnectionResetError(54, 'Connection reset by peer'))\n"
     ]
    },
    {
     "data": {
      "application/javascript": [
       "\n",
       "        if (window._pyforest_update_imports_cell) { window._pyforest_update_imports_cell('import re'); }\n",
       "    "
      ],
      "text/plain": [
       "<IPython.core.display.Javascript object>"
      ]
     },
     "metadata": {},
     "output_type": "display_data"
    },
    {
     "data": {
      "application/javascript": [
       "\n",
       "        if (window._pyforest_update_imports_cell) { window._pyforest_update_imports_cell('import re'); }\n",
       "    "
      ],
      "text/plain": [
       "<IPython.core.display.Javascript object>"
      ]
     },
     "metadata": {},
     "output_type": "display_data"
    },
    {
     "data": {
      "application/javascript": [
       "\n",
       "        if (window._pyforest_update_imports_cell) { window._pyforest_update_imports_cell('import re'); }\n",
       "    "
      ],
      "text/plain": [
       "<IPython.core.display.Javascript object>"
      ]
     },
     "metadata": {},
     "output_type": "display_data"
    },
    {
     "name": "stdout",
     "output_type": "stream",
     "text": [
      "Successfully retrieved 207 - https://www.halfbakedharvest.com/blueberry-buckle/ with proxy 4.234.52.159:8080\n"
     ]
    },
    {
     "data": {
      "application/javascript": [
       "\n",
       "        if (window._pyforest_update_imports_cell) { window._pyforest_update_imports_cell('import re'); }\n",
       "    "
      ],
      "text/plain": [
       "<IPython.core.display.Javascript object>"
      ]
     },
     "metadata": {},
     "output_type": "display_data"
    },
    {
     "data": {
      "application/javascript": [
       "\n",
       "        if (window._pyforest_update_imports_cell) { window._pyforest_update_imports_cell('import re'); }\n",
       "    "
      ],
      "text/plain": [
       "<IPython.core.display.Javascript object>"
      ]
     },
     "metadata": {},
     "output_type": "display_data"
    },
    {
     "data": {
      "application/javascript": [
       "\n",
       "        if (window._pyforest_update_imports_cell) { window._pyforest_update_imports_cell('import re'); }\n",
       "    "
      ],
      "text/plain": [
       "<IPython.core.display.Javascript object>"
      ]
     },
     "metadata": {},
     "output_type": "display_data"
    },
    {
     "name": "stdout",
     "output_type": "stream",
     "text": [
      "Successfully retrieved 208 - https://www.halfbakedharvest.com/browned-butter-coconut-chocolate-chip-cookies/ with proxy 4.159.24.156:8080\n",
      "Proxy 20.26.186.150:8080 failed for https://www.halfbakedharvest.com/peach-ricotta-layer-cake/: ('Connection aborted.', ConnectionResetError(54, 'Connection reset by peer'))\n"
     ]
    },
    {
     "data": {
      "application/javascript": [
       "\n",
       "        if (window._pyforest_update_imports_cell) { window._pyforest_update_imports_cell('import re'); }\n",
       "    "
      ],
      "text/plain": [
       "<IPython.core.display.Javascript object>"
      ]
     },
     "metadata": {},
     "output_type": "display_data"
    },
    {
     "data": {
      "application/javascript": [
       "\n",
       "        if (window._pyforest_update_imports_cell) { window._pyforest_update_imports_cell('import re'); }\n",
       "    "
      ],
      "text/plain": [
       "<IPython.core.display.Javascript object>"
      ]
     },
     "metadata": {},
     "output_type": "display_data"
    },
    {
     "name": "stdout",
     "output_type": "stream",
     "text": [
      "Successfully retrieved 210 - https://www.halfbakedharvest.com/chocolate-caramel-crunch-ice-cream-bars/ with proxy 4.234.52.159:8080\n",
      "Proxy 4.159.24.156:8080 failed for https://www.halfbakedharvest.com/blackberry-ruffled-milk-pie/: ('Connection aborted.', ConnectionResetError(54, 'Connection reset by peer'))\n",
      "Proxy 20.26.186.150:8080 failed for https://www.halfbakedharvest.com/6-ingredient-no-bake-chocolate-chip-cookies/: ('Connection aborted.', ConnectionResetError(54, 'Connection reset by peer'))\n"
     ]
    },
    {
     "data": {
      "application/javascript": [
       "\n",
       "        if (window._pyforest_update_imports_cell) { window._pyforest_update_imports_cell('import re'); }\n",
       "    "
      ],
      "text/plain": [
       "<IPython.core.display.Javascript object>"
      ]
     },
     "metadata": {},
     "output_type": "display_data"
    },
    {
     "data": {
      "application/javascript": [
       "\n",
       "        if (window._pyforest_update_imports_cell) { window._pyforest_update_imports_cell('import re'); }\n",
       "    "
      ],
      "text/plain": [
       "<IPython.core.display.Javascript object>"
      ]
     },
     "metadata": {},
     "output_type": "display_data"
    },
    {
     "data": {
      "application/javascript": [
       "\n",
       "        if (window._pyforest_update_imports_cell) { window._pyforest_update_imports_cell('import re'); }\n",
       "    "
      ],
      "text/plain": [
       "<IPython.core.display.Javascript object>"
      ]
     },
     "metadata": {},
     "output_type": "display_data"
    },
    {
     "data": {
      "application/javascript": [
       "\n",
       "        if (window._pyforest_update_imports_cell) { window._pyforest_update_imports_cell('import re'); }\n",
       "    "
      ],
      "text/plain": [
       "<IPython.core.display.Javascript object>"
      ]
     },
     "metadata": {},
     "output_type": "display_data"
    },
    {
     "name": "stdout",
     "output_type": "stream",
     "text": [
      "Successfully retrieved 213 - https://www.halfbakedharvest.com/sweet-peach-rose-tart/ with proxy 4.234.52.159:8080\n"
     ]
    },
    {
     "data": {
      "application/javascript": [
       "\n",
       "        if (window._pyforest_update_imports_cell) { window._pyforest_update_imports_cell('import re'); }\n",
       "    "
      ],
      "text/plain": [
       "<IPython.core.display.Javascript object>"
      ]
     },
     "metadata": {},
     "output_type": "display_data"
    },
    {
     "data": {
      "application/javascript": [
       "\n",
       "        if (window._pyforest_update_imports_cell) { window._pyforest_update_imports_cell('import re'); }\n",
       "    "
      ],
      "text/plain": [
       "<IPython.core.display.Javascript object>"
      ]
     },
     "metadata": {},
     "output_type": "display_data"
    },
    {
     "data": {
      "application/javascript": [
       "\n",
       "        if (window._pyforest_update_imports_cell) { window._pyforest_update_imports_cell('import re'); }\n",
       "    "
      ],
      "text/plain": [
       "<IPython.core.display.Javascript object>"
      ]
     },
     "metadata": {},
     "output_type": "display_data"
    },
    {
     "name": "stdout",
     "output_type": "stream",
     "text": [
      "Successfully retrieved 214 - https://www.halfbakedharvest.com/cinnamon-peach-dutch-baby/ with proxy 4.159.24.156:8080\n",
      "Proxy 20.26.186.150:8080 failed for https://www.halfbakedharvest.com/raspberry-crumble-bars/: ('Connection aborted.', ConnectionResetError(54, 'Connection reset by peer'))\n",
      "Proxy 4.234.52.159:8080 failed for https://www.halfbakedharvest.com/easy-chocolate-heart-doughnuts/: ('Connection aborted.', ConnectionResetError(54, 'Connection reset by peer'))\n",
      "Proxy 4.159.24.156:8080 failed for https://www.halfbakedharvest.com/browned-butter-sugar-cookie-bars-with-white-chocolate-frosting/: ('Connection aborted.', ConnectionResetError(54, 'Connection reset by peer'))\n",
      "Proxy 20.26.186.150:8080 failed for https://www.halfbakedharvest.com/one-bowl-chocolate-sheet-cake-with-milk-chocolate-fudge-frosting/: ('Connection aborted.', ConnectionResetError(54, 'Connection reset by peer'))\n",
      "Proxy 4.234.52.159:8080 failed for https://www.halfbakedharvest.com/chewy-chocolate-chip-cookie-granola/: ('Connection aborted.', ConnectionResetError(54, 'Connection reset by peer'))\n",
      "Proxy 4.159.24.156:8080 failed for https://www.halfbakedharvest.com/vegan-chocolate-custard-cake/: ('Connection aborted.', ConnectionResetError(54, 'Connection reset by peer'))\n",
      "Proxy 20.26.186.150:8080 failed for https://www.halfbakedharvest.com/5-ingredient-chocolate-dipped-peanut-butter-cookies/: ('Connection aborted.', ConnectionResetError(54, 'Connection reset by peer'))\n",
      "Proxy 4.234.52.159:8080 failed for https://www.halfbakedharvest.com/vegan-whole-wheat-chocolate-chip-banana-bread-muffins/: HTTPSConnectionPool(host='www.halfbakedharvest.com', port=443): Max retries exceeded with url: /vegan-whole-wheat-chocolate-chip-banana-bread-muffins/ (Caused by ProxyError('Unable to connect to proxy', ConnectTimeoutError(<urllib3.connection.HTTPSConnection object at 0x132b46df0>, 'Connection to 4.234.52.159 timed out. (connect timeout=30)')))\n",
      "Proxy 4.159.24.156:8080 failed for https://www.halfbakedharvest.com/dark-chocolate-covered-coconut-bars/: ('Connection aborted.', ConnectionResetError(54, 'Connection reset by peer'))\n"
     ]
    },
    {
     "data": {
      "application/javascript": [
       "\n",
       "        if (window._pyforest_update_imports_cell) { window._pyforest_update_imports_cell('import re'); }\n",
       "    "
      ],
      "text/plain": [
       "<IPython.core.display.Javascript object>"
      ]
     },
     "metadata": {},
     "output_type": "display_data"
    },
    {
     "data": {
      "application/javascript": [
       "\n",
       "        if (window._pyforest_update_imports_cell) { window._pyforest_update_imports_cell('import re'); }\n",
       "    "
      ],
      "text/plain": [
       "<IPython.core.display.Javascript object>"
      ]
     },
     "metadata": {},
     "output_type": "display_data"
    },
    {
     "data": {
      "application/javascript": [
       "\n",
       "        if (window._pyforest_update_imports_cell) { window._pyforest_update_imports_cell('import re'); }\n",
       "    "
      ],
      "text/plain": [
       "<IPython.core.display.Javascript object>"
      ]
     },
     "metadata": {},
     "output_type": "display_data"
    },
    {
     "name": "stdout",
     "output_type": "stream",
     "text": [
      "Successfully retrieved 224 - https://www.halfbakedharvest.com/extra-fudgy-ricotta-brownies/ with proxy 20.26.186.150:8080\n"
     ]
    },
    {
     "data": {
      "application/javascript": [
       "\n",
       "        if (window._pyforest_update_imports_cell) { window._pyforest_update_imports_cell('import re'); }\n",
       "    "
      ],
      "text/plain": [
       "<IPython.core.display.Javascript object>"
      ]
     },
     "metadata": {},
     "output_type": "display_data"
    },
    {
     "data": {
      "application/javascript": [
       "\n",
       "        if (window._pyforest_update_imports_cell) { window._pyforest_update_imports_cell('import re'); }\n",
       "    "
      ],
      "text/plain": [
       "<IPython.core.display.Javascript object>"
      ]
     },
     "metadata": {},
     "output_type": "display_data"
    },
    {
     "data": {
      "application/javascript": [
       "\n",
       "        if (window._pyforest_update_imports_cell) { window._pyforest_update_imports_cell('import re'); }\n",
       "    "
      ],
      "text/plain": [
       "<IPython.core.display.Javascript object>"
      ]
     },
     "metadata": {},
     "output_type": "display_data"
    },
    {
     "name": "stdout",
     "output_type": "stream",
     "text": [
      "Successfully retrieved 225 - https://www.halfbakedharvest.com/gingerbread-snowglobe-place-setting/ with proxy 4.234.52.159:8080\n",
      "Proxy 4.159.24.156:8080 failed for https://www.halfbakedharvest.com/eggnog-frosted-chai-snickerdoodle-snowmen/: ('Connection aborted.', ConnectionResetError(54, 'Connection reset by peer'))\n",
      "Successfully retrieved 227 - https://www.halfbakedharvest.com/how-to-create-the-best-holiday-cookie-box/ with proxy 20.26.186.150:8080\n",
      "Proxy 4.234.52.159:8080 failed for https://www.halfbakedharvest.com/salted-milk-chocolate-and-peanut-butter-blondies/: ('Connection aborted.', ConnectionResetError(54, 'Connection reset by peer'))\n",
      "Proxy 4.159.24.156:8080 failed for https://www.halfbakedharvest.com/sugar-cookie-chocolate-creme-brulee/: ('Connection aborted.', ConnectionResetError(54, 'Connection reset by peer'))\n"
     ]
    },
    {
     "data": {
      "application/javascript": [
       "\n",
       "        if (window._pyforest_update_imports_cell) { window._pyforest_update_imports_cell('import re'); }\n",
       "    "
      ],
      "text/plain": [
       "<IPython.core.display.Javascript object>"
      ]
     },
     "metadata": {},
     "output_type": "display_data"
    },
    {
     "data": {
      "application/javascript": [
       "\n",
       "        if (window._pyforest_update_imports_cell) { window._pyforest_update_imports_cell('import re'); }\n",
       "    "
      ],
      "text/plain": [
       "<IPython.core.display.Javascript object>"
      ]
     },
     "metadata": {},
     "output_type": "display_data"
    },
    {
     "data": {
      "application/javascript": [
       "\n",
       "        if (window._pyforest_update_imports_cell) { window._pyforest_update_imports_cell('import re'); }\n",
       "    "
      ],
      "text/plain": [
       "<IPython.core.display.Javascript object>"
      ]
     },
     "metadata": {},
     "output_type": "display_data"
    },
    {
     "name": "stdout",
     "output_type": "stream",
     "text": [
      "Successfully retrieved 230 - https://www.halfbakedharvest.com/chewy-chocolate-ginger-molasses-cookies/ with proxy 20.26.186.150:8080\n"
     ]
    },
    {
     "data": {
      "application/javascript": [
       "\n",
       "        if (window._pyforest_update_imports_cell) { window._pyforest_update_imports_cell('import re'); }\n",
       "    "
      ],
      "text/plain": [
       "<IPython.core.display.Javascript object>"
      ]
     },
     "metadata": {},
     "output_type": "display_data"
    },
    {
     "data": {
      "application/javascript": [
       "\n",
       "        if (window._pyforest_update_imports_cell) { window._pyforest_update_imports_cell('import re'); }\n",
       "    "
      ],
      "text/plain": [
       "<IPython.core.display.Javascript object>"
      ]
     },
     "metadata": {},
     "output_type": "display_data"
    },
    {
     "data": {
      "application/javascript": [
       "\n",
       "        if (window._pyforest_update_imports_cell) { window._pyforest_update_imports_cell('import re'); }\n",
       "    "
      ],
      "text/plain": [
       "<IPython.core.display.Javascript object>"
      ]
     },
     "metadata": {},
     "output_type": "display_data"
    },
    {
     "name": "stdout",
     "output_type": "stream",
     "text": [
      "Successfully retrieved 231 - https://www.halfbakedharvest.com/salted-chocolate-covered-bourbon-cider-caramels/ with proxy 4.234.52.159:8080\n",
      "Proxy 4.159.24.156:8080 failed for https://www.halfbakedharvest.com/chai-pumpkin-pie-with-maple-whipped-cream/: ('Connection aborted.', ConnectionResetError(54, 'Connection reset by peer'))\n"
     ]
    },
    {
     "data": {
      "application/javascript": [
       "\n",
       "        if (window._pyforest_update_imports_cell) { window._pyforest_update_imports_cell('import re'); }\n",
       "    "
      ],
      "text/plain": [
       "<IPython.core.display.Javascript object>"
      ]
     },
     "metadata": {},
     "output_type": "display_data"
    },
    {
     "data": {
      "application/javascript": [
       "\n",
       "        if (window._pyforest_update_imports_cell) { window._pyforest_update_imports_cell('import re'); }\n",
       "    "
      ],
      "text/plain": [
       "<IPython.core.display.Javascript object>"
      ]
     },
     "metadata": {},
     "output_type": "display_data"
    },
    {
     "data": {
      "application/javascript": [
       "\n",
       "        if (window._pyforest_update_imports_cell) { window._pyforest_update_imports_cell('import re'); }\n",
       "    "
      ],
      "text/plain": [
       "<IPython.core.display.Javascript object>"
      ]
     },
     "metadata": {},
     "output_type": "display_data"
    },
    {
     "name": "stdout",
     "output_type": "stream",
     "text": [
      "Successfully retrieved 233 - https://www.halfbakedharvest.com/browned-butter-pecan-chocolate-chip-cookies/ with proxy 20.26.186.150:8080\n"
     ]
    },
    {
     "data": {
      "application/javascript": [
       "\n",
       "        if (window._pyforest_update_imports_cell) { window._pyforest_update_imports_cell('import re'); }\n",
       "    "
      ],
      "text/plain": [
       "<IPython.core.display.Javascript object>"
      ]
     },
     "metadata": {},
     "output_type": "display_data"
    },
    {
     "data": {
      "application/javascript": [
       "\n",
       "        if (window._pyforest_update_imports_cell) { window._pyforest_update_imports_cell('import re'); }\n",
       "    "
      ],
      "text/plain": [
       "<IPython.core.display.Javascript object>"
      ]
     },
     "metadata": {},
     "output_type": "display_data"
    },
    {
     "data": {
      "application/javascript": [
       "\n",
       "        if (window._pyforest_update_imports_cell) { window._pyforest_update_imports_cell('import re'); }\n",
       "    "
      ],
      "text/plain": [
       "<IPython.core.display.Javascript object>"
      ]
     },
     "metadata": {},
     "output_type": "display_data"
    },
    {
     "name": "stdout",
     "output_type": "stream",
     "text": [
      "Successfully retrieved 234 - https://www.halfbakedharvest.com/pumpkin-butter-rugelach-cookies/ with proxy 4.234.52.159:8080\n",
      "Proxy 4.159.24.156:8080 failed for https://www.halfbakedharvest.com/spooky-halloween-pretzels/: ('Connection aborted.', ConnectionResetError(54, 'Connection reset by peer'))\n"
     ]
    },
    {
     "data": {
      "application/javascript": [
       "\n",
       "        if (window._pyforest_update_imports_cell) { window._pyforest_update_imports_cell('import re'); }\n",
       "    "
      ],
      "text/plain": [
       "<IPython.core.display.Javascript object>"
      ]
     },
     "metadata": {},
     "output_type": "display_data"
    },
    {
     "data": {
      "application/javascript": [
       "\n",
       "        if (window._pyforest_update_imports_cell) { window._pyforest_update_imports_cell('import re'); }\n",
       "    "
      ],
      "text/plain": [
       "<IPython.core.display.Javascript object>"
      ]
     },
     "metadata": {},
     "output_type": "display_data"
    },
    {
     "data": {
      "application/javascript": [
       "\n",
       "        if (window._pyforest_update_imports_cell) { window._pyforest_update_imports_cell('import re'); }\n",
       "    "
      ],
      "text/plain": [
       "<IPython.core.display.Javascript object>"
      ]
     },
     "metadata": {},
     "output_type": "display_data"
    },
    {
     "data": {
      "application/javascript": [
       "\n",
       "        if (window._pyforest_update_imports_cell) { window._pyforest_update_imports_cell('import re'); }\n",
       "    "
      ],
      "text/plain": [
       "<IPython.core.display.Javascript object>"
      ]
     },
     "metadata": {},
     "output_type": "display_data"
    },
    {
     "name": "stdout",
     "output_type": "stream",
     "text": [
      "Successfully retrieved 236 - https://www.halfbakedharvest.com/cardamom-cognac-apple-cake/ with proxy 20.26.186.150:8080\n"
     ]
    },
    {
     "data": {
      "application/javascript": [
       "\n",
       "        if (window._pyforest_update_imports_cell) { window._pyforest_update_imports_cell('import re'); }\n",
       "    "
      ],
      "text/plain": [
       "<IPython.core.display.Javascript object>"
      ]
     },
     "metadata": {},
     "output_type": "display_data"
    },
    {
     "data": {
      "application/javascript": [
       "\n",
       "        if (window._pyforest_update_imports_cell) { window._pyforest_update_imports_cell('import re'); }\n",
       "    "
      ],
      "text/plain": [
       "<IPython.core.display.Javascript object>"
      ]
     },
     "metadata": {},
     "output_type": "display_data"
    },
    {
     "data": {
      "application/javascript": [
       "\n",
       "        if (window._pyforest_update_imports_cell) { window._pyforest_update_imports_cell('import re'); }\n",
       "    "
      ],
      "text/plain": [
       "<IPython.core.display.Javascript object>"
      ]
     },
     "metadata": {},
     "output_type": "display_data"
    },
    {
     "name": "stdout",
     "output_type": "stream",
     "text": [
      "Successfully retrieved 237 - https://www.halfbakedharvest.com/hocus-pocus-spellbook-brownies/ with proxy 4.234.52.159:8080\n",
      "Proxy 4.159.24.156:8080 failed for https://www.halfbakedharvest.com/cinnamon-spiced-sugar-cookies-with-browned-butter-frosting/: ('Connection aborted.', ConnectionResetError(54, 'Connection reset by peer'))\n",
      "Proxy 20.26.186.150:8080 failed for https://www.halfbakedharvest.com/mulled-apple-cider-chai-french-crullers/: HTTPSConnectionPool(host='www.halfbakedharvest.com', port=443): Read timed out.\n"
     ]
    },
    {
     "data": {
      "application/javascript": [
       "\n",
       "        if (window._pyforest_update_imports_cell) { window._pyforest_update_imports_cell('import re'); }\n",
       "    "
      ],
      "text/plain": [
       "<IPython.core.display.Javascript object>"
      ]
     },
     "metadata": {},
     "output_type": "display_data"
    },
    {
     "data": {
      "application/javascript": [
       "\n",
       "        if (window._pyforest_update_imports_cell) { window._pyforest_update_imports_cell('import re'); }\n",
       "    "
      ],
      "text/plain": [
       "<IPython.core.display.Javascript object>"
      ]
     },
     "metadata": {},
     "output_type": "display_data"
    },
    {
     "data": {
      "application/javascript": [
       "\n",
       "        if (window._pyforest_update_imports_cell) { window._pyforest_update_imports_cell('import re'); }\n",
       "    "
      ],
      "text/plain": [
       "<IPython.core.display.Javascript object>"
      ]
     },
     "metadata": {},
     "output_type": "display_data"
    },
    {
     "data": {
      "application/javascript": [
       "\n",
       "        if (window._pyforest_update_imports_cell) { window._pyforest_update_imports_cell('import re'); }\n",
       "    "
      ],
      "text/plain": [
       "<IPython.core.display.Javascript object>"
      ]
     },
     "metadata": {},
     "output_type": "display_data"
    },
    {
     "name": "stdout",
     "output_type": "stream",
     "text": [
      "Successfully retrieved 240 - https://www.halfbakedharvest.com/honeycrisp-apple-pandowdy/ with proxy 4.234.52.159:8080\n"
     ]
    },
    {
     "data": {
      "application/javascript": [
       "\n",
       "        if (window._pyforest_update_imports_cell) { window._pyforest_update_imports_cell('import re'); }\n",
       "    "
      ],
      "text/plain": [
       "<IPython.core.display.Javascript object>"
      ]
     },
     "metadata": {},
     "output_type": "display_data"
    },
    {
     "data": {
      "application/javascript": [
       "\n",
       "        if (window._pyforest_update_imports_cell) { window._pyforest_update_imports_cell('import re'); }\n",
       "    "
      ],
      "text/plain": [
       "<IPython.core.display.Javascript object>"
      ]
     },
     "metadata": {},
     "output_type": "display_data"
    },
    {
     "data": {
      "application/javascript": [
       "\n",
       "        if (window._pyforest_update_imports_cell) { window._pyforest_update_imports_cell('import re'); }\n",
       "    "
      ],
      "text/plain": [
       "<IPython.core.display.Javascript object>"
      ]
     },
     "metadata": {},
     "output_type": "display_data"
    },
    {
     "data": {
      "application/javascript": [
       "\n",
       "        if (window._pyforest_update_imports_cell) { window._pyforest_update_imports_cell('import re'); }\n",
       "    "
      ],
      "text/plain": [
       "<IPython.core.display.Javascript object>"
      ]
     },
     "metadata": {},
     "output_type": "display_data"
    },
    {
     "name": "stdout",
     "output_type": "stream",
     "text": [
      "Successfully retrieved 241 - https://www.halfbakedharvest.com/healthy-5-ingredient-buckeyes/ with proxy 4.159.24.156:8080\n",
      "ChunkedEncodingError occurred for proxy 20.26.186.150:8080 and https://www.halfbakedharvest.com/the-best-chocolate-birthday-cupcakes-with-fudgy-chocolate-buttercream/: ('Connection broken: IncompleteRead(49 bytes read, 10191 more expected)', IncompleteRead(49 bytes read, 10191 more expected))\n"
     ]
    },
    {
     "data": {
      "application/javascript": [
       "\n",
       "        if (window._pyforest_update_imports_cell) { window._pyforest_update_imports_cell('import re'); }\n",
       "    "
      ],
      "text/plain": [
       "<IPython.core.display.Javascript object>"
      ]
     },
     "metadata": {},
     "output_type": "display_data"
    },
    {
     "data": {
      "application/javascript": [
       "\n",
       "        if (window._pyforest_update_imports_cell) { window._pyforest_update_imports_cell('import re'); }\n",
       "    "
      ],
      "text/plain": [
       "<IPython.core.display.Javascript object>"
      ]
     },
     "metadata": {},
     "output_type": "display_data"
    },
    {
     "data": {
      "application/javascript": [
       "\n",
       "        if (window._pyforest_update_imports_cell) { window._pyforest_update_imports_cell('import re'); }\n",
       "    "
      ],
      "text/plain": [
       "<IPython.core.display.Javascript object>"
      ]
     },
     "metadata": {},
     "output_type": "display_data"
    },
    {
     "name": "stdout",
     "output_type": "stream",
     "text": [
      "Successfully retrieved 243 - https://www.halfbakedharvest.com/brown-sugar-peach-puff-pastry-pop-tarts/ with proxy 4.234.52.159:8080\n",
      "Proxy 4.159.24.156:8080 failed for https://www.halfbakedharvest.com/giant-chocolate-chip-cookies/: ('Connection aborted.', ConnectionResetError(54, 'Connection reset by peer'))\n",
      "Proxy 20.26.186.150:8080 failed for https://www.halfbakedharvest.com/vanilla-glazed-blackberry-peach-coffee-cake/: ('Connection aborted.', ConnectionResetError(54, 'Connection reset by peer'))\n"
     ]
    },
    {
     "data": {
      "application/javascript": [
       "\n",
       "        if (window._pyforest_update_imports_cell) { window._pyforest_update_imports_cell('import re'); }\n",
       "    "
      ],
      "text/plain": [
       "<IPython.core.display.Javascript object>"
      ]
     },
     "metadata": {},
     "output_type": "display_data"
    },
    {
     "data": {
      "application/javascript": [
       "\n",
       "        if (window._pyforest_update_imports_cell) { window._pyforest_update_imports_cell('import re'); }\n",
       "    "
      ],
      "text/plain": [
       "<IPython.core.display.Javascript object>"
      ]
     },
     "metadata": {},
     "output_type": "display_data"
    },
    {
     "data": {
      "application/javascript": [
       "\n",
       "        if (window._pyforest_update_imports_cell) { window._pyforest_update_imports_cell('import re'); }\n",
       "    "
      ],
      "text/plain": [
       "<IPython.core.display.Javascript object>"
      ]
     },
     "metadata": {},
     "output_type": "display_data"
    },
    {
     "name": "stdout",
     "output_type": "stream",
     "text": [
      "Successfully retrieved 246 - https://www.halfbakedharvest.com/chocolate-chip-olive-oil-zucchini-banana-bread/ with proxy 4.234.52.159:8080\n"
     ]
    },
    {
     "data": {
      "application/javascript": [
       "\n",
       "        if (window._pyforest_update_imports_cell) { window._pyforest_update_imports_cell('import re'); }\n",
       "    "
      ],
      "text/plain": [
       "<IPython.core.display.Javascript object>"
      ]
     },
     "metadata": {},
     "output_type": "display_data"
    },
    {
     "data": {
      "application/javascript": [
       "\n",
       "        if (window._pyforest_update_imports_cell) { window._pyforest_update_imports_cell('import re'); }\n",
       "    "
      ],
      "text/plain": [
       "<IPython.core.display.Javascript object>"
      ]
     },
     "metadata": {},
     "output_type": "display_data"
    },
    {
     "data": {
      "application/javascript": [
       "\n",
       "        if (window._pyforest_update_imports_cell) { window._pyforest_update_imports_cell('import re'); }\n",
       "    "
      ],
      "text/plain": [
       "<IPython.core.display.Javascript object>"
      ]
     },
     "metadata": {},
     "output_type": "display_data"
    },
    {
     "name": "stdout",
     "output_type": "stream",
     "text": [
      "Successfully retrieved 247 - https://www.halfbakedharvest.com/pbj-oat-streusel-muffins/ with proxy 4.159.24.156:8080\n"
     ]
    },
    {
     "data": {
      "application/javascript": [
       "\n",
       "        if (window._pyforest_update_imports_cell) { window._pyforest_update_imports_cell('import re'); }\n",
       "    "
      ],
      "text/plain": [
       "<IPython.core.display.Javascript object>"
      ]
     },
     "metadata": {},
     "output_type": "display_data"
    },
    {
     "data": {
      "application/javascript": [
       "\n",
       "        if (window._pyforest_update_imports_cell) { window._pyforest_update_imports_cell('import re'); }\n",
       "    "
      ],
      "text/plain": [
       "<IPython.core.display.Javascript object>"
      ]
     },
     "metadata": {},
     "output_type": "display_data"
    },
    {
     "data": {
      "application/javascript": [
       "\n",
       "        if (window._pyforest_update_imports_cell) { window._pyforest_update_imports_cell('import re'); }\n",
       "    "
      ],
      "text/plain": [
       "<IPython.core.display.Javascript object>"
      ]
     },
     "metadata": {},
     "output_type": "display_data"
    },
    {
     "name": "stdout",
     "output_type": "stream",
     "text": [
      "Successfully retrieved 248 - https://www.halfbakedharvest.com/blackberry-lavender-white-chocolate-clafoutis/ with proxy 20.26.186.150:8080\n"
     ]
    },
    {
     "data": {
      "application/javascript": [
       "\n",
       "        if (window._pyforest_update_imports_cell) { window._pyforest_update_imports_cell('import re'); }\n",
       "    "
      ],
      "text/plain": [
       "<IPython.core.display.Javascript object>"
      ]
     },
     "metadata": {},
     "output_type": "display_data"
    },
    {
     "data": {
      "application/javascript": [
       "\n",
       "        if (window._pyforest_update_imports_cell) { window._pyforest_update_imports_cell('import re'); }\n",
       "    "
      ],
      "text/plain": [
       "<IPython.core.display.Javascript object>"
      ]
     },
     "metadata": {},
     "output_type": "display_data"
    },
    {
     "data": {
      "application/javascript": [
       "\n",
       "        if (window._pyforest_update_imports_cell) { window._pyforest_update_imports_cell('import re'); }\n",
       "    "
      ],
      "text/plain": [
       "<IPython.core.display.Javascript object>"
      ]
     },
     "metadata": {},
     "output_type": "display_data"
    },
    {
     "name": "stdout",
     "output_type": "stream",
     "text": [
      "Successfully retrieved 249 - https://www.halfbakedharvest.com/raspberry-ginger-stone-fruit-galette/ with proxy 4.234.52.159:8080\n"
     ]
    },
    {
     "data": {
      "application/javascript": [
       "\n",
       "        if (window._pyforest_update_imports_cell) { window._pyforest_update_imports_cell('import re'); }\n",
       "    "
      ],
      "text/plain": [
       "<IPython.core.display.Javascript object>"
      ]
     },
     "metadata": {},
     "output_type": "display_data"
    },
    {
     "data": {
      "application/javascript": [
       "\n",
       "        if (window._pyforest_update_imports_cell) { window._pyforest_update_imports_cell('import re'); }\n",
       "    "
      ],
      "text/plain": [
       "<IPython.core.display.Javascript object>"
      ]
     },
     "metadata": {},
     "output_type": "display_data"
    },
    {
     "data": {
      "application/javascript": [
       "\n",
       "        if (window._pyforest_update_imports_cell) { window._pyforest_update_imports_cell('import re'); }\n",
       "    "
      ],
      "text/plain": [
       "<IPython.core.display.Javascript object>"
      ]
     },
     "metadata": {},
     "output_type": "display_data"
    },
    {
     "name": "stdout",
     "output_type": "stream",
     "text": [
      "Successfully retrieved 250 - https://www.halfbakedharvest.com/sweet-peach-thyme-shortcakes/ with proxy 4.159.24.156:8080\n",
      "Proxy 20.26.186.150:8080 failed for https://www.halfbakedharvest.com/6-ingredient-chocolate-coffee-nice-cream/: ('Connection aborted.', ConnectionResetError(54, 'Connection reset by peer'))\n",
      "Proxy 4.234.52.159:8080 failed for https://www.halfbakedharvest.com/brown-sugar-oatmeal-cookie-cookie-dough-ice-cream-sandwiches/: ('Connection aborted.', ConnectionResetError(54, 'Connection reset by peer'))\n",
      "Proxy 4.159.24.156:8080 failed for https://www.halfbakedharvest.com/maple-fig-tarte-tatin/: ('Connection aborted.', ConnectionResetError(54, 'Connection reset by peer'))\n",
      "Proxy 20.26.186.150:8080 failed for https://www.halfbakedharvest.com/mixed-berry-almond-croissants/: ('Connection aborted.', ConnectionResetError(54, 'Connection reset by peer'))\n"
     ]
    },
    {
     "data": {
      "application/javascript": [
       "\n",
       "        if (window._pyforest_update_imports_cell) { window._pyforest_update_imports_cell('import re'); }\n",
       "    "
      ],
      "text/plain": [
       "<IPython.core.display.Javascript object>"
      ]
     },
     "metadata": {},
     "output_type": "display_data"
    },
    {
     "data": {
      "application/javascript": [
       "\n",
       "        if (window._pyforest_update_imports_cell) { window._pyforest_update_imports_cell('import re'); }\n",
       "    "
      ],
      "text/plain": [
       "<IPython.core.display.Javascript object>"
      ]
     },
     "metadata": {},
     "output_type": "display_data"
    },
    {
     "data": {
      "application/javascript": [
       "\n",
       "        if (window._pyforest_update_imports_cell) { window._pyforest_update_imports_cell('import re'); }\n",
       "    "
      ],
      "text/plain": [
       "<IPython.core.display.Javascript object>"
      ]
     },
     "metadata": {},
     "output_type": "display_data"
    },
    {
     "name": "stdout",
     "output_type": "stream",
     "text": [
      "Successfully retrieved 255 - https://www.halfbakedharvest.com/bonfire-brownies-half-baked-harvest-cookbook-sneak-peak/ with proxy 4.234.52.159:8080\n",
      "Proxy 4.159.24.156:8080 failed for https://www.halfbakedharvest.com/mulled-cherry-bomb-pie/: ('Connection aborted.', ConnectionResetError(54, 'Connection reset by peer'))\n",
      "Proxy 20.26.186.150:8080 failed for https://www.halfbakedharvest.com/my-favorite-buttermilk-pie-crust/: ('Connection aborted.', ConnectionResetError(54, 'Connection reset by peer'))\n",
      "Proxy 4.234.52.159:8080 failed for https://www.halfbakedharvest.com/triple-layer-roasted-berry-pinata-ice-cream-cake/: ('Connection aborted.', ConnectionResetError(54, 'Connection reset by peer'))\n",
      "Proxy 4.159.24.156:8080 failed for https://www.halfbakedharvest.com/easiest-raspberry-shortcake-ricotta-ice-cream/: ('Connection aborted.', ConnectionResetError(54, 'Connection reset by peer'))\n",
      "Proxy 20.26.186.150:8080 failed for https://www.halfbakedharvest.com/salty-peanut-butter-smore-ice-cream-cake-video/: ('Connection aborted.', ConnectionResetError(54, 'Connection reset by peer'))\n"
     ]
    },
    {
     "data": {
      "application/javascript": [
       "\n",
       "        if (window._pyforest_update_imports_cell) { window._pyforest_update_imports_cell('import re'); }\n",
       "    "
      ],
      "text/plain": [
       "<IPython.core.display.Javascript object>"
      ]
     },
     "metadata": {},
     "output_type": "display_data"
    },
    {
     "data": {
      "application/javascript": [
       "\n",
       "        if (window._pyforest_update_imports_cell) { window._pyforest_update_imports_cell('import re'); }\n",
       "    "
      ],
      "text/plain": [
       "<IPython.core.display.Javascript object>"
      ]
     },
     "metadata": {},
     "output_type": "display_data"
    },
    {
     "data": {
      "application/javascript": [
       "\n",
       "        if (window._pyforest_update_imports_cell) { window._pyforest_update_imports_cell('import re'); }\n",
       "    "
      ],
      "text/plain": [
       "<IPython.core.display.Javascript object>"
      ]
     },
     "metadata": {},
     "output_type": "display_data"
    },
    {
     "name": "stdout",
     "output_type": "stream",
     "text": [
      "Successfully retrieved 261 - https://www.halfbakedharvest.com/honey-strawberry-apricot-tart/ with proxy 4.234.52.159:8080\n"
     ]
    },
    {
     "data": {
      "application/javascript": [
       "\n",
       "        if (window._pyforest_update_imports_cell) { window._pyforest_update_imports_cell('import re'); }\n",
       "    "
      ],
      "text/plain": [
       "<IPython.core.display.Javascript object>"
      ]
     },
     "metadata": {},
     "output_type": "display_data"
    },
    {
     "data": {
      "application/javascript": [
       "\n",
       "        if (window._pyforest_update_imports_cell) { window._pyforest_update_imports_cell('import re'); }\n",
       "    "
      ],
      "text/plain": [
       "<IPython.core.display.Javascript object>"
      ]
     },
     "metadata": {},
     "output_type": "display_data"
    },
    {
     "data": {
      "application/javascript": [
       "\n",
       "        if (window._pyforest_update_imports_cell) { window._pyforest_update_imports_cell('import re'); }\n",
       "    "
      ],
      "text/plain": [
       "<IPython.core.display.Javascript object>"
      ]
     },
     "metadata": {},
     "output_type": "display_data"
    },
    {
     "name": "stdout",
     "output_type": "stream",
     "text": [
      "Successfully retrieved 262 - https://www.halfbakedharvest.com/blueberry-brown-betty/ with proxy 4.159.24.156:8080\n"
     ]
    },
    {
     "data": {
      "application/javascript": [
       "\n",
       "        if (window._pyforest_update_imports_cell) { window._pyforest_update_imports_cell('import re'); }\n",
       "    "
      ],
      "text/plain": [
       "<IPython.core.display.Javascript object>"
      ]
     },
     "metadata": {},
     "output_type": "display_data"
    },
    {
     "data": {
      "application/javascript": [
       "\n",
       "        if (window._pyforest_update_imports_cell) { window._pyforest_update_imports_cell('import re'); }\n",
       "    "
      ],
      "text/plain": [
       "<IPython.core.display.Javascript object>"
      ]
     },
     "metadata": {},
     "output_type": "display_data"
    },
    {
     "data": {
      "application/javascript": [
       "\n",
       "        if (window._pyforest_update_imports_cell) { window._pyforest_update_imports_cell('import re'); }\n",
       "    "
      ],
      "text/plain": [
       "<IPython.core.display.Javascript object>"
      ]
     },
     "metadata": {},
     "output_type": "display_data"
    },
    {
     "name": "stdout",
     "output_type": "stream",
     "text": [
      "Successfully retrieved 263 - https://www.halfbakedharvest.com/tiramisu-brownie-ice-cream-sandwich-bars/ with proxy 20.26.186.150:8080\n",
      "Proxy 4.234.52.159:8080 failed for https://www.halfbakedharvest.com/strawberry-cornmeal-cake-with-buttermilk-glaze/: ('Connection aborted.', ConnectionResetError(54, 'Connection reset by peer'))\n",
      "Proxy 4.159.24.156:8080 failed for https://www.halfbakedharvest.com/frozen-peanut-butter-cup-pie/: HTTPSConnectionPool(host='www.halfbakedharvest.com', port=443): Max retries exceeded with url: /frozen-peanut-butter-cup-pie/ (Caused by ProxyError('Unable to connect to proxy', OSError('Tunnel connection failed: 502 Bad Gateway')))\n",
      "Proxy 20.26.186.150:8080 failed for https://www.halfbakedharvest.com/rainbow-frozen-yogurt-pops/: ('Connection aborted.', RemoteDisconnected('Remote end closed connection without response'))\n"
     ]
    },
    {
     "data": {
      "application/javascript": [
       "\n",
       "        if (window._pyforest_update_imports_cell) { window._pyforest_update_imports_cell('import re'); }\n",
       "    "
      ],
      "text/plain": [
       "<IPython.core.display.Javascript object>"
      ]
     },
     "metadata": {},
     "output_type": "display_data"
    },
    {
     "data": {
      "application/javascript": [
       "\n",
       "        if (window._pyforest_update_imports_cell) { window._pyforest_update_imports_cell('import re'); }\n",
       "    "
      ],
      "text/plain": [
       "<IPython.core.display.Javascript object>"
      ]
     },
     "metadata": {},
     "output_type": "display_data"
    },
    {
     "data": {
      "application/javascript": [
       "\n",
       "        if (window._pyforest_update_imports_cell) { window._pyforest_update_imports_cell('import re'); }\n",
       "    "
      ],
      "text/plain": [
       "<IPython.core.display.Javascript object>"
      ]
     },
     "metadata": {},
     "output_type": "display_data"
    },
    {
     "name": "stdout",
     "output_type": "stream",
     "text": [
      "Successfully retrieved 267 - https://www.halfbakedharvest.com/chocolate-layered-zebra-mousse-cake/ with proxy 4.234.52.159:8080\n",
      "Proxy 4.159.24.156:8080 failed for https://www.halfbakedharvest.com/moroccan-chocolate-almond-phyllo-cake-snake-cake/: ('Connection aborted.', ConnectionResetError(54, 'Connection reset by peer'))\n",
      "Proxy 20.26.186.150:8080 failed for https://www.halfbakedharvest.com/pistachio-rose-rice-pudding/: ('Connection aborted.', ConnectionResetError(54, 'Connection reset by peer'))\n",
      "Proxy 4.234.52.159:8080 failed for https://www.halfbakedharvest.com/nonnies-kentucky-derby-pie/: ('Connection aborted.', ConnectionResetError(54, 'Connection reset by peer'))\n",
      "Proxy 4.159.24.156:8080 failed for https://www.halfbakedharvest.com/peanut-butter-swirled-chocolate-fudge-popsicles/: ('Connection aborted.', ConnectionResetError(54, 'Connection reset by peer'))\n"
     ]
    },
    {
     "data": {
      "application/javascript": [
       "\n",
       "        if (window._pyforest_update_imports_cell) { window._pyforest_update_imports_cell('import re'); }\n",
       "    "
      ],
      "text/plain": [
       "<IPython.core.display.Javascript object>"
      ]
     },
     "metadata": {},
     "output_type": "display_data"
    },
    {
     "data": {
      "application/javascript": [
       "\n",
       "        if (window._pyforest_update_imports_cell) { window._pyforest_update_imports_cell('import re'); }\n",
       "    "
      ],
      "text/plain": [
       "<IPython.core.display.Javascript object>"
      ]
     },
     "metadata": {},
     "output_type": "display_data"
    },
    {
     "data": {
      "application/javascript": [
       "\n",
       "        if (window._pyforest_update_imports_cell) { window._pyforest_update_imports_cell('import re'); }\n",
       "    "
      ],
      "text/plain": [
       "<IPython.core.display.Javascript object>"
      ]
     },
     "metadata": {},
     "output_type": "display_data"
    },
    {
     "name": "stdout",
     "output_type": "stream",
     "text": [
      "Successfully retrieved 272 - https://www.halfbakedharvest.com/strawberry-ripple-almond-cheesecake/ with proxy 20.26.186.150:8080\n"
     ]
    },
    {
     "data": {
      "application/javascript": [
       "\n",
       "        if (window._pyforest_update_imports_cell) { window._pyforest_update_imports_cell('import re'); }\n",
       "    "
      ],
      "text/plain": [
       "<IPython.core.display.Javascript object>"
      ]
     },
     "metadata": {},
     "output_type": "display_data"
    },
    {
     "data": {
      "application/javascript": [
       "\n",
       "        if (window._pyforest_update_imports_cell) { window._pyforest_update_imports_cell('import re'); }\n",
       "    "
      ],
      "text/plain": [
       "<IPython.core.display.Javascript object>"
      ]
     },
     "metadata": {},
     "output_type": "display_data"
    },
    {
     "data": {
      "application/javascript": [
       "\n",
       "        if (window._pyforest_update_imports_cell) { window._pyforest_update_imports_cell('import re'); }\n",
       "    "
      ],
      "text/plain": [
       "<IPython.core.display.Javascript object>"
      ]
     },
     "metadata": {},
     "output_type": "display_data"
    },
    {
     "name": "stdout",
     "output_type": "stream",
     "text": [
      "Successfully retrieved 273 - https://www.halfbakedharvest.com/easy-lemon-ricotta-old-fashioned-doughnuts/ with proxy 4.234.52.159:8080\n",
      "Proxy 4.159.24.156:8080 failed for https://www.halfbakedharvest.com/strawberry-coconut-carrot-cake-with-mascarpone-buttercream/: ('Connection aborted.', ConnectionResetError(54, 'Connection reset by peer'))\n"
     ]
    },
    {
     "data": {
      "application/javascript": [
       "\n",
       "        if (window._pyforest_update_imports_cell) { window._pyforest_update_imports_cell('import re'); }\n",
       "    "
      ],
      "text/plain": [
       "<IPython.core.display.Javascript object>"
      ]
     },
     "metadata": {},
     "output_type": "display_data"
    },
    {
     "data": {
      "application/javascript": [
       "\n",
       "        if (window._pyforest_update_imports_cell) { window._pyforest_update_imports_cell('import re'); }\n",
       "    "
      ],
      "text/plain": [
       "<IPython.core.display.Javascript object>"
      ]
     },
     "metadata": {},
     "output_type": "display_data"
    },
    {
     "data": {
      "application/javascript": [
       "\n",
       "        if (window._pyforest_update_imports_cell) { window._pyforest_update_imports_cell('import re'); }\n",
       "    "
      ],
      "text/plain": [
       "<IPython.core.display.Javascript object>"
      ]
     },
     "metadata": {},
     "output_type": "display_data"
    },
    {
     "name": "stdout",
     "output_type": "stream",
     "text": [
      "Successfully retrieved 275 - https://www.halfbakedharvest.com/best-chocolate-covered-peanut-butter-rice-crispy-treats/ with proxy 20.26.186.150:8080\n",
      "Proxy 4.234.52.159:8080 failed for https://www.halfbakedharvest.com/pistachio-butter-cookies-with-chocolate-tres-leches-drizzle/: ('Connection aborted.', ConnectionResetError(54, 'Connection reset by peer'))\n"
     ]
    },
    {
     "data": {
      "application/javascript": [
       "\n",
       "        if (window._pyforest_update_imports_cell) { window._pyforest_update_imports_cell('import re'); }\n",
       "    "
      ],
      "text/plain": [
       "<IPython.core.display.Javascript object>"
      ]
     },
     "metadata": {},
     "output_type": "display_data"
    },
    {
     "data": {
      "application/javascript": [
       "\n",
       "        if (window._pyforest_update_imports_cell) { window._pyforest_update_imports_cell('import re'); }\n",
       "    "
      ],
      "text/plain": [
       "<IPython.core.display.Javascript object>"
      ]
     },
     "metadata": {},
     "output_type": "display_data"
    },
    {
     "data": {
      "application/javascript": [
       "\n",
       "        if (window._pyforest_update_imports_cell) { window._pyforest_update_imports_cell('import re'); }\n",
       "    "
      ],
      "text/plain": [
       "<IPython.core.display.Javascript object>"
      ]
     },
     "metadata": {},
     "output_type": "display_data"
    },
    {
     "name": "stdout",
     "output_type": "stream",
     "text": [
      "Successfully retrieved 277 - https://www.halfbakedharvest.com/homemade-strawberry-white-chocolate-pop-tarts/ with proxy 4.159.24.156:8080\n",
      "Proxy 20.26.186.150:8080 failed for https://www.halfbakedharvest.com/raw-chocolate-banana-cashew-cream-pie-bars/: ('Connection aborted.', ConnectionResetError(54, 'Connection reset by peer'))\n",
      "Proxy 4.234.52.159:8080 failed for https://www.halfbakedharvest.com/one-bowl-8-ingredient-irish-coffee-fudge-brownies/: ('Connection aborted.', ConnectionResetError(54, 'Connection reset by peer'))\n"
     ]
    },
    {
     "data": {
      "application/javascript": [
       "\n",
       "        if (window._pyforest_update_imports_cell) { window._pyforest_update_imports_cell('import re'); }\n",
       "    "
      ],
      "text/plain": [
       "<IPython.core.display.Javascript object>"
      ]
     },
     "metadata": {},
     "output_type": "display_data"
    },
    {
     "data": {
      "application/javascript": [
       "\n",
       "        if (window._pyforest_update_imports_cell) { window._pyforest_update_imports_cell('import re'); }\n",
       "    "
      ],
      "text/plain": [
       "<IPython.core.display.Javascript object>"
      ]
     },
     "metadata": {},
     "output_type": "display_data"
    },
    {
     "data": {
      "application/javascript": [
       "\n",
       "        if (window._pyforest_update_imports_cell) { window._pyforest_update_imports_cell('import re'); }\n",
       "    "
      ],
      "text/plain": [
       "<IPython.core.display.Javascript object>"
      ]
     },
     "metadata": {},
     "output_type": "display_data"
    },
    {
     "name": "stdout",
     "output_type": "stream",
     "text": [
      "Successfully retrieved 280 - https://www.halfbakedharvest.com/cardamom-rose-beignets/ with proxy 4.159.24.156:8080\n"
     ]
    },
    {
     "data": {
      "application/javascript": [
       "\n",
       "        if (window._pyforest_update_imports_cell) { window._pyforest_update_imports_cell('import re'); }\n",
       "    "
      ],
      "text/plain": [
       "<IPython.core.display.Javascript object>"
      ]
     },
     "metadata": {},
     "output_type": "display_data"
    },
    {
     "data": {
      "application/javascript": [
       "\n",
       "        if (window._pyforest_update_imports_cell) { window._pyforest_update_imports_cell('import re'); }\n",
       "    "
      ],
      "text/plain": [
       "<IPython.core.display.Javascript object>"
      ]
     },
     "metadata": {},
     "output_type": "display_data"
    },
    {
     "data": {
      "application/javascript": [
       "\n",
       "        if (window._pyforest_update_imports_cell) { window._pyforest_update_imports_cell('import re'); }\n",
       "    "
      ],
      "text/plain": [
       "<IPython.core.display.Javascript object>"
      ]
     },
     "metadata": {},
     "output_type": "display_data"
    },
    {
     "name": "stdout",
     "output_type": "stream",
     "text": [
      "Successfully retrieved 281 - https://www.halfbakedharvest.com/healthy-ish-chocolate-chip-cookie-bars/ with proxy 20.26.186.150:8080\n",
      "Proxy 4.234.52.159:8080 failed for https://www.halfbakedharvest.com/meyer-lemon-chamomile-suzette-crepes-with-greek-yogurt/: ('Connection aborted.', ConnectionResetError(54, 'Connection reset by peer'))\n"
     ]
    },
    {
     "data": {
      "application/javascript": [
       "\n",
       "        if (window._pyforest_update_imports_cell) { window._pyforest_update_imports_cell('import re'); }\n",
       "    "
      ],
      "text/plain": [
       "<IPython.core.display.Javascript object>"
      ]
     },
     "metadata": {},
     "output_type": "display_data"
    },
    {
     "data": {
      "application/javascript": [
       "\n",
       "        if (window._pyforest_update_imports_cell) { window._pyforest_update_imports_cell('import re'); }\n",
       "    "
      ],
      "text/plain": [
       "<IPython.core.display.Javascript object>"
      ]
     },
     "metadata": {},
     "output_type": "display_data"
    },
    {
     "data": {
      "application/javascript": [
       "\n",
       "        if (window._pyforest_update_imports_cell) { window._pyforest_update_imports_cell('import re'); }\n",
       "    "
      ],
      "text/plain": [
       "<IPython.core.display.Javascript object>"
      ]
     },
     "metadata": {},
     "output_type": "display_data"
    },
    {
     "name": "stdout",
     "output_type": "stream",
     "text": [
      "Successfully retrieved 283 - https://www.halfbakedharvest.com/single-girls-wholesome-molten-chocolate-lava-cake/ with proxy 4.159.24.156:8080\n",
      "ChunkedEncodingError occurred for proxy 20.26.186.150:8080 and https://www.halfbakedharvest.com/soft-and-fluffy-cream-cheese-sugar-cookies/: ('Connection broken: IncompleteRead(783 bytes read, 9457 more expected)', IncompleteRead(783 bytes read, 9457 more expected))\n"
     ]
    },
    {
     "data": {
      "application/javascript": [
       "\n",
       "        if (window._pyforest_update_imports_cell) { window._pyforest_update_imports_cell('import re'); }\n",
       "    "
      ],
      "text/plain": [
       "<IPython.core.display.Javascript object>"
      ]
     },
     "metadata": {},
     "output_type": "display_data"
    },
    {
     "data": {
      "application/javascript": [
       "\n",
       "        if (window._pyforest_update_imports_cell) { window._pyforest_update_imports_cell('import re'); }\n",
       "    "
      ],
      "text/plain": [
       "<IPython.core.display.Javascript object>"
      ]
     },
     "metadata": {},
     "output_type": "display_data"
    },
    {
     "data": {
      "application/javascript": [
       "\n",
       "        if (window._pyforest_update_imports_cell) { window._pyforest_update_imports_cell('import re'); }\n",
       "    "
      ],
      "text/plain": [
       "<IPython.core.display.Javascript object>"
      ]
     },
     "metadata": {},
     "output_type": "display_data"
    },
    {
     "name": "stdout",
     "output_type": "stream",
     "text": [
      "Successfully retrieved 285 - https://www.halfbakedharvest.com/valentines-surprise-chocolate-high-hat-cupcakes/ with proxy 4.234.52.159:8080\n",
      "Proxy 4.159.24.156:8080 failed for https://www.halfbakedharvest.com/winter-bliss-balls/: ('Connection aborted.', ConnectionResetError(54, 'Connection reset by peer'))\n",
      "Proxy 20.26.186.150:8080 failed for https://www.halfbakedharvest.com/nourishing-7-ingredient-chocolate-chip-ricotta-banana-bread/: ('Connection aborted.', ConnectionResetError(54, 'Connection reset by peer'))\n",
      "Proxy 4.234.52.159:8080 failed for https://www.halfbakedharvest.com/pistachio-mint-chip-ice-cream/: ('Connection aborted.', RemoteDisconnected('Remote end closed connection without response'))\n"
     ]
    },
    {
     "data": {
      "application/javascript": [
       "\n",
       "        if (window._pyforest_update_imports_cell) { window._pyforest_update_imports_cell('import re'); }\n",
       "    "
      ],
      "text/plain": [
       "<IPython.core.display.Javascript object>"
      ]
     },
     "metadata": {},
     "output_type": "display_data"
    },
    {
     "data": {
      "application/javascript": [
       "\n",
       "        if (window._pyforest_update_imports_cell) { window._pyforest_update_imports_cell('import re'); }\n",
       "    "
      ],
      "text/plain": [
       "<IPython.core.display.Javascript object>"
      ]
     },
     "metadata": {},
     "output_type": "display_data"
    },
    {
     "data": {
      "application/javascript": [
       "\n",
       "        if (window._pyforest_update_imports_cell) { window._pyforest_update_imports_cell('import re'); }\n",
       "    "
      ],
      "text/plain": [
       "<IPython.core.display.Javascript object>"
      ]
     },
     "metadata": {},
     "output_type": "display_data"
    },
    {
     "name": "stdout",
     "output_type": "stream",
     "text": [
      "Successfully retrieved 289 - https://www.halfbakedharvest.com/skillet-strawberry-cobbler-with-cream-cheese-swirled-biscuits/ with proxy 4.159.24.156:8080\n"
     ]
    },
    {
     "data": {
      "application/javascript": [
       "\n",
       "        if (window._pyforest_update_imports_cell) { window._pyforest_update_imports_cell('import re'); }\n",
       "    "
      ],
      "text/plain": [
       "<IPython.core.display.Javascript object>"
      ]
     },
     "metadata": {},
     "output_type": "display_data"
    },
    {
     "data": {
      "application/javascript": [
       "\n",
       "        if (window._pyforest_update_imports_cell) { window._pyforest_update_imports_cell('import re'); }\n",
       "    "
      ],
      "text/plain": [
       "<IPython.core.display.Javascript object>"
      ]
     },
     "metadata": {},
     "output_type": "display_data"
    },
    {
     "data": {
      "application/javascript": [
       "\n",
       "        if (window._pyforest_update_imports_cell) { window._pyforest_update_imports_cell('import re'); }\n",
       "    "
      ],
      "text/plain": [
       "<IPython.core.display.Javascript object>"
      ]
     },
     "metadata": {},
     "output_type": "display_data"
    },
    {
     "name": "stdout",
     "output_type": "stream",
     "text": [
      "Successfully retrieved 290 - https://www.halfbakedharvest.com/campfire-grilled-smore-calzones/ with proxy 20.26.186.150:8080\n"
     ]
    },
    {
     "data": {
      "application/javascript": [
       "\n",
       "        if (window._pyforest_update_imports_cell) { window._pyforest_update_imports_cell('import re'); }\n",
       "    "
      ],
      "text/plain": [
       "<IPython.core.display.Javascript object>"
      ]
     },
     "metadata": {},
     "output_type": "display_data"
    },
    {
     "data": {
      "application/javascript": [
       "\n",
       "        if (window._pyforest_update_imports_cell) { window._pyforest_update_imports_cell('import re'); }\n",
       "    "
      ],
      "text/plain": [
       "<IPython.core.display.Javascript object>"
      ]
     },
     "metadata": {},
     "output_type": "display_data"
    },
    {
     "data": {
      "application/javascript": [
       "\n",
       "        if (window._pyforest_update_imports_cell) { window._pyforest_update_imports_cell('import re'); }\n",
       "    "
      ],
      "text/plain": [
       "<IPython.core.display.Javascript object>"
      ]
     },
     "metadata": {},
     "output_type": "display_data"
    },
    {
     "data": {
      "application/javascript": [
       "\n",
       "        if (window._pyforest_update_imports_cell) { window._pyforest_update_imports_cell('import re'); }\n",
       "    "
      ],
      "text/plain": [
       "<IPython.core.display.Javascript object>"
      ]
     },
     "metadata": {},
     "output_type": "display_data"
    },
    {
     "name": "stdout",
     "output_type": "stream",
     "text": [
      "Successfully retrieved 291 - https://www.halfbakedharvest.com/10-minute-magical-chocolate-almond-butter-superfood-seed-bars/ with proxy 4.234.52.159:8080\n"
     ]
    },
    {
     "data": {
      "application/javascript": [
       "\n",
       "        if (window._pyforest_update_imports_cell) { window._pyforest_update_imports_cell('import re'); }\n",
       "    "
      ],
      "text/plain": [
       "<IPython.core.display.Javascript object>"
      ]
     },
     "metadata": {},
     "output_type": "display_data"
    },
    {
     "data": {
      "application/javascript": [
       "\n",
       "        if (window._pyforest_update_imports_cell) { window._pyforest_update_imports_cell('import re'); }\n",
       "    "
      ],
      "text/plain": [
       "<IPython.core.display.Javascript object>"
      ]
     },
     "metadata": {},
     "output_type": "display_data"
    },
    {
     "data": {
      "application/javascript": [
       "\n",
       "        if (window._pyforest_update_imports_cell) { window._pyforest_update_imports_cell('import re'); }\n",
       "    "
      ],
      "text/plain": [
       "<IPython.core.display.Javascript object>"
      ]
     },
     "metadata": {},
     "output_type": "display_data"
    },
    {
     "name": "stdout",
     "output_type": "stream",
     "text": [
      "Successfully retrieved 292 - https://www.halfbakedharvest.com/fudgy-one-bowl-chocolate-peanut-butter-cup-pretzel-cake/ with proxy 4.159.24.156:8080\n",
      "Proxy 20.26.186.150:8080 failed for https://www.halfbakedharvest.com/tres-leches-coconut-and-chocolate-fudge-ice-cream-tacos-with-banana-peanut-salsa/: ('Connection aborted.', ConnectionResetError(54, 'Connection reset by peer'))\n"
     ]
    },
    {
     "data": {
      "application/javascript": [
       "\n",
       "        if (window._pyforest_update_imports_cell) { window._pyforest_update_imports_cell('import re'); }\n",
       "    "
      ],
      "text/plain": [
       "<IPython.core.display.Javascript object>"
      ]
     },
     "metadata": {},
     "output_type": "display_data"
    },
    {
     "data": {
      "application/javascript": [
       "\n",
       "        if (window._pyforest_update_imports_cell) { window._pyforest_update_imports_cell('import re'); }\n",
       "    "
      ],
      "text/plain": [
       "<IPython.core.display.Javascript object>"
      ]
     },
     "metadata": {},
     "output_type": "display_data"
    },
    {
     "data": {
      "application/javascript": [
       "\n",
       "        if (window._pyforest_update_imports_cell) { window._pyforest_update_imports_cell('import re'); }\n",
       "    "
      ],
      "text/plain": [
       "<IPython.core.display.Javascript object>"
      ]
     },
     "metadata": {},
     "output_type": "display_data"
    },
    {
     "name": "stdout",
     "output_type": "stream",
     "text": [
      "Successfully retrieved 294 - https://www.halfbakedharvest.com/whole-wheat-belgium-chocolate-chip-waffles-with-coconut-caramelized-bananas/ with proxy 4.234.52.159:8080\n"
     ]
    },
    {
     "data": {
      "application/javascript": [
       "\n",
       "        if (window._pyforest_update_imports_cell) { window._pyforest_update_imports_cell('import re'); }\n",
       "    "
      ],
      "text/plain": [
       "<IPython.core.display.Javascript object>"
      ]
     },
     "metadata": {},
     "output_type": "display_data"
    },
    {
     "data": {
      "application/javascript": [
       "\n",
       "        if (window._pyforest_update_imports_cell) { window._pyforest_update_imports_cell('import re'); }\n",
       "    "
      ],
      "text/plain": [
       "<IPython.core.display.Javascript object>"
      ]
     },
     "metadata": {},
     "output_type": "display_data"
    },
    {
     "data": {
      "application/javascript": [
       "\n",
       "        if (window._pyforest_update_imports_cell) { window._pyforest_update_imports_cell('import re'); }\n",
       "    "
      ],
      "text/plain": [
       "<IPython.core.display.Javascript object>"
      ]
     },
     "metadata": {},
     "output_type": "display_data"
    },
    {
     "name": "stdout",
     "output_type": "stream",
     "text": [
      "Successfully retrieved 295 - https://www.halfbakedharvest.com/banana-fritters-stick-peanut-sugar-mexican-chocolate-sauce/ with proxy 4.159.24.156:8080\n",
      "Proxy 20.26.186.150:8080 failed for https://www.halfbakedharvest.com/7-layer-dulce-de-leche-oatmeal-chocolate-chip-bars/: ('Connection aborted.', ConnectionResetError(54, 'Connection reset by peer'))\n"
     ]
    },
    {
     "data": {
      "application/javascript": [
       "\n",
       "        if (window._pyforest_update_imports_cell) { window._pyforest_update_imports_cell('import re'); }\n",
       "    "
      ],
      "text/plain": [
       "<IPython.core.display.Javascript object>"
      ]
     },
     "metadata": {},
     "output_type": "display_data"
    },
    {
     "data": {
      "application/javascript": [
       "\n",
       "        if (window._pyforest_update_imports_cell) { window._pyforest_update_imports_cell('import re'); }\n",
       "    "
      ],
      "text/plain": [
       "<IPython.core.display.Javascript object>"
      ]
     },
     "metadata": {},
     "output_type": "display_data"
    },
    {
     "data": {
      "application/javascript": [
       "\n",
       "        if (window._pyforest_update_imports_cell) { window._pyforest_update_imports_cell('import re'); }\n",
       "    "
      ],
      "text/plain": [
       "<IPython.core.display.Javascript object>"
      ]
     },
     "metadata": {},
     "output_type": "display_data"
    },
    {
     "name": "stdout",
     "output_type": "stream",
     "text": [
      "Successfully retrieved 297 - https://www.halfbakedharvest.com/almond-honey-cake-with-strawberry-ripple-cream/ with proxy 4.234.52.159:8080\n",
      "Proxy 4.159.24.156:8080 failed for https://www.halfbakedharvest.com/lavender-honey-and-raspberry-rhubarb-galette/: ('Connection aborted.', ConnectionResetError(54, 'Connection reset by peer'))\n"
     ]
    },
    {
     "data": {
      "application/javascript": [
       "\n",
       "        if (window._pyforest_update_imports_cell) { window._pyforest_update_imports_cell('import re'); }\n",
       "    "
      ],
      "text/plain": [
       "<IPython.core.display.Javascript object>"
      ]
     },
     "metadata": {},
     "output_type": "display_data"
    },
    {
     "data": {
      "application/javascript": [
       "\n",
       "        if (window._pyforest_update_imports_cell) { window._pyforest_update_imports_cell('import re'); }\n",
       "    "
      ],
      "text/plain": [
       "<IPython.core.display.Javascript object>"
      ]
     },
     "metadata": {},
     "output_type": "display_data"
    },
    {
     "data": {
      "application/javascript": [
       "\n",
       "        if (window._pyforest_update_imports_cell) { window._pyforest_update_imports_cell('import re'); }\n",
       "    "
      ],
      "text/plain": [
       "<IPython.core.display.Javascript object>"
      ]
     },
     "metadata": {},
     "output_type": "display_data"
    },
    {
     "name": "stdout",
     "output_type": "stream",
     "text": [
      "Successfully retrieved 299 - https://www.halfbakedharvest.com/matcha-green-tea-cake-with-vanilla-honey-cream-cheese-frosting/ with proxy 20.26.186.150:8080\n",
      "Proxy 4.234.52.159:8080 failed for https://www.halfbakedharvest.com/chocolate-peanut-butter-bubble-panna-cotta-with-honey-roasted-peanuts/: ('Connection aborted.', ConnectionResetError(54, 'Connection reset by peer'))\n",
      "Proxy 4.159.24.156:8080 failed for https://www.halfbakedharvest.com/chocolate-dipped-coconut-tres-leches-cronuts/: ('Connection aborted.', ConnectionResetError(54, 'Connection reset by peer'))\n"
     ]
    },
    {
     "data": {
      "application/javascript": [
       "\n",
       "        if (window._pyforest_update_imports_cell) { window._pyforest_update_imports_cell('import re'); }\n",
       "    "
      ],
      "text/plain": [
       "<IPython.core.display.Javascript object>"
      ]
     },
     "metadata": {},
     "output_type": "display_data"
    },
    {
     "data": {
      "application/javascript": [
       "\n",
       "        if (window._pyforest_update_imports_cell) { window._pyforest_update_imports_cell('import re'); }\n",
       "    "
      ],
      "text/plain": [
       "<IPython.core.display.Javascript object>"
      ]
     },
     "metadata": {},
     "output_type": "display_data"
    },
    {
     "data": {
      "application/javascript": [
       "\n",
       "        if (window._pyforest_update_imports_cell) { window._pyforest_update_imports_cell('import re'); }\n",
       "    "
      ],
      "text/plain": [
       "<IPython.core.display.Javascript object>"
      ]
     },
     "metadata": {},
     "output_type": "display_data"
    },
    {
     "name": "stdout",
     "output_type": "stream",
     "text": [
      "Successfully retrieved 302 - https://www.halfbakedharvest.com/5-ingredient-magic-matzo-chocolate-bars/ with proxy 20.26.186.150:8080\n"
     ]
    },
    {
     "data": {
      "application/javascript": [
       "\n",
       "        if (window._pyforest_update_imports_cell) { window._pyforest_update_imports_cell('import re'); }\n",
       "    "
      ],
      "text/plain": [
       "<IPython.core.display.Javascript object>"
      ]
     },
     "metadata": {},
     "output_type": "display_data"
    },
    {
     "data": {
      "application/javascript": [
       "\n",
       "        if (window._pyforest_update_imports_cell) { window._pyforest_update_imports_cell('import re'); }\n",
       "    "
      ],
      "text/plain": [
       "<IPython.core.display.Javascript object>"
      ]
     },
     "metadata": {},
     "output_type": "display_data"
    },
    {
     "data": {
      "application/javascript": [
       "\n",
       "        if (window._pyforest_update_imports_cell) { window._pyforest_update_imports_cell('import re'); }\n",
       "    "
      ],
      "text/plain": [
       "<IPython.core.display.Javascript object>"
      ]
     },
     "metadata": {},
     "output_type": "display_data"
    },
    {
     "name": "stdout",
     "output_type": "stream",
     "text": [
      "Successfully retrieved 303 - https://www.halfbakedharvest.com/double-chocolate-nutella-carrot-cake-cups-with-malted-cream-cheese-frosting/ with proxy 4.234.52.159:8080\n"
     ]
    },
    {
     "data": {
      "application/javascript": [
       "\n",
       "        if (window._pyforest_update_imports_cell) { window._pyforest_update_imports_cell('import re'); }\n",
       "    "
      ],
      "text/plain": [
       "<IPython.core.display.Javascript object>"
      ]
     },
     "metadata": {},
     "output_type": "display_data"
    },
    {
     "data": {
      "application/javascript": [
       "\n",
       "        if (window._pyforest_update_imports_cell) { window._pyforest_update_imports_cell('import re'); }\n",
       "    "
      ],
      "text/plain": [
       "<IPython.core.display.Javascript object>"
      ]
     },
     "metadata": {},
     "output_type": "display_data"
    },
    {
     "data": {
      "application/javascript": [
       "\n",
       "        if (window._pyforest_update_imports_cell) { window._pyforest_update_imports_cell('import re'); }\n",
       "    "
      ],
      "text/plain": [
       "<IPython.core.display.Javascript object>"
      ]
     },
     "metadata": {},
     "output_type": "display_data"
    },
    {
     "name": "stdout",
     "output_type": "stream",
     "text": [
      "Successfully retrieved 304 - https://www.halfbakedharvest.com/chocolate-dipped-homemade-peanut-butter-samoa-oreo-cookies/ with proxy 4.159.24.156:8080\n"
     ]
    },
    {
     "data": {
      "application/javascript": [
       "\n",
       "        if (window._pyforest_update_imports_cell) { window._pyforest_update_imports_cell('import re'); }\n",
       "    "
      ],
      "text/plain": [
       "<IPython.core.display.Javascript object>"
      ]
     },
     "metadata": {},
     "output_type": "display_data"
    },
    {
     "data": {
      "application/javascript": [
       "\n",
       "        if (window._pyforest_update_imports_cell) { window._pyforest_update_imports_cell('import re'); }\n",
       "    "
      ],
      "text/plain": [
       "<IPython.core.display.Javascript object>"
      ]
     },
     "metadata": {},
     "output_type": "display_data"
    },
    {
     "data": {
      "application/javascript": [
       "\n",
       "        if (window._pyforest_update_imports_cell) { window._pyforest_update_imports_cell('import re'); }\n",
       "    "
      ],
      "text/plain": [
       "<IPython.core.display.Javascript object>"
      ]
     },
     "metadata": {},
     "output_type": "display_data"
    },
    {
     "name": "stdout",
     "output_type": "stream",
     "text": [
      "Successfully retrieved 305 - https://www.halfbakedharvest.com/vanilla-almond-matcha-chocolate-lava-shake/ with proxy 20.26.186.150:8080\n",
      "Proxy 4.234.52.159:8080 failed for https://www.halfbakedharvest.com/drunken-sunken-irish-coffee-chocolate-cake-with-salted-baileys-cream/: ('Connection aborted.', ConnectionResetError(54, 'Connection reset by peer'))\n",
      "Proxy 4.159.24.156:8080 failed for https://www.halfbakedharvest.com/double-chocolate-brownie-irish-car-bomb-cheesecakes/: ('Connection aborted.', ConnectionResetError(54, 'Connection reset by peer'))\n",
      "ChunkedEncodingError occurred for proxy 20.26.186.150:8080 and https://www.halfbakedharvest.com/an-irish-mans-whiskey-mocha-chocolate-mousse/: (\"Connection broken: InvalidChunkLength(got length b'', 0 bytes read)\", InvalidChunkLength(got length b'', 0 bytes read))\n"
     ]
    },
    {
     "data": {
      "application/javascript": [
       "\n",
       "        if (window._pyforest_update_imports_cell) { window._pyforest_update_imports_cell('import re'); }\n",
       "    "
      ],
      "text/plain": [
       "<IPython.core.display.Javascript object>"
      ]
     },
     "metadata": {},
     "output_type": "display_data"
    },
    {
     "data": {
      "application/javascript": [
       "\n",
       "        if (window._pyforest_update_imports_cell) { window._pyforest_update_imports_cell('import re'); }\n",
       "    "
      ],
      "text/plain": [
       "<IPython.core.display.Javascript object>"
      ]
     },
     "metadata": {},
     "output_type": "display_data"
    },
    {
     "data": {
      "application/javascript": [
       "\n",
       "        if (window._pyforest_update_imports_cell) { window._pyforest_update_imports_cell('import re'); }\n",
       "    "
      ],
      "text/plain": [
       "<IPython.core.display.Javascript object>"
      ]
     },
     "metadata": {},
     "output_type": "display_data"
    },
    {
     "data": {
      "application/javascript": [
       "\n",
       "        if (window._pyforest_update_imports_cell) { window._pyforest_update_imports_cell('import re'); }\n",
       "    "
      ],
      "text/plain": [
       "<IPython.core.display.Javascript object>"
      ]
     },
     "metadata": {},
     "output_type": "display_data"
    },
    {
     "name": "stdout",
     "output_type": "stream",
     "text": [
      "Successfully retrieved 309 - https://www.halfbakedharvest.com/chocolate-coconut-french-silk-banoffee-tart/ with proxy 4.234.52.159:8080\n",
      "Proxy 4.159.24.156:8080 failed for https://www.halfbakedharvest.com/chocolate-covered-toasted-sesame-fortune-cookies/: HTTPSConnectionPool(host='www.halfbakedharvest.com', port=443): Max retries exceeded with url: /chocolate-covered-toasted-sesame-fortune-cookies/ (Caused by ProxyError('Unable to connect to proxy', ConnectTimeoutError(<urllib3.connection.HTTPSConnection object at 0x1235986a0>, 'Connection to 4.159.24.156 timed out. (connect timeout=30)')))\n",
      "Proxy 20.26.186.150:8080 failed for https://www.halfbakedharvest.com/coconut-honey-crepes-whipped-mascarpone-blood-orange-compote/: ('Connection aborted.', ConnectionResetError(54, 'Connection reset by peer'))\n"
     ]
    },
    {
     "data": {
      "application/javascript": [
       "\n",
       "        if (window._pyforest_update_imports_cell) { window._pyforest_update_imports_cell('import re'); }\n",
       "    "
      ],
      "text/plain": [
       "<IPython.core.display.Javascript object>"
      ]
     },
     "metadata": {},
     "output_type": "display_data"
    },
    {
     "data": {
      "application/javascript": [
       "\n",
       "        if (window._pyforest_update_imports_cell) { window._pyforest_update_imports_cell('import re'); }\n",
       "    "
      ],
      "text/plain": [
       "<IPython.core.display.Javascript object>"
      ]
     },
     "metadata": {},
     "output_type": "display_data"
    },
    {
     "data": {
      "application/javascript": [
       "\n",
       "        if (window._pyforest_update_imports_cell) { window._pyforest_update_imports_cell('import re'); }\n",
       "    "
      ],
      "text/plain": [
       "<IPython.core.display.Javascript object>"
      ]
     },
     "metadata": {},
     "output_type": "display_data"
    },
    {
     "name": "stdout",
     "output_type": "stream",
     "text": [
      "Successfully retrieved 312 - https://www.halfbakedharvest.com/quick-easy-oatmeal-chocolate-chip-cookie-peanut-butter-fudge-parfaits/ with proxy 4.234.52.159:8080\n",
      "Proxy 4.159.24.156:8080 failed for https://www.halfbakedharvest.com/dark-chocolate-avocado-mousse-coconut-caramelized-bananas/: ('Connection aborted.', ConnectionResetError(54, 'Connection reset by peer'))\n",
      "Proxy 20.26.186.150:8080 failed for https://www.halfbakedharvest.com/months-worth-healthier-football-food-life-talk/: ('Connection aborted.', ConnectionResetError(54, 'Connection reset by peer'))\n"
     ]
    },
    {
     "data": {
      "application/javascript": [
       "\n",
       "        if (window._pyforest_update_imports_cell) { window._pyforest_update_imports_cell('import re'); }\n",
       "    "
      ],
      "text/plain": [
       "<IPython.core.display.Javascript object>"
      ]
     },
     "metadata": {},
     "output_type": "display_data"
    },
    {
     "data": {
      "application/javascript": [
       "\n",
       "        if (window._pyforest_update_imports_cell) { window._pyforest_update_imports_cell('import re'); }\n",
       "    "
      ],
      "text/plain": [
       "<IPython.core.display.Javascript object>"
      ]
     },
     "metadata": {},
     "output_type": "display_data"
    },
    {
     "data": {
      "application/javascript": [
       "\n",
       "        if (window._pyforest_update_imports_cell) { window._pyforest_update_imports_cell('import re'); }\n",
       "    "
      ],
      "text/plain": [
       "<IPython.core.display.Javascript object>"
      ]
     },
     "metadata": {},
     "output_type": "display_data"
    },
    {
     "name": "stdout",
     "output_type": "stream",
     "text": [
      "Successfully retrieved 315 - https://www.halfbakedharvest.com/dark-chocolate-covered-coffee-roasted-almond-peanut-butter-oatmeal-bites/ with proxy 4.234.52.159:8080\n",
      "Proxy 4.159.24.156:8080 failed for https://www.halfbakedharvest.com/mexican-beer-spiked-churros-chocolate-dulce-de-leche/: ('Connection aborted.', ConnectionResetError(54, 'Connection reset by peer'))\n",
      "Proxy 20.26.186.150:8080 failed for https://www.halfbakedharvest.com/salted-chocolate-chip-cookie-baklava/: ('Connection aborted.', ConnectionResetError(54, 'Connection reset by peer'))\n"
     ]
    },
    {
     "data": {
      "application/javascript": [
       "\n",
       "        if (window._pyforest_update_imports_cell) { window._pyforest_update_imports_cell('import re'); }\n",
       "    "
      ],
      "text/plain": [
       "<IPython.core.display.Javascript object>"
      ]
     },
     "metadata": {},
     "output_type": "display_data"
    },
    {
     "data": {
      "application/javascript": [
       "\n",
       "        if (window._pyforest_update_imports_cell) { window._pyforest_update_imports_cell('import re'); }\n",
       "    "
      ],
      "text/plain": [
       "<IPython.core.display.Javascript object>"
      ]
     },
     "metadata": {},
     "output_type": "display_data"
    },
    {
     "data": {
      "application/javascript": [
       "\n",
       "        if (window._pyforest_update_imports_cell) { window._pyforest_update_imports_cell('import re'); }\n",
       "    "
      ],
      "text/plain": [
       "<IPython.core.display.Javascript object>"
      ]
     },
     "metadata": {},
     "output_type": "display_data"
    },
    {
     "data": {
      "application/javascript": [
       "\n",
       "        if (window._pyforest_update_imports_cell) { window._pyforest_update_imports_cell('import re'); }\n",
       "    "
      ],
      "text/plain": [
       "<IPython.core.display.Javascript object>"
      ]
     },
     "metadata": {},
     "output_type": "display_data"
    },
    {
     "name": "stdout",
     "output_type": "stream",
     "text": [
      "Successfully retrieved 318 - https://www.halfbakedharvest.com/coffee-roasted-almond-toasted-coconut-dark-chocolate-bark/ with proxy 4.234.52.159:8080\n"
     ]
    },
    {
     "data": {
      "application/javascript": [
       "\n",
       "        if (window._pyforest_update_imports_cell) { window._pyforest_update_imports_cell('import re'); }\n",
       "    "
      ],
      "text/plain": [
       "<IPython.core.display.Javascript object>"
      ]
     },
     "metadata": {},
     "output_type": "display_data"
    },
    {
     "data": {
      "application/javascript": [
       "\n",
       "        if (window._pyforest_update_imports_cell) { window._pyforest_update_imports_cell('import re'); }\n",
       "    "
      ],
      "text/plain": [
       "<IPython.core.display.Javascript object>"
      ]
     },
     "metadata": {},
     "output_type": "display_data"
    },
    {
     "name": "stdout",
     "output_type": "stream",
     "text": [
      "Successfully retrieved 319 - https://www.halfbakedharvest.com/loaded-peanut-butter-chocolate-covered-potato-chip-fudge-kitchenaid-giveaway/ with proxy 4.159.24.156:8080\n",
      "Proxy 20.26.186.150:8080 failed for https://www.halfbakedharvest.com/best-ever-hot-chocolate-french-toast/: ('Connection aborted.', ConnectionResetError(54, 'Connection reset by peer'))\n"
     ]
    },
    {
     "data": {
      "application/javascript": [
       "\n",
       "        if (window._pyforest_update_imports_cell) { window._pyforest_update_imports_cell('import re'); }\n",
       "    "
      ],
      "text/plain": [
       "<IPython.core.display.Javascript object>"
      ]
     },
     "metadata": {},
     "output_type": "display_data"
    },
    {
     "data": {
      "application/javascript": [
       "\n",
       "        if (window._pyforest_update_imports_cell) { window._pyforest_update_imports_cell('import re'); }\n",
       "    "
      ],
      "text/plain": [
       "<IPython.core.display.Javascript object>"
      ]
     },
     "metadata": {},
     "output_type": "display_data"
    },
    {
     "data": {
      "application/javascript": [
       "\n",
       "        if (window._pyforest_update_imports_cell) { window._pyforest_update_imports_cell('import re'); }\n",
       "    "
      ],
      "text/plain": [
       "<IPython.core.display.Javascript object>"
      ]
     },
     "metadata": {},
     "output_type": "display_data"
    },
    {
     "data": {
      "application/javascript": [
       "\n",
       "        if (window._pyforest_update_imports_cell) { window._pyforest_update_imports_cell('import re'); }\n",
       "    "
      ],
      "text/plain": [
       "<IPython.core.display.Javascript object>"
      ]
     },
     "metadata": {},
     "output_type": "display_data"
    },
    {
     "name": "stdout",
     "output_type": "stream",
     "text": [
      "Successfully retrieved 321 - https://www.halfbakedharvest.com/gingerbread-boy-granola/ with proxy 4.234.52.159:8080\n",
      "Proxy 4.159.24.156:8080 failed for https://www.halfbakedharvest.com/sugar-cookie-hot-cocoa-cupcakes/: ('Connection aborted.', ConnectionResetError(54, 'Connection reset by peer'))\n",
      "Proxy 20.26.186.150:8080 failed for https://www.halfbakedharvest.com/homemade-holiday-gifts-easy-double-chocolate-vanilla-bean-hot-cocoa-mugs-marshmallows/: HTTPSConnectionPool(host='www.halfbakedharvest.com', port=443): Read timed out. (read timeout=30)\n"
     ]
    },
    {
     "data": {
      "application/javascript": [
       "\n",
       "        if (window._pyforest_update_imports_cell) { window._pyforest_update_imports_cell('import re'); }\n",
       "    "
      ],
      "text/plain": [
       "<IPython.core.display.Javascript object>"
      ]
     },
     "metadata": {},
     "output_type": "display_data"
    },
    {
     "data": {
      "application/javascript": [
       "\n",
       "        if (window._pyforest_update_imports_cell) { window._pyforest_update_imports_cell('import re'); }\n",
       "    "
      ],
      "text/plain": [
       "<IPython.core.display.Javascript object>"
      ]
     },
     "metadata": {},
     "output_type": "display_data"
    },
    {
     "name": "stdout",
     "output_type": "stream",
     "text": [
      "Successfully retrieved 324 - https://www.halfbakedharvest.com/idiot-proof-salted-chocolate-covered-pretzel-nutella-turtle-cookies/ with proxy 4.234.52.159:8080\n",
      "Proxy 4.159.24.156:8080 failed for https://www.halfbakedharvest.com/toasted-coconut-cream-rum-chocolate-mousse-crepe-cake/: ('Connection aborted.', ConnectionResetError(54, 'Connection reset by peer'))\n",
      "Proxy 20.26.186.150:8080 failed for https://www.halfbakedharvest.com/giant-vanilla-salted-butterscotch-sticky-buns/: ('Connection aborted.', ConnectionResetError(54, 'Connection reset by peer'))\n"
     ]
    },
    {
     "data": {
      "application/javascript": [
       "\n",
       "        if (window._pyforest_update_imports_cell) { window._pyforest_update_imports_cell('import re'); }\n",
       "    "
      ],
      "text/plain": [
       "<IPython.core.display.Javascript object>"
      ]
     },
     "metadata": {},
     "output_type": "display_data"
    },
    {
     "data": {
      "application/javascript": [
       "\n",
       "        if (window._pyforest_update_imports_cell) { window._pyforest_update_imports_cell('import re'); }\n",
       "    "
      ],
      "text/plain": [
       "<IPython.core.display.Javascript object>"
      ]
     },
     "metadata": {},
     "output_type": "display_data"
    },
    {
     "data": {
      "application/javascript": [
       "\n",
       "        if (window._pyforest_update_imports_cell) { window._pyforest_update_imports_cell('import re'); }\n",
       "    "
      ],
      "text/plain": [
       "<IPython.core.display.Javascript object>"
      ]
     },
     "metadata": {},
     "output_type": "display_data"
    },
    {
     "data": {
      "application/javascript": [
       "\n",
       "        if (window._pyforest_update_imports_cell) { window._pyforest_update_imports_cell('import re'); }\n",
       "    "
      ],
      "text/plain": [
       "<IPython.core.display.Javascript object>"
      ]
     },
     "metadata": {},
     "output_type": "display_data"
    },
    {
     "name": "stdout",
     "output_type": "stream",
     "text": [
      "Successfully retrieved 327 - https://www.halfbakedharvest.com/fudge-browne-chocolate-frangelico-creme-brulee-pie/ with proxy 4.234.52.159:8080\n",
      "Proxy 4.159.24.156:8080 failed for https://www.halfbakedharvest.com/easy-jalapeno-popper-chicken-chili-cheddar-polenta-pot-pies/: ('Connection aborted.', ConnectionResetError(54, 'Connection reset by peer'))\n",
      "Proxy 20.26.186.150:8080 failed for https://www.halfbakedharvest.com/cinnamon-brioche-chocolate-chip-french-toast-muffins-coconut-streusel/: ('Connection aborted.', ConnectionResetError(54, 'Connection reset by peer'))\n",
      "Proxy 4.234.52.159:8080 failed for https://www.halfbakedharvest.com/oatmeal-chocolate-chunk-salted-coffee-caramel-apple-skillet-cookie/: ('Connection aborted.', ConnectionResetError(54, 'Connection reset by peer'))\n",
      "Proxy 4.159.24.156:8080 failed for https://www.halfbakedharvest.com/giant-chocolate-chip-cookie-cookie-dough-peanut-butter-cups/: ('Connection aborted.', ConnectionResetError(54, 'Connection reset by peer'))\n"
     ]
    },
    {
     "data": {
      "application/javascript": [
       "\n",
       "        if (window._pyforest_update_imports_cell) { window._pyforest_update_imports_cell('import re'); }\n",
       "    "
      ],
      "text/plain": [
       "<IPython.core.display.Javascript object>"
      ]
     },
     "metadata": {},
     "output_type": "display_data"
    },
    {
     "data": {
      "application/javascript": [
       "\n",
       "        if (window._pyforest_update_imports_cell) { window._pyforest_update_imports_cell('import re'); }\n",
       "    "
      ],
      "text/plain": [
       "<IPython.core.display.Javascript object>"
      ]
     },
     "metadata": {},
     "output_type": "display_data"
    },
    {
     "data": {
      "application/javascript": [
       "\n",
       "        if (window._pyforest_update_imports_cell) { window._pyforest_update_imports_cell('import re'); }\n",
       "    "
      ],
      "text/plain": [
       "<IPython.core.display.Javascript object>"
      ]
     },
     "metadata": {},
     "output_type": "display_data"
    },
    {
     "name": "stdout",
     "output_type": "stream",
     "text": [
      "Successfully retrieved 332 - https://www.halfbakedharvest.com/sweet-potato-quinoa-dark-chocolate-coconut-crumble-crunch-muffins/ with proxy 20.26.186.150:8080\n",
      "Proxy 4.234.52.159:8080 failed for https://www.halfbakedharvest.com/deseed-pomegranate-pictures/: ('Connection aborted.', ConnectionResetError(54, 'Connection reset by peer'))\n",
      "Proxy 4.159.24.156:8080 failed for https://www.halfbakedharvest.com/chocolate-lovers-pumpkin-fudge-brownie-pancakes-chocolate-kahlua-sauce/: ('Connection aborted.', ConnectionResetError(54, 'Connection reset by peer'))\n"
     ]
    },
    {
     "data": {
      "application/javascript": [
       "\n",
       "        if (window._pyforest_update_imports_cell) { window._pyforest_update_imports_cell('import re'); }\n",
       "    "
      ],
      "text/plain": [
       "<IPython.core.display.Javascript object>"
      ]
     },
     "metadata": {},
     "output_type": "display_data"
    },
    {
     "data": {
      "application/javascript": [
       "\n",
       "        if (window._pyforest_update_imports_cell) { window._pyforest_update_imports_cell('import re'); }\n",
       "    "
      ],
      "text/plain": [
       "<IPython.core.display.Javascript object>"
      ]
     },
     "metadata": {},
     "output_type": "display_data"
    },
    {
     "data": {
      "application/javascript": [
       "\n",
       "        if (window._pyforest_update_imports_cell) { window._pyforest_update_imports_cell('import re'); }\n",
       "    "
      ],
      "text/plain": [
       "<IPython.core.display.Javascript object>"
      ]
     },
     "metadata": {},
     "output_type": "display_data"
    },
    {
     "data": {
      "application/javascript": [
       "\n",
       "        if (window._pyforest_update_imports_cell) { window._pyforest_update_imports_cell('import re'); }\n",
       "    "
      ],
      "text/plain": [
       "<IPython.core.display.Javascript object>"
      ]
     },
     "metadata": {},
     "output_type": "display_data"
    },
    {
     "name": "stdout",
     "output_type": "stream",
     "text": [
      "Successfully retrieved 335 - https://www.halfbakedharvest.com/sweet-salty-bourbon-cinnamon-pecan-caramel-apples-chocolate-drizzle/ with proxy 20.26.186.150:8080\n",
      "Proxy 4.234.52.159:8080 failed for https://www.halfbakedharvest.com/apple-maple-ricotta-munchkins/: ('Connection aborted.', ConnectionResetError(54, 'Connection reset by peer'))\n"
     ]
    },
    {
     "data": {
      "application/javascript": [
       "\n",
       "        if (window._pyforest_update_imports_cell) { window._pyforest_update_imports_cell('import re'); }\n",
       "    "
      ],
      "text/plain": [
       "<IPython.core.display.Javascript object>"
      ]
     },
     "metadata": {},
     "output_type": "display_data"
    },
    {
     "data": {
      "application/javascript": [
       "\n",
       "        if (window._pyforest_update_imports_cell) { window._pyforest_update_imports_cell('import re'); }\n",
       "    "
      ],
      "text/plain": [
       "<IPython.core.display.Javascript object>"
      ]
     },
     "metadata": {},
     "output_type": "display_data"
    },
    {
     "data": {
      "application/javascript": [
       "\n",
       "        if (window._pyforest_update_imports_cell) { window._pyforest_update_imports_cell('import re'); }\n",
       "    "
      ],
      "text/plain": [
       "<IPython.core.display.Javascript object>"
      ]
     },
     "metadata": {},
     "output_type": "display_data"
    },
    {
     "name": "stdout",
     "output_type": "stream",
     "text": [
      "Successfully retrieved 337 - https://www.halfbakedharvest.com/pumpkin-spice-ginger-cookies/ with proxy 4.159.24.156:8080\n",
      "Proxy 20.26.186.150:8080 failed for https://www.halfbakedharvest.com/chocolate-peanut-butter-bark/: ('Connection aborted.', ConnectionResetError(54, 'Connection reset by peer'))\n"
     ]
    },
    {
     "data": {
      "application/javascript": [
       "\n",
       "        if (window._pyforest_update_imports_cell) { window._pyforest_update_imports_cell('import re'); }\n",
       "    "
      ],
      "text/plain": [
       "<IPython.core.display.Javascript object>"
      ]
     },
     "metadata": {},
     "output_type": "display_data"
    },
    {
     "data": {
      "application/javascript": [
       "\n",
       "        if (window._pyforest_update_imports_cell) { window._pyforest_update_imports_cell('import re'); }\n",
       "    "
      ],
      "text/plain": [
       "<IPython.core.display.Javascript object>"
      ]
     },
     "metadata": {},
     "output_type": "display_data"
    },
    {
     "data": {
      "application/javascript": [
       "\n",
       "        if (window._pyforest_update_imports_cell) { window._pyforest_update_imports_cell('import re'); }\n",
       "    "
      ],
      "text/plain": [
       "<IPython.core.display.Javascript object>"
      ]
     },
     "metadata": {},
     "output_type": "display_data"
    },
    {
     "data": {
      "application/javascript": [
       "\n",
       "        if (window._pyforest_update_imports_cell) { window._pyforest_update_imports_cell('import re'); }\n",
       "    "
      ],
      "text/plain": [
       "<IPython.core.display.Javascript object>"
      ]
     },
     "metadata": {},
     "output_type": "display_data"
    },
    {
     "name": "stdout",
     "output_type": "stream",
     "text": [
      "Successfully retrieved 339 - https://www.halfbakedharvest.com/pumpkin-butter-cinnamon-roll-bread/ with proxy 4.234.52.159:8080\n",
      "Proxy 4.159.24.156:8080 failed for https://www.halfbakedharvest.com/pumpkin-cream-cheese-muffins/: ('Connection aborted.', ConnectionResetError(54, 'Connection reset by peer'))\n"
     ]
    },
    {
     "data": {
      "application/javascript": [
       "\n",
       "        if (window._pyforest_update_imports_cell) { window._pyforest_update_imports_cell('import re'); }\n",
       "    "
      ],
      "text/plain": [
       "<IPython.core.display.Javascript object>"
      ]
     },
     "metadata": {},
     "output_type": "display_data"
    },
    {
     "data": {
      "application/javascript": [
       "\n",
       "        if (window._pyforest_update_imports_cell) { window._pyforest_update_imports_cell('import re'); }\n",
       "    "
      ],
      "text/plain": [
       "<IPython.core.display.Javascript object>"
      ]
     },
     "metadata": {},
     "output_type": "display_data"
    },
    {
     "data": {
      "application/javascript": [
       "\n",
       "        if (window._pyforest_update_imports_cell) { window._pyforest_update_imports_cell('import re'); }\n",
       "    "
      ],
      "text/plain": [
       "<IPython.core.display.Javascript object>"
      ]
     },
     "metadata": {},
     "output_type": "display_data"
    },
    {
     "name": "stdout",
     "output_type": "stream",
     "text": [
      "Successfully retrieved 341 - https://www.halfbakedharvest.com/peanut-butter-spider-cookies/ with proxy 20.26.186.150:8080\n"
     ]
    },
    {
     "data": {
      "application/javascript": [
       "\n",
       "        if (window._pyforest_update_imports_cell) { window._pyforest_update_imports_cell('import re'); }\n",
       "    "
      ],
      "text/plain": [
       "<IPython.core.display.Javascript object>"
      ]
     },
     "metadata": {},
     "output_type": "display_data"
    },
    {
     "data": {
      "application/javascript": [
       "\n",
       "        if (window._pyforest_update_imports_cell) { window._pyforest_update_imports_cell('import re'); }\n",
       "    "
      ],
      "text/plain": [
       "<IPython.core.display.Javascript object>"
      ]
     },
     "metadata": {},
     "output_type": "display_data"
    },
    {
     "name": "stdout",
     "output_type": "stream",
     "text": [
      "Successfully retrieved 342 - https://www.halfbakedharvest.com/cinnamon-sugar-apple-cake/ with proxy 4.234.52.159:8080\n"
     ]
    },
    {
     "data": {
      "application/javascript": [
       "\n",
       "        if (window._pyforest_update_imports_cell) { window._pyforest_update_imports_cell('import re'); }\n",
       "    "
      ],
      "text/plain": [
       "<IPython.core.display.Javascript object>"
      ]
     },
     "metadata": {},
     "output_type": "display_data"
    },
    {
     "data": {
      "application/javascript": [
       "\n",
       "        if (window._pyforest_update_imports_cell) { window._pyforest_update_imports_cell('import re'); }\n",
       "    "
      ],
      "text/plain": [
       "<IPython.core.display.Javascript object>"
      ]
     },
     "metadata": {},
     "output_type": "display_data"
    },
    {
     "data": {
      "application/javascript": [
       "\n",
       "        if (window._pyforest_update_imports_cell) { window._pyforest_update_imports_cell('import re'); }\n",
       "    "
      ],
      "text/plain": [
       "<IPython.core.display.Javascript object>"
      ]
     },
     "metadata": {},
     "output_type": "display_data"
    },
    {
     "name": "stdout",
     "output_type": "stream",
     "text": [
      "Successfully retrieved 343 - https://www.halfbakedharvest.com/apple-cider-doughnut-cookies/ with proxy 4.159.24.156:8080\n",
      "ChunkedEncodingError occurred for proxy 20.26.186.150:8080 and https://www.halfbakedharvest.com/easy-apple-fritters/: ('Connection broken: IncompleteRead(1938 bytes read, 8302 more expected)', IncompleteRead(1938 bytes read, 8302 more expected))\n"
     ]
    },
    {
     "data": {
      "application/javascript": [
       "\n",
       "        if (window._pyforest_update_imports_cell) { window._pyforest_update_imports_cell('import re'); }\n",
       "    "
      ],
      "text/plain": [
       "<IPython.core.display.Javascript object>"
      ]
     },
     "metadata": {},
     "output_type": "display_data"
    },
    {
     "data": {
      "application/javascript": [
       "\n",
       "        if (window._pyforest_update_imports_cell) { window._pyforest_update_imports_cell('import re'); }\n",
       "    "
      ],
      "text/plain": [
       "<IPython.core.display.Javascript object>"
      ]
     },
     "metadata": {},
     "output_type": "display_data"
    },
    {
     "data": {
      "application/javascript": [
       "\n",
       "        if (window._pyforest_update_imports_cell) { window._pyforest_update_imports_cell('import re'); }\n",
       "    "
      ],
      "text/plain": [
       "<IPython.core.display.Javascript object>"
      ]
     },
     "metadata": {},
     "output_type": "display_data"
    },
    {
     "name": "stdout",
     "output_type": "stream",
     "text": [
      "Successfully retrieved 345 - https://www.halfbakedharvest.com/maple-brown-sugar-blondies/ with proxy 4.234.52.159:8080\n"
     ]
    },
    {
     "data": {
      "application/javascript": [
       "\n",
       "        if (window._pyforest_update_imports_cell) { window._pyforest_update_imports_cell('import re'); }\n",
       "    "
      ],
      "text/plain": [
       "<IPython.core.display.Javascript object>"
      ]
     },
     "metadata": {},
     "output_type": "display_data"
    },
    {
     "data": {
      "application/javascript": [
       "\n",
       "        if (window._pyforest_update_imports_cell) { window._pyforest_update_imports_cell('import re'); }\n",
       "    "
      ],
      "text/plain": [
       "<IPython.core.display.Javascript object>"
      ]
     },
     "metadata": {},
     "output_type": "display_data"
    },
    {
     "data": {
      "application/javascript": [
       "\n",
       "        if (window._pyforest_update_imports_cell) { window._pyforest_update_imports_cell('import re'); }\n",
       "    "
      ],
      "text/plain": [
       "<IPython.core.display.Javascript object>"
      ]
     },
     "metadata": {},
     "output_type": "display_data"
    },
    {
     "name": "stdout",
     "output_type": "stream",
     "text": [
      "Successfully retrieved 346 - https://www.halfbakedharvest.com/strawberry-glazed-doughnut/ with proxy 4.159.24.156:8080\n",
      "Proxy 20.26.186.150:8080 failed for https://www.halfbakedharvest.com/glazed-peanut-butter-bars/: ('Connection aborted.', ConnectionResetError(54, 'Connection reset by peer'))\n"
     ]
    },
    {
     "data": {
      "application/javascript": [
       "\n",
       "        if (window._pyforest_update_imports_cell) { window._pyforest_update_imports_cell('import re'); }\n",
       "    "
      ],
      "text/plain": [
       "<IPython.core.display.Javascript object>"
      ]
     },
     "metadata": {},
     "output_type": "display_data"
    },
    {
     "data": {
      "application/javascript": [
       "\n",
       "        if (window._pyforest_update_imports_cell) { window._pyforest_update_imports_cell('import re'); }\n",
       "    "
      ],
      "text/plain": [
       "<IPython.core.display.Javascript object>"
      ]
     },
     "metadata": {},
     "output_type": "display_data"
    },
    {
     "data": {
      "application/javascript": [
       "\n",
       "        if (window._pyforest_update_imports_cell) { window._pyforest_update_imports_cell('import re'); }\n",
       "    "
      ],
      "text/plain": [
       "<IPython.core.display.Javascript object>"
      ]
     },
     "metadata": {},
     "output_type": "display_data"
    },
    {
     "data": {
      "application/javascript": [
       "\n",
       "        if (window._pyforest_update_imports_cell) { window._pyforest_update_imports_cell('import re'); }\n",
       "    "
      ],
      "text/plain": [
       "<IPython.core.display.Javascript object>"
      ]
     },
     "metadata": {},
     "output_type": "display_data"
    },
    {
     "name": "stdout",
     "output_type": "stream",
     "text": [
      "Successfully retrieved 348 - https://www.halfbakedharvest.com/cinnamon-crunch-quick-bread/ with proxy 4.234.52.159:8080\n"
     ]
    },
    {
     "data": {
      "application/javascript": [
       "\n",
       "        if (window._pyforest_update_imports_cell) { window._pyforest_update_imports_cell('import re'); }\n",
       "    "
      ],
      "text/plain": [
       "<IPython.core.display.Javascript object>"
      ]
     },
     "metadata": {},
     "output_type": "display_data"
    },
    {
     "data": {
      "application/javascript": [
       "\n",
       "        if (window._pyforest_update_imports_cell) { window._pyforest_update_imports_cell('import re'); }\n",
       "    "
      ],
      "text/plain": [
       "<IPython.core.display.Javascript object>"
      ]
     },
     "metadata": {},
     "output_type": "display_data"
    },
    {
     "data": {
      "application/javascript": [
       "\n",
       "        if (window._pyforest_update_imports_cell) { window._pyforest_update_imports_cell('import re'); }\n",
       "    "
      ],
      "text/plain": [
       "<IPython.core.display.Javascript object>"
      ]
     },
     "metadata": {},
     "output_type": "display_data"
    },
    {
     "name": "stdout",
     "output_type": "stream",
     "text": [
      "Successfully retrieved 349 - https://www.halfbakedharvest.com/magic-oatmeal-chocolate-chip-cookies/ with proxy 4.159.24.156:8080\n",
      "Proxy 20.26.186.150:8080 failed for https://www.halfbakedharvest.com/monster-crunchies/: ('Connection aborted.', ConnectionResetError(54, 'Connection reset by peer'))\n"
     ]
    },
    {
     "data": {
      "application/javascript": [
       "\n",
       "        if (window._pyforest_update_imports_cell) { window._pyforest_update_imports_cell('import re'); }\n",
       "    "
      ],
      "text/plain": [
       "<IPython.core.display.Javascript object>"
      ]
     },
     "metadata": {},
     "output_type": "display_data"
    },
    {
     "data": {
      "application/javascript": [
       "\n",
       "        if (window._pyforest_update_imports_cell) { window._pyforest_update_imports_cell('import re'); }\n",
       "    "
      ],
      "text/plain": [
       "<IPython.core.display.Javascript object>"
      ]
     },
     "metadata": {},
     "output_type": "display_data"
    },
    {
     "data": {
      "application/javascript": [
       "\n",
       "        if (window._pyforest_update_imports_cell) { window._pyforest_update_imports_cell('import re'); }\n",
       "    "
      ],
      "text/plain": [
       "<IPython.core.display.Javascript object>"
      ]
     },
     "metadata": {},
     "output_type": "display_data"
    },
    {
     "name": "stdout",
     "output_type": "stream",
     "text": [
      "Successfully retrieved 351 - https://www.halfbakedharvest.com/oatmeal-cookie-magic-bars/ with proxy 4.234.52.159:8080\n"
     ]
    },
    {
     "data": {
      "application/javascript": [
       "\n",
       "        if (window._pyforest_update_imports_cell) { window._pyforest_update_imports_cell('import re'); }\n",
       "    "
      ],
      "text/plain": [
       "<IPython.core.display.Javascript object>"
      ]
     },
     "metadata": {},
     "output_type": "display_data"
    },
    {
     "data": {
      "application/javascript": [
       "\n",
       "        if (window._pyforest_update_imports_cell) { window._pyforest_update_imports_cell('import re'); }\n",
       "    "
      ],
      "text/plain": [
       "<IPython.core.display.Javascript object>"
      ]
     },
     "metadata": {},
     "output_type": "display_data"
    },
    {
     "data": {
      "application/javascript": [
       "\n",
       "        if (window._pyforest_update_imports_cell) { window._pyforest_update_imports_cell('import re'); }\n",
       "    "
      ],
      "text/plain": [
       "<IPython.core.display.Javascript object>"
      ]
     },
     "metadata": {},
     "output_type": "display_data"
    },
    {
     "name": "stdout",
     "output_type": "stream",
     "text": [
      "Successfully retrieved 352 - https://www.halfbakedharvest.com/peach-galette/ with proxy 4.159.24.156:8080\n",
      "Proxy 20.26.186.150:8080 failed for https://www.halfbakedharvest.com/ice-cream-stuffed-dates/: ('Connection aborted.', ConnectionResetError(54, 'Connection reset by peer'))\n"
     ]
    },
    {
     "data": {
      "application/javascript": [
       "\n",
       "        if (window._pyforest_update_imports_cell) { window._pyforest_update_imports_cell('import re'); }\n",
       "    "
      ],
      "text/plain": [
       "<IPython.core.display.Javascript object>"
      ]
     },
     "metadata": {},
     "output_type": "display_data"
    },
    {
     "data": {
      "application/javascript": [
       "\n",
       "        if (window._pyforest_update_imports_cell) { window._pyforest_update_imports_cell('import re'); }\n",
       "    "
      ],
      "text/plain": [
       "<IPython.core.display.Javascript object>"
      ]
     },
     "metadata": {},
     "output_type": "display_data"
    },
    {
     "data": {
      "application/javascript": [
       "\n",
       "        if (window._pyforest_update_imports_cell) { window._pyforest_update_imports_cell('import re'); }\n",
       "    "
      ],
      "text/plain": [
       "<IPython.core.display.Javascript object>"
      ]
     },
     "metadata": {},
     "output_type": "display_data"
    },
    {
     "data": {
      "application/javascript": [
       "\n",
       "        if (window._pyforest_update_imports_cell) { window._pyforest_update_imports_cell('import re'); }\n",
       "    "
      ],
      "text/plain": [
       "<IPython.core.display.Javascript object>"
      ]
     },
     "metadata": {},
     "output_type": "display_data"
    },
    {
     "name": "stdout",
     "output_type": "stream",
     "text": [
      "Successfully retrieved 354 - https://www.halfbakedharvest.com/ginger-blackberry-peach-cobbler/ with proxy 4.234.52.159:8080\n",
      "Proxy 4.159.24.156:8080 failed for https://www.halfbakedharvest.com/double-chocolate-chip-zucchini-bread/: ('Connection aborted.', ConnectionResetError(54, 'Connection reset by peer'))\n"
     ]
    },
    {
     "data": {
      "application/javascript": [
       "\n",
       "        if (window._pyforest_update_imports_cell) { window._pyforest_update_imports_cell('import re'); }\n",
       "    "
      ],
      "text/plain": [
       "<IPython.core.display.Javascript object>"
      ]
     },
     "metadata": {},
     "output_type": "display_data"
    },
    {
     "data": {
      "application/javascript": [
       "\n",
       "        if (window._pyforest_update_imports_cell) { window._pyforest_update_imports_cell('import re'); }\n",
       "    "
      ],
      "text/plain": [
       "<IPython.core.display.Javascript object>"
      ]
     },
     "metadata": {},
     "output_type": "display_data"
    },
    {
     "data": {
      "application/javascript": [
       "\n",
       "        if (window._pyforest_update_imports_cell) { window._pyforest_update_imports_cell('import re'); }\n",
       "    "
      ],
      "text/plain": [
       "<IPython.core.display.Javascript object>"
      ]
     },
     "metadata": {},
     "output_type": "display_data"
    },
    {
     "name": "stdout",
     "output_type": "stream",
     "text": [
      "Successfully retrieved 356 - https://www.halfbakedharvest.com/chocolate-malt-oreo-ice-cream/ with proxy 20.26.186.150:8080\n",
      "Proxy 4.234.52.159:8080 failed for https://www.halfbakedharvest.com/strawberry-tiramisu/: ('Connection aborted.', ConnectionResetError(54, 'Connection reset by peer'))\n"
     ]
    },
    {
     "data": {
      "application/javascript": [
       "\n",
       "        if (window._pyforest_update_imports_cell) { window._pyforest_update_imports_cell('import re'); }\n",
       "    "
      ],
      "text/plain": [
       "<IPython.core.display.Javascript object>"
      ]
     },
     "metadata": {},
     "output_type": "display_data"
    },
    {
     "data": {
      "application/javascript": [
       "\n",
       "        if (window._pyforest_update_imports_cell) { window._pyforest_update_imports_cell('import re'); }\n",
       "    "
      ],
      "text/plain": [
       "<IPython.core.display.Javascript object>"
      ]
     },
     "metadata": {},
     "output_type": "display_data"
    },
    {
     "data": {
      "application/javascript": [
       "\n",
       "        if (window._pyforest_update_imports_cell) { window._pyforest_update_imports_cell('import re'); }\n",
       "    "
      ],
      "text/plain": [
       "<IPython.core.display.Javascript object>"
      ]
     },
     "metadata": {},
     "output_type": "display_data"
    },
    {
     "name": "stdout",
     "output_type": "stream",
     "text": [
      "Successfully retrieved 358 - https://www.halfbakedharvest.com/smores-ice-cream-sandwiches/ with proxy 4.159.24.156:8080\n"
     ]
    },
    {
     "data": {
      "application/javascript": [
       "\n",
       "        if (window._pyforest_update_imports_cell) { window._pyforest_update_imports_cell('import re'); }\n",
       "    "
      ],
      "text/plain": [
       "<IPython.core.display.Javascript object>"
      ]
     },
     "metadata": {},
     "output_type": "display_data"
    },
    {
     "data": {
      "application/javascript": [
       "\n",
       "        if (window._pyforest_update_imports_cell) { window._pyforest_update_imports_cell('import re'); }\n",
       "    "
      ],
      "text/plain": [
       "<IPython.core.display.Javascript object>"
      ]
     },
     "metadata": {},
     "output_type": "display_data"
    },
    {
     "data": {
      "application/javascript": [
       "\n",
       "        if (window._pyforest_update_imports_cell) { window._pyforest_update_imports_cell('import re'); }\n",
       "    "
      ],
      "text/plain": [
       "<IPython.core.display.Javascript object>"
      ]
     },
     "metadata": {},
     "output_type": "display_data"
    },
    {
     "name": "stdout",
     "output_type": "stream",
     "text": [
      "Successfully retrieved 359 - https://www.halfbakedharvest.com/cookie-dough-chocolate-peanut-butter-bars/ with proxy 20.26.186.150:8080\n"
     ]
    },
    {
     "data": {
      "application/javascript": [
       "\n",
       "        if (window._pyforest_update_imports_cell) { window._pyforest_update_imports_cell('import re'); }\n",
       "    "
      ],
      "text/plain": [
       "<IPython.core.display.Javascript object>"
      ]
     },
     "metadata": {},
     "output_type": "display_data"
    },
    {
     "data": {
      "application/javascript": [
       "\n",
       "        if (window._pyforest_update_imports_cell) { window._pyforest_update_imports_cell('import re'); }\n",
       "    "
      ],
      "text/plain": [
       "<IPython.core.display.Javascript object>"
      ]
     },
     "metadata": {},
     "output_type": "display_data"
    },
    {
     "data": {
      "application/javascript": [
       "\n",
       "        if (window._pyforest_update_imports_cell) { window._pyforest_update_imports_cell('import re'); }\n",
       "    "
      ],
      "text/plain": [
       "<IPython.core.display.Javascript object>"
      ]
     },
     "metadata": {},
     "output_type": "display_data"
    },
    {
     "name": "stdout",
     "output_type": "stream",
     "text": [
      "Successfully retrieved 360 - https://www.halfbakedharvest.com/raspberry-white-chocolate-layer-cake/ with proxy 4.234.52.159:8080\n",
      "Proxy 4.159.24.156:8080 failed for https://www.halfbakedharvest.com/blackberry-lavender-ice-cream-sandwiches/: ('Connection aborted.', ConnectionResetError(54, 'Connection reset by peer'))\n"
     ]
    },
    {
     "data": {
      "application/javascript": [
       "\n",
       "        if (window._pyforest_update_imports_cell) { window._pyforest_update_imports_cell('import re'); }\n",
       "    "
      ],
      "text/plain": [
       "<IPython.core.display.Javascript object>"
      ]
     },
     "metadata": {},
     "output_type": "display_data"
    },
    {
     "data": {
      "application/javascript": [
       "\n",
       "        if (window._pyforest_update_imports_cell) { window._pyforest_update_imports_cell('import re'); }\n",
       "    "
      ],
      "text/plain": [
       "<IPython.core.display.Javascript object>"
      ]
     },
     "metadata": {},
     "output_type": "display_data"
    },
    {
     "data": {
      "application/javascript": [
       "\n",
       "        if (window._pyforest_update_imports_cell) { window._pyforest_update_imports_cell('import re'); }\n",
       "    "
      ],
      "text/plain": [
       "<IPython.core.display.Javascript object>"
      ]
     },
     "metadata": {},
     "output_type": "display_data"
    },
    {
     "name": "stdout",
     "output_type": "stream",
     "text": [
      "Successfully retrieved 362 - https://www.halfbakedharvest.com/chocolate-peanut-butter-fudge-bars/ with proxy 20.26.186.150:8080\n"
     ]
    },
    {
     "data": {
      "application/javascript": [
       "\n",
       "        if (window._pyforest_update_imports_cell) { window._pyforest_update_imports_cell('import re'); }\n",
       "    "
      ],
      "text/plain": [
       "<IPython.core.display.Javascript object>"
      ]
     },
     "metadata": {},
     "output_type": "display_data"
    },
    {
     "data": {
      "application/javascript": [
       "\n",
       "        if (window._pyforest_update_imports_cell) { window._pyforest_update_imports_cell('import re'); }\n",
       "    "
      ],
      "text/plain": [
       "<IPython.core.display.Javascript object>"
      ]
     },
     "metadata": {},
     "output_type": "display_data"
    },
    {
     "data": {
      "application/javascript": [
       "\n",
       "        if (window._pyforest_update_imports_cell) { window._pyforest_update_imports_cell('import re'); }\n",
       "    "
      ],
      "text/plain": [
       "<IPython.core.display.Javascript object>"
      ]
     },
     "metadata": {},
     "output_type": "display_data"
    },
    {
     "data": {
      "application/javascript": [
       "\n",
       "        if (window._pyforest_update_imports_cell) { window._pyforest_update_imports_cell('import re'); }\n",
       "    "
      ],
      "text/plain": [
       "<IPython.core.display.Javascript object>"
      ]
     },
     "metadata": {},
     "output_type": "display_data"
    },
    {
     "name": "stdout",
     "output_type": "stream",
     "text": [
      "Successfully retrieved 363 - https://www.halfbakedharvest.com/strawberry-bourbon-crisp/ with proxy 4.234.52.159:8080\n"
     ]
    },
    {
     "data": {
      "application/javascript": [
       "\n",
       "        if (window._pyforest_update_imports_cell) { window._pyforest_update_imports_cell('import re'); }\n",
       "    "
      ],
      "text/plain": [
       "<IPython.core.display.Javascript object>"
      ]
     },
     "metadata": {},
     "output_type": "display_data"
    },
    {
     "data": {
      "application/javascript": [
       "\n",
       "        if (window._pyforest_update_imports_cell) { window._pyforest_update_imports_cell('import re'); }\n",
       "    "
      ],
      "text/plain": [
       "<IPython.core.display.Javascript object>"
      ]
     },
     "metadata": {},
     "output_type": "display_data"
    },
    {
     "data": {
      "application/javascript": [
       "\n",
       "        if (window._pyforest_update_imports_cell) { window._pyforest_update_imports_cell('import re'); }\n",
       "    "
      ],
      "text/plain": [
       "<IPython.core.display.Javascript object>"
      ]
     },
     "metadata": {},
     "output_type": "display_data"
    },
    {
     "data": {
      "application/javascript": [
       "\n",
       "        if (window._pyforest_update_imports_cell) { window._pyforest_update_imports_cell('import re'); }\n",
       "    "
      ],
      "text/plain": [
       "<IPython.core.display.Javascript object>"
      ]
     },
     "metadata": {},
     "output_type": "display_data"
    },
    {
     "name": "stdout",
     "output_type": "stream",
     "text": [
      "Successfully retrieved 364 - https://www.halfbakedharvest.com/giant-frosted-strawberry-pop-tart/ with proxy 4.159.24.156:8080\n"
     ]
    },
    {
     "data": {
      "application/javascript": [
       "\n",
       "        if (window._pyforest_update_imports_cell) { window._pyforest_update_imports_cell('import re'); }\n",
       "    "
      ],
      "text/plain": [
       "<IPython.core.display.Javascript object>"
      ]
     },
     "metadata": {},
     "output_type": "display_data"
    },
    {
     "data": {
      "application/javascript": [
       "\n",
       "        if (window._pyforest_update_imports_cell) { window._pyforest_update_imports_cell('import re'); }\n",
       "    "
      ],
      "text/plain": [
       "<IPython.core.display.Javascript object>"
      ]
     },
     "metadata": {},
     "output_type": "display_data"
    },
    {
     "data": {
      "application/javascript": [
       "\n",
       "        if (window._pyforest_update_imports_cell) { window._pyforest_update_imports_cell('import re'); }\n",
       "    "
      ],
      "text/plain": [
       "<IPython.core.display.Javascript object>"
      ]
     },
     "metadata": {},
     "output_type": "display_data"
    },
    {
     "data": {
      "application/javascript": [
       "\n",
       "        if (window._pyforest_update_imports_cell) { window._pyforest_update_imports_cell('import re'); }\n",
       "    "
      ],
      "text/plain": [
       "<IPython.core.display.Javascript object>"
      ]
     },
     "metadata": {},
     "output_type": "display_data"
    },
    {
     "name": "stdout",
     "output_type": "stream",
     "text": [
      "Successfully retrieved 365 - https://www.halfbakedharvest.com/baklava/ with proxy 20.26.186.150:8080\n",
      "Proxy 4.234.52.159:8080 failed for https://www.halfbakedharvest.com/maple-glazed-doughnuts/: ('Connection aborted.', ConnectionResetError(54, 'Connection reset by peer'))\n",
      "Proxy 4.159.24.156:8080 failed for https://www.halfbakedharvest.com/espresso-chocolate-mousse/: ('Connection aborted.', ConnectionResetError(54, 'Connection reset by peer'))\n"
     ]
    },
    {
     "data": {
      "application/javascript": [
       "\n",
       "        if (window._pyforest_update_imports_cell) { window._pyforest_update_imports_cell('import re'); }\n",
       "    "
      ],
      "text/plain": [
       "<IPython.core.display.Javascript object>"
      ]
     },
     "metadata": {},
     "output_type": "display_data"
    },
    {
     "data": {
      "application/javascript": [
       "\n",
       "        if (window._pyforest_update_imports_cell) { window._pyforest_update_imports_cell('import re'); }\n",
       "    "
      ],
      "text/plain": [
       "<IPython.core.display.Javascript object>"
      ]
     },
     "metadata": {},
     "output_type": "display_data"
    },
    {
     "data": {
      "application/javascript": [
       "\n",
       "        if (window._pyforest_update_imports_cell) { window._pyforest_update_imports_cell('import re'); }\n",
       "    "
      ],
      "text/plain": [
       "<IPython.core.display.Javascript object>"
      ]
     },
     "metadata": {},
     "output_type": "display_data"
    },
    {
     "name": "stdout",
     "output_type": "stream",
     "text": [
      "Successfully retrieved 368 - https://www.halfbakedharvest.com/chewy-oatmeal-chocolate-chip-cookies/ with proxy 20.26.186.150:8080\n"
     ]
    },
    {
     "data": {
      "application/javascript": [
       "\n",
       "        if (window._pyforest_update_imports_cell) { window._pyforest_update_imports_cell('import re'); }\n",
       "    "
      ],
      "text/plain": [
       "<IPython.core.display.Javascript object>"
      ]
     },
     "metadata": {},
     "output_type": "display_data"
    },
    {
     "data": {
      "application/javascript": [
       "\n",
       "        if (window._pyforest_update_imports_cell) { window._pyforest_update_imports_cell('import re'); }\n",
       "    "
      ],
      "text/plain": [
       "<IPython.core.display.Javascript object>"
      ]
     },
     "metadata": {},
     "output_type": "display_data"
    },
    {
     "data": {
      "application/javascript": [
       "\n",
       "        if (window._pyforest_update_imports_cell) { window._pyforest_update_imports_cell('import re'); }\n",
       "    "
      ],
      "text/plain": [
       "<IPython.core.display.Javascript object>"
      ]
     },
     "metadata": {},
     "output_type": "display_data"
    },
    {
     "name": "stdout",
     "output_type": "stream",
     "text": [
      "Successfully retrieved 369 - https://www.halfbakedharvest.com/lemon-coconut-vanilla-sheet-cake/ with proxy 4.234.52.159:8080\n",
      "Proxy 4.159.24.156:8080 failed for https://www.halfbakedharvest.com/brown-butter-glazed-peanut-butter-blondies/: ('Connection aborted.', ConnectionResetError(54, 'Connection reset by peer'))\n",
      "Proxy 20.26.186.150:8080 failed for https://www.halfbakedharvest.com/double-strawberry-cupcakes/: HTTPSConnectionPool(host='www.halfbakedharvest.com', port=443): Max retries exceeded with url: /double-strawberry-cupcakes/ (Caused by SSLError(SSLEOFError(8, 'EOF occurred in violation of protocol (_ssl.c:1129)')))\n"
     ]
    },
    {
     "data": {
      "application/javascript": [
       "\n",
       "        if (window._pyforest_update_imports_cell) { window._pyforest_update_imports_cell('import re'); }\n",
       "    "
      ],
      "text/plain": [
       "<IPython.core.display.Javascript object>"
      ]
     },
     "metadata": {},
     "output_type": "display_data"
    },
    {
     "data": {
      "application/javascript": [
       "\n",
       "        if (window._pyforest_update_imports_cell) { window._pyforest_update_imports_cell('import re'); }\n",
       "    "
      ],
      "text/plain": [
       "<IPython.core.display.Javascript object>"
      ]
     },
     "metadata": {},
     "output_type": "display_data"
    },
    {
     "data": {
      "application/javascript": [
       "\n",
       "        if (window._pyforest_update_imports_cell) { window._pyforest_update_imports_cell('import re'); }\n",
       "    "
      ],
      "text/plain": [
       "<IPython.core.display.Javascript object>"
      ]
     },
     "metadata": {},
     "output_type": "display_data"
    },
    {
     "name": "stdout",
     "output_type": "stream",
     "text": [
      "Successfully retrieved 372 - https://www.halfbakedharvest.com/molten-coffee-brownie-pudding/ with proxy 4.234.52.159:8080\n",
      "Proxy 4.159.24.156:8080 failed for https://www.halfbakedharvest.com/swirled-caramel-sheet-cake/: ('Connection aborted.', ConnectionResetError(54, 'Connection reset by peer'))\n",
      "Proxy 20.26.186.150:8080 failed for https://www.halfbakedharvest.com/chewy-chocolate-peanut-butter-bars/: ('Connection aborted.', ConnectionResetError(54, 'Connection reset by peer'))\n",
      "Proxy 4.234.52.159:8080 failed for https://www.halfbakedharvest.com/baked-chocolate-fudge-glazed-doughnuts/: ('Connection aborted.', ConnectionResetError(54, 'Connection reset by peer'))\n",
      "Proxy 4.159.24.156:8080 failed for https://www.halfbakedharvest.com/iced-lemon-loaf/: ('Connection aborted.', ConnectionResetError(54, 'Connection reset by peer'))\n",
      "Proxy 20.26.186.150:8080 failed for https://www.halfbakedharvest.com/chocolate-sheet-cake/: ('Connection aborted.', ConnectionResetError(54, 'Connection reset by peer'))\n"
     ]
    },
    {
     "data": {
      "application/javascript": [
       "\n",
       "        if (window._pyforest_update_imports_cell) { window._pyforest_update_imports_cell('import re'); }\n",
       "    "
      ],
      "text/plain": [
       "<IPython.core.display.Javascript object>"
      ]
     },
     "metadata": {},
     "output_type": "display_data"
    },
    {
     "data": {
      "application/javascript": [
       "\n",
       "        if (window._pyforest_update_imports_cell) { window._pyforest_update_imports_cell('import re'); }\n",
       "    "
      ],
      "text/plain": [
       "<IPython.core.display.Javascript object>"
      ]
     },
     "metadata": {},
     "output_type": "display_data"
    },
    {
     "data": {
      "application/javascript": [
       "\n",
       "        if (window._pyforest_update_imports_cell) { window._pyforest_update_imports_cell('import re'); }\n",
       "    "
      ],
      "text/plain": [
       "<IPython.core.display.Javascript object>"
      ]
     },
     "metadata": {},
     "output_type": "display_data"
    },
    {
     "name": "stdout",
     "output_type": "stream",
     "text": [
      "Successfully retrieved 378 - https://www.halfbakedharvest.com/tahini-honey-chocolate-chunk-cookies/ with proxy 4.234.52.159:8080\n",
      "Proxy 4.159.24.156:8080 failed for https://www.halfbakedharvest.com/chocolate-peanut-butter-oatmeal-bars/: ('Connection aborted.', ConnectionResetError(54, 'Connection reset by peer'))\n",
      "Proxy 20.26.186.150:8080 failed for https://www.halfbakedharvest.com/almond-butter-cookies/: ('Connection aborted.', ConnectionResetError(54, 'Connection reset by peer'))\n"
     ]
    },
    {
     "data": {
      "application/javascript": [
       "\n",
       "        if (window._pyforest_update_imports_cell) { window._pyforest_update_imports_cell('import re'); }\n",
       "    "
      ],
      "text/plain": [
       "<IPython.core.display.Javascript object>"
      ]
     },
     "metadata": {},
     "output_type": "display_data"
    },
    {
     "data": {
      "application/javascript": [
       "\n",
       "        if (window._pyforest_update_imports_cell) { window._pyforest_update_imports_cell('import re'); }\n",
       "    "
      ],
      "text/plain": [
       "<IPython.core.display.Javascript object>"
      ]
     },
     "metadata": {},
     "output_type": "display_data"
    },
    {
     "data": {
      "application/javascript": [
       "\n",
       "        if (window._pyforest_update_imports_cell) { window._pyforest_update_imports_cell('import re'); }\n",
       "    "
      ],
      "text/plain": [
       "<IPython.core.display.Javascript object>"
      ]
     },
     "metadata": {},
     "output_type": "display_data"
    },
    {
     "data": {
      "application/javascript": [
       "\n",
       "        if (window._pyforest_update_imports_cell) { window._pyforest_update_imports_cell('import re'); }\n",
       "    "
      ],
      "text/plain": [
       "<IPython.core.display.Javascript object>"
      ]
     },
     "metadata": {},
     "output_type": "display_data"
    },
    {
     "name": "stdout",
     "output_type": "stream",
     "text": [
      "Successfully retrieved 381 - https://www.halfbakedharvest.com/triple-chocolate-espresso-mousse-cake/ with proxy 4.234.52.159:8080\n",
      "Proxy 4.159.24.156:8080 failed for https://www.halfbakedharvest.com/lemon-chai-cake/: ('Connection aborted.', ConnectionResetError(54, 'Connection reset by peer'))\n",
      "Proxy 20.26.186.150:8080 failed for https://www.halfbakedharvest.com/peanut-butter-twix-bars/: ('Connection aborted.', ConnectionResetError(54, 'Connection reset by peer'))\n",
      "Proxy 4.234.52.159:8080 failed for https://www.halfbakedharvest.com/baked-blueberry-cinnamon-sugar-doughnuts/: HTTPSConnectionPool(host='www.halfbakedharvest.com', port=443): Max retries exceeded with url: /baked-blueberry-cinnamon-sugar-doughnuts/ (Caused by ProxyError('Unable to connect to proxy', ConnectTimeoutError(<urllib3.connection.HTTPSConnection object at 0x132d09b20>, 'Connection to 4.234.52.159 timed out. (connect timeout=30)')))\n",
      "Proxy 4.159.24.156:8080 failed for https://www.halfbakedharvest.com/oatmeal-chocolate-chip-cookie-cereal/: HTTPSConnectionPool(host='www.halfbakedharvest.com', port=443): Max retries exceeded with url: /oatmeal-chocolate-chip-cookie-cereal/ (Caused by ProxyError('Unable to connect to proxy', ConnectTimeoutError(<urllib3.connection.HTTPSConnection object at 0x123334040>, 'Connection to 4.159.24.156 timed out. (connect timeout=30)')))\n",
      "Proxy 20.26.186.150:8080 failed for https://www.halfbakedharvest.com/chocolate-fudge-skillet-cake/: ('Connection aborted.', ConnectionResetError(54, 'Connection reset by peer'))\n",
      "Proxy 4.234.52.159:8080 failed for https://www.halfbakedharvest.com/brown-butter-bourbon-pecan-chocolate-chunk-cookies/: ('Connection aborted.', ConnectionResetError(54, 'Connection reset by peer'))\n",
      "Proxy 4.159.24.156:8080 failed for https://www.halfbakedharvest.com/old-fashioned-chocolate-cream-pie/: ('Connection aborted.', ConnectionResetError(54, 'Connection reset by peer'))\n",
      "Proxy 20.26.186.150:8080 failed for https://www.halfbakedharvest.com/molten-chocolate-coffee-blondies/: ('Connection aborted.', ConnectionResetError(54, 'Connection reset by peer'))\n",
      "Proxy 4.234.52.159:8080 failed for https://www.halfbakedharvest.com/key-lime-pie-bars/: HTTPSConnectionPool(host='www.halfbakedharvest.com', port=443): Max retries exceeded with url: /key-lime-pie-bars/ (Caused by ProxyError('Unable to connect to proxy', ConnectTimeoutError(<urllib3.connection.HTTPSConnection object at 0x132d0d2e0>, 'Connection to 4.234.52.159 timed out. (connect timeout=30)')))\n"
     ]
    },
    {
     "data": {
      "application/javascript": [
       "\n",
       "        if (window._pyforest_update_imports_cell) { window._pyforest_update_imports_cell('import re'); }\n",
       "    "
      ],
      "text/plain": [
       "<IPython.core.display.Javascript object>"
      ]
     },
     "metadata": {},
     "output_type": "display_data"
    },
    {
     "data": {
      "application/javascript": [
       "\n",
       "        if (window._pyforest_update_imports_cell) { window._pyforest_update_imports_cell('import re'); }\n",
       "    "
      ],
      "text/plain": [
       "<IPython.core.display.Javascript object>"
      ]
     },
     "metadata": {},
     "output_type": "display_data"
    },
    {
     "data": {
      "application/javascript": [
       "\n",
       "        if (window._pyforest_update_imports_cell) { window._pyforest_update_imports_cell('import re'); }\n",
       "    "
      ],
      "text/plain": [
       "<IPython.core.display.Javascript object>"
      ]
     },
     "metadata": {},
     "output_type": "display_data"
    },
    {
     "name": "stdout",
     "output_type": "stream",
     "text": [
      "Successfully retrieved 391 - https://www.halfbakedharvest.com/magic-chocolate-chip-cookies/ with proxy 4.159.24.156:8080\n",
      "ChunkedEncodingError occurred for proxy 20.26.186.150:8080 and https://www.halfbakedharvest.com/5-minute-grilled-cinnamon-toast-with-chocolate/: ('Connection broken: IncompleteRead(784 bytes read, 9456 more expected)', IncompleteRead(784 bytes read, 9456 more expected))\n",
      "Proxy 4.234.52.159:8080 failed for https://www.halfbakedharvest.com/swirled-carrot-cake-cheesecake-bars/: ('Connection aborted.', ConnectionResetError(54, 'Connection reset by peer'))\n",
      "Proxy 4.159.24.156:8080 failed for https://www.halfbakedharvest.com/blueberry-lemon-poppy-seed-creme-cake/: HTTPSConnectionPool(host='www.halfbakedharvest.com', port=443): Max retries exceeded with url: /blueberry-lemon-poppy-seed-creme-cake/ (Caused by ProxyError('Unable to connect to proxy', ConnectTimeoutError(<urllib3.connection.HTTPSConnection object at 0x132d77310>, 'Connection to 4.159.24.156 timed out. (connect timeout=30)')))\n",
      "Proxy 20.26.186.150:8080 failed for https://www.halfbakedharvest.com/chocolate-peanut-butter-pie/: ('Connection aborted.', ConnectionResetError(54, 'Connection reset by peer'))\n"
     ]
    },
    {
     "data": {
      "application/javascript": [
       "\n",
       "        if (window._pyforest_update_imports_cell) { window._pyforest_update_imports_cell('import re'); }\n",
       "    "
      ],
      "text/plain": [
       "<IPython.core.display.Javascript object>"
      ]
     },
     "metadata": {},
     "output_type": "display_data"
    },
    {
     "data": {
      "application/javascript": [
       "\n",
       "        if (window._pyforest_update_imports_cell) { window._pyforest_update_imports_cell('import re'); }\n",
       "    "
      ],
      "text/plain": [
       "<IPython.core.display.Javascript object>"
      ]
     },
     "metadata": {},
     "output_type": "display_data"
    },
    {
     "name": "stdout",
     "output_type": "stream",
     "text": [
      "Successfully retrieved 396 - https://www.halfbakedharvest.com/coconut-pecan-caramel-butter-cake/ with proxy 4.234.52.159:8080\n"
     ]
    },
    {
     "data": {
      "application/javascript": [
       "\n",
       "        if (window._pyforest_update_imports_cell) { window._pyforest_update_imports_cell('import re'); }\n",
       "    "
      ],
      "text/plain": [
       "<IPython.core.display.Javascript object>"
      ]
     },
     "metadata": {},
     "output_type": "display_data"
    },
    {
     "data": {
      "application/javascript": [
       "\n",
       "        if (window._pyforest_update_imports_cell) { window._pyforest_update_imports_cell('import re'); }\n",
       "    "
      ],
      "text/plain": [
       "<IPython.core.display.Javascript object>"
      ]
     },
     "metadata": {},
     "output_type": "display_data"
    },
    {
     "data": {
      "application/javascript": [
       "\n",
       "        if (window._pyforest_update_imports_cell) { window._pyforest_update_imports_cell('import re'); }\n",
       "    "
      ],
      "text/plain": [
       "<IPython.core.display.Javascript object>"
      ]
     },
     "metadata": {},
     "output_type": "display_data"
    },
    {
     "data": {
      "application/javascript": [
       "\n",
       "        if (window._pyforest_update_imports_cell) { window._pyforest_update_imports_cell('import re'); }\n",
       "    "
      ],
      "text/plain": [
       "<IPython.core.display.Javascript object>"
      ]
     },
     "metadata": {},
     "output_type": "display_data"
    },
    {
     "name": "stdout",
     "output_type": "stream",
     "text": [
      "Successfully retrieved 397 - https://www.halfbakedharvest.com/chocolate-cinnamon-crunch-knots/ with proxy 4.159.24.156:8080\n",
      "Proxy 20.26.186.150:8080 failed for https://www.halfbakedharvest.com/lemon-sugar-burnt-basque-cheesecake/: ('Connection aborted.', ConnectionResetError(54, 'Connection reset by peer'))\n",
      "Proxy 4.234.52.159:8080 failed for https://www.halfbakedharvest.com/vanilla-earl-grey-creme-brulee/: ('Connection aborted.', ConnectionResetError(54, 'Connection reset by peer'))\n"
     ]
    },
    {
     "data": {
      "application/javascript": [
       "\n",
       "        if (window._pyforest_update_imports_cell) { window._pyforest_update_imports_cell('import re'); }\n",
       "    "
      ],
      "text/plain": [
       "<IPython.core.display.Javascript object>"
      ]
     },
     "metadata": {},
     "output_type": "display_data"
    },
    {
     "data": {
      "application/javascript": [
       "\n",
       "        if (window._pyforest_update_imports_cell) { window._pyforest_update_imports_cell('import re'); }\n",
       "    "
      ],
      "text/plain": [
       "<IPython.core.display.Javascript object>"
      ]
     },
     "metadata": {},
     "output_type": "display_data"
    },
    {
     "data": {
      "application/javascript": [
       "\n",
       "        if (window._pyforest_update_imports_cell) { window._pyforest_update_imports_cell('import re'); }\n",
       "    "
      ],
      "text/plain": [
       "<IPython.core.display.Javascript object>"
      ]
     },
     "metadata": {},
     "output_type": "display_data"
    },
    {
     "name": "stdout",
     "output_type": "stream",
     "text": [
      "Successfully retrieved 400 - https://www.halfbakedharvest.com/brown-sugar-peanut-butter-cookies/ with proxy 4.159.24.156:8080\n",
      "Proxy 20.26.186.150:8080 failed for https://www.halfbakedharvest.com/cinnamon-streusel-coffee-coffee-cake/: ('Connection aborted.', ConnectionResetError(54, 'Connection reset by peer'))\n"
     ]
    },
    {
     "data": {
      "application/javascript": [
       "\n",
       "        if (window._pyforest_update_imports_cell) { window._pyforest_update_imports_cell('import re'); }\n",
       "    "
      ],
      "text/plain": [
       "<IPython.core.display.Javascript object>"
      ]
     },
     "metadata": {},
     "output_type": "display_data"
    },
    {
     "data": {
      "application/javascript": [
       "\n",
       "        if (window._pyforest_update_imports_cell) { window._pyforest_update_imports_cell('import re'); }\n",
       "    "
      ],
      "text/plain": [
       "<IPython.core.display.Javascript object>"
      ]
     },
     "metadata": {},
     "output_type": "display_data"
    },
    {
     "data": {
      "application/javascript": [
       "\n",
       "        if (window._pyforest_update_imports_cell) { window._pyforest_update_imports_cell('import re'); }\n",
       "    "
      ],
      "text/plain": [
       "<IPython.core.display.Javascript object>"
      ]
     },
     "metadata": {},
     "output_type": "display_data"
    },
    {
     "name": "stdout",
     "output_type": "stream",
     "text": [
      "Successfully retrieved 402 - https://www.halfbakedharvest.com/gooey-chocolate-oatmeal-bars/ with proxy 4.234.52.159:8080\n",
      "Proxy 4.159.24.156:8080 failed for https://www.halfbakedharvest.com/caramel-butter-cake/: ('Connection aborted.', ConnectionResetError(54, 'Connection reset by peer'))\n",
      "Proxy 20.26.186.150:8080 failed for https://www.halfbakedharvest.com/earl-grey-blueberry-lemon-cake/: ('Connection aborted.', ConnectionResetError(54, 'Connection reset by peer'))\n",
      "Proxy 4.234.52.159:8080 failed for https://www.halfbakedharvest.com/brown-butter-malted-chocolate-chunk-cookies/: ('Connection aborted.', ConnectionResetError(54, 'Connection reset by peer'))\n",
      "Proxy 4.159.24.156:8080 failed for https://www.halfbakedharvest.com/strawberry-conversation-heart-cupcakes/: ('Connection aborted.', ConnectionResetError(54, 'Connection reset by peer'))\n",
      "Proxy 20.26.186.150:8080 failed for https://www.halfbakedharvest.com/salted-pretzel-magic-bars/: ('Connection aborted.', ConnectionResetError(54, 'Connection reset by peer'))\n"
     ]
    },
    {
     "data": {
      "application/javascript": [
       "\n",
       "        if (window._pyforest_update_imports_cell) { window._pyforest_update_imports_cell('import re'); }\n",
       "    "
      ],
      "text/plain": [
       "<IPython.core.display.Javascript object>"
      ]
     },
     "metadata": {},
     "output_type": "display_data"
    },
    {
     "data": {
      "application/javascript": [
       "\n",
       "        if (window._pyforest_update_imports_cell) { window._pyforest_update_imports_cell('import re'); }\n",
       "    "
      ],
      "text/plain": [
       "<IPython.core.display.Javascript object>"
      ]
     },
     "metadata": {},
     "output_type": "display_data"
    },
    {
     "data": {
      "application/javascript": [
       "\n",
       "        if (window._pyforest_update_imports_cell) { window._pyforest_update_imports_cell('import re'); }\n",
       "    "
      ],
      "text/plain": [
       "<IPython.core.display.Javascript object>"
      ]
     },
     "metadata": {},
     "output_type": "display_data"
    },
    {
     "name": "stdout",
     "output_type": "stream",
     "text": [
      "Successfully retrieved 408 - https://www.halfbakedharvest.com/no-bake-mixed-berry-custard-tart/ with proxy 4.234.52.159:8080\n"
     ]
    },
    {
     "data": {
      "application/javascript": [
       "\n",
       "        if (window._pyforest_update_imports_cell) { window._pyforest_update_imports_cell('import re'); }\n",
       "    "
      ],
      "text/plain": [
       "<IPython.core.display.Javascript object>"
      ]
     },
     "metadata": {},
     "output_type": "display_data"
    },
    {
     "data": {
      "application/javascript": [
       "\n",
       "        if (window._pyforest_update_imports_cell) { window._pyforest_update_imports_cell('import re'); }\n",
       "    "
      ],
      "text/plain": [
       "<IPython.core.display.Javascript object>"
      ]
     },
     "metadata": {},
     "output_type": "display_data"
    },
    {
     "data": {
      "application/javascript": [
       "\n",
       "        if (window._pyforest_update_imports_cell) { window._pyforest_update_imports_cell('import re'); }\n",
       "    "
      ],
      "text/plain": [
       "<IPython.core.display.Javascript object>"
      ]
     },
     "metadata": {},
     "output_type": "display_data"
    },
    {
     "name": "stdout",
     "output_type": "stream",
     "text": [
      "Successfully retrieved 409 - https://www.halfbakedharvest.com/bourbon-pecan-cherry-hand-pies/ with proxy 4.159.24.156:8080\n",
      "Proxy 20.26.186.150:8080 failed for https://www.halfbakedharvest.com/6-ingredient-rice-krispie-treat-chocolate-ice-cream-sandwiches/: ('Connection aborted.', ConnectionResetError(54, 'Connection reset by peer'))\n"
     ]
    },
    {
     "data": {
      "application/javascript": [
       "\n",
       "        if (window._pyforest_update_imports_cell) { window._pyforest_update_imports_cell('import re'); }\n",
       "    "
      ],
      "text/plain": [
       "<IPython.core.display.Javascript object>"
      ]
     },
     "metadata": {},
     "output_type": "display_data"
    },
    {
     "data": {
      "application/javascript": [
       "\n",
       "        if (window._pyforest_update_imports_cell) { window._pyforest_update_imports_cell('import re'); }\n",
       "    "
      ],
      "text/plain": [
       "<IPython.core.display.Javascript object>"
      ]
     },
     "metadata": {},
     "output_type": "display_data"
    },
    {
     "data": {
      "application/javascript": [
       "\n",
       "        if (window._pyforest_update_imports_cell) { window._pyforest_update_imports_cell('import re'); }\n",
       "    "
      ],
      "text/plain": [
       "<IPython.core.display.Javascript object>"
      ]
     },
     "metadata": {},
     "output_type": "display_data"
    },
    {
     "name": "stdout",
     "output_type": "stream",
     "text": [
      "Successfully retrieved 411 - https://www.halfbakedharvest.com/blackberry-lavender-naked-cake/ with proxy 4.234.52.159:8080\n",
      "Proxy 4.159.24.156:8080 failed for https://www.halfbakedharvest.com/blueberry-galette/: ('Connection aborted.', ConnectionResetError(54, 'Connection reset by peer'))\n"
     ]
    },
    {
     "data": {
      "application/javascript": [
       "\n",
       "        if (window._pyforest_update_imports_cell) { window._pyforest_update_imports_cell('import re'); }\n",
       "    "
      ],
      "text/plain": [
       "<IPython.core.display.Javascript object>"
      ]
     },
     "metadata": {},
     "output_type": "display_data"
    },
    {
     "data": {
      "application/javascript": [
       "\n",
       "        if (window._pyforest_update_imports_cell) { window._pyforest_update_imports_cell('import re'); }\n",
       "    "
      ],
      "text/plain": [
       "<IPython.core.display.Javascript object>"
      ]
     },
     "metadata": {},
     "output_type": "display_data"
    },
    {
     "data": {
      "application/javascript": [
       "\n",
       "        if (window._pyforest_update_imports_cell) { window._pyforest_update_imports_cell('import re'); }\n",
       "    "
      ],
      "text/plain": [
       "<IPython.core.display.Javascript object>"
      ]
     },
     "metadata": {},
     "output_type": "display_data"
    },
    {
     "name": "stdout",
     "output_type": "stream",
     "text": [
      "Successfully retrieved 413 - https://www.halfbakedharvest.com/toasted-smore-chocolate-ice-cream-cups/ with proxy 20.26.186.150:8080\n"
     ]
    },
    {
     "data": {
      "application/javascript": [
       "\n",
       "        if (window._pyforest_update_imports_cell) { window._pyforest_update_imports_cell('import re'); }\n",
       "    "
      ],
      "text/plain": [
       "<IPython.core.display.Javascript object>"
      ]
     },
     "metadata": {},
     "output_type": "display_data"
    },
    {
     "data": {
      "application/javascript": [
       "\n",
       "        if (window._pyforest_update_imports_cell) { window._pyforest_update_imports_cell('import re'); }\n",
       "    "
      ],
      "text/plain": [
       "<IPython.core.display.Javascript object>"
      ]
     },
     "metadata": {},
     "output_type": "display_data"
    },
    {
     "data": {
      "application/javascript": [
       "\n",
       "        if (window._pyforest_update_imports_cell) { window._pyforest_update_imports_cell('import re'); }\n",
       "    "
      ],
      "text/plain": [
       "<IPython.core.display.Javascript object>"
      ]
     },
     "metadata": {},
     "output_type": "display_data"
    },
    {
     "name": "stdout",
     "output_type": "stream",
     "text": [
      "Successfully retrieved 414 - https://www.halfbakedharvest.com/creamy-mocha-custard/ with proxy 4.234.52.159:8080\n",
      "Proxy 4.159.24.156:8080 failed for https://www.halfbakedharvest.com/cookie-ice-cream-sandwiches/: HTTPSConnectionPool(host='www.halfbakedharvest.com', port=443): Max retries exceeded with url: /cookie-ice-cream-sandwiches/ (Caused by ProxyError('Unable to connect to proxy', OSError('Tunnel connection failed: 502 Bad Gateway')))\n"
     ]
    },
    {
     "data": {
      "application/javascript": [
       "\n",
       "        if (window._pyforest_update_imports_cell) { window._pyforest_update_imports_cell('import re'); }\n",
       "    "
      ],
      "text/plain": [
       "<IPython.core.display.Javascript object>"
      ]
     },
     "metadata": {},
     "output_type": "display_data"
    },
    {
     "data": {
      "application/javascript": [
       "\n",
       "        if (window._pyforest_update_imports_cell) { window._pyforest_update_imports_cell('import re'); }\n",
       "    "
      ],
      "text/plain": [
       "<IPython.core.display.Javascript object>"
      ]
     },
     "metadata": {},
     "output_type": "display_data"
    },
    {
     "name": "stdout",
     "output_type": "stream",
     "text": [
      "Successfully retrieved 416 - https://www.halfbakedharvest.com/chocolate-peanut-butter-cheerio-bars/ with proxy 20.26.186.150:8080\n"
     ]
    },
    {
     "data": {
      "application/javascript": [
       "\n",
       "        if (window._pyforest_update_imports_cell) { window._pyforest_update_imports_cell('import re'); }\n",
       "    "
      ],
      "text/plain": [
       "<IPython.core.display.Javascript object>"
      ]
     },
     "metadata": {},
     "output_type": "display_data"
    },
    {
     "data": {
      "application/javascript": [
       "\n",
       "        if (window._pyforest_update_imports_cell) { window._pyforest_update_imports_cell('import re'); }\n",
       "    "
      ],
      "text/plain": [
       "<IPython.core.display.Javascript object>"
      ]
     },
     "metadata": {},
     "output_type": "display_data"
    },
    {
     "data": {
      "application/javascript": [
       "\n",
       "        if (window._pyforest_update_imports_cell) { window._pyforest_update_imports_cell('import re'); }\n",
       "    "
      ],
      "text/plain": [
       "<IPython.core.display.Javascript object>"
      ]
     },
     "metadata": {},
     "output_type": "display_data"
    },
    {
     "name": "stdout",
     "output_type": "stream",
     "text": [
      "Successfully retrieved 417 - https://www.halfbakedharvest.com/fudge-popsicles/ with proxy 4.234.52.159:8080\n",
      "Proxy 4.159.24.156:8080 failed for https://www.halfbakedharvest.com/no-bake-fruit-tart/: ('Connection aborted.', RemoteDisconnected('Remote end closed connection without response'))\n"
     ]
    },
    {
     "data": {
      "application/javascript": [
       "\n",
       "        if (window._pyforest_update_imports_cell) { window._pyforest_update_imports_cell('import re'); }\n",
       "    "
      ],
      "text/plain": [
       "<IPython.core.display.Javascript object>"
      ]
     },
     "metadata": {},
     "output_type": "display_data"
    },
    {
     "data": {
      "application/javascript": [
       "\n",
       "        if (window._pyforest_update_imports_cell) { window._pyforest_update_imports_cell('import re'); }\n",
       "    "
      ],
      "text/plain": [
       "<IPython.core.display.Javascript object>"
      ]
     },
     "metadata": {},
     "output_type": "display_data"
    },
    {
     "data": {
      "application/javascript": [
       "\n",
       "        if (window._pyforest_update_imports_cell) { window._pyforest_update_imports_cell('import re'); }\n",
       "    "
      ],
      "text/plain": [
       "<IPython.core.display.Javascript object>"
      ]
     },
     "metadata": {},
     "output_type": "display_data"
    },
    {
     "data": {
      "application/javascript": [
       "\n",
       "        if (window._pyforest_update_imports_cell) { window._pyforest_update_imports_cell('import re'); }\n",
       "    "
      ],
      "text/plain": [
       "<IPython.core.display.Javascript object>"
      ]
     },
     "metadata": {},
     "output_type": "display_data"
    },
    {
     "name": "stdout",
     "output_type": "stream",
     "text": [
      "Successfully retrieved 419 - https://www.halfbakedharvest.com/easy-baklava/ with proxy 20.26.186.150:8080\n",
      "Proxy 4.234.52.159:8080 failed for https://www.halfbakedharvest.com/chocolate-chip-skillet-cookie/: HTTPSConnectionPool(host='www.halfbakedharvest.com', port=443): Max retries exceeded with url: /chocolate-chip-skillet-cookie/ (Caused by ProxyError('Unable to connect to proxy', ConnectTimeoutError(<urllib3.connection.HTTPSConnection object at 0x123773130>, 'Connection to 4.234.52.159 timed out. (connect timeout=30)')))\n"
     ]
    },
    {
     "data": {
      "application/javascript": [
       "\n",
       "        if (window._pyforest_update_imports_cell) { window._pyforest_update_imports_cell('import re'); }\n",
       "    "
      ],
      "text/plain": [
       "<IPython.core.display.Javascript object>"
      ]
     },
     "metadata": {},
     "output_type": "display_data"
    },
    {
     "data": {
      "application/javascript": [
       "\n",
       "        if (window._pyforest_update_imports_cell) { window._pyforest_update_imports_cell('import re'); }\n",
       "    "
      ],
      "text/plain": [
       "<IPython.core.display.Javascript object>"
      ]
     },
     "metadata": {},
     "output_type": "display_data"
    },
    {
     "data": {
      "application/javascript": [
       "\n",
       "        if (window._pyforest_update_imports_cell) { window._pyforest_update_imports_cell('import re'); }\n",
       "    "
      ],
      "text/plain": [
       "<IPython.core.display.Javascript object>"
      ]
     },
     "metadata": {},
     "output_type": "display_data"
    },
    {
     "name": "stdout",
     "output_type": "stream",
     "text": [
      "Successfully retrieved 421 - https://www.halfbakedharvest.com/strawberry-shortcakes/ with proxy 4.159.24.156:8080\n",
      "ChunkedEncodingError occurred for proxy 20.26.186.150:8080 and https://www.halfbakedharvest.com/tres-leches-cake/: ('Connection broken: IncompleteRead(571 bytes read, 3535 more expected)', IncompleteRead(571 bytes read, 3535 more expected))\n",
      "Proxy 4.234.52.159:8080 failed for https://www.halfbakedharvest.com/easy-cinnamon-churros-with-coffee-chocolate-sauce/: ('Connection aborted.', ConnectionResetError(54, 'Connection reset by peer'))\n"
     ]
    },
    {
     "data": {
      "application/javascript": [
       "\n",
       "        if (window._pyforest_update_imports_cell) { window._pyforest_update_imports_cell('import re'); }\n",
       "    "
      ],
      "text/plain": [
       "<IPython.core.display.Javascript object>"
      ]
     },
     "metadata": {},
     "output_type": "display_data"
    },
    {
     "data": {
      "application/javascript": [
       "\n",
       "        if (window._pyforest_update_imports_cell) { window._pyforest_update_imports_cell('import re'); }\n",
       "    "
      ],
      "text/plain": [
       "<IPython.core.display.Javascript object>"
      ]
     },
     "metadata": {},
     "output_type": "display_data"
    },
    {
     "data": {
      "application/javascript": [
       "\n",
       "        if (window._pyforest_update_imports_cell) { window._pyforest_update_imports_cell('import re'); }\n",
       "    "
      ],
      "text/plain": [
       "<IPython.core.display.Javascript object>"
      ]
     },
     "metadata": {},
     "output_type": "display_data"
    },
    {
     "name": "stdout",
     "output_type": "stream",
     "text": [
      "Successfully retrieved 424 - https://www.halfbakedharvest.com/dark-chocolate-chiffon-pie/ with proxy 4.159.24.156:8080\n"
     ]
    },
    {
     "data": {
      "application/javascript": [
       "\n",
       "        if (window._pyforest_update_imports_cell) { window._pyforest_update_imports_cell('import re'); }\n",
       "    "
      ],
      "text/plain": [
       "<IPython.core.display.Javascript object>"
      ]
     },
     "metadata": {},
     "output_type": "display_data"
    },
    {
     "data": {
      "application/javascript": [
       "\n",
       "        if (window._pyforest_update_imports_cell) { window._pyforest_update_imports_cell('import re'); }\n",
       "    "
      ],
      "text/plain": [
       "<IPython.core.display.Javascript object>"
      ]
     },
     "metadata": {},
     "output_type": "display_data"
    },
    {
     "name": "stdout",
     "output_type": "stream",
     "text": [
      "Successfully retrieved 425 - https://www.halfbakedharvest.com/5-ingredient-chocolate-covered-peanut-butter-crunch-bars/ with proxy 20.26.186.150:8080\n",
      "Proxy 4.234.52.159:8080 failed for https://www.halfbakedharvest.com/hydrangea-flower-carrot-cake-cupcakes/: ('Connection aborted.', ConnectionResetError(54, 'Connection reset by peer'))\n"
     ]
    },
    {
     "data": {
      "application/javascript": [
       "\n",
       "        if (window._pyforest_update_imports_cell) { window._pyforest_update_imports_cell('import re'); }\n",
       "    "
      ],
      "text/plain": [
       "<IPython.core.display.Javascript object>"
      ]
     },
     "metadata": {},
     "output_type": "display_data"
    },
    {
     "data": {
      "application/javascript": [
       "\n",
       "        if (window._pyforest_update_imports_cell) { window._pyforest_update_imports_cell('import re'); }\n",
       "    "
      ],
      "text/plain": [
       "<IPython.core.display.Javascript object>"
      ]
     },
     "metadata": {},
     "output_type": "display_data"
    },
    {
     "data": {
      "application/javascript": [
       "\n",
       "        if (window._pyforest_update_imports_cell) { window._pyforest_update_imports_cell('import re'); }\n",
       "    "
      ],
      "text/plain": [
       "<IPython.core.display.Javascript object>"
      ]
     },
     "metadata": {},
     "output_type": "display_data"
    },
    {
     "name": "stdout",
     "output_type": "stream",
     "text": [
      "Successfully retrieved 427 - https://www.halfbakedharvest.com/blueberry-lemon-cheesecake-bars-with-candied-lemon/ with proxy 4.159.24.156:8080\n",
      "Proxy 20.26.186.150:8080 failed for https://www.halfbakedharvest.com/strawberry-chamomile-naked-cake/: ('Connection aborted.', ConnectionResetError(54, 'Connection reset by peer'))\n"
     ]
    },
    {
     "data": {
      "application/javascript": [
       "\n",
       "        if (window._pyforest_update_imports_cell) { window._pyforest_update_imports_cell('import re'); }\n",
       "    "
      ],
      "text/plain": [
       "<IPython.core.display.Javascript object>"
      ]
     },
     "metadata": {},
     "output_type": "display_data"
    },
    {
     "data": {
      "application/javascript": [
       "\n",
       "        if (window._pyforest_update_imports_cell) { window._pyforest_update_imports_cell('import re'); }\n",
       "    "
      ],
      "text/plain": [
       "<IPython.core.display.Javascript object>"
      ]
     },
     "metadata": {},
     "output_type": "display_data"
    },
    {
     "data": {
      "application/javascript": [
       "\n",
       "        if (window._pyforest_update_imports_cell) { window._pyforest_update_imports_cell('import re'); }\n",
       "    "
      ],
      "text/plain": [
       "<IPython.core.display.Javascript object>"
      ]
     },
     "metadata": {},
     "output_type": "display_data"
    },
    {
     "data": {
      "application/javascript": [
       "\n",
       "        if (window._pyforest_update_imports_cell) { window._pyforest_update_imports_cell('import re'); }\n",
       "    "
      ],
      "text/plain": [
       "<IPython.core.display.Javascript object>"
      ]
     },
     "metadata": {},
     "output_type": "display_data"
    },
    {
     "name": "stdout",
     "output_type": "stream",
     "text": [
      "Successfully retrieved 429 - https://www.halfbakedharvest.com/coconut-banana-cake-with-chocolate-frosting/ with proxy 4.234.52.159:8080\n",
      "Proxy 4.159.24.156:8080 failed for https://www.halfbakedharvest.com/6-ingredient-vegan-chocolate-chia-mousse/: ('Connection aborted.', ConnectionResetError(54, 'Connection reset by peer'))\n",
      "Proxy 20.26.186.150:8080 failed for https://www.halfbakedharvest.com/crinkle-top-brownies/: ('Connection aborted.', ConnectionResetError(54, 'Connection reset by peer'))\n",
      "Proxy 4.234.52.159:8080 failed for https://www.halfbakedharvest.com/strawberry-rhubarb-cobbler-honey-butter-biscuits/: HTTPSConnectionPool(host='www.halfbakedharvest.com', port=443): Max retries exceeded with url: /strawberry-rhubarb-cobbler-honey-butter-biscuits/ (Caused by ProxyError('Unable to connect to proxy', ConnectTimeoutError(<urllib3.connection.HTTPSConnection object at 0x1327cbc70>, 'Connection to 4.234.52.159 timed out. (connect timeout=30)')))\n",
      "Proxy 4.159.24.156:8080 failed for https://www.halfbakedharvest.com/rocky-road-pudding-parfaits/: ('Connection aborted.', ConnectionResetError(54, 'Connection reset by peer'))\n",
      "ChunkedEncodingError occurred for proxy 20.26.186.150:8080 and https://www.halfbakedharvest.com/banana-cream-pie-chocolate-peanuts/: ('Connection broken: IncompleteRead(8730 bytes read, 1510 more expected)', IncompleteRead(8730 bytes read, 1510 more expected))\n",
      "Proxy 4.234.52.159:8080 failed for https://www.halfbakedharvest.com/strawberry-rosehip-frozen-yogurt/: ('Connection aborted.', ConnectionResetError(54, 'Connection reset by peer'))\n",
      "Proxy 4.159.24.156:8080 failed for https://www.halfbakedharvest.com/fresh-fruit-fools-honey-butter-croissants/: ('Connection aborted.', ConnectionResetError(54, 'Connection reset by peer'))\n",
      "Proxy 20.26.186.150:8080 failed for https://www.halfbakedharvest.com/coconut-chocolate-chunk-cookies-video/: ('Connection aborted.', ConnectionResetError(54, 'Connection reset by peer'))\n",
      "Proxy 4.234.52.159:8080 failed for https://www.halfbakedharvest.com/coconut-banana-3-milk-cupcakes-with-nutella-buttercream/: ('Connection aborted.', ConnectionResetError(54, 'Connection reset by peer'))\n",
      "Proxy 4.159.24.156:8080 failed for https://www.halfbakedharvest.com/coconut-eton-mess-cake-whipped-ricotta-cream/: ('Connection aborted.', ConnectionResetError(54, 'Connection reset by peer'))\n",
      "Proxy 20.26.186.150:8080 failed for https://www.halfbakedharvest.com/coconut-carrot-cake-cheesecake/: ('Connection aborted.', ConnectionResetError(54, 'Connection reset by peer'))\n",
      "Proxy 4.234.52.159:8080 failed for https://www.halfbakedharvest.com/sweet-cuban-coconut-balls-with-melted-chocolate-coquito-acaramelado/: ('Connection aborted.', ConnectionResetError(54, 'Connection reset by peer'))\n",
      "Proxy 4.159.24.156:8080 failed for https://www.halfbakedharvest.com/double-chocolate-irish-tea-infused-oat-muffins/: HTTPSConnectionPool(host='www.halfbakedharvest.com', port=443): Max retries exceeded with url: /double-chocolate-irish-tea-infused-oat-muffins/ (Caused by ProxyError('Unable to connect to proxy', ConnectTimeoutError(<urllib3.connection.HTTPSConnection object at 0x1327c9c70>, 'Connection to 4.159.24.156 timed out. (connect timeout=30)')))\n",
      "Proxy 20.26.186.150:8080 failed for https://www.halfbakedharvest.com/cheesecake-eggs-with-shortbread-soldiers/: ('Connection aborted.', ConnectionResetError(54, 'Connection reset by peer'))\n"
     ]
    },
    {
     "data": {
      "application/javascript": [
       "\n",
       "        if (window._pyforest_update_imports_cell) { window._pyforest_update_imports_cell('import re'); }\n",
       "    "
      ],
      "text/plain": [
       "<IPython.core.display.Javascript object>"
      ]
     },
     "metadata": {},
     "output_type": "display_data"
    },
    {
     "data": {
      "application/javascript": [
       "\n",
       "        if (window._pyforest_update_imports_cell) { window._pyforest_update_imports_cell('import re'); }\n",
       "    "
      ],
      "text/plain": [
       "<IPython.core.display.Javascript object>"
      ]
     },
     "metadata": {},
     "output_type": "display_data"
    },
    {
     "data": {
      "application/javascript": [
       "\n",
       "        if (window._pyforest_update_imports_cell) { window._pyforest_update_imports_cell('import re'); }\n",
       "    "
      ],
      "text/plain": [
       "<IPython.core.display.Javascript object>"
      ]
     },
     "metadata": {},
     "output_type": "display_data"
    },
    {
     "data": {
      "application/javascript": [
       "\n",
       "        if (window._pyforest_update_imports_cell) { window._pyforest_update_imports_cell('import re'); }\n",
       "    "
      ],
      "text/plain": [
       "<IPython.core.display.Javascript object>"
      ]
     },
     "metadata": {},
     "output_type": "display_data"
    },
    {
     "name": "stdout",
     "output_type": "stream",
     "text": [
      "Successfully retrieved 444 - https://www.halfbakedharvest.com/chocolate-chip-almond-butter-banana-bread/ with proxy 4.234.52.159:8080\n",
      "Proxy 4.159.24.156:8080 failed for https://www.halfbakedharvest.com/vegan-chocolate-cake-creamy-chocolate-almond-butter-buttercream/: ('Connection aborted.', ConnectionResetError(54, 'Connection reset by peer'))\n",
      "Proxy 20.26.186.150:8080 failed for https://www.halfbakedharvest.com/chocolate-dunked-salted-honey-nut-bars/: ('Connection aborted.', ConnectionResetError(54, 'Connection reset by peer'))\n",
      "Proxy 4.234.52.159:8080 failed for https://www.halfbakedharvest.com/superfood-hot-chocolate-with-honey-caramelized-brioche/: ('Connection aborted.', ConnectionResetError(54, 'Connection reset by peer'))\n",
      "Proxy 4.159.24.156:8080 failed for https://www.halfbakedharvest.com/secret-ingredient-peanut-butter-stuffed-chocolate-chip-skillet-cookie/: ('Connection aborted.', ConnectionResetError(54, 'Connection reset by peer'))\n",
      "Proxy 20.26.186.150:8080 failed for https://www.halfbakedharvest.com/banana-and-chocolate-chia-cream-pie-parfaits/: ('Connection aborted.', ConnectionResetError(54, 'Connection reset by peer'))\n"
     ]
    },
    {
     "data": {
      "application/javascript": [
       "\n",
       "        if (window._pyforest_update_imports_cell) { window._pyforest_update_imports_cell('import re'); }\n",
       "    "
      ],
      "text/plain": [
       "<IPython.core.display.Javascript object>"
      ]
     },
     "metadata": {},
     "output_type": "display_data"
    },
    {
     "data": {
      "application/javascript": [
       "\n",
       "        if (window._pyforest_update_imports_cell) { window._pyforest_update_imports_cell('import re'); }\n",
       "    "
      ],
      "text/plain": [
       "<IPython.core.display.Javascript object>"
      ]
     },
     "metadata": {},
     "output_type": "display_data"
    },
    {
     "data": {
      "application/javascript": [
       "\n",
       "        if (window._pyforest_update_imports_cell) { window._pyforest_update_imports_cell('import re'); }\n",
       "    "
      ],
      "text/plain": [
       "<IPython.core.display.Javascript object>"
      ]
     },
     "metadata": {},
     "output_type": "display_data"
    },
    {
     "name": "stdout",
     "output_type": "stream",
     "text": [
      "Successfully retrieved 450 - https://www.halfbakedharvest.com/superfood-chocolate-quinoa-bark/ with proxy 4.234.52.159:8080\n",
      "Proxy 4.159.24.156:8080 failed for https://www.halfbakedharvest.com/chocolate-coconut-almond-bars/: ('Connection aborted.', ConnectionResetError(54, 'Connection reset by peer'))\n",
      "Proxy 20.26.186.150:8080 failed for https://www.halfbakedharvest.com/4-ingredient-dark-chocolate-covered-peanut-butter-stuffed-dates/: HTTPSConnectionPool(host='www.halfbakedharvest.com', port=443): Max retries exceeded with url: /4-ingredient-dark-chocolate-covered-peanut-butter-stuffed-dates/ (Caused by ProxyError('Unable to connect to proxy', ConnectTimeoutError(<urllib3.connection.HTTPSConnection object at 0x132471400>, 'Connection to 20.26.186.150 timed out. (connect timeout=30)')))\n",
      "Proxy 4.234.52.159:8080 failed for https://www.halfbakedharvest.com/addicting-4-ingredient-buttery-chocolate-covered-ritz-bark-akachristmas-crack/: ('Connection aborted.', ConnectionResetError(54, 'Connection reset by peer'))\n",
      "Proxy 4.159.24.156:8080 failed for https://www.halfbakedharvest.com/gingerbread-latte-salted-caramel-sugar-video/: ('Connection aborted.', ConnectionResetError(54, 'Connection reset by peer'))\n",
      "Proxy 20.26.186.150:8080 failed for https://www.halfbakedharvest.com/hot-chocolate-party-with-4-hot-cocoa-recipes/: ('Connection aborted.', ConnectionResetError(54, 'Connection reset by peer'))\n"
     ]
    },
    {
     "data": {
      "application/javascript": [
       "\n",
       "        if (window._pyforest_update_imports_cell) { window._pyforest_update_imports_cell('import re'); }\n",
       "    "
      ],
      "text/plain": [
       "<IPython.core.display.Javascript object>"
      ]
     },
     "metadata": {},
     "output_type": "display_data"
    },
    {
     "data": {
      "application/javascript": [
       "\n",
       "        if (window._pyforest_update_imports_cell) { window._pyforest_update_imports_cell('import re'); }\n",
       "    "
      ],
      "text/plain": [
       "<IPython.core.display.Javascript object>"
      ]
     },
     "metadata": {},
     "output_type": "display_data"
    },
    {
     "data": {
      "application/javascript": [
       "\n",
       "        if (window._pyforest_update_imports_cell) { window._pyforest_update_imports_cell('import re'); }\n",
       "    "
      ],
      "text/plain": [
       "<IPython.core.display.Javascript object>"
      ]
     },
     "metadata": {},
     "output_type": "display_data"
    },
    {
     "data": {
      "application/javascript": [
       "\n",
       "        if (window._pyforest_update_imports_cell) { window._pyforest_update_imports_cell('import re'); }\n",
       "    "
      ],
      "text/plain": [
       "<IPython.core.display.Javascript object>"
      ]
     },
     "metadata": {},
     "output_type": "display_data"
    },
    {
     "name": "stdout",
     "output_type": "stream",
     "text": [
      "Successfully retrieved 456 - https://www.halfbakedharvest.com/chocolate-tahini-mocha-mousse-wcoconut-bubble-milk-chocolate-expresso-beans/ with proxy 4.234.52.159:8080\n",
      "Successfully retrieved 457 - https://www.halfbakedharvest.com/fresh-watermelon-cake-summer-berries-links-inspire/ with proxy 4.159.24.156:8080\n"
     ]
    },
    {
     "data": {
      "application/javascript": [
       "\n",
       "        if (window._pyforest_update_imports_cell) { window._pyforest_update_imports_cell('import re'); }\n",
       "    "
      ],
      "text/plain": [
       "<IPython.core.display.Javascript object>"
      ]
     },
     "metadata": {},
     "output_type": "display_data"
    },
    {
     "data": {
      "application/javascript": [
       "\n",
       "        if (window._pyforest_update_imports_cell) { window._pyforest_update_imports_cell('import re'); }\n",
       "    "
      ],
      "text/plain": [
       "<IPython.core.display.Javascript object>"
      ]
     },
     "metadata": {},
     "output_type": "display_data"
    },
    {
     "data": {
      "application/javascript": [
       "\n",
       "        if (window._pyforest_update_imports_cell) { window._pyforest_update_imports_cell('import re'); }\n",
       "    "
      ],
      "text/plain": [
       "<IPython.core.display.Javascript object>"
      ]
     },
     "metadata": {},
     "output_type": "display_data"
    },
    {
     "name": "stdout",
     "output_type": "stream",
     "text": [
      "Successfully retrieved 458 - https://www.halfbakedharvest.com/healthy-bake-salted-dark-chocolate-chunk-oatmeal-cookie-bars/ with proxy 20.26.186.150:8080\n",
      "Proxy 4.234.52.159:8080 failed for https://www.halfbakedharvest.com/brown-sugar-peaches-cream-grilled-french-toast/: ('Connection aborted.', ConnectionResetError(54, 'Connection reset by peer'))\n"
     ]
    },
    {
     "data": {
      "application/javascript": [
       "\n",
       "        if (window._pyforest_update_imports_cell) { window._pyforest_update_imports_cell('import re'); }\n",
       "    "
      ],
      "text/plain": [
       "<IPython.core.display.Javascript object>"
      ]
     },
     "metadata": {},
     "output_type": "display_data"
    },
    {
     "data": {
      "application/javascript": [
       "\n",
       "        if (window._pyforest_update_imports_cell) { window._pyforest_update_imports_cell('import re'); }\n",
       "    "
      ],
      "text/plain": [
       "<IPython.core.display.Javascript object>"
      ]
     },
     "metadata": {},
     "output_type": "display_data"
    },
    {
     "data": {
      "application/javascript": [
       "\n",
       "        if (window._pyforest_update_imports_cell) { window._pyforest_update_imports_cell('import re'); }\n",
       "    "
      ],
      "text/plain": [
       "<IPython.core.display.Javascript object>"
      ]
     },
     "metadata": {},
     "output_type": "display_data"
    },
    {
     "name": "stdout",
     "output_type": "stream",
     "text": [
      "Successfully retrieved 460 - https://www.halfbakedharvest.com/5-ingredient-caramel-double-chocolate-birthday-ice-cream-cake-bars-stick/ with proxy 4.159.24.156:8080\n",
      "Proxy 20.26.186.150:8080 failed for https://www.halfbakedharvest.com/hot-fudge-brownie-double-scooped-ice-cream-sundae-high-hat-cupcakes-cone/: ('Connection aborted.', ConnectionResetError(54, 'Connection reset by peer'))\n",
      "Proxy 4.234.52.159:8080 failed for https://www.halfbakedharvest.com/vanilla-bean-coconut-quinoa-pudding-honey-drizzled-raspberries/: ('Connection aborted.', ConnectionResetError(54, 'Connection reset by peer'))\n",
      "Proxy 4.159.24.156:8080 failed for https://www.halfbakedharvest.com/vanilla-bourbon-cherry-blueberry-pie/: ('Connection aborted.', RemoteDisconnected('Remote end closed connection without response'))\n",
      "Proxy 20.26.186.150:8080 failed for https://www.halfbakedharvest.com/firecracker-berry-margarita-floats/: ('Connection aborted.', ConnectionResetError(54, 'Connection reset by peer'))\n"
     ]
    },
    {
     "data": {
      "application/javascript": [
       "\n",
       "        if (window._pyforest_update_imports_cell) { window._pyforest_update_imports_cell('import re'); }\n",
       "    "
      ],
      "text/plain": [
       "<IPython.core.display.Javascript object>"
      ]
     },
     "metadata": {},
     "output_type": "display_data"
    },
    {
     "data": {
      "application/javascript": [
       "\n",
       "        if (window._pyforest_update_imports_cell) { window._pyforest_update_imports_cell('import re'); }\n",
       "    "
      ],
      "text/plain": [
       "<IPython.core.display.Javascript object>"
      ]
     },
     "metadata": {},
     "output_type": "display_data"
    },
    {
     "data": {
      "application/javascript": [
       "\n",
       "        if (window._pyforest_update_imports_cell) { window._pyforest_update_imports_cell('import re'); }\n",
       "    "
      ],
      "text/plain": [
       "<IPython.core.display.Javascript object>"
      ]
     },
     "metadata": {},
     "output_type": "display_data"
    },
    {
     "data": {
      "application/javascript": [
       "\n",
       "        if (window._pyforest_update_imports_cell) { window._pyforest_update_imports_cell('import re'); }\n",
       "    "
      ],
      "text/plain": [
       "<IPython.core.display.Javascript object>"
      ]
     },
     "metadata": {},
     "output_type": "display_data"
    },
    {
     "name": "stdout",
     "output_type": "stream",
     "text": [
      "Successfully retrieved 465 - https://www.halfbakedharvest.com/build-candied-balboa-bars/ with proxy 4.234.52.159:8080\n",
      "Proxy 4.159.24.156:8080 failed for https://www.halfbakedharvest.com/coconut-raspberry-macarons-raspberry-rose-buttercream/: ('Connection aborted.', ConnectionResetError(54, 'Connection reset by peer'))\n",
      "Proxy 20.26.186.150:8080 failed for https://www.halfbakedharvest.com/vegan-deconstructed-boozy-mocha-drenched-grilled-banana-coconut-cream-pies/: ('Connection aborted.', ConnectionResetError(54, 'Connection reset by peer'))\n"
     ]
    },
    {
     "data": {
      "application/javascript": [
       "\n",
       "        if (window._pyforest_update_imports_cell) { window._pyforest_update_imports_cell('import re'); }\n",
       "    "
      ],
      "text/plain": [
       "<IPython.core.display.Javascript object>"
      ]
     },
     "metadata": {},
     "output_type": "display_data"
    },
    {
     "data": {
      "application/javascript": [
       "\n",
       "        if (window._pyforest_update_imports_cell) { window._pyforest_update_imports_cell('import re'); }\n",
       "    "
      ],
      "text/plain": [
       "<IPython.core.display.Javascript object>"
      ]
     },
     "metadata": {},
     "output_type": "display_data"
    },
    {
     "data": {
      "application/javascript": [
       "\n",
       "        if (window._pyforest_update_imports_cell) { window._pyforest_update_imports_cell('import re'); }\n",
       "    "
      ],
      "text/plain": [
       "<IPython.core.display.Javascript object>"
      ]
     },
     "metadata": {},
     "output_type": "display_data"
    },
    {
     "data": {
      "application/javascript": [
       "\n",
       "        if (window._pyforest_update_imports_cell) { window._pyforest_update_imports_cell('import re'); }\n",
       "    "
      ],
      "text/plain": [
       "<IPython.core.display.Javascript object>"
      ]
     },
     "metadata": {},
     "output_type": "display_data"
    },
    {
     "name": "stdout",
     "output_type": "stream",
     "text": [
      "Successfully retrieved 468 - https://www.halfbakedharvest.com/coconut-iced-coffee-mini-chocolate-glazed-coffee-doughnuts/ with proxy 4.234.52.159:8080\n",
      "Proxy 4.159.24.156:8080 failed for https://www.halfbakedharvest.com/caramelized-strawberry-graham-cracker-crumble-ice-cream/: ('Connection aborted.', ConnectionResetError(54, 'Connection reset by peer'))\n"
     ]
    },
    {
     "data": {
      "application/javascript": [
       "\n",
       "        if (window._pyforest_update_imports_cell) { window._pyforest_update_imports_cell('import re'); }\n",
       "    "
      ],
      "text/plain": [
       "<IPython.core.display.Javascript object>"
      ]
     },
     "metadata": {},
     "output_type": "display_data"
    },
    {
     "data": {
      "application/javascript": [
       "\n",
       "        if (window._pyforest_update_imports_cell) { window._pyforest_update_imports_cell('import re'); }\n",
       "    "
      ],
      "text/plain": [
       "<IPython.core.display.Javascript object>"
      ]
     },
     "metadata": {},
     "output_type": "display_data"
    },
    {
     "name": "stdout",
     "output_type": "stream",
     "text": [
      "Successfully retrieved 470 - https://www.halfbakedharvest.com/churn-caramel-peanut-butter-cup-soft-pretzel-ice-cream-sammies-whot-fudge/ with proxy 20.26.186.150:8080\n"
     ]
    },
    {
     "data": {
      "application/javascript": [
       "\n",
       "        if (window._pyforest_update_imports_cell) { window._pyforest_update_imports_cell('import re'); }\n",
       "    "
      ],
      "text/plain": [
       "<IPython.core.display.Javascript object>"
      ]
     },
     "metadata": {},
     "output_type": "display_data"
    },
    {
     "data": {
      "application/javascript": [
       "\n",
       "        if (window._pyforest_update_imports_cell) { window._pyforest_update_imports_cell('import re'); }\n",
       "    "
      ],
      "text/plain": [
       "<IPython.core.display.Javascript object>"
      ]
     },
     "metadata": {},
     "output_type": "display_data"
    },
    {
     "data": {
      "application/javascript": [
       "\n",
       "        if (window._pyforest_update_imports_cell) { window._pyforest_update_imports_cell('import re'); }\n",
       "    "
      ],
      "text/plain": [
       "<IPython.core.display.Javascript object>"
      ]
     },
     "metadata": {},
     "output_type": "display_data"
    },
    {
     "name": "stdout",
     "output_type": "stream",
     "text": [
      "Successfully retrieved 471 - https://www.halfbakedharvest.com/oatmeal-chocolate-chip-graham-cracker-cookie-smores/ with proxy 4.234.52.159:8080\n",
      "Proxy 4.159.24.156:8080 failed for https://www.halfbakedharvest.com/triple-berry-kahlua-crisp-double-crumble/: ('Connection aborted.', ConnectionResetError(54, 'Connection reset by peer'))\n",
      "Proxy 20.26.186.150:8080 failed for https://www.halfbakedharvest.com/vegan-chocolate-fudge-popsicles/: ('Connection aborted.', ConnectionResetError(54, 'Connection reset by peer'))\n"
     ]
    },
    {
     "data": {
      "application/javascript": [
       "\n",
       "        if (window._pyforest_update_imports_cell) { window._pyforest_update_imports_cell('import re'); }\n",
       "    "
      ],
      "text/plain": [
       "<IPython.core.display.Javascript object>"
      ]
     },
     "metadata": {},
     "output_type": "display_data"
    },
    {
     "data": {
      "application/javascript": [
       "\n",
       "        if (window._pyforest_update_imports_cell) { window._pyforest_update_imports_cell('import re'); }\n",
       "    "
      ],
      "text/plain": [
       "<IPython.core.display.Javascript object>"
      ]
     },
     "metadata": {},
     "output_type": "display_data"
    },
    {
     "data": {
      "application/javascript": [
       "\n",
       "        if (window._pyforest_update_imports_cell) { window._pyforest_update_imports_cell('import re'); }\n",
       "    "
      ],
      "text/plain": [
       "<IPython.core.display.Javascript object>"
      ]
     },
     "metadata": {},
     "output_type": "display_data"
    },
    {
     "name": "stdout",
     "output_type": "stream",
     "text": [
      "Successfully retrieved 474 - https://www.halfbakedharvest.com/frozen-hot-fudge-peanut-butter-swirled-pretzel-macarons/ with proxy 4.234.52.159:8080\n",
      "Proxy 4.159.24.156:8080 failed for https://www.halfbakedharvest.com/lemon-ricotta-cheese-stuffed-french-toast-crepes-vanilla-stewed-strawberries/: ('Connection aborted.', ConnectionResetError(54, 'Connection reset by peer'))\n",
      "Proxy 20.26.186.150:8080 failed for https://www.halfbakedharvest.com/churro-milkshakes-dulce-de-leche/: ('Connection aborted.', ConnectionResetError(54, 'Connection reset by peer'))\n"
     ]
    },
    {
     "data": {
      "application/javascript": [
       "\n",
       "        if (window._pyforest_update_imports_cell) { window._pyforest_update_imports_cell('import re'); }\n",
       "    "
      ],
      "text/plain": [
       "<IPython.core.display.Javascript object>"
      ]
     },
     "metadata": {},
     "output_type": "display_data"
    },
    {
     "data": {
      "application/javascript": [
       "\n",
       "        if (window._pyforest_update_imports_cell) { window._pyforest_update_imports_cell('import re'); }\n",
       "    "
      ],
      "text/plain": [
       "<IPython.core.display.Javascript object>"
      ]
     },
     "metadata": {},
     "output_type": "display_data"
    },
    {
     "data": {
      "application/javascript": [
       "\n",
       "        if (window._pyforest_update_imports_cell) { window._pyforest_update_imports_cell('import re'); }\n",
       "    "
      ],
      "text/plain": [
       "<IPython.core.display.Javascript object>"
      ]
     },
     "metadata": {},
     "output_type": "display_data"
    },
    {
     "data": {
      "application/javascript": [
       "\n",
       "        if (window._pyforest_update_imports_cell) { window._pyforest_update_imports_cell('import re'); }\n",
       "    "
      ],
      "text/plain": [
       "<IPython.core.display.Javascript object>"
      ]
     },
     "metadata": {},
     "output_type": "display_data"
    },
    {
     "name": "stdout",
     "output_type": "stream",
     "text": [
      "Successfully retrieved 477 - https://www.halfbakedharvest.com/kentucky-derby-mini-chocolate-pecan-cakes-vanilla-bourbon-smash-ice-cream/ with proxy 4.234.52.159:8080\n",
      "Proxy 4.159.24.156:8080 failed for https://www.halfbakedharvest.com/angel-food-cupcakes-chocolate-whipped-coconut-frosting-crispy-phyllo-nest/: ('Connection aborted.', ConnectionResetError(54, 'Connection reset by peer'))\n",
      "Proxy 20.26.186.150:8080 failed for https://www.halfbakedharvest.com/banana-bread-chocolate-fudge-swirled-cheesecakes/: ('Connection aborted.', ConnectionResetError(54, 'Connection reset by peer'))\n",
      "Proxy 4.234.52.159:8080 failed for https://www.halfbakedharvest.com/tahini-hot-chocolate/: ('Connection aborted.', ConnectionResetError(54, 'Connection reset by peer'))\n",
      "Proxy 4.159.24.156:8080 failed for https://www.halfbakedharvest.com/fudgy-chocolate-peanut-butter-bars/: ('Connection aborted.', ConnectionResetError(54, 'Connection reset by peer'))\n",
      "Proxy 20.26.186.150:8080 failed for https://www.halfbakedharvest.com/lemon-ricotta-poppy-seed-cakes/: ('Connection aborted.', ConnectionResetError(54, 'Connection reset by peer'))\n",
      "Proxy 4.234.52.159:8080 failed for https://www.halfbakedharvest.com/blender-chocolate-peanut-butter-muffins/: HTTPSConnectionPool(host='www.halfbakedharvest.com', port=443): Max retries exceeded with url: /blender-chocolate-peanut-butter-muffins/ (Caused by ProxyError('Unable to connect to proxy', ConnectTimeoutError(<urllib3.connection.HTTPSConnection object at 0x13212db80>, 'Connection to 4.234.52.159 timed out. (connect timeout=30)')))\n"
     ]
    },
    {
     "data": {
      "application/javascript": [
       "\n",
       "        if (window._pyforest_update_imports_cell) { window._pyforest_update_imports_cell('import re'); }\n",
       "    "
      ],
      "text/plain": [
       "<IPython.core.display.Javascript object>"
      ]
     },
     "metadata": {},
     "output_type": "display_data"
    },
    {
     "data": {
      "application/javascript": [
       "\n",
       "        if (window._pyforest_update_imports_cell) { window._pyforest_update_imports_cell('import re'); }\n",
       "    "
      ],
      "text/plain": [
       "<IPython.core.display.Javascript object>"
      ]
     },
     "metadata": {},
     "output_type": "display_data"
    },
    {
     "data": {
      "application/javascript": [
       "\n",
       "        if (window._pyforest_update_imports_cell) { window._pyforest_update_imports_cell('import re'); }\n",
       "    "
      ],
      "text/plain": [
       "<IPython.core.display.Javascript object>"
      ]
     },
     "metadata": {},
     "output_type": "display_data"
    },
    {
     "data": {
      "application/javascript": [
       "\n",
       "        if (window._pyforest_update_imports_cell) { window._pyforest_update_imports_cell('import re'); }\n",
       "    "
      ],
      "text/plain": [
       "<IPython.core.display.Javascript object>"
      ]
     },
     "metadata": {},
     "output_type": "display_data"
    },
    {
     "name": "stdout",
     "output_type": "stream",
     "text": [
      "Successfully retrieved 484 - https://www.halfbakedharvest.com/chocolate-chip-espresso-yogurt-cake/ with proxy 4.159.24.156:8080\n",
      "Proxy 20.26.186.150:8080 failed for https://www.halfbakedharvest.com/vanilla-chai-hot-chocolate/: HTTPSConnectionPool(host='www.halfbakedharvest.com', port=443): Read timed out. (read timeout=30)\n"
     ]
    },
    {
     "data": {
      "application/javascript": [
       "\n",
       "        if (window._pyforest_update_imports_cell) { window._pyforest_update_imports_cell('import re'); }\n",
       "    "
      ],
      "text/plain": [
       "<IPython.core.display.Javascript object>"
      ]
     },
     "metadata": {},
     "output_type": "display_data"
    },
    {
     "data": {
      "application/javascript": [
       "\n",
       "        if (window._pyforest_update_imports_cell) { window._pyforest_update_imports_cell('import re'); }\n",
       "    "
      ],
      "text/plain": [
       "<IPython.core.display.Javascript object>"
      ]
     },
     "metadata": {},
     "output_type": "display_data"
    },
    {
     "data": {
      "application/javascript": [
       "\n",
       "        if (window._pyforest_update_imports_cell) { window._pyforest_update_imports_cell('import re'); }\n",
       "    "
      ],
      "text/plain": [
       "<IPython.core.display.Javascript object>"
      ]
     },
     "metadata": {},
     "output_type": "display_data"
    },
    {
     "name": "stdout",
     "output_type": "stream",
     "text": [
      "Successfully retrieved 486 - https://www.halfbakedharvest.com/healthier-buckeye-brownies/ with proxy 4.234.52.159:8080\n"
     ]
    },
    {
     "data": {
      "application/javascript": [
       "\n",
       "        if (window._pyforest_update_imports_cell) { window._pyforest_update_imports_cell('import re'); }\n",
       "    "
      ],
      "text/plain": [
       "<IPython.core.display.Javascript object>"
      ]
     },
     "metadata": {},
     "output_type": "display_data"
    },
    {
     "data": {
      "application/javascript": [
       "\n",
       "        if (window._pyforest_update_imports_cell) { window._pyforest_update_imports_cell('import re'); }\n",
       "    "
      ],
      "text/plain": [
       "<IPython.core.display.Javascript object>"
      ]
     },
     "metadata": {},
     "output_type": "display_data"
    },
    {
     "data": {
      "application/javascript": [
       "\n",
       "        if (window._pyforest_update_imports_cell) { window._pyforest_update_imports_cell('import re'); }\n",
       "    "
      ],
      "text/plain": [
       "<IPython.core.display.Javascript object>"
      ]
     },
     "metadata": {},
     "output_type": "display_data"
    },
    {
     "data": {
      "application/javascript": [
       "\n",
       "        if (window._pyforest_update_imports_cell) { window._pyforest_update_imports_cell('import re'); }\n",
       "    "
      ],
      "text/plain": [
       "<IPython.core.display.Javascript object>"
      ]
     },
     "metadata": {},
     "output_type": "display_data"
    },
    {
     "name": "stdout",
     "output_type": "stream",
     "text": [
      "Successfully retrieved 487 - https://www.halfbakedharvest.com/maple-banana-bread/ with proxy 4.159.24.156:8080\n"
     ]
    },
    {
     "data": {
      "application/javascript": [
       "\n",
       "        if (window._pyforest_update_imports_cell) { window._pyforest_update_imports_cell('import re'); }\n",
       "    "
      ],
      "text/plain": [
       "<IPython.core.display.Javascript object>"
      ]
     },
     "metadata": {},
     "output_type": "display_data"
    },
    {
     "data": {
      "application/javascript": [
       "\n",
       "        if (window._pyforest_update_imports_cell) { window._pyforest_update_imports_cell('import re'); }\n",
       "    "
      ],
      "text/plain": [
       "<IPython.core.display.Javascript object>"
      ]
     },
     "metadata": {},
     "output_type": "display_data"
    },
    {
     "data": {
      "application/javascript": [
       "\n",
       "        if (window._pyforest_update_imports_cell) { window._pyforest_update_imports_cell('import re'); }\n",
       "    "
      ],
      "text/plain": [
       "<IPython.core.display.Javascript object>"
      ]
     },
     "metadata": {},
     "output_type": "display_data"
    },
    {
     "name": "stdout",
     "output_type": "stream",
     "text": [
      "Successfully retrieved 488 - https://www.halfbakedharvest.com/peanut-butter-protein-chocolate-chip-cookies/ with proxy 20.26.186.150:8080\n",
      "Proxy 4.234.52.159:8080 failed for https://www.halfbakedharvest.com/chocolate-peanut-butter-millionaire-bars/: HTTPSConnectionPool(host='www.halfbakedharvest.com', port=443): Max retries exceeded with url: /chocolate-peanut-butter-millionaire-bars/ (Caused by ProxyError('Unable to connect to proxy', ConnectTimeoutError(<urllib3.connection.HTTPSConnection object at 0x12356a640>, 'Connection to 4.234.52.159 timed out. (connect timeout=30)')))\n",
      "Proxy 4.159.24.156:8080 failed for https://www.halfbakedharvest.com/gingerbread-latte-cookies/: ('Connection aborted.', ConnectionResetError(54, 'Connection reset by peer'))\n",
      "Proxy 20.26.186.150:8080 failed for https://www.halfbakedharvest.com/frosted-cinnamon-swirl-snickerdoodles/: ('Connection aborted.', ConnectionResetError(54, 'Connection reset by peer'))\n",
      "Successfully retrieved 492 - https://www.halfbakedharvest.com/slice-n-bake-vanilla-bean-sugar-cookies/ with proxy 4.234.52.159:8080\n"
     ]
    },
    {
     "data": {
      "application/javascript": [
       "\n",
       "        if (window._pyforest_update_imports_cell) { window._pyforest_update_imports_cell('import re'); }\n",
       "    "
      ],
      "text/plain": [
       "<IPython.core.display.Javascript object>"
      ]
     },
     "metadata": {},
     "output_type": "display_data"
    },
    {
     "data": {
      "application/javascript": [
       "\n",
       "        if (window._pyforest_update_imports_cell) { window._pyforest_update_imports_cell('import re'); }\n",
       "    "
      ],
      "text/plain": [
       "<IPython.core.display.Javascript object>"
      ]
     },
     "metadata": {},
     "output_type": "display_data"
    },
    {
     "data": {
      "application/javascript": [
       "\n",
       "        if (window._pyforest_update_imports_cell) { window._pyforest_update_imports_cell('import re'); }\n",
       "    "
      ],
      "text/plain": [
       "<IPython.core.display.Javascript object>"
      ]
     },
     "metadata": {},
     "output_type": "display_data"
    },
    {
     "name": "stdout",
     "output_type": "stream",
     "text": [
      "Successfully retrieved 493 - https://www.halfbakedharvest.com/vanilla-bean-hot-cocoa/ with proxy 4.159.24.156:8080\n"
     ]
    },
    {
     "data": {
      "application/javascript": [
       "\n",
       "        if (window._pyforest_update_imports_cell) { window._pyforest_update_imports_cell('import re'); }\n",
       "    "
      ],
      "text/plain": [
       "<IPython.core.display.Javascript object>"
      ]
     },
     "metadata": {},
     "output_type": "display_data"
    },
    {
     "data": {
      "application/javascript": [
       "\n",
       "        if (window._pyforest_update_imports_cell) { window._pyforest_update_imports_cell('import re'); }\n",
       "    "
      ],
      "text/plain": [
       "<IPython.core.display.Javascript object>"
      ]
     },
     "metadata": {},
     "output_type": "display_data"
    },
    {
     "data": {
      "application/javascript": [
       "\n",
       "        if (window._pyforest_update_imports_cell) { window._pyforest_update_imports_cell('import re'); }\n",
       "    "
      ],
      "text/plain": [
       "<IPython.core.display.Javascript object>"
      ]
     },
     "metadata": {},
     "output_type": "display_data"
    },
    {
     "name": "stdout",
     "output_type": "stream",
     "text": [
      "Successfully retrieved 494 - https://www.halfbakedharvest.com/pretzel-pecan-cookies/ with proxy 20.26.186.150:8080\n",
      "Proxy 4.234.52.159:8080 failed for https://www.halfbakedharvest.com/caramel-snickerdoodle-pie/: ('Connection aborted.', ConnectionResetError(54, 'Connection reset by peer'))\n",
      "Proxy 4.159.24.156:8080 failed for https://www.halfbakedharvest.com/chocolate-bourbon-chai-latte-cupcakes/: ('Connection aborted.', ConnectionResetError(54, 'Connection reset by peer'))\n",
      "Proxy 20.26.186.150:8080 failed for https://www.halfbakedharvest.com/pumpkin-sugar-cookies/: ('Connection aborted.', ConnectionResetError(54, 'Connection reset by peer'))\n"
     ]
    },
    {
     "data": {
      "application/javascript": [
       "\n",
       "        if (window._pyforest_update_imports_cell) { window._pyforest_update_imports_cell('import re'); }\n",
       "    "
      ],
      "text/plain": [
       "<IPython.core.display.Javascript object>"
      ]
     },
     "metadata": {},
     "output_type": "display_data"
    },
    {
     "data": {
      "application/javascript": [
       "\n",
       "        if (window._pyforest_update_imports_cell) { window._pyforest_update_imports_cell('import re'); }\n",
       "    "
      ],
      "text/plain": [
       "<IPython.core.display.Javascript object>"
      ]
     },
     "metadata": {},
     "output_type": "display_data"
    },
    {
     "data": {
      "application/javascript": [
       "\n",
       "        if (window._pyforest_update_imports_cell) { window._pyforest_update_imports_cell('import re'); }\n",
       "    "
      ],
      "text/plain": [
       "<IPython.core.display.Javascript object>"
      ]
     },
     "metadata": {},
     "output_type": "display_data"
    },
    {
     "data": {
      "application/javascript": [
       "\n",
       "        if (window._pyforest_update_imports_cell) { window._pyforest_update_imports_cell('import re'); }\n",
       "    "
      ],
      "text/plain": [
       "<IPython.core.display.Javascript object>"
      ]
     },
     "metadata": {},
     "output_type": "display_data"
    },
    {
     "name": "stdout",
     "output_type": "stream",
     "text": [
      "Successfully retrieved 498 - https://www.halfbakedharvest.com/cinnamon-pumpkin-coffee-cake/ with proxy 4.234.52.159:8080\n"
     ]
    },
    {
     "data": {
      "application/javascript": [
       "\n",
       "        if (window._pyforest_update_imports_cell) { window._pyforest_update_imports_cell('import re'); }\n",
       "    "
      ],
      "text/plain": [
       "<IPython.core.display.Javascript object>"
      ]
     },
     "metadata": {},
     "output_type": "display_data"
    },
    {
     "data": {
      "application/javascript": [
       "\n",
       "        if (window._pyforest_update_imports_cell) { window._pyforest_update_imports_cell('import re'); }\n",
       "    "
      ],
      "text/plain": [
       "<IPython.core.display.Javascript object>"
      ]
     },
     "metadata": {},
     "output_type": "display_data"
    },
    {
     "data": {
      "application/javascript": [
       "\n",
       "        if (window._pyforest_update_imports_cell) { window._pyforest_update_imports_cell('import re'); }\n",
       "    "
      ],
      "text/plain": [
       "<IPython.core.display.Javascript object>"
      ]
     },
     "metadata": {},
     "output_type": "display_data"
    },
    {
     "name": "stdout",
     "output_type": "stream",
     "text": [
      "Successfully retrieved 499 - https://www.halfbakedharvest.com/cinnamon-sugar-apple-cider-doughnut-holes/ with proxy 4.159.24.156:8080\n",
      "Proxy 20.26.186.150:8080 failed for https://www.halfbakedharvest.com/pumpkin-oatmeal-chocolate-chip-cookies/: ('Connection aborted.', ConnectionResetError(54, 'Connection reset by peer'))\n"
     ]
    }
   ],
   "source": [
    "# Read proxies from the file and create a cycle iterator\n",
    "with open('proxies.txt', 'r') as f:\n",
    "    proxies = [line.strip() for line in f if line.strip()]\n",
    "\n",
    "# Check if proxies are being read correctly\n",
    "if not proxies:\n",
    "    print(\"No valid proxies found in proxies.txt\")\n",
    "else:\n",
    "    print(f\"Proxies loaded: {proxies}\")\n",
    "\n",
    "proxy_cycle = itertools.cycle(proxies)\n",
    "\n",
    "# Initialize an empty DataFrame to store results\n",
    "temp_recipes_3 = pd.DataFrame(columns=columns)\n",
    "title = []\n",
    "prep_time = []\n",
    "cook_time = []\n",
    "total_time = []\n",
    "\n",
    "ingredients_measurment = []\n",
    "ingredients = []\n",
    "instructions = []\n",
    "\n",
    "calories = []\n",
    "servings = []\n",
    "images = []\n",
    "\n",
    "# Loop over the desired number of pages\n",
    "for i in range(201, 501):\n",
    "    proxy = next(proxy_cycle)\n",
    "\n",
    "    # Set up request with proxy\n",
    "    headers = {'User-Agent': 'Mozilla/5.0 (Windows NT 6.3; Win64; x64) AppleWebKit/537.36 (KHTML, like Gecko) Chrome/80.0.3987.162 Safari/537.36'}\n",
    "    url = all_recipes_url[i]\n",
    "    proxy_dict = {'http': proxy, 'https': proxy}\n",
    "\n",
    "    try:\n",
    "        response = requests.get(url, headers=headers, proxies=proxy_dict, timeout=30)\n",
    "        \n",
    "        # Check if the request was successful\n",
    "        if response.status_code == 200:\n",
    "            soup = BeautifulSoup(response.content, 'html.parser')\n",
    "            extract(soup)\n",
    "            print(f\"Successfully retrieved {i} - {url} with proxy {proxy}\")\n",
    "        else:\n",
    "            failed_url.append(url)\n",
    "            print(f\"Failed to retrieve page {url} with proxy {proxy}. Status code: {response.status_code}\")\n",
    "    except (requests.ConnectionError, requests.Timeout) as e:\n",
    "        failed_url.append(url)\n",
    "        print(f\"Proxy {proxy} failed for {url}: {e}\")\n",
    "    except ChunkedEncodingError as e:  # Handle ChunkedEncodingError\n",
    "        failed_url.append(url)\n",
    "        print(f\"ChunkedEncodingError occurred for proxy {proxy} and {url}: {e}\")\n",
    "        continue  # Move to the next page\n",
    "\n",
    "\n",
    "\n",
    "temp_recipes_3['title'] = title\n",
    "temp_recipes_3['prep_time'] = prep_time\n",
    "temp_recipes_3['cook_time'] = cook_time\n",
    "temp_recipes_3['total_time'] = total_time\n",
    "temp_recipes_3['ingredients'] = ingredients\n",
    "temp_recipes_3['ingredients with measurement'] = ingredients_measurment\n",
    "temp_recipes_3['instructions'] = instructions\n",
    "temp_recipes_3['calories'] = calories\n",
    "temp_recipes_3['servings'] = servings\n",
    "temp_recipes_3['images']= images\n",
    "\n",
    "\n",
    "\n",
    "    "
   ]
  },
  {
   "cell_type": "code",
   "execution_count": 22,
   "id": "fbfb2603",
   "metadata": {},
   "outputs": [
    {
     "data": {
      "text/plain": [
       "302"
      ]
     },
     "execution_count": 22,
     "metadata": {},
     "output_type": "execute_result"
    }
   ],
   "source": [
    "len(failed_url)"
   ]
  },
  {
   "cell_type": "code",
   "execution_count": 23,
   "id": "1decf1ab",
   "metadata": {},
   "outputs": [
    {
     "data": {
      "text/html": [
       "<div>\n",
       "<style scoped>\n",
       "    .dataframe tbody tr th:only-of-type {\n",
       "        vertical-align: middle;\n",
       "    }\n",
       "\n",
       "    .dataframe tbody tr th {\n",
       "        vertical-align: top;\n",
       "    }\n",
       "\n",
       "    .dataframe thead th {\n",
       "        text-align: right;\n",
       "    }\n",
       "</style>\n",
       "<table border=\"1\" class=\"dataframe\">\n",
       "  <thead>\n",
       "    <tr style=\"text-align: right;\">\n",
       "      <th></th>\n",
       "      <th>title</th>\n",
       "      <th>prep_time</th>\n",
       "      <th>cook_time</th>\n",
       "      <th>total_time</th>\n",
       "      <th>ingredients</th>\n",
       "      <th>ingredients with measurement</th>\n",
       "      <th>instructions</th>\n",
       "      <th>calories</th>\n",
       "      <th>servings</th>\n",
       "      <th>images</th>\n",
       "    </tr>\n",
       "  </thead>\n",
       "  <tbody>\n",
       "    <tr>\n",
       "      <th>0</th>\n",
       "      <td>6 Ingredient Spiced Pumpkin Butter</td>\n",
       "      <td>{'minutes': '10'}</td>\n",
       "      <td>{'minutes': '20'}</td>\n",
       "      <td>{'minutes': '30'}</td>\n",
       "      <td>[pumpkin puree, apple cider, real maple syrup,...</td>\n",
       "      <td>{'pumpkin puree': '2', 'apple cider': '1/3', '...</td>\n",
       "      <td>[1. In a medium sauce pan, combine the pumpkin...</td>\n",
       "      <td>16 kcal</td>\n",
       "      <td>32</td>\n",
       "      <td>https://www.halfbakedharvest.com/wp-content/up...</td>\n",
       "    </tr>\n",
       "    <tr>\n",
       "      <th>1</th>\n",
       "      <td>Mulled Spiced Apple Cider Doughnuts</td>\n",
       "      <td>{'minutes': '35'}</td>\n",
       "      <td>{'minutes': '25'}</td>\n",
       "      <td>{'hours': '1'}</td>\n",
       "      <td>[apple cider, cinnamon, salted butter, real ma...</td>\n",
       "      <td>{'apple cider': '3', 'cinnamon': '1', 'salted ...</td>\n",
       "      <td>[1. Bring the apple cider and cinnamon to a bo...</td>\n",
       "      <td>1286 kcal</td>\n",
       "      <td>18</td>\n",
       "      <td>https://www.halfbakedharvest.com/wp-content/up...</td>\n",
       "    </tr>\n",
       "    <tr>\n",
       "      <th>2</th>\n",
       "      <td>Triple Layer Peanut Butter Crunch Brownies</td>\n",
       "      <td>{'minutes': '20'}</td>\n",
       "      <td>{'minutes': '30'}</td>\n",
       "      <td>{'minutes': '50'}</td>\n",
       "      <td>[salted butter, milk chocolate, chopped, granu...</td>\n",
       "      <td>{'salted butter': '2', 'milk chocolate, choppe...</td>\n",
       "      <td>[1. Preheat the oven to 350° F. Line a 9×13 in...</td>\n",
       "      <td>1782 kcal</td>\n",
       "      <td>18</td>\n",
       "      <td>https://www.halfbakedharvest.com/wp-content/up...</td>\n",
       "    </tr>\n",
       "    <tr>\n",
       "      <th>3</th>\n",
       "      <td>Bursting Blueberry Cardamom Buckle</td>\n",
       "      <td>{'minutes': '15'}</td>\n",
       "      <td>{'minutes': '45'}</td>\n",
       "      <td>{'hours': '1'}</td>\n",
       "      <td>[all-purpose flour, baking powder, ground card...</td>\n",
       "      <td>{'all-purpose flour': '1/2', 'baking powder': ...</td>\n",
       "      <td>[1. Preheat the oven to 350 degrees F. Grease ...</td>\n",
       "      <td>834 kcal</td>\n",
       "      <td>8</td>\n",
       "      <td>https://www.halfbakedharvest.com/wp-content/up...</td>\n",
       "    </tr>\n",
       "    <tr>\n",
       "      <th>4</th>\n",
       "      <td>Browned Butter Coconut Chocolate Chip Cookies</td>\n",
       "      <td>{'minutes': '20'}</td>\n",
       "      <td>{'minutes': '10'}</td>\n",
       "      <td>{'minutes': '30'}</td>\n",
       "      <td>[sticks (1 cup) salted butter, light brown sug...</td>\n",
       "      <td>{'sticks (1 cup) salted butter': '2', 'light b...</td>\n",
       "      <td>[1. Add the butter to a skillet set over mediu...</td>\n",
       "      <td>1326 kcal</td>\n",
       "      <td>20</td>\n",
       "      <td>https://www.halfbakedharvest.com/wp-content/up...</td>\n",
       "    </tr>\n",
       "    <tr>\n",
       "      <th>...</th>\n",
       "      <td>...</td>\n",
       "      <td>...</td>\n",
       "      <td>...</td>\n",
       "      <td>...</td>\n",
       "      <td>...</td>\n",
       "      <td>...</td>\n",
       "      <td>...</td>\n",
       "      <td>...</td>\n",
       "      <td>...</td>\n",
       "      <td>...</td>\n",
       "    </tr>\n",
       "    <tr>\n",
       "      <th>119</th>\n",
       "      <td>Easy Slice ‘n’ Bake Vanilla Almond Sugar Cookies</td>\n",
       "      <td>-</td>\n",
       "      <td>-</td>\n",
       "      <td>-</td>\n",
       "      <td>[salted butter, at room temperature, light or ...</td>\n",
       "      <td>{'salted butter, at room temperature': '2', 'l...</td>\n",
       "      <td>[1. In a large bowl, beat together the butter,...</td>\n",
       "      <td>112 kcal</td>\n",
       "      <td>40</td>\n",
       "      <td>https://www.halfbakedharvest.com/wp-content/up...</td>\n",
       "    </tr>\n",
       "    <tr>\n",
       "      <th>120</th>\n",
       "      <td>Asher’s 5 Minute Creamy Vanilla Hot Cocoa</td>\n",
       "      <td>{'minutes': '5'}</td>\n",
       "      <td>{'minutes': '3'}</td>\n",
       "      <td>{'minutes': '8'}</td>\n",
       "      <td>[whole milk or your favorite unsweetened milk,...</td>\n",
       "      <td>{'whole milk or your favorite unsweetened milk...</td>\n",
       "      <td>[1. Add the milk, chocolate chips, dark chocol...</td>\n",
       "      <td>455 kcal</td>\n",
       "      <td>1</td>\n",
       "      <td>https://www.halfbakedharvest.com/wp-content/up...</td>\n",
       "    </tr>\n",
       "    <tr>\n",
       "      <th>121</th>\n",
       "      <td>Chewy Brown Butter Pretzel Pecan Cookies</td>\n",
       "      <td>{'minutes': '15'}</td>\n",
       "      <td>{'minutes': '10'}</td>\n",
       "      <td>{'minutes': '40'}</td>\n",
       "      <td>[raw pecans, salted pretzel twists, ground cin...</td>\n",
       "      <td>{'raw pecans': '1', 'salted pretzel twists': '...</td>\n",
       "      <td>[1. Preheat the oven to 350° F. Line a baking ...</td>\n",
       "      <td>173 kcal</td>\n",
       "      <td>24</td>\n",
       "      <td>https://www.halfbakedharvest.com/wp-content/up...</td>\n",
       "    </tr>\n",
       "    <tr>\n",
       "      <th>122</th>\n",
       "      <td>Cream Cheese Swirled Cinnamon Pumpkin Coffee Cake</td>\n",
       "      <td>{'minutes': '30'}</td>\n",
       "      <td>{'hours': '1'}</td>\n",
       "      <td>{'hours': '1', 'minutes': '30'}</td>\n",
       "      <td>[packed brown sugar, all-purpose flour, cinnam...</td>\n",
       "      <td>{'packed brown sugar': '1/2', 'all-purpose flo...</td>\n",
       "      <td>[1. Preheat the oven to 350° F. Line a (9×9 in...</td>\n",
       "      <td>412 kcal</td>\n",
       "      <td>12</td>\n",
       "      <td>https://www.halfbakedharvest.com/wp-content/up...</td>\n",
       "    </tr>\n",
       "    <tr>\n",
       "      <th>123</th>\n",
       "      <td>Baked Cinnamon Sugar Apple Cider Doughnut Holes</td>\n",
       "      <td>{'minutes': '15'}</td>\n",
       "      <td>{'minutes': '15'}</td>\n",
       "      <td>{'minutes': '30'}</td>\n",
       "      <td>[apple cider, salted butter, melted, vanilla e...</td>\n",
       "      <td>{'apple cider': '1 1/2', 'salted butter, melte...</td>\n",
       "      <td>[1. Preheat the oven to 350° F. Butter a 24-cu...</td>\n",
       "      <td>148 kcal</td>\n",
       "      <td>24</td>\n",
       "      <td>https://www.halfbakedharvest.com/wp-content/up...</td>\n",
       "    </tr>\n",
       "  </tbody>\n",
       "</table>\n",
       "<p>124 rows × 10 columns</p>\n",
       "</div>"
      ],
      "text/plain": [
       "                                                 title          prep_time  \\\n",
       "0                   6 Ingredient Spiced Pumpkin Butter  {'minutes': '10'}   \n",
       "1                  Mulled Spiced Apple Cider Doughnuts  {'minutes': '35'}   \n",
       "2           Triple Layer Peanut Butter Crunch Brownies  {'minutes': '20'}   \n",
       "3                   Bursting Blueberry Cardamom Buckle  {'minutes': '15'}   \n",
       "4        Browned Butter Coconut Chocolate Chip Cookies  {'minutes': '20'}   \n",
       "..                                                 ...                ...   \n",
       "119   Easy Slice ‘n’ Bake Vanilla Almond Sugar Cookies                  -   \n",
       "120          Asher’s 5 Minute Creamy Vanilla Hot Cocoa   {'minutes': '5'}   \n",
       "121           Chewy Brown Butter Pretzel Pecan Cookies  {'minutes': '15'}   \n",
       "122  Cream Cheese Swirled Cinnamon Pumpkin Coffee Cake  {'minutes': '30'}   \n",
       "123    Baked Cinnamon Sugar Apple Cider Doughnut Holes  {'minutes': '15'}   \n",
       "\n",
       "             cook_time                       total_time  \\\n",
       "0    {'minutes': '20'}                {'minutes': '30'}   \n",
       "1    {'minutes': '25'}                   {'hours': '1'}   \n",
       "2    {'minutes': '30'}                {'minutes': '50'}   \n",
       "3    {'minutes': '45'}                   {'hours': '1'}   \n",
       "4    {'minutes': '10'}                {'minutes': '30'}   \n",
       "..                 ...                              ...   \n",
       "119                  -                                -   \n",
       "120   {'minutes': '3'}                 {'minutes': '8'}   \n",
       "121  {'minutes': '10'}                {'minutes': '40'}   \n",
       "122     {'hours': '1'}  {'hours': '1', 'minutes': '30'}   \n",
       "123  {'minutes': '15'}                {'minutes': '30'}   \n",
       "\n",
       "                                           ingredients  \\\n",
       "0    [pumpkin puree, apple cider, real maple syrup,...   \n",
       "1    [apple cider, cinnamon, salted butter, real ma...   \n",
       "2    [salted butter, milk chocolate, chopped, granu...   \n",
       "3    [all-purpose flour, baking powder, ground card...   \n",
       "4    [sticks (1 cup) salted butter, light brown sug...   \n",
       "..                                                 ...   \n",
       "119  [salted butter, at room temperature, light or ...   \n",
       "120  [whole milk or your favorite unsweetened milk,...   \n",
       "121  [raw pecans, salted pretzel twists, ground cin...   \n",
       "122  [packed brown sugar, all-purpose flour, cinnam...   \n",
       "123  [apple cider, salted butter, melted, vanilla e...   \n",
       "\n",
       "                          ingredients with measurement  \\\n",
       "0    {'pumpkin puree': '2', 'apple cider': '1/3', '...   \n",
       "1    {'apple cider': '3', 'cinnamon': '1', 'salted ...   \n",
       "2    {'salted butter': '2', 'milk chocolate, choppe...   \n",
       "3    {'all-purpose flour': '1/2', 'baking powder': ...   \n",
       "4    {'sticks (1 cup) salted butter': '2', 'light b...   \n",
       "..                                                 ...   \n",
       "119  {'salted butter, at room temperature': '2', 'l...   \n",
       "120  {'whole milk or your favorite unsweetened milk...   \n",
       "121  {'raw pecans': '1', 'salted pretzel twists': '...   \n",
       "122  {'packed brown sugar': '1/2', 'all-purpose flo...   \n",
       "123  {'apple cider': '1 1/2', 'salted butter, melte...   \n",
       "\n",
       "                                          instructions   calories servings  \\\n",
       "0    [1. In a medium sauce pan, combine the pumpkin...    16 kcal       32   \n",
       "1    [1. Bring the apple cider and cinnamon to a bo...  1286 kcal       18   \n",
       "2    [1. Preheat the oven to 350° F. Line a 9×13 in...  1782 kcal       18   \n",
       "3    [1. Preheat the oven to 350 degrees F. Grease ...   834 kcal        8   \n",
       "4    [1. Add the butter to a skillet set over mediu...  1326 kcal       20   \n",
       "..                                                 ...        ...      ...   \n",
       "119  [1. In a large bowl, beat together the butter,...   112 kcal       40   \n",
       "120  [1. Add the milk, chocolate chips, dark chocol...   455 kcal        1   \n",
       "121  [1. Preheat the oven to 350° F. Line a baking ...   173 kcal       24   \n",
       "122  [1. Preheat the oven to 350° F. Line a (9×9 in...   412 kcal       12   \n",
       "123  [1. Preheat the oven to 350° F. Butter a 24-cu...   148 kcal       24   \n",
       "\n",
       "                                                images  \n",
       "0    https://www.halfbakedharvest.com/wp-content/up...  \n",
       "1    https://www.halfbakedharvest.com/wp-content/up...  \n",
       "2    https://www.halfbakedharvest.com/wp-content/up...  \n",
       "3    https://www.halfbakedharvest.com/wp-content/up...  \n",
       "4    https://www.halfbakedharvest.com/wp-content/up...  \n",
       "..                                                 ...  \n",
       "119  https://www.halfbakedharvest.com/wp-content/up...  \n",
       "120  https://www.halfbakedharvest.com/wp-content/up...  \n",
       "121  https://www.halfbakedharvest.com/wp-content/up...  \n",
       "122  https://www.halfbakedharvest.com/wp-content/up...  \n",
       "123  https://www.halfbakedharvest.com/wp-content/up...  \n",
       "\n",
       "[124 rows x 10 columns]"
      ]
     },
     "execution_count": 23,
     "metadata": {},
     "output_type": "execute_result"
    }
   ],
   "source": [
    "temp_recipes_3"
   ]
  },
  {
   "cell_type": "code",
   "execution_count": 24,
   "id": "5e699a3a",
   "metadata": {},
   "outputs": [
    {
     "data": {
      "text/html": [
       "<div>\n",
       "<style scoped>\n",
       "    .dataframe tbody tr th:only-of-type {\n",
       "        vertical-align: middle;\n",
       "    }\n",
       "\n",
       "    .dataframe tbody tr th {\n",
       "        vertical-align: top;\n",
       "    }\n",
       "\n",
       "    .dataframe thead th {\n",
       "        text-align: right;\n",
       "    }\n",
       "</style>\n",
       "<table border=\"1\" class=\"dataframe\">\n",
       "  <thead>\n",
       "    <tr style=\"text-align: right;\">\n",
       "      <th></th>\n",
       "      <th>title</th>\n",
       "      <th>prep_time</th>\n",
       "      <th>cook_time</th>\n",
       "      <th>total_time</th>\n",
       "      <th>ingredients</th>\n",
       "      <th>ingredients with measurement</th>\n",
       "      <th>instructions</th>\n",
       "      <th>calories</th>\n",
       "      <th>servings</th>\n",
       "      <th>images</th>\n",
       "    </tr>\n",
       "  </thead>\n",
       "  <tbody>\n",
       "    <tr>\n",
       "      <th>0</th>\n",
       "      <td>6 Ingredient Spiced Pumpkin Butter</td>\n",
       "      <td>{'minutes': '10'}</td>\n",
       "      <td>{'minutes': '20'}</td>\n",
       "      <td>{'minutes': '30'}</td>\n",
       "      <td>[pumpkin puree, apple cider, real maple syrup,...</td>\n",
       "      <td>{'pumpkin puree': '2', 'apple cider': '1/3', '...</td>\n",
       "      <td>[1. In a medium sauce pan, combine the pumpkin...</td>\n",
       "      <td>16 kcal</td>\n",
       "      <td>32</td>\n",
       "      <td>https://www.halfbakedharvest.com/wp-content/up...</td>\n",
       "    </tr>\n",
       "    <tr>\n",
       "      <th>1</th>\n",
       "      <td>Mulled Spiced Apple Cider Doughnuts</td>\n",
       "      <td>{'minutes': '35'}</td>\n",
       "      <td>{'minutes': '25'}</td>\n",
       "      <td>{'hours': '1'}</td>\n",
       "      <td>[apple cider, cinnamon, salted butter, real ma...</td>\n",
       "      <td>{'apple cider': '3', 'cinnamon': '1', 'salted ...</td>\n",
       "      <td>[1. Bring the apple cider and cinnamon to a bo...</td>\n",
       "      <td>1286 kcal</td>\n",
       "      <td>18</td>\n",
       "      <td>https://www.halfbakedharvest.com/wp-content/up...</td>\n",
       "    </tr>\n",
       "    <tr>\n",
       "      <th>2</th>\n",
       "      <td>Triple Layer Peanut Butter Crunch Brownies</td>\n",
       "      <td>{'minutes': '20'}</td>\n",
       "      <td>{'minutes': '30'}</td>\n",
       "      <td>{'minutes': '50'}</td>\n",
       "      <td>[salted butter, milk chocolate, chopped, granu...</td>\n",
       "      <td>{'salted butter': '2', 'milk chocolate, choppe...</td>\n",
       "      <td>[1. Preheat the oven to 350° F. Line a 9×13 in...</td>\n",
       "      <td>1782 kcal</td>\n",
       "      <td>18</td>\n",
       "      <td>https://www.halfbakedharvest.com/wp-content/up...</td>\n",
       "    </tr>\n",
       "    <tr>\n",
       "      <th>3</th>\n",
       "      <td>Bursting Blueberry Cardamom Buckle</td>\n",
       "      <td>{'minutes': '15'}</td>\n",
       "      <td>{'minutes': '45'}</td>\n",
       "      <td>{'hours': '1'}</td>\n",
       "      <td>[all-purpose flour, baking powder, ground card...</td>\n",
       "      <td>{'all-purpose flour': '1/2', 'baking powder': ...</td>\n",
       "      <td>[1. Preheat the oven to 350 degrees F. Grease ...</td>\n",
       "      <td>834 kcal</td>\n",
       "      <td>8</td>\n",
       "      <td>https://www.halfbakedharvest.com/wp-content/up...</td>\n",
       "    </tr>\n",
       "    <tr>\n",
       "      <th>4</th>\n",
       "      <td>Browned Butter Coconut Chocolate Chip Cookies</td>\n",
       "      <td>{'minutes': '20'}</td>\n",
       "      <td>{'minutes': '10'}</td>\n",
       "      <td>{'minutes': '30'}</td>\n",
       "      <td>[sticks (1 cup) salted butter, light brown sug...</td>\n",
       "      <td>{'sticks (1 cup) salted butter': '2', 'light b...</td>\n",
       "      <td>[1. Add the butter to a skillet set over mediu...</td>\n",
       "      <td>1326 kcal</td>\n",
       "      <td>20</td>\n",
       "      <td>https://www.halfbakedharvest.com/wp-content/up...</td>\n",
       "    </tr>\n",
       "    <tr>\n",
       "      <th>...</th>\n",
       "      <td>...</td>\n",
       "      <td>...</td>\n",
       "      <td>...</td>\n",
       "      <td>...</td>\n",
       "      <td>...</td>\n",
       "      <td>...</td>\n",
       "      <td>...</td>\n",
       "      <td>...</td>\n",
       "      <td>...</td>\n",
       "      <td>...</td>\n",
       "    </tr>\n",
       "    <tr>\n",
       "      <th>119</th>\n",
       "      <td>Easy Slice ‘n’ Bake Vanilla Almond Sugar Cookies</td>\n",
       "      <td>-</td>\n",
       "      <td>-</td>\n",
       "      <td>-</td>\n",
       "      <td>[salted butter, at room temperature, light or ...</td>\n",
       "      <td>{'salted butter, at room temperature': '2', 'l...</td>\n",
       "      <td>[1. In a large bowl, beat together the butter,...</td>\n",
       "      <td>112 kcal</td>\n",
       "      <td>40</td>\n",
       "      <td>https://www.halfbakedharvest.com/wp-content/up...</td>\n",
       "    </tr>\n",
       "    <tr>\n",
       "      <th>120</th>\n",
       "      <td>Asher’s 5 Minute Creamy Vanilla Hot Cocoa</td>\n",
       "      <td>{'minutes': '5'}</td>\n",
       "      <td>{'minutes': '3'}</td>\n",
       "      <td>{'minutes': '8'}</td>\n",
       "      <td>[whole milk or your favorite unsweetened milk,...</td>\n",
       "      <td>{'whole milk or your favorite unsweetened milk...</td>\n",
       "      <td>[1. Add the milk, chocolate chips, dark chocol...</td>\n",
       "      <td>455 kcal</td>\n",
       "      <td>1</td>\n",
       "      <td>https://www.halfbakedharvest.com/wp-content/up...</td>\n",
       "    </tr>\n",
       "    <tr>\n",
       "      <th>121</th>\n",
       "      <td>Chewy Brown Butter Pretzel Pecan Cookies</td>\n",
       "      <td>{'minutes': '15'}</td>\n",
       "      <td>{'minutes': '10'}</td>\n",
       "      <td>{'minutes': '40'}</td>\n",
       "      <td>[raw pecans, salted pretzel twists, ground cin...</td>\n",
       "      <td>{'raw pecans': '1', 'salted pretzel twists': '...</td>\n",
       "      <td>[1. Preheat the oven to 350° F. Line a baking ...</td>\n",
       "      <td>173 kcal</td>\n",
       "      <td>24</td>\n",
       "      <td>https://www.halfbakedharvest.com/wp-content/up...</td>\n",
       "    </tr>\n",
       "    <tr>\n",
       "      <th>122</th>\n",
       "      <td>Cream Cheese Swirled Cinnamon Pumpkin Coffee Cake</td>\n",
       "      <td>{'minutes': '30'}</td>\n",
       "      <td>{'hours': '1'}</td>\n",
       "      <td>{'hours': '1', 'minutes': '30'}</td>\n",
       "      <td>[packed brown sugar, all-purpose flour, cinnam...</td>\n",
       "      <td>{'packed brown sugar': '1/2', 'all-purpose flo...</td>\n",
       "      <td>[1. Preheat the oven to 350° F. Line a (9×9 in...</td>\n",
       "      <td>412 kcal</td>\n",
       "      <td>12</td>\n",
       "      <td>https://www.halfbakedharvest.com/wp-content/up...</td>\n",
       "    </tr>\n",
       "    <tr>\n",
       "      <th>123</th>\n",
       "      <td>Baked Cinnamon Sugar Apple Cider Doughnut Holes</td>\n",
       "      <td>{'minutes': '15'}</td>\n",
       "      <td>{'minutes': '15'}</td>\n",
       "      <td>{'minutes': '30'}</td>\n",
       "      <td>[apple cider, salted butter, melted, vanilla e...</td>\n",
       "      <td>{'apple cider': '1 1/2', 'salted butter, melte...</td>\n",
       "      <td>[1. Preheat the oven to 350° F. Butter a 24-cu...</td>\n",
       "      <td>148 kcal</td>\n",
       "      <td>24</td>\n",
       "      <td>https://www.halfbakedharvest.com/wp-content/up...</td>\n",
       "    </tr>\n",
       "  </tbody>\n",
       "</table>\n",
       "<p>124 rows × 10 columns</p>\n",
       "</div>"
      ],
      "text/plain": [
       "                                                 title          prep_time  \\\n",
       "0                   6 Ingredient Spiced Pumpkin Butter  {'minutes': '10'}   \n",
       "1                  Mulled Spiced Apple Cider Doughnuts  {'minutes': '35'}   \n",
       "2           Triple Layer Peanut Butter Crunch Brownies  {'minutes': '20'}   \n",
       "3                   Bursting Blueberry Cardamom Buckle  {'minutes': '15'}   \n",
       "4        Browned Butter Coconut Chocolate Chip Cookies  {'minutes': '20'}   \n",
       "..                                                 ...                ...   \n",
       "119   Easy Slice ‘n’ Bake Vanilla Almond Sugar Cookies                  -   \n",
       "120          Asher’s 5 Minute Creamy Vanilla Hot Cocoa   {'minutes': '5'}   \n",
       "121           Chewy Brown Butter Pretzel Pecan Cookies  {'minutes': '15'}   \n",
       "122  Cream Cheese Swirled Cinnamon Pumpkin Coffee Cake  {'minutes': '30'}   \n",
       "123    Baked Cinnamon Sugar Apple Cider Doughnut Holes  {'minutes': '15'}   \n",
       "\n",
       "             cook_time                       total_time  \\\n",
       "0    {'minutes': '20'}                {'minutes': '30'}   \n",
       "1    {'minutes': '25'}                   {'hours': '1'}   \n",
       "2    {'minutes': '30'}                {'minutes': '50'}   \n",
       "3    {'minutes': '45'}                   {'hours': '1'}   \n",
       "4    {'minutes': '10'}                {'minutes': '30'}   \n",
       "..                 ...                              ...   \n",
       "119                  -                                -   \n",
       "120   {'minutes': '3'}                 {'minutes': '8'}   \n",
       "121  {'minutes': '10'}                {'minutes': '40'}   \n",
       "122     {'hours': '1'}  {'hours': '1', 'minutes': '30'}   \n",
       "123  {'minutes': '15'}                {'minutes': '30'}   \n",
       "\n",
       "                                           ingredients  \\\n",
       "0    [pumpkin puree, apple cider, real maple syrup,...   \n",
       "1    [apple cider, cinnamon, salted butter, real ma...   \n",
       "2    [salted butter, milk chocolate, chopped, granu...   \n",
       "3    [all-purpose flour, baking powder, ground card...   \n",
       "4    [sticks (1 cup) salted butter, light brown sug...   \n",
       "..                                                 ...   \n",
       "119  [salted butter, at room temperature, light or ...   \n",
       "120  [whole milk or your favorite unsweetened milk,...   \n",
       "121  [raw pecans, salted pretzel twists, ground cin...   \n",
       "122  [packed brown sugar, all-purpose flour, cinnam...   \n",
       "123  [apple cider, salted butter, melted, vanilla e...   \n",
       "\n",
       "                          ingredients with measurement  \\\n",
       "0    {'pumpkin puree': '2', 'apple cider': '1/3', '...   \n",
       "1    {'apple cider': '3', 'cinnamon': '1', 'salted ...   \n",
       "2    {'salted butter': '2', 'milk chocolate, choppe...   \n",
       "3    {'all-purpose flour': '1/2', 'baking powder': ...   \n",
       "4    {'sticks (1 cup) salted butter': '2', 'light b...   \n",
       "..                                                 ...   \n",
       "119  {'salted butter, at room temperature': '2', 'l...   \n",
       "120  {'whole milk or your favorite unsweetened milk...   \n",
       "121  {'raw pecans': '1', 'salted pretzel twists': '...   \n",
       "122  {'packed brown sugar': '1/2', 'all-purpose flo...   \n",
       "123  {'apple cider': '1 1/2', 'salted butter, melte...   \n",
       "\n",
       "                                          instructions   calories servings  \\\n",
       "0    [1. In a medium sauce pan, combine the pumpkin...    16 kcal       32   \n",
       "1    [1. Bring the apple cider and cinnamon to a bo...  1286 kcal       18   \n",
       "2    [1. Preheat the oven to 350° F. Line a 9×13 in...  1782 kcal       18   \n",
       "3    [1. Preheat the oven to 350 degrees F. Grease ...   834 kcal        8   \n",
       "4    [1. Add the butter to a skillet set over mediu...  1326 kcal       20   \n",
       "..                                                 ...        ...      ...   \n",
       "119  [1. In a large bowl, beat together the butter,...   112 kcal       40   \n",
       "120  [1. Add the milk, chocolate chips, dark chocol...   455 kcal        1   \n",
       "121  [1. Preheat the oven to 350° F. Line a baking ...   173 kcal       24   \n",
       "122  [1. Preheat the oven to 350° F. Line a (9×9 in...   412 kcal       12   \n",
       "123  [1. Preheat the oven to 350° F. Butter a 24-cu...   148 kcal       24   \n",
       "\n",
       "                                                images  \n",
       "0    https://www.halfbakedharvest.com/wp-content/up...  \n",
       "1    https://www.halfbakedharvest.com/wp-content/up...  \n",
       "2    https://www.halfbakedharvest.com/wp-content/up...  \n",
       "3    https://www.halfbakedharvest.com/wp-content/up...  \n",
       "4    https://www.halfbakedharvest.com/wp-content/up...  \n",
       "..                                                 ...  \n",
       "119  https://www.halfbakedharvest.com/wp-content/up...  \n",
       "120  https://www.halfbakedharvest.com/wp-content/up...  \n",
       "121  https://www.halfbakedharvest.com/wp-content/up...  \n",
       "122  https://www.halfbakedharvest.com/wp-content/up...  \n",
       "123  https://www.halfbakedharvest.com/wp-content/up...  \n",
       "\n",
       "[124 rows x 10 columns]"
      ]
     },
     "execution_count": 24,
     "metadata": {},
     "output_type": "execute_result"
    }
   ],
   "source": [
    "final = pd.concat([final, temp_recipes_3], ignore_index=True)\n",
    "final"
   ]
  },
  {
   "cell_type": "code",
   "execution_count": 26,
   "id": "f1aaeecb",
   "metadata": {},
   "outputs": [],
   "source": [
    "def save_list_to_txt(filename, data_list):\n",
    "    \"\"\"\n",
    "    Save a list of strings to a text file, one item per line.\n",
    "    \n",
    "    :param filename: The name of the file to save the list to.\n",
    "    :param data_list: The list of strings to save.\n",
    "    \"\"\"\n",
    "    with open(filename, 'w') as f:\n",
    "        for item in data_list:\n",
    "            f.write(f\"{item}\\n\")"
   ]
  },
  {
   "cell_type": "code",
   "execution_count": 27,
   "id": "5fd1ee0e",
   "metadata": {},
   "outputs": [],
   "source": [
    "save_list_to_txt('failed_urls_till501.txt', failed_url)\n",
    "final.to_csv('desserts_201_501.csv', index=False)"
   ]
  },
  {
   "cell_type": "code",
   "execution_count": null,
   "id": "f2e767bb",
   "metadata": {},
   "outputs": [],
   "source": []
  },
  {
   "cell_type": "code",
   "execution_count": null,
   "id": "382f90d1",
   "metadata": {},
   "outputs": [],
   "source": []
  },
  {
   "cell_type": "code",
   "execution_count": null,
   "id": "76e81e61",
   "metadata": {},
   "outputs": [],
   "source": []
  },
  {
   "cell_type": "code",
   "execution_count": null,
   "id": "df03c5d3",
   "metadata": {},
   "outputs": [],
   "source": []
  },
  {
   "cell_type": "code",
   "execution_count": null,
   "id": "1e10152e",
   "metadata": {},
   "outputs": [],
   "source": []
  },
  {
   "cell_type": "code",
   "execution_count": null,
   "id": "f73e7e1b",
   "metadata": {},
   "outputs": [],
   "source": []
  },
  {
   "cell_type": "code",
   "execution_count": null,
   "id": "109578be",
   "metadata": {},
   "outputs": [],
   "source": []
  },
  {
   "cell_type": "code",
   "execution_count": null,
   "id": "1d416d69",
   "metadata": {},
   "outputs": [],
   "source": []
  },
  {
   "cell_type": "code",
   "execution_count": null,
   "id": "ae4b1919",
   "metadata": {},
   "outputs": [],
   "source": []
  },
  {
   "cell_type": "code",
   "execution_count": null,
   "id": "11fd3c4e",
   "metadata": {},
   "outputs": [],
   "source": []
  },
  {
   "cell_type": "code",
   "execution_count": null,
   "id": "9df36c54",
   "metadata": {},
   "outputs": [],
   "source": []
  },
  {
   "cell_type": "code",
   "execution_count": null,
   "id": "bf6c7112",
   "metadata": {},
   "outputs": [],
   "source": []
  },
  {
   "cell_type": "markdown",
   "id": "c2c25062",
   "metadata": {},
   "source": [
    "### Recipes 501-800"
   ]
  },
  {
   "cell_type": "code",
   "execution_count": 28,
   "id": "bf153261",
   "metadata": {
    "scrolled": true
   },
   "outputs": [
    {
     "name": "stdout",
     "output_type": "stream",
     "text": [
      "Proxies loaded: ['4.234.52.159:8080', '4.159.24.156:8080', '20.26.186.150:8080']\n"
     ]
    },
    {
     "data": {
      "application/javascript": [
       "\n",
       "        if (window._pyforest_update_imports_cell) { window._pyforest_update_imports_cell('import re'); }\n",
       "    "
      ],
      "text/plain": [
       "<IPython.core.display.Javascript object>"
      ]
     },
     "metadata": {},
     "output_type": "display_data"
    },
    {
     "data": {
      "application/javascript": [
       "\n",
       "        if (window._pyforest_update_imports_cell) { window._pyforest_update_imports_cell('import re'); }\n",
       "    "
      ],
      "text/plain": [
       "<IPython.core.display.Javascript object>"
      ]
     },
     "metadata": {},
     "output_type": "display_data"
    },
    {
     "data": {
      "application/javascript": [
       "\n",
       "        if (window._pyforest_update_imports_cell) { window._pyforest_update_imports_cell('import re'); }\n",
       "    "
      ],
      "text/plain": [
       "<IPython.core.display.Javascript object>"
      ]
     },
     "metadata": {},
     "output_type": "display_data"
    },
    {
     "name": "stdout",
     "output_type": "stream",
     "text": [
      "Successfully retrieved 501 - https://www.halfbakedharvest.com/boo-chocolate-peanut-butter-bars/ with proxy 4.234.52.159:8080\n",
      "Proxy 4.159.24.156:8080 failed for https://www.halfbakedharvest.com/pumpkin-butter-bars/: ('Connection aborted.', ConnectionResetError(54, 'Connection reset by peer'))\n"
     ]
    },
    {
     "data": {
      "application/javascript": [
       "\n",
       "        if (window._pyforest_update_imports_cell) { window._pyforest_update_imports_cell('import re'); }\n",
       "    "
      ],
      "text/plain": [
       "<IPython.core.display.Javascript object>"
      ]
     },
     "metadata": {},
     "output_type": "display_data"
    },
    {
     "data": {
      "application/javascript": [
       "\n",
       "        if (window._pyforest_update_imports_cell) { window._pyforest_update_imports_cell('import re'); }\n",
       "    "
      ],
      "text/plain": [
       "<IPython.core.display.Javascript object>"
      ]
     },
     "metadata": {},
     "output_type": "display_data"
    },
    {
     "data": {
      "application/javascript": [
       "\n",
       "        if (window._pyforest_update_imports_cell) { window._pyforest_update_imports_cell('import re'); }\n",
       "    "
      ],
      "text/plain": [
       "<IPython.core.display.Javascript object>"
      ]
     },
     "metadata": {},
     "output_type": "display_data"
    },
    {
     "data": {
      "application/javascript": [
       "\n",
       "        if (window._pyforest_update_imports_cell) { window._pyforest_update_imports_cell('import re'); }\n",
       "    "
      ],
      "text/plain": [
       "<IPython.core.display.Javascript object>"
      ]
     },
     "metadata": {},
     "output_type": "display_data"
    },
    {
     "name": "stdout",
     "output_type": "stream",
     "text": [
      "Successfully retrieved 503 - https://www.halfbakedharvest.com/apple-butter-soft-pretzel-knots/ with proxy 20.26.186.150:8080\n"
     ]
    },
    {
     "data": {
      "application/javascript": [
       "\n",
       "        if (window._pyforest_update_imports_cell) { window._pyforest_update_imports_cell('import re'); }\n",
       "    "
      ],
      "text/plain": [
       "<IPython.core.display.Javascript object>"
      ]
     },
     "metadata": {},
     "output_type": "display_data"
    },
    {
     "data": {
      "application/javascript": [
       "\n",
       "        if (window._pyforest_update_imports_cell) { window._pyforest_update_imports_cell('import re'); }\n",
       "    "
      ],
      "text/plain": [
       "<IPython.core.display.Javascript object>"
      ]
     },
     "metadata": {},
     "output_type": "display_data"
    },
    {
     "data": {
      "application/javascript": [
       "\n",
       "        if (window._pyforest_update_imports_cell) { window._pyforest_update_imports_cell('import re'); }\n",
       "    "
      ],
      "text/plain": [
       "<IPython.core.display.Javascript object>"
      ]
     },
     "metadata": {},
     "output_type": "display_data"
    },
    {
     "name": "stdout",
     "output_type": "stream",
     "text": [
      "Successfully retrieved 504 - https://www.halfbakedharvest.com/halloween-monster-mash-cookies/ with proxy 4.234.52.159:8080\n",
      "Proxy 4.159.24.156:8080 failed for https://www.halfbakedharvest.com/healthier-caramel-apples/: ('Connection aborted.', ConnectionResetError(54, 'Connection reset by peer'))\n"
     ]
    },
    {
     "data": {
      "application/javascript": [
       "\n",
       "        if (window._pyforest_update_imports_cell) { window._pyforest_update_imports_cell('import re'); }\n",
       "    "
      ],
      "text/plain": [
       "<IPython.core.display.Javascript object>"
      ]
     },
     "metadata": {},
     "output_type": "display_data"
    },
    {
     "data": {
      "application/javascript": [
       "\n",
       "        if (window._pyforest_update_imports_cell) { window._pyforest_update_imports_cell('import re'); }\n",
       "    "
      ],
      "text/plain": [
       "<IPython.core.display.Javascript object>"
      ]
     },
     "metadata": {},
     "output_type": "display_data"
    },
    {
     "data": {
      "application/javascript": [
       "\n",
       "        if (window._pyforest_update_imports_cell) { window._pyforest_update_imports_cell('import re'); }\n",
       "    "
      ],
      "text/plain": [
       "<IPython.core.display.Javascript object>"
      ]
     },
     "metadata": {},
     "output_type": "display_data"
    },
    {
     "name": "stdout",
     "output_type": "stream",
     "text": [
      "Successfully retrieved 506 - https://www.halfbakedharvest.com/caramel-apple-butter-cake/ with proxy 20.26.186.150:8080\n"
     ]
    },
    {
     "data": {
      "application/javascript": [
       "\n",
       "        if (window._pyforest_update_imports_cell) { window._pyforest_update_imports_cell('import re'); }\n",
       "    "
      ],
      "text/plain": [
       "<IPython.core.display.Javascript object>"
      ]
     },
     "metadata": {},
     "output_type": "display_data"
    },
    {
     "data": {
      "application/javascript": [
       "\n",
       "        if (window._pyforest_update_imports_cell) { window._pyforest_update_imports_cell('import re'); }\n",
       "    "
      ],
      "text/plain": [
       "<IPython.core.display.Javascript object>"
      ]
     },
     "metadata": {},
     "output_type": "display_data"
    },
    {
     "data": {
      "application/javascript": [
       "\n",
       "        if (window._pyforest_update_imports_cell) { window._pyforest_update_imports_cell('import re'); }\n",
       "    "
      ],
      "text/plain": [
       "<IPython.core.display.Javascript object>"
      ]
     },
     "metadata": {},
     "output_type": "display_data"
    },
    {
     "data": {
      "application/javascript": [
       "\n",
       "        if (window._pyforest_update_imports_cell) { window._pyforest_update_imports_cell('import re'); }\n",
       "    "
      ],
      "text/plain": [
       "<IPython.core.display.Javascript object>"
      ]
     },
     "metadata": {},
     "output_type": "display_data"
    },
    {
     "name": "stdout",
     "output_type": "stream",
     "text": [
      "Successfully retrieved 507 - https://www.halfbakedharvest.com/chai-banana-bread/ with proxy 4.234.52.159:8080\n",
      "Proxy 4.159.24.156:8080 failed for https://www.halfbakedharvest.com/chocolate-chip-espresso-oatmeal-cookies/: ('Connection aborted.', ConnectionResetError(54, 'Connection reset by peer'))\n"
     ]
    },
    {
     "data": {
      "application/javascript": [
       "\n",
       "        if (window._pyforest_update_imports_cell) { window._pyforest_update_imports_cell('import re'); }\n",
       "    "
      ],
      "text/plain": [
       "<IPython.core.display.Javascript object>"
      ]
     },
     "metadata": {},
     "output_type": "display_data"
    },
    {
     "data": {
      "application/javascript": [
       "\n",
       "        if (window._pyforest_update_imports_cell) { window._pyforest_update_imports_cell('import re'); }\n",
       "    "
      ],
      "text/plain": [
       "<IPython.core.display.Javascript object>"
      ]
     },
     "metadata": {},
     "output_type": "display_data"
    },
    {
     "data": {
      "application/javascript": [
       "\n",
       "        if (window._pyforest_update_imports_cell) { window._pyforest_update_imports_cell('import re'); }\n",
       "    "
      ],
      "text/plain": [
       "<IPython.core.display.Javascript object>"
      ]
     },
     "metadata": {},
     "output_type": "display_data"
    },
    {
     "data": {
      "application/javascript": [
       "\n",
       "        if (window._pyforest_update_imports_cell) { window._pyforest_update_imports_cell('import re'); }\n",
       "    "
      ],
      "text/plain": [
       "<IPython.core.display.Javascript object>"
      ]
     },
     "metadata": {},
     "output_type": "display_data"
    },
    {
     "name": "stdout",
     "output_type": "stream",
     "text": [
      "Successfully retrieved 509 - https://www.halfbakedharvest.com/cinnamon-sugar-swirled-apple-butter-bread/ with proxy 20.26.186.150:8080\n"
     ]
    },
    {
     "data": {
      "application/javascript": [
       "\n",
       "        if (window._pyforest_update_imports_cell) { window._pyforest_update_imports_cell('import re'); }\n",
       "    "
      ],
      "text/plain": [
       "<IPython.core.display.Javascript object>"
      ]
     },
     "metadata": {},
     "output_type": "display_data"
    },
    {
     "data": {
      "application/javascript": [
       "\n",
       "        if (window._pyforest_update_imports_cell) { window._pyforest_update_imports_cell('import re'); }\n",
       "    "
      ],
      "text/plain": [
       "<IPython.core.display.Javascript object>"
      ]
     },
     "metadata": {},
     "output_type": "display_data"
    },
    {
     "data": {
      "application/javascript": [
       "\n",
       "        if (window._pyforest_update_imports_cell) { window._pyforest_update_imports_cell('import re'); }\n",
       "    "
      ],
      "text/plain": [
       "<IPython.core.display.Javascript object>"
      ]
     },
     "metadata": {},
     "output_type": "display_data"
    },
    {
     "name": "stdout",
     "output_type": "stream",
     "text": [
      "Successfully retrieved 510 - https://www.halfbakedharvest.com/chocolate-olive-oil-sheet-cake/ with proxy 4.234.52.159:8080\n"
     ]
    },
    {
     "data": {
      "application/javascript": [
       "\n",
       "        if (window._pyforest_update_imports_cell) { window._pyforest_update_imports_cell('import re'); }\n",
       "    "
      ],
      "text/plain": [
       "<IPython.core.display.Javascript object>"
      ]
     },
     "metadata": {},
     "output_type": "display_data"
    },
    {
     "data": {
      "application/javascript": [
       "\n",
       "        if (window._pyforest_update_imports_cell) { window._pyforest_update_imports_cell('import re'); }\n",
       "    "
      ],
      "text/plain": [
       "<IPython.core.display.Javascript object>"
      ]
     },
     "metadata": {},
     "output_type": "display_data"
    },
    {
     "data": {
      "application/javascript": [
       "\n",
       "        if (window._pyforest_update_imports_cell) { window._pyforest_update_imports_cell('import re'); }\n",
       "    "
      ],
      "text/plain": [
       "<IPython.core.display.Javascript object>"
      ]
     },
     "metadata": {},
     "output_type": "display_data"
    },
    {
     "name": "stdout",
     "output_type": "stream",
     "text": [
      "Successfully retrieved 511 - https://www.halfbakedharvest.com/blackberry-yogurt-bark/ with proxy 4.159.24.156:8080\n"
     ]
    },
    {
     "data": {
      "application/javascript": [
       "\n",
       "        if (window._pyforest_update_imports_cell) { window._pyforest_update_imports_cell('import re'); }\n",
       "    "
      ],
      "text/plain": [
       "<IPython.core.display.Javascript object>"
      ]
     },
     "metadata": {},
     "output_type": "display_data"
    },
    {
     "data": {
      "application/javascript": [
       "\n",
       "        if (window._pyforest_update_imports_cell) { window._pyforest_update_imports_cell('import re'); }\n",
       "    "
      ],
      "text/plain": [
       "<IPython.core.display.Javascript object>"
      ]
     },
     "metadata": {},
     "output_type": "display_data"
    },
    {
     "name": "stdout",
     "output_type": "stream",
     "text": [
      "Successfully retrieved 512 - https://www.halfbakedharvest.com/scotcheroos/ with proxy 20.26.186.150:8080\n",
      "Proxy 4.234.52.159:8080 failed for https://www.halfbakedharvest.com/giant-frosted-chocolate-fudge-pop-tart/: HTTPSConnectionPool(host='www.halfbakedharvest.com', port=443): Max retries exceeded with url: /giant-frosted-chocolate-fudge-pop-tart/ (Caused by ProxyError('Unable to connect to proxy', ConnectTimeoutError(<urllib3.connection.HTTPSConnection object at 0x13275ab20>, 'Connection to 4.234.52.159 timed out. (connect timeout=30)')))\n"
     ]
    },
    {
     "data": {
      "application/javascript": [
       "\n",
       "        if (window._pyforest_update_imports_cell) { window._pyforest_update_imports_cell('import re'); }\n",
       "    "
      ],
      "text/plain": [
       "<IPython.core.display.Javascript object>"
      ]
     },
     "metadata": {},
     "output_type": "display_data"
    },
    {
     "data": {
      "application/javascript": [
       "\n",
       "        if (window._pyforest_update_imports_cell) { window._pyforest_update_imports_cell('import re'); }\n",
       "    "
      ],
      "text/plain": [
       "<IPython.core.display.Javascript object>"
      ]
     },
     "metadata": {},
     "output_type": "display_data"
    },
    {
     "data": {
      "application/javascript": [
       "\n",
       "        if (window._pyforest_update_imports_cell) { window._pyforest_update_imports_cell('import re'); }\n",
       "    "
      ],
      "text/plain": [
       "<IPython.core.display.Javascript object>"
      ]
     },
     "metadata": {},
     "output_type": "display_data"
    },
    {
     "name": "stdout",
     "output_type": "stream",
     "text": [
      "Successfully retrieved 514 - https://www.halfbakedharvest.com/brown-butter-oatmeal-chocolate-chip-cookies/ with proxy 4.159.24.156:8080\n"
     ]
    },
    {
     "data": {
      "application/javascript": [
       "\n",
       "        if (window._pyforest_update_imports_cell) { window._pyforest_update_imports_cell('import re'); }\n",
       "    "
      ],
      "text/plain": [
       "<IPython.core.display.Javascript object>"
      ]
     },
     "metadata": {},
     "output_type": "display_data"
    },
    {
     "data": {
      "application/javascript": [
       "\n",
       "        if (window._pyforest_update_imports_cell) { window._pyforest_update_imports_cell('import re'); }\n",
       "    "
      ],
      "text/plain": [
       "<IPython.core.display.Javascript object>"
      ]
     },
     "metadata": {},
     "output_type": "display_data"
    },
    {
     "data": {
      "application/javascript": [
       "\n",
       "        if (window._pyforest_update_imports_cell) { window._pyforest_update_imports_cell('import re'); }\n",
       "    "
      ],
      "text/plain": [
       "<IPython.core.display.Javascript object>"
      ]
     },
     "metadata": {},
     "output_type": "display_data"
    },
    {
     "data": {
      "application/javascript": [
       "\n",
       "        if (window._pyforest_update_imports_cell) { window._pyforest_update_imports_cell('import re'); }\n",
       "    "
      ],
      "text/plain": [
       "<IPython.core.display.Javascript object>"
      ]
     },
     "metadata": {},
     "output_type": "display_data"
    },
    {
     "name": "stdout",
     "output_type": "stream",
     "text": [
      "Successfully retrieved 515 - https://www.halfbakedharvest.com/blueberry-yogurt-granola-bars/ with proxy 20.26.186.150:8080\n"
     ]
    },
    {
     "data": {
      "application/javascript": [
       "\n",
       "        if (window._pyforest_update_imports_cell) { window._pyforest_update_imports_cell('import re'); }\n",
       "    "
      ],
      "text/plain": [
       "<IPython.core.display.Javascript object>"
      ]
     },
     "metadata": {},
     "output_type": "display_data"
    },
    {
     "data": {
      "application/javascript": [
       "\n",
       "        if (window._pyforest_update_imports_cell) { window._pyforest_update_imports_cell('import re'); }\n",
       "    "
      ],
      "text/plain": [
       "<IPython.core.display.Javascript object>"
      ]
     },
     "metadata": {},
     "output_type": "display_data"
    },
    {
     "data": {
      "application/javascript": [
       "\n",
       "        if (window._pyforest_update_imports_cell) { window._pyforest_update_imports_cell('import re'); }\n",
       "    "
      ],
      "text/plain": [
       "<IPython.core.display.Javascript object>"
      ]
     },
     "metadata": {},
     "output_type": "display_data"
    },
    {
     "name": "stdout",
     "output_type": "stream",
     "text": [
      "Successfully retrieved 516 - https://www.halfbakedharvest.com/blackberry-peach-galette/ with proxy 4.234.52.159:8080\n",
      "Proxy 4.159.24.156:8080 failed for https://www.halfbakedharvest.com/vanilla-bean-olive-oil-ice-cream/: HTTPSConnectionPool(host='www.halfbakedharvest.com', port=443): Max retries exceeded with url: /vanilla-bean-olive-oil-ice-cream/ (Caused by ProxyError('Unable to connect to proxy', ConnectTimeoutError(<urllib3.connection.HTTPSConnection object at 0x1325e2340>, 'Connection to 4.159.24.156 timed out. (connect timeout=30)')))\n"
     ]
    },
    {
     "data": {
      "application/javascript": [
       "\n",
       "        if (window._pyforest_update_imports_cell) { window._pyforest_update_imports_cell('import re'); }\n",
       "    "
      ],
      "text/plain": [
       "<IPython.core.display.Javascript object>"
      ]
     },
     "metadata": {},
     "output_type": "display_data"
    },
    {
     "data": {
      "application/javascript": [
       "\n",
       "        if (window._pyforest_update_imports_cell) { window._pyforest_update_imports_cell('import re'); }\n",
       "    "
      ],
      "text/plain": [
       "<IPython.core.display.Javascript object>"
      ]
     },
     "metadata": {},
     "output_type": "display_data"
    },
    {
     "data": {
      "application/javascript": [
       "\n",
       "        if (window._pyforest_update_imports_cell) { window._pyforest_update_imports_cell('import re'); }\n",
       "    "
      ],
      "text/plain": [
       "<IPython.core.display.Javascript object>"
      ]
     },
     "metadata": {},
     "output_type": "display_data"
    },
    {
     "name": "stdout",
     "output_type": "stream",
     "text": [
      "Successfully retrieved 518 - https://www.halfbakedharvest.com/peach-mug-cake/ with proxy 20.26.186.150:8080\n"
     ]
    },
    {
     "data": {
      "application/javascript": [
       "\n",
       "        if (window._pyforest_update_imports_cell) { window._pyforest_update_imports_cell('import re'); }\n",
       "    "
      ],
      "text/plain": [
       "<IPython.core.display.Javascript object>"
      ]
     },
     "metadata": {},
     "output_type": "display_data"
    },
    {
     "data": {
      "application/javascript": [
       "\n",
       "        if (window._pyforest_update_imports_cell) { window._pyforest_update_imports_cell('import re'); }\n",
       "    "
      ],
      "text/plain": [
       "<IPython.core.display.Javascript object>"
      ]
     },
     "metadata": {},
     "output_type": "display_data"
    },
    {
     "data": {
      "application/javascript": [
       "\n",
       "        if (window._pyforest_update_imports_cell) { window._pyforest_update_imports_cell('import re'); }\n",
       "    "
      ],
      "text/plain": [
       "<IPython.core.display.Javascript object>"
      ]
     },
     "metadata": {},
     "output_type": "display_data"
    },
    {
     "name": "stdout",
     "output_type": "stream",
     "text": [
      "Successfully retrieved 519 - https://www.halfbakedharvest.com/raspberry-chocolate-chip-cookies/ with proxy 4.234.52.159:8080\n",
      "Proxy 4.159.24.156:8080 failed for https://www.halfbakedharvest.com/brown-sugar-peach-cobbler/: ('Connection aborted.', ConnectionResetError(54, 'Connection reset by peer'))\n"
     ]
    },
    {
     "data": {
      "application/javascript": [
       "\n",
       "        if (window._pyforest_update_imports_cell) { window._pyforest_update_imports_cell('import re'); }\n",
       "    "
      ],
      "text/plain": [
       "<IPython.core.display.Javascript object>"
      ]
     },
     "metadata": {},
     "output_type": "display_data"
    },
    {
     "data": {
      "application/javascript": [
       "\n",
       "        if (window._pyforest_update_imports_cell) { window._pyforest_update_imports_cell('import re'); }\n",
       "    "
      ],
      "text/plain": [
       "<IPython.core.display.Javascript object>"
      ]
     },
     "metadata": {},
     "output_type": "display_data"
    },
    {
     "data": {
      "application/javascript": [
       "\n",
       "        if (window._pyforest_update_imports_cell) { window._pyforest_update_imports_cell('import re'); }\n",
       "    "
      ],
      "text/plain": [
       "<IPython.core.display.Javascript object>"
      ]
     },
     "metadata": {},
     "output_type": "display_data"
    },
    {
     "name": "stdout",
     "output_type": "stream",
     "text": [
      "Successfully retrieved 521 - https://www.halfbakedharvest.com/zucchini-banana-muffins/ with proxy 20.26.186.150:8080\n",
      "Proxy 4.234.52.159:8080 failed for https://www.halfbakedharvest.com/special-k-bars/: HTTPSConnectionPool(host='www.halfbakedharvest.com', port=443): Max retries exceeded with url: /special-k-bars/ (Caused by ProxyError('Unable to connect to proxy', ConnectTimeoutError(<urllib3.connection.HTTPSConnection object at 0x122b7fd60>, 'Connection to 4.234.52.159 timed out. (connect timeout=30)')))\n"
     ]
    },
    {
     "data": {
      "application/javascript": [
       "\n",
       "        if (window._pyforest_update_imports_cell) { window._pyforest_update_imports_cell('import re'); }\n",
       "    "
      ],
      "text/plain": [
       "<IPython.core.display.Javascript object>"
      ]
     },
     "metadata": {},
     "output_type": "display_data"
    },
    {
     "data": {
      "application/javascript": [
       "\n",
       "        if (window._pyforest_update_imports_cell) { window._pyforest_update_imports_cell('import re'); }\n",
       "    "
      ],
      "text/plain": [
       "<IPython.core.display.Javascript object>"
      ]
     },
     "metadata": {},
     "output_type": "display_data"
    },
    {
     "name": "stdout",
     "output_type": "stream",
     "text": [
      "Successfully retrieved 523 - https://www.halfbakedharvest.com/strawberry-pretzel-ice-cream-cake/ with proxy 4.159.24.156:8080\n"
     ]
    },
    {
     "data": {
      "application/javascript": [
       "\n",
       "        if (window._pyforest_update_imports_cell) { window._pyforest_update_imports_cell('import re'); }\n",
       "    "
      ],
      "text/plain": [
       "<IPython.core.display.Javascript object>"
      ]
     },
     "metadata": {},
     "output_type": "display_data"
    },
    {
     "data": {
      "application/javascript": [
       "\n",
       "        if (window._pyforest_update_imports_cell) { window._pyforest_update_imports_cell('import re'); }\n",
       "    "
      ],
      "text/plain": [
       "<IPython.core.display.Javascript object>"
      ]
     },
     "metadata": {},
     "output_type": "display_data"
    },
    {
     "data": {
      "application/javascript": [
       "\n",
       "        if (window._pyforest_update_imports_cell) { window._pyforest_update_imports_cell('import re'); }\n",
       "    "
      ],
      "text/plain": [
       "<IPython.core.display.Javascript object>"
      ]
     },
     "metadata": {},
     "output_type": "display_data"
    },
    {
     "name": "stdout",
     "output_type": "stream",
     "text": [
      "Successfully retrieved 524 - https://www.halfbakedharvest.com/no-churn-chocolate-peanut-butter-ice-cream/ with proxy 20.26.186.150:8080\n",
      "Proxy 4.234.52.159:8080 failed for https://www.halfbakedharvest.com/strawberry-shortcake-ice-cream-bars/: ('Connection aborted.', ConnectionResetError(54, 'Connection reset by peer'))\n",
      "Proxy 4.159.24.156:8080 failed for https://www.halfbakedharvest.com/strawberry-jam-dutch-baby/: ('Connection aborted.', ConnectionResetError(54, 'Connection reset by peer'))\n"
     ]
    },
    {
     "data": {
      "application/javascript": [
       "\n",
       "        if (window._pyforest_update_imports_cell) { window._pyforest_update_imports_cell('import re'); }\n",
       "    "
      ],
      "text/plain": [
       "<IPython.core.display.Javascript object>"
      ]
     },
     "metadata": {},
     "output_type": "display_data"
    },
    {
     "data": {
      "application/javascript": [
       "\n",
       "        if (window._pyforest_update_imports_cell) { window._pyforest_update_imports_cell('import re'); }\n",
       "    "
      ],
      "text/plain": [
       "<IPython.core.display.Javascript object>"
      ]
     },
     "metadata": {},
     "output_type": "display_data"
    },
    {
     "data": {
      "application/javascript": [
       "\n",
       "        if (window._pyforest_update_imports_cell) { window._pyforest_update_imports_cell('import re'); }\n",
       "    "
      ],
      "text/plain": [
       "<IPython.core.display.Javascript object>"
      ]
     },
     "metadata": {},
     "output_type": "display_data"
    },
    {
     "name": "stdout",
     "output_type": "stream",
     "text": [
      "Successfully retrieved 527 - https://www.halfbakedharvest.com/frozen-chocolate-covered-banana-bites/ with proxy 20.26.186.150:8080\n"
     ]
    },
    {
     "data": {
      "application/javascript": [
       "\n",
       "        if (window._pyforest_update_imports_cell) { window._pyforest_update_imports_cell('import re'); }\n",
       "    "
      ],
      "text/plain": [
       "<IPython.core.display.Javascript object>"
      ]
     },
     "metadata": {},
     "output_type": "display_data"
    },
    {
     "data": {
      "application/javascript": [
       "\n",
       "        if (window._pyforest_update_imports_cell) { window._pyforest_update_imports_cell('import re'); }\n",
       "    "
      ],
      "text/plain": [
       "<IPython.core.display.Javascript object>"
      ]
     },
     "metadata": {},
     "output_type": "display_data"
    },
    {
     "data": {
      "application/javascript": [
       "\n",
       "        if (window._pyforest_update_imports_cell) { window._pyforest_update_imports_cell('import re'); }\n",
       "    "
      ],
      "text/plain": [
       "<IPython.core.display.Javascript object>"
      ]
     },
     "metadata": {},
     "output_type": "display_data"
    },
    {
     "name": "stdout",
     "output_type": "stream",
     "text": [
      "Successfully retrieved 528 - https://www.halfbakedharvest.com/chocolate-covered-creamy-peanut-butter-cup-bars/ with proxy 4.234.52.159:8080\n",
      "Proxy 4.159.24.156:8080 failed for https://www.halfbakedharvest.com/lemon-coconut-naked-cake/: ('Connection aborted.', ConnectionResetError(54, 'Connection reset by peer'))\n"
     ]
    },
    {
     "data": {
      "application/javascript": [
       "\n",
       "        if (window._pyforest_update_imports_cell) { window._pyforest_update_imports_cell('import re'); }\n",
       "    "
      ],
      "text/plain": [
       "<IPython.core.display.Javascript object>"
      ]
     },
     "metadata": {},
     "output_type": "display_data"
    },
    {
     "data": {
      "application/javascript": [
       "\n",
       "        if (window._pyforest_update_imports_cell) { window._pyforest_update_imports_cell('import re'); }\n",
       "    "
      ],
      "text/plain": [
       "<IPython.core.display.Javascript object>"
      ]
     },
     "metadata": {},
     "output_type": "display_data"
    },
    {
     "data": {
      "application/javascript": [
       "\n",
       "        if (window._pyforest_update_imports_cell) { window._pyforest_update_imports_cell('import re'); }\n",
       "    "
      ],
      "text/plain": [
       "<IPython.core.display.Javascript object>"
      ]
     },
     "metadata": {},
     "output_type": "display_data"
    },
    {
     "data": {
      "application/javascript": [
       "\n",
       "        if (window._pyforest_update_imports_cell) { window._pyforest_update_imports_cell('import re'); }\n",
       "    "
      ],
      "text/plain": [
       "<IPython.core.display.Javascript object>"
      ]
     },
     "metadata": {},
     "output_type": "display_data"
    },
    {
     "name": "stdout",
     "output_type": "stream",
     "text": [
      "Successfully retrieved 530 - https://www.halfbakedharvest.com/coconut-banana-cream-pie-parfaits/ with proxy 20.26.186.150:8080\n"
     ]
    },
    {
     "data": {
      "application/javascript": [
       "\n",
       "        if (window._pyforest_update_imports_cell) { window._pyforest_update_imports_cell('import re'); }\n",
       "    "
      ],
      "text/plain": [
       "<IPython.core.display.Javascript object>"
      ]
     },
     "metadata": {},
     "output_type": "display_data"
    },
    {
     "data": {
      "application/javascript": [
       "\n",
       "        if (window._pyforest_update_imports_cell) { window._pyforest_update_imports_cell('import re'); }\n",
       "    "
      ],
      "text/plain": [
       "<IPython.core.display.Javascript object>"
      ]
     },
     "metadata": {},
     "output_type": "display_data"
    },
    {
     "data": {
      "application/javascript": [
       "\n",
       "        if (window._pyforest_update_imports_cell) { window._pyforest_update_imports_cell('import re'); }\n",
       "    "
      ],
      "text/plain": [
       "<IPython.core.display.Javascript object>"
      ]
     },
     "metadata": {},
     "output_type": "display_data"
    },
    {
     "data": {
      "application/javascript": [
       "\n",
       "        if (window._pyforest_update_imports_cell) { window._pyforest_update_imports_cell('import re'); }\n",
       "    "
      ],
      "text/plain": [
       "<IPython.core.display.Javascript object>"
      ]
     },
     "metadata": {},
     "output_type": "display_data"
    },
    {
     "name": "stdout",
     "output_type": "stream",
     "text": [
      "Successfully retrieved 531 - https://www.halfbakedharvest.com/creamy-lemon-bars/ with proxy 4.234.52.159:8080\n",
      "ChunkedEncodingError occurred for proxy 4.159.24.156:8080 and https://www.halfbakedharvest.com/strawberry-olive-oil-cake/: ('Connection broken: IncompleteRead(706 bytes read, 9534 more expected)', IncompleteRead(706 bytes read, 9534 more expected))\n",
      "Proxy 20.26.186.150:8080 failed for https://www.halfbakedharvest.com/vegan-gooey-chocolate-coconut-caramel-bars/: ('Connection aborted.', ConnectionResetError(54, 'Connection reset by peer'))\n"
     ]
    },
    {
     "data": {
      "application/javascript": [
       "\n",
       "        if (window._pyforest_update_imports_cell) { window._pyforest_update_imports_cell('import re'); }\n",
       "    "
      ],
      "text/plain": [
       "<IPython.core.display.Javascript object>"
      ]
     },
     "metadata": {},
     "output_type": "display_data"
    },
    {
     "data": {
      "application/javascript": [
       "\n",
       "        if (window._pyforest_update_imports_cell) { window._pyforest_update_imports_cell('import re'); }\n",
       "    "
      ],
      "text/plain": [
       "<IPython.core.display.Javascript object>"
      ]
     },
     "metadata": {},
     "output_type": "display_data"
    },
    {
     "data": {
      "application/javascript": [
       "\n",
       "        if (window._pyforest_update_imports_cell) { window._pyforest_update_imports_cell('import re'); }\n",
       "    "
      ],
      "text/plain": [
       "<IPython.core.display.Javascript object>"
      ]
     },
     "metadata": {},
     "output_type": "display_data"
    },
    {
     "name": "stdout",
     "output_type": "stream",
     "text": [
      "Successfully retrieved 534 - https://www.halfbakedharvest.com/cheesecake-stuffed-chocolate-chunk-banana-bread-muffins/ with proxy 4.234.52.159:8080\n",
      "Proxy 4.159.24.156:8080 failed for https://www.halfbakedharvest.com/giant-strawberries-n-cream-pop-tart/: ('Connection aborted.', ConnectionResetError(54, 'Connection reset by peer'))\n"
     ]
    },
    {
     "data": {
      "application/javascript": [
       "\n",
       "        if (window._pyforest_update_imports_cell) { window._pyforest_update_imports_cell('import re'); }\n",
       "    "
      ],
      "text/plain": [
       "<IPython.core.display.Javascript object>"
      ]
     },
     "metadata": {},
     "output_type": "display_data"
    },
    {
     "data": {
      "application/javascript": [
       "\n",
       "        if (window._pyforest_update_imports_cell) { window._pyforest_update_imports_cell('import re'); }\n",
       "    "
      ],
      "text/plain": [
       "<IPython.core.display.Javascript object>"
      ]
     },
     "metadata": {},
     "output_type": "display_data"
    },
    {
     "data": {
      "application/javascript": [
       "\n",
       "        if (window._pyforest_update_imports_cell) { window._pyforest_update_imports_cell('import re'); }\n",
       "    "
      ],
      "text/plain": [
       "<IPython.core.display.Javascript object>"
      ]
     },
     "metadata": {},
     "output_type": "display_data"
    },
    {
     "name": "stdout",
     "output_type": "stream",
     "text": [
      "Successfully retrieved 536 - https://www.halfbakedharvest.com/easiest-cinnamon-buttermilk-beignets/ with proxy 20.26.186.150:8080\n",
      "Proxy 4.234.52.159:8080 failed for https://www.halfbakedharvest.com/peanut-butter-chocolate-chunk-oatmeal-cookies/: HTTPSConnectionPool(host='www.halfbakedharvest.com', port=443): Max retries exceeded with url: /peanut-butter-chocolate-chunk-oatmeal-cookies/ (Caused by ProxyError('Unable to connect to proxy', ConnectTimeoutError(<urllib3.connection.HTTPSConnection object at 0x132027040>, 'Connection to 4.234.52.159 timed out. (connect timeout=30)')))\n",
      "Proxy 4.159.24.156:8080 failed for https://www.halfbakedharvest.com/whipped-lemon-ricotta-cheesecake/: ('Connection aborted.', ConnectionResetError(54, 'Connection reset by peer'))\n"
     ]
    },
    {
     "data": {
      "application/javascript": [
       "\n",
       "        if (window._pyforest_update_imports_cell) { window._pyforest_update_imports_cell('import re'); }\n",
       "    "
      ],
      "text/plain": [
       "<IPython.core.display.Javascript object>"
      ]
     },
     "metadata": {},
     "output_type": "display_data"
    },
    {
     "data": {
      "application/javascript": [
       "\n",
       "        if (window._pyforest_update_imports_cell) { window._pyforest_update_imports_cell('import re'); }\n",
       "    "
      ],
      "text/plain": [
       "<IPython.core.display.Javascript object>"
      ]
     },
     "metadata": {},
     "output_type": "display_data"
    },
    {
     "data": {
      "application/javascript": [
       "\n",
       "        if (window._pyforest_update_imports_cell) { window._pyforest_update_imports_cell('import re'); }\n",
       "    "
      ],
      "text/plain": [
       "<IPython.core.display.Javascript object>"
      ]
     },
     "metadata": {},
     "output_type": "display_data"
    },
    {
     "name": "stdout",
     "output_type": "stream",
     "text": [
      "Successfully retrieved 539 - https://www.halfbakedharvest.com/warm-chocolate-banana-galette/ with proxy 20.26.186.150:8080\n",
      "Proxy 4.234.52.159:8080 failed for https://www.halfbakedharvest.com/lemon-rose-shortbread-cookies/: HTTPSConnectionPool(host='www.halfbakedharvest.com', port=443): Max retries exceeded with url: /lemon-rose-shortbread-cookies/ (Caused by ProxyError('Unable to connect to proxy', ConnectTimeoutError(<urllib3.connection.HTTPSConnection object at 0x13212da30>, 'Connection to 4.234.52.159 timed out. (connect timeout=30)')))\n"
     ]
    },
    {
     "data": {
      "application/javascript": [
       "\n",
       "        if (window._pyforest_update_imports_cell) { window._pyforest_update_imports_cell('import re'); }\n",
       "    "
      ],
      "text/plain": [
       "<IPython.core.display.Javascript object>"
      ]
     },
     "metadata": {},
     "output_type": "display_data"
    },
    {
     "data": {
      "application/javascript": [
       "\n",
       "        if (window._pyforest_update_imports_cell) { window._pyforest_update_imports_cell('import re'); }\n",
       "    "
      ],
      "text/plain": [
       "<IPython.core.display.Javascript object>"
      ]
     },
     "metadata": {},
     "output_type": "display_data"
    },
    {
     "data": {
      "application/javascript": [
       "\n",
       "        if (window._pyforest_update_imports_cell) { window._pyforest_update_imports_cell('import re'); }\n",
       "    "
      ],
      "text/plain": [
       "<IPython.core.display.Javascript object>"
      ]
     },
     "metadata": {},
     "output_type": "display_data"
    },
    {
     "name": "stdout",
     "output_type": "stream",
     "text": [
      "Successfully retrieved 541 - https://www.halfbakedharvest.com/chocolate-chip-cookie-stuffed-soft-pretzels/ with proxy 4.159.24.156:8080\n",
      "Proxy 20.26.186.150:8080 failed for https://www.halfbakedharvest.com/chocolate-chunk-coconut-banana-bread/: ('Connection aborted.', ConnectionResetError(54, 'Connection reset by peer'))\n"
     ]
    },
    {
     "data": {
      "application/javascript": [
       "\n",
       "        if (window._pyforest_update_imports_cell) { window._pyforest_update_imports_cell('import re'); }\n",
       "    "
      ],
      "text/plain": [
       "<IPython.core.display.Javascript object>"
      ]
     },
     "metadata": {},
     "output_type": "display_data"
    },
    {
     "name": "stdout",
     "output_type": "stream",
     "text": [
      "Successfully retrieved 543 - https://www.halfbakedharvest.com/vegan-triple-chocolate-mousse-cake/ with proxy 4.234.52.159:8080\n"
     ]
    },
    {
     "data": {
      "application/javascript": [
       "\n",
       "        if (window._pyforest_update_imports_cell) { window._pyforest_update_imports_cell('import re'); }\n",
       "    "
      ],
      "text/plain": [
       "<IPython.core.display.Javascript object>"
      ]
     },
     "metadata": {},
     "output_type": "display_data"
    },
    {
     "data": {
      "application/javascript": [
       "\n",
       "        if (window._pyforest_update_imports_cell) { window._pyforest_update_imports_cell('import re'); }\n",
       "    "
      ],
      "text/plain": [
       "<IPython.core.display.Javascript object>"
      ]
     },
     "metadata": {},
     "output_type": "display_data"
    },
    {
     "data": {
      "application/javascript": [
       "\n",
       "        if (window._pyforest_update_imports_cell) { window._pyforest_update_imports_cell('import re'); }\n",
       "    "
      ],
      "text/plain": [
       "<IPython.core.display.Javascript object>"
      ]
     },
     "metadata": {},
     "output_type": "display_data"
    },
    {
     "name": "stdout",
     "output_type": "stream",
     "text": [
      "Successfully retrieved 544 - https://www.halfbakedharvest.com/ombre-citrus-cream-tart/ with proxy 4.159.24.156:8080\n"
     ]
    },
    {
     "data": {
      "application/javascript": [
       "\n",
       "        if (window._pyforest_update_imports_cell) { window._pyforest_update_imports_cell('import re'); }\n",
       "    "
      ],
      "text/plain": [
       "<IPython.core.display.Javascript object>"
      ]
     },
     "metadata": {},
     "output_type": "display_data"
    },
    {
     "data": {
      "application/javascript": [
       "\n",
       "        if (window._pyforest_update_imports_cell) { window._pyforest_update_imports_cell('import re'); }\n",
       "    "
      ],
      "text/plain": [
       "<IPython.core.display.Javascript object>"
      ]
     },
     "metadata": {},
     "output_type": "display_data"
    },
    {
     "name": "stdout",
     "output_type": "stream",
     "text": [
      "Successfully retrieved 545 - https://www.halfbakedharvest.com/5-ingredient-chocolate-covered-cashew-bars/ with proxy 20.26.186.150:8080\n",
      "Proxy 4.234.52.159:8080 failed for https://www.halfbakedharvest.com/salted-caramel-and-milk-chocolate-brownies/: HTTPSConnectionPool(host='www.halfbakedharvest.com', port=443): Max retries exceeded with url: /salted-caramel-and-milk-chocolate-brownies/ (Caused by ProxyError('Unable to connect to proxy', ConnectTimeoutError(<urllib3.connection.HTTPSConnection object at 0x13228e5b0>, 'Connection to 4.234.52.159 timed out. (connect timeout=30)')))\n",
      "Proxy 4.159.24.156:8080 failed for https://www.halfbakedharvest.com/gingerbread-cupcakes/: ('Connection aborted.', ConnectionResetError(54, 'Connection reset by peer'))\n",
      "Proxy 20.26.186.150:8080 failed for https://www.halfbakedharvest.com/2018-holiday-cookie-box/: ('Connection aborted.', ConnectionResetError(54, 'Connection reset by peer'))\n",
      "Proxy 4.234.52.159:8080 failed for https://www.halfbakedharvest.com/north-pole-cake/: ('Connection aborted.', ConnectionResetError(54, 'Connection reset by peer'))\n",
      "Proxy 4.159.24.156:8080 failed for https://www.halfbakedharvest.com/chai-spiced-santa-cookies/: ('Connection aborted.', ConnectionResetError(54, 'Connection reset by peer'))\n",
      "Proxy 20.26.186.150:8080 failed for https://www.halfbakedharvest.com/slice-n-bake-chocolate-covered-peanut-butter-cookies/: ('Connection aborted.', ConnectionResetError(54, 'Connection reset by peer'))\n",
      "Successfully retrieved 552 - https://www.halfbakedharvest.com/my-favorite-autumn-recipes/ with proxy 4.234.52.159:8080\n",
      "Proxy 4.159.24.156:8080 failed for https://www.halfbakedharvest.com/vanilla-birthday-cake-with-whipped-chocolate-buttercream/: ('Connection aborted.', ConnectionResetError(54, 'Connection reset by peer'))\n",
      "Proxy 20.26.186.150:8080 failed for https://www.halfbakedharvest.com/buckeye-fudge-ice-cream/: ('Connection aborted.', ConnectionResetError(54, 'Connection reset by peer'))\n"
     ]
    },
    {
     "data": {
      "application/javascript": [
       "\n",
       "        if (window._pyforest_update_imports_cell) { window._pyforest_update_imports_cell('import re'); }\n",
       "    "
      ],
      "text/plain": [
       "<IPython.core.display.Javascript object>"
      ]
     },
     "metadata": {},
     "output_type": "display_data"
    },
    {
     "data": {
      "application/javascript": [
       "\n",
       "        if (window._pyforest_update_imports_cell) { window._pyforest_update_imports_cell('import re'); }\n",
       "    "
      ],
      "text/plain": [
       "<IPython.core.display.Javascript object>"
      ]
     },
     "metadata": {},
     "output_type": "display_data"
    },
    {
     "data": {
      "application/javascript": [
       "\n",
       "        if (window._pyforest_update_imports_cell) { window._pyforest_update_imports_cell('import re'); }\n",
       "    "
      ],
      "text/plain": [
       "<IPython.core.display.Javascript object>"
      ]
     },
     "metadata": {},
     "output_type": "display_data"
    },
    {
     "name": "stdout",
     "output_type": "stream",
     "text": [
      "Successfully retrieved 555 - https://www.halfbakedharvest.com/cinnamon-sugar-nutella-quesadilla/ with proxy 4.234.52.159:8080\n",
      "Proxy 4.159.24.156:8080 failed for https://www.halfbakedharvest.com/brown-sugar-caramel-oatmeal-cookie-peach-crisp/: ('Connection aborted.', ConnectionResetError(54, 'Connection reset by peer'))\n"
     ]
    },
    {
     "data": {
      "application/javascript": [
       "\n",
       "        if (window._pyforest_update_imports_cell) { window._pyforest_update_imports_cell('import re'); }\n",
       "    "
      ],
      "text/plain": [
       "<IPython.core.display.Javascript object>"
      ]
     },
     "metadata": {},
     "output_type": "display_data"
    },
    {
     "data": {
      "application/javascript": [
       "\n",
       "        if (window._pyforest_update_imports_cell) { window._pyforest_update_imports_cell('import re'); }\n",
       "    "
      ],
      "text/plain": [
       "<IPython.core.display.Javascript object>"
      ]
     },
     "metadata": {},
     "output_type": "display_data"
    },
    {
     "data": {
      "application/javascript": [
       "\n",
       "        if (window._pyforest_update_imports_cell) { window._pyforest_update_imports_cell('import re'); }\n",
       "    "
      ],
      "text/plain": [
       "<IPython.core.display.Javascript object>"
      ]
     },
     "metadata": {},
     "output_type": "display_data"
    },
    {
     "name": "stdout",
     "output_type": "stream",
     "text": [
      "Successfully retrieved 557 - https://www.halfbakedharvest.com/salted-caramel-chocolate-covered-potato-chip-sundaes/ with proxy 20.26.186.150:8080\n"
     ]
    },
    {
     "data": {
      "application/javascript": [
       "\n",
       "        if (window._pyforest_update_imports_cell) { window._pyforest_update_imports_cell('import re'); }\n",
       "    "
      ],
      "text/plain": [
       "<IPython.core.display.Javascript object>"
      ]
     },
     "metadata": {},
     "output_type": "display_data"
    },
    {
     "data": {
      "application/javascript": [
       "\n",
       "        if (window._pyforest_update_imports_cell) { window._pyforest_update_imports_cell('import re'); }\n",
       "    "
      ],
      "text/plain": [
       "<IPython.core.display.Javascript object>"
      ]
     },
     "metadata": {},
     "output_type": "display_data"
    },
    {
     "data": {
      "application/javascript": [
       "\n",
       "        if (window._pyforest_update_imports_cell) { window._pyforest_update_imports_cell('import re'); }\n",
       "    "
      ],
      "text/plain": [
       "<IPython.core.display.Javascript object>"
      ]
     },
     "metadata": {},
     "output_type": "display_data"
    },
    {
     "data": {
      "application/javascript": [
       "\n",
       "        if (window._pyforest_update_imports_cell) { window._pyforest_update_imports_cell('import re'); }\n",
       "    "
      ],
      "text/plain": [
       "<IPython.core.display.Javascript object>"
      ]
     },
     "metadata": {},
     "output_type": "display_data"
    },
    {
     "name": "stdout",
     "output_type": "stream",
     "text": [
      "Successfully retrieved 558 - https://www.halfbakedharvest.com/chocolate-chip-cookie-nutella-ice-box-cake/ with proxy 4.234.52.159:8080\n"
     ]
    },
    {
     "data": {
      "application/javascript": [
       "\n",
       "        if (window._pyforest_update_imports_cell) { window._pyforest_update_imports_cell('import re'); }\n",
       "    "
      ],
      "text/plain": [
       "<IPython.core.display.Javascript object>"
      ]
     },
     "metadata": {},
     "output_type": "display_data"
    },
    {
     "data": {
      "application/javascript": [
       "\n",
       "        if (window._pyforest_update_imports_cell) { window._pyforest_update_imports_cell('import re'); }\n",
       "    "
      ],
      "text/plain": [
       "<IPython.core.display.Javascript object>"
      ]
     },
     "metadata": {},
     "output_type": "display_data"
    },
    {
     "data": {
      "application/javascript": [
       "\n",
       "        if (window._pyforest_update_imports_cell) { window._pyforest_update_imports_cell('import re'); }\n",
       "    "
      ],
      "text/plain": [
       "<IPython.core.display.Javascript object>"
      ]
     },
     "metadata": {},
     "output_type": "display_data"
    },
    {
     "data": {
      "application/javascript": [
       "\n",
       "        if (window._pyforest_update_imports_cell) { window._pyforest_update_imports_cell('import re'); }\n",
       "    "
      ],
      "text/plain": [
       "<IPython.core.display.Javascript object>"
      ]
     },
     "metadata": {},
     "output_type": "display_data"
    },
    {
     "name": "stdout",
     "output_type": "stream",
     "text": [
      "Successfully retrieved 559 - https://www.halfbakedharvest.com/cinnamon-grilled-peaches-mascarpone-ice-cream/ with proxy 4.159.24.156:8080\n",
      "Proxy 20.26.186.150:8080 failed for https://www.halfbakedharvest.com/melon-lemonade-margarita-popsicles/: HTTPSConnectionPool(host='www.halfbakedharvest.com', port=443): Max retries exceeded with url: /melon-lemonade-margarita-popsicles/ (Caused by ProxyError('Unable to connect to proxy', OSError('Tunnel connection failed: 502 Bad Gateway')))\n"
     ]
    },
    {
     "data": {
      "application/javascript": [
       "\n",
       "        if (window._pyforest_update_imports_cell) { window._pyforest_update_imports_cell('import re'); }\n",
       "    "
      ],
      "text/plain": [
       "<IPython.core.display.Javascript object>"
      ]
     },
     "metadata": {},
     "output_type": "display_data"
    },
    {
     "data": {
      "application/javascript": [
       "\n",
       "        if (window._pyforest_update_imports_cell) { window._pyforest_update_imports_cell('import re'); }\n",
       "    "
      ],
      "text/plain": [
       "<IPython.core.display.Javascript object>"
      ]
     },
     "metadata": {},
     "output_type": "display_data"
    },
    {
     "data": {
      "application/javascript": [
       "\n",
       "        if (window._pyforest_update_imports_cell) { window._pyforest_update_imports_cell('import re'); }\n",
       "    "
      ],
      "text/plain": [
       "<IPython.core.display.Javascript object>"
      ]
     },
     "metadata": {},
     "output_type": "display_data"
    },
    {
     "name": "stdout",
     "output_type": "stream",
     "text": [
      "Successfully retrieved 561 - https://www.halfbakedharvest.com/bourbon-glazed-peach-fritters/ with proxy 4.234.52.159:8080\n",
      "Proxy 4.159.24.156:8080 failed for https://www.halfbakedharvest.com/blueberry-brie-cornbread-biscuits-honey-butter/: ('Connection aborted.', ConnectionResetError(54, 'Connection reset by peer'))\n",
      "ChunkedEncodingError occurred for proxy 20.26.186.150:8080 and https://www.halfbakedharvest.com/creamy-coconut-almond-breakfast-pops/: ('Connection broken: IncompleteRead(4888 bytes read, 5352 more expected)', IncompleteRead(4888 bytes read, 5352 more expected))\n",
      "Proxy 4.234.52.159:8080 failed for https://www.halfbakedharvest.com/honey-strawberry-peach-pie/: HTTPSConnectionPool(host='www.halfbakedharvest.com', port=443): Max retries exceeded with url: /honey-strawberry-peach-pie/ (Caused by ProxyError('Unable to connect to proxy', ConnectTimeoutError(<urllib3.connection.HTTPSConnection object at 0x12254f430>, 'Connection to 4.234.52.159 timed out. (connect timeout=30)')))\n",
      "Proxy 4.159.24.156:8080 failed for https://www.halfbakedharvest.com/triple-layer-chocolate-fudge-ice-cream-cake/: ('Connection aborted.', ConnectionResetError(54, 'Connection reset by peer'))\n",
      "Proxy 20.26.186.150:8080 failed for https://www.halfbakedharvest.com/layered-caramel-buster-bars/: ('Connection aborted.', ConnectionResetError(54, 'Connection reset by peer'))\n",
      "Proxy 4.234.52.159:8080 failed for https://www.halfbakedharvest.com/no-bake-triple-decker-peanut-butter-smores-bars/: ('Connection aborted.', ConnectionResetError(54, 'Connection reset by peer'))\n"
     ]
    },
    {
     "data": {
      "application/javascript": [
       "\n",
       "        if (window._pyforest_update_imports_cell) { window._pyforest_update_imports_cell('import re'); }\n",
       "    "
      ],
      "text/plain": [
       "<IPython.core.display.Javascript object>"
      ]
     },
     "metadata": {},
     "output_type": "display_data"
    },
    {
     "data": {
      "application/javascript": [
       "\n",
       "        if (window._pyforest_update_imports_cell) { window._pyforest_update_imports_cell('import re'); }\n",
       "    "
      ],
      "text/plain": [
       "<IPython.core.display.Javascript object>"
      ]
     },
     "metadata": {},
     "output_type": "display_data"
    },
    {
     "name": "stdout",
     "output_type": "stream",
     "text": [
      "Successfully retrieved 568 - https://www.halfbakedharvest.com/3-ingredient-strawberry-mango-popsicles/ with proxy 4.159.24.156:8080\n"
     ]
    },
    {
     "data": {
      "application/javascript": [
       "\n",
       "        if (window._pyforest_update_imports_cell) { window._pyforest_update_imports_cell('import re'); }\n",
       "    "
      ],
      "text/plain": [
       "<IPython.core.display.Javascript object>"
      ]
     },
     "metadata": {},
     "output_type": "display_data"
    },
    {
     "data": {
      "application/javascript": [
       "\n",
       "        if (window._pyforest_update_imports_cell) { window._pyforest_update_imports_cell('import re'); }\n",
       "    "
      ],
      "text/plain": [
       "<IPython.core.display.Javascript object>"
      ]
     },
     "metadata": {},
     "output_type": "display_data"
    },
    {
     "data": {
      "application/javascript": [
       "\n",
       "        if (window._pyforest_update_imports_cell) { window._pyforest_update_imports_cell('import re'); }\n",
       "    "
      ],
      "text/plain": [
       "<IPython.core.display.Javascript object>"
      ]
     },
     "metadata": {},
     "output_type": "display_data"
    },
    {
     "name": "stdout",
     "output_type": "stream",
     "text": [
      "Successfully retrieved 569 - https://www.halfbakedharvest.com/strawberry-shortcake-grilled-doughnuts/ with proxy 20.26.186.150:8080\n",
      "Proxy 4.234.52.159:8080 failed for https://www.halfbakedharvest.com/salted-pretzel-nutella-cookie-ice-cream-sandwiches/: HTTPSConnectionPool(host='www.halfbakedharvest.com', port=443): Max retries exceeded with url: /salted-pretzel-nutella-cookie-ice-cream-sandwiches/ (Caused by ProxyError('Unable to connect to proxy', ConnectTimeoutError(<urllib3.connection.HTTPSConnection object at 0x132ce88e0>, 'Connection to 4.234.52.159 timed out. (connect timeout=30)')))\n",
      "Proxy 4.159.24.156:8080 failed for https://www.halfbakedharvest.com/chocolate-glazed-mochi-doughnuts/: ('Connection aborted.', ConnectionResetError(54, 'Connection reset by peer'))\n"
     ]
    },
    {
     "data": {
      "application/javascript": [
       "\n",
       "        if (window._pyforest_update_imports_cell) { window._pyforest_update_imports_cell('import re'); }\n",
       "    "
      ],
      "text/plain": [
       "<IPython.core.display.Javascript object>"
      ]
     },
     "metadata": {},
     "output_type": "display_data"
    },
    {
     "data": {
      "application/javascript": [
       "\n",
       "        if (window._pyforest_update_imports_cell) { window._pyforest_update_imports_cell('import re'); }\n",
       "    "
      ],
      "text/plain": [
       "<IPython.core.display.Javascript object>"
      ]
     },
     "metadata": {},
     "output_type": "display_data"
    },
    {
     "data": {
      "application/javascript": [
       "\n",
       "        if (window._pyforest_update_imports_cell) { window._pyforest_update_imports_cell('import re'); }\n",
       "    "
      ],
      "text/plain": [
       "<IPython.core.display.Javascript object>"
      ]
     },
     "metadata": {},
     "output_type": "display_data"
    },
    {
     "data": {
      "application/javascript": [
       "\n",
       "        if (window._pyforest_update_imports_cell) { window._pyforest_update_imports_cell('import re'); }\n",
       "    "
      ],
      "text/plain": [
       "<IPython.core.display.Javascript object>"
      ]
     },
     "metadata": {},
     "output_type": "display_data"
    },
    {
     "name": "stdout",
     "output_type": "stream",
     "text": [
      "Successfully retrieved 572 - https://www.halfbakedharvest.com/berry-cheesecake-ice-cream-pavlova-jars/ with proxy 20.26.186.150:8080\n",
      "Proxy 4.234.52.159:8080 failed for https://www.halfbakedharvest.com/churro-waffless/: HTTPSConnectionPool(host='www.halfbakedharvest.com', port=443): Max retries exceeded with url: /churro-waffless/ (Caused by ProxyError('Unable to connect to proxy', ConnectTimeoutError(<urllib3.connection.HTTPSConnection object at 0x1225e7040>, 'Connection to 4.234.52.159 timed out. (connect timeout=30)')))\n",
      "Proxy 4.159.24.156:8080 failed for https://www.halfbakedharvest.com/mexican-samoas-cookies/: ('Connection aborted.', ConnectionResetError(54, 'Connection reset by peer'))\n"
     ]
    },
    {
     "data": {
      "application/javascript": [
       "\n",
       "        if (window._pyforest_update_imports_cell) { window._pyforest_update_imports_cell('import re'); }\n",
       "    "
      ],
      "text/plain": [
       "<IPython.core.display.Javascript object>"
      ]
     },
     "metadata": {},
     "output_type": "display_data"
    },
    {
     "data": {
      "application/javascript": [
       "\n",
       "        if (window._pyforest_update_imports_cell) { window._pyforest_update_imports_cell('import re'); }\n",
       "    "
      ],
      "text/plain": [
       "<IPython.core.display.Javascript object>"
      ]
     },
     "metadata": {},
     "output_type": "display_data"
    },
    {
     "data": {
      "application/javascript": [
       "\n",
       "        if (window._pyforest_update_imports_cell) { window._pyforest_update_imports_cell('import re'); }\n",
       "    "
      ],
      "text/plain": [
       "<IPython.core.display.Javascript object>"
      ]
     },
     "metadata": {},
     "output_type": "display_data"
    },
    {
     "name": "stdout",
     "output_type": "stream",
     "text": [
      "Successfully retrieved 575 - https://www.halfbakedharvest.com/salted-chamomile-honey-cakes-with-raspberry-ripple-cream/ with proxy 20.26.186.150:8080\n",
      "Proxy 4.234.52.159:8080 failed for https://www.halfbakedharvest.com/baked-gingerbread-custard-waffle-french-toast/: HTTPSConnectionPool(host='www.halfbakedharvest.com', port=443): Max retries exceeded with url: /baked-gingerbread-custard-waffle-french-toast/ (Caused by ProxyError('Unable to connect to proxy', ConnectTimeoutError(<urllib3.connection.HTTPSConnection object at 0x1227b70a0>, 'Connection to 4.234.52.159 timed out. (connect timeout=30)')))\n",
      "Proxy 4.159.24.156:8080 failed for https://www.halfbakedharvest.com/chocolate-hazelnut-and-caramel-stuffed-brownie-cookies/: ('Connection aborted.', ConnectionResetError(54, 'Connection reset by peer'))\n"
     ]
    },
    {
     "data": {
      "application/javascript": [
       "\n",
       "        if (window._pyforest_update_imports_cell) { window._pyforest_update_imports_cell('import re'); }\n",
       "    "
      ],
      "text/plain": [
       "<IPython.core.display.Javascript object>"
      ]
     },
     "metadata": {},
     "output_type": "display_data"
    },
    {
     "data": {
      "application/javascript": [
       "\n",
       "        if (window._pyforest_update_imports_cell) { window._pyforest_update_imports_cell('import re'); }\n",
       "    "
      ],
      "text/plain": [
       "<IPython.core.display.Javascript object>"
      ]
     },
     "metadata": {},
     "output_type": "display_data"
    },
    {
     "data": {
      "application/javascript": [
       "\n",
       "        if (window._pyforest_update_imports_cell) { window._pyforest_update_imports_cell('import re'); }\n",
       "    "
      ],
      "text/plain": [
       "<IPython.core.display.Javascript object>"
      ]
     },
     "metadata": {},
     "output_type": "display_data"
    },
    {
     "name": "stdout",
     "output_type": "stream",
     "text": [
      "Successfully retrieved 578 - https://www.halfbakedharvest.com/chocolate-dipped-vanilla-bean-cashew-crescent-cookies/ with proxy 20.26.186.150:8080\n"
     ]
    },
    {
     "data": {
      "application/javascript": [
       "\n",
       "        if (window._pyforest_update_imports_cell) { window._pyforest_update_imports_cell('import re'); }\n",
       "    "
      ],
      "text/plain": [
       "<IPython.core.display.Javascript object>"
      ]
     },
     "metadata": {},
     "output_type": "display_data"
    },
    {
     "data": {
      "application/javascript": [
       "\n",
       "        if (window._pyforest_update_imports_cell) { window._pyforest_update_imports_cell('import re'); }\n",
       "    "
      ],
      "text/plain": [
       "<IPython.core.display.Javascript object>"
      ]
     },
     "metadata": {},
     "output_type": "display_data"
    },
    {
     "data": {
      "application/javascript": [
       "\n",
       "        if (window._pyforest_update_imports_cell) { window._pyforest_update_imports_cell('import re'); }\n",
       "    "
      ],
      "text/plain": [
       "<IPython.core.display.Javascript object>"
      ]
     },
     "metadata": {},
     "output_type": "display_data"
    },
    {
     "data": {
      "application/javascript": [
       "\n",
       "        if (window._pyforest_update_imports_cell) { window._pyforest_update_imports_cell('import re'); }\n",
       "    "
      ],
      "text/plain": [
       "<IPython.core.display.Javascript object>"
      ]
     },
     "metadata": {},
     "output_type": "display_data"
    },
    {
     "name": "stdout",
     "output_type": "stream",
     "text": [
      "Successfully retrieved 579 - https://www.halfbakedharvest.com/salted-peanut-butter-caramel-chocolate-truffles/ with proxy 4.234.52.159:8080\n",
      "Proxy 4.159.24.156:8080 failed for https://www.halfbakedharvest.com/edible-christmas-gifts-in-jars/: ('Connection aborted.', ConnectionResetError(54, 'Connection reset by peer'))\n"
     ]
    },
    {
     "data": {
      "application/javascript": [
       "\n",
       "        if (window._pyforest_update_imports_cell) { window._pyforest_update_imports_cell('import re'); }\n",
       "    "
      ],
      "text/plain": [
       "<IPython.core.display.Javascript object>"
      ]
     },
     "metadata": {},
     "output_type": "display_data"
    },
    {
     "data": {
      "application/javascript": [
       "\n",
       "        if (window._pyforest_update_imports_cell) { window._pyforest_update_imports_cell('import re'); }\n",
       "    "
      ],
      "text/plain": [
       "<IPython.core.display.Javascript object>"
      ]
     },
     "metadata": {},
     "output_type": "display_data"
    },
    {
     "data": {
      "application/javascript": [
       "\n",
       "        if (window._pyforest_update_imports_cell) { window._pyforest_update_imports_cell('import re'); }\n",
       "    "
      ],
      "text/plain": [
       "<IPython.core.display.Javascript object>"
      ]
     },
     "metadata": {},
     "output_type": "display_data"
    },
    {
     "name": "stdout",
     "output_type": "stream",
     "text": [
      "Successfully retrieved 581 - https://www.halfbakedharvest.com/eggnog-scented-sugar-cookies-with-easy-vanilla-icing/ with proxy 20.26.186.150:8080\n",
      "Proxy 4.234.52.159:8080 failed for https://www.halfbakedharvest.com/chocolate-covered-cinnamon-sugar-pretzels/: ('Connection aborted.', ConnectionResetError(54, 'Connection reset by peer'))\n",
      "Proxy 4.159.24.156:8080 failed for https://www.halfbakedharvest.com/slice-n-bake-vanilla-brown-butter-pecan-cookies-dipped-chocolate/: ('Connection aborted.', ConnectionResetError(54, 'Connection reset by peer'))\n",
      "Proxy 20.26.186.150:8080 failed for https://www.halfbakedharvest.com/sweet-potato-pie-cinnamon-rolls-with-butter-whipped-meringue-frosting/: ('Connection aborted.', ConnectionResetError(54, 'Connection reset by peer'))\n",
      "Proxy 4.234.52.159:8080 failed for https://www.halfbakedharvest.com/caramelized-condensed-milk-mini-apple-pies/: HTTPSConnectionPool(host='www.halfbakedharvest.com', port=443): Max retries exceeded with url: /caramelized-condensed-milk-mini-apple-pies/ (Caused by ProxyError('Unable to connect to proxy', ConnectTimeoutError(<urllib3.connection.HTTPSConnection object at 0x132bbb4c0>, 'Connection to 4.234.52.159 timed out. (connect timeout=30)')))\n"
     ]
    },
    {
     "data": {
      "application/javascript": [
       "\n",
       "        if (window._pyforest_update_imports_cell) { window._pyforest_update_imports_cell('import re'); }\n",
       "    "
      ],
      "text/plain": [
       "<IPython.core.display.Javascript object>"
      ]
     },
     "metadata": {},
     "output_type": "display_data"
    },
    {
     "data": {
      "application/javascript": [
       "\n",
       "        if (window._pyforest_update_imports_cell) { window._pyforest_update_imports_cell('import re'); }\n",
       "    "
      ],
      "text/plain": [
       "<IPython.core.display.Javascript object>"
      ]
     },
     "metadata": {},
     "output_type": "display_data"
    },
    {
     "data": {
      "application/javascript": [
       "\n",
       "        if (window._pyforest_update_imports_cell) { window._pyforest_update_imports_cell('import re'); }\n",
       "    "
      ],
      "text/plain": [
       "<IPython.core.display.Javascript object>"
      ]
     },
     "metadata": {},
     "output_type": "display_data"
    },
    {
     "data": {
      "application/javascript": [
       "\n",
       "        if (window._pyforest_update_imports_cell) { window._pyforest_update_imports_cell('import re'); }\n",
       "    "
      ],
      "text/plain": [
       "<IPython.core.display.Javascript object>"
      ]
     },
     "metadata": {},
     "output_type": "display_data"
    },
    {
     "name": "stdout",
     "output_type": "stream",
     "text": [
      "Successfully retrieved 586 - https://www.halfbakedharvest.com/salted-bourbon-pecan-pumpkin-pie/ with proxy 4.159.24.156:8080\n"
     ]
    },
    {
     "data": {
      "application/javascript": [
       "\n",
       "        if (window._pyforest_update_imports_cell) { window._pyforest_update_imports_cell('import re'); }\n",
       "    "
      ],
      "text/plain": [
       "<IPython.core.display.Javascript object>"
      ]
     },
     "metadata": {},
     "output_type": "display_data"
    },
    {
     "data": {
      "application/javascript": [
       "\n",
       "        if (window._pyforest_update_imports_cell) { window._pyforest_update_imports_cell('import re'); }\n",
       "    "
      ],
      "text/plain": [
       "<IPython.core.display.Javascript object>"
      ]
     },
     "metadata": {},
     "output_type": "display_data"
    },
    {
     "data": {
      "application/javascript": [
       "\n",
       "        if (window._pyforest_update_imports_cell) { window._pyforest_update_imports_cell('import re'); }\n",
       "    "
      ],
      "text/plain": [
       "<IPython.core.display.Javascript object>"
      ]
     },
     "metadata": {},
     "output_type": "display_data"
    },
    {
     "data": {
      "application/javascript": [
       "\n",
       "        if (window._pyforest_update_imports_cell) { window._pyforest_update_imports_cell('import re'); }\n",
       "    "
      ],
      "text/plain": [
       "<IPython.core.display.Javascript object>"
      ]
     },
     "metadata": {},
     "output_type": "display_data"
    },
    {
     "name": "stdout",
     "output_type": "stream",
     "text": [
      "Successfully retrieved 587 - https://www.halfbakedharvest.com/chocolate-cinnamon-swirl-pumpkin-brioche-bread/ with proxy 20.26.186.150:8080\n",
      "Proxy 4.234.52.159:8080 failed for https://www.halfbakedharvest.com/easy-peanut-butter-cup-fudge-with-salted-bourbon-sugar/: HTTPSConnectionPool(host='www.halfbakedharvest.com', port=443): Max retries exceeded with url: /easy-peanut-butter-cup-fudge-with-salted-bourbon-sugar/ (Caused by ProxyError('Unable to connect to proxy', ConnectTimeoutError(<urllib3.connection.HTTPSConnection object at 0x12328a5e0>, 'Connection to 4.234.52.159 timed out. (connect timeout=30)')))\n"
     ]
    },
    {
     "data": {
      "application/javascript": [
       "\n",
       "        if (window._pyforest_update_imports_cell) { window._pyforest_update_imports_cell('import re'); }\n",
       "    "
      ],
      "text/plain": [
       "<IPython.core.display.Javascript object>"
      ]
     },
     "metadata": {},
     "output_type": "display_data"
    },
    {
     "data": {
      "application/javascript": [
       "\n",
       "        if (window._pyforest_update_imports_cell) { window._pyforest_update_imports_cell('import re'); }\n",
       "    "
      ],
      "text/plain": [
       "<IPython.core.display.Javascript object>"
      ]
     },
     "metadata": {},
     "output_type": "display_data"
    },
    {
     "data": {
      "application/javascript": [
       "\n",
       "        if (window._pyforest_update_imports_cell) { window._pyforest_update_imports_cell('import re'); }\n",
       "    "
      ],
      "text/plain": [
       "<IPython.core.display.Javascript object>"
      ]
     },
     "metadata": {},
     "output_type": "display_data"
    },
    {
     "name": "stdout",
     "output_type": "stream",
     "text": [
      "Successfully retrieved 589 - https://www.halfbakedharvest.com/chocolate-covered-roasted-pumpkin-seed-turtle-clusters/ with proxy 4.159.24.156:8080\n",
      "ChunkedEncodingError occurred for proxy 20.26.186.150:8080 and https://www.halfbakedharvest.com/baked-buttermilk-pumpkin-doughnuts-with-hot-cocoa-glaze/: ('Connection broken: IncompleteRead(5470 bytes read, 4770 more expected)', IncompleteRead(5470 bytes read, 4770 more expected))\n",
      "Proxy 4.234.52.159:8080 failed for https://www.halfbakedharvest.com/caramelized-pear-and-hazelnut-crumble-tart/: HTTPSConnectionPool(host='www.halfbakedharvest.com', port=443): Max retries exceeded with url: /caramelized-pear-and-hazelnut-crumble-tart/ (Caused by ProxyError('Unable to connect to proxy', ConnectTimeoutError(<urllib3.connection.HTTPSConnection object at 0x1325aa3d0>, 'Connection to 4.234.52.159 timed out. (connect timeout=30)')))\n",
      "Proxy 4.159.24.156:8080 failed for https://www.halfbakedharvest.com/healthy-caramel-apples-six-ways/: HTTPSConnectionPool(host='www.halfbakedharvest.com', port=443): Max retries exceeded with url: /healthy-caramel-apples-six-ways/ (Caused by ProxyError('Unable to connect to proxy', OSError('Tunnel connection failed: 502 Bad Gateway')))\n",
      "Proxy 20.26.186.150:8080 failed for https://www.halfbakedharvest.com/deathly-chocolate-graveyard-cakes-witches-beware/: ('Connection aborted.', ConnectionResetError(54, 'Connection reset by peer'))\n",
      "Proxy 4.234.52.159:8080 failed for https://www.halfbakedharvest.com/homemade-tim-tams/: ('Connection aborted.', ConnectionResetError(54, 'Connection reset by peer'))\n",
      "ChunkedEncodingError occurred for proxy 4.159.24.156:8080 and https://www.halfbakedharvest.com/pumpkin-nutella-crepe-cake/: ('Connection broken: IncompleteRead(9577 bytes read, 663 more expected)', IncompleteRead(9577 bytes read, 663 more expected))\n",
      "Proxy 20.26.186.150:8080 failed for https://www.halfbakedharvest.com/easy-warm-swedish-caramel-apple-cheesecake/: ('Connection aborted.', ConnectionResetError(54, 'Connection reset by peer'))\n",
      "Proxy 4.234.52.159:8080 failed for https://www.halfbakedharvest.com/maple-glazed-apple-fritters/: ('Connection aborted.', ConnectionResetError(54, 'Connection reset by peer'))\n",
      "Proxy 4.159.24.156:8080 failed for https://www.halfbakedharvest.com/fall-harvest-peanut-picnic-a-family-hike/: ('Connection aborted.', ConnectionResetError(54, 'Connection reset by peer'))\n"
     ]
    },
    {
     "data": {
      "application/javascript": [
       "\n",
       "        if (window._pyforest_update_imports_cell) { window._pyforest_update_imports_cell('import re'); }\n",
       "    "
      ],
      "text/plain": [
       "<IPython.core.display.Javascript object>"
      ]
     },
     "metadata": {},
     "output_type": "display_data"
    },
    {
     "data": {
      "application/javascript": [
       "\n",
       "        if (window._pyforest_update_imports_cell) { window._pyforest_update_imports_cell('import re'); }\n",
       "    "
      ],
      "text/plain": [
       "<IPython.core.display.Javascript object>"
      ]
     },
     "metadata": {},
     "output_type": "display_data"
    },
    {
     "data": {
      "application/javascript": [
       "\n",
       "        if (window._pyforest_update_imports_cell) { window._pyforest_update_imports_cell('import re'); }\n",
       "    "
      ],
      "text/plain": [
       "<IPython.core.display.Javascript object>"
      ]
     },
     "metadata": {},
     "output_type": "display_data"
    },
    {
     "name": "stdout",
     "output_type": "stream",
     "text": [
      "Successfully retrieved 599 - https://www.halfbakedharvest.com/harvest-oatmeal-chocolate-chunk-cookies-with-salted-toasted-pepitas/ with proxy 20.26.186.150:8080\n"
     ]
    },
    {
     "data": {
      "application/javascript": [
       "\n",
       "        if (window._pyforest_update_imports_cell) { window._pyforest_update_imports_cell('import re'); }\n",
       "    "
      ],
      "text/plain": [
       "<IPython.core.display.Javascript object>"
      ]
     },
     "metadata": {},
     "output_type": "display_data"
    },
    {
     "data": {
      "application/javascript": [
       "\n",
       "        if (window._pyforest_update_imports_cell) { window._pyforest_update_imports_cell('import re'); }\n",
       "    "
      ],
      "text/plain": [
       "<IPython.core.display.Javascript object>"
      ]
     },
     "metadata": {},
     "output_type": "display_data"
    },
    {
     "data": {
      "application/javascript": [
       "\n",
       "        if (window._pyforest_update_imports_cell) { window._pyforest_update_imports_cell('import re'); }\n",
       "    "
      ],
      "text/plain": [
       "<IPython.core.display.Javascript object>"
      ]
     },
     "metadata": {},
     "output_type": "display_data"
    },
    {
     "data": {
      "application/javascript": [
       "\n",
       "        if (window._pyforest_update_imports_cell) { window._pyforest_update_imports_cell('import re'); }\n",
       "    "
      ],
      "text/plain": [
       "<IPython.core.display.Javascript object>"
      ]
     },
     "metadata": {},
     "output_type": "display_data"
    },
    {
     "name": "stdout",
     "output_type": "stream",
     "text": [
      "Successfully retrieved 600 - https://www.halfbakedharvest.com/hot-buttered-rum-apple-pie-stuffed-cinnamon-sugar-soft-pretzels/ with proxy 4.234.52.159:8080\n"
     ]
    },
    {
     "data": {
      "application/javascript": [
       "\n",
       "        if (window._pyforest_update_imports_cell) { window._pyforest_update_imports_cell('import re'); }\n",
       "    "
      ],
      "text/plain": [
       "<IPython.core.display.Javascript object>"
      ]
     },
     "metadata": {},
     "output_type": "display_data"
    },
    {
     "data": {
      "application/javascript": [
       "\n",
       "        if (window._pyforest_update_imports_cell) { window._pyforest_update_imports_cell('import re'); }\n",
       "    "
      ],
      "text/plain": [
       "<IPython.core.display.Javascript object>"
      ]
     },
     "metadata": {},
     "output_type": "display_data"
    },
    {
     "data": {
      "application/javascript": [
       "\n",
       "        if (window._pyforest_update_imports_cell) { window._pyforest_update_imports_cell('import re'); }\n",
       "    "
      ],
      "text/plain": [
       "<IPython.core.display.Javascript object>"
      ]
     },
     "metadata": {},
     "output_type": "display_data"
    },
    {
     "data": {
      "application/javascript": [
       "\n",
       "        if (window._pyforest_update_imports_cell) { window._pyforest_update_imports_cell('import re'); }\n",
       "    "
      ],
      "text/plain": [
       "<IPython.core.display.Javascript object>"
      ]
     },
     "metadata": {},
     "output_type": "display_data"
    },
    {
     "name": "stdout",
     "output_type": "stream",
     "text": [
      "Successfully retrieved 601 - https://www.halfbakedharvest.com/molten-chocolate-pumpkin-streusel-bread-heavy-chocolate-streusel/ with proxy 4.159.24.156:8080\n"
     ]
    },
    {
     "data": {
      "application/javascript": [
       "\n",
       "        if (window._pyforest_update_imports_cell) { window._pyforest_update_imports_cell('import re'); }\n",
       "    "
      ],
      "text/plain": [
       "<IPython.core.display.Javascript object>"
      ]
     },
     "metadata": {},
     "output_type": "display_data"
    },
    {
     "data": {
      "application/javascript": [
       "\n",
       "        if (window._pyforest_update_imports_cell) { window._pyforest_update_imports_cell('import re'); }\n",
       "    "
      ],
      "text/plain": [
       "<IPython.core.display.Javascript object>"
      ]
     },
     "metadata": {},
     "output_type": "display_data"
    },
    {
     "data": {
      "application/javascript": [
       "\n",
       "        if (window._pyforest_update_imports_cell) { window._pyforest_update_imports_cell('import re'); }\n",
       "    "
      ],
      "text/plain": [
       "<IPython.core.display.Javascript object>"
      ]
     },
     "metadata": {},
     "output_type": "display_data"
    },
    {
     "name": "stdout",
     "output_type": "stream",
     "text": [
      "Successfully retrieved 602 - https://www.halfbakedharvest.com/salted-caramel-apple-snickers-cake/ with proxy 20.26.186.150:8080\n",
      "Proxy 4.234.52.159:8080 failed for https://www.halfbakedharvest.com/death-butterbeer-cupcakes-wtreacle-butter-frosting-chocolate-covered-pretzels/: ('Connection aborted.', ConnectionResetError(54, 'Connection reset by peer'))\n"
     ]
    },
    {
     "data": {
      "application/javascript": [
       "\n",
       "        if (window._pyforest_update_imports_cell) { window._pyforest_update_imports_cell('import re'); }\n",
       "    "
      ],
      "text/plain": [
       "<IPython.core.display.Javascript object>"
      ]
     },
     "metadata": {},
     "output_type": "display_data"
    },
    {
     "data": {
      "application/javascript": [
       "\n",
       "        if (window._pyforest_update_imports_cell) { window._pyforest_update_imports_cell('import re'); }\n",
       "    "
      ],
      "text/plain": [
       "<IPython.core.display.Javascript object>"
      ]
     },
     "metadata": {},
     "output_type": "display_data"
    },
    {
     "data": {
      "application/javascript": [
       "\n",
       "        if (window._pyforest_update_imports_cell) { window._pyforest_update_imports_cell('import re'); }\n",
       "    "
      ],
      "text/plain": [
       "<IPython.core.display.Javascript object>"
      ]
     },
     "metadata": {},
     "output_type": "display_data"
    },
    {
     "name": "stdout",
     "output_type": "stream",
     "text": [
      "Successfully retrieved 604 - https://www.halfbakedharvest.com/coffee-roasted-pumpkin-seed-snack-clusters-dipped-chocolate/ with proxy 4.159.24.156:8080\n",
      "ChunkedEncodingError occurred for proxy 20.26.186.150:8080 and https://www.halfbakedharvest.com/overnight-cider-pumpkin-waffles-wtoasted-pecan-butter-cider-syrup-spiced-apples/: ('Connection broken: IncompleteRead(9117 bytes read, 1123 more expected)', IncompleteRead(9117 bytes read, 1123 more expected))\n",
      "Successfully retrieved 606 - https://www.halfbakedharvest.com/fried-apple-pies-links-inspire/ with proxy 4.234.52.159:8080\n"
     ]
    },
    {
     "data": {
      "application/javascript": [
       "\n",
       "        if (window._pyforest_update_imports_cell) { window._pyforest_update_imports_cell('import re'); }\n",
       "    "
      ],
      "text/plain": [
       "<IPython.core.display.Javascript object>"
      ]
     },
     "metadata": {},
     "output_type": "display_data"
    },
    {
     "data": {
      "application/javascript": [
       "\n",
       "        if (window._pyforest_update_imports_cell) { window._pyforest_update_imports_cell('import re'); }\n",
       "    "
      ],
      "text/plain": [
       "<IPython.core.display.Javascript object>"
      ]
     },
     "metadata": {},
     "output_type": "display_data"
    },
    {
     "data": {
      "application/javascript": [
       "\n",
       "        if (window._pyforest_update_imports_cell) { window._pyforest_update_imports_cell('import re'); }\n",
       "    "
      ],
      "text/plain": [
       "<IPython.core.display.Javascript object>"
      ]
     },
     "metadata": {},
     "output_type": "display_data"
    },
    {
     "name": "stdout",
     "output_type": "stream",
     "text": [
      "Successfully retrieved 607 - https://www.halfbakedharvest.com/salted-caramel-mocha-nutella-brownies/ with proxy 4.159.24.156:8080\n",
      "Proxy 20.26.186.150:8080 failed for https://www.halfbakedharvest.com/nutella-banana-tarte-tatin-cinnamon-sugar-roasted-pumpkin-seed-hazelnut-crunch/: ('Connection aborted.', ConnectionResetError(54, 'Connection reset by peer'))\n",
      "Proxy 4.234.52.159:8080 failed for https://www.halfbakedharvest.com/25-favorite-fall-recipes/: ('Connection aborted.', ConnectionResetError(54, 'Connection reset by peer'))\n"
     ]
    },
    {
     "data": {
      "application/javascript": [
       "\n",
       "        if (window._pyforest_update_imports_cell) { window._pyforest_update_imports_cell('import re'); }\n",
       "    "
      ],
      "text/plain": [
       "<IPython.core.display.Javascript object>"
      ]
     },
     "metadata": {},
     "output_type": "display_data"
    },
    {
     "data": {
      "application/javascript": [
       "\n",
       "        if (window._pyforest_update_imports_cell) { window._pyforest_update_imports_cell('import re'); }\n",
       "    "
      ],
      "text/plain": [
       "<IPython.core.display.Javascript object>"
      ]
     },
     "metadata": {},
     "output_type": "display_data"
    },
    {
     "data": {
      "application/javascript": [
       "\n",
       "        if (window._pyforest_update_imports_cell) { window._pyforest_update_imports_cell('import re'); }\n",
       "    "
      ],
      "text/plain": [
       "<IPython.core.display.Javascript object>"
      ]
     },
     "metadata": {},
     "output_type": "display_data"
    },
    {
     "data": {
      "application/javascript": [
       "\n",
       "        if (window._pyforest_update_imports_cell) { window._pyforest_update_imports_cell('import re'); }\n",
       "    "
      ],
      "text/plain": [
       "<IPython.core.display.Javascript object>"
      ]
     },
     "metadata": {},
     "output_type": "display_data"
    },
    {
     "name": "stdout",
     "output_type": "stream",
     "text": [
      "Successfully retrieved 610 - https://www.halfbakedharvest.com/peanut-butter-cheesecake-doughnuts-salted-chocolate-bourbon-caramel/ with proxy 4.159.24.156:8080\n",
      "Proxy 20.26.186.150:8080 failed for https://www.halfbakedharvest.com/brown-butter-caramelized-apple-crisp-bars-wpecan-streusel-mascarpone-maple-glaze/: ('Connection aborted.', ConnectionResetError(54, 'Connection reset by peer'))\n",
      "Proxy 4.234.52.159:8080 failed for https://www.halfbakedharvest.com/samoa-macaroon-tarts/: ('Connection aborted.', ConnectionResetError(54, 'Connection reset by peer'))\n",
      "Proxy 4.159.24.156:8080 failed for https://www.halfbakedharvest.com/magic-gooey-chocolate-meringue-texas-sheet-cake/: ('Connection aborted.', ConnectionResetError(54, 'Connection reset by peer'))\n",
      "Proxy 20.26.186.150:8080 failed for https://www.halfbakedharvest.com/caramelized-peach-whole-wheat-white-chocolate-oatmeal-skillet-cookie-pie/: ('Connection aborted.', ConnectionResetError(54, 'Connection reset by peer'))\n"
     ]
    },
    {
     "data": {
      "application/javascript": [
       "\n",
       "        if (window._pyforest_update_imports_cell) { window._pyforest_update_imports_cell('import re'); }\n",
       "    "
      ],
      "text/plain": [
       "<IPython.core.display.Javascript object>"
      ]
     },
     "metadata": {},
     "output_type": "display_data"
    },
    {
     "data": {
      "application/javascript": [
       "\n",
       "        if (window._pyforest_update_imports_cell) { window._pyforest_update_imports_cell('import re'); }\n",
       "    "
      ],
      "text/plain": [
       "<IPython.core.display.Javascript object>"
      ]
     },
     "metadata": {},
     "output_type": "display_data"
    },
    {
     "data": {
      "application/javascript": [
       "\n",
       "        if (window._pyforest_update_imports_cell) { window._pyforest_update_imports_cell('import re'); }\n",
       "    "
      ],
      "text/plain": [
       "<IPython.core.display.Javascript object>"
      ]
     },
     "metadata": {},
     "output_type": "display_data"
    },
    {
     "name": "stdout",
     "output_type": "stream",
     "text": [
      "Successfully retrieved 615 - https://www.halfbakedharvest.com/double-trouble-chocolate-chunk-peanut-butter-honey-cookies/ with proxy 4.234.52.159:8080\n"
     ]
    },
    {
     "data": {
      "application/javascript": [
       "\n",
       "        if (window._pyforest_update_imports_cell) { window._pyforest_update_imports_cell('import re'); }\n",
       "    "
      ],
      "text/plain": [
       "<IPython.core.display.Javascript object>"
      ]
     },
     "metadata": {},
     "output_type": "display_data"
    },
    {
     "data": {
      "application/javascript": [
       "\n",
       "        if (window._pyforest_update_imports_cell) { window._pyforest_update_imports_cell('import re'); }\n",
       "    "
      ],
      "text/plain": [
       "<IPython.core.display.Javascript object>"
      ]
     },
     "metadata": {},
     "output_type": "display_data"
    },
    {
     "data": {
      "application/javascript": [
       "\n",
       "        if (window._pyforest_update_imports_cell) { window._pyforest_update_imports_cell('import re'); }\n",
       "    "
      ],
      "text/plain": [
       "<IPython.core.display.Javascript object>"
      ]
     },
     "metadata": {},
     "output_type": "display_data"
    },
    {
     "name": "stdout",
     "output_type": "stream",
     "text": [
      "Successfully retrieved 616 - https://www.halfbakedharvest.com/oatmeal-chocolate-chip-cookies-n-milk-breakfast-cups/ with proxy 4.159.24.156:8080\n",
      "Proxy 20.26.186.150:8080 failed for https://www.halfbakedharvest.com/homemade-italian-ice-links-inspire/: ('Connection aborted.', ConnectionResetError(54, 'Connection reset by peer'))\n"
     ]
    },
    {
     "data": {
      "application/javascript": [
       "\n",
       "        if (window._pyforest_update_imports_cell) { window._pyforest_update_imports_cell('import re'); }\n",
       "    "
      ],
      "text/plain": [
       "<IPython.core.display.Javascript object>"
      ]
     },
     "metadata": {},
     "output_type": "display_data"
    },
    {
     "data": {
      "application/javascript": [
       "\n",
       "        if (window._pyforest_update_imports_cell) { window._pyforest_update_imports_cell('import re'); }\n",
       "    "
      ],
      "text/plain": [
       "<IPython.core.display.Javascript object>"
      ]
     },
     "metadata": {},
     "output_type": "display_data"
    },
    {
     "data": {
      "application/javascript": [
       "\n",
       "        if (window._pyforest_update_imports_cell) { window._pyforest_update_imports_cell('import re'); }\n",
       "    "
      ],
      "text/plain": [
       "<IPython.core.display.Javascript object>"
      ]
     },
     "metadata": {},
     "output_type": "display_data"
    },
    {
     "data": {
      "application/javascript": [
       "\n",
       "        if (window._pyforest_update_imports_cell) { window._pyforest_update_imports_cell('import re'); }\n",
       "    "
      ],
      "text/plain": [
       "<IPython.core.display.Javascript object>"
      ]
     },
     "metadata": {},
     "output_type": "display_data"
    },
    {
     "name": "stdout",
     "output_type": "stream",
     "text": [
      "Successfully retrieved 618 - https://www.halfbakedharvest.com/milk-chocolate-dipped-zucchini-granola-bars/ with proxy 4.234.52.159:8080\n",
      "Proxy 4.159.24.156:8080 failed for https://www.halfbakedharvest.com/2-ingredient-strawberry-popsicles-links-inspire/: ('Connection aborted.', ConnectionResetError(54, 'Connection reset by peer'))\n",
      "Proxy 20.26.186.150:8080 failed for https://www.halfbakedharvest.com/healthier-chocolate-lovers-sweet-corn-hazelnut-crunch-chocolate-cake-wganache/: ('Connection aborted.', ConnectionResetError(54, 'Connection reset by peer'))\n"
     ]
    },
    {
     "data": {
      "application/javascript": [
       "\n",
       "        if (window._pyforest_update_imports_cell) { window._pyforest_update_imports_cell('import re'); }\n",
       "    "
      ],
      "text/plain": [
       "<IPython.core.display.Javascript object>"
      ]
     },
     "metadata": {},
     "output_type": "display_data"
    },
    {
     "data": {
      "application/javascript": [
       "\n",
       "        if (window._pyforest_update_imports_cell) { window._pyforest_update_imports_cell('import re'); }\n",
       "    "
      ],
      "text/plain": [
       "<IPython.core.display.Javascript object>"
      ]
     },
     "metadata": {},
     "output_type": "display_data"
    },
    {
     "data": {
      "application/javascript": [
       "\n",
       "        if (window._pyforest_update_imports_cell) { window._pyforest_update_imports_cell('import re'); }\n",
       "    "
      ],
      "text/plain": [
       "<IPython.core.display.Javascript object>"
      ]
     },
     "metadata": {},
     "output_type": "display_data"
    },
    {
     "name": "stdout",
     "output_type": "stream",
     "text": [
      "Successfully retrieved 621 - https://www.halfbakedharvest.com/inside-peanut-butter-nutella-banana-smores/ with proxy 4.234.52.159:8080\n",
      "Proxy 4.159.24.156:8080 failed for https://www.halfbakedharvest.com/sweet-balsamic-strawberries-wwhipped-ricotta-cream-maple-glazed-seeded-nuts/: ('Connection aborted.', ConnectionResetError(54, 'Connection reset by peer'))\n"
     ]
    },
    {
     "data": {
      "application/javascript": [
       "\n",
       "        if (window._pyforest_update_imports_cell) { window._pyforest_update_imports_cell('import re'); }\n",
       "    "
      ],
      "text/plain": [
       "<IPython.core.display.Javascript object>"
      ]
     },
     "metadata": {},
     "output_type": "display_data"
    },
    {
     "data": {
      "application/javascript": [
       "\n",
       "        if (window._pyforest_update_imports_cell) { window._pyforest_update_imports_cell('import re'); }\n",
       "    "
      ],
      "text/plain": [
       "<IPython.core.display.Javascript object>"
      ]
     },
     "metadata": {},
     "output_type": "display_data"
    },
    {
     "data": {
      "application/javascript": [
       "\n",
       "        if (window._pyforest_update_imports_cell) { window._pyforest_update_imports_cell('import re'); }\n",
       "    "
      ],
      "text/plain": [
       "<IPython.core.display.Javascript object>"
      ]
     },
     "metadata": {},
     "output_type": "display_data"
    },
    {
     "data": {
      "application/javascript": [
       "\n",
       "        if (window._pyforest_update_imports_cell) { window._pyforest_update_imports_cell('import re'); }\n",
       "    "
      ],
      "text/plain": [
       "<IPython.core.display.Javascript object>"
      ]
     },
     "metadata": {},
     "output_type": "display_data"
    },
    {
     "name": "stdout",
     "output_type": "stream",
     "text": [
      "Successfully retrieved 623 - https://www.halfbakedharvest.com/munchies-sweet-corn-ice-cream-sandwiches-wpeanut-butter-chip-cookies/ with proxy 20.26.186.150:8080\n"
     ]
    },
    {
     "data": {
      "application/javascript": [
       "\n",
       "        if (window._pyforest_update_imports_cell) { window._pyforest_update_imports_cell('import re'); }\n",
       "    "
      ],
      "text/plain": [
       "<IPython.core.display.Javascript object>"
      ]
     },
     "metadata": {},
     "output_type": "display_data"
    },
    {
     "data": {
      "application/javascript": [
       "\n",
       "        if (window._pyforest_update_imports_cell) { window._pyforest_update_imports_cell('import re'); }\n",
       "    "
      ],
      "text/plain": [
       "<IPython.core.display.Javascript object>"
      ]
     },
     "metadata": {},
     "output_type": "display_data"
    },
    {
     "data": {
      "application/javascript": [
       "\n",
       "        if (window._pyforest_update_imports_cell) { window._pyforest_update_imports_cell('import re'); }\n",
       "    "
      ],
      "text/plain": [
       "<IPython.core.display.Javascript object>"
      ]
     },
     "metadata": {},
     "output_type": "display_data"
    },
    {
     "data": {
      "application/javascript": [
       "\n",
       "        if (window._pyforest_update_imports_cell) { window._pyforest_update_imports_cell('import re'); }\n",
       "    "
      ],
      "text/plain": [
       "<IPython.core.display.Javascript object>"
      ]
     },
     "metadata": {},
     "output_type": "display_data"
    },
    {
     "name": "stdout",
     "output_type": "stream",
     "text": [
      "Successfully retrieved 624 - https://www.halfbakedharvest.com/glazed-peanut-butter-jelly-doughnuts-strawberry-rhubarb-chia-jelly/ with proxy 4.234.52.159:8080\n",
      "Proxy 4.159.24.156:8080 failed for https://www.halfbakedharvest.com/6-layer-3-coconut-covered-chocolate-peeps-cake/: ('Connection aborted.', ConnectionResetError(54, 'Connection reset by peer'))\n"
     ]
    },
    {
     "data": {
      "application/javascript": [
       "\n",
       "        if (window._pyforest_update_imports_cell) { window._pyforest_update_imports_cell('import re'); }\n",
       "    "
      ],
      "text/plain": [
       "<IPython.core.display.Javascript object>"
      ]
     },
     "metadata": {},
     "output_type": "display_data"
    },
    {
     "data": {
      "application/javascript": [
       "\n",
       "        if (window._pyforest_update_imports_cell) { window._pyforest_update_imports_cell('import re'); }\n",
       "    "
      ],
      "text/plain": [
       "<IPython.core.display.Javascript object>"
      ]
     },
     "metadata": {},
     "output_type": "display_data"
    },
    {
     "data": {
      "application/javascript": [
       "\n",
       "        if (window._pyforest_update_imports_cell) { window._pyforest_update_imports_cell('import re'); }\n",
       "    "
      ],
      "text/plain": [
       "<IPython.core.display.Javascript object>"
      ]
     },
     "metadata": {},
     "output_type": "display_data"
    },
    {
     "name": "stdout",
     "output_type": "stream",
     "text": [
      "Successfully retrieved 626 - https://www.halfbakedharvest.com/coffee-caramelized-croissant-french-toast-sticks/ with proxy 20.26.186.150:8080\n",
      "Proxy 4.234.52.159:8080 failed for https://www.halfbakedharvest.com/oatmeal-chocolate-chunk-cookie-peanut-butter-swirled-brownies/: ('Connection aborted.', ConnectionResetError(54, 'Connection reset by peer'))\n"
     ]
    },
    {
     "data": {
      "application/javascript": [
       "\n",
       "        if (window._pyforest_update_imports_cell) { window._pyforest_update_imports_cell('import re'); }\n",
       "    "
      ],
      "text/plain": [
       "<IPython.core.display.Javascript object>"
      ]
     },
     "metadata": {},
     "output_type": "display_data"
    },
    {
     "data": {
      "application/javascript": [
       "\n",
       "        if (window._pyforest_update_imports_cell) { window._pyforest_update_imports_cell('import re'); }\n",
       "    "
      ],
      "text/plain": [
       "<IPython.core.display.Javascript object>"
      ]
     },
     "metadata": {},
     "output_type": "display_data"
    },
    {
     "data": {
      "application/javascript": [
       "\n",
       "        if (window._pyforest_update_imports_cell) { window._pyforest_update_imports_cell('import re'); }\n",
       "    "
      ],
      "text/plain": [
       "<IPython.core.display.Javascript object>"
      ]
     },
     "metadata": {},
     "output_type": "display_data"
    },
    {
     "name": "stdout",
     "output_type": "stream",
     "text": [
      "Successfully retrieved 628 - https://www.halfbakedharvest.com/honey-nut-cheerio-bars/ with proxy 4.159.24.156:8080\n"
     ]
    },
    {
     "data": {
      "application/javascript": [
       "\n",
       "        if (window._pyforest_update_imports_cell) { window._pyforest_update_imports_cell('import re'); }\n",
       "    "
      ],
      "text/plain": [
       "<IPython.core.display.Javascript object>"
      ]
     },
     "metadata": {},
     "output_type": "display_data"
    },
    {
     "data": {
      "application/javascript": [
       "\n",
       "        if (window._pyforest_update_imports_cell) { window._pyforest_update_imports_cell('import re'); }\n",
       "    "
      ],
      "text/plain": [
       "<IPython.core.display.Javascript object>"
      ]
     },
     "metadata": {},
     "output_type": "display_data"
    },
    {
     "name": "stdout",
     "output_type": "stream",
     "text": [
      "Successfully retrieved 629 - https://www.halfbakedharvest.com/chocolate-coconut-ice-cream-cookie-dough-blizzard-video/ with proxy 20.26.186.150:8080\n",
      "Proxy 4.234.52.159:8080 failed for https://www.halfbakedharvest.com/blueberry-vanilla-greek-yogurt-granola-bars/: ('Connection aborted.', ConnectionResetError(54, 'Connection reset by peer'))\n",
      "Proxy 4.159.24.156:8080 failed for https://www.halfbakedharvest.com/meringue-encased-chocolate-mousse-smore-cakes/: HTTPSConnectionPool(host='www.halfbakedharvest.com', port=443): Max retries exceeded with url: /meringue-encased-chocolate-mousse-smore-cakes/ (Caused by ProxyError('Unable to connect to proxy', ConnectTimeoutError(<urllib3.connection.HTTPSConnection object at 0x13276c6a0>, 'Connection to 4.159.24.156 timed out. (connect timeout=30)')))\n",
      "ChunkedEncodingError occurred for proxy 20.26.186.150:8080 and https://www.halfbakedharvest.com/mini-chocolate-stout-brownie-sundae-floats-burnt-irish-caramel-hot-fudge/: ('Connection broken: IncompleteRead(1496 bytes read, 8744 more expected)', IncompleteRead(1496 bytes read, 8744 more expected))\n"
     ]
    },
    {
     "data": {
      "application/javascript": [
       "\n",
       "        if (window._pyforest_update_imports_cell) { window._pyforest_update_imports_cell('import re'); }\n",
       "    "
      ],
      "text/plain": [
       "<IPython.core.display.Javascript object>"
      ]
     },
     "metadata": {},
     "output_type": "display_data"
    },
    {
     "data": {
      "application/javascript": [
       "\n",
       "        if (window._pyforest_update_imports_cell) { window._pyforest_update_imports_cell('import re'); }\n",
       "    "
      ],
      "text/plain": [
       "<IPython.core.display.Javascript object>"
      ]
     },
     "metadata": {},
     "output_type": "display_data"
    },
    {
     "data": {
      "application/javascript": [
       "\n",
       "        if (window._pyforest_update_imports_cell) { window._pyforest_update_imports_cell('import re'); }\n",
       "    "
      ],
      "text/plain": [
       "<IPython.core.display.Javascript object>"
      ]
     },
     "metadata": {},
     "output_type": "display_data"
    },
    {
     "data": {
      "application/javascript": [
       "\n",
       "        if (window._pyforest_update_imports_cell) { window._pyforest_update_imports_cell('import re'); }\n",
       "    "
      ],
      "text/plain": [
       "<IPython.core.display.Javascript object>"
      ]
     },
     "metadata": {},
     "output_type": "display_data"
    },
    {
     "name": "stdout",
     "output_type": "stream",
     "text": [
      "Successfully retrieved 633 - https://www.halfbakedharvest.com/super-healthy-peanut-butter-date-special-k-bars/ with proxy 4.234.52.159:8080\n",
      "Proxy 4.159.24.156:8080 failed for https://www.halfbakedharvest.com/beignets-tiramisu-chocolate-ganache/: ('Connection aborted.', ConnectionResetError(54, 'Connection reset by peer'))\n",
      "Proxy 20.26.186.150:8080 failed for https://www.halfbakedharvest.com/banoffee-nutella-greek-yogurt-waffle-cone-parfaits-cashew-caramel-popcorn/: ('Connection aborted.', ConnectionResetError(54, 'Connection reset by peer'))\n"
     ]
    },
    {
     "data": {
      "application/javascript": [
       "\n",
       "        if (window._pyforest_update_imports_cell) { window._pyforest_update_imports_cell('import re'); }\n",
       "    "
      ],
      "text/plain": [
       "<IPython.core.display.Javascript object>"
      ]
     },
     "metadata": {},
     "output_type": "display_data"
    },
    {
     "data": {
      "application/javascript": [
       "\n",
       "        if (window._pyforest_update_imports_cell) { window._pyforest_update_imports_cell('import re'); }\n",
       "    "
      ],
      "text/plain": [
       "<IPython.core.display.Javascript object>"
      ]
     },
     "metadata": {},
     "output_type": "display_data"
    },
    {
     "data": {
      "application/javascript": [
       "\n",
       "        if (window._pyforest_update_imports_cell) { window._pyforest_update_imports_cell('import re'); }\n",
       "    "
      ],
      "text/plain": [
       "<IPython.core.display.Javascript object>"
      ]
     },
     "metadata": {},
     "output_type": "display_data"
    },
    {
     "name": "stdout",
     "output_type": "stream",
     "text": [
      "Successfully retrieved 636 - https://www.halfbakedharvest.com/peanut-butter-stuffed-chocolate-covered-pretzel-cookies-n-cream/ with proxy 4.234.52.159:8080\n",
      "Proxy 4.159.24.156:8080 failed for https://www.halfbakedharvest.com/toasted-coconut-lemon-bread-salted-honey-butter/: ('Connection aborted.', ConnectionResetError(54, 'Connection reset by peer'))\n",
      "Proxy 20.26.186.150:8080 failed for https://www.halfbakedharvest.com/toasted-fluffernutters-cabernet-chocolate-fondue/: ('Connection aborted.', ConnectionResetError(54, 'Connection reset by peer'))\n"
     ]
    },
    {
     "data": {
      "application/javascript": [
       "\n",
       "        if (window._pyforest_update_imports_cell) { window._pyforest_update_imports_cell('import re'); }\n",
       "    "
      ],
      "text/plain": [
       "<IPython.core.display.Javascript object>"
      ]
     },
     "metadata": {},
     "output_type": "display_data"
    },
    {
     "data": {
      "application/javascript": [
       "\n",
       "        if (window._pyforest_update_imports_cell) { window._pyforest_update_imports_cell('import re'); }\n",
       "    "
      ],
      "text/plain": [
       "<IPython.core.display.Javascript object>"
      ]
     },
     "metadata": {},
     "output_type": "display_data"
    },
    {
     "data": {
      "application/javascript": [
       "\n",
       "        if (window._pyforest_update_imports_cell) { window._pyforest_update_imports_cell('import re'); }\n",
       "    "
      ],
      "text/plain": [
       "<IPython.core.display.Javascript object>"
      ]
     },
     "metadata": {},
     "output_type": "display_data"
    },
    {
     "name": "stdout",
     "output_type": "stream",
     "text": [
      "Successfully retrieved 639 - https://www.halfbakedharvest.com/brigadeiros-brazilian-chocolate-truffles/ with proxy 4.234.52.159:8080\n",
      "Proxy 4.159.24.156:8080 failed for https://www.halfbakedharvest.com/sweet-banana-lumpia-milk-chocolate-toasted-coconut-butter/: ('Connection aborted.', ConnectionResetError(54, 'Connection reset by peer'))\n",
      "Proxy 20.26.186.150:8080 failed for https://www.halfbakedharvest.com/red-velvet-molten-chocolate-lava-cakes-chocolate-ganache-center/: ('Connection aborted.', ConnectionResetError(54, 'Connection reset by peer'))\n",
      "Proxy 4.234.52.159:8080 failed for https://www.halfbakedharvest.com/moms-simple-oatmeal-chocolate-chip-cookies-best-oatmeal-chocolate-chip-cookies-around/: HTTPSConnectionPool(host='www.halfbakedharvest.com', port=443): Max retries exceeded with url: /moms-simple-oatmeal-chocolate-chip-cookies-best-oatmeal-chocolate-chip-cookies-around/ (Caused by ProxyError('Unable to connect to proxy', ConnectTimeoutError(<urllib3.connection.HTTPSConnection object at 0x132b090d0>, 'Connection to 4.234.52.159 timed out. (connect timeout=30)')))\n"
     ]
    },
    {
     "data": {
      "application/javascript": [
       "\n",
       "        if (window._pyforest_update_imports_cell) { window._pyforest_update_imports_cell('import re'); }\n",
       "    "
      ],
      "text/plain": [
       "<IPython.core.display.Javascript object>"
      ]
     },
     "metadata": {},
     "output_type": "display_data"
    },
    {
     "data": {
      "application/javascript": [
       "\n",
       "        if (window._pyforest_update_imports_cell) { window._pyforest_update_imports_cell('import re'); }\n",
       "    "
      ],
      "text/plain": [
       "<IPython.core.display.Javascript object>"
      ]
     },
     "metadata": {},
     "output_type": "display_data"
    },
    {
     "data": {
      "application/javascript": [
       "\n",
       "        if (window._pyforest_update_imports_cell) { window._pyforest_update_imports_cell('import re'); }\n",
       "    "
      ],
      "text/plain": [
       "<IPython.core.display.Javascript object>"
      ]
     },
     "metadata": {},
     "output_type": "display_data"
    },
    {
     "name": "stdout",
     "output_type": "stream",
     "text": [
      "Successfully retrieved 643 - https://www.halfbakedharvest.com/rice-krispie-treat-pancakes-browned-butter-syrup/ with proxy 4.159.24.156:8080\n",
      "Proxy 20.26.186.150:8080 failed for https://www.halfbakedharvest.com/warm-chocolate-chip-cookie-stuffed-soft-pretzels/: ('Connection aborted.', ConnectionResetError(54, 'Connection reset by peer'))\n"
     ]
    },
    {
     "data": {
      "application/javascript": [
       "\n",
       "        if (window._pyforest_update_imports_cell) { window._pyforest_update_imports_cell('import re'); }\n",
       "    "
      ],
      "text/plain": [
       "<IPython.core.display.Javascript object>"
      ]
     },
     "metadata": {},
     "output_type": "display_data"
    },
    {
     "data": {
      "application/javascript": [
       "\n",
       "        if (window._pyforest_update_imports_cell) { window._pyforest_update_imports_cell('import re'); }\n",
       "    "
      ],
      "text/plain": [
       "<IPython.core.display.Javascript object>"
      ]
     },
     "metadata": {},
     "output_type": "display_data"
    },
    {
     "name": "stdout",
     "output_type": "stream",
     "text": [
      "Successfully retrieved 645 - https://www.halfbakedharvest.com/thick-creamy-chocolate-pistachio-chia-shake/ with proxy 4.234.52.159:8080\n"
     ]
    },
    {
     "data": {
      "application/javascript": [
       "\n",
       "        if (window._pyforest_update_imports_cell) { window._pyforest_update_imports_cell('import re'); }\n",
       "    "
      ],
      "text/plain": [
       "<IPython.core.display.Javascript object>"
      ]
     },
     "metadata": {},
     "output_type": "display_data"
    },
    {
     "data": {
      "application/javascript": [
       "\n",
       "        if (window._pyforest_update_imports_cell) { window._pyforest_update_imports_cell('import re'); }\n",
       "    "
      ],
      "text/plain": [
       "<IPython.core.display.Javascript object>"
      ]
     },
     "metadata": {},
     "output_type": "display_data"
    },
    {
     "data": {
      "application/javascript": [
       "\n",
       "        if (window._pyforest_update_imports_cell) { window._pyforest_update_imports_cell('import re'); }\n",
       "    "
      ],
      "text/plain": [
       "<IPython.core.display.Javascript object>"
      ]
     },
     "metadata": {},
     "output_type": "display_data"
    },
    {
     "name": "stdout",
     "output_type": "stream",
     "text": [
      "Successfully retrieved 646 - https://www.halfbakedharvest.com/simple-chocolate-birthday-cake-whipped-chocolate-buttercream-video/ with proxy 4.159.24.156:8080\n",
      "Proxy 20.26.186.150:8080 failed for https://www.halfbakedharvest.com/toasted-coconut-chocolate-chunk-roasted-banana-bread/: ('Connection aborted.', ConnectionResetError(54, 'Connection reset by peer'))\n",
      "Proxy 4.234.52.159:8080 failed for https://www.halfbakedharvest.com/chocolate-lovers-greek-yogurt-chocolate-mousse-cake/: ('Connection aborted.', ConnectionResetError(54, 'Connection reset by peer'))\n"
     ]
    },
    {
     "data": {
      "application/javascript": [
       "\n",
       "        if (window._pyforest_update_imports_cell) { window._pyforest_update_imports_cell('import re'); }\n",
       "    "
      ],
      "text/plain": [
       "<IPython.core.display.Javascript object>"
      ]
     },
     "metadata": {},
     "output_type": "display_data"
    },
    {
     "data": {
      "application/javascript": [
       "\n",
       "        if (window._pyforest_update_imports_cell) { window._pyforest_update_imports_cell('import re'); }\n",
       "    "
      ],
      "text/plain": [
       "<IPython.core.display.Javascript object>"
      ]
     },
     "metadata": {},
     "output_type": "display_data"
    },
    {
     "data": {
      "application/javascript": [
       "\n",
       "        if (window._pyforest_update_imports_cell) { window._pyforest_update_imports_cell('import re'); }\n",
       "    "
      ],
      "text/plain": [
       "<IPython.core.display.Javascript object>"
      ]
     },
     "metadata": {},
     "output_type": "display_data"
    },
    {
     "name": "stdout",
     "output_type": "stream",
     "text": [
      "Successfully retrieved 649 - https://www.halfbakedharvest.com/superfood-cashew-goji-berry-bars/ with proxy 4.159.24.156:8080\n",
      "Proxy 20.26.186.150:8080 failed for https://www.halfbakedharvest.com/salted-caramel-chocolate-covered-pretzels/: ('Connection aborted.', ConnectionResetError(54, 'Connection reset by peer'))\n"
     ]
    },
    {
     "data": {
      "application/javascript": [
       "\n",
       "        if (window._pyforest_update_imports_cell) { window._pyforest_update_imports_cell('import re'); }\n",
       "    "
      ],
      "text/plain": [
       "<IPython.core.display.Javascript object>"
      ]
     },
     "metadata": {},
     "output_type": "display_data"
    },
    {
     "data": {
      "application/javascript": [
       "\n",
       "        if (window._pyforest_update_imports_cell) { window._pyforest_update_imports_cell('import re'); }\n",
       "    "
      ],
      "text/plain": [
       "<IPython.core.display.Javascript object>"
      ]
     },
     "metadata": {},
     "output_type": "display_data"
    },
    {
     "data": {
      "application/javascript": [
       "\n",
       "        if (window._pyforest_update_imports_cell) { window._pyforest_update_imports_cell('import re'); }\n",
       "    "
      ],
      "text/plain": [
       "<IPython.core.display.Javascript object>"
      ]
     },
     "metadata": {},
     "output_type": "display_data"
    },
    {
     "name": "stdout",
     "output_type": "stream",
     "text": [
      "Successfully retrieved 651 - https://www.halfbakedharvest.com/chocolate-peanut-butter-crinkle-cookies/ with proxy 4.234.52.159:8080\n",
      "Proxy 4.159.24.156:8080 failed for https://www.halfbakedharvest.com/christmas-chocolate-chip-cookies/: ('Connection aborted.', ConnectionResetError(54, 'Connection reset by peer'))\n"
     ]
    },
    {
     "data": {
      "application/javascript": [
       "\n",
       "        if (window._pyforest_update_imports_cell) { window._pyforest_update_imports_cell('import re'); }\n",
       "    "
      ],
      "text/plain": [
       "<IPython.core.display.Javascript object>"
      ]
     },
     "metadata": {},
     "output_type": "display_data"
    },
    {
     "data": {
      "application/javascript": [
       "\n",
       "        if (window._pyforest_update_imports_cell) { window._pyforest_update_imports_cell('import re'); }\n",
       "    "
      ],
      "text/plain": [
       "<IPython.core.display.Javascript object>"
      ]
     },
     "metadata": {},
     "output_type": "display_data"
    },
    {
     "data": {
      "application/javascript": [
       "\n",
       "        if (window._pyforest_update_imports_cell) { window._pyforest_update_imports_cell('import re'); }\n",
       "    "
      ],
      "text/plain": [
       "<IPython.core.display.Javascript object>"
      ]
     },
     "metadata": {},
     "output_type": "display_data"
    },
    {
     "name": "stdout",
     "output_type": "stream",
     "text": [
      "Successfully retrieved 653 - https://www.halfbakedharvest.com/sugar-cookie-hot-chocolate/ with proxy 20.26.186.150:8080\n"
     ]
    },
    {
     "data": {
      "application/javascript": [
       "\n",
       "        if (window._pyforest_update_imports_cell) { window._pyforest_update_imports_cell('import re'); }\n",
       "    "
      ],
      "text/plain": [
       "<IPython.core.display.Javascript object>"
      ]
     },
     "metadata": {},
     "output_type": "display_data"
    },
    {
     "data": {
      "application/javascript": [
       "\n",
       "        if (window._pyforest_update_imports_cell) { window._pyforest_update_imports_cell('import re'); }\n",
       "    "
      ],
      "text/plain": [
       "<IPython.core.display.Javascript object>"
      ]
     },
     "metadata": {},
     "output_type": "display_data"
    },
    {
     "data": {
      "application/javascript": [
       "\n",
       "        if (window._pyforest_update_imports_cell) { window._pyforest_update_imports_cell('import re'); }\n",
       "    "
      ],
      "text/plain": [
       "<IPython.core.display.Javascript object>"
      ]
     },
     "metadata": {},
     "output_type": "display_data"
    },
    {
     "name": "stdout",
     "output_type": "stream",
     "text": [
      "Successfully retrieved 654 - https://www.halfbakedharvest.com/chocolate-espresso-thumbprint-cookies/ with proxy 4.234.52.159:8080\n",
      "Proxy 4.159.24.156:8080 failed for https://www.halfbakedharvest.com/gingerbread-cake-with-caramel-cream-cheese-buttercream/: ('Connection aborted.', ConnectionResetError(54, 'Connection reset by peer'))\n",
      "Proxy 20.26.186.150:8080 failed for https://www.halfbakedharvest.com/chocolate-dipped-coconut-caramel-macaroons/: ('Connection aborted.', ConnectionResetError(54, 'Connection reset by peer'))\n",
      "Proxy 4.234.52.159:8080 failed for https://www.halfbakedharvest.com/christmas-cookie-decorating-kit/: HTTPSConnectionPool(host='www.halfbakedharvest.com', port=443): Max retries exceeded with url: /christmas-cookie-decorating-kit/ (Caused by ProxyError('Unable to connect to proxy', ConnectTimeoutError(<urllib3.connection.HTTPSConnection object at 0x132bdceb0>, 'Connection to 4.234.52.159 timed out. (connect timeout=30)')))\n",
      "Proxy 4.159.24.156:8080 failed for https://www.halfbakedharvest.com/butter-pecan-frosted-fudge-brownies/: ('Connection aborted.', ConnectionResetError(54, 'Connection reset by peer'))\n",
      "Proxy 20.26.186.150:8080 failed for https://www.halfbakedharvest.com/pumpkin-chai-snickerdoodles/: ('Connection aborted.', ConnectionResetError(54, 'Connection reset by peer'))\n",
      "Proxy 4.234.52.159:8080 failed for https://www.halfbakedharvest.com/gooey-chocolate-chip-cookie-pie/: ('Connection aborted.', ConnectionResetError(54, 'Connection reset by peer'))\n"
     ]
    },
    {
     "data": {
      "application/javascript": [
       "\n",
       "        if (window._pyforest_update_imports_cell) { window._pyforest_update_imports_cell('import re'); }\n",
       "    "
      ],
      "text/plain": [
       "<IPython.core.display.Javascript object>"
      ]
     },
     "metadata": {},
     "output_type": "display_data"
    },
    {
     "data": {
      "application/javascript": [
       "\n",
       "        if (window._pyforest_update_imports_cell) { window._pyforest_update_imports_cell('import re'); }\n",
       "    "
      ],
      "text/plain": [
       "<IPython.core.display.Javascript object>"
      ]
     },
     "metadata": {},
     "output_type": "display_data"
    },
    {
     "data": {
      "application/javascript": [
       "\n",
       "        if (window._pyforest_update_imports_cell) { window._pyforest_update_imports_cell('import re'); }\n",
       "    "
      ],
      "text/plain": [
       "<IPython.core.display.Javascript object>"
      ]
     },
     "metadata": {},
     "output_type": "display_data"
    },
    {
     "name": "stdout",
     "output_type": "stream",
     "text": [
      "Successfully retrieved 661 - https://www.halfbakedharvest.com/easy-twisted-pumpkin-spice-danish/ with proxy 4.159.24.156:8080\n",
      "Proxy 20.26.186.150:8080 failed for https://www.halfbakedharvest.com/nutella-stuffed-pumpkin-beignets/: ('Connection aborted.', ConnectionResetError(54, 'Connection reset by peer'))\n",
      "Proxy 4.234.52.159:8080 failed for https://www.halfbakedharvest.com/addicting-5-ingredient-crockpot-chocolate-bars/: ('Connection aborted.', ConnectionResetError(54, 'Connection reset by peer'))\n"
     ]
    },
    {
     "data": {
      "application/javascript": [
       "\n",
       "        if (window._pyforest_update_imports_cell) { window._pyforest_update_imports_cell('import re'); }\n",
       "    "
      ],
      "text/plain": [
       "<IPython.core.display.Javascript object>"
      ]
     },
     "metadata": {},
     "output_type": "display_data"
    },
    {
     "data": {
      "application/javascript": [
       "\n",
       "        if (window._pyforest_update_imports_cell) { window._pyforest_update_imports_cell('import re'); }\n",
       "    "
      ],
      "text/plain": [
       "<IPython.core.display.Javascript object>"
      ]
     },
     "metadata": {},
     "output_type": "display_data"
    },
    {
     "data": {
      "application/javascript": [
       "\n",
       "        if (window._pyforest_update_imports_cell) { window._pyforest_update_imports_cell('import re'); }\n",
       "    "
      ],
      "text/plain": [
       "<IPython.core.display.Javascript object>"
      ]
     },
     "metadata": {},
     "output_type": "display_data"
    },
    {
     "name": "stdout",
     "output_type": "stream",
     "text": [
      "Successfully retrieved 664 - https://www.halfbakedharvest.com/mini-pecan-butter-apple-rose-tarts/ with proxy 4.159.24.156:8080\n",
      "Proxy 20.26.186.150:8080 failed for https://www.halfbakedharvest.com/cream-cheese-swirled-brown-sugar-pumpkin-coffee-cake/: ('Connection aborted.', ConnectionResetError(54, 'Connection reset by peer'))\n"
     ]
    },
    {
     "data": {
      "application/javascript": [
       "\n",
       "        if (window._pyforest_update_imports_cell) { window._pyforest_update_imports_cell('import re'); }\n",
       "    "
      ],
      "text/plain": [
       "<IPython.core.display.Javascript object>"
      ]
     },
     "metadata": {},
     "output_type": "display_data"
    },
    {
     "data": {
      "application/javascript": [
       "\n",
       "        if (window._pyforest_update_imports_cell) { window._pyforest_update_imports_cell('import re'); }\n",
       "    "
      ],
      "text/plain": [
       "<IPython.core.display.Javascript object>"
      ]
     },
     "metadata": {},
     "output_type": "display_data"
    },
    {
     "data": {
      "application/javascript": [
       "\n",
       "        if (window._pyforest_update_imports_cell) { window._pyforest_update_imports_cell('import re'); }\n",
       "    "
      ],
      "text/plain": [
       "<IPython.core.display.Javascript object>"
      ]
     },
     "metadata": {},
     "output_type": "display_data"
    },
    {
     "name": "stdout",
     "output_type": "stream",
     "text": [
      "Successfully retrieved 666 - https://www.halfbakedharvest.com/monster-mash-cookies/ with proxy 4.234.52.159:8080\n",
      "ChunkedEncodingError occurred for proxy 4.159.24.156:8080 and https://www.halfbakedharvest.com/cinnamon-apple-crumble-cake/: ('Connection broken: IncompleteRead(4888 bytes read, 5352 more expected)', IncompleteRead(4888 bytes read, 5352 more expected))\n",
      "Proxy 20.26.186.150:8080 failed for https://www.halfbakedharvest.com/forbidden-forest-chocolate-butterbeer-cake/: ('Connection aborted.', ConnectionResetError(54, 'Connection reset by peer'))\n"
     ]
    },
    {
     "data": {
      "application/javascript": [
       "\n",
       "        if (window._pyforest_update_imports_cell) { window._pyforest_update_imports_cell('import re'); }\n",
       "    "
      ],
      "text/plain": [
       "<IPython.core.display.Javascript object>"
      ]
     },
     "metadata": {},
     "output_type": "display_data"
    },
    {
     "data": {
      "application/javascript": [
       "\n",
       "        if (window._pyforest_update_imports_cell) { window._pyforest_update_imports_cell('import re'); }\n",
       "    "
      ],
      "text/plain": [
       "<IPython.core.display.Javascript object>"
      ]
     },
     "metadata": {},
     "output_type": "display_data"
    },
    {
     "data": {
      "application/javascript": [
       "\n",
       "        if (window._pyforest_update_imports_cell) { window._pyforest_update_imports_cell('import re'); }\n",
       "    "
      ],
      "text/plain": [
       "<IPython.core.display.Javascript object>"
      ]
     },
     "metadata": {},
     "output_type": "display_data"
    },
    {
     "name": "stdout",
     "output_type": "stream",
     "text": [
      "Successfully retrieved 669 - https://www.halfbakedharvest.com/chocolate-chip-pumpkin-pancakes-with-whipped-maple-butter/ with proxy 4.234.52.159:8080\n",
      "Proxy 4.159.24.156:8080 failed for https://www.halfbakedharvest.com/mocha-caramel-crunch-chocolate-chip-cookie-bars/: ('Connection aborted.', ConnectionResetError(54, 'Connection reset by peer'))\n",
      "Proxy 20.26.186.150:8080 failed for https://www.halfbakedharvest.com/baked-salted-caramel-apple-cider-doughnuts/: ('Connection aborted.', ConnectionResetError(54, 'Connection reset by peer'))\n",
      "Proxy 4.234.52.159:8080 failed for https://www.halfbakedharvest.com/homemade-chocolate-peanut-butter-fudge-pop-tarts/: ('Connection aborted.', ConnectionResetError(54, 'Connection reset by peer'))\n",
      "Proxy 4.159.24.156:8080 failed for https://www.halfbakedharvest.com/brown-butter-plum-up-side-down-yogurt-cake-with-pistachios/: ('Connection aborted.', ConnectionResetError(54, 'Connection reset by peer'))\n",
      "Proxy 20.26.186.150:8080 failed for https://www.halfbakedharvest.com/chocolate-bourbon-caramel-macaron-cake-to-celebrate-my-little-kind-of-big-secret/: ('Connection aborted.', ConnectionResetError(54, 'Connection reset by peer'))\n"
     ]
    },
    {
     "data": {
      "application/javascript": [
       "\n",
       "        if (window._pyforest_update_imports_cell) { window._pyforest_update_imports_cell('import re'); }\n",
       "    "
      ],
      "text/plain": [
       "<IPython.core.display.Javascript object>"
      ]
     },
     "metadata": {},
     "output_type": "display_data"
    },
    {
     "data": {
      "application/javascript": [
       "\n",
       "        if (window._pyforest_update_imports_cell) { window._pyforest_update_imports_cell('import re'); }\n",
       "    "
      ],
      "text/plain": [
       "<IPython.core.display.Javascript object>"
      ]
     },
     "metadata": {},
     "output_type": "display_data"
    },
    {
     "data": {
      "application/javascript": [
       "\n",
       "        if (window._pyforest_update_imports_cell) { window._pyforest_update_imports_cell('import re'); }\n",
       "    "
      ],
      "text/plain": [
       "<IPython.core.display.Javascript object>"
      ]
     },
     "metadata": {},
     "output_type": "display_data"
    },
    {
     "name": "stdout",
     "output_type": "stream",
     "text": [
      "Successfully retrieved 675 - https://www.halfbakedharvest.com/salted-pretzel-nutella-fudge-milkshake-with-malted-milk-whipped-cream/ with proxy 4.234.52.159:8080\n"
     ]
    },
    {
     "data": {
      "application/javascript": [
       "\n",
       "        if (window._pyforest_update_imports_cell) { window._pyforest_update_imports_cell('import re'); }\n",
       "    "
      ],
      "text/plain": [
       "<IPython.core.display.Javascript object>"
      ]
     },
     "metadata": {},
     "output_type": "display_data"
    },
    {
     "data": {
      "application/javascript": [
       "\n",
       "        if (window._pyforest_update_imports_cell) { window._pyforest_update_imports_cell('import re'); }\n",
       "    "
      ],
      "text/plain": [
       "<IPython.core.display.Javascript object>"
      ]
     },
     "metadata": {},
     "output_type": "display_data"
    },
    {
     "data": {
      "application/javascript": [
       "\n",
       "        if (window._pyforest_update_imports_cell) { window._pyforest_update_imports_cell('import re'); }\n",
       "    "
      ],
      "text/plain": [
       "<IPython.core.display.Javascript object>"
      ]
     },
     "metadata": {},
     "output_type": "display_data"
    },
    {
     "name": "stdout",
     "output_type": "stream",
     "text": [
      "Successfully retrieved 676 - https://www.halfbakedharvest.com/mini-bourbon-caramelized-peach-baked-alaska-with-butter-pecan-ice-cream/ with proxy 4.159.24.156:8080\n",
      "Proxy 20.26.186.150:8080 failed for https://www.halfbakedharvest.com/chewy-cherry-almond-and-cacao-nib-granola-bars/: ('Connection aborted.', ConnectionResetError(54, 'Connection reset by peer'))\n"
     ]
    },
    {
     "data": {
      "application/javascript": [
       "\n",
       "        if (window._pyforest_update_imports_cell) { window._pyforest_update_imports_cell('import re'); }\n",
       "    "
      ],
      "text/plain": [
       "<IPython.core.display.Javascript object>"
      ]
     },
     "metadata": {},
     "output_type": "display_data"
    },
    {
     "data": {
      "application/javascript": [
       "\n",
       "        if (window._pyforest_update_imports_cell) { window._pyforest_update_imports_cell('import re'); }\n",
       "    "
      ],
      "text/plain": [
       "<IPython.core.display.Javascript object>"
      ]
     },
     "metadata": {},
     "output_type": "display_data"
    },
    {
     "name": "stdout",
     "output_type": "stream",
     "text": [
      "Successfully retrieved 678 - https://www.halfbakedharvest.com/double-chocolate-hawaiian-tiramisu/ with proxy 4.234.52.159:8080\n",
      "Proxy 4.159.24.156:8080 failed for https://www.halfbakedharvest.com/baked-mixed-berry-coconut-cornbread-muffins/: ('Connection aborted.', ConnectionResetError(54, 'Connection reset by peer'))\n",
      "Proxy 20.26.186.150:8080 failed for https://www.halfbakedharvest.com/chocolate-chip-cookie-dough-infused-waffles-made-into-waffle-ice-cream-sammies/: ('Connection aborted.', ConnectionResetError(54, 'Connection reset by peer'))\n",
      "Proxy 4.234.52.159:8080 failed for https://www.halfbakedharvest.com/oatmeal-chocolate-chunk-cookie-stuffed-campfire-bananas/: HTTPSConnectionPool(host='www.halfbakedharvest.com', port=443): Max retries exceeded with url: /oatmeal-chocolate-chunk-cookie-stuffed-campfire-bananas/ (Caused by ProxyError('Unable to connect to proxy', ConnectTimeoutError(<urllib3.connection.HTTPSConnection object at 0x1324bb130>, 'Connection to 4.234.52.159 timed out. (connect timeout=30)')))\n",
      "Proxy 4.159.24.156:8080 failed for https://www.halfbakedharvest.com/cherry-cobbler-with-honey-butter-vanilla-bean-biscuits-links/: ('Connection aborted.', ConnectionResetError(54, 'Connection reset by peer'))\n"
     ]
    },
    {
     "data": {
      "application/javascript": [
       "\n",
       "        if (window._pyforest_update_imports_cell) { window._pyforest_update_imports_cell('import re'); }\n",
       "    "
      ],
      "text/plain": [
       "<IPython.core.display.Javascript object>"
      ]
     },
     "metadata": {},
     "output_type": "display_data"
    },
    {
     "data": {
      "application/javascript": [
       "\n",
       "        if (window._pyforest_update_imports_cell) { window._pyforest_update_imports_cell('import re'); }\n",
       "    "
      ],
      "text/plain": [
       "<IPython.core.display.Javascript object>"
      ]
     },
     "metadata": {},
     "output_type": "display_data"
    },
    {
     "data": {
      "application/javascript": [
       "\n",
       "        if (window._pyforest_update_imports_cell) { window._pyforest_update_imports_cell('import re'); }\n",
       "    "
      ],
      "text/plain": [
       "<IPython.core.display.Javascript object>"
      ]
     },
     "metadata": {},
     "output_type": "display_data"
    },
    {
     "name": "stdout",
     "output_type": "stream",
     "text": [
      "Successfully retrieved 683 - https://www.halfbakedharvest.com/double-chocolate-coconut-oil-zucchini-muffins-with-caramelized-buckwheat/ with proxy 20.26.186.150:8080\n"
     ]
    },
    {
     "data": {
      "application/javascript": [
       "\n",
       "        if (window._pyforest_update_imports_cell) { window._pyforest_update_imports_cell('import re'); }\n",
       "    "
      ],
      "text/plain": [
       "<IPython.core.display.Javascript object>"
      ]
     },
     "metadata": {},
     "output_type": "display_data"
    },
    {
     "data": {
      "application/javascript": [
       "\n",
       "        if (window._pyforest_update_imports_cell) { window._pyforest_update_imports_cell('import re'); }\n",
       "    "
      ],
      "text/plain": [
       "<IPython.core.display.Javascript object>"
      ]
     },
     "metadata": {},
     "output_type": "display_data"
    },
    {
     "data": {
      "application/javascript": [
       "\n",
       "        if (window._pyforest_update_imports_cell) { window._pyforest_update_imports_cell('import re'); }\n",
       "    "
      ],
      "text/plain": [
       "<IPython.core.display.Javascript object>"
      ]
     },
     "metadata": {},
     "output_type": "display_data"
    },
    {
     "name": "stdout",
     "output_type": "stream",
     "text": [
      "Successfully retrieved 684 - https://www.halfbakedharvest.com/miso-chocolate-fudge-and-haupia-coconut-pudding-macaroon-pie/ with proxy 4.234.52.159:8080\n",
      "Proxy 4.159.24.156:8080 failed for https://www.halfbakedharvest.com/raspberry-nectarine-and-sweet-corn-clafoutis/: ('Connection aborted.', ConnectionResetError(54, 'Connection reset by peer'))\n",
      "ChunkedEncodingError occurred for proxy 20.26.186.150:8080 and https://www.halfbakedharvest.com/strawberry-jelly-and-vanilla-cream-brioche-doughnuts-with-lilac-sugar/: ('Connection broken: IncompleteRead(8452 bytes read, 1788 more expected)', IncompleteRead(8452 bytes read, 1788 more expected))\n"
     ]
    },
    {
     "data": {
      "application/javascript": [
       "\n",
       "        if (window._pyforest_update_imports_cell) { window._pyforest_update_imports_cell('import re'); }\n",
       "    "
      ],
      "text/plain": [
       "<IPython.core.display.Javascript object>"
      ]
     },
     "metadata": {},
     "output_type": "display_data"
    },
    {
     "data": {
      "application/javascript": [
       "\n",
       "        if (window._pyforest_update_imports_cell) { window._pyforest_update_imports_cell('import re'); }\n",
       "    "
      ],
      "text/plain": [
       "<IPython.core.display.Javascript object>"
      ]
     },
     "metadata": {},
     "output_type": "display_data"
    },
    {
     "data": {
      "application/javascript": [
       "\n",
       "        if (window._pyforest_update_imports_cell) { window._pyforest_update_imports_cell('import re'); }\n",
       "    "
      ],
      "text/plain": [
       "<IPython.core.display.Javascript object>"
      ]
     },
     "metadata": {},
     "output_type": "display_data"
    },
    {
     "data": {
      "application/javascript": [
       "\n",
       "        if (window._pyforest_update_imports_cell) { window._pyforest_update_imports_cell('import re'); }\n",
       "    "
      ],
      "text/plain": [
       "<IPython.core.display.Javascript object>"
      ]
     },
     "metadata": {},
     "output_type": "display_data"
    },
    {
     "name": "stdout",
     "output_type": "stream",
     "text": [
      "Successfully retrieved 687 - https://www.halfbakedharvest.com/hibiscus-cherry-and-ginger-beer-ice-cream-floats/ with proxy 4.234.52.159:8080\n"
     ]
    },
    {
     "data": {
      "application/javascript": [
       "\n",
       "        if (window._pyforest_update_imports_cell) { window._pyforest_update_imports_cell('import re'); }\n",
       "    "
      ],
      "text/plain": [
       "<IPython.core.display.Javascript object>"
      ]
     },
     "metadata": {},
     "output_type": "display_data"
    },
    {
     "data": {
      "application/javascript": [
       "\n",
       "        if (window._pyforest_update_imports_cell) { window._pyforest_update_imports_cell('import re'); }\n",
       "    "
      ],
      "text/plain": [
       "<IPython.core.display.Javascript object>"
      ]
     },
     "metadata": {},
     "output_type": "display_data"
    },
    {
     "data": {
      "application/javascript": [
       "\n",
       "        if (window._pyforest_update_imports_cell) { window._pyforest_update_imports_cell('import re'); }\n",
       "    "
      ],
      "text/plain": [
       "<IPython.core.display.Javascript object>"
      ]
     },
     "metadata": {},
     "output_type": "display_data"
    },
    {
     "name": "stdout",
     "output_type": "stream",
     "text": [
      "Successfully retrieved 688 - https://www.halfbakedharvest.com/honey-butter-stone-fruit-and-blackberry-meringue-tart/ with proxy 4.159.24.156:8080\n",
      "Proxy 20.26.186.150:8080 failed for https://www.halfbakedharvest.com/chocolate-dipped-peanut-butter-espresso-smore/: ('Connection aborted.', ConnectionResetError(54, 'Connection reset by peer'))\n",
      "Proxy 4.234.52.159:8080 failed for https://www.halfbakedharvest.com/cherry-and-goats-milk-coconut-mousse/: HTTPSConnectionPool(host='www.halfbakedharvest.com', port=443): Max retries exceeded with url: /cherry-and-goats-milk-coconut-mousse/ (Caused by ProxyError('Unable to connect to proxy', ConnectTimeoutError(<urllib3.connection.HTTPSConnection object at 0x122d15580>, 'Connection to 4.234.52.159 timed out. (connect timeout=30)')))\n"
     ]
    },
    {
     "data": {
      "application/javascript": [
       "\n",
       "        if (window._pyforest_update_imports_cell) { window._pyforest_update_imports_cell('import re'); }\n",
       "    "
      ],
      "text/plain": [
       "<IPython.core.display.Javascript object>"
      ]
     },
     "metadata": {},
     "output_type": "display_data"
    },
    {
     "data": {
      "application/javascript": [
       "\n",
       "        if (window._pyforest_update_imports_cell) { window._pyforest_update_imports_cell('import re'); }\n",
       "    "
      ],
      "text/plain": [
       "<IPython.core.display.Javascript object>"
      ]
     },
     "metadata": {},
     "output_type": "display_data"
    },
    {
     "data": {
      "application/javascript": [
       "\n",
       "        if (window._pyforest_update_imports_cell) { window._pyforest_update_imports_cell('import re'); }\n",
       "    "
      ],
      "text/plain": [
       "<IPython.core.display.Javascript object>"
      ]
     },
     "metadata": {},
     "output_type": "display_data"
    },
    {
     "name": "stdout",
     "output_type": "stream",
     "text": [
      "Successfully retrieved 691 - https://www.halfbakedharvest.com/no-churn-ice-cream-5-ways/ with proxy 4.159.24.156:8080\n",
      "ChunkedEncodingError occurred for proxy 20.26.186.150:8080 and https://www.halfbakedharvest.com/sweet-blueberry-buttermilk-pies-with-chamomile-cream/: ('Connection broken: IncompleteRead(4101 bytes read, 6139 more expected)', IncompleteRead(4101 bytes read, 6139 more expected))\n",
      "Proxy 4.234.52.159:8080 failed for https://www.halfbakedharvest.com/salted-chocolate-dipped-banana-almond-pops-with-malted-coconut-honey/: ('Connection aborted.', ConnectionResetError(54, 'Connection reset by peer'))\n",
      "Proxy 4.159.24.156:8080 failed for https://www.halfbakedharvest.com/mini-vegan-no-bake-chocolate-mocha-fudge-and-coconut-tarts/: ('Connection aborted.', ConnectionResetError(54, 'Connection reset by peer'))\n",
      "Proxy 20.26.186.150:8080 failed for https://www.halfbakedharvest.com/ginger-hibiscus-and-minty-watermelon-popsicles/: ('Connection aborted.', ConnectionResetError(54, 'Connection reset by peer'))\n",
      "Proxy 4.234.52.159:8080 failed for https://www.halfbakedharvest.com/brooklyn-blackout-cake/: HTTPSConnectionPool(host='www.halfbakedharvest.com', port=443): Max retries exceeded with url: /brooklyn-blackout-cake/ (Caused by ProxyError('Unable to connect to proxy', ConnectTimeoutError(<urllib3.connection.HTTPSConnection object at 0x132872700>, 'Connection to 4.234.52.159 timed out. (connect timeout=30)')))\n",
      "Proxy 4.159.24.156:8080 failed for https://www.halfbakedharvest.com/deep-dark-rosy-red-velvet-cupcakes/: ('Connection aborted.', ConnectionResetError(54, 'Connection reset by peer'))\n"
     ]
    },
    {
     "data": {
      "application/javascript": [
       "\n",
       "        if (window._pyforest_update_imports_cell) { window._pyforest_update_imports_cell('import re'); }\n",
       "    "
      ],
      "text/plain": [
       "<IPython.core.display.Javascript object>"
      ]
     },
     "metadata": {},
     "output_type": "display_data"
    },
    {
     "data": {
      "application/javascript": [
       "\n",
       "        if (window._pyforest_update_imports_cell) { window._pyforest_update_imports_cell('import re'); }\n",
       "    "
      ],
      "text/plain": [
       "<IPython.core.display.Javascript object>"
      ]
     },
     "metadata": {},
     "output_type": "display_data"
    },
    {
     "data": {
      "application/javascript": [
       "\n",
       "        if (window._pyforest_update_imports_cell) { window._pyforest_update_imports_cell('import re'); }\n",
       "    "
      ],
      "text/plain": [
       "<IPython.core.display.Javascript object>"
      ]
     },
     "metadata": {},
     "output_type": "display_data"
    },
    {
     "name": "stdout",
     "output_type": "stream",
     "text": [
      "Successfully retrieved 698 - https://www.halfbakedharvest.com/kahlua-chocolate-pudding-oatmeal-chocolate-chip-cookies/ with proxy 20.26.186.150:8080\n",
      "Proxy 4.234.52.159:8080 failed for https://www.halfbakedharvest.com/best-peanut-butter-cup-fudge-brownies/: ('Connection aborted.', ConnectionResetError(54, 'Connection reset by peer'))\n",
      "Proxy 4.159.24.156:8080 failed for https://www.halfbakedharvest.com/chocolate-fudge-swirled-lemon-ricotta-tart/: ('Connection aborted.', ConnectionResetError(54, 'Connection reset by peer'))\n",
      "Proxy 20.26.186.150:8080 failed for https://www.halfbakedharvest.com/vanilla-cream-filled-cabernet-hot-chocolate-snowball-doughnuts/: ('Connection aborted.', ConnectionResetError(54, 'Connection reset by peer'))\n"
     ]
    },
    {
     "data": {
      "application/javascript": [
       "\n",
       "        if (window._pyforest_update_imports_cell) { window._pyforest_update_imports_cell('import re'); }\n",
       "    "
      ],
      "text/plain": [
       "<IPython.core.display.Javascript object>"
      ]
     },
     "metadata": {},
     "output_type": "display_data"
    },
    {
     "data": {
      "application/javascript": [
       "\n",
       "        if (window._pyforest_update_imports_cell) { window._pyforest_update_imports_cell('import re'); }\n",
       "    "
      ],
      "text/plain": [
       "<IPython.core.display.Javascript object>"
      ]
     },
     "metadata": {},
     "output_type": "display_data"
    },
    {
     "data": {
      "application/javascript": [
       "\n",
       "        if (window._pyforest_update_imports_cell) { window._pyforest_update_imports_cell('import re'); }\n",
       "    "
      ],
      "text/plain": [
       "<IPython.core.display.Javascript object>"
      ]
     },
     "metadata": {},
     "output_type": "display_data"
    },
    {
     "name": "stdout",
     "output_type": "stream",
     "text": [
      "Successfully retrieved 702 - https://www.halfbakedharvest.com/dark-chocolate-dipped-crunchy-coconut-cashew-sesame-bars/ with proxy 4.234.52.159:8080\n",
      "Proxy 4.159.24.156:8080 failed for https://www.halfbakedharvest.com/vanilla-chia-earl-grey-chocolate-banana-muffins/: HTTPSConnectionPool(host='www.halfbakedharvest.com', port=443): Max retries exceeded with url: /vanilla-chia-earl-grey-chocolate-banana-muffins/ (Caused by ProxyError('Unable to connect to proxy', ConnectTimeoutError(<urllib3.connection.HTTPSConnection object at 0x132a67610>, 'Connection to 4.159.24.156 timed out. (connect timeout=30)')))\n",
      "Proxy 20.26.186.150:8080 failed for https://www.halfbakedharvest.com/chocolate-truffle-martini-dulce-de-leche-rum-butter-truffles/: ('Connection aborted.', ConnectionResetError(54, 'Connection reset by peer'))\n",
      "Proxy 4.234.52.159:8080 failed for https://www.halfbakedharvest.com/eggnog-chocolate-marzipan-babka-french-toast/: HTTPSConnectionPool(host='www.halfbakedharvest.com', port=443): Max retries exceeded with url: /eggnog-chocolate-marzipan-babka-french-toast/ (Caused by ProxyError('Unable to connect to proxy', ConnectTimeoutError(<urllib3.connection.HTTPSConnection object at 0x132a67a60>, 'Connection to 4.234.52.159 timed out. (connect timeout=30)')))\n"
     ]
    },
    {
     "data": {
      "application/javascript": [
       "\n",
       "        if (window._pyforest_update_imports_cell) { window._pyforest_update_imports_cell('import re'); }\n",
       "    "
      ],
      "text/plain": [
       "<IPython.core.display.Javascript object>"
      ]
     },
     "metadata": {},
     "output_type": "display_data"
    },
    {
     "data": {
      "application/javascript": [
       "\n",
       "        if (window._pyforest_update_imports_cell) { window._pyforest_update_imports_cell('import re'); }\n",
       "    "
      ],
      "text/plain": [
       "<IPython.core.display.Javascript object>"
      ]
     },
     "metadata": {},
     "output_type": "display_data"
    },
    {
     "data": {
      "application/javascript": [
       "\n",
       "        if (window._pyforest_update_imports_cell) { window._pyforest_update_imports_cell('import re'); }\n",
       "    "
      ],
      "text/plain": [
       "<IPython.core.display.Javascript object>"
      ]
     },
     "metadata": {},
     "output_type": "display_data"
    },
    {
     "data": {
      "application/javascript": [
       "\n",
       "        if (window._pyforest_update_imports_cell) { window._pyforest_update_imports_cell('import re'); }\n",
       "    "
      ],
      "text/plain": [
       "<IPython.core.display.Javascript object>"
      ]
     },
     "metadata": {},
     "output_type": "display_data"
    },
    {
     "name": "stdout",
     "output_type": "stream",
     "text": [
      "Successfully retrieved 706 - https://www.halfbakedharvest.com/naughty-nice-hot-cocoa-spiked-eggnog-marshmallows/ with proxy 4.159.24.156:8080\n",
      "ChunkedEncodingError occurred for proxy 20.26.186.150:8080 and https://www.halfbakedharvest.com/chocolate-candy-bar-baklava-butter-rum-sauce/: ('Connection broken: IncompleteRead(8730 bytes read, 1510 more expected)', IncompleteRead(8730 bytes read, 1510 more expected))\n",
      "Proxy 4.234.52.159:8080 failed for https://www.halfbakedharvest.com/chocolate-chip-cookie-bottomed-salted-rum-caramel-tart-toasted-marshmallow/: HTTPSConnectionPool(host='www.halfbakedharvest.com', port=443): Max retries exceeded with url: /chocolate-chip-cookie-bottomed-salted-rum-caramel-tart-toasted-marshmallow/ (Caused by ProxyError('Unable to connect to proxy', ConnectTimeoutError(<urllib3.connection.HTTPSConnection object at 0x122d25ac0>, 'Connection to 4.234.52.159 timed out. (connect timeout=30)')))\n",
      "ChunkedEncodingError occurred for proxy 4.159.24.156:8080 and https://www.halfbakedharvest.com/triple-chocolate-truffle-cheesecake-cookies/: (\"Connection broken: InvalidChunkLength(got length b'', 0 bytes read)\", InvalidChunkLength(got length b'', 0 bytes read))\n"
     ]
    },
    {
     "data": {
      "application/javascript": [
       "\n",
       "        if (window._pyforest_update_imports_cell) { window._pyforest_update_imports_cell('import re'); }\n",
       "    "
      ],
      "text/plain": [
       "<IPython.core.display.Javascript object>"
      ]
     },
     "metadata": {},
     "output_type": "display_data"
    },
    {
     "data": {
      "application/javascript": [
       "\n",
       "        if (window._pyforest_update_imports_cell) { window._pyforest_update_imports_cell('import re'); }\n",
       "    "
      ],
      "text/plain": [
       "<IPython.core.display.Javascript object>"
      ]
     },
     "metadata": {},
     "output_type": "display_data"
    },
    {
     "data": {
      "application/javascript": [
       "\n",
       "        if (window._pyforest_update_imports_cell) { window._pyforest_update_imports_cell('import re'); }\n",
       "    "
      ],
      "text/plain": [
       "<IPython.core.display.Javascript object>"
      ]
     },
     "metadata": {},
     "output_type": "display_data"
    },
    {
     "name": "stdout",
     "output_type": "stream",
     "text": [
      "Successfully retrieved 710 - https://www.halfbakedharvest.com/homemade-holidays-coconut-caramel-stuffed-chocolate-covered-pretzel-presents/ with proxy 20.26.186.150:8080\n"
     ]
    },
    {
     "data": {
      "application/javascript": [
       "\n",
       "        if (window._pyforest_update_imports_cell) { window._pyforest_update_imports_cell('import re'); }\n",
       "    "
      ],
      "text/plain": [
       "<IPython.core.display.Javascript object>"
      ]
     },
     "metadata": {},
     "output_type": "display_data"
    },
    {
     "data": {
      "application/javascript": [
       "\n",
       "        if (window._pyforest_update_imports_cell) { window._pyforest_update_imports_cell('import re'); }\n",
       "    "
      ],
      "text/plain": [
       "<IPython.core.display.Javascript object>"
      ]
     },
     "metadata": {},
     "output_type": "display_data"
    },
    {
     "data": {
      "application/javascript": [
       "\n",
       "        if (window._pyforest_update_imports_cell) { window._pyforest_update_imports_cell('import re'); }\n",
       "    "
      ],
      "text/plain": [
       "<IPython.core.display.Javascript object>"
      ]
     },
     "metadata": {},
     "output_type": "display_data"
    },
    {
     "data": {
      "application/javascript": [
       "\n",
       "        if (window._pyforest_update_imports_cell) { window._pyforest_update_imports_cell('import re'); }\n",
       "    "
      ],
      "text/plain": [
       "<IPython.core.display.Javascript object>"
      ]
     },
     "metadata": {},
     "output_type": "display_data"
    },
    {
     "name": "stdout",
     "output_type": "stream",
     "text": [
      "Successfully retrieved 711 - https://www.halfbakedharvest.com/gingerbread-surprise-beignets-spiced-mocha-hot-chocolate/ with proxy 4.234.52.159:8080\n",
      "Proxy 4.159.24.156:8080 failed for https://www.halfbakedharvest.com/easy-slice-n-bake-vanilla-bean-christmas-sugar-cookies-wwhipped-buttercream/: ('Connection aborted.', ConnectionResetError(54, 'Connection reset by peer'))\n"
     ]
    },
    {
     "data": {
      "application/javascript": [
       "\n",
       "        if (window._pyforest_update_imports_cell) { window._pyforest_update_imports_cell('import re'); }\n",
       "    "
      ],
      "text/plain": [
       "<IPython.core.display.Javascript object>"
      ]
     },
     "metadata": {},
     "output_type": "display_data"
    },
    {
     "data": {
      "application/javascript": [
       "\n",
       "        if (window._pyforest_update_imports_cell) { window._pyforest_update_imports_cell('import re'); }\n",
       "    "
      ],
      "text/plain": [
       "<IPython.core.display.Javascript object>"
      ]
     },
     "metadata": {},
     "output_type": "display_data"
    },
    {
     "data": {
      "application/javascript": [
       "\n",
       "        if (window._pyforest_update_imports_cell) { window._pyforest_update_imports_cell('import re'); }\n",
       "    "
      ],
      "text/plain": [
       "<IPython.core.display.Javascript object>"
      ]
     },
     "metadata": {},
     "output_type": "display_data"
    },
    {
     "data": {
      "application/javascript": [
       "\n",
       "        if (window._pyforest_update_imports_cell) { window._pyforest_update_imports_cell('import re'); }\n",
       "    "
      ],
      "text/plain": [
       "<IPython.core.display.Javascript object>"
      ]
     },
     "metadata": {},
     "output_type": "display_data"
    },
    {
     "name": "stdout",
     "output_type": "stream",
     "text": [
      "Successfully retrieved 713 - https://www.halfbakedharvest.com/loaded-chocolate-hazelnut-liquor-turnovers-salted-vanilla-bean-whipped-cream/ with proxy 20.26.186.150:8080\n",
      "Proxy 4.234.52.159:8080 failed for https://www.halfbakedharvest.com/idiot-proof-5-ingredient-puppy-chow-ritz-cracker-cookies/: ('Connection aborted.', ConnectionResetError(54, 'Connection reset by peer'))\n",
      "Proxy 4.159.24.156:8080 failed for https://www.halfbakedharvest.com/incredibly-gooey-collapsing-chocolate-bourbon-pecan-pie-custard-cake/: ('Connection aborted.', ConnectionResetError(54, 'Connection reset by peer'))\n",
      "ChunkedEncodingError occurred for proxy 20.26.186.150:8080 and https://www.halfbakedharvest.com/chocolate-drizzled-buttery-pecan-caramelized-condensed-milk-cookies/: ('Connection broken: IncompleteRead(1418 bytes read, 8822 more expected)', IncompleteRead(1418 bytes read, 8822 more expected))\n",
      "Proxy 4.234.52.159:8080 failed for https://www.halfbakedharvest.com/warm-toasted-caramel-coconut-gooey-chocolate-crunch-bars/: ('Connection aborted.', ConnectionResetError(54, 'Connection reset by peer'))\n",
      "ChunkedEncodingError occurred for proxy 4.159.24.156:8080 and https://www.halfbakedharvest.com/cinnamon-sugar-nutella-swirled-pumpkin-pie-pop-tarts/: ('Connection broken: IncompleteRead(4223 bytes read, 6017 more expected)', IncompleteRead(4223 bytes read, 6017 more expected))\n"
     ]
    },
    {
     "data": {
      "application/javascript": [
       "\n",
       "        if (window._pyforest_update_imports_cell) { window._pyforest_update_imports_cell('import re'); }\n",
       "    "
      ],
      "text/plain": [
       "<IPython.core.display.Javascript object>"
      ]
     },
     "metadata": {},
     "output_type": "display_data"
    },
    {
     "data": {
      "application/javascript": [
       "\n",
       "        if (window._pyforest_update_imports_cell) { window._pyforest_update_imports_cell('import re'); }\n",
       "    "
      ],
      "text/plain": [
       "<IPython.core.display.Javascript object>"
      ]
     },
     "metadata": {},
     "output_type": "display_data"
    },
    {
     "data": {
      "application/javascript": [
       "\n",
       "        if (window._pyforest_update_imports_cell) { window._pyforest_update_imports_cell('import re'); }\n",
       "    "
      ],
      "text/plain": [
       "<IPython.core.display.Javascript object>"
      ]
     },
     "metadata": {},
     "output_type": "display_data"
    },
    {
     "data": {
      "application/javascript": [
       "\n",
       "        if (window._pyforest_update_imports_cell) { window._pyforest_update_imports_cell('import re'); }\n",
       "    "
      ],
      "text/plain": [
       "<IPython.core.display.Javascript object>"
      ]
     },
     "metadata": {},
     "output_type": "display_data"
    },
    {
     "name": "stdout",
     "output_type": "stream",
     "text": [
      "Successfully retrieved 719 - https://www.halfbakedharvest.com/mini-chocolate-pumpkin-seed-candy-peanut-butter-cups/ with proxy 20.26.186.150:8080\n"
     ]
    },
    {
     "data": {
      "application/javascript": [
       "\n",
       "        if (window._pyforest_update_imports_cell) { window._pyforest_update_imports_cell('import re'); }\n",
       "    "
      ],
      "text/plain": [
       "<IPython.core.display.Javascript object>"
      ]
     },
     "metadata": {},
     "output_type": "display_data"
    },
    {
     "data": {
      "application/javascript": [
       "\n",
       "        if (window._pyforest_update_imports_cell) { window._pyforest_update_imports_cell('import re'); }\n",
       "    "
      ],
      "text/plain": [
       "<IPython.core.display.Javascript object>"
      ]
     },
     "metadata": {},
     "output_type": "display_data"
    },
    {
     "data": {
      "application/javascript": [
       "\n",
       "        if (window._pyforest_update_imports_cell) { window._pyforest_update_imports_cell('import re'); }\n",
       "    "
      ],
      "text/plain": [
       "<IPython.core.display.Javascript object>"
      ]
     },
     "metadata": {},
     "output_type": "display_data"
    },
    {
     "name": "stdout",
     "output_type": "stream",
     "text": [
      "Successfully retrieved 720 - https://www.halfbakedharvest.com/chewy-brown-sugar-maple-cookies/ with proxy 4.234.52.159:8080\n",
      "Proxy 4.159.24.156:8080 failed for https://www.halfbakedharvest.com/baked-apple-cider-doughnuts/: ('Connection aborted.', ConnectionResetError(54, 'Connection reset by peer'))\n"
     ]
    },
    {
     "data": {
      "application/javascript": [
       "\n",
       "        if (window._pyforest_update_imports_cell) { window._pyforest_update_imports_cell('import re'); }\n",
       "    "
      ],
      "text/plain": [
       "<IPython.core.display.Javascript object>"
      ]
     },
     "metadata": {},
     "output_type": "display_data"
    },
    {
     "data": {
      "application/javascript": [
       "\n",
       "        if (window._pyforest_update_imports_cell) { window._pyforest_update_imports_cell('import re'); }\n",
       "    "
      ],
      "text/plain": [
       "<IPython.core.display.Javascript object>"
      ]
     },
     "metadata": {},
     "output_type": "display_data"
    },
    {
     "data": {
      "application/javascript": [
       "\n",
       "        if (window._pyforest_update_imports_cell) { window._pyforest_update_imports_cell('import re'); }\n",
       "    "
      ],
      "text/plain": [
       "<IPython.core.display.Javascript object>"
      ]
     },
     "metadata": {},
     "output_type": "display_data"
    },
    {
     "name": "stdout",
     "output_type": "stream",
     "text": [
      "Successfully retrieved 722 - https://www.halfbakedharvest.com/iced-fudge-brownies/ with proxy 20.26.186.150:8080\n"
     ]
    },
    {
     "data": {
      "application/javascript": [
       "\n",
       "        if (window._pyforest_update_imports_cell) { window._pyforest_update_imports_cell('import re'); }\n",
       "    "
      ],
      "text/plain": [
       "<IPython.core.display.Javascript object>"
      ]
     },
     "metadata": {},
     "output_type": "display_data"
    },
    {
     "data": {
      "application/javascript": [
       "\n",
       "        if (window._pyforest_update_imports_cell) { window._pyforest_update_imports_cell('import re'); }\n",
       "    "
      ],
      "text/plain": [
       "<IPython.core.display.Javascript object>"
      ]
     },
     "metadata": {},
     "output_type": "display_data"
    },
    {
     "data": {
      "application/javascript": [
       "\n",
       "        if (window._pyforest_update_imports_cell) { window._pyforest_update_imports_cell('import re'); }\n",
       "    "
      ],
      "text/plain": [
       "<IPython.core.display.Javascript object>"
      ]
     },
     "metadata": {},
     "output_type": "display_data"
    },
    {
     "name": "stdout",
     "output_type": "stream",
     "text": [
      "Successfully retrieved 723 - https://www.halfbakedharvest.com/chocolate-zucchini-banana-cake/ with proxy 4.234.52.159:8080\n",
      "Proxy 4.159.24.156:8080 failed for https://www.halfbakedharvest.com/vegan-double-chocolate-chunk-cookies/: ('Connection aborted.', ConnectionResetError(54, 'Connection reset by peer'))\n",
      "ChunkedEncodingError occurred for proxy 20.26.186.150:8080 and https://www.halfbakedharvest.com/blackberry-lavender-sheet-cake/: ('Connection broken: IncompleteRead(4223 bytes read, 6017 more expected)', IncompleteRead(4223 bytes read, 6017 more expected))\n"
     ]
    },
    {
     "data": {
      "application/javascript": [
       "\n",
       "        if (window._pyforest_update_imports_cell) { window._pyforest_update_imports_cell('import re'); }\n",
       "    "
      ],
      "text/plain": [
       "<IPython.core.display.Javascript object>"
      ]
     },
     "metadata": {},
     "output_type": "display_data"
    },
    {
     "data": {
      "application/javascript": [
       "\n",
       "        if (window._pyforest_update_imports_cell) { window._pyforest_update_imports_cell('import re'); }\n",
       "    "
      ],
      "text/plain": [
       "<IPython.core.display.Javascript object>"
      ]
     },
     "metadata": {},
     "output_type": "display_data"
    },
    {
     "data": {
      "application/javascript": [
       "\n",
       "        if (window._pyforest_update_imports_cell) { window._pyforest_update_imports_cell('import re'); }\n",
       "    "
      ],
      "text/plain": [
       "<IPython.core.display.Javascript object>"
      ]
     },
     "metadata": {},
     "output_type": "display_data"
    },
    {
     "name": "stdout",
     "output_type": "stream",
     "text": [
      "Successfully retrieved 726 - https://www.halfbakedharvest.com/coffee-and-fudge-ice-cream-cake/ with proxy 4.234.52.159:8080\n"
     ]
    },
    {
     "data": {
      "application/javascript": [
       "\n",
       "        if (window._pyforest_update_imports_cell) { window._pyforest_update_imports_cell('import re'); }\n",
       "    "
      ],
      "text/plain": [
       "<IPython.core.display.Javascript object>"
      ]
     },
     "metadata": {},
     "output_type": "display_data"
    },
    {
     "data": {
      "application/javascript": [
       "\n",
       "        if (window._pyforest_update_imports_cell) { window._pyforest_update_imports_cell('import re'); }\n",
       "    "
      ],
      "text/plain": [
       "<IPython.core.display.Javascript object>"
      ]
     },
     "metadata": {},
     "output_type": "display_data"
    },
    {
     "data": {
      "application/javascript": [
       "\n",
       "        if (window._pyforest_update_imports_cell) { window._pyforest_update_imports_cell('import re'); }\n",
       "    "
      ],
      "text/plain": [
       "<IPython.core.display.Javascript object>"
      ]
     },
     "metadata": {},
     "output_type": "display_data"
    },
    {
     "name": "stdout",
     "output_type": "stream",
     "text": [
      "Successfully retrieved 727 - https://www.halfbakedharvest.com/iced-brown-sugar-latte/ with proxy 4.159.24.156:8080\n",
      "Proxy 20.26.186.150:8080 failed for https://www.halfbakedharvest.com/raspberry-peach-sherbet/: ('Connection aborted.', ConnectionResetError(54, 'Connection reset by peer'))\n",
      "Proxy 4.234.52.159:8080 failed for https://www.halfbakedharvest.com/frozen-chocolate-peanut-butter-cups/: HTTPSConnectionPool(host='www.halfbakedharvest.com', port=443): Max retries exceeded with url: /frozen-chocolate-peanut-butter-cups/ (Caused by ProxyError('Unable to connect to proxy', ConnectTimeoutError(<urllib3.connection.HTTPSConnection object at 0x132150dc0>, 'Connection to 4.234.52.159 timed out. (connect timeout=30)')))\n",
      "Proxy 4.159.24.156:8080 failed for https://www.halfbakedharvest.com/brown-sugar-peach-shortcakes/: ('Connection aborted.', ConnectionResetError(54, 'Connection reset by peer'))\n"
     ]
    },
    {
     "data": {
      "application/javascript": [
       "\n",
       "        if (window._pyforest_update_imports_cell) { window._pyforest_update_imports_cell('import re'); }\n",
       "    "
      ],
      "text/plain": [
       "<IPython.core.display.Javascript object>"
      ]
     },
     "metadata": {},
     "output_type": "display_data"
    },
    {
     "name": "stdout",
     "output_type": "stream",
     "text": [
      "Successfully retrieved 731 - https://www.halfbakedharvest.com/chocolate-frosty/ with proxy 20.26.186.150:8080\n"
     ]
    },
    {
     "data": {
      "application/javascript": [
       "\n",
       "        if (window._pyforest_update_imports_cell) { window._pyforest_update_imports_cell('import re'); }\n",
       "    "
      ],
      "text/plain": [
       "<IPython.core.display.Javascript object>"
      ]
     },
     "metadata": {},
     "output_type": "display_data"
    },
    {
     "data": {
      "application/javascript": [
       "\n",
       "        if (window._pyforest_update_imports_cell) { window._pyforest_update_imports_cell('import re'); }\n",
       "    "
      ],
      "text/plain": [
       "<IPython.core.display.Javascript object>"
      ]
     },
     "metadata": {},
     "output_type": "display_data"
    },
    {
     "data": {
      "application/javascript": [
       "\n",
       "        if (window._pyforest_update_imports_cell) { window._pyforest_update_imports_cell('import re'); }\n",
       "    "
      ],
      "text/plain": [
       "<IPython.core.display.Javascript object>"
      ]
     },
     "metadata": {},
     "output_type": "display_data"
    },
    {
     "data": {
      "application/javascript": [
       "\n",
       "        if (window._pyforest_update_imports_cell) { window._pyforest_update_imports_cell('import re'); }\n",
       "    "
      ],
      "text/plain": [
       "<IPython.core.display.Javascript object>"
      ]
     },
     "metadata": {},
     "output_type": "display_data"
    },
    {
     "name": "stdout",
     "output_type": "stream",
     "text": [
      "Successfully retrieved 732 - https://www.halfbakedharvest.com/berry-ice-cream-butter-cake/ with proxy 4.234.52.159:8080\n"
     ]
    },
    {
     "data": {
      "application/javascript": [
       "\n",
       "        if (window._pyforest_update_imports_cell) { window._pyforest_update_imports_cell('import re'); }\n",
       "    "
      ],
      "text/plain": [
       "<IPython.core.display.Javascript object>"
      ]
     },
     "metadata": {},
     "output_type": "display_data"
    },
    {
     "data": {
      "application/javascript": [
       "\n",
       "        if (window._pyforest_update_imports_cell) { window._pyforest_update_imports_cell('import re'); }\n",
       "    "
      ],
      "text/plain": [
       "<IPython.core.display.Javascript object>"
      ]
     },
     "metadata": {},
     "output_type": "display_data"
    },
    {
     "name": "stdout",
     "output_type": "stream",
     "text": [
      "Successfully retrieved 733 - https://www.halfbakedharvest.com/strawberry-pink-drink/ with proxy 4.159.24.156:8080\n"
     ]
    },
    {
     "data": {
      "application/javascript": [
       "\n",
       "        if (window._pyforest_update_imports_cell) { window._pyforest_update_imports_cell('import re'); }\n",
       "    "
      ],
      "text/plain": [
       "<IPython.core.display.Javascript object>"
      ]
     },
     "metadata": {},
     "output_type": "display_data"
    },
    {
     "data": {
      "application/javascript": [
       "\n",
       "        if (window._pyforest_update_imports_cell) { window._pyforest_update_imports_cell('import re'); }\n",
       "    "
      ],
      "text/plain": [
       "<IPython.core.display.Javascript object>"
      ]
     },
     "metadata": {},
     "output_type": "display_data"
    },
    {
     "name": "stdout",
     "output_type": "stream",
     "text": [
      "Successfully retrieved 734 - https://www.halfbakedharvest.com/mangonada/ with proxy 20.26.186.150:8080\n"
     ]
    },
    {
     "data": {
      "application/javascript": [
       "\n",
       "        if (window._pyforest_update_imports_cell) { window._pyforest_update_imports_cell('import re'); }\n",
       "    "
      ],
      "text/plain": [
       "<IPython.core.display.Javascript object>"
      ]
     },
     "metadata": {},
     "output_type": "display_data"
    },
    {
     "data": {
      "application/javascript": [
       "\n",
       "        if (window._pyforest_update_imports_cell) { window._pyforest_update_imports_cell('import re'); }\n",
       "    "
      ],
      "text/plain": [
       "<IPython.core.display.Javascript object>"
      ]
     },
     "metadata": {},
     "output_type": "display_data"
    },
    {
     "data": {
      "application/javascript": [
       "\n",
       "        if (window._pyforest_update_imports_cell) { window._pyforest_update_imports_cell('import re'); }\n",
       "    "
      ],
      "text/plain": [
       "<IPython.core.display.Javascript object>"
      ]
     },
     "metadata": {},
     "output_type": "display_data"
    },
    {
     "data": {
      "application/javascript": [
       "\n",
       "        if (window._pyforest_update_imports_cell) { window._pyforest_update_imports_cell('import re'); }\n",
       "    "
      ],
      "text/plain": [
       "<IPython.core.display.Javascript object>"
      ]
     },
     "metadata": {},
     "output_type": "display_data"
    },
    {
     "name": "stdout",
     "output_type": "stream",
     "text": [
      "Successfully retrieved 735 - https://www.halfbakedharvest.com/5-ingredient-peach-dump/ with proxy 4.234.52.159:8080\n",
      "Proxy 4.159.24.156:8080 failed for https://www.halfbakedharvest.com/buster-bars/: ('Connection aborted.', ConnectionResetError(54, 'Connection reset by peer'))\n",
      "ChunkedEncodingError occurred for proxy 20.26.186.150:8080 and https://www.halfbakedharvest.com/creamy-fruit-popsicles/: ('Connection broken: IncompleteRead(5334 bytes read, 4906 more expected)', IncompleteRead(5334 bytes read, 4906 more expected))\n",
      "Proxy 4.234.52.159:8080 failed for https://www.halfbakedharvest.com/blueberry-lavender-pie/: HTTPSConnectionPool(host='www.halfbakedharvest.com', port=443): Max retries exceeded with url: /blueberry-lavender-pie/ (Caused by ProxyError('Unable to connect to proxy', ConnectTimeoutError(<urllib3.connection.HTTPSConnection object at 0x1321c8970>, 'Connection to 4.234.52.159 timed out. (connect timeout=30)')))\n",
      "Proxy 4.159.24.156:8080 failed for https://www.halfbakedharvest.com/smores-skillet-brownie/: HTTPSConnectionPool(host='www.halfbakedharvest.com', port=443): Max retries exceeded with url: /smores-skillet-brownie/ (Caused by ProxyError('Unable to connect to proxy', ConnectTimeoutError(<urllib3.connection.HTTPSConnection object at 0x1321cd760>, 'Connection to 4.159.24.156 timed out. (connect timeout=30)')))\n",
      "Proxy 20.26.186.150:8080 failed for https://www.halfbakedharvest.com/blackberry-peach-crisp/: ('Connection aborted.', ConnectionResetError(54, 'Connection reset by peer'))\n",
      "Proxy 4.234.52.159:8080 failed for https://www.halfbakedharvest.com/strawberry-and-cream-rye-pretzel-tart/: ('Connection aborted.', ConnectionResetError(54, 'Connection reset by peer'))\n",
      "Proxy 4.159.24.156:8080 failed for https://www.halfbakedharvest.com/cookies-n-cream-chocolate-chip-cookies/: ('Connection aborted.', ConnectionResetError(54, 'Connection reset by peer'))\n",
      "Proxy 20.26.186.150:8080 failed for https://www.halfbakedharvest.com/peanut-butter-mocha-oreo-ice-cream-sandwiches/: ('Connection aborted.', ConnectionResetError(54, 'Connection reset by peer'))\n",
      "Proxy 4.234.52.159:8080 failed for https://www.halfbakedharvest.com/double-stuffed-pumpkin-pie-oreos/: ('Connection aborted.', ConnectionResetError(54, 'Connection reset by peer'))\n",
      "Proxy 4.159.24.156:8080 failed for https://www.halfbakedharvest.com/vegan-gooey-chocolate-doughnuts-giveaway/: ('Connection aborted.', ConnectionResetError(54, 'Connection reset by peer'))\n",
      "Proxy 20.26.186.150:8080 failed for https://www.halfbakedharvest.com/chocolate-chip-pumpkin-cinnamon-roll-dutch-baby/: ('Connection aborted.', ConnectionResetError(54, 'Connection reset by peer'))\n",
      "Proxy 4.234.52.159:8080 failed for https://www.halfbakedharvest.com/salted-pretzel-chocolate-chip-cookie-dough-snickers-bars/: ('Connection aborted.', ConnectionResetError(54, 'Connection reset by peer'))\n"
     ]
    },
    {
     "data": {
      "application/javascript": [
       "\n",
       "        if (window._pyforest_update_imports_cell) { window._pyforest_update_imports_cell('import re'); }\n",
       "    "
      ],
      "text/plain": [
       "<IPython.core.display.Javascript object>"
      ]
     },
     "metadata": {},
     "output_type": "display_data"
    },
    {
     "data": {
      "application/javascript": [
       "\n",
       "        if (window._pyforest_update_imports_cell) { window._pyforest_update_imports_cell('import re'); }\n",
       "    "
      ],
      "text/plain": [
       "<IPython.core.display.Javascript object>"
      ]
     },
     "metadata": {},
     "output_type": "display_data"
    },
    {
     "data": {
      "application/javascript": [
       "\n",
       "        if (window._pyforest_update_imports_cell) { window._pyforest_update_imports_cell('import re'); }\n",
       "    "
      ],
      "text/plain": [
       "<IPython.core.display.Javascript object>"
      ]
     },
     "metadata": {},
     "output_type": "display_data"
    },
    {
     "name": "stdout",
     "output_type": "stream",
     "text": [
      "Successfully retrieved 748 - https://www.halfbakedharvest.com/toasted-coconut-chocolate-pumpkin-spice-latte-chocolate-drizzle/ with proxy 4.159.24.156:8080\n",
      "Proxy 20.26.186.150:8080 failed for https://www.halfbakedharvest.com/peanut-butter-cup-cookies-cream-salted-caramel-popcorn-bars/: ('Connection aborted.', ConnectionResetError(54, 'Connection reset by peer'))\n"
     ]
    },
    {
     "data": {
      "application/javascript": [
       "\n",
       "        if (window._pyforest_update_imports_cell) { window._pyforest_update_imports_cell('import re'); }\n",
       "    "
      ],
      "text/plain": [
       "<IPython.core.display.Javascript object>"
      ]
     },
     "metadata": {},
     "output_type": "display_data"
    },
    {
     "data": {
      "application/javascript": [
       "\n",
       "        if (window._pyforest_update_imports_cell) { window._pyforest_update_imports_cell('import re'); }\n",
       "    "
      ],
      "text/plain": [
       "<IPython.core.display.Javascript object>"
      ]
     },
     "metadata": {},
     "output_type": "display_data"
    },
    {
     "data": {
      "application/javascript": [
       "\n",
       "        if (window._pyforest_update_imports_cell) { window._pyforest_update_imports_cell('import re'); }\n",
       "    "
      ],
      "text/plain": [
       "<IPython.core.display.Javascript object>"
      ]
     },
     "metadata": {},
     "output_type": "display_data"
    },
    {
     "name": "stdout",
     "output_type": "stream",
     "text": [
      "Successfully retrieved 750 - https://www.halfbakedharvest.com/apple-pecan-pie-cronuts-apple-cider-caramel-drizzle/ with proxy 4.234.52.159:8080\n"
     ]
    },
    {
     "data": {
      "application/javascript": [
       "\n",
       "        if (window._pyforest_update_imports_cell) { window._pyforest_update_imports_cell('import re'); }\n",
       "    "
      ],
      "text/plain": [
       "<IPython.core.display.Javascript object>"
      ]
     },
     "metadata": {},
     "output_type": "display_data"
    },
    {
     "data": {
      "application/javascript": [
       "\n",
       "        if (window._pyforest_update_imports_cell) { window._pyforest_update_imports_cell('import re'); }\n",
       "    "
      ],
      "text/plain": [
       "<IPython.core.display.Javascript object>"
      ]
     },
     "metadata": {},
     "output_type": "display_data"
    },
    {
     "data": {
      "application/javascript": [
       "\n",
       "        if (window._pyforest_update_imports_cell) { window._pyforest_update_imports_cell('import re'); }\n",
       "    "
      ],
      "text/plain": [
       "<IPython.core.display.Javascript object>"
      ]
     },
     "metadata": {},
     "output_type": "display_data"
    },
    {
     "name": "stdout",
     "output_type": "stream",
     "text": [
      "Successfully retrieved 751 - https://www.halfbakedharvest.com/roasted-apple-pecan-brie-buckwheat-waffles-caramel-drizzle/ with proxy 4.159.24.156:8080\n",
      "Proxy 20.26.186.150:8080 failed for https://www.halfbakedharvest.com/homemade-croissants-step-step-photos/: ('Connection aborted.', RemoteDisconnected('Remote end closed connection without response'))\n",
      "Proxy 4.234.52.159:8080 failed for https://www.halfbakedharvest.com/ultimate-triple-layer-chocolate-bourbon-peanut-butter-buckeye-cake/: HTTPSConnectionPool(host='www.halfbakedharvest.com', port=443): Max retries exceeded with url: /ultimate-triple-layer-chocolate-bourbon-peanut-butter-buckeye-cake/ (Caused by ProxyError('Unable to connect to proxy', ConnectTimeoutError(<urllib3.connection.HTTPSConnection object at 0x132155ee0>, 'Connection to 4.234.52.159 timed out. (connect timeout=30)')))\n",
      "Proxy 4.159.24.156:8080 failed for https://www.halfbakedharvest.com/whole-wheat-chocolate-chip-pumpkin-cookie-bars/: ('Connection aborted.', ConnectionResetError(54, 'Connection reset by peer'))\n",
      "Proxy 20.26.186.150:8080 failed for https://www.halfbakedharvest.com/brown-butter-vanilla-bean-nutella-swirled-rice-krispie-treats/: ('Connection aborted.', ConnectionResetError(54, 'Connection reset by peer'))\n"
     ]
    },
    {
     "data": {
      "application/javascript": [
       "\n",
       "        if (window._pyforest_update_imports_cell) { window._pyforest_update_imports_cell('import re'); }\n",
       "    "
      ],
      "text/plain": [
       "<IPython.core.display.Javascript object>"
      ]
     },
     "metadata": {},
     "output_type": "display_data"
    },
    {
     "data": {
      "application/javascript": [
       "\n",
       "        if (window._pyforest_update_imports_cell) { window._pyforest_update_imports_cell('import re'); }\n",
       "    "
      ],
      "text/plain": [
       "<IPython.core.display.Javascript object>"
      ]
     },
     "metadata": {},
     "output_type": "display_data"
    },
    {
     "data": {
      "application/javascript": [
       "\n",
       "        if (window._pyforest_update_imports_cell) { window._pyforest_update_imports_cell('import re'); }\n",
       "    "
      ],
      "text/plain": [
       "<IPython.core.display.Javascript object>"
      ]
     },
     "metadata": {},
     "output_type": "display_data"
    },
    {
     "data": {
      "application/javascript": [
       "\n",
       "        if (window._pyforest_update_imports_cell) { window._pyforest_update_imports_cell('import re'); }\n",
       "    "
      ],
      "text/plain": [
       "<IPython.core.display.Javascript object>"
      ]
     },
     "metadata": {},
     "output_type": "display_data"
    },
    {
     "name": "stdout",
     "output_type": "stream",
     "text": [
      "Successfully retrieved 756 - https://www.halfbakedharvest.com/chewy-chocolate-drenched-peanut-butter-cornflake-crunch-fudge-brownies/ with proxy 4.234.52.159:8080\n",
      "Proxy 4.159.24.156:8080 failed for https://www.halfbakedharvest.com/chocolate-chip-banana-fluffernutter-sandwich-cookies/: HTTPSConnectionPool(host='www.halfbakedharvest.com', port=443): Max retries exceeded with url: /chocolate-chip-banana-fluffernutter-sandwich-cookies/ (Caused by ProxyError('Unable to connect to proxy', ConnectTimeoutError(<urllib3.connection.HTTPSConnection object at 0x132d5c700>, 'Connection to 4.159.24.156 timed out. (connect timeout=30)')))\n",
      "Proxy 20.26.186.150:8080 failed for https://www.halfbakedharvest.com/chocolate-lovers-triple-layer-coffee-caramel-chocolate-mousse-cakes/: ('Connection aborted.', ConnectionResetError(54, 'Connection reset by peer'))\n"
     ]
    },
    {
     "data": {
      "application/javascript": [
       "\n",
       "        if (window._pyforest_update_imports_cell) { window._pyforest_update_imports_cell('import re'); }\n",
       "    "
      ],
      "text/plain": [
       "<IPython.core.display.Javascript object>"
      ]
     },
     "metadata": {},
     "output_type": "display_data"
    },
    {
     "data": {
      "application/javascript": [
       "\n",
       "        if (window._pyforest_update_imports_cell) { window._pyforest_update_imports_cell('import re'); }\n",
       "    "
      ],
      "text/plain": [
       "<IPython.core.display.Javascript object>"
      ]
     },
     "metadata": {},
     "output_type": "display_data"
    },
    {
     "data": {
      "application/javascript": [
       "\n",
       "        if (window._pyforest_update_imports_cell) { window._pyforest_update_imports_cell('import re'); }\n",
       "    "
      ],
      "text/plain": [
       "<IPython.core.display.Javascript object>"
      ]
     },
     "metadata": {},
     "output_type": "display_data"
    },
    {
     "name": "stdout",
     "output_type": "stream",
     "text": [
      "Successfully retrieved 759 - https://www.halfbakedharvest.com/nutella-stuffed-whole-wheat-peanut-butter-banana-and-zucchini-muffins/ with proxy 4.234.52.159:8080\n",
      "Proxy 4.159.24.156:8080 failed for https://www.halfbakedharvest.com/jalapeno-cheddar-cornbread-pancakes-with-roasted-blueberry-honey-syrup/: HTTPSConnectionPool(host='www.halfbakedharvest.com', port=443): Max retries exceeded with url: /jalapeno-cheddar-cornbread-pancakes-with-roasted-blueberry-honey-syrup/ (Caused by ProxyError('Unable to connect to proxy', OSError('Tunnel connection failed: 502 Bad Gateway')))\n",
      "Proxy 20.26.186.150:8080 failed for https://www.halfbakedharvest.com/honey-toasted-hazelnut-chocolate-chunk-cupcakes-with-boozy-honey-buttercream-frosting/: ('Connection aborted.', ConnectionResetError(54, 'Connection reset by peer'))\n"
     ]
    },
    {
     "data": {
      "application/javascript": [
       "\n",
       "        if (window._pyforest_update_imports_cell) { window._pyforest_update_imports_cell('import re'); }\n",
       "    "
      ],
      "text/plain": [
       "<IPython.core.display.Javascript object>"
      ]
     },
     "metadata": {},
     "output_type": "display_data"
    },
    {
     "data": {
      "application/javascript": [
       "\n",
       "        if (window._pyforest_update_imports_cell) { window._pyforest_update_imports_cell('import re'); }\n",
       "    "
      ],
      "text/plain": [
       "<IPython.core.display.Javascript object>"
      ]
     },
     "metadata": {},
     "output_type": "display_data"
    },
    {
     "data": {
      "application/javascript": [
       "\n",
       "        if (window._pyforest_update_imports_cell) { window._pyforest_update_imports_cell('import re'); }\n",
       "    "
      ],
      "text/plain": [
       "<IPython.core.display.Javascript object>"
      ]
     },
     "metadata": {},
     "output_type": "display_data"
    },
    {
     "name": "stdout",
     "output_type": "stream",
     "text": [
      "Successfully retrieved 762 - https://www.halfbakedharvest.com/homemade-strawberry-nutri-grain-bars/ with proxy 4.234.52.159:8080\n"
     ]
    },
    {
     "data": {
      "application/javascript": [
       "\n",
       "        if (window._pyforest_update_imports_cell) { window._pyforest_update_imports_cell('import re'); }\n",
       "    "
      ],
      "text/plain": [
       "<IPython.core.display.Javascript object>"
      ]
     },
     "metadata": {},
     "output_type": "display_data"
    },
    {
     "data": {
      "application/javascript": [
       "\n",
       "        if (window._pyforest_update_imports_cell) { window._pyforest_update_imports_cell('import re'); }\n",
       "    "
      ],
      "text/plain": [
       "<IPython.core.display.Javascript object>"
      ]
     },
     "metadata": {},
     "output_type": "display_data"
    },
    {
     "data": {
      "application/javascript": [
       "\n",
       "        if (window._pyforest_update_imports_cell) { window._pyforest_update_imports_cell('import re'); }\n",
       "    "
      ],
      "text/plain": [
       "<IPython.core.display.Javascript object>"
      ]
     },
     "metadata": {},
     "output_type": "display_data"
    },
    {
     "name": "stdout",
     "output_type": "stream",
     "text": [
      "Successfully retrieved 763 - https://www.halfbakedharvest.com/smore-mousse-filled-chocolate-cups/ with proxy 4.159.24.156:8080\n",
      "Proxy 20.26.186.150:8080 failed for https://www.halfbakedharvest.com/coconut-banana-cream-chocolate-truffle-pie/: ('Connection aborted.', ConnectionResetError(54, 'Connection reset by peer'))\n"
     ]
    },
    {
     "data": {
      "application/javascript": [
       "\n",
       "        if (window._pyforest_update_imports_cell) { window._pyforest_update_imports_cell('import re'); }\n",
       "    "
      ],
      "text/plain": [
       "<IPython.core.display.Javascript object>"
      ]
     },
     "metadata": {},
     "output_type": "display_data"
    },
    {
     "data": {
      "application/javascript": [
       "\n",
       "        if (window._pyforest_update_imports_cell) { window._pyforest_update_imports_cell('import re'); }\n",
       "    "
      ],
      "text/plain": [
       "<IPython.core.display.Javascript object>"
      ]
     },
     "metadata": {},
     "output_type": "display_data"
    },
    {
     "data": {
      "application/javascript": [
       "\n",
       "        if (window._pyforest_update_imports_cell) { window._pyforest_update_imports_cell('import re'); }\n",
       "    "
      ],
      "text/plain": [
       "<IPython.core.display.Javascript object>"
      ]
     },
     "metadata": {},
     "output_type": "display_data"
    },
    {
     "data": {
      "application/javascript": [
       "\n",
       "        if (window._pyforest_update_imports_cell) { window._pyforest_update_imports_cell('import re'); }\n",
       "    "
      ],
      "text/plain": [
       "<IPython.core.display.Javascript object>"
      ]
     },
     "metadata": {},
     "output_type": "display_data"
    },
    {
     "name": "stdout",
     "output_type": "stream",
     "text": [
      "Successfully retrieved 765 - https://www.halfbakedharvest.com/fudge-brownie-caramel-popcorn-oatmeal-cookie-crumble-7-layer-bars/ with proxy 4.234.52.159:8080\n",
      "Proxy 4.159.24.156:8080 failed for https://www.halfbakedharvest.com/chocolate-chip-stuffed-cinnamon-roll-ice-cream-with-vanilla-bean-brown-butter-sauce/: ('Connection aborted.', ConnectionResetError(54, 'Connection reset by peer'))\n",
      "Proxy 20.26.186.150:8080 failed for https://www.halfbakedharvest.com/chocolate-dipped-homemade-peanut-butter-oreo-mocha-ice-cream-sandwiches/: ('Connection aborted.', ConnectionResetError(54, 'Connection reset by peer'))\n"
     ]
    },
    {
     "data": {
      "application/javascript": [
       "\n",
       "        if (window._pyforest_update_imports_cell) { window._pyforest_update_imports_cell('import re'); }\n",
       "    "
      ],
      "text/plain": [
       "<IPython.core.display.Javascript object>"
      ]
     },
     "metadata": {},
     "output_type": "display_data"
    },
    {
     "data": {
      "application/javascript": [
       "\n",
       "        if (window._pyforest_update_imports_cell) { window._pyforest_update_imports_cell('import re'); }\n",
       "    "
      ],
      "text/plain": [
       "<IPython.core.display.Javascript object>"
      ]
     },
     "metadata": {},
     "output_type": "display_data"
    },
    {
     "data": {
      "application/javascript": [
       "\n",
       "        if (window._pyforest_update_imports_cell) { window._pyforest_update_imports_cell('import re'); }\n",
       "    "
      ],
      "text/plain": [
       "<IPython.core.display.Javascript object>"
      ]
     },
     "metadata": {},
     "output_type": "display_data"
    },
    {
     "data": {
      "application/javascript": [
       "\n",
       "        if (window._pyforest_update_imports_cell) { window._pyforest_update_imports_cell('import re'); }\n",
       "    "
      ],
      "text/plain": [
       "<IPython.core.display.Javascript object>"
      ]
     },
     "metadata": {},
     "output_type": "display_data"
    },
    {
     "name": "stdout",
     "output_type": "stream",
     "text": [
      "Successfully retrieved 768 - https://www.halfbakedharvest.com/cinnamon-swirl-chocolate-chip-pumpkin-butter-bread/ with proxy 4.234.52.159:8080\n",
      "Proxy 4.159.24.156:8080 failed for https://www.halfbakedharvest.com/brown-sugar-maple-cookies/: HTTPSConnectionPool(host='www.halfbakedharvest.com', port=443): Max retries exceeded with url: /brown-sugar-maple-cookies/ (Caused by ProxyError('Unable to connect to proxy', ConnectTimeoutError(<urllib3.connection.HTTPSConnection object at 0x1323600a0>, 'Connection to 4.159.24.156 timed out. (connect timeout=30)')))\n",
      "Proxy 20.26.186.150:8080 failed for https://www.halfbakedharvest.com/salted-pretzel-chocolate-chip-cookie-snickers-bars/: ('Connection aborted.', ConnectionResetError(54, 'Connection reset by peer'))\n"
     ]
    },
    {
     "data": {
      "application/javascript": [
       "\n",
       "        if (window._pyforest_update_imports_cell) { window._pyforest_update_imports_cell('import re'); }\n",
       "    "
      ],
      "text/plain": [
       "<IPython.core.display.Javascript object>"
      ]
     },
     "metadata": {},
     "output_type": "display_data"
    },
    {
     "data": {
      "application/javascript": [
       "\n",
       "        if (window._pyforest_update_imports_cell) { window._pyforest_update_imports_cell('import re'); }\n",
       "    "
      ],
      "text/plain": [
       "<IPython.core.display.Javascript object>"
      ]
     },
     "metadata": {},
     "output_type": "display_data"
    },
    {
     "data": {
      "application/javascript": [
       "\n",
       "        if (window._pyforest_update_imports_cell) { window._pyforest_update_imports_cell('import re'); }\n",
       "    "
      ],
      "text/plain": [
       "<IPython.core.display.Javascript object>"
      ]
     },
     "metadata": {},
     "output_type": "display_data"
    },
    {
     "name": "stdout",
     "output_type": "stream",
     "text": [
      "Successfully retrieved 771 - https://www.halfbakedharvest.com/brown-butter-apple-blondies/ with proxy 4.234.52.159:8080\n",
      "Proxy 4.159.24.156:8080 failed for https://www.halfbakedharvest.com/cinnamon-spiced-apple-fritters/: ('Connection aborted.', ConnectionResetError(54, 'Connection reset by peer'))\n"
     ]
    },
    {
     "data": {
      "application/javascript": [
       "\n",
       "        if (window._pyforest_update_imports_cell) { window._pyforest_update_imports_cell('import re'); }\n",
       "    "
      ],
      "text/plain": [
       "<IPython.core.display.Javascript object>"
      ]
     },
     "metadata": {},
     "output_type": "display_data"
    },
    {
     "data": {
      "application/javascript": [
       "\n",
       "        if (window._pyforest_update_imports_cell) { window._pyforest_update_imports_cell('import re'); }\n",
       "    "
      ],
      "text/plain": [
       "<IPython.core.display.Javascript object>"
      ]
     },
     "metadata": {},
     "output_type": "display_data"
    },
    {
     "data": {
      "application/javascript": [
       "\n",
       "        if (window._pyforest_update_imports_cell) { window._pyforest_update_imports_cell('import re'); }\n",
       "    "
      ],
      "text/plain": [
       "<IPython.core.display.Javascript object>"
      ]
     },
     "metadata": {},
     "output_type": "display_data"
    },
    {
     "name": "stdout",
     "output_type": "stream",
     "text": [
      "Successfully retrieved 773 - https://www.halfbakedharvest.com/salted-maple-apple-tarte-tatin-with-vanilla-cream-toasted-pumpkin-seeds/ with proxy 20.26.186.150:8080\n"
     ]
    },
    {
     "data": {
      "application/javascript": [
       "\n",
       "        if (window._pyforest_update_imports_cell) { window._pyforest_update_imports_cell('import re'); }\n",
       "    "
      ],
      "text/plain": [
       "<IPython.core.display.Javascript object>"
      ]
     },
     "metadata": {},
     "output_type": "display_data"
    },
    {
     "data": {
      "application/javascript": [
       "\n",
       "        if (window._pyforest_update_imports_cell) { window._pyforest_update_imports_cell('import re'); }\n",
       "    "
      ],
      "text/plain": [
       "<IPython.core.display.Javascript object>"
      ]
     },
     "metadata": {},
     "output_type": "display_data"
    },
    {
     "data": {
      "application/javascript": [
       "\n",
       "        if (window._pyforest_update_imports_cell) { window._pyforest_update_imports_cell('import re'); }\n",
       "    "
      ],
      "text/plain": [
       "<IPython.core.display.Javascript object>"
      ]
     },
     "metadata": {},
     "output_type": "display_data"
    },
    {
     "name": "stdout",
     "output_type": "stream",
     "text": [
      "Successfully retrieved 774 - https://www.halfbakedharvest.com/homemade-nutter-butter-cookies/ with proxy 4.234.52.159:8080\n",
      "Proxy 4.159.24.156:8080 failed for https://www.halfbakedharvest.com/chocolate-peanut-butter-bars/: ('Connection aborted.', ConnectionResetError(54, 'Connection reset by peer'))\n"
     ]
    },
    {
     "data": {
      "application/javascript": [
       "\n",
       "        if (window._pyforest_update_imports_cell) { window._pyforest_update_imports_cell('import re'); }\n",
       "    "
      ],
      "text/plain": [
       "<IPython.core.display.Javascript object>"
      ]
     },
     "metadata": {},
     "output_type": "display_data"
    },
    {
     "data": {
      "application/javascript": [
       "\n",
       "        if (window._pyforest_update_imports_cell) { window._pyforest_update_imports_cell('import re'); }\n",
       "    "
      ],
      "text/plain": [
       "<IPython.core.display.Javascript object>"
      ]
     },
     "metadata": {},
     "output_type": "display_data"
    },
    {
     "data": {
      "application/javascript": [
       "\n",
       "        if (window._pyforest_update_imports_cell) { window._pyforest_update_imports_cell('import re'); }\n",
       "    "
      ],
      "text/plain": [
       "<IPython.core.display.Javascript object>"
      ]
     },
     "metadata": {},
     "output_type": "display_data"
    },
    {
     "name": "stdout",
     "output_type": "stream",
     "text": [
      "Successfully retrieved 776 - https://www.halfbakedharvest.com/no-churn-fudge-brownie-coffee-ice-cream/ with proxy 20.26.186.150:8080\n"
     ]
    },
    {
     "data": {
      "application/javascript": [
       "\n",
       "        if (window._pyforest_update_imports_cell) { window._pyforest_update_imports_cell('import re'); }\n",
       "    "
      ],
      "text/plain": [
       "<IPython.core.display.Javascript object>"
      ]
     },
     "metadata": {},
     "output_type": "display_data"
    },
    {
     "data": {
      "application/javascript": [
       "\n",
       "        if (window._pyforest_update_imports_cell) { window._pyforest_update_imports_cell('import re'); }\n",
       "    "
      ],
      "text/plain": [
       "<IPython.core.display.Javascript object>"
      ]
     },
     "metadata": {},
     "output_type": "display_data"
    },
    {
     "data": {
      "application/javascript": [
       "\n",
       "        if (window._pyforest_update_imports_cell) { window._pyforest_update_imports_cell('import re'); }\n",
       "    "
      ],
      "text/plain": [
       "<IPython.core.display.Javascript object>"
      ]
     },
     "metadata": {},
     "output_type": "display_data"
    },
    {
     "name": "stdout",
     "output_type": "stream",
     "text": [
      "Successfully retrieved 777 - https://www.halfbakedharvest.com/smores-stuffed-chocolate-chip-skillet-cookie/ with proxy 4.234.52.159:8080\n",
      "Proxy 4.159.24.156:8080 failed for https://www.halfbakedharvest.com/skillet-cinnamon-sugar-peach-upside-down-cake/: HTTPSConnectionPool(host='www.halfbakedharvest.com', port=443): Max retries exceeded with url: /skillet-cinnamon-sugar-peach-upside-down-cake/ (Caused by ProxyError('Unable to connect to proxy', ConnectTimeoutError(<urllib3.connection.HTTPSConnection object at 0x132041040>, 'Connection to 4.159.24.156 timed out. (connect timeout=30)')))\n",
      "Proxy 20.26.186.150:8080 failed for https://www.halfbakedharvest.com/cinnamon-sugar-blueberry-crumb-bars/: HTTPSConnectionPool(host='www.halfbakedharvest.com', port=443): Max retries exceeded with url: /cinnamon-sugar-blueberry-crumb-bars/ (Caused by ProxyError('Unable to connect to proxy', RemoteDisconnected('Remote end closed connection without response')))\n"
     ]
    },
    {
     "data": {
      "application/javascript": [
       "\n",
       "        if (window._pyforest_update_imports_cell) { window._pyforest_update_imports_cell('import re'); }\n",
       "    "
      ],
      "text/plain": [
       "<IPython.core.display.Javascript object>"
      ]
     },
     "metadata": {},
     "output_type": "display_data"
    },
    {
     "data": {
      "application/javascript": [
       "\n",
       "        if (window._pyforest_update_imports_cell) { window._pyforest_update_imports_cell('import re'); }\n",
       "    "
      ],
      "text/plain": [
       "<IPython.core.display.Javascript object>"
      ]
     },
     "metadata": {},
     "output_type": "display_data"
    },
    {
     "data": {
      "application/javascript": [
       "\n",
       "        if (window._pyforest_update_imports_cell) { window._pyforest_update_imports_cell('import re'); }\n",
       "    "
      ],
      "text/plain": [
       "<IPython.core.display.Javascript object>"
      ]
     },
     "metadata": {},
     "output_type": "display_data"
    },
    {
     "data": {
      "application/javascript": [
       "\n",
       "        if (window._pyforest_update_imports_cell) { window._pyforest_update_imports_cell('import re'); }\n",
       "    "
      ],
      "text/plain": [
       "<IPython.core.display.Javascript object>"
      ]
     },
     "metadata": {},
     "output_type": "display_data"
    },
    {
     "name": "stdout",
     "output_type": "stream",
     "text": [
      "Successfully retrieved 780 - https://www.halfbakedharvest.com/chocolate-fudge-pops/ with proxy 4.234.52.159:8080\n",
      "ChunkedEncodingError occurred for proxy 4.159.24.156:8080 and https://www.halfbakedharvest.com/strawberry-chamomile-cheesecake/: ('Connection broken: IncompleteRead(706 bytes read, 9534 more expected)', IncompleteRead(706 bytes read, 9534 more expected))\n",
      "Proxy 20.26.186.150:8080 failed for https://www.halfbakedharvest.com/chocolate-chunk-almond-butter-zucchini-bread/: ('Connection aborted.', RemoteDisconnected('Remote end closed connection without response'))\n",
      "Proxy 4.234.52.159:8080 failed for https://www.halfbakedharvest.com/malted-milk-cookies-n-cream-ice-cream-sandwiches/: ('Connection aborted.', ConnectionResetError(54, 'Connection reset by peer'))\n",
      "Proxy 4.159.24.156:8080 failed for https://www.halfbakedharvest.com/key-lime-pie/: ('Connection aborted.', ConnectionResetError(54, 'Connection reset by peer'))\n",
      "Proxy 20.26.186.150:8080 failed for https://www.halfbakedharvest.com/raspberry-cream-pretzel-hand-pies/: ('Connection aborted.', ConnectionResetError(54, 'Connection reset by peer'))\n"
     ]
    },
    {
     "data": {
      "application/javascript": [
       "\n",
       "        if (window._pyforest_update_imports_cell) { window._pyforest_update_imports_cell('import re'); }\n",
       "    "
      ],
      "text/plain": [
       "<IPython.core.display.Javascript object>"
      ]
     },
     "metadata": {},
     "output_type": "display_data"
    },
    {
     "data": {
      "application/javascript": [
       "\n",
       "        if (window._pyforest_update_imports_cell) { window._pyforest_update_imports_cell('import re'); }\n",
       "    "
      ],
      "text/plain": [
       "<IPython.core.display.Javascript object>"
      ]
     },
     "metadata": {},
     "output_type": "display_data"
    },
    {
     "data": {
      "application/javascript": [
       "\n",
       "        if (window._pyforest_update_imports_cell) { window._pyforest_update_imports_cell('import re'); }\n",
       "    "
      ],
      "text/plain": [
       "<IPython.core.display.Javascript object>"
      ]
     },
     "metadata": {},
     "output_type": "display_data"
    },
    {
     "data": {
      "application/javascript": [
       "\n",
       "        if (window._pyforest_update_imports_cell) { window._pyforest_update_imports_cell('import re'); }\n",
       "    "
      ],
      "text/plain": [
       "<IPython.core.display.Javascript object>"
      ]
     },
     "metadata": {},
     "output_type": "display_data"
    },
    {
     "name": "stdout",
     "output_type": "stream",
     "text": [
      "Successfully retrieved 786 - https://www.halfbakedharvest.com/peanut-butter-brownie-ice-cream-bars/ with proxy 4.234.52.159:8080\n",
      "Proxy 4.159.24.156:8080 failed for https://www.halfbakedharvest.com/lavender-lemon-sugar-cookies/: ('Connection aborted.', ConnectionResetError(54, 'Connection reset by peer'))\n",
      "Proxy 20.26.186.150:8080 failed for https://www.halfbakedharvest.com/skillet-blueberry-bourbon-pandowdy/: ('Connection aborted.', ConnectionResetError(54, 'Connection reset by peer'))\n",
      "Proxy 4.234.52.159:8080 failed for https://www.halfbakedharvest.com/buckeye-crunch-bars/: ('Connection aborted.', ConnectionResetError(54, 'Connection reset by peer'))\n",
      "Proxy 4.159.24.156:8080 failed for https://www.halfbakedharvest.com/hot-fudge-cookies/: ('Connection aborted.', ConnectionResetError(54, 'Connection reset by peer'))\n",
      "Proxy 20.26.186.150:8080 failed for https://www.halfbakedharvest.com/cinnamon-sugar-peach-cobbler/: ('Connection aborted.', ConnectionResetError(54, 'Connection reset by peer'))\n"
     ]
    }
   ],
   "source": [
    "# Read proxies from the file and create a cycle iterator\n",
    "with open('proxies.txt', 'r') as f:\n",
    "    proxies = [line.strip() for line in f if line.strip()]\n",
    "\n",
    "# Check if proxies are being read correctly\n",
    "if not proxies:\n",
    "    print(\"No valid proxies found in proxies.txt\")\n",
    "else:\n",
    "    print(f\"Proxies loaded: {proxies}\")\n",
    "\n",
    "proxy_cycle = itertools.cycle(proxies)\n",
    "\n",
    "# Initialize an empty DataFrame to store results\n",
    "temp_recipes_4 = pd.DataFrame(columns=columns)\n",
    "title = []\n",
    "prep_time = []\n",
    "cook_time = []\n",
    "total_time = []\n",
    "\n",
    "ingredients_measurment = []\n",
    "ingredients = []\n",
    "instructions = []\n",
    "\n",
    "calories = []\n",
    "servings = []\n",
    "images = []\n",
    "\n",
    "# Loop over the desired number of pages\n",
    "for i in range(501, 792):\n",
    "    proxy = next(proxy_cycle)\n",
    "\n",
    "    # Set up request with proxy\n",
    "    headers = {'User-Agent': 'Mozilla/5.0 (Windows NT 6.3; Win64; x64) AppleWebKit/537.36 (KHTML, like Gecko) Chrome/80.0.3987.162 Safari/537.36'}\n",
    "    url = all_recipes_url[i]\n",
    "    proxy_dict = {'http': proxy, 'https': proxy}\n",
    "\n",
    "    try:\n",
    "        response = requests.get(url, headers=headers, proxies=proxy_dict, timeout=30)\n",
    "        \n",
    "        # Check if the request was successful\n",
    "        if response.status_code == 200:\n",
    "            soup = BeautifulSoup(response.content, 'html.parser')\n",
    "            extract(soup)\n",
    "            print(f\"Successfully retrieved {i} - {url} with proxy {proxy}\")\n",
    "        else:\n",
    "            failed_url.append(url)\n",
    "            print(f\"Failed to retrieve page {url} with proxy {proxy}. Status code: {response.status_code}\")\n",
    "    except (requests.ConnectionError, requests.Timeout) as e:\n",
    "        failed_url.append(url)\n",
    "        print(f\"Proxy {proxy} failed for {url}: {e}\")\n",
    "    except ChunkedEncodingError as e:  # Handle ChunkedEncodingError\n",
    "        failed_url.append(url)\n",
    "        print(f\"ChunkedEncodingError occurred for proxy {proxy} and {url}: {e}\")\n",
    "        continue  # Move to the next page\n",
    "\n",
    "\n",
    "\n",
    "temp_recipes_4['title'] = title\n",
    "temp_recipes_4['prep_time'] = prep_time\n",
    "temp_recipes_4['cook_time'] = cook_time\n",
    "temp_recipes_4['total_time'] = total_time\n",
    "temp_recipes_4['ingredients'] = ingredients\n",
    "temp_recipes_4['ingredients with measurement'] = ingredients_measurment\n",
    "temp_recipes_4['instructions'] = instructions\n",
    "temp_recipes_4['calories'] = calories\n",
    "temp_recipes_4['servings'] = servings\n",
    "temp_recipes_4['images']= images\n",
    "\n",
    "\n",
    "\n",
    "    "
   ]
  },
  {
   "cell_type": "code",
   "execution_count": 29,
   "id": "3ee03d80",
   "metadata": {},
   "outputs": [
    {
     "data": {
      "text/plain": [
       "477"
      ]
     },
     "execution_count": 29,
     "metadata": {},
     "output_type": "execute_result"
    }
   ],
   "source": [
    "len(failed_url)"
   ]
  },
  {
   "cell_type": "code",
   "execution_count": 30,
   "id": "2600aa35",
   "metadata": {},
   "outputs": [
    {
     "data": {
      "text/html": [
       "<div>\n",
       "<style scoped>\n",
       "    .dataframe tbody tr th:only-of-type {\n",
       "        vertical-align: middle;\n",
       "    }\n",
       "\n",
       "    .dataframe tbody tr th {\n",
       "        vertical-align: top;\n",
       "    }\n",
       "\n",
       "    .dataframe thead th {\n",
       "        text-align: right;\n",
       "    }\n",
       "</style>\n",
       "<table border=\"1\" class=\"dataframe\">\n",
       "  <thead>\n",
       "    <tr style=\"text-align: right;\">\n",
       "      <th></th>\n",
       "      <th>title</th>\n",
       "      <th>prep_time</th>\n",
       "      <th>cook_time</th>\n",
       "      <th>total_time</th>\n",
       "      <th>ingredients</th>\n",
       "      <th>ingredients with measurement</th>\n",
       "      <th>instructions</th>\n",
       "      <th>calories</th>\n",
       "      <th>servings</th>\n",
       "      <th>images</th>\n",
       "    </tr>\n",
       "  </thead>\n",
       "  <tbody>\n",
       "    <tr>\n",
       "      <th>0</th>\n",
       "      <td>BOO! Chocolate Peanut Butter Bars</td>\n",
       "      <td>{'minutes': '20'}</td>\n",
       "      <td>{'minutes': '5'}</td>\n",
       "      <td>{'minutes': '55'}</td>\n",
       "      <td>[honey, maple syrup, creamy peanut butter, cor...</td>\n",
       "      <td>{'honey': '3/4', 'maple syrup': '1/4', 'creamy...</td>\n",
       "      <td>[1. 1. Line a 9×13 inch baking dish with parch...</td>\n",
       "      <td>1642 kcal</td>\n",
       "      <td>24</td>\n",
       "      <td>https://www.halfbakedharvest.com/wp-content/up...</td>\n",
       "    </tr>\n",
       "    <tr>\n",
       "      <th>1</th>\n",
       "      <td>Cinnamon Crunch Apple Butter Soft Pretzel Knots</td>\n",
       "      <td>{'minutes': '40'}</td>\n",
       "      <td>{'minutes': '15'}</td>\n",
       "      <td>{'hours': '2', 'minutes': '55'}</td>\n",
       "      <td>[warm water, honey, active dry yeast, apple ci...</td>\n",
       "      <td>{'warm water': '1/4', 'honey': '1', 'active dr...</td>\n",
       "      <td>[1. Combine the water, honey, and yeast in the...</td>\n",
       "      <td>359 kcal</td>\n",
       "      <td>16</td>\n",
       "      <td>https://www.halfbakedharvest.com/wp-content/up...</td>\n",
       "    </tr>\n",
       "    <tr>\n",
       "      <th>2</th>\n",
       "      <td>Halloween Monster Mash Cookies</td>\n",
       "      <td>{'minutes': '20'}</td>\n",
       "      <td>{'minutes': '15'}</td>\n",
       "      <td>{'minutes': '35'}</td>\n",
       "      <td>[salted butter, at room temperature, dark brow...</td>\n",
       "      <td>{'salted butter, at room temperature': '2', 'd...</td>\n",
       "      <td>[1. Preheat the oven to 350° F. Line a baking ...</td>\n",
       "      <td>311 kcal</td>\n",
       "      <td>20</td>\n",
       "      <td>https://www.halfbakedharvest.com/wp-content/up...</td>\n",
       "    </tr>\n",
       "    <tr>\n",
       "      <th>3</th>\n",
       "      <td>Old Fashioned Caramel Apple Butter Cake with C...</td>\n",
       "      <td>{'minutes': '30'}</td>\n",
       "      <td>{'minutes': '30'}</td>\n",
       "      <td>{'hours': '1'}</td>\n",
       "      <td>[salted butter, at room temperature, granulate...</td>\n",
       "      <td>{'salted butter, at room temperature': '2', 'g...</td>\n",
       "      <td>[1. Preheat the oven to 350° F. Butter 2 (8-in...</td>\n",
       "      <td>1286 kcal</td>\n",
       "      <td>10</td>\n",
       "      <td>https://www.halfbakedharvest.com/wp-content/up...</td>\n",
       "    </tr>\n",
       "    <tr>\n",
       "      <th>4</th>\n",
       "      <td>Chocolate Chunk Chai Banana Bread</td>\n",
       "      <td>{'minutes': '25'}</td>\n",
       "      <td>{'hours': '1'}</td>\n",
       "      <td>{'hours': '1', 'minutes': '25'}</td>\n",
       "      <td>[ground cinnamon, ground ginger, ground cardam...</td>\n",
       "      <td>{'ground cinnamon': '4', 'ground ginger': '2',...</td>\n",
       "      <td>[1. To make the chai spice. In a shallow bowl,...</td>\n",
       "      <td>384 kcal</td>\n",
       "      <td>1</td>\n",
       "      <td>https://www.halfbakedharvest.com/wp-content/up...</td>\n",
       "    </tr>\n",
       "    <tr>\n",
       "      <th>...</th>\n",
       "      <td>...</td>\n",
       "      <td>...</td>\n",
       "      <td>...</td>\n",
       "      <td>...</td>\n",
       "      <td>...</td>\n",
       "      <td>...</td>\n",
       "      <td>...</td>\n",
       "      <td>...</td>\n",
       "      <td>...</td>\n",
       "      <td>...</td>\n",
       "    </tr>\n",
       "    <tr>\n",
       "      <th>111</th>\n",
       "      <td>Healthier Homemade Nutter Butter Cookies...Dun...</td>\n",
       "      <td>{'minutes': '20'}</td>\n",
       "      <td>{'minutes': '10'}</td>\n",
       "      <td>{'minutes': '30'}</td>\n",
       "      <td>[salted butter, at room temperature, creamy pe...</td>\n",
       "      <td>{'salted butter, at room temperature': '3', 'c...</td>\n",
       "      <td>[1. Preheat the oven to 350 degrees. Line 2 ba...</td>\n",
       "      <td>196 kcal</td>\n",
       "      <td>12</td>\n",
       "      <td>https://www.halfbakedharvest.com/wp-content/up...</td>\n",
       "    </tr>\n",
       "    <tr>\n",
       "      <th>112</th>\n",
       "      <td>No Churn Fudge Brownie Coffee Ice Cream</td>\n",
       "      <td>{'minutes': '15'}</td>\n",
       "      <td>-</td>\n",
       "      <td>{'hours': '6', 'minutes': '15'}</td>\n",
       "      <td>[heavy cream, instant coffee, sweetened conden...</td>\n",
       "      <td>{'heavy cream': '2 1/2', 'instant coffee': '3'...</td>\n",
       "      <td>[1. Using an electric mixer, whip the cream an...</td>\n",
       "      <td>367 kcal</td>\n",
       "      <td>12</td>\n",
       "      <td>https://www.halfbakedharvest.com/wp-content/up...</td>\n",
       "    </tr>\n",
       "    <tr>\n",
       "      <th>113</th>\n",
       "      <td>Giant S'mores Stuffed Chocolate Chip Skillet C...</td>\n",
       "      <td>{'minutes': '15'}</td>\n",
       "      <td>{'minutes': '25'}</td>\n",
       "      <td>{'minutes': '40'}</td>\n",
       "      <td>[salted butter, at room temperature, dark brow...</td>\n",
       "      <td>{'salted butter, at room temperature': '2', 'd...</td>\n",
       "      <td>[1. Preheat the oven to 350 degrees F. Lightly...</td>\n",
       "      <td>483 kcal</td>\n",
       "      <td>12</td>\n",
       "      <td>https://www.halfbakedharvest.com/wp-content/up...</td>\n",
       "    </tr>\n",
       "    <tr>\n",
       "      <th>114</th>\n",
       "      <td>Homemade Creamy Chocolate Fudge Pops</td>\n",
       "      <td>{'minutes': '10'}</td>\n",
       "      <td>{'minutes': '10'}</td>\n",
       "      <td>{'hours': '4', 'minutes': '20'}</td>\n",
       "      <td>[canned full-fat coconut milk, maple syrup, un...</td>\n",
       "      <td>{'canned full-fat coconut milk': '3', 'maple s...</td>\n",
       "      <td>[1. In a medium size pot, whisk together the c...</td>\n",
       "      <td>394 kcal</td>\n",
       "      <td>9</td>\n",
       "      <td>https://www.halfbakedharvest.com/wp-content/up...</td>\n",
       "    </tr>\n",
       "    <tr>\n",
       "      <th>115</th>\n",
       "      <td>Peanut Butter Brownie Ice Cream Bars</td>\n",
       "      <td>{'hours': '1'}</td>\n",
       "      <td>{'minutes': '20'}</td>\n",
       "      <td>{'hours': '6', 'minutes': '20'}</td>\n",
       "      <td>[vanilla ice cream, Land O Lakes® Salted Butte...</td>\n",
       "      <td>{'vanilla ice cream': '1.75', 'Land O Lakes® S...</td>\n",
       "      <td>[1. Let the vanilla ice cream soften 5 minutes...</td>\n",
       "      <td>653 kcal</td>\n",
       "      <td>16</td>\n",
       "      <td>https://www.halfbakedharvest.com/wp-content/up...</td>\n",
       "    </tr>\n",
       "  </tbody>\n",
       "</table>\n",
       "<p>116 rows × 10 columns</p>\n",
       "</div>"
      ],
      "text/plain": [
       "                                                 title          prep_time  \\\n",
       "0                    BOO! Chocolate Peanut Butter Bars  {'minutes': '20'}   \n",
       "1      Cinnamon Crunch Apple Butter Soft Pretzel Knots  {'minutes': '40'}   \n",
       "2                       Halloween Monster Mash Cookies  {'minutes': '20'}   \n",
       "3    Old Fashioned Caramel Apple Butter Cake with C...  {'minutes': '30'}   \n",
       "4                    Chocolate Chunk Chai Banana Bread  {'minutes': '25'}   \n",
       "..                                                 ...                ...   \n",
       "111  Healthier Homemade Nutter Butter Cookies...Dun...  {'minutes': '20'}   \n",
       "112            No Churn Fudge Brownie Coffee Ice Cream  {'minutes': '15'}   \n",
       "113  Giant S'mores Stuffed Chocolate Chip Skillet C...  {'minutes': '15'}   \n",
       "114               Homemade Creamy Chocolate Fudge Pops  {'minutes': '10'}   \n",
       "115               Peanut Butter Brownie Ice Cream Bars     {'hours': '1'}   \n",
       "\n",
       "             cook_time                       total_time  \\\n",
       "0     {'minutes': '5'}                {'minutes': '55'}   \n",
       "1    {'minutes': '15'}  {'hours': '2', 'minutes': '55'}   \n",
       "2    {'minutes': '15'}                {'minutes': '35'}   \n",
       "3    {'minutes': '30'}                   {'hours': '1'}   \n",
       "4       {'hours': '1'}  {'hours': '1', 'minutes': '25'}   \n",
       "..                 ...                              ...   \n",
       "111  {'minutes': '10'}                {'minutes': '30'}   \n",
       "112                  -  {'hours': '6', 'minutes': '15'}   \n",
       "113  {'minutes': '25'}                {'minutes': '40'}   \n",
       "114  {'minutes': '10'}  {'hours': '4', 'minutes': '20'}   \n",
       "115  {'minutes': '20'}  {'hours': '6', 'minutes': '20'}   \n",
       "\n",
       "                                           ingredients  \\\n",
       "0    [honey, maple syrup, creamy peanut butter, cor...   \n",
       "1    [warm water, honey, active dry yeast, apple ci...   \n",
       "2    [salted butter, at room temperature, dark brow...   \n",
       "3    [salted butter, at room temperature, granulate...   \n",
       "4    [ground cinnamon, ground ginger, ground cardam...   \n",
       "..                                                 ...   \n",
       "111  [salted butter, at room temperature, creamy pe...   \n",
       "112  [heavy cream, instant coffee, sweetened conden...   \n",
       "113  [salted butter, at room temperature, dark brow...   \n",
       "114  [canned full-fat coconut milk, maple syrup, un...   \n",
       "115  [vanilla ice cream, Land O Lakes® Salted Butte...   \n",
       "\n",
       "                          ingredients with measurement  \\\n",
       "0    {'honey': '3/4', 'maple syrup': '1/4', 'creamy...   \n",
       "1    {'warm water': '1/4', 'honey': '1', 'active dr...   \n",
       "2    {'salted butter, at room temperature': '2', 'd...   \n",
       "3    {'salted butter, at room temperature': '2', 'g...   \n",
       "4    {'ground cinnamon': '4', 'ground ginger': '2',...   \n",
       "..                                                 ...   \n",
       "111  {'salted butter, at room temperature': '3', 'c...   \n",
       "112  {'heavy cream': '2 1/2', 'instant coffee': '3'...   \n",
       "113  {'salted butter, at room temperature': '2', 'd...   \n",
       "114  {'canned full-fat coconut milk': '3', 'maple s...   \n",
       "115  {'vanilla ice cream': '1.75', 'Land O Lakes® S...   \n",
       "\n",
       "                                          instructions   calories servings  \\\n",
       "0    [1. 1. Line a 9×13 inch baking dish with parch...  1642 kcal       24   \n",
       "1    [1. Combine the water, honey, and yeast in the...   359 kcal       16   \n",
       "2    [1. Preheat the oven to 350° F. Line a baking ...   311 kcal       20   \n",
       "3    [1. Preheat the oven to 350° F. Butter 2 (8-in...  1286 kcal       10   \n",
       "4    [1. To make the chai spice. In a shallow bowl,...   384 kcal        1   \n",
       "..                                                 ...        ...      ...   \n",
       "111  [1. Preheat the oven to 350 degrees. Line 2 ba...   196 kcal       12   \n",
       "112  [1. Using an electric mixer, whip the cream an...   367 kcal       12   \n",
       "113  [1. Preheat the oven to 350 degrees F. Lightly...   483 kcal       12   \n",
       "114  [1. In a medium size pot, whisk together the c...   394 kcal        9   \n",
       "115  [1. Let the vanilla ice cream soften 5 minutes...   653 kcal       16   \n",
       "\n",
       "                                                images  \n",
       "0    https://www.halfbakedharvest.com/wp-content/up...  \n",
       "1    https://www.halfbakedharvest.com/wp-content/up...  \n",
       "2    https://www.halfbakedharvest.com/wp-content/up...  \n",
       "3    https://www.halfbakedharvest.com/wp-content/up...  \n",
       "4    https://www.halfbakedharvest.com/wp-content/up...  \n",
       "..                                                 ...  \n",
       "111  https://www.halfbakedharvest.com/wp-content/up...  \n",
       "112  https://www.halfbakedharvest.com/wp-content/up...  \n",
       "113  https://www.halfbakedharvest.com/wp-content/up...  \n",
       "114  https://www.halfbakedharvest.com/wp-content/up...  \n",
       "115  https://www.halfbakedharvest.com/wp-content/up...  \n",
       "\n",
       "[116 rows x 10 columns]"
      ]
     },
     "execution_count": 30,
     "metadata": {},
     "output_type": "execute_result"
    }
   ],
   "source": [
    "temp_recipes_4"
   ]
  },
  {
   "cell_type": "code",
   "execution_count": 32,
   "id": "15b8297f",
   "metadata": {},
   "outputs": [
    {
     "data": {
      "text/html": [
       "<div>\n",
       "<style scoped>\n",
       "    .dataframe tbody tr th:only-of-type {\n",
       "        vertical-align: middle;\n",
       "    }\n",
       "\n",
       "    .dataframe tbody tr th {\n",
       "        vertical-align: top;\n",
       "    }\n",
       "\n",
       "    .dataframe thead th {\n",
       "        text-align: right;\n",
       "    }\n",
       "</style>\n",
       "<table border=\"1\" class=\"dataframe\">\n",
       "  <thead>\n",
       "    <tr style=\"text-align: right;\">\n",
       "      <th></th>\n",
       "      <th>title</th>\n",
       "      <th>prep_time</th>\n",
       "      <th>cook_time</th>\n",
       "      <th>total_time</th>\n",
       "      <th>ingredients</th>\n",
       "      <th>ingredients with measurement</th>\n",
       "      <th>instructions</th>\n",
       "      <th>calories</th>\n",
       "      <th>servings</th>\n",
       "      <th>images</th>\n",
       "    </tr>\n",
       "  </thead>\n",
       "  <tbody>\n",
       "    <tr>\n",
       "      <th>0</th>\n",
       "      <td>6 Ingredient Spiced Pumpkin Butter</td>\n",
       "      <td>{'minutes': '10'}</td>\n",
       "      <td>{'minutes': '20'}</td>\n",
       "      <td>{'minutes': '30'}</td>\n",
       "      <td>[pumpkin puree, apple cider, real maple syrup,...</td>\n",
       "      <td>{'pumpkin puree': '2', 'apple cider': '1/3', '...</td>\n",
       "      <td>[1. In a medium sauce pan, combine the pumpkin...</td>\n",
       "      <td>16 kcal</td>\n",
       "      <td>32</td>\n",
       "      <td>https://www.halfbakedharvest.com/wp-content/up...</td>\n",
       "    </tr>\n",
       "    <tr>\n",
       "      <th>1</th>\n",
       "      <td>Mulled Spiced Apple Cider Doughnuts</td>\n",
       "      <td>{'minutes': '35'}</td>\n",
       "      <td>{'minutes': '25'}</td>\n",
       "      <td>{'hours': '1'}</td>\n",
       "      <td>[apple cider, cinnamon, salted butter, real ma...</td>\n",
       "      <td>{'apple cider': '3', 'cinnamon': '1', 'salted ...</td>\n",
       "      <td>[1. Bring the apple cider and cinnamon to a bo...</td>\n",
       "      <td>1286 kcal</td>\n",
       "      <td>18</td>\n",
       "      <td>https://www.halfbakedharvest.com/wp-content/up...</td>\n",
       "    </tr>\n",
       "    <tr>\n",
       "      <th>2</th>\n",
       "      <td>Triple Layer Peanut Butter Crunch Brownies</td>\n",
       "      <td>{'minutes': '20'}</td>\n",
       "      <td>{'minutes': '30'}</td>\n",
       "      <td>{'minutes': '50'}</td>\n",
       "      <td>[salted butter, milk chocolate, chopped, granu...</td>\n",
       "      <td>{'salted butter': '2', 'milk chocolate, choppe...</td>\n",
       "      <td>[1. Preheat the oven to 350° F. Line a 9×13 in...</td>\n",
       "      <td>1782 kcal</td>\n",
       "      <td>18</td>\n",
       "      <td>https://www.halfbakedharvest.com/wp-content/up...</td>\n",
       "    </tr>\n",
       "    <tr>\n",
       "      <th>3</th>\n",
       "      <td>Bursting Blueberry Cardamom Buckle</td>\n",
       "      <td>{'minutes': '15'}</td>\n",
       "      <td>{'minutes': '45'}</td>\n",
       "      <td>{'hours': '1'}</td>\n",
       "      <td>[all-purpose flour, baking powder, ground card...</td>\n",
       "      <td>{'all-purpose flour': '1/2', 'baking powder': ...</td>\n",
       "      <td>[1. Preheat the oven to 350 degrees F. Grease ...</td>\n",
       "      <td>834 kcal</td>\n",
       "      <td>8</td>\n",
       "      <td>https://www.halfbakedharvest.com/wp-content/up...</td>\n",
       "    </tr>\n",
       "    <tr>\n",
       "      <th>4</th>\n",
       "      <td>Browned Butter Coconut Chocolate Chip Cookies</td>\n",
       "      <td>{'minutes': '20'}</td>\n",
       "      <td>{'minutes': '10'}</td>\n",
       "      <td>{'minutes': '30'}</td>\n",
       "      <td>[sticks (1 cup) salted butter, light brown sug...</td>\n",
       "      <td>{'sticks (1 cup) salted butter': '2', 'light b...</td>\n",
       "      <td>[1. Add the butter to a skillet set over mediu...</td>\n",
       "      <td>1326 kcal</td>\n",
       "      <td>20</td>\n",
       "      <td>https://www.halfbakedharvest.com/wp-content/up...</td>\n",
       "    </tr>\n",
       "    <tr>\n",
       "      <th>...</th>\n",
       "      <td>...</td>\n",
       "      <td>...</td>\n",
       "      <td>...</td>\n",
       "      <td>...</td>\n",
       "      <td>...</td>\n",
       "      <td>...</td>\n",
       "      <td>...</td>\n",
       "      <td>...</td>\n",
       "      <td>...</td>\n",
       "      <td>...</td>\n",
       "    </tr>\n",
       "    <tr>\n",
       "      <th>235</th>\n",
       "      <td>Healthier Homemade Nutter Butter Cookies...Dun...</td>\n",
       "      <td>{'minutes': '20'}</td>\n",
       "      <td>{'minutes': '10'}</td>\n",
       "      <td>{'minutes': '30'}</td>\n",
       "      <td>[salted butter, at room temperature, creamy pe...</td>\n",
       "      <td>{'salted butter, at room temperature': '3', 'c...</td>\n",
       "      <td>[1. Preheat the oven to 350 degrees. Line 2 ba...</td>\n",
       "      <td>196 kcal</td>\n",
       "      <td>12</td>\n",
       "      <td>https://www.halfbakedharvest.com/wp-content/up...</td>\n",
       "    </tr>\n",
       "    <tr>\n",
       "      <th>236</th>\n",
       "      <td>No Churn Fudge Brownie Coffee Ice Cream</td>\n",
       "      <td>{'minutes': '15'}</td>\n",
       "      <td>-</td>\n",
       "      <td>{'hours': '6', 'minutes': '15'}</td>\n",
       "      <td>[heavy cream, instant coffee, sweetened conden...</td>\n",
       "      <td>{'heavy cream': '2 1/2', 'instant coffee': '3'...</td>\n",
       "      <td>[1. Using an electric mixer, whip the cream an...</td>\n",
       "      <td>367 kcal</td>\n",
       "      <td>12</td>\n",
       "      <td>https://www.halfbakedharvest.com/wp-content/up...</td>\n",
       "    </tr>\n",
       "    <tr>\n",
       "      <th>237</th>\n",
       "      <td>Giant S'mores Stuffed Chocolate Chip Skillet C...</td>\n",
       "      <td>{'minutes': '15'}</td>\n",
       "      <td>{'minutes': '25'}</td>\n",
       "      <td>{'minutes': '40'}</td>\n",
       "      <td>[salted butter, at room temperature, dark brow...</td>\n",
       "      <td>{'salted butter, at room temperature': '2', 'd...</td>\n",
       "      <td>[1. Preheat the oven to 350 degrees F. Lightly...</td>\n",
       "      <td>483 kcal</td>\n",
       "      <td>12</td>\n",
       "      <td>https://www.halfbakedharvest.com/wp-content/up...</td>\n",
       "    </tr>\n",
       "    <tr>\n",
       "      <th>238</th>\n",
       "      <td>Homemade Creamy Chocolate Fudge Pops</td>\n",
       "      <td>{'minutes': '10'}</td>\n",
       "      <td>{'minutes': '10'}</td>\n",
       "      <td>{'hours': '4', 'minutes': '20'}</td>\n",
       "      <td>[canned full-fat coconut milk, maple syrup, un...</td>\n",
       "      <td>{'canned full-fat coconut milk': '3', 'maple s...</td>\n",
       "      <td>[1. In a medium size pot, whisk together the c...</td>\n",
       "      <td>394 kcal</td>\n",
       "      <td>9</td>\n",
       "      <td>https://www.halfbakedharvest.com/wp-content/up...</td>\n",
       "    </tr>\n",
       "    <tr>\n",
       "      <th>239</th>\n",
       "      <td>Peanut Butter Brownie Ice Cream Bars</td>\n",
       "      <td>{'hours': '1'}</td>\n",
       "      <td>{'minutes': '20'}</td>\n",
       "      <td>{'hours': '6', 'minutes': '20'}</td>\n",
       "      <td>[vanilla ice cream, Land O Lakes® Salted Butte...</td>\n",
       "      <td>{'vanilla ice cream': '1.75', 'Land O Lakes® S...</td>\n",
       "      <td>[1. Let the vanilla ice cream soften 5 minutes...</td>\n",
       "      <td>653 kcal</td>\n",
       "      <td>16</td>\n",
       "      <td>https://www.halfbakedharvest.com/wp-content/up...</td>\n",
       "    </tr>\n",
       "  </tbody>\n",
       "</table>\n",
       "<p>240 rows × 10 columns</p>\n",
       "</div>"
      ],
      "text/plain": [
       "                                                 title          prep_time  \\\n",
       "0                   6 Ingredient Spiced Pumpkin Butter  {'minutes': '10'}   \n",
       "1                  Mulled Spiced Apple Cider Doughnuts  {'minutes': '35'}   \n",
       "2           Triple Layer Peanut Butter Crunch Brownies  {'minutes': '20'}   \n",
       "3                   Bursting Blueberry Cardamom Buckle  {'minutes': '15'}   \n",
       "4        Browned Butter Coconut Chocolate Chip Cookies  {'minutes': '20'}   \n",
       "..                                                 ...                ...   \n",
       "235  Healthier Homemade Nutter Butter Cookies...Dun...  {'minutes': '20'}   \n",
       "236            No Churn Fudge Brownie Coffee Ice Cream  {'minutes': '15'}   \n",
       "237  Giant S'mores Stuffed Chocolate Chip Skillet C...  {'minutes': '15'}   \n",
       "238               Homemade Creamy Chocolate Fudge Pops  {'minutes': '10'}   \n",
       "239               Peanut Butter Brownie Ice Cream Bars     {'hours': '1'}   \n",
       "\n",
       "             cook_time                       total_time  \\\n",
       "0    {'minutes': '20'}                {'minutes': '30'}   \n",
       "1    {'minutes': '25'}                   {'hours': '1'}   \n",
       "2    {'minutes': '30'}                {'minutes': '50'}   \n",
       "3    {'minutes': '45'}                   {'hours': '1'}   \n",
       "4    {'minutes': '10'}                {'minutes': '30'}   \n",
       "..                 ...                              ...   \n",
       "235  {'minutes': '10'}                {'minutes': '30'}   \n",
       "236                  -  {'hours': '6', 'minutes': '15'}   \n",
       "237  {'minutes': '25'}                {'minutes': '40'}   \n",
       "238  {'minutes': '10'}  {'hours': '4', 'minutes': '20'}   \n",
       "239  {'minutes': '20'}  {'hours': '6', 'minutes': '20'}   \n",
       "\n",
       "                                           ingredients  \\\n",
       "0    [pumpkin puree, apple cider, real maple syrup,...   \n",
       "1    [apple cider, cinnamon, salted butter, real ma...   \n",
       "2    [salted butter, milk chocolate, chopped, granu...   \n",
       "3    [all-purpose flour, baking powder, ground card...   \n",
       "4    [sticks (1 cup) salted butter, light brown sug...   \n",
       "..                                                 ...   \n",
       "235  [salted butter, at room temperature, creamy pe...   \n",
       "236  [heavy cream, instant coffee, sweetened conden...   \n",
       "237  [salted butter, at room temperature, dark brow...   \n",
       "238  [canned full-fat coconut milk, maple syrup, un...   \n",
       "239  [vanilla ice cream, Land O Lakes® Salted Butte...   \n",
       "\n",
       "                          ingredients with measurement  \\\n",
       "0    {'pumpkin puree': '2', 'apple cider': '1/3', '...   \n",
       "1    {'apple cider': '3', 'cinnamon': '1', 'salted ...   \n",
       "2    {'salted butter': '2', 'milk chocolate, choppe...   \n",
       "3    {'all-purpose flour': '1/2', 'baking powder': ...   \n",
       "4    {'sticks (1 cup) salted butter': '2', 'light b...   \n",
       "..                                                 ...   \n",
       "235  {'salted butter, at room temperature': '3', 'c...   \n",
       "236  {'heavy cream': '2 1/2', 'instant coffee': '3'...   \n",
       "237  {'salted butter, at room temperature': '2', 'd...   \n",
       "238  {'canned full-fat coconut milk': '3', 'maple s...   \n",
       "239  {'vanilla ice cream': '1.75', 'Land O Lakes® S...   \n",
       "\n",
       "                                          instructions   calories servings  \\\n",
       "0    [1. In a medium sauce pan, combine the pumpkin...    16 kcal       32   \n",
       "1    [1. Bring the apple cider and cinnamon to a bo...  1286 kcal       18   \n",
       "2    [1. Preheat the oven to 350° F. Line a 9×13 in...  1782 kcal       18   \n",
       "3    [1. Preheat the oven to 350 degrees F. Grease ...   834 kcal        8   \n",
       "4    [1. Add the butter to a skillet set over mediu...  1326 kcal       20   \n",
       "..                                                 ...        ...      ...   \n",
       "235  [1. Preheat the oven to 350 degrees. Line 2 ba...   196 kcal       12   \n",
       "236  [1. Using an electric mixer, whip the cream an...   367 kcal       12   \n",
       "237  [1. Preheat the oven to 350 degrees F. Lightly...   483 kcal       12   \n",
       "238  [1. In a medium size pot, whisk together the c...   394 kcal        9   \n",
       "239  [1. Let the vanilla ice cream soften 5 minutes...   653 kcal       16   \n",
       "\n",
       "                                                images  \n",
       "0    https://www.halfbakedharvest.com/wp-content/up...  \n",
       "1    https://www.halfbakedharvest.com/wp-content/up...  \n",
       "2    https://www.halfbakedharvest.com/wp-content/up...  \n",
       "3    https://www.halfbakedharvest.com/wp-content/up...  \n",
       "4    https://www.halfbakedharvest.com/wp-content/up...  \n",
       "..                                                 ...  \n",
       "235  https://www.halfbakedharvest.com/wp-content/up...  \n",
       "236  https://www.halfbakedharvest.com/wp-content/up...  \n",
       "237  https://www.halfbakedharvest.com/wp-content/up...  \n",
       "238  https://www.halfbakedharvest.com/wp-content/up...  \n",
       "239  https://www.halfbakedharvest.com/wp-content/up...  \n",
       "\n",
       "[240 rows x 10 columns]"
      ]
     },
     "execution_count": 32,
     "metadata": {},
     "output_type": "execute_result"
    }
   ],
   "source": [
    "final = pd.concat([final, temp_recipes_4], ignore_index=True)\n",
    "final"
   ]
  },
  {
   "cell_type": "code",
   "execution_count": 34,
   "id": "866bb7b8",
   "metadata": {},
   "outputs": [],
   "source": [
    "save_list_to_txt('failed_urls_till201_792.txt', failed_url)\n",
    "final.to_csv('recipes_501_792.csv', index=False)"
   ]
  },
  {
   "cell_type": "code",
   "execution_count": null,
   "id": "5124a2ae",
   "metadata": {},
   "outputs": [],
   "source": []
  },
  {
   "cell_type": "code",
   "execution_count": null,
   "id": "a353e6c1",
   "metadata": {},
   "outputs": [],
   "source": []
  },
  {
   "cell_type": "code",
   "execution_count": null,
   "id": "0ad8b628",
   "metadata": {},
   "outputs": [],
   "source": []
  },
  {
   "cell_type": "code",
   "execution_count": null,
   "id": "4380119e",
   "metadata": {},
   "outputs": [],
   "source": [
    "urls2 = []\n",
    "\n",
    "with open('all_urls.txt', 'r') as file:\n",
    "    for line in file:\n",
    "        urls2.append(line.strip())\n",
    "\n",
    "print(urls2)"
   ]
  },
  {
   "cell_type": "code",
   "execution_count": null,
   "id": "3f3ba63d",
   "metadata": {},
   "outputs": [],
   "source": [
    "failed_url = []"
   ]
  },
  {
   "cell_type": "markdown",
   "id": "cad1c608",
   "metadata": {},
   "source": [
    "### Recipes 801-1001"
   ]
  },
  {
   "cell_type": "code",
   "execution_count": null,
   "id": "4c995dc5",
   "metadata": {
    "scrolled": true
   },
   "outputs": [],
   "source": [
    "# Read proxies from the file and create a cycle iterator\n",
    "with open('proxies.txt', 'r') as f:\n",
    "    proxies = [line.strip() for line in f if line.strip()]\n",
    "\n",
    "# Check if proxies are being read correctly\n",
    "if not proxies:\n",
    "    print(\"No valid proxies found in proxies.txt\")\n",
    "else:\n",
    "    print(f\"Proxies loaded: {proxies}\")\n",
    "\n",
    "proxy_cycle = itertools.cycle(proxies)\n",
    "\n",
    "# Initialize an empty DataFrame to store results\n",
    "temp_recipes_5 = pd.DataFrame(columns=columns)\n",
    "title = []\n",
    "prep_time = []\n",
    "cook_time = []\n",
    "total_time = []\n",
    "\n",
    "ingredients_measurment = []\n",
    "ingredients = []\n",
    "instructions = []\n",
    "\n",
    "calories = []\n",
    "servings = []\n",
    "images = []\n",
    "\n",
    "# Loop over the desired number of pages\n",
    "for i in range(801, 1001):\n",
    "    proxy = next(proxy_cycle)\n",
    "\n",
    "    # Set up request with proxy\n",
    "    headers = {'User-Agent': 'Mozilla/5.0 (Windows NT 6.3; Win64; x64) AppleWebKit/537.36 (KHTML, like Gecko) Chrome/80.0.3987.162 Safari/537.36'}\n",
    "    url = urls2[i]\n",
    "    proxy_dict = {'http': proxy, 'https': proxy}\n",
    "\n",
    "    try:\n",
    "        response = requests.get(url, headers=headers, proxies=proxy_dict, timeout=30)\n",
    "        \n",
    "        # Check if the request was successful\n",
    "        if response.status_code == 200:\n",
    "            soup = BeautifulSoup(response.content, 'html.parser')\n",
    "            extract(soup)\n",
    "            print(f\"Successfully retrieved {i} - {url} with proxy {proxy}\")\n",
    "        else:\n",
    "            failed_url.append(url)\n",
    "            print(f\"Failed to retrieve page {url} with proxy {proxy}. Status code: {response.status_code}\")\n",
    "    except (requests.ConnectionError, requests.Timeout) as e:\n",
    "        failed_url.append(url)\n",
    "        print(f\"Proxy {proxy} failed for {url}: {e}\")\n",
    "    except ChunkedEncodingError as e:  # Handle ChunkedEncodingError\n",
    "        failed_url.append(url)\n",
    "        print(f\"ChunkedEncodingError occurred for proxy {proxy} and {url}: {e}\")\n",
    "        continue  # Move to the next page\n",
    "\n",
    "\n",
    "\n",
    "temp_recipes_5['title'] = title\n",
    "temp_recipes_5['prep_time'] = prep_time\n",
    "temp_recipes_5['cook_time'] = cook_time\n",
    "temp_recipes_5['total_time'] = total_time\n",
    "temp_recipes_5['ingredients'] = ingredients\n",
    "temp_recipes_5['ingredients with measurement'] = ingredients_measurment\n",
    "temp_recipes_5['instructions'] = instructions\n",
    "temp_recipes_5['calories'] = calories\n",
    "temp_recipes_5['servings'] = servings\n",
    "temp_recipes_5['images']= images\n",
    "\n",
    "\n",
    "\n",
    "    "
   ]
  },
  {
   "cell_type": "code",
   "execution_count": null,
   "id": "90f1e496",
   "metadata": {},
   "outputs": [],
   "source": []
  },
  {
   "cell_type": "code",
   "execution_count": null,
   "id": "bbc61ddc",
   "metadata": {},
   "outputs": [],
   "source": [
    "final3 = pd.DataFrame(columns=columns)\n",
    "final3"
   ]
  },
  {
   "cell_type": "code",
   "execution_count": null,
   "id": "9418d2e5",
   "metadata": {},
   "outputs": [],
   "source": [
    "len(failed_url)"
   ]
  },
  {
   "cell_type": "code",
   "execution_count": null,
   "id": "0a31ba5e",
   "metadata": {},
   "outputs": [],
   "source": [
    "temp_recipes_5"
   ]
  },
  {
   "cell_type": "code",
   "execution_count": null,
   "id": "676eed53",
   "metadata": {},
   "outputs": [],
   "source": [
    "final3 = pd.concat([final3, temp_recipes_5], ignore_index=True)\n",
    "final3"
   ]
  },
  {
   "cell_type": "code",
   "execution_count": null,
   "id": "a6bd2510",
   "metadata": {},
   "outputs": [],
   "source": [
    "# Read proxies from the file and create a cycle iterator\n",
    "with open('proxies.txt', 'r') as f:\n",
    "    proxies = [line.strip() for line in f if line.strip()]\n",
    "\n",
    "# Check if proxies are being read correctly\n",
    "if not proxies:\n",
    "    print(\"No valid proxies found in proxies.txt\")\n",
    "else:\n",
    "    print(f\"Proxies loaded: {proxies}\")\n",
    "\n",
    "proxy_cycle = itertools.cycle(proxies)\n",
    "\n",
    "# Initialize an empty DataFrame to store results\n",
    "temp_recipes_6 = pd.DataFrame(columns=columns)\n",
    "title = []\n",
    "prep_time = []\n",
    "cook_time = []\n",
    "total_time = []\n",
    "\n",
    "ingredients_measurment = []\n",
    "ingredients = []\n",
    "instructions = []\n",
    "\n",
    "calories = []\n",
    "servings = []\n",
    "images = []\n",
    "\n",
    "# Loop over the desired number of pages\n",
    "for i in range(1001, 1401):\n",
    "    proxy = next(proxy_cycle)\n",
    "\n",
    "    # Set up request with proxy\n",
    "    headers = {'User-Agent': 'Mozilla/5.0 (Windows NT 6.3; Win64; x64) AppleWebKit/537.36 (KHTML, like Gecko) Chrome/80.0.3987.162 Safari/537.36'}\n",
    "    url = urls2[i]\n",
    "    proxy_dict = {'http': proxy, 'https': proxy}\n",
    "\n",
    "    try:\n",
    "        response = requests.get(url, headers=headers, proxies=proxy_dict, timeout=30)\n",
    "        \n",
    "        # Check if the request was successful\n",
    "        if response.status_code == 200:\n",
    "            soup = BeautifulSoup(response.content, 'html.parser')\n",
    "            extract(soup)\n",
    "            print(f\"Successfully retrieved {i} - {url} with proxy {proxy}\")\n",
    "        else:\n",
    "            failed_url.append(url)\n",
    "            print(f\"Failed to retrieve page {url} with proxy {proxy}. Status code: {response.status_code}\")\n",
    "    except (requests.ConnectionError, requests.Timeout) as e:\n",
    "        failed_url.append(url)\n",
    "        print(f\"Proxy {proxy} failed for {url}: {e}\")\n",
    "    except ChunkedEncodingError as e:  # Handle ChunkedEncodingError\n",
    "        failed_url.append(url)\n",
    "        print(f\"ChunkedEncodingError occurred for proxy {proxy} and {url}: {e}\")\n",
    "        continue  # Move to the next page\n",
    "\n",
    "\n",
    "\n",
    "temp_recipes_6['title'] = title\n",
    "temp_recipes_6['prep_time'] = prep_time\n",
    "temp_recipes_6['cook_time'] = cook_time\n",
    "temp_recipes_6['total_time'] = total_time\n",
    "temp_recipes_6['ingredients'] = ingredients\n",
    "temp_recipes_6['ingredients with measurement'] = ingredients_measurment\n",
    "temp_recipes_6['instructions'] = instructions\n",
    "temp_recipes_6['calories'] = calories\n",
    "temp_recipes_6['servings'] = servings\n",
    "temp_recipes_6['images']= images\n",
    "\n",
    "\n",
    "\n",
    "    "
   ]
  },
  {
   "cell_type": "code",
   "execution_count": null,
   "id": "7a5cdb65",
   "metadata": {},
   "outputs": [],
   "source": [
    "len(failed_url)"
   ]
  },
  {
   "cell_type": "code",
   "execution_count": null,
   "id": "a23c55c6",
   "metadata": {},
   "outputs": [],
   "source": [
    "temp_recipes_6"
   ]
  },
  {
   "cell_type": "code",
   "execution_count": null,
   "id": "dd24a144",
   "metadata": {},
   "outputs": [],
   "source": [
    "final3 = pd.concat([final3, temp_recipes_6], ignore_index=True)\n",
    "final3"
   ]
  },
  {
   "cell_type": "code",
   "execution_count": null,
   "id": "82f16ddb",
   "metadata": {},
   "outputs": [],
   "source": []
  },
  {
   "cell_type": "code",
   "execution_count": null,
   "id": "8937c767",
   "metadata": {},
   "outputs": [],
   "source": []
  },
  {
   "cell_type": "code",
   "execution_count": null,
   "id": "ec75a1fb",
   "metadata": {},
   "outputs": [],
   "source": []
  },
  {
   "cell_type": "code",
   "execution_count": null,
   "id": "6859b2d4",
   "metadata": {},
   "outputs": [],
   "source": []
  },
  {
   "cell_type": "code",
   "execution_count": null,
   "id": "518412b0",
   "metadata": {},
   "outputs": [],
   "source": []
  },
  {
   "cell_type": "code",
   "execution_count": null,
   "id": "2ede269f",
   "metadata": {},
   "outputs": [],
   "source": []
  },
  {
   "cell_type": "code",
   "execution_count": null,
   "id": "5d657072",
   "metadata": {},
   "outputs": [],
   "source": []
  },
  {
   "cell_type": "code",
   "execution_count": null,
   "id": "502adb25",
   "metadata": {},
   "outputs": [],
   "source": [
    "# Read proxies from the file and create a cycle iterator\n",
    "with open('proxies.txt', 'r') as f:\n",
    "    proxies = [line.strip() for line in f if line.strip()]\n",
    "\n",
    "# Check if proxies are being read correctly\n",
    "if not proxies:\n",
    "    print(\"No valid proxies found in proxies.txt\")\n",
    "else:\n",
    "    print(f\"Proxies loaded: {proxies}\")\n",
    "\n",
    "proxy_cycle = itertools.cycle(proxies)\n",
    "\n",
    "# Initialize an empty DataFrame to store results\n",
    "temp_recipes_7 = pd.DataFrame(columns=columns)\n",
    "title = []\n",
    "prep_time = []\n",
    "cook_time = []\n",
    "total_time = []\n",
    "\n",
    "ingredients_measurment = []\n",
    "ingredients = []\n",
    "instructions = []\n",
    "\n",
    "calories = []\n",
    "servings = []\n",
    "images = []\n",
    "\n",
    "# Loop over the desired number of pages\n",
    "for i in range(1401, 1607):\n",
    "    proxy = next(proxy_cycle)\n",
    "\n",
    "    # Set up request with proxy\n",
    "    headers = {'User-Agent': 'Mozilla/5.0 (Windows NT 6.3; Win64; x64) AppleWebKit/537.36 (KHTML, like Gecko) Chrome/80.0.3987.162 Safari/537.36'}\n",
    "    url = urls2[i]\n",
    "    proxy_dict = {'http': proxy, 'https': proxy}\n",
    "\n",
    "    try:\n",
    "        response = requests.get(url, headers=headers, proxies=proxy_dict, timeout=30)\n",
    "        \n",
    "        # Check if the request was successful\n",
    "        if response.status_code == 200:\n",
    "            soup = BeautifulSoup(response.content, 'html.parser')\n",
    "            extract(soup)\n",
    "            print(f\"Successfully retrieved {i} - {url} with proxy {proxy}\")\n",
    "        else:\n",
    "            failed_url.append(url)\n",
    "            print(f\"Failed to retrieve page {url} with proxy {proxy}. Status code: {response.status_code}\")\n",
    "    except (requests.ConnectionError, requests.Timeout) as e:\n",
    "        failed_url.append(url)\n",
    "        print(f\"Proxy {proxy} failed for {url}: {e}\")\n",
    "    except ChunkedEncodingError as e:  # Handle ChunkedEncodingError\n",
    "        failed_url.append(url)\n",
    "        print(f\"ChunkedEncodingError occurred for proxy {proxy} and {url}: {e}\")\n",
    "        continue  # Move to the next page\n",
    "\n",
    "\n",
    "\n",
    "temp_recipes_7['title'] = title\n",
    "temp_recipes_7['prep_time'] = prep_time\n",
    "temp_recipes_7['cook_time'] = cook_time\n",
    "temp_recipes_7['total_time'] = total_time\n",
    "temp_recipes_7['ingredients'] = ingredients\n",
    "temp_recipes_7['ingredients with measurement'] = ingredients_measurment\n",
    "temp_recipes_7['instructions'] = instructions\n",
    "temp_recipes_7['calories'] = calories\n",
    "temp_recipes_7['servings'] = servings\n",
    "temp_recipes_7['images']= images\n",
    "\n",
    "\n",
    "\n",
    "    "
   ]
  },
  {
   "cell_type": "code",
   "execution_count": null,
   "id": "74d0eb6d",
   "metadata": {},
   "outputs": [],
   "source": [
    "len(failed_url)"
   ]
  },
  {
   "cell_type": "code",
   "execution_count": null,
   "id": "61ece967",
   "metadata": {},
   "outputs": [],
   "source": [
    "temp_recipes_7"
   ]
  },
  {
   "cell_type": "code",
   "execution_count": null,
   "id": "1e642971",
   "metadata": {},
   "outputs": [],
   "source": []
  }
 ],
 "metadata": {
  "kernelspec": {
   "display_name": "Python 3 (ipykernel)",
   "language": "python",
   "name": "python3"
  },
  "language_info": {
   "codemirror_mode": {
    "name": "ipython",
    "version": 3
   },
   "file_extension": ".py",
   "mimetype": "text/x-python",
   "name": "python",
   "nbconvert_exporter": "python",
   "pygments_lexer": "ipython3",
   "version": "3.9.8"
  }
 },
 "nbformat": 4,
 "nbformat_minor": 5
}
