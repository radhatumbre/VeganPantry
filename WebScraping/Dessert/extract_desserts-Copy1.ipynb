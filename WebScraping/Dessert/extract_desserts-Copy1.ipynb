{
 "cells": [
  {
   "cell_type": "code",
   "execution_count": 1,
   "id": "54010bad",
   "metadata": {},
   "outputs": [],
   "source": [
    "import pandas as pd\n",
    "import requests\n",
    "import itertools\n",
    "from bs4 import BeautifulSoup\n",
    "from requests.exceptions import ChunkedEncodingError"
   ]
  },
  {
   "cell_type": "code",
   "execution_count": 2,
   "id": "ccf6e546",
   "metadata": {},
   "outputs": [
    {
     "data": {
      "text/plain": [
       "792"
      ]
     },
     "execution_count": 2,
     "metadata": {},
     "output_type": "execute_result"
    }
   ],
   "source": [
    "\n",
    "# Read the URLs from the text file\n",
    "with open('all_recipes_url.txt', 'r') as file:\n",
    "    all_recipes_url = file.readlines()\n",
    "\n",
    "# Strip newline characters from each URL\n",
    "all_recipes_url = [url.strip() for url in all_recipes_url]\n",
    "\n",
    "len(all_recipes_url)"
   ]
  },
  {
   "cell_type": "code",
   "execution_count": 3,
   "id": "77306887",
   "metadata": {},
   "outputs": [
    {
     "data": {
      "text/plain": [
       "['https://www.halfbakedharvest.com/marshmallow-brown-sugar-cookie-bars/',\n",
       " 'https://www.halfbakedharvest.com/brown-sugar-chocolate-chip-muffins/',\n",
       " 'https://www.halfbakedharvest.com/cinnamon-pop-tart-bars/',\n",
       " 'https://www.halfbakedharvest.com/nutter-butter-cookie-bars/',\n",
       " 'https://www.halfbakedharvest.com/peanut-butter-crunch-bars/',\n",
       " 'https://www.halfbakedharvest.com/caramel-brulee-zucchini-muffins/',\n",
       " 'https://www.halfbakedharvest.com/peach-dump-cake/',\n",
       " 'https://www.halfbakedharvest.com/chocolate-peanut-butter-cream-pie/',\n",
       " 'https://www.halfbakedharvest.com/peach-pretzel-ice-cream-cake/',\n",
       " 'https://www.halfbakedharvest.com/no-churn-strawberry-ice-cream/',\n",
       " 'https://www.halfbakedharvest.com/blueberry-cherry-galette/',\n",
       " 'https://www.halfbakedharvest.com/strawberry-ice-cream-cake/',\n",
       " 'https://www.halfbakedharvest.com/cookie-dough-ice-cream-bites/',\n",
       " 'https://www.halfbakedharvest.com/strawberries-and-cream-cookies/',\n",
       " 'https://www.halfbakedharvest.com/31-recipes-to-cook-in-may/',\n",
       " 'https://www.halfbakedharvest.com/chocolate-chunk-yogurt-coffee-cake/',\n",
       " 'https://www.halfbakedharvest.com/banana-bread-carrot-cake/',\n",
       " 'https://www.halfbakedharvest.com/strawberry-shortcake-sheet-cake/',\n",
       " 'https://www.halfbakedharvest.com/coconut-chocolate-chip-cookies/',\n",
       " 'https://www.halfbakedharvest.com/sour-fruit-gummies/',\n",
       " 'https://www.halfbakedharvest.com/coconut-sheet-cake/',\n",
       " 'https://www.halfbakedharvest.com/the-50-most-popular-easter-recipes/',\n",
       " 'https://www.halfbakedharvest.com/blueberry-sour-cream-coffee-cake/',\n",
       " 'https://www.halfbakedharvest.com/banana-cupcakes/',\n",
       " 'https://www.halfbakedharvest.com/chocolate-fudge-pop-tart-bars/',\n",
       " 'https://www.halfbakedharvest.com/raspberry-swirled-pistachio-cookies/',\n",
       " 'https://www.halfbakedharvest.com/raspberry-honey-sweet-rolls/',\n",
       " 'https://www.halfbakedharvest.com/coconut-chocolate-bars/',\n",
       " 'https://www.halfbakedharvest.com/ginger-crunch-carrot-cake-bread/',\n",
       " 'https://www.halfbakedharvest.com/easy-chocolate-truffles/',\n",
       " 'https://www.halfbakedharvest.com/game-day-cookies/',\n",
       " 'https://www.halfbakedharvest.com/chocolate-peanut-fudge-bars/',\n",
       " 'https://www.halfbakedharvest.com/maple-bacon-doughnuts/',\n",
       " 'https://www.halfbakedharvest.com/iced-grapefruit-yogurt-cake/',\n",
       " 'https://www.halfbakedharvest.com/buckwheat-chocolate-chunk-banana-bread/',\n",
       " 'https://www.halfbakedharvest.com/chocolate-chunk-honey-sesame-cookies/',\n",
       " 'https://www.halfbakedharvest.com/sesame-oatmeal-bars/',\n",
       " 'https://www.halfbakedharvest.com/christmas-puppy-chow/',\n",
       " 'https://www.halfbakedharvest.com/christmas-tree-cookies/',\n",
       " 'https://www.halfbakedharvest.com/2023-christmas-cookie-box/',\n",
       " 'https://www.halfbakedharvest.com/brown-sugar-eggnog-cookies/',\n",
       " 'https://www.halfbakedharvest.com/chewy-christmas-snickerdoodles/',\n",
       " 'https://www.halfbakedharvest.com/hot-chocolate-molten-cookies/',\n",
       " 'https://www.halfbakedharvest.com/chocolate-covered-espresso-spiced-pretzels/',\n",
       " 'https://www.halfbakedharvest.com/gooey-pecan-pie-brownies/',\n",
       " 'https://www.halfbakedharvest.com/cinnamon-swirl-snickerdoodle-blondies/',\n",
       " 'https://www.halfbakedharvest.com/pumpkin-oatmeal-latte-cookies/',\n",
       " 'https://www.halfbakedharvest.com/pumpkin-shortbread-cookies/',\n",
       " 'https://www.halfbakedharvest.com/zucchini-doughnuts/',\n",
       " 'https://www.halfbakedharvest.com/cookie-dough-ice-cream-cake/',\n",
       " 'https://www.halfbakedharvest.com/strawberry-cream-pretzel-tart/',\n",
       " 'https://www.halfbakedharvest.com/cottage-cheese-chocolate-chip-peanut-muffins/',\n",
       " 'https://www.halfbakedharvest.com/strawberry-mango-popsicles/',\n",
       " 'https://www.halfbakedharvest.com/chocolate-peanut-butter-yogurt-cups/',\n",
       " 'https://www.halfbakedharvest.com/banana-yogurt-clusters/',\n",
       " 'https://www.halfbakedharvest.com/strawberry-ice-cream-sandwiches/',\n",
       " 'https://www.halfbakedharvest.com/creamy-chocolate-peanut-butter-banana-fudge-popsicles/',\n",
       " 'https://www.halfbakedharvest.com/chocolate-chip-cookie-coffee-cake/',\n",
       " 'https://www.halfbakedharvest.com/brown-sugar-strawberry-cobbler/',\n",
       " 'https://www.halfbakedharvest.com/blender-chocolate-peanut-butter-ice-cream/',\n",
       " 'https://www.halfbakedharvest.com/strawberry-white-chocolate-blondies/',\n",
       " 'https://www.halfbakedharvest.com/banana-pudding-ice-cream-cake-cake/',\n",
       " 'https://www.halfbakedharvest.com/carrot-cake-cupcakes/',\n",
       " 'https://www.halfbakedharvest.com/peanut-butter-pretzel-chocolate-chip-cookies/',\n",
       " 'https://www.halfbakedharvest.com/banana-doughnuts/',\n",
       " 'https://www.halfbakedharvest.com/coffee-chocolate-chip-blondies/',\n",
       " 'https://www.halfbakedharvest.com/luckys-golden-ticket-cupcakes/',\n",
       " 'https://www.halfbakedharvest.com/strawberry-sugar-cookies/',\n",
       " 'https://www.halfbakedharvest.com/chocolate-chip-muffins/',\n",
       " 'https://www.halfbakedharvest.com/chocolate-chip-nutella-oatmeal-cookies/',\n",
       " 'https://www.halfbakedharvest.com/blackout-doughnuts/',\n",
       " 'https://www.halfbakedharvest.com/chocolate-celebration-cupcakes/',\n",
       " 'https://www.halfbakedharvest.com/tahini-oatmeal-chocolate-chip-cookies/',\n",
       " 'https://www.halfbakedharvest.com/chocolate-chunk-rye-banana-bread/',\n",
       " 'https://www.halfbakedharvest.com/brown-butter-iced-mocha-cinnamon-rolls/',\n",
       " 'https://www.halfbakedharvest.com/2021-holiday-cookie-box/',\n",
       " 'https://www.halfbakedharvest.com/samoas-pretzel-presents/',\n",
       " 'https://www.halfbakedharvest.com/brown-sugar-maple-ginger-cookies/',\n",
       " 'https://www.halfbakedharvest.com/christmas-monster-cookies/',\n",
       " 'https://www.halfbakedharvest.com/christmas-lights-cookies/',\n",
       " 'https://www.halfbakedharvest.com/espresso-hot-cocoa/',\n",
       " 'https://www.halfbakedharvest.com/chocolate-cinnamon-sugar-pull-apart-wreath/',\n",
       " 'https://www.halfbakedharvest.com/vanilla-burnt-basque-cheesecake/',\n",
       " 'https://www.halfbakedharvest.com/brown-sugar-maple-cookie-pie/',\n",
       " 'https://www.halfbakedharvest.com/white-chocolate-chai-pumpkin-snickerdoodles/',\n",
       " 'https://www.halfbakedharvest.com/mocha-pudding-pie/',\n",
       " 'https://www.halfbakedharvest.com/roly-poly-pumpkin-cookies/',\n",
       " 'https://www.halfbakedharvest.com/caramel-mocha-nutella-brownies/',\n",
       " 'https://www.halfbakedharvest.com/pumpkin-butter-chocolate-chip-blondies/',\n",
       " 'https://www.halfbakedharvest.com/apple-crumble-coffee-cake/',\n",
       " 'https://www.halfbakedharvest.com/pretzel-snickers-chocolate-chip-cookie-bars/',\n",
       " 'https://www.halfbakedharvest.com/cinnamon-knots-with-coffee-icing/',\n",
       " 'https://www.halfbakedharvest.com/black-cat-pumpkin-cupcakes/',\n",
       " 'https://www.halfbakedharvest.com/cinnamon-pumpkin-butter-bread/',\n",
       " 'https://www.halfbakedharvest.com/black-widow-peanut-butter-bars/',\n",
       " 'https://www.halfbakedharvest.com/chai-latte-cupcakes/',\n",
       " 'https://www.halfbakedharvest.com/tiramisu-cake/',\n",
       " 'https://www.halfbakedharvest.com/vegan-snickers/',\n",
       " 'https://www.halfbakedharvest.com/banana-bread-mug-cake/',\n",
       " 'https://www.halfbakedharvest.com/tahini-butter-chocolate-chip-cookies/',\n",
       " 'https://www.halfbakedharvest.com/baked-hot-chocolate-doughnuts/',\n",
       " 'https://www.halfbakedharvest.com/christmas-mm-cookie-bars/',\n",
       " 'https://www.halfbakedharvest.com/vanilla-sugar-dusted-macaroon-trees/',\n",
       " 'https://www.halfbakedharvest.com/chai-gingerbread-cookies/',\n",
       " 'https://www.halfbakedharvest.com/2020-holiday-cookie-box/',\n",
       " 'https://www.halfbakedharvest.com/milk-chocolate-peanut-butter-truffle-brownies/',\n",
       " 'https://www.halfbakedharvest.com/brown-butter-millionaires-bars/',\n",
       " 'https://www.halfbakedharvest.com/hot-chocolate-lace-cookies/',\n",
       " 'https://www.halfbakedharvest.com/caramel-brulee-latte/',\n",
       " 'https://www.halfbakedharvest.com/the-santa-clause-cookies/',\n",
       " 'https://www.halfbakedharvest.com/easy-fluffy-eggnog-cinnamon-rolls/',\n",
       " 'https://www.halfbakedharvest.com/chocolate-bourbon-pecan-pie-cupcakes-butter-pecan-frosting/',\n",
       " 'https://www.halfbakedharvest.com/bourbon-caramel-pretzel-cookies/',\n",
       " 'https://www.halfbakedharvest.com/molten-chocolate-crackle-pie/',\n",
       " 'https://www.halfbakedharvest.com/crinkly-caramel-stuffed-brownie-cookies/',\n",
       " 'https://www.halfbakedharvest.com/idiot-proof-snickerdoodle-peanut-butter-chocolate-chex-mix-bars/',\n",
       " 'https://www.halfbakedharvest.com/brown-sugar-maple-chocolate-pecan-pie-bars/',\n",
       " 'https://www.halfbakedharvest.com/chai-pumpkin-latte-cupcakes/',\n",
       " 'https://www.halfbakedharvest.com/chocolate-butterscotch-bars/',\n",
       " 'https://www.halfbakedharvest.com/mini-apple-cider-cakes/',\n",
       " 'https://www.halfbakedharvest.com/blueberry-lemon-thyme-cake/',\n",
       " 'https://www.halfbakedharvest.com/lemon-sugar-coconut-cream-pie/',\n",
       " 'https://www.halfbakedharvest.com/fudgy-chocolate-peanut-butter-ice-cream-pretzel-cake/',\n",
       " 'https://www.halfbakedharvest.com/healthy-dark-chocolate-chunk-oatmeal-cookie-bars-idiot-proof/',\n",
       " 'https://www.halfbakedharvest.com/strawberry-pretzel-pie/',\n",
       " 'https://www.halfbakedharvest.com/dirty-horchata-tres-leches-cake/',\n",
       " 'https://www.halfbakedharvest.com/homemade-frosted-brown-sugar-cinnamon-pop-tarts/',\n",
       " 'https://www.halfbakedharvest.com/single-lady-5-minute-gooey-molten-chocolate-mug-cake/',\n",
       " 'https://www.halfbakedharvest.com/skillet-strawberry-bourbon-cobbler/',\n",
       " 'https://www.halfbakedharvest.com/homemade-chocolate-fudge-poptarts/',\n",
       " 'https://www.halfbakedharvest.com/blueberry-lemon-thyme-tarts/',\n",
       " 'https://www.halfbakedharvest.com/chocolate-peanut-butter-skillet-blondies/',\n",
       " 'https://www.halfbakedharvest.com/coconut-carrot-cake/',\n",
       " 'https://www.halfbakedharvest.com/milk-chocolate-stuffed-peanut-butter-bunny-cookies/',\n",
       " 'https://www.halfbakedharvest.com/homemade-samoas-cookies/',\n",
       " 'https://www.halfbakedharvest.com/teddy-bear-snickerdoodles/',\n",
       " 'https://www.halfbakedharvest.com/coconut-lime-tart/',\n",
       " 'https://www.halfbakedharvest.com/salted-cookie-crinkle-top-brownies/',\n",
       " 'https://www.halfbakedharvest.com/coconut-banana-cake/',\n",
       " 'https://www.halfbakedharvest.com/4-ingredient-chocolate-mousse/',\n",
       " 'https://www.halfbakedharvest.com/flourless-chocolate-espresso-cake/',\n",
       " 'https://www.halfbakedharvest.com/double-chocolate-chex-mix/',\n",
       " 'https://www.halfbakedharvest.com/cowboy-party-cookies/',\n",
       " 'https://www.halfbakedharvest.com/fudgy-avocado-brownies-with-chocolate-fudge-frosting/',\n",
       " 'https://www.halfbakedharvest.com/lemon-poppy-seed-cake/',\n",
       " 'https://www.halfbakedharvest.com/homemade-vegan-twix-bars/',\n",
       " 'https://www.halfbakedharvest.com/one-bowl-chocolate-chunk-chai-banana-muffins/',\n",
       " 'https://www.halfbakedharvest.com/5-ingredient-tripple-decker-chocolate-peanut-butter-bars/',\n",
       " 'https://www.halfbakedharvest.com/white-christmas-cranberry-layer-cake/',\n",
       " 'https://www.halfbakedharvest.com/holly-jolly-santa-cookies/',\n",
       " 'https://www.halfbakedharvest.com/vanilla-wreath-cookies/',\n",
       " 'https://www.halfbakedharvest.com/2019-holiday-cookie-box/',\n",
       " 'https://www.halfbakedharvest.com/cream-cheese-swirled-chai-gingerbread-cake/',\n",
       " 'https://www.halfbakedharvest.com/salted-caramel-pretzel-snickerdoodles/',\n",
       " 'https://www.halfbakedharvest.com/creamy-coconut-hot-chocolate/',\n",
       " 'https://www.halfbakedharvest.com/butter-pecan-cookies/',\n",
       " 'https://www.halfbakedharvest.com/gooey-chocolate-chip-cookie-pumpkin-pie/',\n",
       " 'https://www.halfbakedharvest.com/chai-spiced-maple-sugar-cookies/',\n",
       " 'https://www.halfbakedharvest.com/burnt-basque-pumpkin-spice-cheesecake/',\n",
       " 'https://www.halfbakedharvest.com/peanut-butter-stuffed-chocolate-jack-o-lantern-cookies/',\n",
       " 'https://www.halfbakedharvest.com/pumpkin-butter-chocolate-chip-cookies/',\n",
       " 'https://www.halfbakedharvest.com/monster-chocolate-covered-pretzels-brownies/',\n",
       " 'https://www.halfbakedharvest.com/6-ingredient-milk-chocolate-salted-caramel-cups/',\n",
       " 'https://www.halfbakedharvest.com/chocolate-peanut-butter-cake/',\n",
       " 'https://www.halfbakedharvest.com/cream-cheese-swirled-pumpkin-banana-bread/',\n",
       " 'https://www.halfbakedharvest.com/chai-spiced-apple-ricotta-galette/',\n",
       " 'https://www.halfbakedharvest.com/spiced-pecan-apple-cider-doughnut-cake/',\n",
       " 'https://www.halfbakedharvest.com/chocolate-peanut-butter-pretzel-blondies/',\n",
       " 'https://www.halfbakedharvest.com/healthier-banoffee-pie/',\n",
       " 'https://www.halfbakedharvest.com/brown-butter-rice-krispie-treats/',\n",
       " 'https://www.halfbakedharvest.com/skillet-brown-sugar-peach-cobbler/',\n",
       " 'https://www.halfbakedharvest.com/healthy-coconut-tart/',\n",
       " 'https://www.halfbakedharvest.com/no-churn-minted-white-chocolate-swirled-ice-cream/',\n",
       " 'https://www.halfbakedharvest.com/zucchini-chocolate-chunk-coconut-bread/',\n",
       " 'https://www.halfbakedharvest.com/peaches-and-cream-pretzel-pie/',\n",
       " 'https://www.halfbakedharvest.com/simple-blueberry-basque-cheesecake/',\n",
       " 'https://www.halfbakedharvest.com/blackberry-lavender-cobbler/',\n",
       " 'https://www.halfbakedharvest.com/creme-fraiche-chocolate-chunk-cookie-bars/',\n",
       " 'https://www.halfbakedharvest.com/cherry-strawberry-streusel-cake/',\n",
       " 'https://www.halfbakedharvest.com/buttery-cherry-berry-skillet-crisp/',\n",
       " 'https://www.halfbakedharvest.com/no-bake-eton-mess-berry-cheesecake/',\n",
       " 'https://www.halfbakedharvest.com/browned-butter-grilled-peaches/',\n",
       " 'https://www.halfbakedharvest.com/the-best-strawberry-shortcakes/',\n",
       " 'https://www.halfbakedharvest.com/homemade-animal-crackers/',\n",
       " 'https://www.halfbakedharvest.com/nonnies-6-ingredient-chocolate-peanut-butter-ice-cream-cake/',\n",
       " 'https://www.halfbakedharvest.com/bursting-blueberry-lemon-layer-cake/',\n",
       " 'https://www.halfbakedharvest.com/chocolate-covered-brown-butter-krispie-treats/',\n",
       " 'https://www.halfbakedharvest.com/no-fuss-lemon-tart/',\n",
       " 'https://www.halfbakedharvest.com/strawberry-glazed-chai-doughnuts/',\n",
       " 'https://www.halfbakedharvest.com/jammy-strawberry-galette/',\n",
       " 'https://www.halfbakedharvest.com/smores-chocolate-mousse-bars/',\n",
       " 'https://www.halfbakedharvest.com/kentucky-derby-pie-chocolate-chip-cookie-bars/',\n",
       " 'https://www.halfbakedharvest.com/vanilla-mocha-hot-cocoa/',\n",
       " 'https://www.halfbakedharvest.com/salted-chocolate-coconut-bars/',\n",
       " 'https://www.halfbakedharvest.com/pecan-pie-cookies-with-butter-pecan-frosting/',\n",
       " 'https://www.halfbakedharvest.com/pumpkin-ginger-bread/',\n",
       " 'https://www.halfbakedharvest.com/chai-pumpkin-cake/',\n",
       " 'https://www.halfbakedharvest.com/maple-pecan-sticky-buns/',\n",
       " 'https://www.halfbakedharvest.com/caramel-apples/',\n",
       " 'https://www.halfbakedharvest.com/monster-oatmeal-chocolate-chip-cookie-bars/',\n",
       " 'https://www.halfbakedharvest.com/milk-chocolate-stuffed-jack-o-lantern-cookies/',\n",
       " 'https://www.halfbakedharvest.com/6-ingredient-spiced-pumpkin-butter/',\n",
       " 'https://www.halfbakedharvest.com/apple-cider-doughnuts/',\n",
       " 'https://www.halfbakedharvest.com/apple-butter-bars/',\n",
       " 'https://www.halfbakedharvest.com/peanut-butter-crunch-brownies/',\n",
       " 'https://www.halfbakedharvest.com/chocolate-vanilla-birthday-cake/',\n",
       " 'https://www.halfbakedharvest.com/chocolate-chip-peanut-butter-swirled-cookie-bars/',\n",
       " 'https://www.halfbakedharvest.com/blueberry-buckle/',\n",
       " 'https://www.halfbakedharvest.com/browned-butter-coconut-chocolate-chip-cookies/',\n",
       " 'https://www.halfbakedharvest.com/peach-ricotta-layer-cake/',\n",
       " 'https://www.halfbakedharvest.com/chocolate-caramel-crunch-ice-cream-bars/',\n",
       " 'https://www.halfbakedharvest.com/blackberry-ruffled-milk-pie/',\n",
       " 'https://www.halfbakedharvest.com/6-ingredient-no-bake-chocolate-chip-cookies/',\n",
       " 'https://www.halfbakedharvest.com/sweet-peach-rose-tart/',\n",
       " 'https://www.halfbakedharvest.com/cinnamon-peach-dutch-baby/',\n",
       " 'https://www.halfbakedharvest.com/raspberry-crumble-bars/',\n",
       " 'https://www.halfbakedharvest.com/easy-chocolate-heart-doughnuts/',\n",
       " 'https://www.halfbakedharvest.com/browned-butter-sugar-cookie-bars-with-white-chocolate-frosting/',\n",
       " 'https://www.halfbakedharvest.com/one-bowl-chocolate-sheet-cake-with-milk-chocolate-fudge-frosting/',\n",
       " 'https://www.halfbakedharvest.com/chewy-chocolate-chip-cookie-granola/',\n",
       " 'https://www.halfbakedharvest.com/vegan-chocolate-custard-cake/',\n",
       " 'https://www.halfbakedharvest.com/5-ingredient-chocolate-dipped-peanut-butter-cookies/',\n",
       " 'https://www.halfbakedharvest.com/vegan-whole-wheat-chocolate-chip-banana-bread-muffins/',\n",
       " 'https://www.halfbakedharvest.com/dark-chocolate-covered-coconut-bars/',\n",
       " 'https://www.halfbakedharvest.com/extra-fudgy-ricotta-brownies/',\n",
       " 'https://www.halfbakedharvest.com/gingerbread-snowglobe-place-setting/',\n",
       " 'https://www.halfbakedharvest.com/eggnog-frosted-chai-snickerdoodle-snowmen/',\n",
       " 'https://www.halfbakedharvest.com/how-to-create-the-best-holiday-cookie-box/',\n",
       " 'https://www.halfbakedharvest.com/salted-milk-chocolate-and-peanut-butter-blondies/',\n",
       " 'https://www.halfbakedharvest.com/sugar-cookie-chocolate-creme-brulee/',\n",
       " 'https://www.halfbakedharvest.com/chewy-chocolate-ginger-molasses-cookies/',\n",
       " 'https://www.halfbakedharvest.com/salted-chocolate-covered-bourbon-cider-caramels/',\n",
       " 'https://www.halfbakedharvest.com/chai-pumpkin-pie-with-maple-whipped-cream/',\n",
       " 'https://www.halfbakedharvest.com/browned-butter-pecan-chocolate-chip-cookies/',\n",
       " 'https://www.halfbakedharvest.com/pumpkin-butter-rugelach-cookies/',\n",
       " 'https://www.halfbakedharvest.com/spooky-halloween-pretzels/',\n",
       " 'https://www.halfbakedharvest.com/cardamom-cognac-apple-cake/',\n",
       " 'https://www.halfbakedharvest.com/hocus-pocus-spellbook-brownies/',\n",
       " 'https://www.halfbakedharvest.com/cinnamon-spiced-sugar-cookies-with-browned-butter-frosting/',\n",
       " 'https://www.halfbakedharvest.com/mulled-apple-cider-chai-french-crullers/',\n",
       " 'https://www.halfbakedharvest.com/honeycrisp-apple-pandowdy/',\n",
       " 'https://www.halfbakedharvest.com/healthy-5-ingredient-buckeyes/',\n",
       " 'https://www.halfbakedharvest.com/the-best-chocolate-birthday-cupcakes-with-fudgy-chocolate-buttercream/',\n",
       " 'https://www.halfbakedharvest.com/brown-sugar-peach-puff-pastry-pop-tarts/',\n",
       " 'https://www.halfbakedharvest.com/giant-chocolate-chip-cookies/',\n",
       " 'https://www.halfbakedharvest.com/vanilla-glazed-blackberry-peach-coffee-cake/',\n",
       " 'https://www.halfbakedharvest.com/chocolate-chip-olive-oil-zucchini-banana-bread/',\n",
       " 'https://www.halfbakedharvest.com/pbj-oat-streusel-muffins/',\n",
       " 'https://www.halfbakedharvest.com/blackberry-lavender-white-chocolate-clafoutis/',\n",
       " 'https://www.halfbakedharvest.com/raspberry-ginger-stone-fruit-galette/',\n",
       " 'https://www.halfbakedharvest.com/sweet-peach-thyme-shortcakes/',\n",
       " 'https://www.halfbakedharvest.com/6-ingredient-chocolate-coffee-nice-cream/',\n",
       " 'https://www.halfbakedharvest.com/brown-sugar-oatmeal-cookie-cookie-dough-ice-cream-sandwiches/',\n",
       " 'https://www.halfbakedharvest.com/maple-fig-tarte-tatin/',\n",
       " 'https://www.halfbakedharvest.com/mixed-berry-almond-croissants/',\n",
       " 'https://www.halfbakedharvest.com/bonfire-brownies-half-baked-harvest-cookbook-sneak-peak/',\n",
       " 'https://www.halfbakedharvest.com/mulled-cherry-bomb-pie/',\n",
       " 'https://www.halfbakedharvest.com/my-favorite-buttermilk-pie-crust/',\n",
       " 'https://www.halfbakedharvest.com/triple-layer-roasted-berry-pinata-ice-cream-cake/',\n",
       " 'https://www.halfbakedharvest.com/easiest-raspberry-shortcake-ricotta-ice-cream/',\n",
       " 'https://www.halfbakedharvest.com/salty-peanut-butter-smore-ice-cream-cake-video/',\n",
       " 'https://www.halfbakedharvest.com/honey-strawberry-apricot-tart/',\n",
       " 'https://www.halfbakedharvest.com/blueberry-brown-betty/',\n",
       " 'https://www.halfbakedharvest.com/tiramisu-brownie-ice-cream-sandwich-bars/',\n",
       " 'https://www.halfbakedharvest.com/strawberry-cornmeal-cake-with-buttermilk-glaze/',\n",
       " 'https://www.halfbakedharvest.com/frozen-peanut-butter-cup-pie/',\n",
       " 'https://www.halfbakedharvest.com/rainbow-frozen-yogurt-pops/',\n",
       " 'https://www.halfbakedharvest.com/chocolate-layered-zebra-mousse-cake/',\n",
       " 'https://www.halfbakedharvest.com/moroccan-chocolate-almond-phyllo-cake-snake-cake/',\n",
       " 'https://www.halfbakedharvest.com/pistachio-rose-rice-pudding/',\n",
       " 'https://www.halfbakedharvest.com/nonnies-kentucky-derby-pie/',\n",
       " 'https://www.halfbakedharvest.com/peanut-butter-swirled-chocolate-fudge-popsicles/',\n",
       " 'https://www.halfbakedharvest.com/strawberry-ripple-almond-cheesecake/',\n",
       " 'https://www.halfbakedharvest.com/easy-lemon-ricotta-old-fashioned-doughnuts/',\n",
       " 'https://www.halfbakedharvest.com/strawberry-coconut-carrot-cake-with-mascarpone-buttercream/',\n",
       " 'https://www.halfbakedharvest.com/best-chocolate-covered-peanut-butter-rice-crispy-treats/',\n",
       " 'https://www.halfbakedharvest.com/pistachio-butter-cookies-with-chocolate-tres-leches-drizzle/',\n",
       " 'https://www.halfbakedharvest.com/homemade-strawberry-white-chocolate-pop-tarts/',\n",
       " 'https://www.halfbakedharvest.com/raw-chocolate-banana-cashew-cream-pie-bars/',\n",
       " 'https://www.halfbakedharvest.com/one-bowl-8-ingredient-irish-coffee-fudge-brownies/',\n",
       " 'https://www.halfbakedharvest.com/cardamom-rose-beignets/',\n",
       " 'https://www.halfbakedharvest.com/healthy-ish-chocolate-chip-cookie-bars/',\n",
       " 'https://www.halfbakedharvest.com/meyer-lemon-chamomile-suzette-crepes-with-greek-yogurt/',\n",
       " 'https://www.halfbakedharvest.com/single-girls-wholesome-molten-chocolate-lava-cake/',\n",
       " 'https://www.halfbakedharvest.com/soft-and-fluffy-cream-cheese-sugar-cookies/',\n",
       " 'https://www.halfbakedharvest.com/valentines-surprise-chocolate-high-hat-cupcakes/',\n",
       " 'https://www.halfbakedharvest.com/winter-bliss-balls/',\n",
       " 'https://www.halfbakedharvest.com/nourishing-7-ingredient-chocolate-chip-ricotta-banana-bread/',\n",
       " 'https://www.halfbakedharvest.com/pistachio-mint-chip-ice-cream/',\n",
       " 'https://www.halfbakedharvest.com/skillet-strawberry-cobbler-with-cream-cheese-swirled-biscuits/',\n",
       " 'https://www.halfbakedharvest.com/campfire-grilled-smore-calzones/',\n",
       " 'https://www.halfbakedharvest.com/10-minute-magical-chocolate-almond-butter-superfood-seed-bars/',\n",
       " 'https://www.halfbakedharvest.com/fudgy-one-bowl-chocolate-peanut-butter-cup-pretzel-cake/',\n",
       " 'https://www.halfbakedharvest.com/tres-leches-coconut-and-chocolate-fudge-ice-cream-tacos-with-banana-peanut-salsa/',\n",
       " 'https://www.halfbakedharvest.com/whole-wheat-belgium-chocolate-chip-waffles-with-coconut-caramelized-bananas/',\n",
       " 'https://www.halfbakedharvest.com/banana-fritters-stick-peanut-sugar-mexican-chocolate-sauce/',\n",
       " 'https://www.halfbakedharvest.com/7-layer-dulce-de-leche-oatmeal-chocolate-chip-bars/',\n",
       " 'https://www.halfbakedharvest.com/almond-honey-cake-with-strawberry-ripple-cream/',\n",
       " 'https://www.halfbakedharvest.com/lavender-honey-and-raspberry-rhubarb-galette/',\n",
       " 'https://www.halfbakedharvest.com/matcha-green-tea-cake-with-vanilla-honey-cream-cheese-frosting/',\n",
       " 'https://www.halfbakedharvest.com/chocolate-peanut-butter-bubble-panna-cotta-with-honey-roasted-peanuts/',\n",
       " 'https://www.halfbakedharvest.com/chocolate-dipped-coconut-tres-leches-cronuts/',\n",
       " 'https://www.halfbakedharvest.com/5-ingredient-magic-matzo-chocolate-bars/',\n",
       " 'https://www.halfbakedharvest.com/double-chocolate-nutella-carrot-cake-cups-with-malted-cream-cheese-frosting/',\n",
       " 'https://www.halfbakedharvest.com/chocolate-dipped-homemade-peanut-butter-samoa-oreo-cookies/',\n",
       " 'https://www.halfbakedharvest.com/vanilla-almond-matcha-chocolate-lava-shake/',\n",
       " 'https://www.halfbakedharvest.com/drunken-sunken-irish-coffee-chocolate-cake-with-salted-baileys-cream/',\n",
       " 'https://www.halfbakedharvest.com/double-chocolate-brownie-irish-car-bomb-cheesecakes/',\n",
       " 'https://www.halfbakedharvest.com/an-irish-mans-whiskey-mocha-chocolate-mousse/',\n",
       " 'https://www.halfbakedharvest.com/chocolate-coconut-french-silk-banoffee-tart/',\n",
       " 'https://www.halfbakedharvest.com/chocolate-covered-toasted-sesame-fortune-cookies/',\n",
       " 'https://www.halfbakedharvest.com/coconut-honey-crepes-whipped-mascarpone-blood-orange-compote/',\n",
       " 'https://www.halfbakedharvest.com/quick-easy-oatmeal-chocolate-chip-cookie-peanut-butter-fudge-parfaits/',\n",
       " 'https://www.halfbakedharvest.com/dark-chocolate-avocado-mousse-coconut-caramelized-bananas/',\n",
       " 'https://www.halfbakedharvest.com/months-worth-healthier-football-food-life-talk/',\n",
       " 'https://www.halfbakedharvest.com/dark-chocolate-covered-coffee-roasted-almond-peanut-butter-oatmeal-bites/',\n",
       " 'https://www.halfbakedharvest.com/mexican-beer-spiked-churros-chocolate-dulce-de-leche/',\n",
       " 'https://www.halfbakedharvest.com/salted-chocolate-chip-cookie-baklava/',\n",
       " 'https://www.halfbakedharvest.com/coffee-roasted-almond-toasted-coconut-dark-chocolate-bark/',\n",
       " 'https://www.halfbakedharvest.com/loaded-peanut-butter-chocolate-covered-potato-chip-fudge-kitchenaid-giveaway/',\n",
       " 'https://www.halfbakedharvest.com/best-ever-hot-chocolate-french-toast/',\n",
       " 'https://www.halfbakedharvest.com/gingerbread-boy-granola/',\n",
       " 'https://www.halfbakedharvest.com/sugar-cookie-hot-cocoa-cupcakes/',\n",
       " 'https://www.halfbakedharvest.com/homemade-holiday-gifts-easy-double-chocolate-vanilla-bean-hot-cocoa-mugs-marshmallows/',\n",
       " 'https://www.halfbakedharvest.com/idiot-proof-salted-chocolate-covered-pretzel-nutella-turtle-cookies/',\n",
       " 'https://www.halfbakedharvest.com/toasted-coconut-cream-rum-chocolate-mousse-crepe-cake/',\n",
       " 'https://www.halfbakedharvest.com/giant-vanilla-salted-butterscotch-sticky-buns/',\n",
       " 'https://www.halfbakedharvest.com/fudge-browne-chocolate-frangelico-creme-brulee-pie/',\n",
       " 'https://www.halfbakedharvest.com/easy-jalapeno-popper-chicken-chili-cheddar-polenta-pot-pies/',\n",
       " 'https://www.halfbakedharvest.com/cinnamon-brioche-chocolate-chip-french-toast-muffins-coconut-streusel/',\n",
       " 'https://www.halfbakedharvest.com/oatmeal-chocolate-chunk-salted-coffee-caramel-apple-skillet-cookie/',\n",
       " 'https://www.halfbakedharvest.com/giant-chocolate-chip-cookie-cookie-dough-peanut-butter-cups/',\n",
       " 'https://www.halfbakedharvest.com/sweet-potato-quinoa-dark-chocolate-coconut-crumble-crunch-muffins/',\n",
       " 'https://www.halfbakedharvest.com/deseed-pomegranate-pictures/',\n",
       " 'https://www.halfbakedharvest.com/chocolate-lovers-pumpkin-fudge-brownie-pancakes-chocolate-kahlua-sauce/',\n",
       " 'https://www.halfbakedharvest.com/sweet-salty-bourbon-cinnamon-pecan-caramel-apples-chocolate-drizzle/',\n",
       " 'https://www.halfbakedharvest.com/apple-maple-ricotta-munchkins/',\n",
       " 'https://www.halfbakedharvest.com/pumpkin-spice-ginger-cookies/',\n",
       " 'https://www.halfbakedharvest.com/chocolate-peanut-butter-bark/',\n",
       " 'https://www.halfbakedharvest.com/pumpkin-butter-cinnamon-roll-bread/',\n",
       " 'https://www.halfbakedharvest.com/pumpkin-cream-cheese-muffins/',\n",
       " 'https://www.halfbakedharvest.com/peanut-butter-spider-cookies/',\n",
       " 'https://www.halfbakedharvest.com/cinnamon-sugar-apple-cake/',\n",
       " 'https://www.halfbakedharvest.com/apple-cider-doughnut-cookies/',\n",
       " 'https://www.halfbakedharvest.com/easy-apple-fritters/',\n",
       " 'https://www.halfbakedharvest.com/maple-brown-sugar-blondies/',\n",
       " 'https://www.halfbakedharvest.com/strawberry-glazed-doughnut/',\n",
       " 'https://www.halfbakedharvest.com/glazed-peanut-butter-bars/',\n",
       " 'https://www.halfbakedharvest.com/cinnamon-crunch-quick-bread/',\n",
       " 'https://www.halfbakedharvest.com/magic-oatmeal-chocolate-chip-cookies/',\n",
       " 'https://www.halfbakedharvest.com/monster-crunchies/',\n",
       " 'https://www.halfbakedharvest.com/oatmeal-cookie-magic-bars/',\n",
       " 'https://www.halfbakedharvest.com/peach-galette/',\n",
       " 'https://www.halfbakedharvest.com/ice-cream-stuffed-dates/',\n",
       " 'https://www.halfbakedharvest.com/ginger-blackberry-peach-cobbler/',\n",
       " 'https://www.halfbakedharvest.com/double-chocolate-chip-zucchini-bread/',\n",
       " 'https://www.halfbakedharvest.com/chocolate-malt-oreo-ice-cream/',\n",
       " 'https://www.halfbakedharvest.com/strawberry-tiramisu/',\n",
       " 'https://www.halfbakedharvest.com/smores-ice-cream-sandwiches/',\n",
       " 'https://www.halfbakedharvest.com/cookie-dough-chocolate-peanut-butter-bars/',\n",
       " 'https://www.halfbakedharvest.com/raspberry-white-chocolate-layer-cake/',\n",
       " 'https://www.halfbakedharvest.com/blackberry-lavender-ice-cream-sandwiches/',\n",
       " 'https://www.halfbakedharvest.com/chocolate-peanut-butter-fudge-bars/',\n",
       " 'https://www.halfbakedharvest.com/strawberry-bourbon-crisp/',\n",
       " 'https://www.halfbakedharvest.com/giant-frosted-strawberry-pop-tart/',\n",
       " 'https://www.halfbakedharvest.com/baklava/',\n",
       " 'https://www.halfbakedharvest.com/maple-glazed-doughnuts/',\n",
       " 'https://www.halfbakedharvest.com/espresso-chocolate-mousse/',\n",
       " 'https://www.halfbakedharvest.com/chewy-oatmeal-chocolate-chip-cookies/',\n",
       " 'https://www.halfbakedharvest.com/lemon-coconut-vanilla-sheet-cake/',\n",
       " 'https://www.halfbakedharvest.com/brown-butter-glazed-peanut-butter-blondies/',\n",
       " 'https://www.halfbakedharvest.com/double-strawberry-cupcakes/',\n",
       " 'https://www.halfbakedharvest.com/molten-coffee-brownie-pudding/',\n",
       " 'https://www.halfbakedharvest.com/swirled-caramel-sheet-cake/',\n",
       " 'https://www.halfbakedharvest.com/chewy-chocolate-peanut-butter-bars/',\n",
       " 'https://www.halfbakedharvest.com/baked-chocolate-fudge-glazed-doughnuts/',\n",
       " 'https://www.halfbakedharvest.com/iced-lemon-loaf/',\n",
       " 'https://www.halfbakedharvest.com/chocolate-sheet-cake/',\n",
       " 'https://www.halfbakedharvest.com/tahini-honey-chocolate-chunk-cookies/',\n",
       " 'https://www.halfbakedharvest.com/chocolate-peanut-butter-oatmeal-bars/',\n",
       " 'https://www.halfbakedharvest.com/almond-butter-cookies/',\n",
       " 'https://www.halfbakedharvest.com/triple-chocolate-espresso-mousse-cake/',\n",
       " 'https://www.halfbakedharvest.com/lemon-chai-cake/',\n",
       " 'https://www.halfbakedharvest.com/peanut-butter-twix-bars/',\n",
       " 'https://www.halfbakedharvest.com/baked-blueberry-cinnamon-sugar-doughnuts/',\n",
       " 'https://www.halfbakedharvest.com/oatmeal-chocolate-chip-cookie-cereal/',\n",
       " 'https://www.halfbakedharvest.com/chocolate-fudge-skillet-cake/',\n",
       " 'https://www.halfbakedharvest.com/brown-butter-bourbon-pecan-chocolate-chunk-cookies/',\n",
       " 'https://www.halfbakedharvest.com/old-fashioned-chocolate-cream-pie/',\n",
       " 'https://www.halfbakedharvest.com/molten-chocolate-coffee-blondies/',\n",
       " 'https://www.halfbakedharvest.com/key-lime-pie-bars/',\n",
       " 'https://www.halfbakedharvest.com/magic-chocolate-chip-cookies/',\n",
       " 'https://www.halfbakedharvest.com/5-minute-grilled-cinnamon-toast-with-chocolate/',\n",
       " 'https://www.halfbakedharvest.com/swirled-carrot-cake-cheesecake-bars/',\n",
       " 'https://www.halfbakedharvest.com/blueberry-lemon-poppy-seed-creme-cake/',\n",
       " 'https://www.halfbakedharvest.com/chocolate-peanut-butter-pie/',\n",
       " 'https://www.halfbakedharvest.com/coconut-pecan-caramel-butter-cake/',\n",
       " 'https://www.halfbakedharvest.com/chocolate-cinnamon-crunch-knots/',\n",
       " 'https://www.halfbakedharvest.com/lemon-sugar-burnt-basque-cheesecake/',\n",
       " 'https://www.halfbakedharvest.com/vanilla-earl-grey-creme-brulee/',\n",
       " 'https://www.halfbakedharvest.com/brown-sugar-peanut-butter-cookies/',\n",
       " 'https://www.halfbakedharvest.com/cinnamon-streusel-coffee-coffee-cake/',\n",
       " 'https://www.halfbakedharvest.com/gooey-chocolate-oatmeal-bars/',\n",
       " 'https://www.halfbakedharvest.com/caramel-butter-cake/',\n",
       " 'https://www.halfbakedharvest.com/earl-grey-blueberry-lemon-cake/',\n",
       " 'https://www.halfbakedharvest.com/brown-butter-malted-chocolate-chunk-cookies/',\n",
       " 'https://www.halfbakedharvest.com/strawberry-conversation-heart-cupcakes/',\n",
       " 'https://www.halfbakedharvest.com/salted-pretzel-magic-bars/',\n",
       " 'https://www.halfbakedharvest.com/no-bake-mixed-berry-custard-tart/',\n",
       " 'https://www.halfbakedharvest.com/bourbon-pecan-cherry-hand-pies/',\n",
       " 'https://www.halfbakedharvest.com/6-ingredient-rice-krispie-treat-chocolate-ice-cream-sandwiches/',\n",
       " 'https://www.halfbakedharvest.com/blackberry-lavender-naked-cake/',\n",
       " 'https://www.halfbakedharvest.com/blueberry-galette/',\n",
       " 'https://www.halfbakedharvest.com/toasted-smore-chocolate-ice-cream-cups/',\n",
       " 'https://www.halfbakedharvest.com/creamy-mocha-custard/',\n",
       " 'https://www.halfbakedharvest.com/cookie-ice-cream-sandwiches/',\n",
       " 'https://www.halfbakedharvest.com/chocolate-peanut-butter-cheerio-bars/',\n",
       " 'https://www.halfbakedharvest.com/fudge-popsicles/',\n",
       " 'https://www.halfbakedharvest.com/no-bake-fruit-tart/',\n",
       " 'https://www.halfbakedharvest.com/easy-baklava/',\n",
       " 'https://www.halfbakedharvest.com/chocolate-chip-skillet-cookie/',\n",
       " 'https://www.halfbakedharvest.com/strawberry-shortcakes/',\n",
       " 'https://www.halfbakedharvest.com/tres-leches-cake/',\n",
       " 'https://www.halfbakedharvest.com/easy-cinnamon-churros-with-coffee-chocolate-sauce/',\n",
       " 'https://www.halfbakedharvest.com/dark-chocolate-chiffon-pie/',\n",
       " 'https://www.halfbakedharvest.com/5-ingredient-chocolate-covered-peanut-butter-crunch-bars/',\n",
       " 'https://www.halfbakedharvest.com/hydrangea-flower-carrot-cake-cupcakes/',\n",
       " 'https://www.halfbakedharvest.com/blueberry-lemon-cheesecake-bars-with-candied-lemon/',\n",
       " 'https://www.halfbakedharvest.com/strawberry-chamomile-naked-cake/',\n",
       " 'https://www.halfbakedharvest.com/coconut-banana-cake-with-chocolate-frosting/',\n",
       " 'https://www.halfbakedharvest.com/6-ingredient-vegan-chocolate-chia-mousse/',\n",
       " 'https://www.halfbakedharvest.com/crinkle-top-brownies/',\n",
       " 'https://www.halfbakedharvest.com/strawberry-rhubarb-cobbler-honey-butter-biscuits/',\n",
       " 'https://www.halfbakedharvest.com/rocky-road-pudding-parfaits/',\n",
       " 'https://www.halfbakedharvest.com/banana-cream-pie-chocolate-peanuts/',\n",
       " 'https://www.halfbakedharvest.com/strawberry-rosehip-frozen-yogurt/',\n",
       " 'https://www.halfbakedharvest.com/fresh-fruit-fools-honey-butter-croissants/',\n",
       " 'https://www.halfbakedharvest.com/coconut-chocolate-chunk-cookies-video/',\n",
       " 'https://www.halfbakedharvest.com/coconut-banana-3-milk-cupcakes-with-nutella-buttercream/',\n",
       " 'https://www.halfbakedharvest.com/coconut-eton-mess-cake-whipped-ricotta-cream/',\n",
       " 'https://www.halfbakedharvest.com/coconut-carrot-cake-cheesecake/',\n",
       " 'https://www.halfbakedharvest.com/sweet-cuban-coconut-balls-with-melted-chocolate-coquito-acaramelado/',\n",
       " 'https://www.halfbakedharvest.com/double-chocolate-irish-tea-infused-oat-muffins/',\n",
       " 'https://www.halfbakedharvest.com/cheesecake-eggs-with-shortbread-soldiers/',\n",
       " 'https://www.halfbakedharvest.com/chocolate-chip-almond-butter-banana-bread/',\n",
       " 'https://www.halfbakedharvest.com/vegan-chocolate-cake-creamy-chocolate-almond-butter-buttercream/',\n",
       " 'https://www.halfbakedharvest.com/chocolate-dunked-salted-honey-nut-bars/',\n",
       " 'https://www.halfbakedharvest.com/superfood-hot-chocolate-with-honey-caramelized-brioche/',\n",
       " 'https://www.halfbakedharvest.com/secret-ingredient-peanut-butter-stuffed-chocolate-chip-skillet-cookie/',\n",
       " 'https://www.halfbakedharvest.com/banana-and-chocolate-chia-cream-pie-parfaits/',\n",
       " 'https://www.halfbakedharvest.com/superfood-chocolate-quinoa-bark/',\n",
       " 'https://www.halfbakedharvest.com/chocolate-coconut-almond-bars/',\n",
       " 'https://www.halfbakedharvest.com/4-ingredient-dark-chocolate-covered-peanut-butter-stuffed-dates/',\n",
       " 'https://www.halfbakedharvest.com/addicting-4-ingredient-buttery-chocolate-covered-ritz-bark-akachristmas-crack/',\n",
       " 'https://www.halfbakedharvest.com/gingerbread-latte-salted-caramel-sugar-video/',\n",
       " 'https://www.halfbakedharvest.com/hot-chocolate-party-with-4-hot-cocoa-recipes/',\n",
       " 'https://www.halfbakedharvest.com/chocolate-tahini-mocha-mousse-wcoconut-bubble-milk-chocolate-expresso-beans/',\n",
       " 'https://www.halfbakedharvest.com/fresh-watermelon-cake-summer-berries-links-inspire/',\n",
       " 'https://www.halfbakedharvest.com/healthy-bake-salted-dark-chocolate-chunk-oatmeal-cookie-bars/',\n",
       " 'https://www.halfbakedharvest.com/brown-sugar-peaches-cream-grilled-french-toast/',\n",
       " 'https://www.halfbakedharvest.com/5-ingredient-caramel-double-chocolate-birthday-ice-cream-cake-bars-stick/',\n",
       " 'https://www.halfbakedharvest.com/hot-fudge-brownie-double-scooped-ice-cream-sundae-high-hat-cupcakes-cone/',\n",
       " 'https://www.halfbakedharvest.com/vanilla-bean-coconut-quinoa-pudding-honey-drizzled-raspberries/',\n",
       " 'https://www.halfbakedharvest.com/vanilla-bourbon-cherry-blueberry-pie/',\n",
       " 'https://www.halfbakedharvest.com/firecracker-berry-margarita-floats/',\n",
       " 'https://www.halfbakedharvest.com/build-candied-balboa-bars/',\n",
       " 'https://www.halfbakedharvest.com/coconut-raspberry-macarons-raspberry-rose-buttercream/',\n",
       " 'https://www.halfbakedharvest.com/vegan-deconstructed-boozy-mocha-drenched-grilled-banana-coconut-cream-pies/',\n",
       " 'https://www.halfbakedharvest.com/coconut-iced-coffee-mini-chocolate-glazed-coffee-doughnuts/',\n",
       " 'https://www.halfbakedharvest.com/caramelized-strawberry-graham-cracker-crumble-ice-cream/',\n",
       " 'https://www.halfbakedharvest.com/churn-caramel-peanut-butter-cup-soft-pretzel-ice-cream-sammies-whot-fudge/',\n",
       " 'https://www.halfbakedharvest.com/oatmeal-chocolate-chip-graham-cracker-cookie-smores/',\n",
       " 'https://www.halfbakedharvest.com/triple-berry-kahlua-crisp-double-crumble/',\n",
       " 'https://www.halfbakedharvest.com/vegan-chocolate-fudge-popsicles/',\n",
       " 'https://www.halfbakedharvest.com/frozen-hot-fudge-peanut-butter-swirled-pretzel-macarons/',\n",
       " 'https://www.halfbakedharvest.com/lemon-ricotta-cheese-stuffed-french-toast-crepes-vanilla-stewed-strawberries/',\n",
       " 'https://www.halfbakedharvest.com/churro-milkshakes-dulce-de-leche/',\n",
       " 'https://www.halfbakedharvest.com/kentucky-derby-mini-chocolate-pecan-cakes-vanilla-bourbon-smash-ice-cream/',\n",
       " 'https://www.halfbakedharvest.com/angel-food-cupcakes-chocolate-whipped-coconut-frosting-crispy-phyllo-nest/',\n",
       " 'https://www.halfbakedharvest.com/banana-bread-chocolate-fudge-swirled-cheesecakes/',\n",
       " 'https://www.halfbakedharvest.com/tahini-hot-chocolate/',\n",
       " 'https://www.halfbakedharvest.com/fudgy-chocolate-peanut-butter-bars/',\n",
       " 'https://www.halfbakedharvest.com/lemon-ricotta-poppy-seed-cakes/',\n",
       " 'https://www.halfbakedharvest.com/blender-chocolate-peanut-butter-muffins/',\n",
       " 'https://www.halfbakedharvest.com/chocolate-chip-espresso-yogurt-cake/',\n",
       " 'https://www.halfbakedharvest.com/vanilla-chai-hot-chocolate/',\n",
       " 'https://www.halfbakedharvest.com/healthier-buckeye-brownies/',\n",
       " 'https://www.halfbakedharvest.com/maple-banana-bread/',\n",
       " 'https://www.halfbakedharvest.com/peanut-butter-protein-chocolate-chip-cookies/',\n",
       " 'https://www.halfbakedharvest.com/chocolate-peanut-butter-millionaire-bars/',\n",
       " 'https://www.halfbakedharvest.com/gingerbread-latte-cookies/',\n",
       " 'https://www.halfbakedharvest.com/frosted-cinnamon-swirl-snickerdoodles/',\n",
       " 'https://www.halfbakedharvest.com/slice-n-bake-vanilla-bean-sugar-cookies/',\n",
       " 'https://www.halfbakedharvest.com/vanilla-bean-hot-cocoa/',\n",
       " 'https://www.halfbakedharvest.com/pretzel-pecan-cookies/',\n",
       " 'https://www.halfbakedharvest.com/caramel-snickerdoodle-pie/',\n",
       " 'https://www.halfbakedharvest.com/chocolate-bourbon-chai-latte-cupcakes/',\n",
       " 'https://www.halfbakedharvest.com/pumpkin-sugar-cookies/',\n",
       " 'https://www.halfbakedharvest.com/cinnamon-pumpkin-coffee-cake/',\n",
       " 'https://www.halfbakedharvest.com/cinnamon-sugar-apple-cider-doughnut-holes/',\n",
       " 'https://www.halfbakedharvest.com/pumpkin-oatmeal-chocolate-chip-cookies/',\n",
       " 'https://www.halfbakedharvest.com/boo-chocolate-peanut-butter-bars/',\n",
       " 'https://www.halfbakedharvest.com/pumpkin-butter-bars/',\n",
       " 'https://www.halfbakedharvest.com/apple-butter-soft-pretzel-knots/',\n",
       " 'https://www.halfbakedharvest.com/halloween-monster-mash-cookies/',\n",
       " 'https://www.halfbakedharvest.com/healthier-caramel-apples/',\n",
       " 'https://www.halfbakedharvest.com/caramel-apple-butter-cake/',\n",
       " 'https://www.halfbakedharvest.com/chai-banana-bread/',\n",
       " 'https://www.halfbakedharvest.com/chocolate-chip-espresso-oatmeal-cookies/',\n",
       " 'https://www.halfbakedharvest.com/cinnamon-sugar-swirled-apple-butter-bread/',\n",
       " 'https://www.halfbakedharvest.com/chocolate-olive-oil-sheet-cake/',\n",
       " 'https://www.halfbakedharvest.com/blackberry-yogurt-bark/',\n",
       " 'https://www.halfbakedharvest.com/scotcheroos/',\n",
       " 'https://www.halfbakedharvest.com/giant-frosted-chocolate-fudge-pop-tart/',\n",
       " 'https://www.halfbakedharvest.com/brown-butter-oatmeal-chocolate-chip-cookies/',\n",
       " 'https://www.halfbakedharvest.com/blueberry-yogurt-granola-bars/',\n",
       " 'https://www.halfbakedharvest.com/blackberry-peach-galette/',\n",
       " 'https://www.halfbakedharvest.com/vanilla-bean-olive-oil-ice-cream/',\n",
       " 'https://www.halfbakedharvest.com/peach-mug-cake/',\n",
       " 'https://www.halfbakedharvest.com/raspberry-chocolate-chip-cookies/',\n",
       " 'https://www.halfbakedharvest.com/brown-sugar-peach-cobbler/',\n",
       " 'https://www.halfbakedharvest.com/zucchini-banana-muffins/',\n",
       " 'https://www.halfbakedharvest.com/special-k-bars/',\n",
       " 'https://www.halfbakedharvest.com/strawberry-pretzel-ice-cream-cake/',\n",
       " 'https://www.halfbakedharvest.com/no-churn-chocolate-peanut-butter-ice-cream/',\n",
       " 'https://www.halfbakedharvest.com/strawberry-shortcake-ice-cream-bars/',\n",
       " 'https://www.halfbakedharvest.com/strawberry-jam-dutch-baby/',\n",
       " 'https://www.halfbakedharvest.com/frozen-chocolate-covered-banana-bites/',\n",
       " 'https://www.halfbakedharvest.com/chocolate-covered-creamy-peanut-butter-cup-bars/',\n",
       " 'https://www.halfbakedharvest.com/lemon-coconut-naked-cake/',\n",
       " 'https://www.halfbakedharvest.com/coconut-banana-cream-pie-parfaits/',\n",
       " 'https://www.halfbakedharvest.com/creamy-lemon-bars/',\n",
       " 'https://www.halfbakedharvest.com/strawberry-olive-oil-cake/',\n",
       " 'https://www.halfbakedharvest.com/vegan-gooey-chocolate-coconut-caramel-bars/',\n",
       " 'https://www.halfbakedharvest.com/cheesecake-stuffed-chocolate-chunk-banana-bread-muffins/',\n",
       " 'https://www.halfbakedharvest.com/giant-strawberries-n-cream-pop-tart/',\n",
       " 'https://www.halfbakedharvest.com/easiest-cinnamon-buttermilk-beignets/',\n",
       " 'https://www.halfbakedharvest.com/peanut-butter-chocolate-chunk-oatmeal-cookies/',\n",
       " 'https://www.halfbakedharvest.com/whipped-lemon-ricotta-cheesecake/',\n",
       " 'https://www.halfbakedharvest.com/warm-chocolate-banana-galette/',\n",
       " 'https://www.halfbakedharvest.com/lemon-rose-shortbread-cookies/',\n",
       " 'https://www.halfbakedharvest.com/chocolate-chip-cookie-stuffed-soft-pretzels/',\n",
       " 'https://www.halfbakedharvest.com/chocolate-chunk-coconut-banana-bread/',\n",
       " 'https://www.halfbakedharvest.com/vegan-triple-chocolate-mousse-cake/',\n",
       " 'https://www.halfbakedharvest.com/ombre-citrus-cream-tart/',\n",
       " 'https://www.halfbakedharvest.com/5-ingredient-chocolate-covered-cashew-bars/',\n",
       " 'https://www.halfbakedharvest.com/salted-caramel-and-milk-chocolate-brownies/',\n",
       " 'https://www.halfbakedharvest.com/gingerbread-cupcakes/',\n",
       " 'https://www.halfbakedharvest.com/2018-holiday-cookie-box/',\n",
       " 'https://www.halfbakedharvest.com/north-pole-cake/',\n",
       " 'https://www.halfbakedharvest.com/chai-spiced-santa-cookies/',\n",
       " 'https://www.halfbakedharvest.com/slice-n-bake-chocolate-covered-peanut-butter-cookies/',\n",
       " 'https://www.halfbakedharvest.com/my-favorite-autumn-recipes/',\n",
       " 'https://www.halfbakedharvest.com/vanilla-birthday-cake-with-whipped-chocolate-buttercream/',\n",
       " 'https://www.halfbakedharvest.com/buckeye-fudge-ice-cream/',\n",
       " 'https://www.halfbakedharvest.com/cinnamon-sugar-nutella-quesadilla/',\n",
       " 'https://www.halfbakedharvest.com/brown-sugar-caramel-oatmeal-cookie-peach-crisp/',\n",
       " 'https://www.halfbakedharvest.com/salted-caramel-chocolate-covered-potato-chip-sundaes/',\n",
       " 'https://www.halfbakedharvest.com/chocolate-chip-cookie-nutella-ice-box-cake/',\n",
       " 'https://www.halfbakedharvest.com/cinnamon-grilled-peaches-mascarpone-ice-cream/',\n",
       " 'https://www.halfbakedharvest.com/melon-lemonade-margarita-popsicles/',\n",
       " 'https://www.halfbakedharvest.com/bourbon-glazed-peach-fritters/',\n",
       " 'https://www.halfbakedharvest.com/blueberry-brie-cornbread-biscuits-honey-butter/',\n",
       " 'https://www.halfbakedharvest.com/creamy-coconut-almond-breakfast-pops/',\n",
       " 'https://www.halfbakedharvest.com/honey-strawberry-peach-pie/',\n",
       " 'https://www.halfbakedharvest.com/triple-layer-chocolate-fudge-ice-cream-cake/',\n",
       " 'https://www.halfbakedharvest.com/layered-caramel-buster-bars/',\n",
       " 'https://www.halfbakedharvest.com/no-bake-triple-decker-peanut-butter-smores-bars/',\n",
       " 'https://www.halfbakedharvest.com/3-ingredient-strawberry-mango-popsicles/',\n",
       " 'https://www.halfbakedharvest.com/strawberry-shortcake-grilled-doughnuts/',\n",
       " 'https://www.halfbakedharvest.com/salted-pretzel-nutella-cookie-ice-cream-sandwiches/',\n",
       " 'https://www.halfbakedharvest.com/chocolate-glazed-mochi-doughnuts/',\n",
       " 'https://www.halfbakedharvest.com/berry-cheesecake-ice-cream-pavlova-jars/',\n",
       " 'https://www.halfbakedharvest.com/churro-waffless/',\n",
       " 'https://www.halfbakedharvest.com/mexican-samoas-cookies/',\n",
       " 'https://www.halfbakedharvest.com/salted-chamomile-honey-cakes-with-raspberry-ripple-cream/',\n",
       " 'https://www.halfbakedharvest.com/baked-gingerbread-custard-waffle-french-toast/',\n",
       " 'https://www.halfbakedharvest.com/chocolate-hazelnut-and-caramel-stuffed-brownie-cookies/',\n",
       " 'https://www.halfbakedharvest.com/chocolate-dipped-vanilla-bean-cashew-crescent-cookies/',\n",
       " 'https://www.halfbakedharvest.com/salted-peanut-butter-caramel-chocolate-truffles/',\n",
       " 'https://www.halfbakedharvest.com/edible-christmas-gifts-in-jars/',\n",
       " 'https://www.halfbakedharvest.com/eggnog-scented-sugar-cookies-with-easy-vanilla-icing/',\n",
       " 'https://www.halfbakedharvest.com/chocolate-covered-cinnamon-sugar-pretzels/',\n",
       " 'https://www.halfbakedharvest.com/slice-n-bake-vanilla-brown-butter-pecan-cookies-dipped-chocolate/',\n",
       " 'https://www.halfbakedharvest.com/sweet-potato-pie-cinnamon-rolls-with-butter-whipped-meringue-frosting/',\n",
       " 'https://www.halfbakedharvest.com/caramelized-condensed-milk-mini-apple-pies/',\n",
       " 'https://www.halfbakedharvest.com/salted-bourbon-pecan-pumpkin-pie/',\n",
       " 'https://www.halfbakedharvest.com/chocolate-cinnamon-swirl-pumpkin-brioche-bread/',\n",
       " 'https://www.halfbakedharvest.com/easy-peanut-butter-cup-fudge-with-salted-bourbon-sugar/',\n",
       " 'https://www.halfbakedharvest.com/chocolate-covered-roasted-pumpkin-seed-turtle-clusters/',\n",
       " 'https://www.halfbakedharvest.com/baked-buttermilk-pumpkin-doughnuts-with-hot-cocoa-glaze/',\n",
       " 'https://www.halfbakedharvest.com/caramelized-pear-and-hazelnut-crumble-tart/',\n",
       " 'https://www.halfbakedharvest.com/healthy-caramel-apples-six-ways/',\n",
       " 'https://www.halfbakedharvest.com/deathly-chocolate-graveyard-cakes-witches-beware/',\n",
       " 'https://www.halfbakedharvest.com/homemade-tim-tams/',\n",
       " 'https://www.halfbakedharvest.com/pumpkin-nutella-crepe-cake/',\n",
       " 'https://www.halfbakedharvest.com/easy-warm-swedish-caramel-apple-cheesecake/',\n",
       " 'https://www.halfbakedharvest.com/maple-glazed-apple-fritters/',\n",
       " 'https://www.halfbakedharvest.com/fall-harvest-peanut-picnic-a-family-hike/',\n",
       " 'https://www.halfbakedharvest.com/harvest-oatmeal-chocolate-chunk-cookies-with-salted-toasted-pepitas/',\n",
       " 'https://www.halfbakedharvest.com/hot-buttered-rum-apple-pie-stuffed-cinnamon-sugar-soft-pretzels/',\n",
       " 'https://www.halfbakedharvest.com/molten-chocolate-pumpkin-streusel-bread-heavy-chocolate-streusel/',\n",
       " 'https://www.halfbakedharvest.com/salted-caramel-apple-snickers-cake/',\n",
       " 'https://www.halfbakedharvest.com/death-butterbeer-cupcakes-wtreacle-butter-frosting-chocolate-covered-pretzels/',\n",
       " 'https://www.halfbakedharvest.com/coffee-roasted-pumpkin-seed-snack-clusters-dipped-chocolate/',\n",
       " 'https://www.halfbakedharvest.com/overnight-cider-pumpkin-waffles-wtoasted-pecan-butter-cider-syrup-spiced-apples/',\n",
       " 'https://www.halfbakedharvest.com/fried-apple-pies-links-inspire/',\n",
       " 'https://www.halfbakedharvest.com/salted-caramel-mocha-nutella-brownies/',\n",
       " 'https://www.halfbakedharvest.com/nutella-banana-tarte-tatin-cinnamon-sugar-roasted-pumpkin-seed-hazelnut-crunch/',\n",
       " 'https://www.halfbakedharvest.com/25-favorite-fall-recipes/',\n",
       " 'https://www.halfbakedharvest.com/peanut-butter-cheesecake-doughnuts-salted-chocolate-bourbon-caramel/',\n",
       " 'https://www.halfbakedharvest.com/brown-butter-caramelized-apple-crisp-bars-wpecan-streusel-mascarpone-maple-glaze/',\n",
       " 'https://www.halfbakedharvest.com/samoa-macaroon-tarts/',\n",
       " 'https://www.halfbakedharvest.com/magic-gooey-chocolate-meringue-texas-sheet-cake/',\n",
       " 'https://www.halfbakedharvest.com/caramelized-peach-whole-wheat-white-chocolate-oatmeal-skillet-cookie-pie/',\n",
       " 'https://www.halfbakedharvest.com/double-trouble-chocolate-chunk-peanut-butter-honey-cookies/',\n",
       " 'https://www.halfbakedharvest.com/oatmeal-chocolate-chip-cookies-n-milk-breakfast-cups/',\n",
       " 'https://www.halfbakedharvest.com/homemade-italian-ice-links-inspire/',\n",
       " 'https://www.halfbakedharvest.com/milk-chocolate-dipped-zucchini-granola-bars/',\n",
       " 'https://www.halfbakedharvest.com/2-ingredient-strawberry-popsicles-links-inspire/',\n",
       " 'https://www.halfbakedharvest.com/healthier-chocolate-lovers-sweet-corn-hazelnut-crunch-chocolate-cake-wganache/',\n",
       " 'https://www.halfbakedharvest.com/inside-peanut-butter-nutella-banana-smores/',\n",
       " 'https://www.halfbakedharvest.com/sweet-balsamic-strawberries-wwhipped-ricotta-cream-maple-glazed-seeded-nuts/',\n",
       " 'https://www.halfbakedharvest.com/munchies-sweet-corn-ice-cream-sandwiches-wpeanut-butter-chip-cookies/',\n",
       " 'https://www.halfbakedharvest.com/glazed-peanut-butter-jelly-doughnuts-strawberry-rhubarb-chia-jelly/',\n",
       " 'https://www.halfbakedharvest.com/6-layer-3-coconut-covered-chocolate-peeps-cake/',\n",
       " 'https://www.halfbakedharvest.com/coffee-caramelized-croissant-french-toast-sticks/',\n",
       " 'https://www.halfbakedharvest.com/oatmeal-chocolate-chunk-cookie-peanut-butter-swirled-brownies/',\n",
       " 'https://www.halfbakedharvest.com/honey-nut-cheerio-bars/',\n",
       " 'https://www.halfbakedharvest.com/chocolate-coconut-ice-cream-cookie-dough-blizzard-video/',\n",
       " 'https://www.halfbakedharvest.com/blueberry-vanilla-greek-yogurt-granola-bars/',\n",
       " 'https://www.halfbakedharvest.com/meringue-encased-chocolate-mousse-smore-cakes/',\n",
       " 'https://www.halfbakedharvest.com/mini-chocolate-stout-brownie-sundae-floats-burnt-irish-caramel-hot-fudge/',\n",
       " 'https://www.halfbakedharvest.com/super-healthy-peanut-butter-date-special-k-bars/',\n",
       " 'https://www.halfbakedharvest.com/beignets-tiramisu-chocolate-ganache/',\n",
       " 'https://www.halfbakedharvest.com/banoffee-nutella-greek-yogurt-waffle-cone-parfaits-cashew-caramel-popcorn/',\n",
       " 'https://www.halfbakedharvest.com/peanut-butter-stuffed-chocolate-covered-pretzel-cookies-n-cream/',\n",
       " 'https://www.halfbakedharvest.com/toasted-coconut-lemon-bread-salted-honey-butter/',\n",
       " 'https://www.halfbakedharvest.com/toasted-fluffernutters-cabernet-chocolate-fondue/',\n",
       " 'https://www.halfbakedharvest.com/brigadeiros-brazilian-chocolate-truffles/',\n",
       " 'https://www.halfbakedharvest.com/sweet-banana-lumpia-milk-chocolate-toasted-coconut-butter/',\n",
       " 'https://www.halfbakedharvest.com/red-velvet-molten-chocolate-lava-cakes-chocolate-ganache-center/',\n",
       " 'https://www.halfbakedharvest.com/moms-simple-oatmeal-chocolate-chip-cookies-best-oatmeal-chocolate-chip-cookies-around/',\n",
       " 'https://www.halfbakedharvest.com/rice-krispie-treat-pancakes-browned-butter-syrup/',\n",
       " 'https://www.halfbakedharvest.com/warm-chocolate-chip-cookie-stuffed-soft-pretzels/',\n",
       " 'https://www.halfbakedharvest.com/thick-creamy-chocolate-pistachio-chia-shake/',\n",
       " 'https://www.halfbakedharvest.com/simple-chocolate-birthday-cake-whipped-chocolate-buttercream-video/',\n",
       " 'https://www.halfbakedharvest.com/toasted-coconut-chocolate-chunk-roasted-banana-bread/',\n",
       " 'https://www.halfbakedharvest.com/chocolate-lovers-greek-yogurt-chocolate-mousse-cake/',\n",
       " 'https://www.halfbakedharvest.com/superfood-cashew-goji-berry-bars/',\n",
       " 'https://www.halfbakedharvest.com/salted-caramel-chocolate-covered-pretzels/',\n",
       " 'https://www.halfbakedharvest.com/chocolate-peanut-butter-crinkle-cookies/',\n",
       " 'https://www.halfbakedharvest.com/christmas-chocolate-chip-cookies/',\n",
       " 'https://www.halfbakedharvest.com/sugar-cookie-hot-chocolate/',\n",
       " 'https://www.halfbakedharvest.com/chocolate-espresso-thumbprint-cookies/',\n",
       " 'https://www.halfbakedharvest.com/gingerbread-cake-with-caramel-cream-cheese-buttercream/',\n",
       " 'https://www.halfbakedharvest.com/chocolate-dipped-coconut-caramel-macaroons/',\n",
       " 'https://www.halfbakedharvest.com/christmas-cookie-decorating-kit/',\n",
       " 'https://www.halfbakedharvest.com/butter-pecan-frosted-fudge-brownies/',\n",
       " 'https://www.halfbakedharvest.com/pumpkin-chai-snickerdoodles/',\n",
       " 'https://www.halfbakedharvest.com/gooey-chocolate-chip-cookie-pie/',\n",
       " 'https://www.halfbakedharvest.com/easy-twisted-pumpkin-spice-danish/',\n",
       " 'https://www.halfbakedharvest.com/nutella-stuffed-pumpkin-beignets/',\n",
       " 'https://www.halfbakedharvest.com/addicting-5-ingredient-crockpot-chocolate-bars/',\n",
       " 'https://www.halfbakedharvest.com/mini-pecan-butter-apple-rose-tarts/',\n",
       " 'https://www.halfbakedharvest.com/cream-cheese-swirled-brown-sugar-pumpkin-coffee-cake/',\n",
       " 'https://www.halfbakedharvest.com/monster-mash-cookies/',\n",
       " 'https://www.halfbakedharvest.com/cinnamon-apple-crumble-cake/',\n",
       " 'https://www.halfbakedharvest.com/forbidden-forest-chocolate-butterbeer-cake/',\n",
       " 'https://www.halfbakedharvest.com/chocolate-chip-pumpkin-pancakes-with-whipped-maple-butter/',\n",
       " 'https://www.halfbakedharvest.com/mocha-caramel-crunch-chocolate-chip-cookie-bars/',\n",
       " 'https://www.halfbakedharvest.com/baked-salted-caramel-apple-cider-doughnuts/',\n",
       " 'https://www.halfbakedharvest.com/homemade-chocolate-peanut-butter-fudge-pop-tarts/',\n",
       " 'https://www.halfbakedharvest.com/brown-butter-plum-up-side-down-yogurt-cake-with-pistachios/',\n",
       " 'https://www.halfbakedharvest.com/chocolate-bourbon-caramel-macaron-cake-to-celebrate-my-little-kind-of-big-secret/',\n",
       " 'https://www.halfbakedharvest.com/salted-pretzel-nutella-fudge-milkshake-with-malted-milk-whipped-cream/',\n",
       " 'https://www.halfbakedharvest.com/mini-bourbon-caramelized-peach-baked-alaska-with-butter-pecan-ice-cream/',\n",
       " 'https://www.halfbakedharvest.com/chewy-cherry-almond-and-cacao-nib-granola-bars/',\n",
       " 'https://www.halfbakedharvest.com/double-chocolate-hawaiian-tiramisu/',\n",
       " 'https://www.halfbakedharvest.com/baked-mixed-berry-coconut-cornbread-muffins/',\n",
       " 'https://www.halfbakedharvest.com/chocolate-chip-cookie-dough-infused-waffles-made-into-waffle-ice-cream-sammies/',\n",
       " 'https://www.halfbakedharvest.com/oatmeal-chocolate-chunk-cookie-stuffed-campfire-bananas/',\n",
       " 'https://www.halfbakedharvest.com/cherry-cobbler-with-honey-butter-vanilla-bean-biscuits-links/',\n",
       " 'https://www.halfbakedharvest.com/double-chocolate-coconut-oil-zucchini-muffins-with-caramelized-buckwheat/',\n",
       " 'https://www.halfbakedharvest.com/miso-chocolate-fudge-and-haupia-coconut-pudding-macaroon-pie/',\n",
       " 'https://www.halfbakedharvest.com/raspberry-nectarine-and-sweet-corn-clafoutis/',\n",
       " 'https://www.halfbakedharvest.com/strawberry-jelly-and-vanilla-cream-brioche-doughnuts-with-lilac-sugar/',\n",
       " 'https://www.halfbakedharvest.com/hibiscus-cherry-and-ginger-beer-ice-cream-floats/',\n",
       " 'https://www.halfbakedharvest.com/honey-butter-stone-fruit-and-blackberry-meringue-tart/',\n",
       " 'https://www.halfbakedharvest.com/chocolate-dipped-peanut-butter-espresso-smore/',\n",
       " 'https://www.halfbakedharvest.com/cherry-and-goats-milk-coconut-mousse/',\n",
       " 'https://www.halfbakedharvest.com/no-churn-ice-cream-5-ways/',\n",
       " 'https://www.halfbakedharvest.com/sweet-blueberry-buttermilk-pies-with-chamomile-cream/',\n",
       " 'https://www.halfbakedharvest.com/salted-chocolate-dipped-banana-almond-pops-with-malted-coconut-honey/',\n",
       " 'https://www.halfbakedharvest.com/mini-vegan-no-bake-chocolate-mocha-fudge-and-coconut-tarts/',\n",
       " 'https://www.halfbakedharvest.com/ginger-hibiscus-and-minty-watermelon-popsicles/',\n",
       " 'https://www.halfbakedharvest.com/brooklyn-blackout-cake/',\n",
       " 'https://www.halfbakedharvest.com/deep-dark-rosy-red-velvet-cupcakes/',\n",
       " 'https://www.halfbakedharvest.com/kahlua-chocolate-pudding-oatmeal-chocolate-chip-cookies/',\n",
       " 'https://www.halfbakedharvest.com/best-peanut-butter-cup-fudge-brownies/',\n",
       " 'https://www.halfbakedharvest.com/chocolate-fudge-swirled-lemon-ricotta-tart/',\n",
       " 'https://www.halfbakedharvest.com/vanilla-cream-filled-cabernet-hot-chocolate-snowball-doughnuts/',\n",
       " 'https://www.halfbakedharvest.com/dark-chocolate-dipped-crunchy-coconut-cashew-sesame-bars/',\n",
       " 'https://www.halfbakedharvest.com/vanilla-chia-earl-grey-chocolate-banana-muffins/',\n",
       " 'https://www.halfbakedharvest.com/chocolate-truffle-martini-dulce-de-leche-rum-butter-truffles/',\n",
       " 'https://www.halfbakedharvest.com/eggnog-chocolate-marzipan-babka-french-toast/',\n",
       " 'https://www.halfbakedharvest.com/naughty-nice-hot-cocoa-spiked-eggnog-marshmallows/',\n",
       " 'https://www.halfbakedharvest.com/chocolate-candy-bar-baklava-butter-rum-sauce/',\n",
       " 'https://www.halfbakedharvest.com/chocolate-chip-cookie-bottomed-salted-rum-caramel-tart-toasted-marshmallow/',\n",
       " 'https://www.halfbakedharvest.com/triple-chocolate-truffle-cheesecake-cookies/',\n",
       " 'https://www.halfbakedharvest.com/homemade-holidays-coconut-caramel-stuffed-chocolate-covered-pretzel-presents/',\n",
       " 'https://www.halfbakedharvest.com/gingerbread-surprise-beignets-spiced-mocha-hot-chocolate/',\n",
       " 'https://www.halfbakedharvest.com/easy-slice-n-bake-vanilla-bean-christmas-sugar-cookies-wwhipped-buttercream/',\n",
       " 'https://www.halfbakedharvest.com/loaded-chocolate-hazelnut-liquor-turnovers-salted-vanilla-bean-whipped-cream/',\n",
       " 'https://www.halfbakedharvest.com/idiot-proof-5-ingredient-puppy-chow-ritz-cracker-cookies/',\n",
       " 'https://www.halfbakedharvest.com/incredibly-gooey-collapsing-chocolate-bourbon-pecan-pie-custard-cake/',\n",
       " 'https://www.halfbakedharvest.com/chocolate-drizzled-buttery-pecan-caramelized-condensed-milk-cookies/',\n",
       " 'https://www.halfbakedharvest.com/warm-toasted-caramel-coconut-gooey-chocolate-crunch-bars/',\n",
       " 'https://www.halfbakedharvest.com/cinnamon-sugar-nutella-swirled-pumpkin-pie-pop-tarts/',\n",
       " 'https://www.halfbakedharvest.com/mini-chocolate-pumpkin-seed-candy-peanut-butter-cups/',\n",
       " 'https://www.halfbakedharvest.com/chewy-brown-sugar-maple-cookies/',\n",
       " 'https://www.halfbakedharvest.com/baked-apple-cider-doughnuts/',\n",
       " 'https://www.halfbakedharvest.com/iced-fudge-brownies/',\n",
       " 'https://www.halfbakedharvest.com/chocolate-zucchini-banana-cake/',\n",
       " 'https://www.halfbakedharvest.com/vegan-double-chocolate-chunk-cookies/',\n",
       " 'https://www.halfbakedharvest.com/blackberry-lavender-sheet-cake/',\n",
       " 'https://www.halfbakedharvest.com/coffee-and-fudge-ice-cream-cake/',\n",
       " 'https://www.halfbakedharvest.com/iced-brown-sugar-latte/',\n",
       " 'https://www.halfbakedharvest.com/raspberry-peach-sherbet/',\n",
       " 'https://www.halfbakedharvest.com/frozen-chocolate-peanut-butter-cups/',\n",
       " 'https://www.halfbakedharvest.com/brown-sugar-peach-shortcakes/',\n",
       " 'https://www.halfbakedharvest.com/chocolate-frosty/',\n",
       " 'https://www.halfbakedharvest.com/berry-ice-cream-butter-cake/',\n",
       " 'https://www.halfbakedharvest.com/strawberry-pink-drink/',\n",
       " 'https://www.halfbakedharvest.com/mangonada/',\n",
       " 'https://www.halfbakedharvest.com/5-ingredient-peach-dump/',\n",
       " 'https://www.halfbakedharvest.com/buster-bars/',\n",
       " 'https://www.halfbakedharvest.com/creamy-fruit-popsicles/',\n",
       " 'https://www.halfbakedharvest.com/blueberry-lavender-pie/',\n",
       " 'https://www.halfbakedharvest.com/smores-skillet-brownie/',\n",
       " 'https://www.halfbakedharvest.com/blackberry-peach-crisp/',\n",
       " 'https://www.halfbakedharvest.com/strawberry-and-cream-rye-pretzel-tart/',\n",
       " 'https://www.halfbakedharvest.com/cookies-n-cream-chocolate-chip-cookies/',\n",
       " 'https://www.halfbakedharvest.com/peanut-butter-mocha-oreo-ice-cream-sandwiches/',\n",
       " 'https://www.halfbakedharvest.com/double-stuffed-pumpkin-pie-oreos/',\n",
       " 'https://www.halfbakedharvest.com/vegan-gooey-chocolate-doughnuts-giveaway/',\n",
       " 'https://www.halfbakedharvest.com/chocolate-chip-pumpkin-cinnamon-roll-dutch-baby/',\n",
       " 'https://www.halfbakedharvest.com/salted-pretzel-chocolate-chip-cookie-dough-snickers-bars/',\n",
       " 'https://www.halfbakedharvest.com/toasted-coconut-chocolate-pumpkin-spice-latte-chocolate-drizzle/',\n",
       " 'https://www.halfbakedharvest.com/peanut-butter-cup-cookies-cream-salted-caramel-popcorn-bars/',\n",
       " 'https://www.halfbakedharvest.com/apple-pecan-pie-cronuts-apple-cider-caramel-drizzle/',\n",
       " 'https://www.halfbakedharvest.com/roasted-apple-pecan-brie-buckwheat-waffles-caramel-drizzle/',\n",
       " 'https://www.halfbakedharvest.com/homemade-croissants-step-step-photos/',\n",
       " 'https://www.halfbakedharvest.com/ultimate-triple-layer-chocolate-bourbon-peanut-butter-buckeye-cake/',\n",
       " 'https://www.halfbakedharvest.com/whole-wheat-chocolate-chip-pumpkin-cookie-bars/',\n",
       " 'https://www.halfbakedharvest.com/brown-butter-vanilla-bean-nutella-swirled-rice-krispie-treats/',\n",
       " 'https://www.halfbakedharvest.com/chewy-chocolate-drenched-peanut-butter-cornflake-crunch-fudge-brownies/',\n",
       " 'https://www.halfbakedharvest.com/chocolate-chip-banana-fluffernutter-sandwich-cookies/',\n",
       " 'https://www.halfbakedharvest.com/chocolate-lovers-triple-layer-coffee-caramel-chocolate-mousse-cakes/',\n",
       " 'https://www.halfbakedharvest.com/nutella-stuffed-whole-wheat-peanut-butter-banana-and-zucchini-muffins/',\n",
       " 'https://www.halfbakedharvest.com/jalapeno-cheddar-cornbread-pancakes-with-roasted-blueberry-honey-syrup/',\n",
       " 'https://www.halfbakedharvest.com/honey-toasted-hazelnut-chocolate-chunk-cupcakes-with-boozy-honey-buttercream-frosting/',\n",
       " 'https://www.halfbakedharvest.com/homemade-strawberry-nutri-grain-bars/',\n",
       " 'https://www.halfbakedharvest.com/smore-mousse-filled-chocolate-cups/',\n",
       " 'https://www.halfbakedharvest.com/coconut-banana-cream-chocolate-truffle-pie/',\n",
       " 'https://www.halfbakedharvest.com/fudge-brownie-caramel-popcorn-oatmeal-cookie-crumble-7-layer-bars/',\n",
       " 'https://www.halfbakedharvest.com/chocolate-chip-stuffed-cinnamon-roll-ice-cream-with-vanilla-bean-brown-butter-sauce/',\n",
       " 'https://www.halfbakedharvest.com/chocolate-dipped-homemade-peanut-butter-oreo-mocha-ice-cream-sandwiches/',\n",
       " 'https://www.halfbakedharvest.com/cinnamon-swirl-chocolate-chip-pumpkin-butter-bread/',\n",
       " 'https://www.halfbakedharvest.com/brown-sugar-maple-cookies/',\n",
       " 'https://www.halfbakedharvest.com/salted-pretzel-chocolate-chip-cookie-snickers-bars/',\n",
       " 'https://www.halfbakedharvest.com/brown-butter-apple-blondies/',\n",
       " 'https://www.halfbakedharvest.com/cinnamon-spiced-apple-fritters/',\n",
       " 'https://www.halfbakedharvest.com/salted-maple-apple-tarte-tatin-with-vanilla-cream-toasted-pumpkin-seeds/',\n",
       " 'https://www.halfbakedharvest.com/homemade-nutter-butter-cookies/',\n",
       " 'https://www.halfbakedharvest.com/chocolate-peanut-butter-bars/',\n",
       " 'https://www.halfbakedharvest.com/no-churn-fudge-brownie-coffee-ice-cream/',\n",
       " 'https://www.halfbakedharvest.com/smores-stuffed-chocolate-chip-skillet-cookie/',\n",
       " 'https://www.halfbakedharvest.com/skillet-cinnamon-sugar-peach-upside-down-cake/',\n",
       " 'https://www.halfbakedharvest.com/cinnamon-sugar-blueberry-crumb-bars/',\n",
       " 'https://www.halfbakedharvest.com/chocolate-fudge-pops/',\n",
       " 'https://www.halfbakedharvest.com/strawberry-chamomile-cheesecake/',\n",
       " 'https://www.halfbakedharvest.com/chocolate-chunk-almond-butter-zucchini-bread/',\n",
       " 'https://www.halfbakedharvest.com/malted-milk-cookies-n-cream-ice-cream-sandwiches/',\n",
       " 'https://www.halfbakedharvest.com/key-lime-pie/',\n",
       " 'https://www.halfbakedharvest.com/raspberry-cream-pretzel-hand-pies/',\n",
       " 'https://www.halfbakedharvest.com/peanut-butter-brownie-ice-cream-bars/',\n",
       " 'https://www.halfbakedharvest.com/lavender-lemon-sugar-cookies/',\n",
       " 'https://www.halfbakedharvest.com/skillet-blueberry-bourbon-pandowdy/',\n",
       " 'https://www.halfbakedharvest.com/buckeye-crunch-bars/',\n",
       " 'https://www.halfbakedharvest.com/hot-fudge-cookies/',\n",
       " 'https://www.halfbakedharvest.com/cinnamon-sugar-peach-cobbler/']"
      ]
     },
     "execution_count": 3,
     "metadata": {},
     "output_type": "execute_result"
    }
   ],
   "source": [
    "all_recipes_url"
   ]
  },
  {
   "cell_type": "code",
   "execution_count": 5,
   "id": "a5357845",
   "metadata": {},
   "outputs": [
    {
     "data": {
      "text/plain": [
       "186"
      ]
     },
     "execution_count": 5,
     "metadata": {},
     "output_type": "execute_result"
    }
   ],
   "source": [
    "\n",
    "# Read the URLs from the text file\n",
    "with open('newnewfailed_url.txt', 'r') as file:\n",
    "    failed_url = file.readlines()\n",
    "\n",
    "# Strip newline characters from each URL\n",
    "failed_url = [url.strip() for url in failed_url]\n",
    "\n",
    "len(failed_url)"
   ]
  },
  {
   "cell_type": "code",
   "execution_count": 6,
   "id": "a8a66fb7",
   "metadata": {
    "scrolled": true
   },
   "outputs": [
    {
     "data": {
      "text/plain": [
       "['https://www.halfbakedharvest.com/marshmallow-brown-sugar-cookie-bars/',\n",
       " 'https://www.halfbakedharvest.com/peanut-butter-crunch-bars/',\n",
       " 'https://www.halfbakedharvest.com/no-churn-strawberry-ice-cream/',\n",
       " 'https://www.halfbakedharvest.com/31-recipes-to-cook-in-may/',\n",
       " 'https://www.halfbakedharvest.com/blueberry-sour-cream-coffee-cake/',\n",
       " 'https://www.halfbakedharvest.com/banana-cupcakes/',\n",
       " 'https://www.halfbakedharvest.com/chocolate-peanut-fudge-bars/',\n",
       " 'https://www.halfbakedharvest.com/chocolate-chunk-honey-sesame-cookies/',\n",
       " 'https://www.halfbakedharvest.com/christmas-tree-cookies/',\n",
       " 'https://www.halfbakedharvest.com/chewy-christmas-snickerdoodles/',\n",
       " 'https://www.halfbakedharvest.com/zucchini-doughnuts/',\n",
       " 'https://www.halfbakedharvest.com/cottage-cheese-chocolate-chip-peanut-muffins/',\n",
       " 'https://www.halfbakedharvest.com/brown-sugar-strawberry-cobbler/',\n",
       " 'https://www.halfbakedharvest.com/chocolate-chip-muffins/',\n",
       " 'https://www.halfbakedharvest.com/samoas-pretzel-presents/',\n",
       " 'https://www.halfbakedharvest.com/vanilla-burnt-basque-cheesecake/',\n",
       " 'https://www.halfbakedharvest.com/brown-sugar-maple-cookie-pie/',\n",
       " 'https://www.halfbakedharvest.com/caramel-mocha-nutella-brownies/',\n",
       " 'https://www.halfbakedharvest.com/pretzel-snickers-chocolate-chip-cookie-bars/',\n",
       " 'https://www.halfbakedharvest.com/tiramisu-cake/',\n",
       " 'https://www.halfbakedharvest.com/tahini-butter-chocolate-chip-cookies/',\n",
       " 'https://www.halfbakedharvest.com/christmas-mm-cookie-bars/',\n",
       " 'https://www.halfbakedharvest.com/caramel-brulee-latte/',\n",
       " 'https://www.halfbakedharvest.com/molten-chocolate-crackle-pie/',\n",
       " 'https://www.halfbakedharvest.com/chai-pumpkin-latte-cupcakes/',\n",
       " 'https://www.halfbakedharvest.com/mini-apple-cider-cakes/',\n",
       " 'https://www.halfbakedharvest.com/fudgy-chocolate-peanut-butter-ice-cream-pretzel-cake/',\n",
       " 'https://www.halfbakedharvest.com/homemade-frosted-brown-sugar-cinnamon-pop-tarts/',\n",
       " 'https://www.halfbakedharvest.com/skillet-strawberry-bourbon-cobbler/',\n",
       " 'https://www.halfbakedharvest.com/homemade-vegan-twix-bars/',\n",
       " 'https://www.halfbakedharvest.com/white-christmas-cranberry-layer-cake/',\n",
       " 'https://www.halfbakedharvest.com/chai-spiced-apple-ricotta-galette/',\n",
       " 'https://www.halfbakedharvest.com/chocolate-peanut-butter-pretzel-blondies/',\n",
       " 'https://www.halfbakedharvest.com/healthier-banoffee-pie/',\n",
       " 'https://www.halfbakedharvest.com/healthy-coconut-tart/',\n",
       " 'https://www.halfbakedharvest.com/blackberry-lavender-cobbler/',\n",
       " 'https://www.halfbakedharvest.com/no-bake-eton-mess-berry-cheesecake/',\n",
       " 'https://www.halfbakedharvest.com/homemade-animal-crackers/',\n",
       " 'https://www.halfbakedharvest.com/strawberry-glazed-chai-doughnuts/',\n",
       " 'https://www.halfbakedharvest.com/jammy-strawberry-galette/',\n",
       " 'https://www.halfbakedharvest.com/chai-pumpkin-cake/',\n",
       " 'https://www.halfbakedharvest.com/maple-pecan-sticky-buns/',\n",
       " 'https://www.halfbakedharvest.com/chocolate-chip-peanut-butter-swirled-cookie-bars/',\n",
       " 'https://www.halfbakedharvest.com/6-ingredient-no-bake-chocolate-chip-cookies/',\n",
       " 'https://www.halfbakedharvest.com/5-ingredient-chocolate-dipped-peanut-butter-cookies/',\n",
       " 'https://www.halfbakedharvest.com/sugar-cookie-chocolate-creme-brulee/',\n",
       " 'https://www.halfbakedharvest.com/cinnamon-spiced-sugar-cookies-with-browned-butter-frosting/',\n",
       " 'https://www.halfbakedharvest.com/vanilla-glazed-blackberry-peach-coffee-cake/',\n",
       " 'https://www.halfbakedharvest.com/mixed-berry-almond-croissants/',\n",
       " 'https://www.halfbakedharvest.com/salty-peanut-butter-smore-ice-cream-cake-video/',\n",
       " 'https://www.halfbakedharvest.com/strawberry-cornmeal-cake-with-buttermilk-glaze/',\n",
       " 'https://www.halfbakedharvest.com/frozen-peanut-butter-cup-pie/',\n",
       " 'https://www.halfbakedharvest.com/rainbow-frozen-yogurt-pops/',\n",
       " 'https://www.halfbakedharvest.com/moroccan-chocolate-almond-phyllo-cake-snake-cake/',\n",
       " 'https://www.halfbakedharvest.com/peanut-butter-swirled-chocolate-fudge-popsicles/',\n",
       " 'https://www.halfbakedharvest.com/raw-chocolate-banana-cashew-cream-pie-bars/',\n",
       " 'https://www.halfbakedharvest.com/one-bowl-8-ingredient-irish-coffee-fudge-brownies/',\n",
       " 'https://www.halfbakedharvest.com/winter-bliss-balls/',\n",
       " 'https://www.halfbakedharvest.com/chocolate-peanut-butter-bubble-panna-cotta-with-honey-roasted-peanuts/',\n",
       " 'https://www.halfbakedharvest.com/double-chocolate-brownie-irish-car-bomb-cheesecakes/',\n",
       " 'https://www.halfbakedharvest.com/toasted-coconut-cream-rum-chocolate-mousse-crepe-cake/',\n",
       " 'https://www.halfbakedharvest.com/easy-jalapeno-popper-chicken-chili-cheddar-polenta-pot-pies/',\n",
       " 'https://www.halfbakedharvest.com/cinnamon-brioche-chocolate-chip-french-toast-muffins-coconut-streusel/',\n",
       " 'https://www.halfbakedharvest.com/pumpkin-cream-cheese-muffins/',\n",
       " 'https://www.halfbakedharvest.com/monster-crunchies/',\n",
       " 'https://www.halfbakedharvest.com/double-chocolate-chip-zucchini-bread/',\n",
       " 'https://www.halfbakedharvest.com/strawberry-tiramisu/',\n",
       " 'https://www.halfbakedharvest.com/maple-glazed-doughnuts/',\n",
       " 'https://www.halfbakedharvest.com/brown-butter-glazed-peanut-butter-blondies/',\n",
       " 'https://www.halfbakedharvest.com/double-strawberry-cupcakes/',\n",
       " 'https://www.halfbakedharvest.com/chewy-chocolate-peanut-butter-bars/',\n",
       " 'https://www.halfbakedharvest.com/chocolate-peanut-butter-oatmeal-bars/',\n",
       " 'https://www.halfbakedharvest.com/oatmeal-chocolate-chip-cookie-cereal/',\n",
       " 'https://www.halfbakedharvest.com/molten-chocolate-coffee-blondies/',\n",
       " 'https://www.halfbakedharvest.com/lemon-sugar-burnt-basque-cheesecake/',\n",
       " 'https://www.halfbakedharvest.com/cinnamon-streusel-coffee-coffee-cake/',\n",
       " 'https://www.halfbakedharvest.com/strawberry-conversation-heart-cupcakes/',\n",
       " 'https://www.halfbakedharvest.com/salted-pretzel-magic-bars/',\n",
       " 'https://www.halfbakedharvest.com/6-ingredient-rice-krispie-treat-chocolate-ice-cream-sandwiches/',\n",
       " 'https://www.halfbakedharvest.com/cookie-ice-cream-sandwiches/',\n",
       " 'https://www.halfbakedharvest.com/chocolate-chip-skillet-cookie/',\n",
       " 'https://www.halfbakedharvest.com/tres-leches-cake/',\n",
       " 'https://www.halfbakedharvest.com/hydrangea-flower-carrot-cake-cupcakes/',\n",
       " 'https://www.halfbakedharvest.com/strawberry-chamomile-naked-cake/',\n",
       " 'https://www.halfbakedharvest.com/crinkle-top-brownies/',\n",
       " 'https://www.halfbakedharvest.com/strawberry-rhubarb-cobbler-honey-butter-biscuits/',\n",
       " 'https://www.halfbakedharvest.com/banana-cream-pie-chocolate-peanuts/',\n",
       " 'https://www.halfbakedharvest.com/strawberry-rosehip-frozen-yogurt/',\n",
       " 'https://www.halfbakedharvest.com/coconut-chocolate-chunk-cookies-video/',\n",
       " 'https://www.halfbakedharvest.com/coconut-banana-3-milk-cupcakes-with-nutella-buttercream/',\n",
       " 'https://www.halfbakedharvest.com/coconut-carrot-cake-cheesecake/',\n",
       " 'https://www.halfbakedharvest.com/sweet-cuban-coconut-balls-with-melted-chocolate-coquito-acaramelado/',\n",
       " 'https://www.halfbakedharvest.com/superfood-hot-chocolate-with-honey-caramelized-brioche/',\n",
       " 'https://www.halfbakedharvest.com/banana-and-chocolate-chia-cream-pie-parfaits/',\n",
       " 'https://www.halfbakedharvest.com/4-ingredient-dark-chocolate-covered-peanut-butter-stuffed-dates/',\n",
       " 'https://www.halfbakedharvest.com/gingerbread-latte-salted-caramel-sugar-video/',\n",
       " 'https://www.halfbakedharvest.com/hot-fudge-brownie-double-scooped-ice-cream-sundae-high-hat-cupcakes-cone/',\n",
       " 'https://www.halfbakedharvest.com/vanilla-bean-coconut-quinoa-pudding-honey-drizzled-raspberries/',\n",
       " 'https://www.halfbakedharvest.com/vanilla-bourbon-cherry-blueberry-pie/',\n",
       " 'https://www.halfbakedharvest.com/coconut-raspberry-macarons-raspberry-rose-buttercream/',\n",
       " 'https://www.halfbakedharvest.com/vegan-deconstructed-boozy-mocha-drenched-grilled-banana-coconut-cream-pies/',\n",
       " 'https://www.halfbakedharvest.com/caramelized-strawberry-graham-cracker-crumble-ice-cream/',\n",
       " 'https://www.halfbakedharvest.com/triple-berry-kahlua-crisp-double-crumble/',\n",
       " 'https://www.halfbakedharvest.com/churro-milkshakes-dulce-de-leche/',\n",
       " 'https://www.halfbakedharvest.com/tahini-hot-chocolate/',\n",
       " 'https://www.halfbakedharvest.com/lemon-ricotta-poppy-seed-cakes/',\n",
       " 'https://www.halfbakedharvest.com/blender-chocolate-peanut-butter-muffins/',\n",
       " 'https://www.halfbakedharvest.com/gingerbread-latte-cookies/',\n",
       " 'https://www.halfbakedharvest.com/caramel-snickerdoodle-pie/',\n",
       " 'https://www.halfbakedharvest.com/pumpkin-sugar-cookies/',\n",
       " 'https://www.halfbakedharvest.com/chocolate-chip-espresso-oatmeal-cookies/',\n",
       " 'https://www.halfbakedharvest.com/giant-frosted-chocolate-fudge-pop-tart/',\n",
       " 'https://www.halfbakedharvest.com/vanilla-bean-olive-oil-ice-cream/',\n",
       " 'https://www.halfbakedharvest.com/special-k-bars/',\n",
       " 'https://www.halfbakedharvest.com/giant-strawberries-n-cream-pop-tart/',\n",
       " 'https://www.halfbakedharvest.com/whipped-lemon-ricotta-cheesecake/',\n",
       " 'https://www.halfbakedharvest.com/lemon-rose-shortbread-cookies/',\n",
       " 'https://www.halfbakedharvest.com/2018-holiday-cookie-box/',\n",
       " 'https://www.halfbakedharvest.com/chai-spiced-santa-cookies/',\n",
       " 'https://www.halfbakedharvest.com/buckeye-fudge-ice-cream/',\n",
       " 'https://www.halfbakedharvest.com/brown-sugar-caramel-oatmeal-cookie-peach-crisp/',\n",
       " 'https://www.halfbakedharvest.com/blueberry-brie-cornbread-biscuits-honey-butter/',\n",
       " 'https://www.halfbakedharvest.com/honey-strawberry-peach-pie/',\n",
       " 'https://www.halfbakedharvest.com/layered-caramel-buster-bars/',\n",
       " 'https://www.halfbakedharvest.com/mexican-samoas-cookies/',\n",
       " 'https://www.halfbakedharvest.com/sweet-potato-pie-cinnamon-rolls-with-butter-whipped-meringue-frosting/',\n",
       " 'https://www.halfbakedharvest.com/caramelized-condensed-milk-mini-apple-pies/',\n",
       " 'https://www.halfbakedharvest.com/easy-peanut-butter-cup-fudge-with-salted-bourbon-sugar/',\n",
       " 'https://www.halfbakedharvest.com/deathly-chocolate-graveyard-cakes-witches-beware/',\n",
       " 'https://www.halfbakedharvest.com/pumpkin-nutella-crepe-cake/',\n",
       " 'https://www.halfbakedharvest.com/maple-glazed-apple-fritters/',\n",
       " 'https://www.halfbakedharvest.com/death-butterbeer-cupcakes-wtreacle-butter-frosting-chocolate-covered-pretzels/',\n",
       " 'https://www.halfbakedharvest.com/samoa-macaroon-tarts/',\n",
       " 'https://www.halfbakedharvest.com/2-ingredient-strawberry-popsicles-links-inspire/',\n",
       " 'https://www.halfbakedharvest.com/healthier-chocolate-lovers-sweet-corn-hazelnut-crunch-chocolate-cake-wganache/',\n",
       " 'https://www.halfbakedharvest.com/sweet-balsamic-strawberries-wwhipped-ricotta-cream-maple-glazed-seeded-nuts/',\n",
       " 'https://www.halfbakedharvest.com/6-layer-3-coconut-covered-chocolate-peeps-cake/',\n",
       " 'https://www.halfbakedharvest.com/blueberry-vanilla-greek-yogurt-granola-bars/',\n",
       " 'https://www.halfbakedharvest.com/meringue-encased-chocolate-mousse-smore-cakes/',\n",
       " 'https://www.halfbakedharvest.com/mini-chocolate-stout-brownie-sundae-floats-burnt-irish-caramel-hot-fudge/',\n",
       " 'https://www.halfbakedharvest.com/toasted-coconut-lemon-bread-salted-honey-butter/',\n",
       " 'https://www.halfbakedharvest.com/sweet-banana-lumpia-milk-chocolate-toasted-coconut-butter/',\n",
       " 'https://www.halfbakedharvest.com/moms-simple-oatmeal-chocolate-chip-cookies-best-oatmeal-chocolate-chip-cookies-around/',\n",
       " 'https://www.halfbakedharvest.com/warm-chocolate-chip-cookie-stuffed-soft-pretzels/',\n",
       " 'https://www.halfbakedharvest.com/salted-caramel-chocolate-covered-pretzels/',\n",
       " 'https://www.halfbakedharvest.com/gingerbread-cake-with-caramel-cream-cheese-buttercream/',\n",
       " 'https://www.halfbakedharvest.com/chocolate-dipped-coconut-caramel-macaroons/',\n",
       " 'https://www.halfbakedharvest.com/christmas-cookie-decorating-kit/',\n",
       " 'https://www.halfbakedharvest.com/butter-pecan-frosted-fudge-brownies/',\n",
       " 'https://www.halfbakedharvest.com/pumpkin-chai-snickerdoodles/',\n",
       " 'https://www.halfbakedharvest.com/addicting-5-ingredient-crockpot-chocolate-bars/',\n",
       " 'https://www.halfbakedharvest.com/cream-cheese-swirled-brown-sugar-pumpkin-coffee-cake/',\n",
       " 'https://www.halfbakedharvest.com/mocha-caramel-crunch-chocolate-chip-cookie-bars/',\n",
       " 'https://www.halfbakedharvest.com/baked-salted-caramel-apple-cider-doughnuts/',\n",
       " 'https://www.halfbakedharvest.com/chocolate-bourbon-caramel-macaron-cake-to-celebrate-my-little-kind-of-big-secret/',\n",
       " 'https://www.halfbakedharvest.com/baked-mixed-berry-coconut-cornbread-muffins/',\n",
       " 'https://www.halfbakedharvest.com/chocolate-chip-cookie-dough-infused-waffles-made-into-waffle-ice-cream-sammies/',\n",
       " 'https://www.halfbakedharvest.com/cherry-cobbler-with-honey-butter-vanilla-bean-biscuits-links/',\n",
       " 'https://www.halfbakedharvest.com/raspberry-nectarine-and-sweet-corn-clafoutis/',\n",
       " 'https://www.halfbakedharvest.com/cherry-and-goats-milk-coconut-mousse/',\n",
       " 'https://www.halfbakedharvest.com/sweet-blueberry-buttermilk-pies-with-chamomile-cream/',\n",
       " 'https://www.halfbakedharvest.com/deep-dark-rosy-red-velvet-cupcakes/',\n",
       " 'https://www.halfbakedharvest.com/vanilla-cream-filled-cabernet-hot-chocolate-snowball-doughnuts/',\n",
       " 'https://www.halfbakedharvest.com/vanilla-chia-earl-grey-chocolate-banana-muffins/',\n",
       " 'https://www.halfbakedharvest.com/chocolate-truffle-martini-dulce-de-leche-rum-butter-truffles/',\n",
       " 'https://www.halfbakedharvest.com/incredibly-gooey-collapsing-chocolate-bourbon-pecan-pie-custard-cake/',\n",
       " 'https://www.halfbakedharvest.com/warm-toasted-caramel-coconut-gooey-chocolate-crunch-bars/',\n",
       " 'https://www.halfbakedharvest.com/baked-apple-cider-doughnuts/',\n",
       " 'https://www.halfbakedharvest.com/raspberry-peach-sherbet/',\n",
       " 'https://www.halfbakedharvest.com/frozen-chocolate-peanut-butter-cups/',\n",
       " 'https://www.halfbakedharvest.com/brown-sugar-peach-shortcakes/',\n",
       " 'https://www.halfbakedharvest.com/blueberry-lavender-pie/',\n",
       " 'https://www.halfbakedharvest.com/vegan-gooey-chocolate-doughnuts-giveaway/',\n",
       " 'https://www.halfbakedharvest.com/chocolate-chip-pumpkin-cinnamon-roll-dutch-baby/',\n",
       " 'https://www.halfbakedharvest.com/salted-pretzel-chocolate-chip-cookie-dough-snickers-bars/',\n",
       " 'https://www.halfbakedharvest.com/peanut-butter-cup-cookies-cream-salted-caramel-popcorn-bars/',\n",
       " 'https://www.halfbakedharvest.com/ultimate-triple-layer-chocolate-bourbon-peanut-butter-buckeye-cake/',\n",
       " 'https://www.halfbakedharvest.com/honey-toasted-hazelnut-chocolate-chunk-cupcakes-with-boozy-honey-buttercream-frosting/',\n",
       " 'https://www.halfbakedharvest.com/chocolate-dipped-homemade-peanut-butter-oreo-mocha-ice-cream-sandwiches/',\n",
       " 'https://www.halfbakedharvest.com/brown-sugar-maple-cookies/',\n",
       " 'https://www.halfbakedharvest.com/salted-pretzel-chocolate-chip-cookie-snickers-bars/',\n",
       " 'https://www.halfbakedharvest.com/chocolate-peanut-butter-bars/',\n",
       " 'https://www.halfbakedharvest.com/cinnamon-sugar-blueberry-crumb-bars/',\n",
       " 'https://www.halfbakedharvest.com/key-lime-pie/',\n",
       " 'https://www.halfbakedharvest.com/raspberry-cream-pretzel-hand-pies/',\n",
       " 'https://www.halfbakedharvest.com/lavender-lemon-sugar-cookies/']"
      ]
     },
     "execution_count": 6,
     "metadata": {},
     "output_type": "execute_result"
    }
   ],
   "source": [
    "failed_url"
   ]
  },
  {
   "cell_type": "code",
   "execution_count": null,
   "id": "05734891",
   "metadata": {},
   "outputs": [],
   "source": []
  },
  {
   "cell_type": "markdown",
   "id": "1607b7d2",
   "metadata": {},
   "source": [
    "# Extract Information of all recipes"
   ]
  },
  {
   "cell_type": "code",
   "execution_count": 7,
   "id": "fb1dc3f6",
   "metadata": {},
   "outputs": [],
   "source": [
    "new_failed_url = []"
   ]
  },
  {
   "cell_type": "code",
   "execution_count": 8,
   "id": "5230da34",
   "metadata": {},
   "outputs": [],
   "source": [
    "# Empty Dataframe\n",
    "columns = [\n",
    "    'title',\n",
    "    'prep_time',\n",
    "    'cook_time',\n",
    "    'total_time',\n",
    "    'ingredients',\n",
    "    'ingredients with measurement',\n",
    "    'instructions',\n",
    "    'calories',\n",
    "    'servings',\n",
    "    'images'\n",
    "]"
   ]
  },
  {
   "cell_type": "code",
   "execution_count": 9,
   "id": "0aedaaab",
   "metadata": {},
   "outputs": [
    {
     "data": {
      "text/html": [
       "<div>\n",
       "<style scoped>\n",
       "    .dataframe tbody tr th:only-of-type {\n",
       "        vertical-align: middle;\n",
       "    }\n",
       "\n",
       "    .dataframe tbody tr th {\n",
       "        vertical-align: top;\n",
       "    }\n",
       "\n",
       "    .dataframe thead th {\n",
       "        text-align: right;\n",
       "    }\n",
       "</style>\n",
       "<table border=\"1\" class=\"dataframe\">\n",
       "  <thead>\n",
       "    <tr style=\"text-align: right;\">\n",
       "      <th></th>\n",
       "      <th>title</th>\n",
       "      <th>prep_time</th>\n",
       "      <th>cook_time</th>\n",
       "      <th>total_time</th>\n",
       "      <th>ingredients</th>\n",
       "      <th>ingredients with measurement</th>\n",
       "      <th>instructions</th>\n",
       "      <th>calories</th>\n",
       "      <th>servings</th>\n",
       "      <th>images</th>\n",
       "    </tr>\n",
       "  </thead>\n",
       "  <tbody>\n",
       "  </tbody>\n",
       "</table>\n",
       "</div>"
      ],
      "text/plain": [
       "Empty DataFrame\n",
       "Columns: [title, prep_time, cook_time, total_time, ingredients, ingredients with measurement, instructions, calories, servings, images]\n",
       "Index: []"
      ]
     },
     "execution_count": 9,
     "metadata": {},
     "output_type": "execute_result"
    }
   ],
   "source": [
    "final = pd.DataFrame(columns=columns)\n",
    "final"
   ]
  },
  {
   "cell_type": "markdown",
   "id": "203deee8",
   "metadata": {},
   "source": [
    "# Extract Function"
   ]
  },
  {
   "cell_type": "code",
   "execution_count": 10,
   "id": "5fc26b8c",
   "metadata": {},
   "outputs": [],
   "source": [
    "def extract(soup):\n",
    "    try:\n",
    "        # TITLE\n",
    "        h2_tag = soup.find('h2', class_='wprm-recipe-name')  # Replaced temp_soup with soup\n",
    "        if h2_tag:\n",
    "            title.append(h2_tag.text.strip())\n",
    "        else:\n",
    "            title.append('-')\n",
    "\n",
    "        # PREP TIME\n",
    "        prep_time_elem = soup.find(class_='wprm-recipe-prep-time-container')  # Replaced temp_soup with soup\n",
    "        if prep_time_elem:\n",
    "            time_dict = {}\n",
    "            hours_tag = prep_time_elem.find('span', class_='wprm-recipe-prep_time-hours')\n",
    "            minutes_tag = prep_time_elem.find('span', class_='wprm-recipe-prep_time-minutes')\n",
    "\n",
    "            if hours_tag:\n",
    "                hours_text = hours_tag.text.strip() if hours_tag else None\n",
    "                hours_value = re.sub(r'\\D', '', hours_text) if hours_text else None\n",
    "                time_dict['hours'] = hours_value\n",
    "            if minutes_tag:\n",
    "                minutes_text = minutes_tag.text.strip() if minutes_tag else None\n",
    "                minutes_value = re.sub(r'\\D', '', minutes_text) if minutes_text else None\n",
    "                time_dict['minutes'] = minutes_value\n",
    "            prep_time.append(time_dict) \n",
    "        else:\n",
    "            prep_time.append('-')\n",
    "\n",
    "        # COOK TIME\n",
    "        cook_time_elem = soup.find(class_='wprm-recipe-cook-time-container')  # Replaced temp_soup with soup\n",
    "        if cook_time_elem:\n",
    "            time_dict = {}\n",
    "            hours_tag = cook_time_elem.find('span', class_='wprm-recipe-cook_time-hours')\n",
    "            minutes_tag = cook_time_elem.find('span', class_='wprm-recipe-cook_time-minutes')\n",
    "\n",
    "            if hours_tag:\n",
    "                hours_text = hours_tag.text.strip() if hours_tag else None\n",
    "                hours_value = re.sub(r'\\D', '', hours_text) if hours_text else None\n",
    "                time_dict['hours'] = hours_value\n",
    "            if minutes_tag:\n",
    "                minutes_text = minutes_tag.text.strip() if minutes_tag else None\n",
    "                minutes_value = re.sub(r'\\D', '', minutes_text) if minutes_text else None\n",
    "                time_dict['minutes'] = minutes_value\n",
    "\n",
    "            cook_time.append(time_dict) \n",
    "        else:\n",
    "            cook_time.append('-')\n",
    "\n",
    "        # TOTAL TIME\n",
    "        total_time_elem = soup.find(class_='wprm-recipe-total-time-container')  # Replaced temp_soup with soup\n",
    "        if total_time_elem:\n",
    "            time_dict = {}\n",
    "            hours_tag = total_time_elem.find('span', class_='wprm-recipe-total_time-hours')\n",
    "            minutes_tag = total_time_elem.find('span', class_='wprm-recipe-total_time-minutes')\n",
    "\n",
    "            if hours_tag:\n",
    "                hours_text = hours_tag.text.strip() if hours_tag else None\n",
    "                hours_value = re.sub(r'\\D', '', hours_text) if hours_text else None\n",
    "                time_dict['hours'] = hours_value\n",
    "            if minutes_tag:\n",
    "                minutes_text = minutes_tag.text.strip() if minutes_tag else None\n",
    "                minutes_value = re.sub(r'\\D', '', minutes_text) if minutes_text else None\n",
    "                time_dict['minutes'] = minutes_value\n",
    "            total_time.append(time_dict) \n",
    "        else:\n",
    "            total_time.append('-')\n",
    "\n",
    "        # INGREDIENTS\n",
    "        ingr_list = soup.find_all('li', class_='wprm-recipe-ingredient')  # Replaced temp_soup with soup\n",
    "        if ingr_list:\n",
    "            ingredient_dict = {}\n",
    "            ingredients_recipe = []\n",
    "            for ingr in ingr_list:\n",
    "                ingr_amount_elem = ingr.find(class_='wprm-recipe-ingredient-amount')\n",
    "                ingr_amount = ingr_amount_elem.text.strip() if ingr_amount_elem else None\n",
    "                ingr_name_elem = ingr.find(class_='wprm-recipe-ingredient-name')\n",
    "                ingr_name = ingr_name_elem.text.strip() if ingr_name_elem else None\n",
    "                ingredient_dict[ingr_name] = ingr_amount if ingr_amount else \"seasoning\"\n",
    "                ingredients_recipe.append(ingr_name)\n",
    "            ingredients_measurment.append(ingredient_dict)\n",
    "            ingredients.append(ingredients_recipe)\n",
    "        else:\n",
    "            ingredients_measurment.append('-')\n",
    "            ingredients.append('-')\n",
    "\n",
    "        # INSTRUCTIONS\n",
    "        recipe_instr = soup.find(class_='wprm-recipe-instruction-group')  # Replaced temp_soup with soup\n",
    "        if recipe_instr:\n",
    "            recipe_steps = []\n",
    "            steps = recipe_instr.find_all(\"span\", attrs={\"class\": None})\n",
    "            for step in steps:\n",
    "                recipe_steps.append(step.text.strip())\n",
    "            instructions.append(recipe_steps)\n",
    "        else:\n",
    "            instructions.append('-')\n",
    "\n",
    "        # SERVINGS\n",
    "        serving_div = soup.find('span', class_='wprm-recipe-servings')  # Replaced temp_soup with soup\n",
    "        if serving_div:\n",
    "            servings.append(serving_div.text.strip())\n",
    "        else:\n",
    "            servings.append('-')\n",
    "\n",
    "        # CALORIES\n",
    "        calorie_div = soup.find('span',class_='wprm-recipe-nutrition-with-unit')  # Replaced temp_soup with soup\n",
    "        if calorie_div:\n",
    "            calories.append(calorie_div.text.strip())\n",
    "        else:\n",
    "            calories.append('-')\n",
    "\n",
    "        # IMAGES\n",
    "        images.append('-')\n",
    "        img_div = soup.find(class_='entry-content')\n",
    "        img_tags = img_div.find_all('img')\n",
    "        jpg_links = [img['src'] for img in img_tags if img['src'].endswith('.jpg')]\n",
    "        if len(jpg_links) >= 2:\n",
    "            second_jpg_link = jpg_links[1]\n",
    "            images[-1] = second_jpg_link\n",
    "\n",
    "    except requests.exceptions.RequestException as e:\n",
    "        print(f\"Failed to fetch the page: {e}\")\n",
    "        new_failed_url.append(url)  # Append failed URL to list\n"
   ]
  },
  {
   "cell_type": "markdown",
   "id": "f02d31b8",
   "metadata": {},
   "source": [
    "### Recipes 0-24"
   ]
  },
  {
   "cell_type": "code",
   "execution_count": 11,
   "id": "583cee40",
   "metadata": {
    "scrolled": true
   },
   "outputs": [
    {
     "name": "stdout",
     "output_type": "stream",
     "text": [
      "Proxies loaded: ['4.234.52.159:8080', '4.159.24.156:8080', '20.26.186.150:8080']\n"
     ]
    },
    {
     "data": {
      "application/javascript": [
       "\n",
       "        if (window._pyforest_update_imports_cell) { window._pyforest_update_imports_cell('import re'); }\n",
       "    "
      ],
      "text/plain": [
       "<IPython.core.display.Javascript object>"
      ]
     },
     "metadata": {},
     "output_type": "display_data"
    },
    {
     "data": {
      "application/javascript": [
       "\n",
       "        if (window._pyforest_update_imports_cell) { window._pyforest_update_imports_cell('import re'); }\n",
       "    "
      ],
      "text/plain": [
       "<IPython.core.display.Javascript object>"
      ]
     },
     "metadata": {},
     "output_type": "display_data"
    },
    {
     "data": {
      "application/javascript": [
       "\n",
       "        if (window._pyforest_update_imports_cell) { window._pyforest_update_imports_cell('import re'); }\n",
       "    "
      ],
      "text/plain": [
       "<IPython.core.display.Javascript object>"
      ]
     },
     "metadata": {},
     "output_type": "display_data"
    },
    {
     "name": "stdout",
     "output_type": "stream",
     "text": [
      "Successfully retrieved 0 - https://www.halfbakedharvest.com/marshmallow-brown-sugar-cookie-bars/ with proxy 4.234.52.159:8080\n"
     ]
    },
    {
     "data": {
      "application/javascript": [
       "\n",
       "        if (window._pyforest_update_imports_cell) { window._pyforest_update_imports_cell('import re'); }\n",
       "    "
      ],
      "text/plain": [
       "<IPython.core.display.Javascript object>"
      ]
     },
     "metadata": {},
     "output_type": "display_data"
    },
    {
     "data": {
      "application/javascript": [
       "\n",
       "        if (window._pyforest_update_imports_cell) { window._pyforest_update_imports_cell('import re'); }\n",
       "    "
      ],
      "text/plain": [
       "<IPython.core.display.Javascript object>"
      ]
     },
     "metadata": {},
     "output_type": "display_data"
    },
    {
     "data": {
      "application/javascript": [
       "\n",
       "        if (window._pyforest_update_imports_cell) { window._pyforest_update_imports_cell('import re'); }\n",
       "    "
      ],
      "text/plain": [
       "<IPython.core.display.Javascript object>"
      ]
     },
     "metadata": {},
     "output_type": "display_data"
    },
    {
     "name": "stdout",
     "output_type": "stream",
     "text": [
      "Successfully retrieved 1 - https://www.halfbakedharvest.com/peanut-butter-crunch-bars/ with proxy 4.159.24.156:8080\n",
      "Proxy 20.26.186.150:8080 failed for https://www.halfbakedharvest.com/no-churn-strawberry-ice-cream/: HTTPSConnectionPool(host='www.halfbakedharvest.com', port=443): Max retries exceeded with url: /no-churn-strawberry-ice-cream/ (Caused by SSLError(SSLEOFError(8, 'EOF occurred in violation of protocol (_ssl.c:1129)')))\n",
      "Proxy 4.234.52.159:8080 failed for https://www.halfbakedharvest.com/31-recipes-to-cook-in-may/: HTTPSConnectionPool(host='www.halfbakedharvest.com', port=443): Max retries exceeded with url: /31-recipes-to-cook-in-may/ (Caused by ProxyError('Unable to connect to proxy', ConnectTimeoutError(<urllib3.connection.HTTPSConnection object at 0x14290dd00>, 'Connection to 4.234.52.159 timed out. (connect timeout=30)')))\n",
      "Proxy 4.159.24.156:8080 failed for https://www.halfbakedharvest.com/blueberry-sour-cream-coffee-cake/: ('Connection aborted.', ConnectionResetError(54, 'Connection reset by peer'))\n"
     ]
    },
    {
     "data": {
      "application/javascript": [
       "\n",
       "        if (window._pyforest_update_imports_cell) { window._pyforest_update_imports_cell('import re'); }\n",
       "    "
      ],
      "text/plain": [
       "<IPython.core.display.Javascript object>"
      ]
     },
     "metadata": {},
     "output_type": "display_data"
    },
    {
     "data": {
      "application/javascript": [
       "\n",
       "        if (window._pyforest_update_imports_cell) { window._pyforest_update_imports_cell('import re'); }\n",
       "    "
      ],
      "text/plain": [
       "<IPython.core.display.Javascript object>"
      ]
     },
     "metadata": {},
     "output_type": "display_data"
    },
    {
     "data": {
      "application/javascript": [
       "\n",
       "        if (window._pyforest_update_imports_cell) { window._pyforest_update_imports_cell('import re'); }\n",
       "    "
      ],
      "text/plain": [
       "<IPython.core.display.Javascript object>"
      ]
     },
     "metadata": {},
     "output_type": "display_data"
    },
    {
     "name": "stdout",
     "output_type": "stream",
     "text": [
      "Successfully retrieved 5 - https://www.halfbakedharvest.com/banana-cupcakes/ with proxy 20.26.186.150:8080\n"
     ]
    },
    {
     "data": {
      "application/javascript": [
       "\n",
       "        if (window._pyforest_update_imports_cell) { window._pyforest_update_imports_cell('import re'); }\n",
       "    "
      ],
      "text/plain": [
       "<IPython.core.display.Javascript object>"
      ]
     },
     "metadata": {},
     "output_type": "display_data"
    },
    {
     "data": {
      "application/javascript": [
       "\n",
       "        if (window._pyforest_update_imports_cell) { window._pyforest_update_imports_cell('import re'); }\n",
       "    "
      ],
      "text/plain": [
       "<IPython.core.display.Javascript object>"
      ]
     },
     "metadata": {},
     "output_type": "display_data"
    },
    {
     "data": {
      "application/javascript": [
       "\n",
       "        if (window._pyforest_update_imports_cell) { window._pyforest_update_imports_cell('import re'); }\n",
       "    "
      ],
      "text/plain": [
       "<IPython.core.display.Javascript object>"
      ]
     },
     "metadata": {},
     "output_type": "display_data"
    },
    {
     "name": "stdout",
     "output_type": "stream",
     "text": [
      "Successfully retrieved 6 - https://www.halfbakedharvest.com/chocolate-peanut-fudge-bars/ with proxy 4.234.52.159:8080\n",
      "Proxy 4.159.24.156:8080 failed for https://www.halfbakedharvest.com/chocolate-chunk-honey-sesame-cookies/: ('Connection aborted.', ConnectionResetError(54, 'Connection reset by peer'))\n"
     ]
    },
    {
     "data": {
      "application/javascript": [
       "\n",
       "        if (window._pyforest_update_imports_cell) { window._pyforest_update_imports_cell('import re'); }\n",
       "    "
      ],
      "text/plain": [
       "<IPython.core.display.Javascript object>"
      ]
     },
     "metadata": {},
     "output_type": "display_data"
    },
    {
     "data": {
      "application/javascript": [
       "\n",
       "        if (window._pyforest_update_imports_cell) { window._pyforest_update_imports_cell('import re'); }\n",
       "    "
      ],
      "text/plain": [
       "<IPython.core.display.Javascript object>"
      ]
     },
     "metadata": {},
     "output_type": "display_data"
    },
    {
     "data": {
      "application/javascript": [
       "\n",
       "        if (window._pyforest_update_imports_cell) { window._pyforest_update_imports_cell('import re'); }\n",
       "    "
      ],
      "text/plain": [
       "<IPython.core.display.Javascript object>"
      ]
     },
     "metadata": {},
     "output_type": "display_data"
    },
    {
     "data": {
      "application/javascript": [
       "\n",
       "        if (window._pyforest_update_imports_cell) { window._pyforest_update_imports_cell('import re'); }\n",
       "    "
      ],
      "text/plain": [
       "<IPython.core.display.Javascript object>"
      ]
     },
     "metadata": {},
     "output_type": "display_data"
    },
    {
     "name": "stdout",
     "output_type": "stream",
     "text": [
      "Successfully retrieved 8 - https://www.halfbakedharvest.com/christmas-tree-cookies/ with proxy 20.26.186.150:8080\n",
      "Proxy 4.234.52.159:8080 failed for https://www.halfbakedharvest.com/chewy-christmas-snickerdoodles/: HTTPSConnectionPool(host='www.halfbakedharvest.com', port=443): Max retries exceeded with url: /chewy-christmas-snickerdoodles/ (Caused by ProxyError('Unable to connect to proxy', ConnectTimeoutError(<urllib3.connection.HTTPSConnection object at 0x142f86400>, 'Connection to 4.234.52.159 timed out. (connect timeout=30)')))\n",
      "Proxy 4.159.24.156:8080 failed for https://www.halfbakedharvest.com/zucchini-doughnuts/: ('Connection aborted.', ConnectionResetError(54, 'Connection reset by peer'))\n",
      "ChunkedEncodingError occurred for proxy 20.26.186.150:8080 and https://www.halfbakedharvest.com/cottage-cheese-chocolate-chip-peanut-muffins/: (\"Connection broken: InvalidChunkLength(got length b'', 0 bytes read)\", InvalidChunkLength(got length b'', 0 bytes read))\n",
      "Proxy 4.234.52.159:8080 failed for https://www.halfbakedharvest.com/brown-sugar-strawberry-cobbler/: HTTPSConnectionPool(host='www.halfbakedharvest.com', port=443): Max retries exceeded with url: /brown-sugar-strawberry-cobbler/ (Caused by ProxyError('Unable to connect to proxy', ConnectTimeoutError(<urllib3.connection.HTTPSConnection object at 0x142f8e400>, 'Connection to 4.234.52.159 timed out. (connect timeout=30)')))\n"
     ]
    },
    {
     "data": {
      "application/javascript": [
       "\n",
       "        if (window._pyforest_update_imports_cell) { window._pyforest_update_imports_cell('import re'); }\n",
       "    "
      ],
      "text/plain": [
       "<IPython.core.display.Javascript object>"
      ]
     },
     "metadata": {},
     "output_type": "display_data"
    },
    {
     "data": {
      "application/javascript": [
       "\n",
       "        if (window._pyforest_update_imports_cell) { window._pyforest_update_imports_cell('import re'); }\n",
       "    "
      ],
      "text/plain": [
       "<IPython.core.display.Javascript object>"
      ]
     },
     "metadata": {},
     "output_type": "display_data"
    },
    {
     "data": {
      "application/javascript": [
       "\n",
       "        if (window._pyforest_update_imports_cell) { window._pyforest_update_imports_cell('import re'); }\n",
       "    "
      ],
      "text/plain": [
       "<IPython.core.display.Javascript object>"
      ]
     },
     "metadata": {},
     "output_type": "display_data"
    },
    {
     "name": "stdout",
     "output_type": "stream",
     "text": [
      "Successfully retrieved 13 - https://www.halfbakedharvest.com/chocolate-chip-muffins/ with proxy 4.159.24.156:8080\n"
     ]
    },
    {
     "data": {
      "application/javascript": [
       "\n",
       "        if (window._pyforest_update_imports_cell) { window._pyforest_update_imports_cell('import re'); }\n",
       "    "
      ],
      "text/plain": [
       "<IPython.core.display.Javascript object>"
      ]
     },
     "metadata": {},
     "output_type": "display_data"
    },
    {
     "data": {
      "application/javascript": [
       "\n",
       "        if (window._pyforest_update_imports_cell) { window._pyforest_update_imports_cell('import re'); }\n",
       "    "
      ],
      "text/plain": [
       "<IPython.core.display.Javascript object>"
      ]
     },
     "metadata": {},
     "output_type": "display_data"
    },
    {
     "data": {
      "application/javascript": [
       "\n",
       "        if (window._pyforest_update_imports_cell) { window._pyforest_update_imports_cell('import re'); }\n",
       "    "
      ],
      "text/plain": [
       "<IPython.core.display.Javascript object>"
      ]
     },
     "metadata": {},
     "output_type": "display_data"
    },
    {
     "name": "stdout",
     "output_type": "stream",
     "text": [
      "Successfully retrieved 14 - https://www.halfbakedharvest.com/samoas-pretzel-presents/ with proxy 20.26.186.150:8080\n"
     ]
    },
    {
     "data": {
      "application/javascript": [
       "\n",
       "        if (window._pyforest_update_imports_cell) { window._pyforest_update_imports_cell('import re'); }\n",
       "    "
      ],
      "text/plain": [
       "<IPython.core.display.Javascript object>"
      ]
     },
     "metadata": {},
     "output_type": "display_data"
    },
    {
     "data": {
      "application/javascript": [
       "\n",
       "        if (window._pyforest_update_imports_cell) { window._pyforest_update_imports_cell('import re'); }\n",
       "    "
      ],
      "text/plain": [
       "<IPython.core.display.Javascript object>"
      ]
     },
     "metadata": {},
     "output_type": "display_data"
    },
    {
     "data": {
      "application/javascript": [
       "\n",
       "        if (window._pyforest_update_imports_cell) { window._pyforest_update_imports_cell('import re'); }\n",
       "    "
      ],
      "text/plain": [
       "<IPython.core.display.Javascript object>"
      ]
     },
     "metadata": {},
     "output_type": "display_data"
    },
    {
     "data": {
      "application/javascript": [
       "\n",
       "        if (window._pyforest_update_imports_cell) { window._pyforest_update_imports_cell('import re'); }\n",
       "    "
      ],
      "text/plain": [
       "<IPython.core.display.Javascript object>"
      ]
     },
     "metadata": {},
     "output_type": "display_data"
    },
    {
     "name": "stdout",
     "output_type": "stream",
     "text": [
      "Successfully retrieved 15 - https://www.halfbakedharvest.com/vanilla-burnt-basque-cheesecake/ with proxy 4.234.52.159:8080\n",
      "Proxy 4.159.24.156:8080 failed for https://www.halfbakedharvest.com/brown-sugar-maple-cookie-pie/: HTTPSConnectionPool(host='www.halfbakedharvest.com', port=443): Max retries exceeded with url: /brown-sugar-maple-cookie-pie/ (Caused by ProxyError('Unable to connect to proxy', ConnectTimeoutError(<urllib3.connection.HTTPSConnection object at 0x1428c52b0>, 'Connection to 4.159.24.156 timed out. (connect timeout=30)')))\n",
      "ChunkedEncodingError occurred for proxy 20.26.186.150:8080 and https://www.halfbakedharvest.com/caramel-mocha-nutella-brownies/: ('Connection broken: IncompleteRead(2732 bytes read, 7508 more expected)', IncompleteRead(2732 bytes read, 7508 more expected))\n"
     ]
    },
    {
     "data": {
      "application/javascript": [
       "\n",
       "        if (window._pyforest_update_imports_cell) { window._pyforest_update_imports_cell('import re'); }\n",
       "    "
      ],
      "text/plain": [
       "<IPython.core.display.Javascript object>"
      ]
     },
     "metadata": {},
     "output_type": "display_data"
    },
    {
     "data": {
      "application/javascript": [
       "\n",
       "        if (window._pyforest_update_imports_cell) { window._pyforest_update_imports_cell('import re'); }\n",
       "    "
      ],
      "text/plain": [
       "<IPython.core.display.Javascript object>"
      ]
     },
     "metadata": {},
     "output_type": "display_data"
    },
    {
     "data": {
      "application/javascript": [
       "\n",
       "        if (window._pyforest_update_imports_cell) { window._pyforest_update_imports_cell('import re'); }\n",
       "    "
      ],
      "text/plain": [
       "<IPython.core.display.Javascript object>"
      ]
     },
     "metadata": {},
     "output_type": "display_data"
    },
    {
     "name": "stdout",
     "output_type": "stream",
     "text": [
      "Successfully retrieved 18 - https://www.halfbakedharvest.com/pretzel-snickers-chocolate-chip-cookie-bars/ with proxy 4.234.52.159:8080\n",
      "Proxy 4.159.24.156:8080 failed for https://www.halfbakedharvest.com/tiramisu-cake/: ('Connection aborted.', ConnectionResetError(54, 'Connection reset by peer'))\n",
      "Proxy 20.26.186.150:8080 failed for https://www.halfbakedharvest.com/tahini-butter-chocolate-chip-cookies/: ('Connection aborted.', ConnectionResetError(54, 'Connection reset by peer'))\n"
     ]
    },
    {
     "data": {
      "application/javascript": [
       "\n",
       "        if (window._pyforest_update_imports_cell) { window._pyforest_update_imports_cell('import re'); }\n",
       "    "
      ],
      "text/plain": [
       "<IPython.core.display.Javascript object>"
      ]
     },
     "metadata": {},
     "output_type": "display_data"
    },
    {
     "data": {
      "application/javascript": [
       "\n",
       "        if (window._pyforest_update_imports_cell) { window._pyforest_update_imports_cell('import re'); }\n",
       "    "
      ],
      "text/plain": [
       "<IPython.core.display.Javascript object>"
      ]
     },
     "metadata": {},
     "output_type": "display_data"
    },
    {
     "data": {
      "application/javascript": [
       "\n",
       "        if (window._pyforest_update_imports_cell) { window._pyforest_update_imports_cell('import re'); }\n",
       "    "
      ],
      "text/plain": [
       "<IPython.core.display.Javascript object>"
      ]
     },
     "metadata": {},
     "output_type": "display_data"
    },
    {
     "name": "stdout",
     "output_type": "stream",
     "text": [
      "Successfully retrieved 21 - https://www.halfbakedharvest.com/christmas-mm-cookie-bars/ with proxy 4.234.52.159:8080\n",
      "Proxy 4.159.24.156:8080 failed for https://www.halfbakedharvest.com/caramel-brulee-latte/: ('Connection aborted.', ConnectionResetError(54, 'Connection reset by peer'))\n",
      "Proxy 20.26.186.150:8080 failed for https://www.halfbakedharvest.com/molten-chocolate-crackle-pie/: ('Connection aborted.', ConnectionResetError(54, 'Connection reset by peer'))\n",
      "Proxy 4.234.52.159:8080 failed for https://www.halfbakedharvest.com/chai-pumpkin-latte-cupcakes/: ('Connection aborted.', ConnectionResetError(54, 'Connection reset by peer'))\n",
      "Proxy 4.159.24.156:8080 failed for https://www.halfbakedharvest.com/mini-apple-cider-cakes/: ('Connection aborted.', ConnectionResetError(54, 'Connection reset by peer'))\n",
      "Proxy 20.26.186.150:8080 failed for https://www.halfbakedharvest.com/fudgy-chocolate-peanut-butter-ice-cream-pretzel-cake/: ('Connection aborted.', ConnectionResetError(54, 'Connection reset by peer'))\n",
      "Proxy 4.234.52.159:8080 failed for https://www.halfbakedharvest.com/homemade-frosted-brown-sugar-cinnamon-pop-tarts/: HTTPSConnectionPool(host='www.halfbakedharvest.com', port=443): Max retries exceeded with url: /homemade-frosted-brown-sugar-cinnamon-pop-tarts/ (Caused by ProxyError('Unable to connect to proxy', ConnectTimeoutError(<urllib3.connection.HTTPSConnection object at 0x1427864c0>, 'Connection to 4.234.52.159 timed out. (connect timeout=30)')))\n",
      "Proxy 4.159.24.156:8080 failed for https://www.halfbakedharvest.com/skillet-strawberry-bourbon-cobbler/: ('Connection aborted.', ConnectionResetError(54, 'Connection reset by peer'))\n",
      "Proxy 20.26.186.150:8080 failed for https://www.halfbakedharvest.com/homemade-vegan-twix-bars/: ('Connection aborted.', ConnectionResetError(54, 'Connection reset by peer'))\n"
     ]
    },
    {
     "data": {
      "application/javascript": [
       "\n",
       "        if (window._pyforest_update_imports_cell) { window._pyforest_update_imports_cell('import re'); }\n",
       "    "
      ],
      "text/plain": [
       "<IPython.core.display.Javascript object>"
      ]
     },
     "metadata": {},
     "output_type": "display_data"
    },
    {
     "data": {
      "application/javascript": [
       "\n",
       "        if (window._pyforest_update_imports_cell) { window._pyforest_update_imports_cell('import re'); }\n",
       "    "
      ],
      "text/plain": [
       "<IPython.core.display.Javascript object>"
      ]
     },
     "metadata": {},
     "output_type": "display_data"
    },
    {
     "data": {
      "application/javascript": [
       "\n",
       "        if (window._pyforest_update_imports_cell) { window._pyforest_update_imports_cell('import re'); }\n",
       "    "
      ],
      "text/plain": [
       "<IPython.core.display.Javascript object>"
      ]
     },
     "metadata": {},
     "output_type": "display_data"
    },
    {
     "name": "stdout",
     "output_type": "stream",
     "text": [
      "Successfully retrieved 30 - https://www.halfbakedharvest.com/white-christmas-cranberry-layer-cake/ with proxy 4.234.52.159:8080\n"
     ]
    },
    {
     "data": {
      "application/javascript": [
       "\n",
       "        if (window._pyforest_update_imports_cell) { window._pyforest_update_imports_cell('import re'); }\n",
       "    "
      ],
      "text/plain": [
       "<IPython.core.display.Javascript object>"
      ]
     },
     "metadata": {},
     "output_type": "display_data"
    },
    {
     "data": {
      "application/javascript": [
       "\n",
       "        if (window._pyforest_update_imports_cell) { window._pyforest_update_imports_cell('import re'); }\n",
       "    "
      ],
      "text/plain": [
       "<IPython.core.display.Javascript object>"
      ]
     },
     "metadata": {},
     "output_type": "display_data"
    },
    {
     "data": {
      "application/javascript": [
       "\n",
       "        if (window._pyforest_update_imports_cell) { window._pyforest_update_imports_cell('import re'); }\n",
       "    "
      ],
      "text/plain": [
       "<IPython.core.display.Javascript object>"
      ]
     },
     "metadata": {},
     "output_type": "display_data"
    },
    {
     "name": "stdout",
     "output_type": "stream",
     "text": [
      "Successfully retrieved 31 - https://www.halfbakedharvest.com/chai-spiced-apple-ricotta-galette/ with proxy 4.159.24.156:8080\n",
      "Proxy 20.26.186.150:8080 failed for https://www.halfbakedharvest.com/chocolate-peanut-butter-pretzel-blondies/: ('Connection aborted.', ConnectionResetError(54, 'Connection reset by peer'))\n",
      "Proxy 4.234.52.159:8080 failed for https://www.halfbakedharvest.com/healthier-banoffee-pie/: ('Connection aborted.', ConnectionResetError(54, 'Connection reset by peer'))\n"
     ]
    },
    {
     "data": {
      "application/javascript": [
       "\n",
       "        if (window._pyforest_update_imports_cell) { window._pyforest_update_imports_cell('import re'); }\n",
       "    "
      ],
      "text/plain": [
       "<IPython.core.display.Javascript object>"
      ]
     },
     "metadata": {},
     "output_type": "display_data"
    },
    {
     "data": {
      "application/javascript": [
       "\n",
       "        if (window._pyforest_update_imports_cell) { window._pyforest_update_imports_cell('import re'); }\n",
       "    "
      ],
      "text/plain": [
       "<IPython.core.display.Javascript object>"
      ]
     },
     "metadata": {},
     "output_type": "display_data"
    },
    {
     "data": {
      "application/javascript": [
       "\n",
       "        if (window._pyforest_update_imports_cell) { window._pyforest_update_imports_cell('import re'); }\n",
       "    "
      ],
      "text/plain": [
       "<IPython.core.display.Javascript object>"
      ]
     },
     "metadata": {},
     "output_type": "display_data"
    },
    {
     "data": {
      "application/javascript": [
       "\n",
       "        if (window._pyforest_update_imports_cell) { window._pyforest_update_imports_cell('import re'); }\n",
       "    "
      ],
      "text/plain": [
       "<IPython.core.display.Javascript object>"
      ]
     },
     "metadata": {},
     "output_type": "display_data"
    },
    {
     "name": "stdout",
     "output_type": "stream",
     "text": [
      "Successfully retrieved 34 - https://www.halfbakedharvest.com/healthy-coconut-tart/ with proxy 4.159.24.156:8080\n",
      "Proxy 20.26.186.150:8080 failed for https://www.halfbakedharvest.com/blackberry-lavender-cobbler/: HTTPSConnectionPool(host='www.halfbakedharvest.com', port=443): Max retries exceeded with url: /blackberry-lavender-cobbler/ (Caused by ProxyError('Unable to connect to proxy', OSError('Tunnel connection failed: 502 Bad Gateway')))\n",
      "Proxy 4.234.52.159:8080 failed for https://www.halfbakedharvest.com/no-bake-eton-mess-berry-cheesecake/: HTTPSConnectionPool(host='www.halfbakedharvest.com', port=443): Max retries exceeded with url: /no-bake-eton-mess-berry-cheesecake/ (Caused by ProxyError('Unable to connect to proxy', ConnectTimeoutError(<urllib3.connection.HTTPSConnection object at 0x14361cc70>, 'Connection to 4.234.52.159 timed out. (connect timeout=30)')))\n"
     ]
    },
    {
     "data": {
      "application/javascript": [
       "\n",
       "        if (window._pyforest_update_imports_cell) { window._pyforest_update_imports_cell('import re'); }\n",
       "    "
      ],
      "text/plain": [
       "<IPython.core.display.Javascript object>"
      ]
     },
     "metadata": {},
     "output_type": "display_data"
    },
    {
     "data": {
      "application/javascript": [
       "\n",
       "        if (window._pyforest_update_imports_cell) { window._pyforest_update_imports_cell('import re'); }\n",
       "    "
      ],
      "text/plain": [
       "<IPython.core.display.Javascript object>"
      ]
     },
     "metadata": {},
     "output_type": "display_data"
    },
    {
     "data": {
      "application/javascript": [
       "\n",
       "        if (window._pyforest_update_imports_cell) { window._pyforest_update_imports_cell('import re'); }\n",
       "    "
      ],
      "text/plain": [
       "<IPython.core.display.Javascript object>"
      ]
     },
     "metadata": {},
     "output_type": "display_data"
    },
    {
     "name": "stdout",
     "output_type": "stream",
     "text": [
      "Successfully retrieved 37 - https://www.halfbakedharvest.com/homemade-animal-crackers/ with proxy 4.159.24.156:8080\n",
      "Proxy 20.26.186.150:8080 failed for https://www.halfbakedharvest.com/strawberry-glazed-chai-doughnuts/: ('Connection aborted.', ConnectionResetError(54, 'Connection reset by peer'))\n",
      "Proxy 4.234.52.159:8080 failed for https://www.halfbakedharvest.com/jammy-strawberry-galette/: ('Connection aborted.', ConnectionResetError(54, 'Connection reset by peer'))\n",
      "Proxy 4.159.24.156:8080 failed for https://www.halfbakedharvest.com/chai-pumpkin-cake/: ('Connection aborted.', ConnectionResetError(54, 'Connection reset by peer'))\n",
      "Proxy 20.26.186.150:8080 failed for https://www.halfbakedharvest.com/maple-pecan-sticky-buns/: ('Connection aborted.', ConnectionResetError(54, 'Connection reset by peer'))\n",
      "Proxy 4.234.52.159:8080 failed for https://www.halfbakedharvest.com/chocolate-chip-peanut-butter-swirled-cookie-bars/: HTTPSConnectionPool(host='www.halfbakedharvest.com', port=443): Max retries exceeded with url: /chocolate-chip-peanut-butter-swirled-cookie-bars/ (Caused by ProxyError('Unable to connect to proxy', ConnectTimeoutError(<urllib3.connection.HTTPSConnection object at 0x14388fa60>, 'Connection to 4.234.52.159 timed out. (connect timeout=30)')))\n",
      "Proxy 4.159.24.156:8080 failed for https://www.halfbakedharvest.com/6-ingredient-no-bake-chocolate-chip-cookies/: ('Connection aborted.', ConnectionResetError(54, 'Connection reset by peer'))\n",
      "Proxy 20.26.186.150:8080 failed for https://www.halfbakedharvest.com/5-ingredient-chocolate-dipped-peanut-butter-cookies/: ('Connection aborted.', ConnectionResetError(54, 'Connection reset by peer'))\n"
     ]
    },
    {
     "data": {
      "application/javascript": [
       "\n",
       "        if (window._pyforest_update_imports_cell) { window._pyforest_update_imports_cell('import re'); }\n",
       "    "
      ],
      "text/plain": [
       "<IPython.core.display.Javascript object>"
      ]
     },
     "metadata": {},
     "output_type": "display_data"
    },
    {
     "data": {
      "application/javascript": [
       "\n",
       "        if (window._pyforest_update_imports_cell) { window._pyforest_update_imports_cell('import re'); }\n",
       "    "
      ],
      "text/plain": [
       "<IPython.core.display.Javascript object>"
      ]
     },
     "metadata": {},
     "output_type": "display_data"
    },
    {
     "data": {
      "application/javascript": [
       "\n",
       "        if (window._pyforest_update_imports_cell) { window._pyforest_update_imports_cell('import re'); }\n",
       "    "
      ],
      "text/plain": [
       "<IPython.core.display.Javascript object>"
      ]
     },
     "metadata": {},
     "output_type": "display_data"
    },
    {
     "data": {
      "application/javascript": [
       "\n",
       "        if (window._pyforest_update_imports_cell) { window._pyforest_update_imports_cell('import re'); }\n",
       "    "
      ],
      "text/plain": [
       "<IPython.core.display.Javascript object>"
      ]
     },
     "metadata": {},
     "output_type": "display_data"
    },
    {
     "name": "stdout",
     "output_type": "stream",
     "text": [
      "Successfully retrieved 45 - https://www.halfbakedharvest.com/sugar-cookie-chocolate-creme-brulee/ with proxy 4.234.52.159:8080\n",
      "Proxy 4.159.24.156:8080 failed for https://www.halfbakedharvest.com/cinnamon-spiced-sugar-cookies-with-browned-butter-frosting/: ('Connection aborted.', ConnectionResetError(54, 'Connection reset by peer'))\n",
      "Proxy 20.26.186.150:8080 failed for https://www.halfbakedharvest.com/vanilla-glazed-blackberry-peach-coffee-cake/: ('Connection aborted.', ConnectionResetError(54, 'Connection reset by peer'))\n"
     ]
    },
    {
     "data": {
      "application/javascript": [
       "\n",
       "        if (window._pyforest_update_imports_cell) { window._pyforest_update_imports_cell('import re'); }\n",
       "    "
      ],
      "text/plain": [
       "<IPython.core.display.Javascript object>"
      ]
     },
     "metadata": {},
     "output_type": "display_data"
    },
    {
     "data": {
      "application/javascript": [
       "\n",
       "        if (window._pyforest_update_imports_cell) { window._pyforest_update_imports_cell('import re'); }\n",
       "    "
      ],
      "text/plain": [
       "<IPython.core.display.Javascript object>"
      ]
     },
     "metadata": {},
     "output_type": "display_data"
    },
    {
     "data": {
      "application/javascript": [
       "\n",
       "        if (window._pyforest_update_imports_cell) { window._pyforest_update_imports_cell('import re'); }\n",
       "    "
      ],
      "text/plain": [
       "<IPython.core.display.Javascript object>"
      ]
     },
     "metadata": {},
     "output_type": "display_data"
    },
    {
     "name": "stdout",
     "output_type": "stream",
     "text": [
      "Successfully retrieved 48 - https://www.halfbakedharvest.com/mixed-berry-almond-croissants/ with proxy 4.234.52.159:8080\n",
      "Proxy 4.159.24.156:8080 failed for https://www.halfbakedharvest.com/salty-peanut-butter-smore-ice-cream-cake-video/: ('Connection aborted.', ConnectionResetError(54, 'Connection reset by peer'))\n",
      "Proxy 20.26.186.150:8080 failed for https://www.halfbakedharvest.com/strawberry-cornmeal-cake-with-buttermilk-glaze/: ('Connection aborted.', ConnectionResetError(54, 'Connection reset by peer'))\n",
      "Proxy 4.234.52.159:8080 failed for https://www.halfbakedharvest.com/frozen-peanut-butter-cup-pie/: HTTPSConnectionPool(host='www.halfbakedharvest.com', port=443): Max retries exceeded with url: /frozen-peanut-butter-cup-pie/ (Caused by ProxyError('Unable to connect to proxy', ConnectTimeoutError(<urllib3.connection.HTTPSConnection object at 0x142a63250>, 'Connection to 4.234.52.159 timed out. (connect timeout=30)')))\n",
      "Proxy 4.159.24.156:8080 failed for https://www.halfbakedharvest.com/rainbow-frozen-yogurt-pops/: ('Connection aborted.', ConnectionResetError(54, 'Connection reset by peer'))\n",
      "Proxy 20.26.186.150:8080 failed for https://www.halfbakedharvest.com/moroccan-chocolate-almond-phyllo-cake-snake-cake/: ('Connection aborted.', ConnectionResetError(54, 'Connection reset by peer'))\n",
      "Proxy 4.234.52.159:8080 failed for https://www.halfbakedharvest.com/peanut-butter-swirled-chocolate-fudge-popsicles/: ('Connection aborted.', ConnectionResetError(54, 'Connection reset by peer'))\n",
      "Proxy 4.159.24.156:8080 failed for https://www.halfbakedharvest.com/raw-chocolate-banana-cashew-cream-pie-bars/: ('Connection aborted.', ConnectionResetError(54, 'Connection reset by peer'))\n",
      "Proxy 20.26.186.150:8080 failed for https://www.halfbakedharvest.com/one-bowl-8-ingredient-irish-coffee-fudge-brownies/: ('Connection aborted.', ConnectionResetError(54, 'Connection reset by peer'))\n"
     ]
    },
    {
     "data": {
      "application/javascript": [
       "\n",
       "        if (window._pyforest_update_imports_cell) { window._pyforest_update_imports_cell('import re'); }\n",
       "    "
      ],
      "text/plain": [
       "<IPython.core.display.Javascript object>"
      ]
     },
     "metadata": {},
     "output_type": "display_data"
    },
    {
     "data": {
      "application/javascript": [
       "\n",
       "        if (window._pyforest_update_imports_cell) { window._pyforest_update_imports_cell('import re'); }\n",
       "    "
      ],
      "text/plain": [
       "<IPython.core.display.Javascript object>"
      ]
     },
     "metadata": {},
     "output_type": "display_data"
    },
    {
     "name": "stdout",
     "output_type": "stream",
     "text": [
      "Successfully retrieved 57 - https://www.halfbakedharvest.com/winter-bliss-balls/ with proxy 4.234.52.159:8080\n",
      "Proxy 4.159.24.156:8080 failed for https://www.halfbakedharvest.com/chocolate-peanut-butter-bubble-panna-cotta-with-honey-roasted-peanuts/: ('Connection aborted.', ConnectionResetError(54, 'Connection reset by peer'))\n"
     ]
    },
    {
     "data": {
      "application/javascript": [
       "\n",
       "        if (window._pyforest_update_imports_cell) { window._pyforest_update_imports_cell('import re'); }\n",
       "    "
      ],
      "text/plain": [
       "<IPython.core.display.Javascript object>"
      ]
     },
     "metadata": {},
     "output_type": "display_data"
    },
    {
     "data": {
      "application/javascript": [
       "\n",
       "        if (window._pyforest_update_imports_cell) { window._pyforest_update_imports_cell('import re'); }\n",
       "    "
      ],
      "text/plain": [
       "<IPython.core.display.Javascript object>"
      ]
     },
     "metadata": {},
     "output_type": "display_data"
    },
    {
     "data": {
      "application/javascript": [
       "\n",
       "        if (window._pyforest_update_imports_cell) { window._pyforest_update_imports_cell('import re'); }\n",
       "    "
      ],
      "text/plain": [
       "<IPython.core.display.Javascript object>"
      ]
     },
     "metadata": {},
     "output_type": "display_data"
    },
    {
     "name": "stdout",
     "output_type": "stream",
     "text": [
      "Successfully retrieved 59 - https://www.halfbakedharvest.com/double-chocolate-brownie-irish-car-bomb-cheesecakes/ with proxy 20.26.186.150:8080\n",
      "Proxy 4.234.52.159:8080 failed for https://www.halfbakedharvest.com/toasted-coconut-cream-rum-chocolate-mousse-crepe-cake/: HTTPSConnectionPool(host='www.halfbakedharvest.com', port=443): Max retries exceeded with url: /toasted-coconut-cream-rum-chocolate-mousse-crepe-cake/ (Caused by ProxyError('Unable to connect to proxy', ConnectTimeoutError(<urllib3.connection.HTTPSConnection object at 0x1425fd490>, 'Connection to 4.234.52.159 timed out. (connect timeout=30)')))\n",
      "Proxy 4.159.24.156:8080 failed for https://www.halfbakedharvest.com/easy-jalapeno-popper-chicken-chili-cheddar-polenta-pot-pies/: ('Connection aborted.', ConnectionResetError(54, 'Connection reset by peer'))\n"
     ]
    },
    {
     "data": {
      "application/javascript": [
       "\n",
       "        if (window._pyforest_update_imports_cell) { window._pyforest_update_imports_cell('import re'); }\n",
       "    "
      ],
      "text/plain": [
       "<IPython.core.display.Javascript object>"
      ]
     },
     "metadata": {},
     "output_type": "display_data"
    },
    {
     "data": {
      "application/javascript": [
       "\n",
       "        if (window._pyforest_update_imports_cell) { window._pyforest_update_imports_cell('import re'); }\n",
       "    "
      ],
      "text/plain": [
       "<IPython.core.display.Javascript object>"
      ]
     },
     "metadata": {},
     "output_type": "display_data"
    },
    {
     "data": {
      "application/javascript": [
       "\n",
       "        if (window._pyforest_update_imports_cell) { window._pyforest_update_imports_cell('import re'); }\n",
       "    "
      ],
      "text/plain": [
       "<IPython.core.display.Javascript object>"
      ]
     },
     "metadata": {},
     "output_type": "display_data"
    },
    {
     "data": {
      "application/javascript": [
       "\n",
       "        if (window._pyforest_update_imports_cell) { window._pyforest_update_imports_cell('import re'); }\n",
       "    "
      ],
      "text/plain": [
       "<IPython.core.display.Javascript object>"
      ]
     },
     "metadata": {},
     "output_type": "display_data"
    },
    {
     "name": "stdout",
     "output_type": "stream",
     "text": [
      "Successfully retrieved 62 - https://www.halfbakedharvest.com/cinnamon-brioche-chocolate-chip-french-toast-muffins-coconut-streusel/ with proxy 20.26.186.150:8080\n"
     ]
    },
    {
     "data": {
      "application/javascript": [
       "\n",
       "        if (window._pyforest_update_imports_cell) { window._pyforest_update_imports_cell('import re'); }\n",
       "    "
      ],
      "text/plain": [
       "<IPython.core.display.Javascript object>"
      ]
     },
     "metadata": {},
     "output_type": "display_data"
    },
    {
     "data": {
      "application/javascript": [
       "\n",
       "        if (window._pyforest_update_imports_cell) { window._pyforest_update_imports_cell('import re'); }\n",
       "    "
      ],
      "text/plain": [
       "<IPython.core.display.Javascript object>"
      ]
     },
     "metadata": {},
     "output_type": "display_data"
    },
    {
     "data": {
      "application/javascript": [
       "\n",
       "        if (window._pyforest_update_imports_cell) { window._pyforest_update_imports_cell('import re'); }\n",
       "    "
      ],
      "text/plain": [
       "<IPython.core.display.Javascript object>"
      ]
     },
     "metadata": {},
     "output_type": "display_data"
    },
    {
     "name": "stdout",
     "output_type": "stream",
     "text": [
      "Successfully retrieved 63 - https://www.halfbakedharvest.com/pumpkin-cream-cheese-muffins/ with proxy 4.234.52.159:8080\n",
      "Proxy 4.159.24.156:8080 failed for https://www.halfbakedharvest.com/monster-crunchies/: ('Connection aborted.', ConnectionResetError(54, 'Connection reset by peer'))\n",
      "Proxy 20.26.186.150:8080 failed for https://www.halfbakedharvest.com/double-chocolate-chip-zucchini-bread/: ('Connection aborted.', ConnectionResetError(54, 'Connection reset by peer'))\n"
     ]
    },
    {
     "data": {
      "application/javascript": [
       "\n",
       "        if (window._pyforest_update_imports_cell) { window._pyforest_update_imports_cell('import re'); }\n",
       "    "
      ],
      "text/plain": [
       "<IPython.core.display.Javascript object>"
      ]
     },
     "metadata": {},
     "output_type": "display_data"
    },
    {
     "data": {
      "application/javascript": [
       "\n",
       "        if (window._pyforest_update_imports_cell) { window._pyforest_update_imports_cell('import re'); }\n",
       "    "
      ],
      "text/plain": [
       "<IPython.core.display.Javascript object>"
      ]
     },
     "metadata": {},
     "output_type": "display_data"
    },
    {
     "data": {
      "application/javascript": [
       "\n",
       "        if (window._pyforest_update_imports_cell) { window._pyforest_update_imports_cell('import re'); }\n",
       "    "
      ],
      "text/plain": [
       "<IPython.core.display.Javascript object>"
      ]
     },
     "metadata": {},
     "output_type": "display_data"
    },
    {
     "name": "stdout",
     "output_type": "stream",
     "text": [
      "Successfully retrieved 66 - https://www.halfbakedharvest.com/strawberry-tiramisu/ with proxy 4.234.52.159:8080\n"
     ]
    },
    {
     "data": {
      "application/javascript": [
       "\n",
       "        if (window._pyforest_update_imports_cell) { window._pyforest_update_imports_cell('import re'); }\n",
       "    "
      ],
      "text/plain": [
       "<IPython.core.display.Javascript object>"
      ]
     },
     "metadata": {},
     "output_type": "display_data"
    },
    {
     "data": {
      "application/javascript": [
       "\n",
       "        if (window._pyforest_update_imports_cell) { window._pyforest_update_imports_cell('import re'); }\n",
       "    "
      ],
      "text/plain": [
       "<IPython.core.display.Javascript object>"
      ]
     },
     "metadata": {},
     "output_type": "display_data"
    },
    {
     "data": {
      "application/javascript": [
       "\n",
       "        if (window._pyforest_update_imports_cell) { window._pyforest_update_imports_cell('import re'); }\n",
       "    "
      ],
      "text/plain": [
       "<IPython.core.display.Javascript object>"
      ]
     },
     "metadata": {},
     "output_type": "display_data"
    },
    {
     "name": "stdout",
     "output_type": "stream",
     "text": [
      "Successfully retrieved 67 - https://www.halfbakedharvest.com/maple-glazed-doughnuts/ with proxy 4.159.24.156:8080\n",
      "Proxy 20.26.186.150:8080 failed for https://www.halfbakedharvest.com/brown-butter-glazed-peanut-butter-blondies/: ('Connection aborted.', ConnectionResetError(54, 'Connection reset by peer'))\n"
     ]
    },
    {
     "data": {
      "application/javascript": [
       "\n",
       "        if (window._pyforest_update_imports_cell) { window._pyforest_update_imports_cell('import re'); }\n",
       "    "
      ],
      "text/plain": [
       "<IPython.core.display.Javascript object>"
      ]
     },
     "metadata": {},
     "output_type": "display_data"
    },
    {
     "data": {
      "application/javascript": [
       "\n",
       "        if (window._pyforest_update_imports_cell) { window._pyforest_update_imports_cell('import re'); }\n",
       "    "
      ],
      "text/plain": [
       "<IPython.core.display.Javascript object>"
      ]
     },
     "metadata": {},
     "output_type": "display_data"
    },
    {
     "data": {
      "application/javascript": [
       "\n",
       "        if (window._pyforest_update_imports_cell) { window._pyforest_update_imports_cell('import re'); }\n",
       "    "
      ],
      "text/plain": [
       "<IPython.core.display.Javascript object>"
      ]
     },
     "metadata": {},
     "output_type": "display_data"
    },
    {
     "name": "stdout",
     "output_type": "stream",
     "text": [
      "Successfully retrieved 69 - https://www.halfbakedharvest.com/double-strawberry-cupcakes/ with proxy 4.234.52.159:8080\n"
     ]
    },
    {
     "data": {
      "application/javascript": [
       "\n",
       "        if (window._pyforest_update_imports_cell) { window._pyforest_update_imports_cell('import re'); }\n",
       "    "
      ],
      "text/plain": [
       "<IPython.core.display.Javascript object>"
      ]
     },
     "metadata": {},
     "output_type": "display_data"
    },
    {
     "data": {
      "application/javascript": [
       "\n",
       "        if (window._pyforest_update_imports_cell) { window._pyforest_update_imports_cell('import re'); }\n",
       "    "
      ],
      "text/plain": [
       "<IPython.core.display.Javascript object>"
      ]
     },
     "metadata": {},
     "output_type": "display_data"
    },
    {
     "data": {
      "application/javascript": [
       "\n",
       "        if (window._pyforest_update_imports_cell) { window._pyforest_update_imports_cell('import re'); }\n",
       "    "
      ],
      "text/plain": [
       "<IPython.core.display.Javascript object>"
      ]
     },
     "metadata": {},
     "output_type": "display_data"
    },
    {
     "name": "stdout",
     "output_type": "stream",
     "text": [
      "Successfully retrieved 70 - https://www.halfbakedharvest.com/chewy-chocolate-peanut-butter-bars/ with proxy 4.159.24.156:8080\n",
      "Proxy 20.26.186.150:8080 failed for https://www.halfbakedharvest.com/chocolate-peanut-butter-oatmeal-bars/: ('Connection aborted.', ConnectionResetError(54, 'Connection reset by peer'))\n"
     ]
    },
    {
     "data": {
      "application/javascript": [
       "\n",
       "        if (window._pyforest_update_imports_cell) { window._pyforest_update_imports_cell('import re'); }\n",
       "    "
      ],
      "text/plain": [
       "<IPython.core.display.Javascript object>"
      ]
     },
     "metadata": {},
     "output_type": "display_data"
    },
    {
     "data": {
      "application/javascript": [
       "\n",
       "        if (window._pyforest_update_imports_cell) { window._pyforest_update_imports_cell('import re'); }\n",
       "    "
      ],
      "text/plain": [
       "<IPython.core.display.Javascript object>"
      ]
     },
     "metadata": {},
     "output_type": "display_data"
    },
    {
     "data": {
      "application/javascript": [
       "\n",
       "        if (window._pyforest_update_imports_cell) { window._pyforest_update_imports_cell('import re'); }\n",
       "    "
      ],
      "text/plain": [
       "<IPython.core.display.Javascript object>"
      ]
     },
     "metadata": {},
     "output_type": "display_data"
    },
    {
     "name": "stdout",
     "output_type": "stream",
     "text": [
      "Successfully retrieved 72 - https://www.halfbakedharvest.com/oatmeal-chocolate-chip-cookie-cereal/ with proxy 4.234.52.159:8080\n",
      "ChunkedEncodingError occurred for proxy 4.159.24.156:8080 and https://www.halfbakedharvest.com/molten-chocolate-coffee-blondies/: ('Connection broken: IncompleteRead(1784 bytes read, 2312 more expected)', IncompleteRead(1784 bytes read, 2312 more expected))\n",
      "Proxy 20.26.186.150:8080 failed for https://www.halfbakedharvest.com/lemon-sugar-burnt-basque-cheesecake/: ('Connection aborted.', ConnectionResetError(54, 'Connection reset by peer'))\n",
      "Proxy 4.234.52.159:8080 failed for https://www.halfbakedharvest.com/cinnamon-streusel-coffee-coffee-cake/: HTTPSConnectionPool(host='www.halfbakedharvest.com', port=443): Max retries exceeded with url: /cinnamon-streusel-coffee-coffee-cake/ (Caused by ProxyError('Unable to connect to proxy', ConnectTimeoutError(<urllib3.connection.HTTPSConnection object at 0x1424dc6d0>, 'Connection to 4.234.52.159 timed out. (connect timeout=30)')))\n",
      "Proxy 4.159.24.156:8080 failed for https://www.halfbakedharvest.com/strawberry-conversation-heart-cupcakes/: ('Connection aborted.', ConnectionResetError(54, 'Connection reset by peer'))\n",
      "Proxy 20.26.186.150:8080 failed for https://www.halfbakedharvest.com/salted-pretzel-magic-bars/: ('Connection aborted.', ConnectionResetError(54, 'Connection reset by peer'))\n",
      "Proxy 4.234.52.159:8080 failed for https://www.halfbakedharvest.com/6-ingredient-rice-krispie-treat-chocolate-ice-cream-sandwiches/: ('Connection aborted.', ConnectionResetError(54, 'Connection reset by peer'))\n",
      "Proxy 4.159.24.156:8080 failed for https://www.halfbakedharvest.com/cookie-ice-cream-sandwiches/: ('Connection aborted.', ConnectionResetError(54, 'Connection reset by peer'))\n",
      "Proxy 20.26.186.150:8080 failed for https://www.halfbakedharvest.com/chocolate-chip-skillet-cookie/: ('Connection aborted.', ConnectionResetError(54, 'Connection reset by peer'))\n",
      "Proxy 4.234.52.159:8080 failed for https://www.halfbakedharvest.com/tres-leches-cake/: ('Connection aborted.', ConnectionResetError(54, 'Connection reset by peer'))\n",
      "Proxy 4.159.24.156:8080 failed for https://www.halfbakedharvest.com/hydrangea-flower-carrot-cake-cupcakes/: ('Connection aborted.', ConnectionResetError(54, 'Connection reset by peer'))\n"
     ]
    },
    {
     "data": {
      "application/javascript": [
       "\n",
       "        if (window._pyforest_update_imports_cell) { window._pyforest_update_imports_cell('import re'); }\n",
       "    "
      ],
      "text/plain": [
       "<IPython.core.display.Javascript object>"
      ]
     },
     "metadata": {},
     "output_type": "display_data"
    },
    {
     "data": {
      "application/javascript": [
       "\n",
       "        if (window._pyforest_update_imports_cell) { window._pyforest_update_imports_cell('import re'); }\n",
       "    "
      ],
      "text/plain": [
       "<IPython.core.display.Javascript object>"
      ]
     },
     "metadata": {},
     "output_type": "display_data"
    },
    {
     "data": {
      "application/javascript": [
       "\n",
       "        if (window._pyforest_update_imports_cell) { window._pyforest_update_imports_cell('import re'); }\n",
       "    "
      ],
      "text/plain": [
       "<IPython.core.display.Javascript object>"
      ]
     },
     "metadata": {},
     "output_type": "display_data"
    },
    {
     "name": "stdout",
     "output_type": "stream",
     "text": [
      "Successfully retrieved 83 - https://www.halfbakedharvest.com/strawberry-chamomile-naked-cake/ with proxy 20.26.186.150:8080\n",
      "Proxy 4.234.52.159:8080 failed for https://www.halfbakedharvest.com/crinkle-top-brownies/: HTTPSConnectionPool(host='www.halfbakedharvest.com', port=443): Max retries exceeded with url: /crinkle-top-brownies/ (Caused by ProxyError('Unable to connect to proxy', ConnectTimeoutError(<urllib3.connection.HTTPSConnection object at 0x143537070>, 'Connection to 4.234.52.159 timed out. (connect timeout=30)')))\n",
      "Proxy 4.159.24.156:8080 failed for https://www.halfbakedharvest.com/strawberry-rhubarb-cobbler-honey-butter-biscuits/: ('Connection aborted.', ConnectionResetError(54, 'Connection reset by peer'))\n",
      "ChunkedEncodingError occurred for proxy 20.26.186.150:8080 and https://www.halfbakedharvest.com/banana-cream-pie-chocolate-peanuts/: ('Connection broken: IncompleteRead(1418 bytes read, 8822 more expected)', IncompleteRead(1418 bytes read, 8822 more expected))\n",
      "Proxy 4.234.52.159:8080 failed for https://www.halfbakedharvest.com/strawberry-rosehip-frozen-yogurt/: HTTPSConnectionPool(host='www.halfbakedharvest.com', port=443): Max retries exceeded with url: /strawberry-rosehip-frozen-yogurt/ (Caused by ProxyError('Unable to connect to proxy', ConnectTimeoutError(<urllib3.connection.HTTPSConnection object at 0x14350f100>, 'Connection to 4.234.52.159 timed out. (connect timeout=30)')))\n",
      "Proxy 4.159.24.156:8080 failed for https://www.halfbakedharvest.com/coconut-chocolate-chunk-cookies-video/: ('Connection aborted.', ConnectionResetError(54, 'Connection reset by peer'))\n",
      "Proxy 20.26.186.150:8080 failed for https://www.halfbakedharvest.com/coconut-banana-3-milk-cupcakes-with-nutella-buttercream/: ('Connection aborted.', ConnectionResetError(54, 'Connection reset by peer'))\n",
      "Proxy 4.234.52.159:8080 failed for https://www.halfbakedharvest.com/coconut-carrot-cake-cheesecake/: HTTPSConnectionPool(host='www.halfbakedharvest.com', port=443): Max retries exceeded with url: /coconut-carrot-cake-cheesecake/ (Caused by ProxyError('Unable to connect to proxy', ConnectTimeoutError(<urllib3.connection.HTTPSConnection object at 0x14350f1c0>, 'Connection to 4.234.52.159 timed out. (connect timeout=30)')))\n",
      "Proxy 4.159.24.156:8080 failed for https://www.halfbakedharvest.com/sweet-cuban-coconut-balls-with-melted-chocolate-coquito-acaramelado/: ('Connection aborted.', ConnectionResetError(54, 'Connection reset by peer'))\n",
      "Proxy 20.26.186.150:8080 failed for https://www.halfbakedharvest.com/superfood-hot-chocolate-with-honey-caramelized-brioche/: ('Connection aborted.', ConnectionResetError(54, 'Connection reset by peer'))\n",
      "Proxy 4.234.52.159:8080 failed for https://www.halfbakedharvest.com/banana-and-chocolate-chia-cream-pie-parfaits/: HTTPSConnectionPool(host='www.halfbakedharvest.com', port=443): Max retries exceeded with url: /banana-and-chocolate-chia-cream-pie-parfaits/ (Caused by ProxyError('Unable to connect to proxy', ConnectTimeoutError(<urllib3.connection.HTTPSConnection object at 0x143537c10>, 'Connection to 4.234.52.159 timed out. (connect timeout=30)')))\n",
      "Proxy 4.159.24.156:8080 failed for https://www.halfbakedharvest.com/4-ingredient-dark-chocolate-covered-peanut-butter-stuffed-dates/: ('Connection aborted.', ConnectionResetError(54, 'Connection reset by peer'))\n",
      "Proxy 20.26.186.150:8080 failed for https://www.halfbakedharvest.com/gingerbread-latte-salted-caramel-sugar-video/: ('Connection aborted.', ConnectionResetError(54, 'Connection reset by peer'))\n"
     ]
    },
    {
     "data": {
      "application/javascript": [
       "\n",
       "        if (window._pyforest_update_imports_cell) { window._pyforest_update_imports_cell('import re'); }\n",
       "    "
      ],
      "text/plain": [
       "<IPython.core.display.Javascript object>"
      ]
     },
     "metadata": {},
     "output_type": "display_data"
    },
    {
     "data": {
      "application/javascript": [
       "\n",
       "        if (window._pyforest_update_imports_cell) { window._pyforest_update_imports_cell('import re'); }\n",
       "    "
      ],
      "text/plain": [
       "<IPython.core.display.Javascript object>"
      ]
     },
     "metadata": {},
     "output_type": "display_data"
    },
    {
     "data": {
      "application/javascript": [
       "\n",
       "        if (window._pyforest_update_imports_cell) { window._pyforest_update_imports_cell('import re'); }\n",
       "    "
      ],
      "text/plain": [
       "<IPython.core.display.Javascript object>"
      ]
     },
     "metadata": {},
     "output_type": "display_data"
    },
    {
     "data": {
      "application/javascript": [
       "\n",
       "        if (window._pyforest_update_imports_cell) { window._pyforest_update_imports_cell('import re'); }\n",
       "    "
      ],
      "text/plain": [
       "<IPython.core.display.Javascript object>"
      ]
     },
     "metadata": {},
     "output_type": "display_data"
    },
    {
     "name": "stdout",
     "output_type": "stream",
     "text": [
      "Successfully retrieved 96 - https://www.halfbakedharvest.com/hot-fudge-brownie-double-scooped-ice-cream-sundae-high-hat-cupcakes-cone/ with proxy 4.234.52.159:8080\n"
     ]
    },
    {
     "data": {
      "application/javascript": [
       "\n",
       "        if (window._pyforest_update_imports_cell) { window._pyforest_update_imports_cell('import re'); }\n",
       "    "
      ],
      "text/plain": [
       "<IPython.core.display.Javascript object>"
      ]
     },
     "metadata": {},
     "output_type": "display_data"
    },
    {
     "data": {
      "application/javascript": [
       "\n",
       "        if (window._pyforest_update_imports_cell) { window._pyforest_update_imports_cell('import re'); }\n",
       "    "
      ],
      "text/plain": [
       "<IPython.core.display.Javascript object>"
      ]
     },
     "metadata": {},
     "output_type": "display_data"
    },
    {
     "data": {
      "application/javascript": [
       "\n",
       "        if (window._pyforest_update_imports_cell) { window._pyforest_update_imports_cell('import re'); }\n",
       "    "
      ],
      "text/plain": [
       "<IPython.core.display.Javascript object>"
      ]
     },
     "metadata": {},
     "output_type": "display_data"
    },
    {
     "name": "stdout",
     "output_type": "stream",
     "text": [
      "Successfully retrieved 97 - https://www.halfbakedharvest.com/vanilla-bean-coconut-quinoa-pudding-honey-drizzled-raspberries/ with proxy 4.159.24.156:8080\n",
      "Proxy 20.26.186.150:8080 failed for https://www.halfbakedharvest.com/vanilla-bourbon-cherry-blueberry-pie/: ('Connection aborted.', ConnectionResetError(54, 'Connection reset by peer'))\n",
      "Proxy 4.234.52.159:8080 failed for https://www.halfbakedharvest.com/coconut-raspberry-macarons-raspberry-rose-buttercream/: HTTPSConnectionPool(host='www.halfbakedharvest.com', port=443): Max retries exceeded with url: /coconut-raspberry-macarons-raspberry-rose-buttercream/ (Caused by ProxyError('Unable to connect to proxy', ConnectTimeoutError(<urllib3.connection.HTTPSConnection object at 0x142860040>, 'Connection to 4.234.52.159 timed out. (connect timeout=30)')))\n",
      "ChunkedEncodingError occurred for proxy 4.159.24.156:8080 and https://www.halfbakedharvest.com/vegan-deconstructed-boozy-mocha-drenched-grilled-banana-coconut-cream-pies/: (\"Connection broken: InvalidChunkLength(got length b'', 0 bytes read)\", InvalidChunkLength(got length b'', 0 bytes read))\n"
     ]
    },
    {
     "data": {
      "application/javascript": [
       "\n",
       "        if (window._pyforest_update_imports_cell) { window._pyforest_update_imports_cell('import re'); }\n",
       "    "
      ],
      "text/plain": [
       "<IPython.core.display.Javascript object>"
      ]
     },
     "metadata": {},
     "output_type": "display_data"
    },
    {
     "data": {
      "application/javascript": [
       "\n",
       "        if (window._pyforest_update_imports_cell) { window._pyforest_update_imports_cell('import re'); }\n",
       "    "
      ],
      "text/plain": [
       "<IPython.core.display.Javascript object>"
      ]
     },
     "metadata": {},
     "output_type": "display_data"
    },
    {
     "data": {
      "application/javascript": [
       "\n",
       "        if (window._pyforest_update_imports_cell) { window._pyforest_update_imports_cell('import re'); }\n",
       "    "
      ],
      "text/plain": [
       "<IPython.core.display.Javascript object>"
      ]
     },
     "metadata": {},
     "output_type": "display_data"
    },
    {
     "data": {
      "application/javascript": [
       "\n",
       "        if (window._pyforest_update_imports_cell) { window._pyforest_update_imports_cell('import re'); }\n",
       "    "
      ],
      "text/plain": [
       "<IPython.core.display.Javascript object>"
      ]
     },
     "metadata": {},
     "output_type": "display_data"
    },
    {
     "name": "stdout",
     "output_type": "stream",
     "text": [
      "Successfully retrieved 101 - https://www.halfbakedharvest.com/caramelized-strawberry-graham-cracker-crumble-ice-cream/ with proxy 20.26.186.150:8080\n",
      "Proxy 4.234.52.159:8080 failed for https://www.halfbakedharvest.com/triple-berry-kahlua-crisp-double-crumble/: HTTPSConnectionPool(host='www.halfbakedharvest.com', port=443): Max retries exceeded with url: /triple-berry-kahlua-crisp-double-crumble/ (Caused by ProxyError('Unable to connect to proxy', ConnectTimeoutError(<urllib3.connection.HTTPSConnection object at 0x14313d220>, 'Connection to 4.234.52.159 timed out. (connect timeout=30)')))\n",
      "Proxy 4.159.24.156:8080 failed for https://www.halfbakedharvest.com/churro-milkshakes-dulce-de-leche/: ('Connection aborted.', ConnectionResetError(54, 'Connection reset by peer'))\n",
      "ChunkedEncodingError occurred for proxy 20.26.186.150:8080 and https://www.halfbakedharvest.com/tahini-hot-chocolate/: ('Connection broken: IncompleteRead(8340 bytes read, 1900 more expected)', IncompleteRead(8340 bytes read, 1900 more expected))\n",
      "Proxy 4.234.52.159:8080 failed for https://www.halfbakedharvest.com/lemon-ricotta-poppy-seed-cakes/: ('Connection aborted.', ConnectionResetError(54, 'Connection reset by peer'))\n",
      "Proxy 4.159.24.156:8080 failed for https://www.halfbakedharvest.com/blender-chocolate-peanut-butter-muffins/: ('Connection aborted.', ConnectionResetError(54, 'Connection reset by peer'))\n",
      "Proxy 20.26.186.150:8080 failed for https://www.halfbakedharvest.com/gingerbread-latte-cookies/: ('Connection aborted.', ConnectionResetError(54, 'Connection reset by peer'))\n",
      "Proxy 4.234.52.159:8080 failed for https://www.halfbakedharvest.com/caramel-snickerdoodle-pie/: ('Connection aborted.', ConnectionResetError(54, 'Connection reset by peer'))\n",
      "Proxy 4.159.24.156:8080 failed for https://www.halfbakedharvest.com/pumpkin-sugar-cookies/: ('Connection aborted.', ConnectionResetError(54, 'Connection reset by peer'))\n",
      "Proxy 20.26.186.150:8080 failed for https://www.halfbakedharvest.com/chocolate-chip-espresso-oatmeal-cookies/: ('Connection aborted.', ConnectionResetError(54, 'Connection reset by peer'))\n",
      "Proxy 4.234.52.159:8080 failed for https://www.halfbakedharvest.com/giant-frosted-chocolate-fudge-pop-tart/: ('Connection aborted.', ConnectionResetError(54, 'Connection reset by peer'))\n"
     ]
    },
    {
     "data": {
      "application/javascript": [
       "\n",
       "        if (window._pyforest_update_imports_cell) { window._pyforest_update_imports_cell('import re'); }\n",
       "    "
      ],
      "text/plain": [
       "<IPython.core.display.Javascript object>"
      ]
     },
     "metadata": {},
     "output_type": "display_data"
    },
    {
     "data": {
      "application/javascript": [
       "\n",
       "        if (window._pyforest_update_imports_cell) { window._pyforest_update_imports_cell('import re'); }\n",
       "    "
      ],
      "text/plain": [
       "<IPython.core.display.Javascript object>"
      ]
     },
     "metadata": {},
     "output_type": "display_data"
    },
    {
     "data": {
      "application/javascript": [
       "\n",
       "        if (window._pyforest_update_imports_cell) { window._pyforest_update_imports_cell('import re'); }\n",
       "    "
      ],
      "text/plain": [
       "<IPython.core.display.Javascript object>"
      ]
     },
     "metadata": {},
     "output_type": "display_data"
    },
    {
     "name": "stdout",
     "output_type": "stream",
     "text": [
      "Successfully retrieved 112 - https://www.halfbakedharvest.com/vanilla-bean-olive-oil-ice-cream/ with proxy 4.159.24.156:8080\n"
     ]
    },
    {
     "data": {
      "application/javascript": [
       "\n",
       "        if (window._pyforest_update_imports_cell) { window._pyforest_update_imports_cell('import re'); }\n",
       "    "
      ],
      "text/plain": [
       "<IPython.core.display.Javascript object>"
      ]
     },
     "metadata": {},
     "output_type": "display_data"
    },
    {
     "data": {
      "application/javascript": [
       "\n",
       "        if (window._pyforest_update_imports_cell) { window._pyforest_update_imports_cell('import re'); }\n",
       "    "
      ],
      "text/plain": [
       "<IPython.core.display.Javascript object>"
      ]
     },
     "metadata": {},
     "output_type": "display_data"
    },
    {
     "name": "stdout",
     "output_type": "stream",
     "text": [
      "Successfully retrieved 113 - https://www.halfbakedharvest.com/special-k-bars/ with proxy 20.26.186.150:8080\n"
     ]
    },
    {
     "data": {
      "application/javascript": [
       "\n",
       "        if (window._pyforest_update_imports_cell) { window._pyforest_update_imports_cell('import re'); }\n",
       "    "
      ],
      "text/plain": [
       "<IPython.core.display.Javascript object>"
      ]
     },
     "metadata": {},
     "output_type": "display_data"
    },
    {
     "data": {
      "application/javascript": [
       "\n",
       "        if (window._pyforest_update_imports_cell) { window._pyforest_update_imports_cell('import re'); }\n",
       "    "
      ],
      "text/plain": [
       "<IPython.core.display.Javascript object>"
      ]
     },
     "metadata": {},
     "output_type": "display_data"
    },
    {
     "data": {
      "application/javascript": [
       "\n",
       "        if (window._pyforest_update_imports_cell) { window._pyforest_update_imports_cell('import re'); }\n",
       "    "
      ],
      "text/plain": [
       "<IPython.core.display.Javascript object>"
      ]
     },
     "metadata": {},
     "output_type": "display_data"
    },
    {
     "name": "stdout",
     "output_type": "stream",
     "text": [
      "Successfully retrieved 114 - https://www.halfbakedharvest.com/giant-strawberries-n-cream-pop-tart/ with proxy 4.234.52.159:8080\n",
      "ChunkedEncodingError occurred for proxy 4.159.24.156:8080 and https://www.halfbakedharvest.com/whipped-lemon-ricotta-cheesecake/: ('Connection broken: IncompleteRead(8208 bytes read, 2032 more expected)', IncompleteRead(8208 bytes read, 2032 more expected))\n",
      "Proxy 20.26.186.150:8080 failed for https://www.halfbakedharvest.com/lemon-rose-shortbread-cookies/: ('Connection aborted.', ConnectionResetError(54, 'Connection reset by peer'))\n",
      "Successfully retrieved 117 - https://www.halfbakedharvest.com/2018-holiday-cookie-box/ with proxy 4.234.52.159:8080\n",
      "Proxy 4.159.24.156:8080 failed for https://www.halfbakedharvest.com/chai-spiced-santa-cookies/: ('Connection aborted.', ConnectionResetError(54, 'Connection reset by peer'))\n"
     ]
    },
    {
     "data": {
      "application/javascript": [
       "\n",
       "        if (window._pyforest_update_imports_cell) { window._pyforest_update_imports_cell('import re'); }\n",
       "    "
      ],
      "text/plain": [
       "<IPython.core.display.Javascript object>"
      ]
     },
     "metadata": {},
     "output_type": "display_data"
    },
    {
     "data": {
      "application/javascript": [
       "\n",
       "        if (window._pyforest_update_imports_cell) { window._pyforest_update_imports_cell('import re'); }\n",
       "    "
      ],
      "text/plain": [
       "<IPython.core.display.Javascript object>"
      ]
     },
     "metadata": {},
     "output_type": "display_data"
    },
    {
     "data": {
      "application/javascript": [
       "\n",
       "        if (window._pyforest_update_imports_cell) { window._pyforest_update_imports_cell('import re'); }\n",
       "    "
      ],
      "text/plain": [
       "<IPython.core.display.Javascript object>"
      ]
     },
     "metadata": {},
     "output_type": "display_data"
    },
    {
     "name": "stdout",
     "output_type": "stream",
     "text": [
      "Successfully retrieved 119 - https://www.halfbakedharvest.com/buckeye-fudge-ice-cream/ with proxy 20.26.186.150:8080\n"
     ]
    },
    {
     "data": {
      "application/javascript": [
       "\n",
       "        if (window._pyforest_update_imports_cell) { window._pyforest_update_imports_cell('import re'); }\n",
       "    "
      ],
      "text/plain": [
       "<IPython.core.display.Javascript object>"
      ]
     },
     "metadata": {},
     "output_type": "display_data"
    },
    {
     "data": {
      "application/javascript": [
       "\n",
       "        if (window._pyforest_update_imports_cell) { window._pyforest_update_imports_cell('import re'); }\n",
       "    "
      ],
      "text/plain": [
       "<IPython.core.display.Javascript object>"
      ]
     },
     "metadata": {},
     "output_type": "display_data"
    },
    {
     "data": {
      "application/javascript": [
       "\n",
       "        if (window._pyforest_update_imports_cell) { window._pyforest_update_imports_cell('import re'); }\n",
       "    "
      ],
      "text/plain": [
       "<IPython.core.display.Javascript object>"
      ]
     },
     "metadata": {},
     "output_type": "display_data"
    },
    {
     "name": "stdout",
     "output_type": "stream",
     "text": [
      "Successfully retrieved 120 - https://www.halfbakedharvest.com/brown-sugar-caramel-oatmeal-cookie-peach-crisp/ with proxy 4.234.52.159:8080\n"
     ]
    },
    {
     "data": {
      "application/javascript": [
       "\n",
       "        if (window._pyforest_update_imports_cell) { window._pyforest_update_imports_cell('import re'); }\n",
       "    "
      ],
      "text/plain": [
       "<IPython.core.display.Javascript object>"
      ]
     },
     "metadata": {},
     "output_type": "display_data"
    },
    {
     "data": {
      "application/javascript": [
       "\n",
       "        if (window._pyforest_update_imports_cell) { window._pyforest_update_imports_cell('import re'); }\n",
       "    "
      ],
      "text/plain": [
       "<IPython.core.display.Javascript object>"
      ]
     },
     "metadata": {},
     "output_type": "display_data"
    },
    {
     "data": {
      "application/javascript": [
       "\n",
       "        if (window._pyforest_update_imports_cell) { window._pyforest_update_imports_cell('import re'); }\n",
       "    "
      ],
      "text/plain": [
       "<IPython.core.display.Javascript object>"
      ]
     },
     "metadata": {},
     "output_type": "display_data"
    },
    {
     "name": "stdout",
     "output_type": "stream",
     "text": [
      "Successfully retrieved 121 - https://www.halfbakedharvest.com/blueberry-brie-cornbread-biscuits-honey-butter/ with proxy 4.159.24.156:8080\n",
      "ChunkedEncodingError occurred for proxy 20.26.186.150:8080 and https://www.halfbakedharvest.com/honey-strawberry-peach-pie/: (\"Connection broken: InvalidChunkLength(got length b'', 0 bytes read)\", InvalidChunkLength(got length b'', 0 bytes read))\n",
      "Proxy 4.234.52.159:8080 failed for https://www.halfbakedharvest.com/layered-caramel-buster-bars/: ('Connection aborted.', ConnectionResetError(54, 'Connection reset by peer'))\n"
     ]
    },
    {
     "data": {
      "application/javascript": [
       "\n",
       "        if (window._pyforest_update_imports_cell) { window._pyforest_update_imports_cell('import re'); }\n",
       "    "
      ],
      "text/plain": [
       "<IPython.core.display.Javascript object>"
      ]
     },
     "metadata": {},
     "output_type": "display_data"
    },
    {
     "data": {
      "application/javascript": [
       "\n",
       "        if (window._pyforest_update_imports_cell) { window._pyforest_update_imports_cell('import re'); }\n",
       "    "
      ],
      "text/plain": [
       "<IPython.core.display.Javascript object>"
      ]
     },
     "metadata": {},
     "output_type": "display_data"
    },
    {
     "data": {
      "application/javascript": [
       "\n",
       "        if (window._pyforest_update_imports_cell) { window._pyforest_update_imports_cell('import re'); }\n",
       "    "
      ],
      "text/plain": [
       "<IPython.core.display.Javascript object>"
      ]
     },
     "metadata": {},
     "output_type": "display_data"
    },
    {
     "name": "stdout",
     "output_type": "stream",
     "text": [
      "Successfully retrieved 124 - https://www.halfbakedharvest.com/mexican-samoas-cookies/ with proxy 4.159.24.156:8080\n",
      "Proxy 20.26.186.150:8080 failed for https://www.halfbakedharvest.com/sweet-potato-pie-cinnamon-rolls-with-butter-whipped-meringue-frosting/: ('Connection aborted.', ConnectionResetError(54, 'Connection reset by peer'))\n",
      "Proxy 4.234.52.159:8080 failed for https://www.halfbakedharvest.com/caramelized-condensed-milk-mini-apple-pies/: ('Connection aborted.', ConnectionResetError(54, 'Connection reset by peer'))\n"
     ]
    },
    {
     "data": {
      "application/javascript": [
       "\n",
       "        if (window._pyforest_update_imports_cell) { window._pyforest_update_imports_cell('import re'); }\n",
       "    "
      ],
      "text/plain": [
       "<IPython.core.display.Javascript object>"
      ]
     },
     "metadata": {},
     "output_type": "display_data"
    },
    {
     "data": {
      "application/javascript": [
       "\n",
       "        if (window._pyforest_update_imports_cell) { window._pyforest_update_imports_cell('import re'); }\n",
       "    "
      ],
      "text/plain": [
       "<IPython.core.display.Javascript object>"
      ]
     },
     "metadata": {},
     "output_type": "display_data"
    },
    {
     "data": {
      "application/javascript": [
       "\n",
       "        if (window._pyforest_update_imports_cell) { window._pyforest_update_imports_cell('import re'); }\n",
       "    "
      ],
      "text/plain": [
       "<IPython.core.display.Javascript object>"
      ]
     },
     "metadata": {},
     "output_type": "display_data"
    },
    {
     "data": {
      "application/javascript": [
       "\n",
       "        if (window._pyforest_update_imports_cell) { window._pyforest_update_imports_cell('import re'); }\n",
       "    "
      ],
      "text/plain": [
       "<IPython.core.display.Javascript object>"
      ]
     },
     "metadata": {},
     "output_type": "display_data"
    },
    {
     "data": {
      "application/javascript": [
       "\n",
       "        if (window._pyforest_update_imports_cell) { window._pyforest_update_imports_cell('import re'); }\n",
       "    "
      ],
      "text/plain": [
       "<IPython.core.display.Javascript object>"
      ]
     },
     "metadata": {},
     "output_type": "display_data"
    },
    {
     "name": "stdout",
     "output_type": "stream",
     "text": [
      "Successfully retrieved 127 - https://www.halfbakedharvest.com/easy-peanut-butter-cup-fudge-with-salted-bourbon-sugar/ with proxy 4.159.24.156:8080\n"
     ]
    },
    {
     "data": {
      "application/javascript": [
       "\n",
       "        if (window._pyforest_update_imports_cell) { window._pyforest_update_imports_cell('import re'); }\n",
       "    "
      ],
      "text/plain": [
       "<IPython.core.display.Javascript object>"
      ]
     },
     "metadata": {},
     "output_type": "display_data"
    },
    {
     "data": {
      "application/javascript": [
       "\n",
       "        if (window._pyforest_update_imports_cell) { window._pyforest_update_imports_cell('import re'); }\n",
       "    "
      ],
      "text/plain": [
       "<IPython.core.display.Javascript object>"
      ]
     },
     "metadata": {},
     "output_type": "display_data"
    },
    {
     "data": {
      "application/javascript": [
       "\n",
       "        if (window._pyforest_update_imports_cell) { window._pyforest_update_imports_cell('import re'); }\n",
       "    "
      ],
      "text/plain": [
       "<IPython.core.display.Javascript object>"
      ]
     },
     "metadata": {},
     "output_type": "display_data"
    },
    {
     "name": "stdout",
     "output_type": "stream",
     "text": [
      "Successfully retrieved 128 - https://www.halfbakedharvest.com/deathly-chocolate-graveyard-cakes-witches-beware/ with proxy 20.26.186.150:8080\n"
     ]
    },
    {
     "data": {
      "application/javascript": [
       "\n",
       "        if (window._pyforest_update_imports_cell) { window._pyforest_update_imports_cell('import re'); }\n",
       "    "
      ],
      "text/plain": [
       "<IPython.core.display.Javascript object>"
      ]
     },
     "metadata": {},
     "output_type": "display_data"
    },
    {
     "data": {
      "application/javascript": [
       "\n",
       "        if (window._pyforest_update_imports_cell) { window._pyforest_update_imports_cell('import re'); }\n",
       "    "
      ],
      "text/plain": [
       "<IPython.core.display.Javascript object>"
      ]
     },
     "metadata": {},
     "output_type": "display_data"
    },
    {
     "data": {
      "application/javascript": [
       "\n",
       "        if (window._pyforest_update_imports_cell) { window._pyforest_update_imports_cell('import re'); }\n",
       "    "
      ],
      "text/plain": [
       "<IPython.core.display.Javascript object>"
      ]
     },
     "metadata": {},
     "output_type": "display_data"
    },
    {
     "data": {
      "application/javascript": [
       "\n",
       "        if (window._pyforest_update_imports_cell) { window._pyforest_update_imports_cell('import re'); }\n",
       "    "
      ],
      "text/plain": [
       "<IPython.core.display.Javascript object>"
      ]
     },
     "metadata": {},
     "output_type": "display_data"
    },
    {
     "name": "stdout",
     "output_type": "stream",
     "text": [
      "Successfully retrieved 129 - https://www.halfbakedharvest.com/pumpkin-nutella-crepe-cake/ with proxy 4.234.52.159:8080\n",
      "Proxy 4.159.24.156:8080 failed for https://www.halfbakedharvest.com/maple-glazed-apple-fritters/: HTTPSConnectionPool(host='www.halfbakedharvest.com', port=443): Max retries exceeded with url: /maple-glazed-apple-fritters/ (Caused by ProxyError('Unable to connect to proxy', OSError('Tunnel connection failed: 502 Bad Gateway')))\n",
      "ChunkedEncodingError occurred for proxy 20.26.186.150:8080 and https://www.halfbakedharvest.com/death-butterbeer-cupcakes-wtreacle-butter-frosting-chocolate-covered-pretzels/: ('Connection broken: IncompleteRead(2441 bytes read, 7799 more expected)', IncompleteRead(2441 bytes read, 7799 more expected))\n"
     ]
    },
    {
     "data": {
      "application/javascript": [
       "\n",
       "        if (window._pyforest_update_imports_cell) { window._pyforest_update_imports_cell('import re'); }\n",
       "    "
      ],
      "text/plain": [
       "<IPython.core.display.Javascript object>"
      ]
     },
     "metadata": {},
     "output_type": "display_data"
    },
    {
     "data": {
      "application/javascript": [
       "\n",
       "        if (window._pyforest_update_imports_cell) { window._pyforest_update_imports_cell('import re'); }\n",
       "    "
      ],
      "text/plain": [
       "<IPython.core.display.Javascript object>"
      ]
     },
     "metadata": {},
     "output_type": "display_data"
    },
    {
     "data": {
      "application/javascript": [
       "\n",
       "        if (window._pyforest_update_imports_cell) { window._pyforest_update_imports_cell('import re'); }\n",
       "    "
      ],
      "text/plain": [
       "<IPython.core.display.Javascript object>"
      ]
     },
     "metadata": {},
     "output_type": "display_data"
    },
    {
     "data": {
      "application/javascript": [
       "\n",
       "        if (window._pyforest_update_imports_cell) { window._pyforest_update_imports_cell('import re'); }\n",
       "    "
      ],
      "text/plain": [
       "<IPython.core.display.Javascript object>"
      ]
     },
     "metadata": {},
     "output_type": "display_data"
    },
    {
     "name": "stdout",
     "output_type": "stream",
     "text": [
      "Successfully retrieved 132 - https://www.halfbakedharvest.com/samoa-macaroon-tarts/ with proxy 4.234.52.159:8080\n",
      "Proxy 4.159.24.156:8080 failed for https://www.halfbakedharvest.com/2-ingredient-strawberry-popsicles-links-inspire/: ('Connection aborted.', ConnectionResetError(54, 'Connection reset by peer'))\n",
      "Proxy 20.26.186.150:8080 failed for https://www.halfbakedharvest.com/healthier-chocolate-lovers-sweet-corn-hazelnut-crunch-chocolate-cake-wganache/: ('Connection aborted.', ConnectionResetError(54, 'Connection reset by peer'))\n"
     ]
    },
    {
     "data": {
      "application/javascript": [
       "\n",
       "        if (window._pyforest_update_imports_cell) { window._pyforest_update_imports_cell('import re'); }\n",
       "    "
      ],
      "text/plain": [
       "<IPython.core.display.Javascript object>"
      ]
     },
     "metadata": {},
     "output_type": "display_data"
    },
    {
     "data": {
      "application/javascript": [
       "\n",
       "        if (window._pyforest_update_imports_cell) { window._pyforest_update_imports_cell('import re'); }\n",
       "    "
      ],
      "text/plain": [
       "<IPython.core.display.Javascript object>"
      ]
     },
     "metadata": {},
     "output_type": "display_data"
    },
    {
     "data": {
      "application/javascript": [
       "\n",
       "        if (window._pyforest_update_imports_cell) { window._pyforest_update_imports_cell('import re'); }\n",
       "    "
      ],
      "text/plain": [
       "<IPython.core.display.Javascript object>"
      ]
     },
     "metadata": {},
     "output_type": "display_data"
    },
    {
     "name": "stdout",
     "output_type": "stream",
     "text": [
      "Successfully retrieved 135 - https://www.halfbakedharvest.com/sweet-balsamic-strawberries-wwhipped-ricotta-cream-maple-glazed-seeded-nuts/ with proxy 4.234.52.159:8080\n",
      "Proxy 4.159.24.156:8080 failed for https://www.halfbakedharvest.com/6-layer-3-coconut-covered-chocolate-peeps-cake/: ('Connection aborted.', RemoteDisconnected('Remote end closed connection without response'))\n",
      "Proxy 20.26.186.150:8080 failed for https://www.halfbakedharvest.com/blueberry-vanilla-greek-yogurt-granola-bars/: ('Connection aborted.', ConnectionResetError(54, 'Connection reset by peer'))\n"
     ]
    },
    {
     "data": {
      "application/javascript": [
       "\n",
       "        if (window._pyforest_update_imports_cell) { window._pyforest_update_imports_cell('import re'); }\n",
       "    "
      ],
      "text/plain": [
       "<IPython.core.display.Javascript object>"
      ]
     },
     "metadata": {},
     "output_type": "display_data"
    },
    {
     "data": {
      "application/javascript": [
       "\n",
       "        if (window._pyforest_update_imports_cell) { window._pyforest_update_imports_cell('import re'); }\n",
       "    "
      ],
      "text/plain": [
       "<IPython.core.display.Javascript object>"
      ]
     },
     "metadata": {},
     "output_type": "display_data"
    },
    {
     "data": {
      "application/javascript": [
       "\n",
       "        if (window._pyforest_update_imports_cell) { window._pyforest_update_imports_cell('import re'); }\n",
       "    "
      ],
      "text/plain": [
       "<IPython.core.display.Javascript object>"
      ]
     },
     "metadata": {},
     "output_type": "display_data"
    },
    {
     "data": {
      "application/javascript": [
       "\n",
       "        if (window._pyforest_update_imports_cell) { window._pyforest_update_imports_cell('import re'); }\n",
       "    "
      ],
      "text/plain": [
       "<IPython.core.display.Javascript object>"
      ]
     },
     "metadata": {},
     "output_type": "display_data"
    },
    {
     "data": {
      "application/javascript": [
       "\n",
       "        if (window._pyforest_update_imports_cell) { window._pyforest_update_imports_cell('import re'); }\n",
       "    "
      ],
      "text/plain": [
       "<IPython.core.display.Javascript object>"
      ]
     },
     "metadata": {},
     "output_type": "display_data"
    },
    {
     "name": "stdout",
     "output_type": "stream",
     "text": [
      "Successfully retrieved 138 - https://www.halfbakedharvest.com/meringue-encased-chocolate-mousse-smore-cakes/ with proxy 4.234.52.159:8080\n",
      "Proxy 4.159.24.156:8080 failed for https://www.halfbakedharvest.com/mini-chocolate-stout-brownie-sundae-floats-burnt-irish-caramel-hot-fudge/: ('Connection aborted.', ConnectionResetError(54, 'Connection reset by peer'))\n"
     ]
    },
    {
     "data": {
      "application/javascript": [
       "\n",
       "        if (window._pyforest_update_imports_cell) { window._pyforest_update_imports_cell('import re'); }\n",
       "    "
      ],
      "text/plain": [
       "<IPython.core.display.Javascript object>"
      ]
     },
     "metadata": {},
     "output_type": "display_data"
    },
    {
     "data": {
      "application/javascript": [
       "\n",
       "        if (window._pyforest_update_imports_cell) { window._pyforest_update_imports_cell('import re'); }\n",
       "    "
      ],
      "text/plain": [
       "<IPython.core.display.Javascript object>"
      ]
     },
     "metadata": {},
     "output_type": "display_data"
    },
    {
     "data": {
      "application/javascript": [
       "\n",
       "        if (window._pyforest_update_imports_cell) { window._pyforest_update_imports_cell('import re'); }\n",
       "    "
      ],
      "text/plain": [
       "<IPython.core.display.Javascript object>"
      ]
     },
     "metadata": {},
     "output_type": "display_data"
    },
    {
     "data": {
      "application/javascript": [
       "\n",
       "        if (window._pyforest_update_imports_cell) { window._pyforest_update_imports_cell('import re'); }\n",
       "    "
      ],
      "text/plain": [
       "<IPython.core.display.Javascript object>"
      ]
     },
     "metadata": {},
     "output_type": "display_data"
    },
    {
     "name": "stdout",
     "output_type": "stream",
     "text": [
      "Successfully retrieved 140 - https://www.halfbakedharvest.com/toasted-coconut-lemon-bread-salted-honey-butter/ with proxy 20.26.186.150:8080\n"
     ]
    },
    {
     "data": {
      "application/javascript": [
       "\n",
       "        if (window._pyforest_update_imports_cell) { window._pyforest_update_imports_cell('import re'); }\n",
       "    "
      ],
      "text/plain": [
       "<IPython.core.display.Javascript object>"
      ]
     },
     "metadata": {},
     "output_type": "display_data"
    },
    {
     "data": {
      "application/javascript": [
       "\n",
       "        if (window._pyforest_update_imports_cell) { window._pyforest_update_imports_cell('import re'); }\n",
       "    "
      ],
      "text/plain": [
       "<IPython.core.display.Javascript object>"
      ]
     },
     "metadata": {},
     "output_type": "display_data"
    },
    {
     "data": {
      "application/javascript": [
       "\n",
       "        if (window._pyforest_update_imports_cell) { window._pyforest_update_imports_cell('import re'); }\n",
       "    "
      ],
      "text/plain": [
       "<IPython.core.display.Javascript object>"
      ]
     },
     "metadata": {},
     "output_type": "display_data"
    },
    {
     "name": "stdout",
     "output_type": "stream",
     "text": [
      "Successfully retrieved 141 - https://www.halfbakedharvest.com/sweet-banana-lumpia-milk-chocolate-toasted-coconut-butter/ with proxy 4.234.52.159:8080\n",
      "Proxy 4.159.24.156:8080 failed for https://www.halfbakedharvest.com/moms-simple-oatmeal-chocolate-chip-cookies-best-oatmeal-chocolate-chip-cookies-around/: ('Connection aborted.', ConnectionResetError(54, 'Connection reset by peer'))\n"
     ]
    },
    {
     "data": {
      "application/javascript": [
       "\n",
       "        if (window._pyforest_update_imports_cell) { window._pyforest_update_imports_cell('import re'); }\n",
       "    "
      ],
      "text/plain": [
       "<IPython.core.display.Javascript object>"
      ]
     },
     "metadata": {},
     "output_type": "display_data"
    },
    {
     "data": {
      "application/javascript": [
       "\n",
       "        if (window._pyforest_update_imports_cell) { window._pyforest_update_imports_cell('import re'); }\n",
       "    "
      ],
      "text/plain": [
       "<IPython.core.display.Javascript object>"
      ]
     },
     "metadata": {},
     "output_type": "display_data"
    },
    {
     "data": {
      "application/javascript": [
       "\n",
       "        if (window._pyforest_update_imports_cell) { window._pyforest_update_imports_cell('import re'); }\n",
       "    "
      ],
      "text/plain": [
       "<IPython.core.display.Javascript object>"
      ]
     },
     "metadata": {},
     "output_type": "display_data"
    },
    {
     "data": {
      "application/javascript": [
       "\n",
       "        if (window._pyforest_update_imports_cell) { window._pyforest_update_imports_cell('import re'); }\n",
       "    "
      ],
      "text/plain": [
       "<IPython.core.display.Javascript object>"
      ]
     },
     "metadata": {},
     "output_type": "display_data"
    },
    {
     "name": "stdout",
     "output_type": "stream",
     "text": [
      "Successfully retrieved 143 - https://www.halfbakedharvest.com/warm-chocolate-chip-cookie-stuffed-soft-pretzels/ with proxy 20.26.186.150:8080\n"
     ]
    },
    {
     "data": {
      "application/javascript": [
       "\n",
       "        if (window._pyforest_update_imports_cell) { window._pyforest_update_imports_cell('import re'); }\n",
       "    "
      ],
      "text/plain": [
       "<IPython.core.display.Javascript object>"
      ]
     },
     "metadata": {},
     "output_type": "display_data"
    },
    {
     "data": {
      "application/javascript": [
       "\n",
       "        if (window._pyforest_update_imports_cell) { window._pyforest_update_imports_cell('import re'); }\n",
       "    "
      ],
      "text/plain": [
       "<IPython.core.display.Javascript object>"
      ]
     },
     "metadata": {},
     "output_type": "display_data"
    },
    {
     "name": "stdout",
     "output_type": "stream",
     "text": [
      "Successfully retrieved 144 - https://www.halfbakedharvest.com/salted-caramel-chocolate-covered-pretzels/ with proxy 4.234.52.159:8080\n"
     ]
    },
    {
     "data": {
      "application/javascript": [
       "\n",
       "        if (window._pyforest_update_imports_cell) { window._pyforest_update_imports_cell('import re'); }\n",
       "    "
      ],
      "text/plain": [
       "<IPython.core.display.Javascript object>"
      ]
     },
     "metadata": {},
     "output_type": "display_data"
    },
    {
     "data": {
      "application/javascript": [
       "\n",
       "        if (window._pyforest_update_imports_cell) { window._pyforest_update_imports_cell('import re'); }\n",
       "    "
      ],
      "text/plain": [
       "<IPython.core.display.Javascript object>"
      ]
     },
     "metadata": {},
     "output_type": "display_data"
    },
    {
     "data": {
      "application/javascript": [
       "\n",
       "        if (window._pyforest_update_imports_cell) { window._pyforest_update_imports_cell('import re'); }\n",
       "    "
      ],
      "text/plain": [
       "<IPython.core.display.Javascript object>"
      ]
     },
     "metadata": {},
     "output_type": "display_data"
    },
    {
     "data": {
      "application/javascript": [
       "\n",
       "        if (window._pyforest_update_imports_cell) { window._pyforest_update_imports_cell('import re'); }\n",
       "    "
      ],
      "text/plain": [
       "<IPython.core.display.Javascript object>"
      ]
     },
     "metadata": {},
     "output_type": "display_data"
    },
    {
     "name": "stdout",
     "output_type": "stream",
     "text": [
      "Successfully retrieved 145 - https://www.halfbakedharvest.com/gingerbread-cake-with-caramel-cream-cheese-buttercream/ with proxy 4.159.24.156:8080\n",
      "Proxy 20.26.186.150:8080 failed for https://www.halfbakedharvest.com/chocolate-dipped-coconut-caramel-macaroons/: ('Connection aborted.', ConnectionResetError(54, 'Connection reset by peer'))\n",
      "Proxy 4.234.52.159:8080 failed for https://www.halfbakedharvest.com/christmas-cookie-decorating-kit/: ('Connection aborted.', ConnectionResetError(54, 'Connection reset by peer'))\n",
      "ChunkedEncodingError occurred for proxy 4.159.24.156:8080 and https://www.halfbakedharvest.com/butter-pecan-frosted-fudge-brownies/: ('Connection broken: IncompleteRead(5602 bytes read, 4638 more expected)', IncompleteRead(5602 bytes read, 4638 more expected))\n",
      "Proxy 20.26.186.150:8080 failed for https://www.halfbakedharvest.com/pumpkin-chai-snickerdoodles/: ('Connection aborted.', ConnectionResetError(54, 'Connection reset by peer'))\n"
     ]
    },
    {
     "data": {
      "application/javascript": [
       "\n",
       "        if (window._pyforest_update_imports_cell) { window._pyforest_update_imports_cell('import re'); }\n",
       "    "
      ],
      "text/plain": [
       "<IPython.core.display.Javascript object>"
      ]
     },
     "metadata": {},
     "output_type": "display_data"
    },
    {
     "data": {
      "application/javascript": [
       "\n",
       "        if (window._pyforest_update_imports_cell) { window._pyforest_update_imports_cell('import re'); }\n",
       "    "
      ],
      "text/plain": [
       "<IPython.core.display.Javascript object>"
      ]
     },
     "metadata": {},
     "output_type": "display_data"
    },
    {
     "data": {
      "application/javascript": [
       "\n",
       "        if (window._pyforest_update_imports_cell) { window._pyforest_update_imports_cell('import re'); }\n",
       "    "
      ],
      "text/plain": [
       "<IPython.core.display.Javascript object>"
      ]
     },
     "metadata": {},
     "output_type": "display_data"
    },
    {
     "data": {
      "application/javascript": [
       "\n",
       "        if (window._pyforest_update_imports_cell) { window._pyforest_update_imports_cell('import re'); }\n",
       "    "
      ],
      "text/plain": [
       "<IPython.core.display.Javascript object>"
      ]
     },
     "metadata": {},
     "output_type": "display_data"
    },
    {
     "name": "stdout",
     "output_type": "stream",
     "text": [
      "Successfully retrieved 150 - https://www.halfbakedharvest.com/addicting-5-ingredient-crockpot-chocolate-bars/ with proxy 4.234.52.159:8080\n",
      "Proxy 4.159.24.156:8080 failed for https://www.halfbakedharvest.com/cream-cheese-swirled-brown-sugar-pumpkin-coffee-cake/: ('Connection aborted.', ConnectionResetError(54, 'Connection reset by peer'))\n",
      "Proxy 20.26.186.150:8080 failed for https://www.halfbakedharvest.com/mocha-caramel-crunch-chocolate-chip-cookie-bars/: ('Connection aborted.', ConnectionResetError(54, 'Connection reset by peer'))\n",
      "Proxy 4.234.52.159:8080 failed for https://www.halfbakedharvest.com/baked-salted-caramel-apple-cider-doughnuts/: ('Connection aborted.', ConnectionResetError(54, 'Connection reset by peer'))\n",
      "Proxy 4.159.24.156:8080 failed for https://www.halfbakedharvest.com/chocolate-bourbon-caramel-macaron-cake-to-celebrate-my-little-kind-of-big-secret/: ('Connection aborted.', ConnectionResetError(54, 'Connection reset by peer'))\n"
     ]
    },
    {
     "data": {
      "application/javascript": [
       "\n",
       "        if (window._pyforest_update_imports_cell) { window._pyforest_update_imports_cell('import re'); }\n",
       "    "
      ],
      "text/plain": [
       "<IPython.core.display.Javascript object>"
      ]
     },
     "metadata": {},
     "output_type": "display_data"
    },
    {
     "data": {
      "application/javascript": [
       "\n",
       "        if (window._pyforest_update_imports_cell) { window._pyforest_update_imports_cell('import re'); }\n",
       "    "
      ],
      "text/plain": [
       "<IPython.core.display.Javascript object>"
      ]
     },
     "metadata": {},
     "output_type": "display_data"
    },
    {
     "data": {
      "application/javascript": [
       "\n",
       "        if (window._pyforest_update_imports_cell) { window._pyforest_update_imports_cell('import re'); }\n",
       "    "
      ],
      "text/plain": [
       "<IPython.core.display.Javascript object>"
      ]
     },
     "metadata": {},
     "output_type": "display_data"
    },
    {
     "name": "stdout",
     "output_type": "stream",
     "text": [
      "Successfully retrieved 155 - https://www.halfbakedharvest.com/baked-mixed-berry-coconut-cornbread-muffins/ with proxy 20.26.186.150:8080\n",
      "Proxy 4.234.52.159:8080 failed for https://www.halfbakedharvest.com/chocolate-chip-cookie-dough-infused-waffles-made-into-waffle-ice-cream-sammies/: HTTPSConnectionPool(host='www.halfbakedharvest.com', port=443): Max retries exceeded with url: /chocolate-chip-cookie-dough-infused-waffles-made-into-waffle-ice-cream-sammies/ (Caused by ProxyError('Unable to connect to proxy', NewConnectionError('<urllib3.connection.HTTPSConnection object at 0x142db24c0>: Failed to establish a new connection: [Errno 60] Operation timed out')))\n",
      "Proxy 4.159.24.156:8080 failed for https://www.halfbakedharvest.com/cherry-cobbler-with-honey-butter-vanilla-bean-biscuits-links/: ('Connection aborted.', ConnectionResetError(54, 'Connection reset by peer'))\n",
      "Proxy 20.26.186.150:8080 failed for https://www.halfbakedharvest.com/raspberry-nectarine-and-sweet-corn-clafoutis/: HTTPSConnectionPool(host='www.halfbakedharvest.com', port=443): Read timed out.\n"
     ]
    },
    {
     "data": {
      "application/javascript": [
       "\n",
       "        if (window._pyforest_update_imports_cell) { window._pyforest_update_imports_cell('import re'); }\n",
       "    "
      ],
      "text/plain": [
       "<IPython.core.display.Javascript object>"
      ]
     },
     "metadata": {},
     "output_type": "display_data"
    },
    {
     "data": {
      "application/javascript": [
       "\n",
       "        if (window._pyforest_update_imports_cell) { window._pyforest_update_imports_cell('import re'); }\n",
       "    "
      ],
      "text/plain": [
       "<IPython.core.display.Javascript object>"
      ]
     },
     "metadata": {},
     "output_type": "display_data"
    },
    {
     "data": {
      "application/javascript": [
       "\n",
       "        if (window._pyforest_update_imports_cell) { window._pyforest_update_imports_cell('import re'); }\n",
       "    "
      ],
      "text/plain": [
       "<IPython.core.display.Javascript object>"
      ]
     },
     "metadata": {},
     "output_type": "display_data"
    },
    {
     "name": "stdout",
     "output_type": "stream",
     "text": [
      "Successfully retrieved 159 - https://www.halfbakedharvest.com/cherry-and-goats-milk-coconut-mousse/ with proxy 4.234.52.159:8080\n",
      "Proxy 4.159.24.156:8080 failed for https://www.halfbakedharvest.com/sweet-blueberry-buttermilk-pies-with-chamomile-cream/: ('Connection aborted.', ConnectionResetError(54, 'Connection reset by peer'))\n",
      "Proxy 20.26.186.150:8080 failed for https://www.halfbakedharvest.com/deep-dark-rosy-red-velvet-cupcakes/: ('Connection aborted.', ConnectionResetError(54, 'Connection reset by peer'))\n"
     ]
    },
    {
     "data": {
      "application/javascript": [
       "\n",
       "        if (window._pyforest_update_imports_cell) { window._pyforest_update_imports_cell('import re'); }\n",
       "    "
      ],
      "text/plain": [
       "<IPython.core.display.Javascript object>"
      ]
     },
     "metadata": {},
     "output_type": "display_data"
    },
    {
     "data": {
      "application/javascript": [
       "\n",
       "        if (window._pyforest_update_imports_cell) { window._pyforest_update_imports_cell('import re'); }\n",
       "    "
      ],
      "text/plain": [
       "<IPython.core.display.Javascript object>"
      ]
     },
     "metadata": {},
     "output_type": "display_data"
    },
    {
     "data": {
      "application/javascript": [
       "\n",
       "        if (window._pyforest_update_imports_cell) { window._pyforest_update_imports_cell('import re'); }\n",
       "    "
      ],
      "text/plain": [
       "<IPython.core.display.Javascript object>"
      ]
     },
     "metadata": {},
     "output_type": "display_data"
    },
    {
     "data": {
      "application/javascript": [
       "\n",
       "        if (window._pyforest_update_imports_cell) { window._pyforest_update_imports_cell('import re'); }\n",
       "    "
      ],
      "text/plain": [
       "<IPython.core.display.Javascript object>"
      ]
     },
     "metadata": {},
     "output_type": "display_data"
    },
    {
     "name": "stdout",
     "output_type": "stream",
     "text": [
      "Successfully retrieved 162 - https://www.halfbakedharvest.com/vanilla-cream-filled-cabernet-hot-chocolate-snowball-doughnuts/ with proxy 4.234.52.159:8080\n",
      "Proxy 4.159.24.156:8080 failed for https://www.halfbakedharvest.com/vanilla-chia-earl-grey-chocolate-banana-muffins/: HTTPSConnectionPool(host='www.halfbakedharvest.com', port=443): Max retries exceeded with url: /vanilla-chia-earl-grey-chocolate-banana-muffins/ (Caused by ProxyError('Unable to connect to proxy', OSError('Tunnel connection failed: 502 Bad Gateway')))\n",
      "Proxy 20.26.186.150:8080 failed for https://www.halfbakedharvest.com/chocolate-truffle-martini-dulce-de-leche-rum-butter-truffles/: ('Connection aborted.', ConnectionResetError(54, 'Connection reset by peer'))\n"
     ]
    },
    {
     "data": {
      "application/javascript": [
       "\n",
       "        if (window._pyforest_update_imports_cell) { window._pyforest_update_imports_cell('import re'); }\n",
       "    "
      ],
      "text/plain": [
       "<IPython.core.display.Javascript object>"
      ]
     },
     "metadata": {},
     "output_type": "display_data"
    },
    {
     "data": {
      "application/javascript": [
       "\n",
       "        if (window._pyforest_update_imports_cell) { window._pyforest_update_imports_cell('import re'); }\n",
       "    "
      ],
      "text/plain": [
       "<IPython.core.display.Javascript object>"
      ]
     },
     "metadata": {},
     "output_type": "display_data"
    },
    {
     "data": {
      "application/javascript": [
       "\n",
       "        if (window._pyforest_update_imports_cell) { window._pyforest_update_imports_cell('import re'); }\n",
       "    "
      ],
      "text/plain": [
       "<IPython.core.display.Javascript object>"
      ]
     },
     "metadata": {},
     "output_type": "display_data"
    },
    {
     "name": "stdout",
     "output_type": "stream",
     "text": [
      "Successfully retrieved 165 - https://www.halfbakedharvest.com/incredibly-gooey-collapsing-chocolate-bourbon-pecan-pie-custard-cake/ with proxy 4.234.52.159:8080\n",
      "ChunkedEncodingError occurred for proxy 4.159.24.156:8080 and https://www.halfbakedharvest.com/warm-toasted-caramel-coconut-gooey-chocolate-crunch-bars/: ('Connection broken: IncompleteRead(2441 bytes read, 7799 more expected)', IncompleteRead(2441 bytes read, 7799 more expected))\n",
      "Proxy 20.26.186.150:8080 failed for https://www.halfbakedharvest.com/baked-apple-cider-doughnuts/: HTTPSConnectionPool(host='www.halfbakedharvest.com', port=443): Max retries exceeded with url: /baked-apple-cider-doughnuts/ (Caused by ProxyError('Unable to connect to proxy', ConnectTimeoutError(<urllib3.connection.HTTPSConnection object at 0x143112a90>, 'Connection to 20.26.186.150 timed out. (connect timeout=30)')))\n"
     ]
    },
    {
     "data": {
      "application/javascript": [
       "\n",
       "        if (window._pyforest_update_imports_cell) { window._pyforest_update_imports_cell('import re'); }\n",
       "    "
      ],
      "text/plain": [
       "<IPython.core.display.Javascript object>"
      ]
     },
     "metadata": {},
     "output_type": "display_data"
    },
    {
     "data": {
      "application/javascript": [
       "\n",
       "        if (window._pyforest_update_imports_cell) { window._pyforest_update_imports_cell('import re'); }\n",
       "    "
      ],
      "text/plain": [
       "<IPython.core.display.Javascript object>"
      ]
     },
     "metadata": {},
     "output_type": "display_data"
    },
    {
     "data": {
      "application/javascript": [
       "\n",
       "        if (window._pyforest_update_imports_cell) { window._pyforest_update_imports_cell('import re'); }\n",
       "    "
      ],
      "text/plain": [
       "<IPython.core.display.Javascript object>"
      ]
     },
     "metadata": {},
     "output_type": "display_data"
    },
    {
     "name": "stdout",
     "output_type": "stream",
     "text": [
      "Successfully retrieved 168 - https://www.halfbakedharvest.com/raspberry-peach-sherbet/ with proxy 4.234.52.159:8080\n",
      "Proxy 4.159.24.156:8080 failed for https://www.halfbakedharvest.com/frozen-chocolate-peanut-butter-cups/: ('Connection aborted.', ConnectionResetError(54, 'Connection reset by peer'))\n",
      "ChunkedEncodingError occurred for proxy 20.26.186.150:8080 and https://www.halfbakedharvest.com/brown-sugar-peach-shortcakes/: ('Connection broken: IncompleteRead(2441 bytes read, 3042 more expected)', IncompleteRead(2441 bytes read, 3042 more expected))\n",
      "Proxy 4.234.52.159:8080 failed for https://www.halfbakedharvest.com/blueberry-lavender-pie/: HTTPSConnectionPool(host='www.halfbakedharvest.com', port=443): Max retries exceeded with url: /blueberry-lavender-pie/ (Caused by ProxyError('Unable to connect to proxy', ConnectTimeoutError(<urllib3.connection.HTTPSConnection object at 0x1428039a0>, 'Connection to 4.234.52.159 timed out. (connect timeout=30)')))\n"
     ]
    },
    {
     "data": {
      "application/javascript": [
       "\n",
       "        if (window._pyforest_update_imports_cell) { window._pyforest_update_imports_cell('import re'); }\n",
       "    "
      ],
      "text/plain": [
       "<IPython.core.display.Javascript object>"
      ]
     },
     "metadata": {},
     "output_type": "display_data"
    },
    {
     "data": {
      "application/javascript": [
       "\n",
       "        if (window._pyforest_update_imports_cell) { window._pyforest_update_imports_cell('import re'); }\n",
       "    "
      ],
      "text/plain": [
       "<IPython.core.display.Javascript object>"
      ]
     },
     "metadata": {},
     "output_type": "display_data"
    },
    {
     "data": {
      "application/javascript": [
       "\n",
       "        if (window._pyforest_update_imports_cell) { window._pyforest_update_imports_cell('import re'); }\n",
       "    "
      ],
      "text/plain": [
       "<IPython.core.display.Javascript object>"
      ]
     },
     "metadata": {},
     "output_type": "display_data"
    },
    {
     "name": "stdout",
     "output_type": "stream",
     "text": [
      "Successfully retrieved 172 - https://www.halfbakedharvest.com/vegan-gooey-chocolate-doughnuts-giveaway/ with proxy 4.159.24.156:8080\n"
     ]
    },
    {
     "data": {
      "application/javascript": [
       "\n",
       "        if (window._pyforest_update_imports_cell) { window._pyforest_update_imports_cell('import re'); }\n",
       "    "
      ],
      "text/plain": [
       "<IPython.core.display.Javascript object>"
      ]
     },
     "metadata": {},
     "output_type": "display_data"
    },
    {
     "data": {
      "application/javascript": [
       "\n",
       "        if (window._pyforest_update_imports_cell) { window._pyforest_update_imports_cell('import re'); }\n",
       "    "
      ],
      "text/plain": [
       "<IPython.core.display.Javascript object>"
      ]
     },
     "metadata": {},
     "output_type": "display_data"
    },
    {
     "data": {
      "application/javascript": [
       "\n",
       "        if (window._pyforest_update_imports_cell) { window._pyforest_update_imports_cell('import re'); }\n",
       "    "
      ],
      "text/plain": [
       "<IPython.core.display.Javascript object>"
      ]
     },
     "metadata": {},
     "output_type": "display_data"
    },
    {
     "name": "stdout",
     "output_type": "stream",
     "text": [
      "Successfully retrieved 173 - https://www.halfbakedharvest.com/chocolate-chip-pumpkin-cinnamon-roll-dutch-baby/ with proxy 20.26.186.150:8080\n"
     ]
    },
    {
     "data": {
      "application/javascript": [
       "\n",
       "        if (window._pyforest_update_imports_cell) { window._pyforest_update_imports_cell('import re'); }\n",
       "    "
      ],
      "text/plain": [
       "<IPython.core.display.Javascript object>"
      ]
     },
     "metadata": {},
     "output_type": "display_data"
    },
    {
     "data": {
      "application/javascript": [
       "\n",
       "        if (window._pyforest_update_imports_cell) { window._pyforest_update_imports_cell('import re'); }\n",
       "    "
      ],
      "text/plain": [
       "<IPython.core.display.Javascript object>"
      ]
     },
     "metadata": {},
     "output_type": "display_data"
    },
    {
     "data": {
      "application/javascript": [
       "\n",
       "        if (window._pyforest_update_imports_cell) { window._pyforest_update_imports_cell('import re'); }\n",
       "    "
      ],
      "text/plain": [
       "<IPython.core.display.Javascript object>"
      ]
     },
     "metadata": {},
     "output_type": "display_data"
    },
    {
     "data": {
      "application/javascript": [
       "\n",
       "        if (window._pyforest_update_imports_cell) { window._pyforest_update_imports_cell('import re'); }\n",
       "    "
      ],
      "text/plain": [
       "<IPython.core.display.Javascript object>"
      ]
     },
     "metadata": {},
     "output_type": "display_data"
    },
    {
     "name": "stdout",
     "output_type": "stream",
     "text": [
      "Successfully retrieved 174 - https://www.halfbakedharvest.com/salted-pretzel-chocolate-chip-cookie-dough-snickers-bars/ with proxy 4.234.52.159:8080\n"
     ]
    },
    {
     "data": {
      "application/javascript": [
       "\n",
       "        if (window._pyforest_update_imports_cell) { window._pyforest_update_imports_cell('import re'); }\n",
       "    "
      ],
      "text/plain": [
       "<IPython.core.display.Javascript object>"
      ]
     },
     "metadata": {},
     "output_type": "display_data"
    },
    {
     "data": {
      "application/javascript": [
       "\n",
       "        if (window._pyforest_update_imports_cell) { window._pyforest_update_imports_cell('import re'); }\n",
       "    "
      ],
      "text/plain": [
       "<IPython.core.display.Javascript object>"
      ]
     },
     "metadata": {},
     "output_type": "display_data"
    },
    {
     "data": {
      "application/javascript": [
       "\n",
       "        if (window._pyforest_update_imports_cell) { window._pyforest_update_imports_cell('import re'); }\n",
       "    "
      ],
      "text/plain": [
       "<IPython.core.display.Javascript object>"
      ]
     },
     "metadata": {},
     "output_type": "display_data"
    },
    {
     "name": "stdout",
     "output_type": "stream",
     "text": [
      "Successfully retrieved 175 - https://www.halfbakedharvest.com/peanut-butter-cup-cookies-cream-salted-caramel-popcorn-bars/ with proxy 4.159.24.156:8080\n",
      "Proxy 20.26.186.150:8080 failed for https://www.halfbakedharvest.com/ultimate-triple-layer-chocolate-bourbon-peanut-butter-buckeye-cake/: ('Connection aborted.', ConnectionResetError(54, 'Connection reset by peer'))\n",
      "Proxy 4.234.52.159:8080 failed for https://www.halfbakedharvest.com/honey-toasted-hazelnut-chocolate-chunk-cupcakes-with-boozy-honey-buttercream-frosting/: HTTPSConnectionPool(host='www.halfbakedharvest.com', port=443): Max retries exceeded with url: /honey-toasted-hazelnut-chocolate-chunk-cupcakes-with-boozy-honey-buttercream-frosting/ (Caused by ProxyError('Unable to connect to proxy', ConnectTimeoutError(<urllib3.connection.HTTPSConnection object at 0x1427526a0>, 'Connection to 4.234.52.159 timed out. (connect timeout=30)')))\n",
      "Proxy 4.159.24.156:8080 failed for https://www.halfbakedharvest.com/chocolate-dipped-homemade-peanut-butter-oreo-mocha-ice-cream-sandwiches/: ('Connection aborted.', ConnectionResetError(54, 'Connection reset by peer'))\n",
      "Proxy 20.26.186.150:8080 failed for https://www.halfbakedharvest.com/brown-sugar-maple-cookies/: ('Connection aborted.', ConnectionResetError(54, 'Connection reset by peer'))\n"
     ]
    },
    {
     "data": {
      "application/javascript": [
       "\n",
       "        if (window._pyforest_update_imports_cell) { window._pyforest_update_imports_cell('import re'); }\n",
       "    "
      ],
      "text/plain": [
       "<IPython.core.display.Javascript object>"
      ]
     },
     "metadata": {},
     "output_type": "display_data"
    },
    {
     "data": {
      "application/javascript": [
       "\n",
       "        if (window._pyforest_update_imports_cell) { window._pyforest_update_imports_cell('import re'); }\n",
       "    "
      ],
      "text/plain": [
       "<IPython.core.display.Javascript object>"
      ]
     },
     "metadata": {},
     "output_type": "display_data"
    },
    {
     "data": {
      "application/javascript": [
       "\n",
       "        if (window._pyforest_update_imports_cell) { window._pyforest_update_imports_cell('import re'); }\n",
       "    "
      ],
      "text/plain": [
       "<IPython.core.display.Javascript object>"
      ]
     },
     "metadata": {},
     "output_type": "display_data"
    },
    {
     "data": {
      "application/javascript": [
       "\n",
       "        if (window._pyforest_update_imports_cell) { window._pyforest_update_imports_cell('import re'); }\n",
       "    "
      ],
      "text/plain": [
       "<IPython.core.display.Javascript object>"
      ]
     },
     "metadata": {},
     "output_type": "display_data"
    },
    {
     "name": "stdout",
     "output_type": "stream",
     "text": [
      "Successfully retrieved 180 - https://www.halfbakedharvest.com/salted-pretzel-chocolate-chip-cookie-snickers-bars/ with proxy 4.234.52.159:8080\n",
      "Proxy 4.159.24.156:8080 failed for https://www.halfbakedharvest.com/chocolate-peanut-butter-bars/: ('Connection aborted.', ConnectionResetError(54, 'Connection reset by peer'))\n",
      "Proxy 20.26.186.150:8080 failed for https://www.halfbakedharvest.com/cinnamon-sugar-blueberry-crumb-bars/: ('Connection aborted.', ConnectionResetError(54, 'Connection reset by peer'))\n",
      "Proxy 4.234.52.159:8080 failed for https://www.halfbakedharvest.com/key-lime-pie/: HTTPSConnectionPool(host='www.halfbakedharvest.com', port=443): Max retries exceeded with url: /key-lime-pie/ (Caused by ProxyError('Unable to connect to proxy', ConnectTimeoutError(<urllib3.connection.HTTPSConnection object at 0x142e86b20>, 'Connection to 4.234.52.159 timed out. (connect timeout=30)')))\n",
      "Proxy 4.159.24.156:8080 failed for https://www.halfbakedharvest.com/raspberry-cream-pretzel-hand-pies/: ('Connection aborted.', ConnectionResetError(54, 'Connection reset by peer'))\n",
      "ChunkedEncodingError occurred for proxy 20.26.186.150:8080 and https://www.halfbakedharvest.com/lavender-lemon-sugar-cookies/: ('Connection broken: IncompleteRead(2207 bytes read, 1899 more expected)', IncompleteRead(2207 bytes read, 1899 more expected))\n"
     ]
    }
   ],
   "source": [
    "# Read proxies from the file and create a cycle iterator\n",
    "with open('proxies.txt', 'r') as f:\n",
    "    proxies = [line.strip() for line in f if line.strip()]\n",
    "\n",
    "# Check if proxies are being read correctly\n",
    "if not proxies:\n",
    "    print(\"No valid proxies found in proxies.txt\")\n",
    "else:\n",
    "    print(f\"Proxies loaded: {proxies}\")\n",
    "\n",
    "proxy_cycle = itertools.cycle(proxies)\n",
    "\n",
    "# Initialize an empty DataFrame to store results\n",
    "temp_recipes_1 = pd.DataFrame(columns=columns)\n",
    "title = []\n",
    "prep_time = []\n",
    "cook_time = []\n",
    "total_time = []\n",
    "\n",
    "ingredients_measurment = []\n",
    "ingredients = []\n",
    "instructions = []\n",
    "\n",
    "calories = []\n",
    "servings = []\n",
    "images = []\n",
    "\n",
    "# Loop over the desired number of pages\n",
    "for i in range(0, len(failed_url)):\n",
    "    proxy = next(proxy_cycle)\n",
    "\n",
    "    # Set up request with proxy\n",
    "    headers = {'User-Agent': 'Mozilla/5.0 (Windows NT 6.3; Win64; x64) AppleWebKit/537.36 (KHTML, like Gecko) Chrome/80.0.3987.162 Safari/537.36'}\n",
    "    url = failed_url[i]\n",
    "    proxy_dict = {'http': proxy, 'https': proxy}\n",
    "\n",
    "    try:\n",
    "        response = requests.get(url, headers=headers, proxies=proxy_dict, timeout=30)\n",
    "        \n",
    "        # Check if the request was successful\n",
    "        if response.status_code == 200:\n",
    "            soup = BeautifulSoup(response.content, 'html.parser')\n",
    "            extract(soup)\n",
    "            print(f\"Successfully retrieved {i} - {url} with proxy {proxy}\")\n",
    "        else:\n",
    "            new_failed_url.append(url)\n",
    "            print(f\"Failed to retrieve page {url} with proxy {proxy}. Status code: {response.status_code}\")\n",
    "    except (requests.ConnectionError, requests.Timeout) as e:\n",
    "        new_failed_url.append(url)\n",
    "        print(f\"Proxy {proxy} failed for {url}: {e}\")\n",
    "    except ChunkedEncodingError as e:  # Handle ChunkedEncodingError\n",
    "        new_failed_url.append(url)\n",
    "        print(f\"ChunkedEncodingError occurred for proxy {proxy} and {url}: {e}\")\n",
    "        continue  # Move to the next page\n",
    "\n",
    "\n",
    "\n",
    "temp_recipes_1['title'] = title\n",
    "temp_recipes_1['prep_time'] = prep_time\n",
    "temp_recipes_1['cook_time'] = cook_time\n",
    "temp_recipes_1['total_time'] = total_time\n",
    "temp_recipes_1['ingredients'] = ingredients\n",
    "temp_recipes_1['ingredients with measurement'] = ingredients_measurment\n",
    "temp_recipes_1['instructions'] = instructions\n",
    "temp_recipes_1['calories'] = calories\n",
    "temp_recipes_1['servings'] = servings\n",
    "temp_recipes_1['images']= images\n",
    "\n",
    "\n",
    "\n",
    "    "
   ]
  },
  {
   "cell_type": "code",
   "execution_count": 12,
   "id": "47437d82",
   "metadata": {},
   "outputs": [
    {
     "name": "stdout",
     "output_type": "stream",
     "text": [
      "127\n"
     ]
    }
   ],
   "source": [
    "print(len(new_failed_url))"
   ]
  },
  {
   "cell_type": "code",
   "execution_count": 13,
   "id": "17979e50",
   "metadata": {},
   "outputs": [
    {
     "data": {
      "text/plain": [
       "['https://www.halfbakedharvest.com/no-churn-strawberry-ice-cream/',\n",
       " 'https://www.halfbakedharvest.com/31-recipes-to-cook-in-may/',\n",
       " 'https://www.halfbakedharvest.com/blueberry-sour-cream-coffee-cake/',\n",
       " 'https://www.halfbakedharvest.com/chocolate-chunk-honey-sesame-cookies/',\n",
       " 'https://www.halfbakedharvest.com/chewy-christmas-snickerdoodles/',\n",
       " 'https://www.halfbakedharvest.com/zucchini-doughnuts/',\n",
       " 'https://www.halfbakedharvest.com/cottage-cheese-chocolate-chip-peanut-muffins/',\n",
       " 'https://www.halfbakedharvest.com/brown-sugar-strawberry-cobbler/',\n",
       " 'https://www.halfbakedharvest.com/brown-sugar-maple-cookie-pie/',\n",
       " 'https://www.halfbakedharvest.com/caramel-mocha-nutella-brownies/',\n",
       " 'https://www.halfbakedharvest.com/tiramisu-cake/',\n",
       " 'https://www.halfbakedharvest.com/tahini-butter-chocolate-chip-cookies/',\n",
       " 'https://www.halfbakedharvest.com/caramel-brulee-latte/',\n",
       " 'https://www.halfbakedharvest.com/molten-chocolate-crackle-pie/',\n",
       " 'https://www.halfbakedharvest.com/chai-pumpkin-latte-cupcakes/',\n",
       " 'https://www.halfbakedharvest.com/mini-apple-cider-cakes/',\n",
       " 'https://www.halfbakedharvest.com/fudgy-chocolate-peanut-butter-ice-cream-pretzel-cake/',\n",
       " 'https://www.halfbakedharvest.com/homemade-frosted-brown-sugar-cinnamon-pop-tarts/',\n",
       " 'https://www.halfbakedharvest.com/skillet-strawberry-bourbon-cobbler/',\n",
       " 'https://www.halfbakedharvest.com/homemade-vegan-twix-bars/',\n",
       " 'https://www.halfbakedharvest.com/chocolate-peanut-butter-pretzel-blondies/',\n",
       " 'https://www.halfbakedharvest.com/healthier-banoffee-pie/',\n",
       " 'https://www.halfbakedharvest.com/blackberry-lavender-cobbler/',\n",
       " 'https://www.halfbakedharvest.com/no-bake-eton-mess-berry-cheesecake/',\n",
       " 'https://www.halfbakedharvest.com/strawberry-glazed-chai-doughnuts/',\n",
       " 'https://www.halfbakedharvest.com/jammy-strawberry-galette/',\n",
       " 'https://www.halfbakedharvest.com/chai-pumpkin-cake/',\n",
       " 'https://www.halfbakedharvest.com/maple-pecan-sticky-buns/',\n",
       " 'https://www.halfbakedharvest.com/chocolate-chip-peanut-butter-swirled-cookie-bars/',\n",
       " 'https://www.halfbakedharvest.com/6-ingredient-no-bake-chocolate-chip-cookies/',\n",
       " 'https://www.halfbakedharvest.com/5-ingredient-chocolate-dipped-peanut-butter-cookies/',\n",
       " 'https://www.halfbakedharvest.com/cinnamon-spiced-sugar-cookies-with-browned-butter-frosting/',\n",
       " 'https://www.halfbakedharvest.com/vanilla-glazed-blackberry-peach-coffee-cake/',\n",
       " 'https://www.halfbakedharvest.com/salty-peanut-butter-smore-ice-cream-cake-video/',\n",
       " 'https://www.halfbakedharvest.com/strawberry-cornmeal-cake-with-buttermilk-glaze/',\n",
       " 'https://www.halfbakedharvest.com/frozen-peanut-butter-cup-pie/',\n",
       " 'https://www.halfbakedharvest.com/rainbow-frozen-yogurt-pops/',\n",
       " 'https://www.halfbakedharvest.com/moroccan-chocolate-almond-phyllo-cake-snake-cake/',\n",
       " 'https://www.halfbakedharvest.com/peanut-butter-swirled-chocolate-fudge-popsicles/',\n",
       " 'https://www.halfbakedharvest.com/raw-chocolate-banana-cashew-cream-pie-bars/',\n",
       " 'https://www.halfbakedharvest.com/one-bowl-8-ingredient-irish-coffee-fudge-brownies/',\n",
       " 'https://www.halfbakedharvest.com/chocolate-peanut-butter-bubble-panna-cotta-with-honey-roasted-peanuts/',\n",
       " 'https://www.halfbakedharvest.com/toasted-coconut-cream-rum-chocolate-mousse-crepe-cake/',\n",
       " 'https://www.halfbakedharvest.com/easy-jalapeno-popper-chicken-chili-cheddar-polenta-pot-pies/',\n",
       " 'https://www.halfbakedharvest.com/monster-crunchies/',\n",
       " 'https://www.halfbakedharvest.com/double-chocolate-chip-zucchini-bread/',\n",
       " 'https://www.halfbakedharvest.com/brown-butter-glazed-peanut-butter-blondies/',\n",
       " 'https://www.halfbakedharvest.com/chocolate-peanut-butter-oatmeal-bars/',\n",
       " 'https://www.halfbakedharvest.com/molten-chocolate-coffee-blondies/',\n",
       " 'https://www.halfbakedharvest.com/lemon-sugar-burnt-basque-cheesecake/',\n",
       " 'https://www.halfbakedharvest.com/cinnamon-streusel-coffee-coffee-cake/',\n",
       " 'https://www.halfbakedharvest.com/strawberry-conversation-heart-cupcakes/',\n",
       " 'https://www.halfbakedharvest.com/salted-pretzel-magic-bars/',\n",
       " 'https://www.halfbakedharvest.com/6-ingredient-rice-krispie-treat-chocolate-ice-cream-sandwiches/',\n",
       " 'https://www.halfbakedharvest.com/cookie-ice-cream-sandwiches/',\n",
       " 'https://www.halfbakedharvest.com/chocolate-chip-skillet-cookie/',\n",
       " 'https://www.halfbakedharvest.com/tres-leches-cake/',\n",
       " 'https://www.halfbakedharvest.com/hydrangea-flower-carrot-cake-cupcakes/',\n",
       " 'https://www.halfbakedharvest.com/crinkle-top-brownies/',\n",
       " 'https://www.halfbakedharvest.com/strawberry-rhubarb-cobbler-honey-butter-biscuits/',\n",
       " 'https://www.halfbakedharvest.com/banana-cream-pie-chocolate-peanuts/',\n",
       " 'https://www.halfbakedharvest.com/strawberry-rosehip-frozen-yogurt/',\n",
       " 'https://www.halfbakedharvest.com/coconut-chocolate-chunk-cookies-video/',\n",
       " 'https://www.halfbakedharvest.com/coconut-banana-3-milk-cupcakes-with-nutella-buttercream/',\n",
       " 'https://www.halfbakedharvest.com/coconut-carrot-cake-cheesecake/',\n",
       " 'https://www.halfbakedharvest.com/sweet-cuban-coconut-balls-with-melted-chocolate-coquito-acaramelado/',\n",
       " 'https://www.halfbakedharvest.com/superfood-hot-chocolate-with-honey-caramelized-brioche/',\n",
       " 'https://www.halfbakedharvest.com/banana-and-chocolate-chia-cream-pie-parfaits/',\n",
       " 'https://www.halfbakedharvest.com/4-ingredient-dark-chocolate-covered-peanut-butter-stuffed-dates/',\n",
       " 'https://www.halfbakedharvest.com/gingerbread-latte-salted-caramel-sugar-video/',\n",
       " 'https://www.halfbakedharvest.com/vanilla-bourbon-cherry-blueberry-pie/',\n",
       " 'https://www.halfbakedharvest.com/coconut-raspberry-macarons-raspberry-rose-buttercream/',\n",
       " 'https://www.halfbakedharvest.com/vegan-deconstructed-boozy-mocha-drenched-grilled-banana-coconut-cream-pies/',\n",
       " 'https://www.halfbakedharvest.com/triple-berry-kahlua-crisp-double-crumble/',\n",
       " 'https://www.halfbakedharvest.com/churro-milkshakes-dulce-de-leche/',\n",
       " 'https://www.halfbakedharvest.com/tahini-hot-chocolate/',\n",
       " 'https://www.halfbakedharvest.com/lemon-ricotta-poppy-seed-cakes/',\n",
       " 'https://www.halfbakedharvest.com/blender-chocolate-peanut-butter-muffins/',\n",
       " 'https://www.halfbakedharvest.com/gingerbread-latte-cookies/',\n",
       " 'https://www.halfbakedharvest.com/caramel-snickerdoodle-pie/',\n",
       " 'https://www.halfbakedharvest.com/pumpkin-sugar-cookies/',\n",
       " 'https://www.halfbakedharvest.com/chocolate-chip-espresso-oatmeal-cookies/',\n",
       " 'https://www.halfbakedharvest.com/giant-frosted-chocolate-fudge-pop-tart/',\n",
       " 'https://www.halfbakedharvest.com/whipped-lemon-ricotta-cheesecake/',\n",
       " 'https://www.halfbakedharvest.com/lemon-rose-shortbread-cookies/',\n",
       " 'https://www.halfbakedharvest.com/chai-spiced-santa-cookies/',\n",
       " 'https://www.halfbakedharvest.com/honey-strawberry-peach-pie/',\n",
       " 'https://www.halfbakedharvest.com/layered-caramel-buster-bars/',\n",
       " 'https://www.halfbakedharvest.com/sweet-potato-pie-cinnamon-rolls-with-butter-whipped-meringue-frosting/',\n",
       " 'https://www.halfbakedharvest.com/caramelized-condensed-milk-mini-apple-pies/',\n",
       " 'https://www.halfbakedharvest.com/maple-glazed-apple-fritters/',\n",
       " 'https://www.halfbakedharvest.com/death-butterbeer-cupcakes-wtreacle-butter-frosting-chocolate-covered-pretzels/',\n",
       " 'https://www.halfbakedharvest.com/2-ingredient-strawberry-popsicles-links-inspire/',\n",
       " 'https://www.halfbakedharvest.com/healthier-chocolate-lovers-sweet-corn-hazelnut-crunch-chocolate-cake-wganache/',\n",
       " 'https://www.halfbakedharvest.com/6-layer-3-coconut-covered-chocolate-peeps-cake/',\n",
       " 'https://www.halfbakedharvest.com/blueberry-vanilla-greek-yogurt-granola-bars/',\n",
       " 'https://www.halfbakedharvest.com/mini-chocolate-stout-brownie-sundae-floats-burnt-irish-caramel-hot-fudge/',\n",
       " 'https://www.halfbakedharvest.com/moms-simple-oatmeal-chocolate-chip-cookies-best-oatmeal-chocolate-chip-cookies-around/',\n",
       " 'https://www.halfbakedharvest.com/chocolate-dipped-coconut-caramel-macaroons/',\n",
       " 'https://www.halfbakedharvest.com/christmas-cookie-decorating-kit/',\n",
       " 'https://www.halfbakedharvest.com/butter-pecan-frosted-fudge-brownies/',\n",
       " 'https://www.halfbakedharvest.com/pumpkin-chai-snickerdoodles/',\n",
       " 'https://www.halfbakedharvest.com/cream-cheese-swirled-brown-sugar-pumpkin-coffee-cake/',\n",
       " 'https://www.halfbakedharvest.com/mocha-caramel-crunch-chocolate-chip-cookie-bars/',\n",
       " 'https://www.halfbakedharvest.com/baked-salted-caramel-apple-cider-doughnuts/',\n",
       " 'https://www.halfbakedharvest.com/chocolate-bourbon-caramel-macaron-cake-to-celebrate-my-little-kind-of-big-secret/',\n",
       " 'https://www.halfbakedharvest.com/chocolate-chip-cookie-dough-infused-waffles-made-into-waffle-ice-cream-sammies/',\n",
       " 'https://www.halfbakedharvest.com/cherry-cobbler-with-honey-butter-vanilla-bean-biscuits-links/',\n",
       " 'https://www.halfbakedharvest.com/raspberry-nectarine-and-sweet-corn-clafoutis/',\n",
       " 'https://www.halfbakedharvest.com/sweet-blueberry-buttermilk-pies-with-chamomile-cream/',\n",
       " 'https://www.halfbakedharvest.com/deep-dark-rosy-red-velvet-cupcakes/',\n",
       " 'https://www.halfbakedharvest.com/vanilla-chia-earl-grey-chocolate-banana-muffins/',\n",
       " 'https://www.halfbakedharvest.com/chocolate-truffle-martini-dulce-de-leche-rum-butter-truffles/',\n",
       " 'https://www.halfbakedharvest.com/warm-toasted-caramel-coconut-gooey-chocolate-crunch-bars/',\n",
       " 'https://www.halfbakedharvest.com/baked-apple-cider-doughnuts/',\n",
       " 'https://www.halfbakedharvest.com/frozen-chocolate-peanut-butter-cups/',\n",
       " 'https://www.halfbakedharvest.com/brown-sugar-peach-shortcakes/',\n",
       " 'https://www.halfbakedharvest.com/blueberry-lavender-pie/',\n",
       " 'https://www.halfbakedharvest.com/ultimate-triple-layer-chocolate-bourbon-peanut-butter-buckeye-cake/',\n",
       " 'https://www.halfbakedharvest.com/honey-toasted-hazelnut-chocolate-chunk-cupcakes-with-boozy-honey-buttercream-frosting/',\n",
       " 'https://www.halfbakedharvest.com/chocolate-dipped-homemade-peanut-butter-oreo-mocha-ice-cream-sandwiches/',\n",
       " 'https://www.halfbakedharvest.com/brown-sugar-maple-cookies/',\n",
       " 'https://www.halfbakedharvest.com/chocolate-peanut-butter-bars/',\n",
       " 'https://www.halfbakedharvest.com/cinnamon-sugar-blueberry-crumb-bars/',\n",
       " 'https://www.halfbakedharvest.com/key-lime-pie/',\n",
       " 'https://www.halfbakedharvest.com/raspberry-cream-pretzel-hand-pies/',\n",
       " 'https://www.halfbakedharvest.com/lavender-lemon-sugar-cookies/']"
      ]
     },
     "execution_count": 13,
     "metadata": {},
     "output_type": "execute_result"
    }
   ],
   "source": [
    "new_failed_url"
   ]
  },
  {
   "cell_type": "code",
   "execution_count": 14,
   "id": "8cdd5073",
   "metadata": {},
   "outputs": [
    {
     "data": {
      "text/html": [
       "<div>\n",
       "<style scoped>\n",
       "    .dataframe tbody tr th:only-of-type {\n",
       "        vertical-align: middle;\n",
       "    }\n",
       "\n",
       "    .dataframe tbody tr th {\n",
       "        vertical-align: top;\n",
       "    }\n",
       "\n",
       "    .dataframe thead th {\n",
       "        text-align: right;\n",
       "    }\n",
       "</style>\n",
       "<table border=\"1\" class=\"dataframe\">\n",
       "  <thead>\n",
       "    <tr style=\"text-align: right;\">\n",
       "      <th></th>\n",
       "      <th>title</th>\n",
       "      <th>prep_time</th>\n",
       "      <th>cook_time</th>\n",
       "      <th>total_time</th>\n",
       "      <th>ingredients</th>\n",
       "      <th>ingredients with measurement</th>\n",
       "      <th>instructions</th>\n",
       "      <th>calories</th>\n",
       "      <th>servings</th>\n",
       "      <th>images</th>\n",
       "    </tr>\n",
       "  </thead>\n",
       "  <tbody>\n",
       "    <tr>\n",
       "      <th>0</th>\n",
       "      <td>Burnt Marshmallow Brown Sugar Maple Cookie Bars</td>\n",
       "      <td>{'minutes': '15'}</td>\n",
       "      <td>{'minutes': '30'}</td>\n",
       "      <td>{'minutes': '45'}</td>\n",
       "      <td>[salted butter, at room temperature, dark brow...</td>\n",
       "      <td>{'salted butter, at room temperature': '2', 'd...</td>\n",
       "      <td>[1. Add the butter to a skillet set over mediu...</td>\n",
       "      <td>372 kcal</td>\n",
       "      <td>16</td>\n",
       "      <td>https://www.halfbakedharvest.com/wp-content/up...</td>\n",
       "    </tr>\n",
       "    <tr>\n",
       "      <th>1</th>\n",
       "      <td>Chewy Chocolate Peanut Butter Bars</td>\n",
       "      <td>{'minutes': '10'}</td>\n",
       "      <td>{'minutes': '10'}</td>\n",
       "      <td>{'minutes': '50'}</td>\n",
       "      <td>[salted butter, organic corn flakes or brown r...</td>\n",
       "      <td>{'salted butter': '2', 'organic corn flakes or...</td>\n",
       "      <td>[1. Melt the butter in a large skillet over me...</td>\n",
       "      <td>284 kcal</td>\n",
       "      <td>24</td>\n",
       "      <td>https://www.halfbakedharvest.com/wp-content/up...</td>\n",
       "    </tr>\n",
       "    <tr>\n",
       "      <th>2</th>\n",
       "      <td>Easy Banana Cupcakes with Espresso Chocolate F...</td>\n",
       "      <td>{'minutes': '20'}</td>\n",
       "      <td>{'minutes': '25'}</td>\n",
       "      <td>{'minutes': '45'}</td>\n",
       "      <td>[medium overly ripe bananas, mashed, melted co...</td>\n",
       "      <td>{'medium overly ripe bananas, mashed': '4', 'm...</td>\n",
       "      <td>[1. Preheat oven to 350° F. Line cupcake molds...</td>\n",
       "      <td>230 kcal</td>\n",
       "      <td>15</td>\n",
       "      <td>https://www.halfbakedharvest.com/wp-content/up...</td>\n",
       "    </tr>\n",
       "    <tr>\n",
       "      <th>3</th>\n",
       "      <td>Salted Chocolate Peanut Butter Bars</td>\n",
       "      <td>{'minutes': '25'}</td>\n",
       "      <td>-</td>\n",
       "      <td>{'hours': '2', 'minutes': '25'}</td>\n",
       "      <td>[chocolate wafer cookies or Oreos without fill...</td>\n",
       "      <td>{'chocolate wafer cookies or Oreos without fil...</td>\n",
       "      <td>[1. Line a 9×9 inch baking dish with parchment...</td>\n",
       "      <td>444 kcal</td>\n",
       "      <td>16</td>\n",
       "      <td>https://www.halfbakedharvest.com/wp-content/up...</td>\n",
       "    </tr>\n",
       "    <tr>\n",
       "      <th>4</th>\n",
       "      <td>Easy Decked Out Christmas Tree Cookies</td>\n",
       "      <td>{'minutes': '30'}</td>\n",
       "      <td>{'minutes': '10'}</td>\n",
       "      <td>{'hours': '1', 'minutes': '10'}</td>\n",
       "      <td>[salted butter, at room temperature, brown sug...</td>\n",
       "      <td>{'salted butter, at room temperature': '1 1/2'...</td>\n",
       "      <td>[1. In a large mixing bowl, beat together the ...</td>\n",
       "      <td>263 kcal</td>\n",
       "      <td>15</td>\n",
       "      <td>https://www.halfbakedharvest.com/wp-content/up...</td>\n",
       "    </tr>\n",
       "    <tr>\n",
       "      <th>5</th>\n",
       "      <td>Bakery Style Chocolate Chip Muffins</td>\n",
       "      <td>{'minutes': '15'}</td>\n",
       "      <td>{'minutes': '20'}</td>\n",
       "      <td>{'minutes': '35'}</td>\n",
       "      <td>[salted butter, real maple syrup, plain greek ...</td>\n",
       "      <td>{'salted butter': '1', 'real maple syrup': '1/...</td>\n",
       "      <td>[1. Preheat the oven to 425 degrees F. Line 11...</td>\n",
       "      <td>331 kcal</td>\n",
       "      <td>12</td>\n",
       "      <td>https://www.halfbakedharvest.com/wp-content/up...</td>\n",
       "    </tr>\n",
       "    <tr>\n",
       "      <th>6</th>\n",
       "      <td>Salted Pretzel Samoas Presents</td>\n",
       "      <td>{'minutes': '30'}</td>\n",
       "      <td>{'minutes': '15'}</td>\n",
       "      <td>{'minutes': '45'}</td>\n",
       "      <td>[granulated sugar, salted butter, at room temp...</td>\n",
       "      <td>{'granulated sugar': '1', 'salted butter, at r...</td>\n",
       "      <td>[1. Line a baking sheet with parchment paper.,...</td>\n",
       "      <td>258 kcal</td>\n",
       "      <td>24</td>\n",
       "      <td>https://www.halfbakedharvest.com/wp-content/up...</td>\n",
       "    </tr>\n",
       "    <tr>\n",
       "      <th>7</th>\n",
       "      <td>Vanilla Burnt Basque Cheesecake</td>\n",
       "      <td>{'minutes': '20'}</td>\n",
       "      <td>{'minutes': '50'}</td>\n",
       "      <td>{'hours': '1', 'minutes': '10'}</td>\n",
       "      <td>[packages cream cheese, at room temperature, g...</td>\n",
       "      <td>{'packages cream cheese, at room temperature':...</td>\n",
       "      <td>[1. Place a rack in the middle of the oven. Pr...</td>\n",
       "      <td>468 kcal</td>\n",
       "      <td>8</td>\n",
       "      <td>https://www.halfbakedharvest.com/wp-content/up...</td>\n",
       "    </tr>\n",
       "    <tr>\n",
       "      <th>8</th>\n",
       "      <td>Salted Pretzel Snickers Chocolate Chip Cookie ...</td>\n",
       "      <td>{'minutes': '20'}</td>\n",
       "      <td>{'minutes': '20'}</td>\n",
       "      <td>{'minutes': '40'}</td>\n",
       "      <td>[salted butter, packed dark brown sugar, granu...</td>\n",
       "      <td>{'salted butter': '2', 'packed dark brown suga...</td>\n",
       "      <td>[1. Preheat the oven to 350° F. Line a 9×13 in...</td>\n",
       "      <td>250 kcal</td>\n",
       "      <td>22</td>\n",
       "      <td>https://www.halfbakedharvest.com/wp-content/up...</td>\n",
       "    </tr>\n",
       "    <tr>\n",
       "      <th>9</th>\n",
       "      <td>Brown Butter Christmas M&amp;M Cookie Bars</td>\n",
       "      <td>{'minutes': '15'}</td>\n",
       "      <td>{'minutes': '20'}</td>\n",
       "      <td>{'minutes': '45'}</td>\n",
       "      <td>[salted butter, packed dark brown sugar, granu...</td>\n",
       "      <td>{'salted butter': '2', 'packed dark brown suga...</td>\n",
       "      <td>[1. Add the butter to a skillet set over mediu...</td>\n",
       "      <td>534 kcal</td>\n",
       "      <td>22</td>\n",
       "      <td>https://www.halfbakedharvest.com/wp-content/up...</td>\n",
       "    </tr>\n",
       "    <tr>\n",
       "      <th>10</th>\n",
       "      <td>White Christmas Cranberry Layer Cake</td>\n",
       "      <td>{'minutes': '30'}</td>\n",
       "      <td>{'minutes': '30'}</td>\n",
       "      <td>{'hours': '3'}</td>\n",
       "      <td>[canola oil, plain greek yogurt, large eggs, a...</td>\n",
       "      <td>{'canola oil': '1', 'plain greek yogurt': '1/2...</td>\n",
       "      <td>[1. Preheat oven to 350 degrees F. Grease 2 (8...</td>\n",
       "      <td>437 kcal</td>\n",
       "      <td>24</td>\n",
       "      <td>https://www.halfbakedharvest.com/wp-content/up...</td>\n",
       "    </tr>\n",
       "    <tr>\n",
       "      <th>11</th>\n",
       "      <td>Chai Spice Apple Ricotta Galette</td>\n",
       "      <td>{'minutes': '15'}</td>\n",
       "      <td>{'minutes': '30'}</td>\n",
       "      <td>{'minutes': '45'}</td>\n",
       "      <td>[maple syrup, salted butter, ground cinnamon, ...</td>\n",
       "      <td>{'maple syrup': '1/2', 'salted butter': '3', '...</td>\n",
       "      <td>[1. Preheat the oven to 400 degrees F., 2. Bri...</td>\n",
       "      <td>1098 kcal</td>\n",
       "      <td>8</td>\n",
       "      <td>https://www.halfbakedharvest.com/wp-content/up...</td>\n",
       "    </tr>\n",
       "    <tr>\n",
       "      <th>12</th>\n",
       "      <td>No Fuss Healthy Coconut Tart</td>\n",
       "      <td>{'minutes': '15'}</td>\n",
       "      <td>{'minutes': '15'}</td>\n",
       "      <td>{'hours': '2', 'minutes': '30'}</td>\n",
       "      <td>[roasted salted cashews, raw unsweetened cocon...</td>\n",
       "      <td>{'roasted salted cashews': '1 1/2', 'raw unswe...</td>\n",
       "      <td>[1. To make the crust. Line a rectangular baki...</td>\n",
       "      <td>1340 kcal</td>\n",
       "      <td>16</td>\n",
       "      <td>https://www.halfbakedharvest.com/wp-content/up...</td>\n",
       "    </tr>\n",
       "    <tr>\n",
       "      <th>13</th>\n",
       "      <td>Homemade Animal Crackers</td>\n",
       "      <td>{'minutes': '30'}</td>\n",
       "      <td>{'minutes': '10'}</td>\n",
       "      <td>{'minutes': '50'}</td>\n",
       "      <td>[salted butter, softened, light brown sugar, p...</td>\n",
       "      <td>{'salted butter, softened': '1 1/2', 'light br...</td>\n",
       "      <td>[1. In a large mixing bowl, cream together the...</td>\n",
       "      <td>359 kcal</td>\n",
       "      <td>12</td>\n",
       "      <td>https://www.halfbakedharvest.com/wp-content/up...</td>\n",
       "    </tr>\n",
       "    <tr>\n",
       "      <th>14</th>\n",
       "      <td>Sugar Cookie Chocolate Crème Brûlée.</td>\n",
       "      <td>{'minutes': '15'}</td>\n",
       "      <td>{'minutes': '50'}</td>\n",
       "      <td>{'hours': '1', 'minutes': '5'}</td>\n",
       "      <td>[egg, egg yolks, granulated sugar, heavy cream...</td>\n",
       "      <td>{'egg': '1', 'egg yolks': '4', 'granulated sug...</td>\n",
       "      <td>[1. Preheat the oven to 275 degrees F. Place 6...</td>\n",
       "      <td>784 kcal</td>\n",
       "      <td>6</td>\n",
       "      <td>https://www.halfbakedharvest.com/wp-content/up...</td>\n",
       "    </tr>\n",
       "    <tr>\n",
       "      <th>15</th>\n",
       "      <td>Mixed Berry Almond Croissants</td>\n",
       "      <td>{'minutes': '20'}</td>\n",
       "      <td>{'minutes': '15'}</td>\n",
       "      <td>{'minutes': '35'}</td>\n",
       "      <td>[honey, bourbon, kosher salt, unsalted butter,...</td>\n",
       "      <td>{'honey': '2', 'bourbon': '1/4', 'kosher salt'...</td>\n",
       "      <td>[1. Preheat the oven to 350 degrees F. Line a ...</td>\n",
       "      <td>535 kcal</td>\n",
       "      <td>8</td>\n",
       "      <td>https://www.halfbakedharvest.com/wp-content/up...</td>\n",
       "    </tr>\n",
       "    <tr>\n",
       "      <th>16</th>\n",
       "      <td>Winter Bliss Balls.</td>\n",
       "      <td>{'minutes': '10'}</td>\n",
       "      <td>-</td>\n",
       "      <td>{'minutes': '10'}</td>\n",
       "      <td>[medjool dates, pitted (about 2 cups packed), ...</td>\n",
       "      <td>{'medjool dates, pitted (about 2 cups packed)'...</td>\n",
       "      <td>[]</td>\n",
       "      <td>152 kcal</td>\n",
       "      <td>18</td>\n",
       "      <td>https://www.halfbakedharvest.com/wp-content/up...</td>\n",
       "    </tr>\n",
       "    <tr>\n",
       "      <th>17</th>\n",
       "      <td>Double Chocolate Irish Brownie Cheesecakes.</td>\n",
       "      <td>{'minutes': '30'}</td>\n",
       "      <td>{'minutes': '30'}</td>\n",
       "      <td>{'hours': '1'}</td>\n",
       "      <td>[all-purpose flour, cocoa powder, salt, semi-s...</td>\n",
       "      <td>{'all-purpose flour': '1/2', 'cocoa powder': '...</td>\n",
       "      <td>[]</td>\n",
       "      <td>718 kcal</td>\n",
       "      <td>8</td>\n",
       "      <td>https://www.halfbakedharvest.com/wp-content/up...</td>\n",
       "    </tr>\n",
       "    <tr>\n",
       "      <th>18</th>\n",
       "      <td>Cinnamon Brioche Chocolate Chip French Toast M...</td>\n",
       "      <td>{'minutes': '15'}</td>\n",
       "      <td>{'minutes': '25'}</td>\n",
       "      <td>{'hours': '2', 'minutes': '30'}</td>\n",
       "      <td>[cinnamon crunch brioche or your favorite cinn...</td>\n",
       "      <td>{'cinnamon crunch brioche or your favorite cin...</td>\n",
       "      <td>[]</td>\n",
       "      <td>578 kcal</td>\n",
       "      <td>12</td>\n",
       "      <td>https://www.halfbakedharvest.com/wp-content/up...</td>\n",
       "    </tr>\n",
       "    <tr>\n",
       "      <th>19</th>\n",
       "      <td>Pumpkin Cream Cheese Muffins</td>\n",
       "      <td>{'minutes': '20'}</td>\n",
       "      <td>{'minutes': '20'}</td>\n",
       "      <td>{'minutes': '40'}</td>\n",
       "      <td>[melted coconut oil, maple syrup or honey, van...</td>\n",
       "      <td>{'melted coconut oil': '1/2', 'maple syrup or ...</td>\n",
       "      <td>[1. Preheat the oven to 350° F. Line 12 muffin...</td>\n",
       "      <td>249 kcal</td>\n",
       "      <td>12</td>\n",
       "      <td>https://www.halfbakedharvest.com/wp-content/up...</td>\n",
       "    </tr>\n",
       "    <tr>\n",
       "      <th>20</th>\n",
       "      <td>Easy Strawberry Tiramisu</td>\n",
       "      <td>{'minutes': '30'}</td>\n",
       "      <td>-</td>\n",
       "      <td>{'hours': '2', 'minutes': '30'}</td>\n",
       "      <td>[honey, fresh ginger, sliced, chamomile tea, l...</td>\n",
       "      <td>{'honey': '1/3', 'fresh ginger, sliced': '1', ...</td>\n",
       "      <td>[1. To make the syrup. Bring 1/2 cup water, th...</td>\n",
       "      <td>423 kcal</td>\n",
       "      <td>8</td>\n",
       "      <td>https://www.halfbakedharvest.com/wp-content/up...</td>\n",
       "    </tr>\n",
       "    <tr>\n",
       "      <th>21</th>\n",
       "      <td>Baked Maple Glazed Doughnuts</td>\n",
       "      <td>{'minutes': '20'}</td>\n",
       "      <td>{'minutes': '20'}</td>\n",
       "      <td>{'minutes': '40'}</td>\n",
       "      <td>[salted butter, melted, vanilla extract, large...</td>\n",
       "      <td>{'salted butter, melted': '4', 'vanilla extrac...</td>\n",
       "      <td>[1. Preheat the oven to 350° F. Grease a 6-cup...</td>\n",
       "      <td>224 kcal</td>\n",
       "      <td>14</td>\n",
       "      <td>https://www.halfbakedharvest.com/wp-content/up...</td>\n",
       "    </tr>\n",
       "    <tr>\n",
       "      <th>22</th>\n",
       "      <td>Double Strawberry Cupcakes</td>\n",
       "      <td>{'minutes': '30'}</td>\n",
       "      <td>{'minutes': '25'}</td>\n",
       "      <td>{'minutes': '55'}</td>\n",
       "      <td>[freeze dried strawberries, melted coconut oil...</td>\n",
       "      <td>{'freeze dried strawberries': '3', 'melted coc...</td>\n",
       "      <td>[1. In a blender or food processor, process th...</td>\n",
       "      <td>517 kcal</td>\n",
       "      <td>18</td>\n",
       "      <td>https://www.halfbakedharvest.com/wp-content/up...</td>\n",
       "    </tr>\n",
       "    <tr>\n",
       "      <th>23</th>\n",
       "      <td>Chewy Chocolate Peanut Butter Bars</td>\n",
       "      <td>{'minutes': '25'}</td>\n",
       "      <td>{'minutes': '5'}</td>\n",
       "      <td>{'hours': '1'}</td>\n",
       "      <td>[honey, pure maple syrup, creamy peanut butter...</td>\n",
       "      <td>{'honey': '1/2', 'pure maple syrup': '1/3', 'c...</td>\n",
       "      <td>[1. Line a 9×13 inch baking dish with parchmen...</td>\n",
       "      <td>259 kcal</td>\n",
       "      <td>24</td>\n",
       "      <td>https://www.halfbakedharvest.com/wp-content/up...</td>\n",
       "    </tr>\n",
       "    <tr>\n",
       "      <th>24</th>\n",
       "      <td>Homemade Oatmeal Chocolate Chip Cookie Cereal</td>\n",
       "      <td>{'minutes': '30'}</td>\n",
       "      <td>{'minutes': '10'}</td>\n",
       "      <td>{'minutes': '40'}</td>\n",
       "      <td>[melted coconut oil, granulated sugar, light o...</td>\n",
       "      <td>{'melted coconut oil': '1', 'granulated sugar'...</td>\n",
       "      <td>[1. Preheat the oven to 350° F. Line a baking ...</td>\n",
       "      <td>694 kcal</td>\n",
       "      <td>8</td>\n",
       "      <td>https://www.halfbakedharvest.com/wp-content/up...</td>\n",
       "    </tr>\n",
       "    <tr>\n",
       "      <th>25</th>\n",
       "      <td>Strawberry Chamomile Naked Cake</td>\n",
       "      <td>{'minutes': '30'}</td>\n",
       "      <td>{'minutes': '30'}</td>\n",
       "      <td>{'hours': '1'}</td>\n",
       "      <td>[canola oil, plain greek yogurt, eggs, granula...</td>\n",
       "      <td>{'canola oil': '1', 'plain greek yogurt': '1/2...</td>\n",
       "      <td>[1. Preheat oven to 350 degrees F. Grease thre...</td>\n",
       "      <td>314 kcal</td>\n",
       "      <td>28</td>\n",
       "      <td>https://www.halfbakedharvest.com/wp-content/up...</td>\n",
       "    </tr>\n",
       "    <tr>\n",
       "      <th>26</th>\n",
       "      <td>Hot Fudge Brownie and Double Scooped Ice Cream...</td>\n",
       "      <td>{'hours': '1'}</td>\n",
       "      <td>{'minutes': '15'}</td>\n",
       "      <td>{'hours': '1', 'minutes': '15'}</td>\n",
       "      <td>[cake cones + 12 sugar cones OR 12 waffles con...</td>\n",
       "      <td>{'cake cones + 12 sugar cones OR 12 waffles co...</td>\n",
       "      <td>[1. Pre heat the oven to 350 degrees F. and pl...</td>\n",
       "      <td>955 kcal</td>\n",
       "      <td>12</td>\n",
       "      <td>https://www.halfbakedharvest.com/wp-content/up...</td>\n",
       "    </tr>\n",
       "    <tr>\n",
       "      <th>27</th>\n",
       "      <td>Vanilla Bean Coconut Quinoa Pudding with Honey...</td>\n",
       "      <td>{'minutes': '10'}</td>\n",
       "      <td>{'minutes': '20'}</td>\n",
       "      <td>{'minutes': '30'}</td>\n",
       "      <td>[canned coconut milk, large vanilla beans, van...</td>\n",
       "      <td>{'canned coconut milk': '4', 'large vanilla be...</td>\n",
       "      <td>[]</td>\n",
       "      <td>913 kcal</td>\n",
       "      <td>4</td>\n",
       "      <td>https://www.halfbakedharvest.com/wp-content/up...</td>\n",
       "    </tr>\n",
       "    <tr>\n",
       "      <th>28</th>\n",
       "      <td>Caramelized Strawberry and Graham Cracker Crum...</td>\n",
       "      <td>{'minutes': '30'}</td>\n",
       "      <td>{'minutes': '20'}</td>\n",
       "      <td>{'hours': '8', 'minutes': '40'}</td>\n",
       "      <td>[large egg yolks, sugar, milk, heavy whipping ...</td>\n",
       "      <td>{'large egg yolks': '6', 'sugar': '2', 'milk':...</td>\n",
       "      <td>[]</td>\n",
       "      <td>3482 kcal</td>\n",
       "      <td>1</td>\n",
       "      <td>https://www.halfbakedharvest.com/wp-content/up...</td>\n",
       "    </tr>\n",
       "    <tr>\n",
       "      <th>29</th>\n",
       "      <td>No Churn Vanilla Bean Olive Oil Ice Cream</td>\n",
       "      <td>{'minutes': '10'}</td>\n",
       "      <td>-</td>\n",
       "      <td>{'hours': '6', 'minutes': '10'}</td>\n",
       "      <td>[heavy cream, honey, using more or less to tas...</td>\n",
       "      <td>{'heavy cream': '2 1/2', 'honey, using more or...</td>\n",
       "      <td>[1. Using an electric mixer, whip the cream in...</td>\n",
       "      <td>552 kcal</td>\n",
       "      <td>8</td>\n",
       "      <td>https://www.halfbakedharvest.com/wp-content/up...</td>\n",
       "    </tr>\n",
       "    <tr>\n",
       "      <th>30</th>\n",
       "      <td>Mom’s Special K-Bars</td>\n",
       "      <td>{'minutes': '15'}</td>\n",
       "      <td>-</td>\n",
       "      <td>{'hours': '1'}</td>\n",
       "      <td>[organic corn flakes, ground chia seeds, vanil...</td>\n",
       "      <td>{'organic corn flakes': '4 1/2', 'ground chia ...</td>\n",
       "      <td>[1. Line a 9×13 inch baking dish with parchmen...</td>\n",
       "      <td>215 kcal</td>\n",
       "      <td>24</td>\n",
       "      <td>https://www.halfbakedharvest.com/wp-content/up...</td>\n",
       "    </tr>\n",
       "    <tr>\n",
       "      <th>31</th>\n",
       "      <td>Giant Strawberry n' Cream Pop Tart.</td>\n",
       "      <td>{'minutes': '30'}</td>\n",
       "      <td>{'minutes': '30'}</td>\n",
       "      <td>{'hours': '1'}</td>\n",
       "      <td>[roughly chopped strawberries, raspberries, re...</td>\n",
       "      <td>{'roughly chopped strawberries': '3', 'raspber...</td>\n",
       "      <td>[1. To make the berry jam. In a medium pot, br...</td>\n",
       "      <td>559 kcal</td>\n",
       "      <td>9</td>\n",
       "      <td>https://www.halfbakedharvest.com/wp-content/up...</td>\n",
       "    </tr>\n",
       "    <tr>\n",
       "      <th>32</th>\n",
       "      <td>-</td>\n",
       "      <td>-</td>\n",
       "      <td>-</td>\n",
       "      <td>-</td>\n",
       "      <td>-</td>\n",
       "      <td>-</td>\n",
       "      <td>-</td>\n",
       "      <td>-</td>\n",
       "      <td>-</td>\n",
       "      <td>https://www.halfbakedharvest.com/wp-content/up...</td>\n",
       "    </tr>\n",
       "    <tr>\n",
       "      <th>33</th>\n",
       "      <td>Buckeye Fudge Ice Cream.</td>\n",
       "      <td>{'minutes': '15'}</td>\n",
       "      <td>-</td>\n",
       "      <td>{'hours': '4', 'minutes': '15'}</td>\n",
       "      <td>[heavy cream, can sweetened condensed milk, un...</td>\n",
       "      <td>{'heavy cream': '2', 'can sweetened condensed ...</td>\n",
       "      <td>[]</td>\n",
       "      <td>665 kcal</td>\n",
       "      <td>6</td>\n",
       "      <td>https://www.halfbakedharvest.com/wp-content/up...</td>\n",
       "    </tr>\n",
       "    <tr>\n",
       "      <th>34</th>\n",
       "      <td>Brown Sugar Caramel Oatmeal Cookie Peach Crisp.</td>\n",
       "      <td>{'minutes': '15'}</td>\n",
       "      <td>{'minutes': '45'}</td>\n",
       "      <td>{'hours': '1'}</td>\n",
       "      <td>[ripe, softened butter, packed light brown sug...</td>\n",
       "      <td>{'ripe': '5-6', 'softened butter': '6', 'packe...</td>\n",
       "      <td>[]</td>\n",
       "      <td>477 kcal</td>\n",
       "      <td>6</td>\n",
       "      <td>https://www.halfbakedharvest.com/wp-content/up...</td>\n",
       "    </tr>\n",
       "    <tr>\n",
       "      <th>35</th>\n",
       "      <td>Blueberry Brie Cornbread Biscuits with Honey B...</td>\n",
       "      <td>{'minutes': '10'}</td>\n",
       "      <td>{'minutes': '25'}</td>\n",
       "      <td>{'minutes': '55'}</td>\n",
       "      <td>[Bob's Red Mill all-purpose flour, Bob's Red M...</td>\n",
       "      <td>{'Bob's Red Mill all-purpose flour': '1 1/2', ...</td>\n",
       "      <td>[]</td>\n",
       "      <td>229 kcal</td>\n",
       "      <td>10</td>\n",
       "      <td>https://www.halfbakedharvest.com/wp-content/up...</td>\n",
       "    </tr>\n",
       "    <tr>\n",
       "      <th>36</th>\n",
       "      <td>Mexican Samoas Cookies.</td>\n",
       "      <td>{'minutes': '10'}</td>\n",
       "      <td>{'minutes': '25'}</td>\n",
       "      <td>{'hours': '1'}</td>\n",
       "      <td>[sticks unsalted butter, softened, granulated ...</td>\n",
       "      <td>{'sticks unsalted butter, softened': '2', 'gra...</td>\n",
       "      <td>[Using an electric mixer, cream together the b...</td>\n",
       "      <td>130 kcal</td>\n",
       "      <td>48</td>\n",
       "      <td>https://www.halfbakedharvest.com/wp-content/up...</td>\n",
       "    </tr>\n",
       "    <tr>\n",
       "      <th>37</th>\n",
       "      <td>Easy Peanut Butter Cup Fudge with Salted Bourb...</td>\n",
       "      <td>{'minutes': '10'}</td>\n",
       "      <td>{'hours': '1', 'minutes': '30'}</td>\n",
       "      <td>{'hours': '2', 'minutes': '40'}</td>\n",
       "      <td>[course sugar, vanilla bean, bourbon, flaky se...</td>\n",
       "      <td>{'course sugar': '1/2', 'vanilla bean': '1', '...</td>\n",
       "      <td>[]</td>\n",
       "      <td>368 kcal</td>\n",
       "      <td>16</td>\n",
       "      <td>https://www.halfbakedharvest.com/wp-content/up...</td>\n",
       "    </tr>\n",
       "    <tr>\n",
       "      <th>38</th>\n",
       "      <td>(The Cheaters Way) Deathly Chocolate Graveyard...</td>\n",
       "      <td>{'minutes': '30'}</td>\n",
       "      <td>{'minutes': '20'}</td>\n",
       "      <td>{'minutes': '50'}</td>\n",
       "      <td>[box chocolate cake mix, Kahlua OR caramel sau...</td>\n",
       "      <td>{'box chocolate cake mix': '1', 'Kahlua OR car...</td>\n",
       "      <td>[]</td>\n",
       "      <td>1009 kcal</td>\n",
       "      <td>6</td>\n",
       "      <td>https://www.halfbakedharvest.com/wp-content/up...</td>\n",
       "    </tr>\n",
       "    <tr>\n",
       "      <th>39</th>\n",
       "      <td>Pumpkin Nutella Crepe Cake.</td>\n",
       "      <td>{'minutes': '45'}</td>\n",
       "      <td>{'minutes': '30'}</td>\n",
       "      <td>{'hours': '1', 'minutes': '15'}</td>\n",
       "      <td>[butter, large eggs, milk, pumpkin puree, all-...</td>\n",
       "      <td>{'butter': '6', 'large eggs': '4', 'milk': '1'...</td>\n",
       "      <td>[]</td>\n",
       "      <td>846 kcal</td>\n",
       "      <td>12</td>\n",
       "      <td>https://www.halfbakedharvest.com/wp-content/up...</td>\n",
       "    </tr>\n",
       "    <tr>\n",
       "      <th>40</th>\n",
       "      <td>Somoa Macaroon Tarts.</td>\n",
       "      <td>{'minutes': '30'}</td>\n",
       "      <td>{'minutes': '40'}</td>\n",
       "      <td>{'hours': '1', 'minutes': '10'}</td>\n",
       "      <td>[unsweetened coconut crumbs, eggs whites, gran...</td>\n",
       "      <td>{'unsweetened coconut crumbs': '3', 'eggs whit...</td>\n",
       "      <td>[]</td>\n",
       "      <td>512 kcal</td>\n",
       "      <td>20</td>\n",
       "      <td>https://www.halfbakedharvest.com/wp-content/up...</td>\n",
       "    </tr>\n",
       "    <tr>\n",
       "      <th>41</th>\n",
       "      <td>Sweet Balsamic Strawberries w/Whipped Ricotta ...</td>\n",
       "      <td>{'minutes': '15'}</td>\n",
       "      <td>{'minutes': '5'}</td>\n",
       "      <td>{'minutes': '35'}</td>\n",
       "      <td>[part skim or whole milk ricotta cheese, pure ...</td>\n",
       "      <td>{'part skim or whole milk ricotta cheese': '2'...</td>\n",
       "      <td>[]</td>\n",
       "      <td>725 kcal</td>\n",
       "      <td>4</td>\n",
       "      <td>https://www.halfbakedharvest.com/wp-content/up...</td>\n",
       "    </tr>\n",
       "    <tr>\n",
       "      <th>42</th>\n",
       "      <td>Meringue Encased Chocolate Mousse S’more Cakes.</td>\n",
       "      <td>{'hours': '1', 'minutes': '5'}</td>\n",
       "      <td>{'minutes': '25'}</td>\n",
       "      <td>{'hours': '1', 'minutes': '30'}</td>\n",
       "      <td>[heavy whipping cream, semi-sweet or milk choc...</td>\n",
       "      <td>{'heavy whipping cream': '1', 'semi-sweet or m...</td>\n",
       "      <td>[]</td>\n",
       "      <td>366 kcal</td>\n",
       "      <td>12</td>\n",
       "      <td>https://www.halfbakedharvest.com/wp-content/up...</td>\n",
       "    </tr>\n",
       "    <tr>\n",
       "      <th>43</th>\n",
       "      <td>Toasted Coconut Lemon Bread with Salted Honey ...</td>\n",
       "      <td>{'minutes': '20'}</td>\n",
       "      <td>{'hours': '1'}</td>\n",
       "      <td>{'hours': '1', 'minutes': '40'}</td>\n",
       "      <td>[unsweetened coconut, all-purpose flour, white...</td>\n",
       "      <td>{'unsweetened coconut': '2', 'all-purpose flou...</td>\n",
       "      <td>[]</td>\n",
       "      <td>657 kcal</td>\n",
       "      <td>8</td>\n",
       "      <td>https://www.halfbakedharvest.com/wp-content/up...</td>\n",
       "    </tr>\n",
       "    <tr>\n",
       "      <th>44</th>\n",
       "      <td>Sweet Banana Lumpia with Milk Chocolate Toaste...</td>\n",
       "      <td>{'minutes': '20'}</td>\n",
       "      <td>{'minutes': '20'}</td>\n",
       "      <td>{'minutes': '40'}</td>\n",
       "      <td>[medium brown bananas, lumpia wrappers, Oil fo...</td>\n",
       "      <td>{'medium brown bananas': '3', 'lumpia wrappers...</td>\n",
       "      <td>[]</td>\n",
       "      <td>308 kcal</td>\n",
       "      <td>12</td>\n",
       "      <td>https://www.halfbakedharvest.com/wp-content/up...</td>\n",
       "    </tr>\n",
       "    <tr>\n",
       "      <th>45</th>\n",
       "      <td>Warm chocolate Chip Cookie Stuffed Soft Pretzels.</td>\n",
       "      <td>{'minutes': '20'}</td>\n",
       "      <td>{'minutes': '15'}</td>\n",
       "      <td>{'hours': '1', 'minutes': '30'}</td>\n",
       "      <td>[warm water, light brown sugar, active dry yea...</td>\n",
       "      <td>{'warm water': '1 1/2', 'light brown sugar': '...</td>\n",
       "      <td>[Coat a large bowl with oil or cooking sprayl,...</td>\n",
       "      <td>756 kcal</td>\n",
       "      <td>8</td>\n",
       "      <td>https://www.halfbakedharvest.com/wp-content/up...</td>\n",
       "    </tr>\n",
       "    <tr>\n",
       "      <th>46</th>\n",
       "      <td>Salted Caramel Chocolate Covered Pretzels.</td>\n",
       "      <td>{'minutes': '20'}</td>\n",
       "      <td>-</td>\n",
       "      <td>{'minutes': '20'}</td>\n",
       "      <td>[bag of caramels, heavy cream, vanilla extract...</td>\n",
       "      <td>{'bag of caramels': '1', 'heavy cream': '1/4',...</td>\n",
       "      <td>[]</td>\n",
       "      <td>37 kcal</td>\n",
       "      <td>16</td>\n",
       "      <td>https://www.halfbakedharvest.com/wp-content/up...</td>\n",
       "    </tr>\n",
       "    <tr>\n",
       "      <th>47</th>\n",
       "      <td>Gingerbread Cake with Caramel Cream Cheese But...</td>\n",
       "      <td>{'minutes': '45'}</td>\n",
       "      <td>{'minutes': '30'}</td>\n",
       "      <td>{'hours': '1', 'minutes': '15'}</td>\n",
       "      <td>[all-purpose flour, baking powder, baking soda...</td>\n",
       "      <td>{'all-purpose flour': '3 ¼', 'baking powder': ...</td>\n",
       "      <td>[1. Preheat the oven to 350 degrees F. Grease ...</td>\n",
       "      <td>805 kcal</td>\n",
       "      <td>12</td>\n",
       "      <td>https://www.halfbakedharvest.com/wp-content/up...</td>\n",
       "    </tr>\n",
       "    <tr>\n",
       "      <th>48</th>\n",
       "      <td>5 Ingredient Crockpot Chocolate Bars.</td>\n",
       "      <td>{'minutes': '5'}</td>\n",
       "      <td>{'hours': '3'}</td>\n",
       "      <td>{'hours': '3', 'minutes': '5'}</td>\n",
       "      <td>[raw pumpkin seeds or roasted pumpkin seeds, l...</td>\n",
       "      <td>{'raw pumpkin seeds or roasted pumpkin seeds':...</td>\n",
       "      <td>[]</td>\n",
       "      <td>318 kcal</td>\n",
       "      <td>24</td>\n",
       "      <td>https://www.halfbakedharvest.com/wp-content/up...</td>\n",
       "    </tr>\n",
       "    <tr>\n",
       "      <th>49</th>\n",
       "      <td>Baked Mixed Berry Coconut Cornbread Muffins</td>\n",
       "      <td>{'minutes': '15'}</td>\n",
       "      <td>{'minutes': '40'}</td>\n",
       "      <td>{'minutes': '55'}</td>\n",
       "      <td>[mixed berries (I used strawberries, honey, al...</td>\n",
       "      <td>{'mixed berries (I used strawberries': '2', 'h...</td>\n",
       "      <td>[]</td>\n",
       "      <td>212 kcal</td>\n",
       "      <td>18</td>\n",
       "      <td>https://www.halfbakedharvest.com/wp-content/up...</td>\n",
       "    </tr>\n",
       "    <tr>\n",
       "      <th>50</th>\n",
       "      <td>Cherry and Goats Milk Coconut Mousse.</td>\n",
       "      <td>{'minutes': '20'}</td>\n",
       "      <td>-</td>\n",
       "      <td>{'hours': '2', 'minutes': '45'}</td>\n",
       "      <td>[fresh cherries, vanilla, bourbon, coconut sug...</td>\n",
       "      <td>{'fresh cherries': '2', 'vanilla': '2', 'bourb...</td>\n",
       "      <td>[]</td>\n",
       "      <td>159 kcal</td>\n",
       "      <td>8</td>\n",
       "      <td>https://www.halfbakedharvest.com/wp-content/up...</td>\n",
       "    </tr>\n",
       "    <tr>\n",
       "      <th>51</th>\n",
       "      <td>Vanilla Cream Filled Cabernet Hot Chocolate Sn...</td>\n",
       "      <td>{'minutes': '45'}</td>\n",
       "      <td>{'minutes': '30'}</td>\n",
       "      <td>{'hours': '1', 'minutes': '50'}</td>\n",
       "      <td>[plus 1 teaspoon active dry yeast, warm milk, ...</td>\n",
       "      <td>{'plus 1 teaspoon active dry yeast': '2', 'war...</td>\n",
       "      <td>[]</td>\n",
       "      <td>286 kcal</td>\n",
       "      <td>24</td>\n",
       "      <td>https://www.halfbakedharvest.com/wp-content/up...</td>\n",
       "    </tr>\n",
       "    <tr>\n",
       "      <th>52</th>\n",
       "      <td>Incredibly Gooey Collapsing Chocolate Bourbon ...</td>\n",
       "      <td>{'minutes': '12'}</td>\n",
       "      <td>{'minutes': '18'}</td>\n",
       "      <td>{'minutes': '30'}</td>\n",
       "      <td>[egg yolks, whole eggs, powdered sugar, honey ...</td>\n",
       "      <td>{'egg yolks': '6', 'whole eggs': '4', 'powdere...</td>\n",
       "      <td>[]</td>\n",
       "      <td>325 kcal</td>\n",
       "      <td>8</td>\n",
       "      <td>https://www.halfbakedharvest.com/wp-content/up...</td>\n",
       "    </tr>\n",
       "    <tr>\n",
       "      <th>53</th>\n",
       "      <td>5 Ingredient Raspberry Peach Sherbet</td>\n",
       "      <td>{'minutes': '20'}</td>\n",
       "      <td>-</td>\n",
       "      <td>{'hours': '6', 'minutes': '20'}</td>\n",
       "      <td>[frozen peach slices, sweetened condensed milk...</td>\n",
       "      <td>{'frozen peach slices': '3-4', 'sweetened cond...</td>\n",
       "      <td>[1. In a blender, purée the peaches with 1/2 c...</td>\n",
       "      <td>119 kcal</td>\n",
       "      <td>12</td>\n",
       "      <td>https://www.halfbakedharvest.com/wp-content/up...</td>\n",
       "    </tr>\n",
       "    <tr>\n",
       "      <th>54</th>\n",
       "      <td>Vegan Gooey Chocolate Doughnuts</td>\n",
       "      <td>{'minutes': '10'}</td>\n",
       "      <td>{'minutes': '20'}</td>\n",
       "      <td>{'minutes': '30'}</td>\n",
       "      <td>[oat flour, sweet rice flour, unsweetened coco...</td>\n",
       "      <td>{'oat flour': '1/2', 'sweet rice flour': '1/2'...</td>\n",
       "      <td>[]</td>\n",
       "      <td>346 kcal</td>\n",
       "      <td>10</td>\n",
       "      <td>https://www.halfbakedharvest.com/wp-content/up...</td>\n",
       "    </tr>\n",
       "    <tr>\n",
       "      <th>55</th>\n",
       "      <td>Chocolate Chip Pumpkin Cinnamon Roll Dutch Baby</td>\n",
       "      <td>{'minutes': '10'}</td>\n",
       "      <td>{'minutes': '20'}</td>\n",
       "      <td>{'minutes': '30'}</td>\n",
       "      <td>[flour, cold butter, milk (I used 2%, pumpkin ...</td>\n",
       "      <td>{'flour': '2/3', 'cold butter': '2 1/2', 'milk...</td>\n",
       "      <td>[]</td>\n",
       "      <td>449 kcal</td>\n",
       "      <td>6</td>\n",
       "      <td>https://www.halfbakedharvest.com/wp-content/up...</td>\n",
       "    </tr>\n",
       "    <tr>\n",
       "      <th>56</th>\n",
       "      <td>Brown Butter Chocolate Chip Cookie Dough Pretz...</td>\n",
       "      <td>{'minutes': '30'}</td>\n",
       "      <td>{'minutes': '15'}</td>\n",
       "      <td>{'hours': '2', 'minutes': '30'}</td>\n",
       "      <td>[milk chocolate chips, creamy peanut butter, b...</td>\n",
       "      <td>{'milk chocolate chips': '1 1/2', 'creamy pean...</td>\n",
       "      <td>[Make the caramel. Combine the caramels and cr...</td>\n",
       "      <td>395 kcal</td>\n",
       "      <td>20</td>\n",
       "      <td>https://www.halfbakedharvest.com/wp-content/up...</td>\n",
       "    </tr>\n",
       "    <tr>\n",
       "      <th>57</th>\n",
       "      <td>Peanut Butter Cup Cookies &amp; Cream Salted Caram...</td>\n",
       "      <td>{'minutes': '20'}</td>\n",
       "      <td>{'minutes': '30'}</td>\n",
       "      <td>{'minutes': '50'}</td>\n",
       "      <td>[all-purpose flour, baking soda, salt, water, ...</td>\n",
       "      <td>{'all-purpose flour': '2 1/2', 'baking soda': ...</td>\n",
       "      <td>[]</td>\n",
       "      <td>327 kcal</td>\n",
       "      <td>20</td>\n",
       "      <td>https://www.halfbakedharvest.com/wp-content/up...</td>\n",
       "    </tr>\n",
       "    <tr>\n",
       "      <th>58</th>\n",
       "      <td>Salted Pretzel Chocolate Chip Cookie Snickers ...</td>\n",
       "      <td>{'minutes': '20'}</td>\n",
       "      <td>{'minutes': '25'}</td>\n",
       "      <td>{'hours': '1', 'minutes': '45'}</td>\n",
       "      <td>[salted butter, at room temperature, light bro...</td>\n",
       "      <td>{'salted butter, at room temperature': '2', 'l...</td>\n",
       "      <td>[1. Preheat the oven to 350 degrees F. Line a ...</td>\n",
       "      <td>489 kcal</td>\n",
       "      <td>18</td>\n",
       "      <td>https://www.halfbakedharvest.com/wp-content/up...</td>\n",
       "    </tr>\n",
       "  </tbody>\n",
       "</table>\n",
       "</div>"
      ],
      "text/plain": [
       "                                                title  \\\n",
       "0     Burnt Marshmallow Brown Sugar Maple Cookie Bars   \n",
       "1                  Chewy Chocolate Peanut Butter Bars   \n",
       "2   Easy Banana Cupcakes with Espresso Chocolate F...   \n",
       "3                 Salted Chocolate Peanut Butter Bars   \n",
       "4              Easy Decked Out Christmas Tree Cookies   \n",
       "5                 Bakery Style Chocolate Chip Muffins   \n",
       "6                      Salted Pretzel Samoas Presents   \n",
       "7                     Vanilla Burnt Basque Cheesecake   \n",
       "8   Salted Pretzel Snickers Chocolate Chip Cookie ...   \n",
       "9              Brown Butter Christmas M&M Cookie Bars   \n",
       "10               White Christmas Cranberry Layer Cake   \n",
       "11                   Chai Spice Apple Ricotta Galette   \n",
       "12                       No Fuss Healthy Coconut Tart   \n",
       "13                           Homemade Animal Crackers   \n",
       "14               Sugar Cookie Chocolate Crème Brûlée.   \n",
       "15                      Mixed Berry Almond Croissants   \n",
       "16                                Winter Bliss Balls.   \n",
       "17        Double Chocolate Irish Brownie Cheesecakes.   \n",
       "18  Cinnamon Brioche Chocolate Chip French Toast M...   \n",
       "19                       Pumpkin Cream Cheese Muffins   \n",
       "20                           Easy Strawberry Tiramisu   \n",
       "21                       Baked Maple Glazed Doughnuts   \n",
       "22                         Double Strawberry Cupcakes   \n",
       "23                 Chewy Chocolate Peanut Butter Bars   \n",
       "24      Homemade Oatmeal Chocolate Chip Cookie Cereal   \n",
       "25                    Strawberry Chamomile Naked Cake   \n",
       "26  Hot Fudge Brownie and Double Scooped Ice Cream...   \n",
       "27  Vanilla Bean Coconut Quinoa Pudding with Honey...   \n",
       "28  Caramelized Strawberry and Graham Cracker Crum...   \n",
       "29          No Churn Vanilla Bean Olive Oil Ice Cream   \n",
       "30                               Mom’s Special K-Bars   \n",
       "31                Giant Strawberry n' Cream Pop Tart.   \n",
       "32                                                  -   \n",
       "33                           Buckeye Fudge Ice Cream.   \n",
       "34    Brown Sugar Caramel Oatmeal Cookie Peach Crisp.   \n",
       "35  Blueberry Brie Cornbread Biscuits with Honey B...   \n",
       "36                            Mexican Samoas Cookies.   \n",
       "37  Easy Peanut Butter Cup Fudge with Salted Bourb...   \n",
       "38  (The Cheaters Way) Deathly Chocolate Graveyard...   \n",
       "39                        Pumpkin Nutella Crepe Cake.   \n",
       "40                              Somoa Macaroon Tarts.   \n",
       "41  Sweet Balsamic Strawberries w/Whipped Ricotta ...   \n",
       "42    Meringue Encased Chocolate Mousse S’more Cakes.   \n",
       "43  Toasted Coconut Lemon Bread with Salted Honey ...   \n",
       "44  Sweet Banana Lumpia with Milk Chocolate Toaste...   \n",
       "45  Warm chocolate Chip Cookie Stuffed Soft Pretzels.   \n",
       "46         Salted Caramel Chocolate Covered Pretzels.   \n",
       "47  Gingerbread Cake with Caramel Cream Cheese But...   \n",
       "48              5 Ingredient Crockpot Chocolate Bars.   \n",
       "49        Baked Mixed Berry Coconut Cornbread Muffins   \n",
       "50              Cherry and Goats Milk Coconut Mousse.   \n",
       "51  Vanilla Cream Filled Cabernet Hot Chocolate Sn...   \n",
       "52  Incredibly Gooey Collapsing Chocolate Bourbon ...   \n",
       "53               5 Ingredient Raspberry Peach Sherbet   \n",
       "54                    Vegan Gooey Chocolate Doughnuts   \n",
       "55    Chocolate Chip Pumpkin Cinnamon Roll Dutch Baby   \n",
       "56  Brown Butter Chocolate Chip Cookie Dough Pretz...   \n",
       "57  Peanut Butter Cup Cookies & Cream Salted Caram...   \n",
       "58  Salted Pretzel Chocolate Chip Cookie Snickers ...   \n",
       "\n",
       "                         prep_time                        cook_time  \\\n",
       "0                {'minutes': '15'}                {'minutes': '30'}   \n",
       "1                {'minutes': '10'}                {'minutes': '10'}   \n",
       "2                {'minutes': '20'}                {'minutes': '25'}   \n",
       "3                {'minutes': '25'}                                -   \n",
       "4                {'minutes': '30'}                {'minutes': '10'}   \n",
       "5                {'minutes': '15'}                {'minutes': '20'}   \n",
       "6                {'minutes': '30'}                {'minutes': '15'}   \n",
       "7                {'minutes': '20'}                {'minutes': '50'}   \n",
       "8                {'minutes': '20'}                {'minutes': '20'}   \n",
       "9                {'minutes': '15'}                {'minutes': '20'}   \n",
       "10               {'minutes': '30'}                {'minutes': '30'}   \n",
       "11               {'minutes': '15'}                {'minutes': '30'}   \n",
       "12               {'minutes': '15'}                {'minutes': '15'}   \n",
       "13               {'minutes': '30'}                {'minutes': '10'}   \n",
       "14               {'minutes': '15'}                {'minutes': '50'}   \n",
       "15               {'minutes': '20'}                {'minutes': '15'}   \n",
       "16               {'minutes': '10'}                                -   \n",
       "17               {'minutes': '30'}                {'minutes': '30'}   \n",
       "18               {'minutes': '15'}                {'minutes': '25'}   \n",
       "19               {'minutes': '20'}                {'minutes': '20'}   \n",
       "20               {'minutes': '30'}                                -   \n",
       "21               {'minutes': '20'}                {'minutes': '20'}   \n",
       "22               {'minutes': '30'}                {'minutes': '25'}   \n",
       "23               {'minutes': '25'}                 {'minutes': '5'}   \n",
       "24               {'minutes': '30'}                {'minutes': '10'}   \n",
       "25               {'minutes': '30'}                {'minutes': '30'}   \n",
       "26                  {'hours': '1'}                {'minutes': '15'}   \n",
       "27               {'minutes': '10'}                {'minutes': '20'}   \n",
       "28               {'minutes': '30'}                {'minutes': '20'}   \n",
       "29               {'minutes': '10'}                                -   \n",
       "30               {'minutes': '15'}                                -   \n",
       "31               {'minutes': '30'}                {'minutes': '30'}   \n",
       "32                               -                                -   \n",
       "33               {'minutes': '15'}                                -   \n",
       "34               {'minutes': '15'}                {'minutes': '45'}   \n",
       "35               {'minutes': '10'}                {'minutes': '25'}   \n",
       "36               {'minutes': '10'}                {'minutes': '25'}   \n",
       "37               {'minutes': '10'}  {'hours': '1', 'minutes': '30'}   \n",
       "38               {'minutes': '30'}                {'minutes': '20'}   \n",
       "39               {'minutes': '45'}                {'minutes': '30'}   \n",
       "40               {'minutes': '30'}                {'minutes': '40'}   \n",
       "41               {'minutes': '15'}                 {'minutes': '5'}   \n",
       "42  {'hours': '1', 'minutes': '5'}                {'minutes': '25'}   \n",
       "43               {'minutes': '20'}                   {'hours': '1'}   \n",
       "44               {'minutes': '20'}                {'minutes': '20'}   \n",
       "45               {'minutes': '20'}                {'minutes': '15'}   \n",
       "46               {'minutes': '20'}                                -   \n",
       "47               {'minutes': '45'}                {'minutes': '30'}   \n",
       "48                {'minutes': '5'}                   {'hours': '3'}   \n",
       "49               {'minutes': '15'}                {'minutes': '40'}   \n",
       "50               {'minutes': '20'}                                -   \n",
       "51               {'minutes': '45'}                {'minutes': '30'}   \n",
       "52               {'minutes': '12'}                {'minutes': '18'}   \n",
       "53               {'minutes': '20'}                                -   \n",
       "54               {'minutes': '10'}                {'minutes': '20'}   \n",
       "55               {'minutes': '10'}                {'minutes': '20'}   \n",
       "56               {'minutes': '30'}                {'minutes': '15'}   \n",
       "57               {'minutes': '20'}                {'minutes': '30'}   \n",
       "58               {'minutes': '20'}                {'minutes': '25'}   \n",
       "\n",
       "                         total_time  \\\n",
       "0                 {'minutes': '45'}   \n",
       "1                 {'minutes': '50'}   \n",
       "2                 {'minutes': '45'}   \n",
       "3   {'hours': '2', 'minutes': '25'}   \n",
       "4   {'hours': '1', 'minutes': '10'}   \n",
       "5                 {'minutes': '35'}   \n",
       "6                 {'minutes': '45'}   \n",
       "7   {'hours': '1', 'minutes': '10'}   \n",
       "8                 {'minutes': '40'}   \n",
       "9                 {'minutes': '45'}   \n",
       "10                   {'hours': '3'}   \n",
       "11                {'minutes': '45'}   \n",
       "12  {'hours': '2', 'minutes': '30'}   \n",
       "13                {'minutes': '50'}   \n",
       "14   {'hours': '1', 'minutes': '5'}   \n",
       "15                {'minutes': '35'}   \n",
       "16                {'minutes': '10'}   \n",
       "17                   {'hours': '1'}   \n",
       "18  {'hours': '2', 'minutes': '30'}   \n",
       "19                {'minutes': '40'}   \n",
       "20  {'hours': '2', 'minutes': '30'}   \n",
       "21                {'minutes': '40'}   \n",
       "22                {'minutes': '55'}   \n",
       "23                   {'hours': '1'}   \n",
       "24                {'minutes': '40'}   \n",
       "25                   {'hours': '1'}   \n",
       "26  {'hours': '1', 'minutes': '15'}   \n",
       "27                {'minutes': '30'}   \n",
       "28  {'hours': '8', 'minutes': '40'}   \n",
       "29  {'hours': '6', 'minutes': '10'}   \n",
       "30                   {'hours': '1'}   \n",
       "31                   {'hours': '1'}   \n",
       "32                                -   \n",
       "33  {'hours': '4', 'minutes': '15'}   \n",
       "34                   {'hours': '1'}   \n",
       "35                {'minutes': '55'}   \n",
       "36                   {'hours': '1'}   \n",
       "37  {'hours': '2', 'minutes': '40'}   \n",
       "38                {'minutes': '50'}   \n",
       "39  {'hours': '1', 'minutes': '15'}   \n",
       "40  {'hours': '1', 'minutes': '10'}   \n",
       "41                {'minutes': '35'}   \n",
       "42  {'hours': '1', 'minutes': '30'}   \n",
       "43  {'hours': '1', 'minutes': '40'}   \n",
       "44                {'minutes': '40'}   \n",
       "45  {'hours': '1', 'minutes': '30'}   \n",
       "46                {'minutes': '20'}   \n",
       "47  {'hours': '1', 'minutes': '15'}   \n",
       "48   {'hours': '3', 'minutes': '5'}   \n",
       "49                {'minutes': '55'}   \n",
       "50  {'hours': '2', 'minutes': '45'}   \n",
       "51  {'hours': '1', 'minutes': '50'}   \n",
       "52                {'minutes': '30'}   \n",
       "53  {'hours': '6', 'minutes': '20'}   \n",
       "54                {'minutes': '30'}   \n",
       "55                {'minutes': '30'}   \n",
       "56  {'hours': '2', 'minutes': '30'}   \n",
       "57                {'minutes': '50'}   \n",
       "58  {'hours': '1', 'minutes': '45'}   \n",
       "\n",
       "                                          ingredients  \\\n",
       "0   [salted butter, at room temperature, dark brow...   \n",
       "1   [salted butter, organic corn flakes or brown r...   \n",
       "2   [medium overly ripe bananas, mashed, melted co...   \n",
       "3   [chocolate wafer cookies or Oreos without fill...   \n",
       "4   [salted butter, at room temperature, brown sug...   \n",
       "5   [salted butter, real maple syrup, plain greek ...   \n",
       "6   [granulated sugar, salted butter, at room temp...   \n",
       "7   [packages cream cheese, at room temperature, g...   \n",
       "8   [salted butter, packed dark brown sugar, granu...   \n",
       "9   [salted butter, packed dark brown sugar, granu...   \n",
       "10  [canola oil, plain greek yogurt, large eggs, a...   \n",
       "11  [maple syrup, salted butter, ground cinnamon, ...   \n",
       "12  [roasted salted cashews, raw unsweetened cocon...   \n",
       "13  [salted butter, softened, light brown sugar, p...   \n",
       "14  [egg, egg yolks, granulated sugar, heavy cream...   \n",
       "15  [honey, bourbon, kosher salt, unsalted butter,...   \n",
       "16  [medjool dates, pitted (about 2 cups packed), ...   \n",
       "17  [all-purpose flour, cocoa powder, salt, semi-s...   \n",
       "18  [cinnamon crunch brioche or your favorite cinn...   \n",
       "19  [melted coconut oil, maple syrup or honey, van...   \n",
       "20  [honey, fresh ginger, sliced, chamomile tea, l...   \n",
       "21  [salted butter, melted, vanilla extract, large...   \n",
       "22  [freeze dried strawberries, melted coconut oil...   \n",
       "23  [honey, pure maple syrup, creamy peanut butter...   \n",
       "24  [melted coconut oil, granulated sugar, light o...   \n",
       "25  [canola oil, plain greek yogurt, eggs, granula...   \n",
       "26  [cake cones + 12 sugar cones OR 12 waffles con...   \n",
       "27  [canned coconut milk, large vanilla beans, van...   \n",
       "28  [large egg yolks, sugar, milk, heavy whipping ...   \n",
       "29  [heavy cream, honey, using more or less to tas...   \n",
       "30  [organic corn flakes, ground chia seeds, vanil...   \n",
       "31  [roughly chopped strawberries, raspberries, re...   \n",
       "32                                                  -   \n",
       "33  [heavy cream, can sweetened condensed milk, un...   \n",
       "34  [ripe, softened butter, packed light brown sug...   \n",
       "35  [Bob's Red Mill all-purpose flour, Bob's Red M...   \n",
       "36  [sticks unsalted butter, softened, granulated ...   \n",
       "37  [course sugar, vanilla bean, bourbon, flaky se...   \n",
       "38  [box chocolate cake mix, Kahlua OR caramel sau...   \n",
       "39  [butter, large eggs, milk, pumpkin puree, all-...   \n",
       "40  [unsweetened coconut crumbs, eggs whites, gran...   \n",
       "41  [part skim or whole milk ricotta cheese, pure ...   \n",
       "42  [heavy whipping cream, semi-sweet or milk choc...   \n",
       "43  [unsweetened coconut, all-purpose flour, white...   \n",
       "44  [medium brown bananas, lumpia wrappers, Oil fo...   \n",
       "45  [warm water, light brown sugar, active dry yea...   \n",
       "46  [bag of caramels, heavy cream, vanilla extract...   \n",
       "47  [all-purpose flour, baking powder, baking soda...   \n",
       "48  [raw pumpkin seeds or roasted pumpkin seeds, l...   \n",
       "49  [mixed berries (I used strawberries, honey, al...   \n",
       "50  [fresh cherries, vanilla, bourbon, coconut sug...   \n",
       "51  [plus 1 teaspoon active dry yeast, warm milk, ...   \n",
       "52  [egg yolks, whole eggs, powdered sugar, honey ...   \n",
       "53  [frozen peach slices, sweetened condensed milk...   \n",
       "54  [oat flour, sweet rice flour, unsweetened coco...   \n",
       "55  [flour, cold butter, milk (I used 2%, pumpkin ...   \n",
       "56  [milk chocolate chips, creamy peanut butter, b...   \n",
       "57  [all-purpose flour, baking soda, salt, water, ...   \n",
       "58  [salted butter, at room temperature, light bro...   \n",
       "\n",
       "                         ingredients with measurement  \\\n",
       "0   {'salted butter, at room temperature': '2', 'd...   \n",
       "1   {'salted butter': '2', 'organic corn flakes or...   \n",
       "2   {'medium overly ripe bananas, mashed': '4', 'm...   \n",
       "3   {'chocolate wafer cookies or Oreos without fil...   \n",
       "4   {'salted butter, at room temperature': '1 1/2'...   \n",
       "5   {'salted butter': '1', 'real maple syrup': '1/...   \n",
       "6   {'granulated sugar': '1', 'salted butter, at r...   \n",
       "7   {'packages cream cheese, at room temperature':...   \n",
       "8   {'salted butter': '2', 'packed dark brown suga...   \n",
       "9   {'salted butter': '2', 'packed dark brown suga...   \n",
       "10  {'canola oil': '1', 'plain greek yogurt': '1/2...   \n",
       "11  {'maple syrup': '1/2', 'salted butter': '3', '...   \n",
       "12  {'roasted salted cashews': '1 1/2', 'raw unswe...   \n",
       "13  {'salted butter, softened': '1 1/2', 'light br...   \n",
       "14  {'egg': '1', 'egg yolks': '4', 'granulated sug...   \n",
       "15  {'honey': '2', 'bourbon': '1/4', 'kosher salt'...   \n",
       "16  {'medjool dates, pitted (about 2 cups packed)'...   \n",
       "17  {'all-purpose flour': '1/2', 'cocoa powder': '...   \n",
       "18  {'cinnamon crunch brioche or your favorite cin...   \n",
       "19  {'melted coconut oil': '1/2', 'maple syrup or ...   \n",
       "20  {'honey': '1/3', 'fresh ginger, sliced': '1', ...   \n",
       "21  {'salted butter, melted': '4', 'vanilla extrac...   \n",
       "22  {'freeze dried strawberries': '3', 'melted coc...   \n",
       "23  {'honey': '1/2', 'pure maple syrup': '1/3', 'c...   \n",
       "24  {'melted coconut oil': '1', 'granulated sugar'...   \n",
       "25  {'canola oil': '1', 'plain greek yogurt': '1/2...   \n",
       "26  {'cake cones + 12 sugar cones OR 12 waffles co...   \n",
       "27  {'canned coconut milk': '4', 'large vanilla be...   \n",
       "28  {'large egg yolks': '6', 'sugar': '2', 'milk':...   \n",
       "29  {'heavy cream': '2 1/2', 'honey, using more or...   \n",
       "30  {'organic corn flakes': '4 1/2', 'ground chia ...   \n",
       "31  {'roughly chopped strawberries': '3', 'raspber...   \n",
       "32                                                  -   \n",
       "33  {'heavy cream': '2', 'can sweetened condensed ...   \n",
       "34  {'ripe': '5-6', 'softened butter': '6', 'packe...   \n",
       "35  {'Bob's Red Mill all-purpose flour': '1 1/2', ...   \n",
       "36  {'sticks unsalted butter, softened': '2', 'gra...   \n",
       "37  {'course sugar': '1/2', 'vanilla bean': '1', '...   \n",
       "38  {'box chocolate cake mix': '1', 'Kahlua OR car...   \n",
       "39  {'butter': '6', 'large eggs': '4', 'milk': '1'...   \n",
       "40  {'unsweetened coconut crumbs': '3', 'eggs whit...   \n",
       "41  {'part skim or whole milk ricotta cheese': '2'...   \n",
       "42  {'heavy whipping cream': '1', 'semi-sweet or m...   \n",
       "43  {'unsweetened coconut': '2', 'all-purpose flou...   \n",
       "44  {'medium brown bananas': '3', 'lumpia wrappers...   \n",
       "45  {'warm water': '1 1/2', 'light brown sugar': '...   \n",
       "46  {'bag of caramels': '1', 'heavy cream': '1/4',...   \n",
       "47  {'all-purpose flour': '3 ¼', 'baking powder': ...   \n",
       "48  {'raw pumpkin seeds or roasted pumpkin seeds':...   \n",
       "49  {'mixed berries (I used strawberries': '2', 'h...   \n",
       "50  {'fresh cherries': '2', 'vanilla': '2', 'bourb...   \n",
       "51  {'plus 1 teaspoon active dry yeast': '2', 'war...   \n",
       "52  {'egg yolks': '6', 'whole eggs': '4', 'powdere...   \n",
       "53  {'frozen peach slices': '3-4', 'sweetened cond...   \n",
       "54  {'oat flour': '1/2', 'sweet rice flour': '1/2'...   \n",
       "55  {'flour': '2/3', 'cold butter': '2 1/2', 'milk...   \n",
       "56  {'milk chocolate chips': '1 1/2', 'creamy pean...   \n",
       "57  {'all-purpose flour': '2 1/2', 'baking soda': ...   \n",
       "58  {'salted butter, at room temperature': '2', 'l...   \n",
       "\n",
       "                                         instructions   calories servings  \\\n",
       "0   [1. Add the butter to a skillet set over mediu...   372 kcal       16   \n",
       "1   [1. Melt the butter in a large skillet over me...   284 kcal       24   \n",
       "2   [1. Preheat oven to 350° F. Line cupcake molds...   230 kcal       15   \n",
       "3   [1. Line a 9×9 inch baking dish with parchment...   444 kcal       16   \n",
       "4   [1. In a large mixing bowl, beat together the ...   263 kcal       15   \n",
       "5   [1. Preheat the oven to 425 degrees F. Line 11...   331 kcal       12   \n",
       "6   [1. Line a baking sheet with parchment paper.,...   258 kcal       24   \n",
       "7   [1. Place a rack in the middle of the oven. Pr...   468 kcal        8   \n",
       "8   [1. Preheat the oven to 350° F. Line a 9×13 in...   250 kcal       22   \n",
       "9   [1. Add the butter to a skillet set over mediu...   534 kcal       22   \n",
       "10  [1. Preheat oven to 350 degrees F. Grease 2 (8...   437 kcal       24   \n",
       "11  [1. Preheat the oven to 400 degrees F., 2. Bri...  1098 kcal        8   \n",
       "12  [1. To make the crust. Line a rectangular baki...  1340 kcal       16   \n",
       "13  [1. In a large mixing bowl, cream together the...   359 kcal       12   \n",
       "14  [1. Preheat the oven to 275 degrees F. Place 6...   784 kcal        6   \n",
       "15  [1. Preheat the oven to 350 degrees F. Line a ...   535 kcal        8   \n",
       "16                                                 []   152 kcal       18   \n",
       "17                                                 []   718 kcal        8   \n",
       "18                                                 []   578 kcal       12   \n",
       "19  [1. Preheat the oven to 350° F. Line 12 muffin...   249 kcal       12   \n",
       "20  [1. To make the syrup. Bring 1/2 cup water, th...   423 kcal        8   \n",
       "21  [1. Preheat the oven to 350° F. Grease a 6-cup...   224 kcal       14   \n",
       "22  [1. In a blender or food processor, process th...   517 kcal       18   \n",
       "23  [1. Line a 9×13 inch baking dish with parchmen...   259 kcal       24   \n",
       "24  [1. Preheat the oven to 350° F. Line a baking ...   694 kcal        8   \n",
       "25  [1. Preheat oven to 350 degrees F. Grease thre...   314 kcal       28   \n",
       "26  [1. Pre heat the oven to 350 degrees F. and pl...   955 kcal       12   \n",
       "27                                                 []   913 kcal        4   \n",
       "28                                                 []  3482 kcal        1   \n",
       "29  [1. Using an electric mixer, whip the cream in...   552 kcal        8   \n",
       "30  [1. Line a 9×13 inch baking dish with parchmen...   215 kcal       24   \n",
       "31  [1. To make the berry jam. In a medium pot, br...   559 kcal        9   \n",
       "32                                                  -          -        -   \n",
       "33                                                 []   665 kcal        6   \n",
       "34                                                 []   477 kcal        6   \n",
       "35                                                 []   229 kcal       10   \n",
       "36  [Using an electric mixer, cream together the b...   130 kcal       48   \n",
       "37                                                 []   368 kcal       16   \n",
       "38                                                 []  1009 kcal        6   \n",
       "39                                                 []   846 kcal       12   \n",
       "40                                                 []   512 kcal       20   \n",
       "41                                                 []   725 kcal        4   \n",
       "42                                                 []   366 kcal       12   \n",
       "43                                                 []   657 kcal        8   \n",
       "44                                                 []   308 kcal       12   \n",
       "45  [Coat a large bowl with oil or cooking sprayl,...   756 kcal        8   \n",
       "46                                                 []    37 kcal       16   \n",
       "47  [1. Preheat the oven to 350 degrees F. Grease ...   805 kcal       12   \n",
       "48                                                 []   318 kcal       24   \n",
       "49                                                 []   212 kcal       18   \n",
       "50                                                 []   159 kcal        8   \n",
       "51                                                 []   286 kcal       24   \n",
       "52                                                 []   325 kcal        8   \n",
       "53  [1. In a blender, purée the peaches with 1/2 c...   119 kcal       12   \n",
       "54                                                 []   346 kcal       10   \n",
       "55                                                 []   449 kcal        6   \n",
       "56  [Make the caramel. Combine the caramels and cr...   395 kcal       20   \n",
       "57                                                 []   327 kcal       20   \n",
       "58  [1. Preheat the oven to 350 degrees F. Line a ...   489 kcal       18   \n",
       "\n",
       "                                               images  \n",
       "0   https://www.halfbakedharvest.com/wp-content/up...  \n",
       "1   https://www.halfbakedharvest.com/wp-content/up...  \n",
       "2   https://www.halfbakedharvest.com/wp-content/up...  \n",
       "3   https://www.halfbakedharvest.com/wp-content/up...  \n",
       "4   https://www.halfbakedharvest.com/wp-content/up...  \n",
       "5   https://www.halfbakedharvest.com/wp-content/up...  \n",
       "6   https://www.halfbakedharvest.com/wp-content/up...  \n",
       "7   https://www.halfbakedharvest.com/wp-content/up...  \n",
       "8   https://www.halfbakedharvest.com/wp-content/up...  \n",
       "9   https://www.halfbakedharvest.com/wp-content/up...  \n",
       "10  https://www.halfbakedharvest.com/wp-content/up...  \n",
       "11  https://www.halfbakedharvest.com/wp-content/up...  \n",
       "12  https://www.halfbakedharvest.com/wp-content/up...  \n",
       "13  https://www.halfbakedharvest.com/wp-content/up...  \n",
       "14  https://www.halfbakedharvest.com/wp-content/up...  \n",
       "15  https://www.halfbakedharvest.com/wp-content/up...  \n",
       "16  https://www.halfbakedharvest.com/wp-content/up...  \n",
       "17  https://www.halfbakedharvest.com/wp-content/up...  \n",
       "18  https://www.halfbakedharvest.com/wp-content/up...  \n",
       "19  https://www.halfbakedharvest.com/wp-content/up...  \n",
       "20  https://www.halfbakedharvest.com/wp-content/up...  \n",
       "21  https://www.halfbakedharvest.com/wp-content/up...  \n",
       "22  https://www.halfbakedharvest.com/wp-content/up...  \n",
       "23  https://www.halfbakedharvest.com/wp-content/up...  \n",
       "24  https://www.halfbakedharvest.com/wp-content/up...  \n",
       "25  https://www.halfbakedharvest.com/wp-content/up...  \n",
       "26  https://www.halfbakedharvest.com/wp-content/up...  \n",
       "27  https://www.halfbakedharvest.com/wp-content/up...  \n",
       "28  https://www.halfbakedharvest.com/wp-content/up...  \n",
       "29  https://www.halfbakedharvest.com/wp-content/up...  \n",
       "30  https://www.halfbakedharvest.com/wp-content/up...  \n",
       "31  https://www.halfbakedharvest.com/wp-content/up...  \n",
       "32  https://www.halfbakedharvest.com/wp-content/up...  \n",
       "33  https://www.halfbakedharvest.com/wp-content/up...  \n",
       "34  https://www.halfbakedharvest.com/wp-content/up...  \n",
       "35  https://www.halfbakedharvest.com/wp-content/up...  \n",
       "36  https://www.halfbakedharvest.com/wp-content/up...  \n",
       "37  https://www.halfbakedharvest.com/wp-content/up...  \n",
       "38  https://www.halfbakedharvest.com/wp-content/up...  \n",
       "39  https://www.halfbakedharvest.com/wp-content/up...  \n",
       "40  https://www.halfbakedharvest.com/wp-content/up...  \n",
       "41  https://www.halfbakedharvest.com/wp-content/up...  \n",
       "42  https://www.halfbakedharvest.com/wp-content/up...  \n",
       "43  https://www.halfbakedharvest.com/wp-content/up...  \n",
       "44  https://www.halfbakedharvest.com/wp-content/up...  \n",
       "45  https://www.halfbakedharvest.com/wp-content/up...  \n",
       "46  https://www.halfbakedharvest.com/wp-content/up...  \n",
       "47  https://www.halfbakedharvest.com/wp-content/up...  \n",
       "48  https://www.halfbakedharvest.com/wp-content/up...  \n",
       "49  https://www.halfbakedharvest.com/wp-content/up...  \n",
       "50  https://www.halfbakedharvest.com/wp-content/up...  \n",
       "51  https://www.halfbakedharvest.com/wp-content/up...  \n",
       "52  https://www.halfbakedharvest.com/wp-content/up...  \n",
       "53  https://www.halfbakedharvest.com/wp-content/up...  \n",
       "54  https://www.halfbakedharvest.com/wp-content/up...  \n",
       "55  https://www.halfbakedharvest.com/wp-content/up...  \n",
       "56  https://www.halfbakedharvest.com/wp-content/up...  \n",
       "57  https://www.halfbakedharvest.com/wp-content/up...  \n",
       "58  https://www.halfbakedharvest.com/wp-content/up...  "
      ]
     },
     "execution_count": 14,
     "metadata": {},
     "output_type": "execute_result"
    }
   ],
   "source": [
    "temp_recipes_1"
   ]
  },
  {
   "cell_type": "code",
   "execution_count": 15,
   "id": "53acf06d",
   "metadata": {},
   "outputs": [
    {
     "data": {
      "text/plain": [
       "['Burnt Marshmallow Brown Sugar Maple Cookie Bars',\n",
       " 'Chewy Chocolate Peanut Butter Bars',\n",
       " 'Easy Banana Cupcakes with Espresso Chocolate Frosting',\n",
       " 'Salted Chocolate Peanut Butter Bars',\n",
       " 'Easy Decked Out Christmas Tree Cookies',\n",
       " 'Bakery Style Chocolate Chip Muffins',\n",
       " 'Salted Pretzel Samoas Presents',\n",
       " 'Vanilla Burnt Basque Cheesecake',\n",
       " 'Salted Pretzel Snickers Chocolate Chip Cookie Bars',\n",
       " 'Brown Butter Christmas M&M Cookie Bars',\n",
       " 'White Christmas Cranberry Layer Cake',\n",
       " 'Chai Spice Apple Ricotta Galette',\n",
       " 'No Fuss Healthy Coconut Tart',\n",
       " 'Homemade Animal Crackers',\n",
       " 'Sugar Cookie Chocolate Crème Brûlée.',\n",
       " 'Mixed Berry Almond Croissants',\n",
       " 'Winter Bliss Balls.',\n",
       " 'Double Chocolate Irish Brownie Cheesecakes.',\n",
       " 'Cinnamon Brioche Chocolate Chip French Toast Muffins with Coconut Streusel',\n",
       " 'Pumpkin Cream Cheese Muffins',\n",
       " 'Easy Strawberry Tiramisu',\n",
       " 'Baked Maple Glazed Doughnuts',\n",
       " 'Double Strawberry Cupcakes',\n",
       " 'Chewy Chocolate Peanut Butter Bars',\n",
       " 'Homemade Oatmeal Chocolate Chip Cookie Cereal',\n",
       " 'Strawberry Chamomile Naked Cake',\n",
       " 'Hot Fudge Brownie and Double Scooped Ice Cream Sundae High Hat Cupcakes…in a Cone!',\n",
       " 'Vanilla Bean Coconut Quinoa Pudding with Honey Drizzled Raspberries.',\n",
       " 'Caramelized Strawberry and Graham Cracker Crumble Ice Cream.',\n",
       " 'No Churn Vanilla Bean Olive Oil Ice Cream',\n",
       " 'Mom’s Special K-Bars',\n",
       " \"Giant Strawberry n' Cream Pop Tart.\",\n",
       " '-',\n",
       " 'Buckeye Fudge Ice Cream.',\n",
       " 'Brown Sugar Caramel Oatmeal Cookie Peach Crisp.',\n",
       " 'Blueberry Brie Cornbread Biscuits with Honey Butter.',\n",
       " 'Mexican Samoas Cookies.',\n",
       " 'Easy Peanut Butter Cup Fudge with Salted Bourbon Sugar.',\n",
       " '(The Cheaters Way) Deathly Chocolate Graveyard Cakes...Witches Beware.',\n",
       " 'Pumpkin Nutella Crepe Cake.',\n",
       " 'Somoa Macaroon Tarts.',\n",
       " 'Sweet Balsamic Strawberries w/Whipped Ricotta Cream and Maple Glazed Seeded Nuts.',\n",
       " 'Meringue Encased Chocolate Mousse S’more Cakes.',\n",
       " 'Toasted Coconut Lemon Bread with Salted Honey Butter.',\n",
       " 'Sweet Banana Lumpia with Milk Chocolate Toasted Coconut Butter.',\n",
       " 'Warm chocolate Chip Cookie Stuffed Soft Pretzels.',\n",
       " 'Salted Caramel Chocolate Covered Pretzels.',\n",
       " 'Gingerbread Cake with Caramel Cream Cheese Buttercream.',\n",
       " '5 Ingredient Crockpot Chocolate Bars.',\n",
       " 'Baked Mixed Berry Coconut Cornbread Muffins',\n",
       " 'Cherry and Goats Milk Coconut Mousse.',\n",
       " 'Vanilla Cream Filled Cabernet Hot Chocolate Snowball Doughnuts.',\n",
       " 'Incredibly Gooey Collapsing Chocolate Bourbon Pecan Pie Custard Cake.',\n",
       " '5 Ingredient Raspberry Peach Sherbet',\n",
       " 'Vegan Gooey Chocolate Doughnuts',\n",
       " 'Chocolate Chip Pumpkin Cinnamon Roll Dutch Baby',\n",
       " 'Brown Butter Chocolate Chip Cookie Dough Pretzel Snickers Bars',\n",
       " 'Peanut Butter Cup Cookies & Cream Salted Caramel Popcorn Bars',\n",
       " 'Salted Pretzel Chocolate Chip Cookie Snickers Bars']"
      ]
     },
     "execution_count": 15,
     "metadata": {},
     "output_type": "execute_result"
    }
   ],
   "source": [
    "title"
   ]
  },
  {
   "cell_type": "code",
   "execution_count": 16,
   "id": "0ed45647",
   "metadata": {},
   "outputs": [],
   "source": [
    "final = pd.concat([final, temp_recipes_1], ignore_index=True)"
   ]
  },
  {
   "cell_type": "code",
   "execution_count": 23,
   "id": "0608a9db",
   "metadata": {},
   "outputs": [
    {
     "data": {
      "text/html": [
       "<div>\n",
       "<style scoped>\n",
       "    .dataframe tbody tr th:only-of-type {\n",
       "        vertical-align: middle;\n",
       "    }\n",
       "\n",
       "    .dataframe tbody tr th {\n",
       "        vertical-align: top;\n",
       "    }\n",
       "\n",
       "    .dataframe thead th {\n",
       "        text-align: right;\n",
       "    }\n",
       "</style>\n",
       "<table border=\"1\" class=\"dataframe\">\n",
       "  <thead>\n",
       "    <tr style=\"text-align: right;\">\n",
       "      <th></th>\n",
       "      <th>title</th>\n",
       "      <th>prep_time</th>\n",
       "      <th>cook_time</th>\n",
       "      <th>total_time</th>\n",
       "      <th>ingredients</th>\n",
       "      <th>ingredients with measurement</th>\n",
       "      <th>instructions</th>\n",
       "      <th>calories</th>\n",
       "      <th>servings</th>\n",
       "      <th>images</th>\n",
       "    </tr>\n",
       "  </thead>\n",
       "  <tbody>\n",
       "    <tr>\n",
       "      <th>0</th>\n",
       "      <td>Burnt Marshmallow Brown Sugar Maple Cookie Bars</td>\n",
       "      <td>{'minutes': '15'}</td>\n",
       "      <td>{'minutes': '30'}</td>\n",
       "      <td>{'minutes': '45'}</td>\n",
       "      <td>[salted butter, at room temperature, dark brow...</td>\n",
       "      <td>{'salted butter, at room temperature': '2', 'd...</td>\n",
       "      <td>[1. Add the butter to a skillet set over mediu...</td>\n",
       "      <td>372 kcal</td>\n",
       "      <td>16</td>\n",
       "      <td>https://www.halfbakedharvest.com/wp-content/up...</td>\n",
       "    </tr>\n",
       "    <tr>\n",
       "      <th>1</th>\n",
       "      <td>Chewy Chocolate Peanut Butter Bars</td>\n",
       "      <td>{'minutes': '10'}</td>\n",
       "      <td>{'minutes': '10'}</td>\n",
       "      <td>{'minutes': '50'}</td>\n",
       "      <td>[salted butter, organic corn flakes or brown r...</td>\n",
       "      <td>{'salted butter': '2', 'organic corn flakes or...</td>\n",
       "      <td>[1. Melt the butter in a large skillet over me...</td>\n",
       "      <td>284 kcal</td>\n",
       "      <td>24</td>\n",
       "      <td>https://www.halfbakedharvest.com/wp-content/up...</td>\n",
       "    </tr>\n",
       "    <tr>\n",
       "      <th>2</th>\n",
       "      <td>Easy Banana Cupcakes with Espresso Chocolate F...</td>\n",
       "      <td>{'minutes': '20'}</td>\n",
       "      <td>{'minutes': '25'}</td>\n",
       "      <td>{'minutes': '45'}</td>\n",
       "      <td>[medium overly ripe bananas, mashed, melted co...</td>\n",
       "      <td>{'medium overly ripe bananas, mashed': '4', 'm...</td>\n",
       "      <td>[1. Preheat oven to 350° F. Line cupcake molds...</td>\n",
       "      <td>230 kcal</td>\n",
       "      <td>15</td>\n",
       "      <td>https://www.halfbakedharvest.com/wp-content/up...</td>\n",
       "    </tr>\n",
       "    <tr>\n",
       "      <th>3</th>\n",
       "      <td>Salted Chocolate Peanut Butter Bars</td>\n",
       "      <td>{'minutes': '25'}</td>\n",
       "      <td>-</td>\n",
       "      <td>{'hours': '2', 'minutes': '25'}</td>\n",
       "      <td>[chocolate wafer cookies or Oreos without fill...</td>\n",
       "      <td>{'chocolate wafer cookies or Oreos without fil...</td>\n",
       "      <td>[1. Line a 9×9 inch baking dish with parchment...</td>\n",
       "      <td>444 kcal</td>\n",
       "      <td>16</td>\n",
       "      <td>https://www.halfbakedharvest.com/wp-content/up...</td>\n",
       "    </tr>\n",
       "    <tr>\n",
       "      <th>4</th>\n",
       "      <td>Easy Decked Out Christmas Tree Cookies</td>\n",
       "      <td>{'minutes': '30'}</td>\n",
       "      <td>{'minutes': '10'}</td>\n",
       "      <td>{'hours': '1', 'minutes': '10'}</td>\n",
       "      <td>[salted butter, at room temperature, brown sug...</td>\n",
       "      <td>{'salted butter, at room temperature': '1 1/2'...</td>\n",
       "      <td>[1. In a large mixing bowl, beat together the ...</td>\n",
       "      <td>263 kcal</td>\n",
       "      <td>15</td>\n",
       "      <td>https://www.halfbakedharvest.com/wp-content/up...</td>\n",
       "    </tr>\n",
       "    <tr>\n",
       "      <th>5</th>\n",
       "      <td>Bakery Style Chocolate Chip Muffins</td>\n",
       "      <td>{'minutes': '15'}</td>\n",
       "      <td>{'minutes': '20'}</td>\n",
       "      <td>{'minutes': '35'}</td>\n",
       "      <td>[salted butter, real maple syrup, plain greek ...</td>\n",
       "      <td>{'salted butter': '1', 'real maple syrup': '1/...</td>\n",
       "      <td>[1. Preheat the oven to 425 degrees F. Line 11...</td>\n",
       "      <td>331 kcal</td>\n",
       "      <td>12</td>\n",
       "      <td>https://www.halfbakedharvest.com/wp-content/up...</td>\n",
       "    </tr>\n",
       "    <tr>\n",
       "      <th>6</th>\n",
       "      <td>Salted Pretzel Samoas Presents</td>\n",
       "      <td>{'minutes': '30'}</td>\n",
       "      <td>{'minutes': '15'}</td>\n",
       "      <td>{'minutes': '45'}</td>\n",
       "      <td>[granulated sugar, salted butter, at room temp...</td>\n",
       "      <td>{'granulated sugar': '1', 'salted butter, at r...</td>\n",
       "      <td>[1. Line a baking sheet with parchment paper.,...</td>\n",
       "      <td>258 kcal</td>\n",
       "      <td>24</td>\n",
       "      <td>https://www.halfbakedharvest.com/wp-content/up...</td>\n",
       "    </tr>\n",
       "    <tr>\n",
       "      <th>7</th>\n",
       "      <td>Vanilla Burnt Basque Cheesecake</td>\n",
       "      <td>{'minutes': '20'}</td>\n",
       "      <td>{'minutes': '50'}</td>\n",
       "      <td>{'hours': '1', 'minutes': '10'}</td>\n",
       "      <td>[packages cream cheese, at room temperature, g...</td>\n",
       "      <td>{'packages cream cheese, at room temperature':...</td>\n",
       "      <td>[1. Place a rack in the middle of the oven. Pr...</td>\n",
       "      <td>468 kcal</td>\n",
       "      <td>8</td>\n",
       "      <td>https://www.halfbakedharvest.com/wp-content/up...</td>\n",
       "    </tr>\n",
       "    <tr>\n",
       "      <th>8</th>\n",
       "      <td>Salted Pretzel Snickers Chocolate Chip Cookie ...</td>\n",
       "      <td>{'minutes': '20'}</td>\n",
       "      <td>{'minutes': '20'}</td>\n",
       "      <td>{'minutes': '40'}</td>\n",
       "      <td>[salted butter, packed dark brown sugar, granu...</td>\n",
       "      <td>{'salted butter': '2', 'packed dark brown suga...</td>\n",
       "      <td>[1. Preheat the oven to 350° F. Line a 9×13 in...</td>\n",
       "      <td>250 kcal</td>\n",
       "      <td>22</td>\n",
       "      <td>https://www.halfbakedharvest.com/wp-content/up...</td>\n",
       "    </tr>\n",
       "    <tr>\n",
       "      <th>9</th>\n",
       "      <td>Brown Butter Christmas M&amp;M Cookie Bars</td>\n",
       "      <td>{'minutes': '15'}</td>\n",
       "      <td>{'minutes': '20'}</td>\n",
       "      <td>{'minutes': '45'}</td>\n",
       "      <td>[salted butter, packed dark brown sugar, granu...</td>\n",
       "      <td>{'salted butter': '2', 'packed dark brown suga...</td>\n",
       "      <td>[1. Add the butter to a skillet set over mediu...</td>\n",
       "      <td>534 kcal</td>\n",
       "      <td>22</td>\n",
       "      <td>https://www.halfbakedharvest.com/wp-content/up...</td>\n",
       "    </tr>\n",
       "    <tr>\n",
       "      <th>10</th>\n",
       "      <td>White Christmas Cranberry Layer Cake</td>\n",
       "      <td>{'minutes': '30'}</td>\n",
       "      <td>{'minutes': '30'}</td>\n",
       "      <td>{'hours': '3'}</td>\n",
       "      <td>[canola oil, plain greek yogurt, large eggs, a...</td>\n",
       "      <td>{'canola oil': '1', 'plain greek yogurt': '1/2...</td>\n",
       "      <td>[1. Preheat oven to 350 degrees F. Grease 2 (8...</td>\n",
       "      <td>437 kcal</td>\n",
       "      <td>24</td>\n",
       "      <td>https://www.halfbakedharvest.com/wp-content/up...</td>\n",
       "    </tr>\n",
       "    <tr>\n",
       "      <th>11</th>\n",
       "      <td>Chai Spice Apple Ricotta Galette</td>\n",
       "      <td>{'minutes': '15'}</td>\n",
       "      <td>{'minutes': '30'}</td>\n",
       "      <td>{'minutes': '45'}</td>\n",
       "      <td>[maple syrup, salted butter, ground cinnamon, ...</td>\n",
       "      <td>{'maple syrup': '1/2', 'salted butter': '3', '...</td>\n",
       "      <td>[1. Preheat the oven to 400 degrees F., 2. Bri...</td>\n",
       "      <td>1098 kcal</td>\n",
       "      <td>8</td>\n",
       "      <td>https://www.halfbakedharvest.com/wp-content/up...</td>\n",
       "    </tr>\n",
       "    <tr>\n",
       "      <th>12</th>\n",
       "      <td>No Fuss Healthy Coconut Tart</td>\n",
       "      <td>{'minutes': '15'}</td>\n",
       "      <td>{'minutes': '15'}</td>\n",
       "      <td>{'hours': '2', 'minutes': '30'}</td>\n",
       "      <td>[roasted salted cashews, raw unsweetened cocon...</td>\n",
       "      <td>{'roasted salted cashews': '1 1/2', 'raw unswe...</td>\n",
       "      <td>[1. To make the crust. Line a rectangular baki...</td>\n",
       "      <td>1340 kcal</td>\n",
       "      <td>16</td>\n",
       "      <td>https://www.halfbakedharvest.com/wp-content/up...</td>\n",
       "    </tr>\n",
       "    <tr>\n",
       "      <th>13</th>\n",
       "      <td>Homemade Animal Crackers</td>\n",
       "      <td>{'minutes': '30'}</td>\n",
       "      <td>{'minutes': '10'}</td>\n",
       "      <td>{'minutes': '50'}</td>\n",
       "      <td>[salted butter, softened, light brown sugar, p...</td>\n",
       "      <td>{'salted butter, softened': '1 1/2', 'light br...</td>\n",
       "      <td>[1. In a large mixing bowl, cream together the...</td>\n",
       "      <td>359 kcal</td>\n",
       "      <td>12</td>\n",
       "      <td>https://www.halfbakedharvest.com/wp-content/up...</td>\n",
       "    </tr>\n",
       "    <tr>\n",
       "      <th>14</th>\n",
       "      <td>Sugar Cookie Chocolate Crème Brûlée.</td>\n",
       "      <td>{'minutes': '15'}</td>\n",
       "      <td>{'minutes': '50'}</td>\n",
       "      <td>{'hours': '1', 'minutes': '5'}</td>\n",
       "      <td>[egg, egg yolks, granulated sugar, heavy cream...</td>\n",
       "      <td>{'egg': '1', 'egg yolks': '4', 'granulated sug...</td>\n",
       "      <td>[1. Preheat the oven to 275 degrees F. Place 6...</td>\n",
       "      <td>784 kcal</td>\n",
       "      <td>6</td>\n",
       "      <td>https://www.halfbakedharvest.com/wp-content/up...</td>\n",
       "    </tr>\n",
       "    <tr>\n",
       "      <th>15</th>\n",
       "      <td>Mixed Berry Almond Croissants</td>\n",
       "      <td>{'minutes': '20'}</td>\n",
       "      <td>{'minutes': '15'}</td>\n",
       "      <td>{'minutes': '35'}</td>\n",
       "      <td>[honey, bourbon, kosher salt, unsalted butter,...</td>\n",
       "      <td>{'honey': '2', 'bourbon': '1/4', 'kosher salt'...</td>\n",
       "      <td>[1. Preheat the oven to 350 degrees F. Line a ...</td>\n",
       "      <td>535 kcal</td>\n",
       "      <td>8</td>\n",
       "      <td>https://www.halfbakedharvest.com/wp-content/up...</td>\n",
       "    </tr>\n",
       "    <tr>\n",
       "      <th>16</th>\n",
       "      <td>Winter Bliss Balls.</td>\n",
       "      <td>{'minutes': '10'}</td>\n",
       "      <td>-</td>\n",
       "      <td>{'minutes': '10'}</td>\n",
       "      <td>[medjool dates, pitted (about 2 cups packed), ...</td>\n",
       "      <td>{'medjool dates, pitted (about 2 cups packed)'...</td>\n",
       "      <td>[]</td>\n",
       "      <td>152 kcal</td>\n",
       "      <td>18</td>\n",
       "      <td>https://www.halfbakedharvest.com/wp-content/up...</td>\n",
       "    </tr>\n",
       "    <tr>\n",
       "      <th>17</th>\n",
       "      <td>Double Chocolate Irish Brownie Cheesecakes.</td>\n",
       "      <td>{'minutes': '30'}</td>\n",
       "      <td>{'minutes': '30'}</td>\n",
       "      <td>{'hours': '1'}</td>\n",
       "      <td>[all-purpose flour, cocoa powder, salt, semi-s...</td>\n",
       "      <td>{'all-purpose flour': '1/2', 'cocoa powder': '...</td>\n",
       "      <td>[]</td>\n",
       "      <td>718 kcal</td>\n",
       "      <td>8</td>\n",
       "      <td>https://www.halfbakedharvest.com/wp-content/up...</td>\n",
       "    </tr>\n",
       "    <tr>\n",
       "      <th>18</th>\n",
       "      <td>Cinnamon Brioche Chocolate Chip French Toast M...</td>\n",
       "      <td>{'minutes': '15'}</td>\n",
       "      <td>{'minutes': '25'}</td>\n",
       "      <td>{'hours': '2', 'minutes': '30'}</td>\n",
       "      <td>[cinnamon crunch brioche or your favorite cinn...</td>\n",
       "      <td>{'cinnamon crunch brioche or your favorite cin...</td>\n",
       "      <td>[]</td>\n",
       "      <td>578 kcal</td>\n",
       "      <td>12</td>\n",
       "      <td>https://www.halfbakedharvest.com/wp-content/up...</td>\n",
       "    </tr>\n",
       "    <tr>\n",
       "      <th>19</th>\n",
       "      <td>Pumpkin Cream Cheese Muffins</td>\n",
       "      <td>{'minutes': '20'}</td>\n",
       "      <td>{'minutes': '20'}</td>\n",
       "      <td>{'minutes': '40'}</td>\n",
       "      <td>[melted coconut oil, maple syrup or honey, van...</td>\n",
       "      <td>{'melted coconut oil': '1/2', 'maple syrup or ...</td>\n",
       "      <td>[1. Preheat the oven to 350° F. Line 12 muffin...</td>\n",
       "      <td>249 kcal</td>\n",
       "      <td>12</td>\n",
       "      <td>https://www.halfbakedharvest.com/wp-content/up...</td>\n",
       "    </tr>\n",
       "    <tr>\n",
       "      <th>20</th>\n",
       "      <td>Easy Strawberry Tiramisu</td>\n",
       "      <td>{'minutes': '30'}</td>\n",
       "      <td>-</td>\n",
       "      <td>{'hours': '2', 'minutes': '30'}</td>\n",
       "      <td>[honey, fresh ginger, sliced, chamomile tea, l...</td>\n",
       "      <td>{'honey': '1/3', 'fresh ginger, sliced': '1', ...</td>\n",
       "      <td>[1. To make the syrup. Bring 1/2 cup water, th...</td>\n",
       "      <td>423 kcal</td>\n",
       "      <td>8</td>\n",
       "      <td>https://www.halfbakedharvest.com/wp-content/up...</td>\n",
       "    </tr>\n",
       "    <tr>\n",
       "      <th>21</th>\n",
       "      <td>Baked Maple Glazed Doughnuts</td>\n",
       "      <td>{'minutes': '20'}</td>\n",
       "      <td>{'minutes': '20'}</td>\n",
       "      <td>{'minutes': '40'}</td>\n",
       "      <td>[salted butter, melted, vanilla extract, large...</td>\n",
       "      <td>{'salted butter, melted': '4', 'vanilla extrac...</td>\n",
       "      <td>[1. Preheat the oven to 350° F. Grease a 6-cup...</td>\n",
       "      <td>224 kcal</td>\n",
       "      <td>14</td>\n",
       "      <td>https://www.halfbakedharvest.com/wp-content/up...</td>\n",
       "    </tr>\n",
       "    <tr>\n",
       "      <th>22</th>\n",
       "      <td>Double Strawberry Cupcakes</td>\n",
       "      <td>{'minutes': '30'}</td>\n",
       "      <td>{'minutes': '25'}</td>\n",
       "      <td>{'minutes': '55'}</td>\n",
       "      <td>[freeze dried strawberries, melted coconut oil...</td>\n",
       "      <td>{'freeze dried strawberries': '3', 'melted coc...</td>\n",
       "      <td>[1. In a blender or food processor, process th...</td>\n",
       "      <td>517 kcal</td>\n",
       "      <td>18</td>\n",
       "      <td>https://www.halfbakedharvest.com/wp-content/up...</td>\n",
       "    </tr>\n",
       "    <tr>\n",
       "      <th>23</th>\n",
       "      <td>Chewy Chocolate Peanut Butter Bars</td>\n",
       "      <td>{'minutes': '25'}</td>\n",
       "      <td>{'minutes': '5'}</td>\n",
       "      <td>{'hours': '1'}</td>\n",
       "      <td>[honey, pure maple syrup, creamy peanut butter...</td>\n",
       "      <td>{'honey': '1/2', 'pure maple syrup': '1/3', 'c...</td>\n",
       "      <td>[1. Line a 9×13 inch baking dish with parchmen...</td>\n",
       "      <td>259 kcal</td>\n",
       "      <td>24</td>\n",
       "      <td>https://www.halfbakedharvest.com/wp-content/up...</td>\n",
       "    </tr>\n",
       "    <tr>\n",
       "      <th>24</th>\n",
       "      <td>Homemade Oatmeal Chocolate Chip Cookie Cereal</td>\n",
       "      <td>{'minutes': '30'}</td>\n",
       "      <td>{'minutes': '10'}</td>\n",
       "      <td>{'minutes': '40'}</td>\n",
       "      <td>[melted coconut oil, granulated sugar, light o...</td>\n",
       "      <td>{'melted coconut oil': '1', 'granulated sugar'...</td>\n",
       "      <td>[1. Preheat the oven to 350° F. Line a baking ...</td>\n",
       "      <td>694 kcal</td>\n",
       "      <td>8</td>\n",
       "      <td>https://www.halfbakedharvest.com/wp-content/up...</td>\n",
       "    </tr>\n",
       "    <tr>\n",
       "      <th>25</th>\n",
       "      <td>Strawberry Chamomile Naked Cake</td>\n",
       "      <td>{'minutes': '30'}</td>\n",
       "      <td>{'minutes': '30'}</td>\n",
       "      <td>{'hours': '1'}</td>\n",
       "      <td>[canola oil, plain greek yogurt, eggs, granula...</td>\n",
       "      <td>{'canola oil': '1', 'plain greek yogurt': '1/2...</td>\n",
       "      <td>[1. Preheat oven to 350 degrees F. Grease thre...</td>\n",
       "      <td>314 kcal</td>\n",
       "      <td>28</td>\n",
       "      <td>https://www.halfbakedharvest.com/wp-content/up...</td>\n",
       "    </tr>\n",
       "    <tr>\n",
       "      <th>26</th>\n",
       "      <td>Hot Fudge Brownie and Double Scooped Ice Cream...</td>\n",
       "      <td>{'hours': '1'}</td>\n",
       "      <td>{'minutes': '15'}</td>\n",
       "      <td>{'hours': '1', 'minutes': '15'}</td>\n",
       "      <td>[cake cones + 12 sugar cones OR 12 waffles con...</td>\n",
       "      <td>{'cake cones + 12 sugar cones OR 12 waffles co...</td>\n",
       "      <td>[1. Pre heat the oven to 350 degrees F. and pl...</td>\n",
       "      <td>955 kcal</td>\n",
       "      <td>12</td>\n",
       "      <td>https://www.halfbakedharvest.com/wp-content/up...</td>\n",
       "    </tr>\n",
       "    <tr>\n",
       "      <th>27</th>\n",
       "      <td>Vanilla Bean Coconut Quinoa Pudding with Honey...</td>\n",
       "      <td>{'minutes': '10'}</td>\n",
       "      <td>{'minutes': '20'}</td>\n",
       "      <td>{'minutes': '30'}</td>\n",
       "      <td>[canned coconut milk, large vanilla beans, van...</td>\n",
       "      <td>{'canned coconut milk': '4', 'large vanilla be...</td>\n",
       "      <td>[]</td>\n",
       "      <td>913 kcal</td>\n",
       "      <td>4</td>\n",
       "      <td>https://www.halfbakedharvest.com/wp-content/up...</td>\n",
       "    </tr>\n",
       "    <tr>\n",
       "      <th>28</th>\n",
       "      <td>Caramelized Strawberry and Graham Cracker Crum...</td>\n",
       "      <td>{'minutes': '30'}</td>\n",
       "      <td>{'minutes': '20'}</td>\n",
       "      <td>{'hours': '8', 'minutes': '40'}</td>\n",
       "      <td>[large egg yolks, sugar, milk, heavy whipping ...</td>\n",
       "      <td>{'large egg yolks': '6', 'sugar': '2', 'milk':...</td>\n",
       "      <td>[]</td>\n",
       "      <td>3482 kcal</td>\n",
       "      <td>1</td>\n",
       "      <td>https://www.halfbakedharvest.com/wp-content/up...</td>\n",
       "    </tr>\n",
       "    <tr>\n",
       "      <th>29</th>\n",
       "      <td>No Churn Vanilla Bean Olive Oil Ice Cream</td>\n",
       "      <td>{'minutes': '10'}</td>\n",
       "      <td>-</td>\n",
       "      <td>{'hours': '6', 'minutes': '10'}</td>\n",
       "      <td>[heavy cream, honey, using more or less to tas...</td>\n",
       "      <td>{'heavy cream': '2 1/2', 'honey, using more or...</td>\n",
       "      <td>[1. Using an electric mixer, whip the cream in...</td>\n",
       "      <td>552 kcal</td>\n",
       "      <td>8</td>\n",
       "      <td>https://www.halfbakedharvest.com/wp-content/up...</td>\n",
       "    </tr>\n",
       "    <tr>\n",
       "      <th>30</th>\n",
       "      <td>Mom’s Special K-Bars</td>\n",
       "      <td>{'minutes': '15'}</td>\n",
       "      <td>-</td>\n",
       "      <td>{'hours': '1'}</td>\n",
       "      <td>[organic corn flakes, ground chia seeds, vanil...</td>\n",
       "      <td>{'organic corn flakes': '4 1/2', 'ground chia ...</td>\n",
       "      <td>[1. Line a 9×13 inch baking dish with parchmen...</td>\n",
       "      <td>215 kcal</td>\n",
       "      <td>24</td>\n",
       "      <td>https://www.halfbakedharvest.com/wp-content/up...</td>\n",
       "    </tr>\n",
       "    <tr>\n",
       "      <th>31</th>\n",
       "      <td>Giant Strawberry n' Cream Pop Tart.</td>\n",
       "      <td>{'minutes': '30'}</td>\n",
       "      <td>{'minutes': '30'}</td>\n",
       "      <td>{'hours': '1'}</td>\n",
       "      <td>[roughly chopped strawberries, raspberries, re...</td>\n",
       "      <td>{'roughly chopped strawberries': '3', 'raspber...</td>\n",
       "      <td>[1. To make the berry jam. In a medium pot, br...</td>\n",
       "      <td>559 kcal</td>\n",
       "      <td>9</td>\n",
       "      <td>https://www.halfbakedharvest.com/wp-content/up...</td>\n",
       "    </tr>\n",
       "    <tr>\n",
       "      <th>32</th>\n",
       "      <td>-</td>\n",
       "      <td>-</td>\n",
       "      <td>-</td>\n",
       "      <td>-</td>\n",
       "      <td>-</td>\n",
       "      <td>-</td>\n",
       "      <td>-</td>\n",
       "      <td>-</td>\n",
       "      <td>-</td>\n",
       "      <td>https://www.halfbakedharvest.com/wp-content/up...</td>\n",
       "    </tr>\n",
       "    <tr>\n",
       "      <th>33</th>\n",
       "      <td>Buckeye Fudge Ice Cream.</td>\n",
       "      <td>{'minutes': '15'}</td>\n",
       "      <td>-</td>\n",
       "      <td>{'hours': '4', 'minutes': '15'}</td>\n",
       "      <td>[heavy cream, can sweetened condensed milk, un...</td>\n",
       "      <td>{'heavy cream': '2', 'can sweetened condensed ...</td>\n",
       "      <td>[]</td>\n",
       "      <td>665 kcal</td>\n",
       "      <td>6</td>\n",
       "      <td>https://www.halfbakedharvest.com/wp-content/up...</td>\n",
       "    </tr>\n",
       "    <tr>\n",
       "      <th>34</th>\n",
       "      <td>Brown Sugar Caramel Oatmeal Cookie Peach Crisp.</td>\n",
       "      <td>{'minutes': '15'}</td>\n",
       "      <td>{'minutes': '45'}</td>\n",
       "      <td>{'hours': '1'}</td>\n",
       "      <td>[ripe, softened butter, packed light brown sug...</td>\n",
       "      <td>{'ripe': '5-6', 'softened butter': '6', 'packe...</td>\n",
       "      <td>[]</td>\n",
       "      <td>477 kcal</td>\n",
       "      <td>6</td>\n",
       "      <td>https://www.halfbakedharvest.com/wp-content/up...</td>\n",
       "    </tr>\n",
       "    <tr>\n",
       "      <th>35</th>\n",
       "      <td>Blueberry Brie Cornbread Biscuits with Honey B...</td>\n",
       "      <td>{'minutes': '10'}</td>\n",
       "      <td>{'minutes': '25'}</td>\n",
       "      <td>{'minutes': '55'}</td>\n",
       "      <td>[Bob's Red Mill all-purpose flour, Bob's Red M...</td>\n",
       "      <td>{'Bob's Red Mill all-purpose flour': '1 1/2', ...</td>\n",
       "      <td>[]</td>\n",
       "      <td>229 kcal</td>\n",
       "      <td>10</td>\n",
       "      <td>https://www.halfbakedharvest.com/wp-content/up...</td>\n",
       "    </tr>\n",
       "    <tr>\n",
       "      <th>36</th>\n",
       "      <td>Mexican Samoas Cookies.</td>\n",
       "      <td>{'minutes': '10'}</td>\n",
       "      <td>{'minutes': '25'}</td>\n",
       "      <td>{'hours': '1'}</td>\n",
       "      <td>[sticks unsalted butter, softened, granulated ...</td>\n",
       "      <td>{'sticks unsalted butter, softened': '2', 'gra...</td>\n",
       "      <td>[Using an electric mixer, cream together the b...</td>\n",
       "      <td>130 kcal</td>\n",
       "      <td>48</td>\n",
       "      <td>https://www.halfbakedharvest.com/wp-content/up...</td>\n",
       "    </tr>\n",
       "    <tr>\n",
       "      <th>37</th>\n",
       "      <td>Easy Peanut Butter Cup Fudge with Salted Bourb...</td>\n",
       "      <td>{'minutes': '10'}</td>\n",
       "      <td>{'hours': '1', 'minutes': '30'}</td>\n",
       "      <td>{'hours': '2', 'minutes': '40'}</td>\n",
       "      <td>[course sugar, vanilla bean, bourbon, flaky se...</td>\n",
       "      <td>{'course sugar': '1/2', 'vanilla bean': '1', '...</td>\n",
       "      <td>[]</td>\n",
       "      <td>368 kcal</td>\n",
       "      <td>16</td>\n",
       "      <td>https://www.halfbakedharvest.com/wp-content/up...</td>\n",
       "    </tr>\n",
       "    <tr>\n",
       "      <th>38</th>\n",
       "      <td>(The Cheaters Way) Deathly Chocolate Graveyard...</td>\n",
       "      <td>{'minutes': '30'}</td>\n",
       "      <td>{'minutes': '20'}</td>\n",
       "      <td>{'minutes': '50'}</td>\n",
       "      <td>[box chocolate cake mix, Kahlua OR caramel sau...</td>\n",
       "      <td>{'box chocolate cake mix': '1', 'Kahlua OR car...</td>\n",
       "      <td>[]</td>\n",
       "      <td>1009 kcal</td>\n",
       "      <td>6</td>\n",
       "      <td>https://www.halfbakedharvest.com/wp-content/up...</td>\n",
       "    </tr>\n",
       "    <tr>\n",
       "      <th>39</th>\n",
       "      <td>Pumpkin Nutella Crepe Cake.</td>\n",
       "      <td>{'minutes': '45'}</td>\n",
       "      <td>{'minutes': '30'}</td>\n",
       "      <td>{'hours': '1', 'minutes': '15'}</td>\n",
       "      <td>[butter, large eggs, milk, pumpkin puree, all-...</td>\n",
       "      <td>{'butter': '6', 'large eggs': '4', 'milk': '1'...</td>\n",
       "      <td>[]</td>\n",
       "      <td>846 kcal</td>\n",
       "      <td>12</td>\n",
       "      <td>https://www.halfbakedharvest.com/wp-content/up...</td>\n",
       "    </tr>\n",
       "    <tr>\n",
       "      <th>40</th>\n",
       "      <td>Somoa Macaroon Tarts.</td>\n",
       "      <td>{'minutes': '30'}</td>\n",
       "      <td>{'minutes': '40'}</td>\n",
       "      <td>{'hours': '1', 'minutes': '10'}</td>\n",
       "      <td>[unsweetened coconut crumbs, eggs whites, gran...</td>\n",
       "      <td>{'unsweetened coconut crumbs': '3', 'eggs whit...</td>\n",
       "      <td>[]</td>\n",
       "      <td>512 kcal</td>\n",
       "      <td>20</td>\n",
       "      <td>https://www.halfbakedharvest.com/wp-content/up...</td>\n",
       "    </tr>\n",
       "    <tr>\n",
       "      <th>41</th>\n",
       "      <td>Sweet Balsamic Strawberries w/Whipped Ricotta ...</td>\n",
       "      <td>{'minutes': '15'}</td>\n",
       "      <td>{'minutes': '5'}</td>\n",
       "      <td>{'minutes': '35'}</td>\n",
       "      <td>[part skim or whole milk ricotta cheese, pure ...</td>\n",
       "      <td>{'part skim or whole milk ricotta cheese': '2'...</td>\n",
       "      <td>[]</td>\n",
       "      <td>725 kcal</td>\n",
       "      <td>4</td>\n",
       "      <td>https://www.halfbakedharvest.com/wp-content/up...</td>\n",
       "    </tr>\n",
       "    <tr>\n",
       "      <th>42</th>\n",
       "      <td>Meringue Encased Chocolate Mousse S’more Cakes.</td>\n",
       "      <td>{'hours': '1', 'minutes': '5'}</td>\n",
       "      <td>{'minutes': '25'}</td>\n",
       "      <td>{'hours': '1', 'minutes': '30'}</td>\n",
       "      <td>[heavy whipping cream, semi-sweet or milk choc...</td>\n",
       "      <td>{'heavy whipping cream': '1', 'semi-sweet or m...</td>\n",
       "      <td>[]</td>\n",
       "      <td>366 kcal</td>\n",
       "      <td>12</td>\n",
       "      <td>https://www.halfbakedharvest.com/wp-content/up...</td>\n",
       "    </tr>\n",
       "    <tr>\n",
       "      <th>43</th>\n",
       "      <td>Toasted Coconut Lemon Bread with Salted Honey ...</td>\n",
       "      <td>{'minutes': '20'}</td>\n",
       "      <td>{'hours': '1'}</td>\n",
       "      <td>{'hours': '1', 'minutes': '40'}</td>\n",
       "      <td>[unsweetened coconut, all-purpose flour, white...</td>\n",
       "      <td>{'unsweetened coconut': '2', 'all-purpose flou...</td>\n",
       "      <td>[]</td>\n",
       "      <td>657 kcal</td>\n",
       "      <td>8</td>\n",
       "      <td>https://www.halfbakedharvest.com/wp-content/up...</td>\n",
       "    </tr>\n",
       "    <tr>\n",
       "      <th>44</th>\n",
       "      <td>Sweet Banana Lumpia with Milk Chocolate Toaste...</td>\n",
       "      <td>{'minutes': '20'}</td>\n",
       "      <td>{'minutes': '20'}</td>\n",
       "      <td>{'minutes': '40'}</td>\n",
       "      <td>[medium brown bananas, lumpia wrappers, Oil fo...</td>\n",
       "      <td>{'medium brown bananas': '3', 'lumpia wrappers...</td>\n",
       "      <td>[]</td>\n",
       "      <td>308 kcal</td>\n",
       "      <td>12</td>\n",
       "      <td>https://www.halfbakedharvest.com/wp-content/up...</td>\n",
       "    </tr>\n",
       "    <tr>\n",
       "      <th>45</th>\n",
       "      <td>Warm chocolate Chip Cookie Stuffed Soft Pretzels.</td>\n",
       "      <td>{'minutes': '20'}</td>\n",
       "      <td>{'minutes': '15'}</td>\n",
       "      <td>{'hours': '1', 'minutes': '30'}</td>\n",
       "      <td>[warm water, light brown sugar, active dry yea...</td>\n",
       "      <td>{'warm water': '1 1/2', 'light brown sugar': '...</td>\n",
       "      <td>[Coat a large bowl with oil or cooking sprayl,...</td>\n",
       "      <td>756 kcal</td>\n",
       "      <td>8</td>\n",
       "      <td>https://www.halfbakedharvest.com/wp-content/up...</td>\n",
       "    </tr>\n",
       "    <tr>\n",
       "      <th>46</th>\n",
       "      <td>Salted Caramel Chocolate Covered Pretzels.</td>\n",
       "      <td>{'minutes': '20'}</td>\n",
       "      <td>-</td>\n",
       "      <td>{'minutes': '20'}</td>\n",
       "      <td>[bag of caramels, heavy cream, vanilla extract...</td>\n",
       "      <td>{'bag of caramels': '1', 'heavy cream': '1/4',...</td>\n",
       "      <td>[]</td>\n",
       "      <td>37 kcal</td>\n",
       "      <td>16</td>\n",
       "      <td>https://www.halfbakedharvest.com/wp-content/up...</td>\n",
       "    </tr>\n",
       "    <tr>\n",
       "      <th>47</th>\n",
       "      <td>Gingerbread Cake with Caramel Cream Cheese But...</td>\n",
       "      <td>{'minutes': '45'}</td>\n",
       "      <td>{'minutes': '30'}</td>\n",
       "      <td>{'hours': '1', 'minutes': '15'}</td>\n",
       "      <td>[all-purpose flour, baking powder, baking soda...</td>\n",
       "      <td>{'all-purpose flour': '3 ¼', 'baking powder': ...</td>\n",
       "      <td>[1. Preheat the oven to 350 degrees F. Grease ...</td>\n",
       "      <td>805 kcal</td>\n",
       "      <td>12</td>\n",
       "      <td>https://www.halfbakedharvest.com/wp-content/up...</td>\n",
       "    </tr>\n",
       "    <tr>\n",
       "      <th>48</th>\n",
       "      <td>5 Ingredient Crockpot Chocolate Bars.</td>\n",
       "      <td>{'minutes': '5'}</td>\n",
       "      <td>{'hours': '3'}</td>\n",
       "      <td>{'hours': '3', 'minutes': '5'}</td>\n",
       "      <td>[raw pumpkin seeds or roasted pumpkin seeds, l...</td>\n",
       "      <td>{'raw pumpkin seeds or roasted pumpkin seeds':...</td>\n",
       "      <td>[]</td>\n",
       "      <td>318 kcal</td>\n",
       "      <td>24</td>\n",
       "      <td>https://www.halfbakedharvest.com/wp-content/up...</td>\n",
       "    </tr>\n",
       "    <tr>\n",
       "      <th>49</th>\n",
       "      <td>Baked Mixed Berry Coconut Cornbread Muffins</td>\n",
       "      <td>{'minutes': '15'}</td>\n",
       "      <td>{'minutes': '40'}</td>\n",
       "      <td>{'minutes': '55'}</td>\n",
       "      <td>[mixed berries (I used strawberries, honey, al...</td>\n",
       "      <td>{'mixed berries (I used strawberries': '2', 'h...</td>\n",
       "      <td>[]</td>\n",
       "      <td>212 kcal</td>\n",
       "      <td>18</td>\n",
       "      <td>https://www.halfbakedharvest.com/wp-content/up...</td>\n",
       "    </tr>\n",
       "    <tr>\n",
       "      <th>50</th>\n",
       "      <td>Cherry and Goats Milk Coconut Mousse.</td>\n",
       "      <td>{'minutes': '20'}</td>\n",
       "      <td>-</td>\n",
       "      <td>{'hours': '2', 'minutes': '45'}</td>\n",
       "      <td>[fresh cherries, vanilla, bourbon, coconut sug...</td>\n",
       "      <td>{'fresh cherries': '2', 'vanilla': '2', 'bourb...</td>\n",
       "      <td>[]</td>\n",
       "      <td>159 kcal</td>\n",
       "      <td>8</td>\n",
       "      <td>https://www.halfbakedharvest.com/wp-content/up...</td>\n",
       "    </tr>\n",
       "    <tr>\n",
       "      <th>51</th>\n",
       "      <td>Vanilla Cream Filled Cabernet Hot Chocolate Sn...</td>\n",
       "      <td>{'minutes': '45'}</td>\n",
       "      <td>{'minutes': '30'}</td>\n",
       "      <td>{'hours': '1', 'minutes': '50'}</td>\n",
       "      <td>[plus 1 teaspoon active dry yeast, warm milk, ...</td>\n",
       "      <td>{'plus 1 teaspoon active dry yeast': '2', 'war...</td>\n",
       "      <td>[]</td>\n",
       "      <td>286 kcal</td>\n",
       "      <td>24</td>\n",
       "      <td>https://www.halfbakedharvest.com/wp-content/up...</td>\n",
       "    </tr>\n",
       "    <tr>\n",
       "      <th>52</th>\n",
       "      <td>Incredibly Gooey Collapsing Chocolate Bourbon ...</td>\n",
       "      <td>{'minutes': '12'}</td>\n",
       "      <td>{'minutes': '18'}</td>\n",
       "      <td>{'minutes': '30'}</td>\n",
       "      <td>[egg yolks, whole eggs, powdered sugar, honey ...</td>\n",
       "      <td>{'egg yolks': '6', 'whole eggs': '4', 'powdere...</td>\n",
       "      <td>[]</td>\n",
       "      <td>325 kcal</td>\n",
       "      <td>8</td>\n",
       "      <td>https://www.halfbakedharvest.com/wp-content/up...</td>\n",
       "    </tr>\n",
       "    <tr>\n",
       "      <th>53</th>\n",
       "      <td>5 Ingredient Raspberry Peach Sherbet</td>\n",
       "      <td>{'minutes': '20'}</td>\n",
       "      <td>-</td>\n",
       "      <td>{'hours': '6', 'minutes': '20'}</td>\n",
       "      <td>[frozen peach slices, sweetened condensed milk...</td>\n",
       "      <td>{'frozen peach slices': '3-4', 'sweetened cond...</td>\n",
       "      <td>[1. In a blender, purée the peaches with 1/2 c...</td>\n",
       "      <td>119 kcal</td>\n",
       "      <td>12</td>\n",
       "      <td>https://www.halfbakedharvest.com/wp-content/up...</td>\n",
       "    </tr>\n",
       "    <tr>\n",
       "      <th>54</th>\n",
       "      <td>Vegan Gooey Chocolate Doughnuts</td>\n",
       "      <td>{'minutes': '10'}</td>\n",
       "      <td>{'minutes': '20'}</td>\n",
       "      <td>{'minutes': '30'}</td>\n",
       "      <td>[oat flour, sweet rice flour, unsweetened coco...</td>\n",
       "      <td>{'oat flour': '1/2', 'sweet rice flour': '1/2'...</td>\n",
       "      <td>[]</td>\n",
       "      <td>346 kcal</td>\n",
       "      <td>10</td>\n",
       "      <td>https://www.halfbakedharvest.com/wp-content/up...</td>\n",
       "    </tr>\n",
       "    <tr>\n",
       "      <th>55</th>\n",
       "      <td>Chocolate Chip Pumpkin Cinnamon Roll Dutch Baby</td>\n",
       "      <td>{'minutes': '10'}</td>\n",
       "      <td>{'minutes': '20'}</td>\n",
       "      <td>{'minutes': '30'}</td>\n",
       "      <td>[flour, cold butter, milk (I used 2%, pumpkin ...</td>\n",
       "      <td>{'flour': '2/3', 'cold butter': '2 1/2', 'milk...</td>\n",
       "      <td>[]</td>\n",
       "      <td>449 kcal</td>\n",
       "      <td>6</td>\n",
       "      <td>https://www.halfbakedharvest.com/wp-content/up...</td>\n",
       "    </tr>\n",
       "    <tr>\n",
       "      <th>56</th>\n",
       "      <td>Brown Butter Chocolate Chip Cookie Dough Pretz...</td>\n",
       "      <td>{'minutes': '30'}</td>\n",
       "      <td>{'minutes': '15'}</td>\n",
       "      <td>{'hours': '2', 'minutes': '30'}</td>\n",
       "      <td>[milk chocolate chips, creamy peanut butter, b...</td>\n",
       "      <td>{'milk chocolate chips': '1 1/2', 'creamy pean...</td>\n",
       "      <td>[Make the caramel. Combine the caramels and cr...</td>\n",
       "      <td>395 kcal</td>\n",
       "      <td>20</td>\n",
       "      <td>https://www.halfbakedharvest.com/wp-content/up...</td>\n",
       "    </tr>\n",
       "    <tr>\n",
       "      <th>57</th>\n",
       "      <td>Peanut Butter Cup Cookies &amp; Cream Salted Caram...</td>\n",
       "      <td>{'minutes': '20'}</td>\n",
       "      <td>{'minutes': '30'}</td>\n",
       "      <td>{'minutes': '50'}</td>\n",
       "      <td>[all-purpose flour, baking soda, salt, water, ...</td>\n",
       "      <td>{'all-purpose flour': '2 1/2', 'baking soda': ...</td>\n",
       "      <td>[]</td>\n",
       "      <td>327 kcal</td>\n",
       "      <td>20</td>\n",
       "      <td>https://www.halfbakedharvest.com/wp-content/up...</td>\n",
       "    </tr>\n",
       "    <tr>\n",
       "      <th>58</th>\n",
       "      <td>Salted Pretzel Chocolate Chip Cookie Snickers ...</td>\n",
       "      <td>{'minutes': '20'}</td>\n",
       "      <td>{'minutes': '25'}</td>\n",
       "      <td>{'hours': '1', 'minutes': '45'}</td>\n",
       "      <td>[salted butter, at room temperature, light bro...</td>\n",
       "      <td>{'salted butter, at room temperature': '2', 'l...</td>\n",
       "      <td>[1. Preheat the oven to 350 degrees F. Line a ...</td>\n",
       "      <td>489 kcal</td>\n",
       "      <td>18</td>\n",
       "      <td>https://www.halfbakedharvest.com/wp-content/up...</td>\n",
       "    </tr>\n",
       "  </tbody>\n",
       "</table>\n",
       "</div>"
      ],
      "text/plain": [
       "                                                title  \\\n",
       "0     Burnt Marshmallow Brown Sugar Maple Cookie Bars   \n",
       "1                  Chewy Chocolate Peanut Butter Bars   \n",
       "2   Easy Banana Cupcakes with Espresso Chocolate F...   \n",
       "3                 Salted Chocolate Peanut Butter Bars   \n",
       "4              Easy Decked Out Christmas Tree Cookies   \n",
       "5                 Bakery Style Chocolate Chip Muffins   \n",
       "6                      Salted Pretzel Samoas Presents   \n",
       "7                     Vanilla Burnt Basque Cheesecake   \n",
       "8   Salted Pretzel Snickers Chocolate Chip Cookie ...   \n",
       "9              Brown Butter Christmas M&M Cookie Bars   \n",
       "10               White Christmas Cranberry Layer Cake   \n",
       "11                   Chai Spice Apple Ricotta Galette   \n",
       "12                       No Fuss Healthy Coconut Tart   \n",
       "13                           Homemade Animal Crackers   \n",
       "14               Sugar Cookie Chocolate Crème Brûlée.   \n",
       "15                      Mixed Berry Almond Croissants   \n",
       "16                                Winter Bliss Balls.   \n",
       "17        Double Chocolate Irish Brownie Cheesecakes.   \n",
       "18  Cinnamon Brioche Chocolate Chip French Toast M...   \n",
       "19                       Pumpkin Cream Cheese Muffins   \n",
       "20                           Easy Strawberry Tiramisu   \n",
       "21                       Baked Maple Glazed Doughnuts   \n",
       "22                         Double Strawberry Cupcakes   \n",
       "23                 Chewy Chocolate Peanut Butter Bars   \n",
       "24      Homemade Oatmeal Chocolate Chip Cookie Cereal   \n",
       "25                    Strawberry Chamomile Naked Cake   \n",
       "26  Hot Fudge Brownie and Double Scooped Ice Cream...   \n",
       "27  Vanilla Bean Coconut Quinoa Pudding with Honey...   \n",
       "28  Caramelized Strawberry and Graham Cracker Crum...   \n",
       "29          No Churn Vanilla Bean Olive Oil Ice Cream   \n",
       "30                               Mom’s Special K-Bars   \n",
       "31                Giant Strawberry n' Cream Pop Tart.   \n",
       "32                                                  -   \n",
       "33                           Buckeye Fudge Ice Cream.   \n",
       "34    Brown Sugar Caramel Oatmeal Cookie Peach Crisp.   \n",
       "35  Blueberry Brie Cornbread Biscuits with Honey B...   \n",
       "36                            Mexican Samoas Cookies.   \n",
       "37  Easy Peanut Butter Cup Fudge with Salted Bourb...   \n",
       "38  (The Cheaters Way) Deathly Chocolate Graveyard...   \n",
       "39                        Pumpkin Nutella Crepe Cake.   \n",
       "40                              Somoa Macaroon Tarts.   \n",
       "41  Sweet Balsamic Strawberries w/Whipped Ricotta ...   \n",
       "42    Meringue Encased Chocolate Mousse S’more Cakes.   \n",
       "43  Toasted Coconut Lemon Bread with Salted Honey ...   \n",
       "44  Sweet Banana Lumpia with Milk Chocolate Toaste...   \n",
       "45  Warm chocolate Chip Cookie Stuffed Soft Pretzels.   \n",
       "46         Salted Caramel Chocolate Covered Pretzels.   \n",
       "47  Gingerbread Cake with Caramel Cream Cheese But...   \n",
       "48              5 Ingredient Crockpot Chocolate Bars.   \n",
       "49        Baked Mixed Berry Coconut Cornbread Muffins   \n",
       "50              Cherry and Goats Milk Coconut Mousse.   \n",
       "51  Vanilla Cream Filled Cabernet Hot Chocolate Sn...   \n",
       "52  Incredibly Gooey Collapsing Chocolate Bourbon ...   \n",
       "53               5 Ingredient Raspberry Peach Sherbet   \n",
       "54                    Vegan Gooey Chocolate Doughnuts   \n",
       "55    Chocolate Chip Pumpkin Cinnamon Roll Dutch Baby   \n",
       "56  Brown Butter Chocolate Chip Cookie Dough Pretz...   \n",
       "57  Peanut Butter Cup Cookies & Cream Salted Caram...   \n",
       "58  Salted Pretzel Chocolate Chip Cookie Snickers ...   \n",
       "\n",
       "                         prep_time                        cook_time  \\\n",
       "0                {'minutes': '15'}                {'minutes': '30'}   \n",
       "1                {'minutes': '10'}                {'minutes': '10'}   \n",
       "2                {'minutes': '20'}                {'minutes': '25'}   \n",
       "3                {'minutes': '25'}                                -   \n",
       "4                {'minutes': '30'}                {'minutes': '10'}   \n",
       "5                {'minutes': '15'}                {'minutes': '20'}   \n",
       "6                {'minutes': '30'}                {'minutes': '15'}   \n",
       "7                {'minutes': '20'}                {'minutes': '50'}   \n",
       "8                {'minutes': '20'}                {'minutes': '20'}   \n",
       "9                {'minutes': '15'}                {'minutes': '20'}   \n",
       "10               {'minutes': '30'}                {'minutes': '30'}   \n",
       "11               {'minutes': '15'}                {'minutes': '30'}   \n",
       "12               {'minutes': '15'}                {'minutes': '15'}   \n",
       "13               {'minutes': '30'}                {'minutes': '10'}   \n",
       "14               {'minutes': '15'}                {'minutes': '50'}   \n",
       "15               {'minutes': '20'}                {'minutes': '15'}   \n",
       "16               {'minutes': '10'}                                -   \n",
       "17               {'minutes': '30'}                {'minutes': '30'}   \n",
       "18               {'minutes': '15'}                {'minutes': '25'}   \n",
       "19               {'minutes': '20'}                {'minutes': '20'}   \n",
       "20               {'minutes': '30'}                                -   \n",
       "21               {'minutes': '20'}                {'minutes': '20'}   \n",
       "22               {'minutes': '30'}                {'minutes': '25'}   \n",
       "23               {'minutes': '25'}                 {'minutes': '5'}   \n",
       "24               {'minutes': '30'}                {'minutes': '10'}   \n",
       "25               {'minutes': '30'}                {'minutes': '30'}   \n",
       "26                  {'hours': '1'}                {'minutes': '15'}   \n",
       "27               {'minutes': '10'}                {'minutes': '20'}   \n",
       "28               {'minutes': '30'}                {'minutes': '20'}   \n",
       "29               {'minutes': '10'}                                -   \n",
       "30               {'minutes': '15'}                                -   \n",
       "31               {'minutes': '30'}                {'minutes': '30'}   \n",
       "32                               -                                -   \n",
       "33               {'minutes': '15'}                                -   \n",
       "34               {'minutes': '15'}                {'minutes': '45'}   \n",
       "35               {'minutes': '10'}                {'minutes': '25'}   \n",
       "36               {'minutes': '10'}                {'minutes': '25'}   \n",
       "37               {'minutes': '10'}  {'hours': '1', 'minutes': '30'}   \n",
       "38               {'minutes': '30'}                {'minutes': '20'}   \n",
       "39               {'minutes': '45'}                {'minutes': '30'}   \n",
       "40               {'minutes': '30'}                {'minutes': '40'}   \n",
       "41               {'minutes': '15'}                 {'minutes': '5'}   \n",
       "42  {'hours': '1', 'minutes': '5'}                {'minutes': '25'}   \n",
       "43               {'minutes': '20'}                   {'hours': '1'}   \n",
       "44               {'minutes': '20'}                {'minutes': '20'}   \n",
       "45               {'minutes': '20'}                {'minutes': '15'}   \n",
       "46               {'minutes': '20'}                                -   \n",
       "47               {'minutes': '45'}                {'minutes': '30'}   \n",
       "48                {'minutes': '5'}                   {'hours': '3'}   \n",
       "49               {'minutes': '15'}                {'minutes': '40'}   \n",
       "50               {'minutes': '20'}                                -   \n",
       "51               {'minutes': '45'}                {'minutes': '30'}   \n",
       "52               {'minutes': '12'}                {'minutes': '18'}   \n",
       "53               {'minutes': '20'}                                -   \n",
       "54               {'minutes': '10'}                {'minutes': '20'}   \n",
       "55               {'minutes': '10'}                {'minutes': '20'}   \n",
       "56               {'minutes': '30'}                {'minutes': '15'}   \n",
       "57               {'minutes': '20'}                {'minutes': '30'}   \n",
       "58               {'minutes': '20'}                {'minutes': '25'}   \n",
       "\n",
       "                         total_time  \\\n",
       "0                 {'minutes': '45'}   \n",
       "1                 {'minutes': '50'}   \n",
       "2                 {'minutes': '45'}   \n",
       "3   {'hours': '2', 'minutes': '25'}   \n",
       "4   {'hours': '1', 'minutes': '10'}   \n",
       "5                 {'minutes': '35'}   \n",
       "6                 {'minutes': '45'}   \n",
       "7   {'hours': '1', 'minutes': '10'}   \n",
       "8                 {'minutes': '40'}   \n",
       "9                 {'minutes': '45'}   \n",
       "10                   {'hours': '3'}   \n",
       "11                {'minutes': '45'}   \n",
       "12  {'hours': '2', 'minutes': '30'}   \n",
       "13                {'minutes': '50'}   \n",
       "14   {'hours': '1', 'minutes': '5'}   \n",
       "15                {'minutes': '35'}   \n",
       "16                {'minutes': '10'}   \n",
       "17                   {'hours': '1'}   \n",
       "18  {'hours': '2', 'minutes': '30'}   \n",
       "19                {'minutes': '40'}   \n",
       "20  {'hours': '2', 'minutes': '30'}   \n",
       "21                {'minutes': '40'}   \n",
       "22                {'minutes': '55'}   \n",
       "23                   {'hours': '1'}   \n",
       "24                {'minutes': '40'}   \n",
       "25                   {'hours': '1'}   \n",
       "26  {'hours': '1', 'minutes': '15'}   \n",
       "27                {'minutes': '30'}   \n",
       "28  {'hours': '8', 'minutes': '40'}   \n",
       "29  {'hours': '6', 'minutes': '10'}   \n",
       "30                   {'hours': '1'}   \n",
       "31                   {'hours': '1'}   \n",
       "32                                -   \n",
       "33  {'hours': '4', 'minutes': '15'}   \n",
       "34                   {'hours': '1'}   \n",
       "35                {'minutes': '55'}   \n",
       "36                   {'hours': '1'}   \n",
       "37  {'hours': '2', 'minutes': '40'}   \n",
       "38                {'minutes': '50'}   \n",
       "39  {'hours': '1', 'minutes': '15'}   \n",
       "40  {'hours': '1', 'minutes': '10'}   \n",
       "41                {'minutes': '35'}   \n",
       "42  {'hours': '1', 'minutes': '30'}   \n",
       "43  {'hours': '1', 'minutes': '40'}   \n",
       "44                {'minutes': '40'}   \n",
       "45  {'hours': '1', 'minutes': '30'}   \n",
       "46                {'minutes': '20'}   \n",
       "47  {'hours': '1', 'minutes': '15'}   \n",
       "48   {'hours': '3', 'minutes': '5'}   \n",
       "49                {'minutes': '55'}   \n",
       "50  {'hours': '2', 'minutes': '45'}   \n",
       "51  {'hours': '1', 'minutes': '50'}   \n",
       "52                {'minutes': '30'}   \n",
       "53  {'hours': '6', 'minutes': '20'}   \n",
       "54                {'minutes': '30'}   \n",
       "55                {'minutes': '30'}   \n",
       "56  {'hours': '2', 'minutes': '30'}   \n",
       "57                {'minutes': '50'}   \n",
       "58  {'hours': '1', 'minutes': '45'}   \n",
       "\n",
       "                                          ingredients  \\\n",
       "0   [salted butter, at room temperature, dark brow...   \n",
       "1   [salted butter, organic corn flakes or brown r...   \n",
       "2   [medium overly ripe bananas, mashed, melted co...   \n",
       "3   [chocolate wafer cookies or Oreos without fill...   \n",
       "4   [salted butter, at room temperature, brown sug...   \n",
       "5   [salted butter, real maple syrup, plain greek ...   \n",
       "6   [granulated sugar, salted butter, at room temp...   \n",
       "7   [packages cream cheese, at room temperature, g...   \n",
       "8   [salted butter, packed dark brown sugar, granu...   \n",
       "9   [salted butter, packed dark brown sugar, granu...   \n",
       "10  [canola oil, plain greek yogurt, large eggs, a...   \n",
       "11  [maple syrup, salted butter, ground cinnamon, ...   \n",
       "12  [roasted salted cashews, raw unsweetened cocon...   \n",
       "13  [salted butter, softened, light brown sugar, p...   \n",
       "14  [egg, egg yolks, granulated sugar, heavy cream...   \n",
       "15  [honey, bourbon, kosher salt, unsalted butter,...   \n",
       "16  [medjool dates, pitted (about 2 cups packed), ...   \n",
       "17  [all-purpose flour, cocoa powder, salt, semi-s...   \n",
       "18  [cinnamon crunch brioche or your favorite cinn...   \n",
       "19  [melted coconut oil, maple syrup or honey, van...   \n",
       "20  [honey, fresh ginger, sliced, chamomile tea, l...   \n",
       "21  [salted butter, melted, vanilla extract, large...   \n",
       "22  [freeze dried strawberries, melted coconut oil...   \n",
       "23  [honey, pure maple syrup, creamy peanut butter...   \n",
       "24  [melted coconut oil, granulated sugar, light o...   \n",
       "25  [canola oil, plain greek yogurt, eggs, granula...   \n",
       "26  [cake cones + 12 sugar cones OR 12 waffles con...   \n",
       "27  [canned coconut milk, large vanilla beans, van...   \n",
       "28  [large egg yolks, sugar, milk, heavy whipping ...   \n",
       "29  [heavy cream, honey, using more or less to tas...   \n",
       "30  [organic corn flakes, ground chia seeds, vanil...   \n",
       "31  [roughly chopped strawberries, raspberries, re...   \n",
       "32                                                  -   \n",
       "33  [heavy cream, can sweetened condensed milk, un...   \n",
       "34  [ripe, softened butter, packed light brown sug...   \n",
       "35  [Bob's Red Mill all-purpose flour, Bob's Red M...   \n",
       "36  [sticks unsalted butter, softened, granulated ...   \n",
       "37  [course sugar, vanilla bean, bourbon, flaky se...   \n",
       "38  [box chocolate cake mix, Kahlua OR caramel sau...   \n",
       "39  [butter, large eggs, milk, pumpkin puree, all-...   \n",
       "40  [unsweetened coconut crumbs, eggs whites, gran...   \n",
       "41  [part skim or whole milk ricotta cheese, pure ...   \n",
       "42  [heavy whipping cream, semi-sweet or milk choc...   \n",
       "43  [unsweetened coconut, all-purpose flour, white...   \n",
       "44  [medium brown bananas, lumpia wrappers, Oil fo...   \n",
       "45  [warm water, light brown sugar, active dry yea...   \n",
       "46  [bag of caramels, heavy cream, vanilla extract...   \n",
       "47  [all-purpose flour, baking powder, baking soda...   \n",
       "48  [raw pumpkin seeds or roasted pumpkin seeds, l...   \n",
       "49  [mixed berries (I used strawberries, honey, al...   \n",
       "50  [fresh cherries, vanilla, bourbon, coconut sug...   \n",
       "51  [plus 1 teaspoon active dry yeast, warm milk, ...   \n",
       "52  [egg yolks, whole eggs, powdered sugar, honey ...   \n",
       "53  [frozen peach slices, sweetened condensed milk...   \n",
       "54  [oat flour, sweet rice flour, unsweetened coco...   \n",
       "55  [flour, cold butter, milk (I used 2%, pumpkin ...   \n",
       "56  [milk chocolate chips, creamy peanut butter, b...   \n",
       "57  [all-purpose flour, baking soda, salt, water, ...   \n",
       "58  [salted butter, at room temperature, light bro...   \n",
       "\n",
       "                         ingredients with measurement  \\\n",
       "0   {'salted butter, at room temperature': '2', 'd...   \n",
       "1   {'salted butter': '2', 'organic corn flakes or...   \n",
       "2   {'medium overly ripe bananas, mashed': '4', 'm...   \n",
       "3   {'chocolate wafer cookies or Oreos without fil...   \n",
       "4   {'salted butter, at room temperature': '1 1/2'...   \n",
       "5   {'salted butter': '1', 'real maple syrup': '1/...   \n",
       "6   {'granulated sugar': '1', 'salted butter, at r...   \n",
       "7   {'packages cream cheese, at room temperature':...   \n",
       "8   {'salted butter': '2', 'packed dark brown suga...   \n",
       "9   {'salted butter': '2', 'packed dark brown suga...   \n",
       "10  {'canola oil': '1', 'plain greek yogurt': '1/2...   \n",
       "11  {'maple syrup': '1/2', 'salted butter': '3', '...   \n",
       "12  {'roasted salted cashews': '1 1/2', 'raw unswe...   \n",
       "13  {'salted butter, softened': '1 1/2', 'light br...   \n",
       "14  {'egg': '1', 'egg yolks': '4', 'granulated sug...   \n",
       "15  {'honey': '2', 'bourbon': '1/4', 'kosher salt'...   \n",
       "16  {'medjool dates, pitted (about 2 cups packed)'...   \n",
       "17  {'all-purpose flour': '1/2', 'cocoa powder': '...   \n",
       "18  {'cinnamon crunch brioche or your favorite cin...   \n",
       "19  {'melted coconut oil': '1/2', 'maple syrup or ...   \n",
       "20  {'honey': '1/3', 'fresh ginger, sliced': '1', ...   \n",
       "21  {'salted butter, melted': '4', 'vanilla extrac...   \n",
       "22  {'freeze dried strawberries': '3', 'melted coc...   \n",
       "23  {'honey': '1/2', 'pure maple syrup': '1/3', 'c...   \n",
       "24  {'melted coconut oil': '1', 'granulated sugar'...   \n",
       "25  {'canola oil': '1', 'plain greek yogurt': '1/2...   \n",
       "26  {'cake cones + 12 sugar cones OR 12 waffles co...   \n",
       "27  {'canned coconut milk': '4', 'large vanilla be...   \n",
       "28  {'large egg yolks': '6', 'sugar': '2', 'milk':...   \n",
       "29  {'heavy cream': '2 1/2', 'honey, using more or...   \n",
       "30  {'organic corn flakes': '4 1/2', 'ground chia ...   \n",
       "31  {'roughly chopped strawberries': '3', 'raspber...   \n",
       "32                                                  -   \n",
       "33  {'heavy cream': '2', 'can sweetened condensed ...   \n",
       "34  {'ripe': '5-6', 'softened butter': '6', 'packe...   \n",
       "35  {'Bob's Red Mill all-purpose flour': '1 1/2', ...   \n",
       "36  {'sticks unsalted butter, softened': '2', 'gra...   \n",
       "37  {'course sugar': '1/2', 'vanilla bean': '1', '...   \n",
       "38  {'box chocolate cake mix': '1', 'Kahlua OR car...   \n",
       "39  {'butter': '6', 'large eggs': '4', 'milk': '1'...   \n",
       "40  {'unsweetened coconut crumbs': '3', 'eggs whit...   \n",
       "41  {'part skim or whole milk ricotta cheese': '2'...   \n",
       "42  {'heavy whipping cream': '1', 'semi-sweet or m...   \n",
       "43  {'unsweetened coconut': '2', 'all-purpose flou...   \n",
       "44  {'medium brown bananas': '3', 'lumpia wrappers...   \n",
       "45  {'warm water': '1 1/2', 'light brown sugar': '...   \n",
       "46  {'bag of caramels': '1', 'heavy cream': '1/4',...   \n",
       "47  {'all-purpose flour': '3 ¼', 'baking powder': ...   \n",
       "48  {'raw pumpkin seeds or roasted pumpkin seeds':...   \n",
       "49  {'mixed berries (I used strawberries': '2', 'h...   \n",
       "50  {'fresh cherries': '2', 'vanilla': '2', 'bourb...   \n",
       "51  {'plus 1 teaspoon active dry yeast': '2', 'war...   \n",
       "52  {'egg yolks': '6', 'whole eggs': '4', 'powdere...   \n",
       "53  {'frozen peach slices': '3-4', 'sweetened cond...   \n",
       "54  {'oat flour': '1/2', 'sweet rice flour': '1/2'...   \n",
       "55  {'flour': '2/3', 'cold butter': '2 1/2', 'milk...   \n",
       "56  {'milk chocolate chips': '1 1/2', 'creamy pean...   \n",
       "57  {'all-purpose flour': '2 1/2', 'baking soda': ...   \n",
       "58  {'salted butter, at room temperature': '2', 'l...   \n",
       "\n",
       "                                         instructions   calories servings  \\\n",
       "0   [1. Add the butter to a skillet set over mediu...   372 kcal       16   \n",
       "1   [1. Melt the butter in a large skillet over me...   284 kcal       24   \n",
       "2   [1. Preheat oven to 350° F. Line cupcake molds...   230 kcal       15   \n",
       "3   [1. Line a 9×9 inch baking dish with parchment...   444 kcal       16   \n",
       "4   [1. In a large mixing bowl, beat together the ...   263 kcal       15   \n",
       "5   [1. Preheat the oven to 425 degrees F. Line 11...   331 kcal       12   \n",
       "6   [1. Line a baking sheet with parchment paper.,...   258 kcal       24   \n",
       "7   [1. Place a rack in the middle of the oven. Pr...   468 kcal        8   \n",
       "8   [1. Preheat the oven to 350° F. Line a 9×13 in...   250 kcal       22   \n",
       "9   [1. Add the butter to a skillet set over mediu...   534 kcal       22   \n",
       "10  [1. Preheat oven to 350 degrees F. Grease 2 (8...   437 kcal       24   \n",
       "11  [1. Preheat the oven to 400 degrees F., 2. Bri...  1098 kcal        8   \n",
       "12  [1. To make the crust. Line a rectangular baki...  1340 kcal       16   \n",
       "13  [1. In a large mixing bowl, cream together the...   359 kcal       12   \n",
       "14  [1. Preheat the oven to 275 degrees F. Place 6...   784 kcal        6   \n",
       "15  [1. Preheat the oven to 350 degrees F. Line a ...   535 kcal        8   \n",
       "16                                                 []   152 kcal       18   \n",
       "17                                                 []   718 kcal        8   \n",
       "18                                                 []   578 kcal       12   \n",
       "19  [1. Preheat the oven to 350° F. Line 12 muffin...   249 kcal       12   \n",
       "20  [1. To make the syrup. Bring 1/2 cup water, th...   423 kcal        8   \n",
       "21  [1. Preheat the oven to 350° F. Grease a 6-cup...   224 kcal       14   \n",
       "22  [1. In a blender or food processor, process th...   517 kcal       18   \n",
       "23  [1. Line a 9×13 inch baking dish with parchmen...   259 kcal       24   \n",
       "24  [1. Preheat the oven to 350° F. Line a baking ...   694 kcal        8   \n",
       "25  [1. Preheat oven to 350 degrees F. Grease thre...   314 kcal       28   \n",
       "26  [1. Pre heat the oven to 350 degrees F. and pl...   955 kcal       12   \n",
       "27                                                 []   913 kcal        4   \n",
       "28                                                 []  3482 kcal        1   \n",
       "29  [1. Using an electric mixer, whip the cream in...   552 kcal        8   \n",
       "30  [1. Line a 9×13 inch baking dish with parchmen...   215 kcal       24   \n",
       "31  [1. To make the berry jam. In a medium pot, br...   559 kcal        9   \n",
       "32                                                  -          -        -   \n",
       "33                                                 []   665 kcal        6   \n",
       "34                                                 []   477 kcal        6   \n",
       "35                                                 []   229 kcal       10   \n",
       "36  [Using an electric mixer, cream together the b...   130 kcal       48   \n",
       "37                                                 []   368 kcal       16   \n",
       "38                                                 []  1009 kcal        6   \n",
       "39                                                 []   846 kcal       12   \n",
       "40                                                 []   512 kcal       20   \n",
       "41                                                 []   725 kcal        4   \n",
       "42                                                 []   366 kcal       12   \n",
       "43                                                 []   657 kcal        8   \n",
       "44                                                 []   308 kcal       12   \n",
       "45  [Coat a large bowl with oil or cooking sprayl,...   756 kcal        8   \n",
       "46                                                 []    37 kcal       16   \n",
       "47  [1. Preheat the oven to 350 degrees F. Grease ...   805 kcal       12   \n",
       "48                                                 []   318 kcal       24   \n",
       "49                                                 []   212 kcal       18   \n",
       "50                                                 []   159 kcal        8   \n",
       "51                                                 []   286 kcal       24   \n",
       "52                                                 []   325 kcal        8   \n",
       "53  [1. In a blender, purée the peaches with 1/2 c...   119 kcal       12   \n",
       "54                                                 []   346 kcal       10   \n",
       "55                                                 []   449 kcal        6   \n",
       "56  [Make the caramel. Combine the caramels and cr...   395 kcal       20   \n",
       "57                                                 []   327 kcal       20   \n",
       "58  [1. Preheat the oven to 350 degrees F. Line a ...   489 kcal       18   \n",
       "\n",
       "                                               images  \n",
       "0   https://www.halfbakedharvest.com/wp-content/up...  \n",
       "1   https://www.halfbakedharvest.com/wp-content/up...  \n",
       "2   https://www.halfbakedharvest.com/wp-content/up...  \n",
       "3   https://www.halfbakedharvest.com/wp-content/up...  \n",
       "4   https://www.halfbakedharvest.com/wp-content/up...  \n",
       "5   https://www.halfbakedharvest.com/wp-content/up...  \n",
       "6   https://www.halfbakedharvest.com/wp-content/up...  \n",
       "7   https://www.halfbakedharvest.com/wp-content/up...  \n",
       "8   https://www.halfbakedharvest.com/wp-content/up...  \n",
       "9   https://www.halfbakedharvest.com/wp-content/up...  \n",
       "10  https://www.halfbakedharvest.com/wp-content/up...  \n",
       "11  https://www.halfbakedharvest.com/wp-content/up...  \n",
       "12  https://www.halfbakedharvest.com/wp-content/up...  \n",
       "13  https://www.halfbakedharvest.com/wp-content/up...  \n",
       "14  https://www.halfbakedharvest.com/wp-content/up...  \n",
       "15  https://www.halfbakedharvest.com/wp-content/up...  \n",
       "16  https://www.halfbakedharvest.com/wp-content/up...  \n",
       "17  https://www.halfbakedharvest.com/wp-content/up...  \n",
       "18  https://www.halfbakedharvest.com/wp-content/up...  \n",
       "19  https://www.halfbakedharvest.com/wp-content/up...  \n",
       "20  https://www.halfbakedharvest.com/wp-content/up...  \n",
       "21  https://www.halfbakedharvest.com/wp-content/up...  \n",
       "22  https://www.halfbakedharvest.com/wp-content/up...  \n",
       "23  https://www.halfbakedharvest.com/wp-content/up...  \n",
       "24  https://www.halfbakedharvest.com/wp-content/up...  \n",
       "25  https://www.halfbakedharvest.com/wp-content/up...  \n",
       "26  https://www.halfbakedharvest.com/wp-content/up...  \n",
       "27  https://www.halfbakedharvest.com/wp-content/up...  \n",
       "28  https://www.halfbakedharvest.com/wp-content/up...  \n",
       "29  https://www.halfbakedharvest.com/wp-content/up...  \n",
       "30  https://www.halfbakedharvest.com/wp-content/up...  \n",
       "31  https://www.halfbakedharvest.com/wp-content/up...  \n",
       "32  https://www.halfbakedharvest.com/wp-content/up...  \n",
       "33  https://www.halfbakedharvest.com/wp-content/up...  \n",
       "34  https://www.halfbakedharvest.com/wp-content/up...  \n",
       "35  https://www.halfbakedharvest.com/wp-content/up...  \n",
       "36  https://www.halfbakedharvest.com/wp-content/up...  \n",
       "37  https://www.halfbakedharvest.com/wp-content/up...  \n",
       "38  https://www.halfbakedharvest.com/wp-content/up...  \n",
       "39  https://www.halfbakedharvest.com/wp-content/up...  \n",
       "40  https://www.halfbakedharvest.com/wp-content/up...  \n",
       "41  https://www.halfbakedharvest.com/wp-content/up...  \n",
       "42  https://www.halfbakedharvest.com/wp-content/up...  \n",
       "43  https://www.halfbakedharvest.com/wp-content/up...  \n",
       "44  https://www.halfbakedharvest.com/wp-content/up...  \n",
       "45  https://www.halfbakedharvest.com/wp-content/up...  \n",
       "46  https://www.halfbakedharvest.com/wp-content/up...  \n",
       "47  https://www.halfbakedharvest.com/wp-content/up...  \n",
       "48  https://www.halfbakedharvest.com/wp-content/up...  \n",
       "49  https://www.halfbakedharvest.com/wp-content/up...  \n",
       "50  https://www.halfbakedharvest.com/wp-content/up...  \n",
       "51  https://www.halfbakedharvest.com/wp-content/up...  \n",
       "52  https://www.halfbakedharvest.com/wp-content/up...  \n",
       "53  https://www.halfbakedharvest.com/wp-content/up...  \n",
       "54  https://www.halfbakedharvest.com/wp-content/up...  \n",
       "55  https://www.halfbakedharvest.com/wp-content/up...  \n",
       "56  https://www.halfbakedharvest.com/wp-content/up...  \n",
       "57  https://www.halfbakedharvest.com/wp-content/up...  \n",
       "58  https://www.halfbakedharvest.com/wp-content/up...  "
      ]
     },
     "execution_count": 23,
     "metadata": {},
     "output_type": "execute_result"
    }
   ],
   "source": [
    "final"
   ]
  },
  {
   "cell_type": "code",
   "execution_count": 18,
   "id": "18b7a886",
   "metadata": {},
   "outputs": [],
   "source": [
    "def save_list_to_txt(filename, data_list):\n",
    "    \"\"\"\n",
    "    Save a list of strings to a text file, one item per line.\n",
    "    \n",
    "    :param filename: The name of the file to save the list to.\n",
    "    :param data_list: The list of strings to save.\n",
    "    \"\"\"\n",
    "    with open(filename, 'w') as f:\n",
    "        for item in data_list:\n",
    "            f.write(f\"{item}\\n\")"
   ]
  },
  {
   "cell_type": "code",
   "execution_count": 19,
   "id": "6243ee7b",
   "metadata": {},
   "outputs": [],
   "source": [
    "save_list_to_txt('newnewnewfailed_url.txt', new_failed_url)\n",
    "final.to_csv('failed_desserts3.csv', index=False)"
   ]
  },
  {
   "cell_type": "code",
   "execution_count": 33,
   "id": "063b6bb1",
   "metadata": {},
   "outputs": [],
   "source": [
    "save_list_to_txt('newnewfailed_url.txt', failed_url)"
   ]
  },
  {
   "cell_type": "markdown",
   "id": "ad5f4226",
   "metadata": {},
   "source": [
    "# STOP"
   ]
  },
  {
   "cell_type": "code",
   "execution_count": 87,
   "id": "06efa33b",
   "metadata": {},
   "outputs": [],
   "source": [
    "failed_url = new_failed_url"
   ]
  },
  {
   "cell_type": "code",
   "execution_count": 88,
   "id": "d0002fad",
   "metadata": {},
   "outputs": [
    {
     "data": {
      "text/plain": [
       "2"
      ]
     },
     "execution_count": 88,
     "metadata": {},
     "output_type": "execute_result"
    }
   ],
   "source": [
    "len(failed_url)"
   ]
  },
  {
   "cell_type": "code",
   "execution_count": 89,
   "id": "c5cab9ef",
   "metadata": {},
   "outputs": [],
   "source": [
    "new_failed_url = []"
   ]
  },
  {
   "cell_type": "markdown",
   "id": "88573086",
   "metadata": {},
   "source": [
    "### Recipes 25-200"
   ]
  },
  {
   "cell_type": "code",
   "execution_count": 90,
   "id": "96880399",
   "metadata": {
    "scrolled": true
   },
   "outputs": [
    {
     "name": "stdout",
     "output_type": "stream",
     "text": [
      "Proxies loaded: ['4.234.52.159:8080', '4.159.24.156:8080', '20.26.186.150:8080']\n"
     ]
    },
    {
     "data": {
      "application/javascript": [
       "\n",
       "        if (window._pyforest_update_imports_cell) { window._pyforest_update_imports_cell('import re'); }\n",
       "    "
      ],
      "text/plain": [
       "<IPython.core.display.Javascript object>"
      ]
     },
     "metadata": {},
     "output_type": "display_data"
    },
    {
     "data": {
      "application/javascript": [
       "\n",
       "        if (window._pyforest_update_imports_cell) { window._pyforest_update_imports_cell('import re'); }\n",
       "    "
      ],
      "text/plain": [
       "<IPython.core.display.Javascript object>"
      ]
     },
     "metadata": {},
     "output_type": "display_data"
    },
    {
     "data": {
      "application/javascript": [
       "\n",
       "        if (window._pyforest_update_imports_cell) { window._pyforest_update_imports_cell('import re'); }\n",
       "    "
      ],
      "text/plain": [
       "<IPython.core.display.Javascript object>"
      ]
     },
     "metadata": {},
     "output_type": "display_data"
    },
    {
     "data": {
      "application/javascript": [
       "\n",
       "        if (window._pyforest_update_imports_cell) { window._pyforest_update_imports_cell('import re'); }\n",
       "    "
      ],
      "text/plain": [
       "<IPython.core.display.Javascript object>"
      ]
     },
     "metadata": {},
     "output_type": "display_data"
    },
    {
     "name": "stdout",
     "output_type": "stream",
     "text": [
      "Successfully retrieved 0 - https://www.halfbakedharvest.com/homemade-frosted-brown-sugar-cinnamon-pop-tarts/ with proxy 4.234.52.159:8080\n"
     ]
    },
    {
     "data": {
      "application/javascript": [
       "\n",
       "        if (window._pyforest_update_imports_cell) { window._pyforest_update_imports_cell('import re'); }\n",
       "    "
      ],
      "text/plain": [
       "<IPython.core.display.Javascript object>"
      ]
     },
     "metadata": {},
     "output_type": "display_data"
    },
    {
     "data": {
      "application/javascript": [
       "\n",
       "        if (window._pyforest_update_imports_cell) { window._pyforest_update_imports_cell('import re'); }\n",
       "    "
      ],
      "text/plain": [
       "<IPython.core.display.Javascript object>"
      ]
     },
     "metadata": {},
     "output_type": "display_data"
    },
    {
     "data": {
      "application/javascript": [
       "\n",
       "        if (window._pyforest_update_imports_cell) { window._pyforest_update_imports_cell('import re'); }\n",
       "    "
      ],
      "text/plain": [
       "<IPython.core.display.Javascript object>"
      ]
     },
     "metadata": {},
     "output_type": "display_data"
    },
    {
     "name": "stdout",
     "output_type": "stream",
     "text": [
      "Successfully retrieved 1 - https://www.halfbakedharvest.com/pumpkin-chai-snickerdoodles/ with proxy 4.159.24.156:8080\n"
     ]
    }
   ],
   "source": [
    "# Read proxies from the file and create a cycle iterator\n",
    "with open('proxies.txt', 'r') as f:\n",
    "    proxies = [line.strip() for line in f if line.strip()]\n",
    "\n",
    "# Check if proxies are being read correctly\n",
    "if not proxies:\n",
    "    print(\"No valid proxies found in proxies.txt\")\n",
    "else:\n",
    "    print(f\"Proxies loaded: {proxies}\")\n",
    "\n",
    "proxy_cycle = itertools.cycle(proxies)\n",
    "\n",
    "# Initialize an empty DataFrame to store results\n",
    "temp_recipes_2 = pd.DataFrame(columns=columns)\n",
    "title = []\n",
    "prep_time = []\n",
    "cook_time = []\n",
    "total_time = []\n",
    "\n",
    "ingredients_measurment = []\n",
    "ingredients = []\n",
    "instructions = []\n",
    "\n",
    "calories = []\n",
    "servings = []\n",
    "images = []\n",
    "\n",
    "# Loop over the desired number of pages\n",
    "for i in range(0, len(failed_url)):\n",
    "    proxy = next(proxy_cycle)\n",
    "\n",
    "    # Set up request with proxy\n",
    "    headers = {'User-Agent': 'Mozilla/5.0 (Windows NT 6.3; Win64; x64) AppleWebKit/537.36 (KHTML, like Gecko) Chrome/80.0.3987.162 Safari/537.36'}\n",
    "    url = failed_url[i]\n",
    "    proxy_dict = {'http': proxy, 'https': proxy}\n",
    "\n",
    "    try:\n",
    "        response = requests.get(url, headers=headers, proxies=proxy_dict, timeout=30)\n",
    "        \n",
    "        # Check if the request was successful\n",
    "        if response.status_code == 200:\n",
    "            soup = BeautifulSoup(response.content, 'html.parser')\n",
    "            extract(soup)\n",
    "            print(f\"Successfully retrieved {i} - {url} with proxy {proxy}\")\n",
    "        else:\n",
    "            new_failed_url.append(url)\n",
    "            print(f\"Failed to retrieve page {url} with proxy {proxy}. Status code: {response.status_code}\")\n",
    "    except (requests.ConnectionError, requests.Timeout) as e:\n",
    "        new_failed_url.append(url)\n",
    "        print(f\"Proxy {proxy} failed for {url}: {e}\")\n",
    "    except ChunkedEncodingError as e:  # Handle ChunkedEncodingError\n",
    "        new_failed_url.append(url)\n",
    "        print(f\"ChunkedEncodingError occurred for proxy {proxy} and {url}: {e}\")\n",
    "        continue  # Move to the next page\n",
    "\n",
    "\n",
    "\n",
    "\n",
    "temp_recipes_2['title'] = title\n",
    "temp_recipes_2['prep_time'] = prep_time\n",
    "temp_recipes_2['cook_time'] = cook_time\n",
    "temp_recipes_2['total_time'] = total_time\n",
    "temp_recipes_2['ingredients'] = ingredients\n",
    "temp_recipes_2['ingredients with measurement'] = ingredients_measurment\n",
    "temp_recipes_2['instructions'] = instructions\n",
    "temp_recipes_2['calories'] = calories\n",
    "temp_recipes_2['servings'] = servings\n",
    "temp_recipes_2['images']= images\n",
    "\n",
    "\n",
    "\n",
    "    "
   ]
  },
  {
   "cell_type": "code",
   "execution_count": 91,
   "id": "86fec35e",
   "metadata": {},
   "outputs": [
    {
     "name": "stdout",
     "output_type": "stream",
     "text": [
      "0\n"
     ]
    }
   ],
   "source": [
    "print(len(new_failed_url))"
   ]
  },
  {
   "cell_type": "code",
   "execution_count": 92,
   "id": "f7862ade",
   "metadata": {},
   "outputs": [
    {
     "data": {
      "text/plain": [
       "[]"
      ]
     },
     "execution_count": 92,
     "metadata": {},
     "output_type": "execute_result"
    }
   ],
   "source": [
    "new_failed_url"
   ]
  },
  {
   "cell_type": "code",
   "execution_count": 93,
   "id": "b867696d",
   "metadata": {},
   "outputs": [
    {
     "data": {
      "text/html": [
       "<div>\n",
       "<style scoped>\n",
       "    .dataframe tbody tr th:only-of-type {\n",
       "        vertical-align: middle;\n",
       "    }\n",
       "\n",
       "    .dataframe tbody tr th {\n",
       "        vertical-align: top;\n",
       "    }\n",
       "\n",
       "    .dataframe thead th {\n",
       "        text-align: right;\n",
       "    }\n",
       "</style>\n",
       "<table border=\"1\" class=\"dataframe\">\n",
       "  <thead>\n",
       "    <tr style=\"text-align: right;\">\n",
       "      <th></th>\n",
       "      <th>title</th>\n",
       "      <th>prep_time</th>\n",
       "      <th>cook_time</th>\n",
       "      <th>total_time</th>\n",
       "      <th>ingredients</th>\n",
       "      <th>ingredients with measurement</th>\n",
       "      <th>instructions</th>\n",
       "      <th>calories</th>\n",
       "      <th>servings</th>\n",
       "      <th>images</th>\n",
       "    </tr>\n",
       "  </thead>\n",
       "  <tbody>\n",
       "    <tr>\n",
       "      <th>0</th>\n",
       "      <td>Homemade Frosted Brown Sugar Cinnamon Pop Tarts</td>\n",
       "      <td>{'minutes': '30'}</td>\n",
       "      <td>{'minutes': '15'}</td>\n",
       "      <td>{'hours': '1', 'minutes': '45'}</td>\n",
       "      <td>[light brown sugar, all-purpose flour, ground ...</td>\n",
       "      <td>{'light brown sugar': '3/4', 'all-purpose flou...</td>\n",
       "      <td>[1. To make the filling. Combine all ingredien...</td>\n",
       "      <td>310 kcal</td>\n",
       "      <td>16</td>\n",
       "      <td>https://www.halfbakedharvest.com/wp-content/up...</td>\n",
       "    </tr>\n",
       "    <tr>\n",
       "      <th>1</th>\n",
       "      <td>Pumpkin Chai Snickerdoodles.</td>\n",
       "      <td>{'minutes': '15'}</td>\n",
       "      <td>{'minutes': '10'}</td>\n",
       "      <td>{'minutes': '25'}</td>\n",
       "      <td>[all-purpose, baking soda, kosher salt, nutmeg...</td>\n",
       "      <td>{'all-purpose': '2', 'baking soda': '1/2', 'ko...</td>\n",
       "      <td>[In a medium bowl, combine the flour, baking s...</td>\n",
       "      <td>76 kcal</td>\n",
       "      <td>24</td>\n",
       "      <td>https://www.halfbakedharvest.com/wp-content/up...</td>\n",
       "    </tr>\n",
       "  </tbody>\n",
       "</table>\n",
       "</div>"
      ],
      "text/plain": [
       "                                             title          prep_time  \\\n",
       "0  Homemade Frosted Brown Sugar Cinnamon Pop Tarts  {'minutes': '30'}   \n",
       "1                     Pumpkin Chai Snickerdoodles.  {'minutes': '15'}   \n",
       "\n",
       "           cook_time                       total_time  \\\n",
       "0  {'minutes': '15'}  {'hours': '1', 'minutes': '45'}   \n",
       "1  {'minutes': '10'}                {'minutes': '25'}   \n",
       "\n",
       "                                         ingredients  \\\n",
       "0  [light brown sugar, all-purpose flour, ground ...   \n",
       "1  [all-purpose, baking soda, kosher salt, nutmeg...   \n",
       "\n",
       "                        ingredients with measurement  \\\n",
       "0  {'light brown sugar': '3/4', 'all-purpose flou...   \n",
       "1  {'all-purpose': '2', 'baking soda': '1/2', 'ko...   \n",
       "\n",
       "                                        instructions  calories servings  \\\n",
       "0  [1. To make the filling. Combine all ingredien...  310 kcal       16   \n",
       "1  [In a medium bowl, combine the flour, baking s...   76 kcal       24   \n",
       "\n",
       "                                              images  \n",
       "0  https://www.halfbakedharvest.com/wp-content/up...  \n",
       "1  https://www.halfbakedharvest.com/wp-content/up...  "
      ]
     },
     "execution_count": 93,
     "metadata": {},
     "output_type": "execute_result"
    }
   ],
   "source": [
    "temp_recipes_2"
   ]
  },
  {
   "cell_type": "code",
   "execution_count": 94,
   "id": "f7df378c",
   "metadata": {},
   "outputs": [
    {
     "data": {
      "text/html": [
       "<div>\n",
       "<style scoped>\n",
       "    .dataframe tbody tr th:only-of-type {\n",
       "        vertical-align: middle;\n",
       "    }\n",
       "\n",
       "    .dataframe tbody tr th {\n",
       "        vertical-align: top;\n",
       "    }\n",
       "\n",
       "    .dataframe thead th {\n",
       "        text-align: right;\n",
       "    }\n",
       "</style>\n",
       "<table border=\"1\" class=\"dataframe\">\n",
       "  <thead>\n",
       "    <tr style=\"text-align: right;\">\n",
       "      <th></th>\n",
       "      <th>title</th>\n",
       "      <th>prep_time</th>\n",
       "      <th>cook_time</th>\n",
       "      <th>total_time</th>\n",
       "      <th>ingredients</th>\n",
       "      <th>ingredients with measurement</th>\n",
       "      <th>instructions</th>\n",
       "      <th>calories</th>\n",
       "      <th>servings</th>\n",
       "      <th>images</th>\n",
       "    </tr>\n",
       "  </thead>\n",
       "  <tbody>\n",
       "    <tr>\n",
       "      <th>0</th>\n",
       "      <td>Burnt Marshmallow Brown Sugar Maple Cookie Bars</td>\n",
       "      <td>{'minutes': '15'}</td>\n",
       "      <td>{'minutes': '30'}</td>\n",
       "      <td>{'minutes': '45'}</td>\n",
       "      <td>[salted butter, at room temperature, dark brow...</td>\n",
       "      <td>{'salted butter, at room temperature': '2', 'd...</td>\n",
       "      <td>[1. Add the butter to a skillet set over mediu...</td>\n",
       "      <td>372 kcal</td>\n",
       "      <td>16</td>\n",
       "      <td>https://www.halfbakedharvest.com/wp-content/up...</td>\n",
       "    </tr>\n",
       "    <tr>\n",
       "      <th>1</th>\n",
       "      <td>Chewy Chocolate Peanut Butter Bars</td>\n",
       "      <td>{'minutes': '10'}</td>\n",
       "      <td>{'minutes': '10'}</td>\n",
       "      <td>{'minutes': '50'}</td>\n",
       "      <td>[salted butter, organic corn flakes or brown r...</td>\n",
       "      <td>{'salted butter': '2', 'organic corn flakes or...</td>\n",
       "      <td>[1. Melt the butter in a large skillet over me...</td>\n",
       "      <td>284 kcal</td>\n",
       "      <td>24</td>\n",
       "      <td>https://www.halfbakedharvest.com/wp-content/up...</td>\n",
       "    </tr>\n",
       "    <tr>\n",
       "      <th>2</th>\n",
       "      <td>Easy Banana Cupcakes with Espresso Chocolate F...</td>\n",
       "      <td>{'minutes': '20'}</td>\n",
       "      <td>{'minutes': '25'}</td>\n",
       "      <td>{'minutes': '45'}</td>\n",
       "      <td>[medium overly ripe bananas, mashed, melted co...</td>\n",
       "      <td>{'medium overly ripe bananas, mashed': '4', 'm...</td>\n",
       "      <td>[1. Preheat oven to 350° F. Line cupcake molds...</td>\n",
       "      <td>230 kcal</td>\n",
       "      <td>15</td>\n",
       "      <td>https://www.halfbakedharvest.com/wp-content/up...</td>\n",
       "    </tr>\n",
       "    <tr>\n",
       "      <th>3</th>\n",
       "      <td>Salted Chocolate Peanut Butter Bars</td>\n",
       "      <td>{'minutes': '25'}</td>\n",
       "      <td>-</td>\n",
       "      <td>{'hours': '2', 'minutes': '25'}</td>\n",
       "      <td>[chocolate wafer cookies or Oreos without fill...</td>\n",
       "      <td>{'chocolate wafer cookies or Oreos without fil...</td>\n",
       "      <td>[1. Line a 9×9 inch baking dish with parchment...</td>\n",
       "      <td>444 kcal</td>\n",
       "      <td>16</td>\n",
       "      <td>https://www.halfbakedharvest.com/wp-content/up...</td>\n",
       "    </tr>\n",
       "    <tr>\n",
       "      <th>4</th>\n",
       "      <td>Easy Decked Out Christmas Tree Cookies</td>\n",
       "      <td>{'minutes': '30'}</td>\n",
       "      <td>{'minutes': '10'}</td>\n",
       "      <td>{'hours': '1', 'minutes': '10'}</td>\n",
       "      <td>[salted butter, at room temperature, brown sug...</td>\n",
       "      <td>{'salted butter, at room temperature': '1 1/2'...</td>\n",
       "      <td>[1. In a large mixing bowl, beat together the ...</td>\n",
       "      <td>263 kcal</td>\n",
       "      <td>15</td>\n",
       "      <td>https://www.halfbakedharvest.com/wp-content/up...</td>\n",
       "    </tr>\n",
       "    <tr>\n",
       "      <th>...</th>\n",
       "      <td>...</td>\n",
       "      <td>...</td>\n",
       "      <td>...</td>\n",
       "      <td>...</td>\n",
       "      <td>...</td>\n",
       "      <td>...</td>\n",
       "      <td>...</td>\n",
       "      <td>...</td>\n",
       "      <td>...</td>\n",
       "      <td>...</td>\n",
       "    </tr>\n",
       "    <tr>\n",
       "      <th>181</th>\n",
       "      <td>Chocolate Truffle Martini with Dulce de Leche ...</td>\n",
       "      <td>{'minutes': '15'}</td>\n",
       "      <td>{'minutes': '15'}</td>\n",
       "      <td>{'minutes': '30'}</td>\n",
       "      <td>[can sweetened condensed milk, dulce de leche,...</td>\n",
       "      <td>{'can sweetened condensed milk': '1', 'dulce d...</td>\n",
       "      <td>[]</td>\n",
       "      <td>378 kcal</td>\n",
       "      <td>18</td>\n",
       "      <td>https://www.halfbakedharvest.com/wp-content/up...</td>\n",
       "    </tr>\n",
       "    <tr>\n",
       "      <th>182</th>\n",
       "      <td>Double Stuffed Vanilla Key Lime Pie</td>\n",
       "      <td>{'minutes': '15'}</td>\n",
       "      <td>{'minutes': '20'}</td>\n",
       "      <td>{'hours': '1', 'minutes': '35'}</td>\n",
       "      <td>[graham cracker crumbs, ground cinnamon, salte...</td>\n",
       "      <td>{'graham cracker crumbs': '2', 'ground cinnamo...</td>\n",
       "      <td>[1. Preheat the oven to 350 degrees F., 2. In ...</td>\n",
       "      <td>562 kcal</td>\n",
       "      <td>8</td>\n",
       "      <td>https://www.halfbakedharvest.com/wp-content/up...</td>\n",
       "    </tr>\n",
       "    <tr>\n",
       "      <th>183</th>\n",
       "      <td>5 Ingredient Chocolate Dipped Peanut Butter Co...</td>\n",
       "      <td>{'minutes': '15'}</td>\n",
       "      <td>{'minutes': '10'}</td>\n",
       "      <td>{'minutes': '25'}</td>\n",
       "      <td>[creamy peanut butter or almond butter, pitted...</td>\n",
       "      <td>{'creamy peanut butter or almond butter': '1',...</td>\n",
       "      <td>[1. Preheat the oven to 350 degrees F. Line a ...</td>\n",
       "      <td>156 kcal</td>\n",
       "      <td>15</td>\n",
       "      <td>https://www.halfbakedharvest.com/wp-content/up...</td>\n",
       "    </tr>\n",
       "    <tr>\n",
       "      <th>184</th>\n",
       "      <td>Homemade Frosted Brown Sugar Cinnamon Pop Tarts</td>\n",
       "      <td>{'minutes': '30'}</td>\n",
       "      <td>{'minutes': '15'}</td>\n",
       "      <td>{'hours': '1', 'minutes': '45'}</td>\n",
       "      <td>[light brown sugar, all-purpose flour, ground ...</td>\n",
       "      <td>{'light brown sugar': '3/4', 'all-purpose flou...</td>\n",
       "      <td>[1. To make the filling. Combine all ingredien...</td>\n",
       "      <td>310 kcal</td>\n",
       "      <td>16</td>\n",
       "      <td>https://www.halfbakedharvest.com/wp-content/up...</td>\n",
       "    </tr>\n",
       "    <tr>\n",
       "      <th>185</th>\n",
       "      <td>Pumpkin Chai Snickerdoodles.</td>\n",
       "      <td>{'minutes': '15'}</td>\n",
       "      <td>{'minutes': '10'}</td>\n",
       "      <td>{'minutes': '25'}</td>\n",
       "      <td>[all-purpose, baking soda, kosher salt, nutmeg...</td>\n",
       "      <td>{'all-purpose': '2', 'baking soda': '1/2', 'ko...</td>\n",
       "      <td>[In a medium bowl, combine the flour, baking s...</td>\n",
       "      <td>76 kcal</td>\n",
       "      <td>24</td>\n",
       "      <td>https://www.halfbakedharvest.com/wp-content/up...</td>\n",
       "    </tr>\n",
       "  </tbody>\n",
       "</table>\n",
       "<p>186 rows × 10 columns</p>\n",
       "</div>"
      ],
      "text/plain": [
       "                                                 title          prep_time  \\\n",
       "0      Burnt Marshmallow Brown Sugar Maple Cookie Bars  {'minutes': '15'}   \n",
       "1                   Chewy Chocolate Peanut Butter Bars  {'minutes': '10'}   \n",
       "2    Easy Banana Cupcakes with Espresso Chocolate F...  {'minutes': '20'}   \n",
       "3                  Salted Chocolate Peanut Butter Bars  {'minutes': '25'}   \n",
       "4               Easy Decked Out Christmas Tree Cookies  {'minutes': '30'}   \n",
       "..                                                 ...                ...   \n",
       "181  Chocolate Truffle Martini with Dulce de Leche ...  {'minutes': '15'}   \n",
       "182                Double Stuffed Vanilla Key Lime Pie  {'minutes': '15'}   \n",
       "183  5 Ingredient Chocolate Dipped Peanut Butter Co...  {'minutes': '15'}   \n",
       "184    Homemade Frosted Brown Sugar Cinnamon Pop Tarts  {'minutes': '30'}   \n",
       "185                       Pumpkin Chai Snickerdoodles.  {'minutes': '15'}   \n",
       "\n",
       "             cook_time                       total_time  \\\n",
       "0    {'minutes': '30'}                {'minutes': '45'}   \n",
       "1    {'minutes': '10'}                {'minutes': '50'}   \n",
       "2    {'minutes': '25'}                {'minutes': '45'}   \n",
       "3                    -  {'hours': '2', 'minutes': '25'}   \n",
       "4    {'minutes': '10'}  {'hours': '1', 'minutes': '10'}   \n",
       "..                 ...                              ...   \n",
       "181  {'minutes': '15'}                {'minutes': '30'}   \n",
       "182  {'minutes': '20'}  {'hours': '1', 'minutes': '35'}   \n",
       "183  {'minutes': '10'}                {'minutes': '25'}   \n",
       "184  {'minutes': '15'}  {'hours': '1', 'minutes': '45'}   \n",
       "185  {'minutes': '10'}                {'minutes': '25'}   \n",
       "\n",
       "                                           ingredients  \\\n",
       "0    [salted butter, at room temperature, dark brow...   \n",
       "1    [salted butter, organic corn flakes or brown r...   \n",
       "2    [medium overly ripe bananas, mashed, melted co...   \n",
       "3    [chocolate wafer cookies or Oreos without fill...   \n",
       "4    [salted butter, at room temperature, brown sug...   \n",
       "..                                                 ...   \n",
       "181  [can sweetened condensed milk, dulce de leche,...   \n",
       "182  [graham cracker crumbs, ground cinnamon, salte...   \n",
       "183  [creamy peanut butter or almond butter, pitted...   \n",
       "184  [light brown sugar, all-purpose flour, ground ...   \n",
       "185  [all-purpose, baking soda, kosher salt, nutmeg...   \n",
       "\n",
       "                          ingredients with measurement  \\\n",
       "0    {'salted butter, at room temperature': '2', 'd...   \n",
       "1    {'salted butter': '2', 'organic corn flakes or...   \n",
       "2    {'medium overly ripe bananas, mashed': '4', 'm...   \n",
       "3    {'chocolate wafer cookies or Oreos without fil...   \n",
       "4    {'salted butter, at room temperature': '1 1/2'...   \n",
       "..                                                 ...   \n",
       "181  {'can sweetened condensed milk': '1', 'dulce d...   \n",
       "182  {'graham cracker crumbs': '2', 'ground cinnamo...   \n",
       "183  {'creamy peanut butter or almond butter': '1',...   \n",
       "184  {'light brown sugar': '3/4', 'all-purpose flou...   \n",
       "185  {'all-purpose': '2', 'baking soda': '1/2', 'ko...   \n",
       "\n",
       "                                          instructions  calories servings  \\\n",
       "0    [1. Add the butter to a skillet set over mediu...  372 kcal       16   \n",
       "1    [1. Melt the butter in a large skillet over me...  284 kcal       24   \n",
       "2    [1. Preheat oven to 350° F. Line cupcake molds...  230 kcal       15   \n",
       "3    [1. Line a 9×9 inch baking dish with parchment...  444 kcal       16   \n",
       "4    [1. In a large mixing bowl, beat together the ...  263 kcal       15   \n",
       "..                                                 ...       ...      ...   \n",
       "181                                                 []  378 kcal       18   \n",
       "182  [1. Preheat the oven to 350 degrees F., 2. In ...  562 kcal        8   \n",
       "183  [1. Preheat the oven to 350 degrees F. Line a ...  156 kcal       15   \n",
       "184  [1. To make the filling. Combine all ingredien...  310 kcal       16   \n",
       "185  [In a medium bowl, combine the flour, baking s...   76 kcal       24   \n",
       "\n",
       "                                                images  \n",
       "0    https://www.halfbakedharvest.com/wp-content/up...  \n",
       "1    https://www.halfbakedharvest.com/wp-content/up...  \n",
       "2    https://www.halfbakedharvest.com/wp-content/up...  \n",
       "3    https://www.halfbakedharvest.com/wp-content/up...  \n",
       "4    https://www.halfbakedharvest.com/wp-content/up...  \n",
       "..                                                 ...  \n",
       "181  https://www.halfbakedharvest.com/wp-content/up...  \n",
       "182  https://www.halfbakedharvest.com/wp-content/up...  \n",
       "183  https://www.halfbakedharvest.com/wp-content/up...  \n",
       "184  https://www.halfbakedharvest.com/wp-content/up...  \n",
       "185  https://www.halfbakedharvest.com/wp-content/up...  \n",
       "\n",
       "[186 rows x 10 columns]"
      ]
     },
     "execution_count": 94,
     "metadata": {},
     "output_type": "execute_result"
    }
   ],
   "source": [
    "final = pd.concat([final, temp_recipes_2], ignore_index=True)\n",
    "final"
   ]
  },
  {
   "cell_type": "code",
   "execution_count": null,
   "id": "08e31e99",
   "metadata": {},
   "outputs": [],
   "source": []
  },
  {
   "cell_type": "code",
   "execution_count": null,
   "id": "cd510138",
   "metadata": {},
   "outputs": [],
   "source": []
  },
  {
   "cell_type": "code",
   "execution_count": null,
   "id": "1d89d69b",
   "metadata": {},
   "outputs": [],
   "source": []
  },
  {
   "cell_type": "code",
   "execution_count": null,
   "id": "a047bc29",
   "metadata": {},
   "outputs": [],
   "source": []
  },
  {
   "cell_type": "code",
   "execution_count": null,
   "id": "4aa264ae",
   "metadata": {},
   "outputs": [],
   "source": []
  },
  {
   "cell_type": "code",
   "execution_count": 95,
   "id": "751db088",
   "metadata": {},
   "outputs": [],
   "source": [
    "def save_list_to_txt(filename, data_list):\n",
    "    \"\"\"\n",
    "    Save a list of strings to a text file, one item per line.\n",
    "    \n",
    "    :param filename: The name of the file to save the list to.\n",
    "    :param data_list: The list of strings to save.\n",
    "    \"\"\"\n",
    "    with open(filename, 'w') as f:\n",
    "        for item in data_list:\n",
    "            f.write(f\"{item}\\n\")"
   ]
  },
  {
   "cell_type": "code",
   "execution_count": 96,
   "id": "7da183ed",
   "metadata": {},
   "outputs": [],
   "source": [
    "# save_list_to_txt('failed_urls_till201.txt', failed_url)\n",
    "final.to_csv('failed_desserts_186.csv', index=False)"
   ]
  },
  {
   "cell_type": "code",
   "execution_count": null,
   "id": "6b4517a6",
   "metadata": {},
   "outputs": [],
   "source": []
  },
  {
   "cell_type": "code",
   "execution_count": null,
   "id": "584b8a40",
   "metadata": {},
   "outputs": [],
   "source": []
  },
  {
   "cell_type": "code",
   "execution_count": null,
   "id": "54dd8922",
   "metadata": {},
   "outputs": [],
   "source": []
  },
  {
   "cell_type": "code",
   "execution_count": null,
   "id": "793ea025",
   "metadata": {},
   "outputs": [],
   "source": []
  },
  {
   "cell_type": "code",
   "execution_count": null,
   "id": "d368577a",
   "metadata": {},
   "outputs": [],
   "source": []
  },
  {
   "cell_type": "code",
   "execution_count": null,
   "id": "65f477dc",
   "metadata": {},
   "outputs": [],
   "source": []
  },
  {
   "cell_type": "code",
   "execution_count": null,
   "id": "d9a3a0b2",
   "metadata": {},
   "outputs": [],
   "source": []
  },
  {
   "cell_type": "code",
   "execution_count": null,
   "id": "9ffe78f4",
   "metadata": {},
   "outputs": [],
   "source": []
  },
  {
   "cell_type": "code",
   "execution_count": null,
   "id": "8c80385b",
   "metadata": {},
   "outputs": [],
   "source": []
  },
  {
   "cell_type": "code",
   "execution_count": null,
   "id": "b86d43b3",
   "metadata": {},
   "outputs": [],
   "source": []
  },
  {
   "cell_type": "code",
   "execution_count": null,
   "id": "f3bd71a8",
   "metadata": {},
   "outputs": [],
   "source": []
  },
  {
   "cell_type": "markdown",
   "id": "b6e401ee",
   "metadata": {},
   "source": [
    "### Recipes 201-500"
   ]
  },
  {
   "cell_type": "code",
   "execution_count": null,
   "id": "c01c6671",
   "metadata": {
    "scrolled": true
   },
   "outputs": [],
   "source": [
    "# Read proxies from the file and create a cycle iterator\n",
    "with open('proxies.txt', 'r') as f:\n",
    "    proxies = [line.strip() for line in f if line.strip()]\n",
    "\n",
    "# Check if proxies are being read correctly\n",
    "if not proxies:\n",
    "    print(\"No valid proxies found in proxies.txt\")\n",
    "else:\n",
    "    print(f\"Proxies loaded: {proxies}\")\n",
    "\n",
    "proxy_cycle = itertools.cycle(proxies)\n",
    "\n",
    "# Initialize an empty DataFrame to store results\n",
    "temp_recipes_3 = pd.DataFrame(columns=columns)\n",
    "title = []\n",
    "prep_time = []\n",
    "cook_time = []\n",
    "total_time = []\n",
    "\n",
    "ingredients_measurment = []\n",
    "ingredients = []\n",
    "instructions = []\n",
    "\n",
    "calories = []\n",
    "servings = []\n",
    "images = []\n",
    "\n",
    "# Loop over the desired number of pages\n",
    "for i in range(201, 501):\n",
    "    proxy = next(proxy_cycle)\n",
    "\n",
    "    # Set up request with proxy\n",
    "    headers = {'User-Agent': 'Mozilla/5.0 (Windows NT 6.3; Win64; x64) AppleWebKit/537.36 (KHTML, like Gecko) Chrome/80.0.3987.162 Safari/537.36'}\n",
    "    url = all_recipes_url[i]\n",
    "    proxy_dict = {'http': proxy, 'https': proxy}\n",
    "\n",
    "    try:\n",
    "        response = requests.get(url, headers=headers, proxies=proxy_dict, timeout=30)\n",
    "        \n",
    "        # Check if the request was successful\n",
    "        if response.status_code == 200:\n",
    "            soup = BeautifulSoup(response.content, 'html.parser')\n",
    "            extract(soup)\n",
    "            print(f\"Successfully retrieved {i} - {url} with proxy {proxy}\")\n",
    "        else:\n",
    "            failed_url.append(url)\n",
    "            print(f\"Failed to retrieve page {url} with proxy {proxy}. Status code: {response.status_code}\")\n",
    "    except (requests.ConnectionError, requests.Timeout) as e:\n",
    "        failed_url.append(url)\n",
    "        print(f\"Proxy {proxy} failed for {url}: {e}\")\n",
    "    except ChunkedEncodingError as e:  # Handle ChunkedEncodingError\n",
    "        failed_url.append(url)\n",
    "        print(f\"ChunkedEncodingError occurred for proxy {proxy} and {url}: {e}\")\n",
    "        continue  # Move to the next page\n",
    "\n",
    "\n",
    "\n",
    "temp_recipes_3['title'] = title\n",
    "temp_recipes_3['prep_time'] = prep_time\n",
    "temp_recipes_3['cook_time'] = cook_time\n",
    "temp_recipes_3['total_time'] = total_time\n",
    "temp_recipes_3['ingredients'] = ingredients\n",
    "temp_recipes_3['ingredients with measurement'] = ingredients_measurment\n",
    "temp_recipes_3['instructions'] = instructions\n",
    "temp_recipes_3['calories'] = calories\n",
    "temp_recipes_3['servings'] = servings\n",
    "temp_recipes_3['images']= images\n",
    "\n",
    "\n",
    "\n",
    "    "
   ]
  },
  {
   "cell_type": "code",
   "execution_count": null,
   "id": "fbfb2603",
   "metadata": {},
   "outputs": [],
   "source": [
    "len(failed_url)"
   ]
  },
  {
   "cell_type": "code",
   "execution_count": null,
   "id": "1decf1ab",
   "metadata": {},
   "outputs": [],
   "source": [
    "temp_recipes_3"
   ]
  },
  {
   "cell_type": "code",
   "execution_count": null,
   "id": "5e699a3a",
   "metadata": {},
   "outputs": [],
   "source": [
    "final = pd.concat([final, temp_recipes_3], ignore_index=True)\n",
    "final"
   ]
  },
  {
   "cell_type": "code",
   "execution_count": null,
   "id": "f1aaeecb",
   "metadata": {},
   "outputs": [],
   "source": [
    "def save_list_to_txt(filename, data_list):\n",
    "    \"\"\"\n",
    "    Save a list of strings to a text file, one item per line.\n",
    "    \n",
    "    :param filename: The name of the file to save the list to.\n",
    "    :param data_list: The list of strings to save.\n",
    "    \"\"\"\n",
    "    with open(filename, 'w') as f:\n",
    "        for item in data_list:\n",
    "            f.write(f\"{item}\\n\")"
   ]
  },
  {
   "cell_type": "code",
   "execution_count": null,
   "id": "5fd1ee0e",
   "metadata": {},
   "outputs": [],
   "source": [
    "save_list_to_txt('failed_urls_till501.txt', failed_url)\n",
    "final.to_csv('desserts_201_501.csv', index=False)"
   ]
  },
  {
   "cell_type": "code",
   "execution_count": null,
   "id": "f2e767bb",
   "metadata": {},
   "outputs": [],
   "source": []
  },
  {
   "cell_type": "code",
   "execution_count": null,
   "id": "382f90d1",
   "metadata": {},
   "outputs": [],
   "source": []
  },
  {
   "cell_type": "code",
   "execution_count": null,
   "id": "76e81e61",
   "metadata": {},
   "outputs": [],
   "source": []
  },
  {
   "cell_type": "code",
   "execution_count": null,
   "id": "df03c5d3",
   "metadata": {},
   "outputs": [],
   "source": []
  },
  {
   "cell_type": "code",
   "execution_count": null,
   "id": "1e10152e",
   "metadata": {},
   "outputs": [],
   "source": []
  },
  {
   "cell_type": "code",
   "execution_count": null,
   "id": "f73e7e1b",
   "metadata": {},
   "outputs": [],
   "source": []
  },
  {
   "cell_type": "code",
   "execution_count": null,
   "id": "109578be",
   "metadata": {},
   "outputs": [],
   "source": []
  },
  {
   "cell_type": "code",
   "execution_count": null,
   "id": "1d416d69",
   "metadata": {},
   "outputs": [],
   "source": []
  },
  {
   "cell_type": "code",
   "execution_count": null,
   "id": "ae4b1919",
   "metadata": {},
   "outputs": [],
   "source": []
  },
  {
   "cell_type": "code",
   "execution_count": null,
   "id": "11fd3c4e",
   "metadata": {},
   "outputs": [],
   "source": []
  },
  {
   "cell_type": "code",
   "execution_count": null,
   "id": "9df36c54",
   "metadata": {},
   "outputs": [],
   "source": []
  },
  {
   "cell_type": "code",
   "execution_count": null,
   "id": "bf6c7112",
   "metadata": {},
   "outputs": [],
   "source": []
  },
  {
   "cell_type": "markdown",
   "id": "c2c25062",
   "metadata": {},
   "source": [
    "### Recipes 501-800"
   ]
  },
  {
   "cell_type": "code",
   "execution_count": null,
   "id": "bf153261",
   "metadata": {
    "scrolled": true
   },
   "outputs": [],
   "source": [
    "# Read proxies from the file and create a cycle iterator\n",
    "with open('proxies.txt', 'r') as f:\n",
    "    proxies = [line.strip() for line in f if line.strip()]\n",
    "\n",
    "# Check if proxies are being read correctly\n",
    "if not proxies:\n",
    "    print(\"No valid proxies found in proxies.txt\")\n",
    "else:\n",
    "    print(f\"Proxies loaded: {proxies}\")\n",
    "\n",
    "proxy_cycle = itertools.cycle(proxies)\n",
    "\n",
    "# Initialize an empty DataFrame to store results\n",
    "temp_recipes_4 = pd.DataFrame(columns=columns)\n",
    "title = []\n",
    "prep_time = []\n",
    "cook_time = []\n",
    "total_time = []\n",
    "\n",
    "ingredients_measurment = []\n",
    "ingredients = []\n",
    "instructions = []\n",
    "\n",
    "calories = []\n",
    "servings = []\n",
    "images = []\n",
    "\n",
    "# Loop over the desired number of pages\n",
    "for i in range(501, 792):\n",
    "    proxy = next(proxy_cycle)\n",
    "\n",
    "    # Set up request with proxy\n",
    "    headers = {'User-Agent': 'Mozilla/5.0 (Windows NT 6.3; Win64; x64) AppleWebKit/537.36 (KHTML, like Gecko) Chrome/80.0.3987.162 Safari/537.36'}\n",
    "    url = all_recipes_url[i]\n",
    "    proxy_dict = {'http': proxy, 'https': proxy}\n",
    "\n",
    "    try:\n",
    "        response = requests.get(url, headers=headers, proxies=proxy_dict, timeout=30)\n",
    "        \n",
    "        # Check if the request was successful\n",
    "        if response.status_code == 200:\n",
    "            soup = BeautifulSoup(response.content, 'html.parser')\n",
    "            extract(soup)\n",
    "            print(f\"Successfully retrieved {i} - {url} with proxy {proxy}\")\n",
    "        else:\n",
    "            failed_url.append(url)\n",
    "            print(f\"Failed to retrieve page {url} with proxy {proxy}. Status code: {response.status_code}\")\n",
    "    except (requests.ConnectionError, requests.Timeout) as e:\n",
    "        failed_url.append(url)\n",
    "        print(f\"Proxy {proxy} failed for {url}: {e}\")\n",
    "    except ChunkedEncodingError as e:  # Handle ChunkedEncodingError\n",
    "        failed_url.append(url)\n",
    "        print(f\"ChunkedEncodingError occurred for proxy {proxy} and {url}: {e}\")\n",
    "        continue  # Move to the next page\n",
    "\n",
    "\n",
    "\n",
    "temp_recipes_4['title'] = title\n",
    "temp_recipes_4['prep_time'] = prep_time\n",
    "temp_recipes_4['cook_time'] = cook_time\n",
    "temp_recipes_4['total_time'] = total_time\n",
    "temp_recipes_4['ingredients'] = ingredients\n",
    "temp_recipes_4['ingredients with measurement'] = ingredients_measurment\n",
    "temp_recipes_4['instructions'] = instructions\n",
    "temp_recipes_4['calories'] = calories\n",
    "temp_recipes_4['servings'] = servings\n",
    "temp_recipes_4['images']= images\n",
    "\n",
    "\n",
    "\n",
    "    "
   ]
  },
  {
   "cell_type": "code",
   "execution_count": null,
   "id": "3ee03d80",
   "metadata": {},
   "outputs": [],
   "source": [
    "len(failed_url)"
   ]
  },
  {
   "cell_type": "code",
   "execution_count": null,
   "id": "2600aa35",
   "metadata": {},
   "outputs": [],
   "source": [
    "temp_recipes_4"
   ]
  },
  {
   "cell_type": "code",
   "execution_count": null,
   "id": "15b8297f",
   "metadata": {},
   "outputs": [],
   "source": [
    "final = pd.concat([final, temp_recipes_4], ignore_index=True)\n",
    "final"
   ]
  },
  {
   "cell_type": "code",
   "execution_count": null,
   "id": "866bb7b8",
   "metadata": {},
   "outputs": [],
   "source": [
    "save_list_to_txt('all_urls.txt', all_recipes_url)\n",
    "save_list_to_txt('failed_urls_till500.txt', failed_url)\n",
    "final2.to_csv('recipes_501_800.csv', index=False)"
   ]
  },
  {
   "cell_type": "code",
   "execution_count": null,
   "id": "5124a2ae",
   "metadata": {},
   "outputs": [],
   "source": []
  },
  {
   "cell_type": "code",
   "execution_count": null,
   "id": "a353e6c1",
   "metadata": {},
   "outputs": [],
   "source": []
  },
  {
   "cell_type": "code",
   "execution_count": null,
   "id": "0ad8b628",
   "metadata": {},
   "outputs": [],
   "source": []
  },
  {
   "cell_type": "code",
   "execution_count": null,
   "id": "4380119e",
   "metadata": {},
   "outputs": [],
   "source": [
    "urls2 = []\n",
    "\n",
    "with open('all_urls.txt', 'r') as file:\n",
    "    for line in file:\n",
    "        urls2.append(line.strip())\n",
    "\n",
    "print(urls2)"
   ]
  },
  {
   "cell_type": "code",
   "execution_count": null,
   "id": "3f3ba63d",
   "metadata": {},
   "outputs": [],
   "source": [
    "failed_url = []"
   ]
  },
  {
   "cell_type": "markdown",
   "id": "cad1c608",
   "metadata": {},
   "source": [
    "### Recipes 801-1001"
   ]
  },
  {
   "cell_type": "code",
   "execution_count": null,
   "id": "4c995dc5",
   "metadata": {
    "scrolled": true
   },
   "outputs": [],
   "source": [
    "# Read proxies from the file and create a cycle iterator\n",
    "with open('proxies.txt', 'r') as f:\n",
    "    proxies = [line.strip() for line in f if line.strip()]\n",
    "\n",
    "# Check if proxies are being read correctly\n",
    "if not proxies:\n",
    "    print(\"No valid proxies found in proxies.txt\")\n",
    "else:\n",
    "    print(f\"Proxies loaded: {proxies}\")\n",
    "\n",
    "proxy_cycle = itertools.cycle(proxies)\n",
    "\n",
    "# Initialize an empty DataFrame to store results\n",
    "temp_recipes_5 = pd.DataFrame(columns=columns)\n",
    "title = []\n",
    "prep_time = []\n",
    "cook_time = []\n",
    "total_time = []\n",
    "\n",
    "ingredients_measurment = []\n",
    "ingredients = []\n",
    "instructions = []\n",
    "\n",
    "calories = []\n",
    "servings = []\n",
    "images = []\n",
    "\n",
    "# Loop over the desired number of pages\n",
    "for i in range(801, 1001):\n",
    "    proxy = next(proxy_cycle)\n",
    "\n",
    "    # Set up request with proxy\n",
    "    headers = {'User-Agent': 'Mozilla/5.0 (Windows NT 6.3; Win64; x64) AppleWebKit/537.36 (KHTML, like Gecko) Chrome/80.0.3987.162 Safari/537.36'}\n",
    "    url = urls2[i]\n",
    "    proxy_dict = {'http': proxy, 'https': proxy}\n",
    "\n",
    "    try:\n",
    "        response = requests.get(url, headers=headers, proxies=proxy_dict, timeout=30)\n",
    "        \n",
    "        # Check if the request was successful\n",
    "        if response.status_code == 200:\n",
    "            soup = BeautifulSoup(response.content, 'html.parser')\n",
    "            extract(soup)\n",
    "            print(f\"Successfully retrieved {i} - {url} with proxy {proxy}\")\n",
    "        else:\n",
    "            failed_url.append(url)\n",
    "            print(f\"Failed to retrieve page {url} with proxy {proxy}. Status code: {response.status_code}\")\n",
    "    except (requests.ConnectionError, requests.Timeout) as e:\n",
    "        failed_url.append(url)\n",
    "        print(f\"Proxy {proxy} failed for {url}: {e}\")\n",
    "    except ChunkedEncodingError as e:  # Handle ChunkedEncodingError\n",
    "        failed_url.append(url)\n",
    "        print(f\"ChunkedEncodingError occurred for proxy {proxy} and {url}: {e}\")\n",
    "        continue  # Move to the next page\n",
    "\n",
    "\n",
    "\n",
    "temp_recipes_5['title'] = title\n",
    "temp_recipes_5['prep_time'] = prep_time\n",
    "temp_recipes_5['cook_time'] = cook_time\n",
    "temp_recipes_5['total_time'] = total_time\n",
    "temp_recipes_5['ingredients'] = ingredients\n",
    "temp_recipes_5['ingredients with measurement'] = ingredients_measurment\n",
    "temp_recipes_5['instructions'] = instructions\n",
    "temp_recipes_5['calories'] = calories\n",
    "temp_recipes_5['servings'] = servings\n",
    "temp_recipes_5['images']= images\n",
    "\n",
    "\n",
    "\n",
    "    "
   ]
  },
  {
   "cell_type": "code",
   "execution_count": null,
   "id": "90f1e496",
   "metadata": {},
   "outputs": [],
   "source": []
  },
  {
   "cell_type": "code",
   "execution_count": null,
   "id": "bbc61ddc",
   "metadata": {},
   "outputs": [],
   "source": [
    "final3 = pd.DataFrame(columns=columns)\n",
    "final3"
   ]
  },
  {
   "cell_type": "code",
   "execution_count": null,
   "id": "9418d2e5",
   "metadata": {},
   "outputs": [],
   "source": [
    "len(failed_url)"
   ]
  },
  {
   "cell_type": "code",
   "execution_count": null,
   "id": "0a31ba5e",
   "metadata": {},
   "outputs": [],
   "source": [
    "temp_recipes_5"
   ]
  },
  {
   "cell_type": "code",
   "execution_count": null,
   "id": "676eed53",
   "metadata": {},
   "outputs": [],
   "source": [
    "final3 = pd.concat([final3, temp_recipes_5], ignore_index=True)\n",
    "final3"
   ]
  },
  {
   "cell_type": "code",
   "execution_count": null,
   "id": "a6bd2510",
   "metadata": {},
   "outputs": [],
   "source": [
    "# Read proxies from the file and create a cycle iterator\n",
    "with open('proxies.txt', 'r') as f:\n",
    "    proxies = [line.strip() for line in f if line.strip()]\n",
    "\n",
    "# Check if proxies are being read correctly\n",
    "if not proxies:\n",
    "    print(\"No valid proxies found in proxies.txt\")\n",
    "else:\n",
    "    print(f\"Proxies loaded: {proxies}\")\n",
    "\n",
    "proxy_cycle = itertools.cycle(proxies)\n",
    "\n",
    "# Initialize an empty DataFrame to store results\n",
    "temp_recipes_6 = pd.DataFrame(columns=columns)\n",
    "title = []\n",
    "prep_time = []\n",
    "cook_time = []\n",
    "total_time = []\n",
    "\n",
    "ingredients_measurment = []\n",
    "ingredients = []\n",
    "instructions = []\n",
    "\n",
    "calories = []\n",
    "servings = []\n",
    "images = []\n",
    "\n",
    "# Loop over the desired number of pages\n",
    "for i in range(1001, 1401):\n",
    "    proxy = next(proxy_cycle)\n",
    "\n",
    "    # Set up request with proxy\n",
    "    headers = {'User-Agent': 'Mozilla/5.0 (Windows NT 6.3; Win64; x64) AppleWebKit/537.36 (KHTML, like Gecko) Chrome/80.0.3987.162 Safari/537.36'}\n",
    "    url = urls2[i]\n",
    "    proxy_dict = {'http': proxy, 'https': proxy}\n",
    "\n",
    "    try:\n",
    "        response = requests.get(url, headers=headers, proxies=proxy_dict, timeout=30)\n",
    "        \n",
    "        # Check if the request was successful\n",
    "        if response.status_code == 200:\n",
    "            soup = BeautifulSoup(response.content, 'html.parser')\n",
    "            extract(soup)\n",
    "            print(f\"Successfully retrieved {i} - {url} with proxy {proxy}\")\n",
    "        else:\n",
    "            failed_url.append(url)\n",
    "            print(f\"Failed to retrieve page {url} with proxy {proxy}. Status code: {response.status_code}\")\n",
    "    except (requests.ConnectionError, requests.Timeout) as e:\n",
    "        failed_url.append(url)\n",
    "        print(f\"Proxy {proxy} failed for {url}: {e}\")\n",
    "    except ChunkedEncodingError as e:  # Handle ChunkedEncodingError\n",
    "        failed_url.append(url)\n",
    "        print(f\"ChunkedEncodingError occurred for proxy {proxy} and {url}: {e}\")\n",
    "        continue  # Move to the next page\n",
    "\n",
    "\n",
    "\n",
    "temp_recipes_6['title'] = title\n",
    "temp_recipes_6['prep_time'] = prep_time\n",
    "temp_recipes_6['cook_time'] = cook_time\n",
    "temp_recipes_6['total_time'] = total_time\n",
    "temp_recipes_6['ingredients'] = ingredients\n",
    "temp_recipes_6['ingredients with measurement'] = ingredients_measurment\n",
    "temp_recipes_6['instructions'] = instructions\n",
    "temp_recipes_6['calories'] = calories\n",
    "temp_recipes_6['servings'] = servings\n",
    "temp_recipes_6['images']= images\n",
    "\n",
    "\n",
    "\n",
    "    "
   ]
  },
  {
   "cell_type": "code",
   "execution_count": null,
   "id": "7a5cdb65",
   "metadata": {},
   "outputs": [],
   "source": [
    "len(failed_url)"
   ]
  },
  {
   "cell_type": "code",
   "execution_count": null,
   "id": "a23c55c6",
   "metadata": {},
   "outputs": [],
   "source": [
    "temp_recipes_6"
   ]
  },
  {
   "cell_type": "code",
   "execution_count": null,
   "id": "dd24a144",
   "metadata": {},
   "outputs": [],
   "source": [
    "final3 = pd.concat([final3, temp_recipes_6], ignore_index=True)\n",
    "final3"
   ]
  },
  {
   "cell_type": "code",
   "execution_count": null,
   "id": "82f16ddb",
   "metadata": {},
   "outputs": [],
   "source": []
  },
  {
   "cell_type": "code",
   "execution_count": null,
   "id": "8937c767",
   "metadata": {},
   "outputs": [],
   "source": []
  },
  {
   "cell_type": "code",
   "execution_count": null,
   "id": "ec75a1fb",
   "metadata": {},
   "outputs": [],
   "source": []
  },
  {
   "cell_type": "code",
   "execution_count": null,
   "id": "6859b2d4",
   "metadata": {},
   "outputs": [],
   "source": []
  },
  {
   "cell_type": "code",
   "execution_count": null,
   "id": "518412b0",
   "metadata": {},
   "outputs": [],
   "source": []
  },
  {
   "cell_type": "code",
   "execution_count": null,
   "id": "2ede269f",
   "metadata": {},
   "outputs": [],
   "source": []
  },
  {
   "cell_type": "code",
   "execution_count": null,
   "id": "5d657072",
   "metadata": {},
   "outputs": [],
   "source": []
  },
  {
   "cell_type": "code",
   "execution_count": null,
   "id": "502adb25",
   "metadata": {},
   "outputs": [],
   "source": [
    "# Read proxies from the file and create a cycle iterator\n",
    "with open('proxies.txt', 'r') as f:\n",
    "    proxies = [line.strip() for line in f if line.strip()]\n",
    "\n",
    "# Check if proxies are being read correctly\n",
    "if not proxies:\n",
    "    print(\"No valid proxies found in proxies.txt\")\n",
    "else:\n",
    "    print(f\"Proxies loaded: {proxies}\")\n",
    "\n",
    "proxy_cycle = itertools.cycle(proxies)\n",
    "\n",
    "# Initialize an empty DataFrame to store results\n",
    "temp_recipes_7 = pd.DataFrame(columns=columns)\n",
    "title = []\n",
    "prep_time = []\n",
    "cook_time = []\n",
    "total_time = []\n",
    "\n",
    "ingredients_measurment = []\n",
    "ingredients = []\n",
    "instructions = []\n",
    "\n",
    "calories = []\n",
    "servings = []\n",
    "images = []\n",
    "\n",
    "# Loop over the desired number of pages\n",
    "for i in range(1401, 1607):\n",
    "    proxy = next(proxy_cycle)\n",
    "\n",
    "    # Set up request with proxy\n",
    "    headers = {'User-Agent': 'Mozilla/5.0 (Windows NT 6.3; Win64; x64) AppleWebKit/537.36 (KHTML, like Gecko) Chrome/80.0.3987.162 Safari/537.36'}\n",
    "    url = urls2[i]\n",
    "    proxy_dict = {'http': proxy, 'https': proxy}\n",
    "\n",
    "    try:\n",
    "        response = requests.get(url, headers=headers, proxies=proxy_dict, timeout=30)\n",
    "        \n",
    "        # Check if the request was successful\n",
    "        if response.status_code == 200:\n",
    "            soup = BeautifulSoup(response.content, 'html.parser')\n",
    "            extract(soup)\n",
    "            print(f\"Successfully retrieved {i} - {url} with proxy {proxy}\")\n",
    "        else:\n",
    "            failed_url.append(url)\n",
    "            print(f\"Failed to retrieve page {url} with proxy {proxy}. Status code: {response.status_code}\")\n",
    "    except (requests.ConnectionError, requests.Timeout) as e:\n",
    "        failed_url.append(url)\n",
    "        print(f\"Proxy {proxy} failed for {url}: {e}\")\n",
    "    except ChunkedEncodingError as e:  # Handle ChunkedEncodingError\n",
    "        failed_url.append(url)\n",
    "        print(f\"ChunkedEncodingError occurred for proxy {proxy} and {url}: {e}\")\n",
    "        continue  # Move to the next page\n",
    "\n",
    "\n",
    "\n",
    "temp_recipes_7['title'] = title\n",
    "temp_recipes_7['prep_time'] = prep_time\n",
    "temp_recipes_7['cook_time'] = cook_time\n",
    "temp_recipes_7['total_time'] = total_time\n",
    "temp_recipes_7['ingredients'] = ingredients\n",
    "temp_recipes_7['ingredients with measurement'] = ingredients_measurment\n",
    "temp_recipes_7['instructions'] = instructions\n",
    "temp_recipes_7['calories'] = calories\n",
    "temp_recipes_7['servings'] = servings\n",
    "temp_recipes_7['images']= images\n",
    "\n",
    "\n",
    "\n",
    "    "
   ]
  },
  {
   "cell_type": "code",
   "execution_count": null,
   "id": "74d0eb6d",
   "metadata": {},
   "outputs": [],
   "source": [
    "len(failed_url)"
   ]
  },
  {
   "cell_type": "code",
   "execution_count": null,
   "id": "61ece967",
   "metadata": {},
   "outputs": [],
   "source": [
    "temp_recipes_7"
   ]
  },
  {
   "cell_type": "code",
   "execution_count": null,
   "id": "1e642971",
   "metadata": {},
   "outputs": [],
   "source": []
  }
 ],
 "metadata": {
  "kernelspec": {
   "display_name": "Python 3 (ipykernel)",
   "language": "python",
   "name": "python3"
  },
  "language_info": {
   "codemirror_mode": {
    "name": "ipython",
    "version": 3
   },
   "file_extension": ".py",
   "mimetype": "text/x-python",
   "name": "python",
   "nbconvert_exporter": "python",
   "pygments_lexer": "ipython3",
   "version": "3.9.8"
  }
 },
 "nbformat": 4,
 "nbformat_minor": 5
}
