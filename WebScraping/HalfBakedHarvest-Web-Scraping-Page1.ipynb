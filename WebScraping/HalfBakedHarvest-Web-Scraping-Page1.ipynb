{
 "cells": [
  {
   "cell_type": "code",
   "execution_count": 1,
   "id": "54307e6a",
   "metadata": {},
   "outputs": [],
   "source": [
    "import pandas as pd\n",
    "import requests\n",
    "import itertools\n",
    "from bs4 import BeautifulSoup"
   ]
  },
  {
   "cell_type": "markdown",
   "id": "6ea6669a",
   "metadata": {},
   "source": [
    "# Trial Proxies"
   ]
  },
  {
   "cell_type": "code",
   "execution_count": 2,
   "id": "fb00b914",
   "metadata": {},
   "outputs": [
    {
     "name": "stdout",
     "output_type": "stream",
     "text": [
      "Proxies loaded: ['172.183.241.1:8080', '185.108.226.143:80']\n",
      "Using proxy: 172.183.241.1:8080 for page 1\n",
      "Successfully retrieved page 1 with proxy 172.183.241.1:8080\n",
      "Using proxy: 185.108.226.143:80 for page 2\n",
      "Proxy 185.108.226.143:80 failed for page 2: HTTPSConnectionPool(host='www.halfbakedharvest.com', port=443): Max retries exceeded with url: /category/recipes/type-of-meal/main-course/page/2/ (Caused by ProxyError('Unable to connect to proxy', ConnectTimeoutError(<urllib3.connection.HTTPSConnection object at 0x125a96370>, 'Connection to 185.108.226.143 timed out. (connect timeout=30)')))\n",
      "Using proxy: 172.183.241.1:8080 for page 3\n",
      "Successfully retrieved page 3 with proxy 172.183.241.1:8080\n",
      "Using proxy: 185.108.226.143:80 for page 4\n",
      "Proxy 185.108.226.143:80 failed for page 4: HTTPSConnectionPool(host='www.halfbakedharvest.com', port=443): Max retries exceeded with url: /category/recipes/type-of-meal/main-course/page/4/ (Caused by ProxyError('Unable to connect to proxy', ConnectTimeoutError(<urllib3.connection.HTTPSConnection object at 0x125bb0250>, 'Connection to 185.108.226.143 timed out. (connect timeout=30)')))\n"
     ]
    }
   ],
   "source": [
    "import requests\n",
    "from bs4 import BeautifulSoup\n",
    "import pandas as pd\n",
    "import itertools\n",
    "from requests.exceptions import ChunkedEncodingError\n",
    "\n",
    "# Read proxies from the file and create a cycle iterator\n",
    "with open('proxies.txt', 'r') as f:\n",
    "    proxies = [line.strip() for line in f if line.strip()]\n",
    "\n",
    "# Check if proxies are being read correctly\n",
    "if not proxies:\n",
    "    print(\"No valid proxies found in proxies.txt\")\n",
    "else:\n",
    "    print(f\"Proxies loaded: {proxies}\")\n",
    "\n",
    "proxy_cycle = itertools.cycle(proxies)\n",
    "\n",
    "# Initialize an empty DataFrame to store results\n",
    "df = pd.DataFrame()\n",
    "\n",
    "# Loop over the desired number of pages\n",
    "for page_num in range(1, 5):\n",
    "    proxy = next(proxy_cycle)\n",
    "    print(f\"Using proxy: {proxy} for page {page_num}\")\n",
    "\n",
    "    # Set up request with proxy\n",
    "    headers = {'User-Agent': 'Mozilla/5.0 (Windows NT 6.3; Win64; x64) AppleWebKit/537.36 (KHTML, like Gecko) Chrome/80.0.3987.162 Safari/537.36'}\n",
    "    url = f'https://www.halfbakedharvest.com/category/recipes/type-of-meal/main-course/page/{page_num}/'\n",
    "    proxy_dict = {'http': proxy, 'https': proxy}\n",
    "\n",
    "    try:\n",
    "        response = requests.get(url, headers=headers, proxies=proxy_dict, timeout=30)\n",
    "\n",
    "        # Check if the request was successful\n",
    "        if response.status_code == 200:\n",
    "            soup = BeautifulSoup(response.content, 'html.parser')\n",
    "            print(f\"Successfully retrieved page {page_num} with proxy {proxy}\")\n",
    "        else:\n",
    "            print(f\"Failed to retrieve page {page_num} with proxy {proxy}. Status code: {response.status_code}\")\n",
    "    except (requests.ConnectionError, requests.Timeout) as e:\n",
    "        print(f\"Proxy {proxy} failed for page {page_num}: {e}\")\n",
    "    except ChunkedEncodingError as e:\n",
    "        print(f\"ChunkedEncodingError occurred for proxy {proxy} and page {page_num}: {e}\")\n",
    "        continue\n",
    "\n",
    "\n"
   ]
  },
  {
   "cell_type": "markdown",
   "id": "5e653a9c",
   "metadata": {},
   "source": [
    "# Extraction of Page 2"
   ]
  },
  {
   "cell_type": "code",
   "execution_count": 5,
   "id": "7ccb12e9",
   "metadata": {},
   "outputs": [
    {
     "name": "stdout",
     "output_type": "stream",
     "text": [
      "Successfully retrieved page 2 with proxy 172.183.241.1:8080\n"
     ]
    }
   ],
   "source": [
    "proxy = '172.183.241.1:8080'\n",
    "proxy_dict = {'http': proxy, 'https': proxy}\n",
    "\n",
    "\n",
    "headers = {'User-Agent': 'Mozilla/5.0 (Macintosh; Intel Mac OS X 10_15_7) AppleWebKit/605.1.15 (KHTML, like Gecko) Version/15.2 Safari/605.1.15'}\n",
    "url = f'https://www.halfbakedharvest.com/category/recipes/type-of-meal/main-course/page/2/'\n",
    "\n",
    "webpage = requests.get(url, headers=headers, proxies=proxy_dict, timeout=5)\n",
    "if webpage.status_code == 200:\n",
    "    print(f\"Successfully retrieved page 2 with proxy {proxy}\")\n",
    "else:\n",
    "    print(f\"Failed to retrieve page 2 with proxy {proxy}. Status code: {webpage.status_code}\")"
   ]
  },
  {
   "cell_type": "code",
   "execution_count": 6,
   "id": "20c0fb5f",
   "metadata": {},
   "outputs": [],
   "source": [
    "webpage = webpage.text"
   ]
  },
  {
   "cell_type": "code",
   "execution_count": 7,
   "id": "d4aaf1a9",
   "metadata": {},
   "outputs": [],
   "source": [
    "soup = BeautifulSoup(webpage, 'lxml')"
   ]
  },
  {
   "cell_type": "code",
   "execution_count": null,
   "id": "b1a6cdc2",
   "metadata": {},
   "outputs": [],
   "source": [
    "print(soup.prettify())"
   ]
  },
  {
   "cell_type": "code",
   "execution_count": 10,
   "id": "e72f8a37",
   "metadata": {},
   "outputs": [
    {
     "data": {
      "text/plain": [
       "[<article class=\"post-summary primary\"><div class=\"post-summary__image\"><a aria-hidden=\"true\" href=\"https://www.halfbakedharvest.com/garlic-butter-baked-salmon/\" tabindex=\"-1\"><img alt=\"Creamy Garlic Butter Baked Salmon | halfbakedharvest.com\" class=\"attachment-feature size-feature wp-image-162752\" data-perfmatters-preload=\"\" decoding=\"async\" fetchpriority=\"high\" height=\"510\" sizes=\"(max-width: 340px) 100vw, 340px\" src=\"https://www.halfbakedharvest.com/wp-content/uploads/2024/04/Creamy-Garlic-Butter-Baked-Salmon-1-340x510.jpg\" srcset=\"https://www.halfbakedharvest.com/wp-content/uploads/2024/04/Creamy-Garlic-Butter-Baked-Salmon-1-340x510.jpg 340w, https://www.halfbakedharvest.com/wp-content/uploads/2024/04/Creamy-Garlic-Butter-Baked-Salmon-1-350x525.jpg 350w, https://www.halfbakedharvest.com/wp-content/uploads/2024/04/Creamy-Garlic-Butter-Baked-Salmon-1-700x1050.jpg 700w, https://www.halfbakedharvest.com/wp-content/uploads/2024/04/Creamy-Garlic-Butter-Baked-Salmon-1-768x1152.jpg 768w, https://www.halfbakedharvest.com/wp-content/uploads/2024/04/Creamy-Garlic-Butter-Baked-Salmon-1-1024x1536.jpg 1024w, https://www.halfbakedharvest.com/wp-content/uploads/2024/04/Creamy-Garlic-Butter-Baked-Salmon-1-680x1020.jpg 680w, https://www.halfbakedharvest.com/wp-content/uploads/2024/04/Creamy-Garlic-Butter-Baked-Salmon-1-150x225.jpg 150w, https://www.halfbakedharvest.com/wp-content/uploads/2024/04/Creamy-Garlic-Butter-Baked-Salmon-1.jpg 1200w\" width=\"340\"/></a></div> <!-- .post-summary__image --><p class=\"post-summary__recipe-save-link\"><a class=\"\" href=\"https://www.halfbakedharvest.com/register/\">Save Recipe</a></p><div class=\"post-summary__content\"><p class=\"entry-category\"><a href=\"https://www.halfbakedharvest.com/category/recipes/\">Recipes</a></p><p class=\"entry-date\"><a href=\"https://www.halfbakedharvest.com/2024/04/\">April 8, 2024</a></p><h2 class=\"post-summary__title\"><a href=\"https://www.halfbakedharvest.com/garlic-butter-baked-salmon/\">Creamy Garlic Butter Baked Salmon.</a></h2></div> <!-- .post-summary__content --></article>,\n",
       " <article class=\"post-summary primary\"><div class=\"post-summary__image\"><a aria-hidden=\"true\" href=\"https://www.halfbakedharvest.com/pineapple-adobo-chicken-skewers/\" tabindex=\"-1\"><img alt=\"Pineapple Adobo Chicken Skewers | halfbakedharvest.com\" class=\"attachment-feature size-feature wp-image-162615\" data-perfmatters-preload=\"\" decoding=\"async\" height=\"510\" sizes=\"(max-width: 340px) 100vw, 340px\" src=\"https://www.halfbakedharvest.com/wp-content/uploads/2024/04/Pineapple-Adobo-Chicken-Skewers-1-340x510.jpg\" srcset=\"https://www.halfbakedharvest.com/wp-content/uploads/2024/04/Pineapple-Adobo-Chicken-Skewers-1-340x510.jpg 340w, https://www.halfbakedharvest.com/wp-content/uploads/2024/04/Pineapple-Adobo-Chicken-Skewers-1-350x525.jpg 350w, https://www.halfbakedharvest.com/wp-content/uploads/2024/04/Pineapple-Adobo-Chicken-Skewers-1-700x1050.jpg 700w, https://www.halfbakedharvest.com/wp-content/uploads/2024/04/Pineapple-Adobo-Chicken-Skewers-1-768x1152.jpg 768w, https://www.halfbakedharvest.com/wp-content/uploads/2024/04/Pineapple-Adobo-Chicken-Skewers-1-1024x1536.jpg 1024w, https://www.halfbakedharvest.com/wp-content/uploads/2024/04/Pineapple-Adobo-Chicken-Skewers-1-680x1020.jpg 680w, https://www.halfbakedharvest.com/wp-content/uploads/2024/04/Pineapple-Adobo-Chicken-Skewers-1-150x225.jpg 150w, https://www.halfbakedharvest.com/wp-content/uploads/2024/04/Pineapple-Adobo-Chicken-Skewers-1.jpg 1200w\" width=\"340\"/></a></div> <!-- .post-summary__image --><p class=\"post-summary__recipe-save-link\"><a class=\"\" href=\"https://www.halfbakedharvest.com/register/\">Save Recipe</a></p><div class=\"post-summary__content\"><p class=\"entry-category\"><a href=\"https://www.halfbakedharvest.com/category/recipes/\">Recipes</a></p><p class=\"entry-date\"><a href=\"https://www.halfbakedharvest.com/2024/04/\">April 4, 2024</a></p><h2 class=\"post-summary__title\"><a href=\"https://www.halfbakedharvest.com/pineapple-adobo-chicken-skewers/\">Pineapple Adobo Chicken Skewers.</a></h2></div> <!-- .post-summary__content --></article>,\n",
       " <article class=\"post-summary primary\"><div class=\"post-summary__image\"><a aria-hidden=\"true\" href=\"https://www.halfbakedharvest.com/marry-me-chicken-meatballs/\" tabindex=\"-1\"><img alt=\"Marry Me Chicken Meatballs | halfbakedharvest.com\" class=\"attachment-feature size-feature wp-image-162587\" decoding=\"async\" fetchpriority=\"high\" height=\"510\" sizes=\"(max-width: 340px) 100vw, 340px\" src=\"https://www.halfbakedharvest.com/wp-content/uploads/2024/04/Marry-Me-Chicken-Meatballs-1-340x510.jpg\" srcset=\"https://www.halfbakedharvest.com/wp-content/uploads/2024/04/Marry-Me-Chicken-Meatballs-1-340x510.jpg 340w, https://www.halfbakedharvest.com/wp-content/uploads/2024/04/Marry-Me-Chicken-Meatballs-1-350x525.jpg 350w, https://www.halfbakedharvest.com/wp-content/uploads/2024/04/Marry-Me-Chicken-Meatballs-1-700x1050.jpg 700w, https://www.halfbakedharvest.com/wp-content/uploads/2024/04/Marry-Me-Chicken-Meatballs-1-768x1152.jpg 768w, https://www.halfbakedharvest.com/wp-content/uploads/2024/04/Marry-Me-Chicken-Meatballs-1-1024x1536.jpg 1024w, https://www.halfbakedharvest.com/wp-content/uploads/2024/04/Marry-Me-Chicken-Meatballs-1-680x1020.jpg 680w, https://www.halfbakedharvest.com/wp-content/uploads/2024/04/Marry-Me-Chicken-Meatballs-1-150x225.jpg 150w, https://www.halfbakedharvest.com/wp-content/uploads/2024/04/Marry-Me-Chicken-Meatballs-1.jpg 1200w\" width=\"340\"/></a></div> <!-- .post-summary__image --><p class=\"post-summary__recipe-save-link\"><a class=\"\" href=\"https://www.halfbakedharvest.com/register/\">Save Recipe</a></p><div class=\"post-summary__content\"><p class=\"entry-category\"><a href=\"https://www.halfbakedharvest.com/category/recipes/\">Recipes</a></p><p class=\"entry-date\"><a href=\"https://www.halfbakedharvest.com/2024/04/\">April 3, 2024</a></p><h2 class=\"post-summary__title\"><a href=\"https://www.halfbakedharvest.com/marry-me-chicken-meatballs/\">Marry Me Chicken Meatballs.</a></h2></div> <!-- .post-summary__content --></article>,\n",
       " <article class=\"post-summary primary\"><div class=\"post-summary__image\"><a aria-hidden=\"true\" href=\"https://www.halfbakedharvest.com/ginger-cashew-beef/\" tabindex=\"-1\"><img alt=\"\" class=\"attachment-feature size-feature wp-image-162550\" decoding=\"async\" height=\"510\" sizes=\"(max-width: 340px) 100vw, 340px\" src=\"https://www.halfbakedharvest.com/wp-content/uploads/2024/04/20-Minute-Ginger-Cashew-Beef-1-340x510.jpg\" srcset=\"https://www.halfbakedharvest.com/wp-content/uploads/2024/04/20-Minute-Ginger-Cashew-Beef-1-340x510.jpg 340w, https://www.halfbakedharvest.com/wp-content/uploads/2024/04/20-Minute-Ginger-Cashew-Beef-1-350x525.jpg 350w, https://www.halfbakedharvest.com/wp-content/uploads/2024/04/20-Minute-Ginger-Cashew-Beef-1-700x1050.jpg 700w, https://www.halfbakedharvest.com/wp-content/uploads/2024/04/20-Minute-Ginger-Cashew-Beef-1-768x1152.jpg 768w, https://www.halfbakedharvest.com/wp-content/uploads/2024/04/20-Minute-Ginger-Cashew-Beef-1-1024x1536.jpg 1024w, https://www.halfbakedharvest.com/wp-content/uploads/2024/04/20-Minute-Ginger-Cashew-Beef-1-680x1020.jpg 680w, https://www.halfbakedharvest.com/wp-content/uploads/2024/04/20-Minute-Ginger-Cashew-Beef-1-150x225.jpg 150w, https://www.halfbakedharvest.com/wp-content/uploads/2024/04/20-Minute-Ginger-Cashew-Beef-1.jpg 1200w\" width=\"340\"/></a></div> <!-- .post-summary__image --><p class=\"post-summary__recipe-save-link\"><a class=\"\" href=\"https://www.halfbakedharvest.com/register/\">Save Recipe</a></p><div class=\"post-summary__content\"><p class=\"entry-category\"><a href=\"https://www.halfbakedharvest.com/category/recipes/\">Recipes</a></p><p class=\"entry-date\"><a href=\"https://www.halfbakedharvest.com/2024/04/\">April 2, 2024</a></p><h2 class=\"post-summary__title\"><a href=\"https://www.halfbakedharvest.com/ginger-cashew-beef/\">20 Minute Ginger Cashew Beef.</a></h2></div> <!-- .post-summary__content --></article>,\n",
       " <article class=\"post-summary primary\"><div class=\"post-summary__image\"><a aria-hidden=\"true\" href=\"https://www.halfbakedharvest.com/lemon-butter-orzo-carbonara/\" tabindex=\"-1\"><img alt=\"20 Minute Lemon Butter Orzo Carbonara | halfbakedharvest.com\" class=\"attachment-feature size-feature wp-image-162494\" decoding=\"async\" height=\"510\" sizes=\"(max-width: 340px) 100vw, 340px\" src=\"https://www.halfbakedharvest.com/wp-content/uploads/2024/04/20-Minute-Lemon-Butter-Orzo-Carbonara-1-340x510.jpg\" srcset=\"https://www.halfbakedharvest.com/wp-content/uploads/2024/04/20-Minute-Lemon-Butter-Orzo-Carbonara-1-340x510.jpg 340w, https://www.halfbakedharvest.com/wp-content/uploads/2024/04/20-Minute-Lemon-Butter-Orzo-Carbonara-1-350x525.jpg 350w, https://www.halfbakedharvest.com/wp-content/uploads/2024/04/20-Minute-Lemon-Butter-Orzo-Carbonara-1-700x1050.jpg 700w, https://www.halfbakedharvest.com/wp-content/uploads/2024/04/20-Minute-Lemon-Butter-Orzo-Carbonara-1-768x1152.jpg 768w, https://www.halfbakedharvest.com/wp-content/uploads/2024/04/20-Minute-Lemon-Butter-Orzo-Carbonara-1-1024x1536.jpg 1024w, https://www.halfbakedharvest.com/wp-content/uploads/2024/04/20-Minute-Lemon-Butter-Orzo-Carbonara-1-680x1020.jpg 680w, https://www.halfbakedharvest.com/wp-content/uploads/2024/04/20-Minute-Lemon-Butter-Orzo-Carbonara-1-150x225.jpg 150w, https://www.halfbakedharvest.com/wp-content/uploads/2024/04/20-Minute-Lemon-Butter-Orzo-Carbonara-1.jpg 1200w\" width=\"340\"/></a></div> <!-- .post-summary__image --><p class=\"post-summary__recipe-save-link\"><a class=\"\" href=\"https://www.halfbakedharvest.com/register/\">Save Recipe</a></p><div class=\"post-summary__content\"><p class=\"entry-category\"><a href=\"https://www.halfbakedharvest.com/category/recipes/\">Recipes</a></p><p class=\"entry-date\"><a href=\"https://www.halfbakedharvest.com/2024/04/\">April 1, 2024</a></p><h2 class=\"post-summary__title\"><a href=\"https://www.halfbakedharvest.com/lemon-butter-orzo-carbonara/\">20 Minute Lemon Butter Orzo Carbonara.</a></h2></div> <!-- .post-summary__content --></article>,\n",
       " <article class=\"post-summary primary\"><div class=\"post-summary__image\"><a aria-hidden=\"true\" href=\"https://www.halfbakedharvest.com/avocado-bacon-chicken-salad/\" tabindex=\"-1\"><img alt=\"Avocado Bacon Chicken Salad with Jalapeño Honey Mustard | halfbakedharvest.com\" class=\"attachment-feature size-feature wp-image-162434\" decoding=\"async\" height=\"510\" sizes=\"(max-width: 340px) 100vw, 340px\" src=\"https://www.halfbakedharvest.com/wp-content/uploads/2024/03/Avocado-Bacon-Chicken-Salad-with-Jalapeno-Honey-Mustard-1-340x510.jpg\" srcset=\"https://www.halfbakedharvest.com/wp-content/uploads/2024/03/Avocado-Bacon-Chicken-Salad-with-Jalapeno-Honey-Mustard-1-340x510.jpg 340w, https://www.halfbakedharvest.com/wp-content/uploads/2024/03/Avocado-Bacon-Chicken-Salad-with-Jalapeno-Honey-Mustard-1-350x525.jpg 350w, https://www.halfbakedharvest.com/wp-content/uploads/2024/03/Avocado-Bacon-Chicken-Salad-with-Jalapeno-Honey-Mustard-1-700x1050.jpg 700w, https://www.halfbakedharvest.com/wp-content/uploads/2024/03/Avocado-Bacon-Chicken-Salad-with-Jalapeno-Honey-Mustard-1-768x1152.jpg 768w, https://www.halfbakedharvest.com/wp-content/uploads/2024/03/Avocado-Bacon-Chicken-Salad-with-Jalapeno-Honey-Mustard-1-1024x1536.jpg 1024w, https://www.halfbakedharvest.com/wp-content/uploads/2024/03/Avocado-Bacon-Chicken-Salad-with-Jalapeno-Honey-Mustard-1-680x1020.jpg 680w, https://www.halfbakedharvest.com/wp-content/uploads/2024/03/Avocado-Bacon-Chicken-Salad-with-Jalapeno-Honey-Mustard-1-150x225.jpg 150w, https://www.halfbakedharvest.com/wp-content/uploads/2024/03/Avocado-Bacon-Chicken-Salad-with-Jalapeno-Honey-Mustard-1.jpg 1200w\" width=\"340\"/></a></div> <!-- .post-summary__image --><p class=\"post-summary__recipe-save-link\"><a class=\"\" href=\"https://www.halfbakedharvest.com/register/\">Save Recipe</a></p><div class=\"post-summary__content\"><p class=\"entry-category\"><a href=\"https://www.halfbakedharvest.com/category/recipes/\">Recipes</a></p><p class=\"entry-date\"><a href=\"https://www.halfbakedharvest.com/2024/03/\">March 28, 2024</a></p><h2 class=\"post-summary__title\"><a href=\"https://www.halfbakedharvest.com/avocado-bacon-chicken-salad/\">Avocado Bacon Chicken Salad with Jalapeño Honey Mustard.</a></h2></div> <!-- .post-summary__content --></article>,\n",
       " <article class=\"post-summary primary\"><div class=\"post-summary__image\"><a aria-hidden=\"true\" href=\"https://www.halfbakedharvest.com/italian-chop-pasta-salad/\" tabindex=\"-1\"><img alt=\"Italian Chop Pasta Salad | halfbakedharvest.com\" class=\"attachment-feature size-feature wp-image-162400\" decoding=\"async\" height=\"510\" sizes=\"(max-width: 340px) 100vw, 340px\" src=\"https://www.halfbakedharvest.com/wp-content/uploads/2024/03/Italian-Chop-Pasta-Salad-1-340x510.jpg\" srcset=\"https://www.halfbakedharvest.com/wp-content/uploads/2024/03/Italian-Chop-Pasta-Salad-1-340x510.jpg 340w, https://www.halfbakedharvest.com/wp-content/uploads/2024/03/Italian-Chop-Pasta-Salad-1-350x525.jpg 350w, https://www.halfbakedharvest.com/wp-content/uploads/2024/03/Italian-Chop-Pasta-Salad-1-700x1050.jpg 700w, https://www.halfbakedharvest.com/wp-content/uploads/2024/03/Italian-Chop-Pasta-Salad-1-768x1152.jpg 768w, https://www.halfbakedharvest.com/wp-content/uploads/2024/03/Italian-Chop-Pasta-Salad-1-1024x1536.jpg 1024w, https://www.halfbakedharvest.com/wp-content/uploads/2024/03/Italian-Chop-Pasta-Salad-1-scaled.jpg 1200w, https://www.halfbakedharvest.com/wp-content/uploads/2024/03/Italian-Chop-Pasta-Salad-1-680x1020.jpg 680w, https://www.halfbakedharvest.com/wp-content/uploads/2024/03/Italian-Chop-Pasta-Salad-1-150x225.jpg 150w\" width=\"340\"/></a></div> <!-- .post-summary__image --><p class=\"post-summary__recipe-save-link\"><a class=\"\" href=\"https://www.halfbakedharvest.com/register/\">Save Recipe</a></p><div class=\"post-summary__content\"><p class=\"entry-category\"><a href=\"https://www.halfbakedharvest.com/category/recipes/\">Recipes</a></p><p class=\"entry-date\"><a href=\"https://www.halfbakedharvest.com/2024/03/\">March 27, 2024</a></p><h2 class=\"post-summary__title\"><a href=\"https://www.halfbakedharvest.com/italian-chop-pasta-salad/\">Italian Chop Pasta Salad.</a></h2></div> <!-- .post-summary__content --></article>,\n",
       " <article class=\"post-summary primary\"><div class=\"post-summary__image\"><a aria-hidden=\"true\" href=\"https://www.halfbakedharvest.com/the-50-most-popular-easter-recipes/\" tabindex=\"-1\"><img alt=\"Salty Pretzel Banana Pudding Ice Cream Cake Cake | halfbakedharvest.com\" class=\"attachment-feature size-feature wp-image-145779\" decoding=\"async\" height=\"510\" sizes=\"(max-width: 340px) 100vw, 340px\" src=\"https://www.halfbakedharvest.com/wp-content/uploads/2023/04/Salty-Pretzel-Banana-Pudding-Ice-Cream-Cake-Cake-1-340x510.jpg\" srcset=\"https://www.halfbakedharvest.com/wp-content/uploads/2023/04/Salty-Pretzel-Banana-Pudding-Ice-Cream-Cake-Cake-1-340x510.jpg 340w, https://www.halfbakedharvest.com/wp-content/uploads/2023/04/Salty-Pretzel-Banana-Pudding-Ice-Cream-Cake-Cake-1-350x525.jpg 350w, https://www.halfbakedharvest.com/wp-content/uploads/2023/04/Salty-Pretzel-Banana-Pudding-Ice-Cream-Cake-Cake-1-700x1050.jpg 700w, https://www.halfbakedharvest.com/wp-content/uploads/2023/04/Salty-Pretzel-Banana-Pudding-Ice-Cream-Cake-Cake-1-768x1152.jpg 768w, https://www.halfbakedharvest.com/wp-content/uploads/2023/04/Salty-Pretzel-Banana-Pudding-Ice-Cream-Cake-Cake-1-1024x1536.jpg 1024w, https://www.halfbakedharvest.com/wp-content/uploads/2023/04/Salty-Pretzel-Banana-Pudding-Ice-Cream-Cake-Cake-1-680x1020.jpg 680w, https://www.halfbakedharvest.com/wp-content/uploads/2023/04/Salty-Pretzel-Banana-Pudding-Ice-Cream-Cake-Cake-1-150x225.jpg 150w, https://www.halfbakedharvest.com/wp-content/uploads/2023/04/Salty-Pretzel-Banana-Pudding-Ice-Cream-Cake-Cake-1.jpg 1200w\" width=\"340\"/></a></div> <!-- .post-summary__image --><p class=\"post-summary__recipe-save-link\"><a class=\"\" href=\"https://www.halfbakedharvest.com/register/\">Save Recipe</a></p><div class=\"post-summary__content\"><p class=\"entry-category\"><a href=\"https://www.halfbakedharvest.com/category/recipes/\">Recipes</a></p><p class=\"entry-date\"><a href=\"https://www.halfbakedharvest.com/2024/03/\">March 22, 2024</a></p><h2 class=\"post-summary__title\"><a href=\"https://www.halfbakedharvest.com/the-50-most-popular-easter-recipes/\">The 50 Most Popular Easter Recipes.</a></h2></div> <!-- .post-summary__content --></article>,\n",
       " <article class=\"post-summary primary\"><div class=\"post-summary__image\"><a aria-hidden=\"true\" href=\"https://www.halfbakedharvest.com/baked-honey-balsamic-chicken/\" tabindex=\"-1\"><img alt=\"Baked Honey Balsamic Chicken | halfbakedharvest.com\" class=\"attachment-feature size-feature wp-image-162201\" decoding=\"async\" height=\"510\" sizes=\"(max-width: 340px) 100vw, 340px\" src=\"https://www.halfbakedharvest.com/wp-content/uploads/2024/03/Baked-Honey-Balsamic-Chicken-1-340x510.jpg\" srcset=\"https://www.halfbakedharvest.com/wp-content/uploads/2024/03/Baked-Honey-Balsamic-Chicken-1-340x510.jpg 340w, https://www.halfbakedharvest.com/wp-content/uploads/2024/03/Baked-Honey-Balsamic-Chicken-1-350x525.jpg 350w, https://www.halfbakedharvest.com/wp-content/uploads/2024/03/Baked-Honey-Balsamic-Chicken-1-700x1050.jpg 700w, https://www.halfbakedharvest.com/wp-content/uploads/2024/03/Baked-Honey-Balsamic-Chicken-1-768x1152.jpg 768w, https://www.halfbakedharvest.com/wp-content/uploads/2024/03/Baked-Honey-Balsamic-Chicken-1-1024x1536.jpg 1024w, https://www.halfbakedharvest.com/wp-content/uploads/2024/03/Baked-Honey-Balsamic-Chicken-1-680x1020.jpg 680w, https://www.halfbakedharvest.com/wp-content/uploads/2024/03/Baked-Honey-Balsamic-Chicken-1-150x225.jpg 150w, https://www.halfbakedharvest.com/wp-content/uploads/2024/03/Baked-Honey-Balsamic-Chicken-1.jpg 1200w\" width=\"340\"/></a></div> <!-- .post-summary__image --><p class=\"post-summary__recipe-save-link\"><a class=\"\" href=\"https://www.halfbakedharvest.com/register/\">Save Recipe</a></p><div class=\"post-summary__content\"><p class=\"entry-category\"><a href=\"https://www.halfbakedharvest.com/category/recipes/\">Recipes</a></p><p class=\"entry-date\"><a href=\"https://www.halfbakedharvest.com/2024/03/\">March 21, 2024</a></p><h2 class=\"post-summary__title\"><a href=\"https://www.halfbakedharvest.com/baked-honey-balsamic-chicken/\">Baked Honey Balsamic Chicken.</a></h2></div> <!-- .post-summary__content --></article>,\n",
       " <article class=\"post-summary primary\"><div class=\"post-summary__image\"><a aria-hidden=\"true\" href=\"https://www.halfbakedharvest.com/ranch-chicken-pasta-salad/\" tabindex=\"-1\"><img alt=\"Creamy Avocado Ranch Chicken Pasta Salad | halfbakedharvest.com\" class=\"attachment-feature size-feature wp-image-162133\" decoding=\"async\" height=\"510\" sizes=\"(max-width: 340px) 100vw, 340px\" src=\"https://www.halfbakedharvest.com/wp-content/uploads/2024/03/Creamy-Avocado-Ranch-Chicken-Pasta-Salad-1-340x510.jpg\" srcset=\"https://www.halfbakedharvest.com/wp-content/uploads/2024/03/Creamy-Avocado-Ranch-Chicken-Pasta-Salad-1-340x510.jpg 340w, https://www.halfbakedharvest.com/wp-content/uploads/2024/03/Creamy-Avocado-Ranch-Chicken-Pasta-Salad-1-350x525.jpg 350w, https://www.halfbakedharvest.com/wp-content/uploads/2024/03/Creamy-Avocado-Ranch-Chicken-Pasta-Salad-1-700x1050.jpg 700w, https://www.halfbakedharvest.com/wp-content/uploads/2024/03/Creamy-Avocado-Ranch-Chicken-Pasta-Salad-1-768x1152.jpg 768w, https://www.halfbakedharvest.com/wp-content/uploads/2024/03/Creamy-Avocado-Ranch-Chicken-Pasta-Salad-1-1024x1536.jpg 1024w, https://www.halfbakedharvest.com/wp-content/uploads/2024/03/Creamy-Avocado-Ranch-Chicken-Pasta-Salad-1-680x1020.jpg 680w, https://www.halfbakedharvest.com/wp-content/uploads/2024/03/Creamy-Avocado-Ranch-Chicken-Pasta-Salad-1-150x225.jpg 150w, https://www.halfbakedharvest.com/wp-content/uploads/2024/03/Creamy-Avocado-Ranch-Chicken-Pasta-Salad-1.jpg 1200w\" width=\"340\"/></a></div> <!-- .post-summary__image --><p class=\"post-summary__recipe-save-link\"><a class=\"\" href=\"https://www.halfbakedharvest.com/register/\">Save Recipe</a></p><div class=\"post-summary__content\"><p class=\"entry-category\"><a href=\"https://www.halfbakedharvest.com/category/recipes/\">Recipes</a></p><p class=\"entry-date\"><a href=\"https://www.halfbakedharvest.com/2024/03/\">March 20, 2024</a></p><h2 class=\"post-summary__title\"><a href=\"https://www.halfbakedharvest.com/ranch-chicken-pasta-salad/\">Creamy Avocado Ranch Chicken Pasta Salad.</a></h2></div> <!-- .post-summary__content --></article>,\n",
       " <article class=\"post-summary primary\"><div class=\"post-summary__image\"><a aria-hidden=\"true\" href=\"https://www.halfbakedharvest.com/baked-coconut-curry-salmon/\" tabindex=\"-1\"><img alt=\"Baked Coconut Curry Salmon | halfbakedharvest.com\" class=\"attachment-feature size-feature wp-image-162006\" decoding=\"async\" height=\"510\" sizes=\"(max-width: 340px) 100vw, 340px\" src=\"https://www.halfbakedharvest.com/wp-content/uploads/2024/03/Baked-Coconut-Curry-Salmon-1-340x510.jpg\" srcset=\"https://www.halfbakedharvest.com/wp-content/uploads/2024/03/Baked-Coconut-Curry-Salmon-1-340x510.jpg 340w, https://www.halfbakedharvest.com/wp-content/uploads/2024/03/Baked-Coconut-Curry-Salmon-1-350x525.jpg 350w, https://www.halfbakedharvest.com/wp-content/uploads/2024/03/Baked-Coconut-Curry-Salmon-1-700x1050.jpg 700w, https://www.halfbakedharvest.com/wp-content/uploads/2024/03/Baked-Coconut-Curry-Salmon-1-768x1152.jpg 768w, https://www.halfbakedharvest.com/wp-content/uploads/2024/03/Baked-Coconut-Curry-Salmon-1-1024x1536.jpg 1024w, https://www.halfbakedharvest.com/wp-content/uploads/2024/03/Baked-Coconut-Curry-Salmon-1-680x1020.jpg 680w, https://www.halfbakedharvest.com/wp-content/uploads/2024/03/Baked-Coconut-Curry-Salmon-1-150x225.jpg 150w, https://www.halfbakedharvest.com/wp-content/uploads/2024/03/Baked-Coconut-Curry-Salmon-1.jpg 1200w\" width=\"340\"/></a></div> <!-- .post-summary__image --><p class=\"post-summary__recipe-save-link\"><a class=\"\" href=\"https://www.halfbakedharvest.com/register/\">Save Recipe</a></p><div class=\"post-summary__content\"><p class=\"entry-category\"><a href=\"https://www.halfbakedharvest.com/category/recipes/\">Recipes</a></p><p class=\"entry-date\"><a href=\"https://www.halfbakedharvest.com/2024/03/\">March 18, 2024</a></p><h2 class=\"post-summary__title\"><a href=\"https://www.halfbakedharvest.com/baked-coconut-curry-salmon/\">Baked Coconut Curry Salmon.</a></h2></div> <!-- .post-summary__content --></article>,\n",
       " <article class=\"post-summary primary\"><div class=\"post-summary__image\"><a aria-hidden=\"true\" href=\"https://www.halfbakedharvest.com/creamy-chipotle-chicken-enchiladas/\" tabindex=\"-1\"><img alt=\"Skillet Creamy Chipotle Chicken Enchiladas | halfbakedharvest.com\" class=\"attachment-feature size-feature wp-image-161857\" decoding=\"async\" height=\"510\" sizes=\"(max-width: 340px) 100vw, 340px\" src=\"https://www.halfbakedharvest.com/wp-content/uploads/2024/03/Skillet-Creamy-Chipotle-Chicken-Enchiladas-1-340x510.jpg\" srcset=\"https://www.halfbakedharvest.com/wp-content/uploads/2024/03/Skillet-Creamy-Chipotle-Chicken-Enchiladas-1-340x510.jpg 340w, https://www.halfbakedharvest.com/wp-content/uploads/2024/03/Skillet-Creamy-Chipotle-Chicken-Enchiladas-1-350x525.jpg 350w, https://www.halfbakedharvest.com/wp-content/uploads/2024/03/Skillet-Creamy-Chipotle-Chicken-Enchiladas-1-700x1050.jpg 700w, https://www.halfbakedharvest.com/wp-content/uploads/2024/03/Skillet-Creamy-Chipotle-Chicken-Enchiladas-1-768x1152.jpg 768w, https://www.halfbakedharvest.com/wp-content/uploads/2024/03/Skillet-Creamy-Chipotle-Chicken-Enchiladas-1-1024x1536.jpg 1024w, https://www.halfbakedharvest.com/wp-content/uploads/2024/03/Skillet-Creamy-Chipotle-Chicken-Enchiladas-1-680x1020.jpg 680w, https://www.halfbakedharvest.com/wp-content/uploads/2024/03/Skillet-Creamy-Chipotle-Chicken-Enchiladas-1-150x225.jpg 150w, https://www.halfbakedharvest.com/wp-content/uploads/2024/03/Skillet-Creamy-Chipotle-Chicken-Enchiladas-1.jpg 1200w\" width=\"340\"/></a></div> <!-- .post-summary__image --><p class=\"post-summary__recipe-save-link\"><a class=\"\" href=\"https://www.halfbakedharvest.com/register/\">Save Recipe</a></p><div class=\"post-summary__content\"><p class=\"entry-category\"><a href=\"https://www.halfbakedharvest.com/category/recipes/\">Recipes</a></p><p class=\"entry-date\"><a href=\"https://www.halfbakedharvest.com/2024/03/\">March 14, 2024</a></p><h2 class=\"post-summary__title\"><a href=\"https://www.halfbakedharvest.com/creamy-chipotle-chicken-enchiladas/\">Skillet Creamy Chipotle Chicken Enchiladas.</a></h2></div> <!-- .post-summary__content --></article>,\n",
       " <article class=\"post-summary primary\"><div class=\"post-summary__image\"><a aria-hidden=\"true\" href=\"https://www.halfbakedharvest.com/sesame-miso-chicken/\" tabindex=\"-1\"><img alt=\"Sheet Pan Sesame Miso Chicken with Coconut Rice | halfbakedharvest.com\" class=\"attachment-feature size-feature wp-image-161816\" decoding=\"async\" height=\"510\" sizes=\"(max-width: 340px) 100vw, 340px\" src=\"https://www.halfbakedharvest.com/wp-content/uploads/2024/03/Sheet-Pan-Sesame-Miso-Chicken-with-Coconut-Rice-1-340x510.jpg\" srcset=\"https://www.halfbakedharvest.com/wp-content/uploads/2024/03/Sheet-Pan-Sesame-Miso-Chicken-with-Coconut-Rice-1-340x510.jpg 340w, https://www.halfbakedharvest.com/wp-content/uploads/2024/03/Sheet-Pan-Sesame-Miso-Chicken-with-Coconut-Rice-1-350x525.jpg 350w, https://www.halfbakedharvest.com/wp-content/uploads/2024/03/Sheet-Pan-Sesame-Miso-Chicken-with-Coconut-Rice-1-700x1050.jpg 700w, https://www.halfbakedharvest.com/wp-content/uploads/2024/03/Sheet-Pan-Sesame-Miso-Chicken-with-Coconut-Rice-1-768x1152.jpg 768w, https://www.halfbakedharvest.com/wp-content/uploads/2024/03/Sheet-Pan-Sesame-Miso-Chicken-with-Coconut-Rice-1-1024x1536.jpg 1024w, https://www.halfbakedharvest.com/wp-content/uploads/2024/03/Sheet-Pan-Sesame-Miso-Chicken-with-Coconut-Rice-1-680x1020.jpg 680w, https://www.halfbakedharvest.com/wp-content/uploads/2024/03/Sheet-Pan-Sesame-Miso-Chicken-with-Coconut-Rice-1-150x225.jpg 150w, https://www.halfbakedharvest.com/wp-content/uploads/2024/03/Sheet-Pan-Sesame-Miso-Chicken-with-Coconut-Rice-1.jpg 1200w\" width=\"340\"/></a></div> <!-- .post-summary__image --><p class=\"post-summary__recipe-save-link\"><a class=\"\" href=\"https://www.halfbakedharvest.com/register/\">Save Recipe</a></p><div class=\"post-summary__content\"><p class=\"entry-category\"><a href=\"https://www.halfbakedharvest.com/category/recipes/\">Recipes</a></p><p class=\"entry-date\"><a href=\"https://www.halfbakedharvest.com/2024/03/\">March 13, 2024</a></p><h2 class=\"post-summary__title\"><a href=\"https://www.halfbakedharvest.com/sesame-miso-chicken/\">Sheet Pan Sesame Miso Chicken and Coconut Rice.</a></h2></div> <!-- .post-summary__content --></article>,\n",
       " <article class=\"post-summary primary\"><div class=\"post-summary__image\"><a aria-hidden=\"true\" href=\"https://www.halfbakedharvest.com/chicken-tzatziki-avocado-salad/\" tabindex=\"-1\"><img alt=\"Chicken Tzatziki Avocado Salad | halfbakedharvest.com\" class=\"attachment-feature size-feature wp-image-161736\" decoding=\"async\" height=\"510\" sizes=\"(max-width: 340px) 100vw, 340px\" src=\"https://www.halfbakedharvest.com/wp-content/uploads/2024/03/Chicken-Tzatziki-Avocado-Salad-1-340x510.jpg\" srcset=\"https://www.halfbakedharvest.com/wp-content/uploads/2024/03/Chicken-Tzatziki-Avocado-Salad-1-340x510.jpg 340w, https://www.halfbakedharvest.com/wp-content/uploads/2024/03/Chicken-Tzatziki-Avocado-Salad-1-350x525.jpg 350w, https://www.halfbakedharvest.com/wp-content/uploads/2024/03/Chicken-Tzatziki-Avocado-Salad-1-700x1050.jpg 700w, https://www.halfbakedharvest.com/wp-content/uploads/2024/03/Chicken-Tzatziki-Avocado-Salad-1-768x1152.jpg 768w, https://www.halfbakedharvest.com/wp-content/uploads/2024/03/Chicken-Tzatziki-Avocado-Salad-1-1024x1536.jpg 1024w, https://www.halfbakedharvest.com/wp-content/uploads/2024/03/Chicken-Tzatziki-Avocado-Salad-1-680x1020.jpg 680w, https://www.halfbakedharvest.com/wp-content/uploads/2024/03/Chicken-Tzatziki-Avocado-Salad-1-150x225.jpg 150w, https://www.halfbakedharvest.com/wp-content/uploads/2024/03/Chicken-Tzatziki-Avocado-Salad-1.jpg 1200w\" width=\"340\"/></a></div> <!-- .post-summary__image --><p class=\"post-summary__recipe-save-link\"><a class=\"\" href=\"https://www.halfbakedharvest.com/register/\">Save Recipe</a></p><div class=\"post-summary__content\"><p class=\"entry-category\"><a href=\"https://www.halfbakedharvest.com/category/recipes/\">Recipes</a></p><p class=\"entry-date\"><a href=\"https://www.halfbakedharvest.com/2024/03/\">March 11, 2024</a></p><h2 class=\"post-summary__title\"><a href=\"https://www.halfbakedharvest.com/chicken-tzatziki-avocado-salad/\">Chicken Tzatziki Avocado Salad.</a></h2></div> <!-- .post-summary__content --></article>,\n",
       " <article class=\"post-summary primary\"><div class=\"post-summary__image\"><a aria-hidden=\"true\" href=\"https://www.halfbakedharvest.com/broccoli-cheese-pesto-pasta/\" tabindex=\"-1\"><img alt=\"Easy One Pot Broccoli Cheese Pesto Pasta | halfbakedharvest.com\" class=\"attachment-feature size-feature wp-image-161597\" decoding=\"async\" height=\"510\" sizes=\"(max-width: 340px) 100vw, 340px\" src=\"https://www.halfbakedharvest.com/wp-content/uploads/2024/03/Easy-One-Pot-Broccoli-Cheese-Pesto-Pasta-1-340x510.jpg\" srcset=\"https://www.halfbakedharvest.com/wp-content/uploads/2024/03/Easy-One-Pot-Broccoli-Cheese-Pesto-Pasta-1-340x510.jpg 340w, https://www.halfbakedharvest.com/wp-content/uploads/2024/03/Easy-One-Pot-Broccoli-Cheese-Pesto-Pasta-1-350x525.jpg 350w, https://www.halfbakedharvest.com/wp-content/uploads/2024/03/Easy-One-Pot-Broccoli-Cheese-Pesto-Pasta-1-700x1050.jpg 700w, https://www.halfbakedharvest.com/wp-content/uploads/2024/03/Easy-One-Pot-Broccoli-Cheese-Pesto-Pasta-1-768x1152.jpg 768w, https://www.halfbakedharvest.com/wp-content/uploads/2024/03/Easy-One-Pot-Broccoli-Cheese-Pesto-Pasta-1-1024x1536.jpg 1024w, https://www.halfbakedharvest.com/wp-content/uploads/2024/03/Easy-One-Pot-Broccoli-Cheese-Pesto-Pasta-1-scaled.jpg 1200w, https://www.halfbakedharvest.com/wp-content/uploads/2024/03/Easy-One-Pot-Broccoli-Cheese-Pesto-Pasta-1-680x1020.jpg 680w, https://www.halfbakedharvest.com/wp-content/uploads/2024/03/Easy-One-Pot-Broccoli-Cheese-Pesto-Pasta-1-150x225.jpg 150w\" width=\"340\"/></a></div> <!-- .post-summary__image --><p class=\"post-summary__recipe-save-link\"><a class=\"\" href=\"https://www.halfbakedharvest.com/register/\">Save Recipe</a></p><div class=\"post-summary__content\"><p class=\"entry-category\"><a href=\"https://www.halfbakedharvest.com/category/recipes/\">Recipes</a></p><p class=\"entry-date\"><a href=\"https://www.halfbakedharvest.com/2024/03/\">March 7, 2024</a></p><h2 class=\"post-summary__title\"><a href=\"https://www.halfbakedharvest.com/broccoli-cheese-pesto-pasta/\">Easy One Pot Broccoli Cheese Pesto Pasta.</a></h2></div> <!-- .post-summary__content --></article>,\n",
       " <article class=\"post-summary primary\"><div class=\"post-summary__image\"><a aria-hidden=\"true\" href=\"https://www.halfbakedharvest.com/chipotle-pineapple-pot-roast-bowls/\" tabindex=\"-1\"><img alt=\"Crockpot Chipotle Pineapple Pot Roast Bowls | halfbakedharvest.com\" class=\"attachment-feature size-feature wp-image-161567\" decoding=\"async\" height=\"510\" sizes=\"(max-width: 340px) 100vw, 340px\" src=\"https://www.halfbakedharvest.com/wp-content/uploads/2024/03/Crockpot-Chipotle-Pineapple-Pot-Roast-Bowls-1-340x510.jpg\" srcset=\"https://www.halfbakedharvest.com/wp-content/uploads/2024/03/Crockpot-Chipotle-Pineapple-Pot-Roast-Bowls-1-340x510.jpg 340w, https://www.halfbakedharvest.com/wp-content/uploads/2024/03/Crockpot-Chipotle-Pineapple-Pot-Roast-Bowls-1-350x525.jpg 350w, https://www.halfbakedharvest.com/wp-content/uploads/2024/03/Crockpot-Chipotle-Pineapple-Pot-Roast-Bowls-1-700x1050.jpg 700w, https://www.halfbakedharvest.com/wp-content/uploads/2024/03/Crockpot-Chipotle-Pineapple-Pot-Roast-Bowls-1-768x1152.jpg 768w, https://www.halfbakedharvest.com/wp-content/uploads/2024/03/Crockpot-Chipotle-Pineapple-Pot-Roast-Bowls-1-1024x1536.jpg 1024w, https://www.halfbakedharvest.com/wp-content/uploads/2024/03/Crockpot-Chipotle-Pineapple-Pot-Roast-Bowls-1-680x1020.jpg 680w, https://www.halfbakedharvest.com/wp-content/uploads/2024/03/Crockpot-Chipotle-Pineapple-Pot-Roast-Bowls-1-150x225.jpg 150w, https://www.halfbakedharvest.com/wp-content/uploads/2024/03/Crockpot-Chipotle-Pineapple-Pot-Roast-Bowls-1.jpg 1200w\" width=\"340\"/></a></div> <!-- .post-summary__image --><p class=\"post-summary__recipe-save-link\"><a class=\"\" href=\"https://www.halfbakedharvest.com/register/\">Save Recipe</a></p><div class=\"post-summary__content\"><p class=\"entry-category\"><a href=\"https://www.halfbakedharvest.com/category/recipes/\">Recipes</a></p><p class=\"entry-date\"><a href=\"https://www.halfbakedharvest.com/2024/03/\">March 6, 2024</a></p><h2 class=\"post-summary__title\"><a href=\"https://www.halfbakedharvest.com/chipotle-pineapple-pot-roast-bowls/\">Crockpot Chipotle Pineapple Pot Roast Bowls.</a></h2></div> <!-- .post-summary__content --></article>,\n",
       " <article class=\"post-summary primary\"><div class=\"post-summary__image\"><a aria-hidden=\"true\" href=\"https://www.halfbakedharvest.com/yellow-curry-chicken/\" tabindex=\"-1\"><img alt=\"Crockpot Thai Yellow Curry Chicken | halfbakedharvest.com\" class=\"attachment-feature size-feature wp-image-161439\" decoding=\"async\" height=\"510\" sizes=\"(max-width: 340px) 100vw, 340px\" src=\"https://www.halfbakedharvest.com/wp-content/uploads/2024/03/Crockpot-Thai-Yellow-Curry-Chicken-1-340x510.jpg\" srcset=\"https://www.halfbakedharvest.com/wp-content/uploads/2024/03/Crockpot-Thai-Yellow-Curry-Chicken-1-340x510.jpg 340w, https://www.halfbakedharvest.com/wp-content/uploads/2024/03/Crockpot-Thai-Yellow-Curry-Chicken-1-350x525.jpg 350w, https://www.halfbakedharvest.com/wp-content/uploads/2024/03/Crockpot-Thai-Yellow-Curry-Chicken-1-700x1050.jpg 700w, https://www.halfbakedharvest.com/wp-content/uploads/2024/03/Crockpot-Thai-Yellow-Curry-Chicken-1-768x1152.jpg 768w, https://www.halfbakedharvest.com/wp-content/uploads/2024/03/Crockpot-Thai-Yellow-Curry-Chicken-1-1024x1536.jpg 1024w, https://www.halfbakedharvest.com/wp-content/uploads/2024/03/Crockpot-Thai-Yellow-Curry-Chicken-1-680x1020.jpg 680w, https://www.halfbakedharvest.com/wp-content/uploads/2024/03/Crockpot-Thai-Yellow-Curry-Chicken-1-150x225.jpg 150w, https://www.halfbakedharvest.com/wp-content/uploads/2024/03/Crockpot-Thai-Yellow-Curry-Chicken-1.jpg 1200w\" width=\"340\"/></a></div> <!-- .post-summary__image --><p class=\"post-summary__recipe-save-link\"><a class=\"\" href=\"https://www.halfbakedharvest.com/register/\">Save Recipe</a></p><div class=\"post-summary__content\"><p class=\"entry-category\"><a href=\"https://www.halfbakedharvest.com/category/recipes/\">Recipes</a></p><p class=\"entry-date\"><a href=\"https://www.halfbakedharvest.com/2024/03/\">March 4, 2024</a></p><h2 class=\"post-summary__title\"><a href=\"https://www.halfbakedharvest.com/yellow-curry-chicken/\">Crockpot Thai Yellow Curry Chicken.</a></h2></div> <!-- .post-summary__content --></article>,\n",
       " <article class=\"post-summary primary\"><div class=\"post-summary__image\"><a aria-hidden=\"true\" href=\"https://www.halfbakedharvest.com/chicken-meatballs-and-creamy-orzo/\" tabindex=\"-1\"><img alt=\"Baked Lemon Rosemary Chicken Meatballs and Creamy Orzo | halfbakedharvest.com\" class=\"attachment-feature size-feature wp-image-161277\" decoding=\"async\" height=\"510\" sizes=\"(max-width: 340px) 100vw, 340px\" src=\"https://www.halfbakedharvest.com/wp-content/uploads/2024/02/Baked-Lemon-Rosemary-Chicken-Meatballs-and-Creamy-Orzo-1-340x510.jpg\" srcset=\"https://www.halfbakedharvest.com/wp-content/uploads/2024/02/Baked-Lemon-Rosemary-Chicken-Meatballs-and-Creamy-Orzo-1-340x510.jpg 340w, https://www.halfbakedharvest.com/wp-content/uploads/2024/02/Baked-Lemon-Rosemary-Chicken-Meatballs-and-Creamy-Orzo-1-350x525.jpg 350w, https://www.halfbakedharvest.com/wp-content/uploads/2024/02/Baked-Lemon-Rosemary-Chicken-Meatballs-and-Creamy-Orzo-1-700x1050.jpg 700w, https://www.halfbakedharvest.com/wp-content/uploads/2024/02/Baked-Lemon-Rosemary-Chicken-Meatballs-and-Creamy-Orzo-1-768x1152.jpg 768w, https://www.halfbakedharvest.com/wp-content/uploads/2024/02/Baked-Lemon-Rosemary-Chicken-Meatballs-and-Creamy-Orzo-1-1024x1536.jpg 1024w, https://www.halfbakedharvest.com/wp-content/uploads/2024/02/Baked-Lemon-Rosemary-Chicken-Meatballs-and-Creamy-Orzo-1-680x1020.jpg 680w, https://www.halfbakedharvest.com/wp-content/uploads/2024/02/Baked-Lemon-Rosemary-Chicken-Meatballs-and-Creamy-Orzo-1-150x225.jpg 150w, https://www.halfbakedharvest.com/wp-content/uploads/2024/02/Baked-Lemon-Rosemary-Chicken-Meatballs-and-Creamy-Orzo-1.jpg 1200w\" width=\"340\"/></a></div> <!-- .post-summary__image --><p class=\"post-summary__recipe-save-link\"><a class=\"\" href=\"https://www.halfbakedharvest.com/register/\">Save Recipe</a></p><div class=\"post-summary__content\"><p class=\"entry-category\"><a href=\"https://www.halfbakedharvest.com/category/recipes/cuisine-inspiration/italian/\">Italian</a></p><p class=\"entry-date\"><a href=\"https://www.halfbakedharvest.com/2024/02/\">February 29, 2024</a></p><h2 class=\"post-summary__title\"><a href=\"https://www.halfbakedharvest.com/chicken-meatballs-and-creamy-orzo/\">Baked Lemon Rosemary Chicken Meatballs and Creamy Orzo.</a></h2></div> <!-- .post-summary__content --></article>,\n",
       " <article class=\"post-summary primary\"><div class=\"post-summary__image\"><a aria-hidden=\"true\" href=\"https://www.halfbakedharvest.com/basil-beef-noodles/\" tabindex=\"-1\"><img alt=\"30 Minute Thai Basil Beef Noodles | halfbakedharvest.com\" class=\"attachment-feature size-feature wp-image-161244\" decoding=\"async\" height=\"510\" sizes=\"(max-width: 340px) 100vw, 340px\" src=\"https://www.halfbakedharvest.com/wp-content/uploads/2024/02/30-Minute-Thai-Basil-Beef-Noodles-1-340x510.jpg\" srcset=\"https://www.halfbakedharvest.com/wp-content/uploads/2024/02/30-Minute-Thai-Basil-Beef-Noodles-1-340x510.jpg 340w, https://www.halfbakedharvest.com/wp-content/uploads/2024/02/30-Minute-Thai-Basil-Beef-Noodles-1-350x525.jpg 350w, https://www.halfbakedharvest.com/wp-content/uploads/2024/02/30-Minute-Thai-Basil-Beef-Noodles-1-700x1050.jpg 700w, https://www.halfbakedharvest.com/wp-content/uploads/2024/02/30-Minute-Thai-Basil-Beef-Noodles-1-768x1152.jpg 768w, https://www.halfbakedharvest.com/wp-content/uploads/2024/02/30-Minute-Thai-Basil-Beef-Noodles-1-1024x1536.jpg 1024w, https://www.halfbakedharvest.com/wp-content/uploads/2024/02/30-Minute-Thai-Basil-Beef-Noodles-1-680x1020.jpg 680w, https://www.halfbakedharvest.com/wp-content/uploads/2024/02/30-Minute-Thai-Basil-Beef-Noodles-1-150x225.jpg 150w, https://www.halfbakedharvest.com/wp-content/uploads/2024/02/30-Minute-Thai-Basil-Beef-Noodles-1.jpg 1200w\" width=\"340\"/></a></div> <!-- .post-summary__image --><p class=\"post-summary__recipe-save-link\"><a class=\"\" href=\"https://www.halfbakedharvest.com/register/\">Save Recipe</a></p><div class=\"post-summary__content\"><p class=\"entry-category\"><a href=\"https://www.halfbakedharvest.com/category/recipes/cuisine-inspiration/asian/\">Asian</a></p><p class=\"entry-date\"><a href=\"https://www.halfbakedharvest.com/2024/02/\">February 28, 2024</a></p><h2 class=\"post-summary__title\"><a href=\"https://www.halfbakedharvest.com/basil-beef-noodles/\">30 Minute Thai Basil Beef Noodles.</a></h2></div> <!-- .post-summary__content --></article>,\n",
       " <article class=\"post-summary primary\"><div class=\"post-summary__image\"><a aria-hidden=\"true\" href=\"https://www.halfbakedharvest.com/crispy-carnitas-tacos/\" tabindex=\"-1\"><img alt=\"Crispy Carnitas Tacos with Roasted Jalapeño Lime Avocado | halfbakedharvest.com\" class=\"attachment-feature size-feature wp-image-161148\" decoding=\"async\" height=\"510\" sizes=\"(max-width: 340px) 100vw, 340px\" src=\"https://www.halfbakedharvest.com/wp-content/uploads/2024/02/Crispy-Carnitas-Tacos-with-Roasted-Jalapeno-Lime-Avocado-1-340x510.jpg\" srcset=\"https://www.halfbakedharvest.com/wp-content/uploads/2024/02/Crispy-Carnitas-Tacos-with-Roasted-Jalapeno-Lime-Avocado-1-340x510.jpg 340w, https://www.halfbakedharvest.com/wp-content/uploads/2024/02/Crispy-Carnitas-Tacos-with-Roasted-Jalapeno-Lime-Avocado-1-350x525.jpg 350w, https://www.halfbakedharvest.com/wp-content/uploads/2024/02/Crispy-Carnitas-Tacos-with-Roasted-Jalapeno-Lime-Avocado-1-700x1050.jpg 700w, https://www.halfbakedharvest.com/wp-content/uploads/2024/02/Crispy-Carnitas-Tacos-with-Roasted-Jalapeno-Lime-Avocado-1-768x1152.jpg 768w, https://www.halfbakedharvest.com/wp-content/uploads/2024/02/Crispy-Carnitas-Tacos-with-Roasted-Jalapeno-Lime-Avocado-1-1024x1536.jpg 1024w, https://www.halfbakedharvest.com/wp-content/uploads/2024/02/Crispy-Carnitas-Tacos-with-Roasted-Jalapeno-Lime-Avocado-1-680x1020.jpg 680w, https://www.halfbakedharvest.com/wp-content/uploads/2024/02/Crispy-Carnitas-Tacos-with-Roasted-Jalapeno-Lime-Avocado-1-150x225.jpg 150w, https://www.halfbakedharvest.com/wp-content/uploads/2024/02/Crispy-Carnitas-Tacos-with-Roasted-Jalapeno-Lime-Avocado-1.jpg 1200w\" width=\"340\"/></a></div> <!-- .post-summary__image --><p class=\"post-summary__recipe-save-link\"><a class=\"\" href=\"https://www.halfbakedharvest.com/register/\">Save Recipe</a></p><div class=\"post-summary__content\"><p class=\"entry-category\"><a href=\"https://www.halfbakedharvest.com/category/recipes/type-of-meal/main-course/tacos-recipes/\">Tacos</a></p><p class=\"entry-date\"><a href=\"https://www.halfbakedharvest.com/2024/02/\">February 26, 2024</a></p><h2 class=\"post-summary__title\"><a href=\"https://www.halfbakedharvest.com/crispy-carnitas-tacos/\">Crispy Carnitas Tacos with Roasted Jalapeño Lime Avocado.</a></h2></div> <!-- .post-summary__content --></article>,\n",
       " <article class=\"post-summary primary\"><div class=\"post-summary__image\"><a aria-hidden=\"true\" href=\"https://www.halfbakedharvest.com/one-pot-chili-mac-and-cheese/\" tabindex=\"-1\"><img alt=\"One Pot Chili Mac and Cheese | halfbakedharvest.com\" class=\"attachment-feature size-feature wp-image-161010\" decoding=\"async\" height=\"510\" sizes=\"(max-width: 340px) 100vw, 340px\" src=\"https://www.halfbakedharvest.com/wp-content/uploads/2024/02/One-Pot-Chili-Mac-and-Cheese-1-340x510.jpg\" srcset=\"https://www.halfbakedharvest.com/wp-content/uploads/2024/02/One-Pot-Chili-Mac-and-Cheese-1-340x510.jpg 340w, https://www.halfbakedharvest.com/wp-content/uploads/2024/02/One-Pot-Chili-Mac-and-Cheese-1-350x525.jpg 350w, https://www.halfbakedharvest.com/wp-content/uploads/2024/02/One-Pot-Chili-Mac-and-Cheese-1-700x1050.jpg 700w, https://www.halfbakedharvest.com/wp-content/uploads/2024/02/One-Pot-Chili-Mac-and-Cheese-1-768x1152.jpg 768w, https://www.halfbakedharvest.com/wp-content/uploads/2024/02/One-Pot-Chili-Mac-and-Cheese-1-1024x1536.jpg 1024w, https://www.halfbakedharvest.com/wp-content/uploads/2024/02/One-Pot-Chili-Mac-and-Cheese-1-680x1020.jpg 680w, https://www.halfbakedharvest.com/wp-content/uploads/2024/02/One-Pot-Chili-Mac-and-Cheese-1-150x225.jpg 150w, https://www.halfbakedharvest.com/wp-content/uploads/2024/02/One-Pot-Chili-Mac-and-Cheese-1.jpg 1200w\" width=\"340\"/></a></div> <!-- .post-summary__image --><p class=\"post-summary__recipe-save-link\"><a class=\"\" href=\"https://www.halfbakedharvest.com/register/\">Save Recipe</a></p><div class=\"post-summary__content\"><p class=\"entry-category\"><a href=\"https://www.halfbakedharvest.com/category/recipes/cuisine-inspiration/american/mac-and-cheese/\">Mac and Cheese</a></p><p class=\"entry-date\"><a href=\"https://www.halfbakedharvest.com/2024/02/\">February 22, 2024</a></p><h2 class=\"post-summary__title\"><a href=\"https://www.halfbakedharvest.com/one-pot-chili-mac-and-cheese/\">One Pot Chili Mac and Cheese.</a></h2></div> <!-- .post-summary__content --></article>,\n",
       " <article class=\"post-summary primary\"><div class=\"post-summary__image\"><a aria-hidden=\"true\" href=\"https://www.halfbakedharvest.com/parmesan-ranch-chicken/\" tabindex=\"-1\"><img alt=\"One Pan Creamy Parmesan Ranch Chicken | halfbakedharvest.com\" class=\"attachment-feature size-feature wp-image-160970\" decoding=\"async\" height=\"510\" sizes=\"(max-width: 340px) 100vw, 340px\" src=\"https://www.halfbakedharvest.com/wp-content/uploads/2024/02/One-Pan-Creamy-Parmesan-Ranch-Chicken-1-340x510.jpg\" srcset=\"https://www.halfbakedharvest.com/wp-content/uploads/2024/02/One-Pan-Creamy-Parmesan-Ranch-Chicken-1-340x510.jpg 340w, https://www.halfbakedharvest.com/wp-content/uploads/2024/02/One-Pan-Creamy-Parmesan-Ranch-Chicken-1-350x525.jpg 350w, https://www.halfbakedharvest.com/wp-content/uploads/2024/02/One-Pan-Creamy-Parmesan-Ranch-Chicken-1-700x1050.jpg 700w, https://www.halfbakedharvest.com/wp-content/uploads/2024/02/One-Pan-Creamy-Parmesan-Ranch-Chicken-1-768x1152.jpg 768w, https://www.halfbakedharvest.com/wp-content/uploads/2024/02/One-Pan-Creamy-Parmesan-Ranch-Chicken-1-1024x1536.jpg 1024w, https://www.halfbakedharvest.com/wp-content/uploads/2024/02/One-Pan-Creamy-Parmesan-Ranch-Chicken-1-680x1020.jpg 680w, https://www.halfbakedharvest.com/wp-content/uploads/2024/02/One-Pan-Creamy-Parmesan-Ranch-Chicken-1-150x225.jpg 150w, https://www.halfbakedharvest.com/wp-content/uploads/2024/02/One-Pan-Creamy-Parmesan-Ranch-Chicken-1.jpg 1200w\" width=\"340\"/></a></div> <!-- .post-summary__image --><p class=\"post-summary__recipe-save-link\"><a class=\"\" href=\"https://www.halfbakedharvest.com/register/\">Save Recipe</a></p><div class=\"post-summary__content\"><p class=\"entry-category\"><a href=\"https://www.halfbakedharvest.com/category/recipes/cuisine-inspiration/chicken-recipes/\">Chicken</a></p><p class=\"entry-date\"><a href=\"https://www.halfbakedharvest.com/2024/02/\">February 21, 2024</a></p><h2 class=\"post-summary__title\"><a href=\"https://www.halfbakedharvest.com/parmesan-ranch-chicken/\">One Pan Creamy Parmesan Ranch Chicken.</a></h2></div> <!-- .post-summary__content --></article>,\n",
       " <article class=\"post-summary primary\"><div class=\"post-summary__image\"><a aria-hidden=\"true\" href=\"https://www.halfbakedharvest.com/chicken-shawarma-havarti-sandwich/\" tabindex=\"-1\"><img alt=\"Sheet Pan Chicken Shawarma Havarti Sandwich | halfbakedharvest.com\" class=\"attachment-feature size-feature wp-image-160839\" decoding=\"async\" height=\"510\" sizes=\"(max-width: 340px) 100vw, 340px\" src=\"https://www.halfbakedharvest.com/wp-content/uploads/2024/02/Sheet-Pan-Chicken-Shawarma-Havarti-Sandwich-1-340x510.jpg\" srcset=\"https://www.halfbakedharvest.com/wp-content/uploads/2024/02/Sheet-Pan-Chicken-Shawarma-Havarti-Sandwich-1-340x510.jpg 340w, https://www.halfbakedharvest.com/wp-content/uploads/2024/02/Sheet-Pan-Chicken-Shawarma-Havarti-Sandwich-1-350x525.jpg 350w, https://www.halfbakedharvest.com/wp-content/uploads/2024/02/Sheet-Pan-Chicken-Shawarma-Havarti-Sandwich-1-700x1050.jpg 700w, https://www.halfbakedharvest.com/wp-content/uploads/2024/02/Sheet-Pan-Chicken-Shawarma-Havarti-Sandwich-1-768x1152.jpg 768w, https://www.halfbakedharvest.com/wp-content/uploads/2024/02/Sheet-Pan-Chicken-Shawarma-Havarti-Sandwich-1-1024x1536.jpg 1024w, https://www.halfbakedharvest.com/wp-content/uploads/2024/02/Sheet-Pan-Chicken-Shawarma-Havarti-Sandwich-1-680x1020.jpg 680w, https://www.halfbakedharvest.com/wp-content/uploads/2024/02/Sheet-Pan-Chicken-Shawarma-Havarti-Sandwich-1-150x225.jpg 150w, https://www.halfbakedharvest.com/wp-content/uploads/2024/02/Sheet-Pan-Chicken-Shawarma-Havarti-Sandwich-1.jpg 1200w\" width=\"340\"/></a></div> <!-- .post-summary__image --><p class=\"post-summary__recipe-save-link\"><a class=\"\" href=\"https://www.halfbakedharvest.com/register/\">Save Recipe</a></p><div class=\"post-summary__content\"><p class=\"entry-category\"><a href=\"https://www.halfbakedharvest.com/category/recipes/type-of-meal/main-course/sandwiches/\">Sandwiches</a></p><p class=\"entry-date\"><a href=\"https://www.halfbakedharvest.com/2024/02/\">February 19, 2024</a></p><h2 class=\"post-summary__title\"><a href=\"https://www.halfbakedharvest.com/chicken-shawarma-havarti-sandwich/\">Sheet Pan Chicken Shawarma Havarti Sandwich.</a></h2></div> <!-- .post-summary__content --></article>,\n",
       " <article class=\"post-summary primary\"><div class=\"post-summary__image\"><a aria-hidden=\"true\" href=\"https://www.halfbakedharvest.com/korean-popcorn-chicken/\" tabindex=\"-1\"><img alt=\"Sheet Pan Korean Popcorn Chicken | halfbakedharvest.com\" class=\"attachment-feature size-feature wp-image-160689\" decoding=\"async\" height=\"510\" sizes=\"(max-width: 340px) 100vw, 340px\" src=\"https://www.halfbakedharvest.com/wp-content/uploads/2024/02/Sheet-Pan-Korean-Popcorn-Chicken-1-340x510.jpg\" srcset=\"https://www.halfbakedharvest.com/wp-content/uploads/2024/02/Sheet-Pan-Korean-Popcorn-Chicken-1-340x510.jpg 340w, https://www.halfbakedharvest.com/wp-content/uploads/2024/02/Sheet-Pan-Korean-Popcorn-Chicken-1-350x525.jpg 350w, https://www.halfbakedharvest.com/wp-content/uploads/2024/02/Sheet-Pan-Korean-Popcorn-Chicken-1-700x1050.jpg 700w, https://www.halfbakedharvest.com/wp-content/uploads/2024/02/Sheet-Pan-Korean-Popcorn-Chicken-1-768x1152.jpg 768w, https://www.halfbakedharvest.com/wp-content/uploads/2024/02/Sheet-Pan-Korean-Popcorn-Chicken-1-1024x1536.jpg 1024w, https://www.halfbakedharvest.com/wp-content/uploads/2024/02/Sheet-Pan-Korean-Popcorn-Chicken-1-680x1020.jpg 680w, https://www.halfbakedharvest.com/wp-content/uploads/2024/02/Sheet-Pan-Korean-Popcorn-Chicken-1-150x225.jpg 150w, https://www.halfbakedharvest.com/wp-content/uploads/2024/02/Sheet-Pan-Korean-Popcorn-Chicken-1.jpg 1200w\" width=\"340\"/></a></div> <!-- .post-summary__image --><p class=\"post-summary__recipe-save-link\"><a class=\"\" href=\"https://www.halfbakedharvest.com/register/\">Save Recipe</a></p><div class=\"post-summary__content\"><p class=\"entry-category\"><a href=\"https://www.halfbakedharvest.com/category/recipes/cuisine-inspiration/asian/\">Asian</a></p><p class=\"entry-date\"><a href=\"https://www.halfbakedharvest.com/2024/02/\">February 15, 2024</a></p><h2 class=\"post-summary__title\"><a href=\"https://www.halfbakedharvest.com/korean-popcorn-chicken/\">Sheet Pan Korean Popcorn Chicken.</a></h2></div> <!-- .post-summary__content --></article>]"
      ]
     },
     "execution_count": 10,
     "metadata": {},
     "output_type": "execute_result"
    }
   ],
   "source": [
    "cards = soup.find_all(class_='post-summary primary')\n",
    "cards"
   ]
  },
  {
   "cell_type": "code",
   "execution_count": 11,
   "id": "a13e8ce9",
   "metadata": {},
   "outputs": [
    {
     "name": "stdout",
     "output_type": "stream",
     "text": [
      "https://www.halfbakedharvest.com/garlic-butter-baked-salmon/\n",
      "https://www.halfbakedharvest.com/pineapple-adobo-chicken-skewers/\n",
      "https://www.halfbakedharvest.com/marry-me-chicken-meatballs/\n",
      "https://www.halfbakedharvest.com/ginger-cashew-beef/\n",
      "https://www.halfbakedharvest.com/lemon-butter-orzo-carbonara/\n",
      "https://www.halfbakedharvest.com/avocado-bacon-chicken-salad/\n",
      "https://www.halfbakedharvest.com/italian-chop-pasta-salad/\n",
      "https://www.halfbakedharvest.com/the-50-most-popular-easter-recipes/\n",
      "https://www.halfbakedharvest.com/baked-honey-balsamic-chicken/\n",
      "https://www.halfbakedharvest.com/ranch-chicken-pasta-salad/\n",
      "https://www.halfbakedharvest.com/baked-coconut-curry-salmon/\n",
      "https://www.halfbakedharvest.com/creamy-chipotle-chicken-enchiladas/\n",
      "https://www.halfbakedharvest.com/sesame-miso-chicken/\n",
      "https://www.halfbakedharvest.com/chicken-tzatziki-avocado-salad/\n",
      "https://www.halfbakedharvest.com/broccoli-cheese-pesto-pasta/\n",
      "https://www.halfbakedharvest.com/chipotle-pineapple-pot-roast-bowls/\n",
      "https://www.halfbakedharvest.com/yellow-curry-chicken/\n",
      "https://www.halfbakedharvest.com/chicken-meatballs-and-creamy-orzo/\n",
      "https://www.halfbakedharvest.com/basil-beef-noodles/\n",
      "https://www.halfbakedharvest.com/crispy-carnitas-tacos/\n",
      "https://www.halfbakedharvest.com/one-pot-chili-mac-and-cheese/\n",
      "https://www.halfbakedharvest.com/parmesan-ranch-chicken/\n",
      "https://www.halfbakedharvest.com/chicken-shawarma-havarti-sandwich/\n",
      "https://www.halfbakedharvest.com/korean-popcorn-chicken/\n"
     ]
    }
   ],
   "source": [
    "for card in cards:\n",
    "    link_tag = card.find('a')\n",
    "    print(link_tag['href'])"
   ]
  },
  {
   "cell_type": "code",
   "execution_count": 17,
   "id": "6e1b4bd7",
   "metadata": {},
   "outputs": [
    {
     "name": "stdout",
     "output_type": "stream",
     "text": [
      "24\n",
      "['Garlic Butter Baked Salmon In Lemony Parmesan Cream', 'Pineapple Adobo Chicken Skewers', 'Marry Me Chicken Meatballs', '20 Minute Ginger Cashew Beef', 'Lemon Butter Orzo Carbonara', 'Avocado Bacon Chicken Salad with Jalapeño Honey Mustard', 'Italian Chop Pasta Salad', '-', 'Baked Honey Balsamic Chicken with Charred Lemon Feta', 'Creamy Avocado Ranch Chicken Pasta Salad', 'Baked Coconut Curry Salmon', 'Skillet Creamy Chipotle Chicken Enchiladas', 'Sheet Pan Sesame Miso Chicken and Sweet Potatoes', 'Chicken Tzatziki Salad', 'One Pot Broccoli Cheese Pesto Pasta', 'Crockpot Chipotle Pineapple Pot Roast Bowls', 'Crockpot Thai Yellow Curry Chicken with Garlic Rice', 'Baked Lemon Rosemary Chicken Meatballs and Creamy Orzo', '30 Minute Thai Basil Beef Noodles', 'Crispy Carnitas Tacos with Roasted Jalapeño Lime Avocado', 'One Pot Chili Cheese Mac', 'One Pan Creamy Parmesan Ranch Chicken', 'Sheet Pan Chicken Shawarma Havarti Sandwich', 'Sheet Pan Korean Popcorn Chicken']\n"
     ]
    }
   ],
   "source": [
    "title = []\n",
    "for card in cards:\n",
    "    link_tag = card.find('a')\n",
    "    recipe_url = link_tag['href']\n",
    "    try:\n",
    "        response = requests.get(recipe_url, headers=headers)\n",
    "        response.raise_for_status()  # Raise an exception for non-200 status codes\n",
    "        temp_soup = BeautifulSoup(response.text, 'lxml')\n",
    "\n",
    "        h2_tag = temp_soup.find('h2', class_='wprm-recipe-name')\n",
    "        if h2_tag:\n",
    "            title.append(h2_tag.text.strip())\n",
    "        else:\n",
    "            title.append('-')\n",
    "\n",
    "    except requests.exceptions.RequestException as e:\n",
    "        print(f\"Failed to fetch the page: {e}\")\n",
    "        continue  # Move to the next card if there's an error\n",
    "\n",
    "\n",
    "print(len(title))\n",
    "print(title)"
   ]
  },
  {
   "cell_type": "code",
   "execution_count": null,
   "id": "3076da1e",
   "metadata": {},
   "outputs": [],
   "source": [
    "# hours_tag = soup.find('span', class_='wprm-recipe-details-hours')\n",
    "# minutes_tag = soup.find('span', class_='wprm-recipe-details-minutes')\n",
    "\n",
    "# hours = hours_tag.get_text(strip=True)\n",
    "# minutes = minutes_tag.get_text(strip=True)\n",
    "\n",
    "# hours_value = int(hours.split()[0])\n",
    "# minutes_value = int(minutes.split()[0])\n",
    "\n",
    "# time_dict = {'hours': hours_value, 'minutes': minutes_value}\n",
    "# print(time_dict)"
   ]
  },
  {
   "cell_type": "code",
   "execution_count": 51,
   "id": "a9e636a3",
   "metadata": {},
   "outputs": [
    {
     "data": {
      "application/javascript": [
       "\n",
       "        if (window._pyforest_update_imports_cell) { window._pyforest_update_imports_cell('import re'); }\n",
       "    "
      ],
      "text/plain": [
       "<IPython.core.display.Javascript object>"
      ]
     },
     "metadata": {},
     "output_type": "display_data"
    },
    {
     "data": {
      "application/javascript": [
       "\n",
       "        if (window._pyforest_update_imports_cell) { window._pyforest_update_imports_cell('import re'); }\n",
       "    "
      ],
      "text/plain": [
       "<IPython.core.display.Javascript object>"
      ]
     },
     "metadata": {},
     "output_type": "display_data"
    },
    {
     "data": {
      "application/javascript": [
       "\n",
       "        if (window._pyforest_update_imports_cell) { window._pyforest_update_imports_cell('import re'); }\n",
       "    "
      ],
      "text/plain": [
       "<IPython.core.display.Javascript object>"
      ]
     },
     "metadata": {},
     "output_type": "display_data"
    },
    {
     "data": {
      "application/javascript": [
       "\n",
       "        if (window._pyforest_update_imports_cell) { window._pyforest_update_imports_cell('import re'); }\n",
       "    "
      ],
      "text/plain": [
       "<IPython.core.display.Javascript object>"
      ]
     },
     "metadata": {},
     "output_type": "display_data"
    },
    {
     "data": {
      "application/javascript": [
       "\n",
       "        if (window._pyforest_update_imports_cell) { window._pyforest_update_imports_cell('import re'); }\n",
       "    "
      ],
      "text/plain": [
       "<IPython.core.display.Javascript object>"
      ]
     },
     "metadata": {},
     "output_type": "display_data"
    },
    {
     "data": {
      "application/javascript": [
       "\n",
       "        if (window._pyforest_update_imports_cell) { window._pyforest_update_imports_cell('import re'); }\n",
       "    "
      ],
      "text/plain": [
       "<IPython.core.display.Javascript object>"
      ]
     },
     "metadata": {},
     "output_type": "display_data"
    },
    {
     "data": {
      "application/javascript": [
       "\n",
       "        if (window._pyforest_update_imports_cell) { window._pyforest_update_imports_cell('import re'); }\n",
       "    "
      ],
      "text/plain": [
       "<IPython.core.display.Javascript object>"
      ]
     },
     "metadata": {},
     "output_type": "display_data"
    },
    {
     "data": {
      "application/javascript": [
       "\n",
       "        if (window._pyforest_update_imports_cell) { window._pyforest_update_imports_cell('import re'); }\n",
       "    "
      ],
      "text/plain": [
       "<IPython.core.display.Javascript object>"
      ]
     },
     "metadata": {},
     "output_type": "display_data"
    },
    {
     "data": {
      "application/javascript": [
       "\n",
       "        if (window._pyforest_update_imports_cell) { window._pyforest_update_imports_cell('import re'); }\n",
       "    "
      ],
      "text/plain": [
       "<IPython.core.display.Javascript object>"
      ]
     },
     "metadata": {},
     "output_type": "display_data"
    },
    {
     "data": {
      "application/javascript": [
       "\n",
       "        if (window._pyforest_update_imports_cell) { window._pyforest_update_imports_cell('import re'); }\n",
       "    "
      ],
      "text/plain": [
       "<IPython.core.display.Javascript object>"
      ]
     },
     "metadata": {},
     "output_type": "display_data"
    },
    {
     "data": {
      "application/javascript": [
       "\n",
       "        if (window._pyforest_update_imports_cell) { window._pyforest_update_imports_cell('import re'); }\n",
       "    "
      ],
      "text/plain": [
       "<IPython.core.display.Javascript object>"
      ]
     },
     "metadata": {},
     "output_type": "display_data"
    },
    {
     "data": {
      "application/javascript": [
       "\n",
       "        if (window._pyforest_update_imports_cell) { window._pyforest_update_imports_cell('import re'); }\n",
       "    "
      ],
      "text/plain": [
       "<IPython.core.display.Javascript object>"
      ]
     },
     "metadata": {},
     "output_type": "display_data"
    },
    {
     "data": {
      "application/javascript": [
       "\n",
       "        if (window._pyforest_update_imports_cell) { window._pyforest_update_imports_cell('import re'); }\n",
       "    "
      ],
      "text/plain": [
       "<IPython.core.display.Javascript object>"
      ]
     },
     "metadata": {},
     "output_type": "display_data"
    },
    {
     "data": {
      "application/javascript": [
       "\n",
       "        if (window._pyforest_update_imports_cell) { window._pyforest_update_imports_cell('import re'); }\n",
       "    "
      ],
      "text/plain": [
       "<IPython.core.display.Javascript object>"
      ]
     },
     "metadata": {},
     "output_type": "display_data"
    },
    {
     "data": {
      "application/javascript": [
       "\n",
       "        if (window._pyforest_update_imports_cell) { window._pyforest_update_imports_cell('import re'); }\n",
       "    "
      ],
      "text/plain": [
       "<IPython.core.display.Javascript object>"
      ]
     },
     "metadata": {},
     "output_type": "display_data"
    },
    {
     "data": {
      "application/javascript": [
       "\n",
       "        if (window._pyforest_update_imports_cell) { window._pyforest_update_imports_cell('import re'); }\n",
       "    "
      ],
      "text/plain": [
       "<IPython.core.display.Javascript object>"
      ]
     },
     "metadata": {},
     "output_type": "display_data"
    },
    {
     "data": {
      "application/javascript": [
       "\n",
       "        if (window._pyforest_update_imports_cell) { window._pyforest_update_imports_cell('import re'); }\n",
       "    "
      ],
      "text/plain": [
       "<IPython.core.display.Javascript object>"
      ]
     },
     "metadata": {},
     "output_type": "display_data"
    },
    {
     "data": {
      "application/javascript": [
       "\n",
       "        if (window._pyforest_update_imports_cell) { window._pyforest_update_imports_cell('import re'); }\n",
       "    "
      ],
      "text/plain": [
       "<IPython.core.display.Javascript object>"
      ]
     },
     "metadata": {},
     "output_type": "display_data"
    },
    {
     "data": {
      "application/javascript": [
       "\n",
       "        if (window._pyforest_update_imports_cell) { window._pyforest_update_imports_cell('import re'); }\n",
       "    "
      ],
      "text/plain": [
       "<IPython.core.display.Javascript object>"
      ]
     },
     "metadata": {},
     "output_type": "display_data"
    },
    {
     "data": {
      "application/javascript": [
       "\n",
       "        if (window._pyforest_update_imports_cell) { window._pyforest_update_imports_cell('import re'); }\n",
       "    "
      ],
      "text/plain": [
       "<IPython.core.display.Javascript object>"
      ]
     },
     "metadata": {},
     "output_type": "display_data"
    },
    {
     "data": {
      "application/javascript": [
       "\n",
       "        if (window._pyforest_update_imports_cell) { window._pyforest_update_imports_cell('import re'); }\n",
       "    "
      ],
      "text/plain": [
       "<IPython.core.display.Javascript object>"
      ]
     },
     "metadata": {},
     "output_type": "display_data"
    },
    {
     "data": {
      "application/javascript": [
       "\n",
       "        if (window._pyforest_update_imports_cell) { window._pyforest_update_imports_cell('import re'); }\n",
       "    "
      ],
      "text/plain": [
       "<IPython.core.display.Javascript object>"
      ]
     },
     "metadata": {},
     "output_type": "display_data"
    },
    {
     "data": {
      "application/javascript": [
       "\n",
       "        if (window._pyforest_update_imports_cell) { window._pyforest_update_imports_cell('import re'); }\n",
       "    "
      ],
      "text/plain": [
       "<IPython.core.display.Javascript object>"
      ]
     },
     "metadata": {},
     "output_type": "display_data"
    },
    {
     "data": {
      "application/javascript": [
       "\n",
       "        if (window._pyforest_update_imports_cell) { window._pyforest_update_imports_cell('import re'); }\n",
       "    "
      ],
      "text/plain": [
       "<IPython.core.display.Javascript object>"
      ]
     },
     "metadata": {},
     "output_type": "display_data"
    },
    {
     "data": {
      "application/javascript": [
       "\n",
       "        if (window._pyforest_update_imports_cell) { window._pyforest_update_imports_cell('import re'); }\n",
       "    "
      ],
      "text/plain": [
       "<IPython.core.display.Javascript object>"
      ]
     },
     "metadata": {},
     "output_type": "display_data"
    },
    {
     "data": {
      "application/javascript": [
       "\n",
       "        if (window._pyforest_update_imports_cell) { window._pyforest_update_imports_cell('import re'); }\n",
       "    "
      ],
      "text/plain": [
       "<IPython.core.display.Javascript object>"
      ]
     },
     "metadata": {},
     "output_type": "display_data"
    },
    {
     "data": {
      "application/javascript": [
       "\n",
       "        if (window._pyforest_update_imports_cell) { window._pyforest_update_imports_cell('import re'); }\n",
       "    "
      ],
      "text/plain": [
       "<IPython.core.display.Javascript object>"
      ]
     },
     "metadata": {},
     "output_type": "display_data"
    },
    {
     "data": {
      "application/javascript": [
       "\n",
       "        if (window._pyforest_update_imports_cell) { window._pyforest_update_imports_cell('import re'); }\n",
       "    "
      ],
      "text/plain": [
       "<IPython.core.display.Javascript object>"
      ]
     },
     "metadata": {},
     "output_type": "display_data"
    },
    {
     "data": {
      "application/javascript": [
       "\n",
       "        if (window._pyforest_update_imports_cell) { window._pyforest_update_imports_cell('import re'); }\n",
       "    "
      ],
      "text/plain": [
       "<IPython.core.display.Javascript object>"
      ]
     },
     "metadata": {},
     "output_type": "display_data"
    },
    {
     "data": {
      "application/javascript": [
       "\n",
       "        if (window._pyforest_update_imports_cell) { window._pyforest_update_imports_cell('import re'); }\n",
       "    "
      ],
      "text/plain": [
       "<IPython.core.display.Javascript object>"
      ]
     },
     "metadata": {},
     "output_type": "display_data"
    },
    {
     "data": {
      "application/javascript": [
       "\n",
       "        if (window._pyforest_update_imports_cell) { window._pyforest_update_imports_cell('import re'); }\n",
       "    "
      ],
      "text/plain": [
       "<IPython.core.display.Javascript object>"
      ]
     },
     "metadata": {},
     "output_type": "display_data"
    },
    {
     "data": {
      "application/javascript": [
       "\n",
       "        if (window._pyforest_update_imports_cell) { window._pyforest_update_imports_cell('import re'); }\n",
       "    "
      ],
      "text/plain": [
       "<IPython.core.display.Javascript object>"
      ]
     },
     "metadata": {},
     "output_type": "display_data"
    },
    {
     "data": {
      "application/javascript": [
       "\n",
       "        if (window._pyforest_update_imports_cell) { window._pyforest_update_imports_cell('import re'); }\n",
       "    "
      ],
      "text/plain": [
       "<IPython.core.display.Javascript object>"
      ]
     },
     "metadata": {},
     "output_type": "display_data"
    },
    {
     "data": {
      "application/javascript": [
       "\n",
       "        if (window._pyforest_update_imports_cell) { window._pyforest_update_imports_cell('import re'); }\n",
       "    "
      ],
      "text/plain": [
       "<IPython.core.display.Javascript object>"
      ]
     },
     "metadata": {},
     "output_type": "display_data"
    },
    {
     "data": {
      "application/javascript": [
       "\n",
       "        if (window._pyforest_update_imports_cell) { window._pyforest_update_imports_cell('import re'); }\n",
       "    "
      ],
      "text/plain": [
       "<IPython.core.display.Javascript object>"
      ]
     },
     "metadata": {},
     "output_type": "display_data"
    },
    {
     "data": {
      "application/javascript": [
       "\n",
       "        if (window._pyforest_update_imports_cell) { window._pyforest_update_imports_cell('import re'); }\n",
       "    "
      ],
      "text/plain": [
       "<IPython.core.display.Javascript object>"
      ]
     },
     "metadata": {},
     "output_type": "display_data"
    },
    {
     "data": {
      "application/javascript": [
       "\n",
       "        if (window._pyforest_update_imports_cell) { window._pyforest_update_imports_cell('import re'); }\n",
       "    "
      ],
      "text/plain": [
       "<IPython.core.display.Javascript object>"
      ]
     },
     "metadata": {},
     "output_type": "display_data"
    },
    {
     "data": {
      "application/javascript": [
       "\n",
       "        if (window._pyforest_update_imports_cell) { window._pyforest_update_imports_cell('import re'); }\n",
       "    "
      ],
      "text/plain": [
       "<IPython.core.display.Javascript object>"
      ]
     },
     "metadata": {},
     "output_type": "display_data"
    },
    {
     "data": {
      "application/javascript": [
       "\n",
       "        if (window._pyforest_update_imports_cell) { window._pyforest_update_imports_cell('import re'); }\n",
       "    "
      ],
      "text/plain": [
       "<IPython.core.display.Javascript object>"
      ]
     },
     "metadata": {},
     "output_type": "display_data"
    },
    {
     "data": {
      "application/javascript": [
       "\n",
       "        if (window._pyforest_update_imports_cell) { window._pyforest_update_imports_cell('import re'); }\n",
       "    "
      ],
      "text/plain": [
       "<IPython.core.display.Javascript object>"
      ]
     },
     "metadata": {},
     "output_type": "display_data"
    },
    {
     "data": {
      "application/javascript": [
       "\n",
       "        if (window._pyforest_update_imports_cell) { window._pyforest_update_imports_cell('import re'); }\n",
       "    "
      ],
      "text/plain": [
       "<IPython.core.display.Javascript object>"
      ]
     },
     "metadata": {},
     "output_type": "display_data"
    },
    {
     "data": {
      "application/javascript": [
       "\n",
       "        if (window._pyforest_update_imports_cell) { window._pyforest_update_imports_cell('import re'); }\n",
       "    "
      ],
      "text/plain": [
       "<IPython.core.display.Javascript object>"
      ]
     },
     "metadata": {},
     "output_type": "display_data"
    },
    {
     "data": {
      "application/javascript": [
       "\n",
       "        if (window._pyforest_update_imports_cell) { window._pyforest_update_imports_cell('import re'); }\n",
       "    "
      ],
      "text/plain": [
       "<IPython.core.display.Javascript object>"
      ]
     },
     "metadata": {},
     "output_type": "display_data"
    },
    {
     "data": {
      "application/javascript": [
       "\n",
       "        if (window._pyforest_update_imports_cell) { window._pyforest_update_imports_cell('import re'); }\n",
       "    "
      ],
      "text/plain": [
       "<IPython.core.display.Javascript object>"
      ]
     },
     "metadata": {},
     "output_type": "display_data"
    },
    {
     "data": {
      "application/javascript": [
       "\n",
       "        if (window._pyforest_update_imports_cell) { window._pyforest_update_imports_cell('import re'); }\n",
       "    "
      ],
      "text/plain": [
       "<IPython.core.display.Javascript object>"
      ]
     },
     "metadata": {},
     "output_type": "display_data"
    },
    {
     "data": {
      "application/javascript": [
       "\n",
       "        if (window._pyforest_update_imports_cell) { window._pyforest_update_imports_cell('import re'); }\n",
       "    "
      ],
      "text/plain": [
       "<IPython.core.display.Javascript object>"
      ]
     },
     "metadata": {},
     "output_type": "display_data"
    },
    {
     "data": {
      "application/javascript": [
       "\n",
       "        if (window._pyforest_update_imports_cell) { window._pyforest_update_imports_cell('import re'); }\n",
       "    "
      ],
      "text/plain": [
       "<IPython.core.display.Javascript object>"
      ]
     },
     "metadata": {},
     "output_type": "display_data"
    },
    {
     "data": {
      "application/javascript": [
       "\n",
       "        if (window._pyforest_update_imports_cell) { window._pyforest_update_imports_cell('import re'); }\n",
       "    "
      ],
      "text/plain": [
       "<IPython.core.display.Javascript object>"
      ]
     },
     "metadata": {},
     "output_type": "display_data"
    },
    {
     "data": {
      "application/javascript": [
       "\n",
       "        if (window._pyforest_update_imports_cell) { window._pyforest_update_imports_cell('import re'); }\n",
       "    "
      ],
      "text/plain": [
       "<IPython.core.display.Javascript object>"
      ]
     },
     "metadata": {},
     "output_type": "display_data"
    },
    {
     "data": {
      "application/javascript": [
       "\n",
       "        if (window._pyforest_update_imports_cell) { window._pyforest_update_imports_cell('import re'); }\n",
       "    "
      ],
      "text/plain": [
       "<IPython.core.display.Javascript object>"
      ]
     },
     "metadata": {},
     "output_type": "display_data"
    },
    {
     "data": {
      "application/javascript": [
       "\n",
       "        if (window._pyforest_update_imports_cell) { window._pyforest_update_imports_cell('import re'); }\n",
       "    "
      ],
      "text/plain": [
       "<IPython.core.display.Javascript object>"
      ]
     },
     "metadata": {},
     "output_type": "display_data"
    },
    {
     "data": {
      "application/javascript": [
       "\n",
       "        if (window._pyforest_update_imports_cell) { window._pyforest_update_imports_cell('import re'); }\n",
       "    "
      ],
      "text/plain": [
       "<IPython.core.display.Javascript object>"
      ]
     },
     "metadata": {},
     "output_type": "display_data"
    },
    {
     "data": {
      "application/javascript": [
       "\n",
       "        if (window._pyforest_update_imports_cell) { window._pyforest_update_imports_cell('import re'); }\n",
       "    "
      ],
      "text/plain": [
       "<IPython.core.display.Javascript object>"
      ]
     },
     "metadata": {},
     "output_type": "display_data"
    },
    {
     "data": {
      "application/javascript": [
       "\n",
       "        if (window._pyforest_update_imports_cell) { window._pyforest_update_imports_cell('import re'); }\n",
       "    "
      ],
      "text/plain": [
       "<IPython.core.display.Javascript object>"
      ]
     },
     "metadata": {},
     "output_type": "display_data"
    },
    {
     "data": {
      "application/javascript": [
       "\n",
       "        if (window._pyforest_update_imports_cell) { window._pyforest_update_imports_cell('import re'); }\n",
       "    "
      ],
      "text/plain": [
       "<IPython.core.display.Javascript object>"
      ]
     },
     "metadata": {},
     "output_type": "display_data"
    },
    {
     "data": {
      "application/javascript": [
       "\n",
       "        if (window._pyforest_update_imports_cell) { window._pyforest_update_imports_cell('import re'); }\n",
       "    "
      ],
      "text/plain": [
       "<IPython.core.display.Javascript object>"
      ]
     },
     "metadata": {},
     "output_type": "display_data"
    },
    {
     "data": {
      "application/javascript": [
       "\n",
       "        if (window._pyforest_update_imports_cell) { window._pyforest_update_imports_cell('import re'); }\n",
       "    "
      ],
      "text/plain": [
       "<IPython.core.display.Javascript object>"
      ]
     },
     "metadata": {},
     "output_type": "display_data"
    },
    {
     "data": {
      "application/javascript": [
       "\n",
       "        if (window._pyforest_update_imports_cell) { window._pyforest_update_imports_cell('import re'); }\n",
       "    "
      ],
      "text/plain": [
       "<IPython.core.display.Javascript object>"
      ]
     },
     "metadata": {},
     "output_type": "display_data"
    },
    {
     "data": {
      "application/javascript": [
       "\n",
       "        if (window._pyforest_update_imports_cell) { window._pyforest_update_imports_cell('import re'); }\n",
       "    "
      ],
      "text/plain": [
       "<IPython.core.display.Javascript object>"
      ]
     },
     "metadata": {},
     "output_type": "display_data"
    },
    {
     "data": {
      "application/javascript": [
       "\n",
       "        if (window._pyforest_update_imports_cell) { window._pyforest_update_imports_cell('import re'); }\n",
       "    "
      ],
      "text/plain": [
       "<IPython.core.display.Javascript object>"
      ]
     },
     "metadata": {},
     "output_type": "display_data"
    },
    {
     "data": {
      "application/javascript": [
       "\n",
       "        if (window._pyforest_update_imports_cell) { window._pyforest_update_imports_cell('import re'); }\n",
       "    "
      ],
      "text/plain": [
       "<IPython.core.display.Javascript object>"
      ]
     },
     "metadata": {},
     "output_type": "display_data"
    },
    {
     "data": {
      "application/javascript": [
       "\n",
       "        if (window._pyforest_update_imports_cell) { window._pyforest_update_imports_cell('import re'); }\n",
       "    "
      ],
      "text/plain": [
       "<IPython.core.display.Javascript object>"
      ]
     },
     "metadata": {},
     "output_type": "display_data"
    },
    {
     "data": {
      "application/javascript": [
       "\n",
       "        if (window._pyforest_update_imports_cell) { window._pyforest_update_imports_cell('import re'); }\n",
       "    "
      ],
      "text/plain": [
       "<IPython.core.display.Javascript object>"
      ]
     },
     "metadata": {},
     "output_type": "display_data"
    },
    {
     "data": {
      "application/javascript": [
       "\n",
       "        if (window._pyforest_update_imports_cell) { window._pyforest_update_imports_cell('import re'); }\n",
       "    "
      ],
      "text/plain": [
       "<IPython.core.display.Javascript object>"
      ]
     },
     "metadata": {},
     "output_type": "display_data"
    },
    {
     "data": {
      "application/javascript": [
       "\n",
       "        if (window._pyforest_update_imports_cell) { window._pyforest_update_imports_cell('import re'); }\n",
       "    "
      ],
      "text/plain": [
       "<IPython.core.display.Javascript object>"
      ]
     },
     "metadata": {},
     "output_type": "display_data"
    },
    {
     "data": {
      "application/javascript": [
       "\n",
       "        if (window._pyforest_update_imports_cell) { window._pyforest_update_imports_cell('import re'); }\n",
       "    "
      ],
      "text/plain": [
       "<IPython.core.display.Javascript object>"
      ]
     },
     "metadata": {},
     "output_type": "display_data"
    },
    {
     "data": {
      "application/javascript": [
       "\n",
       "        if (window._pyforest_update_imports_cell) { window._pyforest_update_imports_cell('import re'); }\n",
       "    "
      ],
      "text/plain": [
       "<IPython.core.display.Javascript object>"
      ]
     },
     "metadata": {},
     "output_type": "display_data"
    },
    {
     "data": {
      "application/javascript": [
       "\n",
       "        if (window._pyforest_update_imports_cell) { window._pyforest_update_imports_cell('import re'); }\n",
       "    "
      ],
      "text/plain": [
       "<IPython.core.display.Javascript object>"
      ]
     },
     "metadata": {},
     "output_type": "display_data"
    },
    {
     "data": {
      "application/javascript": [
       "\n",
       "        if (window._pyforest_update_imports_cell) { window._pyforest_update_imports_cell('import re'); }\n",
       "    "
      ],
      "text/plain": [
       "<IPython.core.display.Javascript object>"
      ]
     },
     "metadata": {},
     "output_type": "display_data"
    },
    {
     "data": {
      "application/javascript": [
       "\n",
       "        if (window._pyforest_update_imports_cell) { window._pyforest_update_imports_cell('import re'); }\n",
       "    "
      ],
      "text/plain": [
       "<IPython.core.display.Javascript object>"
      ]
     },
     "metadata": {},
     "output_type": "display_data"
    },
    {
     "data": {
      "application/javascript": [
       "\n",
       "        if (window._pyforest_update_imports_cell) { window._pyforest_update_imports_cell('import re'); }\n",
       "    "
      ],
      "text/plain": [
       "<IPython.core.display.Javascript object>"
      ]
     },
     "metadata": {},
     "output_type": "display_data"
    },
    {
     "data": {
      "application/javascript": [
       "\n",
       "        if (window._pyforest_update_imports_cell) { window._pyforest_update_imports_cell('import re'); }\n",
       "    "
      ],
      "text/plain": [
       "<IPython.core.display.Javascript object>"
      ]
     },
     "metadata": {},
     "output_type": "display_data"
    },
    {
     "data": {
      "application/javascript": [
       "\n",
       "        if (window._pyforest_update_imports_cell) { window._pyforest_update_imports_cell('import re'); }\n",
       "    "
      ],
      "text/plain": [
       "<IPython.core.display.Javascript object>"
      ]
     },
     "metadata": {},
     "output_type": "display_data"
    },
    {
     "name": "stdout",
     "output_type": "stream",
     "text": [
      "24\n",
      "[{'minutes': '15'}, {'minutes': '15'}, {'minutes': '20'}, {'minutes': '10'}, {'minutes': '10'}, {'minutes': '25'}, {'minutes': '20'}, '-', {'minutes': '20'}, {'minutes': '20'}, {'minutes': '15'}, {'minutes': '15'}, {'minutes': '20'}, {'minutes': '25'}, {'minutes': '15'}, {'minutes': '30'}, {'minutes': '15'}, {'minutes': '20'}, {'minutes': '15'}, {'minutes': '25'}, {'minutes': '20'}, {'minutes': '15'}, {'minutes': '30'}, {'minutes': '20'}]\n",
      "24\n",
      "[{'minutes': '20'}, {'minutes': '15'}, {'minutes': '25'}, {'minutes': '10'}, {'minutes': '10'}, {'minutes': '20'}, {'minutes': '10'}, '-', {'minutes': '20'}, {'minutes': '10'}, {'minutes': '30'}, {'minutes': '30'}, {'minutes': '25'}, {'minutes': '20'}, {'minutes': '15'}, {'hours': '3'}, {'hours': '5'}, {'minutes': '25'}, {'minutes': '15'}, {'hours': '3'}, {'minutes': '25'}, {'minutes': '30'}, {'minutes': '45'}, {'minutes': '20'}]\n",
      "24\n",
      "[{'minutes': '35'}, {'minutes': '30'}, {'minutes': '45'}, {'minutes': '20'}, {'minutes': '20'}, {'minutes': '45'}, {'minutes': '30'}, '-', {'minutes': '40'}, {'minutes': '30'}, {'minutes': '45'}, {'minutes': '45'}, {'minutes': '45'}, {'minutes': '45'}, {'minutes': '30'}, {'hours': '3', 'minutes': '30'}, {'hours': '5', 'minutes': '15'}, {'minutes': '45'}, {'minutes': '30'}, {'hours': '3', 'minutes': '25'}, {'minutes': '40'}, {'minutes': '45'}, {'hours': '1', 'minutes': '15'}, {'minutes': '40'}]\n"
     ]
    }
   ],
   "source": [
    "prep_time = []\n",
    "cook_time = []\n",
    "total_time = []\n",
    "\n",
    "for card in cards:\n",
    "    link_tag = card.find('a')\n",
    "    recipe_url = link_tag['href']\n",
    "    try:\n",
    "        response = requests.get(recipe_url, headers=headers)\n",
    "        response.raise_for_status()  # Raise an exception for non-200 status codes\n",
    "        temp_soup = BeautifulSoup(response.text, 'lxml')\n",
    "        \n",
    "        prep_time_elem = temp_soup.find(class_='wprm-recipe-prep-time-container')\n",
    "        cook_time_elem = temp_soup.find(class_='wprm-recipe-cook-time-container')\n",
    "        total_time_elem = temp_soup.find(class_='wprm-recipe-total-time-container')\n",
    "\n",
    "        # PREP TIME\n",
    "        if prep_time_elem:\n",
    "            time_dict = {}\n",
    "            hours_tag = prep_time_elem.find('span', class_='wprm-recipe-prep_time-hours')\n",
    "            minutes_tag = prep_time_elem.find('span', class_='wprm-recipe-prep_time-minutes')\n",
    "\n",
    "            if hours_tag:\n",
    "                hours_text = hours_tag.text.strip() if hours_tag else None\n",
    "                hours_value = re.sub(r'\\D', '', hours_text) if hours_text else None\n",
    "                time_dict['hours'] = hours_value\n",
    "            if minutes_tag:\n",
    "                minutes_text = minutes_tag.text.strip() if minutes_tag else None\n",
    "                minutes_value = re.sub(r'\\D', '', minutes_text) if minutes_text else None\n",
    "                time_dict['minutes'] = minutes_value\n",
    "            prep_time.append(time_dict) \n",
    "        else:\n",
    "            prep_time.append('-')\n",
    "        \n",
    "        \n",
    "        # COOK TIME\n",
    "        if cook_time_elem:\n",
    "            time_dict = {}\n",
    "            hours_tag = cook_time_elem.find('span', class_='wprm-recipe-cook_time-hours')\n",
    "            minutes_tag = cook_time_elem.find('span', class_='wprm-recipe-cook_time-minutes')\n",
    "\n",
    "            if hours_tag:\n",
    "                hours_text = hours_tag.text.strip() if hours_tag else None\n",
    "                hours_value = re.sub(r'\\D', '', hours_text) if hours_text else None\n",
    "                time_dict['hours'] = hours_value\n",
    "            if minutes_tag:\n",
    "                minutes_text = minutes_tag.text.strip() if minutes_tag else None\n",
    "                minutes_value = re.sub(r'\\D', '', minutes_text) if minutes_text else None\n",
    "                time_dict['minutes'] = minutes_value\n",
    "\n",
    "            cook_time.append(time_dict) \n",
    "        else:\n",
    "            cook_time.append('-')\n",
    "        \n",
    "        \n",
    "        # TOTAL TIME\n",
    "        if total_time_elem:\n",
    "            time_dict = {}\n",
    "            hours_tag = total_time_elem.find('span', class_='wprm-recipe-total_time-hours')\n",
    "            minutes_tag = total_time_elem.find('span', class_='wprm-recipe-total_time-minutes')\n",
    "\n",
    "            if hours_tag:\n",
    "                hours_text = hours_tag.text.strip() if hours_tag else None\n",
    "                hours_value = re.sub(r'\\D', '', hours_text) if hours_text else None\n",
    "                time_dict['hours'] = hours_value\n",
    "            if minutes_tag:\n",
    "                minutes_text = minutes_tag.text.strip() if minutes_tag else None\n",
    "                minutes_value = re.sub(r'\\D', '', minutes_text) if minutes_text else None\n",
    "                time_dict['minutes'] = minutes_value\n",
    "            total_time.append(time_dict) \n",
    "        else:\n",
    "            total_time.append('-')\n",
    "        \n",
    "        \n",
    "\n",
    "    except requests.exceptions.RequestException as e:\n",
    "        print(f\"Failed to fetch the page: {e}\")\n",
    "        continue  # Move to the next card if there's an error\n",
    "\n",
    "\n",
    "print(len(prep_time))\n",
    "print(prep_time)\n",
    "\n",
    "print(len(cook_time))\n",
    "print(cook_time)\n",
    "\n",
    "print(len(total_time))\n",
    "print(total_time)"
   ]
  },
  {
   "cell_type": "code",
   "execution_count": 32,
   "id": "7ec11f72",
   "metadata": {},
   "outputs": [],
   "source": [
    "df = pd.DataFrame()"
   ]
  },
  {
   "cell_type": "code",
   "execution_count": 52,
   "id": "35b9ab25",
   "metadata": {},
   "outputs": [],
   "source": [
    "df['title'] = title\n",
    "df['prep_time'] = prep_time\n",
    "df['cook_time'] = cook_time\n",
    "df['total_time'] = total_time"
   ]
  },
  {
   "cell_type": "code",
   "execution_count": 53,
   "id": "60542d5a",
   "metadata": {},
   "outputs": [
    {
     "data": {
      "text/html": [
       "<div>\n",
       "<style scoped>\n",
       "    .dataframe tbody tr th:only-of-type {\n",
       "        vertical-align: middle;\n",
       "    }\n",
       "\n",
       "    .dataframe tbody tr th {\n",
       "        vertical-align: top;\n",
       "    }\n",
       "\n",
       "    .dataframe thead th {\n",
       "        text-align: right;\n",
       "    }\n",
       "</style>\n",
       "<table border=\"1\" class=\"dataframe\">\n",
       "  <thead>\n",
       "    <tr style=\"text-align: right;\">\n",
       "      <th></th>\n",
       "      <th>title</th>\n",
       "      <th>prep_time</th>\n",
       "      <th>cook_time</th>\n",
       "      <th>total_time</th>\n",
       "    </tr>\n",
       "  </thead>\n",
       "  <tbody>\n",
       "    <tr>\n",
       "      <th>0</th>\n",
       "      <td>Garlic Butter Baked Salmon In Lemony Parmesan ...</td>\n",
       "      <td>{'minutes': '15'}</td>\n",
       "      <td>{'minutes': '20'}</td>\n",
       "      <td>{'minutes': '35'}</td>\n",
       "    </tr>\n",
       "    <tr>\n",
       "      <th>1</th>\n",
       "      <td>Pineapple Adobo Chicken Skewers</td>\n",
       "      <td>{'minutes': '15'}</td>\n",
       "      <td>{'minutes': '15'}</td>\n",
       "      <td>{'minutes': '30'}</td>\n",
       "    </tr>\n",
       "    <tr>\n",
       "      <th>2</th>\n",
       "      <td>Marry Me Chicken Meatballs</td>\n",
       "      <td>{'minutes': '20'}</td>\n",
       "      <td>{'minutes': '25'}</td>\n",
       "      <td>{'minutes': '45'}</td>\n",
       "    </tr>\n",
       "    <tr>\n",
       "      <th>3</th>\n",
       "      <td>20 Minute Ginger Cashew Beef</td>\n",
       "      <td>{'minutes': '10'}</td>\n",
       "      <td>{'minutes': '10'}</td>\n",
       "      <td>{'minutes': '20'}</td>\n",
       "    </tr>\n",
       "    <tr>\n",
       "      <th>4</th>\n",
       "      <td>Lemon Butter Orzo Carbonara</td>\n",
       "      <td>{'minutes': '10'}</td>\n",
       "      <td>{'minutes': '10'}</td>\n",
       "      <td>{'minutes': '20'}</td>\n",
       "    </tr>\n",
       "    <tr>\n",
       "      <th>5</th>\n",
       "      <td>Avocado Bacon Chicken Salad with Jalapeño Hone...</td>\n",
       "      <td>{'minutes': '25'}</td>\n",
       "      <td>{'minutes': '20'}</td>\n",
       "      <td>{'minutes': '45'}</td>\n",
       "    </tr>\n",
       "    <tr>\n",
       "      <th>6</th>\n",
       "      <td>Italian Chop Pasta Salad</td>\n",
       "      <td>{'minutes': '20'}</td>\n",
       "      <td>{'minutes': '10'}</td>\n",
       "      <td>{'minutes': '30'}</td>\n",
       "    </tr>\n",
       "    <tr>\n",
       "      <th>7</th>\n",
       "      <td>-</td>\n",
       "      <td>-</td>\n",
       "      <td>-</td>\n",
       "      <td>-</td>\n",
       "    </tr>\n",
       "    <tr>\n",
       "      <th>8</th>\n",
       "      <td>Baked Honey Balsamic Chicken with Charred Lemo...</td>\n",
       "      <td>{'minutes': '20'}</td>\n",
       "      <td>{'minutes': '20'}</td>\n",
       "      <td>{'minutes': '40'}</td>\n",
       "    </tr>\n",
       "    <tr>\n",
       "      <th>9</th>\n",
       "      <td>Creamy Avocado Ranch Chicken Pasta Salad</td>\n",
       "      <td>{'minutes': '20'}</td>\n",
       "      <td>{'minutes': '10'}</td>\n",
       "      <td>{'minutes': '30'}</td>\n",
       "    </tr>\n",
       "    <tr>\n",
       "      <th>10</th>\n",
       "      <td>Baked Coconut Curry Salmon</td>\n",
       "      <td>{'minutes': '15'}</td>\n",
       "      <td>{'minutes': '30'}</td>\n",
       "      <td>{'minutes': '45'}</td>\n",
       "    </tr>\n",
       "    <tr>\n",
       "      <th>11</th>\n",
       "      <td>Skillet Creamy Chipotle Chicken Enchiladas</td>\n",
       "      <td>{'minutes': '15'}</td>\n",
       "      <td>{'minutes': '30'}</td>\n",
       "      <td>{'minutes': '45'}</td>\n",
       "    </tr>\n",
       "    <tr>\n",
       "      <th>12</th>\n",
       "      <td>Sheet Pan Sesame Miso Chicken and Sweet Potatoes</td>\n",
       "      <td>{'minutes': '20'}</td>\n",
       "      <td>{'minutes': '25'}</td>\n",
       "      <td>{'minutes': '45'}</td>\n",
       "    </tr>\n",
       "    <tr>\n",
       "      <th>13</th>\n",
       "      <td>Chicken Tzatziki Salad</td>\n",
       "      <td>{'minutes': '25'}</td>\n",
       "      <td>{'minutes': '20'}</td>\n",
       "      <td>{'minutes': '45'}</td>\n",
       "    </tr>\n",
       "    <tr>\n",
       "      <th>14</th>\n",
       "      <td>One Pot Broccoli Cheese Pesto Pasta</td>\n",
       "      <td>{'minutes': '15'}</td>\n",
       "      <td>{'minutes': '15'}</td>\n",
       "      <td>{'minutes': '30'}</td>\n",
       "    </tr>\n",
       "    <tr>\n",
       "      <th>15</th>\n",
       "      <td>Crockpot Chipotle Pineapple Pot Roast Bowls</td>\n",
       "      <td>{'minutes': '30'}</td>\n",
       "      <td>{'hours': '3'}</td>\n",
       "      <td>{'hours': '3', 'minutes': '30'}</td>\n",
       "    </tr>\n",
       "    <tr>\n",
       "      <th>16</th>\n",
       "      <td>Crockpot Thai Yellow Curry Chicken with Garlic...</td>\n",
       "      <td>{'minutes': '15'}</td>\n",
       "      <td>{'hours': '5'}</td>\n",
       "      <td>{'hours': '5', 'minutes': '15'}</td>\n",
       "    </tr>\n",
       "    <tr>\n",
       "      <th>17</th>\n",
       "      <td>Baked Lemon Rosemary Chicken Meatballs and Cre...</td>\n",
       "      <td>{'minutes': '20'}</td>\n",
       "      <td>{'minutes': '25'}</td>\n",
       "      <td>{'minutes': '45'}</td>\n",
       "    </tr>\n",
       "    <tr>\n",
       "      <th>18</th>\n",
       "      <td>30 Minute Thai Basil Beef Noodles</td>\n",
       "      <td>{'minutes': '15'}</td>\n",
       "      <td>{'minutes': '15'}</td>\n",
       "      <td>{'minutes': '30'}</td>\n",
       "    </tr>\n",
       "    <tr>\n",
       "      <th>19</th>\n",
       "      <td>Crispy Carnitas Tacos with Roasted Jalapeño Li...</td>\n",
       "      <td>{'minutes': '25'}</td>\n",
       "      <td>{'hours': '3'}</td>\n",
       "      <td>{'hours': '3', 'minutes': '25'}</td>\n",
       "    </tr>\n",
       "    <tr>\n",
       "      <th>20</th>\n",
       "      <td>One Pot Chili Cheese Mac</td>\n",
       "      <td>{'minutes': '20'}</td>\n",
       "      <td>{'minutes': '25'}</td>\n",
       "      <td>{'minutes': '40'}</td>\n",
       "    </tr>\n",
       "    <tr>\n",
       "      <th>21</th>\n",
       "      <td>One Pan Creamy Parmesan Ranch Chicken</td>\n",
       "      <td>{'minutes': '15'}</td>\n",
       "      <td>{'minutes': '30'}</td>\n",
       "      <td>{'minutes': '45'}</td>\n",
       "    </tr>\n",
       "    <tr>\n",
       "      <th>22</th>\n",
       "      <td>Sheet Pan Chicken Shawarma Havarti Sandwich</td>\n",
       "      <td>{'minutes': '30'}</td>\n",
       "      <td>{'minutes': '45'}</td>\n",
       "      <td>{'hours': '1', 'minutes': '15'}</td>\n",
       "    </tr>\n",
       "    <tr>\n",
       "      <th>23</th>\n",
       "      <td>Sheet Pan Korean Popcorn Chicken</td>\n",
       "      <td>{'minutes': '20'}</td>\n",
       "      <td>{'minutes': '20'}</td>\n",
       "      <td>{'minutes': '40'}</td>\n",
       "    </tr>\n",
       "  </tbody>\n",
       "</table>\n",
       "</div>"
      ],
      "text/plain": [
       "                                                title          prep_time  \\\n",
       "0   Garlic Butter Baked Salmon In Lemony Parmesan ...  {'minutes': '15'}   \n",
       "1                     Pineapple Adobo Chicken Skewers  {'minutes': '15'}   \n",
       "2                          Marry Me Chicken Meatballs  {'minutes': '20'}   \n",
       "3                        20 Minute Ginger Cashew Beef  {'minutes': '10'}   \n",
       "4                         Lemon Butter Orzo Carbonara  {'minutes': '10'}   \n",
       "5   Avocado Bacon Chicken Salad with Jalapeño Hone...  {'minutes': '25'}   \n",
       "6                            Italian Chop Pasta Salad  {'minutes': '20'}   \n",
       "7                                                   -                  -   \n",
       "8   Baked Honey Balsamic Chicken with Charred Lemo...  {'minutes': '20'}   \n",
       "9            Creamy Avocado Ranch Chicken Pasta Salad  {'minutes': '20'}   \n",
       "10                         Baked Coconut Curry Salmon  {'minutes': '15'}   \n",
       "11         Skillet Creamy Chipotle Chicken Enchiladas  {'minutes': '15'}   \n",
       "12   Sheet Pan Sesame Miso Chicken and Sweet Potatoes  {'minutes': '20'}   \n",
       "13                             Chicken Tzatziki Salad  {'minutes': '25'}   \n",
       "14                One Pot Broccoli Cheese Pesto Pasta  {'minutes': '15'}   \n",
       "15        Crockpot Chipotle Pineapple Pot Roast Bowls  {'minutes': '30'}   \n",
       "16  Crockpot Thai Yellow Curry Chicken with Garlic...  {'minutes': '15'}   \n",
       "17  Baked Lemon Rosemary Chicken Meatballs and Cre...  {'minutes': '20'}   \n",
       "18                  30 Minute Thai Basil Beef Noodles  {'minutes': '15'}   \n",
       "19  Crispy Carnitas Tacos with Roasted Jalapeño Li...  {'minutes': '25'}   \n",
       "20                           One Pot Chili Cheese Mac  {'minutes': '20'}   \n",
       "21              One Pan Creamy Parmesan Ranch Chicken  {'minutes': '15'}   \n",
       "22        Sheet Pan Chicken Shawarma Havarti Sandwich  {'minutes': '30'}   \n",
       "23                   Sheet Pan Korean Popcorn Chicken  {'minutes': '20'}   \n",
       "\n",
       "            cook_time                       total_time  \n",
       "0   {'minutes': '20'}                {'minutes': '35'}  \n",
       "1   {'minutes': '15'}                {'minutes': '30'}  \n",
       "2   {'minutes': '25'}                {'minutes': '45'}  \n",
       "3   {'minutes': '10'}                {'minutes': '20'}  \n",
       "4   {'minutes': '10'}                {'minutes': '20'}  \n",
       "5   {'minutes': '20'}                {'minutes': '45'}  \n",
       "6   {'minutes': '10'}                {'minutes': '30'}  \n",
       "7                   -                                -  \n",
       "8   {'minutes': '20'}                {'minutes': '40'}  \n",
       "9   {'minutes': '10'}                {'minutes': '30'}  \n",
       "10  {'minutes': '30'}                {'minutes': '45'}  \n",
       "11  {'minutes': '30'}                {'minutes': '45'}  \n",
       "12  {'minutes': '25'}                {'minutes': '45'}  \n",
       "13  {'minutes': '20'}                {'minutes': '45'}  \n",
       "14  {'minutes': '15'}                {'minutes': '30'}  \n",
       "15     {'hours': '3'}  {'hours': '3', 'minutes': '30'}  \n",
       "16     {'hours': '5'}  {'hours': '5', 'minutes': '15'}  \n",
       "17  {'minutes': '25'}                {'minutes': '45'}  \n",
       "18  {'minutes': '15'}                {'minutes': '30'}  \n",
       "19     {'hours': '3'}  {'hours': '3', 'minutes': '25'}  \n",
       "20  {'minutes': '25'}                {'minutes': '40'}  \n",
       "21  {'minutes': '30'}                {'minutes': '45'}  \n",
       "22  {'minutes': '45'}  {'hours': '1', 'minutes': '15'}  \n",
       "23  {'minutes': '20'}                {'minutes': '40'}  "
      ]
     },
     "execution_count": 53,
     "metadata": {},
     "output_type": "execute_result"
    }
   ],
   "source": [
    "df"
   ]
  },
  {
   "cell_type": "code",
   "execution_count": 60,
   "id": "f3d6b60d",
   "metadata": {},
   "outputs": [
    {
     "name": "stdout",
     "output_type": "stream",
     "text": [
      "24\n",
      "[{'salmon filets, skin on or off': '4', 'salt and black pepper': 'seasoning', 'salted butter': '4', 'fresh thyme leaves': '2', 'garlic, lightly smashed': '4', 'shallot, thinly. sliced': '1', 'chili flakes': 'seasoning', 'heavy cream': '1', 'salsa verde': '1/3', 'grated parmesan cheese': '1', 'chopped sun-dried tomatoes': '1/2', 'fresh baby spinach': '3', 'lemon juice, plus 1 tablespoon zest': '1', 'chopped fresh dill': '2', 'chopped green onions': '1/4'}, {'toasted sesame oil or olive oil': '2', 'tamari or low sodium soy sauce': '1/2', 'rice or apple cider vinegar': '1/2', 'honey': '3', 'jalapeños, seeded, if desired, and sliced': '1-2', 'garlic, chopped': '6', 'grated fresh ginger': '1', 'chicken breasts or thighs, cut into bite-size chunks': '1 1/2', 'fresh pineapple chunks': '3', 'green onions and basil, for serving': 'seasoning', 'mayo': '1/2', 'sweet Thai chili sauce': '1/3', 'ketchup': '2', 'tamari/soy sauce': '1', 'jalapeño, chopped': '1', 'clove garlic, grated': '1', 'lime zest': '2', 'toasted sesame seeds': '2'}, {'oil-packed sun-dried tomatoes, oil drained': '1/2', 'ground chicken': '1 1/2', 'basil pesto': '2', 'Italian seasoning': '2', 'chili flakes': 'seasoning', 'salt and black pepper': 'seasoning', 'grated parmesan cheese': '1', 'prosciutto, torn': '3', 'salted butter': '2', 'shallot, chopped': '1', 'garlic, chopped': '2', 'tomato paste': '1', 'dry white wine': '1', 'heavy cream or canned full fat coconut milk': '1', 'fresh basil, for serving': 'seasoning'}, {'sesame oil': '3', 'flank or skirt steak, thinly sliced': '2', 'arrowroot powder or cornstarch': '1', 'broccoli': '1 1/2', 'shallots, sliced': '2', 'salted butter': '3', 'garlic, chopped': '4', 'chopped fresh or pickled ginger': '1', 'cashews': '1', 'tamari or soy sauce': '1/3', 'sweet Thai red chile sauce': '1/3', 'pickled ginger juice or rice vinegar': '2', 'mango, chopped': '1', 'jalapeño, seeded, if desired, and chopped': '1', 'fresh Thai basil or cilantro. chopped': '1/2', 'green onions, chopped': '2', 'lime juice': '2', 'coconut rice, for serving': 'seasoning'}, {'bacon, chopped': '6', 'salted butter, at room temperature': '2', 'lemon, sliced': '1', 'fresh thyme leaves': '2', 'garlic, chopped': '2', 'dry orzo pasta': '1', 'fresh baby spinach': '2', 'salt and black pepper': 'seasoning', 'large eggs, at room temperature': '3', 'freshly grated parmesan cheese': '1', 'fresh basil, chopped': '1/4'}, {'extra virgin olive oil': '1/3', 'boneless skinless chicken breasts or thighs, cubed': '1', 'chipotle chili powder': '2', 'smoked paprika': '2', 'garlic powder': '1', 'onion powder': '1', 'chili flakes, salt, and black pepper': 'seasoning', 'shredded lettuce or mixed greens': '6', 'cherry tomatoes halved': '1-2', 'sliced dill pickles': '1/2', 'crumbled feta cheese': '1', 'cooked bacon, chopped': '6', 'mixed herbs: basil + cilantro': '1', 'avocado, chopped': '1', 'lemon juice': '2', 'honey': '2', 'dijon mustard': '2', 'tahini': '2', 'apple cider vinegar': '2', 'pickled jalapeños, use to your taste': '1/2'}, {'extra virgin olive oil': '½', 'balsamic or red wine vinegar': '¼', 'lemon juice': '2', 'tahini': '2', 'honey': '2', 'small shallot, finely chopped': '1', 'garlic, grated': '2', 'dried oregano': '1', 'salt and black pepper': 'seasoning', 'chili flakes': 'seasoning', 'short-cut pasta': '1', 'thinly cut salami, sliced': '6', 'pepperoni, chopped': '3', 'mini mozzarella cheese balls': '1', 'cubed provolone cheese': '1', 'shaved parmesan cheese': '½', 'cherry tomatoes, halved': '2', 'mixed pitted olives, chopped': '1', 'red bell pepper, chopped': '1', 'sliced sun-dried tomatoes': '1/2', 'sliced pepperoncini': '½', 'fresh basil leaves': '1'}, {}, {'balsamic vinegar': '1/3', 'honey': '3-4', 'worcestershire': '2', 'shallots, chopped': '2', 'garlic, chopped': '2', 'dried thyme': '2', 'dried oregano': '2', 'salt and black pepper': 'seasoning', 'chili flakes': 'seasoning', 'boneless skinless chicken breasts or thighs': '2', 'salted butter': '2', 'asparagus, ends trimmed': '1', 'lemon, quartered': '1', 'crumbled feta': '1/2', 'toasted nuts/seeds': '2', 'chopped mixed herbs, I use dill and cilantro': '1/2'}, {'plain Greek yogurt or sour cream': '1/2', 'mayo': '1/3', 'dried parsley': '1', 'dried chives': '1', 'dried dill': '2', 'garlic powder': '2', 'onion powder': '2', 'salt and black pepper': 'seasoning', 'Worcestershire sauce': '2', 'buttermilk, plus more as needed': '2', 'short cut pasta': '1', 'salsa verde': '1/2', 'cooked shredded chicken': '2', 'cubed cheddar cheese': '1', 'cubed spicy cheddar cheese': '1/2', 'romaine lettuce, shredded': '1', 'cherry tomatoes, halved': '2', 'fresh chopped cilantro': '1/2', 'cooked bacon, crumbled': '8', 'avocado, diced': '1'}, {'salmon filets, cubed': '4', 'cream cheese, at room temperature': '2', 'spicy curry powder': '2-3', 'Thai red curry paste': '1/4', 'fresh grated ginger': '1', 'shallot, chopped': '1', 'salt and black pepper': 'seasoning', 'canned full-fat coconut milk': '1 1/2', 'tamari/soy sauce': '3', 'salted butter': '4', 'sesame seeds': '1', 'mango, diced': '1', 'jalapeño, seeded if desired, and chopped': '1', 'lime juice': '2', 'fresh cilantro or Thai basil, chopped': '1/4', 'green onions, chopped': '2'}, {'yellow onion, chopped': '1', 'boneless skinless chicken breasts': '1', 'smoked paprika': '1', 'garlic powder': '1', 'kosher salt': '1', 'chopped chipotle in adobo': '2-3', 'red enchilada sauce': '1', 'diced green chilies': '1', 'cream': '1', 'cilantro, chopped': '1/2', 'corn or flour tortillas': '6', 'shredded Mexican cheese': '1 1/2', 'limes, avocado, and yogurt, for serving': 'seasoning'}, {'sesame oil': '2', 'red or white miso paste': '2', 'tamari/soy sauce': '1/4', 'fresh grated ginger': '1', 'garlic, chopped': '2', 'honey': '2', 'chili flakes': 'seasoning', 'chopped green onions': '2', 'boneless skinless chicken breasts or thighs': '2', 'sesame seeds': '2', 'extra virgin olive oil': '2', 'small sweet potatoes, sliced': '3', 'asparagus, ends trimmed': '1', 'salt and black pepper': 'seasoning'}, {'extra virgin olive oil': '2', 'boneless skinless chicken breasts or thighs, cubed': '1 1/2', 'chipotle chili powder': '1', 'smoked paprika': '2', 'garlic powder': '1', 'onion powder': '1', 'honey': '1', 'chili flakes, salt, and black pepper': 'seasoning', 'shredded kale and/or romaine mixed': '4-5', 'Persian cucumbers, chopped': '2', 'oil-packed sun-dried tomatoes, sliced': '1/2', 'avocado diced/sliced': '1', 'crumbled feta cheese': '6', 'mixed herbs: basil, dill, parsley': '1', 'Tzakiki sauce': '1-2', 'sesame seeds': '2', 'tahini': '1/2', 'garlic, grated': '1', 'toasted sesame oil': '3', 'lemon or orange juice': '2', 'rice vinegar': '1'}, {'short-cut pasta': '1', 'chopped broccoli': '3', 'heavy cream or whole milk': '1', 'shredded colby jack or cheddar cheese': '2', 'garlic powder': '1', 'onion powder': '1', 'paprika': '1', 'hot sauce': '2', 'basil pesto': '3', 'grated parmesan cheese': '1/3', 'fresh chopped basil': '1/3', 'Kosher salt and black pepper': 'seasoning'}, {'chuck roast, halved': '1', 'extra virgin olive oil': '1/4', 'tomato paste': '1/4', 'tamari/soy sauce': '2', 'honey': '1', 'apple cider vinegar': '1', 'chopped pickled ginger': '1', 'chipotle chiles in adobo': '1-3', 'sweet or smoked paprika': '1', 'fresh thyme': '1', 'salt and black pepper': 'seasoning', 'fresh pineapple chunks': '3', 'avocado, diced': '1', 'jalapeño, sliced': '1', 'fresh cilantro, chopped': '1/2', 'lime juice': '1', 'mayo': '1/2', 'sweet Thai chili sauce': '1/3', 'small clove garlic, grated': '1', 'lime zest': '2'}, {'boneless chicken breasts, cubed': '2', 'plain Greek yogurt': '1/3', 'Thai red curry paste': '2', 'yellow curry powder': '2-3', 'chopped pickled ginger': '2', 'lemongrass paste': '1', 'yellow onion, chopped': '1', 'chopped potatoes and or sweet potatoes': '2', 'full-fat coconut milk': '1', 'fish sauce or tamari': '1', 'chopped fresh cilantro': '1/3', 'juice and zest of 1 lime': 'seasoning', 'salted butter': '4', 'garlic, chopped': '3-4', 'chopped green onion': '1/4', 'steamed rice, for serving': 'seasoning'}, {'ground chicken, pork, or turkey': '1 1/2', 'dijon mustard': '1', 'shallot, chopped': '1', 'garlic powder': '1', 'Italian seasoning': '1', 'dried rosemary': '2', 'smoked paprika': '1', 'salt and black pepper': 'seasoning', 'grated parmesan cheese': '1', 'extra virgin olive oil': '2', 'chopped lemon peel': '1', 'chopped fresh dill': '1', 'chili flakes': 'seasoning', 'dry orzo pasta': '1', 'dry white wine': '1/4', 'heavy cream or canned full fat coconut milk': '1/2', 'baby spinach, chopped': '3', 'shredded mozzarella or provolone cheese': '1'}, {'Pad Thai/wide rice noodles': '6', 'tamari or soy sauce': '1/3', 'Thai chili sauce': '1/4', 'fish sauce': '2', 'rice vinegar': '2', 'lemongrass paste': '1', 'black pepper and chili flakes': 'seasoning', 'sesame oil': '3', 'flank steak, thinly sliced': '1', 'bell peppers, thinly sliced': '2', 'butter, sliced': '2', 'shallot, sliced': '1', 'garlic, chopped': '4-6', 'chopped pickled ginger': '1', 'chopped cilantro or Thai basil': '1/2', 'green onions, chopped': '4', 'sesame seeds': '1/4', 'roasted peanuts, chopped': '1/3'}, {'pork butt, or 6 chicken thighs/breasts': '2-3', 'chipotle peppers in adobo, chopped': '2-3', 'garlic powder': '1', 'onion powder': '1', 'smoked paprika': '1', 'ground cumin': '1', 'dried oregano': '1', 'salt': '2', 'fresh orange juice': '1/2', 'fresh lime juice': '1/4', 'red enchilada sauce': '1', 'hard shell tacos': '12', 'shredded Mexican cheese': '2', 'jalapeño peppers': '1-2', 'avocados, diced': '2', 'fresh chopped cilantro': '1/3', 'lime juice': '2'}, {'ground beef': '1', 'yellow onion, chopped': '1', 'poblano pepper, seeded and chopped': '1', 'chili powder': '1', 'garlic powder': '2', 'smoked paprika': '2', 'ground cumin': '1', 'cayenne pepper': '1/4', 'crushed fire-roasted tomatoes': '1', 'tomato paste': '1/4', 'diced green chilies': '1', 'salt and black pepper': 'seasoning', 'chicken or beef broth': '2-3', 'short cut pasta': '1', 'hot sauce': '1/4', 'cream cheese, at room temperature': '2', 'shredded melty cheese': '2', 'green onions and cilantro, for serving': 'seasoning'}, {'small boneless chicken breasts or thighs': '2', 'cream cheese, at room temperature': '4', 'dried parsley': '1', 'dried chives': '1', 'dried dill': '2', 'garlic powder': '2', 'paprika': '1/2', 'yellow onion, chopped': '1', 'salsa verde': '1', 'pickled jalapeños': '2', 'heavy cream, or canned coconut milk': '1', 'grated parmesan cheese': '1', 'cold, salted butter, sliced': '2', 'chopped broccoli': '3'}, {'full-fat plain Greek yogurt': '1/3', 'extra virgin olive oil': '1/4', 'chicken breasts or thighs, sliced': '1 1/2', 'garlic, chopped': '6', 'shallots, chopped': '2', 'smoked paprika': '1', 'dried oregano': '2', 'turmeric': '1/2', 'chili flakes': 'seasoning', 'naan': '4', 'Caesar dressing, mayo, or garlic tahini': '1/2', 'Havarti cheese': '6', 'gouda cheese': '6', 'sun-dried tomatoes, sliced': '1/2', 'sliced dill pickles/pepperoncini': '1/2', 'pickled red onions': '1/2', 'fresh sprouts/microgreens': '2'}, {'boneless chicken breasts, cut into 2 inch cubes': '2', 'egg': '1', 'finely crushed corn flakes': '3', 'grated parmesan': '2', 'salt and black pepper': 'seasoning', 'extra virgin olive oil, for brushing': 'seasoning', 'broccoli florets': '3', 'spicy mayo, for serving': 'seasoning', 'tamari/soy sauce': '1/2', 'honey': '2', 'Gochujang': '1-2', 'rice vinegar': '2', 'fresh ginger, grated': '1', 'garlic, grated': '3', 'toasted sesame oil': '2', 'toasted sesame seeds': '3', 'chopped green onions': '3', 'chili flakes': 'seasoning'}]\n",
      "24\n",
      "[['salmon filets, skin on or off', 'salt and black pepper', 'salted butter', 'fresh thyme leaves', 'garlic, lightly smashed', 'shallot, thinly. sliced', 'chili flakes', 'heavy cream', 'salsa verde', 'grated parmesan cheese', 'chopped sun-dried tomatoes', 'fresh baby spinach', 'lemon juice, plus 1 tablespoon zest', 'chopped fresh dill', 'chopped green onions'], ['toasted sesame oil or olive oil', 'tamari or low sodium soy sauce', 'rice or apple cider vinegar', 'honey', 'jalapeños, seeded, if desired, and sliced', 'garlic, chopped', 'grated fresh ginger', 'chicken breasts or thighs, cut into bite-size chunks', 'fresh pineapple chunks', 'green onions and basil, for serving', 'mayo', 'sweet Thai chili sauce', 'ketchup', 'tamari/soy sauce', 'jalapeño, chopped', 'clove garlic, grated', 'lime zest', 'toasted sesame seeds'], ['oil-packed sun-dried tomatoes, oil drained', 'ground chicken', 'basil pesto', 'Italian seasoning', 'chili flakes', 'salt and black pepper', 'grated parmesan cheese', 'prosciutto, torn', 'salted butter', 'shallot, chopped', 'garlic, chopped', 'tomato paste', 'dry white wine', 'heavy cream or canned full fat coconut milk', 'fresh basil, for serving'], ['sesame oil', 'flank or skirt steak, thinly sliced', 'arrowroot powder or cornstarch', 'broccoli', 'shallots, sliced', 'salted butter', 'garlic, chopped', 'chopped fresh or pickled ginger', 'cashews', 'tamari or soy sauce', 'sweet Thai red chile sauce', 'pickled ginger juice or rice vinegar', 'mango, chopped', 'jalapeño, seeded, if desired, and chopped', 'fresh Thai basil or cilantro. chopped', 'green onions, chopped', 'lime juice', 'coconut rice, for serving'], ['bacon, chopped', 'salted butter, at room temperature', 'lemon, sliced', 'fresh thyme leaves', 'garlic, chopped', 'dry orzo pasta', 'fresh baby spinach', 'salt and black pepper', 'large eggs, at room temperature', 'freshly grated parmesan cheese', 'fresh basil, chopped'], ['extra virgin olive oil', 'boneless skinless chicken breasts or thighs, cubed', 'chipotle chili powder', 'smoked paprika', 'garlic powder', 'onion powder', 'chili flakes, salt, and black pepper', 'shredded lettuce or mixed greens', 'cherry tomatoes halved', 'sliced dill pickles', 'crumbled feta cheese', 'cooked bacon, chopped', 'mixed herbs: basil + cilantro', 'avocado, chopped', 'extra virgin olive oil', 'lemon juice', 'honey', 'dijon mustard', 'tahini', 'apple cider vinegar', 'pickled jalapeños, use to your taste'], ['extra virgin olive oil', 'balsamic or red wine vinegar', 'lemon juice', 'tahini', 'honey', 'small shallot, finely chopped', 'garlic, grated', 'dried oregano', 'salt and black pepper', 'chili flakes', 'short-cut pasta', 'thinly cut salami, sliced', 'pepperoni, chopped', 'mini mozzarella cheese balls', 'cubed provolone cheese', 'shaved parmesan cheese', 'cherry tomatoes, halved', 'mixed pitted olives, chopped', 'red bell pepper, chopped', 'sliced sun-dried tomatoes', 'sliced pepperoncini', 'fresh basil leaves'], [], ['balsamic vinegar', 'honey', 'worcestershire', 'shallots, chopped', 'garlic, chopped', 'dried thyme', 'dried oregano', 'salt and black pepper', 'chili flakes', 'boneless skinless chicken breasts or thighs', 'salted butter', 'asparagus, ends trimmed', 'lemon, quartered', 'crumbled feta', 'toasted nuts/seeds', 'chopped mixed herbs, I use dill and cilantro'], ['plain Greek yogurt or sour cream', 'mayo', 'dried parsley', 'dried chives', 'dried dill', 'garlic powder', 'onion powder', 'salt and black pepper', 'Worcestershire sauce', 'buttermilk, plus more as needed', 'short cut pasta', 'salsa verde', 'cooked shredded chicken', 'cubed cheddar cheese', 'cubed spicy cheddar cheese', 'romaine lettuce, shredded', 'cherry tomatoes, halved', 'fresh chopped cilantro', 'cooked bacon, crumbled', 'avocado, diced'], ['salmon filets, cubed', 'cream cheese, at room temperature', 'spicy curry powder', 'Thai red curry paste', 'fresh grated ginger', 'shallot, chopped', 'salt and black pepper', 'canned full-fat coconut milk', 'tamari/soy sauce', 'salted butter', 'sesame seeds', 'mango, diced', 'jalapeño, seeded if desired, and chopped', 'lime juice', 'fresh cilantro or Thai basil, chopped', 'green onions, chopped'], ['yellow onion, chopped', 'boneless skinless chicken breasts', 'smoked paprika', 'garlic powder', 'kosher salt', 'chopped chipotle in adobo', 'red enchilada sauce', 'diced green chilies', 'cream', 'cilantro, chopped', 'corn or flour tortillas', 'shredded Mexican cheese', 'limes, avocado, and yogurt, for serving'], ['sesame oil', 'red or white miso paste', 'tamari/soy sauce', 'fresh grated ginger', 'garlic, chopped', 'honey', 'chili flakes', 'chopped green onions', 'boneless skinless chicken breasts or thighs', 'sesame seeds', 'extra virgin olive oil', 'small sweet potatoes, sliced', 'asparagus, ends trimmed', 'salt and black pepper'], ['extra virgin olive oil', 'boneless skinless chicken breasts or thighs, cubed', 'chipotle chili powder', 'smoked paprika', 'garlic powder', 'onion powder', 'honey', 'chili flakes, salt, and black pepper', 'shredded kale and/or romaine mixed', 'Persian cucumbers, chopped', 'oil-packed sun-dried tomatoes, sliced', 'avocado diced/sliced', 'crumbled feta cheese', 'mixed herbs: basil, dill, parsley', 'Tzakiki sauce', 'sesame seeds', 'tahini', 'garlic, grated', 'toasted sesame oil', 'lemon or orange juice', 'rice vinegar', 'honey'], ['short-cut pasta', 'chopped broccoli', 'heavy cream or whole milk', 'shredded colby jack or cheddar cheese', 'garlic powder', 'onion powder', 'paprika', 'hot sauce', 'basil pesto', 'grated parmesan cheese', 'fresh chopped basil', 'Kosher salt and black pepper'], ['chuck roast, halved', 'extra virgin olive oil', 'tomato paste', 'tamari/soy sauce', 'honey', 'apple cider vinegar', 'chopped pickled ginger', 'chipotle chiles in adobo', 'sweet or smoked paprika', 'fresh thyme', 'salt and black pepper', 'fresh pineapple chunks', 'avocado, diced', 'jalapeño, sliced', 'fresh cilantro, chopped', 'lime juice', 'mayo', 'sweet Thai chili sauce', 'tamari/soy sauce', 'small clove garlic, grated', 'lime zest', 'chopped pickled ginger'], ['boneless chicken breasts, cubed', 'plain Greek yogurt', 'Thai red curry paste', 'yellow curry powder', 'chopped pickled ginger', 'lemongrass paste', 'yellow onion, chopped', 'chopped potatoes and or sweet potatoes', 'full-fat coconut milk', 'fish sauce or tamari', 'chopped fresh cilantro', 'juice and zest of 1 lime', 'salted butter', 'garlic, chopped', 'chopped green onion', 'steamed rice, for serving'], ['ground chicken, pork, or turkey', 'dijon mustard', 'shallot, chopped', 'garlic powder', 'Italian seasoning', 'dried rosemary', 'smoked paprika', 'salt and black pepper', 'grated parmesan cheese', 'extra virgin olive oil', 'chopped lemon peel', 'chopped fresh dill', 'chili flakes', 'dry orzo pasta', 'dry white wine', 'heavy cream or canned full fat coconut milk', 'baby spinach, chopped', 'shredded mozzarella or provolone cheese'], ['Pad Thai/wide rice noodles', 'tamari or soy sauce', 'Thai chili sauce', 'fish sauce', 'rice vinegar', 'lemongrass paste', 'black pepper and chili flakes', 'sesame oil', 'flank steak, thinly sliced', 'bell peppers, thinly sliced', 'butter, sliced', 'shallot, sliced', 'garlic, chopped', 'chopped pickled ginger', 'chopped cilantro or Thai basil', 'green onions, chopped', 'sesame seeds', 'roasted peanuts, chopped'], ['pork butt, or 6 chicken thighs/breasts', 'chipotle peppers in adobo, chopped', 'garlic powder', 'onion powder', 'smoked paprika', 'ground cumin', 'dried oregano', 'salt', 'fresh orange juice', 'fresh lime juice', 'red enchilada sauce', 'hard shell tacos', 'shredded Mexican cheese', 'jalapeño peppers', 'avocados, diced', 'fresh chopped cilantro', 'lime juice'], ['ground beef', 'yellow onion, chopped', 'poblano pepper, seeded and chopped', 'chili powder', 'garlic powder', 'smoked paprika', 'ground cumin', 'cayenne pepper', 'crushed fire-roasted tomatoes', 'tomato paste', 'diced green chilies', 'salt and black pepper', 'chicken or beef broth', 'short cut pasta', 'hot sauce', 'cream cheese, at room temperature', 'shredded melty cheese', 'green onions and cilantro, for serving'], ['small boneless chicken breasts or thighs', 'cream cheese, at room temperature', 'dried parsley', 'dried chives', 'dried dill', 'garlic powder', 'paprika', 'yellow onion, chopped', 'salsa verde', 'pickled jalapeños', 'heavy cream, or canned coconut milk', 'grated parmesan cheese', 'cold, salted butter, sliced', 'chopped broccoli'], ['full-fat plain Greek yogurt', 'extra virgin olive oil', 'chicken breasts or thighs, sliced', 'garlic, chopped', 'shallots, chopped', 'smoked paprika', 'dried oregano', 'turmeric', 'chili flakes', 'naan', 'Caesar dressing, mayo, or garlic tahini', 'Havarti cheese', 'gouda cheese', 'sun-dried tomatoes, sliced', 'sliced dill pickles/pepperoncini', 'pickled red onions', 'fresh sprouts/microgreens'], ['boneless chicken breasts, cut into 2 inch cubes', 'egg', 'finely crushed corn flakes', 'grated parmesan', 'salt and black pepper', 'extra virgin olive oil, for brushing', 'broccoli florets', 'spicy mayo, for serving', 'tamari/soy sauce', 'honey', 'Gochujang', 'rice vinegar', 'fresh ginger, grated', 'garlic, grated', 'toasted sesame oil', 'toasted sesame seeds', 'chopped green onions', 'chili flakes']]\n"
     ]
    }
   ],
   "source": [
    "ingredients_measurment = []\n",
    "ingredients = []\n",
    "\n",
    "for card in cards:\n",
    "    link_tag = card.find('a')\n",
    "    recipe_url = link_tag['href']\n",
    "    try:\n",
    "        response = requests.get(recipe_url, headers=headers)\n",
    "        response.raise_for_status()  # Raise an exception for non-200 status codes\n",
    "        temp_soup = BeautifulSoup(response.text, 'lxml')\n",
    "        \n",
    "        ingr_list = temp_soup.find_all('li', class_='wprm-recipe-ingredient')\n",
    "        \n",
    "        ingredient_dict ={}\n",
    "        ingredients_recipe = []\n",
    "        for ingr in ingr_list:\n",
    "            ingr_amount_elem = ingr.find(class_='wprm-recipe-ingredient-amount')\n",
    "            ingr_amount = ingr_amount_elem.text.strip() if ingr_amount_elem else None\n",
    "            ingr_name_elem = ingr.find(class_='wprm-recipe-ingredient-name')\n",
    "            ingr_name = ingr_name_elem.text.strip() if ingr_name_elem else None\n",
    "            ingredient_dict[ingr_name] = ingr_amount if ingr_amount else \"seasoning\"\n",
    "            ingredients_recipe.append(ingr_name)\n",
    "        \n",
    "        ingredients_measurment.append(ingredient_dict)\n",
    "        ingredients.append(ingredients_recipe)\n",
    "        \n",
    "        \n",
    "        \n",
    "    except requests.exceptions.RequestException as e:\n",
    "        print(f\"Failed to fetch the page: {e}\")\n",
    "        continue  # Move to the next card if there's an error\n",
    "\n",
    "\n",
    "print(len(ingredients_measurment))\n",
    "print(ingredients_measurment)\n",
    "\n",
    "\n",
    "print(len(ingredients))\n",
    "print(ingredients)\n"
   ]
  },
  {
   "cell_type": "code",
   "execution_count": 61,
   "id": "0e6997b9",
   "metadata": {},
   "outputs": [
    {
     "data": {
      "text/html": [
       "<div>\n",
       "<style scoped>\n",
       "    .dataframe tbody tr th:only-of-type {\n",
       "        vertical-align: middle;\n",
       "    }\n",
       "\n",
       "    .dataframe tbody tr th {\n",
       "        vertical-align: top;\n",
       "    }\n",
       "\n",
       "    .dataframe thead th {\n",
       "        text-align: right;\n",
       "    }\n",
       "</style>\n",
       "<table border=\"1\" class=\"dataframe\">\n",
       "  <thead>\n",
       "    <tr style=\"text-align: right;\">\n",
       "      <th></th>\n",
       "      <th>title</th>\n",
       "      <th>prep_time</th>\n",
       "      <th>cook_time</th>\n",
       "      <th>total_time</th>\n",
       "      <th>ingredients</th>\n",
       "      <th>ingredients with measurement</th>\n",
       "    </tr>\n",
       "  </thead>\n",
       "  <tbody>\n",
       "    <tr>\n",
       "      <th>0</th>\n",
       "      <td>Garlic Butter Baked Salmon In Lemony Parmesan ...</td>\n",
       "      <td>{'minutes': '15'}</td>\n",
       "      <td>{'minutes': '20'}</td>\n",
       "      <td>{'minutes': '35'}</td>\n",
       "      <td>[salmon filets, skin on or off, salt and black...</td>\n",
       "      <td>{'salmon filets, skin on or off': '4', 'salt a...</td>\n",
       "    </tr>\n",
       "    <tr>\n",
       "      <th>1</th>\n",
       "      <td>Pineapple Adobo Chicken Skewers</td>\n",
       "      <td>{'minutes': '15'}</td>\n",
       "      <td>{'minutes': '15'}</td>\n",
       "      <td>{'minutes': '30'}</td>\n",
       "      <td>[toasted sesame oil or olive oil, tamari or lo...</td>\n",
       "      <td>{'toasted sesame oil or olive oil': '2', 'tama...</td>\n",
       "    </tr>\n",
       "    <tr>\n",
       "      <th>2</th>\n",
       "      <td>Marry Me Chicken Meatballs</td>\n",
       "      <td>{'minutes': '20'}</td>\n",
       "      <td>{'minutes': '25'}</td>\n",
       "      <td>{'minutes': '45'}</td>\n",
       "      <td>[oil-packed sun-dried tomatoes, oil drained, g...</td>\n",
       "      <td>{'oil-packed sun-dried tomatoes, oil drained':...</td>\n",
       "    </tr>\n",
       "    <tr>\n",
       "      <th>3</th>\n",
       "      <td>20 Minute Ginger Cashew Beef</td>\n",
       "      <td>{'minutes': '10'}</td>\n",
       "      <td>{'minutes': '10'}</td>\n",
       "      <td>{'minutes': '20'}</td>\n",
       "      <td>[sesame oil, flank or skirt steak, thinly slic...</td>\n",
       "      <td>{'sesame oil': '3', 'flank or skirt steak, thi...</td>\n",
       "    </tr>\n",
       "    <tr>\n",
       "      <th>4</th>\n",
       "      <td>Lemon Butter Orzo Carbonara</td>\n",
       "      <td>{'minutes': '10'}</td>\n",
       "      <td>{'minutes': '10'}</td>\n",
       "      <td>{'minutes': '20'}</td>\n",
       "      <td>[bacon, chopped, salted butter, at room temper...</td>\n",
       "      <td>{'bacon, chopped': '6', 'salted butter, at roo...</td>\n",
       "    </tr>\n",
       "    <tr>\n",
       "      <th>5</th>\n",
       "      <td>Avocado Bacon Chicken Salad with Jalapeño Hone...</td>\n",
       "      <td>{'minutes': '25'}</td>\n",
       "      <td>{'minutes': '20'}</td>\n",
       "      <td>{'minutes': '45'}</td>\n",
       "      <td>[extra virgin olive oil, boneless skinless chi...</td>\n",
       "      <td>{'extra virgin olive oil': '1/3', 'boneless sk...</td>\n",
       "    </tr>\n",
       "    <tr>\n",
       "      <th>6</th>\n",
       "      <td>Italian Chop Pasta Salad</td>\n",
       "      <td>{'minutes': '20'}</td>\n",
       "      <td>{'minutes': '10'}</td>\n",
       "      <td>{'minutes': '30'}</td>\n",
       "      <td>[extra virgin olive oil, balsamic or red wine ...</td>\n",
       "      <td>{'extra virgin olive oil': '½', 'balsamic or r...</td>\n",
       "    </tr>\n",
       "    <tr>\n",
       "      <th>7</th>\n",
       "      <td>-</td>\n",
       "      <td>-</td>\n",
       "      <td>-</td>\n",
       "      <td>-</td>\n",
       "      <td>[]</td>\n",
       "      <td>{}</td>\n",
       "    </tr>\n",
       "    <tr>\n",
       "      <th>8</th>\n",
       "      <td>Baked Honey Balsamic Chicken with Charred Lemo...</td>\n",
       "      <td>{'minutes': '20'}</td>\n",
       "      <td>{'minutes': '20'}</td>\n",
       "      <td>{'minutes': '40'}</td>\n",
       "      <td>[balsamic vinegar, honey, worcestershire, shal...</td>\n",
       "      <td>{'balsamic vinegar': '1/3', 'honey': '3-4', 'w...</td>\n",
       "    </tr>\n",
       "    <tr>\n",
       "      <th>9</th>\n",
       "      <td>Creamy Avocado Ranch Chicken Pasta Salad</td>\n",
       "      <td>{'minutes': '20'}</td>\n",
       "      <td>{'minutes': '10'}</td>\n",
       "      <td>{'minutes': '30'}</td>\n",
       "      <td>[plain Greek yogurt or sour cream, mayo, dried...</td>\n",
       "      <td>{'plain Greek yogurt or sour cream': '1/2', 'm...</td>\n",
       "    </tr>\n",
       "    <tr>\n",
       "      <th>10</th>\n",
       "      <td>Baked Coconut Curry Salmon</td>\n",
       "      <td>{'minutes': '15'}</td>\n",
       "      <td>{'minutes': '30'}</td>\n",
       "      <td>{'minutes': '45'}</td>\n",
       "      <td>[salmon filets, cubed, cream cheese, at room t...</td>\n",
       "      <td>{'salmon filets, cubed': '4', 'cream cheese, a...</td>\n",
       "    </tr>\n",
       "    <tr>\n",
       "      <th>11</th>\n",
       "      <td>Skillet Creamy Chipotle Chicken Enchiladas</td>\n",
       "      <td>{'minutes': '15'}</td>\n",
       "      <td>{'minutes': '30'}</td>\n",
       "      <td>{'minutes': '45'}</td>\n",
       "      <td>[yellow onion, chopped, boneless skinless chic...</td>\n",
       "      <td>{'yellow onion, chopped': '1', 'boneless skinl...</td>\n",
       "    </tr>\n",
       "    <tr>\n",
       "      <th>12</th>\n",
       "      <td>Sheet Pan Sesame Miso Chicken and Sweet Potatoes</td>\n",
       "      <td>{'minutes': '20'}</td>\n",
       "      <td>{'minutes': '25'}</td>\n",
       "      <td>{'minutes': '45'}</td>\n",
       "      <td>[sesame oil, red or white miso paste, tamari/s...</td>\n",
       "      <td>{'sesame oil': '2', 'red or white miso paste':...</td>\n",
       "    </tr>\n",
       "    <tr>\n",
       "      <th>13</th>\n",
       "      <td>Chicken Tzatziki Salad</td>\n",
       "      <td>{'minutes': '25'}</td>\n",
       "      <td>{'minutes': '20'}</td>\n",
       "      <td>{'minutes': '45'}</td>\n",
       "      <td>[extra virgin olive oil, boneless skinless chi...</td>\n",
       "      <td>{'extra virgin olive oil': '2', 'boneless skin...</td>\n",
       "    </tr>\n",
       "    <tr>\n",
       "      <th>14</th>\n",
       "      <td>One Pot Broccoli Cheese Pesto Pasta</td>\n",
       "      <td>{'minutes': '15'}</td>\n",
       "      <td>{'minutes': '15'}</td>\n",
       "      <td>{'minutes': '30'}</td>\n",
       "      <td>[short-cut pasta, chopped broccoli, heavy crea...</td>\n",
       "      <td>{'short-cut pasta': '1', 'chopped broccoli': '...</td>\n",
       "    </tr>\n",
       "    <tr>\n",
       "      <th>15</th>\n",
       "      <td>Crockpot Chipotle Pineapple Pot Roast Bowls</td>\n",
       "      <td>{'minutes': '30'}</td>\n",
       "      <td>{'hours': '3'}</td>\n",
       "      <td>{'hours': '3', 'minutes': '30'}</td>\n",
       "      <td>[chuck roast, halved, extra virgin olive oil, ...</td>\n",
       "      <td>{'chuck roast, halved': '1', 'extra virgin oli...</td>\n",
       "    </tr>\n",
       "    <tr>\n",
       "      <th>16</th>\n",
       "      <td>Crockpot Thai Yellow Curry Chicken with Garlic...</td>\n",
       "      <td>{'minutes': '15'}</td>\n",
       "      <td>{'hours': '5'}</td>\n",
       "      <td>{'hours': '5', 'minutes': '15'}</td>\n",
       "      <td>[boneless chicken breasts, cubed, plain Greek ...</td>\n",
       "      <td>{'boneless chicken breasts, cubed': '2', 'plai...</td>\n",
       "    </tr>\n",
       "    <tr>\n",
       "      <th>17</th>\n",
       "      <td>Baked Lemon Rosemary Chicken Meatballs and Cre...</td>\n",
       "      <td>{'minutes': '20'}</td>\n",
       "      <td>{'minutes': '25'}</td>\n",
       "      <td>{'minutes': '45'}</td>\n",
       "      <td>[ground chicken, pork, or turkey, dijon mustar...</td>\n",
       "      <td>{'ground chicken, pork, or turkey': '1 1/2', '...</td>\n",
       "    </tr>\n",
       "    <tr>\n",
       "      <th>18</th>\n",
       "      <td>30 Minute Thai Basil Beef Noodles</td>\n",
       "      <td>{'minutes': '15'}</td>\n",
       "      <td>{'minutes': '15'}</td>\n",
       "      <td>{'minutes': '30'}</td>\n",
       "      <td>[Pad Thai/wide rice noodles, tamari or soy sau...</td>\n",
       "      <td>{'Pad Thai/wide rice noodles': '6', 'tamari or...</td>\n",
       "    </tr>\n",
       "    <tr>\n",
       "      <th>19</th>\n",
       "      <td>Crispy Carnitas Tacos with Roasted Jalapeño Li...</td>\n",
       "      <td>{'minutes': '25'}</td>\n",
       "      <td>{'hours': '3'}</td>\n",
       "      <td>{'hours': '3', 'minutes': '25'}</td>\n",
       "      <td>[pork butt, or 6 chicken thighs/breasts, chipo...</td>\n",
       "      <td>{'pork butt, or 6 chicken thighs/breasts': '2-...</td>\n",
       "    </tr>\n",
       "    <tr>\n",
       "      <th>20</th>\n",
       "      <td>One Pot Chili Cheese Mac</td>\n",
       "      <td>{'minutes': '20'}</td>\n",
       "      <td>{'minutes': '25'}</td>\n",
       "      <td>{'minutes': '40'}</td>\n",
       "      <td>[ground beef, yellow onion, chopped, poblano p...</td>\n",
       "      <td>{'ground beef': '1', 'yellow onion, chopped': ...</td>\n",
       "    </tr>\n",
       "    <tr>\n",
       "      <th>21</th>\n",
       "      <td>One Pan Creamy Parmesan Ranch Chicken</td>\n",
       "      <td>{'minutes': '15'}</td>\n",
       "      <td>{'minutes': '30'}</td>\n",
       "      <td>{'minutes': '45'}</td>\n",
       "      <td>[small boneless chicken breasts or thighs, cre...</td>\n",
       "      <td>{'small boneless chicken breasts or thighs': '...</td>\n",
       "    </tr>\n",
       "    <tr>\n",
       "      <th>22</th>\n",
       "      <td>Sheet Pan Chicken Shawarma Havarti Sandwich</td>\n",
       "      <td>{'minutes': '30'}</td>\n",
       "      <td>{'minutes': '45'}</td>\n",
       "      <td>{'hours': '1', 'minutes': '15'}</td>\n",
       "      <td>[full-fat plain Greek yogurt, extra virgin oli...</td>\n",
       "      <td>{'full-fat plain Greek yogurt': '1/3', 'extra ...</td>\n",
       "    </tr>\n",
       "    <tr>\n",
       "      <th>23</th>\n",
       "      <td>Sheet Pan Korean Popcorn Chicken</td>\n",
       "      <td>{'minutes': '20'}</td>\n",
       "      <td>{'minutes': '20'}</td>\n",
       "      <td>{'minutes': '40'}</td>\n",
       "      <td>[boneless chicken breasts, cut into 2 inch cub...</td>\n",
       "      <td>{'boneless chicken breasts, cut into 2 inch cu...</td>\n",
       "    </tr>\n",
       "  </tbody>\n",
       "</table>\n",
       "</div>"
      ],
      "text/plain": [
       "                                                title          prep_time  \\\n",
       "0   Garlic Butter Baked Salmon In Lemony Parmesan ...  {'minutes': '15'}   \n",
       "1                     Pineapple Adobo Chicken Skewers  {'minutes': '15'}   \n",
       "2                          Marry Me Chicken Meatballs  {'minutes': '20'}   \n",
       "3                        20 Minute Ginger Cashew Beef  {'minutes': '10'}   \n",
       "4                         Lemon Butter Orzo Carbonara  {'minutes': '10'}   \n",
       "5   Avocado Bacon Chicken Salad with Jalapeño Hone...  {'minutes': '25'}   \n",
       "6                            Italian Chop Pasta Salad  {'minutes': '20'}   \n",
       "7                                                   -                  -   \n",
       "8   Baked Honey Balsamic Chicken with Charred Lemo...  {'minutes': '20'}   \n",
       "9            Creamy Avocado Ranch Chicken Pasta Salad  {'minutes': '20'}   \n",
       "10                         Baked Coconut Curry Salmon  {'minutes': '15'}   \n",
       "11         Skillet Creamy Chipotle Chicken Enchiladas  {'minutes': '15'}   \n",
       "12   Sheet Pan Sesame Miso Chicken and Sweet Potatoes  {'minutes': '20'}   \n",
       "13                             Chicken Tzatziki Salad  {'minutes': '25'}   \n",
       "14                One Pot Broccoli Cheese Pesto Pasta  {'minutes': '15'}   \n",
       "15        Crockpot Chipotle Pineapple Pot Roast Bowls  {'minutes': '30'}   \n",
       "16  Crockpot Thai Yellow Curry Chicken with Garlic...  {'minutes': '15'}   \n",
       "17  Baked Lemon Rosemary Chicken Meatballs and Cre...  {'minutes': '20'}   \n",
       "18                  30 Minute Thai Basil Beef Noodles  {'minutes': '15'}   \n",
       "19  Crispy Carnitas Tacos with Roasted Jalapeño Li...  {'minutes': '25'}   \n",
       "20                           One Pot Chili Cheese Mac  {'minutes': '20'}   \n",
       "21              One Pan Creamy Parmesan Ranch Chicken  {'minutes': '15'}   \n",
       "22        Sheet Pan Chicken Shawarma Havarti Sandwich  {'minutes': '30'}   \n",
       "23                   Sheet Pan Korean Popcorn Chicken  {'minutes': '20'}   \n",
       "\n",
       "            cook_time                       total_time  \\\n",
       "0   {'minutes': '20'}                {'minutes': '35'}   \n",
       "1   {'minutes': '15'}                {'minutes': '30'}   \n",
       "2   {'minutes': '25'}                {'minutes': '45'}   \n",
       "3   {'minutes': '10'}                {'minutes': '20'}   \n",
       "4   {'minutes': '10'}                {'minutes': '20'}   \n",
       "5   {'minutes': '20'}                {'minutes': '45'}   \n",
       "6   {'minutes': '10'}                {'minutes': '30'}   \n",
       "7                   -                                -   \n",
       "8   {'minutes': '20'}                {'minutes': '40'}   \n",
       "9   {'minutes': '10'}                {'minutes': '30'}   \n",
       "10  {'minutes': '30'}                {'minutes': '45'}   \n",
       "11  {'minutes': '30'}                {'minutes': '45'}   \n",
       "12  {'minutes': '25'}                {'minutes': '45'}   \n",
       "13  {'minutes': '20'}                {'minutes': '45'}   \n",
       "14  {'minutes': '15'}                {'minutes': '30'}   \n",
       "15     {'hours': '3'}  {'hours': '3', 'minutes': '30'}   \n",
       "16     {'hours': '5'}  {'hours': '5', 'minutes': '15'}   \n",
       "17  {'minutes': '25'}                {'minutes': '45'}   \n",
       "18  {'minutes': '15'}                {'minutes': '30'}   \n",
       "19     {'hours': '3'}  {'hours': '3', 'minutes': '25'}   \n",
       "20  {'minutes': '25'}                {'minutes': '40'}   \n",
       "21  {'minutes': '30'}                {'minutes': '45'}   \n",
       "22  {'minutes': '45'}  {'hours': '1', 'minutes': '15'}   \n",
       "23  {'minutes': '20'}                {'minutes': '40'}   \n",
       "\n",
       "                                          ingredients  \\\n",
       "0   [salmon filets, skin on or off, salt and black...   \n",
       "1   [toasted sesame oil or olive oil, tamari or lo...   \n",
       "2   [oil-packed sun-dried tomatoes, oil drained, g...   \n",
       "3   [sesame oil, flank or skirt steak, thinly slic...   \n",
       "4   [bacon, chopped, salted butter, at room temper...   \n",
       "5   [extra virgin olive oil, boneless skinless chi...   \n",
       "6   [extra virgin olive oil, balsamic or red wine ...   \n",
       "7                                                  []   \n",
       "8   [balsamic vinegar, honey, worcestershire, shal...   \n",
       "9   [plain Greek yogurt or sour cream, mayo, dried...   \n",
       "10  [salmon filets, cubed, cream cheese, at room t...   \n",
       "11  [yellow onion, chopped, boneless skinless chic...   \n",
       "12  [sesame oil, red or white miso paste, tamari/s...   \n",
       "13  [extra virgin olive oil, boneless skinless chi...   \n",
       "14  [short-cut pasta, chopped broccoli, heavy crea...   \n",
       "15  [chuck roast, halved, extra virgin olive oil, ...   \n",
       "16  [boneless chicken breasts, cubed, plain Greek ...   \n",
       "17  [ground chicken, pork, or turkey, dijon mustar...   \n",
       "18  [Pad Thai/wide rice noodles, tamari or soy sau...   \n",
       "19  [pork butt, or 6 chicken thighs/breasts, chipo...   \n",
       "20  [ground beef, yellow onion, chopped, poblano p...   \n",
       "21  [small boneless chicken breasts or thighs, cre...   \n",
       "22  [full-fat plain Greek yogurt, extra virgin oli...   \n",
       "23  [boneless chicken breasts, cut into 2 inch cub...   \n",
       "\n",
       "                         ingredients with measurement  \n",
       "0   {'salmon filets, skin on or off': '4', 'salt a...  \n",
       "1   {'toasted sesame oil or olive oil': '2', 'tama...  \n",
       "2   {'oil-packed sun-dried tomatoes, oil drained':...  \n",
       "3   {'sesame oil': '3', 'flank or skirt steak, thi...  \n",
       "4   {'bacon, chopped': '6', 'salted butter, at roo...  \n",
       "5   {'extra virgin olive oil': '1/3', 'boneless sk...  \n",
       "6   {'extra virgin olive oil': '½', 'balsamic or r...  \n",
       "7                                                  {}  \n",
       "8   {'balsamic vinegar': '1/3', 'honey': '3-4', 'w...  \n",
       "9   {'plain Greek yogurt or sour cream': '1/2', 'm...  \n",
       "10  {'salmon filets, cubed': '4', 'cream cheese, a...  \n",
       "11  {'yellow onion, chopped': '1', 'boneless skinl...  \n",
       "12  {'sesame oil': '2', 'red or white miso paste':...  \n",
       "13  {'extra virgin olive oil': '2', 'boneless skin...  \n",
       "14  {'short-cut pasta': '1', 'chopped broccoli': '...  \n",
       "15  {'chuck roast, halved': '1', 'extra virgin oli...  \n",
       "16  {'boneless chicken breasts, cubed': '2', 'plai...  \n",
       "17  {'ground chicken, pork, or turkey': '1 1/2', '...  \n",
       "18  {'Pad Thai/wide rice noodles': '6', 'tamari or...  \n",
       "19  {'pork butt, or 6 chicken thighs/breasts': '2-...  \n",
       "20  {'ground beef': '1', 'yellow onion, chopped': ...  \n",
       "21  {'small boneless chicken breasts or thighs': '...  \n",
       "22  {'full-fat plain Greek yogurt': '1/3', 'extra ...  \n",
       "23  {'boneless chicken breasts, cut into 2 inch cu...  "
      ]
     },
     "execution_count": 61,
     "metadata": {},
     "output_type": "execute_result"
    }
   ],
   "source": [
    "df['ingredients'] = ingredients\n",
    "df['ingredients with measurement'] = ingredients_measurment\n",
    "df"
   ]
  },
  {
   "cell_type": "code",
   "execution_count": 71,
   "id": "bef9f73a",
   "metadata": {},
   "outputs": [
    {
     "name": "stdout",
     "output_type": "stream",
     "text": [
      "24\n",
      "[['1. To make the dressing. Combine all ingredients in a glass jar and whisk until smooth. Season with salt, pepper, and chiles.', '2. Bring a large pot of salted water to a boil. Boil the pasta to al dente, according to package directions. Drain.', '3. In a large bowl, toss together the hot pasta and the dressing. Add the salami, pepperoni, cheeses, tomatoes, olives, pepper, sun-dried tomatoes,  pepperoncini, and basil. Toss, toss!', '4. Serve warm or cold. Enjoy!'], ['1. To make the dressing. Combine all ingredients in a glass jar and whisk until smooth. Season with salt, pepper, and chiles.', '2. Bring a large pot of salted water to a boil. Boil the pasta to al dente, according to package directions. Drain.', '3. In a large bowl, toss together the hot pasta and the dressing. Add the salami, pepperoni, cheeses, tomatoes, olives, pepper, sun-dried tomatoes,  pepperoncini, and basil. Toss, toss!', '4. Serve warm or cold. Enjoy!'], ['1. To make the dressing. Combine all ingredients in a glass jar and whisk until smooth. Season with salt, pepper, and chiles.', '2. Bring a large pot of salted water to a boil. Boil the pasta to al dente, according to package directions. Drain.', '3. In a large bowl, toss together the hot pasta and the dressing. Add the salami, pepperoni, cheeses, tomatoes, olives, pepper, sun-dried tomatoes,  pepperoncini, and basil. Toss, toss!', '4. Serve warm or cold. Enjoy!'], ['1. To make the dressing. Combine all ingredients in a glass jar and whisk until smooth. Season with salt, pepper, and chiles.', '2. Bring a large pot of salted water to a boil. Boil the pasta to al dente, according to package directions. Drain.', '3. In a large bowl, toss together the hot pasta and the dressing. Add the salami, pepperoni, cheeses, tomatoes, olives, pepper, sun-dried tomatoes,  pepperoncini, and basil. Toss, toss!', '4. Serve warm or cold. Enjoy!'], ['1. To make the dressing. Combine all ingredients in a glass jar and whisk until smooth. Season with salt, pepper, and chiles.', '2. Bring a large pot of salted water to a boil. Boil the pasta to al dente, according to package directions. Drain.', '3. In a large bowl, toss together the hot pasta and the dressing. Add the salami, pepperoni, cheeses, tomatoes, olives, pepper, sun-dried tomatoes,  pepperoncini, and basil. Toss, toss!', '4. Serve warm or cold. Enjoy!'], ['1. To make the dressing. Combine all ingredients in a glass jar and whisk until smooth. Season with salt, pepper, and chiles.', '2. Bring a large pot of salted water to a boil. Boil the pasta to al dente, according to package directions. Drain.', '3. In a large bowl, toss together the hot pasta and the dressing. Add the salami, pepperoni, cheeses, tomatoes, olives, pepper, sun-dried tomatoes,  pepperoncini, and basil. Toss, toss!', '4. Serve warm or cold. Enjoy!'], ['1. To make the dressing. Combine all ingredients in a glass jar and whisk until smooth. Season with salt, pepper, and chiles.', '2. Bring a large pot of salted water to a boil. Boil the pasta to al dente, according to package directions. Drain.', '3. In a large bowl, toss together the hot pasta and the dressing. Add the salami, pepperoni, cheeses, tomatoes, olives, pepper, sun-dried tomatoes,  pepperoncini, and basil. Toss, toss!', '4. Serve warm or cold. Enjoy!'], '-', ['1. To make the dressing. Combine all ingredients in a glass jar and whisk until smooth. Season with salt, pepper, and chiles.', '2. Bring a large pot of salted water to a boil. Boil the pasta to al dente, according to package directions. Drain.', '3. In a large bowl, toss together the hot pasta and the dressing. Add the salami, pepperoni, cheeses, tomatoes, olives, pepper, sun-dried tomatoes,  pepperoncini, and basil. Toss, toss!', '4. Serve warm or cold. Enjoy!'], ['1. To make the dressing. Combine all ingredients in a glass jar and whisk until smooth. Season with salt, pepper, and chiles.', '2. Bring a large pot of salted water to a boil. Boil the pasta to al dente, according to package directions. Drain.', '3. In a large bowl, toss together the hot pasta and the dressing. Add the salami, pepperoni, cheeses, tomatoes, olives, pepper, sun-dried tomatoes,  pepperoncini, and basil. Toss, toss!', '4. Serve warm or cold. Enjoy!'], ['1. To make the dressing. Combine all ingredients in a glass jar and whisk until smooth. Season with salt, pepper, and chiles.', '2. Bring a large pot of salted water to a boil. Boil the pasta to al dente, according to package directions. Drain.', '3. In a large bowl, toss together the hot pasta and the dressing. Add the salami, pepperoni, cheeses, tomatoes, olives, pepper, sun-dried tomatoes,  pepperoncini, and basil. Toss, toss!', '4. Serve warm or cold. Enjoy!'], ['1. To make the dressing. Combine all ingredients in a glass jar and whisk until smooth. Season with salt, pepper, and chiles.', '2. Bring a large pot of salted water to a boil. Boil the pasta to al dente, according to package directions. Drain.', '3. In a large bowl, toss together the hot pasta and the dressing. Add the salami, pepperoni, cheeses, tomatoes, olives, pepper, sun-dried tomatoes,  pepperoncini, and basil. Toss, toss!', '4. Serve warm or cold. Enjoy!'], ['1. To make the dressing. Combine all ingredients in a glass jar and whisk until smooth. Season with salt, pepper, and chiles.', '2. Bring a large pot of salted water to a boil. Boil the pasta to al dente, according to package directions. Drain.', '3. In a large bowl, toss together the hot pasta and the dressing. Add the salami, pepperoni, cheeses, tomatoes, olives, pepper, sun-dried tomatoes,  pepperoncini, and basil. Toss, toss!', '4. Serve warm or cold. Enjoy!'], ['1. To make the dressing. Combine all ingredients in a glass jar and whisk until smooth. Season with salt, pepper, and chiles.', '2. Bring a large pot of salted water to a boil. Boil the pasta to al dente, according to package directions. Drain.', '3. In a large bowl, toss together the hot pasta and the dressing. Add the salami, pepperoni, cheeses, tomatoes, olives, pepper, sun-dried tomatoes,  pepperoncini, and basil. Toss, toss!', '4. Serve warm or cold. Enjoy!'], ['1. To make the dressing. Combine all ingredients in a glass jar and whisk until smooth. Season with salt, pepper, and chiles.', '2. Bring a large pot of salted water to a boil. Boil the pasta to al dente, according to package directions. Drain.', '3. In a large bowl, toss together the hot pasta and the dressing. Add the salami, pepperoni, cheeses, tomatoes, olives, pepper, sun-dried tomatoes,  pepperoncini, and basil. Toss, toss!', '4. Serve warm or cold. Enjoy!'], ['1. To make the dressing. Combine all ingredients in a glass jar and whisk until smooth. Season with salt, pepper, and chiles.', '2. Bring a large pot of salted water to a boil. Boil the pasta to al dente, according to package directions. Drain.', '3. In a large bowl, toss together the hot pasta and the dressing. Add the salami, pepperoni, cheeses, tomatoes, olives, pepper, sun-dried tomatoes,  pepperoncini, and basil. Toss, toss!', '4. Serve warm or cold. Enjoy!'], ['1. To make the dressing. Combine all ingredients in a glass jar and whisk until smooth. Season with salt, pepper, and chiles.', '2. Bring a large pot of salted water to a boil. Boil the pasta to al dente, according to package directions. Drain.', '3. In a large bowl, toss together the hot pasta and the dressing. Add the salami, pepperoni, cheeses, tomatoes, olives, pepper, sun-dried tomatoes,  pepperoncini, and basil. Toss, toss!', '4. Serve warm or cold. Enjoy!'], ['1. To make the dressing. Combine all ingredients in a glass jar and whisk until smooth. Season with salt, pepper, and chiles.', '2. Bring a large pot of salted water to a boil. Boil the pasta to al dente, according to package directions. Drain.', '3. In a large bowl, toss together the hot pasta and the dressing. Add the salami, pepperoni, cheeses, tomatoes, olives, pepper, sun-dried tomatoes,  pepperoncini, and basil. Toss, toss!', '4. Serve warm or cold. Enjoy!'], ['1. To make the dressing. Combine all ingredients in a glass jar and whisk until smooth. Season with salt, pepper, and chiles.', '2. Bring a large pot of salted water to a boil. Boil the pasta to al dente, according to package directions. Drain.', '3. In a large bowl, toss together the hot pasta and the dressing. Add the salami, pepperoni, cheeses, tomatoes, olives, pepper, sun-dried tomatoes,  pepperoncini, and basil. Toss, toss!', '4. Serve warm or cold. Enjoy!'], ['1. To make the dressing. Combine all ingredients in a glass jar and whisk until smooth. Season with salt, pepper, and chiles.', '2. Bring a large pot of salted water to a boil. Boil the pasta to al dente, according to package directions. Drain.', '3. In a large bowl, toss together the hot pasta and the dressing. Add the salami, pepperoni, cheeses, tomatoes, olives, pepper, sun-dried tomatoes,  pepperoncini, and basil. Toss, toss!', '4. Serve warm or cold. Enjoy!'], ['1. To make the dressing. Combine all ingredients in a glass jar and whisk until smooth. Season with salt, pepper, and chiles.', '2. Bring a large pot of salted water to a boil. Boil the pasta to al dente, according to package directions. Drain.', '3. In a large bowl, toss together the hot pasta and the dressing. Add the salami, pepperoni, cheeses, tomatoes, olives, pepper, sun-dried tomatoes,  pepperoncini, and basil. Toss, toss!', '4. Serve warm or cold. Enjoy!'], ['1. To make the dressing. Combine all ingredients in a glass jar and whisk until smooth. Season with salt, pepper, and chiles.', '2. Bring a large pot of salted water to a boil. Boil the pasta to al dente, according to package directions. Drain.', '3. In a large bowl, toss together the hot pasta and the dressing. Add the salami, pepperoni, cheeses, tomatoes, olives, pepper, sun-dried tomatoes,  pepperoncini, and basil. Toss, toss!', '4. Serve warm or cold. Enjoy!'], ['1. To make the dressing. Combine all ingredients in a glass jar and whisk until smooth. Season with salt, pepper, and chiles.', '2. Bring a large pot of salted water to a boil. Boil the pasta to al dente, according to package directions. Drain.', '3. In a large bowl, toss together the hot pasta and the dressing. Add the salami, pepperoni, cheeses, tomatoes, olives, pepper, sun-dried tomatoes,  pepperoncini, and basil. Toss, toss!', '4. Serve warm or cold. Enjoy!'], ['1. To make the dressing. Combine all ingredients in a glass jar and whisk until smooth. Season with salt, pepper, and chiles.', '2. Bring a large pot of salted water to a boil. Boil the pasta to al dente, according to package directions. Drain.', '3. In a large bowl, toss together the hot pasta and the dressing. Add the salami, pepperoni, cheeses, tomatoes, olives, pepper, sun-dried tomatoes,  pepperoncini, and basil. Toss, toss!', '4. Serve warm or cold. Enjoy!']]\n"
     ]
    }
   ],
   "source": [
    "instructions = []\n",
    "\n",
    "for card in cards:\n",
    "    link_tag = card.find('a')\n",
    "    recipe_url = link_tag['href']\n",
    "    try:\n",
    "        response = requests.get(recipe_url, headers=headers)\n",
    "        response.raise_for_status()  # Raise an exception for non-200 status codes\n",
    "        temp_soup = BeautifulSoup(response.text, 'lxml')\n",
    "        \n",
    "        recipe_instr = temp_soup.find(class_='wprm-recipe-instruction-group')\n",
    "        if recipe_instr:\n",
    "            recipe_steps = []\n",
    "            steps = recipe_instr.find_all(\"span\", attrs={\"class\": None})\n",
    "            for step in no_class_attribute:\n",
    "                recipe_steps.append(step.text.strip())\n",
    "            instructions.append(recipe_steps)\n",
    "        else:\n",
    "            instructions.append('-')\n",
    "        \n",
    "    except requests.exceptions.RequestException as e:\n",
    "        print(f\"Failed to fetch the page: {e}\")\n",
    "        continue  # Move to the next card if there's an error\n",
    "\n",
    "print(len(instructions))\n",
    "print(instructions)"
   ]
  },
  {
   "cell_type": "code",
   "execution_count": 72,
   "id": "2f3e0700",
   "metadata": {},
   "outputs": [
    {
     "data": {
      "text/html": [
       "<div>\n",
       "<style scoped>\n",
       "    .dataframe tbody tr th:only-of-type {\n",
       "        vertical-align: middle;\n",
       "    }\n",
       "\n",
       "    .dataframe tbody tr th {\n",
       "        vertical-align: top;\n",
       "    }\n",
       "\n",
       "    .dataframe thead th {\n",
       "        text-align: right;\n",
       "    }\n",
       "</style>\n",
       "<table border=\"1\" class=\"dataframe\">\n",
       "  <thead>\n",
       "    <tr style=\"text-align: right;\">\n",
       "      <th></th>\n",
       "      <th>title</th>\n",
       "      <th>prep_time</th>\n",
       "      <th>cook_time</th>\n",
       "      <th>total_time</th>\n",
       "      <th>ingredients</th>\n",
       "      <th>ingredients with measurement</th>\n",
       "      <th>instructions</th>\n",
       "    </tr>\n",
       "  </thead>\n",
       "  <tbody>\n",
       "    <tr>\n",
       "      <th>0</th>\n",
       "      <td>Garlic Butter Baked Salmon In Lemony Parmesan ...</td>\n",
       "      <td>{'minutes': '15'}</td>\n",
       "      <td>{'minutes': '20'}</td>\n",
       "      <td>{'minutes': '35'}</td>\n",
       "      <td>[salmon filets, skin on or off, salt and black...</td>\n",
       "      <td>{'salmon filets, skin on or off': '4', 'salt a...</td>\n",
       "      <td>[1. To make the dressing. Combine all ingredie...</td>\n",
       "    </tr>\n",
       "    <tr>\n",
       "      <th>1</th>\n",
       "      <td>Pineapple Adobo Chicken Skewers</td>\n",
       "      <td>{'minutes': '15'}</td>\n",
       "      <td>{'minutes': '15'}</td>\n",
       "      <td>{'minutes': '30'}</td>\n",
       "      <td>[toasted sesame oil or olive oil, tamari or lo...</td>\n",
       "      <td>{'toasted sesame oil or olive oil': '2', 'tama...</td>\n",
       "      <td>[1. To make the dressing. Combine all ingredie...</td>\n",
       "    </tr>\n",
       "    <tr>\n",
       "      <th>2</th>\n",
       "      <td>Marry Me Chicken Meatballs</td>\n",
       "      <td>{'minutes': '20'}</td>\n",
       "      <td>{'minutes': '25'}</td>\n",
       "      <td>{'minutes': '45'}</td>\n",
       "      <td>[oil-packed sun-dried tomatoes, oil drained, g...</td>\n",
       "      <td>{'oil-packed sun-dried tomatoes, oil drained':...</td>\n",
       "      <td>[1. To make the dressing. Combine all ingredie...</td>\n",
       "    </tr>\n",
       "    <tr>\n",
       "      <th>3</th>\n",
       "      <td>20 Minute Ginger Cashew Beef</td>\n",
       "      <td>{'minutes': '10'}</td>\n",
       "      <td>{'minutes': '10'}</td>\n",
       "      <td>{'minutes': '20'}</td>\n",
       "      <td>[sesame oil, flank or skirt steak, thinly slic...</td>\n",
       "      <td>{'sesame oil': '3', 'flank or skirt steak, thi...</td>\n",
       "      <td>[1. To make the dressing. Combine all ingredie...</td>\n",
       "    </tr>\n",
       "    <tr>\n",
       "      <th>4</th>\n",
       "      <td>Lemon Butter Orzo Carbonara</td>\n",
       "      <td>{'minutes': '10'}</td>\n",
       "      <td>{'minutes': '10'}</td>\n",
       "      <td>{'minutes': '20'}</td>\n",
       "      <td>[bacon, chopped, salted butter, at room temper...</td>\n",
       "      <td>{'bacon, chopped': '6', 'salted butter, at roo...</td>\n",
       "      <td>[1. To make the dressing. Combine all ingredie...</td>\n",
       "    </tr>\n",
       "    <tr>\n",
       "      <th>5</th>\n",
       "      <td>Avocado Bacon Chicken Salad with Jalapeño Hone...</td>\n",
       "      <td>{'minutes': '25'}</td>\n",
       "      <td>{'minutes': '20'}</td>\n",
       "      <td>{'minutes': '45'}</td>\n",
       "      <td>[extra virgin olive oil, boneless skinless chi...</td>\n",
       "      <td>{'extra virgin olive oil': '1/3', 'boneless sk...</td>\n",
       "      <td>[1. To make the dressing. Combine all ingredie...</td>\n",
       "    </tr>\n",
       "    <tr>\n",
       "      <th>6</th>\n",
       "      <td>Italian Chop Pasta Salad</td>\n",
       "      <td>{'minutes': '20'}</td>\n",
       "      <td>{'minutes': '10'}</td>\n",
       "      <td>{'minutes': '30'}</td>\n",
       "      <td>[extra virgin olive oil, balsamic or red wine ...</td>\n",
       "      <td>{'extra virgin olive oil': '½', 'balsamic or r...</td>\n",
       "      <td>[1. To make the dressing. Combine all ingredie...</td>\n",
       "    </tr>\n",
       "    <tr>\n",
       "      <th>7</th>\n",
       "      <td>-</td>\n",
       "      <td>-</td>\n",
       "      <td>-</td>\n",
       "      <td>-</td>\n",
       "      <td>[]</td>\n",
       "      <td>{}</td>\n",
       "      <td>-</td>\n",
       "    </tr>\n",
       "    <tr>\n",
       "      <th>8</th>\n",
       "      <td>Baked Honey Balsamic Chicken with Charred Lemo...</td>\n",
       "      <td>{'minutes': '20'}</td>\n",
       "      <td>{'minutes': '20'}</td>\n",
       "      <td>{'minutes': '40'}</td>\n",
       "      <td>[balsamic vinegar, honey, worcestershire, shal...</td>\n",
       "      <td>{'balsamic vinegar': '1/3', 'honey': '3-4', 'w...</td>\n",
       "      <td>[1. To make the dressing. Combine all ingredie...</td>\n",
       "    </tr>\n",
       "    <tr>\n",
       "      <th>9</th>\n",
       "      <td>Creamy Avocado Ranch Chicken Pasta Salad</td>\n",
       "      <td>{'minutes': '20'}</td>\n",
       "      <td>{'minutes': '10'}</td>\n",
       "      <td>{'minutes': '30'}</td>\n",
       "      <td>[plain Greek yogurt or sour cream, mayo, dried...</td>\n",
       "      <td>{'plain Greek yogurt or sour cream': '1/2', 'm...</td>\n",
       "      <td>[1. To make the dressing. Combine all ingredie...</td>\n",
       "    </tr>\n",
       "    <tr>\n",
       "      <th>10</th>\n",
       "      <td>Baked Coconut Curry Salmon</td>\n",
       "      <td>{'minutes': '15'}</td>\n",
       "      <td>{'minutes': '30'}</td>\n",
       "      <td>{'minutes': '45'}</td>\n",
       "      <td>[salmon filets, cubed, cream cheese, at room t...</td>\n",
       "      <td>{'salmon filets, cubed': '4', 'cream cheese, a...</td>\n",
       "      <td>[1. To make the dressing. Combine all ingredie...</td>\n",
       "    </tr>\n",
       "    <tr>\n",
       "      <th>11</th>\n",
       "      <td>Skillet Creamy Chipotle Chicken Enchiladas</td>\n",
       "      <td>{'minutes': '15'}</td>\n",
       "      <td>{'minutes': '30'}</td>\n",
       "      <td>{'minutes': '45'}</td>\n",
       "      <td>[yellow onion, chopped, boneless skinless chic...</td>\n",
       "      <td>{'yellow onion, chopped': '1', 'boneless skinl...</td>\n",
       "      <td>[1. To make the dressing. Combine all ingredie...</td>\n",
       "    </tr>\n",
       "    <tr>\n",
       "      <th>12</th>\n",
       "      <td>Sheet Pan Sesame Miso Chicken and Sweet Potatoes</td>\n",
       "      <td>{'minutes': '20'}</td>\n",
       "      <td>{'minutes': '25'}</td>\n",
       "      <td>{'minutes': '45'}</td>\n",
       "      <td>[sesame oil, red or white miso paste, tamari/s...</td>\n",
       "      <td>{'sesame oil': '2', 'red or white miso paste':...</td>\n",
       "      <td>[1. To make the dressing. Combine all ingredie...</td>\n",
       "    </tr>\n",
       "    <tr>\n",
       "      <th>13</th>\n",
       "      <td>Chicken Tzatziki Salad</td>\n",
       "      <td>{'minutes': '25'}</td>\n",
       "      <td>{'minutes': '20'}</td>\n",
       "      <td>{'minutes': '45'}</td>\n",
       "      <td>[extra virgin olive oil, boneless skinless chi...</td>\n",
       "      <td>{'extra virgin olive oil': '2', 'boneless skin...</td>\n",
       "      <td>[1. To make the dressing. Combine all ingredie...</td>\n",
       "    </tr>\n",
       "    <tr>\n",
       "      <th>14</th>\n",
       "      <td>One Pot Broccoli Cheese Pesto Pasta</td>\n",
       "      <td>{'minutes': '15'}</td>\n",
       "      <td>{'minutes': '15'}</td>\n",
       "      <td>{'minutes': '30'}</td>\n",
       "      <td>[short-cut pasta, chopped broccoli, heavy crea...</td>\n",
       "      <td>{'short-cut pasta': '1', 'chopped broccoli': '...</td>\n",
       "      <td>[1. To make the dressing. Combine all ingredie...</td>\n",
       "    </tr>\n",
       "    <tr>\n",
       "      <th>15</th>\n",
       "      <td>Crockpot Chipotle Pineapple Pot Roast Bowls</td>\n",
       "      <td>{'minutes': '30'}</td>\n",
       "      <td>{'hours': '3'}</td>\n",
       "      <td>{'hours': '3', 'minutes': '30'}</td>\n",
       "      <td>[chuck roast, halved, extra virgin olive oil, ...</td>\n",
       "      <td>{'chuck roast, halved': '1', 'extra virgin oli...</td>\n",
       "      <td>[1. To make the dressing. Combine all ingredie...</td>\n",
       "    </tr>\n",
       "    <tr>\n",
       "      <th>16</th>\n",
       "      <td>Crockpot Thai Yellow Curry Chicken with Garlic...</td>\n",
       "      <td>{'minutes': '15'}</td>\n",
       "      <td>{'hours': '5'}</td>\n",
       "      <td>{'hours': '5', 'minutes': '15'}</td>\n",
       "      <td>[boneless chicken breasts, cubed, plain Greek ...</td>\n",
       "      <td>{'boneless chicken breasts, cubed': '2', 'plai...</td>\n",
       "      <td>[1. To make the dressing. Combine all ingredie...</td>\n",
       "    </tr>\n",
       "    <tr>\n",
       "      <th>17</th>\n",
       "      <td>Baked Lemon Rosemary Chicken Meatballs and Cre...</td>\n",
       "      <td>{'minutes': '20'}</td>\n",
       "      <td>{'minutes': '25'}</td>\n",
       "      <td>{'minutes': '45'}</td>\n",
       "      <td>[ground chicken, pork, or turkey, dijon mustar...</td>\n",
       "      <td>{'ground chicken, pork, or turkey': '1 1/2', '...</td>\n",
       "      <td>[1. To make the dressing. Combine all ingredie...</td>\n",
       "    </tr>\n",
       "    <tr>\n",
       "      <th>18</th>\n",
       "      <td>30 Minute Thai Basil Beef Noodles</td>\n",
       "      <td>{'minutes': '15'}</td>\n",
       "      <td>{'minutes': '15'}</td>\n",
       "      <td>{'minutes': '30'}</td>\n",
       "      <td>[Pad Thai/wide rice noodles, tamari or soy sau...</td>\n",
       "      <td>{'Pad Thai/wide rice noodles': '6', 'tamari or...</td>\n",
       "      <td>[1. To make the dressing. Combine all ingredie...</td>\n",
       "    </tr>\n",
       "    <tr>\n",
       "      <th>19</th>\n",
       "      <td>Crispy Carnitas Tacos with Roasted Jalapeño Li...</td>\n",
       "      <td>{'minutes': '25'}</td>\n",
       "      <td>{'hours': '3'}</td>\n",
       "      <td>{'hours': '3', 'minutes': '25'}</td>\n",
       "      <td>[pork butt, or 6 chicken thighs/breasts, chipo...</td>\n",
       "      <td>{'pork butt, or 6 chicken thighs/breasts': '2-...</td>\n",
       "      <td>[1. To make the dressing. Combine all ingredie...</td>\n",
       "    </tr>\n",
       "    <tr>\n",
       "      <th>20</th>\n",
       "      <td>One Pot Chili Cheese Mac</td>\n",
       "      <td>{'minutes': '20'}</td>\n",
       "      <td>{'minutes': '25'}</td>\n",
       "      <td>{'minutes': '40'}</td>\n",
       "      <td>[ground beef, yellow onion, chopped, poblano p...</td>\n",
       "      <td>{'ground beef': '1', 'yellow onion, chopped': ...</td>\n",
       "      <td>[1. To make the dressing. Combine all ingredie...</td>\n",
       "    </tr>\n",
       "    <tr>\n",
       "      <th>21</th>\n",
       "      <td>One Pan Creamy Parmesan Ranch Chicken</td>\n",
       "      <td>{'minutes': '15'}</td>\n",
       "      <td>{'minutes': '30'}</td>\n",
       "      <td>{'minutes': '45'}</td>\n",
       "      <td>[small boneless chicken breasts or thighs, cre...</td>\n",
       "      <td>{'small boneless chicken breasts or thighs': '...</td>\n",
       "      <td>[1. To make the dressing. Combine all ingredie...</td>\n",
       "    </tr>\n",
       "    <tr>\n",
       "      <th>22</th>\n",
       "      <td>Sheet Pan Chicken Shawarma Havarti Sandwich</td>\n",
       "      <td>{'minutes': '30'}</td>\n",
       "      <td>{'minutes': '45'}</td>\n",
       "      <td>{'hours': '1', 'minutes': '15'}</td>\n",
       "      <td>[full-fat plain Greek yogurt, extra virgin oli...</td>\n",
       "      <td>{'full-fat plain Greek yogurt': '1/3', 'extra ...</td>\n",
       "      <td>[1. To make the dressing. Combine all ingredie...</td>\n",
       "    </tr>\n",
       "    <tr>\n",
       "      <th>23</th>\n",
       "      <td>Sheet Pan Korean Popcorn Chicken</td>\n",
       "      <td>{'minutes': '20'}</td>\n",
       "      <td>{'minutes': '20'}</td>\n",
       "      <td>{'minutes': '40'}</td>\n",
       "      <td>[boneless chicken breasts, cut into 2 inch cub...</td>\n",
       "      <td>{'boneless chicken breasts, cut into 2 inch cu...</td>\n",
       "      <td>[1. To make the dressing. Combine all ingredie...</td>\n",
       "    </tr>\n",
       "  </tbody>\n",
       "</table>\n",
       "</div>"
      ],
      "text/plain": [
       "                                                title          prep_time  \\\n",
       "0   Garlic Butter Baked Salmon In Lemony Parmesan ...  {'minutes': '15'}   \n",
       "1                     Pineapple Adobo Chicken Skewers  {'minutes': '15'}   \n",
       "2                          Marry Me Chicken Meatballs  {'minutes': '20'}   \n",
       "3                        20 Minute Ginger Cashew Beef  {'minutes': '10'}   \n",
       "4                         Lemon Butter Orzo Carbonara  {'minutes': '10'}   \n",
       "5   Avocado Bacon Chicken Salad with Jalapeño Hone...  {'minutes': '25'}   \n",
       "6                            Italian Chop Pasta Salad  {'minutes': '20'}   \n",
       "7                                                   -                  -   \n",
       "8   Baked Honey Balsamic Chicken with Charred Lemo...  {'minutes': '20'}   \n",
       "9            Creamy Avocado Ranch Chicken Pasta Salad  {'minutes': '20'}   \n",
       "10                         Baked Coconut Curry Salmon  {'minutes': '15'}   \n",
       "11         Skillet Creamy Chipotle Chicken Enchiladas  {'minutes': '15'}   \n",
       "12   Sheet Pan Sesame Miso Chicken and Sweet Potatoes  {'minutes': '20'}   \n",
       "13                             Chicken Tzatziki Salad  {'minutes': '25'}   \n",
       "14                One Pot Broccoli Cheese Pesto Pasta  {'minutes': '15'}   \n",
       "15        Crockpot Chipotle Pineapple Pot Roast Bowls  {'minutes': '30'}   \n",
       "16  Crockpot Thai Yellow Curry Chicken with Garlic...  {'minutes': '15'}   \n",
       "17  Baked Lemon Rosemary Chicken Meatballs and Cre...  {'minutes': '20'}   \n",
       "18                  30 Minute Thai Basil Beef Noodles  {'minutes': '15'}   \n",
       "19  Crispy Carnitas Tacos with Roasted Jalapeño Li...  {'minutes': '25'}   \n",
       "20                           One Pot Chili Cheese Mac  {'minutes': '20'}   \n",
       "21              One Pan Creamy Parmesan Ranch Chicken  {'minutes': '15'}   \n",
       "22        Sheet Pan Chicken Shawarma Havarti Sandwich  {'minutes': '30'}   \n",
       "23                   Sheet Pan Korean Popcorn Chicken  {'minutes': '20'}   \n",
       "\n",
       "            cook_time                       total_time  \\\n",
       "0   {'minutes': '20'}                {'minutes': '35'}   \n",
       "1   {'minutes': '15'}                {'minutes': '30'}   \n",
       "2   {'minutes': '25'}                {'minutes': '45'}   \n",
       "3   {'minutes': '10'}                {'minutes': '20'}   \n",
       "4   {'minutes': '10'}                {'minutes': '20'}   \n",
       "5   {'minutes': '20'}                {'minutes': '45'}   \n",
       "6   {'minutes': '10'}                {'minutes': '30'}   \n",
       "7                   -                                -   \n",
       "8   {'minutes': '20'}                {'minutes': '40'}   \n",
       "9   {'minutes': '10'}                {'minutes': '30'}   \n",
       "10  {'minutes': '30'}                {'minutes': '45'}   \n",
       "11  {'minutes': '30'}                {'minutes': '45'}   \n",
       "12  {'minutes': '25'}                {'minutes': '45'}   \n",
       "13  {'minutes': '20'}                {'minutes': '45'}   \n",
       "14  {'minutes': '15'}                {'minutes': '30'}   \n",
       "15     {'hours': '3'}  {'hours': '3', 'minutes': '30'}   \n",
       "16     {'hours': '5'}  {'hours': '5', 'minutes': '15'}   \n",
       "17  {'minutes': '25'}                {'minutes': '45'}   \n",
       "18  {'minutes': '15'}                {'minutes': '30'}   \n",
       "19     {'hours': '3'}  {'hours': '3', 'minutes': '25'}   \n",
       "20  {'minutes': '25'}                {'minutes': '40'}   \n",
       "21  {'minutes': '30'}                {'minutes': '45'}   \n",
       "22  {'minutes': '45'}  {'hours': '1', 'minutes': '15'}   \n",
       "23  {'minutes': '20'}                {'minutes': '40'}   \n",
       "\n",
       "                                          ingredients  \\\n",
       "0   [salmon filets, skin on or off, salt and black...   \n",
       "1   [toasted sesame oil or olive oil, tamari or lo...   \n",
       "2   [oil-packed sun-dried tomatoes, oil drained, g...   \n",
       "3   [sesame oil, flank or skirt steak, thinly slic...   \n",
       "4   [bacon, chopped, salted butter, at room temper...   \n",
       "5   [extra virgin olive oil, boneless skinless chi...   \n",
       "6   [extra virgin olive oil, balsamic or red wine ...   \n",
       "7                                                  []   \n",
       "8   [balsamic vinegar, honey, worcestershire, shal...   \n",
       "9   [plain Greek yogurt or sour cream, mayo, dried...   \n",
       "10  [salmon filets, cubed, cream cheese, at room t...   \n",
       "11  [yellow onion, chopped, boneless skinless chic...   \n",
       "12  [sesame oil, red or white miso paste, tamari/s...   \n",
       "13  [extra virgin olive oil, boneless skinless chi...   \n",
       "14  [short-cut pasta, chopped broccoli, heavy crea...   \n",
       "15  [chuck roast, halved, extra virgin olive oil, ...   \n",
       "16  [boneless chicken breasts, cubed, plain Greek ...   \n",
       "17  [ground chicken, pork, or turkey, dijon mustar...   \n",
       "18  [Pad Thai/wide rice noodles, tamari or soy sau...   \n",
       "19  [pork butt, or 6 chicken thighs/breasts, chipo...   \n",
       "20  [ground beef, yellow onion, chopped, poblano p...   \n",
       "21  [small boneless chicken breasts or thighs, cre...   \n",
       "22  [full-fat plain Greek yogurt, extra virgin oli...   \n",
       "23  [boneless chicken breasts, cut into 2 inch cub...   \n",
       "\n",
       "                         ingredients with measurement  \\\n",
       "0   {'salmon filets, skin on or off': '4', 'salt a...   \n",
       "1   {'toasted sesame oil or olive oil': '2', 'tama...   \n",
       "2   {'oil-packed sun-dried tomatoes, oil drained':...   \n",
       "3   {'sesame oil': '3', 'flank or skirt steak, thi...   \n",
       "4   {'bacon, chopped': '6', 'salted butter, at roo...   \n",
       "5   {'extra virgin olive oil': '1/3', 'boneless sk...   \n",
       "6   {'extra virgin olive oil': '½', 'balsamic or r...   \n",
       "7                                                  {}   \n",
       "8   {'balsamic vinegar': '1/3', 'honey': '3-4', 'w...   \n",
       "9   {'plain Greek yogurt or sour cream': '1/2', 'm...   \n",
       "10  {'salmon filets, cubed': '4', 'cream cheese, a...   \n",
       "11  {'yellow onion, chopped': '1', 'boneless skinl...   \n",
       "12  {'sesame oil': '2', 'red or white miso paste':...   \n",
       "13  {'extra virgin olive oil': '2', 'boneless skin...   \n",
       "14  {'short-cut pasta': '1', 'chopped broccoli': '...   \n",
       "15  {'chuck roast, halved': '1', 'extra virgin oli...   \n",
       "16  {'boneless chicken breasts, cubed': '2', 'plai...   \n",
       "17  {'ground chicken, pork, or turkey': '1 1/2', '...   \n",
       "18  {'Pad Thai/wide rice noodles': '6', 'tamari or...   \n",
       "19  {'pork butt, or 6 chicken thighs/breasts': '2-...   \n",
       "20  {'ground beef': '1', 'yellow onion, chopped': ...   \n",
       "21  {'small boneless chicken breasts or thighs': '...   \n",
       "22  {'full-fat plain Greek yogurt': '1/3', 'extra ...   \n",
       "23  {'boneless chicken breasts, cut into 2 inch cu...   \n",
       "\n",
       "                                         instructions  \n",
       "0   [1. To make the dressing. Combine all ingredie...  \n",
       "1   [1. To make the dressing. Combine all ingredie...  \n",
       "2   [1. To make the dressing. Combine all ingredie...  \n",
       "3   [1. To make the dressing. Combine all ingredie...  \n",
       "4   [1. To make the dressing. Combine all ingredie...  \n",
       "5   [1. To make the dressing. Combine all ingredie...  \n",
       "6   [1. To make the dressing. Combine all ingredie...  \n",
       "7                                                   -  \n",
       "8   [1. To make the dressing. Combine all ingredie...  \n",
       "9   [1. To make the dressing. Combine all ingredie...  \n",
       "10  [1. To make the dressing. Combine all ingredie...  \n",
       "11  [1. To make the dressing. Combine all ingredie...  \n",
       "12  [1. To make the dressing. Combine all ingredie...  \n",
       "13  [1. To make the dressing. Combine all ingredie...  \n",
       "14  [1. To make the dressing. Combine all ingredie...  \n",
       "15  [1. To make the dressing. Combine all ingredie...  \n",
       "16  [1. To make the dressing. Combine all ingredie...  \n",
       "17  [1. To make the dressing. Combine all ingredie...  \n",
       "18  [1. To make the dressing. Combine all ingredie...  \n",
       "19  [1. To make the dressing. Combine all ingredie...  \n",
       "20  [1. To make the dressing. Combine all ingredie...  \n",
       "21  [1. To make the dressing. Combine all ingredie...  \n",
       "22  [1. To make the dressing. Combine all ingredie...  \n",
       "23  [1. To make the dressing. Combine all ingredie...  "
      ]
     },
     "execution_count": 72,
     "metadata": {},
     "output_type": "execute_result"
    }
   ],
   "source": [
    "df['instructions'] = instructions\n",
    "df"
   ]
  },
  {
   "cell_type": "code",
   "execution_count": 73,
   "id": "6cdd9388",
   "metadata": {},
   "outputs": [
    {
     "data": {
      "text/plain": [
       "['1. To make the dressing. Combine all ingredients in a glass jar and whisk until smooth. Season with salt, pepper, and chiles.',\n",
       " '2. Bring a large pot of salted water to a boil. Boil the pasta to al dente, according to package directions. Drain.',\n",
       " '3. In a large bowl, toss together the hot pasta and the dressing. Add the salami, pepperoni, cheeses, tomatoes, olives, pepper, sun-dried tomatoes,  pepperoncini, and basil. Toss, toss!',\n",
       " '4. Serve warm or cold. Enjoy!']"
      ]
     },
     "execution_count": 73,
     "metadata": {},
     "output_type": "execute_result"
    }
   ],
   "source": [
    "df.iloc[1]['instructions']"
   ]
  },
  {
   "cell_type": "code",
   "execution_count": 77,
   "id": "d54cf252",
   "metadata": {},
   "outputs": [
    {
     "name": "stdout",
     "output_type": "stream",
     "text": [
      "['4', '6', '6', '6', '6', '6', '8', '-', '6', '8', '6', '6', '6', '6', '6', '6', '6', '6', '4', '8', '6', '6', '6', '6']\n",
      "['472 kcal', '441 kcal', '496 kcal', '542 kcal', '514 kcal', '524 kcal', '673 kcal', '-', '329 kcal', '540 kcal', '298 kcal', '432 kcal', '410 kcal', '692 kcal', '525 kcal', '372 kcal', '526 kcal', '679 kcal', '585 kcal', '448 kcal', '676 kcal', '534 kcal', '714 kcal', '341 kcal']\n"
     ]
    }
   ],
   "source": [
    "calories = []\n",
    "servings = []\n",
    "for card in cards:\n",
    "    link_tag = card.find('a')\n",
    "    recipe_url = link_tag['href']\n",
    "    try:\n",
    "        response = requests.get(recipe_url, headers=headers)\n",
    "        response.raise_for_status()  # Raise an exception for non-200 status codes\n",
    "        temp_soup = BeautifulSoup(response.text, 'lxml')\n",
    "        \n",
    "        # Servings\n",
    "        serving_div = temp_soup.find('span', class_='wprm-recipe-servings')\n",
    "        if serving_div:\n",
    "            servings.append(serving_div.text.strip())\n",
    "        else:\n",
    "            servings.append('-')\n",
    "        \n",
    "        # Calories\n",
    "        calorie_div = temp_soup.find('span',class_='wprm-recipe-nutrition-with-unit')\n",
    "        if calorie_div:\n",
    "            calories.append(calorie_div.text.strip())\n",
    "        else:\n",
    "            calories.append('-')\n",
    "        \n",
    "    except requests.exceptions.RequestException as e:\n",
    "        print(f\"Failed to fetch the page: {e}\")\n",
    "        continue  # Move to the next card if there's an error\n",
    "\n",
    "print(servings)\n",
    "print(calories)"
   ]
  },
  {
   "cell_type": "code",
   "execution_count": 78,
   "id": "0dcd7b44",
   "metadata": {},
   "outputs": [
    {
     "data": {
      "text/html": [
       "<div>\n",
       "<style scoped>\n",
       "    .dataframe tbody tr th:only-of-type {\n",
       "        vertical-align: middle;\n",
       "    }\n",
       "\n",
       "    .dataframe tbody tr th {\n",
       "        vertical-align: top;\n",
       "    }\n",
       "\n",
       "    .dataframe thead th {\n",
       "        text-align: right;\n",
       "    }\n",
       "</style>\n",
       "<table border=\"1\" class=\"dataframe\">\n",
       "  <thead>\n",
       "    <tr style=\"text-align: right;\">\n",
       "      <th></th>\n",
       "      <th>title</th>\n",
       "      <th>prep_time</th>\n",
       "      <th>cook_time</th>\n",
       "      <th>total_time</th>\n",
       "      <th>ingredients</th>\n",
       "      <th>ingredients with measurement</th>\n",
       "      <th>instructions</th>\n",
       "      <th>calories</th>\n",
       "      <th>servings</th>\n",
       "    </tr>\n",
       "  </thead>\n",
       "  <tbody>\n",
       "    <tr>\n",
       "      <th>0</th>\n",
       "      <td>Garlic Butter Baked Salmon In Lemony Parmesan ...</td>\n",
       "      <td>{'minutes': '15'}</td>\n",
       "      <td>{'minutes': '20'}</td>\n",
       "      <td>{'minutes': '35'}</td>\n",
       "      <td>[salmon filets, skin on or off, salt and black...</td>\n",
       "      <td>{'salmon filets, skin on or off': '4', 'salt a...</td>\n",
       "      <td>[1. To make the dressing. Combine all ingredie...</td>\n",
       "      <td>472 kcal</td>\n",
       "      <td>4</td>\n",
       "    </tr>\n",
       "    <tr>\n",
       "      <th>1</th>\n",
       "      <td>Pineapple Adobo Chicken Skewers</td>\n",
       "      <td>{'minutes': '15'}</td>\n",
       "      <td>{'minutes': '15'}</td>\n",
       "      <td>{'minutes': '30'}</td>\n",
       "      <td>[toasted sesame oil or olive oil, tamari or lo...</td>\n",
       "      <td>{'toasted sesame oil or olive oil': '2', 'tama...</td>\n",
       "      <td>[1. To make the dressing. Combine all ingredie...</td>\n",
       "      <td>441 kcal</td>\n",
       "      <td>6</td>\n",
       "    </tr>\n",
       "    <tr>\n",
       "      <th>2</th>\n",
       "      <td>Marry Me Chicken Meatballs</td>\n",
       "      <td>{'minutes': '20'}</td>\n",
       "      <td>{'minutes': '25'}</td>\n",
       "      <td>{'minutes': '45'}</td>\n",
       "      <td>[oil-packed sun-dried tomatoes, oil drained, g...</td>\n",
       "      <td>{'oil-packed sun-dried tomatoes, oil drained':...</td>\n",
       "      <td>[1. To make the dressing. Combine all ingredie...</td>\n",
       "      <td>496 kcal</td>\n",
       "      <td>6</td>\n",
       "    </tr>\n",
       "    <tr>\n",
       "      <th>3</th>\n",
       "      <td>20 Minute Ginger Cashew Beef</td>\n",
       "      <td>{'minutes': '10'}</td>\n",
       "      <td>{'minutes': '10'}</td>\n",
       "      <td>{'minutes': '20'}</td>\n",
       "      <td>[sesame oil, flank or skirt steak, thinly slic...</td>\n",
       "      <td>{'sesame oil': '3', 'flank or skirt steak, thi...</td>\n",
       "      <td>[1. To make the dressing. Combine all ingredie...</td>\n",
       "      <td>542 kcal</td>\n",
       "      <td>6</td>\n",
       "    </tr>\n",
       "    <tr>\n",
       "      <th>4</th>\n",
       "      <td>Lemon Butter Orzo Carbonara</td>\n",
       "      <td>{'minutes': '10'}</td>\n",
       "      <td>{'minutes': '10'}</td>\n",
       "      <td>{'minutes': '20'}</td>\n",
       "      <td>[bacon, chopped, salted butter, at room temper...</td>\n",
       "      <td>{'bacon, chopped': '6', 'salted butter, at roo...</td>\n",
       "      <td>[1. To make the dressing. Combine all ingredie...</td>\n",
       "      <td>514 kcal</td>\n",
       "      <td>6</td>\n",
       "    </tr>\n",
       "    <tr>\n",
       "      <th>5</th>\n",
       "      <td>Avocado Bacon Chicken Salad with Jalapeño Hone...</td>\n",
       "      <td>{'minutes': '25'}</td>\n",
       "      <td>{'minutes': '20'}</td>\n",
       "      <td>{'minutes': '45'}</td>\n",
       "      <td>[extra virgin olive oil, boneless skinless chi...</td>\n",
       "      <td>{'extra virgin olive oil': '1/3', 'boneless sk...</td>\n",
       "      <td>[1. To make the dressing. Combine all ingredie...</td>\n",
       "      <td>524 kcal</td>\n",
       "      <td>6</td>\n",
       "    </tr>\n",
       "    <tr>\n",
       "      <th>6</th>\n",
       "      <td>Italian Chop Pasta Salad</td>\n",
       "      <td>{'minutes': '20'}</td>\n",
       "      <td>{'minutes': '10'}</td>\n",
       "      <td>{'minutes': '30'}</td>\n",
       "      <td>[extra virgin olive oil, balsamic or red wine ...</td>\n",
       "      <td>{'extra virgin olive oil': '½', 'balsamic or r...</td>\n",
       "      <td>[1. To make the dressing. Combine all ingredie...</td>\n",
       "      <td>673 kcal</td>\n",
       "      <td>8</td>\n",
       "    </tr>\n",
       "    <tr>\n",
       "      <th>7</th>\n",
       "      <td>-</td>\n",
       "      <td>-</td>\n",
       "      <td>-</td>\n",
       "      <td>-</td>\n",
       "      <td>[]</td>\n",
       "      <td>{}</td>\n",
       "      <td>-</td>\n",
       "      <td>-</td>\n",
       "      <td>-</td>\n",
       "    </tr>\n",
       "    <tr>\n",
       "      <th>8</th>\n",
       "      <td>Baked Honey Balsamic Chicken with Charred Lemo...</td>\n",
       "      <td>{'minutes': '20'}</td>\n",
       "      <td>{'minutes': '20'}</td>\n",
       "      <td>{'minutes': '40'}</td>\n",
       "      <td>[balsamic vinegar, honey, worcestershire, shal...</td>\n",
       "      <td>{'balsamic vinegar': '1/3', 'honey': '3-4', 'w...</td>\n",
       "      <td>[1. To make the dressing. Combine all ingredie...</td>\n",
       "      <td>329 kcal</td>\n",
       "      <td>6</td>\n",
       "    </tr>\n",
       "    <tr>\n",
       "      <th>9</th>\n",
       "      <td>Creamy Avocado Ranch Chicken Pasta Salad</td>\n",
       "      <td>{'minutes': '20'}</td>\n",
       "      <td>{'minutes': '10'}</td>\n",
       "      <td>{'minutes': '30'}</td>\n",
       "      <td>[plain Greek yogurt or sour cream, mayo, dried...</td>\n",
       "      <td>{'plain Greek yogurt or sour cream': '1/2', 'm...</td>\n",
       "      <td>[1. To make the dressing. Combine all ingredie...</td>\n",
       "      <td>540 kcal</td>\n",
       "      <td>8</td>\n",
       "    </tr>\n",
       "    <tr>\n",
       "      <th>10</th>\n",
       "      <td>Baked Coconut Curry Salmon</td>\n",
       "      <td>{'minutes': '15'}</td>\n",
       "      <td>{'minutes': '30'}</td>\n",
       "      <td>{'minutes': '45'}</td>\n",
       "      <td>[salmon filets, cubed, cream cheese, at room t...</td>\n",
       "      <td>{'salmon filets, cubed': '4', 'cream cheese, a...</td>\n",
       "      <td>[1. To make the dressing. Combine all ingredie...</td>\n",
       "      <td>298 kcal</td>\n",
       "      <td>6</td>\n",
       "    </tr>\n",
       "    <tr>\n",
       "      <th>11</th>\n",
       "      <td>Skillet Creamy Chipotle Chicken Enchiladas</td>\n",
       "      <td>{'minutes': '15'}</td>\n",
       "      <td>{'minutes': '30'}</td>\n",
       "      <td>{'minutes': '45'}</td>\n",
       "      <td>[yellow onion, chopped, boneless skinless chic...</td>\n",
       "      <td>{'yellow onion, chopped': '1', 'boneless skinl...</td>\n",
       "      <td>[1. To make the dressing. Combine all ingredie...</td>\n",
       "      <td>432 kcal</td>\n",
       "      <td>6</td>\n",
       "    </tr>\n",
       "    <tr>\n",
       "      <th>12</th>\n",
       "      <td>Sheet Pan Sesame Miso Chicken and Sweet Potatoes</td>\n",
       "      <td>{'minutes': '20'}</td>\n",
       "      <td>{'minutes': '25'}</td>\n",
       "      <td>{'minutes': '45'}</td>\n",
       "      <td>[sesame oil, red or white miso paste, tamari/s...</td>\n",
       "      <td>{'sesame oil': '2', 'red or white miso paste':...</td>\n",
       "      <td>[1. To make the dressing. Combine all ingredie...</td>\n",
       "      <td>410 kcal</td>\n",
       "      <td>6</td>\n",
       "    </tr>\n",
       "    <tr>\n",
       "      <th>13</th>\n",
       "      <td>Chicken Tzatziki Salad</td>\n",
       "      <td>{'minutes': '25'}</td>\n",
       "      <td>{'minutes': '20'}</td>\n",
       "      <td>{'minutes': '45'}</td>\n",
       "      <td>[extra virgin olive oil, boneless skinless chi...</td>\n",
       "      <td>{'extra virgin olive oil': '2', 'boneless skin...</td>\n",
       "      <td>[1. To make the dressing. Combine all ingredie...</td>\n",
       "      <td>692 kcal</td>\n",
       "      <td>6</td>\n",
       "    </tr>\n",
       "    <tr>\n",
       "      <th>14</th>\n",
       "      <td>One Pot Broccoli Cheese Pesto Pasta</td>\n",
       "      <td>{'minutes': '15'}</td>\n",
       "      <td>{'minutes': '15'}</td>\n",
       "      <td>{'minutes': '30'}</td>\n",
       "      <td>[short-cut pasta, chopped broccoli, heavy crea...</td>\n",
       "      <td>{'short-cut pasta': '1', 'chopped broccoli': '...</td>\n",
       "      <td>[1. To make the dressing. Combine all ingredie...</td>\n",
       "      <td>525 kcal</td>\n",
       "      <td>6</td>\n",
       "    </tr>\n",
       "    <tr>\n",
       "      <th>15</th>\n",
       "      <td>Crockpot Chipotle Pineapple Pot Roast Bowls</td>\n",
       "      <td>{'minutes': '30'}</td>\n",
       "      <td>{'hours': '3'}</td>\n",
       "      <td>{'hours': '3', 'minutes': '30'}</td>\n",
       "      <td>[chuck roast, halved, extra virgin olive oil, ...</td>\n",
       "      <td>{'chuck roast, halved': '1', 'extra virgin oli...</td>\n",
       "      <td>[1. To make the dressing. Combine all ingredie...</td>\n",
       "      <td>372 kcal</td>\n",
       "      <td>6</td>\n",
       "    </tr>\n",
       "    <tr>\n",
       "      <th>16</th>\n",
       "      <td>Crockpot Thai Yellow Curry Chicken with Garlic...</td>\n",
       "      <td>{'minutes': '15'}</td>\n",
       "      <td>{'hours': '5'}</td>\n",
       "      <td>{'hours': '5', 'minutes': '15'}</td>\n",
       "      <td>[boneless chicken breasts, cubed, plain Greek ...</td>\n",
       "      <td>{'boneless chicken breasts, cubed': '2', 'plai...</td>\n",
       "      <td>[1. To make the dressing. Combine all ingredie...</td>\n",
       "      <td>526 kcal</td>\n",
       "      <td>6</td>\n",
       "    </tr>\n",
       "    <tr>\n",
       "      <th>17</th>\n",
       "      <td>Baked Lemon Rosemary Chicken Meatballs and Cre...</td>\n",
       "      <td>{'minutes': '20'}</td>\n",
       "      <td>{'minutes': '25'}</td>\n",
       "      <td>{'minutes': '45'}</td>\n",
       "      <td>[ground chicken, pork, or turkey, dijon mustar...</td>\n",
       "      <td>{'ground chicken, pork, or turkey': '1 1/2', '...</td>\n",
       "      <td>[1. To make the dressing. Combine all ingredie...</td>\n",
       "      <td>679 kcal</td>\n",
       "      <td>6</td>\n",
       "    </tr>\n",
       "    <tr>\n",
       "      <th>18</th>\n",
       "      <td>30 Minute Thai Basil Beef Noodles</td>\n",
       "      <td>{'minutes': '15'}</td>\n",
       "      <td>{'minutes': '15'}</td>\n",
       "      <td>{'minutes': '30'}</td>\n",
       "      <td>[Pad Thai/wide rice noodles, tamari or soy sau...</td>\n",
       "      <td>{'Pad Thai/wide rice noodles': '6', 'tamari or...</td>\n",
       "      <td>[1. To make the dressing. Combine all ingredie...</td>\n",
       "      <td>585 kcal</td>\n",
       "      <td>4</td>\n",
       "    </tr>\n",
       "    <tr>\n",
       "      <th>19</th>\n",
       "      <td>Crispy Carnitas Tacos with Roasted Jalapeño Li...</td>\n",
       "      <td>{'minutes': '25'}</td>\n",
       "      <td>{'hours': '3'}</td>\n",
       "      <td>{'hours': '3', 'minutes': '25'}</td>\n",
       "      <td>[pork butt, or 6 chicken thighs/breasts, chipo...</td>\n",
       "      <td>{'pork butt, or 6 chicken thighs/breasts': '2-...</td>\n",
       "      <td>[1. To make the dressing. Combine all ingredie...</td>\n",
       "      <td>448 kcal</td>\n",
       "      <td>8</td>\n",
       "    </tr>\n",
       "    <tr>\n",
       "      <th>20</th>\n",
       "      <td>One Pot Chili Cheese Mac</td>\n",
       "      <td>{'minutes': '20'}</td>\n",
       "      <td>{'minutes': '25'}</td>\n",
       "      <td>{'minutes': '40'}</td>\n",
       "      <td>[ground beef, yellow onion, chopped, poblano p...</td>\n",
       "      <td>{'ground beef': '1', 'yellow onion, chopped': ...</td>\n",
       "      <td>[1. To make the dressing. Combine all ingredie...</td>\n",
       "      <td>676 kcal</td>\n",
       "      <td>6</td>\n",
       "    </tr>\n",
       "    <tr>\n",
       "      <th>21</th>\n",
       "      <td>One Pan Creamy Parmesan Ranch Chicken</td>\n",
       "      <td>{'minutes': '15'}</td>\n",
       "      <td>{'minutes': '30'}</td>\n",
       "      <td>{'minutes': '45'}</td>\n",
       "      <td>[small boneless chicken breasts or thighs, cre...</td>\n",
       "      <td>{'small boneless chicken breasts or thighs': '...</td>\n",
       "      <td>[1. To make the dressing. Combine all ingredie...</td>\n",
       "      <td>534 kcal</td>\n",
       "      <td>6</td>\n",
       "    </tr>\n",
       "    <tr>\n",
       "      <th>22</th>\n",
       "      <td>Sheet Pan Chicken Shawarma Havarti Sandwich</td>\n",
       "      <td>{'minutes': '30'}</td>\n",
       "      <td>{'minutes': '45'}</td>\n",
       "      <td>{'hours': '1', 'minutes': '15'}</td>\n",
       "      <td>[full-fat plain Greek yogurt, extra virgin oli...</td>\n",
       "      <td>{'full-fat plain Greek yogurt': '1/3', 'extra ...</td>\n",
       "      <td>[1. To make the dressing. Combine all ingredie...</td>\n",
       "      <td>714 kcal</td>\n",
       "      <td>6</td>\n",
       "    </tr>\n",
       "    <tr>\n",
       "      <th>23</th>\n",
       "      <td>Sheet Pan Korean Popcorn Chicken</td>\n",
       "      <td>{'minutes': '20'}</td>\n",
       "      <td>{'minutes': '20'}</td>\n",
       "      <td>{'minutes': '40'}</td>\n",
       "      <td>[boneless chicken breasts, cut into 2 inch cub...</td>\n",
       "      <td>{'boneless chicken breasts, cut into 2 inch cu...</td>\n",
       "      <td>[1. To make the dressing. Combine all ingredie...</td>\n",
       "      <td>341 kcal</td>\n",
       "      <td>6</td>\n",
       "    </tr>\n",
       "  </tbody>\n",
       "</table>\n",
       "</div>"
      ],
      "text/plain": [
       "                                                title          prep_time  \\\n",
       "0   Garlic Butter Baked Salmon In Lemony Parmesan ...  {'minutes': '15'}   \n",
       "1                     Pineapple Adobo Chicken Skewers  {'minutes': '15'}   \n",
       "2                          Marry Me Chicken Meatballs  {'minutes': '20'}   \n",
       "3                        20 Minute Ginger Cashew Beef  {'minutes': '10'}   \n",
       "4                         Lemon Butter Orzo Carbonara  {'minutes': '10'}   \n",
       "5   Avocado Bacon Chicken Salad with Jalapeño Hone...  {'minutes': '25'}   \n",
       "6                            Italian Chop Pasta Salad  {'minutes': '20'}   \n",
       "7                                                   -                  -   \n",
       "8   Baked Honey Balsamic Chicken with Charred Lemo...  {'minutes': '20'}   \n",
       "9            Creamy Avocado Ranch Chicken Pasta Salad  {'minutes': '20'}   \n",
       "10                         Baked Coconut Curry Salmon  {'minutes': '15'}   \n",
       "11         Skillet Creamy Chipotle Chicken Enchiladas  {'minutes': '15'}   \n",
       "12   Sheet Pan Sesame Miso Chicken and Sweet Potatoes  {'minutes': '20'}   \n",
       "13                             Chicken Tzatziki Salad  {'minutes': '25'}   \n",
       "14                One Pot Broccoli Cheese Pesto Pasta  {'minutes': '15'}   \n",
       "15        Crockpot Chipotle Pineapple Pot Roast Bowls  {'minutes': '30'}   \n",
       "16  Crockpot Thai Yellow Curry Chicken with Garlic...  {'minutes': '15'}   \n",
       "17  Baked Lemon Rosemary Chicken Meatballs and Cre...  {'minutes': '20'}   \n",
       "18                  30 Minute Thai Basil Beef Noodles  {'minutes': '15'}   \n",
       "19  Crispy Carnitas Tacos with Roasted Jalapeño Li...  {'minutes': '25'}   \n",
       "20                           One Pot Chili Cheese Mac  {'minutes': '20'}   \n",
       "21              One Pan Creamy Parmesan Ranch Chicken  {'minutes': '15'}   \n",
       "22        Sheet Pan Chicken Shawarma Havarti Sandwich  {'minutes': '30'}   \n",
       "23                   Sheet Pan Korean Popcorn Chicken  {'minutes': '20'}   \n",
       "\n",
       "            cook_time                       total_time  \\\n",
       "0   {'minutes': '20'}                {'minutes': '35'}   \n",
       "1   {'minutes': '15'}                {'minutes': '30'}   \n",
       "2   {'minutes': '25'}                {'minutes': '45'}   \n",
       "3   {'minutes': '10'}                {'minutes': '20'}   \n",
       "4   {'minutes': '10'}                {'minutes': '20'}   \n",
       "5   {'minutes': '20'}                {'minutes': '45'}   \n",
       "6   {'minutes': '10'}                {'minutes': '30'}   \n",
       "7                   -                                -   \n",
       "8   {'minutes': '20'}                {'minutes': '40'}   \n",
       "9   {'minutes': '10'}                {'minutes': '30'}   \n",
       "10  {'minutes': '30'}                {'minutes': '45'}   \n",
       "11  {'minutes': '30'}                {'minutes': '45'}   \n",
       "12  {'minutes': '25'}                {'minutes': '45'}   \n",
       "13  {'minutes': '20'}                {'minutes': '45'}   \n",
       "14  {'minutes': '15'}                {'minutes': '30'}   \n",
       "15     {'hours': '3'}  {'hours': '3', 'minutes': '30'}   \n",
       "16     {'hours': '5'}  {'hours': '5', 'minutes': '15'}   \n",
       "17  {'minutes': '25'}                {'minutes': '45'}   \n",
       "18  {'minutes': '15'}                {'minutes': '30'}   \n",
       "19     {'hours': '3'}  {'hours': '3', 'minutes': '25'}   \n",
       "20  {'minutes': '25'}                {'minutes': '40'}   \n",
       "21  {'minutes': '30'}                {'minutes': '45'}   \n",
       "22  {'minutes': '45'}  {'hours': '1', 'minutes': '15'}   \n",
       "23  {'minutes': '20'}                {'minutes': '40'}   \n",
       "\n",
       "                                          ingredients  \\\n",
       "0   [salmon filets, skin on or off, salt and black...   \n",
       "1   [toasted sesame oil or olive oil, tamari or lo...   \n",
       "2   [oil-packed sun-dried tomatoes, oil drained, g...   \n",
       "3   [sesame oil, flank or skirt steak, thinly slic...   \n",
       "4   [bacon, chopped, salted butter, at room temper...   \n",
       "5   [extra virgin olive oil, boneless skinless chi...   \n",
       "6   [extra virgin olive oil, balsamic or red wine ...   \n",
       "7                                                  []   \n",
       "8   [balsamic vinegar, honey, worcestershire, shal...   \n",
       "9   [plain Greek yogurt or sour cream, mayo, dried...   \n",
       "10  [salmon filets, cubed, cream cheese, at room t...   \n",
       "11  [yellow onion, chopped, boneless skinless chic...   \n",
       "12  [sesame oil, red or white miso paste, tamari/s...   \n",
       "13  [extra virgin olive oil, boneless skinless chi...   \n",
       "14  [short-cut pasta, chopped broccoli, heavy crea...   \n",
       "15  [chuck roast, halved, extra virgin olive oil, ...   \n",
       "16  [boneless chicken breasts, cubed, plain Greek ...   \n",
       "17  [ground chicken, pork, or turkey, dijon mustar...   \n",
       "18  [Pad Thai/wide rice noodles, tamari or soy sau...   \n",
       "19  [pork butt, or 6 chicken thighs/breasts, chipo...   \n",
       "20  [ground beef, yellow onion, chopped, poblano p...   \n",
       "21  [small boneless chicken breasts or thighs, cre...   \n",
       "22  [full-fat plain Greek yogurt, extra virgin oli...   \n",
       "23  [boneless chicken breasts, cut into 2 inch cub...   \n",
       "\n",
       "                         ingredients with measurement  \\\n",
       "0   {'salmon filets, skin on or off': '4', 'salt a...   \n",
       "1   {'toasted sesame oil or olive oil': '2', 'tama...   \n",
       "2   {'oil-packed sun-dried tomatoes, oil drained':...   \n",
       "3   {'sesame oil': '3', 'flank or skirt steak, thi...   \n",
       "4   {'bacon, chopped': '6', 'salted butter, at roo...   \n",
       "5   {'extra virgin olive oil': '1/3', 'boneless sk...   \n",
       "6   {'extra virgin olive oil': '½', 'balsamic or r...   \n",
       "7                                                  {}   \n",
       "8   {'balsamic vinegar': '1/3', 'honey': '3-4', 'w...   \n",
       "9   {'plain Greek yogurt or sour cream': '1/2', 'm...   \n",
       "10  {'salmon filets, cubed': '4', 'cream cheese, a...   \n",
       "11  {'yellow onion, chopped': '1', 'boneless skinl...   \n",
       "12  {'sesame oil': '2', 'red or white miso paste':...   \n",
       "13  {'extra virgin olive oil': '2', 'boneless skin...   \n",
       "14  {'short-cut pasta': '1', 'chopped broccoli': '...   \n",
       "15  {'chuck roast, halved': '1', 'extra virgin oli...   \n",
       "16  {'boneless chicken breasts, cubed': '2', 'plai...   \n",
       "17  {'ground chicken, pork, or turkey': '1 1/2', '...   \n",
       "18  {'Pad Thai/wide rice noodles': '6', 'tamari or...   \n",
       "19  {'pork butt, or 6 chicken thighs/breasts': '2-...   \n",
       "20  {'ground beef': '1', 'yellow onion, chopped': ...   \n",
       "21  {'small boneless chicken breasts or thighs': '...   \n",
       "22  {'full-fat plain Greek yogurt': '1/3', 'extra ...   \n",
       "23  {'boneless chicken breasts, cut into 2 inch cu...   \n",
       "\n",
       "                                         instructions  calories servings  \n",
       "0   [1. To make the dressing. Combine all ingredie...  472 kcal        4  \n",
       "1   [1. To make the dressing. Combine all ingredie...  441 kcal        6  \n",
       "2   [1. To make the dressing. Combine all ingredie...  496 kcal        6  \n",
       "3   [1. To make the dressing. Combine all ingredie...  542 kcal        6  \n",
       "4   [1. To make the dressing. Combine all ingredie...  514 kcal        6  \n",
       "5   [1. To make the dressing. Combine all ingredie...  524 kcal        6  \n",
       "6   [1. To make the dressing. Combine all ingredie...  673 kcal        8  \n",
       "7                                                   -         -        -  \n",
       "8   [1. To make the dressing. Combine all ingredie...  329 kcal        6  \n",
       "9   [1. To make the dressing. Combine all ingredie...  540 kcal        8  \n",
       "10  [1. To make the dressing. Combine all ingredie...  298 kcal        6  \n",
       "11  [1. To make the dressing. Combine all ingredie...  432 kcal        6  \n",
       "12  [1. To make the dressing. Combine all ingredie...  410 kcal        6  \n",
       "13  [1. To make the dressing. Combine all ingredie...  692 kcal        6  \n",
       "14  [1. To make the dressing. Combine all ingredie...  525 kcal        6  \n",
       "15  [1. To make the dressing. Combine all ingredie...  372 kcal        6  \n",
       "16  [1. To make the dressing. Combine all ingredie...  526 kcal        6  \n",
       "17  [1. To make the dressing. Combine all ingredie...  679 kcal        6  \n",
       "18  [1. To make the dressing. Combine all ingredie...  585 kcal        4  \n",
       "19  [1. To make the dressing. Combine all ingredie...  448 kcal        8  \n",
       "20  [1. To make the dressing. Combine all ingredie...  676 kcal        6  \n",
       "21  [1. To make the dressing. Combine all ingredie...  534 kcal        6  \n",
       "22  [1. To make the dressing. Combine all ingredie...  714 kcal        6  \n",
       "23  [1. To make the dressing. Combine all ingredie...  341 kcal        6  "
      ]
     },
     "execution_count": 78,
     "metadata": {},
     "output_type": "execute_result"
    }
   ],
   "source": [
    "df['calories'] = calories\n",
    "df['servings'] = servings\n",
    "df"
   ]
  },
  {
   "cell_type": "code",
   "execution_count": 90,
   "id": "6e8c46ad",
   "metadata": {},
   "outputs": [
    {
     "name": "stdout",
     "output_type": "stream",
     "text": [
      "https://www.halfbakedharvest.com/wp-content/uploads/2024/04/Creamy-Garlic-Butter-Baked-Salmon-1-224x224.jpg\n",
      "https://www.halfbakedharvest.com/wp-content/uploads/2024/04/Pineapple-Adobo-Chicken-Skewers-1-224x224.jpg\n",
      "https://www.halfbakedharvest.com/wp-content/uploads/2024/04/Marry-Me-Chicken-Meatballs-1-224x224.jpg\n",
      "https://www.halfbakedharvest.com/wp-content/uploads/2024/04/20-Minute-Ginger-Cashew-Beef-1-224x224.jpg\n",
      "https://www.halfbakedharvest.com/wp-content/uploads/2024/04/20-Minute-Lemon-Butter-Orzo-Carbonara-1-224x224.jpg\n",
      "https://www.halfbakedharvest.com/wp-content/uploads/2024/03/Avocado-Bacon-Chicken-Salad-with-Jalapeno-Honey-Mustard-1-224x224.jpg\n",
      "https://www.halfbakedharvest.com/wp-content/uploads/2024/03/Italian-Chop-Pasta-Salad-1-224x224.jpg\n",
      "https://www.halfbakedharvest.com/wp-content/uploads/2023/04/Salty-Pretzel-Banana-Pudding-Ice-Cream-Cake-Cake-1-224x224.jpg\n",
      "https://www.halfbakedharvest.com/wp-content/uploads/2024/03/Baked-Honey-Balsamic-Chicken-1-224x224.jpg\n",
      "https://www.halfbakedharvest.com/wp-content/uploads/2024/03/Creamy-Avocado-Ranch-Chicken-Pasta-Salad-1-224x224.jpg\n",
      "https://www.halfbakedharvest.com/wp-content/uploads/2024/03/Baked-Coconut-Curry-Salmon-1-224x224.jpg\n",
      "https://www.halfbakedharvest.com/wp-content/uploads/2024/03/Skillet-Creamy-Chipotle-Chicken-Enchiladas-1-224x224.jpg\n",
      "https://www.halfbakedharvest.com/wp-content/uploads/2024/03/Sheet-Pan-Sesame-Miso-Chicken-with-Coconut-Rice-1-224x224.jpg\n",
      "https://www.halfbakedharvest.com/wp-content/uploads/2024/03/Chicken-Tzatziki-Avocado-Salad-1-224x224.jpg\n",
      "https://www.halfbakedharvest.com/wp-content/uploads/2024/03/Easy-One-Pot-Broccoli-Cheese-Pesto-Pasta-1-224x224.jpg\n",
      "https://www.halfbakedharvest.com/wp-content/uploads/2024/03/Crockpot-Chipotle-Pineapple-Pot-Roast-Bowls-1-224x224.jpg\n",
      "https://www.halfbakedharvest.com/wp-content/uploads/2024/03/Crockpot-Thai-Yellow-Curry-Chicken-1-224x224.jpg\n",
      "https://www.halfbakedharvest.com/wp-content/uploads/2024/02/Baked-Lemon-Rosemary-Chicken-Meatballs-and-Creamy-Orzo-1-224x224.jpg\n",
      "https://www.halfbakedharvest.com/wp-content/uploads/2024/02/30-Minute-Thai-Basil-Beef-Noodles-1.jpg\n",
      "https://www.halfbakedharvest.com/wp-content/uploads/2024/02/Crispy-Carnitas-Tacos-with-Roasted-Jalapeno-Lime-Avocado-1-224x224.jpg\n",
      "https://www.halfbakedharvest.com/wp-content/uploads/2024/02/One-Pot-Chili-Mac-and-Cheese-1-224x224.jpg\n",
      "https://www.halfbakedharvest.com/wp-content/uploads/2024/02/One-Pan-Creamy-Parmesan-Ranch-Chicken-1-224x224.jpg\n",
      "https://www.halfbakedharvest.com/wp-content/uploads/2024/02/Sheet-Pan-Chicken-Shawarma-Havarti-Sandwich-1-224x224.jpg\n",
      "https://www.halfbakedharvest.com/wp-content/uploads/2024/02/Sheet-Pan-Korean-Popcorn-Chicken-1-224x224.jpg\n",
      "['4', '6', '6', '6', '6', '6', '8', '-', '6', '8', '6', '6', '6', '6', '6', '6', '6', '6', '4', '8', '6', '6', '6', '6']\n",
      "['472 kcal', '441 kcal', '496 kcal', '542 kcal', '514 kcal', '524 kcal', '673 kcal', '-', '329 kcal', '540 kcal', '298 kcal', '432 kcal', '410 kcal', '692 kcal', '525 kcal', '372 kcal', '526 kcal', '679 kcal', '585 kcal', '448 kcal', '676 kcal', '534 kcal', '714 kcal', '341 kcal']\n"
     ]
    }
   ],
   "source": [
    "# imgs = []\n",
    "\n",
    "# for card in cards:\n",
    "#     link_tag = card.find('a')\n",
    "#     recipe_url = link_tag['href']\n",
    "#     try:\n",
    "#         response = requests.get(recipe_url, headers=headers)\n",
    "#         response.raise_for_status()  # Raise an exception for non-200 status codes\n",
    "#         temp_soup = BeautifulSoup(response.text, 'lxml')\n",
    "        \n",
    "#         # Image\n",
    "#         img_div = temp_soup.find(class_='entry-content')\n",
    "#         if img_div:\n",
    "#             img_tag = img_div.find('img')\n",
    "#             if img_tag:\n",
    "#                 img_src = img_tag['src']\n",
    "#                 print(img_src)\n",
    "#             else:\n",
    "#                 print(\"Image source not found.\")\n",
    "#         else:\n",
    "#             print(\"Div not found\")\n",
    "        \n",
    "#     except requests.exceptions.RequestException as e:\n",
    "#         print(f\"Failed to fetch the page: {e}\")\n",
    "#         continue  # Move to the next card if there's an error\n",
    "\n"
   ]
  },
  {
   "cell_type": "code",
   "execution_count": 105,
   "id": "40bc10a0",
   "metadata": {},
   "outputs": [],
   "source": [
    "images = []\n",
    "\n",
    "for card in cards:\n",
    "    link_tag = card.find('a')\n",
    "    recipe_url = link_tag['href']\n",
    "    try:\n",
    "        response = requests.get(recipe_url, headers=headers)\n",
    "        response.raise_for_status()  # Raise an exception for non-200 status codes\n",
    "        temp_soup = BeautifulSoup(response.text, 'lxml')\n",
    "        \n",
    "        # Image\n",
    "        images.append('-')\n",
    "        img_div = temp_soup.find(class_='entry-content')\n",
    "        img_tags = img_div.find_all('img')\n",
    "\n",
    "        # Extract the second link ending with \".jpg\" if it exists\n",
    "        jpg_links = [img['src'] for img in img_tags if img['src'].endswith('.jpg')]\n",
    "        if len(jpg_links) >= 2:\n",
    "            second_jpg_link = jpg_links[1]\n",
    "            images[-1] = second_jpg_link\n",
    "        \n",
    "\n",
    "    except requests.exceptions.RequestException as e:\n",
    "        print(f\"Failed to fetch the page: {e}\")\n",
    "        continue  # Move to the next card if there's an error\n",
    "\n",
    "print(len())\n",
    "print(images)"
   ]
  },
  {
   "cell_type": "code",
   "execution_count": 108,
   "id": "45bc807d",
   "metadata": {},
   "outputs": [
    {
     "data": {
      "text/html": [
       "<div>\n",
       "<style scoped>\n",
       "    .dataframe tbody tr th:only-of-type {\n",
       "        vertical-align: middle;\n",
       "    }\n",
       "\n",
       "    .dataframe tbody tr th {\n",
       "        vertical-align: top;\n",
       "    }\n",
       "\n",
       "    .dataframe thead th {\n",
       "        text-align: right;\n",
       "    }\n",
       "</style>\n",
       "<table border=\"1\" class=\"dataframe\">\n",
       "  <thead>\n",
       "    <tr style=\"text-align: right;\">\n",
       "      <th></th>\n",
       "      <th>title</th>\n",
       "      <th>prep_time</th>\n",
       "      <th>cook_time</th>\n",
       "      <th>total_time</th>\n",
       "      <th>ingredients</th>\n",
       "      <th>ingredients with measurement</th>\n",
       "      <th>instructions</th>\n",
       "      <th>calories</th>\n",
       "      <th>servings</th>\n",
       "      <th>images</th>\n",
       "    </tr>\n",
       "  </thead>\n",
       "  <tbody>\n",
       "    <tr>\n",
       "      <th>0</th>\n",
       "      <td>Garlic Butter Baked Salmon In Lemony Parmesan ...</td>\n",
       "      <td>{'minutes': '15'}</td>\n",
       "      <td>{'minutes': '20'}</td>\n",
       "      <td>{'minutes': '35'}</td>\n",
       "      <td>[salmon filets, skin on or off, salt and black...</td>\n",
       "      <td>{'salmon filets, skin on or off': '4', 'salt a...</td>\n",
       "      <td>[1. To make the dressing. Combine all ingredie...</td>\n",
       "      <td>472 kcal</td>\n",
       "      <td>4</td>\n",
       "      <td>https://www.halfbakedharvest.com/wp-content/up...</td>\n",
       "    </tr>\n",
       "    <tr>\n",
       "      <th>1</th>\n",
       "      <td>Pineapple Adobo Chicken Skewers</td>\n",
       "      <td>{'minutes': '15'}</td>\n",
       "      <td>{'minutes': '15'}</td>\n",
       "      <td>{'minutes': '30'}</td>\n",
       "      <td>[toasted sesame oil or olive oil, tamari or lo...</td>\n",
       "      <td>{'toasted sesame oil or olive oil': '2', 'tama...</td>\n",
       "      <td>[1. To make the dressing. Combine all ingredie...</td>\n",
       "      <td>441 kcal</td>\n",
       "      <td>6</td>\n",
       "      <td>https://www.halfbakedharvest.com/wp-content/up...</td>\n",
       "    </tr>\n",
       "    <tr>\n",
       "      <th>2</th>\n",
       "      <td>Marry Me Chicken Meatballs</td>\n",
       "      <td>{'minutes': '20'}</td>\n",
       "      <td>{'minutes': '25'}</td>\n",
       "      <td>{'minutes': '45'}</td>\n",
       "      <td>[oil-packed sun-dried tomatoes, oil drained, g...</td>\n",
       "      <td>{'oil-packed sun-dried tomatoes, oil drained':...</td>\n",
       "      <td>[1. To make the dressing. Combine all ingredie...</td>\n",
       "      <td>496 kcal</td>\n",
       "      <td>6</td>\n",
       "      <td>https://www.halfbakedharvest.com/wp-content/up...</td>\n",
       "    </tr>\n",
       "    <tr>\n",
       "      <th>3</th>\n",
       "      <td>20 Minute Ginger Cashew Beef</td>\n",
       "      <td>{'minutes': '10'}</td>\n",
       "      <td>{'minutes': '10'}</td>\n",
       "      <td>{'minutes': '20'}</td>\n",
       "      <td>[sesame oil, flank or skirt steak, thinly slic...</td>\n",
       "      <td>{'sesame oil': '3', 'flank or skirt steak, thi...</td>\n",
       "      <td>[1. To make the dressing. Combine all ingredie...</td>\n",
       "      <td>542 kcal</td>\n",
       "      <td>6</td>\n",
       "      <td>https://www.halfbakedharvest.com/wp-content/up...</td>\n",
       "    </tr>\n",
       "    <tr>\n",
       "      <th>4</th>\n",
       "      <td>Lemon Butter Orzo Carbonara</td>\n",
       "      <td>{'minutes': '10'}</td>\n",
       "      <td>{'minutes': '10'}</td>\n",
       "      <td>{'minutes': '20'}</td>\n",
       "      <td>[bacon, chopped, salted butter, at room temper...</td>\n",
       "      <td>{'bacon, chopped': '6', 'salted butter, at roo...</td>\n",
       "      <td>[1. To make the dressing. Combine all ingredie...</td>\n",
       "      <td>514 kcal</td>\n",
       "      <td>6</td>\n",
       "      <td>https://www.halfbakedharvest.com/wp-content/up...</td>\n",
       "    </tr>\n",
       "    <tr>\n",
       "      <th>5</th>\n",
       "      <td>Avocado Bacon Chicken Salad with Jalapeño Hone...</td>\n",
       "      <td>{'minutes': '25'}</td>\n",
       "      <td>{'minutes': '20'}</td>\n",
       "      <td>{'minutes': '45'}</td>\n",
       "      <td>[extra virgin olive oil, boneless skinless chi...</td>\n",
       "      <td>{'extra virgin olive oil': '1/3', 'boneless sk...</td>\n",
       "      <td>[1. To make the dressing. Combine all ingredie...</td>\n",
       "      <td>524 kcal</td>\n",
       "      <td>6</td>\n",
       "      <td>https://www.halfbakedharvest.com/wp-content/up...</td>\n",
       "    </tr>\n",
       "    <tr>\n",
       "      <th>6</th>\n",
       "      <td>Italian Chop Pasta Salad</td>\n",
       "      <td>{'minutes': '20'}</td>\n",
       "      <td>{'minutes': '10'}</td>\n",
       "      <td>{'minutes': '30'}</td>\n",
       "      <td>[extra virgin olive oil, balsamic or red wine ...</td>\n",
       "      <td>{'extra virgin olive oil': '½', 'balsamic or r...</td>\n",
       "      <td>[1. To make the dressing. Combine all ingredie...</td>\n",
       "      <td>673 kcal</td>\n",
       "      <td>8</td>\n",
       "      <td>https://www.halfbakedharvest.com/wp-content/up...</td>\n",
       "    </tr>\n",
       "    <tr>\n",
       "      <th>7</th>\n",
       "      <td>-</td>\n",
       "      <td>-</td>\n",
       "      <td>-</td>\n",
       "      <td>-</td>\n",
       "      <td>[]</td>\n",
       "      <td>{}</td>\n",
       "      <td>-</td>\n",
       "      <td>-</td>\n",
       "      <td>-</td>\n",
       "      <td>https://www.halfbakedharvest.com/wp-content/up...</td>\n",
       "    </tr>\n",
       "    <tr>\n",
       "      <th>8</th>\n",
       "      <td>Baked Honey Balsamic Chicken with Charred Lemo...</td>\n",
       "      <td>{'minutes': '20'}</td>\n",
       "      <td>{'minutes': '20'}</td>\n",
       "      <td>{'minutes': '40'}</td>\n",
       "      <td>[balsamic vinegar, honey, worcestershire, shal...</td>\n",
       "      <td>{'balsamic vinegar': '1/3', 'honey': '3-4', 'w...</td>\n",
       "      <td>[1. To make the dressing. Combine all ingredie...</td>\n",
       "      <td>329 kcal</td>\n",
       "      <td>6</td>\n",
       "      <td>https://www.halfbakedharvest.com/wp-content/up...</td>\n",
       "    </tr>\n",
       "    <tr>\n",
       "      <th>9</th>\n",
       "      <td>Creamy Avocado Ranch Chicken Pasta Salad</td>\n",
       "      <td>{'minutes': '20'}</td>\n",
       "      <td>{'minutes': '10'}</td>\n",
       "      <td>{'minutes': '30'}</td>\n",
       "      <td>[plain Greek yogurt or sour cream, mayo, dried...</td>\n",
       "      <td>{'plain Greek yogurt or sour cream': '1/2', 'm...</td>\n",
       "      <td>[1. To make the dressing. Combine all ingredie...</td>\n",
       "      <td>540 kcal</td>\n",
       "      <td>8</td>\n",
       "      <td>https://www.halfbakedharvest.com/wp-content/up...</td>\n",
       "    </tr>\n",
       "    <tr>\n",
       "      <th>10</th>\n",
       "      <td>Baked Coconut Curry Salmon</td>\n",
       "      <td>{'minutes': '15'}</td>\n",
       "      <td>{'minutes': '30'}</td>\n",
       "      <td>{'minutes': '45'}</td>\n",
       "      <td>[salmon filets, cubed, cream cheese, at room t...</td>\n",
       "      <td>{'salmon filets, cubed': '4', 'cream cheese, a...</td>\n",
       "      <td>[1. To make the dressing. Combine all ingredie...</td>\n",
       "      <td>298 kcal</td>\n",
       "      <td>6</td>\n",
       "      <td>https://www.halfbakedharvest.com/wp-content/up...</td>\n",
       "    </tr>\n",
       "    <tr>\n",
       "      <th>11</th>\n",
       "      <td>Skillet Creamy Chipotle Chicken Enchiladas</td>\n",
       "      <td>{'minutes': '15'}</td>\n",
       "      <td>{'minutes': '30'}</td>\n",
       "      <td>{'minutes': '45'}</td>\n",
       "      <td>[yellow onion, chopped, boneless skinless chic...</td>\n",
       "      <td>{'yellow onion, chopped': '1', 'boneless skinl...</td>\n",
       "      <td>[1. To make the dressing. Combine all ingredie...</td>\n",
       "      <td>432 kcal</td>\n",
       "      <td>6</td>\n",
       "      <td>https://www.halfbakedharvest.com/wp-content/up...</td>\n",
       "    </tr>\n",
       "    <tr>\n",
       "      <th>12</th>\n",
       "      <td>Sheet Pan Sesame Miso Chicken and Sweet Potatoes</td>\n",
       "      <td>{'minutes': '20'}</td>\n",
       "      <td>{'minutes': '25'}</td>\n",
       "      <td>{'minutes': '45'}</td>\n",
       "      <td>[sesame oil, red or white miso paste, tamari/s...</td>\n",
       "      <td>{'sesame oil': '2', 'red or white miso paste':...</td>\n",
       "      <td>[1. To make the dressing. Combine all ingredie...</td>\n",
       "      <td>410 kcal</td>\n",
       "      <td>6</td>\n",
       "      <td>https://www.halfbakedharvest.com/wp-content/up...</td>\n",
       "    </tr>\n",
       "    <tr>\n",
       "      <th>13</th>\n",
       "      <td>Chicken Tzatziki Salad</td>\n",
       "      <td>{'minutes': '25'}</td>\n",
       "      <td>{'minutes': '20'}</td>\n",
       "      <td>{'minutes': '45'}</td>\n",
       "      <td>[extra virgin olive oil, boneless skinless chi...</td>\n",
       "      <td>{'extra virgin olive oil': '2', 'boneless skin...</td>\n",
       "      <td>[1. To make the dressing. Combine all ingredie...</td>\n",
       "      <td>692 kcal</td>\n",
       "      <td>6</td>\n",
       "      <td>https://www.halfbakedharvest.com/wp-content/up...</td>\n",
       "    </tr>\n",
       "    <tr>\n",
       "      <th>14</th>\n",
       "      <td>One Pot Broccoli Cheese Pesto Pasta</td>\n",
       "      <td>{'minutes': '15'}</td>\n",
       "      <td>{'minutes': '15'}</td>\n",
       "      <td>{'minutes': '30'}</td>\n",
       "      <td>[short-cut pasta, chopped broccoli, heavy crea...</td>\n",
       "      <td>{'short-cut pasta': '1', 'chopped broccoli': '...</td>\n",
       "      <td>[1. To make the dressing. Combine all ingredie...</td>\n",
       "      <td>525 kcal</td>\n",
       "      <td>6</td>\n",
       "      <td>https://www.halfbakedharvest.com/wp-content/up...</td>\n",
       "    </tr>\n",
       "    <tr>\n",
       "      <th>15</th>\n",
       "      <td>Crockpot Chipotle Pineapple Pot Roast Bowls</td>\n",
       "      <td>{'minutes': '30'}</td>\n",
       "      <td>{'hours': '3'}</td>\n",
       "      <td>{'hours': '3', 'minutes': '30'}</td>\n",
       "      <td>[chuck roast, halved, extra virgin olive oil, ...</td>\n",
       "      <td>{'chuck roast, halved': '1', 'extra virgin oli...</td>\n",
       "      <td>[1. To make the dressing. Combine all ingredie...</td>\n",
       "      <td>372 kcal</td>\n",
       "      <td>6</td>\n",
       "      <td>https://www.halfbakedharvest.com/wp-content/up...</td>\n",
       "    </tr>\n",
       "    <tr>\n",
       "      <th>16</th>\n",
       "      <td>Crockpot Thai Yellow Curry Chicken with Garlic...</td>\n",
       "      <td>{'minutes': '15'}</td>\n",
       "      <td>{'hours': '5'}</td>\n",
       "      <td>{'hours': '5', 'minutes': '15'}</td>\n",
       "      <td>[boneless chicken breasts, cubed, plain Greek ...</td>\n",
       "      <td>{'boneless chicken breasts, cubed': '2', 'plai...</td>\n",
       "      <td>[1. To make the dressing. Combine all ingredie...</td>\n",
       "      <td>526 kcal</td>\n",
       "      <td>6</td>\n",
       "      <td>https://www.halfbakedharvest.com/wp-content/up...</td>\n",
       "    </tr>\n",
       "    <tr>\n",
       "      <th>17</th>\n",
       "      <td>Baked Lemon Rosemary Chicken Meatballs and Cre...</td>\n",
       "      <td>{'minutes': '20'}</td>\n",
       "      <td>{'minutes': '25'}</td>\n",
       "      <td>{'minutes': '45'}</td>\n",
       "      <td>[ground chicken, pork, or turkey, dijon mustar...</td>\n",
       "      <td>{'ground chicken, pork, or turkey': '1 1/2', '...</td>\n",
       "      <td>[1. To make the dressing. Combine all ingredie...</td>\n",
       "      <td>679 kcal</td>\n",
       "      <td>6</td>\n",
       "      <td>https://www.halfbakedharvest.com/wp-content/up...</td>\n",
       "    </tr>\n",
       "    <tr>\n",
       "      <th>18</th>\n",
       "      <td>30 Minute Thai Basil Beef Noodles</td>\n",
       "      <td>{'minutes': '15'}</td>\n",
       "      <td>{'minutes': '15'}</td>\n",
       "      <td>{'minutes': '30'}</td>\n",
       "      <td>[Pad Thai/wide rice noodles, tamari or soy sau...</td>\n",
       "      <td>{'Pad Thai/wide rice noodles': '6', 'tamari or...</td>\n",
       "      <td>[1. To make the dressing. Combine all ingredie...</td>\n",
       "      <td>585 kcal</td>\n",
       "      <td>4</td>\n",
       "      <td>https://www.halfbakedharvest.com/wp-content/up...</td>\n",
       "    </tr>\n",
       "    <tr>\n",
       "      <th>19</th>\n",
       "      <td>Crispy Carnitas Tacos with Roasted Jalapeño Li...</td>\n",
       "      <td>{'minutes': '25'}</td>\n",
       "      <td>{'hours': '3'}</td>\n",
       "      <td>{'hours': '3', 'minutes': '25'}</td>\n",
       "      <td>[pork butt, or 6 chicken thighs/breasts, chipo...</td>\n",
       "      <td>{'pork butt, or 6 chicken thighs/breasts': '2-...</td>\n",
       "      <td>[1. To make the dressing. Combine all ingredie...</td>\n",
       "      <td>448 kcal</td>\n",
       "      <td>8</td>\n",
       "      <td>https://www.halfbakedharvest.com/wp-content/up...</td>\n",
       "    </tr>\n",
       "    <tr>\n",
       "      <th>20</th>\n",
       "      <td>One Pot Chili Cheese Mac</td>\n",
       "      <td>{'minutes': '20'}</td>\n",
       "      <td>{'minutes': '25'}</td>\n",
       "      <td>{'minutes': '40'}</td>\n",
       "      <td>[ground beef, yellow onion, chopped, poblano p...</td>\n",
       "      <td>{'ground beef': '1', 'yellow onion, chopped': ...</td>\n",
       "      <td>[1. To make the dressing. Combine all ingredie...</td>\n",
       "      <td>676 kcal</td>\n",
       "      <td>6</td>\n",
       "      <td>https://www.halfbakedharvest.com/wp-content/up...</td>\n",
       "    </tr>\n",
       "    <tr>\n",
       "      <th>21</th>\n",
       "      <td>One Pan Creamy Parmesan Ranch Chicken</td>\n",
       "      <td>{'minutes': '15'}</td>\n",
       "      <td>{'minutes': '30'}</td>\n",
       "      <td>{'minutes': '45'}</td>\n",
       "      <td>[small boneless chicken breasts or thighs, cre...</td>\n",
       "      <td>{'small boneless chicken breasts or thighs': '...</td>\n",
       "      <td>[1. To make the dressing. Combine all ingredie...</td>\n",
       "      <td>534 kcal</td>\n",
       "      <td>6</td>\n",
       "      <td>https://www.halfbakedharvest.com/wp-content/up...</td>\n",
       "    </tr>\n",
       "    <tr>\n",
       "      <th>22</th>\n",
       "      <td>Sheet Pan Chicken Shawarma Havarti Sandwich</td>\n",
       "      <td>{'minutes': '30'}</td>\n",
       "      <td>{'minutes': '45'}</td>\n",
       "      <td>{'hours': '1', 'minutes': '15'}</td>\n",
       "      <td>[full-fat plain Greek yogurt, extra virgin oli...</td>\n",
       "      <td>{'full-fat plain Greek yogurt': '1/3', 'extra ...</td>\n",
       "      <td>[1. To make the dressing. Combine all ingredie...</td>\n",
       "      <td>714 kcal</td>\n",
       "      <td>6</td>\n",
       "      <td>https://www.halfbakedharvest.com/wp-content/up...</td>\n",
       "    </tr>\n",
       "    <tr>\n",
       "      <th>23</th>\n",
       "      <td>Sheet Pan Korean Popcorn Chicken</td>\n",
       "      <td>{'minutes': '20'}</td>\n",
       "      <td>{'minutes': '20'}</td>\n",
       "      <td>{'minutes': '40'}</td>\n",
       "      <td>[boneless chicken breasts, cut into 2 inch cub...</td>\n",
       "      <td>{'boneless chicken breasts, cut into 2 inch cu...</td>\n",
       "      <td>[1. To make the dressing. Combine all ingredie...</td>\n",
       "      <td>341 kcal</td>\n",
       "      <td>6</td>\n",
       "      <td>https://www.halfbakedharvest.com/wp-content/up...</td>\n",
       "    </tr>\n",
       "  </tbody>\n",
       "</table>\n",
       "</div>"
      ],
      "text/plain": [
       "                                                title          prep_time  \\\n",
       "0   Garlic Butter Baked Salmon In Lemony Parmesan ...  {'minutes': '15'}   \n",
       "1                     Pineapple Adobo Chicken Skewers  {'minutes': '15'}   \n",
       "2                          Marry Me Chicken Meatballs  {'minutes': '20'}   \n",
       "3                        20 Minute Ginger Cashew Beef  {'minutes': '10'}   \n",
       "4                         Lemon Butter Orzo Carbonara  {'minutes': '10'}   \n",
       "5   Avocado Bacon Chicken Salad with Jalapeño Hone...  {'minutes': '25'}   \n",
       "6                            Italian Chop Pasta Salad  {'minutes': '20'}   \n",
       "7                                                   -                  -   \n",
       "8   Baked Honey Balsamic Chicken with Charred Lemo...  {'minutes': '20'}   \n",
       "9            Creamy Avocado Ranch Chicken Pasta Salad  {'minutes': '20'}   \n",
       "10                         Baked Coconut Curry Salmon  {'minutes': '15'}   \n",
       "11         Skillet Creamy Chipotle Chicken Enchiladas  {'minutes': '15'}   \n",
       "12   Sheet Pan Sesame Miso Chicken and Sweet Potatoes  {'minutes': '20'}   \n",
       "13                             Chicken Tzatziki Salad  {'minutes': '25'}   \n",
       "14                One Pot Broccoli Cheese Pesto Pasta  {'minutes': '15'}   \n",
       "15        Crockpot Chipotle Pineapple Pot Roast Bowls  {'minutes': '30'}   \n",
       "16  Crockpot Thai Yellow Curry Chicken with Garlic...  {'minutes': '15'}   \n",
       "17  Baked Lemon Rosemary Chicken Meatballs and Cre...  {'minutes': '20'}   \n",
       "18                  30 Minute Thai Basil Beef Noodles  {'minutes': '15'}   \n",
       "19  Crispy Carnitas Tacos with Roasted Jalapeño Li...  {'minutes': '25'}   \n",
       "20                           One Pot Chili Cheese Mac  {'minutes': '20'}   \n",
       "21              One Pan Creamy Parmesan Ranch Chicken  {'minutes': '15'}   \n",
       "22        Sheet Pan Chicken Shawarma Havarti Sandwich  {'minutes': '30'}   \n",
       "23                   Sheet Pan Korean Popcorn Chicken  {'minutes': '20'}   \n",
       "\n",
       "            cook_time                       total_time  \\\n",
       "0   {'minutes': '20'}                {'minutes': '35'}   \n",
       "1   {'minutes': '15'}                {'minutes': '30'}   \n",
       "2   {'minutes': '25'}                {'minutes': '45'}   \n",
       "3   {'minutes': '10'}                {'minutes': '20'}   \n",
       "4   {'minutes': '10'}                {'minutes': '20'}   \n",
       "5   {'minutes': '20'}                {'minutes': '45'}   \n",
       "6   {'minutes': '10'}                {'minutes': '30'}   \n",
       "7                   -                                -   \n",
       "8   {'minutes': '20'}                {'minutes': '40'}   \n",
       "9   {'minutes': '10'}                {'minutes': '30'}   \n",
       "10  {'minutes': '30'}                {'minutes': '45'}   \n",
       "11  {'minutes': '30'}                {'minutes': '45'}   \n",
       "12  {'minutes': '25'}                {'minutes': '45'}   \n",
       "13  {'minutes': '20'}                {'minutes': '45'}   \n",
       "14  {'minutes': '15'}                {'minutes': '30'}   \n",
       "15     {'hours': '3'}  {'hours': '3', 'minutes': '30'}   \n",
       "16     {'hours': '5'}  {'hours': '5', 'minutes': '15'}   \n",
       "17  {'minutes': '25'}                {'minutes': '45'}   \n",
       "18  {'minutes': '15'}                {'minutes': '30'}   \n",
       "19     {'hours': '3'}  {'hours': '3', 'minutes': '25'}   \n",
       "20  {'minutes': '25'}                {'minutes': '40'}   \n",
       "21  {'minutes': '30'}                {'minutes': '45'}   \n",
       "22  {'minutes': '45'}  {'hours': '1', 'minutes': '15'}   \n",
       "23  {'minutes': '20'}                {'minutes': '40'}   \n",
       "\n",
       "                                          ingredients  \\\n",
       "0   [salmon filets, skin on or off, salt and black...   \n",
       "1   [toasted sesame oil or olive oil, tamari or lo...   \n",
       "2   [oil-packed sun-dried tomatoes, oil drained, g...   \n",
       "3   [sesame oil, flank or skirt steak, thinly slic...   \n",
       "4   [bacon, chopped, salted butter, at room temper...   \n",
       "5   [extra virgin olive oil, boneless skinless chi...   \n",
       "6   [extra virgin olive oil, balsamic or red wine ...   \n",
       "7                                                  []   \n",
       "8   [balsamic vinegar, honey, worcestershire, shal...   \n",
       "9   [plain Greek yogurt or sour cream, mayo, dried...   \n",
       "10  [salmon filets, cubed, cream cheese, at room t...   \n",
       "11  [yellow onion, chopped, boneless skinless chic...   \n",
       "12  [sesame oil, red or white miso paste, tamari/s...   \n",
       "13  [extra virgin olive oil, boneless skinless chi...   \n",
       "14  [short-cut pasta, chopped broccoli, heavy crea...   \n",
       "15  [chuck roast, halved, extra virgin olive oil, ...   \n",
       "16  [boneless chicken breasts, cubed, plain Greek ...   \n",
       "17  [ground chicken, pork, or turkey, dijon mustar...   \n",
       "18  [Pad Thai/wide rice noodles, tamari or soy sau...   \n",
       "19  [pork butt, or 6 chicken thighs/breasts, chipo...   \n",
       "20  [ground beef, yellow onion, chopped, poblano p...   \n",
       "21  [small boneless chicken breasts or thighs, cre...   \n",
       "22  [full-fat plain Greek yogurt, extra virgin oli...   \n",
       "23  [boneless chicken breasts, cut into 2 inch cub...   \n",
       "\n",
       "                         ingredients with measurement  \\\n",
       "0   {'salmon filets, skin on or off': '4', 'salt a...   \n",
       "1   {'toasted sesame oil or olive oil': '2', 'tama...   \n",
       "2   {'oil-packed sun-dried tomatoes, oil drained':...   \n",
       "3   {'sesame oil': '3', 'flank or skirt steak, thi...   \n",
       "4   {'bacon, chopped': '6', 'salted butter, at roo...   \n",
       "5   {'extra virgin olive oil': '1/3', 'boneless sk...   \n",
       "6   {'extra virgin olive oil': '½', 'balsamic or r...   \n",
       "7                                                  {}   \n",
       "8   {'balsamic vinegar': '1/3', 'honey': '3-4', 'w...   \n",
       "9   {'plain Greek yogurt or sour cream': '1/2', 'm...   \n",
       "10  {'salmon filets, cubed': '4', 'cream cheese, a...   \n",
       "11  {'yellow onion, chopped': '1', 'boneless skinl...   \n",
       "12  {'sesame oil': '2', 'red or white miso paste':...   \n",
       "13  {'extra virgin olive oil': '2', 'boneless skin...   \n",
       "14  {'short-cut pasta': '1', 'chopped broccoli': '...   \n",
       "15  {'chuck roast, halved': '1', 'extra virgin oli...   \n",
       "16  {'boneless chicken breasts, cubed': '2', 'plai...   \n",
       "17  {'ground chicken, pork, or turkey': '1 1/2', '...   \n",
       "18  {'Pad Thai/wide rice noodles': '6', 'tamari or...   \n",
       "19  {'pork butt, or 6 chicken thighs/breasts': '2-...   \n",
       "20  {'ground beef': '1', 'yellow onion, chopped': ...   \n",
       "21  {'small boneless chicken breasts or thighs': '...   \n",
       "22  {'full-fat plain Greek yogurt': '1/3', 'extra ...   \n",
       "23  {'boneless chicken breasts, cut into 2 inch cu...   \n",
       "\n",
       "                                         instructions  calories servings  \\\n",
       "0   [1. To make the dressing. Combine all ingredie...  472 kcal        4   \n",
       "1   [1. To make the dressing. Combine all ingredie...  441 kcal        6   \n",
       "2   [1. To make the dressing. Combine all ingredie...  496 kcal        6   \n",
       "3   [1. To make the dressing. Combine all ingredie...  542 kcal        6   \n",
       "4   [1. To make the dressing. Combine all ingredie...  514 kcal        6   \n",
       "5   [1. To make the dressing. Combine all ingredie...  524 kcal        6   \n",
       "6   [1. To make the dressing. Combine all ingredie...  673 kcal        8   \n",
       "7                                                   -         -        -   \n",
       "8   [1. To make the dressing. Combine all ingredie...  329 kcal        6   \n",
       "9   [1. To make the dressing. Combine all ingredie...  540 kcal        8   \n",
       "10  [1. To make the dressing. Combine all ingredie...  298 kcal        6   \n",
       "11  [1. To make the dressing. Combine all ingredie...  432 kcal        6   \n",
       "12  [1. To make the dressing. Combine all ingredie...  410 kcal        6   \n",
       "13  [1. To make the dressing. Combine all ingredie...  692 kcal        6   \n",
       "14  [1. To make the dressing. Combine all ingredie...  525 kcal        6   \n",
       "15  [1. To make the dressing. Combine all ingredie...  372 kcal        6   \n",
       "16  [1. To make the dressing. Combine all ingredie...  526 kcal        6   \n",
       "17  [1. To make the dressing. Combine all ingredie...  679 kcal        6   \n",
       "18  [1. To make the dressing. Combine all ingredie...  585 kcal        4   \n",
       "19  [1. To make the dressing. Combine all ingredie...  448 kcal        8   \n",
       "20  [1. To make the dressing. Combine all ingredie...  676 kcal        6   \n",
       "21  [1. To make the dressing. Combine all ingredie...  534 kcal        6   \n",
       "22  [1. To make the dressing. Combine all ingredie...  714 kcal        6   \n",
       "23  [1. To make the dressing. Combine all ingredie...  341 kcal        6   \n",
       "\n",
       "                                               images  \n",
       "0   https://www.halfbakedharvest.com/wp-content/up...  \n",
       "1   https://www.halfbakedharvest.com/wp-content/up...  \n",
       "2   https://www.halfbakedharvest.com/wp-content/up...  \n",
       "3   https://www.halfbakedharvest.com/wp-content/up...  \n",
       "4   https://www.halfbakedharvest.com/wp-content/up...  \n",
       "5   https://www.halfbakedharvest.com/wp-content/up...  \n",
       "6   https://www.halfbakedharvest.com/wp-content/up...  \n",
       "7   https://www.halfbakedharvest.com/wp-content/up...  \n",
       "8   https://www.halfbakedharvest.com/wp-content/up...  \n",
       "9   https://www.halfbakedharvest.com/wp-content/up...  \n",
       "10  https://www.halfbakedharvest.com/wp-content/up...  \n",
       "11  https://www.halfbakedharvest.com/wp-content/up...  \n",
       "12  https://www.halfbakedharvest.com/wp-content/up...  \n",
       "13  https://www.halfbakedharvest.com/wp-content/up...  \n",
       "14  https://www.halfbakedharvest.com/wp-content/up...  \n",
       "15  https://www.halfbakedharvest.com/wp-content/up...  \n",
       "16  https://www.halfbakedharvest.com/wp-content/up...  \n",
       "17  https://www.halfbakedharvest.com/wp-content/up...  \n",
       "18  https://www.halfbakedharvest.com/wp-content/up...  \n",
       "19  https://www.halfbakedharvest.com/wp-content/up...  \n",
       "20  https://www.halfbakedharvest.com/wp-content/up...  \n",
       "21  https://www.halfbakedharvest.com/wp-content/up...  \n",
       "22  https://www.halfbakedharvest.com/wp-content/up...  \n",
       "23  https://www.halfbakedharvest.com/wp-content/up...  "
      ]
     },
     "execution_count": 108,
     "metadata": {},
     "output_type": "execute_result"
    }
   ],
   "source": [
    "df['images']= images\n",
    "df"
   ]
  },
  {
   "cell_type": "code",
   "execution_count": null,
   "id": "4794e539",
   "metadata": {},
   "outputs": [],
   "source": []
  },
  {
   "cell_type": "code",
   "execution_count": null,
   "id": "ec3c82b4",
   "metadata": {},
   "outputs": [],
   "source": []
  },
  {
   "cell_type": "code",
   "execution_count": null,
   "id": "52c5743c",
   "metadata": {},
   "outputs": [],
   "source": []
  },
  {
   "cell_type": "markdown",
   "id": "7ee9ece9",
   "metadata": {},
   "source": [
    "# Links of Recipes from All Pages"
   ]
  },
  {
   "cell_type": "code",
   "execution_count": 109,
   "id": "1f8bbaa5",
   "metadata": {},
   "outputs": [
    {
     "name": "stdout",
     "output_type": "stream",
     "text": [
      "Proxies loaded: ['221.140.235.237:5002', '117.250.3.58:8080', '189.240.60.171:9090', '189.240.60.166:9090', '34.92.250.88:11111', '189.240.60.164:9090', '189.240.60.169:9090', '189.240.60.163:9090']\n",
      "Successfully retrieved page 1 with proxy 172.183.241.1:8080\n",
      "Successfully retrieved page 2 with proxy 172.183.241.1:8080\n",
      "Successfully retrieved page 3 with proxy 172.183.241.1:8080\n",
      "Successfully retrieved page 4 with proxy 172.183.241.1:8080\n",
      "Successfully retrieved page 5 with proxy 172.183.241.1:8080\n",
      "['https://www.halfbakedharvest.com/ginger-steak-cucumber-bowls/', 'https://www.halfbakedharvest.com/chicken-jalapeno-corn-caesar/', 'https://www.halfbakedharvest.com/italian-salad-sandwich/', 'https://www.halfbakedharvest.com/grilled-buffalo-ranch-chicken-tacos/', 'https://www.halfbakedharvest.com/lemon-garlic-steak-and-rice/', 'https://www.halfbakedharvest.com/broccoli-burrata-pasta-salad/', 'https://www.halfbakedharvest.com/chicken-quesadillas/', 'https://www.halfbakedharvest.com/sesame-ginger-steak-skewers/', 'https://www.halfbakedharvest.com/honey-lime-chili-chicken-bowls/', 'https://www.halfbakedharvest.com/lemon-basil-pizza/', 'https://www.halfbakedharvest.com/chicken-tzatziki-skewers/', 'https://www.halfbakedharvest.com/31-recipes-to-cook-in-may/', 'https://www.halfbakedharvest.com/orange-garlic-chicken/', 'https://www.halfbakedharvest.com/sheet-pan-chipotle-steak-tacos/', 'https://www.halfbakedharvest.com/basil-chicken-and-garlic-noodles/', 'https://www.halfbakedharvest.com/lemon-chicken-and-rice/', 'https://www.halfbakedharvest.com/ranch-chicken-and-bacon-sandwich/', 'https://www.halfbakedharvest.com/chicken-tinga-bowls/', 'https://www.halfbakedharvest.com/honey-balsamic-salmon-bowls/', 'https://www.halfbakedharvest.com/spinach-and-artichoke-chicken/', 'https://www.halfbakedharvest.com/pot-roast-gyros/', 'https://www.halfbakedharvest.com/spinach-and-artichoke-chicken-orzo/', 'https://www.halfbakedharvest.com/honey-garlic-chicken/', 'https://www.halfbakedharvest.com/jalapeno-chicken-tacos/', 'https://www.halfbakedharvest.com/garlic-butter-baked-salmon/', 'https://www.halfbakedharvest.com/pineapple-adobo-chicken-skewers/', 'https://www.halfbakedharvest.com/marry-me-chicken-meatballs/', 'https://www.halfbakedharvest.com/ginger-cashew-beef/', 'https://www.halfbakedharvest.com/lemon-butter-orzo-carbonara/', 'https://www.halfbakedharvest.com/avocado-bacon-chicken-salad/', 'https://www.halfbakedharvest.com/italian-chop-pasta-salad/', 'https://www.halfbakedharvest.com/the-50-most-popular-easter-recipes/', 'https://www.halfbakedharvest.com/baked-honey-balsamic-chicken/', 'https://www.halfbakedharvest.com/ranch-chicken-pasta-salad/', 'https://www.halfbakedharvest.com/baked-coconut-curry-salmon/', 'https://www.halfbakedharvest.com/creamy-chipotle-chicken-enchiladas/', 'https://www.halfbakedharvest.com/sesame-miso-chicken/', 'https://www.halfbakedharvest.com/chicken-tzatziki-avocado-salad/', 'https://www.halfbakedharvest.com/broccoli-cheese-pesto-pasta/', 'https://www.halfbakedharvest.com/chipotle-pineapple-pot-roast-bowls/', 'https://www.halfbakedharvest.com/yellow-curry-chicken/', 'https://www.halfbakedharvest.com/chicken-meatballs-and-creamy-orzo/', 'https://www.halfbakedharvest.com/basil-beef-noodles/', 'https://www.halfbakedharvest.com/crispy-carnitas-tacos/', 'https://www.halfbakedharvest.com/one-pot-chili-mac-and-cheese/', 'https://www.halfbakedharvest.com/parmesan-ranch-chicken/', 'https://www.halfbakedharvest.com/chicken-shawarma-havarti-sandwich/', 'https://www.halfbakedharvest.com/korean-popcorn-chicken/', 'https://www.halfbakedharvest.com/curried-beef/', 'https://www.halfbakedharvest.com/poblano-chicken-tortilla-soup/', 'https://www.halfbakedharvest.com/sheet-pan-chicken-tzatziki/', 'https://www.halfbakedharvest.com/garlic-parmesan-boneless-wings/', 'https://www.halfbakedharvest.com/buffalo-chicken-chili/', 'https://www.halfbakedharvest.com/pomodoro-pepperoni-pizza/', 'https://www.halfbakedharvest.com/coconut-beef-curry/', 'https://www.halfbakedharvest.com/one-pan-spicy-sesame-butter-chicken/', 'https://www.halfbakedharvest.com/chipotle-pot-roast-tacos/', 'https://www.halfbakedharvest.com/gochujang-beef-bowls/', 'https://www.halfbakedharvest.com/chicken-bowls-with-feta-sauce/', 'https://www.halfbakedharvest.com/ginger-orange-chicken/', 'https://www.halfbakedharvest.com/broccoli-cheddar-potato-soup/', 'https://www.halfbakedharvest.com/sun-dried-tomato-pesto-turkey-sandwich/', 'https://www.halfbakedharvest.com/baked-crunchy-buffalo-chicken/', 'https://www.halfbakedharvest.com/caramelized-salmon-bowl/', 'https://www.halfbakedharvest.com/miso-ginger-beef/', 'https://www.halfbakedharvest.com/pesto-chicken-noodle-soup/', 'https://www.halfbakedharvest.com/heres-what-to-make-this-week/', 'https://www.halfbakedharvest.com/spinach-souffle-lasagna/', 'https://www.halfbakedharvest.com/pesto-marry-me-chicken-and-orzo/', 'https://www.halfbakedharvest.com/spicy-queso-beef-chili/', 'https://www.halfbakedharvest.com/chicken-and-parmesan-gnocchi/', 'https://www.halfbakedharvest.com/creamy-chicken-tortilla-soup/', 'https://www.halfbakedharvest.com/short-rib-bourguignon/', 'https://www.halfbakedharvest.com/kale-wild-rice-casserole/', 'https://www.halfbakedharvest.com/french-onion-soup/', 'https://www.halfbakedharvest.com/one-pot-coq-au-vin/', 'https://www.halfbakedharvest.com/pumpkin-rigatoni/', 'https://www.halfbakedharvest.com/our-2023-thanksgiving-menu-and-guide/', 'https://www.halfbakedharvest.com/chili-meatballs-and-spaghetti/', 'https://www.halfbakedharvest.com/pierogi-chicken-soup/', 'https://www.halfbakedharvest.com/pumpkin-pizza/', 'https://www.halfbakedharvest.com/roasted-herb-chicken-and-wild-rice/', 'https://www.halfbakedharvest.com/cider-braised-pot-roast/', 'https://www.halfbakedharvest.com/tortellini-bolognese/', 'https://www.halfbakedharvest.com/smothered-chicken/', 'https://www.halfbakedharvest.com/thai-short-ribs/', 'https://www.halfbakedharvest.com/sweet-potato-chowder/', 'https://www.halfbakedharvest.com/pumpkin-spaghetti-os/', 'https://www.halfbakedharvest.com/buffalo-chicken-and-broccoli/', 'https://www.halfbakedharvest.com/cider-braised-white-chili-chicken-tacos/', 'https://www.halfbakedharvest.com/chicken-dumpling-soup/', 'https://www.halfbakedharvest.com/queso-chicken-chili/', 'https://www.halfbakedharvest.com/skillet-butternut-squash-lasagna/', 'https://www.halfbakedharvest.com/french-onion-chicken-and-orzo/', 'https://www.halfbakedharvest.com/butternut-squash-beer-soup/', 'https://www.halfbakedharvest.com/cheesy-taco-rice-casserole/', 'https://www.halfbakedharvest.com/crunchy-maple-dijon-chicken/', 'https://www.halfbakedharvest.com/chicken-meatball-stuffed-spaghetti-squash/', 'https://www.halfbakedharvest.com/the-50-most-popular-fall-recipes/', 'https://www.halfbakedharvest.com/buffalo-chicken-helper/', 'https://www.halfbakedharvest.com/chili-crisp-chicken-ramen/', 'https://www.halfbakedharvest.com/garlic-butter-pizza-egg-rolls/', 'https://www.halfbakedharvest.com/curry-chicken-meatballs/', 'https://www.halfbakedharvest.com/parmesan-buffalo-chicken-wings/', 'https://www.halfbakedharvest.com/butternut-squash-sun-dried-tomato-chicken-pasta/', 'https://www.halfbakedharvest.com/buffalo-cauliflower-taquitos/', 'https://www.halfbakedharvest.com/white-chicken-chili-corn-chowder/', 'https://www.halfbakedharvest.com/broccoli-cheddar-chicken/', 'https://www.halfbakedharvest.com/one-pan-chicken-zucchini-rice-pilaf/', 'https://www.halfbakedharvest.com/parmesan-chicken-florentine-broccoli-pasta/', 'https://www.halfbakedharvest.com/chicken-zucchini-meatball-curry/', 'https://www.halfbakedharvest.com/chipotle-honey-chicken/', 'https://www.halfbakedharvest.com/corn-and-chipotle-chicken-tortilla-bake/', 'https://www.halfbakedharvest.com/caprese-prosciutto-chicken/', 'https://www.halfbakedharvest.com/hot-honey-garlic-chicken/', 'https://www.halfbakedharvest.com/street-corn-pasta-salad/', 'https://www.halfbakedharvest.com/crockpot-greek-chicken-meatballs/', 'https://www.halfbakedharvest.com/creamed-corn-orzo/', 'https://www.halfbakedharvest.com/red-curry-beef-and-garlic-noodles/', 'https://www.halfbakedharvest.com/spicy-coconut-chicken-curry/']\n"
     ]
    }
   ],
   "source": [
    "# Read proxies from the file and create a cycle iterator\n",
    "with open('proxies.txt', 'r') as f:\n",
    "    proxies = [line.strip() for line in f if line.strip()]\n",
    "\n",
    "# Check if proxies are being read correctly\n",
    "if not proxies:\n",
    "    print(\"No valid proxies found in proxies.txt\")\n",
    "else:\n",
    "    print(f\"Proxies loaded: {proxies}\")\n",
    "\n",
    "proxy_cycle1 = itertools.cycle(proxies)\n",
    "\n",
    "# List of all recipes\n",
    "all_recipes_url = []\n",
    "\n",
    "# Loop over the desired number of pages\n",
    "for page_num in range(1, 6):\n",
    "    proxy1 = next(proxy_cycle1)\n",
    "\n",
    "    # Set up request with proxy\n",
    "    headers = {'User-Agent': 'Mozilla/5.0 (Windows NT 6.3; Win64; x64) AppleWebKit/537.36 (KHTML, like Gecko) Chrome/80.0.3987.162 Safari/537.36'}\n",
    "    url = f'https://www.halfbakedharvest.com/category/recipes/type-of-meal/main-course/page/{page_num}/'\n",
    "    proxy_dict1 = {'http': proxy1, 'https': proxy1}\n",
    "\n",
    "    try:\n",
    "        response = requests.get(url, headers=headers, proxies=proxy_dict1, timeout=30)\n",
    "        \n",
    "        # Check if the request was successful\n",
    "        if response.status_code == 200:\n",
    "            soup = BeautifulSoup(response.content, 'html.parser')\n",
    "            cards = soup.find_all(class_='post-summary primary')\n",
    "            for card in cards:\n",
    "                link_tag = card.find('a')\n",
    "                all_recipes_url.append(link_tag['href'])\n",
    "                \n",
    "            print(f\"Successfully retrieved page {page_num} with proxy {proxy}\")\n",
    "        else:\n",
    "            print(f\"Failed to retrieve page {page_num} with proxy {proxy1}. Status code: {response.status_code}\")\n",
    "    except (requests.ConnectionError, requests.Timeout) as e:\n",
    "        print(f\"Proxy {proxy} failed for page {page_num}: {e}\")\n",
    "    except ChunkedEncodingError as e:  # Handle ChunkedEncodingError\n",
    "        print(f\"ChunkedEncodingError occurred for proxy {proxy1} and page {page_num}: {e}\")\n",
    "        continue  # Move to the next page\n",
    "\n",
    "print(all_recipes_url)"
   ]
  },
  {
   "cell_type": "code",
   "execution_count": 111,
   "id": "1d82a95f",
   "metadata": {},
   "outputs": [
    {
     "name": "stdout",
     "output_type": "stream",
     "text": [
      "120\n"
     ]
    }
   ],
   "source": [
    "print(len(all_recipes_url))"
   ]
  },
  {
   "cell_type": "code",
   "execution_count": null,
   "id": "449ca12a",
   "metadata": {},
   "outputs": [],
   "source": []
  },
  {
   "cell_type": "code",
   "execution_count": null,
   "id": "efd851ed",
   "metadata": {},
   "outputs": [],
   "source": []
  },
  {
   "cell_type": "code",
   "execution_count": null,
   "id": "b0fc2aaa",
   "metadata": {},
   "outputs": [],
   "source": []
  },
  {
   "cell_type": "code",
   "execution_count": null,
   "id": "d5a1cab8",
   "metadata": {},
   "outputs": [],
   "source": []
  }
 ],
 "metadata": {
  "kernelspec": {
   "display_name": "Python 3 (ipykernel)",
   "language": "python",
   "name": "python3"
  },
  "language_info": {
   "codemirror_mode": {
    "name": "ipython",
    "version": 3
   },
   "file_extension": ".py",
   "mimetype": "text/x-python",
   "name": "python",
   "nbconvert_exporter": "python",
   "pygments_lexer": "ipython3",
   "version": "3.9.8"
  }
 },
 "nbformat": 4,
 "nbformat_minor": 5
}
