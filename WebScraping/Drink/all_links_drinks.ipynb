{
 "cells": [
  {
   "cell_type": "code",
   "execution_count": 1,
   "id": "54010bad",
   "metadata": {},
   "outputs": [],
   "source": [
    "import pandas as pd\n",
    "import requests\n",
    "import itertools\n",
    "from bs4 import BeautifulSoup\n",
    "from requests.exceptions import ChunkedEncodingError"
   ]
  },
  {
   "cell_type": "markdown",
   "id": "3c2d79f2",
   "metadata": {},
   "source": [
    "# Links of Recipes from All Pages"
   ]
  },
  {
   "cell_type": "code",
   "execution_count": 2,
   "id": "99852325",
   "metadata": {},
   "outputs": [],
   "source": [
    "# List of all recipes\n",
    "all_recipes_url = []\n",
    "success_pages = []"
   ]
  },
  {
   "cell_type": "markdown",
   "id": "68c0ac37",
   "metadata": {},
   "source": [
    "### Page 1-20 (20*24=480 recipes)"
   ]
  },
  {
   "cell_type": "code",
   "execution_count": 3,
   "id": "cd1f78f0",
   "metadata": {
    "scrolled": false
   },
   "outputs": [
    {
     "name": "stdout",
     "output_type": "stream",
     "text": [
      "Proxies loaded: ['160.86.242.23:8080', '185.195.71.218:18080', '35.220.254.137:8080']\n",
      "Successfully retrieved page 1 with proxy 160.86.242.23:8080\n",
      "Proxy 185.195.71.218:18080 failed for page 2: HTTPSConnectionPool(host='www.halfbakedharvest.com', port=443): Max retries exceeded with url: /category/recipes/drinks/cocktails/page/2/ (Caused by ProxyError('Unable to connect to proxy', OSError('Tunnel connection failed: 503 Service Unavailable')))\n",
      "Successfully retrieved page 3 with proxy 35.220.254.137:8080\n",
      "Proxy 160.86.242.23:8080 failed for page 4: HTTPSConnectionPool(host='www.halfbakedharvest.com', port=443): Max retries exceeded with url: /category/recipes/drinks/cocktails/page/4/ (Caused by ProxyError('Unable to connect to proxy', RemoteDisconnected('Remote end closed connection without response')))\n",
      "Proxy 185.195.71.218:18080 failed for page 5: HTTPSConnectionPool(host='www.halfbakedharvest.com', port=443): Max retries exceeded with url: /category/recipes/drinks/cocktails/page/5/ (Caused by ProxyError('Unable to connect to proxy', OSError('Tunnel connection failed: 503 Service Unavailable')))\n",
      "Successfully retrieved page 6 with proxy 35.220.254.137:8080\n",
      "Successfully retrieved page 7 with proxy 160.86.242.23:8080\n"
     ]
    }
   ],
   "source": [
    "# Read proxies from the file and create a cycle iterator\n",
    "with open('proxies.txt', 'r') as f:\n",
    "    proxies = [line.strip() for line in f if line.strip()]\n",
    "\n",
    "# Check if proxies are being read correctly\n",
    "if not proxies:\n",
    "    print(\"No valid proxies found in proxies.txt\")\n",
    "else:\n",
    "    print(f\"Proxies loaded: {proxies}\")\n",
    "# proxies = ['5.189.184.6:8080', '45.76.24.237:8080', '103.141.108.122:8080', '185.61.152.137:8080', '45.91.94.239:8080']\n",
    "\n",
    "proxy_cycle = itertools.cycle(proxies)\n",
    "\n",
    "\n",
    "\n",
    "# Loop over the desired number of pages\n",
    "for page_num in range(1, 8):\n",
    "    proxy = next(proxy_cycle)\n",
    "\n",
    "    # Set up request with proxy\n",
    "    headers = {'User-Agent': 'Mozilla/5.0 (Windows NT 6.3; Win64; x64) AppleWebKit/537.36 (KHTML, like Gecko) Chrome/80.0.3987.162 Safari/537.36'}\n",
    "    url = f'https://www.halfbakedharvest.com/category/recipes/drinks/cocktails/page/{page_num}/'\n",
    "    proxy_dict = {'http': proxy, 'https': proxy}\n",
    "\n",
    "    try:\n",
    "        response = requests.get(url, headers=headers, proxies=proxy_dict, timeout=30)\n",
    "        \n",
    "        # Check if the request was successful\n",
    "        if response.status_code == 200:\n",
    "            soup = BeautifulSoup(response.content, 'html.parser')\n",
    "            cards = soup.find_all(class_='post-summary primary')\n",
    "            for card in cards:\n",
    "                link_tag = card.find('a')\n",
    "                all_recipes_url.append(link_tag['href'])\n",
    "            success_pages.append(page_num)\n",
    "            print(f\"Successfully retrieved page {page_num} with proxy {proxy}\")\n",
    "        else:\n",
    "            print(f\"Failed to retrieve page {page_num} with proxy {proxy}. Status code: {response.status_code}\")\n",
    "    except (requests.ConnectionError, requests.Timeout) as e:\n",
    "        print(f\"Proxy {proxy} failed for page {page_num}: {e}\")\n",
    "    except ChunkedEncodingError as e:  # Handle ChunkedEncodingError\n",
    "        print(f\"ChunkedEncodingError occurred for proxy {proxy} and page {page_num}: {e}\")\n",
    "        continue  # Move to the next page\n"
   ]
  },
  {
   "cell_type": "code",
   "execution_count": 9,
   "id": "4634c6ba",
   "metadata": {},
   "outputs": [
    {
     "name": "stdout",
     "output_type": "stream",
     "text": [
      "7\n",
      "[1, 2, 3, 4, 5, 6, 7]\n"
     ]
    }
   ],
   "source": [
    "# done \n",
    "success_pages.sort()\n",
    "print(len(success_pages))\n",
    "print(success_pages)\n"
   ]
  },
  {
   "cell_type": "code",
   "execution_count": 5,
   "id": "3be67a58",
   "metadata": {
    "scrolled": true
   },
   "outputs": [
    {
     "name": "stdout",
     "output_type": "stream",
     "text": [
      "85\n",
      "['https://www.halfbakedharvest.com/peach-thyme-smash/', 'https://www.halfbakedharvest.com/frozen-watermelon-spritz/', 'https://www.halfbakedharvest.com/the-50-most-popular-summer-recipes-of-2024/', 'https://www.halfbakedharvest.com/coconut-lime-margaritas/', 'https://www.halfbakedharvest.com/white-russian/', 'https://www.halfbakedharvest.com/gingerbread-cocktail/', 'https://www.halfbakedharvest.com/popular-holiday-appetizers-and-cocktails-mocktails/', 'https://www.halfbakedharvest.com/christmas-punch/', 'https://www.halfbakedharvest.com/naughty-nice-margarita/', 'https://www.halfbakedharvest.com/mistletoe-kiss-cocktail/', 'https://www.halfbakedharvest.com/sage-ginger-paloma/', 'https://www.halfbakedharvest.com/cranberry-cider-margarita/', 'https://www.halfbakedharvest.com/cinnamon-apple-bourbon-smash/', 'https://www.halfbakedharvest.com/the-24-most-popular-thanksgiving-drinks/', 'https://www.halfbakedharvest.com/bloody-mule/', 'https://www.halfbakedharvest.com/hocus-pocus-old-fashioned/', 'https://www.halfbakedharvest.com/pomegranate-punch/', 'https://www.halfbakedharvest.com/the-30-most-popular-fall-drinks/', 'https://www.halfbakedharvest.com/strawberry-lemonade-aperol-margarita/', 'https://www.halfbakedharvest.com/jalapeno-ginger-moscow-mule-with-mocktail/', 'https://www.halfbakedharvest.com/chocolate-espresso-martini/', 'https://www.halfbakedharvest.com/spiced-christmas-margarita/', 'https://www.halfbakedharvest.com/christmas-pomegranate-punch/', 'https://www.halfbakedharvest.com/dirty-chai-cocktail/', 'https://www.halfbakedharvest.com/i-put-a-spell-on-you-poison-apple-martini/', 'https://www.halfbakedharvest.com/the-20-most-popular-fall-drinks/', 'https://www.halfbakedharvest.com/frozen-peach-rose-slushy/', 'https://www.halfbakedharvest.com/firecracker-champagne-paloma/', 'https://www.halfbakedharvest.com/watermelon-rosemary-frose/', 'https://www.halfbakedharvest.com/serrano-pineapple-margarita/', 'https://www.halfbakedharvest.com/frozen-blueberry-paloma/', 'https://www.halfbakedharvest.com/citrus-pomegranate-champagne-twist/', 'https://www.halfbakedharvest.com/my-favorite-new-years-cocktails-and-appetizers/', 'https://www.halfbakedharvest.com/frosted-mistletoe-margarita/', 'https://www.halfbakedharvest.com/creamy-coconut-white-russian/', 'https://www.halfbakedharvest.com/spicy-cheermister-cocktail/', 'https://www.halfbakedharvest.com/pomegranate-champagne-mule/', 'https://www.halfbakedharvest.com/vanilla-espresso-martini/', 'https://www.halfbakedharvest.com/spiced-honey-bourbon-old-fashioned/', 'https://www.halfbakedharvest.com/spiced-cranberry-punch/', 'https://www.halfbakedharvest.com/the-14-most-popular-thanksgiving-drinks/', 'https://www.halfbakedharvest.com/ginger-apple-moscow-mule/', 'https://www.halfbakedharvest.com/nightmare-on-bourbon-street/', 'https://www.halfbakedharvest.com/voldemorts-dark-serum/', 'https://www.halfbakedharvest.com/summer-bellinis-3-ways/', 'https://www.halfbakedharvest.com/salted-spicy-watermelon-margarita-popsicles/', 'https://www.halfbakedharvest.com/smoky-watermelon-lemon-margarita/', 'https://www.halfbakedharvest.com/cherry-bourbon-smash/', 'https://www.halfbakedharvest.com/spicy-gingered-mango-margarita/', 'https://www.halfbakedharvest.com/minted-orange-and-strawberry-coolers/', 'https://www.halfbakedharvest.com/rose-and-ginger-palmoa/', 'https://www.halfbakedharvest.com/pineapple-margarita-sparklers/', 'https://www.halfbakedharvest.com/my-24-favorite-winter-appetizer-and-cocktail-recipes/', 'https://www.halfbakedharvest.com/rudolphs-rockin-pomegranate-jingle-juice-punch/', 'https://www.halfbakedharvest.com/frostys-frosted-moscow-mule/', 'https://www.halfbakedharvest.com/buddy-the-elf-cocktail/', 'https://www.halfbakedharvest.com/holiday-gifting-homemade-simple-syrups/', 'https://www.halfbakedharvest.com/naughty-and-nice-cinnamon-toddy/', 'https://www.halfbakedharvest.com/16-of-my-favorite-christmas-drinks/', 'https://www.halfbakedharvest.com/vanilla-chai-tea-white-russian/', 'https://www.halfbakedharvest.com/cranberry-thyme-spritz/', 'https://www.halfbakedharvest.com/spiced-persimmon-bourbon-old-fashioned/', 'https://www.halfbakedharvest.com/haunted-orchard-cocktail/', 'https://www.halfbakedharvest.com/vampires-drip-cocktail/', 'https://www.halfbakedharvest.com/the-deathly-hallows-cocktail/', 'https://www.halfbakedharvest.com/death-eater-negroni/', 'https://www.halfbakedharvest.com/apple-butter-old-fashioned/', 'https://www.halfbakedharvest.com/fig-honey-thyme-prosecco-smash/', 'https://www.halfbakedharvest.com/gingered-peach-bourbon-thyme-smash/', 'https://www.halfbakedharvest.com/frozen-watermelon-rose-sangria-slushies/', 'https://www.halfbakedharvest.com/blood-orange-champagne-mule/', 'https://www.halfbakedharvest.com/santas-nightcap/', 'https://www.halfbakedharvest.com/christmas-ale-sangria/', 'https://www.halfbakedharvest.com/white-christmas-mojito/', 'https://www.halfbakedharvest.com/coziest-homemade-hot-toddy-kit/', 'https://www.halfbakedharvest.com/poinsettia-spritz-punch/', 'https://www.halfbakedharvest.com/north-pole-cocktail/', 'https://www.halfbakedharvest.com/pomegranate-ginger-paloma/', 'https://www.halfbakedharvest.com/blackberry-bourbon-smash/', 'https://www.halfbakedharvest.com/spicy-grapefruit-margarita/', 'https://www.halfbakedharvest.com/pomegranate-peppermint-moscow-mules-video/', 'https://www.halfbakedharvest.com/cranberry-orange-margaritas-video/', 'https://www.halfbakedharvest.com/christmas-sangria/', 'https://www.halfbakedharvest.com/sparkling-pomegranate-punch/', 'https://www.halfbakedharvest.com/pumpkin-butterbeer-hot-chocolate-video/']\n"
     ]
    }
   ],
   "source": [
    "print(len(all_recipes_url))\n",
    "print(all_recipes_url)"
   ]
  },
  {
   "cell_type": "code",
   "execution_count": 6,
   "id": "338b2fb3",
   "metadata": {
    "scrolled": true
   },
   "outputs": [
    {
     "name": "stdout",
     "output_type": "stream",
     "text": [
      "Proxies loaded: ['160.86.242.23:8080', '185.195.71.218:18080', '35.220.254.137:8080']\n",
      "Successfully retrieved page 2 with proxy 160.86.242.23:8080\n",
      "Successfully retrieved page 4 with proxy 185.195.71.218:18080\n",
      "Successfully retrieved page 5 with proxy 35.220.254.137:8080\n"
     ]
    }
   ],
   "source": [
    "# Read proxies from the file and create a cycle iterator\n",
    "with open('proxies.txt', 'r') as f:\n",
    "    proxies = [line.strip() for line in f if line.strip()]\n",
    "\n",
    "# Check if proxies are being read correctly\n",
    "if not proxies:\n",
    "    print(\"No valid proxies found in proxies.txt\")\n",
    "else:\n",
    "    print(f\"Proxies loaded: {proxies}\")\n",
    "\n",
    "proxy_cycle = itertools.cycle(proxies)\n",
    "\n",
    "\n",
    "# Loop over the desired number of pages\n",
    "for page_num in range(1,8):\n",
    "    if page_num not in success_pages:\n",
    "        proxy = next(proxy_cycle)\n",
    "\n",
    "        # Set up request with proxy\n",
    "        headers = {'User-Agent': 'Mozilla/5.0 (Windows NT 6.3; Win64; x64) AppleWebKit/537.36 (KHTML, like Gecko) Chrome/80.0.3987.162 Safari/537.36'}\n",
    "        url = f'https://www.halfbakedharvest.com/category/recipes/drinks/cocktails/page/{page_num}/'\n",
    "        proxy_dict = {'http': proxy, 'https': proxy}\n",
    "\n",
    "        try:\n",
    "            response = requests.get(url, headers=headers, proxies=proxy_dict, timeout=30)\n",
    "\n",
    "            # Check if the request was successful\n",
    "            if response.status_code == 200:\n",
    "                soup = BeautifulSoup(response.content, 'html.parser')\n",
    "                cards = soup.find_all(class_='post-summary primary')\n",
    "                for card in cards:\n",
    "                    link_tag = card.find('a')\n",
    "                    all_recipes_url.append(link_tag['href'])\n",
    "                success_pages.append(page_num)\n",
    "                print(f\"Successfully retrieved page {page_num} with proxy {proxy}\")\n",
    "            else:\n",
    "                print(f\"Failed to retrieve page {page_num} with proxy {proxy}. Status code: {response.status_code}\")\n",
    "        except (requests.ConnectionError, requests.Timeout) as e:\n",
    "            print(f\"Proxy {proxy} failed for page {page_num}: {e}\")\n",
    "        except ChunkedEncodingError as e:  # Handle ChunkedEncodingError\n",
    "            print(f\"ChunkedEncodingError occurred for proxy {proxy} and page {page_num}: {e}\")\n",
    "            continue  # Move to the next page\n"
   ]
  },
  {
   "cell_type": "code",
   "execution_count": 7,
   "id": "08feca5b",
   "metadata": {},
   "outputs": [
    {
     "name": "stdout",
     "output_type": "stream",
     "text": [
      "157\n"
     ]
    }
   ],
   "source": [
    "print(len(all_recipes_url))"
   ]
  },
  {
   "cell_type": "code",
   "execution_count": 8,
   "id": "7738c936",
   "metadata": {},
   "outputs": [
    {
     "data": {
      "text/plain": [
       "['https://www.halfbakedharvest.com/peach-thyme-smash/',\n",
       " 'https://www.halfbakedharvest.com/frozen-watermelon-spritz/',\n",
       " 'https://www.halfbakedharvest.com/the-50-most-popular-summer-recipes-of-2024/',\n",
       " 'https://www.halfbakedharvest.com/coconut-lime-margaritas/',\n",
       " 'https://www.halfbakedharvest.com/white-russian/',\n",
       " 'https://www.halfbakedharvest.com/gingerbread-cocktail/',\n",
       " 'https://www.halfbakedharvest.com/popular-holiday-appetizers-and-cocktails-mocktails/',\n",
       " 'https://www.halfbakedharvest.com/christmas-punch/',\n",
       " 'https://www.halfbakedharvest.com/naughty-nice-margarita/',\n",
       " 'https://www.halfbakedharvest.com/mistletoe-kiss-cocktail/',\n",
       " 'https://www.halfbakedharvest.com/sage-ginger-paloma/',\n",
       " 'https://www.halfbakedharvest.com/cranberry-cider-margarita/',\n",
       " 'https://www.halfbakedharvest.com/cinnamon-apple-bourbon-smash/',\n",
       " 'https://www.halfbakedharvest.com/the-24-most-popular-thanksgiving-drinks/',\n",
       " 'https://www.halfbakedharvest.com/bloody-mule/',\n",
       " 'https://www.halfbakedharvest.com/hocus-pocus-old-fashioned/',\n",
       " 'https://www.halfbakedharvest.com/pomegranate-punch/',\n",
       " 'https://www.halfbakedharvest.com/the-30-most-popular-fall-drinks/',\n",
       " 'https://www.halfbakedharvest.com/strawberry-lemonade-aperol-margarita/',\n",
       " 'https://www.halfbakedharvest.com/jalapeno-ginger-moscow-mule-with-mocktail/',\n",
       " 'https://www.halfbakedharvest.com/chocolate-espresso-martini/',\n",
       " 'https://www.halfbakedharvest.com/spiced-christmas-margarita/',\n",
       " 'https://www.halfbakedharvest.com/christmas-pomegranate-punch/',\n",
       " 'https://www.halfbakedharvest.com/dirty-chai-cocktail/',\n",
       " 'https://www.halfbakedharvest.com/i-put-a-spell-on-you-poison-apple-martini/',\n",
       " 'https://www.halfbakedharvest.com/the-20-most-popular-fall-drinks/',\n",
       " 'https://www.halfbakedharvest.com/frozen-peach-rose-slushy/',\n",
       " 'https://www.halfbakedharvest.com/firecracker-champagne-paloma/',\n",
       " 'https://www.halfbakedharvest.com/watermelon-rosemary-frose/',\n",
       " 'https://www.halfbakedharvest.com/serrano-pineapple-margarita/',\n",
       " 'https://www.halfbakedharvest.com/frozen-blueberry-paloma/',\n",
       " 'https://www.halfbakedharvest.com/citrus-pomegranate-champagne-twist/',\n",
       " 'https://www.halfbakedharvest.com/my-favorite-new-years-cocktails-and-appetizers/',\n",
       " 'https://www.halfbakedharvest.com/frosted-mistletoe-margarita/',\n",
       " 'https://www.halfbakedharvest.com/creamy-coconut-white-russian/',\n",
       " 'https://www.halfbakedharvest.com/spicy-cheermister-cocktail/',\n",
       " 'https://www.halfbakedharvest.com/pomegranate-champagne-mule/',\n",
       " 'https://www.halfbakedharvest.com/vanilla-espresso-martini/',\n",
       " 'https://www.halfbakedharvest.com/spiced-honey-bourbon-old-fashioned/',\n",
       " 'https://www.halfbakedharvest.com/spiced-cranberry-punch/',\n",
       " 'https://www.halfbakedharvest.com/the-14-most-popular-thanksgiving-drinks/',\n",
       " 'https://www.halfbakedharvest.com/ginger-apple-moscow-mule/',\n",
       " 'https://www.halfbakedharvest.com/nightmare-on-bourbon-street/',\n",
       " 'https://www.halfbakedharvest.com/voldemorts-dark-serum/',\n",
       " 'https://www.halfbakedharvest.com/summer-bellinis-3-ways/',\n",
       " 'https://www.halfbakedharvest.com/salted-spicy-watermelon-margarita-popsicles/',\n",
       " 'https://www.halfbakedharvest.com/smoky-watermelon-lemon-margarita/',\n",
       " 'https://www.halfbakedharvest.com/cherry-bourbon-smash/',\n",
       " 'https://www.halfbakedharvest.com/spicy-gingered-mango-margarita/',\n",
       " 'https://www.halfbakedharvest.com/minted-orange-and-strawberry-coolers/',\n",
       " 'https://www.halfbakedharvest.com/rose-and-ginger-palmoa/',\n",
       " 'https://www.halfbakedharvest.com/pineapple-margarita-sparklers/',\n",
       " 'https://www.halfbakedharvest.com/my-24-favorite-winter-appetizer-and-cocktail-recipes/',\n",
       " 'https://www.halfbakedharvest.com/rudolphs-rockin-pomegranate-jingle-juice-punch/',\n",
       " 'https://www.halfbakedharvest.com/frostys-frosted-moscow-mule/',\n",
       " 'https://www.halfbakedharvest.com/buddy-the-elf-cocktail/',\n",
       " 'https://www.halfbakedharvest.com/holiday-gifting-homemade-simple-syrups/',\n",
       " 'https://www.halfbakedharvest.com/naughty-and-nice-cinnamon-toddy/',\n",
       " 'https://www.halfbakedharvest.com/16-of-my-favorite-christmas-drinks/',\n",
       " 'https://www.halfbakedharvest.com/vanilla-chai-tea-white-russian/',\n",
       " 'https://www.halfbakedharvest.com/cranberry-thyme-spritz/',\n",
       " 'https://www.halfbakedharvest.com/spiced-persimmon-bourbon-old-fashioned/',\n",
       " 'https://www.halfbakedharvest.com/haunted-orchard-cocktail/',\n",
       " 'https://www.halfbakedharvest.com/vampires-drip-cocktail/',\n",
       " 'https://www.halfbakedharvest.com/the-deathly-hallows-cocktail/',\n",
       " 'https://www.halfbakedharvest.com/death-eater-negroni/',\n",
       " 'https://www.halfbakedharvest.com/apple-butter-old-fashioned/',\n",
       " 'https://www.halfbakedharvest.com/fig-honey-thyme-prosecco-smash/',\n",
       " 'https://www.halfbakedharvest.com/gingered-peach-bourbon-thyme-smash/',\n",
       " 'https://www.halfbakedharvest.com/frozen-watermelon-rose-sangria-slushies/',\n",
       " 'https://www.halfbakedharvest.com/blood-orange-champagne-mule/',\n",
       " 'https://www.halfbakedharvest.com/santas-nightcap/',\n",
       " 'https://www.halfbakedharvest.com/christmas-ale-sangria/',\n",
       " 'https://www.halfbakedharvest.com/white-christmas-mojito/',\n",
       " 'https://www.halfbakedharvest.com/coziest-homemade-hot-toddy-kit/',\n",
       " 'https://www.halfbakedharvest.com/poinsettia-spritz-punch/',\n",
       " 'https://www.halfbakedharvest.com/north-pole-cocktail/',\n",
       " 'https://www.halfbakedharvest.com/pomegranate-ginger-paloma/',\n",
       " 'https://www.halfbakedharvest.com/blackberry-bourbon-smash/',\n",
       " 'https://www.halfbakedharvest.com/spicy-grapefruit-margarita/',\n",
       " 'https://www.halfbakedharvest.com/pomegranate-peppermint-moscow-mules-video/',\n",
       " 'https://www.halfbakedharvest.com/cranberry-orange-margaritas-video/',\n",
       " 'https://www.halfbakedharvest.com/christmas-sangria/',\n",
       " 'https://www.halfbakedharvest.com/sparkling-pomegranate-punch/',\n",
       " 'https://www.halfbakedharvest.com/pumpkin-butterbeer-hot-chocolate-video/',\n",
       " 'https://www.halfbakedharvest.com/holiday-storm-cocktail/',\n",
       " 'https://www.halfbakedharvest.com/maple-whiskey-sour/',\n",
       " 'https://www.halfbakedharvest.com/cider-punch/',\n",
       " 'https://www.halfbakedharvest.com/spiced-cranberry-thyme-moscow-mule/',\n",
       " 'https://www.halfbakedharvest.com/20-most-popular-thanksgiving-drinks/',\n",
       " 'https://www.halfbakedharvest.com/bourbon-pumpkin-smash/',\n",
       " 'https://www.halfbakedharvest.com/pumpkin-patch-margarita/',\n",
       " 'https://www.halfbakedharvest.com/jack-skellingtons-haunted-white-russian/',\n",
       " 'https://www.halfbakedharvest.com/smoky-sanderson-sisters-smash/',\n",
       " 'https://www.halfbakedharvest.com/the-25-most-popular-fall-drinks/',\n",
       " 'https://www.halfbakedharvest.com/spicy-blackberry-margarita-sour/',\n",
       " 'https://www.halfbakedharvest.com/frozen-aperol-peach-margarita/',\n",
       " 'https://www.halfbakedharvest.com/strawberry-mojito/',\n",
       " 'https://www.halfbakedharvest.com/christmas-old-fashioned/',\n",
       " 'https://www.halfbakedharvest.com/bad-santa-white-russian/',\n",
       " 'https://www.halfbakedharvest.com/frosted-spicy-ginger-moscow-mule/',\n",
       " 'https://www.halfbakedharvest.com/cinnamon-bourbon-fizz/',\n",
       " 'https://www.halfbakedharvest.com/chai-espresso-martini/',\n",
       " 'https://www.halfbakedharvest.com/spicy-pomegranate-ginger-paloma/',\n",
       " 'https://www.halfbakedharvest.com/spiced-maple-bourbon-fizz/',\n",
       " 'https://www.halfbakedharvest.com/the-18-most-popular-thanksgiving-drinks/',\n",
       " 'https://www.halfbakedharvest.com/pumpkin-head-punch/',\n",
       " 'https://www.halfbakedharvest.com/the-goblet-of-fire/',\n",
       " 'https://www.halfbakedharvest.com/the-grave-digger/',\n",
       " 'https://www.halfbakedharvest.com/vodka-watermelon-lemonade/',\n",
       " 'https://www.halfbakedharvest.com/basil-smash-pina-colada/',\n",
       " 'https://www.halfbakedharvest.com/the-hermione-granger-cocktail/',\n",
       " 'https://www.halfbakedharvest.com/blackberry-champagne-mule/',\n",
       " 'https://www.halfbakedharvest.com/watermelon-rose-paloma/',\n",
       " 'https://www.halfbakedharvest.com/blueberry-lemon-thyme-smash/',\n",
       " 'https://www.halfbakedharvest.com/whipped-coffee-white-russian/',\n",
       " 'https://www.halfbakedharvest.com/creamy-coconut-lime-mojito/',\n",
       " 'https://www.halfbakedharvest.com/orange-hibiscus-mai-tai/',\n",
       " 'https://www.halfbakedharvest.com/spicy-cucumber-margarita/',\n",
       " 'https://www.halfbakedharvest.com/dirty-horchata/',\n",
       " 'https://www.halfbakedharvest.com/the-santa-clause-smash/',\n",
       " 'https://www.halfbakedharvest.com/sparkling-christmas-party-punch/',\n",
       " 'https://www.halfbakedharvest.com/spicy-sweet-grinch-cocktail/',\n",
       " 'https://www.halfbakedharvest.com/cranberry-paloma/',\n",
       " 'https://www.halfbakedharvest.com/cinnamon-bourbon-old-fashioned/',\n",
       " 'https://www.halfbakedharvest.com/thanksgiving-drinks/',\n",
       " 'https://www.halfbakedharvest.com/cranberry-bourbon-sour/',\n",
       " 'https://www.halfbakedharvest.com/thanksgiving-sangria/',\n",
       " 'https://www.halfbakedharvest.com/smoky-harvest-apple-cider-margaritas/',\n",
       " 'https://www.halfbakedharvest.com/sleepy-hollow-cocktail/',\n",
       " 'https://www.halfbakedharvest.com/golden-snitch-cocktail/',\n",
       " 'https://www.halfbakedharvest.com/fig-dark-and-stormy/',\n",
       " 'https://www.halfbakedharvest.com/frozen-mango-mojito-rita/',\n",
       " 'https://www.halfbakedharvest.com/balsamic-peach-spritz/',\n",
       " 'https://www.halfbakedharvest.com/blackberry-tequila-lemon-cooler/',\n",
       " 'https://www.halfbakedharvest.com/pineapple-moscow-mule/',\n",
       " 'https://www.halfbakedharvest.com/strawberry-hibiscus-ginger-margarita/',\n",
       " 'https://www.halfbakedharvest.com/white-tea-and-muddled-basil-mojito/',\n",
       " 'https://www.halfbakedharvest.com/winter-citrus-tequila-smash/',\n",
       " 'https://www.halfbakedharvest.com/holly-jolly-christmas-citrus-cocktail/',\n",
       " 'https://www.halfbakedharvest.com/holiday-pear-sangria/',\n",
       " 'https://www.halfbakedharvest.com/christmas-snowstorm-margarita/',\n",
       " 'https://www.halfbakedharvest.com/gingerbread-white-russian/',\n",
       " 'https://www.halfbakedharvest.com/vanilla-chai-old-fashioned/',\n",
       " 'https://www.halfbakedharvest.com/spiced-cranberry-rose-spritzers/',\n",
       " 'https://www.halfbakedharvest.com/harvest-apple-ginger-spritz/',\n",
       " 'https://www.halfbakedharvest.com/pumpkin-patch-punch/',\n",
       " 'https://www.halfbakedharvest.com/the-black-widow-smash/',\n",
       " 'https://www.halfbakedharvest.com/the-half-blood-prince-cocktail/',\n",
       " 'https://www.halfbakedharvest.com/poison-apple-martini/',\n",
       " 'https://www.halfbakedharvest.com/fig-bourbon-cider-smash/',\n",
       " 'https://www.halfbakedharvest.com/watermelon-paloma/',\n",
       " 'https://www.halfbakedharvest.com/blackberry-thyme-margarita/',\n",
       " 'https://www.halfbakedharvest.com/sweet-bourbon-peach-lemonade/',\n",
       " 'https://www.halfbakedharvest.com/smashed-berry-rose-spritz/',\n",
       " 'https://www.halfbakedharvest.com/hibiscus-cherry-vodka-spritz/',\n",
       " 'https://www.halfbakedharvest.com/frozen-brunch-punch/']"
      ]
     },
     "execution_count": 8,
     "metadata": {},
     "output_type": "execute_result"
    }
   ],
   "source": [
    "all_recipes_url"
   ]
  },
  {
   "cell_type": "code",
   "execution_count": null,
   "id": "1261bcf5",
   "metadata": {},
   "outputs": [],
   "source": []
  },
  {
   "cell_type": "code",
   "execution_count": null,
   "id": "7fe06771",
   "metadata": {},
   "outputs": [],
   "source": []
  },
  {
   "cell_type": "code",
   "execution_count": 10,
   "id": "5a7dc650",
   "metadata": {},
   "outputs": [],
   "source": [
    "with open('all_recipes_url.txt', 'w') as file:\n",
    "    for url in all_recipes_url:\n",
    "        file.write(url + '\\n')"
   ]
  },
  {
   "cell_type": "code",
   "execution_count": null,
   "id": "ccf6e546",
   "metadata": {},
   "outputs": [],
   "source": []
  },
  {
   "cell_type": "code",
   "execution_count": null,
   "id": "322c4051",
   "metadata": {},
   "outputs": [],
   "source": []
  },
  {
   "cell_type": "code",
   "execution_count": null,
   "id": "393fae27",
   "metadata": {},
   "outputs": [],
   "source": []
  },
  {
   "cell_type": "code",
   "execution_count": null,
   "id": "f564a638",
   "metadata": {},
   "outputs": [],
   "source": []
  },
  {
   "cell_type": "code",
   "execution_count": null,
   "id": "c3c16b66",
   "metadata": {},
   "outputs": [],
   "source": []
  },
  {
   "cell_type": "code",
   "execution_count": null,
   "id": "8bd8e7d7",
   "metadata": {},
   "outputs": [],
   "source": []
  }
 ],
 "metadata": {
  "kernelspec": {
   "display_name": "Python 3 (ipykernel)",
   "language": "python",
   "name": "python3"
  },
  "language_info": {
   "codemirror_mode": {
    "name": "ipython",
    "version": 3
   },
   "file_extension": ".py",
   "mimetype": "text/x-python",
   "name": "python",
   "nbconvert_exporter": "python",
   "pygments_lexer": "ipython3",
   "version": "3.9.8"
  }
 },
 "nbformat": 4,
 "nbformat_minor": 5
}
