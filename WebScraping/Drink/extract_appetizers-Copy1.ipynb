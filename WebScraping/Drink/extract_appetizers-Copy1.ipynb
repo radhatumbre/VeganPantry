{
 "cells": [
  {
   "cell_type": "code",
   "execution_count": 1,
   "id": "54010bad",
   "metadata": {},
   "outputs": [],
   "source": [
    "import pandas as pd\n",
    "import requests\n",
    "import itertools\n",
    "from bs4 import BeautifulSoup\n",
    "from requests.exceptions import ChunkedEncodingError"
   ]
  },
  {
   "cell_type": "code",
   "execution_count": 2,
   "id": "ccf6e546",
   "metadata": {},
   "outputs": [
    {
     "data": {
      "text/plain": [
       "157"
      ]
     },
     "execution_count": 2,
     "metadata": {},
     "output_type": "execute_result"
    }
   ],
   "source": [
    "\n",
    "# Read the URLs from the text file\n",
    "with open('all_recipes_url.txt', 'r') as file:\n",
    "    all_recipes_url = file.readlines()\n",
    "\n",
    "# Strip newline characters from each URL\n",
    "all_recipes_url = [url.strip() for url in all_recipes_url]\n",
    "\n",
    "len(all_recipes_url)"
   ]
  },
  {
   "cell_type": "code",
   "execution_count": 3,
   "id": "77306887",
   "metadata": {},
   "outputs": [
    {
     "data": {
      "text/plain": [
       "['https://www.halfbakedharvest.com/peach-thyme-smash/',\n",
       " 'https://www.halfbakedharvest.com/frozen-watermelon-spritz/',\n",
       " 'https://www.halfbakedharvest.com/the-50-most-popular-summer-recipes-of-2024/',\n",
       " 'https://www.halfbakedharvest.com/coconut-lime-margaritas/',\n",
       " 'https://www.halfbakedharvest.com/white-russian/',\n",
       " 'https://www.halfbakedharvest.com/gingerbread-cocktail/',\n",
       " 'https://www.halfbakedharvest.com/popular-holiday-appetizers-and-cocktails-mocktails/',\n",
       " 'https://www.halfbakedharvest.com/christmas-punch/',\n",
       " 'https://www.halfbakedharvest.com/naughty-nice-margarita/',\n",
       " 'https://www.halfbakedharvest.com/mistletoe-kiss-cocktail/',\n",
       " 'https://www.halfbakedharvest.com/sage-ginger-paloma/',\n",
       " 'https://www.halfbakedharvest.com/cranberry-cider-margarita/',\n",
       " 'https://www.halfbakedharvest.com/cinnamon-apple-bourbon-smash/',\n",
       " 'https://www.halfbakedharvest.com/the-24-most-popular-thanksgiving-drinks/',\n",
       " 'https://www.halfbakedharvest.com/bloody-mule/',\n",
       " 'https://www.halfbakedharvest.com/hocus-pocus-old-fashioned/',\n",
       " 'https://www.halfbakedharvest.com/pomegranate-punch/',\n",
       " 'https://www.halfbakedharvest.com/the-30-most-popular-fall-drinks/',\n",
       " 'https://www.halfbakedharvest.com/strawberry-lemonade-aperol-margarita/',\n",
       " 'https://www.halfbakedharvest.com/jalapeno-ginger-moscow-mule-with-mocktail/',\n",
       " 'https://www.halfbakedharvest.com/chocolate-espresso-martini/',\n",
       " 'https://www.halfbakedharvest.com/spiced-christmas-margarita/',\n",
       " 'https://www.halfbakedharvest.com/christmas-pomegranate-punch/',\n",
       " 'https://www.halfbakedharvest.com/dirty-chai-cocktail/',\n",
       " 'https://www.halfbakedharvest.com/i-put-a-spell-on-you-poison-apple-martini/',\n",
       " 'https://www.halfbakedharvest.com/the-20-most-popular-fall-drinks/',\n",
       " 'https://www.halfbakedharvest.com/frozen-peach-rose-slushy/',\n",
       " 'https://www.halfbakedharvest.com/firecracker-champagne-paloma/',\n",
       " 'https://www.halfbakedharvest.com/watermelon-rosemary-frose/',\n",
       " 'https://www.halfbakedharvest.com/serrano-pineapple-margarita/',\n",
       " 'https://www.halfbakedharvest.com/frozen-blueberry-paloma/',\n",
       " 'https://www.halfbakedharvest.com/citrus-pomegranate-champagne-twist/',\n",
       " 'https://www.halfbakedharvest.com/my-favorite-new-years-cocktails-and-appetizers/',\n",
       " 'https://www.halfbakedharvest.com/frosted-mistletoe-margarita/',\n",
       " 'https://www.halfbakedharvest.com/creamy-coconut-white-russian/',\n",
       " 'https://www.halfbakedharvest.com/spicy-cheermister-cocktail/',\n",
       " 'https://www.halfbakedharvest.com/pomegranate-champagne-mule/',\n",
       " 'https://www.halfbakedharvest.com/vanilla-espresso-martini/',\n",
       " 'https://www.halfbakedharvest.com/spiced-honey-bourbon-old-fashioned/',\n",
       " 'https://www.halfbakedharvest.com/spiced-cranberry-punch/',\n",
       " 'https://www.halfbakedharvest.com/the-14-most-popular-thanksgiving-drinks/',\n",
       " 'https://www.halfbakedharvest.com/ginger-apple-moscow-mule/',\n",
       " 'https://www.halfbakedharvest.com/nightmare-on-bourbon-street/',\n",
       " 'https://www.halfbakedharvest.com/voldemorts-dark-serum/',\n",
       " 'https://www.halfbakedharvest.com/summer-bellinis-3-ways/',\n",
       " 'https://www.halfbakedharvest.com/salted-spicy-watermelon-margarita-popsicles/',\n",
       " 'https://www.halfbakedharvest.com/smoky-watermelon-lemon-margarita/',\n",
       " 'https://www.halfbakedharvest.com/cherry-bourbon-smash/',\n",
       " 'https://www.halfbakedharvest.com/spicy-gingered-mango-margarita/',\n",
       " 'https://www.halfbakedharvest.com/minted-orange-and-strawberry-coolers/',\n",
       " 'https://www.halfbakedharvest.com/rose-and-ginger-palmoa/',\n",
       " 'https://www.halfbakedharvest.com/pineapple-margarita-sparklers/',\n",
       " 'https://www.halfbakedharvest.com/my-24-favorite-winter-appetizer-and-cocktail-recipes/',\n",
       " 'https://www.halfbakedharvest.com/rudolphs-rockin-pomegranate-jingle-juice-punch/',\n",
       " 'https://www.halfbakedharvest.com/frostys-frosted-moscow-mule/',\n",
       " 'https://www.halfbakedharvest.com/buddy-the-elf-cocktail/',\n",
       " 'https://www.halfbakedharvest.com/holiday-gifting-homemade-simple-syrups/',\n",
       " 'https://www.halfbakedharvest.com/naughty-and-nice-cinnamon-toddy/',\n",
       " 'https://www.halfbakedharvest.com/16-of-my-favorite-christmas-drinks/',\n",
       " 'https://www.halfbakedharvest.com/vanilla-chai-tea-white-russian/',\n",
       " 'https://www.halfbakedharvest.com/cranberry-thyme-spritz/',\n",
       " 'https://www.halfbakedharvest.com/spiced-persimmon-bourbon-old-fashioned/',\n",
       " 'https://www.halfbakedharvest.com/haunted-orchard-cocktail/',\n",
       " 'https://www.halfbakedharvest.com/vampires-drip-cocktail/',\n",
       " 'https://www.halfbakedharvest.com/the-deathly-hallows-cocktail/',\n",
       " 'https://www.halfbakedharvest.com/death-eater-negroni/',\n",
       " 'https://www.halfbakedharvest.com/apple-butter-old-fashioned/',\n",
       " 'https://www.halfbakedharvest.com/fig-honey-thyme-prosecco-smash/',\n",
       " 'https://www.halfbakedharvest.com/gingered-peach-bourbon-thyme-smash/',\n",
       " 'https://www.halfbakedharvest.com/frozen-watermelon-rose-sangria-slushies/',\n",
       " 'https://www.halfbakedharvest.com/blood-orange-champagne-mule/',\n",
       " 'https://www.halfbakedharvest.com/santas-nightcap/',\n",
       " 'https://www.halfbakedharvest.com/christmas-ale-sangria/',\n",
       " 'https://www.halfbakedharvest.com/white-christmas-mojito/',\n",
       " 'https://www.halfbakedharvest.com/coziest-homemade-hot-toddy-kit/',\n",
       " 'https://www.halfbakedharvest.com/poinsettia-spritz-punch/',\n",
       " 'https://www.halfbakedharvest.com/north-pole-cocktail/',\n",
       " 'https://www.halfbakedharvest.com/pomegranate-ginger-paloma/',\n",
       " 'https://www.halfbakedharvest.com/blackberry-bourbon-smash/',\n",
       " 'https://www.halfbakedharvest.com/spicy-grapefruit-margarita/',\n",
       " 'https://www.halfbakedharvest.com/pomegranate-peppermint-moscow-mules-video/',\n",
       " 'https://www.halfbakedharvest.com/cranberry-orange-margaritas-video/',\n",
       " 'https://www.halfbakedharvest.com/christmas-sangria/',\n",
       " 'https://www.halfbakedharvest.com/sparkling-pomegranate-punch/',\n",
       " 'https://www.halfbakedharvest.com/pumpkin-butterbeer-hot-chocolate-video/',\n",
       " 'https://www.halfbakedharvest.com/holiday-storm-cocktail/',\n",
       " 'https://www.halfbakedharvest.com/maple-whiskey-sour/',\n",
       " 'https://www.halfbakedharvest.com/cider-punch/',\n",
       " 'https://www.halfbakedharvest.com/spiced-cranberry-thyme-moscow-mule/',\n",
       " 'https://www.halfbakedharvest.com/20-most-popular-thanksgiving-drinks/',\n",
       " 'https://www.halfbakedharvest.com/bourbon-pumpkin-smash/',\n",
       " 'https://www.halfbakedharvest.com/pumpkin-patch-margarita/',\n",
       " 'https://www.halfbakedharvest.com/jack-skellingtons-haunted-white-russian/',\n",
       " 'https://www.halfbakedharvest.com/smoky-sanderson-sisters-smash/',\n",
       " 'https://www.halfbakedharvest.com/the-25-most-popular-fall-drinks/',\n",
       " 'https://www.halfbakedharvest.com/spicy-blackberry-margarita-sour/',\n",
       " 'https://www.halfbakedharvest.com/frozen-aperol-peach-margarita/',\n",
       " 'https://www.halfbakedharvest.com/strawberry-mojito/',\n",
       " 'https://www.halfbakedharvest.com/christmas-old-fashioned/',\n",
       " 'https://www.halfbakedharvest.com/bad-santa-white-russian/',\n",
       " 'https://www.halfbakedharvest.com/frosted-spicy-ginger-moscow-mule/',\n",
       " 'https://www.halfbakedharvest.com/cinnamon-bourbon-fizz/',\n",
       " 'https://www.halfbakedharvest.com/chai-espresso-martini/',\n",
       " 'https://www.halfbakedharvest.com/spicy-pomegranate-ginger-paloma/',\n",
       " 'https://www.halfbakedharvest.com/spiced-maple-bourbon-fizz/',\n",
       " 'https://www.halfbakedharvest.com/the-18-most-popular-thanksgiving-drinks/',\n",
       " 'https://www.halfbakedharvest.com/pumpkin-head-punch/',\n",
       " 'https://www.halfbakedharvest.com/the-goblet-of-fire/',\n",
       " 'https://www.halfbakedharvest.com/the-grave-digger/',\n",
       " 'https://www.halfbakedharvest.com/vodka-watermelon-lemonade/',\n",
       " 'https://www.halfbakedharvest.com/basil-smash-pina-colada/',\n",
       " 'https://www.halfbakedharvest.com/the-hermione-granger-cocktail/',\n",
       " 'https://www.halfbakedharvest.com/blackberry-champagne-mule/',\n",
       " 'https://www.halfbakedharvest.com/watermelon-rose-paloma/',\n",
       " 'https://www.halfbakedharvest.com/blueberry-lemon-thyme-smash/',\n",
       " 'https://www.halfbakedharvest.com/whipped-coffee-white-russian/',\n",
       " 'https://www.halfbakedharvest.com/creamy-coconut-lime-mojito/',\n",
       " 'https://www.halfbakedharvest.com/orange-hibiscus-mai-tai/',\n",
       " 'https://www.halfbakedharvest.com/spicy-cucumber-margarita/',\n",
       " 'https://www.halfbakedharvest.com/dirty-horchata/',\n",
       " 'https://www.halfbakedharvest.com/the-santa-clause-smash/',\n",
       " 'https://www.halfbakedharvest.com/sparkling-christmas-party-punch/',\n",
       " 'https://www.halfbakedharvest.com/spicy-sweet-grinch-cocktail/',\n",
       " 'https://www.halfbakedharvest.com/cranberry-paloma/',\n",
       " 'https://www.halfbakedharvest.com/cinnamon-bourbon-old-fashioned/',\n",
       " 'https://www.halfbakedharvest.com/thanksgiving-drinks/',\n",
       " 'https://www.halfbakedharvest.com/cranberry-bourbon-sour/',\n",
       " 'https://www.halfbakedharvest.com/thanksgiving-sangria/',\n",
       " 'https://www.halfbakedharvest.com/smoky-harvest-apple-cider-margaritas/',\n",
       " 'https://www.halfbakedharvest.com/sleepy-hollow-cocktail/',\n",
       " 'https://www.halfbakedharvest.com/golden-snitch-cocktail/',\n",
       " 'https://www.halfbakedharvest.com/fig-dark-and-stormy/',\n",
       " 'https://www.halfbakedharvest.com/frozen-mango-mojito-rita/',\n",
       " 'https://www.halfbakedharvest.com/balsamic-peach-spritz/',\n",
       " 'https://www.halfbakedharvest.com/blackberry-tequila-lemon-cooler/',\n",
       " 'https://www.halfbakedharvest.com/pineapple-moscow-mule/',\n",
       " 'https://www.halfbakedharvest.com/strawberry-hibiscus-ginger-margarita/',\n",
       " 'https://www.halfbakedharvest.com/white-tea-and-muddled-basil-mojito/',\n",
       " 'https://www.halfbakedharvest.com/winter-citrus-tequila-smash/',\n",
       " 'https://www.halfbakedharvest.com/holly-jolly-christmas-citrus-cocktail/',\n",
       " 'https://www.halfbakedharvest.com/holiday-pear-sangria/',\n",
       " 'https://www.halfbakedharvest.com/christmas-snowstorm-margarita/',\n",
       " 'https://www.halfbakedharvest.com/gingerbread-white-russian/',\n",
       " 'https://www.halfbakedharvest.com/vanilla-chai-old-fashioned/',\n",
       " 'https://www.halfbakedharvest.com/spiced-cranberry-rose-spritzers/',\n",
       " 'https://www.halfbakedharvest.com/harvest-apple-ginger-spritz/',\n",
       " 'https://www.halfbakedharvest.com/pumpkin-patch-punch/',\n",
       " 'https://www.halfbakedharvest.com/the-black-widow-smash/',\n",
       " 'https://www.halfbakedharvest.com/the-half-blood-prince-cocktail/',\n",
       " 'https://www.halfbakedharvest.com/poison-apple-martini/',\n",
       " 'https://www.halfbakedharvest.com/fig-bourbon-cider-smash/',\n",
       " 'https://www.halfbakedharvest.com/watermelon-paloma/',\n",
       " 'https://www.halfbakedharvest.com/blackberry-thyme-margarita/',\n",
       " 'https://www.halfbakedharvest.com/sweet-bourbon-peach-lemonade/',\n",
       " 'https://www.halfbakedharvest.com/smashed-berry-rose-spritz/',\n",
       " 'https://www.halfbakedharvest.com/hibiscus-cherry-vodka-spritz/',\n",
       " 'https://www.halfbakedharvest.com/frozen-brunch-punch/']"
      ]
     },
     "execution_count": 3,
     "metadata": {},
     "output_type": "execute_result"
    }
   ],
   "source": [
    "all_recipes_url"
   ]
  },
  {
   "cell_type": "code",
   "execution_count": 4,
   "id": "a5357845",
   "metadata": {},
   "outputs": [
    {
     "data": {
      "text/plain": [
       "47"
      ]
     },
     "execution_count": 4,
     "metadata": {},
     "output_type": "execute_result"
    }
   ],
   "source": [
    "\n",
    "# Read the URLs from the text file\n",
    "with open('failed_urls.txt', 'r') as file:\n",
    "    failed_url = file.readlines()\n",
    "\n",
    "# Strip newline characters from each URL\n",
    "failed_url = [url.strip() for url in failed_url]\n",
    "\n",
    "len(failed_url)"
   ]
  },
  {
   "cell_type": "code",
   "execution_count": 5,
   "id": "a8a66fb7",
   "metadata": {
    "scrolled": true
   },
   "outputs": [
    {
     "data": {
      "text/plain": [
       "['https://www.halfbakedharvest.com/frozen-watermelon-spritz/',\n",
       " 'https://www.halfbakedharvest.com/hocus-pocus-old-fashioned/',\n",
       " 'https://www.halfbakedharvest.com/pomegranate-punch/',\n",
       " 'https://www.halfbakedharvest.com/the-20-most-popular-fall-drinks/',\n",
       " 'https://www.halfbakedharvest.com/frosted-mistletoe-margarita/',\n",
       " 'https://www.halfbakedharvest.com/spiced-cranberry-punch/',\n",
       " 'https://www.halfbakedharvest.com/the-14-most-popular-thanksgiving-drinks/',\n",
       " 'https://www.halfbakedharvest.com/voldemorts-dark-serum/',\n",
       " 'https://www.halfbakedharvest.com/frostys-frosted-moscow-mule/',\n",
       " 'https://www.halfbakedharvest.com/cranberry-thyme-spritz/',\n",
       " 'https://www.halfbakedharvest.com/vampires-drip-cocktail/',\n",
       " 'https://www.halfbakedharvest.com/the-deathly-hallows-cocktail/',\n",
       " 'https://www.halfbakedharvest.com/fig-honey-thyme-prosecco-smash/',\n",
       " 'https://www.halfbakedharvest.com/blood-orange-champagne-mule/',\n",
       " 'https://www.halfbakedharvest.com/christmas-ale-sangria/',\n",
       " 'https://www.halfbakedharvest.com/north-pole-cocktail/',\n",
       " 'https://www.halfbakedharvest.com/blackberry-bourbon-smash/',\n",
       " 'https://www.halfbakedharvest.com/pumpkin-butterbeer-hot-chocolate-video/',\n",
       " 'https://www.halfbakedharvest.com/holiday-storm-cocktail/',\n",
       " 'https://www.halfbakedharvest.com/spiced-cranberry-thyme-moscow-mule/',\n",
       " 'https://www.halfbakedharvest.com/spiced-maple-bourbon-fizz/',\n",
       " 'https://www.halfbakedharvest.com/the-goblet-of-fire/',\n",
       " 'https://www.halfbakedharvest.com/the-grave-digger/',\n",
       " 'https://www.halfbakedharvest.com/vodka-watermelon-lemonade/',\n",
       " 'https://www.halfbakedharvest.com/basil-smash-pina-colada/',\n",
       " 'https://www.halfbakedharvest.com/blackberry-champagne-mule/',\n",
       " 'https://www.halfbakedharvest.com/watermelon-rose-paloma/',\n",
       " 'https://www.halfbakedharvest.com/creamy-coconut-lime-mojito/',\n",
       " 'https://www.halfbakedharvest.com/spicy-cucumber-margarita/',\n",
       " 'https://www.halfbakedharvest.com/dirty-horchata/',\n",
       " 'https://www.halfbakedharvest.com/spicy-sweet-grinch-cocktail/',\n",
       " 'https://www.halfbakedharvest.com/thanksgiving-drinks/',\n",
       " 'https://www.halfbakedharvest.com/smoky-harvest-apple-cider-margaritas/',\n",
       " 'https://www.halfbakedharvest.com/fig-dark-and-stormy/',\n",
       " 'https://www.halfbakedharvest.com/frozen-mango-mojito-rita/',\n",
       " 'https://www.halfbakedharvest.com/blackberry-tequila-lemon-cooler/',\n",
       " 'https://www.halfbakedharvest.com/pineapple-moscow-mule/',\n",
       " 'https://www.halfbakedharvest.com/white-tea-and-muddled-basil-mojito/',\n",
       " 'https://www.halfbakedharvest.com/holly-jolly-christmas-citrus-cocktail/',\n",
       " 'https://www.halfbakedharvest.com/holiday-pear-sangria/',\n",
       " 'https://www.halfbakedharvest.com/vanilla-chai-old-fashioned/',\n",
       " 'https://www.halfbakedharvest.com/spiced-cranberry-rose-spritzers/',\n",
       " 'https://www.halfbakedharvest.com/pumpkin-patch-punch/',\n",
       " 'https://www.halfbakedharvest.com/the-black-widow-smash/',\n",
       " 'https://www.halfbakedharvest.com/poison-apple-martini/',\n",
       " 'https://www.halfbakedharvest.com/smashed-berry-rose-spritz/',\n",
       " 'https://www.halfbakedharvest.com/frozen-brunch-punch/']"
      ]
     },
     "execution_count": 5,
     "metadata": {},
     "output_type": "execute_result"
    }
   ],
   "source": [
    "failed_url"
   ]
  },
  {
   "cell_type": "code",
   "execution_count": null,
   "id": "05734891",
   "metadata": {},
   "outputs": [],
   "source": []
  },
  {
   "cell_type": "markdown",
   "id": "1607b7d2",
   "metadata": {},
   "source": [
    "# Extract Information of all recipes"
   ]
  },
  {
   "cell_type": "code",
   "execution_count": 6,
   "id": "fb1dc3f6",
   "metadata": {},
   "outputs": [],
   "source": [
    "new_failed_url = []"
   ]
  },
  {
   "cell_type": "code",
   "execution_count": 7,
   "id": "5230da34",
   "metadata": {},
   "outputs": [],
   "source": [
    "# Empty Dataframe\n",
    "columns = [\n",
    "    'title',\n",
    "    'prep_time',\n",
    "    'cook_time',\n",
    "    'total_time',\n",
    "    'ingredients',\n",
    "    'ingredients with measurement',\n",
    "    'instructions',\n",
    "    'calories',\n",
    "    'servings',\n",
    "    'images'\n",
    "]"
   ]
  },
  {
   "cell_type": "code",
   "execution_count": 8,
   "id": "0aedaaab",
   "metadata": {},
   "outputs": [
    {
     "data": {
      "text/html": [
       "<div>\n",
       "<style scoped>\n",
       "    .dataframe tbody tr th:only-of-type {\n",
       "        vertical-align: middle;\n",
       "    }\n",
       "\n",
       "    .dataframe tbody tr th {\n",
       "        vertical-align: top;\n",
       "    }\n",
       "\n",
       "    .dataframe thead th {\n",
       "        text-align: right;\n",
       "    }\n",
       "</style>\n",
       "<table border=\"1\" class=\"dataframe\">\n",
       "  <thead>\n",
       "    <tr style=\"text-align: right;\">\n",
       "      <th></th>\n",
       "      <th>title</th>\n",
       "      <th>prep_time</th>\n",
       "      <th>cook_time</th>\n",
       "      <th>total_time</th>\n",
       "      <th>ingredients</th>\n",
       "      <th>ingredients with measurement</th>\n",
       "      <th>instructions</th>\n",
       "      <th>calories</th>\n",
       "      <th>servings</th>\n",
       "      <th>images</th>\n",
       "    </tr>\n",
       "  </thead>\n",
       "  <tbody>\n",
       "  </tbody>\n",
       "</table>\n",
       "</div>"
      ],
      "text/plain": [
       "Empty DataFrame\n",
       "Columns: [title, prep_time, cook_time, total_time, ingredients, ingredients with measurement, instructions, calories, servings, images]\n",
       "Index: []"
      ]
     },
     "execution_count": 8,
     "metadata": {},
     "output_type": "execute_result"
    }
   ],
   "source": [
    "final = pd.DataFrame(columns=columns)\n",
    "final"
   ]
  },
  {
   "cell_type": "markdown",
   "id": "203deee8",
   "metadata": {},
   "source": [
    "# Extract Function"
   ]
  },
  {
   "cell_type": "code",
   "execution_count": 9,
   "id": "5fc26b8c",
   "metadata": {},
   "outputs": [],
   "source": [
    "def extract(soup):\n",
    "    try:\n",
    "        # TITLE\n",
    "        h2_tag = soup.find('h2', class_='wprm-recipe-name')  # Replaced temp_soup with soup\n",
    "        if h2_tag:\n",
    "            title.append(h2_tag.text.strip())\n",
    "        else:\n",
    "            title.append('-')\n",
    "\n",
    "        # PREP TIME\n",
    "        prep_time_elem = soup.find(class_='wprm-recipe-prep-time-container')  # Replaced temp_soup with soup\n",
    "        if prep_time_elem:\n",
    "            time_dict = {}\n",
    "            hours_tag = prep_time_elem.find('span', class_='wprm-recipe-prep_time-hours')\n",
    "            minutes_tag = prep_time_elem.find('span', class_='wprm-recipe-prep_time-minutes')\n",
    "\n",
    "            if hours_tag:\n",
    "                hours_text = hours_tag.text.strip() if hours_tag else None\n",
    "                hours_value = re.sub(r'\\D', '', hours_text) if hours_text else None\n",
    "                time_dict['hours'] = hours_value\n",
    "            if minutes_tag:\n",
    "                minutes_text = minutes_tag.text.strip() if minutes_tag else None\n",
    "                minutes_value = re.sub(r'\\D', '', minutes_text) if minutes_text else None\n",
    "                time_dict['minutes'] = minutes_value\n",
    "            prep_time.append(time_dict) \n",
    "        else:\n",
    "            prep_time.append('-')\n",
    "\n",
    "        # COOK TIME\n",
    "        cook_time_elem = soup.find(class_='wprm-recipe-cook-time-container')  # Replaced temp_soup with soup\n",
    "        if cook_time_elem:\n",
    "            time_dict = {}\n",
    "            hours_tag = cook_time_elem.find('span', class_='wprm-recipe-cook_time-hours')\n",
    "            minutes_tag = cook_time_elem.find('span', class_='wprm-recipe-cook_time-minutes')\n",
    "\n",
    "            if hours_tag:\n",
    "                hours_text = hours_tag.text.strip() if hours_tag else None\n",
    "                hours_value = re.sub(r'\\D', '', hours_text) if hours_text else None\n",
    "                time_dict['hours'] = hours_value\n",
    "            if minutes_tag:\n",
    "                minutes_text = minutes_tag.text.strip() if minutes_tag else None\n",
    "                minutes_value = re.sub(r'\\D', '', minutes_text) if minutes_text else None\n",
    "                time_dict['minutes'] = minutes_value\n",
    "\n",
    "            cook_time.append(time_dict) \n",
    "        else:\n",
    "            cook_time.append('-')\n",
    "\n",
    "        # TOTAL TIME\n",
    "        total_time_elem = soup.find(class_='wprm-recipe-total-time-container')  # Replaced temp_soup with soup\n",
    "        if total_time_elem:\n",
    "            time_dict = {}\n",
    "            hours_tag = total_time_elem.find('span', class_='wprm-recipe-total_time-hours')\n",
    "            minutes_tag = total_time_elem.find('span', class_='wprm-recipe-total_time-minutes')\n",
    "\n",
    "            if hours_tag:\n",
    "                hours_text = hours_tag.text.strip() if hours_tag else None\n",
    "                hours_value = re.sub(r'\\D', '', hours_text) if hours_text else None\n",
    "                time_dict['hours'] = hours_value\n",
    "            if minutes_tag:\n",
    "                minutes_text = minutes_tag.text.strip() if minutes_tag else None\n",
    "                minutes_value = re.sub(r'\\D', '', minutes_text) if minutes_text else None\n",
    "                time_dict['minutes'] = minutes_value\n",
    "            total_time.append(time_dict) \n",
    "        else:\n",
    "            total_time.append('-')\n",
    "\n",
    "        # INGREDIENTS\n",
    "        ingr_list = soup.find_all('li', class_='wprm-recipe-ingredient')  # Replaced temp_soup with soup\n",
    "        if ingr_list:\n",
    "            ingredient_dict = {}\n",
    "            ingredients_recipe = []\n",
    "            for ingr in ingr_list:\n",
    "                ingr_amount_elem = ingr.find(class_='wprm-recipe-ingredient-amount')\n",
    "                ingr_amount = ingr_amount_elem.text.strip() if ingr_amount_elem else None\n",
    "                ingr_name_elem = ingr.find(class_='wprm-recipe-ingredient-name')\n",
    "                ingr_name = ingr_name_elem.text.strip() if ingr_name_elem else None\n",
    "                ingredient_dict[ingr_name] = ingr_amount if ingr_amount else \"seasoning\"\n",
    "                ingredients_recipe.append(ingr_name)\n",
    "            ingredients_measurment.append(ingredient_dict)\n",
    "            ingredients.append(ingredients_recipe)\n",
    "        else:\n",
    "            ingredients_measurment.append('-')\n",
    "            ingredients.append('-')\n",
    "\n",
    "        # INSTRUCTIONS\n",
    "        recipe_instr = soup.find(class_='wprm-recipe-instruction-group')  # Replaced temp_soup with soup\n",
    "        if recipe_instr:\n",
    "            recipe_steps = []\n",
    "            steps = recipe_instr.find_all(\"span\", attrs={\"class\": None})\n",
    "            for step in steps:\n",
    "                recipe_steps.append(step.text.strip())\n",
    "            instructions.append(recipe_steps)\n",
    "        else:\n",
    "            instructions.append('-')\n",
    "\n",
    "        # SERVINGS\n",
    "        serving_div = soup.find('span', class_='wprm-recipe-servings')  # Replaced temp_soup with soup\n",
    "        if serving_div:\n",
    "            servings.append(serving_div.text.strip())\n",
    "        else:\n",
    "            servings.append('-')\n",
    "\n",
    "        # CALORIES\n",
    "        calorie_div = soup.find('span',class_='wprm-recipe-nutrition-with-unit')  # Replaced temp_soup with soup\n",
    "        if calorie_div:\n",
    "            calories.append(calorie_div.text.strip())\n",
    "        else:\n",
    "            calories.append('-')\n",
    "\n",
    "        # IMAGES\n",
    "        images.append('-')\n",
    "        img_div = soup.find(class_='entry-content')\n",
    "        img_tags = img_div.find_all('img')\n",
    "        try:\n",
    "            jpg_links = [img['src'] for img in img_tags if img['src'].endswith('.jpg')]\n",
    "            if len(jpg_links) >= 2:\n",
    "                second_jpg_link = jpg_links[1]\n",
    "                images[-1] = second_jpg_link\n",
    "        except KeyError:\n",
    "            pass  # Skip if 'src' attribute doesn't exist\n",
    "        \n",
    "\n",
    "    except requests.exceptions.RequestException as e:\n",
    "        print(f\"Failed to fetch the page: {e}\")\n",
    "        new_failed_url.append(url)  # Append failed URL to list\n"
   ]
  },
  {
   "cell_type": "markdown",
   "id": "f02d31b8",
   "metadata": {},
   "source": [
    "### Recipes 0-24"
   ]
  },
  {
   "cell_type": "code",
   "execution_count": 10,
   "id": "583cee40",
   "metadata": {
    "scrolled": true
   },
   "outputs": [
    {
     "name": "stdout",
     "output_type": "stream",
     "text": [
      "Proxies loaded: ['160.86.242.23:8080', '185.195.71.218:18080', '35.220.254.137:8080']\n",
      "Proxy 160.86.242.23:8080 failed for https://www.halfbakedharvest.com/frozen-watermelon-spritz/: HTTPSConnectionPool(host='www.halfbakedharvest.com', port=443): Max retries exceeded with url: /frozen-watermelon-spritz/ (Caused by SSLError(SSLEOFError(8, 'EOF occurred in violation of protocol (_ssl.c:1129)')))\n"
     ]
    },
    {
     "data": {
      "application/javascript": [
       "\n",
       "        if (window._pyforest_update_imports_cell) { window._pyforest_update_imports_cell('import re'); }\n",
       "    "
      ],
      "text/plain": [
       "<IPython.core.display.Javascript object>"
      ]
     },
     "metadata": {},
     "output_type": "display_data"
    },
    {
     "data": {
      "application/javascript": [
       "\n",
       "        if (window._pyforest_update_imports_cell) { window._pyforest_update_imports_cell('import re'); }\n",
       "    "
      ],
      "text/plain": [
       "<IPython.core.display.Javascript object>"
      ]
     },
     "metadata": {},
     "output_type": "display_data"
    },
    {
     "data": {
      "application/javascript": [
       "\n",
       "        if (window._pyforest_update_imports_cell) { window._pyforest_update_imports_cell('import re'); }\n",
       "    "
      ],
      "text/plain": [
       "<IPython.core.display.Javascript object>"
      ]
     },
     "metadata": {},
     "output_type": "display_data"
    },
    {
     "name": "stdout",
     "output_type": "stream",
     "text": [
      "Successfully retrieved 1 - https://www.halfbakedharvest.com/hocus-pocus-old-fashioned/ with proxy 185.195.71.218:18080\n"
     ]
    },
    {
     "data": {
      "application/javascript": [
       "\n",
       "        if (window._pyforest_update_imports_cell) { window._pyforest_update_imports_cell('import re'); }\n",
       "    "
      ],
      "text/plain": [
       "<IPython.core.display.Javascript object>"
      ]
     },
     "metadata": {},
     "output_type": "display_data"
    },
    {
     "data": {
      "application/javascript": [
       "\n",
       "        if (window._pyforest_update_imports_cell) { window._pyforest_update_imports_cell('import re'); }\n",
       "    "
      ],
      "text/plain": [
       "<IPython.core.display.Javascript object>"
      ]
     },
     "metadata": {},
     "output_type": "display_data"
    },
    {
     "name": "stdout",
     "output_type": "stream",
     "text": [
      "Successfully retrieved 2 - https://www.halfbakedharvest.com/pomegranate-punch/ with proxy 35.220.254.137:8080\n",
      "Proxy 160.86.242.23:8080 failed for https://www.halfbakedharvest.com/the-20-most-popular-fall-drinks/: ('Connection aborted.', RemoteDisconnected('Remote end closed connection without response'))\n"
     ]
    },
    {
     "data": {
      "application/javascript": [
       "\n",
       "        if (window._pyforest_update_imports_cell) { window._pyforest_update_imports_cell('import re'); }\n",
       "    "
      ],
      "text/plain": [
       "<IPython.core.display.Javascript object>"
      ]
     },
     "metadata": {},
     "output_type": "display_data"
    },
    {
     "data": {
      "application/javascript": [
       "\n",
       "        if (window._pyforest_update_imports_cell) { window._pyforest_update_imports_cell('import re'); }\n",
       "    "
      ],
      "text/plain": [
       "<IPython.core.display.Javascript object>"
      ]
     },
     "metadata": {},
     "output_type": "display_data"
    },
    {
     "name": "stdout",
     "output_type": "stream",
     "text": [
      "Successfully retrieved 4 - https://www.halfbakedharvest.com/frosted-mistletoe-margarita/ with proxy 185.195.71.218:18080\n"
     ]
    },
    {
     "data": {
      "application/javascript": [
       "\n",
       "        if (window._pyforest_update_imports_cell) { window._pyforest_update_imports_cell('import re'); }\n",
       "    "
      ],
      "text/plain": [
       "<IPython.core.display.Javascript object>"
      ]
     },
     "metadata": {},
     "output_type": "display_data"
    },
    {
     "data": {
      "application/javascript": [
       "\n",
       "        if (window._pyforest_update_imports_cell) { window._pyforest_update_imports_cell('import re'); }\n",
       "    "
      ],
      "text/plain": [
       "<IPython.core.display.Javascript object>"
      ]
     },
     "metadata": {},
     "output_type": "display_data"
    },
    {
     "data": {
      "application/javascript": [
       "\n",
       "        if (window._pyforest_update_imports_cell) { window._pyforest_update_imports_cell('import re'); }\n",
       "    "
      ],
      "text/plain": [
       "<IPython.core.display.Javascript object>"
      ]
     },
     "metadata": {},
     "output_type": "display_data"
    },
    {
     "name": "stdout",
     "output_type": "stream",
     "text": [
      "Successfully retrieved 5 - https://www.halfbakedharvest.com/spiced-cranberry-punch/ with proxy 35.220.254.137:8080\n",
      "Successfully retrieved 6 - https://www.halfbakedharvest.com/the-14-most-popular-thanksgiving-drinks/ with proxy 160.86.242.23:8080\n"
     ]
    },
    {
     "data": {
      "application/javascript": [
       "\n",
       "        if (window._pyforest_update_imports_cell) { window._pyforest_update_imports_cell('import re'); }\n",
       "    "
      ],
      "text/plain": [
       "<IPython.core.display.Javascript object>"
      ]
     },
     "metadata": {},
     "output_type": "display_data"
    },
    {
     "data": {
      "application/javascript": [
       "\n",
       "        if (window._pyforest_update_imports_cell) { window._pyforest_update_imports_cell('import re'); }\n",
       "    "
      ],
      "text/plain": [
       "<IPython.core.display.Javascript object>"
      ]
     },
     "metadata": {},
     "output_type": "display_data"
    },
    {
     "name": "stdout",
     "output_type": "stream",
     "text": [
      "Successfully retrieved 7 - https://www.halfbakedharvest.com/voldemorts-dark-serum/ with proxy 185.195.71.218:18080\n"
     ]
    },
    {
     "data": {
      "application/javascript": [
       "\n",
       "        if (window._pyforest_update_imports_cell) { window._pyforest_update_imports_cell('import re'); }\n",
       "    "
      ],
      "text/plain": [
       "<IPython.core.display.Javascript object>"
      ]
     },
     "metadata": {},
     "output_type": "display_data"
    },
    {
     "data": {
      "application/javascript": [
       "\n",
       "        if (window._pyforest_update_imports_cell) { window._pyforest_update_imports_cell('import re'); }\n",
       "    "
      ],
      "text/plain": [
       "<IPython.core.display.Javascript object>"
      ]
     },
     "metadata": {},
     "output_type": "display_data"
    },
    {
     "name": "stdout",
     "output_type": "stream",
     "text": [
      "Successfully retrieved 8 - https://www.halfbakedharvest.com/frostys-frosted-moscow-mule/ with proxy 35.220.254.137:8080\n"
     ]
    },
    {
     "data": {
      "application/javascript": [
       "\n",
       "        if (window._pyforest_update_imports_cell) { window._pyforest_update_imports_cell('import re'); }\n",
       "    "
      ],
      "text/plain": [
       "<IPython.core.display.Javascript object>"
      ]
     },
     "metadata": {},
     "output_type": "display_data"
    },
    {
     "data": {
      "application/javascript": [
       "\n",
       "        if (window._pyforest_update_imports_cell) { window._pyforest_update_imports_cell('import re'); }\n",
       "    "
      ],
      "text/plain": [
       "<IPython.core.display.Javascript object>"
      ]
     },
     "metadata": {},
     "output_type": "display_data"
    },
    {
     "data": {
      "application/javascript": [
       "\n",
       "        if (window._pyforest_update_imports_cell) { window._pyforest_update_imports_cell('import re'); }\n",
       "    "
      ],
      "text/plain": [
       "<IPython.core.display.Javascript object>"
      ]
     },
     "metadata": {},
     "output_type": "display_data"
    },
    {
     "name": "stdout",
     "output_type": "stream",
     "text": [
      "Successfully retrieved 9 - https://www.halfbakedharvest.com/cranberry-thyme-spritz/ with proxy 160.86.242.23:8080\n"
     ]
    },
    {
     "data": {
      "application/javascript": [
       "\n",
       "        if (window._pyforest_update_imports_cell) { window._pyforest_update_imports_cell('import re'); }\n",
       "    "
      ],
      "text/plain": [
       "<IPython.core.display.Javascript object>"
      ]
     },
     "metadata": {},
     "output_type": "display_data"
    },
    {
     "data": {
      "application/javascript": [
       "\n",
       "        if (window._pyforest_update_imports_cell) { window._pyforest_update_imports_cell('import re'); }\n",
       "    "
      ],
      "text/plain": [
       "<IPython.core.display.Javascript object>"
      ]
     },
     "metadata": {},
     "output_type": "display_data"
    },
    {
     "data": {
      "application/javascript": [
       "\n",
       "        if (window._pyforest_update_imports_cell) { window._pyforest_update_imports_cell('import re'); }\n",
       "    "
      ],
      "text/plain": [
       "<IPython.core.display.Javascript object>"
      ]
     },
     "metadata": {},
     "output_type": "display_data"
    },
    {
     "name": "stdout",
     "output_type": "stream",
     "text": [
      "Successfully retrieved 10 - https://www.halfbakedharvest.com/vampires-drip-cocktail/ with proxy 185.195.71.218:18080\n"
     ]
    },
    {
     "data": {
      "application/javascript": [
       "\n",
       "        if (window._pyforest_update_imports_cell) { window._pyforest_update_imports_cell('import re'); }\n",
       "    "
      ],
      "text/plain": [
       "<IPython.core.display.Javascript object>"
      ]
     },
     "metadata": {},
     "output_type": "display_data"
    },
    {
     "data": {
      "application/javascript": [
       "\n",
       "        if (window._pyforest_update_imports_cell) { window._pyforest_update_imports_cell('import re'); }\n",
       "    "
      ],
      "text/plain": [
       "<IPython.core.display.Javascript object>"
      ]
     },
     "metadata": {},
     "output_type": "display_data"
    },
    {
     "name": "stdout",
     "output_type": "stream",
     "text": [
      "Successfully retrieved 11 - https://www.halfbakedharvest.com/the-deathly-hallows-cocktail/ with proxy 35.220.254.137:8080\n",
      "ChunkedEncodingError occurred for proxy 160.86.242.23:8080 and https://www.halfbakedharvest.com/fig-honey-thyme-prosecco-smash/: ('Connection broken: IncompleteRead(1886 bytes read, 8354 more expected)', IncompleteRead(1886 bytes read, 8354 more expected))\n"
     ]
    },
    {
     "data": {
      "application/javascript": [
       "\n",
       "        if (window._pyforest_update_imports_cell) { window._pyforest_update_imports_cell('import re'); }\n",
       "    "
      ],
      "text/plain": [
       "<IPython.core.display.Javascript object>"
      ]
     },
     "metadata": {},
     "output_type": "display_data"
    },
    {
     "data": {
      "application/javascript": [
       "\n",
       "        if (window._pyforest_update_imports_cell) { window._pyforest_update_imports_cell('import re'); }\n",
       "    "
      ],
      "text/plain": [
       "<IPython.core.display.Javascript object>"
      ]
     },
     "metadata": {},
     "output_type": "display_data"
    },
    {
     "name": "stdout",
     "output_type": "stream",
     "text": [
      "Successfully retrieved 13 - https://www.halfbakedharvest.com/blood-orange-champagne-mule/ with proxy 185.195.71.218:18080\n"
     ]
    },
    {
     "data": {
      "application/javascript": [
       "\n",
       "        if (window._pyforest_update_imports_cell) { window._pyforest_update_imports_cell('import re'); }\n",
       "    "
      ],
      "text/plain": [
       "<IPython.core.display.Javascript object>"
      ]
     },
     "metadata": {},
     "output_type": "display_data"
    },
    {
     "data": {
      "application/javascript": [
       "\n",
       "        if (window._pyforest_update_imports_cell) { window._pyforest_update_imports_cell('import re'); }\n",
       "    "
      ],
      "text/plain": [
       "<IPython.core.display.Javascript object>"
      ]
     },
     "metadata": {},
     "output_type": "display_data"
    },
    {
     "name": "stdout",
     "output_type": "stream",
     "text": [
      "Successfully retrieved 14 - https://www.halfbakedharvest.com/christmas-ale-sangria/ with proxy 35.220.254.137:8080\n",
      "ChunkedEncodingError occurred for proxy 160.86.242.23:8080 and https://www.halfbakedharvest.com/north-pole-cocktail/: ('Connection broken: IncompleteRead(2153 bytes read, 8087 more expected)', IncompleteRead(2153 bytes read, 8087 more expected))\n",
      "Proxy 185.195.71.218:18080 failed for https://www.halfbakedharvest.com/blackberry-bourbon-smash/: HTTPSConnectionPool(host='www.halfbakedharvest.com', port=443): Max retries exceeded with url: /blackberry-bourbon-smash/ (Caused by ProxyError('Unable to connect to proxy', OSError('Tunnel connection failed: 503 Service Unavailable')))\n"
     ]
    },
    {
     "data": {
      "application/javascript": [
       "\n",
       "        if (window._pyforest_update_imports_cell) { window._pyforest_update_imports_cell('import re'); }\n",
       "    "
      ],
      "text/plain": [
       "<IPython.core.display.Javascript object>"
      ]
     },
     "metadata": {},
     "output_type": "display_data"
    },
    {
     "data": {
      "application/javascript": [
       "\n",
       "        if (window._pyforest_update_imports_cell) { window._pyforest_update_imports_cell('import re'); }\n",
       "    "
      ],
      "text/plain": [
       "<IPython.core.display.Javascript object>"
      ]
     },
     "metadata": {},
     "output_type": "display_data"
    },
    {
     "data": {
      "application/javascript": [
       "\n",
       "        if (window._pyforest_update_imports_cell) { window._pyforest_update_imports_cell('import re'); }\n",
       "    "
      ],
      "text/plain": [
       "<IPython.core.display.Javascript object>"
      ]
     },
     "metadata": {},
     "output_type": "display_data"
    },
    {
     "name": "stdout",
     "output_type": "stream",
     "text": [
      "Successfully retrieved 17 - https://www.halfbakedharvest.com/pumpkin-butterbeer-hot-chocolate-video/ with proxy 35.220.254.137:8080\n"
     ]
    },
    {
     "data": {
      "application/javascript": [
       "\n",
       "        if (window._pyforest_update_imports_cell) { window._pyforest_update_imports_cell('import re'); }\n",
       "    "
      ],
      "text/plain": [
       "<IPython.core.display.Javascript object>"
      ]
     },
     "metadata": {},
     "output_type": "display_data"
    },
    {
     "data": {
      "application/javascript": [
       "\n",
       "        if (window._pyforest_update_imports_cell) { window._pyforest_update_imports_cell('import re'); }\n",
       "    "
      ],
      "text/plain": [
       "<IPython.core.display.Javascript object>"
      ]
     },
     "metadata": {},
     "output_type": "display_data"
    },
    {
     "data": {
      "application/javascript": [
       "\n",
       "        if (window._pyforest_update_imports_cell) { window._pyforest_update_imports_cell('import re'); }\n",
       "    "
      ],
      "text/plain": [
       "<IPython.core.display.Javascript object>"
      ]
     },
     "metadata": {},
     "output_type": "display_data"
    },
    {
     "name": "stdout",
     "output_type": "stream",
     "text": [
      "Successfully retrieved 18 - https://www.halfbakedharvest.com/holiday-storm-cocktail/ with proxy 160.86.242.23:8080\n",
      "Proxy 185.195.71.218:18080 failed for https://www.halfbakedharvest.com/spiced-cranberry-thyme-moscow-mule/: HTTPSConnectionPool(host='www.halfbakedharvest.com', port=443): Max retries exceeded with url: /spiced-cranberry-thyme-moscow-mule/ (Caused by ProxyError('Unable to connect to proxy', OSError('Tunnel connection failed: 503 Service Unavailable')))\n"
     ]
    },
    {
     "data": {
      "application/javascript": [
       "\n",
       "        if (window._pyforest_update_imports_cell) { window._pyforest_update_imports_cell('import re'); }\n",
       "    "
      ],
      "text/plain": [
       "<IPython.core.display.Javascript object>"
      ]
     },
     "metadata": {},
     "output_type": "display_data"
    },
    {
     "data": {
      "application/javascript": [
       "\n",
       "        if (window._pyforest_update_imports_cell) { window._pyforest_update_imports_cell('import re'); }\n",
       "    "
      ],
      "text/plain": [
       "<IPython.core.display.Javascript object>"
      ]
     },
     "metadata": {},
     "output_type": "display_data"
    },
    {
     "data": {
      "application/javascript": [
       "\n",
       "        if (window._pyforest_update_imports_cell) { window._pyforest_update_imports_cell('import re'); }\n",
       "    "
      ],
      "text/plain": [
       "<IPython.core.display.Javascript object>"
      ]
     },
     "metadata": {},
     "output_type": "display_data"
    },
    {
     "name": "stdout",
     "output_type": "stream",
     "text": [
      "Successfully retrieved 20 - https://www.halfbakedharvest.com/spiced-maple-bourbon-fizz/ with proxy 35.220.254.137:8080\n",
      "ChunkedEncodingError occurred for proxy 160.86.242.23:8080 and https://www.halfbakedharvest.com/the-goblet-of-fire/: ('Connection broken: IncompleteRead(2153 bytes read, 8087 more expected)', IncompleteRead(2153 bytes read, 8087 more expected))\n"
     ]
    },
    {
     "data": {
      "application/javascript": [
       "\n",
       "        if (window._pyforest_update_imports_cell) { window._pyforest_update_imports_cell('import re'); }\n",
       "    "
      ],
      "text/plain": [
       "<IPython.core.display.Javascript object>"
      ]
     },
     "metadata": {},
     "output_type": "display_data"
    },
    {
     "data": {
      "application/javascript": [
       "\n",
       "        if (window._pyforest_update_imports_cell) { window._pyforest_update_imports_cell('import re'); }\n",
       "    "
      ],
      "text/plain": [
       "<IPython.core.display.Javascript object>"
      ]
     },
     "metadata": {},
     "output_type": "display_data"
    },
    {
     "name": "stdout",
     "output_type": "stream",
     "text": [
      "Successfully retrieved 22 - https://www.halfbakedharvest.com/the-grave-digger/ with proxy 185.195.71.218:18080\n"
     ]
    },
    {
     "data": {
      "application/javascript": [
       "\n",
       "        if (window._pyforest_update_imports_cell) { window._pyforest_update_imports_cell('import re'); }\n",
       "    "
      ],
      "text/plain": [
       "<IPython.core.display.Javascript object>"
      ]
     },
     "metadata": {},
     "output_type": "display_data"
    },
    {
     "data": {
      "application/javascript": [
       "\n",
       "        if (window._pyforest_update_imports_cell) { window._pyforest_update_imports_cell('import re'); }\n",
       "    "
      ],
      "text/plain": [
       "<IPython.core.display.Javascript object>"
      ]
     },
     "metadata": {},
     "output_type": "display_data"
    },
    {
     "data": {
      "application/javascript": [
       "\n",
       "        if (window._pyforest_update_imports_cell) { window._pyforest_update_imports_cell('import re'); }\n",
       "    "
      ],
      "text/plain": [
       "<IPython.core.display.Javascript object>"
      ]
     },
     "metadata": {},
     "output_type": "display_data"
    },
    {
     "name": "stdout",
     "output_type": "stream",
     "text": [
      "Successfully retrieved 23 - https://www.halfbakedharvest.com/vodka-watermelon-lemonade/ with proxy 35.220.254.137:8080\n",
      "ChunkedEncodingError occurred for proxy 160.86.242.23:8080 and https://www.halfbakedharvest.com/basil-smash-pina-colada/: ('Connection broken: IncompleteRead(2153 bytes read, 8087 more expected)', IncompleteRead(2153 bytes read, 8087 more expected))\n"
     ]
    },
    {
     "data": {
      "application/javascript": [
       "\n",
       "        if (window._pyforest_update_imports_cell) { window._pyforest_update_imports_cell('import re'); }\n",
       "    "
      ],
      "text/plain": [
       "<IPython.core.display.Javascript object>"
      ]
     },
     "metadata": {},
     "output_type": "display_data"
    },
    {
     "data": {
      "application/javascript": [
       "\n",
       "        if (window._pyforest_update_imports_cell) { window._pyforest_update_imports_cell('import re'); }\n",
       "    "
      ],
      "text/plain": [
       "<IPython.core.display.Javascript object>"
      ]
     },
     "metadata": {},
     "output_type": "display_data"
    },
    {
     "name": "stdout",
     "output_type": "stream",
     "text": [
      "Successfully retrieved 25 - https://www.halfbakedharvest.com/blackberry-champagne-mule/ with proxy 185.195.71.218:18080\n"
     ]
    },
    {
     "data": {
      "application/javascript": [
       "\n",
       "        if (window._pyforest_update_imports_cell) { window._pyforest_update_imports_cell('import re'); }\n",
       "    "
      ],
      "text/plain": [
       "<IPython.core.display.Javascript object>"
      ]
     },
     "metadata": {},
     "output_type": "display_data"
    },
    {
     "data": {
      "application/javascript": [
       "\n",
       "        if (window._pyforest_update_imports_cell) { window._pyforest_update_imports_cell('import re'); }\n",
       "    "
      ],
      "text/plain": [
       "<IPython.core.display.Javascript object>"
      ]
     },
     "metadata": {},
     "output_type": "display_data"
    },
    {
     "name": "stdout",
     "output_type": "stream",
     "text": [
      "Successfully retrieved 26 - https://www.halfbakedharvest.com/watermelon-rose-paloma/ with proxy 35.220.254.137:8080\n",
      "ChunkedEncodingError occurred for proxy 160.86.242.23:8080 and https://www.halfbakedharvest.com/creamy-coconut-lime-mojito/: ('Connection broken: IncompleteRead(1886 bytes read, 8354 more expected)', IncompleteRead(1886 bytes read, 8354 more expected))\n"
     ]
    },
    {
     "data": {
      "application/javascript": [
       "\n",
       "        if (window._pyforest_update_imports_cell) { window._pyforest_update_imports_cell('import re'); }\n",
       "    "
      ],
      "text/plain": [
       "<IPython.core.display.Javascript object>"
      ]
     },
     "metadata": {},
     "output_type": "display_data"
    },
    {
     "data": {
      "application/javascript": [
       "\n",
       "        if (window._pyforest_update_imports_cell) { window._pyforest_update_imports_cell('import re'); }\n",
       "    "
      ],
      "text/plain": [
       "<IPython.core.display.Javascript object>"
      ]
     },
     "metadata": {},
     "output_type": "display_data"
    },
    {
     "data": {
      "application/javascript": [
       "\n",
       "        if (window._pyforest_update_imports_cell) { window._pyforest_update_imports_cell('import re'); }\n",
       "    "
      ],
      "text/plain": [
       "<IPython.core.display.Javascript object>"
      ]
     },
     "metadata": {},
     "output_type": "display_data"
    },
    {
     "name": "stdout",
     "output_type": "stream",
     "text": [
      "Successfully retrieved 28 - https://www.halfbakedharvest.com/spicy-cucumber-margarita/ with proxy 185.195.71.218:18080\n"
     ]
    },
    {
     "data": {
      "application/javascript": [
       "\n",
       "        if (window._pyforest_update_imports_cell) { window._pyforest_update_imports_cell('import re'); }\n",
       "    "
      ],
      "text/plain": [
       "<IPython.core.display.Javascript object>"
      ]
     },
     "metadata": {},
     "output_type": "display_data"
    },
    {
     "data": {
      "application/javascript": [
       "\n",
       "        if (window._pyforest_update_imports_cell) { window._pyforest_update_imports_cell('import re'); }\n",
       "    "
      ],
      "text/plain": [
       "<IPython.core.display.Javascript object>"
      ]
     },
     "metadata": {},
     "output_type": "display_data"
    },
    {
     "data": {
      "application/javascript": [
       "\n",
       "        if (window._pyforest_update_imports_cell) { window._pyforest_update_imports_cell('import re'); }\n",
       "    "
      ],
      "text/plain": [
       "<IPython.core.display.Javascript object>"
      ]
     },
     "metadata": {},
     "output_type": "display_data"
    },
    {
     "name": "stdout",
     "output_type": "stream",
     "text": [
      "Successfully retrieved 29 - https://www.halfbakedharvest.com/dirty-horchata/ with proxy 35.220.254.137:8080\n",
      "ChunkedEncodingError occurred for proxy 160.86.242.23:8080 and https://www.halfbakedharvest.com/spicy-sweet-grinch-cocktail/: ('Connection broken: IncompleteRead(2153 bytes read, 8087 more expected)', IncompleteRead(2153 bytes read, 8087 more expected))\n",
      "Successfully retrieved 31 - https://www.halfbakedharvest.com/thanksgiving-drinks/ with proxy 185.195.71.218:18080\n"
     ]
    },
    {
     "data": {
      "application/javascript": [
       "\n",
       "        if (window._pyforest_update_imports_cell) { window._pyforest_update_imports_cell('import re'); }\n",
       "    "
      ],
      "text/plain": [
       "<IPython.core.display.Javascript object>"
      ]
     },
     "metadata": {},
     "output_type": "display_data"
    },
    {
     "data": {
      "application/javascript": [
       "\n",
       "        if (window._pyforest_update_imports_cell) { window._pyforest_update_imports_cell('import re'); }\n",
       "    "
      ],
      "text/plain": [
       "<IPython.core.display.Javascript object>"
      ]
     },
     "metadata": {},
     "output_type": "display_data"
    },
    {
     "name": "stdout",
     "output_type": "stream",
     "text": [
      "Successfully retrieved 32 - https://www.halfbakedharvest.com/smoky-harvest-apple-cider-margaritas/ with proxy 35.220.254.137:8080\n",
      "ChunkedEncodingError occurred for proxy 160.86.242.23:8080 and https://www.halfbakedharvest.com/fig-dark-and-stormy/: ('Connection broken: IncompleteRead(2153 bytes read, 8087 more expected)', IncompleteRead(2153 bytes read, 8087 more expected))\n"
     ]
    },
    {
     "data": {
      "application/javascript": [
       "\n",
       "        if (window._pyforest_update_imports_cell) { window._pyforest_update_imports_cell('import re'); }\n",
       "    "
      ],
      "text/plain": [
       "<IPython.core.display.Javascript object>"
      ]
     },
     "metadata": {},
     "output_type": "display_data"
    },
    {
     "data": {
      "application/javascript": [
       "\n",
       "        if (window._pyforest_update_imports_cell) { window._pyforest_update_imports_cell('import re'); }\n",
       "    "
      ],
      "text/plain": [
       "<IPython.core.display.Javascript object>"
      ]
     },
     "metadata": {},
     "output_type": "display_data"
    },
    {
     "name": "stdout",
     "output_type": "stream",
     "text": [
      "Successfully retrieved 34 - https://www.halfbakedharvest.com/frozen-mango-mojito-rita/ with proxy 185.195.71.218:18080\n"
     ]
    },
    {
     "data": {
      "application/javascript": [
       "\n",
       "        if (window._pyforest_update_imports_cell) { window._pyforest_update_imports_cell('import re'); }\n",
       "    "
      ],
      "text/plain": [
       "<IPython.core.display.Javascript object>"
      ]
     },
     "metadata": {},
     "output_type": "display_data"
    },
    {
     "data": {
      "application/javascript": [
       "\n",
       "        if (window._pyforest_update_imports_cell) { window._pyforest_update_imports_cell('import re'); }\n",
       "    "
      ],
      "text/plain": [
       "<IPython.core.display.Javascript object>"
      ]
     },
     "metadata": {},
     "output_type": "display_data"
    },
    {
     "name": "stdout",
     "output_type": "stream",
     "text": [
      "Successfully retrieved 35 - https://www.halfbakedharvest.com/blackberry-tequila-lemon-cooler/ with proxy 35.220.254.137:8080\n",
      "ChunkedEncodingError occurred for proxy 160.86.242.23:8080 and https://www.halfbakedharvest.com/pineapple-moscow-mule/: ('Connection broken: IncompleteRead(2153 bytes read, 8087 more expected)', IncompleteRead(2153 bytes read, 8087 more expected))\n",
      "Proxy 185.195.71.218:18080 failed for https://www.halfbakedharvest.com/white-tea-and-muddled-basil-mojito/: HTTPSConnectionPool(host='www.halfbakedharvest.com', port=443): Max retries exceeded with url: /white-tea-and-muddled-basil-mojito/ (Caused by ProxyError('Unable to connect to proxy', OSError('Tunnel connection failed: 503 Service Unavailable')))\n"
     ]
    },
    {
     "data": {
      "application/javascript": [
       "\n",
       "        if (window._pyforest_update_imports_cell) { window._pyforest_update_imports_cell('import re'); }\n",
       "    "
      ],
      "text/plain": [
       "<IPython.core.display.Javascript object>"
      ]
     },
     "metadata": {},
     "output_type": "display_data"
    },
    {
     "data": {
      "application/javascript": [
       "\n",
       "        if (window._pyforest_update_imports_cell) { window._pyforest_update_imports_cell('import re'); }\n",
       "    "
      ],
      "text/plain": [
       "<IPython.core.display.Javascript object>"
      ]
     },
     "metadata": {},
     "output_type": "display_data"
    },
    {
     "name": "stdout",
     "output_type": "stream",
     "text": [
      "Successfully retrieved 38 - https://www.halfbakedharvest.com/holly-jolly-christmas-citrus-cocktail/ with proxy 35.220.254.137:8080\n"
     ]
    },
    {
     "data": {
      "application/javascript": [
       "\n",
       "        if (window._pyforest_update_imports_cell) { window._pyforest_update_imports_cell('import re'); }\n",
       "    "
      ],
      "text/plain": [
       "<IPython.core.display.Javascript object>"
      ]
     },
     "metadata": {},
     "output_type": "display_data"
    },
    {
     "data": {
      "application/javascript": [
       "\n",
       "        if (window._pyforest_update_imports_cell) { window._pyforest_update_imports_cell('import re'); }\n",
       "    "
      ],
      "text/plain": [
       "<IPython.core.display.Javascript object>"
      ]
     },
     "metadata": {},
     "output_type": "display_data"
    },
    {
     "name": "stdout",
     "output_type": "stream",
     "text": [
      "Successfully retrieved 39 - https://www.halfbakedharvest.com/holiday-pear-sangria/ with proxy 160.86.242.23:8080\n"
     ]
    },
    {
     "data": {
      "application/javascript": [
       "\n",
       "        if (window._pyforest_update_imports_cell) { window._pyforest_update_imports_cell('import re'); }\n",
       "    "
      ],
      "text/plain": [
       "<IPython.core.display.Javascript object>"
      ]
     },
     "metadata": {},
     "output_type": "display_data"
    },
    {
     "data": {
      "application/javascript": [
       "\n",
       "        if (window._pyforest_update_imports_cell) { window._pyforest_update_imports_cell('import re'); }\n",
       "    "
      ],
      "text/plain": [
       "<IPython.core.display.Javascript object>"
      ]
     },
     "metadata": {},
     "output_type": "display_data"
    },
    {
     "data": {
      "application/javascript": [
       "\n",
       "        if (window._pyforest_update_imports_cell) { window._pyforest_update_imports_cell('import re'); }\n",
       "    "
      ],
      "text/plain": [
       "<IPython.core.display.Javascript object>"
      ]
     },
     "metadata": {},
     "output_type": "display_data"
    },
    {
     "name": "stdout",
     "output_type": "stream",
     "text": [
      "Successfully retrieved 40 - https://www.halfbakedharvest.com/vanilla-chai-old-fashioned/ with proxy 185.195.71.218:18080\n"
     ]
    },
    {
     "data": {
      "application/javascript": [
       "\n",
       "        if (window._pyforest_update_imports_cell) { window._pyforest_update_imports_cell('import re'); }\n",
       "    "
      ],
      "text/plain": [
       "<IPython.core.display.Javascript object>"
      ]
     },
     "metadata": {},
     "output_type": "display_data"
    },
    {
     "data": {
      "application/javascript": [
       "\n",
       "        if (window._pyforest_update_imports_cell) { window._pyforest_update_imports_cell('import re'); }\n",
       "    "
      ],
      "text/plain": [
       "<IPython.core.display.Javascript object>"
      ]
     },
     "metadata": {},
     "output_type": "display_data"
    },
    {
     "data": {
      "application/javascript": [
       "\n",
       "        if (window._pyforest_update_imports_cell) { window._pyforest_update_imports_cell('import re'); }\n",
       "    "
      ],
      "text/plain": [
       "<IPython.core.display.Javascript object>"
      ]
     },
     "metadata": {},
     "output_type": "display_data"
    },
    {
     "name": "stdout",
     "output_type": "stream",
     "text": [
      "Successfully retrieved 41 - https://www.halfbakedharvest.com/spiced-cranberry-rose-spritzers/ with proxy 35.220.254.137:8080\n"
     ]
    },
    {
     "data": {
      "application/javascript": [
       "\n",
       "        if (window._pyforest_update_imports_cell) { window._pyforest_update_imports_cell('import re'); }\n",
       "    "
      ],
      "text/plain": [
       "<IPython.core.display.Javascript object>"
      ]
     },
     "metadata": {},
     "output_type": "display_data"
    },
    {
     "data": {
      "application/javascript": [
       "\n",
       "        if (window._pyforest_update_imports_cell) { window._pyforest_update_imports_cell('import re'); }\n",
       "    "
      ],
      "text/plain": [
       "<IPython.core.display.Javascript object>"
      ]
     },
     "metadata": {},
     "output_type": "display_data"
    },
    {
     "name": "stdout",
     "output_type": "stream",
     "text": [
      "Successfully retrieved 42 - https://www.halfbakedharvest.com/pumpkin-patch-punch/ with proxy 160.86.242.23:8080\n"
     ]
    },
    {
     "data": {
      "application/javascript": [
       "\n",
       "        if (window._pyforest_update_imports_cell) { window._pyforest_update_imports_cell('import re'); }\n",
       "    "
      ],
      "text/plain": [
       "<IPython.core.display.Javascript object>"
      ]
     },
     "metadata": {},
     "output_type": "display_data"
    },
    {
     "data": {
      "application/javascript": [
       "\n",
       "        if (window._pyforest_update_imports_cell) { window._pyforest_update_imports_cell('import re'); }\n",
       "    "
      ],
      "text/plain": [
       "<IPython.core.display.Javascript object>"
      ]
     },
     "metadata": {},
     "output_type": "display_data"
    },
    {
     "name": "stdout",
     "output_type": "stream",
     "text": [
      "Successfully retrieved 43 - https://www.halfbakedharvest.com/the-black-widow-smash/ with proxy 185.195.71.218:18080\n"
     ]
    },
    {
     "data": {
      "application/javascript": [
       "\n",
       "        if (window._pyforest_update_imports_cell) { window._pyforest_update_imports_cell('import re'); }\n",
       "    "
      ],
      "text/plain": [
       "<IPython.core.display.Javascript object>"
      ]
     },
     "metadata": {},
     "output_type": "display_data"
    },
    {
     "data": {
      "application/javascript": [
       "\n",
       "        if (window._pyforest_update_imports_cell) { window._pyforest_update_imports_cell('import re'); }\n",
       "    "
      ],
      "text/plain": [
       "<IPython.core.display.Javascript object>"
      ]
     },
     "metadata": {},
     "output_type": "display_data"
    },
    {
     "name": "stdout",
     "output_type": "stream",
     "text": [
      "Successfully retrieved 44 - https://www.halfbakedharvest.com/poison-apple-martini/ with proxy 35.220.254.137:8080\n"
     ]
    },
    {
     "data": {
      "application/javascript": [
       "\n",
       "        if (window._pyforest_update_imports_cell) { window._pyforest_update_imports_cell('import re'); }\n",
       "    "
      ],
      "text/plain": [
       "<IPython.core.display.Javascript object>"
      ]
     },
     "metadata": {},
     "output_type": "display_data"
    },
    {
     "data": {
      "application/javascript": [
       "\n",
       "        if (window._pyforest_update_imports_cell) { window._pyforest_update_imports_cell('import re'); }\n",
       "    "
      ],
      "text/plain": [
       "<IPython.core.display.Javascript object>"
      ]
     },
     "metadata": {},
     "output_type": "display_data"
    },
    {
     "name": "stdout",
     "output_type": "stream",
     "text": [
      "Successfully retrieved 45 - https://www.halfbakedharvest.com/smashed-berry-rose-spritz/ with proxy 160.86.242.23:8080\n",
      "Proxy 185.195.71.218:18080 failed for https://www.halfbakedharvest.com/frozen-brunch-punch/: HTTPSConnectionPool(host='www.halfbakedharvest.com', port=443): Max retries exceeded with url: /frozen-brunch-punch/ (Caused by ProxyError('Unable to connect to proxy', OSError('Tunnel connection failed: 503 Service Unavailable')))\n"
     ]
    }
   ],
   "source": [
    "# Read proxies from the file and create a cycle iterator\n",
    "with open('proxies.txt', 'r') as f:\n",
    "    proxies = [line.strip() for line in f if line.strip()]\n",
    "\n",
    "# Check if proxies are being read correctly\n",
    "if not proxies:\n",
    "    print(\"No valid proxies found in proxies.txt\")\n",
    "else:\n",
    "    print(f\"Proxies loaded: {proxies}\")\n",
    "\n",
    "proxy_cycle = itertools.cycle(proxies)\n",
    "\n",
    "# Initialize an empty DataFrame to store results\n",
    "temp_recipes_1 = pd.DataFrame(columns=columns)\n",
    "title = []\n",
    "prep_time = []\n",
    "cook_time = []\n",
    "total_time = []\n",
    "\n",
    "ingredients_measurment = []\n",
    "ingredients = []\n",
    "instructions = []\n",
    "\n",
    "calories = []\n",
    "servings = []\n",
    "images = []\n",
    "\n",
    "# Loop over the desired number of pages\n",
    "for i in range(0, len(failed_url)):\n",
    "    proxy = next(proxy_cycle)\n",
    "\n",
    "    # Set up request with proxy\n",
    "    headers = {'User-Agent': 'Mozilla/5.0 (Windows NT 6.3; Win64; x64) AppleWebKit/537.36 (KHTML, like Gecko) Chrome/80.0.3987.162 Safari/537.36'}\n",
    "    url = failed_url[i]\n",
    "    proxy_dict = {'http': proxy, 'https': proxy}\n",
    "\n",
    "    try:\n",
    "        response = requests.get(url, headers=headers, proxies=proxy_dict, timeout=30)\n",
    "        \n",
    "        # Check if the request was successful\n",
    "        if response.status_code == 200:\n",
    "            soup = BeautifulSoup(response.content, 'html.parser')\n",
    "            extract(soup)\n",
    "            print(f\"Successfully retrieved {i} - {url} with proxy {proxy}\")\n",
    "        else:\n",
    "            new_failed_url.append(url)\n",
    "            print(f\"Failed to retrieve page {url} with proxy {proxy}. Status code: {response.status_code}\")\n",
    "    except (requests.ConnectionError, requests.Timeout) as e:\n",
    "        new_failed_url.append(url)\n",
    "        print(f\"Proxy {proxy} failed for {url}: {e}\")\n",
    "    except ChunkedEncodingError as e:  # Handle ChunkedEncodingError\n",
    "        new_failed_url.append(url)\n",
    "        print(f\"ChunkedEncodingError occurred for proxy {proxy} and {url}: {e}\")\n",
    "        continue  # Move to the next page\n",
    "\n",
    "\n",
    "\n",
    "temp_recipes_1['title'] = title\n",
    "temp_recipes_1['prep_time'] = prep_time\n",
    "temp_recipes_1['cook_time'] = cook_time\n",
    "temp_recipes_1['total_time'] = total_time\n",
    "temp_recipes_1['ingredients'] = ingredients\n",
    "temp_recipes_1['ingredients with measurement'] = ingredients_measurment\n",
    "temp_recipes_1['instructions'] = instructions\n",
    "temp_recipes_1['calories'] = calories\n",
    "temp_recipes_1['servings'] = servings\n",
    "temp_recipes_1['images']= images\n",
    "\n",
    "\n",
    "\n",
    "    "
   ]
  },
  {
   "cell_type": "code",
   "execution_count": 11,
   "id": "47437d82",
   "metadata": {},
   "outputs": [
    {
     "name": "stdout",
     "output_type": "stream",
     "text": [
      "14\n"
     ]
    }
   ],
   "source": [
    "print(len(new_failed_url))"
   ]
  },
  {
   "cell_type": "code",
   "execution_count": 12,
   "id": "17979e50",
   "metadata": {},
   "outputs": [
    {
     "data": {
      "text/plain": [
       "['https://www.halfbakedharvest.com/frozen-watermelon-spritz/',\n",
       " 'https://www.halfbakedharvest.com/the-20-most-popular-fall-drinks/',\n",
       " 'https://www.halfbakedharvest.com/fig-honey-thyme-prosecco-smash/',\n",
       " 'https://www.halfbakedharvest.com/north-pole-cocktail/',\n",
       " 'https://www.halfbakedharvest.com/blackberry-bourbon-smash/',\n",
       " 'https://www.halfbakedharvest.com/spiced-cranberry-thyme-moscow-mule/',\n",
       " 'https://www.halfbakedharvest.com/the-goblet-of-fire/',\n",
       " 'https://www.halfbakedharvest.com/basil-smash-pina-colada/',\n",
       " 'https://www.halfbakedharvest.com/creamy-coconut-lime-mojito/',\n",
       " 'https://www.halfbakedharvest.com/spicy-sweet-grinch-cocktail/',\n",
       " 'https://www.halfbakedharvest.com/fig-dark-and-stormy/',\n",
       " 'https://www.halfbakedharvest.com/pineapple-moscow-mule/',\n",
       " 'https://www.halfbakedharvest.com/white-tea-and-muddled-basil-mojito/',\n",
       " 'https://www.halfbakedharvest.com/frozen-brunch-punch/']"
      ]
     },
     "execution_count": 12,
     "metadata": {},
     "output_type": "execute_result"
    }
   ],
   "source": [
    "new_failed_url"
   ]
  },
  {
   "cell_type": "code",
   "execution_count": 13,
   "id": "8cdd5073",
   "metadata": {},
   "outputs": [
    {
     "data": {
      "text/html": [
       "<div>\n",
       "<style scoped>\n",
       "    .dataframe tbody tr th:only-of-type {\n",
       "        vertical-align: middle;\n",
       "    }\n",
       "\n",
       "    .dataframe tbody tr th {\n",
       "        vertical-align: top;\n",
       "    }\n",
       "\n",
       "    .dataframe thead th {\n",
       "        text-align: right;\n",
       "    }\n",
       "</style>\n",
       "<table border=\"1\" class=\"dataframe\">\n",
       "  <thead>\n",
       "    <tr style=\"text-align: right;\">\n",
       "      <th></th>\n",
       "      <th>title</th>\n",
       "      <th>prep_time</th>\n",
       "      <th>cook_time</th>\n",
       "      <th>total_time</th>\n",
       "      <th>ingredients</th>\n",
       "      <th>ingredients with measurement</th>\n",
       "      <th>instructions</th>\n",
       "      <th>calories</th>\n",
       "      <th>servings</th>\n",
       "      <th>images</th>\n",
       "    </tr>\n",
       "  </thead>\n",
       "  <tbody>\n",
       "    <tr>\n",
       "      <th>0</th>\n",
       "      <td>Hocus Pocus Old Fashioned</td>\n",
       "      <td>{'minutes': '10'}</td>\n",
       "      <td>{'minutes': '5'}</td>\n",
       "      <td>{'minutes': '15'}</td>\n",
       "      <td>[honey, fresh rosemary, cinnamon sticks, star ...</td>\n",
       "      <td>{'honey': '1/2', 'fresh rosemary': '2', 'cinna...</td>\n",
       "      <td>[1. To make the spiced honey syrup. In a mediu...</td>\n",
       "      <td>246 kcal</td>\n",
       "      <td>1</td>\n",
       "      <td>https://www.halfbakedharvest.com/wp-content/up...</td>\n",
       "    </tr>\n",
       "    <tr>\n",
       "      <th>1</th>\n",
       "      <td>Enchanted Graveyard Pomegranate Punch</td>\n",
       "      <td>{'minutes': '10'}</td>\n",
       "      <td>-</td>\n",
       "      <td>{'minutes': '10'}</td>\n",
       "      <td>[pomegranate juice, vodka, spiced apple butter...</td>\n",
       "      <td>{'pomegranate juice': '8', 'vodka': '1', 'spic...</td>\n",
       "      <td>[1. In a large pitcher, combine the pomegranat...</td>\n",
       "      <td>338 kcal</td>\n",
       "      <td>8</td>\n",
       "      <td>https://www.halfbakedharvest.com/wp-content/up...</td>\n",
       "    </tr>\n",
       "    <tr>\n",
       "      <th>2</th>\n",
       "      <td>Frosted Mistletoe Margarita Punch</td>\n",
       "      <td>{'minutes': '10'}</td>\n",
       "      <td>-</td>\n",
       "      <td>{'minutes': '10'}</td>\n",
       "      <td>[granulated sugar, kosher salt, silver tequila...</td>\n",
       "      <td>{'granulated sugar': '3', 'kosher salt': '2', ...</td>\n",
       "      <td>[1. Combine the sugar and salt on a shallow pl...</td>\n",
       "      <td>207 kcal</td>\n",
       "      <td>8</td>\n",
       "      <td>https://www.halfbakedharvest.com/wp-content/up...</td>\n",
       "    </tr>\n",
       "    <tr>\n",
       "      <th>3</th>\n",
       "      <td>Spiced Cranberry Punch</td>\n",
       "      <td>{'minutes': '10'}</td>\n",
       "      <td>{'minutes': '5'}</td>\n",
       "      <td>{'minutes': '15'}</td>\n",
       "      <td>[fresh cranberries, honey or maple syrup, usin...</td>\n",
       "      <td>{'fresh cranberries': '2', 'honey or maple syr...</td>\n",
       "      <td>[1. In a pot, bring 1/2 cup water, the cranber...</td>\n",
       "      <td>296 kcal</td>\n",
       "      <td>8</td>\n",
       "      <td>https://www.halfbakedharvest.com/wp-content/up...</td>\n",
       "    </tr>\n",
       "    <tr>\n",
       "      <th>4</th>\n",
       "      <td>-</td>\n",
       "      <td>-</td>\n",
       "      <td>-</td>\n",
       "      <td>-</td>\n",
       "      <td>-</td>\n",
       "      <td>-</td>\n",
       "      <td>-</td>\n",
       "      <td>-</td>\n",
       "      <td>-</td>\n",
       "      <td>https://www.halfbakedharvest.com/wp-content/up...</td>\n",
       "    </tr>\n",
       "    <tr>\n",
       "      <th>5</th>\n",
       "      <td>Voldemort’s Dark Serum</td>\n",
       "      <td>{'minutes': '5'}</td>\n",
       "      <td>-</td>\n",
       "      <td>{'minutes': '5'}</td>\n",
       "      <td>[pomegranate juice, silver tequila or Mezcal, ...</td>\n",
       "      <td>{'pomegranate juice': '1', 'silver tequila or ...</td>\n",
       "      <td>[1. Combine the pomegranate juice, tequila, Ch...</td>\n",
       "      <td>448 kcal</td>\n",
       "      <td>1</td>\n",
       "      <td>https://www.halfbakedharvest.com/wp-content/up...</td>\n",
       "    </tr>\n",
       "    <tr>\n",
       "      <th>6</th>\n",
       "      <td>Frosty's Frosted Moscow Mule</td>\n",
       "      <td>{'minutes': '5'}</td>\n",
       "      <td>-</td>\n",
       "      <td>{'minutes': '5'}</td>\n",
       "      <td>[vodka, juice from 1/2 lime juice, fresh grape...</td>\n",
       "      <td>{'vodka': '2', 'juice from 1/2 lime juice': 's...</td>\n",
       "      <td>[1. Fill a cocktail glass with ice. Add the vo...</td>\n",
       "      <td>449 kcal</td>\n",
       "      <td>1</td>\n",
       "      <td>https://www.halfbakedharvest.com/wp-content/up...</td>\n",
       "    </tr>\n",
       "    <tr>\n",
       "      <th>7</th>\n",
       "      <td>Cranberry Thyme Spritz</td>\n",
       "      <td>{'minutes': '10'}</td>\n",
       "      <td>{'minutes': '10'}</td>\n",
       "      <td>{'minutes': '20'}</td>\n",
       "      <td>[honey, fresh cranberries, fresh thyme, fresh ...</td>\n",
       "      <td>{'honey': '1/2', 'fresh cranberries': '2', 'fr...</td>\n",
       "      <td>[1. In a medium pot, bring 1/2 cup water, the ...</td>\n",
       "      <td>252 kcal</td>\n",
       "      <td>8</td>\n",
       "      <td>https://www.halfbakedharvest.com/wp-content/up...</td>\n",
       "    </tr>\n",
       "    <tr>\n",
       "      <th>8</th>\n",
       "      <td>Vampire's Drip Cocktail</td>\n",
       "      <td>{'minutes': '10'}</td>\n",
       "      <td>{'minutes': '10'}</td>\n",
       "      <td>{'minutes': '20'}</td>\n",
       "      <td>[granulated sugar, pomegranate juice, white ru...</td>\n",
       "      <td>{'granulated sugar': '1/2', 'pomegranate juice...</td>\n",
       "      <td>[1. Bring the sugar and pomegranate juice to a...</td>\n",
       "      <td>348 kcal</td>\n",
       "      <td>2</td>\n",
       "      <td>https://www.halfbakedharvest.com/wp-content/up...</td>\n",
       "    </tr>\n",
       "    <tr>\n",
       "      <th>9</th>\n",
       "      <td>The Deathly Hallows Cocktail</td>\n",
       "      <td>{'minutes': '5'}</td>\n",
       "      <td>-</td>\n",
       "      <td>{'minutes': '5'}</td>\n",
       "      <td>[silver tequila or Mezcal, cranberry or pomegr...</td>\n",
       "      <td>{'silver tequila or Mezcal': '1 1/2', 'cranber...</td>\n",
       "      <td>[1. Combine all the ingredients in a cocktail ...</td>\n",
       "      <td>354 kcal</td>\n",
       "      <td>1</td>\n",
       "      <td>https://www.halfbakedharvest.com/wp-content/up...</td>\n",
       "    </tr>\n",
       "    <tr>\n",
       "      <th>10</th>\n",
       "      <td>Blood Orange Champagne Mule.</td>\n",
       "      <td>{'minutes': '5'}</td>\n",
       "      <td>-</td>\n",
       "      <td>{'minutes': '5'}</td>\n",
       "      <td>[juice of 1/2 a medium blood orange, juice of ...</td>\n",
       "      <td>{'juice of 1/2 a medium blood orange': 'season...</td>\n",
       "      <td>[]</td>\n",
       "      <td>717 kcal</td>\n",
       "      <td>1</td>\n",
       "      <td>https://www.halfbakedharvest.com/wp-content/up...</td>\n",
       "    </tr>\n",
       "    <tr>\n",
       "      <th>11</th>\n",
       "      <td>Christmas Ale Sangria.</td>\n",
       "      <td>{'minutes': '10'}</td>\n",
       "      <td>-</td>\n",
       "      <td>{'minutes': '10'}</td>\n",
       "      <td>[apple cider, vodka, dashes orange bitters, pe...</td>\n",
       "      <td>{'apple cider': '1 1/2', 'vodka': '1/2', 'dash...</td>\n",
       "      <td>[]</td>\n",
       "      <td>331 kcal</td>\n",
       "      <td>8</td>\n",
       "      <td>https://www.halfbakedharvest.com/wp-content/up...</td>\n",
       "    </tr>\n",
       "    <tr>\n",
       "      <th>12</th>\n",
       "      <td>Pumpkin Butterbeer Hot Chocolate.</td>\n",
       "      <td>{'minutes': '5'}</td>\n",
       "      <td>{'minutes': '10'}</td>\n",
       "      <td>{'minutes': '15'}</td>\n",
       "      <td>[whole milk, cocoa powder, ground cinnamon, mi...</td>\n",
       "      <td>{'whole milk': '4 1/2', 'cocoa powder': '1/4',...</td>\n",
       "      <td>[]</td>\n",
       "      <td>1319 kcal</td>\n",
       "      <td>3</td>\n",
       "      <td>https://www.halfbakedharvest.com/wp-content/up...</td>\n",
       "    </tr>\n",
       "    <tr>\n",
       "      <th>13</th>\n",
       "      <td>Spicy Sweet Holiday Storm Cocktail</td>\n",
       "      <td>{'minutes': '5'}</td>\n",
       "      <td>{'minutes': '5'}</td>\n",
       "      <td>{'minutes': '10'}</td>\n",
       "      <td>[honey, jalapeños, sliced, fresh ginger, cranb...</td>\n",
       "      <td>{'honey': '1/2', 'jalapeños, sliced': '1-2', '...</td>\n",
       "      <td>[1. To make the jalapeño honey syrup. In a pot...</td>\n",
       "      <td>379 kcal</td>\n",
       "      <td>1</td>\n",
       "      <td>https://www.halfbakedharvest.com/wp-content/up...</td>\n",
       "    </tr>\n",
       "    <tr>\n",
       "      <th>14</th>\n",
       "      <td>Spiced Maple Bourbon Fizz</td>\n",
       "      <td>{'minutes': '5'}</td>\n",
       "      <td>{'minutes': '5'}</td>\n",
       "      <td>{'minutes': '10'}</td>\n",
       "      <td>[maple syrup, cinnamon sticks, cardamon pods, ...</td>\n",
       "      <td>{'maple syrup': '1/2', 'cinnamon sticks': '2',...</td>\n",
       "      <td>[1. To make the spiced maple syrup. In a mediu...</td>\n",
       "      <td>1457 kcal</td>\n",
       "      <td>1</td>\n",
       "      <td>https://www.halfbakedharvest.com/wp-content/up...</td>\n",
       "    </tr>\n",
       "    <tr>\n",
       "      <th>15</th>\n",
       "      <td>The Grave Digger</td>\n",
       "      <td>{'minutes': '5'}</td>\n",
       "      <td>-</td>\n",
       "      <td>{'minutes': '5'}</td>\n",
       "      <td>[mezcal or tequila, spiced apple cider, lemon ...</td>\n",
       "      <td>{'mezcal or tequila': '2', 'spiced apple cider...</td>\n",
       "      <td>[1. Fill a cocktail glass with ice., 2. Combin...</td>\n",
       "      <td>537 kcal</td>\n",
       "      <td>1</td>\n",
       "      <td>https://www.halfbakedharvest.com/wp-content/up...</td>\n",
       "    </tr>\n",
       "    <tr>\n",
       "      <th>16</th>\n",
       "      <td>Pink Vodka Watermelon Lemonade</td>\n",
       "      <td>{'minutes': '10'}</td>\n",
       "      <td>{'minutes': '5'}</td>\n",
       "      <td>{'minutes': '15'}</td>\n",
       "      <td>[honey or granulated sugar, fresh thyme sprigs...</td>\n",
       "      <td>{'honey or granulated sugar': '3/4', 'fresh th...</td>\n",
       "      <td>[1. To make the watermelon juice, blend the wa...</td>\n",
       "      <td>225 kcal</td>\n",
       "      <td>8</td>\n",
       "      <td>https://www.halfbakedharvest.com/wp-content/up...</td>\n",
       "    </tr>\n",
       "    <tr>\n",
       "      <th>17</th>\n",
       "      <td>Blackberry Champagne Mule</td>\n",
       "      <td>{'minutes': '5'}</td>\n",
       "      <td>-</td>\n",
       "      <td>{'minutes': '5'}</td>\n",
       "      <td>[fresh or frozen blackberries, fresh mint, plu...</td>\n",
       "      <td>{'fresh or frozen blackberries': '1 1/2', 'fre...</td>\n",
       "      <td>[1. In a cocktail shaker or glass jar, muddle ...</td>\n",
       "      <td>772 kcal</td>\n",
       "      <td>1</td>\n",
       "      <td>https://www.halfbakedharvest.com/wp-content/up...</td>\n",
       "    </tr>\n",
       "    <tr>\n",
       "      <th>18</th>\n",
       "      <td>Watermelon Rosè Paloma</td>\n",
       "      <td>{'minutes': '10'}</td>\n",
       "      <td>-</td>\n",
       "      <td>{'minutes': '10'}</td>\n",
       "      <td>[cubed watermelon, silver tequila, juice from ...</td>\n",
       "      <td>{'cubed watermelon': '4', 'silver tequila': '1...</td>\n",
       "      <td>[1. To make the watermelon juice, blend 2 cups...</td>\n",
       "      <td>422 kcal</td>\n",
       "      <td>1</td>\n",
       "      <td>https://www.halfbakedharvest.com/wp-content/up...</td>\n",
       "    </tr>\n",
       "    <tr>\n",
       "      <th>19</th>\n",
       "      <td>Spicy Cucumber Margarita.</td>\n",
       "      <td>{'minutes': '10'}</td>\n",
       "      <td>-</td>\n",
       "      <td>{'hours': '1', 'minutes': '10'}</td>\n",
       "      <td>[cucumber slices, fresh mint leaves, silver te...</td>\n",
       "      <td>{'cucumber slices': '4-6', 'fresh mint leaves'...</td>\n",
       "      <td>[1. To make the chili salt. Combine the salt, ...</td>\n",
       "      <td>820 kcal</td>\n",
       "      <td>1</td>\n",
       "      <td>https://www.halfbakedharvest.com/wp-content/up...</td>\n",
       "    </tr>\n",
       "    <tr>\n",
       "      <th>20</th>\n",
       "      <td>Dirty Horchata</td>\n",
       "      <td>{'minutes': '10'}</td>\n",
       "      <td>-</td>\n",
       "      <td>{'hours': '2', 'minutes': '10'}</td>\n",
       "      <td>[uncooked long-grain white rice, honey or real...</td>\n",
       "      <td>{'uncooked long-grain white rice': '1', 'honey...</td>\n",
       "      <td>[1. Combine the rice and 2 1/2 cups steaming h...</td>\n",
       "      <td>530 kcal</td>\n",
       "      <td>6</td>\n",
       "      <td>https://www.halfbakedharvest.com/wp-content/up...</td>\n",
       "    </tr>\n",
       "    <tr>\n",
       "      <th>21</th>\n",
       "      <td>-</td>\n",
       "      <td>-</td>\n",
       "      <td>-</td>\n",
       "      <td>-</td>\n",
       "      <td>-</td>\n",
       "      <td>-</td>\n",
       "      <td>-</td>\n",
       "      <td>-</td>\n",
       "      <td>-</td>\n",
       "      <td>https://www.halfbakedharvest.com/wp-content/up...</td>\n",
       "    </tr>\n",
       "    <tr>\n",
       "      <th>22</th>\n",
       "      <td>Smoky Harvest Apple Cider Margarita.</td>\n",
       "      <td>{'minutes': '5'}</td>\n",
       "      <td>-</td>\n",
       "      <td>{'minutes': '5'}</td>\n",
       "      <td>[cinnamon sugar and flaky sea salt, for the ri...</td>\n",
       "      <td>{'cinnamon sugar and flaky sea salt, for the r...</td>\n",
       "      <td>[1. If desired, rim your glass in salted cinna...</td>\n",
       "      <td>603 kcal</td>\n",
       "      <td>1</td>\n",
       "      <td>https://www.halfbakedharvest.com/wp-content/up...</td>\n",
       "    </tr>\n",
       "    <tr>\n",
       "      <th>23</th>\n",
       "      <td>Frozen Mango Mojito-Rita</td>\n",
       "      <td>{'minutes': '5'}</td>\n",
       "      <td>-</td>\n",
       "      <td>{'minutes': '5'}</td>\n",
       "      <td>[flaky sea salt, silver tequila, freshly squee...</td>\n",
       "      <td>{'flaky sea salt': 'seasoning', 'silver tequil...</td>\n",
       "      <td>[1. Run a lime wedge around the rim of your gl...</td>\n",
       "      <td>67 kcal</td>\n",
       "      <td>2</td>\n",
       "      <td>https://www.halfbakedharvest.com/wp-content/up...</td>\n",
       "    </tr>\n",
       "    <tr>\n",
       "      <th>24</th>\n",
       "      <td>Blackberry Tequila Lemon Cooler</td>\n",
       "      <td>{'minutes': '5'}</td>\n",
       "      <td>-</td>\n",
       "      <td>{'minutes': '5'}</td>\n",
       "      <td>[fresh blackberries, plus more for serving, fr...</td>\n",
       "      <td>{'fresh blackberries, plus more for serving': ...</td>\n",
       "      <td>[1. Fill a cocktail glass with ice., 2. In a c...</td>\n",
       "      <td>54 kcal</td>\n",
       "      <td>1</td>\n",
       "      <td>https://www.halfbakedharvest.com/wp-content/up...</td>\n",
       "    </tr>\n",
       "    <tr>\n",
       "      <th>25</th>\n",
       "      <td>Holly Jolly Christmas Citrus Cocktail</td>\n",
       "      <td>{'minutes': '5'}</td>\n",
       "      <td>-</td>\n",
       "      <td>{'minutes': '5'}</td>\n",
       "      <td>[vodka, St. Germain (elderflower liquor), fres...</td>\n",
       "      <td>{'vodka': '1', 'St. Germain (elderflower liquo...</td>\n",
       "      <td>[1. Fill a cocktail glass with ice. Add the vo...</td>\n",
       "      <td>105 kcal</td>\n",
       "      <td>1</td>\n",
       "      <td>https://www.halfbakedharvest.com/wp-content/up...</td>\n",
       "    </tr>\n",
       "    <tr>\n",
       "      <th>26</th>\n",
       "      <td>Holiday Pear Sangria</td>\n",
       "      <td>{'minutes': '10'}</td>\n",
       "      <td>-</td>\n",
       "      <td>{'minutes': '10'}</td>\n",
       "      <td>[dry white wine, pear or apple brandy, cranber...</td>\n",
       "      <td>{'dry white wine': '1', 'pear or apple brandy'...</td>\n",
       "      <td>[1. In a large pitcher, combine all the ingred...</td>\n",
       "      <td>257 kcal</td>\n",
       "      <td>8</td>\n",
       "      <td>https://www.halfbakedharvest.com/wp-content/up...</td>\n",
       "    </tr>\n",
       "    <tr>\n",
       "      <th>27</th>\n",
       "      <td>Vanilla Chai Old Fashioned</td>\n",
       "      <td>{'minutes': '5'}</td>\n",
       "      <td>{'minutes': '5'}</td>\n",
       "      <td>{'minutes': '10'}</td>\n",
       "      <td>[chai tea bags, real maple syrup, vanilla extr...</td>\n",
       "      <td>{'chai tea bags': '4', 'real maple syrup': '1/...</td>\n",
       "      <td>[1. In a medium pot, bring 1 cup water to a bo...</td>\n",
       "      <td>547 kcal</td>\n",
       "      <td>1</td>\n",
       "      <td>https://www.halfbakedharvest.com/wp-content/up...</td>\n",
       "    </tr>\n",
       "    <tr>\n",
       "      <th>28</th>\n",
       "      <td>Spiced Cranberry Rosé Spritzers</td>\n",
       "      <td>{'minutes': '15'}</td>\n",
       "      <td>{'minutes': '5'}</td>\n",
       "      <td>{'minutes': '20'}</td>\n",
       "      <td>[honey, fresh cranberries, fresh rosemary, plu...</td>\n",
       "      <td>{'honey': '1/2', 'fresh cranberries': '2', 'fr...</td>\n",
       "      <td>[1. To make the cranberry syrup: In a medium p...</td>\n",
       "      <td>694 kcal</td>\n",
       "      <td>10</td>\n",
       "      <td>https://www.halfbakedharvest.com/wp-content/up...</td>\n",
       "    </tr>\n",
       "    <tr>\n",
       "      <th>29</th>\n",
       "      <td>Pumpkin Patch Punch</td>\n",
       "      <td>{'minutes': '10'}</td>\n",
       "      <td>-</td>\n",
       "      <td>{'minutes': '10'}</td>\n",
       "      <td>[apple cider, freshly squeezed orange juice, f...</td>\n",
       "      <td>{'apple cider': '1', 'freshly squeezed orange ...</td>\n",
       "      <td>[1. In a large pitcher, combine the apple cide...</td>\n",
       "      <td>490 kcal</td>\n",
       "      <td>8</td>\n",
       "      <td>https://www.halfbakedharvest.com/wp-content/up...</td>\n",
       "    </tr>\n",
       "    <tr>\n",
       "      <th>30</th>\n",
       "      <td>The Black Widow Smash</td>\n",
       "      <td>{'minutes': '5'}</td>\n",
       "      <td>-</td>\n",
       "      <td>{'minutes': '5'}</td>\n",
       "      <td>[fresh blackberries, plus more for topping, fr...</td>\n",
       "      <td>{'fresh blackberries, plus more for topping': ...</td>\n",
       "      <td>[1. In a cocktail shaker or glass jar, add bla...</td>\n",
       "      <td>110 kcal</td>\n",
       "      <td>1</td>\n",
       "      <td>https://www.halfbakedharvest.com/wp-content/up...</td>\n",
       "    </tr>\n",
       "    <tr>\n",
       "      <th>31</th>\n",
       "      <td>Poison Apple Martini</td>\n",
       "      <td>{'minutes': '10'}</td>\n",
       "      <td>-</td>\n",
       "      <td>{'minutes': '10'}</td>\n",
       "      <td>[Black lava salt, or coarse black sugar, for r...</td>\n",
       "      <td>{'Black lava salt, or coarse black sugar, for ...</td>\n",
       "      <td>[1. If desired, rim your martini glass with bl...</td>\n",
       "      <td>55 kcal</td>\n",
       "      <td>1</td>\n",
       "      <td>https://www.halfbakedharvest.com/wp-content/up...</td>\n",
       "    </tr>\n",
       "    <tr>\n",
       "      <th>32</th>\n",
       "      <td>Smashed Berry Rosè Spritz</td>\n",
       "      <td>{'minutes': '10'}</td>\n",
       "      <td>-</td>\n",
       "      <td>{'minutes': '10'}</td>\n",
       "      <td>[fresh blackberries, fresh raspberries, basil ...</td>\n",
       "      <td>{'fresh blackberries': '1/2', 'fresh raspberri...</td>\n",
       "      <td>[In a pitcher, muddle the raspberries, blackbe...</td>\n",
       "      <td>211 kcal</td>\n",
       "      <td>6</td>\n",
       "      <td>https://www.halfbakedharvest.com/wp-content/up...</td>\n",
       "    </tr>\n",
       "  </tbody>\n",
       "</table>\n",
       "</div>"
      ],
      "text/plain": [
       "                                    title          prep_time  \\\n",
       "0               Hocus Pocus Old Fashioned  {'minutes': '10'}   \n",
       "1   Enchanted Graveyard Pomegranate Punch  {'minutes': '10'}   \n",
       "2       Frosted Mistletoe Margarita Punch  {'minutes': '10'}   \n",
       "3                  Spiced Cranberry Punch  {'minutes': '10'}   \n",
       "4                                       -                  -   \n",
       "5                  Voldemort’s Dark Serum   {'minutes': '5'}   \n",
       "6            Frosty's Frosted Moscow Mule   {'minutes': '5'}   \n",
       "7                  Cranberry Thyme Spritz  {'minutes': '10'}   \n",
       "8                 Vampire's Drip Cocktail  {'minutes': '10'}   \n",
       "9            The Deathly Hallows Cocktail   {'minutes': '5'}   \n",
       "10           Blood Orange Champagne Mule.   {'minutes': '5'}   \n",
       "11                 Christmas Ale Sangria.  {'minutes': '10'}   \n",
       "12      Pumpkin Butterbeer Hot Chocolate.   {'minutes': '5'}   \n",
       "13     Spicy Sweet Holiday Storm Cocktail   {'minutes': '5'}   \n",
       "14              Spiced Maple Bourbon Fizz   {'minutes': '5'}   \n",
       "15                       The Grave Digger   {'minutes': '5'}   \n",
       "16         Pink Vodka Watermelon Lemonade  {'minutes': '10'}   \n",
       "17              Blackberry Champagne Mule   {'minutes': '5'}   \n",
       "18                 Watermelon Rosè Paloma  {'minutes': '10'}   \n",
       "19              Spicy Cucumber Margarita.  {'minutes': '10'}   \n",
       "20                         Dirty Horchata  {'minutes': '10'}   \n",
       "21                                      -                  -   \n",
       "22   Smoky Harvest Apple Cider Margarita.   {'minutes': '5'}   \n",
       "23               Frozen Mango Mojito-Rita   {'minutes': '5'}   \n",
       "24        Blackberry Tequila Lemon Cooler   {'minutes': '5'}   \n",
       "25  Holly Jolly Christmas Citrus Cocktail   {'minutes': '5'}   \n",
       "26                   Holiday Pear Sangria  {'minutes': '10'}   \n",
       "27             Vanilla Chai Old Fashioned   {'minutes': '5'}   \n",
       "28        Spiced Cranberry Rosé Spritzers  {'minutes': '15'}   \n",
       "29                    Pumpkin Patch Punch  {'minutes': '10'}   \n",
       "30                  The Black Widow Smash   {'minutes': '5'}   \n",
       "31                   Poison Apple Martini  {'minutes': '10'}   \n",
       "32              Smashed Berry Rosè Spritz  {'minutes': '10'}   \n",
       "\n",
       "            cook_time                       total_time  \\\n",
       "0    {'minutes': '5'}                {'minutes': '15'}   \n",
       "1                   -                {'minutes': '10'}   \n",
       "2                   -                {'minutes': '10'}   \n",
       "3    {'minutes': '5'}                {'minutes': '15'}   \n",
       "4                   -                                -   \n",
       "5                   -                 {'minutes': '5'}   \n",
       "6                   -                 {'minutes': '5'}   \n",
       "7   {'minutes': '10'}                {'minutes': '20'}   \n",
       "8   {'minutes': '10'}                {'minutes': '20'}   \n",
       "9                   -                 {'minutes': '5'}   \n",
       "10                  -                 {'minutes': '5'}   \n",
       "11                  -                {'minutes': '10'}   \n",
       "12  {'minutes': '10'}                {'minutes': '15'}   \n",
       "13   {'minutes': '5'}                {'minutes': '10'}   \n",
       "14   {'minutes': '5'}                {'minutes': '10'}   \n",
       "15                  -                 {'minutes': '5'}   \n",
       "16   {'minutes': '5'}                {'minutes': '15'}   \n",
       "17                  -                 {'minutes': '5'}   \n",
       "18                  -                {'minutes': '10'}   \n",
       "19                  -  {'hours': '1', 'minutes': '10'}   \n",
       "20                  -  {'hours': '2', 'minutes': '10'}   \n",
       "21                  -                                -   \n",
       "22                  -                 {'minutes': '5'}   \n",
       "23                  -                 {'minutes': '5'}   \n",
       "24                  -                 {'minutes': '5'}   \n",
       "25                  -                 {'minutes': '5'}   \n",
       "26                  -                {'minutes': '10'}   \n",
       "27   {'minutes': '5'}                {'minutes': '10'}   \n",
       "28   {'minutes': '5'}                {'minutes': '20'}   \n",
       "29                  -                {'minutes': '10'}   \n",
       "30                  -                 {'minutes': '5'}   \n",
       "31                  -                {'minutes': '10'}   \n",
       "32                  -                {'minutes': '10'}   \n",
       "\n",
       "                                          ingredients  \\\n",
       "0   [honey, fresh rosemary, cinnamon sticks, star ...   \n",
       "1   [pomegranate juice, vodka, spiced apple butter...   \n",
       "2   [granulated sugar, kosher salt, silver tequila...   \n",
       "3   [fresh cranberries, honey or maple syrup, usin...   \n",
       "4                                                   -   \n",
       "5   [pomegranate juice, silver tequila or Mezcal, ...   \n",
       "6   [vodka, juice from 1/2 lime juice, fresh grape...   \n",
       "7   [honey, fresh cranberries, fresh thyme, fresh ...   \n",
       "8   [granulated sugar, pomegranate juice, white ru...   \n",
       "9   [silver tequila or Mezcal, cranberry or pomegr...   \n",
       "10  [juice of 1/2 a medium blood orange, juice of ...   \n",
       "11  [apple cider, vodka, dashes orange bitters, pe...   \n",
       "12  [whole milk, cocoa powder, ground cinnamon, mi...   \n",
       "13  [honey, jalapeños, sliced, fresh ginger, cranb...   \n",
       "14  [maple syrup, cinnamon sticks, cardamon pods, ...   \n",
       "15  [mezcal or tequila, spiced apple cider, lemon ...   \n",
       "16  [honey or granulated sugar, fresh thyme sprigs...   \n",
       "17  [fresh or frozen blackberries, fresh mint, plu...   \n",
       "18  [cubed watermelon, silver tequila, juice from ...   \n",
       "19  [cucumber slices, fresh mint leaves, silver te...   \n",
       "20  [uncooked long-grain white rice, honey or real...   \n",
       "21                                                  -   \n",
       "22  [cinnamon sugar and flaky sea salt, for the ri...   \n",
       "23  [flaky sea salt, silver tequila, freshly squee...   \n",
       "24  [fresh blackberries, plus more for serving, fr...   \n",
       "25  [vodka, St. Germain (elderflower liquor), fres...   \n",
       "26  [dry white wine, pear or apple brandy, cranber...   \n",
       "27  [chai tea bags, real maple syrup, vanilla extr...   \n",
       "28  [honey, fresh cranberries, fresh rosemary, plu...   \n",
       "29  [apple cider, freshly squeezed orange juice, f...   \n",
       "30  [fresh blackberries, plus more for topping, fr...   \n",
       "31  [Black lava salt, or coarse black sugar, for r...   \n",
       "32  [fresh blackberries, fresh raspberries, basil ...   \n",
       "\n",
       "                         ingredients with measurement  \\\n",
       "0   {'honey': '1/2', 'fresh rosemary': '2', 'cinna...   \n",
       "1   {'pomegranate juice': '8', 'vodka': '1', 'spic...   \n",
       "2   {'granulated sugar': '3', 'kosher salt': '2', ...   \n",
       "3   {'fresh cranberries': '2', 'honey or maple syr...   \n",
       "4                                                   -   \n",
       "5   {'pomegranate juice': '1', 'silver tequila or ...   \n",
       "6   {'vodka': '2', 'juice from 1/2 lime juice': 's...   \n",
       "7   {'honey': '1/2', 'fresh cranberries': '2', 'fr...   \n",
       "8   {'granulated sugar': '1/2', 'pomegranate juice...   \n",
       "9   {'silver tequila or Mezcal': '1 1/2', 'cranber...   \n",
       "10  {'juice of 1/2 a medium blood orange': 'season...   \n",
       "11  {'apple cider': '1 1/2', 'vodka': '1/2', 'dash...   \n",
       "12  {'whole milk': '4 1/2', 'cocoa powder': '1/4',...   \n",
       "13  {'honey': '1/2', 'jalapeños, sliced': '1-2', '...   \n",
       "14  {'maple syrup': '1/2', 'cinnamon sticks': '2',...   \n",
       "15  {'mezcal or tequila': '2', 'spiced apple cider...   \n",
       "16  {'honey or granulated sugar': '3/4', 'fresh th...   \n",
       "17  {'fresh or frozen blackberries': '1 1/2', 'fre...   \n",
       "18  {'cubed watermelon': '4', 'silver tequila': '1...   \n",
       "19  {'cucumber slices': '4-6', 'fresh mint leaves'...   \n",
       "20  {'uncooked long-grain white rice': '1', 'honey...   \n",
       "21                                                  -   \n",
       "22  {'cinnamon sugar and flaky sea salt, for the r...   \n",
       "23  {'flaky sea salt': 'seasoning', 'silver tequil...   \n",
       "24  {'fresh blackberries, plus more for serving': ...   \n",
       "25  {'vodka': '1', 'St. Germain (elderflower liquo...   \n",
       "26  {'dry white wine': '1', 'pear or apple brandy'...   \n",
       "27  {'chai tea bags': '4', 'real maple syrup': '1/...   \n",
       "28  {'honey': '1/2', 'fresh cranberries': '2', 'fr...   \n",
       "29  {'apple cider': '1', 'freshly squeezed orange ...   \n",
       "30  {'fresh blackberries, plus more for topping': ...   \n",
       "31  {'Black lava salt, or coarse black sugar, for ...   \n",
       "32  {'fresh blackberries': '1/2', 'fresh raspberri...   \n",
       "\n",
       "                                         instructions   calories servings  \\\n",
       "0   [1. To make the spiced honey syrup. In a mediu...   246 kcal        1   \n",
       "1   [1. In a large pitcher, combine the pomegranat...   338 kcal        8   \n",
       "2   [1. Combine the sugar and salt on a shallow pl...   207 kcal        8   \n",
       "3   [1. In a pot, bring 1/2 cup water, the cranber...   296 kcal        8   \n",
       "4                                                   -          -        -   \n",
       "5   [1. Combine the pomegranate juice, tequila, Ch...   448 kcal        1   \n",
       "6   [1. Fill a cocktail glass with ice. Add the vo...   449 kcal        1   \n",
       "7   [1. In a medium pot, bring 1/2 cup water, the ...   252 kcal        8   \n",
       "8   [1. Bring the sugar and pomegranate juice to a...   348 kcal        2   \n",
       "9   [1. Combine all the ingredients in a cocktail ...   354 kcal        1   \n",
       "10                                                 []   717 kcal        1   \n",
       "11                                                 []   331 kcal        8   \n",
       "12                                                 []  1319 kcal        3   \n",
       "13  [1. To make the jalapeño honey syrup. In a pot...   379 kcal        1   \n",
       "14  [1. To make the spiced maple syrup. In a mediu...  1457 kcal        1   \n",
       "15  [1. Fill a cocktail glass with ice., 2. Combin...   537 kcal        1   \n",
       "16  [1. To make the watermelon juice, blend the wa...   225 kcal        8   \n",
       "17  [1. In a cocktail shaker or glass jar, muddle ...   772 kcal        1   \n",
       "18  [1. To make the watermelon juice, blend 2 cups...   422 kcal        1   \n",
       "19  [1. To make the chili salt. Combine the salt, ...   820 kcal        1   \n",
       "20  [1. Combine the rice and 2 1/2 cups steaming h...   530 kcal        6   \n",
       "21                                                  -          -        -   \n",
       "22  [1. If desired, rim your glass in salted cinna...   603 kcal        1   \n",
       "23  [1. Run a lime wedge around the rim of your gl...    67 kcal        2   \n",
       "24  [1. Fill a cocktail glass with ice., 2. In a c...    54 kcal        1   \n",
       "25  [1. Fill a cocktail glass with ice. Add the vo...   105 kcal        1   \n",
       "26  [1. In a large pitcher, combine all the ingred...   257 kcal        8   \n",
       "27  [1. In a medium pot, bring 1 cup water to a bo...   547 kcal        1   \n",
       "28  [1. To make the cranberry syrup: In a medium p...   694 kcal       10   \n",
       "29  [1. In a large pitcher, combine the apple cide...   490 kcal        8   \n",
       "30  [1. In a cocktail shaker or glass jar, add bla...   110 kcal        1   \n",
       "31  [1. If desired, rim your martini glass with bl...    55 kcal        1   \n",
       "32  [In a pitcher, muddle the raspberries, blackbe...   211 kcal        6   \n",
       "\n",
       "                                               images  \n",
       "0   https://www.halfbakedharvest.com/wp-content/up...  \n",
       "1   https://www.halfbakedharvest.com/wp-content/up...  \n",
       "2   https://www.halfbakedharvest.com/wp-content/up...  \n",
       "3   https://www.halfbakedharvest.com/wp-content/up...  \n",
       "4   https://www.halfbakedharvest.com/wp-content/up...  \n",
       "5   https://www.halfbakedharvest.com/wp-content/up...  \n",
       "6   https://www.halfbakedharvest.com/wp-content/up...  \n",
       "7   https://www.halfbakedharvest.com/wp-content/up...  \n",
       "8   https://www.halfbakedharvest.com/wp-content/up...  \n",
       "9   https://www.halfbakedharvest.com/wp-content/up...  \n",
       "10  https://www.halfbakedharvest.com/wp-content/up...  \n",
       "11  https://www.halfbakedharvest.com/wp-content/up...  \n",
       "12  https://www.halfbakedharvest.com/wp-content/up...  \n",
       "13  https://www.halfbakedharvest.com/wp-content/up...  \n",
       "14  https://www.halfbakedharvest.com/wp-content/up...  \n",
       "15  https://www.halfbakedharvest.com/wp-content/up...  \n",
       "16  https://www.halfbakedharvest.com/wp-content/up...  \n",
       "17  https://www.halfbakedharvest.com/wp-content/up...  \n",
       "18  https://www.halfbakedharvest.com/wp-content/up...  \n",
       "19  https://www.halfbakedharvest.com/wp-content/up...  \n",
       "20  https://www.halfbakedharvest.com/wp-content/up...  \n",
       "21  https://www.halfbakedharvest.com/wp-content/up...  \n",
       "22  https://www.halfbakedharvest.com/wp-content/up...  \n",
       "23  https://www.halfbakedharvest.com/wp-content/up...  \n",
       "24  https://www.halfbakedharvest.com/wp-content/up...  \n",
       "25  https://www.halfbakedharvest.com/wp-content/up...  \n",
       "26  https://www.halfbakedharvest.com/wp-content/up...  \n",
       "27  https://www.halfbakedharvest.com/wp-content/up...  \n",
       "28  https://www.halfbakedharvest.com/wp-content/up...  \n",
       "29  https://www.halfbakedharvest.com/wp-content/up...  \n",
       "30  https://www.halfbakedharvest.com/wp-content/up...  \n",
       "31  https://www.halfbakedharvest.com/wp-content/up...  \n",
       "32  https://www.halfbakedharvest.com/wp-content/up...  "
      ]
     },
     "execution_count": 13,
     "metadata": {},
     "output_type": "execute_result"
    }
   ],
   "source": [
    "temp_recipes_1"
   ]
  },
  {
   "cell_type": "code",
   "execution_count": 14,
   "id": "53acf06d",
   "metadata": {},
   "outputs": [
    {
     "data": {
      "text/plain": [
       "['Hocus Pocus Old Fashioned',\n",
       " 'Enchanted Graveyard Pomegranate Punch',\n",
       " 'Frosted Mistletoe Margarita Punch',\n",
       " 'Spiced Cranberry Punch',\n",
       " '-',\n",
       " 'Voldemort’s Dark Serum',\n",
       " \"Frosty's Frosted Moscow Mule\",\n",
       " 'Cranberry Thyme Spritz',\n",
       " \"Vampire's Drip Cocktail\",\n",
       " 'The Deathly Hallows Cocktail',\n",
       " 'Blood Orange Champagne Mule.',\n",
       " 'Christmas Ale Sangria.',\n",
       " 'Pumpkin Butterbeer Hot Chocolate.',\n",
       " 'Spicy Sweet Holiday Storm\\xa0Cocktail',\n",
       " 'Spiced Maple Bourbon Fizz',\n",
       " 'The Grave Digger',\n",
       " 'Pink Vodka Watermelon Lemonade',\n",
       " 'Blackberry Champagne Mule',\n",
       " 'Watermelon Rosè Paloma',\n",
       " 'Spicy Cucumber Margarita.',\n",
       " 'Dirty Horchata',\n",
       " '-',\n",
       " 'Smoky Harvest Apple Cider Margarita.',\n",
       " 'Frozen Mango Mojito-Rita',\n",
       " 'Blackberry Tequila Lemon Cooler',\n",
       " 'Holly Jolly Christmas Citrus Cocktail',\n",
       " 'Holiday Pear Sangria',\n",
       " 'Vanilla Chai Old Fashioned',\n",
       " 'Spiced Cranberry Rosé Spritzers',\n",
       " 'Pumpkin Patch Punch',\n",
       " 'The Black Widow Smash',\n",
       " 'Poison Apple Martini',\n",
       " 'Smashed Berry Rosè Spritz']"
      ]
     },
     "execution_count": 14,
     "metadata": {},
     "output_type": "execute_result"
    }
   ],
   "source": [
    "title"
   ]
  },
  {
   "cell_type": "code",
   "execution_count": 15,
   "id": "0ed45647",
   "metadata": {},
   "outputs": [],
   "source": [
    "final = pd.concat([final, temp_recipes_1], ignore_index=True)"
   ]
  },
  {
   "cell_type": "code",
   "execution_count": 16,
   "id": "0608a9db",
   "metadata": {},
   "outputs": [
    {
     "data": {
      "text/html": [
       "<div>\n",
       "<style scoped>\n",
       "    .dataframe tbody tr th:only-of-type {\n",
       "        vertical-align: middle;\n",
       "    }\n",
       "\n",
       "    .dataframe tbody tr th {\n",
       "        vertical-align: top;\n",
       "    }\n",
       "\n",
       "    .dataframe thead th {\n",
       "        text-align: right;\n",
       "    }\n",
       "</style>\n",
       "<table border=\"1\" class=\"dataframe\">\n",
       "  <thead>\n",
       "    <tr style=\"text-align: right;\">\n",
       "      <th></th>\n",
       "      <th>title</th>\n",
       "      <th>prep_time</th>\n",
       "      <th>cook_time</th>\n",
       "      <th>total_time</th>\n",
       "      <th>ingredients</th>\n",
       "      <th>ingredients with measurement</th>\n",
       "      <th>instructions</th>\n",
       "      <th>calories</th>\n",
       "      <th>servings</th>\n",
       "      <th>images</th>\n",
       "    </tr>\n",
       "  </thead>\n",
       "  <tbody>\n",
       "    <tr>\n",
       "      <th>0</th>\n",
       "      <td>Hocus Pocus Old Fashioned</td>\n",
       "      <td>{'minutes': '10'}</td>\n",
       "      <td>{'minutes': '5'}</td>\n",
       "      <td>{'minutes': '15'}</td>\n",
       "      <td>[honey, fresh rosemary, cinnamon sticks, star ...</td>\n",
       "      <td>{'honey': '1/2', 'fresh rosemary': '2', 'cinna...</td>\n",
       "      <td>[1. To make the spiced honey syrup. In a mediu...</td>\n",
       "      <td>246 kcal</td>\n",
       "      <td>1</td>\n",
       "      <td>https://www.halfbakedharvest.com/wp-content/up...</td>\n",
       "    </tr>\n",
       "    <tr>\n",
       "      <th>1</th>\n",
       "      <td>Enchanted Graveyard Pomegranate Punch</td>\n",
       "      <td>{'minutes': '10'}</td>\n",
       "      <td>-</td>\n",
       "      <td>{'minutes': '10'}</td>\n",
       "      <td>[pomegranate juice, vodka, spiced apple butter...</td>\n",
       "      <td>{'pomegranate juice': '8', 'vodka': '1', 'spic...</td>\n",
       "      <td>[1. In a large pitcher, combine the pomegranat...</td>\n",
       "      <td>338 kcal</td>\n",
       "      <td>8</td>\n",
       "      <td>https://www.halfbakedharvest.com/wp-content/up...</td>\n",
       "    </tr>\n",
       "    <tr>\n",
       "      <th>2</th>\n",
       "      <td>Frosted Mistletoe Margarita Punch</td>\n",
       "      <td>{'minutes': '10'}</td>\n",
       "      <td>-</td>\n",
       "      <td>{'minutes': '10'}</td>\n",
       "      <td>[granulated sugar, kosher salt, silver tequila...</td>\n",
       "      <td>{'granulated sugar': '3', 'kosher salt': '2', ...</td>\n",
       "      <td>[1. Combine the sugar and salt on a shallow pl...</td>\n",
       "      <td>207 kcal</td>\n",
       "      <td>8</td>\n",
       "      <td>https://www.halfbakedharvest.com/wp-content/up...</td>\n",
       "    </tr>\n",
       "    <tr>\n",
       "      <th>3</th>\n",
       "      <td>Spiced Cranberry Punch</td>\n",
       "      <td>{'minutes': '10'}</td>\n",
       "      <td>{'minutes': '5'}</td>\n",
       "      <td>{'minutes': '15'}</td>\n",
       "      <td>[fresh cranberries, honey or maple syrup, usin...</td>\n",
       "      <td>{'fresh cranberries': '2', 'honey or maple syr...</td>\n",
       "      <td>[1. In a pot, bring 1/2 cup water, the cranber...</td>\n",
       "      <td>296 kcal</td>\n",
       "      <td>8</td>\n",
       "      <td>https://www.halfbakedharvest.com/wp-content/up...</td>\n",
       "    </tr>\n",
       "    <tr>\n",
       "      <th>4</th>\n",
       "      <td>-</td>\n",
       "      <td>-</td>\n",
       "      <td>-</td>\n",
       "      <td>-</td>\n",
       "      <td>-</td>\n",
       "      <td>-</td>\n",
       "      <td>-</td>\n",
       "      <td>-</td>\n",
       "      <td>-</td>\n",
       "      <td>https://www.halfbakedharvest.com/wp-content/up...</td>\n",
       "    </tr>\n",
       "    <tr>\n",
       "      <th>5</th>\n",
       "      <td>Voldemort’s Dark Serum</td>\n",
       "      <td>{'minutes': '5'}</td>\n",
       "      <td>-</td>\n",
       "      <td>{'minutes': '5'}</td>\n",
       "      <td>[pomegranate juice, silver tequila or Mezcal, ...</td>\n",
       "      <td>{'pomegranate juice': '1', 'silver tequila or ...</td>\n",
       "      <td>[1. Combine the pomegranate juice, tequila, Ch...</td>\n",
       "      <td>448 kcal</td>\n",
       "      <td>1</td>\n",
       "      <td>https://www.halfbakedharvest.com/wp-content/up...</td>\n",
       "    </tr>\n",
       "    <tr>\n",
       "      <th>6</th>\n",
       "      <td>Frosty's Frosted Moscow Mule</td>\n",
       "      <td>{'minutes': '5'}</td>\n",
       "      <td>-</td>\n",
       "      <td>{'minutes': '5'}</td>\n",
       "      <td>[vodka, juice from 1/2 lime juice, fresh grape...</td>\n",
       "      <td>{'vodka': '2', 'juice from 1/2 lime juice': 's...</td>\n",
       "      <td>[1. Fill a cocktail glass with ice. Add the vo...</td>\n",
       "      <td>449 kcal</td>\n",
       "      <td>1</td>\n",
       "      <td>https://www.halfbakedharvest.com/wp-content/up...</td>\n",
       "    </tr>\n",
       "    <tr>\n",
       "      <th>7</th>\n",
       "      <td>Cranberry Thyme Spritz</td>\n",
       "      <td>{'minutes': '10'}</td>\n",
       "      <td>{'minutes': '10'}</td>\n",
       "      <td>{'minutes': '20'}</td>\n",
       "      <td>[honey, fresh cranberries, fresh thyme, fresh ...</td>\n",
       "      <td>{'honey': '1/2', 'fresh cranberries': '2', 'fr...</td>\n",
       "      <td>[1. In a medium pot, bring 1/2 cup water, the ...</td>\n",
       "      <td>252 kcal</td>\n",
       "      <td>8</td>\n",
       "      <td>https://www.halfbakedharvest.com/wp-content/up...</td>\n",
       "    </tr>\n",
       "    <tr>\n",
       "      <th>8</th>\n",
       "      <td>Vampire's Drip Cocktail</td>\n",
       "      <td>{'minutes': '10'}</td>\n",
       "      <td>{'minutes': '10'}</td>\n",
       "      <td>{'minutes': '20'}</td>\n",
       "      <td>[granulated sugar, pomegranate juice, white ru...</td>\n",
       "      <td>{'granulated sugar': '1/2', 'pomegranate juice...</td>\n",
       "      <td>[1. Bring the sugar and pomegranate juice to a...</td>\n",
       "      <td>348 kcal</td>\n",
       "      <td>2</td>\n",
       "      <td>https://www.halfbakedharvest.com/wp-content/up...</td>\n",
       "    </tr>\n",
       "    <tr>\n",
       "      <th>9</th>\n",
       "      <td>The Deathly Hallows Cocktail</td>\n",
       "      <td>{'minutes': '5'}</td>\n",
       "      <td>-</td>\n",
       "      <td>{'minutes': '5'}</td>\n",
       "      <td>[silver tequila or Mezcal, cranberry or pomegr...</td>\n",
       "      <td>{'silver tequila or Mezcal': '1 1/2', 'cranber...</td>\n",
       "      <td>[1. Combine all the ingredients in a cocktail ...</td>\n",
       "      <td>354 kcal</td>\n",
       "      <td>1</td>\n",
       "      <td>https://www.halfbakedharvest.com/wp-content/up...</td>\n",
       "    </tr>\n",
       "    <tr>\n",
       "      <th>10</th>\n",
       "      <td>Blood Orange Champagne Mule.</td>\n",
       "      <td>{'minutes': '5'}</td>\n",
       "      <td>-</td>\n",
       "      <td>{'minutes': '5'}</td>\n",
       "      <td>[juice of 1/2 a medium blood orange, juice of ...</td>\n",
       "      <td>{'juice of 1/2 a medium blood orange': 'season...</td>\n",
       "      <td>[]</td>\n",
       "      <td>717 kcal</td>\n",
       "      <td>1</td>\n",
       "      <td>https://www.halfbakedharvest.com/wp-content/up...</td>\n",
       "    </tr>\n",
       "    <tr>\n",
       "      <th>11</th>\n",
       "      <td>Christmas Ale Sangria.</td>\n",
       "      <td>{'minutes': '10'}</td>\n",
       "      <td>-</td>\n",
       "      <td>{'minutes': '10'}</td>\n",
       "      <td>[apple cider, vodka, dashes orange bitters, pe...</td>\n",
       "      <td>{'apple cider': '1 1/2', 'vodka': '1/2', 'dash...</td>\n",
       "      <td>[]</td>\n",
       "      <td>331 kcal</td>\n",
       "      <td>8</td>\n",
       "      <td>https://www.halfbakedharvest.com/wp-content/up...</td>\n",
       "    </tr>\n",
       "    <tr>\n",
       "      <th>12</th>\n",
       "      <td>Pumpkin Butterbeer Hot Chocolate.</td>\n",
       "      <td>{'minutes': '5'}</td>\n",
       "      <td>{'minutes': '10'}</td>\n",
       "      <td>{'minutes': '15'}</td>\n",
       "      <td>[whole milk, cocoa powder, ground cinnamon, mi...</td>\n",
       "      <td>{'whole milk': '4 1/2', 'cocoa powder': '1/4',...</td>\n",
       "      <td>[]</td>\n",
       "      <td>1319 kcal</td>\n",
       "      <td>3</td>\n",
       "      <td>https://www.halfbakedharvest.com/wp-content/up...</td>\n",
       "    </tr>\n",
       "    <tr>\n",
       "      <th>13</th>\n",
       "      <td>Spicy Sweet Holiday Storm Cocktail</td>\n",
       "      <td>{'minutes': '5'}</td>\n",
       "      <td>{'minutes': '5'}</td>\n",
       "      <td>{'minutes': '10'}</td>\n",
       "      <td>[honey, jalapeños, sliced, fresh ginger, cranb...</td>\n",
       "      <td>{'honey': '1/2', 'jalapeños, sliced': '1-2', '...</td>\n",
       "      <td>[1. To make the jalapeño honey syrup. In a pot...</td>\n",
       "      <td>379 kcal</td>\n",
       "      <td>1</td>\n",
       "      <td>https://www.halfbakedharvest.com/wp-content/up...</td>\n",
       "    </tr>\n",
       "    <tr>\n",
       "      <th>14</th>\n",
       "      <td>Spiced Maple Bourbon Fizz</td>\n",
       "      <td>{'minutes': '5'}</td>\n",
       "      <td>{'minutes': '5'}</td>\n",
       "      <td>{'minutes': '10'}</td>\n",
       "      <td>[maple syrup, cinnamon sticks, cardamon pods, ...</td>\n",
       "      <td>{'maple syrup': '1/2', 'cinnamon sticks': '2',...</td>\n",
       "      <td>[1. To make the spiced maple syrup. In a mediu...</td>\n",
       "      <td>1457 kcal</td>\n",
       "      <td>1</td>\n",
       "      <td>https://www.halfbakedharvest.com/wp-content/up...</td>\n",
       "    </tr>\n",
       "    <tr>\n",
       "      <th>15</th>\n",
       "      <td>The Grave Digger</td>\n",
       "      <td>{'minutes': '5'}</td>\n",
       "      <td>-</td>\n",
       "      <td>{'minutes': '5'}</td>\n",
       "      <td>[mezcal or tequila, spiced apple cider, lemon ...</td>\n",
       "      <td>{'mezcal or tequila': '2', 'spiced apple cider...</td>\n",
       "      <td>[1. Fill a cocktail glass with ice., 2. Combin...</td>\n",
       "      <td>537 kcal</td>\n",
       "      <td>1</td>\n",
       "      <td>https://www.halfbakedharvest.com/wp-content/up...</td>\n",
       "    </tr>\n",
       "    <tr>\n",
       "      <th>16</th>\n",
       "      <td>Pink Vodka Watermelon Lemonade</td>\n",
       "      <td>{'minutes': '10'}</td>\n",
       "      <td>{'minutes': '5'}</td>\n",
       "      <td>{'minutes': '15'}</td>\n",
       "      <td>[honey or granulated sugar, fresh thyme sprigs...</td>\n",
       "      <td>{'honey or granulated sugar': '3/4', 'fresh th...</td>\n",
       "      <td>[1. To make the watermelon juice, blend the wa...</td>\n",
       "      <td>225 kcal</td>\n",
       "      <td>8</td>\n",
       "      <td>https://www.halfbakedharvest.com/wp-content/up...</td>\n",
       "    </tr>\n",
       "    <tr>\n",
       "      <th>17</th>\n",
       "      <td>Blackberry Champagne Mule</td>\n",
       "      <td>{'minutes': '5'}</td>\n",
       "      <td>-</td>\n",
       "      <td>{'minutes': '5'}</td>\n",
       "      <td>[fresh or frozen blackberries, fresh mint, plu...</td>\n",
       "      <td>{'fresh or frozen blackberries': '1 1/2', 'fre...</td>\n",
       "      <td>[1. In a cocktail shaker or glass jar, muddle ...</td>\n",
       "      <td>772 kcal</td>\n",
       "      <td>1</td>\n",
       "      <td>https://www.halfbakedharvest.com/wp-content/up...</td>\n",
       "    </tr>\n",
       "    <tr>\n",
       "      <th>18</th>\n",
       "      <td>Watermelon Rosè Paloma</td>\n",
       "      <td>{'minutes': '10'}</td>\n",
       "      <td>-</td>\n",
       "      <td>{'minutes': '10'}</td>\n",
       "      <td>[cubed watermelon, silver tequila, juice from ...</td>\n",
       "      <td>{'cubed watermelon': '4', 'silver tequila': '1...</td>\n",
       "      <td>[1. To make the watermelon juice, blend 2 cups...</td>\n",
       "      <td>422 kcal</td>\n",
       "      <td>1</td>\n",
       "      <td>https://www.halfbakedharvest.com/wp-content/up...</td>\n",
       "    </tr>\n",
       "    <tr>\n",
       "      <th>19</th>\n",
       "      <td>Spicy Cucumber Margarita.</td>\n",
       "      <td>{'minutes': '10'}</td>\n",
       "      <td>-</td>\n",
       "      <td>{'hours': '1', 'minutes': '10'}</td>\n",
       "      <td>[cucumber slices, fresh mint leaves, silver te...</td>\n",
       "      <td>{'cucumber slices': '4-6', 'fresh mint leaves'...</td>\n",
       "      <td>[1. To make the chili salt. Combine the salt, ...</td>\n",
       "      <td>820 kcal</td>\n",
       "      <td>1</td>\n",
       "      <td>https://www.halfbakedharvest.com/wp-content/up...</td>\n",
       "    </tr>\n",
       "    <tr>\n",
       "      <th>20</th>\n",
       "      <td>Dirty Horchata</td>\n",
       "      <td>{'minutes': '10'}</td>\n",
       "      <td>-</td>\n",
       "      <td>{'hours': '2', 'minutes': '10'}</td>\n",
       "      <td>[uncooked long-grain white rice, honey or real...</td>\n",
       "      <td>{'uncooked long-grain white rice': '1', 'honey...</td>\n",
       "      <td>[1. Combine the rice and 2 1/2 cups steaming h...</td>\n",
       "      <td>530 kcal</td>\n",
       "      <td>6</td>\n",
       "      <td>https://www.halfbakedharvest.com/wp-content/up...</td>\n",
       "    </tr>\n",
       "    <tr>\n",
       "      <th>21</th>\n",
       "      <td>-</td>\n",
       "      <td>-</td>\n",
       "      <td>-</td>\n",
       "      <td>-</td>\n",
       "      <td>-</td>\n",
       "      <td>-</td>\n",
       "      <td>-</td>\n",
       "      <td>-</td>\n",
       "      <td>-</td>\n",
       "      <td>https://www.halfbakedharvest.com/wp-content/up...</td>\n",
       "    </tr>\n",
       "    <tr>\n",
       "      <th>22</th>\n",
       "      <td>Smoky Harvest Apple Cider Margarita.</td>\n",
       "      <td>{'minutes': '5'}</td>\n",
       "      <td>-</td>\n",
       "      <td>{'minutes': '5'}</td>\n",
       "      <td>[cinnamon sugar and flaky sea salt, for the ri...</td>\n",
       "      <td>{'cinnamon sugar and flaky sea salt, for the r...</td>\n",
       "      <td>[1. If desired, rim your glass in salted cinna...</td>\n",
       "      <td>603 kcal</td>\n",
       "      <td>1</td>\n",
       "      <td>https://www.halfbakedharvest.com/wp-content/up...</td>\n",
       "    </tr>\n",
       "    <tr>\n",
       "      <th>23</th>\n",
       "      <td>Frozen Mango Mojito-Rita</td>\n",
       "      <td>{'minutes': '5'}</td>\n",
       "      <td>-</td>\n",
       "      <td>{'minutes': '5'}</td>\n",
       "      <td>[flaky sea salt, silver tequila, freshly squee...</td>\n",
       "      <td>{'flaky sea salt': 'seasoning', 'silver tequil...</td>\n",
       "      <td>[1. Run a lime wedge around the rim of your gl...</td>\n",
       "      <td>67 kcal</td>\n",
       "      <td>2</td>\n",
       "      <td>https://www.halfbakedharvest.com/wp-content/up...</td>\n",
       "    </tr>\n",
       "    <tr>\n",
       "      <th>24</th>\n",
       "      <td>Blackberry Tequila Lemon Cooler</td>\n",
       "      <td>{'minutes': '5'}</td>\n",
       "      <td>-</td>\n",
       "      <td>{'minutes': '5'}</td>\n",
       "      <td>[fresh blackberries, plus more for serving, fr...</td>\n",
       "      <td>{'fresh blackberries, plus more for serving': ...</td>\n",
       "      <td>[1. Fill a cocktail glass with ice., 2. In a c...</td>\n",
       "      <td>54 kcal</td>\n",
       "      <td>1</td>\n",
       "      <td>https://www.halfbakedharvest.com/wp-content/up...</td>\n",
       "    </tr>\n",
       "    <tr>\n",
       "      <th>25</th>\n",
       "      <td>Holly Jolly Christmas Citrus Cocktail</td>\n",
       "      <td>{'minutes': '5'}</td>\n",
       "      <td>-</td>\n",
       "      <td>{'minutes': '5'}</td>\n",
       "      <td>[vodka, St. Germain (elderflower liquor), fres...</td>\n",
       "      <td>{'vodka': '1', 'St. Germain (elderflower liquo...</td>\n",
       "      <td>[1. Fill a cocktail glass with ice. Add the vo...</td>\n",
       "      <td>105 kcal</td>\n",
       "      <td>1</td>\n",
       "      <td>https://www.halfbakedharvest.com/wp-content/up...</td>\n",
       "    </tr>\n",
       "    <tr>\n",
       "      <th>26</th>\n",
       "      <td>Holiday Pear Sangria</td>\n",
       "      <td>{'minutes': '10'}</td>\n",
       "      <td>-</td>\n",
       "      <td>{'minutes': '10'}</td>\n",
       "      <td>[dry white wine, pear or apple brandy, cranber...</td>\n",
       "      <td>{'dry white wine': '1', 'pear or apple brandy'...</td>\n",
       "      <td>[1. In a large pitcher, combine all the ingred...</td>\n",
       "      <td>257 kcal</td>\n",
       "      <td>8</td>\n",
       "      <td>https://www.halfbakedharvest.com/wp-content/up...</td>\n",
       "    </tr>\n",
       "    <tr>\n",
       "      <th>27</th>\n",
       "      <td>Vanilla Chai Old Fashioned</td>\n",
       "      <td>{'minutes': '5'}</td>\n",
       "      <td>{'minutes': '5'}</td>\n",
       "      <td>{'minutes': '10'}</td>\n",
       "      <td>[chai tea bags, real maple syrup, vanilla extr...</td>\n",
       "      <td>{'chai tea bags': '4', 'real maple syrup': '1/...</td>\n",
       "      <td>[1. In a medium pot, bring 1 cup water to a bo...</td>\n",
       "      <td>547 kcal</td>\n",
       "      <td>1</td>\n",
       "      <td>https://www.halfbakedharvest.com/wp-content/up...</td>\n",
       "    </tr>\n",
       "    <tr>\n",
       "      <th>28</th>\n",
       "      <td>Spiced Cranberry Rosé Spritzers</td>\n",
       "      <td>{'minutes': '15'}</td>\n",
       "      <td>{'minutes': '5'}</td>\n",
       "      <td>{'minutes': '20'}</td>\n",
       "      <td>[honey, fresh cranberries, fresh rosemary, plu...</td>\n",
       "      <td>{'honey': '1/2', 'fresh cranberries': '2', 'fr...</td>\n",
       "      <td>[1. To make the cranberry syrup: In a medium p...</td>\n",
       "      <td>694 kcal</td>\n",
       "      <td>10</td>\n",
       "      <td>https://www.halfbakedharvest.com/wp-content/up...</td>\n",
       "    </tr>\n",
       "    <tr>\n",
       "      <th>29</th>\n",
       "      <td>Pumpkin Patch Punch</td>\n",
       "      <td>{'minutes': '10'}</td>\n",
       "      <td>-</td>\n",
       "      <td>{'minutes': '10'}</td>\n",
       "      <td>[apple cider, freshly squeezed orange juice, f...</td>\n",
       "      <td>{'apple cider': '1', 'freshly squeezed orange ...</td>\n",
       "      <td>[1. In a large pitcher, combine the apple cide...</td>\n",
       "      <td>490 kcal</td>\n",
       "      <td>8</td>\n",
       "      <td>https://www.halfbakedharvest.com/wp-content/up...</td>\n",
       "    </tr>\n",
       "    <tr>\n",
       "      <th>30</th>\n",
       "      <td>The Black Widow Smash</td>\n",
       "      <td>{'minutes': '5'}</td>\n",
       "      <td>-</td>\n",
       "      <td>{'minutes': '5'}</td>\n",
       "      <td>[fresh blackberries, plus more for topping, fr...</td>\n",
       "      <td>{'fresh blackberries, plus more for topping': ...</td>\n",
       "      <td>[1. In a cocktail shaker or glass jar, add bla...</td>\n",
       "      <td>110 kcal</td>\n",
       "      <td>1</td>\n",
       "      <td>https://www.halfbakedharvest.com/wp-content/up...</td>\n",
       "    </tr>\n",
       "    <tr>\n",
       "      <th>31</th>\n",
       "      <td>Poison Apple Martini</td>\n",
       "      <td>{'minutes': '10'}</td>\n",
       "      <td>-</td>\n",
       "      <td>{'minutes': '10'}</td>\n",
       "      <td>[Black lava salt, or coarse black sugar, for r...</td>\n",
       "      <td>{'Black lava salt, or coarse black sugar, for ...</td>\n",
       "      <td>[1. If desired, rim your martini glass with bl...</td>\n",
       "      <td>55 kcal</td>\n",
       "      <td>1</td>\n",
       "      <td>https://www.halfbakedharvest.com/wp-content/up...</td>\n",
       "    </tr>\n",
       "    <tr>\n",
       "      <th>32</th>\n",
       "      <td>Smashed Berry Rosè Spritz</td>\n",
       "      <td>{'minutes': '10'}</td>\n",
       "      <td>-</td>\n",
       "      <td>{'minutes': '10'}</td>\n",
       "      <td>[fresh blackberries, fresh raspberries, basil ...</td>\n",
       "      <td>{'fresh blackberries': '1/2', 'fresh raspberri...</td>\n",
       "      <td>[In a pitcher, muddle the raspberries, blackbe...</td>\n",
       "      <td>211 kcal</td>\n",
       "      <td>6</td>\n",
       "      <td>https://www.halfbakedharvest.com/wp-content/up...</td>\n",
       "    </tr>\n",
       "  </tbody>\n",
       "</table>\n",
       "</div>"
      ],
      "text/plain": [
       "                                    title          prep_time  \\\n",
       "0               Hocus Pocus Old Fashioned  {'minutes': '10'}   \n",
       "1   Enchanted Graveyard Pomegranate Punch  {'minutes': '10'}   \n",
       "2       Frosted Mistletoe Margarita Punch  {'minutes': '10'}   \n",
       "3                  Spiced Cranberry Punch  {'minutes': '10'}   \n",
       "4                                       -                  -   \n",
       "5                  Voldemort’s Dark Serum   {'minutes': '5'}   \n",
       "6            Frosty's Frosted Moscow Mule   {'minutes': '5'}   \n",
       "7                  Cranberry Thyme Spritz  {'minutes': '10'}   \n",
       "8                 Vampire's Drip Cocktail  {'minutes': '10'}   \n",
       "9            The Deathly Hallows Cocktail   {'minutes': '5'}   \n",
       "10           Blood Orange Champagne Mule.   {'minutes': '5'}   \n",
       "11                 Christmas Ale Sangria.  {'minutes': '10'}   \n",
       "12      Pumpkin Butterbeer Hot Chocolate.   {'minutes': '5'}   \n",
       "13     Spicy Sweet Holiday Storm Cocktail   {'minutes': '5'}   \n",
       "14              Spiced Maple Bourbon Fizz   {'minutes': '5'}   \n",
       "15                       The Grave Digger   {'minutes': '5'}   \n",
       "16         Pink Vodka Watermelon Lemonade  {'minutes': '10'}   \n",
       "17              Blackberry Champagne Mule   {'minutes': '5'}   \n",
       "18                 Watermelon Rosè Paloma  {'minutes': '10'}   \n",
       "19              Spicy Cucumber Margarita.  {'minutes': '10'}   \n",
       "20                         Dirty Horchata  {'minutes': '10'}   \n",
       "21                                      -                  -   \n",
       "22   Smoky Harvest Apple Cider Margarita.   {'minutes': '5'}   \n",
       "23               Frozen Mango Mojito-Rita   {'minutes': '5'}   \n",
       "24        Blackberry Tequila Lemon Cooler   {'minutes': '5'}   \n",
       "25  Holly Jolly Christmas Citrus Cocktail   {'minutes': '5'}   \n",
       "26                   Holiday Pear Sangria  {'minutes': '10'}   \n",
       "27             Vanilla Chai Old Fashioned   {'minutes': '5'}   \n",
       "28        Spiced Cranberry Rosé Spritzers  {'minutes': '15'}   \n",
       "29                    Pumpkin Patch Punch  {'minutes': '10'}   \n",
       "30                  The Black Widow Smash   {'minutes': '5'}   \n",
       "31                   Poison Apple Martini  {'minutes': '10'}   \n",
       "32              Smashed Berry Rosè Spritz  {'minutes': '10'}   \n",
       "\n",
       "            cook_time                       total_time  \\\n",
       "0    {'minutes': '5'}                {'minutes': '15'}   \n",
       "1                   -                {'minutes': '10'}   \n",
       "2                   -                {'minutes': '10'}   \n",
       "3    {'minutes': '5'}                {'minutes': '15'}   \n",
       "4                   -                                -   \n",
       "5                   -                 {'minutes': '5'}   \n",
       "6                   -                 {'minutes': '5'}   \n",
       "7   {'minutes': '10'}                {'minutes': '20'}   \n",
       "8   {'minutes': '10'}                {'minutes': '20'}   \n",
       "9                   -                 {'minutes': '5'}   \n",
       "10                  -                 {'minutes': '5'}   \n",
       "11                  -                {'minutes': '10'}   \n",
       "12  {'minutes': '10'}                {'minutes': '15'}   \n",
       "13   {'minutes': '5'}                {'minutes': '10'}   \n",
       "14   {'minutes': '5'}                {'minutes': '10'}   \n",
       "15                  -                 {'minutes': '5'}   \n",
       "16   {'minutes': '5'}                {'minutes': '15'}   \n",
       "17                  -                 {'minutes': '5'}   \n",
       "18                  -                {'minutes': '10'}   \n",
       "19                  -  {'hours': '1', 'minutes': '10'}   \n",
       "20                  -  {'hours': '2', 'minutes': '10'}   \n",
       "21                  -                                -   \n",
       "22                  -                 {'minutes': '5'}   \n",
       "23                  -                 {'minutes': '5'}   \n",
       "24                  -                 {'minutes': '5'}   \n",
       "25                  -                 {'minutes': '5'}   \n",
       "26                  -                {'minutes': '10'}   \n",
       "27   {'minutes': '5'}                {'minutes': '10'}   \n",
       "28   {'minutes': '5'}                {'minutes': '20'}   \n",
       "29                  -                {'minutes': '10'}   \n",
       "30                  -                 {'minutes': '5'}   \n",
       "31                  -                {'minutes': '10'}   \n",
       "32                  -                {'minutes': '10'}   \n",
       "\n",
       "                                          ingredients  \\\n",
       "0   [honey, fresh rosemary, cinnamon sticks, star ...   \n",
       "1   [pomegranate juice, vodka, spiced apple butter...   \n",
       "2   [granulated sugar, kosher salt, silver tequila...   \n",
       "3   [fresh cranberries, honey or maple syrup, usin...   \n",
       "4                                                   -   \n",
       "5   [pomegranate juice, silver tequila or Mezcal, ...   \n",
       "6   [vodka, juice from 1/2 lime juice, fresh grape...   \n",
       "7   [honey, fresh cranberries, fresh thyme, fresh ...   \n",
       "8   [granulated sugar, pomegranate juice, white ru...   \n",
       "9   [silver tequila or Mezcal, cranberry or pomegr...   \n",
       "10  [juice of 1/2 a medium blood orange, juice of ...   \n",
       "11  [apple cider, vodka, dashes orange bitters, pe...   \n",
       "12  [whole milk, cocoa powder, ground cinnamon, mi...   \n",
       "13  [honey, jalapeños, sliced, fresh ginger, cranb...   \n",
       "14  [maple syrup, cinnamon sticks, cardamon pods, ...   \n",
       "15  [mezcal or tequila, spiced apple cider, lemon ...   \n",
       "16  [honey or granulated sugar, fresh thyme sprigs...   \n",
       "17  [fresh or frozen blackberries, fresh mint, plu...   \n",
       "18  [cubed watermelon, silver tequila, juice from ...   \n",
       "19  [cucumber slices, fresh mint leaves, silver te...   \n",
       "20  [uncooked long-grain white rice, honey or real...   \n",
       "21                                                  -   \n",
       "22  [cinnamon sugar and flaky sea salt, for the ri...   \n",
       "23  [flaky sea salt, silver tequila, freshly squee...   \n",
       "24  [fresh blackberries, plus more for serving, fr...   \n",
       "25  [vodka, St. Germain (elderflower liquor), fres...   \n",
       "26  [dry white wine, pear or apple brandy, cranber...   \n",
       "27  [chai tea bags, real maple syrup, vanilla extr...   \n",
       "28  [honey, fresh cranberries, fresh rosemary, plu...   \n",
       "29  [apple cider, freshly squeezed orange juice, f...   \n",
       "30  [fresh blackberries, plus more for topping, fr...   \n",
       "31  [Black lava salt, or coarse black sugar, for r...   \n",
       "32  [fresh blackberries, fresh raspberries, basil ...   \n",
       "\n",
       "                         ingredients with measurement  \\\n",
       "0   {'honey': '1/2', 'fresh rosemary': '2', 'cinna...   \n",
       "1   {'pomegranate juice': '8', 'vodka': '1', 'spic...   \n",
       "2   {'granulated sugar': '3', 'kosher salt': '2', ...   \n",
       "3   {'fresh cranberries': '2', 'honey or maple syr...   \n",
       "4                                                   -   \n",
       "5   {'pomegranate juice': '1', 'silver tequila or ...   \n",
       "6   {'vodka': '2', 'juice from 1/2 lime juice': 's...   \n",
       "7   {'honey': '1/2', 'fresh cranberries': '2', 'fr...   \n",
       "8   {'granulated sugar': '1/2', 'pomegranate juice...   \n",
       "9   {'silver tequila or Mezcal': '1 1/2', 'cranber...   \n",
       "10  {'juice of 1/2 a medium blood orange': 'season...   \n",
       "11  {'apple cider': '1 1/2', 'vodka': '1/2', 'dash...   \n",
       "12  {'whole milk': '4 1/2', 'cocoa powder': '1/4',...   \n",
       "13  {'honey': '1/2', 'jalapeños, sliced': '1-2', '...   \n",
       "14  {'maple syrup': '1/2', 'cinnamon sticks': '2',...   \n",
       "15  {'mezcal or tequila': '2', 'spiced apple cider...   \n",
       "16  {'honey or granulated sugar': '3/4', 'fresh th...   \n",
       "17  {'fresh or frozen blackberries': '1 1/2', 'fre...   \n",
       "18  {'cubed watermelon': '4', 'silver tequila': '1...   \n",
       "19  {'cucumber slices': '4-6', 'fresh mint leaves'...   \n",
       "20  {'uncooked long-grain white rice': '1', 'honey...   \n",
       "21                                                  -   \n",
       "22  {'cinnamon sugar and flaky sea salt, for the r...   \n",
       "23  {'flaky sea salt': 'seasoning', 'silver tequil...   \n",
       "24  {'fresh blackberries, plus more for serving': ...   \n",
       "25  {'vodka': '1', 'St. Germain (elderflower liquo...   \n",
       "26  {'dry white wine': '1', 'pear or apple brandy'...   \n",
       "27  {'chai tea bags': '4', 'real maple syrup': '1/...   \n",
       "28  {'honey': '1/2', 'fresh cranberries': '2', 'fr...   \n",
       "29  {'apple cider': '1', 'freshly squeezed orange ...   \n",
       "30  {'fresh blackberries, plus more for topping': ...   \n",
       "31  {'Black lava salt, or coarse black sugar, for ...   \n",
       "32  {'fresh blackberries': '1/2', 'fresh raspberri...   \n",
       "\n",
       "                                         instructions   calories servings  \\\n",
       "0   [1. To make the spiced honey syrup. In a mediu...   246 kcal        1   \n",
       "1   [1. In a large pitcher, combine the pomegranat...   338 kcal        8   \n",
       "2   [1. Combine the sugar and salt on a shallow pl...   207 kcal        8   \n",
       "3   [1. In a pot, bring 1/2 cup water, the cranber...   296 kcal        8   \n",
       "4                                                   -          -        -   \n",
       "5   [1. Combine the pomegranate juice, tequila, Ch...   448 kcal        1   \n",
       "6   [1. Fill a cocktail glass with ice. Add the vo...   449 kcal        1   \n",
       "7   [1. In a medium pot, bring 1/2 cup water, the ...   252 kcal        8   \n",
       "8   [1. Bring the sugar and pomegranate juice to a...   348 kcal        2   \n",
       "9   [1. Combine all the ingredients in a cocktail ...   354 kcal        1   \n",
       "10                                                 []   717 kcal        1   \n",
       "11                                                 []   331 kcal        8   \n",
       "12                                                 []  1319 kcal        3   \n",
       "13  [1. To make the jalapeño honey syrup. In a pot...   379 kcal        1   \n",
       "14  [1. To make the spiced maple syrup. In a mediu...  1457 kcal        1   \n",
       "15  [1. Fill a cocktail glass with ice., 2. Combin...   537 kcal        1   \n",
       "16  [1. To make the watermelon juice, blend the wa...   225 kcal        8   \n",
       "17  [1. In a cocktail shaker or glass jar, muddle ...   772 kcal        1   \n",
       "18  [1. To make the watermelon juice, blend 2 cups...   422 kcal        1   \n",
       "19  [1. To make the chili salt. Combine the salt, ...   820 kcal        1   \n",
       "20  [1. Combine the rice and 2 1/2 cups steaming h...   530 kcal        6   \n",
       "21                                                  -          -        -   \n",
       "22  [1. If desired, rim your glass in salted cinna...   603 kcal        1   \n",
       "23  [1. Run a lime wedge around the rim of your gl...    67 kcal        2   \n",
       "24  [1. Fill a cocktail glass with ice., 2. In a c...    54 kcal        1   \n",
       "25  [1. Fill a cocktail glass with ice. Add the vo...   105 kcal        1   \n",
       "26  [1. In a large pitcher, combine all the ingred...   257 kcal        8   \n",
       "27  [1. In a medium pot, bring 1 cup water to a bo...   547 kcal        1   \n",
       "28  [1. To make the cranberry syrup: In a medium p...   694 kcal       10   \n",
       "29  [1. In a large pitcher, combine the apple cide...   490 kcal        8   \n",
       "30  [1. In a cocktail shaker or glass jar, add bla...   110 kcal        1   \n",
       "31  [1. If desired, rim your martini glass with bl...    55 kcal        1   \n",
       "32  [In a pitcher, muddle the raspberries, blackbe...   211 kcal        6   \n",
       "\n",
       "                                               images  \n",
       "0   https://www.halfbakedharvest.com/wp-content/up...  \n",
       "1   https://www.halfbakedharvest.com/wp-content/up...  \n",
       "2   https://www.halfbakedharvest.com/wp-content/up...  \n",
       "3   https://www.halfbakedharvest.com/wp-content/up...  \n",
       "4   https://www.halfbakedharvest.com/wp-content/up...  \n",
       "5   https://www.halfbakedharvest.com/wp-content/up...  \n",
       "6   https://www.halfbakedharvest.com/wp-content/up...  \n",
       "7   https://www.halfbakedharvest.com/wp-content/up...  \n",
       "8   https://www.halfbakedharvest.com/wp-content/up...  \n",
       "9   https://www.halfbakedharvest.com/wp-content/up...  \n",
       "10  https://www.halfbakedharvest.com/wp-content/up...  \n",
       "11  https://www.halfbakedharvest.com/wp-content/up...  \n",
       "12  https://www.halfbakedharvest.com/wp-content/up...  \n",
       "13  https://www.halfbakedharvest.com/wp-content/up...  \n",
       "14  https://www.halfbakedharvest.com/wp-content/up...  \n",
       "15  https://www.halfbakedharvest.com/wp-content/up...  \n",
       "16  https://www.halfbakedharvest.com/wp-content/up...  \n",
       "17  https://www.halfbakedharvest.com/wp-content/up...  \n",
       "18  https://www.halfbakedharvest.com/wp-content/up...  \n",
       "19  https://www.halfbakedharvest.com/wp-content/up...  \n",
       "20  https://www.halfbakedharvest.com/wp-content/up...  \n",
       "21  https://www.halfbakedharvest.com/wp-content/up...  \n",
       "22  https://www.halfbakedharvest.com/wp-content/up...  \n",
       "23  https://www.halfbakedharvest.com/wp-content/up...  \n",
       "24  https://www.halfbakedharvest.com/wp-content/up...  \n",
       "25  https://www.halfbakedharvest.com/wp-content/up...  \n",
       "26  https://www.halfbakedharvest.com/wp-content/up...  \n",
       "27  https://www.halfbakedharvest.com/wp-content/up...  \n",
       "28  https://www.halfbakedharvest.com/wp-content/up...  \n",
       "29  https://www.halfbakedharvest.com/wp-content/up...  \n",
       "30  https://www.halfbakedharvest.com/wp-content/up...  \n",
       "31  https://www.halfbakedharvest.com/wp-content/up...  \n",
       "32  https://www.halfbakedharvest.com/wp-content/up...  "
      ]
     },
     "execution_count": 16,
     "metadata": {},
     "output_type": "execute_result"
    }
   ],
   "source": [
    "final"
   ]
  },
  {
   "cell_type": "code",
   "execution_count": 17,
   "id": "18b7a886",
   "metadata": {},
   "outputs": [],
   "source": [
    "# def save_list_to_txt(filename, data_list):\n",
    "#     \"\"\"\n",
    "#     Save a list of strings to a text file, one item per line.\n",
    "    \n",
    "#     :param filename: The name of the file to save the list to.\n",
    "#     :param data_list: The list of strings to save.\n",
    "#     \"\"\"\n",
    "#     with open(filename, 'w') as f:\n",
    "#         for item in data_list:\n",
    "#             f.write(f\"{item}\\n\")"
   ]
  },
  {
   "cell_type": "code",
   "execution_count": 18,
   "id": "6243ee7b",
   "metadata": {},
   "outputs": [],
   "source": [
    "# save_list_to_txt('newnewnewfailed_url.txt', new_failed_url)\n",
    "# final.to_csv('failed_desserts3.csv', index=False)"
   ]
  },
  {
   "cell_type": "code",
   "execution_count": 19,
   "id": "063b6bb1",
   "metadata": {},
   "outputs": [],
   "source": [
    "# save_list_to_txt('newnewfailed_url.txt', failed_url)"
   ]
  },
  {
   "cell_type": "markdown",
   "id": "ad5f4226",
   "metadata": {},
   "source": [
    "# STOP"
   ]
  },
  {
   "cell_type": "code",
   "execution_count": 49,
   "id": "06efa33b",
   "metadata": {},
   "outputs": [],
   "source": [
    "failed_url = new_failed_url"
   ]
  },
  {
   "cell_type": "code",
   "execution_count": 50,
   "id": "d0002fad",
   "metadata": {},
   "outputs": [
    {
     "data": {
      "text/plain": [
       "1"
      ]
     },
     "execution_count": 50,
     "metadata": {},
     "output_type": "execute_result"
    }
   ],
   "source": [
    "len(failed_url)"
   ]
  },
  {
   "cell_type": "code",
   "execution_count": 51,
   "id": "c5cab9ef",
   "metadata": {},
   "outputs": [],
   "source": [
    "new_failed_url = []"
   ]
  },
  {
   "cell_type": "markdown",
   "id": "88573086",
   "metadata": {},
   "source": [
    "### Recipes 25-200"
   ]
  },
  {
   "cell_type": "code",
   "execution_count": 52,
   "id": "96880399",
   "metadata": {
    "scrolled": true
   },
   "outputs": [
    {
     "name": "stdout",
     "output_type": "stream",
     "text": [
      "Proxies loaded: ['160.86.242.23:8080', '185.195.71.218:18080', '35.220.254.137:8080']\n",
      "Successfully retrieved 0 - https://www.halfbakedharvest.com/the-20-most-popular-fall-drinks/ with proxy 160.86.242.23:8080\n"
     ]
    }
   ],
   "source": [
    "# Read proxies from the file and create a cycle iterator\n",
    "with open('proxies.txt', 'r') as f:\n",
    "    proxies = [line.strip() for line in f if line.strip()]\n",
    "\n",
    "# Check if proxies are being read correctly\n",
    "if not proxies:\n",
    "    print(\"No valid proxies found in proxies.txt\")\n",
    "else:\n",
    "    print(f\"Proxies loaded: {proxies}\")\n",
    "\n",
    "proxy_cycle = itertools.cycle(proxies)\n",
    "\n",
    "# Initialize an empty DataFrame to store results\n",
    "temp_recipes_2 = pd.DataFrame(columns=columns)\n",
    "title = []\n",
    "prep_time = []\n",
    "cook_time = []\n",
    "total_time = []\n",
    "\n",
    "ingredients_measurment = []\n",
    "ingredients = []\n",
    "instructions = []\n",
    "\n",
    "calories = []\n",
    "servings = []\n",
    "images = []\n",
    "\n",
    "# Loop over the desired number of pages\n",
    "for i in range(0, len(failed_url)):\n",
    "    proxy = next(proxy_cycle)\n",
    "\n",
    "    # Set up request with proxy\n",
    "    headers = {'User-Agent': 'Mozilla/5.0 (Windows NT 6.3; Win64; x64) AppleWebKit/537.36 (KHTML, like Gecko) Chrome/80.0.3987.162 Safari/537.36'}\n",
    "    url = failed_url[i]\n",
    "    proxy_dict = {'http': proxy, 'https': proxy}\n",
    "\n",
    "    try:\n",
    "        response = requests.get(url, headers=headers, proxies=proxy_dict, timeout=30)\n",
    "        \n",
    "        # Check if the request was successful\n",
    "        if response.status_code == 200:\n",
    "            soup = BeautifulSoup(response.content, 'html.parser')\n",
    "            extract(soup)\n",
    "            print(f\"Successfully retrieved {i} - {url} with proxy {proxy}\")\n",
    "        else:\n",
    "            new_failed_url.append(url)\n",
    "            print(f\"Failed to retrieve page {url} with proxy {proxy}. Status code: {response.status_code}\")\n",
    "    except (requests.ConnectionError, requests.Timeout) as e:\n",
    "        new_failed_url.append(url)\n",
    "        print(f\"Proxy {proxy} failed for {url}: {e}\")\n",
    "    except ChunkedEncodingError as e:  # Handle ChunkedEncodingError\n",
    "        new_failed_url.append(url)\n",
    "        print(f\"ChunkedEncodingError occurred for proxy {proxy} and {url}: {e}\")\n",
    "        continue  # Move to the next page\n",
    "\n",
    "\n",
    "\n",
    "\n",
    "temp_recipes_2['title'] = title\n",
    "temp_recipes_2['prep_time'] = prep_time\n",
    "temp_recipes_2['cook_time'] = cook_time\n",
    "temp_recipes_2['total_time'] = total_time\n",
    "temp_recipes_2['ingredients'] = ingredients\n",
    "temp_recipes_2['ingredients with measurement'] = ingredients_measurment\n",
    "temp_recipes_2['instructions'] = instructions\n",
    "temp_recipes_2['calories'] = calories\n",
    "temp_recipes_2['servings'] = servings\n",
    "temp_recipes_2['images']= images\n",
    "\n",
    "\n",
    "\n",
    "    "
   ]
  },
  {
   "cell_type": "code",
   "execution_count": 53,
   "id": "86fec35e",
   "metadata": {},
   "outputs": [
    {
     "name": "stdout",
     "output_type": "stream",
     "text": [
      "0\n"
     ]
    }
   ],
   "source": [
    "print(len(new_failed_url))"
   ]
  },
  {
   "cell_type": "code",
   "execution_count": 54,
   "id": "f7862ade",
   "metadata": {},
   "outputs": [
    {
     "data": {
      "text/plain": [
       "[]"
      ]
     },
     "execution_count": 54,
     "metadata": {},
     "output_type": "execute_result"
    }
   ],
   "source": [
    "new_failed_url"
   ]
  },
  {
   "cell_type": "code",
   "execution_count": 55,
   "id": "b867696d",
   "metadata": {},
   "outputs": [
    {
     "data": {
      "text/html": [
       "<div>\n",
       "<style scoped>\n",
       "    .dataframe tbody tr th:only-of-type {\n",
       "        vertical-align: middle;\n",
       "    }\n",
       "\n",
       "    .dataframe tbody tr th {\n",
       "        vertical-align: top;\n",
       "    }\n",
       "\n",
       "    .dataframe thead th {\n",
       "        text-align: right;\n",
       "    }\n",
       "</style>\n",
       "<table border=\"1\" class=\"dataframe\">\n",
       "  <thead>\n",
       "    <tr style=\"text-align: right;\">\n",
       "      <th></th>\n",
       "      <th>title</th>\n",
       "      <th>prep_time</th>\n",
       "      <th>cook_time</th>\n",
       "      <th>total_time</th>\n",
       "      <th>ingredients</th>\n",
       "      <th>ingredients with measurement</th>\n",
       "      <th>instructions</th>\n",
       "      <th>calories</th>\n",
       "      <th>servings</th>\n",
       "      <th>images</th>\n",
       "    </tr>\n",
       "  </thead>\n",
       "  <tbody>\n",
       "    <tr>\n",
       "      <th>0</th>\n",
       "      <td>-</td>\n",
       "      <td>-</td>\n",
       "      <td>-</td>\n",
       "      <td>-</td>\n",
       "      <td>-</td>\n",
       "      <td>-</td>\n",
       "      <td>-</td>\n",
       "      <td>-</td>\n",
       "      <td>-</td>\n",
       "      <td>https://www.halfbakedharvest.com/wp-content/up...</td>\n",
       "    </tr>\n",
       "  </tbody>\n",
       "</table>\n",
       "</div>"
      ],
      "text/plain": [
       "  title prep_time cook_time total_time ingredients  \\\n",
       "0     -         -         -          -           -   \n",
       "\n",
       "  ingredients with measurement instructions calories servings  \\\n",
       "0                            -            -        -        -   \n",
       "\n",
       "                                              images  \n",
       "0  https://www.halfbakedharvest.com/wp-content/up...  "
      ]
     },
     "execution_count": 55,
     "metadata": {},
     "output_type": "execute_result"
    }
   ],
   "source": [
    "temp_recipes_2"
   ]
  },
  {
   "cell_type": "code",
   "execution_count": 56,
   "id": "f7df378c",
   "metadata": {
    "scrolled": true
   },
   "outputs": [
    {
     "data": {
      "text/html": [
       "<div>\n",
       "<style scoped>\n",
       "    .dataframe tbody tr th:only-of-type {\n",
       "        vertical-align: middle;\n",
       "    }\n",
       "\n",
       "    .dataframe tbody tr th {\n",
       "        vertical-align: top;\n",
       "    }\n",
       "\n",
       "    .dataframe thead th {\n",
       "        text-align: right;\n",
       "    }\n",
       "</style>\n",
       "<table border=\"1\" class=\"dataframe\">\n",
       "  <thead>\n",
       "    <tr style=\"text-align: right;\">\n",
       "      <th></th>\n",
       "      <th>title</th>\n",
       "      <th>prep_time</th>\n",
       "      <th>cook_time</th>\n",
       "      <th>total_time</th>\n",
       "      <th>ingredients</th>\n",
       "      <th>ingredients with measurement</th>\n",
       "      <th>instructions</th>\n",
       "      <th>calories</th>\n",
       "      <th>servings</th>\n",
       "      <th>images</th>\n",
       "    </tr>\n",
       "  </thead>\n",
       "  <tbody>\n",
       "    <tr>\n",
       "      <th>0</th>\n",
       "      <td>Hocus Pocus Old Fashioned</td>\n",
       "      <td>{'minutes': '10'}</td>\n",
       "      <td>{'minutes': '5'}</td>\n",
       "      <td>{'minutes': '15'}</td>\n",
       "      <td>[honey, fresh rosemary, cinnamon sticks, star ...</td>\n",
       "      <td>{'honey': '1/2', 'fresh rosemary': '2', 'cinna...</td>\n",
       "      <td>[1. To make the spiced honey syrup. In a mediu...</td>\n",
       "      <td>246 kcal</td>\n",
       "      <td>1</td>\n",
       "      <td>https://www.halfbakedharvest.com/wp-content/up...</td>\n",
       "    </tr>\n",
       "    <tr>\n",
       "      <th>1</th>\n",
       "      <td>Enchanted Graveyard Pomegranate Punch</td>\n",
       "      <td>{'minutes': '10'}</td>\n",
       "      <td>-</td>\n",
       "      <td>{'minutes': '10'}</td>\n",
       "      <td>[pomegranate juice, vodka, spiced apple butter...</td>\n",
       "      <td>{'pomegranate juice': '8', 'vodka': '1', 'spic...</td>\n",
       "      <td>[1. In a large pitcher, combine the pomegranat...</td>\n",
       "      <td>338 kcal</td>\n",
       "      <td>8</td>\n",
       "      <td>https://www.halfbakedharvest.com/wp-content/up...</td>\n",
       "    </tr>\n",
       "    <tr>\n",
       "      <th>2</th>\n",
       "      <td>Frosted Mistletoe Margarita Punch</td>\n",
       "      <td>{'minutes': '10'}</td>\n",
       "      <td>-</td>\n",
       "      <td>{'minutes': '10'}</td>\n",
       "      <td>[granulated sugar, kosher salt, silver tequila...</td>\n",
       "      <td>{'granulated sugar': '3', 'kosher salt': '2', ...</td>\n",
       "      <td>[1. Combine the sugar and salt on a shallow pl...</td>\n",
       "      <td>207 kcal</td>\n",
       "      <td>8</td>\n",
       "      <td>https://www.halfbakedharvest.com/wp-content/up...</td>\n",
       "    </tr>\n",
       "    <tr>\n",
       "      <th>3</th>\n",
       "      <td>Spiced Cranberry Punch</td>\n",
       "      <td>{'minutes': '10'}</td>\n",
       "      <td>{'minutes': '5'}</td>\n",
       "      <td>{'minutes': '15'}</td>\n",
       "      <td>[fresh cranberries, honey or maple syrup, usin...</td>\n",
       "      <td>{'fresh cranberries': '2', 'honey or maple syr...</td>\n",
       "      <td>[1. In a pot, bring 1/2 cup water, the cranber...</td>\n",
       "      <td>296 kcal</td>\n",
       "      <td>8</td>\n",
       "      <td>https://www.halfbakedharvest.com/wp-content/up...</td>\n",
       "    </tr>\n",
       "    <tr>\n",
       "      <th>4</th>\n",
       "      <td>-</td>\n",
       "      <td>-</td>\n",
       "      <td>-</td>\n",
       "      <td>-</td>\n",
       "      <td>-</td>\n",
       "      <td>-</td>\n",
       "      <td>-</td>\n",
       "      <td>-</td>\n",
       "      <td>-</td>\n",
       "      <td>https://www.halfbakedharvest.com/wp-content/up...</td>\n",
       "    </tr>\n",
       "    <tr>\n",
       "      <th>5</th>\n",
       "      <td>Voldemort’s Dark Serum</td>\n",
       "      <td>{'minutes': '5'}</td>\n",
       "      <td>-</td>\n",
       "      <td>{'minutes': '5'}</td>\n",
       "      <td>[pomegranate juice, silver tequila or Mezcal, ...</td>\n",
       "      <td>{'pomegranate juice': '1', 'silver tequila or ...</td>\n",
       "      <td>[1. Combine the pomegranate juice, tequila, Ch...</td>\n",
       "      <td>448 kcal</td>\n",
       "      <td>1</td>\n",
       "      <td>https://www.halfbakedharvest.com/wp-content/up...</td>\n",
       "    </tr>\n",
       "    <tr>\n",
       "      <th>6</th>\n",
       "      <td>Frosty's Frosted Moscow Mule</td>\n",
       "      <td>{'minutes': '5'}</td>\n",
       "      <td>-</td>\n",
       "      <td>{'minutes': '5'}</td>\n",
       "      <td>[vodka, juice from 1/2 lime juice, fresh grape...</td>\n",
       "      <td>{'vodka': '2', 'juice from 1/2 lime juice': 's...</td>\n",
       "      <td>[1. Fill a cocktail glass with ice. Add the vo...</td>\n",
       "      <td>449 kcal</td>\n",
       "      <td>1</td>\n",
       "      <td>https://www.halfbakedharvest.com/wp-content/up...</td>\n",
       "    </tr>\n",
       "    <tr>\n",
       "      <th>7</th>\n",
       "      <td>Cranberry Thyme Spritz</td>\n",
       "      <td>{'minutes': '10'}</td>\n",
       "      <td>{'minutes': '10'}</td>\n",
       "      <td>{'minutes': '20'}</td>\n",
       "      <td>[honey, fresh cranberries, fresh thyme, fresh ...</td>\n",
       "      <td>{'honey': '1/2', 'fresh cranberries': '2', 'fr...</td>\n",
       "      <td>[1. In a medium pot, bring 1/2 cup water, the ...</td>\n",
       "      <td>252 kcal</td>\n",
       "      <td>8</td>\n",
       "      <td>https://www.halfbakedharvest.com/wp-content/up...</td>\n",
       "    </tr>\n",
       "    <tr>\n",
       "      <th>8</th>\n",
       "      <td>Vampire's Drip Cocktail</td>\n",
       "      <td>{'minutes': '10'}</td>\n",
       "      <td>{'minutes': '10'}</td>\n",
       "      <td>{'minutes': '20'}</td>\n",
       "      <td>[granulated sugar, pomegranate juice, white ru...</td>\n",
       "      <td>{'granulated sugar': '1/2', 'pomegranate juice...</td>\n",
       "      <td>[1. Bring the sugar and pomegranate juice to a...</td>\n",
       "      <td>348 kcal</td>\n",
       "      <td>2</td>\n",
       "      <td>https://www.halfbakedharvest.com/wp-content/up...</td>\n",
       "    </tr>\n",
       "    <tr>\n",
       "      <th>9</th>\n",
       "      <td>The Deathly Hallows Cocktail</td>\n",
       "      <td>{'minutes': '5'}</td>\n",
       "      <td>-</td>\n",
       "      <td>{'minutes': '5'}</td>\n",
       "      <td>[silver tequila or Mezcal, cranberry or pomegr...</td>\n",
       "      <td>{'silver tequila or Mezcal': '1 1/2', 'cranber...</td>\n",
       "      <td>[1. Combine all the ingredients in a cocktail ...</td>\n",
       "      <td>354 kcal</td>\n",
       "      <td>1</td>\n",
       "      <td>https://www.halfbakedharvest.com/wp-content/up...</td>\n",
       "    </tr>\n",
       "    <tr>\n",
       "      <th>10</th>\n",
       "      <td>Blood Orange Champagne Mule.</td>\n",
       "      <td>{'minutes': '5'}</td>\n",
       "      <td>-</td>\n",
       "      <td>{'minutes': '5'}</td>\n",
       "      <td>[juice of 1/2 a medium blood orange, juice of ...</td>\n",
       "      <td>{'juice of 1/2 a medium blood orange': 'season...</td>\n",
       "      <td>[]</td>\n",
       "      <td>717 kcal</td>\n",
       "      <td>1</td>\n",
       "      <td>https://www.halfbakedharvest.com/wp-content/up...</td>\n",
       "    </tr>\n",
       "    <tr>\n",
       "      <th>11</th>\n",
       "      <td>Christmas Ale Sangria.</td>\n",
       "      <td>{'minutes': '10'}</td>\n",
       "      <td>-</td>\n",
       "      <td>{'minutes': '10'}</td>\n",
       "      <td>[apple cider, vodka, dashes orange bitters, pe...</td>\n",
       "      <td>{'apple cider': '1 1/2', 'vodka': '1/2', 'dash...</td>\n",
       "      <td>[]</td>\n",
       "      <td>331 kcal</td>\n",
       "      <td>8</td>\n",
       "      <td>https://www.halfbakedharvest.com/wp-content/up...</td>\n",
       "    </tr>\n",
       "    <tr>\n",
       "      <th>12</th>\n",
       "      <td>Pumpkin Butterbeer Hot Chocolate.</td>\n",
       "      <td>{'minutes': '5'}</td>\n",
       "      <td>{'minutes': '10'}</td>\n",
       "      <td>{'minutes': '15'}</td>\n",
       "      <td>[whole milk, cocoa powder, ground cinnamon, mi...</td>\n",
       "      <td>{'whole milk': '4 1/2', 'cocoa powder': '1/4',...</td>\n",
       "      <td>[]</td>\n",
       "      <td>1319 kcal</td>\n",
       "      <td>3</td>\n",
       "      <td>https://www.halfbakedharvest.com/wp-content/up...</td>\n",
       "    </tr>\n",
       "    <tr>\n",
       "      <th>13</th>\n",
       "      <td>Spicy Sweet Holiday Storm Cocktail</td>\n",
       "      <td>{'minutes': '5'}</td>\n",
       "      <td>{'minutes': '5'}</td>\n",
       "      <td>{'minutes': '10'}</td>\n",
       "      <td>[honey, jalapeños, sliced, fresh ginger, cranb...</td>\n",
       "      <td>{'honey': '1/2', 'jalapeños, sliced': '1-2', '...</td>\n",
       "      <td>[1. To make the jalapeño honey syrup. In a pot...</td>\n",
       "      <td>379 kcal</td>\n",
       "      <td>1</td>\n",
       "      <td>https://www.halfbakedharvest.com/wp-content/up...</td>\n",
       "    </tr>\n",
       "    <tr>\n",
       "      <th>14</th>\n",
       "      <td>Spiced Maple Bourbon Fizz</td>\n",
       "      <td>{'minutes': '5'}</td>\n",
       "      <td>{'minutes': '5'}</td>\n",
       "      <td>{'minutes': '10'}</td>\n",
       "      <td>[maple syrup, cinnamon sticks, cardamon pods, ...</td>\n",
       "      <td>{'maple syrup': '1/2', 'cinnamon sticks': '2',...</td>\n",
       "      <td>[1. To make the spiced maple syrup. In a mediu...</td>\n",
       "      <td>1457 kcal</td>\n",
       "      <td>1</td>\n",
       "      <td>https://www.halfbakedharvest.com/wp-content/up...</td>\n",
       "    </tr>\n",
       "    <tr>\n",
       "      <th>15</th>\n",
       "      <td>The Grave Digger</td>\n",
       "      <td>{'minutes': '5'}</td>\n",
       "      <td>-</td>\n",
       "      <td>{'minutes': '5'}</td>\n",
       "      <td>[mezcal or tequila, spiced apple cider, lemon ...</td>\n",
       "      <td>{'mezcal or tequila': '2', 'spiced apple cider...</td>\n",
       "      <td>[1. Fill a cocktail glass with ice., 2. Combin...</td>\n",
       "      <td>537 kcal</td>\n",
       "      <td>1</td>\n",
       "      <td>https://www.halfbakedharvest.com/wp-content/up...</td>\n",
       "    </tr>\n",
       "    <tr>\n",
       "      <th>16</th>\n",
       "      <td>Pink Vodka Watermelon Lemonade</td>\n",
       "      <td>{'minutes': '10'}</td>\n",
       "      <td>{'minutes': '5'}</td>\n",
       "      <td>{'minutes': '15'}</td>\n",
       "      <td>[honey or granulated sugar, fresh thyme sprigs...</td>\n",
       "      <td>{'honey or granulated sugar': '3/4', 'fresh th...</td>\n",
       "      <td>[1. To make the watermelon juice, blend the wa...</td>\n",
       "      <td>225 kcal</td>\n",
       "      <td>8</td>\n",
       "      <td>https://www.halfbakedharvest.com/wp-content/up...</td>\n",
       "    </tr>\n",
       "    <tr>\n",
       "      <th>17</th>\n",
       "      <td>Blackberry Champagne Mule</td>\n",
       "      <td>{'minutes': '5'}</td>\n",
       "      <td>-</td>\n",
       "      <td>{'minutes': '5'}</td>\n",
       "      <td>[fresh or frozen blackberries, fresh mint, plu...</td>\n",
       "      <td>{'fresh or frozen blackberries': '1 1/2', 'fre...</td>\n",
       "      <td>[1. In a cocktail shaker or glass jar, muddle ...</td>\n",
       "      <td>772 kcal</td>\n",
       "      <td>1</td>\n",
       "      <td>https://www.halfbakedharvest.com/wp-content/up...</td>\n",
       "    </tr>\n",
       "    <tr>\n",
       "      <th>18</th>\n",
       "      <td>Watermelon Rosè Paloma</td>\n",
       "      <td>{'minutes': '10'}</td>\n",
       "      <td>-</td>\n",
       "      <td>{'minutes': '10'}</td>\n",
       "      <td>[cubed watermelon, silver tequila, juice from ...</td>\n",
       "      <td>{'cubed watermelon': '4', 'silver tequila': '1...</td>\n",
       "      <td>[1. To make the watermelon juice, blend 2 cups...</td>\n",
       "      <td>422 kcal</td>\n",
       "      <td>1</td>\n",
       "      <td>https://www.halfbakedharvest.com/wp-content/up...</td>\n",
       "    </tr>\n",
       "    <tr>\n",
       "      <th>19</th>\n",
       "      <td>Spicy Cucumber Margarita.</td>\n",
       "      <td>{'minutes': '10'}</td>\n",
       "      <td>-</td>\n",
       "      <td>{'hours': '1', 'minutes': '10'}</td>\n",
       "      <td>[cucumber slices, fresh mint leaves, silver te...</td>\n",
       "      <td>{'cucumber slices': '4-6', 'fresh mint leaves'...</td>\n",
       "      <td>[1. To make the chili salt. Combine the salt, ...</td>\n",
       "      <td>820 kcal</td>\n",
       "      <td>1</td>\n",
       "      <td>https://www.halfbakedharvest.com/wp-content/up...</td>\n",
       "    </tr>\n",
       "    <tr>\n",
       "      <th>20</th>\n",
       "      <td>Dirty Horchata</td>\n",
       "      <td>{'minutes': '10'}</td>\n",
       "      <td>-</td>\n",
       "      <td>{'hours': '2', 'minutes': '10'}</td>\n",
       "      <td>[uncooked long-grain white rice, honey or real...</td>\n",
       "      <td>{'uncooked long-grain white rice': '1', 'honey...</td>\n",
       "      <td>[1. Combine the rice and 2 1/2 cups steaming h...</td>\n",
       "      <td>530 kcal</td>\n",
       "      <td>6</td>\n",
       "      <td>https://www.halfbakedharvest.com/wp-content/up...</td>\n",
       "    </tr>\n",
       "    <tr>\n",
       "      <th>21</th>\n",
       "      <td>-</td>\n",
       "      <td>-</td>\n",
       "      <td>-</td>\n",
       "      <td>-</td>\n",
       "      <td>-</td>\n",
       "      <td>-</td>\n",
       "      <td>-</td>\n",
       "      <td>-</td>\n",
       "      <td>-</td>\n",
       "      <td>https://www.halfbakedharvest.com/wp-content/up...</td>\n",
       "    </tr>\n",
       "    <tr>\n",
       "      <th>22</th>\n",
       "      <td>Smoky Harvest Apple Cider Margarita.</td>\n",
       "      <td>{'minutes': '5'}</td>\n",
       "      <td>-</td>\n",
       "      <td>{'minutes': '5'}</td>\n",
       "      <td>[cinnamon sugar and flaky sea salt, for the ri...</td>\n",
       "      <td>{'cinnamon sugar and flaky sea salt, for the r...</td>\n",
       "      <td>[1. If desired, rim your glass in salted cinna...</td>\n",
       "      <td>603 kcal</td>\n",
       "      <td>1</td>\n",
       "      <td>https://www.halfbakedharvest.com/wp-content/up...</td>\n",
       "    </tr>\n",
       "    <tr>\n",
       "      <th>23</th>\n",
       "      <td>Frozen Mango Mojito-Rita</td>\n",
       "      <td>{'minutes': '5'}</td>\n",
       "      <td>-</td>\n",
       "      <td>{'minutes': '5'}</td>\n",
       "      <td>[flaky sea salt, silver tequila, freshly squee...</td>\n",
       "      <td>{'flaky sea salt': 'seasoning', 'silver tequil...</td>\n",
       "      <td>[1. Run a lime wedge around the rim of your gl...</td>\n",
       "      <td>67 kcal</td>\n",
       "      <td>2</td>\n",
       "      <td>https://www.halfbakedharvest.com/wp-content/up...</td>\n",
       "    </tr>\n",
       "    <tr>\n",
       "      <th>24</th>\n",
       "      <td>Blackberry Tequila Lemon Cooler</td>\n",
       "      <td>{'minutes': '5'}</td>\n",
       "      <td>-</td>\n",
       "      <td>{'minutes': '5'}</td>\n",
       "      <td>[fresh blackberries, plus more for serving, fr...</td>\n",
       "      <td>{'fresh blackberries, plus more for serving': ...</td>\n",
       "      <td>[1. Fill a cocktail glass with ice., 2. In a c...</td>\n",
       "      <td>54 kcal</td>\n",
       "      <td>1</td>\n",
       "      <td>https://www.halfbakedharvest.com/wp-content/up...</td>\n",
       "    </tr>\n",
       "    <tr>\n",
       "      <th>25</th>\n",
       "      <td>Holly Jolly Christmas Citrus Cocktail</td>\n",
       "      <td>{'minutes': '5'}</td>\n",
       "      <td>-</td>\n",
       "      <td>{'minutes': '5'}</td>\n",
       "      <td>[vodka, St. Germain (elderflower liquor), fres...</td>\n",
       "      <td>{'vodka': '1', 'St. Germain (elderflower liquo...</td>\n",
       "      <td>[1. Fill a cocktail glass with ice. Add the vo...</td>\n",
       "      <td>105 kcal</td>\n",
       "      <td>1</td>\n",
       "      <td>https://www.halfbakedharvest.com/wp-content/up...</td>\n",
       "    </tr>\n",
       "    <tr>\n",
       "      <th>26</th>\n",
       "      <td>Holiday Pear Sangria</td>\n",
       "      <td>{'minutes': '10'}</td>\n",
       "      <td>-</td>\n",
       "      <td>{'minutes': '10'}</td>\n",
       "      <td>[dry white wine, pear or apple brandy, cranber...</td>\n",
       "      <td>{'dry white wine': '1', 'pear or apple brandy'...</td>\n",
       "      <td>[1. In a large pitcher, combine all the ingred...</td>\n",
       "      <td>257 kcal</td>\n",
       "      <td>8</td>\n",
       "      <td>https://www.halfbakedharvest.com/wp-content/up...</td>\n",
       "    </tr>\n",
       "    <tr>\n",
       "      <th>27</th>\n",
       "      <td>Vanilla Chai Old Fashioned</td>\n",
       "      <td>{'minutes': '5'}</td>\n",
       "      <td>{'minutes': '5'}</td>\n",
       "      <td>{'minutes': '10'}</td>\n",
       "      <td>[chai tea bags, real maple syrup, vanilla extr...</td>\n",
       "      <td>{'chai tea bags': '4', 'real maple syrup': '1/...</td>\n",
       "      <td>[1. In a medium pot, bring 1 cup water to a bo...</td>\n",
       "      <td>547 kcal</td>\n",
       "      <td>1</td>\n",
       "      <td>https://www.halfbakedharvest.com/wp-content/up...</td>\n",
       "    </tr>\n",
       "    <tr>\n",
       "      <th>28</th>\n",
       "      <td>Spiced Cranberry Rosé Spritzers</td>\n",
       "      <td>{'minutes': '15'}</td>\n",
       "      <td>{'minutes': '5'}</td>\n",
       "      <td>{'minutes': '20'}</td>\n",
       "      <td>[honey, fresh cranberries, fresh rosemary, plu...</td>\n",
       "      <td>{'honey': '1/2', 'fresh cranberries': '2', 'fr...</td>\n",
       "      <td>[1. To make the cranberry syrup: In a medium p...</td>\n",
       "      <td>694 kcal</td>\n",
       "      <td>10</td>\n",
       "      <td>https://www.halfbakedharvest.com/wp-content/up...</td>\n",
       "    </tr>\n",
       "    <tr>\n",
       "      <th>29</th>\n",
       "      <td>Pumpkin Patch Punch</td>\n",
       "      <td>{'minutes': '10'}</td>\n",
       "      <td>-</td>\n",
       "      <td>{'minutes': '10'}</td>\n",
       "      <td>[apple cider, freshly squeezed orange juice, f...</td>\n",
       "      <td>{'apple cider': '1', 'freshly squeezed orange ...</td>\n",
       "      <td>[1. In a large pitcher, combine the apple cide...</td>\n",
       "      <td>490 kcal</td>\n",
       "      <td>8</td>\n",
       "      <td>https://www.halfbakedharvest.com/wp-content/up...</td>\n",
       "    </tr>\n",
       "    <tr>\n",
       "      <th>30</th>\n",
       "      <td>The Black Widow Smash</td>\n",
       "      <td>{'minutes': '5'}</td>\n",
       "      <td>-</td>\n",
       "      <td>{'minutes': '5'}</td>\n",
       "      <td>[fresh blackberries, plus more for topping, fr...</td>\n",
       "      <td>{'fresh blackberries, plus more for topping': ...</td>\n",
       "      <td>[1. In a cocktail shaker or glass jar, add bla...</td>\n",
       "      <td>110 kcal</td>\n",
       "      <td>1</td>\n",
       "      <td>https://www.halfbakedharvest.com/wp-content/up...</td>\n",
       "    </tr>\n",
       "    <tr>\n",
       "      <th>31</th>\n",
       "      <td>Poison Apple Martini</td>\n",
       "      <td>{'minutes': '10'}</td>\n",
       "      <td>-</td>\n",
       "      <td>{'minutes': '10'}</td>\n",
       "      <td>[Black lava salt, or coarse black sugar, for r...</td>\n",
       "      <td>{'Black lava salt, or coarse black sugar, for ...</td>\n",
       "      <td>[1. If desired, rim your martini glass with bl...</td>\n",
       "      <td>55 kcal</td>\n",
       "      <td>1</td>\n",
       "      <td>https://www.halfbakedharvest.com/wp-content/up...</td>\n",
       "    </tr>\n",
       "    <tr>\n",
       "      <th>32</th>\n",
       "      <td>Smashed Berry Rosè Spritz</td>\n",
       "      <td>{'minutes': '10'}</td>\n",
       "      <td>-</td>\n",
       "      <td>{'minutes': '10'}</td>\n",
       "      <td>[fresh blackberries, fresh raspberries, basil ...</td>\n",
       "      <td>{'fresh blackberries': '1/2', 'fresh raspberri...</td>\n",
       "      <td>[In a pitcher, muddle the raspberries, blackbe...</td>\n",
       "      <td>211 kcal</td>\n",
       "      <td>6</td>\n",
       "      <td>https://www.halfbakedharvest.com/wp-content/up...</td>\n",
       "    </tr>\n",
       "    <tr>\n",
       "      <th>33</th>\n",
       "      <td>Frozen Watermelon Spritz</td>\n",
       "      <td>{'minutes': '5'}</td>\n",
       "      <td>-</td>\n",
       "      <td>{'minutes': '5'}</td>\n",
       "      <td>[honey, tajin, Lillet Blanc, sparkling Rosé or...</td>\n",
       "      <td>{'honey': 'seasoning', 'tajin': 'seasoning', '...</td>\n",
       "      <td>[1. The night before, cube the watermelon and ...</td>\n",
       "      <td>173 kcal</td>\n",
       "      <td>1</td>\n",
       "      <td>https://www.halfbakedharvest.com/wp-content/up...</td>\n",
       "    </tr>\n",
       "    <tr>\n",
       "      <th>34</th>\n",
       "      <td>Fig Honey Thyme Prosecco Smash</td>\n",
       "      <td>{'minutes': '10'}</td>\n",
       "      <td>-</td>\n",
       "      <td>{'minutes': '10'}</td>\n",
       "      <td>[fresh figs, diced or 1 tablespoon fig preserv...</td>\n",
       "      <td>{'fresh figs, diced or 1 tablespoon fig preser...</td>\n",
       "      <td>[1. Add the figs, plums, elderflower liquor, l...</td>\n",
       "      <td>241 kcal</td>\n",
       "      <td>4</td>\n",
       "      <td>https://www.halfbakedharvest.com/wp-content/up...</td>\n",
       "    </tr>\n",
       "    <tr>\n",
       "      <th>35</th>\n",
       "      <td>Spiced Cranberry Thyme Moscow Mule</td>\n",
       "      <td>{'minutes': '10'}</td>\n",
       "      <td>{'minutes': '5'}</td>\n",
       "      <td>{'minutes': '15'}</td>\n",
       "      <td>[honey, water, fresh cranberries, fresh thyme ...</td>\n",
       "      <td>{'honey': '1/2', 'water': '1/2', 'fresh cranbe...</td>\n",
       "      <td>[1. To make the cranberry syrup. In a pot, bri...</td>\n",
       "      <td>235 kcal</td>\n",
       "      <td>1</td>\n",
       "      <td>https://www.halfbakedharvest.com/wp-content/up...</td>\n",
       "    </tr>\n",
       "    <tr>\n",
       "      <th>36</th>\n",
       "      <td>Basil Smash Piña Colada</td>\n",
       "      <td>{'minutes': '10'}</td>\n",
       "      <td>-</td>\n",
       "      <td>{'minutes': '10'}</td>\n",
       "      <td>[limes, quartered, fresh basil or mint leaves,...</td>\n",
       "      <td>{'limes, quartered': '4', 'fresh basil or mint...</td>\n",
       "      <td>[1. To make the lime sugar. Combine the lime z...</td>\n",
       "      <td>497 kcal</td>\n",
       "      <td>4</td>\n",
       "      <td>https://www.halfbakedharvest.com/wp-content/up...</td>\n",
       "    </tr>\n",
       "    <tr>\n",
       "      <th>37</th>\n",
       "      <td>Creamy Coconut Lime Mojito</td>\n",
       "      <td>{'minutes': '5'}</td>\n",
       "      <td>-</td>\n",
       "      <td>{'minutes': '5'}</td>\n",
       "      <td>[lime, quartered, fresh mint leaves, granulate...</td>\n",
       "      <td>{'lime, quartered': '1', 'fresh mint leaves': ...</td>\n",
       "      <td>[1. To make the lime sugar. Combine the lime z...</td>\n",
       "      <td>480 kcal</td>\n",
       "      <td>1</td>\n",
       "      <td>https://www.halfbakedharvest.com/wp-content/up...</td>\n",
       "    </tr>\n",
       "    <tr>\n",
       "      <th>38</th>\n",
       "      <td>Spicy Sweet Grinch Cocktail</td>\n",
       "      <td>{'minutes': '5'}</td>\n",
       "      <td>-</td>\n",
       "      <td>{'minutes': '5'}</td>\n",
       "      <td>[granulated sugar, finely chopped fresh mint l...</td>\n",
       "      <td>{'granulated sugar': '1/2', 'finely chopped fr...</td>\n",
       "      <td>[1. On a shallow plate, combine the sugar and ...</td>\n",
       "      <td>564 kcal</td>\n",
       "      <td>1</td>\n",
       "      <td>https://www.halfbakedharvest.com/wp-content/up...</td>\n",
       "    </tr>\n",
       "    <tr>\n",
       "      <th>39</th>\n",
       "      <td>Fig Dark and Stormy</td>\n",
       "      <td>{'minutes': '5'}</td>\n",
       "      <td>-</td>\n",
       "      <td>{'minutes': '5'}</td>\n",
       "      <td>[fig preserves, dark rum, juice of 1/2 a lemon...</td>\n",
       "      <td>{'fig preserves': '1', 'dark rum': '2', 'juice...</td>\n",
       "      <td>[1. In a cocktail shaker, combine the fig pres...</td>\n",
       "      <td>56 kcal</td>\n",
       "      <td>1</td>\n",
       "      <td>https://www.halfbakedharvest.com/wp-content/up...</td>\n",
       "    </tr>\n",
       "    <tr>\n",
       "      <th>40</th>\n",
       "      <td>Orange Pineapple Moscow Mule</td>\n",
       "      <td>{'minutes': '5'}</td>\n",
       "      <td>{'minutes': '5'}</td>\n",
       "      <td>{'minutes': '5'}</td>\n",
       "      <td>[vodka, juice from 1/2 lime juice, Florida’s N...</td>\n",
       "      <td>{'vodka': '1', 'juice from 1/2 lime juice': 's...</td>\n",
       "      <td>[1. Fill a cocktail glass with ice. Add the vo...</td>\n",
       "      <td>123 kcal</td>\n",
       "      <td>1</td>\n",
       "      <td>https://www.halfbakedharvest.com/wp-content/up...</td>\n",
       "    </tr>\n",
       "    <tr>\n",
       "      <th>41</th>\n",
       "      <td>Frozen Brunch Punch</td>\n",
       "      <td>{'minutes': '10'}</td>\n",
       "      <td>-</td>\n",
       "      <td>{'minutes': '10'}</td>\n",
       "      <td>[orange juice, campari, white rum, lime juice,...</td>\n",
       "      <td>{'orange juice': '2 1/2', 'campari': '2', 'whi...</td>\n",
       "      <td>[1. In a large pitcher, combine the orange jui...</td>\n",
       "      <td>284 kcal</td>\n",
       "      <td>8</td>\n",
       "      <td>https://www.halfbakedharvest.com/wp-content/up...</td>\n",
       "    </tr>\n",
       "    <tr>\n",
       "      <th>42</th>\n",
       "      <td>The North Pole.</td>\n",
       "      <td>{'minutes': '15'}</td>\n",
       "      <td>-</td>\n",
       "      <td>{'minutes': '15'}</td>\n",
       "      <td>[vodka, Kahlúa, chocolate syrup, vanilla extra...</td>\n",
       "      <td>{'vodka': '4', 'Kahlúa': '2', 'chocolate syrup...</td>\n",
       "      <td>[In a cocktail shaker combine the vodka, Kahlú...</td>\n",
       "      <td>480 kcal</td>\n",
       "      <td>4</td>\n",
       "      <td>https://www.halfbakedharvest.com/wp-content/up...</td>\n",
       "    </tr>\n",
       "    <tr>\n",
       "      <th>43</th>\n",
       "      <td>Blackberry Bourbon Smash.</td>\n",
       "      <td>{'minutes': '5'}</td>\n",
       "      <td>-</td>\n",
       "      <td>{'minutes': '5'}</td>\n",
       "      <td>[granulated sugar - for the rim of the glasses...</td>\n",
       "      <td>{'granulated sugar - for the rim of the glasse...</td>\n",
       "      <td>[]</td>\n",
       "      <td>491 kcal</td>\n",
       "      <td>1</td>\n",
       "      <td>https://www.halfbakedharvest.com/wp-content/up...</td>\n",
       "    </tr>\n",
       "    <tr>\n",
       "      <th>44</th>\n",
       "      <td>The Goblet of Fire</td>\n",
       "      <td>{'minutes': '5'}</td>\n",
       "      <td>-</td>\n",
       "      <td>{'minutes': '5'}</td>\n",
       "      <td>[blackberries, gold rum, bitters, honey, fresh...</td>\n",
       "      <td>{'blackberries': '6', 'gold rum': '2', 'bitter...</td>\n",
       "      <td>[1. Combine the blackberries, rum, bitters, ho...</td>\n",
       "      <td>262064 kcal</td>\n",
       "      <td>1</td>\n",
       "      <td>https://www.halfbakedharvest.com/wp-content/up...</td>\n",
       "    </tr>\n",
       "    <tr>\n",
       "      <th>45</th>\n",
       "      <td>White Tea and Muddled Basil Mojito</td>\n",
       "      <td>{'minutes': '5'}</td>\n",
       "      <td>{'minutes': '5'}</td>\n",
       "      <td>{'minutes': '10'}</td>\n",
       "      <td>[white tea bags, honey, limes, handful of fres...</td>\n",
       "      <td>{'white tea bags': '2', 'honey': '2', 'limes':...</td>\n",
       "      <td>[1. Bring 1 cup water to a boil in a small pot...</td>\n",
       "      <td>87 kcal</td>\n",
       "      <td>2</td>\n",
       "      <td>https://www.halfbakedharvest.com/wp-content/up...</td>\n",
       "    </tr>\n",
       "    <tr>\n",
       "      <th>46</th>\n",
       "      <td>-</td>\n",
       "      <td>-</td>\n",
       "      <td>-</td>\n",
       "      <td>-</td>\n",
       "      <td>-</td>\n",
       "      <td>-</td>\n",
       "      <td>-</td>\n",
       "      <td>-</td>\n",
       "      <td>-</td>\n",
       "      <td>https://www.halfbakedharvest.com/wp-content/up...</td>\n",
       "    </tr>\n",
       "  </tbody>\n",
       "</table>\n",
       "</div>"
      ],
      "text/plain": [
       "                                    title          prep_time  \\\n",
       "0               Hocus Pocus Old Fashioned  {'minutes': '10'}   \n",
       "1   Enchanted Graveyard Pomegranate Punch  {'minutes': '10'}   \n",
       "2       Frosted Mistletoe Margarita Punch  {'minutes': '10'}   \n",
       "3                  Spiced Cranberry Punch  {'minutes': '10'}   \n",
       "4                                       -                  -   \n",
       "5                  Voldemort’s Dark Serum   {'minutes': '5'}   \n",
       "6            Frosty's Frosted Moscow Mule   {'minutes': '5'}   \n",
       "7                  Cranberry Thyme Spritz  {'minutes': '10'}   \n",
       "8                 Vampire's Drip Cocktail  {'minutes': '10'}   \n",
       "9            The Deathly Hallows Cocktail   {'minutes': '5'}   \n",
       "10           Blood Orange Champagne Mule.   {'minutes': '5'}   \n",
       "11                 Christmas Ale Sangria.  {'minutes': '10'}   \n",
       "12      Pumpkin Butterbeer Hot Chocolate.   {'minutes': '5'}   \n",
       "13     Spicy Sweet Holiday Storm Cocktail   {'minutes': '5'}   \n",
       "14              Spiced Maple Bourbon Fizz   {'minutes': '5'}   \n",
       "15                       The Grave Digger   {'minutes': '5'}   \n",
       "16         Pink Vodka Watermelon Lemonade  {'minutes': '10'}   \n",
       "17              Blackberry Champagne Mule   {'minutes': '5'}   \n",
       "18                 Watermelon Rosè Paloma  {'minutes': '10'}   \n",
       "19              Spicy Cucumber Margarita.  {'minutes': '10'}   \n",
       "20                         Dirty Horchata  {'minutes': '10'}   \n",
       "21                                      -                  -   \n",
       "22   Smoky Harvest Apple Cider Margarita.   {'minutes': '5'}   \n",
       "23               Frozen Mango Mojito-Rita   {'minutes': '5'}   \n",
       "24        Blackberry Tequila Lemon Cooler   {'minutes': '5'}   \n",
       "25  Holly Jolly Christmas Citrus Cocktail   {'minutes': '5'}   \n",
       "26                   Holiday Pear Sangria  {'minutes': '10'}   \n",
       "27             Vanilla Chai Old Fashioned   {'minutes': '5'}   \n",
       "28        Spiced Cranberry Rosé Spritzers  {'minutes': '15'}   \n",
       "29                    Pumpkin Patch Punch  {'minutes': '10'}   \n",
       "30                  The Black Widow Smash   {'minutes': '5'}   \n",
       "31                   Poison Apple Martini  {'minutes': '10'}   \n",
       "32              Smashed Berry Rosè Spritz  {'minutes': '10'}   \n",
       "33               Frozen Watermelon Spritz   {'minutes': '5'}   \n",
       "34         Fig Honey Thyme Prosecco Smash  {'minutes': '10'}   \n",
       "35     Spiced Cranberry Thyme Moscow Mule  {'minutes': '10'}   \n",
       "36                Basil Smash Piña Colada  {'minutes': '10'}   \n",
       "37             Creamy Coconut Lime Mojito   {'minutes': '5'}   \n",
       "38            Spicy Sweet Grinch Cocktail   {'minutes': '5'}   \n",
       "39                    Fig Dark and Stormy   {'minutes': '5'}   \n",
       "40           Orange Pineapple Moscow Mule   {'minutes': '5'}   \n",
       "41                    Frozen Brunch Punch  {'minutes': '10'}   \n",
       "42                        The North Pole.  {'minutes': '15'}   \n",
       "43              Blackberry Bourbon Smash.   {'minutes': '5'}   \n",
       "44                     The Goblet of Fire   {'minutes': '5'}   \n",
       "45     White Tea and Muddled Basil Mojito   {'minutes': '5'}   \n",
       "46                                      -                  -   \n",
       "\n",
       "            cook_time                       total_time  \\\n",
       "0    {'minutes': '5'}                {'minutes': '15'}   \n",
       "1                   -                {'minutes': '10'}   \n",
       "2                   -                {'minutes': '10'}   \n",
       "3    {'minutes': '5'}                {'minutes': '15'}   \n",
       "4                   -                                -   \n",
       "5                   -                 {'minutes': '5'}   \n",
       "6                   -                 {'minutes': '5'}   \n",
       "7   {'minutes': '10'}                {'minutes': '20'}   \n",
       "8   {'minutes': '10'}                {'minutes': '20'}   \n",
       "9                   -                 {'minutes': '5'}   \n",
       "10                  -                 {'minutes': '5'}   \n",
       "11                  -                {'minutes': '10'}   \n",
       "12  {'minutes': '10'}                {'minutes': '15'}   \n",
       "13   {'minutes': '5'}                {'minutes': '10'}   \n",
       "14   {'minutes': '5'}                {'minutes': '10'}   \n",
       "15                  -                 {'minutes': '5'}   \n",
       "16   {'minutes': '5'}                {'minutes': '15'}   \n",
       "17                  -                 {'minutes': '5'}   \n",
       "18                  -                {'minutes': '10'}   \n",
       "19                  -  {'hours': '1', 'minutes': '10'}   \n",
       "20                  -  {'hours': '2', 'minutes': '10'}   \n",
       "21                  -                                -   \n",
       "22                  -                 {'minutes': '5'}   \n",
       "23                  -                 {'minutes': '5'}   \n",
       "24                  -                 {'minutes': '5'}   \n",
       "25                  -                 {'minutes': '5'}   \n",
       "26                  -                {'minutes': '10'}   \n",
       "27   {'minutes': '5'}                {'minutes': '10'}   \n",
       "28   {'minutes': '5'}                {'minutes': '20'}   \n",
       "29                  -                {'minutes': '10'}   \n",
       "30                  -                 {'minutes': '5'}   \n",
       "31                  -                {'minutes': '10'}   \n",
       "32                  -                {'minutes': '10'}   \n",
       "33                  -                 {'minutes': '5'}   \n",
       "34                  -                {'minutes': '10'}   \n",
       "35   {'minutes': '5'}                {'minutes': '15'}   \n",
       "36                  -                {'minutes': '10'}   \n",
       "37                  -                 {'minutes': '5'}   \n",
       "38                  -                 {'minutes': '5'}   \n",
       "39                  -                 {'minutes': '5'}   \n",
       "40   {'minutes': '5'}                 {'minutes': '5'}   \n",
       "41                  -                {'minutes': '10'}   \n",
       "42                  -                {'minutes': '15'}   \n",
       "43                  -                 {'minutes': '5'}   \n",
       "44                  -                 {'minutes': '5'}   \n",
       "45   {'minutes': '5'}                {'minutes': '10'}   \n",
       "46                  -                                -   \n",
       "\n",
       "                                          ingredients  \\\n",
       "0   [honey, fresh rosemary, cinnamon sticks, star ...   \n",
       "1   [pomegranate juice, vodka, spiced apple butter...   \n",
       "2   [granulated sugar, kosher salt, silver tequila...   \n",
       "3   [fresh cranberries, honey or maple syrup, usin...   \n",
       "4                                                   -   \n",
       "5   [pomegranate juice, silver tequila or Mezcal, ...   \n",
       "6   [vodka, juice from 1/2 lime juice, fresh grape...   \n",
       "7   [honey, fresh cranberries, fresh thyme, fresh ...   \n",
       "8   [granulated sugar, pomegranate juice, white ru...   \n",
       "9   [silver tequila or Mezcal, cranberry or pomegr...   \n",
       "10  [juice of 1/2 a medium blood orange, juice of ...   \n",
       "11  [apple cider, vodka, dashes orange bitters, pe...   \n",
       "12  [whole milk, cocoa powder, ground cinnamon, mi...   \n",
       "13  [honey, jalapeños, sliced, fresh ginger, cranb...   \n",
       "14  [maple syrup, cinnamon sticks, cardamon pods, ...   \n",
       "15  [mezcal or tequila, spiced apple cider, lemon ...   \n",
       "16  [honey or granulated sugar, fresh thyme sprigs...   \n",
       "17  [fresh or frozen blackberries, fresh mint, plu...   \n",
       "18  [cubed watermelon, silver tequila, juice from ...   \n",
       "19  [cucumber slices, fresh mint leaves, silver te...   \n",
       "20  [uncooked long-grain white rice, honey or real...   \n",
       "21                                                  -   \n",
       "22  [cinnamon sugar and flaky sea salt, for the ri...   \n",
       "23  [flaky sea salt, silver tequila, freshly squee...   \n",
       "24  [fresh blackberries, plus more for serving, fr...   \n",
       "25  [vodka, St. Germain (elderflower liquor), fres...   \n",
       "26  [dry white wine, pear or apple brandy, cranber...   \n",
       "27  [chai tea bags, real maple syrup, vanilla extr...   \n",
       "28  [honey, fresh cranberries, fresh rosemary, plu...   \n",
       "29  [apple cider, freshly squeezed orange juice, f...   \n",
       "30  [fresh blackberries, plus more for topping, fr...   \n",
       "31  [Black lava salt, or coarse black sugar, for r...   \n",
       "32  [fresh blackberries, fresh raspberries, basil ...   \n",
       "33  [honey, tajin, Lillet Blanc, sparkling Rosé or...   \n",
       "34  [fresh figs, diced or 1 tablespoon fig preserv...   \n",
       "35  [honey, water, fresh cranberries, fresh thyme ...   \n",
       "36  [limes, quartered, fresh basil or mint leaves,...   \n",
       "37  [lime, quartered, fresh mint leaves, granulate...   \n",
       "38  [granulated sugar, finely chopped fresh mint l...   \n",
       "39  [fig preserves, dark rum, juice of 1/2 a lemon...   \n",
       "40  [vodka, juice from 1/2 lime juice, Florida’s N...   \n",
       "41  [orange juice, campari, white rum, lime juice,...   \n",
       "42  [vodka, Kahlúa, chocolate syrup, vanilla extra...   \n",
       "43  [granulated sugar - for the rim of the glasses...   \n",
       "44  [blackberries, gold rum, bitters, honey, fresh...   \n",
       "45  [white tea bags, honey, limes, handful of fres...   \n",
       "46                                                  -   \n",
       "\n",
       "                         ingredients with measurement  \\\n",
       "0   {'honey': '1/2', 'fresh rosemary': '2', 'cinna...   \n",
       "1   {'pomegranate juice': '8', 'vodka': '1', 'spic...   \n",
       "2   {'granulated sugar': '3', 'kosher salt': '2', ...   \n",
       "3   {'fresh cranberries': '2', 'honey or maple syr...   \n",
       "4                                                   -   \n",
       "5   {'pomegranate juice': '1', 'silver tequila or ...   \n",
       "6   {'vodka': '2', 'juice from 1/2 lime juice': 's...   \n",
       "7   {'honey': '1/2', 'fresh cranberries': '2', 'fr...   \n",
       "8   {'granulated sugar': '1/2', 'pomegranate juice...   \n",
       "9   {'silver tequila or Mezcal': '1 1/2', 'cranber...   \n",
       "10  {'juice of 1/2 a medium blood orange': 'season...   \n",
       "11  {'apple cider': '1 1/2', 'vodka': '1/2', 'dash...   \n",
       "12  {'whole milk': '4 1/2', 'cocoa powder': '1/4',...   \n",
       "13  {'honey': '1/2', 'jalapeños, sliced': '1-2', '...   \n",
       "14  {'maple syrup': '1/2', 'cinnamon sticks': '2',...   \n",
       "15  {'mezcal or tequila': '2', 'spiced apple cider...   \n",
       "16  {'honey or granulated sugar': '3/4', 'fresh th...   \n",
       "17  {'fresh or frozen blackberries': '1 1/2', 'fre...   \n",
       "18  {'cubed watermelon': '4', 'silver tequila': '1...   \n",
       "19  {'cucumber slices': '4-6', 'fresh mint leaves'...   \n",
       "20  {'uncooked long-grain white rice': '1', 'honey...   \n",
       "21                                                  -   \n",
       "22  {'cinnamon sugar and flaky sea salt, for the r...   \n",
       "23  {'flaky sea salt': 'seasoning', 'silver tequil...   \n",
       "24  {'fresh blackberries, plus more for serving': ...   \n",
       "25  {'vodka': '1', 'St. Germain (elderflower liquo...   \n",
       "26  {'dry white wine': '1', 'pear or apple brandy'...   \n",
       "27  {'chai tea bags': '4', 'real maple syrup': '1/...   \n",
       "28  {'honey': '1/2', 'fresh cranberries': '2', 'fr...   \n",
       "29  {'apple cider': '1', 'freshly squeezed orange ...   \n",
       "30  {'fresh blackberries, plus more for topping': ...   \n",
       "31  {'Black lava salt, or coarse black sugar, for ...   \n",
       "32  {'fresh blackberries': '1/2', 'fresh raspberri...   \n",
       "33  {'honey': 'seasoning', 'tajin': 'seasoning', '...   \n",
       "34  {'fresh figs, diced or 1 tablespoon fig preser...   \n",
       "35  {'honey': '1/2', 'water': '1/2', 'fresh cranbe...   \n",
       "36  {'limes, quartered': '4', 'fresh basil or mint...   \n",
       "37  {'lime, quartered': '1', 'fresh mint leaves': ...   \n",
       "38  {'granulated sugar': '1/2', 'finely chopped fr...   \n",
       "39  {'fig preserves': '1', 'dark rum': '2', 'juice...   \n",
       "40  {'vodka': '1', 'juice from 1/2 lime juice': 's...   \n",
       "41  {'orange juice': '2 1/2', 'campari': '2', 'whi...   \n",
       "42  {'vodka': '4', 'Kahlúa': '2', 'chocolate syrup...   \n",
       "43  {'granulated sugar - for the rim of the glasse...   \n",
       "44  {'blackberries': '6', 'gold rum': '2', 'bitter...   \n",
       "45  {'white tea bags': '2', 'honey': '2', 'limes':...   \n",
       "46                                                  -   \n",
       "\n",
       "                                         instructions     calories servings  \\\n",
       "0   [1. To make the spiced honey syrup. In a mediu...     246 kcal        1   \n",
       "1   [1. In a large pitcher, combine the pomegranat...     338 kcal        8   \n",
       "2   [1. Combine the sugar and salt on a shallow pl...     207 kcal        8   \n",
       "3   [1. In a pot, bring 1/2 cup water, the cranber...     296 kcal        8   \n",
       "4                                                   -            -        -   \n",
       "5   [1. Combine the pomegranate juice, tequila, Ch...     448 kcal        1   \n",
       "6   [1. Fill a cocktail glass with ice. Add the vo...     449 kcal        1   \n",
       "7   [1. In a medium pot, bring 1/2 cup water, the ...     252 kcal        8   \n",
       "8   [1. Bring the sugar and pomegranate juice to a...     348 kcal        2   \n",
       "9   [1. Combine all the ingredients in a cocktail ...     354 kcal        1   \n",
       "10                                                 []     717 kcal        1   \n",
       "11                                                 []     331 kcal        8   \n",
       "12                                                 []    1319 kcal        3   \n",
       "13  [1. To make the jalapeño honey syrup. In a pot...     379 kcal        1   \n",
       "14  [1. To make the spiced maple syrup. In a mediu...    1457 kcal        1   \n",
       "15  [1. Fill a cocktail glass with ice., 2. Combin...     537 kcal        1   \n",
       "16  [1. To make the watermelon juice, blend the wa...     225 kcal        8   \n",
       "17  [1. In a cocktail shaker or glass jar, muddle ...     772 kcal        1   \n",
       "18  [1. To make the watermelon juice, blend 2 cups...     422 kcal        1   \n",
       "19  [1. To make the chili salt. Combine the salt, ...     820 kcal        1   \n",
       "20  [1. Combine the rice and 2 1/2 cups steaming h...     530 kcal        6   \n",
       "21                                                  -            -        -   \n",
       "22  [1. If desired, rim your glass in salted cinna...     603 kcal        1   \n",
       "23  [1. Run a lime wedge around the rim of your gl...      67 kcal        2   \n",
       "24  [1. Fill a cocktail glass with ice., 2. In a c...      54 kcal        1   \n",
       "25  [1. Fill a cocktail glass with ice. Add the vo...     105 kcal        1   \n",
       "26  [1. In a large pitcher, combine all the ingred...     257 kcal        8   \n",
       "27  [1. In a medium pot, bring 1 cup water to a bo...     547 kcal        1   \n",
       "28  [1. To make the cranberry syrup: In a medium p...     694 kcal       10   \n",
       "29  [1. In a large pitcher, combine the apple cide...     490 kcal        8   \n",
       "30  [1. In a cocktail shaker or glass jar, add bla...     110 kcal        1   \n",
       "31  [1. If desired, rim your martini glass with bl...      55 kcal        1   \n",
       "32  [In a pitcher, muddle the raspberries, blackbe...     211 kcal        6   \n",
       "33  [1. The night before, cube the watermelon and ...     173 kcal        1   \n",
       "34  [1. Add the figs, plums, elderflower liquor, l...     241 kcal        4   \n",
       "35  [1. To make the cranberry syrup. In a pot, bri...     235 kcal        1   \n",
       "36  [1. To make the lime sugar. Combine the lime z...     497 kcal        4   \n",
       "37  [1. To make the lime sugar. Combine the lime z...     480 kcal        1   \n",
       "38  [1. On a shallow plate, combine the sugar and ...     564 kcal        1   \n",
       "39  [1. In a cocktail shaker, combine the fig pres...      56 kcal        1   \n",
       "40  [1. Fill a cocktail glass with ice. Add the vo...     123 kcal        1   \n",
       "41  [1. In a large pitcher, combine the orange jui...     284 kcal        8   \n",
       "42  [In a cocktail shaker combine the vodka, Kahlú...     480 kcal        4   \n",
       "43                                                 []     491 kcal        1   \n",
       "44  [1. Combine the blackberries, rum, bitters, ho...  262064 kcal        1   \n",
       "45  [1. Bring 1 cup water to a boil in a small pot...      87 kcal        2   \n",
       "46                                                  -            -        -   \n",
       "\n",
       "                                               images  \n",
       "0   https://www.halfbakedharvest.com/wp-content/up...  \n",
       "1   https://www.halfbakedharvest.com/wp-content/up...  \n",
       "2   https://www.halfbakedharvest.com/wp-content/up...  \n",
       "3   https://www.halfbakedharvest.com/wp-content/up...  \n",
       "4   https://www.halfbakedharvest.com/wp-content/up...  \n",
       "5   https://www.halfbakedharvest.com/wp-content/up...  \n",
       "6   https://www.halfbakedharvest.com/wp-content/up...  \n",
       "7   https://www.halfbakedharvest.com/wp-content/up...  \n",
       "8   https://www.halfbakedharvest.com/wp-content/up...  \n",
       "9   https://www.halfbakedharvest.com/wp-content/up...  \n",
       "10  https://www.halfbakedharvest.com/wp-content/up...  \n",
       "11  https://www.halfbakedharvest.com/wp-content/up...  \n",
       "12  https://www.halfbakedharvest.com/wp-content/up...  \n",
       "13  https://www.halfbakedharvest.com/wp-content/up...  \n",
       "14  https://www.halfbakedharvest.com/wp-content/up...  \n",
       "15  https://www.halfbakedharvest.com/wp-content/up...  \n",
       "16  https://www.halfbakedharvest.com/wp-content/up...  \n",
       "17  https://www.halfbakedharvest.com/wp-content/up...  \n",
       "18  https://www.halfbakedharvest.com/wp-content/up...  \n",
       "19  https://www.halfbakedharvest.com/wp-content/up...  \n",
       "20  https://www.halfbakedharvest.com/wp-content/up...  \n",
       "21  https://www.halfbakedharvest.com/wp-content/up...  \n",
       "22  https://www.halfbakedharvest.com/wp-content/up...  \n",
       "23  https://www.halfbakedharvest.com/wp-content/up...  \n",
       "24  https://www.halfbakedharvest.com/wp-content/up...  \n",
       "25  https://www.halfbakedharvest.com/wp-content/up...  \n",
       "26  https://www.halfbakedharvest.com/wp-content/up...  \n",
       "27  https://www.halfbakedharvest.com/wp-content/up...  \n",
       "28  https://www.halfbakedharvest.com/wp-content/up...  \n",
       "29  https://www.halfbakedharvest.com/wp-content/up...  \n",
       "30  https://www.halfbakedharvest.com/wp-content/up...  \n",
       "31  https://www.halfbakedharvest.com/wp-content/up...  \n",
       "32  https://www.halfbakedharvest.com/wp-content/up...  \n",
       "33  https://www.halfbakedharvest.com/wp-content/up...  \n",
       "34  https://www.halfbakedharvest.com/wp-content/up...  \n",
       "35  https://www.halfbakedharvest.com/wp-content/up...  \n",
       "36  https://www.halfbakedharvest.com/wp-content/up...  \n",
       "37  https://www.halfbakedharvest.com/wp-content/up...  \n",
       "38  https://www.halfbakedharvest.com/wp-content/up...  \n",
       "39  https://www.halfbakedharvest.com/wp-content/up...  \n",
       "40  https://www.halfbakedharvest.com/wp-content/up...  \n",
       "41  https://www.halfbakedharvest.com/wp-content/up...  \n",
       "42  https://www.halfbakedharvest.com/wp-content/up...  \n",
       "43  https://www.halfbakedharvest.com/wp-content/up...  \n",
       "44  https://www.halfbakedharvest.com/wp-content/up...  \n",
       "45  https://www.halfbakedharvest.com/wp-content/up...  \n",
       "46  https://www.halfbakedharvest.com/wp-content/up...  "
      ]
     },
     "execution_count": 56,
     "metadata": {},
     "output_type": "execute_result"
    }
   ],
   "source": [
    "final = pd.concat([final, temp_recipes_2], ignore_index=True)\n",
    "final"
   ]
  },
  {
   "cell_type": "code",
   "execution_count": 57,
   "id": "08e31e99",
   "metadata": {},
   "outputs": [
    {
     "name": "stdout",
     "output_type": "stream",
     "text": [
      "<class 'pandas.core.frame.DataFrame'>\n",
      "RangeIndex: 47 entries, 0 to 46\n",
      "Data columns (total 10 columns):\n",
      " #   Column                        Non-Null Count  Dtype \n",
      "---  ------                        --------------  ----- \n",
      " 0   title                         47 non-null     object\n",
      " 1   prep_time                     47 non-null     object\n",
      " 2   cook_time                     47 non-null     object\n",
      " 3   total_time                    47 non-null     object\n",
      " 4   ingredients                   47 non-null     object\n",
      " 5   ingredients with measurement  47 non-null     object\n",
      " 6   instructions                  47 non-null     object\n",
      " 7   calories                      47 non-null     object\n",
      " 8   servings                      47 non-null     object\n",
      " 9   images                        47 non-null     object\n",
      "dtypes: object(10)\n",
      "memory usage: 3.8+ KB\n"
     ]
    }
   ],
   "source": [
    "final.info()"
   ]
  },
  {
   "cell_type": "code",
   "execution_count": null,
   "id": "cd510138",
   "metadata": {},
   "outputs": [],
   "source": []
  },
  {
   "cell_type": "code",
   "execution_count": null,
   "id": "1d89d69b",
   "metadata": {},
   "outputs": [],
   "source": []
  },
  {
   "cell_type": "code",
   "execution_count": null,
   "id": "a047bc29",
   "metadata": {},
   "outputs": [],
   "source": []
  },
  {
   "cell_type": "code",
   "execution_count": null,
   "id": "4aa264ae",
   "metadata": {},
   "outputs": [],
   "source": []
  },
  {
   "cell_type": "code",
   "execution_count": 58,
   "id": "751db088",
   "metadata": {},
   "outputs": [],
   "source": [
    "def save_list_to_txt(filename, data_list):\n",
    "    \"\"\"\n",
    "    Save a list of strings to a text file, one item per line.\n",
    "    \n",
    "    :param filename: The name of the file to save the list to.\n",
    "    :param data_list: The list of strings to save.\n",
    "    \"\"\"\n",
    "    with open(filename, 'w') as f:\n",
    "        for item in data_list:\n",
    "            f.write(f\"{item}\\n\")"
   ]
  },
  {
   "cell_type": "code",
   "execution_count": 59,
   "id": "7da183ed",
   "metadata": {},
   "outputs": [],
   "source": [
    "# save_list_to_txt('failed_urls_till201.txt', failed_url)\n",
    "final.to_csv('failed_drinks.csv', index=False)"
   ]
  },
  {
   "cell_type": "code",
   "execution_count": null,
   "id": "6b4517a6",
   "metadata": {},
   "outputs": [],
   "source": []
  },
  {
   "cell_type": "code",
   "execution_count": null,
   "id": "584b8a40",
   "metadata": {},
   "outputs": [],
   "source": []
  },
  {
   "cell_type": "code",
   "execution_count": null,
   "id": "54dd8922",
   "metadata": {},
   "outputs": [],
   "source": []
  },
  {
   "cell_type": "code",
   "execution_count": null,
   "id": "793ea025",
   "metadata": {},
   "outputs": [],
   "source": []
  },
  {
   "cell_type": "code",
   "execution_count": null,
   "id": "d368577a",
   "metadata": {},
   "outputs": [],
   "source": []
  },
  {
   "cell_type": "code",
   "execution_count": null,
   "id": "65f477dc",
   "metadata": {},
   "outputs": [],
   "source": []
  },
  {
   "cell_type": "code",
   "execution_count": null,
   "id": "d9a3a0b2",
   "metadata": {},
   "outputs": [],
   "source": []
  },
  {
   "cell_type": "code",
   "execution_count": null,
   "id": "9ffe78f4",
   "metadata": {},
   "outputs": [],
   "source": []
  },
  {
   "cell_type": "code",
   "execution_count": null,
   "id": "8c80385b",
   "metadata": {},
   "outputs": [],
   "source": []
  },
  {
   "cell_type": "code",
   "execution_count": null,
   "id": "b86d43b3",
   "metadata": {},
   "outputs": [],
   "source": []
  },
  {
   "cell_type": "code",
   "execution_count": null,
   "id": "f2e767bb",
   "metadata": {},
   "outputs": [],
   "source": []
  },
  {
   "cell_type": "code",
   "execution_count": null,
   "id": "382f90d1",
   "metadata": {},
   "outputs": [],
   "source": []
  },
  {
   "cell_type": "code",
   "execution_count": null,
   "id": "76e81e61",
   "metadata": {},
   "outputs": [],
   "source": []
  },
  {
   "cell_type": "code",
   "execution_count": null,
   "id": "df03c5d3",
   "metadata": {},
   "outputs": [],
   "source": []
  },
  {
   "cell_type": "code",
   "execution_count": null,
   "id": "1e10152e",
   "metadata": {},
   "outputs": [],
   "source": []
  },
  {
   "cell_type": "code",
   "execution_count": null,
   "id": "f73e7e1b",
   "metadata": {},
   "outputs": [],
   "source": []
  },
  {
   "cell_type": "code",
   "execution_count": null,
   "id": "109578be",
   "metadata": {},
   "outputs": [],
   "source": []
  },
  {
   "cell_type": "code",
   "execution_count": null,
   "id": "1d416d69",
   "metadata": {},
   "outputs": [],
   "source": []
  }
 ],
 "metadata": {
  "kernelspec": {
   "display_name": "Python 3 (ipykernel)",
   "language": "python",
   "name": "python3"
  },
  "language_info": {
   "codemirror_mode": {
    "name": "ipython",
    "version": 3
   },
   "file_extension": ".py",
   "mimetype": "text/x-python",
   "name": "python",
   "nbconvert_exporter": "python",
   "pygments_lexer": "ipython3",
   "version": "3.9.8"
  }
 },
 "nbformat": 4,
 "nbformat_minor": 5
}
