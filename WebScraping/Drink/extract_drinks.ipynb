{
 "cells": [
  {
   "cell_type": "code",
   "execution_count": 1,
   "id": "54010bad",
   "metadata": {},
   "outputs": [],
   "source": [
    "import pandas as pd\n",
    "import requests\n",
    "import itertools\n",
    "from bs4 import BeautifulSoup\n",
    "from requests.exceptions import ChunkedEncodingError"
   ]
  },
  {
   "cell_type": "code",
   "execution_count": 2,
   "id": "ccf6e546",
   "metadata": {},
   "outputs": [
    {
     "data": {
      "text/plain": [
       "157"
      ]
     },
     "execution_count": 2,
     "metadata": {},
     "output_type": "execute_result"
    }
   ],
   "source": [
    "\n",
    "# Read the URLs from the text file\n",
    "with open('all_recipes_url.txt', 'r') as file:\n",
    "    all_recipes_url = file.readlines()\n",
    "\n",
    "# Strip newline characters from each URL\n",
    "all_recipes_url = [url.strip() for url in all_recipes_url]\n",
    "\n",
    "len(all_recipes_url)"
   ]
  },
  {
   "cell_type": "code",
   "execution_count": 3,
   "id": "77306887",
   "metadata": {
    "scrolled": true
   },
   "outputs": [
    {
     "data": {
      "text/plain": [
       "['https://www.halfbakedharvest.com/peach-thyme-smash/',\n",
       " 'https://www.halfbakedharvest.com/frozen-watermelon-spritz/',\n",
       " 'https://www.halfbakedharvest.com/the-50-most-popular-summer-recipes-of-2024/',\n",
       " 'https://www.halfbakedharvest.com/coconut-lime-margaritas/',\n",
       " 'https://www.halfbakedharvest.com/white-russian/',\n",
       " 'https://www.halfbakedharvest.com/gingerbread-cocktail/',\n",
       " 'https://www.halfbakedharvest.com/popular-holiday-appetizers-and-cocktails-mocktails/',\n",
       " 'https://www.halfbakedharvest.com/christmas-punch/',\n",
       " 'https://www.halfbakedharvest.com/naughty-nice-margarita/',\n",
       " 'https://www.halfbakedharvest.com/mistletoe-kiss-cocktail/',\n",
       " 'https://www.halfbakedharvest.com/sage-ginger-paloma/',\n",
       " 'https://www.halfbakedharvest.com/cranberry-cider-margarita/',\n",
       " 'https://www.halfbakedharvest.com/cinnamon-apple-bourbon-smash/',\n",
       " 'https://www.halfbakedharvest.com/the-24-most-popular-thanksgiving-drinks/',\n",
       " 'https://www.halfbakedharvest.com/bloody-mule/',\n",
       " 'https://www.halfbakedharvest.com/hocus-pocus-old-fashioned/',\n",
       " 'https://www.halfbakedharvest.com/pomegranate-punch/',\n",
       " 'https://www.halfbakedharvest.com/the-30-most-popular-fall-drinks/',\n",
       " 'https://www.halfbakedharvest.com/strawberry-lemonade-aperol-margarita/',\n",
       " 'https://www.halfbakedharvest.com/jalapeno-ginger-moscow-mule-with-mocktail/',\n",
       " 'https://www.halfbakedharvest.com/chocolate-espresso-martini/',\n",
       " 'https://www.halfbakedharvest.com/spiced-christmas-margarita/',\n",
       " 'https://www.halfbakedharvest.com/christmas-pomegranate-punch/',\n",
       " 'https://www.halfbakedharvest.com/dirty-chai-cocktail/',\n",
       " 'https://www.halfbakedharvest.com/i-put-a-spell-on-you-poison-apple-martini/',\n",
       " 'https://www.halfbakedharvest.com/the-20-most-popular-fall-drinks/',\n",
       " 'https://www.halfbakedharvest.com/frozen-peach-rose-slushy/',\n",
       " 'https://www.halfbakedharvest.com/firecracker-champagne-paloma/',\n",
       " 'https://www.halfbakedharvest.com/watermelon-rosemary-frose/',\n",
       " 'https://www.halfbakedharvest.com/serrano-pineapple-margarita/',\n",
       " 'https://www.halfbakedharvest.com/frozen-blueberry-paloma/',\n",
       " 'https://www.halfbakedharvest.com/citrus-pomegranate-champagne-twist/',\n",
       " 'https://www.halfbakedharvest.com/my-favorite-new-years-cocktails-and-appetizers/',\n",
       " 'https://www.halfbakedharvest.com/frosted-mistletoe-margarita/',\n",
       " 'https://www.halfbakedharvest.com/creamy-coconut-white-russian/',\n",
       " 'https://www.halfbakedharvest.com/spicy-cheermister-cocktail/',\n",
       " 'https://www.halfbakedharvest.com/pomegranate-champagne-mule/',\n",
       " 'https://www.halfbakedharvest.com/vanilla-espresso-martini/',\n",
       " 'https://www.halfbakedharvest.com/spiced-honey-bourbon-old-fashioned/',\n",
       " 'https://www.halfbakedharvest.com/spiced-cranberry-punch/',\n",
       " 'https://www.halfbakedharvest.com/the-14-most-popular-thanksgiving-drinks/',\n",
       " 'https://www.halfbakedharvest.com/ginger-apple-moscow-mule/',\n",
       " 'https://www.halfbakedharvest.com/nightmare-on-bourbon-street/',\n",
       " 'https://www.halfbakedharvest.com/voldemorts-dark-serum/',\n",
       " 'https://www.halfbakedharvest.com/summer-bellinis-3-ways/',\n",
       " 'https://www.halfbakedharvest.com/salted-spicy-watermelon-margarita-popsicles/',\n",
       " 'https://www.halfbakedharvest.com/smoky-watermelon-lemon-margarita/',\n",
       " 'https://www.halfbakedharvest.com/cherry-bourbon-smash/',\n",
       " 'https://www.halfbakedharvest.com/spicy-gingered-mango-margarita/',\n",
       " 'https://www.halfbakedharvest.com/minted-orange-and-strawberry-coolers/',\n",
       " 'https://www.halfbakedharvest.com/rose-and-ginger-palmoa/',\n",
       " 'https://www.halfbakedharvest.com/pineapple-margarita-sparklers/',\n",
       " 'https://www.halfbakedharvest.com/my-24-favorite-winter-appetizer-and-cocktail-recipes/',\n",
       " 'https://www.halfbakedharvest.com/rudolphs-rockin-pomegranate-jingle-juice-punch/',\n",
       " 'https://www.halfbakedharvest.com/frostys-frosted-moscow-mule/',\n",
       " 'https://www.halfbakedharvest.com/buddy-the-elf-cocktail/',\n",
       " 'https://www.halfbakedharvest.com/holiday-gifting-homemade-simple-syrups/',\n",
       " 'https://www.halfbakedharvest.com/naughty-and-nice-cinnamon-toddy/',\n",
       " 'https://www.halfbakedharvest.com/16-of-my-favorite-christmas-drinks/',\n",
       " 'https://www.halfbakedharvest.com/vanilla-chai-tea-white-russian/',\n",
       " 'https://www.halfbakedharvest.com/cranberry-thyme-spritz/',\n",
       " 'https://www.halfbakedharvest.com/spiced-persimmon-bourbon-old-fashioned/',\n",
       " 'https://www.halfbakedharvest.com/haunted-orchard-cocktail/',\n",
       " 'https://www.halfbakedharvest.com/vampires-drip-cocktail/',\n",
       " 'https://www.halfbakedharvest.com/the-deathly-hallows-cocktail/',\n",
       " 'https://www.halfbakedharvest.com/death-eater-negroni/',\n",
       " 'https://www.halfbakedharvest.com/apple-butter-old-fashioned/',\n",
       " 'https://www.halfbakedharvest.com/fig-honey-thyme-prosecco-smash/',\n",
       " 'https://www.halfbakedharvest.com/gingered-peach-bourbon-thyme-smash/',\n",
       " 'https://www.halfbakedharvest.com/frozen-watermelon-rose-sangria-slushies/',\n",
       " 'https://www.halfbakedharvest.com/blood-orange-champagne-mule/',\n",
       " 'https://www.halfbakedharvest.com/santas-nightcap/',\n",
       " 'https://www.halfbakedharvest.com/christmas-ale-sangria/',\n",
       " 'https://www.halfbakedharvest.com/white-christmas-mojito/',\n",
       " 'https://www.halfbakedharvest.com/coziest-homemade-hot-toddy-kit/',\n",
       " 'https://www.halfbakedharvest.com/poinsettia-spritz-punch/',\n",
       " 'https://www.halfbakedharvest.com/north-pole-cocktail/',\n",
       " 'https://www.halfbakedharvest.com/pomegranate-ginger-paloma/',\n",
       " 'https://www.halfbakedharvest.com/blackberry-bourbon-smash/',\n",
       " 'https://www.halfbakedharvest.com/spicy-grapefruit-margarita/',\n",
       " 'https://www.halfbakedharvest.com/pomegranate-peppermint-moscow-mules-video/',\n",
       " 'https://www.halfbakedharvest.com/cranberry-orange-margaritas-video/',\n",
       " 'https://www.halfbakedharvest.com/christmas-sangria/',\n",
       " 'https://www.halfbakedharvest.com/sparkling-pomegranate-punch/',\n",
       " 'https://www.halfbakedharvest.com/pumpkin-butterbeer-hot-chocolate-video/',\n",
       " 'https://www.halfbakedharvest.com/holiday-storm-cocktail/',\n",
       " 'https://www.halfbakedharvest.com/maple-whiskey-sour/',\n",
       " 'https://www.halfbakedharvest.com/cider-punch/',\n",
       " 'https://www.halfbakedharvest.com/spiced-cranberry-thyme-moscow-mule/',\n",
       " 'https://www.halfbakedharvest.com/20-most-popular-thanksgiving-drinks/',\n",
       " 'https://www.halfbakedharvest.com/bourbon-pumpkin-smash/',\n",
       " 'https://www.halfbakedharvest.com/pumpkin-patch-margarita/',\n",
       " 'https://www.halfbakedharvest.com/jack-skellingtons-haunted-white-russian/',\n",
       " 'https://www.halfbakedharvest.com/smoky-sanderson-sisters-smash/',\n",
       " 'https://www.halfbakedharvest.com/the-25-most-popular-fall-drinks/',\n",
       " 'https://www.halfbakedharvest.com/spicy-blackberry-margarita-sour/',\n",
       " 'https://www.halfbakedharvest.com/frozen-aperol-peach-margarita/',\n",
       " 'https://www.halfbakedharvest.com/strawberry-mojito/',\n",
       " 'https://www.halfbakedharvest.com/christmas-old-fashioned/',\n",
       " 'https://www.halfbakedharvest.com/bad-santa-white-russian/',\n",
       " 'https://www.halfbakedharvest.com/frosted-spicy-ginger-moscow-mule/',\n",
       " 'https://www.halfbakedharvest.com/cinnamon-bourbon-fizz/',\n",
       " 'https://www.halfbakedharvest.com/chai-espresso-martini/',\n",
       " 'https://www.halfbakedharvest.com/spicy-pomegranate-ginger-paloma/',\n",
       " 'https://www.halfbakedharvest.com/spiced-maple-bourbon-fizz/',\n",
       " 'https://www.halfbakedharvest.com/the-18-most-popular-thanksgiving-drinks/',\n",
       " 'https://www.halfbakedharvest.com/pumpkin-head-punch/',\n",
       " 'https://www.halfbakedharvest.com/the-goblet-of-fire/',\n",
       " 'https://www.halfbakedharvest.com/the-grave-digger/',\n",
       " 'https://www.halfbakedharvest.com/vodka-watermelon-lemonade/',\n",
       " 'https://www.halfbakedharvest.com/basil-smash-pina-colada/',\n",
       " 'https://www.halfbakedharvest.com/the-hermione-granger-cocktail/',\n",
       " 'https://www.halfbakedharvest.com/blackberry-champagne-mule/',\n",
       " 'https://www.halfbakedharvest.com/watermelon-rose-paloma/',\n",
       " 'https://www.halfbakedharvest.com/blueberry-lemon-thyme-smash/',\n",
       " 'https://www.halfbakedharvest.com/whipped-coffee-white-russian/',\n",
       " 'https://www.halfbakedharvest.com/creamy-coconut-lime-mojito/',\n",
       " 'https://www.halfbakedharvest.com/orange-hibiscus-mai-tai/',\n",
       " 'https://www.halfbakedharvest.com/spicy-cucumber-margarita/',\n",
       " 'https://www.halfbakedharvest.com/dirty-horchata/',\n",
       " 'https://www.halfbakedharvest.com/the-santa-clause-smash/',\n",
       " 'https://www.halfbakedharvest.com/sparkling-christmas-party-punch/',\n",
       " 'https://www.halfbakedharvest.com/spicy-sweet-grinch-cocktail/',\n",
       " 'https://www.halfbakedharvest.com/cranberry-paloma/',\n",
       " 'https://www.halfbakedharvest.com/cinnamon-bourbon-old-fashioned/',\n",
       " 'https://www.halfbakedharvest.com/thanksgiving-drinks/',\n",
       " 'https://www.halfbakedharvest.com/cranberry-bourbon-sour/',\n",
       " 'https://www.halfbakedharvest.com/thanksgiving-sangria/',\n",
       " 'https://www.halfbakedharvest.com/smoky-harvest-apple-cider-margaritas/',\n",
       " 'https://www.halfbakedharvest.com/sleepy-hollow-cocktail/',\n",
       " 'https://www.halfbakedharvest.com/golden-snitch-cocktail/',\n",
       " 'https://www.halfbakedharvest.com/fig-dark-and-stormy/',\n",
       " 'https://www.halfbakedharvest.com/frozen-mango-mojito-rita/',\n",
       " 'https://www.halfbakedharvest.com/balsamic-peach-spritz/',\n",
       " 'https://www.halfbakedharvest.com/blackberry-tequila-lemon-cooler/',\n",
       " 'https://www.halfbakedharvest.com/pineapple-moscow-mule/',\n",
       " 'https://www.halfbakedharvest.com/strawberry-hibiscus-ginger-margarita/',\n",
       " 'https://www.halfbakedharvest.com/white-tea-and-muddled-basil-mojito/',\n",
       " 'https://www.halfbakedharvest.com/winter-citrus-tequila-smash/',\n",
       " 'https://www.halfbakedharvest.com/holly-jolly-christmas-citrus-cocktail/',\n",
       " 'https://www.halfbakedharvest.com/holiday-pear-sangria/',\n",
       " 'https://www.halfbakedharvest.com/christmas-snowstorm-margarita/',\n",
       " 'https://www.halfbakedharvest.com/gingerbread-white-russian/',\n",
       " 'https://www.halfbakedharvest.com/vanilla-chai-old-fashioned/',\n",
       " 'https://www.halfbakedharvest.com/spiced-cranberry-rose-spritzers/',\n",
       " 'https://www.halfbakedharvest.com/harvest-apple-ginger-spritz/',\n",
       " 'https://www.halfbakedharvest.com/pumpkin-patch-punch/',\n",
       " 'https://www.halfbakedharvest.com/the-black-widow-smash/',\n",
       " 'https://www.halfbakedharvest.com/the-half-blood-prince-cocktail/',\n",
       " 'https://www.halfbakedharvest.com/poison-apple-martini/',\n",
       " 'https://www.halfbakedharvest.com/fig-bourbon-cider-smash/',\n",
       " 'https://www.halfbakedharvest.com/watermelon-paloma/',\n",
       " 'https://www.halfbakedharvest.com/blackberry-thyme-margarita/',\n",
       " 'https://www.halfbakedharvest.com/sweet-bourbon-peach-lemonade/',\n",
       " 'https://www.halfbakedharvest.com/smashed-berry-rose-spritz/',\n",
       " 'https://www.halfbakedharvest.com/hibiscus-cherry-vodka-spritz/',\n",
       " 'https://www.halfbakedharvest.com/frozen-brunch-punch/']"
      ]
     },
     "execution_count": 3,
     "metadata": {},
     "output_type": "execute_result"
    }
   ],
   "source": [
    "all_recipes_url"
   ]
  },
  {
   "cell_type": "code",
   "execution_count": null,
   "id": "05734891",
   "metadata": {},
   "outputs": [],
   "source": []
  },
  {
   "cell_type": "markdown",
   "id": "1607b7d2",
   "metadata": {},
   "source": [
    "# Extract Information of all recipes"
   ]
  },
  {
   "cell_type": "code",
   "execution_count": 4,
   "id": "fb1dc3f6",
   "metadata": {},
   "outputs": [],
   "source": [
    "failed_url = []"
   ]
  },
  {
   "cell_type": "code",
   "execution_count": 5,
   "id": "5230da34",
   "metadata": {},
   "outputs": [],
   "source": [
    "# Empty Dataframe\n",
    "columns = [\n",
    "    'title',\n",
    "    'prep_time',\n",
    "    'cook_time',\n",
    "    'total_time',\n",
    "    'ingredients',\n",
    "    'ingredients with measurement',\n",
    "    'instructions',\n",
    "    'calories',\n",
    "    'servings',\n",
    "    'images'\n",
    "]"
   ]
  },
  {
   "cell_type": "code",
   "execution_count": 6,
   "id": "0aedaaab",
   "metadata": {},
   "outputs": [
    {
     "data": {
      "text/html": [
       "<div>\n",
       "<style scoped>\n",
       "    .dataframe tbody tr th:only-of-type {\n",
       "        vertical-align: middle;\n",
       "    }\n",
       "\n",
       "    .dataframe tbody tr th {\n",
       "        vertical-align: top;\n",
       "    }\n",
       "\n",
       "    .dataframe thead th {\n",
       "        text-align: right;\n",
       "    }\n",
       "</style>\n",
       "<table border=\"1\" class=\"dataframe\">\n",
       "  <thead>\n",
       "    <tr style=\"text-align: right;\">\n",
       "      <th></th>\n",
       "      <th>title</th>\n",
       "      <th>prep_time</th>\n",
       "      <th>cook_time</th>\n",
       "      <th>total_time</th>\n",
       "      <th>ingredients</th>\n",
       "      <th>ingredients with measurement</th>\n",
       "      <th>instructions</th>\n",
       "      <th>calories</th>\n",
       "      <th>servings</th>\n",
       "      <th>images</th>\n",
       "    </tr>\n",
       "  </thead>\n",
       "  <tbody>\n",
       "  </tbody>\n",
       "</table>\n",
       "</div>"
      ],
      "text/plain": [
       "Empty DataFrame\n",
       "Columns: [title, prep_time, cook_time, total_time, ingredients, ingredients with measurement, instructions, calories, servings, images]\n",
       "Index: []"
      ]
     },
     "execution_count": 6,
     "metadata": {},
     "output_type": "execute_result"
    }
   ],
   "source": [
    "final = pd.DataFrame(columns=columns)\n",
    "final"
   ]
  },
  {
   "cell_type": "markdown",
   "id": "203deee8",
   "metadata": {},
   "source": [
    "# Extract Function"
   ]
  },
  {
   "cell_type": "code",
   "execution_count": 7,
   "id": "5fc26b8c",
   "metadata": {},
   "outputs": [],
   "source": [
    "def extract(soup):\n",
    "    try:\n",
    "        # TITLE\n",
    "        h2_tag = soup.find('h2', class_='wprm-recipe-name')  # Replaced temp_soup with soup\n",
    "        if h2_tag:\n",
    "            title.append(h2_tag.text.strip())\n",
    "        else:\n",
    "            title.append('-')\n",
    "\n",
    "        # PREP TIME\n",
    "        prep_time_elem = soup.find(class_='wprm-recipe-prep-time-container')  # Replaced temp_soup with soup\n",
    "        if prep_time_elem:\n",
    "            time_dict = {}\n",
    "            hours_tag = prep_time_elem.find('span', class_='wprm-recipe-prep_time-hours')\n",
    "            minutes_tag = prep_time_elem.find('span', class_='wprm-recipe-prep_time-minutes')\n",
    "\n",
    "            if hours_tag:\n",
    "                hours_text = hours_tag.text.strip() if hours_tag else None\n",
    "                hours_value = re.sub(r'\\D', '', hours_text) if hours_text else None\n",
    "                time_dict['hours'] = hours_value\n",
    "            if minutes_tag:\n",
    "                minutes_text = minutes_tag.text.strip() if minutes_tag else None\n",
    "                minutes_value = re.sub(r'\\D', '', minutes_text) if minutes_text else None\n",
    "                time_dict['minutes'] = minutes_value\n",
    "            prep_time.append(time_dict) \n",
    "        else:\n",
    "            prep_time.append('-')\n",
    "\n",
    "        # COOK TIME\n",
    "        cook_time_elem = soup.find(class_='wprm-recipe-cook-time-container')  # Replaced temp_soup with soup\n",
    "        if cook_time_elem:\n",
    "            time_dict = {}\n",
    "            hours_tag = cook_time_elem.find('span', class_='wprm-recipe-cook_time-hours')\n",
    "            minutes_tag = cook_time_elem.find('span', class_='wprm-recipe-cook_time-minutes')\n",
    "\n",
    "            if hours_tag:\n",
    "                hours_text = hours_tag.text.strip() if hours_tag else None\n",
    "                hours_value = re.sub(r'\\D', '', hours_text) if hours_text else None\n",
    "                time_dict['hours'] = hours_value\n",
    "            if minutes_tag:\n",
    "                minutes_text = minutes_tag.text.strip() if minutes_tag else None\n",
    "                minutes_value = re.sub(r'\\D', '', minutes_text) if minutes_text else None\n",
    "                time_dict['minutes'] = minutes_value\n",
    "\n",
    "            cook_time.append(time_dict) \n",
    "        else:\n",
    "            cook_time.append('-')\n",
    "\n",
    "        # TOTAL TIME\n",
    "        total_time_elem = soup.find(class_='wprm-recipe-total-time-container')  # Replaced temp_soup with soup\n",
    "        if total_time_elem:\n",
    "            time_dict = {}\n",
    "            hours_tag = total_time_elem.find('span', class_='wprm-recipe-total_time-hours')\n",
    "            minutes_tag = total_time_elem.find('span', class_='wprm-recipe-total_time-minutes')\n",
    "\n",
    "            if hours_tag:\n",
    "                hours_text = hours_tag.text.strip() if hours_tag else None\n",
    "                hours_value = re.sub(r'\\D', '', hours_text) if hours_text else None\n",
    "                time_dict['hours'] = hours_value\n",
    "            if minutes_tag:\n",
    "                minutes_text = minutes_tag.text.strip() if minutes_tag else None\n",
    "                minutes_value = re.sub(r'\\D', '', minutes_text) if minutes_text else None\n",
    "                time_dict['minutes'] = minutes_value\n",
    "            total_time.append(time_dict) \n",
    "        else:\n",
    "            total_time.append('-')\n",
    "\n",
    "        # INGREDIENTS\n",
    "        ingr_list = soup.find_all('li', class_='wprm-recipe-ingredient')  # Replaced temp_soup with soup\n",
    "        if ingr_list:\n",
    "            ingredient_dict = {}\n",
    "            ingredients_recipe = []\n",
    "            for ingr in ingr_list:\n",
    "                ingr_amount_elem = ingr.find(class_='wprm-recipe-ingredient-amount')\n",
    "                ingr_amount = ingr_amount_elem.text.strip() if ingr_amount_elem else None\n",
    "                ingr_name_elem = ingr.find(class_='wprm-recipe-ingredient-name')\n",
    "                ingr_name = ingr_name_elem.text.strip() if ingr_name_elem else None\n",
    "                ingredient_dict[ingr_name] = ingr_amount if ingr_amount else \"seasoning\"\n",
    "                ingredients_recipe.append(ingr_name)\n",
    "            ingredients_measurment.append(ingredient_dict)\n",
    "            ingredients.append(ingredients_recipe)\n",
    "        else:\n",
    "            ingredients_measurment.append('-')\n",
    "            ingredients.append('-')\n",
    "\n",
    "        # INSTRUCTIONS\n",
    "        recipe_instr = soup.find(class_='wprm-recipe-instruction-group')  # Replaced temp_soup with soup\n",
    "        if recipe_instr:\n",
    "            recipe_steps = []\n",
    "            steps = recipe_instr.find_all(\"span\", attrs={\"class\": None})\n",
    "            for step in steps:\n",
    "                recipe_steps.append(step.text.strip())\n",
    "            instructions.append(recipe_steps)\n",
    "        else:\n",
    "            instructions.append('-')\n",
    "\n",
    "        # SERVINGS\n",
    "        serving_div = soup.find('span', class_='wprm-recipe-servings')  # Replaced temp_soup with soup\n",
    "        if serving_div:\n",
    "            servings.append(serving_div.text.strip())\n",
    "        else:\n",
    "            servings.append('-')\n",
    "\n",
    "        # CALORIES\n",
    "        calorie_div = soup.find('span',class_='wprm-recipe-nutrition-with-unit')  # Replaced temp_soup with soup\n",
    "        if calorie_div:\n",
    "            calories.append(calorie_div.text.strip())\n",
    "        else:\n",
    "            calories.append('-')\n",
    "\n",
    "        # IMAGES\n",
    "        images.append('-')\n",
    "        img_div = soup.find(class_='entry-content')\n",
    "        img_tags = img_div.find_all('img')\n",
    "        jpg_links = [img['src'] for img in img_tags if img['src'].endswith('.jpg')]\n",
    "        if len(jpg_links) >= 2:\n",
    "            second_jpg_link = jpg_links[1]\n",
    "            images[-1] = second_jpg_link\n",
    "\n",
    "    except requests.exceptions.RequestException as e:\n",
    "        print(f\"Failed to fetch the page: {e}\")\n",
    "        failed_url.append(url)  # Append failed URL to list\n"
   ]
  },
  {
   "cell_type": "markdown",
   "id": "f02d31b8",
   "metadata": {},
   "source": [
    "### Recipes 0-24"
   ]
  },
  {
   "cell_type": "code",
   "execution_count": 8,
   "id": "583cee40",
   "metadata": {
    "scrolled": true
   },
   "outputs": [
    {
     "name": "stdout",
     "output_type": "stream",
     "text": [
      "Proxies loaded: ['160.86.242.23:8080', '185.195.71.218:18080', '35.220.254.137:8080']\n"
     ]
    },
    {
     "data": {
      "application/javascript": [
       "\n",
       "        if (window._pyforest_update_imports_cell) { window._pyforest_update_imports_cell('import re'); }\n",
       "    "
      ],
      "text/plain": [
       "<IPython.core.display.Javascript object>"
      ]
     },
     "metadata": {},
     "output_type": "display_data"
    },
    {
     "data": {
      "application/javascript": [
       "\n",
       "        if (window._pyforest_update_imports_cell) { window._pyforest_update_imports_cell('import re'); }\n",
       "    "
      ],
      "text/plain": [
       "<IPython.core.display.Javascript object>"
      ]
     },
     "metadata": {},
     "output_type": "display_data"
    },
    {
     "data": {
      "application/javascript": [
       "\n",
       "        if (window._pyforest_update_imports_cell) { window._pyforest_update_imports_cell('import re'); }\n",
       "    "
      ],
      "text/plain": [
       "<IPython.core.display.Javascript object>"
      ]
     },
     "metadata": {},
     "output_type": "display_data"
    },
    {
     "name": "stdout",
     "output_type": "stream",
     "text": [
      "Successfully retrieved 0 - https://www.halfbakedharvest.com/peach-thyme-smash/ with proxy 160.86.242.23:8080\n",
      "Proxy 185.195.71.218:18080 failed for https://www.halfbakedharvest.com/frozen-watermelon-spritz/: HTTPSConnectionPool(host='www.halfbakedharvest.com', port=443): Max retries exceeded with url: /frozen-watermelon-spritz/ (Caused by ProxyError('Unable to connect to proxy', OSError('Tunnel connection failed: 503 Service Unavailable')))\n",
      "Successfully retrieved 2 - https://www.halfbakedharvest.com/the-50-most-popular-summer-recipes-of-2024/ with proxy 35.220.254.137:8080\n"
     ]
    },
    {
     "data": {
      "application/javascript": [
       "\n",
       "        if (window._pyforest_update_imports_cell) { window._pyforest_update_imports_cell('import re'); }\n",
       "    "
      ],
      "text/plain": [
       "<IPython.core.display.Javascript object>"
      ]
     },
     "metadata": {},
     "output_type": "display_data"
    },
    {
     "data": {
      "application/javascript": [
       "\n",
       "        if (window._pyforest_update_imports_cell) { window._pyforest_update_imports_cell('import re'); }\n",
       "    "
      ],
      "text/plain": [
       "<IPython.core.display.Javascript object>"
      ]
     },
     "metadata": {},
     "output_type": "display_data"
    },
    {
     "name": "stdout",
     "output_type": "stream",
     "text": [
      "Successfully retrieved 3 - https://www.halfbakedharvest.com/coconut-lime-margaritas/ with proxy 160.86.242.23:8080\n"
     ]
    },
    {
     "data": {
      "application/javascript": [
       "\n",
       "        if (window._pyforest_update_imports_cell) { window._pyforest_update_imports_cell('import re'); }\n",
       "    "
      ],
      "text/plain": [
       "<IPython.core.display.Javascript object>"
      ]
     },
     "metadata": {},
     "output_type": "display_data"
    },
    {
     "data": {
      "application/javascript": [
       "\n",
       "        if (window._pyforest_update_imports_cell) { window._pyforest_update_imports_cell('import re'); }\n",
       "    "
      ],
      "text/plain": [
       "<IPython.core.display.Javascript object>"
      ]
     },
     "metadata": {},
     "output_type": "display_data"
    },
    {
     "data": {
      "application/javascript": [
       "\n",
       "        if (window._pyforest_update_imports_cell) { window._pyforest_update_imports_cell('import re'); }\n",
       "    "
      ],
      "text/plain": [
       "<IPython.core.display.Javascript object>"
      ]
     },
     "metadata": {},
     "output_type": "display_data"
    },
    {
     "name": "stdout",
     "output_type": "stream",
     "text": [
      "Successfully retrieved 4 - https://www.halfbakedharvest.com/white-russian/ with proxy 185.195.71.218:18080\n"
     ]
    },
    {
     "data": {
      "application/javascript": [
       "\n",
       "        if (window._pyforest_update_imports_cell) { window._pyforest_update_imports_cell('import re'); }\n",
       "    "
      ],
      "text/plain": [
       "<IPython.core.display.Javascript object>"
      ]
     },
     "metadata": {},
     "output_type": "display_data"
    },
    {
     "data": {
      "application/javascript": [
       "\n",
       "        if (window._pyforest_update_imports_cell) { window._pyforest_update_imports_cell('import re'); }\n",
       "    "
      ],
      "text/plain": [
       "<IPython.core.display.Javascript object>"
      ]
     },
     "metadata": {},
     "output_type": "display_data"
    },
    {
     "name": "stdout",
     "output_type": "stream",
     "text": [
      "Successfully retrieved 5 - https://www.halfbakedharvest.com/gingerbread-cocktail/ with proxy 35.220.254.137:8080\n",
      "Successfully retrieved 6 - https://www.halfbakedharvest.com/popular-holiday-appetizers-and-cocktails-mocktails/ with proxy 160.86.242.23:8080\n"
     ]
    },
    {
     "data": {
      "application/javascript": [
       "\n",
       "        if (window._pyforest_update_imports_cell) { window._pyforest_update_imports_cell('import re'); }\n",
       "    "
      ],
      "text/plain": [
       "<IPython.core.display.Javascript object>"
      ]
     },
     "metadata": {},
     "output_type": "display_data"
    },
    {
     "data": {
      "application/javascript": [
       "\n",
       "        if (window._pyforest_update_imports_cell) { window._pyforest_update_imports_cell('import re'); }\n",
       "    "
      ],
      "text/plain": [
       "<IPython.core.display.Javascript object>"
      ]
     },
     "metadata": {},
     "output_type": "display_data"
    },
    {
     "name": "stdout",
     "output_type": "stream",
     "text": [
      "Successfully retrieved 7 - https://www.halfbakedharvest.com/christmas-punch/ with proxy 185.195.71.218:18080\n"
     ]
    },
    {
     "data": {
      "application/javascript": [
       "\n",
       "        if (window._pyforest_update_imports_cell) { window._pyforest_update_imports_cell('import re'); }\n",
       "    "
      ],
      "text/plain": [
       "<IPython.core.display.Javascript object>"
      ]
     },
     "metadata": {},
     "output_type": "display_data"
    },
    {
     "data": {
      "application/javascript": [
       "\n",
       "        if (window._pyforest_update_imports_cell) { window._pyforest_update_imports_cell('import re'); }\n",
       "    "
      ],
      "text/plain": [
       "<IPython.core.display.Javascript object>"
      ]
     },
     "metadata": {},
     "output_type": "display_data"
    },
    {
     "data": {
      "application/javascript": [
       "\n",
       "        if (window._pyforest_update_imports_cell) { window._pyforest_update_imports_cell('import re'); }\n",
       "    "
      ],
      "text/plain": [
       "<IPython.core.display.Javascript object>"
      ]
     },
     "metadata": {},
     "output_type": "display_data"
    },
    {
     "name": "stdout",
     "output_type": "stream",
     "text": [
      "Successfully retrieved 8 - https://www.halfbakedharvest.com/naughty-nice-margarita/ with proxy 35.220.254.137:8080\n"
     ]
    },
    {
     "data": {
      "application/javascript": [
       "\n",
       "        if (window._pyforest_update_imports_cell) { window._pyforest_update_imports_cell('import re'); }\n",
       "    "
      ],
      "text/plain": [
       "<IPython.core.display.Javascript object>"
      ]
     },
     "metadata": {},
     "output_type": "display_data"
    },
    {
     "data": {
      "application/javascript": [
       "\n",
       "        if (window._pyforest_update_imports_cell) { window._pyforest_update_imports_cell('import re'); }\n",
       "    "
      ],
      "text/plain": [
       "<IPython.core.display.Javascript object>"
      ]
     },
     "metadata": {},
     "output_type": "display_data"
    },
    {
     "data": {
      "application/javascript": [
       "\n",
       "        if (window._pyforest_update_imports_cell) { window._pyforest_update_imports_cell('import re'); }\n",
       "    "
      ],
      "text/plain": [
       "<IPython.core.display.Javascript object>"
      ]
     },
     "metadata": {},
     "output_type": "display_data"
    },
    {
     "name": "stdout",
     "output_type": "stream",
     "text": [
      "Successfully retrieved 9 - https://www.halfbakedharvest.com/mistletoe-kiss-cocktail/ with proxy 160.86.242.23:8080\n"
     ]
    },
    {
     "data": {
      "application/javascript": [
       "\n",
       "        if (window._pyforest_update_imports_cell) { window._pyforest_update_imports_cell('import re'); }\n",
       "    "
      ],
      "text/plain": [
       "<IPython.core.display.Javascript object>"
      ]
     },
     "metadata": {},
     "output_type": "display_data"
    },
    {
     "data": {
      "application/javascript": [
       "\n",
       "        if (window._pyforest_update_imports_cell) { window._pyforest_update_imports_cell('import re'); }\n",
       "    "
      ],
      "text/plain": [
       "<IPython.core.display.Javascript object>"
      ]
     },
     "metadata": {},
     "output_type": "display_data"
    },
    {
     "data": {
      "application/javascript": [
       "\n",
       "        if (window._pyforest_update_imports_cell) { window._pyforest_update_imports_cell('import re'); }\n",
       "    "
      ],
      "text/plain": [
       "<IPython.core.display.Javascript object>"
      ]
     },
     "metadata": {},
     "output_type": "display_data"
    },
    {
     "name": "stdout",
     "output_type": "stream",
     "text": [
      "Successfully retrieved 10 - https://www.halfbakedharvest.com/sage-ginger-paloma/ with proxy 185.195.71.218:18080\n"
     ]
    },
    {
     "data": {
      "application/javascript": [
       "\n",
       "        if (window._pyforest_update_imports_cell) { window._pyforest_update_imports_cell('import re'); }\n",
       "    "
      ],
      "text/plain": [
       "<IPython.core.display.Javascript object>"
      ]
     },
     "metadata": {},
     "output_type": "display_data"
    },
    {
     "data": {
      "application/javascript": [
       "\n",
       "        if (window._pyforest_update_imports_cell) { window._pyforest_update_imports_cell('import re'); }\n",
       "    "
      ],
      "text/plain": [
       "<IPython.core.display.Javascript object>"
      ]
     },
     "metadata": {},
     "output_type": "display_data"
    },
    {
     "name": "stdout",
     "output_type": "stream",
     "text": [
      "Successfully retrieved 11 - https://www.halfbakedharvest.com/cranberry-cider-margarita/ with proxy 35.220.254.137:8080\n"
     ]
    },
    {
     "data": {
      "application/javascript": [
       "\n",
       "        if (window._pyforest_update_imports_cell) { window._pyforest_update_imports_cell('import re'); }\n",
       "    "
      ],
      "text/plain": [
       "<IPython.core.display.Javascript object>"
      ]
     },
     "metadata": {},
     "output_type": "display_data"
    },
    {
     "data": {
      "application/javascript": [
       "\n",
       "        if (window._pyforest_update_imports_cell) { window._pyforest_update_imports_cell('import re'); }\n",
       "    "
      ],
      "text/plain": [
       "<IPython.core.display.Javascript object>"
      ]
     },
     "metadata": {},
     "output_type": "display_data"
    },
    {
     "data": {
      "application/javascript": [
       "\n",
       "        if (window._pyforest_update_imports_cell) { window._pyforest_update_imports_cell('import re'); }\n",
       "    "
      ],
      "text/plain": [
       "<IPython.core.display.Javascript object>"
      ]
     },
     "metadata": {},
     "output_type": "display_data"
    },
    {
     "name": "stdout",
     "output_type": "stream",
     "text": [
      "Successfully retrieved 12 - https://www.halfbakedharvest.com/cinnamon-apple-bourbon-smash/ with proxy 160.86.242.23:8080\n",
      "Successfully retrieved 13 - https://www.halfbakedharvest.com/the-24-most-popular-thanksgiving-drinks/ with proxy 185.195.71.218:18080\n"
     ]
    },
    {
     "data": {
      "application/javascript": [
       "\n",
       "        if (window._pyforest_update_imports_cell) { window._pyforest_update_imports_cell('import re'); }\n",
       "    "
      ],
      "text/plain": [
       "<IPython.core.display.Javascript object>"
      ]
     },
     "metadata": {},
     "output_type": "display_data"
    },
    {
     "data": {
      "application/javascript": [
       "\n",
       "        if (window._pyforest_update_imports_cell) { window._pyforest_update_imports_cell('import re'); }\n",
       "    "
      ],
      "text/plain": [
       "<IPython.core.display.Javascript object>"
      ]
     },
     "metadata": {},
     "output_type": "display_data"
    },
    {
     "name": "stdout",
     "output_type": "stream",
     "text": [
      "Successfully retrieved 14 - https://www.halfbakedharvest.com/bloody-mule/ with proxy 35.220.254.137:8080\n",
      "Proxy 160.86.242.23:8080 failed for https://www.halfbakedharvest.com/hocus-pocus-old-fashioned/: ('Connection aborted.', RemoteDisconnected('Remote end closed connection without response'))\n",
      "Proxy 185.195.71.218:18080 failed for https://www.halfbakedharvest.com/pomegranate-punch/: HTTPSConnectionPool(host='www.halfbakedharvest.com', port=443): Max retries exceeded with url: /pomegranate-punch/ (Caused by ProxyError('Unable to connect to proxy', OSError('Tunnel connection failed: 503 Service Unavailable')))\n",
      "Successfully retrieved 17 - https://www.halfbakedharvest.com/the-30-most-popular-fall-drinks/ with proxy 35.220.254.137:8080\n"
     ]
    },
    {
     "data": {
      "application/javascript": [
       "\n",
       "        if (window._pyforest_update_imports_cell) { window._pyforest_update_imports_cell('import re'); }\n",
       "    "
      ],
      "text/plain": [
       "<IPython.core.display.Javascript object>"
      ]
     },
     "metadata": {},
     "output_type": "display_data"
    },
    {
     "data": {
      "application/javascript": [
       "\n",
       "        if (window._pyforest_update_imports_cell) { window._pyforest_update_imports_cell('import re'); }\n",
       "    "
      ],
      "text/plain": [
       "<IPython.core.display.Javascript object>"
      ]
     },
     "metadata": {},
     "output_type": "display_data"
    },
    {
     "name": "stdout",
     "output_type": "stream",
     "text": [
      "Successfully retrieved 18 - https://www.halfbakedharvest.com/strawberry-lemonade-aperol-margarita/ with proxy 160.86.242.23:8080\n"
     ]
    },
    {
     "data": {
      "application/javascript": [
       "\n",
       "        if (window._pyforest_update_imports_cell) { window._pyforest_update_imports_cell('import re'); }\n",
       "    "
      ],
      "text/plain": [
       "<IPython.core.display.Javascript object>"
      ]
     },
     "metadata": {},
     "output_type": "display_data"
    },
    {
     "data": {
      "application/javascript": [
       "\n",
       "        if (window._pyforest_update_imports_cell) { window._pyforest_update_imports_cell('import re'); }\n",
       "    "
      ],
      "text/plain": [
       "<IPython.core.display.Javascript object>"
      ]
     },
     "metadata": {},
     "output_type": "display_data"
    },
    {
     "name": "stdout",
     "output_type": "stream",
     "text": [
      "Successfully retrieved 19 - https://www.halfbakedharvest.com/jalapeno-ginger-moscow-mule-with-mocktail/ with proxy 185.195.71.218:18080\n"
     ]
    },
    {
     "data": {
      "application/javascript": [
       "\n",
       "        if (window._pyforest_update_imports_cell) { window._pyforest_update_imports_cell('import re'); }\n",
       "    "
      ],
      "text/plain": [
       "<IPython.core.display.Javascript object>"
      ]
     },
     "metadata": {},
     "output_type": "display_data"
    },
    {
     "data": {
      "application/javascript": [
       "\n",
       "        if (window._pyforest_update_imports_cell) { window._pyforest_update_imports_cell('import re'); }\n",
       "    "
      ],
      "text/plain": [
       "<IPython.core.display.Javascript object>"
      ]
     },
     "metadata": {},
     "output_type": "display_data"
    },
    {
     "data": {
      "application/javascript": [
       "\n",
       "        if (window._pyforest_update_imports_cell) { window._pyforest_update_imports_cell('import re'); }\n",
       "    "
      ],
      "text/plain": [
       "<IPython.core.display.Javascript object>"
      ]
     },
     "metadata": {},
     "output_type": "display_data"
    },
    {
     "name": "stdout",
     "output_type": "stream",
     "text": [
      "Successfully retrieved 20 - https://www.halfbakedharvest.com/chocolate-espresso-martini/ with proxy 35.220.254.137:8080\n"
     ]
    },
    {
     "data": {
      "application/javascript": [
       "\n",
       "        if (window._pyforest_update_imports_cell) { window._pyforest_update_imports_cell('import re'); }\n",
       "    "
      ],
      "text/plain": [
       "<IPython.core.display.Javascript object>"
      ]
     },
     "metadata": {},
     "output_type": "display_data"
    },
    {
     "data": {
      "application/javascript": [
       "\n",
       "        if (window._pyforest_update_imports_cell) { window._pyforest_update_imports_cell('import re'); }\n",
       "    "
      ],
      "text/plain": [
       "<IPython.core.display.Javascript object>"
      ]
     },
     "metadata": {},
     "output_type": "display_data"
    },
    {
     "name": "stdout",
     "output_type": "stream",
     "text": [
      "Successfully retrieved 21 - https://www.halfbakedharvest.com/spiced-christmas-margarita/ with proxy 160.86.242.23:8080\n"
     ]
    },
    {
     "data": {
      "application/javascript": [
       "\n",
       "        if (window._pyforest_update_imports_cell) { window._pyforest_update_imports_cell('import re'); }\n",
       "    "
      ],
      "text/plain": [
       "<IPython.core.display.Javascript object>"
      ]
     },
     "metadata": {},
     "output_type": "display_data"
    },
    {
     "data": {
      "application/javascript": [
       "\n",
       "        if (window._pyforest_update_imports_cell) { window._pyforest_update_imports_cell('import re'); }\n",
       "    "
      ],
      "text/plain": [
       "<IPython.core.display.Javascript object>"
      ]
     },
     "metadata": {},
     "output_type": "display_data"
    },
    {
     "name": "stdout",
     "output_type": "stream",
     "text": [
      "Successfully retrieved 22 - https://www.halfbakedharvest.com/christmas-pomegranate-punch/ with proxy 185.195.71.218:18080\n"
     ]
    },
    {
     "data": {
      "application/javascript": [
       "\n",
       "        if (window._pyforest_update_imports_cell) { window._pyforest_update_imports_cell('import re'); }\n",
       "    "
      ],
      "text/plain": [
       "<IPython.core.display.Javascript object>"
      ]
     },
     "metadata": {},
     "output_type": "display_data"
    },
    {
     "data": {
      "application/javascript": [
       "\n",
       "        if (window._pyforest_update_imports_cell) { window._pyforest_update_imports_cell('import re'); }\n",
       "    "
      ],
      "text/plain": [
       "<IPython.core.display.Javascript object>"
      ]
     },
     "metadata": {},
     "output_type": "display_data"
    },
    {
     "data": {
      "application/javascript": [
       "\n",
       "        if (window._pyforest_update_imports_cell) { window._pyforest_update_imports_cell('import re'); }\n",
       "    "
      ],
      "text/plain": [
       "<IPython.core.display.Javascript object>"
      ]
     },
     "metadata": {},
     "output_type": "display_data"
    },
    {
     "name": "stdout",
     "output_type": "stream",
     "text": [
      "Successfully retrieved 23 - https://www.halfbakedharvest.com/dirty-chai-cocktail/ with proxy 35.220.254.137:8080\n"
     ]
    },
    {
     "data": {
      "application/javascript": [
       "\n",
       "        if (window._pyforest_update_imports_cell) { window._pyforest_update_imports_cell('import re'); }\n",
       "    "
      ],
      "text/plain": [
       "<IPython.core.display.Javascript object>"
      ]
     },
     "metadata": {},
     "output_type": "display_data"
    },
    {
     "data": {
      "application/javascript": [
       "\n",
       "        if (window._pyforest_update_imports_cell) { window._pyforest_update_imports_cell('import re'); }\n",
       "    "
      ],
      "text/plain": [
       "<IPython.core.display.Javascript object>"
      ]
     },
     "metadata": {},
     "output_type": "display_data"
    },
    {
     "name": "stdout",
     "output_type": "stream",
     "text": [
      "Successfully retrieved 24 - https://www.halfbakedharvest.com/i-put-a-spell-on-you-poison-apple-martini/ with proxy 160.86.242.23:8080\n",
      "Proxy 185.195.71.218:18080 failed for https://www.halfbakedharvest.com/the-20-most-popular-fall-drinks/: HTTPSConnectionPool(host='www.halfbakedharvest.com', port=443): Max retries exceeded with url: /the-20-most-popular-fall-drinks/ (Caused by ProxyError('Unable to connect to proxy', OSError('Tunnel connection failed: 503 Service Unavailable')))\n"
     ]
    },
    {
     "data": {
      "application/javascript": [
       "\n",
       "        if (window._pyforest_update_imports_cell) { window._pyforest_update_imports_cell('import re'); }\n",
       "    "
      ],
      "text/plain": [
       "<IPython.core.display.Javascript object>"
      ]
     },
     "metadata": {},
     "output_type": "display_data"
    },
    {
     "data": {
      "application/javascript": [
       "\n",
       "        if (window._pyforest_update_imports_cell) { window._pyforest_update_imports_cell('import re'); }\n",
       "    "
      ],
      "text/plain": [
       "<IPython.core.display.Javascript object>"
      ]
     },
     "metadata": {},
     "output_type": "display_data"
    },
    {
     "data": {
      "application/javascript": [
       "\n",
       "        if (window._pyforest_update_imports_cell) { window._pyforest_update_imports_cell('import re'); }\n",
       "    "
      ],
      "text/plain": [
       "<IPython.core.display.Javascript object>"
      ]
     },
     "metadata": {},
     "output_type": "display_data"
    },
    {
     "name": "stdout",
     "output_type": "stream",
     "text": [
      "Successfully retrieved 26 - https://www.halfbakedharvest.com/frozen-peach-rose-slushy/ with proxy 35.220.254.137:8080\n"
     ]
    },
    {
     "data": {
      "application/javascript": [
       "\n",
       "        if (window._pyforest_update_imports_cell) { window._pyforest_update_imports_cell('import re'); }\n",
       "    "
      ],
      "text/plain": [
       "<IPython.core.display.Javascript object>"
      ]
     },
     "metadata": {},
     "output_type": "display_data"
    },
    {
     "data": {
      "application/javascript": [
       "\n",
       "        if (window._pyforest_update_imports_cell) { window._pyforest_update_imports_cell('import re'); }\n",
       "    "
      ],
      "text/plain": [
       "<IPython.core.display.Javascript object>"
      ]
     },
     "metadata": {},
     "output_type": "display_data"
    },
    {
     "name": "stdout",
     "output_type": "stream",
     "text": [
      "Successfully retrieved 27 - https://www.halfbakedharvest.com/firecracker-champagne-paloma/ with proxy 160.86.242.23:8080\n"
     ]
    },
    {
     "data": {
      "application/javascript": [
       "\n",
       "        if (window._pyforest_update_imports_cell) { window._pyforest_update_imports_cell('import re'); }\n",
       "    "
      ],
      "text/plain": [
       "<IPython.core.display.Javascript object>"
      ]
     },
     "metadata": {},
     "output_type": "display_data"
    },
    {
     "data": {
      "application/javascript": [
       "\n",
       "        if (window._pyforest_update_imports_cell) { window._pyforest_update_imports_cell('import re'); }\n",
       "    "
      ],
      "text/plain": [
       "<IPython.core.display.Javascript object>"
      ]
     },
     "metadata": {},
     "output_type": "display_data"
    },
    {
     "name": "stdout",
     "output_type": "stream",
     "text": [
      "Successfully retrieved 28 - https://www.halfbakedharvest.com/watermelon-rosemary-frose/ with proxy 185.195.71.218:18080\n"
     ]
    },
    {
     "data": {
      "application/javascript": [
       "\n",
       "        if (window._pyforest_update_imports_cell) { window._pyforest_update_imports_cell('import re'); }\n",
       "    "
      ],
      "text/plain": [
       "<IPython.core.display.Javascript object>"
      ]
     },
     "metadata": {},
     "output_type": "display_data"
    },
    {
     "data": {
      "application/javascript": [
       "\n",
       "        if (window._pyforest_update_imports_cell) { window._pyforest_update_imports_cell('import re'); }\n",
       "    "
      ],
      "text/plain": [
       "<IPython.core.display.Javascript object>"
      ]
     },
     "metadata": {},
     "output_type": "display_data"
    },
    {
     "data": {
      "application/javascript": [
       "\n",
       "        if (window._pyforest_update_imports_cell) { window._pyforest_update_imports_cell('import re'); }\n",
       "    "
      ],
      "text/plain": [
       "<IPython.core.display.Javascript object>"
      ]
     },
     "metadata": {},
     "output_type": "display_data"
    },
    {
     "name": "stdout",
     "output_type": "stream",
     "text": [
      "Successfully retrieved 29 - https://www.halfbakedharvest.com/serrano-pineapple-margarita/ with proxy 35.220.254.137:8080\n"
     ]
    },
    {
     "data": {
      "application/javascript": [
       "\n",
       "        if (window._pyforest_update_imports_cell) { window._pyforest_update_imports_cell('import re'); }\n",
       "    "
      ],
      "text/plain": [
       "<IPython.core.display.Javascript object>"
      ]
     },
     "metadata": {},
     "output_type": "display_data"
    },
    {
     "data": {
      "application/javascript": [
       "\n",
       "        if (window._pyforest_update_imports_cell) { window._pyforest_update_imports_cell('import re'); }\n",
       "    "
      ],
      "text/plain": [
       "<IPython.core.display.Javascript object>"
      ]
     },
     "metadata": {},
     "output_type": "display_data"
    },
    {
     "name": "stdout",
     "output_type": "stream",
     "text": [
      "Successfully retrieved 30 - https://www.halfbakedharvest.com/frozen-blueberry-paloma/ with proxy 160.86.242.23:8080\n"
     ]
    },
    {
     "data": {
      "application/javascript": [
       "\n",
       "        if (window._pyforest_update_imports_cell) { window._pyforest_update_imports_cell('import re'); }\n",
       "    "
      ],
      "text/plain": [
       "<IPython.core.display.Javascript object>"
      ]
     },
     "metadata": {},
     "output_type": "display_data"
    },
    {
     "data": {
      "application/javascript": [
       "\n",
       "        if (window._pyforest_update_imports_cell) { window._pyforest_update_imports_cell('import re'); }\n",
       "    "
      ],
      "text/plain": [
       "<IPython.core.display.Javascript object>"
      ]
     },
     "metadata": {},
     "output_type": "display_data"
    },
    {
     "name": "stdout",
     "output_type": "stream",
     "text": [
      "Successfully retrieved 31 - https://www.halfbakedharvest.com/citrus-pomegranate-champagne-twist/ with proxy 185.195.71.218:18080\n",
      "Successfully retrieved 32 - https://www.halfbakedharvest.com/my-favorite-new-years-cocktails-and-appetizers/ with proxy 35.220.254.137:8080\n",
      "Proxy 160.86.242.23:8080 failed for https://www.halfbakedharvest.com/frosted-mistletoe-margarita/: ('Connection aborted.', ConnectionResetError(54, 'Connection reset by peer'))\n"
     ]
    },
    {
     "data": {
      "application/javascript": [
       "\n",
       "        if (window._pyforest_update_imports_cell) { window._pyforest_update_imports_cell('import re'); }\n",
       "    "
      ],
      "text/plain": [
       "<IPython.core.display.Javascript object>"
      ]
     },
     "metadata": {},
     "output_type": "display_data"
    },
    {
     "data": {
      "application/javascript": [
       "\n",
       "        if (window._pyforest_update_imports_cell) { window._pyforest_update_imports_cell('import re'); }\n",
       "    "
      ],
      "text/plain": [
       "<IPython.core.display.Javascript object>"
      ]
     },
     "metadata": {},
     "output_type": "display_data"
    },
    {
     "data": {
      "application/javascript": [
       "\n",
       "        if (window._pyforest_update_imports_cell) { window._pyforest_update_imports_cell('import re'); }\n",
       "    "
      ],
      "text/plain": [
       "<IPython.core.display.Javascript object>"
      ]
     },
     "metadata": {},
     "output_type": "display_data"
    },
    {
     "name": "stdout",
     "output_type": "stream",
     "text": [
      "Successfully retrieved 34 - https://www.halfbakedharvest.com/creamy-coconut-white-russian/ with proxy 185.195.71.218:18080\n"
     ]
    },
    {
     "data": {
      "application/javascript": [
       "\n",
       "        if (window._pyforest_update_imports_cell) { window._pyforest_update_imports_cell('import re'); }\n",
       "    "
      ],
      "text/plain": [
       "<IPython.core.display.Javascript object>"
      ]
     },
     "metadata": {},
     "output_type": "display_data"
    },
    {
     "data": {
      "application/javascript": [
       "\n",
       "        if (window._pyforest_update_imports_cell) { window._pyforest_update_imports_cell('import re'); }\n",
       "    "
      ],
      "text/plain": [
       "<IPython.core.display.Javascript object>"
      ]
     },
     "metadata": {},
     "output_type": "display_data"
    },
    {
     "data": {
      "application/javascript": [
       "\n",
       "        if (window._pyforest_update_imports_cell) { window._pyforest_update_imports_cell('import re'); }\n",
       "    "
      ],
      "text/plain": [
       "<IPython.core.display.Javascript object>"
      ]
     },
     "metadata": {},
     "output_type": "display_data"
    },
    {
     "name": "stdout",
     "output_type": "stream",
     "text": [
      "Successfully retrieved 35 - https://www.halfbakedharvest.com/spicy-cheermister-cocktail/ with proxy 35.220.254.137:8080\n"
     ]
    },
    {
     "data": {
      "application/javascript": [
       "\n",
       "        if (window._pyforest_update_imports_cell) { window._pyforest_update_imports_cell('import re'); }\n",
       "    "
      ],
      "text/plain": [
       "<IPython.core.display.Javascript object>"
      ]
     },
     "metadata": {},
     "output_type": "display_data"
    },
    {
     "data": {
      "application/javascript": [
       "\n",
       "        if (window._pyforest_update_imports_cell) { window._pyforest_update_imports_cell('import re'); }\n",
       "    "
      ],
      "text/plain": [
       "<IPython.core.display.Javascript object>"
      ]
     },
     "metadata": {},
     "output_type": "display_data"
    },
    {
     "name": "stdout",
     "output_type": "stream",
     "text": [
      "Successfully retrieved 36 - https://www.halfbakedharvest.com/pomegranate-champagne-mule/ with proxy 160.86.242.23:8080\n"
     ]
    },
    {
     "data": {
      "application/javascript": [
       "\n",
       "        if (window._pyforest_update_imports_cell) { window._pyforest_update_imports_cell('import re'); }\n",
       "    "
      ],
      "text/plain": [
       "<IPython.core.display.Javascript object>"
      ]
     },
     "metadata": {},
     "output_type": "display_data"
    },
    {
     "data": {
      "application/javascript": [
       "\n",
       "        if (window._pyforest_update_imports_cell) { window._pyforest_update_imports_cell('import re'); }\n",
       "    "
      ],
      "text/plain": [
       "<IPython.core.display.Javascript object>"
      ]
     },
     "metadata": {},
     "output_type": "display_data"
    },
    {
     "data": {
      "application/javascript": [
       "\n",
       "        if (window._pyforest_update_imports_cell) { window._pyforest_update_imports_cell('import re'); }\n",
       "    "
      ],
      "text/plain": [
       "<IPython.core.display.Javascript object>"
      ]
     },
     "metadata": {},
     "output_type": "display_data"
    },
    {
     "name": "stdout",
     "output_type": "stream",
     "text": [
      "Successfully retrieved 37 - https://www.halfbakedharvest.com/vanilla-espresso-martini/ with proxy 185.195.71.218:18080\n"
     ]
    },
    {
     "data": {
      "application/javascript": [
       "\n",
       "        if (window._pyforest_update_imports_cell) { window._pyforest_update_imports_cell('import re'); }\n",
       "    "
      ],
      "text/plain": [
       "<IPython.core.display.Javascript object>"
      ]
     },
     "metadata": {},
     "output_type": "display_data"
    },
    {
     "data": {
      "application/javascript": [
       "\n",
       "        if (window._pyforest_update_imports_cell) { window._pyforest_update_imports_cell('import re'); }\n",
       "    "
      ],
      "text/plain": [
       "<IPython.core.display.Javascript object>"
      ]
     },
     "metadata": {},
     "output_type": "display_data"
    },
    {
     "data": {
      "application/javascript": [
       "\n",
       "        if (window._pyforest_update_imports_cell) { window._pyforest_update_imports_cell('import re'); }\n",
       "    "
      ],
      "text/plain": [
       "<IPython.core.display.Javascript object>"
      ]
     },
     "metadata": {},
     "output_type": "display_data"
    },
    {
     "name": "stdout",
     "output_type": "stream",
     "text": [
      "Successfully retrieved 38 - https://www.halfbakedharvest.com/spiced-honey-bourbon-old-fashioned/ with proxy 35.220.254.137:8080\n",
      "Proxy 160.86.242.23:8080 failed for https://www.halfbakedharvest.com/spiced-cranberry-punch/: HTTPSConnectionPool(host='www.halfbakedharvest.com', port=443): Max retries exceeded with url: /spiced-cranberry-punch/ (Caused by ProxyError('Unable to connect to proxy', ConnectionResetError(54, 'Connection reset by peer')))\n",
      "Proxy 185.195.71.218:18080 failed for https://www.halfbakedharvest.com/the-14-most-popular-thanksgiving-drinks/: HTTPSConnectionPool(host='www.halfbakedharvest.com', port=443): Max retries exceeded with url: /the-14-most-popular-thanksgiving-drinks/ (Caused by ProxyError('Unable to connect to proxy', OSError('Tunnel connection failed: 503 Service Unavailable')))\n"
     ]
    },
    {
     "data": {
      "application/javascript": [
       "\n",
       "        if (window._pyforest_update_imports_cell) { window._pyforest_update_imports_cell('import re'); }\n",
       "    "
      ],
      "text/plain": [
       "<IPython.core.display.Javascript object>"
      ]
     },
     "metadata": {},
     "output_type": "display_data"
    },
    {
     "data": {
      "application/javascript": [
       "\n",
       "        if (window._pyforest_update_imports_cell) { window._pyforest_update_imports_cell('import re'); }\n",
       "    "
      ],
      "text/plain": [
       "<IPython.core.display.Javascript object>"
      ]
     },
     "metadata": {},
     "output_type": "display_data"
    },
    {
     "name": "stdout",
     "output_type": "stream",
     "text": [
      "Successfully retrieved 41 - https://www.halfbakedharvest.com/ginger-apple-moscow-mule/ with proxy 35.220.254.137:8080\n"
     ]
    },
    {
     "data": {
      "application/javascript": [
       "\n",
       "        if (window._pyforest_update_imports_cell) { window._pyforest_update_imports_cell('import re'); }\n",
       "    "
      ],
      "text/plain": [
       "<IPython.core.display.Javascript object>"
      ]
     },
     "metadata": {},
     "output_type": "display_data"
    },
    {
     "data": {
      "application/javascript": [
       "\n",
       "        if (window._pyforest_update_imports_cell) { window._pyforest_update_imports_cell('import re'); }\n",
       "    "
      ],
      "text/plain": [
       "<IPython.core.display.Javascript object>"
      ]
     },
     "metadata": {},
     "output_type": "display_data"
    },
    {
     "name": "stdout",
     "output_type": "stream",
     "text": [
      "Successfully retrieved 42 - https://www.halfbakedharvest.com/nightmare-on-bourbon-street/ with proxy 160.86.242.23:8080\n",
      "Proxy 185.195.71.218:18080 failed for https://www.halfbakedharvest.com/voldemorts-dark-serum/: HTTPSConnectionPool(host='www.halfbakedharvest.com', port=443): Max retries exceeded with url: /voldemorts-dark-serum/ (Caused by ProxyError('Unable to connect to proxy', OSError('Tunnel connection failed: 503 Service Unavailable')))\n"
     ]
    },
    {
     "data": {
      "application/javascript": [
       "\n",
       "        if (window._pyforest_update_imports_cell) { window._pyforest_update_imports_cell('import re'); }\n",
       "    "
      ],
      "text/plain": [
       "<IPython.core.display.Javascript object>"
      ]
     },
     "metadata": {},
     "output_type": "display_data"
    },
    {
     "data": {
      "application/javascript": [
       "\n",
       "        if (window._pyforest_update_imports_cell) { window._pyforest_update_imports_cell('import re'); }\n",
       "    "
      ],
      "text/plain": [
       "<IPython.core.display.Javascript object>"
      ]
     },
     "metadata": {},
     "output_type": "display_data"
    },
    {
     "name": "stdout",
     "output_type": "stream",
     "text": [
      "Successfully retrieved 44 - https://www.halfbakedharvest.com/summer-bellinis-3-ways/ with proxy 35.220.254.137:8080\n"
     ]
    },
    {
     "data": {
      "application/javascript": [
       "\n",
       "        if (window._pyforest_update_imports_cell) { window._pyforest_update_imports_cell('import re'); }\n",
       "    "
      ],
      "text/plain": [
       "<IPython.core.display.Javascript object>"
      ]
     },
     "metadata": {},
     "output_type": "display_data"
    },
    {
     "data": {
      "application/javascript": [
       "\n",
       "        if (window._pyforest_update_imports_cell) { window._pyforest_update_imports_cell('import re'); }\n",
       "    "
      ],
      "text/plain": [
       "<IPython.core.display.Javascript object>"
      ]
     },
     "metadata": {},
     "output_type": "display_data"
    },
    {
     "data": {
      "application/javascript": [
       "\n",
       "        if (window._pyforest_update_imports_cell) { window._pyforest_update_imports_cell('import re'); }\n",
       "    "
      ],
      "text/plain": [
       "<IPython.core.display.Javascript object>"
      ]
     },
     "metadata": {},
     "output_type": "display_data"
    },
    {
     "name": "stdout",
     "output_type": "stream",
     "text": [
      "Successfully retrieved 45 - https://www.halfbakedharvest.com/salted-spicy-watermelon-margarita-popsicles/ with proxy 160.86.242.23:8080\n"
     ]
    },
    {
     "data": {
      "application/javascript": [
       "\n",
       "        if (window._pyforest_update_imports_cell) { window._pyforest_update_imports_cell('import re'); }\n",
       "    "
      ],
      "text/plain": [
       "<IPython.core.display.Javascript object>"
      ]
     },
     "metadata": {},
     "output_type": "display_data"
    },
    {
     "data": {
      "application/javascript": [
       "\n",
       "        if (window._pyforest_update_imports_cell) { window._pyforest_update_imports_cell('import re'); }\n",
       "    "
      ],
      "text/plain": [
       "<IPython.core.display.Javascript object>"
      ]
     },
     "metadata": {},
     "output_type": "display_data"
    },
    {
     "name": "stdout",
     "output_type": "stream",
     "text": [
      "Successfully retrieved 46 - https://www.halfbakedharvest.com/smoky-watermelon-lemon-margarita/ with proxy 185.195.71.218:18080\n"
     ]
    },
    {
     "data": {
      "application/javascript": [
       "\n",
       "        if (window._pyforest_update_imports_cell) { window._pyforest_update_imports_cell('import re'); }\n",
       "    "
      ],
      "text/plain": [
       "<IPython.core.display.Javascript object>"
      ]
     },
     "metadata": {},
     "output_type": "display_data"
    },
    {
     "data": {
      "application/javascript": [
       "\n",
       "        if (window._pyforest_update_imports_cell) { window._pyforest_update_imports_cell('import re'); }\n",
       "    "
      ],
      "text/plain": [
       "<IPython.core.display.Javascript object>"
      ]
     },
     "metadata": {},
     "output_type": "display_data"
    },
    {
     "name": "stdout",
     "output_type": "stream",
     "text": [
      "Successfully retrieved 47 - https://www.halfbakedharvest.com/cherry-bourbon-smash/ with proxy 35.220.254.137:8080\n"
     ]
    },
    {
     "data": {
      "application/javascript": [
       "\n",
       "        if (window._pyforest_update_imports_cell) { window._pyforest_update_imports_cell('import re'); }\n",
       "    "
      ],
      "text/plain": [
       "<IPython.core.display.Javascript object>"
      ]
     },
     "metadata": {},
     "output_type": "display_data"
    },
    {
     "data": {
      "application/javascript": [
       "\n",
       "        if (window._pyforest_update_imports_cell) { window._pyforest_update_imports_cell('import re'); }\n",
       "    "
      ],
      "text/plain": [
       "<IPython.core.display.Javascript object>"
      ]
     },
     "metadata": {},
     "output_type": "display_data"
    },
    {
     "name": "stdout",
     "output_type": "stream",
     "text": [
      "Successfully retrieved 48 - https://www.halfbakedharvest.com/spicy-gingered-mango-margarita/ with proxy 160.86.242.23:8080\n"
     ]
    },
    {
     "data": {
      "application/javascript": [
       "\n",
       "        if (window._pyforest_update_imports_cell) { window._pyforest_update_imports_cell('import re'); }\n",
       "    "
      ],
      "text/plain": [
       "<IPython.core.display.Javascript object>"
      ]
     },
     "metadata": {},
     "output_type": "display_data"
    },
    {
     "data": {
      "application/javascript": [
       "\n",
       "        if (window._pyforest_update_imports_cell) { window._pyforest_update_imports_cell('import re'); }\n",
       "    "
      ],
      "text/plain": [
       "<IPython.core.display.Javascript object>"
      ]
     },
     "metadata": {},
     "output_type": "display_data"
    },
    {
     "name": "stdout",
     "output_type": "stream",
     "text": [
      "Successfully retrieved 49 - https://www.halfbakedharvest.com/minted-orange-and-strawberry-coolers/ with proxy 185.195.71.218:18080\n"
     ]
    },
    {
     "data": {
      "application/javascript": [
       "\n",
       "        if (window._pyforest_update_imports_cell) { window._pyforest_update_imports_cell('import re'); }\n",
       "    "
      ],
      "text/plain": [
       "<IPython.core.display.Javascript object>"
      ]
     },
     "metadata": {},
     "output_type": "display_data"
    },
    {
     "data": {
      "application/javascript": [
       "\n",
       "        if (window._pyforest_update_imports_cell) { window._pyforest_update_imports_cell('import re'); }\n",
       "    "
      ],
      "text/plain": [
       "<IPython.core.display.Javascript object>"
      ]
     },
     "metadata": {},
     "output_type": "display_data"
    },
    {
     "name": "stdout",
     "output_type": "stream",
     "text": [
      "Successfully retrieved 50 - https://www.halfbakedharvest.com/rose-and-ginger-palmoa/ with proxy 35.220.254.137:8080\n"
     ]
    },
    {
     "data": {
      "application/javascript": [
       "\n",
       "        if (window._pyforest_update_imports_cell) { window._pyforest_update_imports_cell('import re'); }\n",
       "    "
      ],
      "text/plain": [
       "<IPython.core.display.Javascript object>"
      ]
     },
     "metadata": {},
     "output_type": "display_data"
    },
    {
     "data": {
      "application/javascript": [
       "\n",
       "        if (window._pyforest_update_imports_cell) { window._pyforest_update_imports_cell('import re'); }\n",
       "    "
      ],
      "text/plain": [
       "<IPython.core.display.Javascript object>"
      ]
     },
     "metadata": {},
     "output_type": "display_data"
    },
    {
     "name": "stdout",
     "output_type": "stream",
     "text": [
      "Successfully retrieved 51 - https://www.halfbakedharvest.com/pineapple-margarita-sparklers/ with proxy 160.86.242.23:8080\n",
      "Successfully retrieved 52 - https://www.halfbakedharvest.com/my-24-favorite-winter-appetizer-and-cocktail-recipes/ with proxy 185.195.71.218:18080\n"
     ]
    },
    {
     "data": {
      "application/javascript": [
       "\n",
       "        if (window._pyforest_update_imports_cell) { window._pyforest_update_imports_cell('import re'); }\n",
       "    "
      ],
      "text/plain": [
       "<IPython.core.display.Javascript object>"
      ]
     },
     "metadata": {},
     "output_type": "display_data"
    },
    {
     "data": {
      "application/javascript": [
       "\n",
       "        if (window._pyforest_update_imports_cell) { window._pyforest_update_imports_cell('import re'); }\n",
       "    "
      ],
      "text/plain": [
       "<IPython.core.display.Javascript object>"
      ]
     },
     "metadata": {},
     "output_type": "display_data"
    },
    {
     "name": "stdout",
     "output_type": "stream",
     "text": [
      "Successfully retrieved 53 - https://www.halfbakedharvest.com/rudolphs-rockin-pomegranate-jingle-juice-punch/ with proxy 35.220.254.137:8080\n",
      "Proxy 160.86.242.23:8080 failed for https://www.halfbakedharvest.com/frostys-frosted-moscow-mule/: ('Connection aborted.', RemoteDisconnected('Remote end closed connection without response'))\n"
     ]
    },
    {
     "data": {
      "application/javascript": [
       "\n",
       "        if (window._pyforest_update_imports_cell) { window._pyforest_update_imports_cell('import re'); }\n",
       "    "
      ],
      "text/plain": [
       "<IPython.core.display.Javascript object>"
      ]
     },
     "metadata": {},
     "output_type": "display_data"
    },
    {
     "data": {
      "application/javascript": [
       "\n",
       "        if (window._pyforest_update_imports_cell) { window._pyforest_update_imports_cell('import re'); }\n",
       "    "
      ],
      "text/plain": [
       "<IPython.core.display.Javascript object>"
      ]
     },
     "metadata": {},
     "output_type": "display_data"
    },
    {
     "name": "stdout",
     "output_type": "stream",
     "text": [
      "Successfully retrieved 55 - https://www.halfbakedharvest.com/buddy-the-elf-cocktail/ with proxy 185.195.71.218:18080\n"
     ]
    },
    {
     "data": {
      "application/javascript": [
       "\n",
       "        if (window._pyforest_update_imports_cell) { window._pyforest_update_imports_cell('import re'); }\n",
       "    "
      ],
      "text/plain": [
       "<IPython.core.display.Javascript object>"
      ]
     },
     "metadata": {},
     "output_type": "display_data"
    },
    {
     "data": {
      "application/javascript": [
       "\n",
       "        if (window._pyforest_update_imports_cell) { window._pyforest_update_imports_cell('import re'); }\n",
       "    "
      ],
      "text/plain": [
       "<IPython.core.display.Javascript object>"
      ]
     },
     "metadata": {},
     "output_type": "display_data"
    },
    {
     "data": {
      "application/javascript": [
       "\n",
       "        if (window._pyforest_update_imports_cell) { window._pyforest_update_imports_cell('import re'); }\n",
       "    "
      ],
      "text/plain": [
       "<IPython.core.display.Javascript object>"
      ]
     },
     "metadata": {},
     "output_type": "display_data"
    },
    {
     "name": "stdout",
     "output_type": "stream",
     "text": [
      "Successfully retrieved 56 - https://www.halfbakedharvest.com/holiday-gifting-homemade-simple-syrups/ with proxy 35.220.254.137:8080\n"
     ]
    },
    {
     "data": {
      "application/javascript": [
       "\n",
       "        if (window._pyforest_update_imports_cell) { window._pyforest_update_imports_cell('import re'); }\n",
       "    "
      ],
      "text/plain": [
       "<IPython.core.display.Javascript object>"
      ]
     },
     "metadata": {},
     "output_type": "display_data"
    },
    {
     "data": {
      "application/javascript": [
       "\n",
       "        if (window._pyforest_update_imports_cell) { window._pyforest_update_imports_cell('import re'); }\n",
       "    "
      ],
      "text/plain": [
       "<IPython.core.display.Javascript object>"
      ]
     },
     "metadata": {},
     "output_type": "display_data"
    },
    {
     "data": {
      "application/javascript": [
       "\n",
       "        if (window._pyforest_update_imports_cell) { window._pyforest_update_imports_cell('import re'); }\n",
       "    "
      ],
      "text/plain": [
       "<IPython.core.display.Javascript object>"
      ]
     },
     "metadata": {},
     "output_type": "display_data"
    },
    {
     "name": "stdout",
     "output_type": "stream",
     "text": [
      "Successfully retrieved 57 - https://www.halfbakedharvest.com/naughty-and-nice-cinnamon-toddy/ with proxy 160.86.242.23:8080\n",
      "Successfully retrieved 58 - https://www.halfbakedharvest.com/16-of-my-favorite-christmas-drinks/ with proxy 185.195.71.218:18080\n"
     ]
    },
    {
     "data": {
      "application/javascript": [
       "\n",
       "        if (window._pyforest_update_imports_cell) { window._pyforest_update_imports_cell('import re'); }\n",
       "    "
      ],
      "text/plain": [
       "<IPython.core.display.Javascript object>"
      ]
     },
     "metadata": {},
     "output_type": "display_data"
    },
    {
     "data": {
      "application/javascript": [
       "\n",
       "        if (window._pyforest_update_imports_cell) { window._pyforest_update_imports_cell('import re'); }\n",
       "    "
      ],
      "text/plain": [
       "<IPython.core.display.Javascript object>"
      ]
     },
     "metadata": {},
     "output_type": "display_data"
    },
    {
     "data": {
      "application/javascript": [
       "\n",
       "        if (window._pyforest_update_imports_cell) { window._pyforest_update_imports_cell('import re'); }\n",
       "    "
      ],
      "text/plain": [
       "<IPython.core.display.Javascript object>"
      ]
     },
     "metadata": {},
     "output_type": "display_data"
    },
    {
     "name": "stdout",
     "output_type": "stream",
     "text": [
      "Successfully retrieved 59 - https://www.halfbakedharvest.com/vanilla-chai-tea-white-russian/ with proxy 35.220.254.137:8080\n",
      "ChunkedEncodingError occurred for proxy 160.86.242.23:8080 and https://www.halfbakedharvest.com/cranberry-thyme-spritz/: ('Connection broken: IncompleteRead(2153 bytes read, 8087 more expected)', IncompleteRead(2153 bytes read, 8087 more expected))\n"
     ]
    },
    {
     "data": {
      "application/javascript": [
       "\n",
       "        if (window._pyforest_update_imports_cell) { window._pyforest_update_imports_cell('import re'); }\n",
       "    "
      ],
      "text/plain": [
       "<IPython.core.display.Javascript object>"
      ]
     },
     "metadata": {},
     "output_type": "display_data"
    },
    {
     "data": {
      "application/javascript": [
       "\n",
       "        if (window._pyforest_update_imports_cell) { window._pyforest_update_imports_cell('import re'); }\n",
       "    "
      ],
      "text/plain": [
       "<IPython.core.display.Javascript object>"
      ]
     },
     "metadata": {},
     "output_type": "display_data"
    },
    {
     "data": {
      "application/javascript": [
       "\n",
       "        if (window._pyforest_update_imports_cell) { window._pyforest_update_imports_cell('import re'); }\n",
       "    "
      ],
      "text/plain": [
       "<IPython.core.display.Javascript object>"
      ]
     },
     "metadata": {},
     "output_type": "display_data"
    },
    {
     "name": "stdout",
     "output_type": "stream",
     "text": [
      "Successfully retrieved 61 - https://www.halfbakedharvest.com/spiced-persimmon-bourbon-old-fashioned/ with proxy 185.195.71.218:18080\n"
     ]
    },
    {
     "data": {
      "application/javascript": [
       "\n",
       "        if (window._pyforest_update_imports_cell) { window._pyforest_update_imports_cell('import re'); }\n",
       "    "
      ],
      "text/plain": [
       "<IPython.core.display.Javascript object>"
      ]
     },
     "metadata": {},
     "output_type": "display_data"
    },
    {
     "data": {
      "application/javascript": [
       "\n",
       "        if (window._pyforest_update_imports_cell) { window._pyforest_update_imports_cell('import re'); }\n",
       "    "
      ],
      "text/plain": [
       "<IPython.core.display.Javascript object>"
      ]
     },
     "metadata": {},
     "output_type": "display_data"
    },
    {
     "name": "stdout",
     "output_type": "stream",
     "text": [
      "Successfully retrieved 62 - https://www.halfbakedharvest.com/haunted-orchard-cocktail/ with proxy 35.220.254.137:8080\n",
      "ChunkedEncodingError occurred for proxy 160.86.242.23:8080 and https://www.halfbakedharvest.com/vampires-drip-cocktail/: ('Connection broken: IncompleteRead(1885 bytes read, 8355 more expected)', IncompleteRead(1885 bytes read, 8355 more expected))\n",
      "Proxy 185.195.71.218:18080 failed for https://www.halfbakedharvest.com/the-deathly-hallows-cocktail/: HTTPSConnectionPool(host='www.halfbakedharvest.com', port=443): Max retries exceeded with url: /the-deathly-hallows-cocktail/ (Caused by ProxyError('Unable to connect to proxy', OSError('Tunnel connection failed: 503 Service Unavailable')))\n"
     ]
    },
    {
     "data": {
      "application/javascript": [
       "\n",
       "        if (window._pyforest_update_imports_cell) { window._pyforest_update_imports_cell('import re'); }\n",
       "    "
      ],
      "text/plain": [
       "<IPython.core.display.Javascript object>"
      ]
     },
     "metadata": {},
     "output_type": "display_data"
    },
    {
     "data": {
      "application/javascript": [
       "\n",
       "        if (window._pyforest_update_imports_cell) { window._pyforest_update_imports_cell('import re'); }\n",
       "    "
      ],
      "text/plain": [
       "<IPython.core.display.Javascript object>"
      ]
     },
     "metadata": {},
     "output_type": "display_data"
    },
    {
     "name": "stdout",
     "output_type": "stream",
     "text": [
      "Successfully retrieved 65 - https://www.halfbakedharvest.com/death-eater-negroni/ with proxy 35.220.254.137:8080\n"
     ]
    },
    {
     "data": {
      "application/javascript": [
       "\n",
       "        if (window._pyforest_update_imports_cell) { window._pyforest_update_imports_cell('import re'); }\n",
       "    "
      ],
      "text/plain": [
       "<IPython.core.display.Javascript object>"
      ]
     },
     "metadata": {},
     "output_type": "display_data"
    },
    {
     "data": {
      "application/javascript": [
       "\n",
       "        if (window._pyforest_update_imports_cell) { window._pyforest_update_imports_cell('import re'); }\n",
       "    "
      ],
      "text/plain": [
       "<IPython.core.display.Javascript object>"
      ]
     },
     "metadata": {},
     "output_type": "display_data"
    },
    {
     "name": "stdout",
     "output_type": "stream",
     "text": [
      "Successfully retrieved 66 - https://www.halfbakedharvest.com/apple-butter-old-fashioned/ with proxy 160.86.242.23:8080\n",
      "Proxy 185.195.71.218:18080 failed for https://www.halfbakedharvest.com/fig-honey-thyme-prosecco-smash/: HTTPSConnectionPool(host='www.halfbakedharvest.com', port=443): Max retries exceeded with url: /fig-honey-thyme-prosecco-smash/ (Caused by ProxyError('Unable to connect to proxy', OSError('Tunnel connection failed: 503 Service Unavailable')))\n"
     ]
    },
    {
     "data": {
      "application/javascript": [
       "\n",
       "        if (window._pyforest_update_imports_cell) { window._pyforest_update_imports_cell('import re'); }\n",
       "    "
      ],
      "text/plain": [
       "<IPython.core.display.Javascript object>"
      ]
     },
     "metadata": {},
     "output_type": "display_data"
    },
    {
     "data": {
      "application/javascript": [
       "\n",
       "        if (window._pyforest_update_imports_cell) { window._pyforest_update_imports_cell('import re'); }\n",
       "    "
      ],
      "text/plain": [
       "<IPython.core.display.Javascript object>"
      ]
     },
     "metadata": {},
     "output_type": "display_data"
    },
    {
     "name": "stdout",
     "output_type": "stream",
     "text": [
      "Successfully retrieved 68 - https://www.halfbakedharvest.com/gingered-peach-bourbon-thyme-smash/ with proxy 35.220.254.137:8080\n"
     ]
    },
    {
     "data": {
      "application/javascript": [
       "\n",
       "        if (window._pyforest_update_imports_cell) { window._pyforest_update_imports_cell('import re'); }\n",
       "    "
      ],
      "text/plain": [
       "<IPython.core.display.Javascript object>"
      ]
     },
     "metadata": {},
     "output_type": "display_data"
    },
    {
     "data": {
      "application/javascript": [
       "\n",
       "        if (window._pyforest_update_imports_cell) { window._pyforest_update_imports_cell('import re'); }\n",
       "    "
      ],
      "text/plain": [
       "<IPython.core.display.Javascript object>"
      ]
     },
     "metadata": {},
     "output_type": "display_data"
    },
    {
     "name": "stdout",
     "output_type": "stream",
     "text": [
      "Successfully retrieved 69 - https://www.halfbakedharvest.com/frozen-watermelon-rose-sangria-slushies/ with proxy 160.86.242.23:8080\n",
      "Proxy 185.195.71.218:18080 failed for https://www.halfbakedharvest.com/blood-orange-champagne-mule/: HTTPSConnectionPool(host='www.halfbakedharvest.com', port=443): Max retries exceeded with url: /blood-orange-champagne-mule/ (Caused by ProxyError('Unable to connect to proxy', OSError('Tunnel connection failed: 503 Service Unavailable')))\n"
     ]
    },
    {
     "data": {
      "application/javascript": [
       "\n",
       "        if (window._pyforest_update_imports_cell) { window._pyforest_update_imports_cell('import re'); }\n",
       "    "
      ],
      "text/plain": [
       "<IPython.core.display.Javascript object>"
      ]
     },
     "metadata": {},
     "output_type": "display_data"
    },
    {
     "data": {
      "application/javascript": [
       "\n",
       "        if (window._pyforest_update_imports_cell) { window._pyforest_update_imports_cell('import re'); }\n",
       "    "
      ],
      "text/plain": [
       "<IPython.core.display.Javascript object>"
      ]
     },
     "metadata": {},
     "output_type": "display_data"
    },
    {
     "data": {
      "application/javascript": [
       "\n",
       "        if (window._pyforest_update_imports_cell) { window._pyforest_update_imports_cell('import re'); }\n",
       "    "
      ],
      "text/plain": [
       "<IPython.core.display.Javascript object>"
      ]
     },
     "metadata": {},
     "output_type": "display_data"
    },
    {
     "name": "stdout",
     "output_type": "stream",
     "text": [
      "Successfully retrieved 71 - https://www.halfbakedharvest.com/santas-nightcap/ with proxy 35.220.254.137:8080\n",
      "Proxy 160.86.242.23:8080 failed for https://www.halfbakedharvest.com/christmas-ale-sangria/: ('Connection aborted.', ConnectionResetError(54, 'Connection reset by peer'))\n"
     ]
    },
    {
     "data": {
      "application/javascript": [
       "\n",
       "        if (window._pyforest_update_imports_cell) { window._pyforest_update_imports_cell('import re'); }\n",
       "    "
      ],
      "text/plain": [
       "<IPython.core.display.Javascript object>"
      ]
     },
     "metadata": {},
     "output_type": "display_data"
    },
    {
     "data": {
      "application/javascript": [
       "\n",
       "        if (window._pyforest_update_imports_cell) { window._pyforest_update_imports_cell('import re'); }\n",
       "    "
      ],
      "text/plain": [
       "<IPython.core.display.Javascript object>"
      ]
     },
     "metadata": {},
     "output_type": "display_data"
    },
    {
     "name": "stdout",
     "output_type": "stream",
     "text": [
      "Successfully retrieved 73 - https://www.halfbakedharvest.com/white-christmas-mojito/ with proxy 185.195.71.218:18080\n"
     ]
    },
    {
     "data": {
      "application/javascript": [
       "\n",
       "        if (window._pyforest_update_imports_cell) { window._pyforest_update_imports_cell('import re'); }\n",
       "    "
      ],
      "text/plain": [
       "<IPython.core.display.Javascript object>"
      ]
     },
     "metadata": {},
     "output_type": "display_data"
    },
    {
     "data": {
      "application/javascript": [
       "\n",
       "        if (window._pyforest_update_imports_cell) { window._pyforest_update_imports_cell('import re'); }\n",
       "    "
      ],
      "text/plain": [
       "<IPython.core.display.Javascript object>"
      ]
     },
     "metadata": {},
     "output_type": "display_data"
    },
    {
     "name": "stdout",
     "output_type": "stream",
     "text": [
      "Successfully retrieved 74 - https://www.halfbakedharvest.com/coziest-homemade-hot-toddy-kit/ with proxy 35.220.254.137:8080\n"
     ]
    },
    {
     "data": {
      "application/javascript": [
       "\n",
       "        if (window._pyforest_update_imports_cell) { window._pyforest_update_imports_cell('import re'); }\n",
       "    "
      ],
      "text/plain": [
       "<IPython.core.display.Javascript object>"
      ]
     },
     "metadata": {},
     "output_type": "display_data"
    },
    {
     "data": {
      "application/javascript": [
       "\n",
       "        if (window._pyforest_update_imports_cell) { window._pyforest_update_imports_cell('import re'); }\n",
       "    "
      ],
      "text/plain": [
       "<IPython.core.display.Javascript object>"
      ]
     },
     "metadata": {},
     "output_type": "display_data"
    },
    {
     "name": "stdout",
     "output_type": "stream",
     "text": [
      "Successfully retrieved 75 - https://www.halfbakedharvest.com/poinsettia-spritz-punch/ with proxy 160.86.242.23:8080\n",
      "Proxy 185.195.71.218:18080 failed for https://www.halfbakedharvest.com/north-pole-cocktail/: HTTPSConnectionPool(host='www.halfbakedharvest.com', port=443): Max retries exceeded with url: /north-pole-cocktail/ (Caused by ProxyError('Unable to connect to proxy', OSError('Tunnel connection failed: 503 Service Unavailable')))\n"
     ]
    },
    {
     "data": {
      "application/javascript": [
       "\n",
       "        if (window._pyforest_update_imports_cell) { window._pyforest_update_imports_cell('import re'); }\n",
       "    "
      ],
      "text/plain": [
       "<IPython.core.display.Javascript object>"
      ]
     },
     "metadata": {},
     "output_type": "display_data"
    },
    {
     "data": {
      "application/javascript": [
       "\n",
       "        if (window._pyforest_update_imports_cell) { window._pyforest_update_imports_cell('import re'); }\n",
       "    "
      ],
      "text/plain": [
       "<IPython.core.display.Javascript object>"
      ]
     },
     "metadata": {},
     "output_type": "display_data"
    },
    {
     "data": {
      "application/javascript": [
       "\n",
       "        if (window._pyforest_update_imports_cell) { window._pyforest_update_imports_cell('import re'); }\n",
       "    "
      ],
      "text/plain": [
       "<IPython.core.display.Javascript object>"
      ]
     },
     "metadata": {},
     "output_type": "display_data"
    },
    {
     "name": "stdout",
     "output_type": "stream",
     "text": [
      "Successfully retrieved 77 - https://www.halfbakedharvest.com/pomegranate-ginger-paloma/ with proxy 35.220.254.137:8080\n",
      "Proxy 160.86.242.23:8080 failed for https://www.halfbakedharvest.com/blackberry-bourbon-smash/: ('Connection aborted.', ConnectionResetError(54, 'Connection reset by peer'))\n"
     ]
    },
    {
     "data": {
      "application/javascript": [
       "\n",
       "        if (window._pyforest_update_imports_cell) { window._pyforest_update_imports_cell('import re'); }\n",
       "    "
      ],
      "text/plain": [
       "<IPython.core.display.Javascript object>"
      ]
     },
     "metadata": {},
     "output_type": "display_data"
    },
    {
     "data": {
      "application/javascript": [
       "\n",
       "        if (window._pyforest_update_imports_cell) { window._pyforest_update_imports_cell('import re'); }\n",
       "    "
      ],
      "text/plain": [
       "<IPython.core.display.Javascript object>"
      ]
     },
     "metadata": {},
     "output_type": "display_data"
    },
    {
     "name": "stdout",
     "output_type": "stream",
     "text": [
      "Successfully retrieved 79 - https://www.halfbakedharvest.com/spicy-grapefruit-margarita/ with proxy 185.195.71.218:18080\n"
     ]
    },
    {
     "data": {
      "application/javascript": [
       "\n",
       "        if (window._pyforest_update_imports_cell) { window._pyforest_update_imports_cell('import re'); }\n",
       "    "
      ],
      "text/plain": [
       "<IPython.core.display.Javascript object>"
      ]
     },
     "metadata": {},
     "output_type": "display_data"
    },
    {
     "data": {
      "application/javascript": [
       "\n",
       "        if (window._pyforest_update_imports_cell) { window._pyforest_update_imports_cell('import re'); }\n",
       "    "
      ],
      "text/plain": [
       "<IPython.core.display.Javascript object>"
      ]
     },
     "metadata": {},
     "output_type": "display_data"
    },
    {
     "name": "stdout",
     "output_type": "stream",
     "text": [
      "Successfully retrieved 80 - https://www.halfbakedharvest.com/pomegranate-peppermint-moscow-mules-video/ with proxy 35.220.254.137:8080\n"
     ]
    },
    {
     "data": {
      "application/javascript": [
       "\n",
       "        if (window._pyforest_update_imports_cell) { window._pyforest_update_imports_cell('import re'); }\n",
       "    "
      ],
      "text/plain": [
       "<IPython.core.display.Javascript object>"
      ]
     },
     "metadata": {},
     "output_type": "display_data"
    },
    {
     "data": {
      "application/javascript": [
       "\n",
       "        if (window._pyforest_update_imports_cell) { window._pyforest_update_imports_cell('import re'); }\n",
       "    "
      ],
      "text/plain": [
       "<IPython.core.display.Javascript object>"
      ]
     },
     "metadata": {},
     "output_type": "display_data"
    },
    {
     "data": {
      "application/javascript": [
       "\n",
       "        if (window._pyforest_update_imports_cell) { window._pyforest_update_imports_cell('import re'); }\n",
       "    "
      ],
      "text/plain": [
       "<IPython.core.display.Javascript object>"
      ]
     },
     "metadata": {},
     "output_type": "display_data"
    },
    {
     "name": "stdout",
     "output_type": "stream",
     "text": [
      "Successfully retrieved 81 - https://www.halfbakedharvest.com/cranberry-orange-margaritas-video/ with proxy 160.86.242.23:8080\n"
     ]
    },
    {
     "data": {
      "application/javascript": [
       "\n",
       "        if (window._pyforest_update_imports_cell) { window._pyforest_update_imports_cell('import re'); }\n",
       "    "
      ],
      "text/plain": [
       "<IPython.core.display.Javascript object>"
      ]
     },
     "metadata": {},
     "output_type": "display_data"
    },
    {
     "data": {
      "application/javascript": [
       "\n",
       "        if (window._pyforest_update_imports_cell) { window._pyforest_update_imports_cell('import re'); }\n",
       "    "
      ],
      "text/plain": [
       "<IPython.core.display.Javascript object>"
      ]
     },
     "metadata": {},
     "output_type": "display_data"
    },
    {
     "name": "stdout",
     "output_type": "stream",
     "text": [
      "Successfully retrieved 82 - https://www.halfbakedharvest.com/christmas-sangria/ with proxy 185.195.71.218:18080\n"
     ]
    },
    {
     "data": {
      "application/javascript": [
       "\n",
       "        if (window._pyforest_update_imports_cell) { window._pyforest_update_imports_cell('import re'); }\n",
       "    "
      ],
      "text/plain": [
       "<IPython.core.display.Javascript object>"
      ]
     },
     "metadata": {},
     "output_type": "display_data"
    },
    {
     "data": {
      "application/javascript": [
       "\n",
       "        if (window._pyforest_update_imports_cell) { window._pyforest_update_imports_cell('import re'); }\n",
       "    "
      ],
      "text/plain": [
       "<IPython.core.display.Javascript object>"
      ]
     },
     "metadata": {},
     "output_type": "display_data"
    },
    {
     "name": "stdout",
     "output_type": "stream",
     "text": [
      "Successfully retrieved 83 - https://www.halfbakedharvest.com/sparkling-pomegranate-punch/ with proxy 35.220.254.137:8080\n",
      "ChunkedEncodingError occurred for proxy 160.86.242.23:8080 and https://www.halfbakedharvest.com/pumpkin-butterbeer-hot-chocolate-video/: ('Connection broken: IncompleteRead(6260 bytes read, 3980 more expected)', IncompleteRead(6260 bytes read, 3980 more expected))\n",
      "Proxy 185.195.71.218:18080 failed for https://www.halfbakedharvest.com/holiday-storm-cocktail/: HTTPSConnectionPool(host='www.halfbakedharvest.com', port=443): Max retries exceeded with url: /holiday-storm-cocktail/ (Caused by ProxyError('Unable to connect to proxy', OSError('Tunnel connection failed: 503 Service Unavailable')))\n"
     ]
    },
    {
     "data": {
      "application/javascript": [
       "\n",
       "        if (window._pyforest_update_imports_cell) { window._pyforest_update_imports_cell('import re'); }\n",
       "    "
      ],
      "text/plain": [
       "<IPython.core.display.Javascript object>"
      ]
     },
     "metadata": {},
     "output_type": "display_data"
    },
    {
     "data": {
      "application/javascript": [
       "\n",
       "        if (window._pyforest_update_imports_cell) { window._pyforest_update_imports_cell('import re'); }\n",
       "    "
      ],
      "text/plain": [
       "<IPython.core.display.Javascript object>"
      ]
     },
     "metadata": {},
     "output_type": "display_data"
    },
    {
     "name": "stdout",
     "output_type": "stream",
     "text": [
      "Successfully retrieved 86 - https://www.halfbakedharvest.com/maple-whiskey-sour/ with proxy 35.220.254.137:8080\n"
     ]
    },
    {
     "data": {
      "application/javascript": [
       "\n",
       "        if (window._pyforest_update_imports_cell) { window._pyforest_update_imports_cell('import re'); }\n",
       "    "
      ],
      "text/plain": [
       "<IPython.core.display.Javascript object>"
      ]
     },
     "metadata": {},
     "output_type": "display_data"
    },
    {
     "data": {
      "application/javascript": [
       "\n",
       "        if (window._pyforest_update_imports_cell) { window._pyforest_update_imports_cell('import re'); }\n",
       "    "
      ],
      "text/plain": [
       "<IPython.core.display.Javascript object>"
      ]
     },
     "metadata": {},
     "output_type": "display_data"
    },
    {
     "name": "stdout",
     "output_type": "stream",
     "text": [
      "Successfully retrieved 87 - https://www.halfbakedharvest.com/cider-punch/ with proxy 160.86.242.23:8080\n",
      "Proxy 185.195.71.218:18080 failed for https://www.halfbakedharvest.com/spiced-cranberry-thyme-moscow-mule/: HTTPSConnectionPool(host='www.halfbakedharvest.com', port=443): Max retries exceeded with url: /spiced-cranberry-thyme-moscow-mule/ (Caused by ProxyError('Unable to connect to proxy', OSError('Tunnel connection failed: 503 Service Unavailable')))\n",
      "Successfully retrieved 89 - https://www.halfbakedharvest.com/20-most-popular-thanksgiving-drinks/ with proxy 35.220.254.137:8080\n"
     ]
    },
    {
     "data": {
      "application/javascript": [
       "\n",
       "        if (window._pyforest_update_imports_cell) { window._pyforest_update_imports_cell('import re'); }\n",
       "    "
      ],
      "text/plain": [
       "<IPython.core.display.Javascript object>"
      ]
     },
     "metadata": {},
     "output_type": "display_data"
    },
    {
     "data": {
      "application/javascript": [
       "\n",
       "        if (window._pyforest_update_imports_cell) { window._pyforest_update_imports_cell('import re'); }\n",
       "    "
      ],
      "text/plain": [
       "<IPython.core.display.Javascript object>"
      ]
     },
     "metadata": {},
     "output_type": "display_data"
    },
    {
     "data": {
      "application/javascript": [
       "\n",
       "        if (window._pyforest_update_imports_cell) { window._pyforest_update_imports_cell('import re'); }\n",
       "    "
      ],
      "text/plain": [
       "<IPython.core.display.Javascript object>"
      ]
     },
     "metadata": {},
     "output_type": "display_data"
    },
    {
     "name": "stdout",
     "output_type": "stream",
     "text": [
      "Successfully retrieved 90 - https://www.halfbakedharvest.com/bourbon-pumpkin-smash/ with proxy 160.86.242.23:8080\n"
     ]
    },
    {
     "data": {
      "application/javascript": [
       "\n",
       "        if (window._pyforest_update_imports_cell) { window._pyforest_update_imports_cell('import re'); }\n",
       "    "
      ],
      "text/plain": [
       "<IPython.core.display.Javascript object>"
      ]
     },
     "metadata": {},
     "output_type": "display_data"
    },
    {
     "data": {
      "application/javascript": [
       "\n",
       "        if (window._pyforest_update_imports_cell) { window._pyforest_update_imports_cell('import re'); }\n",
       "    "
      ],
      "text/plain": [
       "<IPython.core.display.Javascript object>"
      ]
     },
     "metadata": {},
     "output_type": "display_data"
    },
    {
     "data": {
      "application/javascript": [
       "\n",
       "        if (window._pyforest_update_imports_cell) { window._pyforest_update_imports_cell('import re'); }\n",
       "    "
      ],
      "text/plain": [
       "<IPython.core.display.Javascript object>"
      ]
     },
     "metadata": {},
     "output_type": "display_data"
    },
    {
     "name": "stdout",
     "output_type": "stream",
     "text": [
      "Successfully retrieved 91 - https://www.halfbakedharvest.com/pumpkin-patch-margarita/ with proxy 185.195.71.218:18080\n"
     ]
    },
    {
     "data": {
      "application/javascript": [
       "\n",
       "        if (window._pyforest_update_imports_cell) { window._pyforest_update_imports_cell('import re'); }\n",
       "    "
      ],
      "text/plain": [
       "<IPython.core.display.Javascript object>"
      ]
     },
     "metadata": {},
     "output_type": "display_data"
    },
    {
     "data": {
      "application/javascript": [
       "\n",
       "        if (window._pyforest_update_imports_cell) { window._pyforest_update_imports_cell('import re'); }\n",
       "    "
      ],
      "text/plain": [
       "<IPython.core.display.Javascript object>"
      ]
     },
     "metadata": {},
     "output_type": "display_data"
    },
    {
     "data": {
      "application/javascript": [
       "\n",
       "        if (window._pyforest_update_imports_cell) { window._pyforest_update_imports_cell('import re'); }\n",
       "    "
      ],
      "text/plain": [
       "<IPython.core.display.Javascript object>"
      ]
     },
     "metadata": {},
     "output_type": "display_data"
    },
    {
     "name": "stdout",
     "output_type": "stream",
     "text": [
      "Successfully retrieved 92 - https://www.halfbakedharvest.com/jack-skellingtons-haunted-white-russian/ with proxy 35.220.254.137:8080\n"
     ]
    },
    {
     "data": {
      "application/javascript": [
       "\n",
       "        if (window._pyforest_update_imports_cell) { window._pyforest_update_imports_cell('import re'); }\n",
       "    "
      ],
      "text/plain": [
       "<IPython.core.display.Javascript object>"
      ]
     },
     "metadata": {},
     "output_type": "display_data"
    },
    {
     "data": {
      "application/javascript": [
       "\n",
       "        if (window._pyforest_update_imports_cell) { window._pyforest_update_imports_cell('import re'); }\n",
       "    "
      ],
      "text/plain": [
       "<IPython.core.display.Javascript object>"
      ]
     },
     "metadata": {},
     "output_type": "display_data"
    },
    {
     "name": "stdout",
     "output_type": "stream",
     "text": [
      "Successfully retrieved 93 - https://www.halfbakedharvest.com/smoky-sanderson-sisters-smash/ with proxy 160.86.242.23:8080\n",
      "Successfully retrieved 94 - https://www.halfbakedharvest.com/the-25-most-popular-fall-drinks/ with proxy 185.195.71.218:18080\n"
     ]
    },
    {
     "data": {
      "application/javascript": [
       "\n",
       "        if (window._pyforest_update_imports_cell) { window._pyforest_update_imports_cell('import re'); }\n",
       "    "
      ],
      "text/plain": [
       "<IPython.core.display.Javascript object>"
      ]
     },
     "metadata": {},
     "output_type": "display_data"
    },
    {
     "data": {
      "application/javascript": [
       "\n",
       "        if (window._pyforest_update_imports_cell) { window._pyforest_update_imports_cell('import re'); }\n",
       "    "
      ],
      "text/plain": [
       "<IPython.core.display.Javascript object>"
      ]
     },
     "metadata": {},
     "output_type": "display_data"
    },
    {
     "name": "stdout",
     "output_type": "stream",
     "text": [
      "Successfully retrieved 95 - https://www.halfbakedharvest.com/spicy-blackberry-margarita-sour/ with proxy 35.220.254.137:8080\n",
      "Successfully retrieved 96 - https://www.halfbakedharvest.com/frozen-aperol-peach-margarita/ with proxy 160.86.242.23:8080\n"
     ]
    },
    {
     "data": {
      "application/javascript": [
       "\n",
       "        if (window._pyforest_update_imports_cell) { window._pyforest_update_imports_cell('import re'); }\n",
       "    "
      ],
      "text/plain": [
       "<IPython.core.display.Javascript object>"
      ]
     },
     "metadata": {},
     "output_type": "display_data"
    },
    {
     "data": {
      "application/javascript": [
       "\n",
       "        if (window._pyforest_update_imports_cell) { window._pyforest_update_imports_cell('import re'); }\n",
       "    "
      ],
      "text/plain": [
       "<IPython.core.display.Javascript object>"
      ]
     },
     "metadata": {},
     "output_type": "display_data"
    },
    {
     "name": "stdout",
     "output_type": "stream",
     "text": [
      "Successfully retrieved 97 - https://www.halfbakedharvest.com/strawberry-mojito/ with proxy 185.195.71.218:18080\n"
     ]
    },
    {
     "data": {
      "application/javascript": [
       "\n",
       "        if (window._pyforest_update_imports_cell) { window._pyforest_update_imports_cell('import re'); }\n",
       "    "
      ],
      "text/plain": [
       "<IPython.core.display.Javascript object>"
      ]
     },
     "metadata": {},
     "output_type": "display_data"
    },
    {
     "data": {
      "application/javascript": [
       "\n",
       "        if (window._pyforest_update_imports_cell) { window._pyforest_update_imports_cell('import re'); }\n",
       "    "
      ],
      "text/plain": [
       "<IPython.core.display.Javascript object>"
      ]
     },
     "metadata": {},
     "output_type": "display_data"
    },
    {
     "data": {
      "application/javascript": [
       "\n",
       "        if (window._pyforest_update_imports_cell) { window._pyforest_update_imports_cell('import re'); }\n",
       "    "
      ],
      "text/plain": [
       "<IPython.core.display.Javascript object>"
      ]
     },
     "metadata": {},
     "output_type": "display_data"
    },
    {
     "name": "stdout",
     "output_type": "stream",
     "text": [
      "Successfully retrieved 98 - https://www.halfbakedharvest.com/christmas-old-fashioned/ with proxy 35.220.254.137:8080\n"
     ]
    },
    {
     "data": {
      "application/javascript": [
       "\n",
       "        if (window._pyforest_update_imports_cell) { window._pyforest_update_imports_cell('import re'); }\n",
       "    "
      ],
      "text/plain": [
       "<IPython.core.display.Javascript object>"
      ]
     },
     "metadata": {},
     "output_type": "display_data"
    },
    {
     "data": {
      "application/javascript": [
       "\n",
       "        if (window._pyforest_update_imports_cell) { window._pyforest_update_imports_cell('import re'); }\n",
       "    "
      ],
      "text/plain": [
       "<IPython.core.display.Javascript object>"
      ]
     },
     "metadata": {},
     "output_type": "display_data"
    },
    {
     "data": {
      "application/javascript": [
       "\n",
       "        if (window._pyforest_update_imports_cell) { window._pyforest_update_imports_cell('import re'); }\n",
       "    "
      ],
      "text/plain": [
       "<IPython.core.display.Javascript object>"
      ]
     },
     "metadata": {},
     "output_type": "display_data"
    },
    {
     "name": "stdout",
     "output_type": "stream",
     "text": [
      "Successfully retrieved 99 - https://www.halfbakedharvest.com/bad-santa-white-russian/ with proxy 160.86.242.23:8080\n"
     ]
    },
    {
     "data": {
      "application/javascript": [
       "\n",
       "        if (window._pyforest_update_imports_cell) { window._pyforest_update_imports_cell('import re'); }\n",
       "    "
      ],
      "text/plain": [
       "<IPython.core.display.Javascript object>"
      ]
     },
     "metadata": {},
     "output_type": "display_data"
    },
    {
     "data": {
      "application/javascript": [
       "\n",
       "        if (window._pyforest_update_imports_cell) { window._pyforest_update_imports_cell('import re'); }\n",
       "    "
      ],
      "text/plain": [
       "<IPython.core.display.Javascript object>"
      ]
     },
     "metadata": {},
     "output_type": "display_data"
    },
    {
     "data": {
      "application/javascript": [
       "\n",
       "        if (window._pyforest_update_imports_cell) { window._pyforest_update_imports_cell('import re'); }\n",
       "    "
      ],
      "text/plain": [
       "<IPython.core.display.Javascript object>"
      ]
     },
     "metadata": {},
     "output_type": "display_data"
    },
    {
     "name": "stdout",
     "output_type": "stream",
     "text": [
      "Successfully retrieved 100 - https://www.halfbakedharvest.com/frosted-spicy-ginger-moscow-mule/ with proxy 185.195.71.218:18080\n"
     ]
    },
    {
     "data": {
      "application/javascript": [
       "\n",
       "        if (window._pyforest_update_imports_cell) { window._pyforest_update_imports_cell('import re'); }\n",
       "    "
      ],
      "text/plain": [
       "<IPython.core.display.Javascript object>"
      ]
     },
     "metadata": {},
     "output_type": "display_data"
    },
    {
     "data": {
      "application/javascript": [
       "\n",
       "        if (window._pyforest_update_imports_cell) { window._pyforest_update_imports_cell('import re'); }\n",
       "    "
      ],
      "text/plain": [
       "<IPython.core.display.Javascript object>"
      ]
     },
     "metadata": {},
     "output_type": "display_data"
    },
    {
     "data": {
      "application/javascript": [
       "\n",
       "        if (window._pyforest_update_imports_cell) { window._pyforest_update_imports_cell('import re'); }\n",
       "    "
      ],
      "text/plain": [
       "<IPython.core.display.Javascript object>"
      ]
     },
     "metadata": {},
     "output_type": "display_data"
    },
    {
     "name": "stdout",
     "output_type": "stream",
     "text": [
      "Successfully retrieved 101 - https://www.halfbakedharvest.com/cinnamon-bourbon-fizz/ with proxy 35.220.254.137:8080\n"
     ]
    },
    {
     "data": {
      "application/javascript": [
       "\n",
       "        if (window._pyforest_update_imports_cell) { window._pyforest_update_imports_cell('import re'); }\n",
       "    "
      ],
      "text/plain": [
       "<IPython.core.display.Javascript object>"
      ]
     },
     "metadata": {},
     "output_type": "display_data"
    },
    {
     "data": {
      "application/javascript": [
       "\n",
       "        if (window._pyforest_update_imports_cell) { window._pyforest_update_imports_cell('import re'); }\n",
       "    "
      ],
      "text/plain": [
       "<IPython.core.display.Javascript object>"
      ]
     },
     "metadata": {},
     "output_type": "display_data"
    },
    {
     "data": {
      "application/javascript": [
       "\n",
       "        if (window._pyforest_update_imports_cell) { window._pyforest_update_imports_cell('import re'); }\n",
       "    "
      ],
      "text/plain": [
       "<IPython.core.display.Javascript object>"
      ]
     },
     "metadata": {},
     "output_type": "display_data"
    },
    {
     "name": "stdout",
     "output_type": "stream",
     "text": [
      "Successfully retrieved 102 - https://www.halfbakedharvest.com/chai-espresso-martini/ with proxy 160.86.242.23:8080\n"
     ]
    },
    {
     "data": {
      "application/javascript": [
       "\n",
       "        if (window._pyforest_update_imports_cell) { window._pyforest_update_imports_cell('import re'); }\n",
       "    "
      ],
      "text/plain": [
       "<IPython.core.display.Javascript object>"
      ]
     },
     "metadata": {},
     "output_type": "display_data"
    },
    {
     "data": {
      "application/javascript": [
       "\n",
       "        if (window._pyforest_update_imports_cell) { window._pyforest_update_imports_cell('import re'); }\n",
       "    "
      ],
      "text/plain": [
       "<IPython.core.display.Javascript object>"
      ]
     },
     "metadata": {},
     "output_type": "display_data"
    },
    {
     "data": {
      "application/javascript": [
       "\n",
       "        if (window._pyforest_update_imports_cell) { window._pyforest_update_imports_cell('import re'); }\n",
       "    "
      ],
      "text/plain": [
       "<IPython.core.display.Javascript object>"
      ]
     },
     "metadata": {},
     "output_type": "display_data"
    },
    {
     "name": "stdout",
     "output_type": "stream",
     "text": [
      "Successfully retrieved 103 - https://www.halfbakedharvest.com/spicy-pomegranate-ginger-paloma/ with proxy 185.195.71.218:18080\n",
      "Proxy 35.220.254.137:8080 failed for https://www.halfbakedharvest.com/spiced-maple-bourbon-fizz/: HTTPSConnectionPool(host='www.halfbakedharvest.com', port=443): Max retries exceeded with url: /spiced-maple-bourbon-fizz/ (Caused by ProxyError('Unable to connect to proxy', NewConnectionError('<urllib3.connection.HTTPSConnection object at 0x12350db50>: Failed to establish a new connection: [Errno 61] Connection refused')))\n",
      "Successfully retrieved 105 - https://www.halfbakedharvest.com/the-18-most-popular-thanksgiving-drinks/ with proxy 160.86.242.23:8080\n"
     ]
    },
    {
     "data": {
      "application/javascript": [
       "\n",
       "        if (window._pyforest_update_imports_cell) { window._pyforest_update_imports_cell('import re'); }\n",
       "    "
      ],
      "text/plain": [
       "<IPython.core.display.Javascript object>"
      ]
     },
     "metadata": {},
     "output_type": "display_data"
    },
    {
     "data": {
      "application/javascript": [
       "\n",
       "        if (window._pyforest_update_imports_cell) { window._pyforest_update_imports_cell('import re'); }\n",
       "    "
      ],
      "text/plain": [
       "<IPython.core.display.Javascript object>"
      ]
     },
     "metadata": {},
     "output_type": "display_data"
    },
    {
     "data": {
      "application/javascript": [
       "\n",
       "        if (window._pyforest_update_imports_cell) { window._pyforest_update_imports_cell('import re'); }\n",
       "    "
      ],
      "text/plain": [
       "<IPython.core.display.Javascript object>"
      ]
     },
     "metadata": {},
     "output_type": "display_data"
    },
    {
     "name": "stdout",
     "output_type": "stream",
     "text": [
      "Successfully retrieved 106 - https://www.halfbakedharvest.com/pumpkin-head-punch/ with proxy 185.195.71.218:18080\n",
      "Proxy 35.220.254.137:8080 failed for https://www.halfbakedharvest.com/the-goblet-of-fire/: HTTPSConnectionPool(host='www.halfbakedharvest.com', port=443): Max retries exceeded with url: /the-goblet-of-fire/ (Caused by ProxyError('Unable to connect to proxy', NewConnectionError('<urllib3.connection.HTTPSConnection object at 0x1237d60d0>: Failed to establish a new connection: [Errno 61] Connection refused')))\n",
      "Proxy 160.86.242.23:8080 failed for https://www.halfbakedharvest.com/the-grave-digger/: HTTPSConnectionPool(host='www.halfbakedharvest.com', port=443): Max retries exceeded with url: /the-grave-digger/ (Caused by ProxyError('Unable to connect to proxy', ConnectionResetError(54, 'Connection reset by peer')))\n",
      "Proxy 185.195.71.218:18080 failed for https://www.halfbakedharvest.com/vodka-watermelon-lemonade/: HTTPSConnectionPool(host='www.halfbakedharvest.com', port=443): Max retries exceeded with url: /vodka-watermelon-lemonade/ (Caused by ProxyError('Unable to connect to proxy', OSError('Tunnel connection failed: 503 Service Unavailable')))\n",
      "Proxy 35.220.254.137:8080 failed for https://www.halfbakedharvest.com/basil-smash-pina-colada/: HTTPSConnectionPool(host='www.halfbakedharvest.com', port=443): Max retries exceeded with url: /basil-smash-pina-colada/ (Caused by ProxyError('Unable to connect to proxy', NewConnectionError('<urllib3.connection.HTTPSConnection object at 0x1233643d0>: Failed to establish a new connection: [Errno 61] Connection refused')))\n"
     ]
    },
    {
     "data": {
      "application/javascript": [
       "\n",
       "        if (window._pyforest_update_imports_cell) { window._pyforest_update_imports_cell('import re'); }\n",
       "    "
      ],
      "text/plain": [
       "<IPython.core.display.Javascript object>"
      ]
     },
     "metadata": {},
     "output_type": "display_data"
    },
    {
     "data": {
      "application/javascript": [
       "\n",
       "        if (window._pyforest_update_imports_cell) { window._pyforest_update_imports_cell('import re'); }\n",
       "    "
      ],
      "text/plain": [
       "<IPython.core.display.Javascript object>"
      ]
     },
     "metadata": {},
     "output_type": "display_data"
    },
    {
     "name": "stdout",
     "output_type": "stream",
     "text": [
      "Successfully retrieved 111 - https://www.halfbakedharvest.com/the-hermione-granger-cocktail/ with proxy 160.86.242.23:8080\n",
      "Proxy 185.195.71.218:18080 failed for https://www.halfbakedharvest.com/blackberry-champagne-mule/: HTTPSConnectionPool(host='www.halfbakedharvest.com', port=443): Max retries exceeded with url: /blackberry-champagne-mule/ (Caused by ProxyError('Unable to connect to proxy', OSError('Tunnel connection failed: 503 Service Unavailable')))\n",
      "Proxy 35.220.254.137:8080 failed for https://www.halfbakedharvest.com/watermelon-rose-paloma/: HTTPSConnectionPool(host='www.halfbakedharvest.com', port=443): Max retries exceeded with url: /watermelon-rose-paloma/ (Caused by ProxyError('Unable to connect to proxy', NewConnectionError('<urllib3.connection.HTTPSConnection object at 0x123281160>: Failed to establish a new connection: [Errno 61] Connection refused')))\n"
     ]
    },
    {
     "data": {
      "application/javascript": [
       "\n",
       "        if (window._pyforest_update_imports_cell) { window._pyforest_update_imports_cell('import re'); }\n",
       "    "
      ],
      "text/plain": [
       "<IPython.core.display.Javascript object>"
      ]
     },
     "metadata": {},
     "output_type": "display_data"
    },
    {
     "data": {
      "application/javascript": [
       "\n",
       "        if (window._pyforest_update_imports_cell) { window._pyforest_update_imports_cell('import re'); }\n",
       "    "
      ],
      "text/plain": [
       "<IPython.core.display.Javascript object>"
      ]
     },
     "metadata": {},
     "output_type": "display_data"
    },
    {
     "name": "stdout",
     "output_type": "stream",
     "text": [
      "Successfully retrieved 114 - https://www.halfbakedharvest.com/blueberry-lemon-thyme-smash/ with proxy 160.86.242.23:8080\n"
     ]
    },
    {
     "data": {
      "application/javascript": [
       "\n",
       "        if (window._pyforest_update_imports_cell) { window._pyforest_update_imports_cell('import re'); }\n",
       "    "
      ],
      "text/plain": [
       "<IPython.core.display.Javascript object>"
      ]
     },
     "metadata": {},
     "output_type": "display_data"
    },
    {
     "data": {
      "application/javascript": [
       "\n",
       "        if (window._pyforest_update_imports_cell) { window._pyforest_update_imports_cell('import re'); }\n",
       "    "
      ],
      "text/plain": [
       "<IPython.core.display.Javascript object>"
      ]
     },
     "metadata": {},
     "output_type": "display_data"
    },
    {
     "name": "stdout",
     "output_type": "stream",
     "text": [
      "Successfully retrieved 115 - https://www.halfbakedharvest.com/whipped-coffee-white-russian/ with proxy 185.195.71.218:18080\n",
      "Proxy 35.220.254.137:8080 failed for https://www.halfbakedharvest.com/creamy-coconut-lime-mojito/: HTTPSConnectionPool(host='www.halfbakedharvest.com', port=443): Max retries exceeded with url: /creamy-coconut-lime-mojito/ (Caused by ProxyError('Unable to connect to proxy', NewConnectionError('<urllib3.connection.HTTPSConnection object at 0x123592a30>: Failed to establish a new connection: [Errno 61] Connection refused')))\n"
     ]
    },
    {
     "data": {
      "application/javascript": [
       "\n",
       "        if (window._pyforest_update_imports_cell) { window._pyforest_update_imports_cell('import re'); }\n",
       "    "
      ],
      "text/plain": [
       "<IPython.core.display.Javascript object>"
      ]
     },
     "metadata": {},
     "output_type": "display_data"
    },
    {
     "data": {
      "application/javascript": [
       "\n",
       "        if (window._pyforest_update_imports_cell) { window._pyforest_update_imports_cell('import re'); }\n",
       "    "
      ],
      "text/plain": [
       "<IPython.core.display.Javascript object>"
      ]
     },
     "metadata": {},
     "output_type": "display_data"
    },
    {
     "data": {
      "application/javascript": [
       "\n",
       "        if (window._pyforest_update_imports_cell) { window._pyforest_update_imports_cell('import re'); }\n",
       "    "
      ],
      "text/plain": [
       "<IPython.core.display.Javascript object>"
      ]
     },
     "metadata": {},
     "output_type": "display_data"
    },
    {
     "name": "stdout",
     "output_type": "stream",
     "text": [
      "Successfully retrieved 117 - https://www.halfbakedharvest.com/orange-hibiscus-mai-tai/ with proxy 160.86.242.23:8080\n",
      "Proxy 185.195.71.218:18080 failed for https://www.halfbakedharvest.com/spicy-cucumber-margarita/: HTTPSConnectionPool(host='www.halfbakedharvest.com', port=443): Max retries exceeded with url: /spicy-cucumber-margarita/ (Caused by ProxyError('Unable to connect to proxy', OSError('Tunnel connection failed: 503 Service Unavailable')))\n",
      "Proxy 35.220.254.137:8080 failed for https://www.halfbakedharvest.com/dirty-horchata/: HTTPSConnectionPool(host='www.halfbakedharvest.com', port=443): Max retries exceeded with url: /dirty-horchata/ (Caused by ProxyError('Unable to connect to proxy', NewConnectionError('<urllib3.connection.HTTPSConnection object at 0x122d3cb20>: Failed to establish a new connection: [Errno 61] Connection refused')))\n"
     ]
    },
    {
     "data": {
      "application/javascript": [
       "\n",
       "        if (window._pyforest_update_imports_cell) { window._pyforest_update_imports_cell('import re'); }\n",
       "    "
      ],
      "text/plain": [
       "<IPython.core.display.Javascript object>"
      ]
     },
     "metadata": {},
     "output_type": "display_data"
    },
    {
     "data": {
      "application/javascript": [
       "\n",
       "        if (window._pyforest_update_imports_cell) { window._pyforest_update_imports_cell('import re'); }\n",
       "    "
      ],
      "text/plain": [
       "<IPython.core.display.Javascript object>"
      ]
     },
     "metadata": {},
     "output_type": "display_data"
    },
    {
     "data": {
      "application/javascript": [
       "\n",
       "        if (window._pyforest_update_imports_cell) { window._pyforest_update_imports_cell('import re'); }\n",
       "    "
      ],
      "text/plain": [
       "<IPython.core.display.Javascript object>"
      ]
     },
     "metadata": {},
     "output_type": "display_data"
    },
    {
     "name": "stdout",
     "output_type": "stream",
     "text": [
      "Successfully retrieved 120 - https://www.halfbakedharvest.com/the-santa-clause-smash/ with proxy 160.86.242.23:8080\n"
     ]
    },
    {
     "data": {
      "application/javascript": [
       "\n",
       "        if (window._pyforest_update_imports_cell) { window._pyforest_update_imports_cell('import re'); }\n",
       "    "
      ],
      "text/plain": [
       "<IPython.core.display.Javascript object>"
      ]
     },
     "metadata": {},
     "output_type": "display_data"
    },
    {
     "data": {
      "application/javascript": [
       "\n",
       "        if (window._pyforest_update_imports_cell) { window._pyforest_update_imports_cell('import re'); }\n",
       "    "
      ],
      "text/plain": [
       "<IPython.core.display.Javascript object>"
      ]
     },
     "metadata": {},
     "output_type": "display_data"
    },
    {
     "name": "stdout",
     "output_type": "stream",
     "text": [
      "Successfully retrieved 121 - https://www.halfbakedharvest.com/sparkling-christmas-party-punch/ with proxy 185.195.71.218:18080\n",
      "Proxy 35.220.254.137:8080 failed for https://www.halfbakedharvest.com/spicy-sweet-grinch-cocktail/: HTTPSConnectionPool(host='www.halfbakedharvest.com', port=443): Max retries exceeded with url: /spicy-sweet-grinch-cocktail/ (Caused by ProxyError('Unable to connect to proxy', NewConnectionError('<urllib3.connection.HTTPSConnection object at 0x122538970>: Failed to establish a new connection: [Errno 61] Connection refused')))\n"
     ]
    },
    {
     "data": {
      "application/javascript": [
       "\n",
       "        if (window._pyforest_update_imports_cell) { window._pyforest_update_imports_cell('import re'); }\n",
       "    "
      ],
      "text/plain": [
       "<IPython.core.display.Javascript object>"
      ]
     },
     "metadata": {},
     "output_type": "display_data"
    },
    {
     "data": {
      "application/javascript": [
       "\n",
       "        if (window._pyforest_update_imports_cell) { window._pyforest_update_imports_cell('import re'); }\n",
       "    "
      ],
      "text/plain": [
       "<IPython.core.display.Javascript object>"
      ]
     },
     "metadata": {},
     "output_type": "display_data"
    },
    {
     "name": "stdout",
     "output_type": "stream",
     "text": [
      "Successfully retrieved 123 - https://www.halfbakedharvest.com/cranberry-paloma/ with proxy 160.86.242.23:8080\n"
     ]
    },
    {
     "data": {
      "application/javascript": [
       "\n",
       "        if (window._pyforest_update_imports_cell) { window._pyforest_update_imports_cell('import re'); }\n",
       "    "
      ],
      "text/plain": [
       "<IPython.core.display.Javascript object>"
      ]
     },
     "metadata": {},
     "output_type": "display_data"
    },
    {
     "data": {
      "application/javascript": [
       "\n",
       "        if (window._pyforest_update_imports_cell) { window._pyforest_update_imports_cell('import re'); }\n",
       "    "
      ],
      "text/plain": [
       "<IPython.core.display.Javascript object>"
      ]
     },
     "metadata": {},
     "output_type": "display_data"
    },
    {
     "data": {
      "application/javascript": [
       "\n",
       "        if (window._pyforest_update_imports_cell) { window._pyforest_update_imports_cell('import re'); }\n",
       "    "
      ],
      "text/plain": [
       "<IPython.core.display.Javascript object>"
      ]
     },
     "metadata": {},
     "output_type": "display_data"
    },
    {
     "name": "stdout",
     "output_type": "stream",
     "text": [
      "Successfully retrieved 124 - https://www.halfbakedharvest.com/cinnamon-bourbon-old-fashioned/ with proxy 185.195.71.218:18080\n",
      "Proxy 35.220.254.137:8080 failed for https://www.halfbakedharvest.com/thanksgiving-drinks/: HTTPSConnectionPool(host='www.halfbakedharvest.com', port=443): Max retries exceeded with url: /thanksgiving-drinks/ (Caused by ProxyError('Unable to connect to proxy', NewConnectionError('<urllib3.connection.HTTPSConnection object at 0x1231f78e0>: Failed to establish a new connection: [Errno 61] Connection refused')))\n"
     ]
    },
    {
     "data": {
      "application/javascript": [
       "\n",
       "        if (window._pyforest_update_imports_cell) { window._pyforest_update_imports_cell('import re'); }\n",
       "    "
      ],
      "text/plain": [
       "<IPython.core.display.Javascript object>"
      ]
     },
     "metadata": {},
     "output_type": "display_data"
    },
    {
     "data": {
      "application/javascript": [
       "\n",
       "        if (window._pyforest_update_imports_cell) { window._pyforest_update_imports_cell('import re'); }\n",
       "    "
      ],
      "text/plain": [
       "<IPython.core.display.Javascript object>"
      ]
     },
     "metadata": {},
     "output_type": "display_data"
    },
    {
     "data": {
      "application/javascript": [
       "\n",
       "        if (window._pyforest_update_imports_cell) { window._pyforest_update_imports_cell('import re'); }\n",
       "    "
      ],
      "text/plain": [
       "<IPython.core.display.Javascript object>"
      ]
     },
     "metadata": {},
     "output_type": "display_data"
    },
    {
     "name": "stdout",
     "output_type": "stream",
     "text": [
      "Successfully retrieved 126 - https://www.halfbakedharvest.com/cranberry-bourbon-sour/ with proxy 160.86.242.23:8080\n"
     ]
    },
    {
     "data": {
      "application/javascript": [
       "\n",
       "        if (window._pyforest_update_imports_cell) { window._pyforest_update_imports_cell('import re'); }\n",
       "    "
      ],
      "text/plain": [
       "<IPython.core.display.Javascript object>"
      ]
     },
     "metadata": {},
     "output_type": "display_data"
    },
    {
     "data": {
      "application/javascript": [
       "\n",
       "        if (window._pyforest_update_imports_cell) { window._pyforest_update_imports_cell('import re'); }\n",
       "    "
      ],
      "text/plain": [
       "<IPython.core.display.Javascript object>"
      ]
     },
     "metadata": {},
     "output_type": "display_data"
    },
    {
     "name": "stdout",
     "output_type": "stream",
     "text": [
      "Successfully retrieved 127 - https://www.halfbakedharvest.com/thanksgiving-sangria/ with proxy 185.195.71.218:18080\n",
      "Proxy 35.220.254.137:8080 failed for https://www.halfbakedharvest.com/smoky-harvest-apple-cider-margaritas/: HTTPSConnectionPool(host='www.halfbakedharvest.com', port=443): Max retries exceeded with url: /smoky-harvest-apple-cider-margaritas/ (Caused by ProxyError('Unable to connect to proxy', NewConnectionError('<urllib3.connection.HTTPSConnection object at 0x122249670>: Failed to establish a new connection: [Errno 61] Connection refused')))\n"
     ]
    },
    {
     "data": {
      "application/javascript": [
       "\n",
       "        if (window._pyforest_update_imports_cell) { window._pyforest_update_imports_cell('import re'); }\n",
       "    "
      ],
      "text/plain": [
       "<IPython.core.display.Javascript object>"
      ]
     },
     "metadata": {},
     "output_type": "display_data"
    },
    {
     "data": {
      "application/javascript": [
       "\n",
       "        if (window._pyforest_update_imports_cell) { window._pyforest_update_imports_cell('import re'); }\n",
       "    "
      ],
      "text/plain": [
       "<IPython.core.display.Javascript object>"
      ]
     },
     "metadata": {},
     "output_type": "display_data"
    },
    {
     "data": {
      "application/javascript": [
       "\n",
       "        if (window._pyforest_update_imports_cell) { window._pyforest_update_imports_cell('import re'); }\n",
       "    "
      ],
      "text/plain": [
       "<IPython.core.display.Javascript object>"
      ]
     },
     "metadata": {},
     "output_type": "display_data"
    },
    {
     "name": "stdout",
     "output_type": "stream",
     "text": [
      "Successfully retrieved 129 - https://www.halfbakedharvest.com/sleepy-hollow-cocktail/ with proxy 160.86.242.23:8080\n"
     ]
    },
    {
     "data": {
      "application/javascript": [
       "\n",
       "        if (window._pyforest_update_imports_cell) { window._pyforest_update_imports_cell('import re'); }\n",
       "    "
      ],
      "text/plain": [
       "<IPython.core.display.Javascript object>"
      ]
     },
     "metadata": {},
     "output_type": "display_data"
    },
    {
     "data": {
      "application/javascript": [
       "\n",
       "        if (window._pyforest_update_imports_cell) { window._pyforest_update_imports_cell('import re'); }\n",
       "    "
      ],
      "text/plain": [
       "<IPython.core.display.Javascript object>"
      ]
     },
     "metadata": {},
     "output_type": "display_data"
    },
    {
     "name": "stdout",
     "output_type": "stream",
     "text": [
      "Successfully retrieved 130 - https://www.halfbakedharvest.com/golden-snitch-cocktail/ with proxy 185.195.71.218:18080\n",
      "Proxy 35.220.254.137:8080 failed for https://www.halfbakedharvest.com/fig-dark-and-stormy/: HTTPSConnectionPool(host='www.halfbakedharvest.com', port=443): Max retries exceeded with url: /fig-dark-and-stormy/ (Caused by ProxyError('Unable to connect to proxy', NewConnectionError('<urllib3.connection.HTTPSConnection object at 0x12250e040>: Failed to establish a new connection: [Errno 61] Connection refused')))\n",
      "Proxy 160.86.242.23:8080 failed for https://www.halfbakedharvest.com/frozen-mango-mojito-rita/: HTTPSConnectionPool(host='www.halfbakedharvest.com', port=443): Max retries exceeded with url: /frozen-mango-mojito-rita/ (Caused by ProxyError('Unable to connect to proxy', RemoteDisconnected('Remote end closed connection without response')))\n"
     ]
    },
    {
     "data": {
      "application/javascript": [
       "\n",
       "        if (window._pyforest_update_imports_cell) { window._pyforest_update_imports_cell('import re'); }\n",
       "    "
      ],
      "text/plain": [
       "<IPython.core.display.Javascript object>"
      ]
     },
     "metadata": {},
     "output_type": "display_data"
    },
    {
     "data": {
      "application/javascript": [
       "\n",
       "        if (window._pyforest_update_imports_cell) { window._pyforest_update_imports_cell('import re'); }\n",
       "    "
      ],
      "text/plain": [
       "<IPython.core.display.Javascript object>"
      ]
     },
     "metadata": {},
     "output_type": "display_data"
    },
    {
     "name": "stdout",
     "output_type": "stream",
     "text": [
      "Successfully retrieved 133 - https://www.halfbakedharvest.com/balsamic-peach-spritz/ with proxy 185.195.71.218:18080\n",
      "Proxy 35.220.254.137:8080 failed for https://www.halfbakedharvest.com/blackberry-tequila-lemon-cooler/: HTTPSConnectionPool(host='www.halfbakedharvest.com', port=443): Max retries exceeded with url: /blackberry-tequila-lemon-cooler/ (Caused by ProxyError('Unable to connect to proxy', NewConnectionError('<urllib3.connection.HTTPSConnection object at 0x122488ac0>: Failed to establish a new connection: [Errno 61] Connection refused')))\n",
      "Proxy 160.86.242.23:8080 failed for https://www.halfbakedharvest.com/pineapple-moscow-mule/: HTTPSConnectionPool(host='www.halfbakedharvest.com', port=443): Max retries exceeded with url: /pineapple-moscow-mule/ (Caused by ProxyError('Unable to connect to proxy', RemoteDisconnected('Remote end closed connection without response')))\n"
     ]
    },
    {
     "data": {
      "application/javascript": [
       "\n",
       "        if (window._pyforest_update_imports_cell) { window._pyforest_update_imports_cell('import re'); }\n",
       "    "
      ],
      "text/plain": [
       "<IPython.core.display.Javascript object>"
      ]
     },
     "metadata": {},
     "output_type": "display_data"
    },
    {
     "data": {
      "application/javascript": [
       "\n",
       "        if (window._pyforest_update_imports_cell) { window._pyforest_update_imports_cell('import re'); }\n",
       "    "
      ],
      "text/plain": [
       "<IPython.core.display.Javascript object>"
      ]
     },
     "metadata": {},
     "output_type": "display_data"
    },
    {
     "data": {
      "application/javascript": [
       "\n",
       "        if (window._pyforest_update_imports_cell) { window._pyforest_update_imports_cell('import re'); }\n",
       "    "
      ],
      "text/plain": [
       "<IPython.core.display.Javascript object>"
      ]
     },
     "metadata": {},
     "output_type": "display_data"
    },
    {
     "name": "stdout",
     "output_type": "stream",
     "text": [
      "Successfully retrieved 136 - https://www.halfbakedharvest.com/strawberry-hibiscus-ginger-margarita/ with proxy 185.195.71.218:18080\n",
      "Proxy 35.220.254.137:8080 failed for https://www.halfbakedharvest.com/white-tea-and-muddled-basil-mojito/: HTTPSConnectionPool(host='www.halfbakedharvest.com', port=443): Max retries exceeded with url: /white-tea-and-muddled-basil-mojito/ (Caused by ProxyError('Unable to connect to proxy', NewConnectionError('<urllib3.connection.HTTPSConnection object at 0x122f13670>: Failed to establish a new connection: [Errno 61] Connection refused')))\n"
     ]
    },
    {
     "data": {
      "application/javascript": [
       "\n",
       "        if (window._pyforest_update_imports_cell) { window._pyforest_update_imports_cell('import re'); }\n",
       "    "
      ],
      "text/plain": [
       "<IPython.core.display.Javascript object>"
      ]
     },
     "metadata": {},
     "output_type": "display_data"
    },
    {
     "data": {
      "application/javascript": [
       "\n",
       "        if (window._pyforest_update_imports_cell) { window._pyforest_update_imports_cell('import re'); }\n",
       "    "
      ],
      "text/plain": [
       "<IPython.core.display.Javascript object>"
      ]
     },
     "metadata": {},
     "output_type": "display_data"
    },
    {
     "name": "stdout",
     "output_type": "stream",
     "text": [
      "Successfully retrieved 138 - https://www.halfbakedharvest.com/winter-citrus-tequila-smash/ with proxy 160.86.242.23:8080\n",
      "Proxy 185.195.71.218:18080 failed for https://www.halfbakedharvest.com/holly-jolly-christmas-citrus-cocktail/: HTTPSConnectionPool(host='www.halfbakedharvest.com', port=443): Max retries exceeded with url: /holly-jolly-christmas-citrus-cocktail/ (Caused by ProxyError('Unable to connect to proxy', OSError('Tunnel connection failed: 503 Service Unavailable')))\n",
      "Proxy 35.220.254.137:8080 failed for https://www.halfbakedharvest.com/holiday-pear-sangria/: HTTPSConnectionPool(host='www.halfbakedharvest.com', port=443): Max retries exceeded with url: /holiday-pear-sangria/ (Caused by ProxyError('Unable to connect to proxy', NewConnectionError('<urllib3.connection.HTTPSConnection object at 0x123b2cc10>: Failed to establish a new connection: [Errno 61] Connection refused')))\n"
     ]
    },
    {
     "data": {
      "application/javascript": [
       "\n",
       "        if (window._pyforest_update_imports_cell) { window._pyforest_update_imports_cell('import re'); }\n",
       "    "
      ],
      "text/plain": [
       "<IPython.core.display.Javascript object>"
      ]
     },
     "metadata": {},
     "output_type": "display_data"
    },
    {
     "data": {
      "application/javascript": [
       "\n",
       "        if (window._pyforest_update_imports_cell) { window._pyforest_update_imports_cell('import re'); }\n",
       "    "
      ],
      "text/plain": [
       "<IPython.core.display.Javascript object>"
      ]
     },
     "metadata": {},
     "output_type": "display_data"
    },
    {
     "name": "stdout",
     "output_type": "stream",
     "text": [
      "Successfully retrieved 141 - https://www.halfbakedharvest.com/christmas-snowstorm-margarita/ with proxy 160.86.242.23:8080\n"
     ]
    },
    {
     "data": {
      "application/javascript": [
       "\n",
       "        if (window._pyforest_update_imports_cell) { window._pyforest_update_imports_cell('import re'); }\n",
       "    "
      ],
      "text/plain": [
       "<IPython.core.display.Javascript object>"
      ]
     },
     "metadata": {},
     "output_type": "display_data"
    },
    {
     "data": {
      "application/javascript": [
       "\n",
       "        if (window._pyforest_update_imports_cell) { window._pyforest_update_imports_cell('import re'); }\n",
       "    "
      ],
      "text/plain": [
       "<IPython.core.display.Javascript object>"
      ]
     },
     "metadata": {},
     "output_type": "display_data"
    },
    {
     "data": {
      "application/javascript": [
       "\n",
       "        if (window._pyforest_update_imports_cell) { window._pyforest_update_imports_cell('import re'); }\n",
       "    "
      ],
      "text/plain": [
       "<IPython.core.display.Javascript object>"
      ]
     },
     "metadata": {},
     "output_type": "display_data"
    },
    {
     "name": "stdout",
     "output_type": "stream",
     "text": [
      "Successfully retrieved 142 - https://www.halfbakedharvest.com/gingerbread-white-russian/ with proxy 185.195.71.218:18080\n",
      "Proxy 35.220.254.137:8080 failed for https://www.halfbakedharvest.com/vanilla-chai-old-fashioned/: HTTPSConnectionPool(host='www.halfbakedharvest.com', port=443): Max retries exceeded with url: /vanilla-chai-old-fashioned/ (Caused by ProxyError('Unable to connect to proxy', NewConnectionError('<urllib3.connection.HTTPSConnection object at 0x1230516a0>: Failed to establish a new connection: [Errno 61] Connection refused')))\n",
      "Proxy 160.86.242.23:8080 failed for https://www.halfbakedharvest.com/spiced-cranberry-rose-spritzers/: HTTPSConnectionPool(host='www.halfbakedharvest.com', port=443): Max retries exceeded with url: /spiced-cranberry-rose-spritzers/ (Caused by ProxyError('Unable to connect to proxy', RemoteDisconnected('Remote end closed connection without response')))\n"
     ]
    },
    {
     "data": {
      "application/javascript": [
       "\n",
       "        if (window._pyforest_update_imports_cell) { window._pyforest_update_imports_cell('import re'); }\n",
       "    "
      ],
      "text/plain": [
       "<IPython.core.display.Javascript object>"
      ]
     },
     "metadata": {},
     "output_type": "display_data"
    },
    {
     "data": {
      "application/javascript": [
       "\n",
       "        if (window._pyforest_update_imports_cell) { window._pyforest_update_imports_cell('import re'); }\n",
       "    "
      ],
      "text/plain": [
       "<IPython.core.display.Javascript object>"
      ]
     },
     "metadata": {},
     "output_type": "display_data"
    },
    {
     "data": {
      "application/javascript": [
       "\n",
       "        if (window._pyforest_update_imports_cell) { window._pyforest_update_imports_cell('import re'); }\n",
       "    "
      ],
      "text/plain": [
       "<IPython.core.display.Javascript object>"
      ]
     },
     "metadata": {},
     "output_type": "display_data"
    },
    {
     "name": "stdout",
     "output_type": "stream",
     "text": [
      "Successfully retrieved 145 - https://www.halfbakedharvest.com/harvest-apple-ginger-spritz/ with proxy 185.195.71.218:18080\n",
      "Proxy 35.220.254.137:8080 failed for https://www.halfbakedharvest.com/pumpkin-patch-punch/: HTTPSConnectionPool(host='www.halfbakedharvest.com', port=443): Max retries exceeded with url: /pumpkin-patch-punch/ (Caused by ProxyError('Unable to connect to proxy', NewConnectionError('<urllib3.connection.HTTPSConnection object at 0x1227dea60>: Failed to establish a new connection: [Errno 61] Connection refused')))\n",
      "Proxy 160.86.242.23:8080 failed for https://www.halfbakedharvest.com/the-black-widow-smash/: HTTPSConnectionPool(host='www.halfbakedharvest.com', port=443): Max retries exceeded with url: /the-black-widow-smash/ (Caused by SSLError(SSLEOFError(8, 'EOF occurred in violation of protocol (_ssl.c:1129)')))\n"
     ]
    },
    {
     "data": {
      "application/javascript": [
       "\n",
       "        if (window._pyforest_update_imports_cell) { window._pyforest_update_imports_cell('import re'); }\n",
       "    "
      ],
      "text/plain": [
       "<IPython.core.display.Javascript object>"
      ]
     },
     "metadata": {},
     "output_type": "display_data"
    },
    {
     "data": {
      "application/javascript": [
       "\n",
       "        if (window._pyforest_update_imports_cell) { window._pyforest_update_imports_cell('import re'); }\n",
       "    "
      ],
      "text/plain": [
       "<IPython.core.display.Javascript object>"
      ]
     },
     "metadata": {},
     "output_type": "display_data"
    },
    {
     "name": "stdout",
     "output_type": "stream",
     "text": [
      "Successfully retrieved 148 - https://www.halfbakedharvest.com/the-half-blood-prince-cocktail/ with proxy 185.195.71.218:18080\n",
      "Proxy 35.220.254.137:8080 failed for https://www.halfbakedharvest.com/poison-apple-martini/: HTTPSConnectionPool(host='www.halfbakedharvest.com', port=443): Max retries exceeded with url: /poison-apple-martini/ (Caused by ProxyError('Unable to connect to proxy', NewConnectionError('<urllib3.connection.HTTPSConnection object at 0x1225379a0>: Failed to establish a new connection: [Errno 61] Connection refused')))\n"
     ]
    }
   ],
   "source": [
    "# Read proxies from the file and create a cycle iterator\n",
    "with open('proxies.txt', 'r') as f:\n",
    "    proxies = [line.strip() for line in f if line.strip()]\n",
    "\n",
    "# Check if proxies are being read correctly\n",
    "if not proxies:\n",
    "    print(\"No valid proxies found in proxies.txt\")\n",
    "else:\n",
    "    print(f\"Proxies loaded: {proxies}\")\n",
    "\n",
    "proxy_cycle = itertools.cycle(proxies)\n",
    "\n",
    "# Initialize an empty DataFrame to store results\n",
    "temp_recipes_1 = pd.DataFrame(columns=columns)\n",
    "title = []\n",
    "prep_time = []\n",
    "cook_time = []\n",
    "total_time = []\n",
    "\n",
    "ingredients_measurment = []\n",
    "ingredients = []\n",
    "instructions = []\n",
    "\n",
    "calories = []\n",
    "servings = []\n",
    "images = []\n",
    "\n",
    "# Loop over the desired number of pages\n",
    "for i in range(0, 150):\n",
    "    proxy = next(proxy_cycle)\n",
    "\n",
    "    # Set up request with proxy\n",
    "    headers = {'User-Agent': 'Mozilla/5.0 (Windows NT 6.3; Win64; x64) AppleWebKit/537.36 (KHTML, like Gecko) Chrome/80.0.3987.162 Safari/537.36'}\n",
    "    url = all_recipes_url[i]\n",
    "    proxy_dict = {'http': proxy, 'https': proxy}\n",
    "\n",
    "    try:\n",
    "        response = requests.get(url, headers=headers, proxies=proxy_dict, timeout=30)\n",
    "        \n",
    "        # Check if the request was successful\n",
    "        if response.status_code == 200:\n",
    "            soup = BeautifulSoup(response.content, 'html.parser')\n",
    "            extract(soup)\n",
    "            print(f\"Successfully retrieved {i} - {url} with proxy {proxy}\")\n",
    "        else:\n",
    "            failed_url.append(url)\n",
    "            print(f\"Failed to retrieve page {url} with proxy {proxy}. Status code: {response.status_code}\")\n",
    "    except (requests.ConnectionError, requests.Timeout) as e:\n",
    "        failed_url.append(url)\n",
    "        print(f\"Proxy {proxy} failed for {url}: {e}\")\n",
    "    except ChunkedEncodingError as e:  # Handle ChunkedEncodingError\n",
    "        failed_url.append(url)\n",
    "        print(f\"ChunkedEncodingError occurred for proxy {proxy} and {url}: {e}\")\n",
    "        continue  # Move to the next page\n",
    "\n",
    "\n",
    "\n",
    "temp_recipes_1['title'] = title\n",
    "temp_recipes_1['prep_time'] = prep_time\n",
    "temp_recipes_1['cook_time'] = cook_time\n",
    "temp_recipes_1['total_time'] = total_time\n",
    "temp_recipes_1['ingredients'] = ingredients\n",
    "temp_recipes_1['ingredients with measurement'] = ingredients_measurment\n",
    "temp_recipes_1['instructions'] = instructions\n",
    "temp_recipes_1['calories'] = calories\n",
    "temp_recipes_1['servings'] = servings\n",
    "temp_recipes_1['images']= images\n",
    "\n",
    "\n",
    "\n",
    "    "
   ]
  },
  {
   "cell_type": "code",
   "execution_count": 9,
   "id": "47437d82",
   "metadata": {},
   "outputs": [
    {
     "name": "stdout",
     "output_type": "stream",
     "text": [
      "45\n"
     ]
    }
   ],
   "source": [
    "print(len(failed_url))"
   ]
  },
  {
   "cell_type": "code",
   "execution_count": 10,
   "id": "17979e50",
   "metadata": {
    "scrolled": true
   },
   "outputs": [
    {
     "data": {
      "text/plain": [
       "['https://www.halfbakedharvest.com/frozen-watermelon-spritz/',\n",
       " 'https://www.halfbakedharvest.com/hocus-pocus-old-fashioned/',\n",
       " 'https://www.halfbakedharvest.com/pomegranate-punch/',\n",
       " 'https://www.halfbakedharvest.com/the-20-most-popular-fall-drinks/',\n",
       " 'https://www.halfbakedharvest.com/frosted-mistletoe-margarita/',\n",
       " 'https://www.halfbakedharvest.com/spiced-cranberry-punch/',\n",
       " 'https://www.halfbakedharvest.com/the-14-most-popular-thanksgiving-drinks/',\n",
       " 'https://www.halfbakedharvest.com/voldemorts-dark-serum/',\n",
       " 'https://www.halfbakedharvest.com/frostys-frosted-moscow-mule/',\n",
       " 'https://www.halfbakedharvest.com/cranberry-thyme-spritz/',\n",
       " 'https://www.halfbakedharvest.com/vampires-drip-cocktail/',\n",
       " 'https://www.halfbakedharvest.com/the-deathly-hallows-cocktail/',\n",
       " 'https://www.halfbakedharvest.com/fig-honey-thyme-prosecco-smash/',\n",
       " 'https://www.halfbakedharvest.com/blood-orange-champagne-mule/',\n",
       " 'https://www.halfbakedharvest.com/christmas-ale-sangria/',\n",
       " 'https://www.halfbakedharvest.com/north-pole-cocktail/',\n",
       " 'https://www.halfbakedharvest.com/blackberry-bourbon-smash/',\n",
       " 'https://www.halfbakedharvest.com/pumpkin-butterbeer-hot-chocolate-video/',\n",
       " 'https://www.halfbakedharvest.com/holiday-storm-cocktail/',\n",
       " 'https://www.halfbakedharvest.com/spiced-cranberry-thyme-moscow-mule/',\n",
       " 'https://www.halfbakedharvest.com/spiced-maple-bourbon-fizz/',\n",
       " 'https://www.halfbakedharvest.com/the-goblet-of-fire/',\n",
       " 'https://www.halfbakedharvest.com/the-grave-digger/',\n",
       " 'https://www.halfbakedharvest.com/vodka-watermelon-lemonade/',\n",
       " 'https://www.halfbakedharvest.com/basil-smash-pina-colada/',\n",
       " 'https://www.halfbakedharvest.com/blackberry-champagne-mule/',\n",
       " 'https://www.halfbakedharvest.com/watermelon-rose-paloma/',\n",
       " 'https://www.halfbakedharvest.com/creamy-coconut-lime-mojito/',\n",
       " 'https://www.halfbakedharvest.com/spicy-cucumber-margarita/',\n",
       " 'https://www.halfbakedharvest.com/dirty-horchata/',\n",
       " 'https://www.halfbakedharvest.com/spicy-sweet-grinch-cocktail/',\n",
       " 'https://www.halfbakedharvest.com/thanksgiving-drinks/',\n",
       " 'https://www.halfbakedharvest.com/smoky-harvest-apple-cider-margaritas/',\n",
       " 'https://www.halfbakedharvest.com/fig-dark-and-stormy/',\n",
       " 'https://www.halfbakedharvest.com/frozen-mango-mojito-rita/',\n",
       " 'https://www.halfbakedharvest.com/blackberry-tequila-lemon-cooler/',\n",
       " 'https://www.halfbakedharvest.com/pineapple-moscow-mule/',\n",
       " 'https://www.halfbakedharvest.com/white-tea-and-muddled-basil-mojito/',\n",
       " 'https://www.halfbakedharvest.com/holly-jolly-christmas-citrus-cocktail/',\n",
       " 'https://www.halfbakedharvest.com/holiday-pear-sangria/',\n",
       " 'https://www.halfbakedharvest.com/vanilla-chai-old-fashioned/',\n",
       " 'https://www.halfbakedharvest.com/spiced-cranberry-rose-spritzers/',\n",
       " 'https://www.halfbakedharvest.com/pumpkin-patch-punch/',\n",
       " 'https://www.halfbakedharvest.com/the-black-widow-smash/',\n",
       " 'https://www.halfbakedharvest.com/poison-apple-martini/']"
      ]
     },
     "execution_count": 10,
     "metadata": {},
     "output_type": "execute_result"
    }
   ],
   "source": [
    "failed_url"
   ]
  },
  {
   "cell_type": "code",
   "execution_count": 11,
   "id": "8cdd5073",
   "metadata": {},
   "outputs": [
    {
     "data": {
      "text/html": [
       "<div>\n",
       "<style scoped>\n",
       "    .dataframe tbody tr th:only-of-type {\n",
       "        vertical-align: middle;\n",
       "    }\n",
       "\n",
       "    .dataframe tbody tr th {\n",
       "        vertical-align: top;\n",
       "    }\n",
       "\n",
       "    .dataframe thead th {\n",
       "        text-align: right;\n",
       "    }\n",
       "</style>\n",
       "<table border=\"1\" class=\"dataframe\">\n",
       "  <thead>\n",
       "    <tr style=\"text-align: right;\">\n",
       "      <th></th>\n",
       "      <th>title</th>\n",
       "      <th>prep_time</th>\n",
       "      <th>cook_time</th>\n",
       "      <th>total_time</th>\n",
       "      <th>ingredients</th>\n",
       "      <th>ingredients with measurement</th>\n",
       "      <th>instructions</th>\n",
       "      <th>calories</th>\n",
       "      <th>servings</th>\n",
       "      <th>images</th>\n",
       "    </tr>\n",
       "  </thead>\n",
       "  <tbody>\n",
       "    <tr>\n",
       "      <th>0</th>\n",
       "      <td>Peach Thyme Smash</td>\n",
       "      <td>{'minutes': '5'}</td>\n",
       "      <td>{'minutes': '5'}</td>\n",
       "      <td>{'minutes': '10'}</td>\n",
       "      <td>[fresh peach slices, fresh thyme, peach jam/pr...</td>\n",
       "      <td>{'fresh peach slices': '1/2', 'fresh thyme': '...</td>\n",
       "      <td>[1. Optional: heat a grill or grill pan to hig...</td>\n",
       "      <td>226 kcal</td>\n",
       "      <td>1</td>\n",
       "      <td>https://www.halfbakedharvest.com/wp-content/up...</td>\n",
       "    </tr>\n",
       "    <tr>\n",
       "      <th>1</th>\n",
       "      <td>-</td>\n",
       "      <td>-</td>\n",
       "      <td>-</td>\n",
       "      <td>-</td>\n",
       "      <td>-</td>\n",
       "      <td>-</td>\n",
       "      <td>-</td>\n",
       "      <td>-</td>\n",
       "      <td>-</td>\n",
       "      <td>https://www.halfbakedharvest.com/wp-content/up...</td>\n",
       "    </tr>\n",
       "    <tr>\n",
       "      <th>2</th>\n",
       "      <td>Batch Spicy Coconut Lime Margarita</td>\n",
       "      <td>{'minutes': '15'}</td>\n",
       "      <td>-</td>\n",
       "      <td>{'minutes': '15'}</td>\n",
       "      <td>[jalapeños or serrano chiles, fresh basil leav...</td>\n",
       "      <td>{'jalapeños or serrano chiles': '2', 'fresh ba...</td>\n",
       "      <td>[1. Place the jalapeños (chiles) over a gas fl...</td>\n",
       "      <td>372 kcal</td>\n",
       "      <td>4</td>\n",
       "      <td>https://www.halfbakedharvest.com/wp-content/up...</td>\n",
       "    </tr>\n",
       "    <tr>\n",
       "      <th>3</th>\n",
       "      <td>Uncle Eddy’s White Russian</td>\n",
       "      <td>{'minutes': '10'}</td>\n",
       "      <td>{'minutes': '5'}</td>\n",
       "      <td>{'minutes': '15'}</td>\n",
       "      <td>[honey, cinnamon, nutmeg, vodka, bourbon or ru...</td>\n",
       "      <td>{'honey': '1/4', 'cinnamon': '2', 'nutmeg': '1...</td>\n",
       "      <td>[1. To make the cinnamon syrup. In a pot, comb...</td>\n",
       "      <td>373 kcal</td>\n",
       "      <td>1</td>\n",
       "      <td>https://www.halfbakedharvest.com/wp-content/up...</td>\n",
       "    </tr>\n",
       "    <tr>\n",
       "      <th>4</th>\n",
       "      <td>Naughty Gingerbread Cocktail (+mocktail).</td>\n",
       "      <td>{'minutes': '5'}</td>\n",
       "      <td>-</td>\n",
       "      <td>{'minutes': '7'}</td>\n",
       "      <td>[bourbon or spiced rum, orange or clementine j...</td>\n",
       "      <td>{'bourbon or spiced rum': '1 1/2', 'orange or ...</td>\n",
       "      <td>[1. If desired, rim your glass. On a small pla...</td>\n",
       "      <td>191 kcal</td>\n",
       "      <td>1</td>\n",
       "      <td>https://www.halfbakedharvest.com/wp-content/up...</td>\n",
       "    </tr>\n",
       "    <tr>\n",
       "      <th>...</th>\n",
       "      <td>...</td>\n",
       "      <td>...</td>\n",
       "      <td>...</td>\n",
       "      <td>...</td>\n",
       "      <td>...</td>\n",
       "      <td>...</td>\n",
       "      <td>...</td>\n",
       "      <td>...</td>\n",
       "      <td>...</td>\n",
       "      <td>...</td>\n",
       "    </tr>\n",
       "    <tr>\n",
       "      <th>100</th>\n",
       "      <td>Winter Citrus Tequila Smash</td>\n",
       "      <td>{'minutes': '10'}</td>\n",
       "      <td>-</td>\n",
       "      <td>{'minutes': '10'}</td>\n",
       "      <td>[orange zest, blood orange, peel removed and q...</td>\n",
       "      <td>{'orange zest': '1', 'blood orange, peel remov...</td>\n",
       "      <td>[1. In a cocktail shaker or glass jar, combine...</td>\n",
       "      <td>96 kcal</td>\n",
       "      <td>1</td>\n",
       "      <td>https://www.halfbakedharvest.com/wp-content/up...</td>\n",
       "    </tr>\n",
       "    <tr>\n",
       "      <th>101</th>\n",
       "      <td>Christmas Snowstorm Margarita</td>\n",
       "      <td>{'minutes': '10'}</td>\n",
       "      <td>-</td>\n",
       "      <td>{'minutes': '10'}</td>\n",
       "      <td>[unsweetened coconut milk, honey or granulated...</td>\n",
       "      <td>{'unsweetened coconut milk': '1 1/3', 'honey o...</td>\n",
       "      <td>[1. Bring the coconut milk and sugar to a simm...</td>\n",
       "      <td>252 kcal</td>\n",
       "      <td>1</td>\n",
       "      <td>https://www.halfbakedharvest.com/wp-content/up...</td>\n",
       "    </tr>\n",
       "    <tr>\n",
       "      <th>102</th>\n",
       "      <td>Gingerbread White Russian</td>\n",
       "      <td>{'minutes': '5'}</td>\n",
       "      <td>{'minutes': '5'}</td>\n",
       "      <td>{'minutes': '10'}</td>\n",
       "      <td>[honey, molasses, fresh ginger, sliced, cinnam...</td>\n",
       "      <td>{'honey': '1/4', 'molasses': '3', 'fresh ginge...</td>\n",
       "      <td>[1. In a medium pot, combine 1 1/3 cups water,...</td>\n",
       "      <td>291 kcal</td>\n",
       "      <td>1</td>\n",
       "      <td>https://www.halfbakedharvest.com/wp-content/up...</td>\n",
       "    </tr>\n",
       "    <tr>\n",
       "      <th>103</th>\n",
       "      <td>Harvest Apple Spritz.</td>\n",
       "      <td>{'minutes': '10'}</td>\n",
       "      <td>{'minutes': '10'}</td>\n",
       "      <td>{'minutes': '20'}</td>\n",
       "      <td>[honey, fresh ginger,, fresh sage leaves, plus...</td>\n",
       "      <td>{'honey': '1/4', 'fresh ginger,': '1', 'fresh ...</td>\n",
       "      <td>[1. In a small pot, bring 1/2 cup water, the h...</td>\n",
       "      <td>359 kcal</td>\n",
       "      <td>8</td>\n",
       "      <td>https://www.halfbakedharvest.com/wp-content/up...</td>\n",
       "    </tr>\n",
       "    <tr>\n",
       "      <th>104</th>\n",
       "      <td>The Half Blood Prince Cocktail</td>\n",
       "      <td>{'minutes': '5'}</td>\n",
       "      <td>-</td>\n",
       "      <td>{'minutes': '5'}</td>\n",
       "      <td>[pomegranate juice, bourbon, raspberry liquor ...</td>\n",
       "      <td>{'pomegranate juice': '1/4', 'bourbon': '1 1/2...</td>\n",
       "      <td>[1. Combine all ingredients in a cocktail shak...</td>\n",
       "      <td>81 kcal</td>\n",
       "      <td>1</td>\n",
       "      <td>https://www.halfbakedharvest.com/wp-content/up...</td>\n",
       "    </tr>\n",
       "  </tbody>\n",
       "</table>\n",
       "<p>105 rows × 10 columns</p>\n",
       "</div>"
      ],
      "text/plain": [
       "                                         title          prep_time  \\\n",
       "0                            Peach Thyme Smash   {'minutes': '5'}   \n",
       "1                                            -                  -   \n",
       "2           Batch Spicy Coconut Lime Margarita  {'minutes': '15'}   \n",
       "3                   Uncle Eddy’s White Russian  {'minutes': '10'}   \n",
       "4    Naughty Gingerbread Cocktail (+mocktail).   {'minutes': '5'}   \n",
       "..                                         ...                ...   \n",
       "100                Winter Citrus Tequila Smash  {'minutes': '10'}   \n",
       "101              Christmas Snowstorm Margarita  {'minutes': '10'}   \n",
       "102                  Gingerbread White Russian   {'minutes': '5'}   \n",
       "103                      Harvest Apple Spritz.  {'minutes': '10'}   \n",
       "104             The Half Blood Prince Cocktail   {'minutes': '5'}   \n",
       "\n",
       "             cook_time         total_time  \\\n",
       "0     {'minutes': '5'}  {'minutes': '10'}   \n",
       "1                    -                  -   \n",
       "2                    -  {'minutes': '15'}   \n",
       "3     {'minutes': '5'}  {'minutes': '15'}   \n",
       "4                    -   {'minutes': '7'}   \n",
       "..                 ...                ...   \n",
       "100                  -  {'minutes': '10'}   \n",
       "101                  -  {'minutes': '10'}   \n",
       "102   {'minutes': '5'}  {'minutes': '10'}   \n",
       "103  {'minutes': '10'}  {'minutes': '20'}   \n",
       "104                  -   {'minutes': '5'}   \n",
       "\n",
       "                                           ingredients  \\\n",
       "0    [fresh peach slices, fresh thyme, peach jam/pr...   \n",
       "1                                                    -   \n",
       "2    [jalapeños or serrano chiles, fresh basil leav...   \n",
       "3    [honey, cinnamon, nutmeg, vodka, bourbon or ru...   \n",
       "4    [bourbon or spiced rum, orange or clementine j...   \n",
       "..                                                 ...   \n",
       "100  [orange zest, blood orange, peel removed and q...   \n",
       "101  [unsweetened coconut milk, honey or granulated...   \n",
       "102  [honey, molasses, fresh ginger, sliced, cinnam...   \n",
       "103  [honey, fresh ginger,, fresh sage leaves, plus...   \n",
       "104  [pomegranate juice, bourbon, raspberry liquor ...   \n",
       "\n",
       "                          ingredients with measurement  \\\n",
       "0    {'fresh peach slices': '1/2', 'fresh thyme': '...   \n",
       "1                                                    -   \n",
       "2    {'jalapeños or serrano chiles': '2', 'fresh ba...   \n",
       "3    {'honey': '1/4', 'cinnamon': '2', 'nutmeg': '1...   \n",
       "4    {'bourbon or spiced rum': '1 1/2', 'orange or ...   \n",
       "..                                                 ...   \n",
       "100  {'orange zest': '1', 'blood orange, peel remov...   \n",
       "101  {'unsweetened coconut milk': '1 1/3', 'honey o...   \n",
       "102  {'honey': '1/4', 'molasses': '3', 'fresh ginge...   \n",
       "103  {'honey': '1/4', 'fresh ginger,': '1', 'fresh ...   \n",
       "104  {'pomegranate juice': '1/4', 'bourbon': '1 1/2...   \n",
       "\n",
       "                                          instructions  calories servings  \\\n",
       "0    [1. Optional: heat a grill or grill pan to hig...  226 kcal        1   \n",
       "1                                                    -         -        -   \n",
       "2    [1. Place the jalapeños (chiles) over a gas fl...  372 kcal        4   \n",
       "3    [1. To make the cinnamon syrup. In a pot, comb...  373 kcal        1   \n",
       "4    [1. If desired, rim your glass. On a small pla...  191 kcal        1   \n",
       "..                                                 ...       ...      ...   \n",
       "100  [1. In a cocktail shaker or glass jar, combine...   96 kcal        1   \n",
       "101  [1. Bring the coconut milk and sugar to a simm...  252 kcal        1   \n",
       "102  [1. In a medium pot, combine 1 1/3 cups water,...  291 kcal        1   \n",
       "103  [1. In a small pot, bring 1/2 cup water, the h...  359 kcal        8   \n",
       "104  [1. Combine all ingredients in a cocktail shak...   81 kcal        1   \n",
       "\n",
       "                                                images  \n",
       "0    https://www.halfbakedharvest.com/wp-content/up...  \n",
       "1    https://www.halfbakedharvest.com/wp-content/up...  \n",
       "2    https://www.halfbakedharvest.com/wp-content/up...  \n",
       "3    https://www.halfbakedharvest.com/wp-content/up...  \n",
       "4    https://www.halfbakedharvest.com/wp-content/up...  \n",
       "..                                                 ...  \n",
       "100  https://www.halfbakedharvest.com/wp-content/up...  \n",
       "101  https://www.halfbakedharvest.com/wp-content/up...  \n",
       "102  https://www.halfbakedharvest.com/wp-content/up...  \n",
       "103  https://www.halfbakedharvest.com/wp-content/up...  \n",
       "104  https://www.halfbakedharvest.com/wp-content/up...  \n",
       "\n",
       "[105 rows x 10 columns]"
      ]
     },
     "execution_count": 11,
     "metadata": {},
     "output_type": "execute_result"
    }
   ],
   "source": [
    "temp_recipes_1"
   ]
  },
  {
   "cell_type": "code",
   "execution_count": 12,
   "id": "53acf06d",
   "metadata": {},
   "outputs": [
    {
     "data": {
      "text/plain": [
       "['Peach Thyme Smash',\n",
       " '-',\n",
       " 'Batch Spicy Coconut Lime Margarita',\n",
       " 'Uncle Eddy’s White Russian',\n",
       " 'Naughty Gingerbread Cocktail (+mocktail).',\n",
       " '-',\n",
       " 'WhoVille Christmas Punch',\n",
       " 'Naughty Nice Margarita',\n",
       " 'Mistletoe Kiss Cocktail',\n",
       " 'Sage Ginger Paloma',\n",
       " 'Fireside Cranberry Cider Margarita',\n",
       " 'Cinnamon Apple Bourbon Smash',\n",
       " '-',\n",
       " 'Bloody Mule',\n",
       " '-',\n",
       " 'Strawberry Lemonade Aperol Margarita.',\n",
       " 'Spicy Jalapeño Ginger Moscow Mule',\n",
       " 'Old Saint Nick’s Chocolate Espresso Martini',\n",
       " 'Whoville’s Spiced Up Christmas Margarita (with mocktail)',\n",
       " 'Christmas Punch',\n",
       " 'Christmas Vacation Dirty Chai Cocktail\\xa0(with\\xa0mocktail)',\n",
       " '“I Put a Spell on You” Poison Apple Martini',\n",
       " 'Frozen Peach Rosé Slushy',\n",
       " 'Firecracker Champagne Paloma',\n",
       " 'Frosted Watermelon Rosemary Frosé',\n",
       " 'Spicy Serrano Pineapple Margarita',\n",
       " 'Frozen Blueberry Paloma',\n",
       " 'Citrus Pomegranate Champagne Smash',\n",
       " '-',\n",
       " 'Creamy Coconut White Russian',\n",
       " 'The Sweet and Spicy Cheermeister Cocktail',\n",
       " 'Pomegranate Champagne Mule',\n",
       " 'Vanilla Espresso Martini',\n",
       " 'Spiced Honey Bourbon Old Fashioned',\n",
       " 'Ginger Apple Moscow Mule',\n",
       " 'Nightmare on Bourbon Street',\n",
       " 'Summer Bellinis 3 Ways',\n",
       " 'Salted Spicy Watermelon Margarita Popsicles',\n",
       " 'Smoky Watermelon Lemon Margarita',\n",
       " 'Garden Cherry Bourbon Smash',\n",
       " 'Spicy Gingered Mango Margarita',\n",
       " 'Minted Orange and Strawberry Coolers',\n",
       " 'Rose and Ginger Paloma',\n",
       " 'Pineapple Margarita Sparklers',\n",
       " '-',\n",
       " \"Rudolph's Rockin' Pomegranate Jingle Juice Punch\",\n",
       " 'Buddy the Elf Cocktail',\n",
       " 'Holiday Gifting: Homemade Simple Syrups',\n",
       " 'Naughty and Nice Cinnamon Bourbon Toddy',\n",
       " '-',\n",
       " 'Vanilla Chai Tea White Russian',\n",
       " 'Spiced Persimmon Bourbon Old Fashioned',\n",
       " 'Haunted Orchard Cocktail',\n",
       " 'Death Eater Negroni',\n",
       " 'Apple Butter Old Fashioned',\n",
       " 'Gingered Peach Bourbon Thyme Smash',\n",
       " 'Frozen Watermelon Rosé Sangria Slushies',\n",
       " \"Santa's Nightcap.\",\n",
       " 'White Christmas Mojito.',\n",
       " 'Coziest Homemade Hot Toddy Kit.',\n",
       " 'Poinsettia Spritz Punch.',\n",
       " 'Pomegranate Ginger Paloma.',\n",
       " 'Spicy Grapefruit Margarita.',\n",
       " 'Pomegranate and Peppermint Moscow Mules.',\n",
       " 'Cranberry Orange Margaritas.',\n",
       " 'Christmas Sangria.',\n",
       " 'Sparkling Pomegranate Punch.',\n",
       " 'Vanilla Cinnamon Maple Whiskey Sour',\n",
       " 'Thanksgiving Cider Punch',\n",
       " '-',\n",
       " 'Spicy Bourbon Pumpkin Smash',\n",
       " 'Haunted Pumpkin Patch Margarita',\n",
       " 'Jack Skellington’s Haunted White Russian',\n",
       " 'Smoky Sanderson Sisters’ Smash',\n",
       " '-',\n",
       " 'Spicy Blackberry Margarita Sour',\n",
       " 'Frozen Aperol Peach Margarita Pitcher',\n",
       " 'Strawberry Ginger Mojito',\n",
       " 'Christmas Old Fashioned',\n",
       " 'Bad Santa White Russian',\n",
       " 'Frosted Spicy Ginger Moscow Mule Punch',\n",
       " 'Cinnamon Bourbon Fizz',\n",
       " 'Chai Espresso Martini',\n",
       " 'Spicy Pomegranate Ginger Paloma',\n",
       " '-',\n",
       " 'Pumpkin Head Punch',\n",
       " 'The Hermione Granger Cocktail',\n",
       " 'Blueberry Lemon Thyme Smash',\n",
       " 'Frothy Whipped Coffee White Russian',\n",
       " 'Orange Hibiscus Mai Tai',\n",
       " 'The Santa Clause Smash',\n",
       " 'Sparkling Christmas Party Punch.',\n",
       " 'Jingle Bell Cranberry Paloma.',\n",
       " 'Cinnamon Bourbon Old Fashioned with Brûléed Oranges',\n",
       " 'Cranberry Bourbon Sour Punch',\n",
       " 'Thanksgiving Sangria.',\n",
       " 'Sleepy Hollow Cocktail.',\n",
       " 'The Golden Snitch Cocktail.',\n",
       " 'Balsamic Peach Spritz.',\n",
       " 'Strawberry Hibiscus Margarita.',\n",
       " 'Winter Citrus Tequila Smash',\n",
       " 'Christmas Snowstorm Margarita',\n",
       " 'Gingerbread White Russian',\n",
       " 'Harvest Apple Spritz.',\n",
       " 'The Half Blood Prince Cocktail']"
      ]
     },
     "execution_count": 12,
     "metadata": {},
     "output_type": "execute_result"
    }
   ],
   "source": [
    "title"
   ]
  },
  {
   "cell_type": "code",
   "execution_count": 13,
   "id": "0ed45647",
   "metadata": {},
   "outputs": [],
   "source": [
    "final = pd.concat([final, temp_recipes_1], ignore_index=True)"
   ]
  },
  {
   "cell_type": "code",
   "execution_count": 14,
   "id": "0608a9db",
   "metadata": {},
   "outputs": [
    {
     "data": {
      "text/html": [
       "<div>\n",
       "<style scoped>\n",
       "    .dataframe tbody tr th:only-of-type {\n",
       "        vertical-align: middle;\n",
       "    }\n",
       "\n",
       "    .dataframe tbody tr th {\n",
       "        vertical-align: top;\n",
       "    }\n",
       "\n",
       "    .dataframe thead th {\n",
       "        text-align: right;\n",
       "    }\n",
       "</style>\n",
       "<table border=\"1\" class=\"dataframe\">\n",
       "  <thead>\n",
       "    <tr style=\"text-align: right;\">\n",
       "      <th></th>\n",
       "      <th>title</th>\n",
       "      <th>prep_time</th>\n",
       "      <th>cook_time</th>\n",
       "      <th>total_time</th>\n",
       "      <th>ingredients</th>\n",
       "      <th>ingredients with measurement</th>\n",
       "      <th>instructions</th>\n",
       "      <th>calories</th>\n",
       "      <th>servings</th>\n",
       "      <th>images</th>\n",
       "    </tr>\n",
       "  </thead>\n",
       "  <tbody>\n",
       "    <tr>\n",
       "      <th>0</th>\n",
       "      <td>Peach Thyme Smash</td>\n",
       "      <td>{'minutes': '5'}</td>\n",
       "      <td>{'minutes': '5'}</td>\n",
       "      <td>{'minutes': '10'}</td>\n",
       "      <td>[fresh peach slices, fresh thyme, peach jam/pr...</td>\n",
       "      <td>{'fresh peach slices': '1/2', 'fresh thyme': '...</td>\n",
       "      <td>[1. Optional: heat a grill or grill pan to hig...</td>\n",
       "      <td>226 kcal</td>\n",
       "      <td>1</td>\n",
       "      <td>https://www.halfbakedharvest.com/wp-content/up...</td>\n",
       "    </tr>\n",
       "    <tr>\n",
       "      <th>1</th>\n",
       "      <td>-</td>\n",
       "      <td>-</td>\n",
       "      <td>-</td>\n",
       "      <td>-</td>\n",
       "      <td>-</td>\n",
       "      <td>-</td>\n",
       "      <td>-</td>\n",
       "      <td>-</td>\n",
       "      <td>-</td>\n",
       "      <td>https://www.halfbakedharvest.com/wp-content/up...</td>\n",
       "    </tr>\n",
       "    <tr>\n",
       "      <th>2</th>\n",
       "      <td>Batch Spicy Coconut Lime Margarita</td>\n",
       "      <td>{'minutes': '15'}</td>\n",
       "      <td>-</td>\n",
       "      <td>{'minutes': '15'}</td>\n",
       "      <td>[jalapeños or serrano chiles, fresh basil leav...</td>\n",
       "      <td>{'jalapeños or serrano chiles': '2', 'fresh ba...</td>\n",
       "      <td>[1. Place the jalapeños (chiles) over a gas fl...</td>\n",
       "      <td>372 kcal</td>\n",
       "      <td>4</td>\n",
       "      <td>https://www.halfbakedharvest.com/wp-content/up...</td>\n",
       "    </tr>\n",
       "    <tr>\n",
       "      <th>3</th>\n",
       "      <td>Uncle Eddy’s White Russian</td>\n",
       "      <td>{'minutes': '10'}</td>\n",
       "      <td>{'minutes': '5'}</td>\n",
       "      <td>{'minutes': '15'}</td>\n",
       "      <td>[honey, cinnamon, nutmeg, vodka, bourbon or ru...</td>\n",
       "      <td>{'honey': '1/4', 'cinnamon': '2', 'nutmeg': '1...</td>\n",
       "      <td>[1. To make the cinnamon syrup. In a pot, comb...</td>\n",
       "      <td>373 kcal</td>\n",
       "      <td>1</td>\n",
       "      <td>https://www.halfbakedharvest.com/wp-content/up...</td>\n",
       "    </tr>\n",
       "    <tr>\n",
       "      <th>4</th>\n",
       "      <td>Naughty Gingerbread Cocktail (+mocktail).</td>\n",
       "      <td>{'minutes': '5'}</td>\n",
       "      <td>-</td>\n",
       "      <td>{'minutes': '7'}</td>\n",
       "      <td>[bourbon or spiced rum, orange or clementine j...</td>\n",
       "      <td>{'bourbon or spiced rum': '1 1/2', 'orange or ...</td>\n",
       "      <td>[1. If desired, rim your glass. On a small pla...</td>\n",
       "      <td>191 kcal</td>\n",
       "      <td>1</td>\n",
       "      <td>https://www.halfbakedharvest.com/wp-content/up...</td>\n",
       "    </tr>\n",
       "    <tr>\n",
       "      <th>...</th>\n",
       "      <td>...</td>\n",
       "      <td>...</td>\n",
       "      <td>...</td>\n",
       "      <td>...</td>\n",
       "      <td>...</td>\n",
       "      <td>...</td>\n",
       "      <td>...</td>\n",
       "      <td>...</td>\n",
       "      <td>...</td>\n",
       "      <td>...</td>\n",
       "    </tr>\n",
       "    <tr>\n",
       "      <th>100</th>\n",
       "      <td>Winter Citrus Tequila Smash</td>\n",
       "      <td>{'minutes': '10'}</td>\n",
       "      <td>-</td>\n",
       "      <td>{'minutes': '10'}</td>\n",
       "      <td>[orange zest, blood orange, peel removed and q...</td>\n",
       "      <td>{'orange zest': '1', 'blood orange, peel remov...</td>\n",
       "      <td>[1. In a cocktail shaker or glass jar, combine...</td>\n",
       "      <td>96 kcal</td>\n",
       "      <td>1</td>\n",
       "      <td>https://www.halfbakedharvest.com/wp-content/up...</td>\n",
       "    </tr>\n",
       "    <tr>\n",
       "      <th>101</th>\n",
       "      <td>Christmas Snowstorm Margarita</td>\n",
       "      <td>{'minutes': '10'}</td>\n",
       "      <td>-</td>\n",
       "      <td>{'minutes': '10'}</td>\n",
       "      <td>[unsweetened coconut milk, honey or granulated...</td>\n",
       "      <td>{'unsweetened coconut milk': '1 1/3', 'honey o...</td>\n",
       "      <td>[1. Bring the coconut milk and sugar to a simm...</td>\n",
       "      <td>252 kcal</td>\n",
       "      <td>1</td>\n",
       "      <td>https://www.halfbakedharvest.com/wp-content/up...</td>\n",
       "    </tr>\n",
       "    <tr>\n",
       "      <th>102</th>\n",
       "      <td>Gingerbread White Russian</td>\n",
       "      <td>{'minutes': '5'}</td>\n",
       "      <td>{'minutes': '5'}</td>\n",
       "      <td>{'minutes': '10'}</td>\n",
       "      <td>[honey, molasses, fresh ginger, sliced, cinnam...</td>\n",
       "      <td>{'honey': '1/4', 'molasses': '3', 'fresh ginge...</td>\n",
       "      <td>[1. In a medium pot, combine 1 1/3 cups water,...</td>\n",
       "      <td>291 kcal</td>\n",
       "      <td>1</td>\n",
       "      <td>https://www.halfbakedharvest.com/wp-content/up...</td>\n",
       "    </tr>\n",
       "    <tr>\n",
       "      <th>103</th>\n",
       "      <td>Harvest Apple Spritz.</td>\n",
       "      <td>{'minutes': '10'}</td>\n",
       "      <td>{'minutes': '10'}</td>\n",
       "      <td>{'minutes': '20'}</td>\n",
       "      <td>[honey, fresh ginger,, fresh sage leaves, plus...</td>\n",
       "      <td>{'honey': '1/4', 'fresh ginger,': '1', 'fresh ...</td>\n",
       "      <td>[1. In a small pot, bring 1/2 cup water, the h...</td>\n",
       "      <td>359 kcal</td>\n",
       "      <td>8</td>\n",
       "      <td>https://www.halfbakedharvest.com/wp-content/up...</td>\n",
       "    </tr>\n",
       "    <tr>\n",
       "      <th>104</th>\n",
       "      <td>The Half Blood Prince Cocktail</td>\n",
       "      <td>{'minutes': '5'}</td>\n",
       "      <td>-</td>\n",
       "      <td>{'minutes': '5'}</td>\n",
       "      <td>[pomegranate juice, bourbon, raspberry liquor ...</td>\n",
       "      <td>{'pomegranate juice': '1/4', 'bourbon': '1 1/2...</td>\n",
       "      <td>[1. Combine all ingredients in a cocktail shak...</td>\n",
       "      <td>81 kcal</td>\n",
       "      <td>1</td>\n",
       "      <td>https://www.halfbakedharvest.com/wp-content/up...</td>\n",
       "    </tr>\n",
       "  </tbody>\n",
       "</table>\n",
       "<p>105 rows × 10 columns</p>\n",
       "</div>"
      ],
      "text/plain": [
       "                                         title          prep_time  \\\n",
       "0                            Peach Thyme Smash   {'minutes': '5'}   \n",
       "1                                            -                  -   \n",
       "2           Batch Spicy Coconut Lime Margarita  {'minutes': '15'}   \n",
       "3                   Uncle Eddy’s White Russian  {'minutes': '10'}   \n",
       "4    Naughty Gingerbread Cocktail (+mocktail).   {'minutes': '5'}   \n",
       "..                                         ...                ...   \n",
       "100                Winter Citrus Tequila Smash  {'minutes': '10'}   \n",
       "101              Christmas Snowstorm Margarita  {'minutes': '10'}   \n",
       "102                  Gingerbread White Russian   {'minutes': '5'}   \n",
       "103                      Harvest Apple Spritz.  {'minutes': '10'}   \n",
       "104             The Half Blood Prince Cocktail   {'minutes': '5'}   \n",
       "\n",
       "             cook_time         total_time  \\\n",
       "0     {'minutes': '5'}  {'minutes': '10'}   \n",
       "1                    -                  -   \n",
       "2                    -  {'minutes': '15'}   \n",
       "3     {'minutes': '5'}  {'minutes': '15'}   \n",
       "4                    -   {'minutes': '7'}   \n",
       "..                 ...                ...   \n",
       "100                  -  {'minutes': '10'}   \n",
       "101                  -  {'minutes': '10'}   \n",
       "102   {'minutes': '5'}  {'minutes': '10'}   \n",
       "103  {'minutes': '10'}  {'minutes': '20'}   \n",
       "104                  -   {'minutes': '5'}   \n",
       "\n",
       "                                           ingredients  \\\n",
       "0    [fresh peach slices, fresh thyme, peach jam/pr...   \n",
       "1                                                    -   \n",
       "2    [jalapeños or serrano chiles, fresh basil leav...   \n",
       "3    [honey, cinnamon, nutmeg, vodka, bourbon or ru...   \n",
       "4    [bourbon or spiced rum, orange or clementine j...   \n",
       "..                                                 ...   \n",
       "100  [orange zest, blood orange, peel removed and q...   \n",
       "101  [unsweetened coconut milk, honey or granulated...   \n",
       "102  [honey, molasses, fresh ginger, sliced, cinnam...   \n",
       "103  [honey, fresh ginger,, fresh sage leaves, plus...   \n",
       "104  [pomegranate juice, bourbon, raspberry liquor ...   \n",
       "\n",
       "                          ingredients with measurement  \\\n",
       "0    {'fresh peach slices': '1/2', 'fresh thyme': '...   \n",
       "1                                                    -   \n",
       "2    {'jalapeños or serrano chiles': '2', 'fresh ba...   \n",
       "3    {'honey': '1/4', 'cinnamon': '2', 'nutmeg': '1...   \n",
       "4    {'bourbon or spiced rum': '1 1/2', 'orange or ...   \n",
       "..                                                 ...   \n",
       "100  {'orange zest': '1', 'blood orange, peel remov...   \n",
       "101  {'unsweetened coconut milk': '1 1/3', 'honey o...   \n",
       "102  {'honey': '1/4', 'molasses': '3', 'fresh ginge...   \n",
       "103  {'honey': '1/4', 'fresh ginger,': '1', 'fresh ...   \n",
       "104  {'pomegranate juice': '1/4', 'bourbon': '1 1/2...   \n",
       "\n",
       "                                          instructions  calories servings  \\\n",
       "0    [1. Optional: heat a grill or grill pan to hig...  226 kcal        1   \n",
       "1                                                    -         -        -   \n",
       "2    [1. Place the jalapeños (chiles) over a gas fl...  372 kcal        4   \n",
       "3    [1. To make the cinnamon syrup. In a pot, comb...  373 kcal        1   \n",
       "4    [1. If desired, rim your glass. On a small pla...  191 kcal        1   \n",
       "..                                                 ...       ...      ...   \n",
       "100  [1. In a cocktail shaker or glass jar, combine...   96 kcal        1   \n",
       "101  [1. Bring the coconut milk and sugar to a simm...  252 kcal        1   \n",
       "102  [1. In a medium pot, combine 1 1/3 cups water,...  291 kcal        1   \n",
       "103  [1. In a small pot, bring 1/2 cup water, the h...  359 kcal        8   \n",
       "104  [1. Combine all ingredients in a cocktail shak...   81 kcal        1   \n",
       "\n",
       "                                                images  \n",
       "0    https://www.halfbakedharvest.com/wp-content/up...  \n",
       "1    https://www.halfbakedharvest.com/wp-content/up...  \n",
       "2    https://www.halfbakedharvest.com/wp-content/up...  \n",
       "3    https://www.halfbakedharvest.com/wp-content/up...  \n",
       "4    https://www.halfbakedharvest.com/wp-content/up...  \n",
       "..                                                 ...  \n",
       "100  https://www.halfbakedharvest.com/wp-content/up...  \n",
       "101  https://www.halfbakedharvest.com/wp-content/up...  \n",
       "102  https://www.halfbakedharvest.com/wp-content/up...  \n",
       "103  https://www.halfbakedharvest.com/wp-content/up...  \n",
       "104  https://www.halfbakedharvest.com/wp-content/up...  \n",
       "\n",
       "[105 rows x 10 columns]"
      ]
     },
     "execution_count": 14,
     "metadata": {},
     "output_type": "execute_result"
    }
   ],
   "source": [
    "final"
   ]
  },
  {
   "cell_type": "markdown",
   "id": "88573086",
   "metadata": {},
   "source": [
    "### Recipes 25-200"
   ]
  },
  {
   "cell_type": "code",
   "execution_count": 15,
   "id": "96880399",
   "metadata": {
    "scrolled": true
   },
   "outputs": [
    {
     "name": "stdout",
     "output_type": "stream",
     "text": [
      "Proxies loaded: ['160.86.242.23:8080', '185.195.71.218:18080', '35.220.254.137:8080']\n"
     ]
    },
    {
     "data": {
      "application/javascript": [
       "\n",
       "        if (window._pyforest_update_imports_cell) { window._pyforest_update_imports_cell('import re'); }\n",
       "    "
      ],
      "text/plain": [
       "<IPython.core.display.Javascript object>"
      ]
     },
     "metadata": {},
     "output_type": "display_data"
    },
    {
     "data": {
      "application/javascript": [
       "\n",
       "        if (window._pyforest_update_imports_cell) { window._pyforest_update_imports_cell('import re'); }\n",
       "    "
      ],
      "text/plain": [
       "<IPython.core.display.Javascript object>"
      ]
     },
     "metadata": {},
     "output_type": "display_data"
    },
    {
     "name": "stdout",
     "output_type": "stream",
     "text": [
      "Successfully retrieved 150 - https://www.halfbakedharvest.com/fig-bourbon-cider-smash/ with proxy 160.86.242.23:8080\n"
     ]
    },
    {
     "data": {
      "application/javascript": [
       "\n",
       "        if (window._pyforest_update_imports_cell) { window._pyforest_update_imports_cell('import re'); }\n",
       "    "
      ],
      "text/plain": [
       "<IPython.core.display.Javascript object>"
      ]
     },
     "metadata": {},
     "output_type": "display_data"
    },
    {
     "data": {
      "application/javascript": [
       "\n",
       "        if (window._pyforest_update_imports_cell) { window._pyforest_update_imports_cell('import re'); }\n",
       "    "
      ],
      "text/plain": [
       "<IPython.core.display.Javascript object>"
      ]
     },
     "metadata": {},
     "output_type": "display_data"
    },
    {
     "name": "stdout",
     "output_type": "stream",
     "text": [
      "Successfully retrieved 151 - https://www.halfbakedharvest.com/watermelon-paloma/ with proxy 185.195.71.218:18080\n"
     ]
    },
    {
     "data": {
      "application/javascript": [
       "\n",
       "        if (window._pyforest_update_imports_cell) { window._pyforest_update_imports_cell('import re'); }\n",
       "    "
      ],
      "text/plain": [
       "<IPython.core.display.Javascript object>"
      ]
     },
     "metadata": {},
     "output_type": "display_data"
    },
    {
     "data": {
      "application/javascript": [
       "\n",
       "        if (window._pyforest_update_imports_cell) { window._pyforest_update_imports_cell('import re'); }\n",
       "    "
      ],
      "text/plain": [
       "<IPython.core.display.Javascript object>"
      ]
     },
     "metadata": {},
     "output_type": "display_data"
    },
    {
     "name": "stdout",
     "output_type": "stream",
     "text": [
      "Successfully retrieved 152 - https://www.halfbakedharvest.com/blackberry-thyme-margarita/ with proxy 35.220.254.137:8080\n"
     ]
    },
    {
     "data": {
      "application/javascript": [
       "\n",
       "        if (window._pyforest_update_imports_cell) { window._pyforest_update_imports_cell('import re'); }\n",
       "    "
      ],
      "text/plain": [
       "<IPython.core.display.Javascript object>"
      ]
     },
     "metadata": {},
     "output_type": "display_data"
    },
    {
     "data": {
      "application/javascript": [
       "\n",
       "        if (window._pyforest_update_imports_cell) { window._pyforest_update_imports_cell('import re'); }\n",
       "    "
      ],
      "text/plain": [
       "<IPython.core.display.Javascript object>"
      ]
     },
     "metadata": {},
     "output_type": "display_data"
    },
    {
     "name": "stdout",
     "output_type": "stream",
     "text": [
      "Successfully retrieved 153 - https://www.halfbakedharvest.com/sweet-bourbon-peach-lemonade/ with proxy 160.86.242.23:8080\n",
      "Proxy 185.195.71.218:18080 failed for https://www.halfbakedharvest.com/smashed-berry-rose-spritz/: HTTPSConnectionPool(host='www.halfbakedharvest.com', port=443): Max retries exceeded with url: /smashed-berry-rose-spritz/ (Caused by ProxyError('Unable to connect to proxy', OSError('Tunnel connection failed: 503 Service Unavailable')))\n"
     ]
    },
    {
     "data": {
      "application/javascript": [
       "\n",
       "        if (window._pyforest_update_imports_cell) { window._pyforest_update_imports_cell('import re'); }\n",
       "    "
      ],
      "text/plain": [
       "<IPython.core.display.Javascript object>"
      ]
     },
     "metadata": {},
     "output_type": "display_data"
    },
    {
     "data": {
      "application/javascript": [
       "\n",
       "        if (window._pyforest_update_imports_cell) { window._pyforest_update_imports_cell('import re'); }\n",
       "    "
      ],
      "text/plain": [
       "<IPython.core.display.Javascript object>"
      ]
     },
     "metadata": {},
     "output_type": "display_data"
    },
    {
     "data": {
      "application/javascript": [
       "\n",
       "        if (window._pyforest_update_imports_cell) { window._pyforest_update_imports_cell('import re'); }\n",
       "    "
      ],
      "text/plain": [
       "<IPython.core.display.Javascript object>"
      ]
     },
     "metadata": {},
     "output_type": "display_data"
    },
    {
     "name": "stdout",
     "output_type": "stream",
     "text": [
      "Successfully retrieved 155 - https://www.halfbakedharvest.com/hibiscus-cherry-vodka-spritz/ with proxy 35.220.254.137:8080\n",
      "ChunkedEncodingError occurred for proxy 160.86.242.23:8080 and https://www.halfbakedharvest.com/frozen-brunch-punch/: ('Connection broken: IncompleteRead(1885 bytes read, 8355 more expected)', IncompleteRead(1885 bytes read, 8355 more expected))\n"
     ]
    }
   ],
   "source": [
    "# Read proxies from the file and create a cycle iterator\n",
    "with open('proxies.txt', 'r') as f:\n",
    "    proxies = [line.strip() for line in f if line.strip()]\n",
    "\n",
    "# Check if proxies are being read correctly\n",
    "if not proxies:\n",
    "    print(\"No valid proxies found in proxies.txt\")\n",
    "else:\n",
    "    print(f\"Proxies loaded: {proxies}\")\n",
    "\n",
    "proxy_cycle = itertools.cycle(proxies)\n",
    "\n",
    "# Initialize an empty DataFrame to store results\n",
    "temp_recipes_2 = pd.DataFrame(columns=columns)\n",
    "title = []\n",
    "prep_time = []\n",
    "cook_time = []\n",
    "total_time = []\n",
    "\n",
    "ingredients_measurment = []\n",
    "ingredients = []\n",
    "instructions = []\n",
    "\n",
    "calories = []\n",
    "servings = []\n",
    "images = []\n",
    "\n",
    "# Loop over the desired number of pages\n",
    "for i in range(150, 157):\n",
    "    proxy = next(proxy_cycle)\n",
    "\n",
    "    # Set up request with proxy\n",
    "    headers = {'User-Agent': 'Mozilla/5.0 (Windows NT 6.3; Win64; x64) AppleWebKit/537.36 (KHTML, like Gecko) Chrome/80.0.3987.162 Safari/537.36'}\n",
    "    url = all_recipes_url[i]\n",
    "    proxy_dict = {'http': proxy, 'https': proxy}\n",
    "\n",
    "    try:\n",
    "        response = requests.get(url, headers=headers, proxies=proxy_dict, timeout=30)\n",
    "        \n",
    "        # Check if the request was successful\n",
    "        if response.status_code == 200:\n",
    "            soup = BeautifulSoup(response.content, 'html.parser')\n",
    "            extract(soup)\n",
    "            print(f\"Successfully retrieved {i} - {url} with proxy {proxy}\")\n",
    "        else:\n",
    "            failed_url.append(url)\n",
    "            print(f\"Failed to retrieve page {url} with proxy {proxy}. Status code: {response.status_code}\")\n",
    "    except (requests.ConnectionError, requests.Timeout) as e:\n",
    "        failed_url.append(url)\n",
    "        print(f\"Proxy {proxy} failed for {url}: {e}\")\n",
    "    except ChunkedEncodingError as e:  # Handle ChunkedEncodingError\n",
    "        failed_url.append(url)\n",
    "        print(f\"ChunkedEncodingError occurred for proxy {proxy} and {url}: {e}\")\n",
    "        continue  # Move to the next page\n",
    "\n",
    "\n",
    "\n",
    "temp_recipes_2['title'] = title\n",
    "temp_recipes_2['prep_time'] = prep_time\n",
    "temp_recipes_2['cook_time'] = cook_time\n",
    "temp_recipes_2['total_time'] = total_time\n",
    "temp_recipes_2['ingredients'] = ingredients\n",
    "temp_recipes_2['ingredients with measurement'] = ingredients_measurment\n",
    "temp_recipes_2['instructions'] = instructions\n",
    "temp_recipes_2['calories'] = calories\n",
    "temp_recipes_2['servings'] = servings\n",
    "temp_recipes_2['images']= images\n",
    "\n",
    "\n",
    "\n",
    "    "
   ]
  },
  {
   "cell_type": "code",
   "execution_count": 16,
   "id": "86fec35e",
   "metadata": {},
   "outputs": [
    {
     "name": "stdout",
     "output_type": "stream",
     "text": [
      "47\n"
     ]
    }
   ],
   "source": [
    "print(len(failed_url))"
   ]
  },
  {
   "cell_type": "code",
   "execution_count": 17,
   "id": "f7862ade",
   "metadata": {
    "scrolled": true
   },
   "outputs": [
    {
     "data": {
      "text/plain": [
       "['https://www.halfbakedharvest.com/frozen-watermelon-spritz/',\n",
       " 'https://www.halfbakedharvest.com/hocus-pocus-old-fashioned/',\n",
       " 'https://www.halfbakedharvest.com/pomegranate-punch/',\n",
       " 'https://www.halfbakedharvest.com/the-20-most-popular-fall-drinks/',\n",
       " 'https://www.halfbakedharvest.com/frosted-mistletoe-margarita/',\n",
       " 'https://www.halfbakedharvest.com/spiced-cranberry-punch/',\n",
       " 'https://www.halfbakedharvest.com/the-14-most-popular-thanksgiving-drinks/',\n",
       " 'https://www.halfbakedharvest.com/voldemorts-dark-serum/',\n",
       " 'https://www.halfbakedharvest.com/frostys-frosted-moscow-mule/',\n",
       " 'https://www.halfbakedharvest.com/cranberry-thyme-spritz/',\n",
       " 'https://www.halfbakedharvest.com/vampires-drip-cocktail/',\n",
       " 'https://www.halfbakedharvest.com/the-deathly-hallows-cocktail/',\n",
       " 'https://www.halfbakedharvest.com/fig-honey-thyme-prosecco-smash/',\n",
       " 'https://www.halfbakedharvest.com/blood-orange-champagne-mule/',\n",
       " 'https://www.halfbakedharvest.com/christmas-ale-sangria/',\n",
       " 'https://www.halfbakedharvest.com/north-pole-cocktail/',\n",
       " 'https://www.halfbakedharvest.com/blackberry-bourbon-smash/',\n",
       " 'https://www.halfbakedharvest.com/pumpkin-butterbeer-hot-chocolate-video/',\n",
       " 'https://www.halfbakedharvest.com/holiday-storm-cocktail/',\n",
       " 'https://www.halfbakedharvest.com/spiced-cranberry-thyme-moscow-mule/',\n",
       " 'https://www.halfbakedharvest.com/spiced-maple-bourbon-fizz/',\n",
       " 'https://www.halfbakedharvest.com/the-goblet-of-fire/',\n",
       " 'https://www.halfbakedharvest.com/the-grave-digger/',\n",
       " 'https://www.halfbakedharvest.com/vodka-watermelon-lemonade/',\n",
       " 'https://www.halfbakedharvest.com/basil-smash-pina-colada/',\n",
       " 'https://www.halfbakedharvest.com/blackberry-champagne-mule/',\n",
       " 'https://www.halfbakedharvest.com/watermelon-rose-paloma/',\n",
       " 'https://www.halfbakedharvest.com/creamy-coconut-lime-mojito/',\n",
       " 'https://www.halfbakedharvest.com/spicy-cucumber-margarita/',\n",
       " 'https://www.halfbakedharvest.com/dirty-horchata/',\n",
       " 'https://www.halfbakedharvest.com/spicy-sweet-grinch-cocktail/',\n",
       " 'https://www.halfbakedharvest.com/thanksgiving-drinks/',\n",
       " 'https://www.halfbakedharvest.com/smoky-harvest-apple-cider-margaritas/',\n",
       " 'https://www.halfbakedharvest.com/fig-dark-and-stormy/',\n",
       " 'https://www.halfbakedharvest.com/frozen-mango-mojito-rita/',\n",
       " 'https://www.halfbakedharvest.com/blackberry-tequila-lemon-cooler/',\n",
       " 'https://www.halfbakedharvest.com/pineapple-moscow-mule/',\n",
       " 'https://www.halfbakedharvest.com/white-tea-and-muddled-basil-mojito/',\n",
       " 'https://www.halfbakedharvest.com/holly-jolly-christmas-citrus-cocktail/',\n",
       " 'https://www.halfbakedharvest.com/holiday-pear-sangria/',\n",
       " 'https://www.halfbakedharvest.com/vanilla-chai-old-fashioned/',\n",
       " 'https://www.halfbakedharvest.com/spiced-cranberry-rose-spritzers/',\n",
       " 'https://www.halfbakedharvest.com/pumpkin-patch-punch/',\n",
       " 'https://www.halfbakedharvest.com/the-black-widow-smash/',\n",
       " 'https://www.halfbakedharvest.com/poison-apple-martini/',\n",
       " 'https://www.halfbakedharvest.com/smashed-berry-rose-spritz/',\n",
       " 'https://www.halfbakedharvest.com/frozen-brunch-punch/']"
      ]
     },
     "execution_count": 17,
     "metadata": {},
     "output_type": "execute_result"
    }
   ],
   "source": [
    "failed_url"
   ]
  },
  {
   "cell_type": "code",
   "execution_count": 18,
   "id": "b867696d",
   "metadata": {},
   "outputs": [
    {
     "data": {
      "text/html": [
       "<div>\n",
       "<style scoped>\n",
       "    .dataframe tbody tr th:only-of-type {\n",
       "        vertical-align: middle;\n",
       "    }\n",
       "\n",
       "    .dataframe tbody tr th {\n",
       "        vertical-align: top;\n",
       "    }\n",
       "\n",
       "    .dataframe thead th {\n",
       "        text-align: right;\n",
       "    }\n",
       "</style>\n",
       "<table border=\"1\" class=\"dataframe\">\n",
       "  <thead>\n",
       "    <tr style=\"text-align: right;\">\n",
       "      <th></th>\n",
       "      <th>title</th>\n",
       "      <th>prep_time</th>\n",
       "      <th>cook_time</th>\n",
       "      <th>total_time</th>\n",
       "      <th>ingredients</th>\n",
       "      <th>ingredients with measurement</th>\n",
       "      <th>instructions</th>\n",
       "      <th>calories</th>\n",
       "      <th>servings</th>\n",
       "      <th>images</th>\n",
       "    </tr>\n",
       "  </thead>\n",
       "  <tbody>\n",
       "    <tr>\n",
       "      <th>0</th>\n",
       "      <td>Fig Bourbon Cider Smash</td>\n",
       "      <td>{'minutes': '5'}</td>\n",
       "      <td>-</td>\n",
       "      <td>{'minutes': '5'}</td>\n",
       "      <td>[apple cider, orange zest + 2 tablespoons juic...</td>\n",
       "      <td>{'apple cider': '1/4', 'orange zest + 2 tables...</td>\n",
       "      <td>[1. In a cocktail shaker, combine the apple ci...</td>\n",
       "      <td>52 kcal</td>\n",
       "      <td>1</td>\n",
       "      <td>https://www.halfbakedharvest.com/wp-content/up...</td>\n",
       "    </tr>\n",
       "    <tr>\n",
       "      <th>1</th>\n",
       "      <td>Salted Watermelon Paloma</td>\n",
       "      <td>{'minutes': '10'}</td>\n",
       "      <td>-</td>\n",
       "      <td>{'minutes': '10'}</td>\n",
       "      <td>[cubed watermelon, kosher salt, Florida’s Natu...</td>\n",
       "      <td>{'cubed watermelon': '2', 'kosher salt': 'seas...</td>\n",
       "      <td>[1. Add the watermelon to a blender and pulse ...</td>\n",
       "      <td>68 kcal</td>\n",
       "      <td>1</td>\n",
       "      <td>https://www.halfbakedharvest.com/wp-content/up...</td>\n",
       "    </tr>\n",
       "    <tr>\n",
       "      <th>2</th>\n",
       "      <td>Blackberry Thyme Margarita</td>\n",
       "      <td>{'minutes': '5'}</td>\n",
       "      <td>-</td>\n",
       "      <td>{'minutes': '5'}</td>\n",
       "      <td>[fresh blackberries, small red plum, quartered...</td>\n",
       "      <td>{'fresh blackberries': '8', 'small red plum, q...</td>\n",
       "      <td>[1. Run a lime wedge around the rim of your gl...</td>\n",
       "      <td>84 kcal</td>\n",
       "      <td>1</td>\n",
       "      <td>https://www.halfbakedharvest.com/wp-content/up...</td>\n",
       "    </tr>\n",
       "    <tr>\n",
       "      <th>3</th>\n",
       "      <td>Sweet Bourbon Peach Lemonade</td>\n",
       "      <td>{'minutes': '5'}</td>\n",
       "      <td>-</td>\n",
       "      <td>{'minutes': '5'}</td>\n",
       "      <td>[Florida's Natural® Brand Lemonade with Raspbe...</td>\n",
       "      <td>{'Florida's Natural® Brand Lemonade with Raspb...</td>\n",
       "      <td>[1. In a blender, combine the lemonade and pea...</td>\n",
       "      <td>136 kcal</td>\n",
       "      <td>8</td>\n",
       "      <td>https://www.halfbakedharvest.com/wp-content/up...</td>\n",
       "    </tr>\n",
       "    <tr>\n",
       "      <th>4</th>\n",
       "      <td>Hibiscus Cherry Vodka Spritz</td>\n",
       "      <td>{'minutes': '15'}</td>\n",
       "      <td>{'minutes': '5'}</td>\n",
       "      <td>{'minutes': '20'}</td>\n",
       "      <td>[fresh cherries, dried hibiscus flowers, honey...</td>\n",
       "      <td>{'fresh cherries': '3/4', 'dried hibiscus flow...</td>\n",
       "      <td>[1. Add the cherries to a medium size pot. Use...</td>\n",
       "      <td>158 kcal</td>\n",
       "      <td>4</td>\n",
       "      <td>https://www.halfbakedharvest.com/wp-content/up...</td>\n",
       "    </tr>\n",
       "  </tbody>\n",
       "</table>\n",
       "</div>"
      ],
      "text/plain": [
       "                          title          prep_time         cook_time  \\\n",
       "0       Fig Bourbon Cider Smash   {'minutes': '5'}                 -   \n",
       "1      Salted Watermelon Paloma  {'minutes': '10'}                 -   \n",
       "2    Blackberry Thyme Margarita   {'minutes': '5'}                 -   \n",
       "3  Sweet Bourbon Peach Lemonade   {'minutes': '5'}                 -   \n",
       "4  Hibiscus Cherry Vodka Spritz  {'minutes': '15'}  {'minutes': '5'}   \n",
       "\n",
       "          total_time                                        ingredients  \\\n",
       "0   {'minutes': '5'}  [apple cider, orange zest + 2 tablespoons juic...   \n",
       "1  {'minutes': '10'}  [cubed watermelon, kosher salt, Florida’s Natu...   \n",
       "2   {'minutes': '5'}  [fresh blackberries, small red plum, quartered...   \n",
       "3   {'minutes': '5'}  [Florida's Natural® Brand Lemonade with Raspbe...   \n",
       "4  {'minutes': '20'}  [fresh cherries, dried hibiscus flowers, honey...   \n",
       "\n",
       "                        ingredients with measurement  \\\n",
       "0  {'apple cider': '1/4', 'orange zest + 2 tables...   \n",
       "1  {'cubed watermelon': '2', 'kosher salt': 'seas...   \n",
       "2  {'fresh blackberries': '8', 'small red plum, q...   \n",
       "3  {'Florida's Natural® Brand Lemonade with Raspb...   \n",
       "4  {'fresh cherries': '3/4', 'dried hibiscus flow...   \n",
       "\n",
       "                                        instructions  calories servings  \\\n",
       "0  [1. In a cocktail shaker, combine the apple ci...   52 kcal        1   \n",
       "1  [1. Add the watermelon to a blender and pulse ...   68 kcal        1   \n",
       "2  [1. Run a lime wedge around the rim of your gl...   84 kcal        1   \n",
       "3  [1. In a blender, combine the lemonade and pea...  136 kcal        8   \n",
       "4  [1. Add the cherries to a medium size pot. Use...  158 kcal        4   \n",
       "\n",
       "                                              images  \n",
       "0  https://www.halfbakedharvest.com/wp-content/up...  \n",
       "1  https://www.halfbakedharvest.com/wp-content/up...  \n",
       "2  https://www.halfbakedharvest.com/wp-content/up...  \n",
       "3  https://www.halfbakedharvest.com/wp-content/up...  \n",
       "4  https://www.halfbakedharvest.com/wp-content/up...  "
      ]
     },
     "execution_count": 18,
     "metadata": {},
     "output_type": "execute_result"
    }
   ],
   "source": [
    "temp_recipes_2"
   ]
  },
  {
   "cell_type": "code",
   "execution_count": 19,
   "id": "f7df378c",
   "metadata": {},
   "outputs": [
    {
     "data": {
      "text/html": [
       "<div>\n",
       "<style scoped>\n",
       "    .dataframe tbody tr th:only-of-type {\n",
       "        vertical-align: middle;\n",
       "    }\n",
       "\n",
       "    .dataframe tbody tr th {\n",
       "        vertical-align: top;\n",
       "    }\n",
       "\n",
       "    .dataframe thead th {\n",
       "        text-align: right;\n",
       "    }\n",
       "</style>\n",
       "<table border=\"1\" class=\"dataframe\">\n",
       "  <thead>\n",
       "    <tr style=\"text-align: right;\">\n",
       "      <th></th>\n",
       "      <th>title</th>\n",
       "      <th>prep_time</th>\n",
       "      <th>cook_time</th>\n",
       "      <th>total_time</th>\n",
       "      <th>ingredients</th>\n",
       "      <th>ingredients with measurement</th>\n",
       "      <th>instructions</th>\n",
       "      <th>calories</th>\n",
       "      <th>servings</th>\n",
       "      <th>images</th>\n",
       "    </tr>\n",
       "  </thead>\n",
       "  <tbody>\n",
       "    <tr>\n",
       "      <th>0</th>\n",
       "      <td>Peach Thyme Smash</td>\n",
       "      <td>{'minutes': '5'}</td>\n",
       "      <td>{'minutes': '5'}</td>\n",
       "      <td>{'minutes': '10'}</td>\n",
       "      <td>[fresh peach slices, fresh thyme, peach jam/pr...</td>\n",
       "      <td>{'fresh peach slices': '1/2', 'fresh thyme': '...</td>\n",
       "      <td>[1. Optional: heat a grill or grill pan to hig...</td>\n",
       "      <td>226 kcal</td>\n",
       "      <td>1</td>\n",
       "      <td>https://www.halfbakedharvest.com/wp-content/up...</td>\n",
       "    </tr>\n",
       "    <tr>\n",
       "      <th>1</th>\n",
       "      <td>-</td>\n",
       "      <td>-</td>\n",
       "      <td>-</td>\n",
       "      <td>-</td>\n",
       "      <td>-</td>\n",
       "      <td>-</td>\n",
       "      <td>-</td>\n",
       "      <td>-</td>\n",
       "      <td>-</td>\n",
       "      <td>https://www.halfbakedharvest.com/wp-content/up...</td>\n",
       "    </tr>\n",
       "    <tr>\n",
       "      <th>2</th>\n",
       "      <td>Batch Spicy Coconut Lime Margarita</td>\n",
       "      <td>{'minutes': '15'}</td>\n",
       "      <td>-</td>\n",
       "      <td>{'minutes': '15'}</td>\n",
       "      <td>[jalapeños or serrano chiles, fresh basil leav...</td>\n",
       "      <td>{'jalapeños or serrano chiles': '2', 'fresh ba...</td>\n",
       "      <td>[1. Place the jalapeños (chiles) over a gas fl...</td>\n",
       "      <td>372 kcal</td>\n",
       "      <td>4</td>\n",
       "      <td>https://www.halfbakedharvest.com/wp-content/up...</td>\n",
       "    </tr>\n",
       "    <tr>\n",
       "      <th>3</th>\n",
       "      <td>Uncle Eddy’s White Russian</td>\n",
       "      <td>{'minutes': '10'}</td>\n",
       "      <td>{'minutes': '5'}</td>\n",
       "      <td>{'minutes': '15'}</td>\n",
       "      <td>[honey, cinnamon, nutmeg, vodka, bourbon or ru...</td>\n",
       "      <td>{'honey': '1/4', 'cinnamon': '2', 'nutmeg': '1...</td>\n",
       "      <td>[1. To make the cinnamon syrup. In a pot, comb...</td>\n",
       "      <td>373 kcal</td>\n",
       "      <td>1</td>\n",
       "      <td>https://www.halfbakedharvest.com/wp-content/up...</td>\n",
       "    </tr>\n",
       "    <tr>\n",
       "      <th>4</th>\n",
       "      <td>Naughty Gingerbread Cocktail (+mocktail).</td>\n",
       "      <td>{'minutes': '5'}</td>\n",
       "      <td>-</td>\n",
       "      <td>{'minutes': '7'}</td>\n",
       "      <td>[bourbon or spiced rum, orange or clementine j...</td>\n",
       "      <td>{'bourbon or spiced rum': '1 1/2', 'orange or ...</td>\n",
       "      <td>[1. If desired, rim your glass. On a small pla...</td>\n",
       "      <td>191 kcal</td>\n",
       "      <td>1</td>\n",
       "      <td>https://www.halfbakedharvest.com/wp-content/up...</td>\n",
       "    </tr>\n",
       "    <tr>\n",
       "      <th>...</th>\n",
       "      <td>...</td>\n",
       "      <td>...</td>\n",
       "      <td>...</td>\n",
       "      <td>...</td>\n",
       "      <td>...</td>\n",
       "      <td>...</td>\n",
       "      <td>...</td>\n",
       "      <td>...</td>\n",
       "      <td>...</td>\n",
       "      <td>...</td>\n",
       "    </tr>\n",
       "    <tr>\n",
       "      <th>105</th>\n",
       "      <td>Fig Bourbon Cider Smash</td>\n",
       "      <td>{'minutes': '5'}</td>\n",
       "      <td>-</td>\n",
       "      <td>{'minutes': '5'}</td>\n",
       "      <td>[apple cider, orange zest + 2 tablespoons juic...</td>\n",
       "      <td>{'apple cider': '1/4', 'orange zest + 2 tables...</td>\n",
       "      <td>[1. In a cocktail shaker, combine the apple ci...</td>\n",
       "      <td>52 kcal</td>\n",
       "      <td>1</td>\n",
       "      <td>https://www.halfbakedharvest.com/wp-content/up...</td>\n",
       "    </tr>\n",
       "    <tr>\n",
       "      <th>106</th>\n",
       "      <td>Salted Watermelon Paloma</td>\n",
       "      <td>{'minutes': '10'}</td>\n",
       "      <td>-</td>\n",
       "      <td>{'minutes': '10'}</td>\n",
       "      <td>[cubed watermelon, kosher salt, Florida’s Natu...</td>\n",
       "      <td>{'cubed watermelon': '2', 'kosher salt': 'seas...</td>\n",
       "      <td>[1. Add the watermelon to a blender and pulse ...</td>\n",
       "      <td>68 kcal</td>\n",
       "      <td>1</td>\n",
       "      <td>https://www.halfbakedharvest.com/wp-content/up...</td>\n",
       "    </tr>\n",
       "    <tr>\n",
       "      <th>107</th>\n",
       "      <td>Blackberry Thyme Margarita</td>\n",
       "      <td>{'minutes': '5'}</td>\n",
       "      <td>-</td>\n",
       "      <td>{'minutes': '5'}</td>\n",
       "      <td>[fresh blackberries, small red plum, quartered...</td>\n",
       "      <td>{'fresh blackberries': '8', 'small red plum, q...</td>\n",
       "      <td>[1. Run a lime wedge around the rim of your gl...</td>\n",
       "      <td>84 kcal</td>\n",
       "      <td>1</td>\n",
       "      <td>https://www.halfbakedharvest.com/wp-content/up...</td>\n",
       "    </tr>\n",
       "    <tr>\n",
       "      <th>108</th>\n",
       "      <td>Sweet Bourbon Peach Lemonade</td>\n",
       "      <td>{'minutes': '5'}</td>\n",
       "      <td>-</td>\n",
       "      <td>{'minutes': '5'}</td>\n",
       "      <td>[Florida's Natural® Brand Lemonade with Raspbe...</td>\n",
       "      <td>{'Florida's Natural® Brand Lemonade with Raspb...</td>\n",
       "      <td>[1. In a blender, combine the lemonade and pea...</td>\n",
       "      <td>136 kcal</td>\n",
       "      <td>8</td>\n",
       "      <td>https://www.halfbakedharvest.com/wp-content/up...</td>\n",
       "    </tr>\n",
       "    <tr>\n",
       "      <th>109</th>\n",
       "      <td>Hibiscus Cherry Vodka Spritz</td>\n",
       "      <td>{'minutes': '15'}</td>\n",
       "      <td>{'minutes': '5'}</td>\n",
       "      <td>{'minutes': '20'}</td>\n",
       "      <td>[fresh cherries, dried hibiscus flowers, honey...</td>\n",
       "      <td>{'fresh cherries': '3/4', 'dried hibiscus flow...</td>\n",
       "      <td>[1. Add the cherries to a medium size pot. Use...</td>\n",
       "      <td>158 kcal</td>\n",
       "      <td>4</td>\n",
       "      <td>https://www.halfbakedharvest.com/wp-content/up...</td>\n",
       "    </tr>\n",
       "  </tbody>\n",
       "</table>\n",
       "<p>110 rows × 10 columns</p>\n",
       "</div>"
      ],
      "text/plain": [
       "                                         title          prep_time  \\\n",
       "0                            Peach Thyme Smash   {'minutes': '5'}   \n",
       "1                                            -                  -   \n",
       "2           Batch Spicy Coconut Lime Margarita  {'minutes': '15'}   \n",
       "3                   Uncle Eddy’s White Russian  {'minutes': '10'}   \n",
       "4    Naughty Gingerbread Cocktail (+mocktail).   {'minutes': '5'}   \n",
       "..                                         ...                ...   \n",
       "105                    Fig Bourbon Cider Smash   {'minutes': '5'}   \n",
       "106                   Salted Watermelon Paloma  {'minutes': '10'}   \n",
       "107                 Blackberry Thyme Margarita   {'minutes': '5'}   \n",
       "108               Sweet Bourbon Peach Lemonade   {'minutes': '5'}   \n",
       "109               Hibiscus Cherry Vodka Spritz  {'minutes': '15'}   \n",
       "\n",
       "            cook_time         total_time  \\\n",
       "0    {'minutes': '5'}  {'minutes': '10'}   \n",
       "1                   -                  -   \n",
       "2                   -  {'minutes': '15'}   \n",
       "3    {'minutes': '5'}  {'minutes': '15'}   \n",
       "4                   -   {'minutes': '7'}   \n",
       "..                ...                ...   \n",
       "105                 -   {'minutes': '5'}   \n",
       "106                 -  {'minutes': '10'}   \n",
       "107                 -   {'minutes': '5'}   \n",
       "108                 -   {'minutes': '5'}   \n",
       "109  {'minutes': '5'}  {'minutes': '20'}   \n",
       "\n",
       "                                           ingredients  \\\n",
       "0    [fresh peach slices, fresh thyme, peach jam/pr...   \n",
       "1                                                    -   \n",
       "2    [jalapeños or serrano chiles, fresh basil leav...   \n",
       "3    [honey, cinnamon, nutmeg, vodka, bourbon or ru...   \n",
       "4    [bourbon or spiced rum, orange or clementine j...   \n",
       "..                                                 ...   \n",
       "105  [apple cider, orange zest + 2 tablespoons juic...   \n",
       "106  [cubed watermelon, kosher salt, Florida’s Natu...   \n",
       "107  [fresh blackberries, small red plum, quartered...   \n",
       "108  [Florida's Natural® Brand Lemonade with Raspbe...   \n",
       "109  [fresh cherries, dried hibiscus flowers, honey...   \n",
       "\n",
       "                          ingredients with measurement  \\\n",
       "0    {'fresh peach slices': '1/2', 'fresh thyme': '...   \n",
       "1                                                    -   \n",
       "2    {'jalapeños or serrano chiles': '2', 'fresh ba...   \n",
       "3    {'honey': '1/4', 'cinnamon': '2', 'nutmeg': '1...   \n",
       "4    {'bourbon or spiced rum': '1 1/2', 'orange or ...   \n",
       "..                                                 ...   \n",
       "105  {'apple cider': '1/4', 'orange zest + 2 tables...   \n",
       "106  {'cubed watermelon': '2', 'kosher salt': 'seas...   \n",
       "107  {'fresh blackberries': '8', 'small red plum, q...   \n",
       "108  {'Florida's Natural® Brand Lemonade with Raspb...   \n",
       "109  {'fresh cherries': '3/4', 'dried hibiscus flow...   \n",
       "\n",
       "                                          instructions  calories servings  \\\n",
       "0    [1. Optional: heat a grill or grill pan to hig...  226 kcal        1   \n",
       "1                                                    -         -        -   \n",
       "2    [1. Place the jalapeños (chiles) over a gas fl...  372 kcal        4   \n",
       "3    [1. To make the cinnamon syrup. In a pot, comb...  373 kcal        1   \n",
       "4    [1. If desired, rim your glass. On a small pla...  191 kcal        1   \n",
       "..                                                 ...       ...      ...   \n",
       "105  [1. In a cocktail shaker, combine the apple ci...   52 kcal        1   \n",
       "106  [1. Add the watermelon to a blender and pulse ...   68 kcal        1   \n",
       "107  [1. Run a lime wedge around the rim of your gl...   84 kcal        1   \n",
       "108  [1. In a blender, combine the lemonade and pea...  136 kcal        8   \n",
       "109  [1. Add the cherries to a medium size pot. Use...  158 kcal        4   \n",
       "\n",
       "                                                images  \n",
       "0    https://www.halfbakedharvest.com/wp-content/up...  \n",
       "1    https://www.halfbakedharvest.com/wp-content/up...  \n",
       "2    https://www.halfbakedharvest.com/wp-content/up...  \n",
       "3    https://www.halfbakedharvest.com/wp-content/up...  \n",
       "4    https://www.halfbakedharvest.com/wp-content/up...  \n",
       "..                                                 ...  \n",
       "105  https://www.halfbakedharvest.com/wp-content/up...  \n",
       "106  https://www.halfbakedharvest.com/wp-content/up...  \n",
       "107  https://www.halfbakedharvest.com/wp-content/up...  \n",
       "108  https://www.halfbakedharvest.com/wp-content/up...  \n",
       "109  https://www.halfbakedharvest.com/wp-content/up...  \n",
       "\n",
       "[110 rows x 10 columns]"
      ]
     },
     "execution_count": 19,
     "metadata": {},
     "output_type": "execute_result"
    }
   ],
   "source": [
    "final = pd.concat([final, temp_recipes_2], ignore_index=True)\n",
    "final"
   ]
  },
  {
   "cell_type": "code",
   "execution_count": null,
   "id": "08e31e99",
   "metadata": {},
   "outputs": [],
   "source": []
  },
  {
   "cell_type": "code",
   "execution_count": null,
   "id": "4aa264ae",
   "metadata": {},
   "outputs": [],
   "source": []
  },
  {
   "cell_type": "code",
   "execution_count": 20,
   "id": "751db088",
   "metadata": {},
   "outputs": [],
   "source": [
    "def save_list_to_txt(filename, data_list):\n",
    "    \"\"\"\n",
    "    Save a list of strings to a text file, one item per line.\n",
    "    \n",
    "    :param filename: The name of the file to save the list to.\n",
    "    :param data_list: The list of strings to save.\n",
    "    \"\"\"\n",
    "    with open(filename, 'w') as f:\n",
    "        for item in data_list:\n",
    "            f.write(f\"{item}\\n\")"
   ]
  },
  {
   "cell_type": "code",
   "execution_count": 21,
   "id": "7da183ed",
   "metadata": {},
   "outputs": [],
   "source": [
    "save_list_to_txt('failed_urls.txt', failed_url)\n",
    "final.to_csv('drinks_1_end.csv', index=False)"
   ]
  },
  {
   "cell_type": "code",
   "execution_count": null,
   "id": "6b4517a6",
   "metadata": {},
   "outputs": [],
   "source": []
  },
  {
   "cell_type": "code",
   "execution_count": null,
   "id": "584b8a40",
   "metadata": {},
   "outputs": [],
   "source": []
  },
  {
   "cell_type": "code",
   "execution_count": null,
   "id": "54dd8922",
   "metadata": {},
   "outputs": [],
   "source": []
  },
  {
   "cell_type": "code",
   "execution_count": null,
   "id": "793ea025",
   "metadata": {},
   "outputs": [],
   "source": []
  },
  {
   "cell_type": "code",
   "execution_count": null,
   "id": "d368577a",
   "metadata": {},
   "outputs": [],
   "source": []
  },
  {
   "cell_type": "code",
   "execution_count": null,
   "id": "65f477dc",
   "metadata": {},
   "outputs": [],
   "source": []
  },
  {
   "cell_type": "code",
   "execution_count": null,
   "id": "d9a3a0b2",
   "metadata": {},
   "outputs": [],
   "source": []
  },
  {
   "cell_type": "code",
   "execution_count": null,
   "id": "9ffe78f4",
   "metadata": {},
   "outputs": [],
   "source": []
  },
  {
   "cell_type": "code",
   "execution_count": null,
   "id": "8c80385b",
   "metadata": {},
   "outputs": [],
   "source": []
  },
  {
   "cell_type": "code",
   "execution_count": null,
   "id": "b86d43b3",
   "metadata": {},
   "outputs": [],
   "source": []
  },
  {
   "cell_type": "code",
   "execution_count": null,
   "id": "f3bd71a8",
   "metadata": {},
   "outputs": [],
   "source": []
  },
  {
   "cell_type": "markdown",
   "id": "b6e401ee",
   "metadata": {},
   "source": [
    "### Recipes 201-500"
   ]
  },
  {
   "cell_type": "code",
   "execution_count": null,
   "id": "c01c6671",
   "metadata": {
    "scrolled": true
   },
   "outputs": [],
   "source": [
    "# Read proxies from the file and create a cycle iterator\n",
    "with open('proxies.txt', 'r') as f:\n",
    "    proxies = [line.strip() for line in f if line.strip()]\n",
    "\n",
    "# Check if proxies are being read correctly\n",
    "if not proxies:\n",
    "    print(\"No valid proxies found in proxies.txt\")\n",
    "else:\n",
    "    print(f\"Proxies loaded: {proxies}\")\n",
    "\n",
    "proxy_cycle = itertools.cycle(proxies)\n",
    "\n",
    "# Initialize an empty DataFrame to store results\n",
    "temp_recipes_3 = pd.DataFrame(columns=columns)\n",
    "title = []\n",
    "prep_time = []\n",
    "cook_time = []\n",
    "total_time = []\n",
    "\n",
    "ingredients_measurment = []\n",
    "ingredients = []\n",
    "instructions = []\n",
    "\n",
    "calories = []\n",
    "servings = []\n",
    "images = []\n",
    "\n",
    "# Loop over the desired number of pages\n",
    "for i in range(201, 501):\n",
    "    proxy = next(proxy_cycle)\n",
    "\n",
    "    # Set up request with proxy\n",
    "    headers = {'User-Agent': 'Mozilla/5.0 (Windows NT 6.3; Win64; x64) AppleWebKit/537.36 (KHTML, like Gecko) Chrome/80.0.3987.162 Safari/537.36'}\n",
    "    url = all_recipes_url[i]\n",
    "    proxy_dict = {'http': proxy, 'https': proxy}\n",
    "\n",
    "    try:\n",
    "        response = requests.get(url, headers=headers, proxies=proxy_dict, timeout=30)\n",
    "        \n",
    "        # Check if the request was successful\n",
    "        if response.status_code == 200:\n",
    "            soup = BeautifulSoup(response.content, 'html.parser')\n",
    "            extract(soup)\n",
    "            print(f\"Successfully retrieved {i} - {url} with proxy {proxy}\")\n",
    "        else:\n",
    "            failed_url.append(url)\n",
    "            print(f\"Failed to retrieve page {url} with proxy {proxy}. Status code: {response.status_code}\")\n",
    "    except (requests.ConnectionError, requests.Timeout) as e:\n",
    "        failed_url.append(url)\n",
    "        print(f\"Proxy {proxy} failed for {url}: {e}\")\n",
    "    except ChunkedEncodingError as e:  # Handle ChunkedEncodingError\n",
    "        failed_url.append(url)\n",
    "        print(f\"ChunkedEncodingError occurred for proxy {proxy} and {url}: {e}\")\n",
    "        continue  # Move to the next page\n",
    "\n",
    "\n",
    "\n",
    "temp_recipes_3['title'] = title\n",
    "temp_recipes_3['prep_time'] = prep_time\n",
    "temp_recipes_3['cook_time'] = cook_time\n",
    "temp_recipes_3['total_time'] = total_time\n",
    "temp_recipes_3['ingredients'] = ingredients\n",
    "temp_recipes_3['ingredients with measurement'] = ingredients_measurment\n",
    "temp_recipes_3['instructions'] = instructions\n",
    "temp_recipes_3['calories'] = calories\n",
    "temp_recipes_3['servings'] = servings\n",
    "temp_recipes_3['images']= images\n",
    "\n",
    "\n",
    "\n",
    "    "
   ]
  },
  {
   "cell_type": "code",
   "execution_count": null,
   "id": "fbfb2603",
   "metadata": {},
   "outputs": [],
   "source": [
    "len(failed_url)"
   ]
  },
  {
   "cell_type": "code",
   "execution_count": null,
   "id": "1decf1ab",
   "metadata": {},
   "outputs": [],
   "source": [
    "temp_recipes_3"
   ]
  },
  {
   "cell_type": "code",
   "execution_count": null,
   "id": "5e699a3a",
   "metadata": {},
   "outputs": [],
   "source": [
    "final = pd.concat([final, temp_recipes_3], ignore_index=True)\n",
    "final"
   ]
  },
  {
   "cell_type": "code",
   "execution_count": null,
   "id": "f1aaeecb",
   "metadata": {},
   "outputs": [],
   "source": [
    "def save_list_to_txt(filename, data_list):\n",
    "    \"\"\"\n",
    "    Save a list of strings to a text file, one item per line.\n",
    "    \n",
    "    :param filename: The name of the file to save the list to.\n",
    "    :param data_list: The list of strings to save.\n",
    "    \"\"\"\n",
    "    with open(filename, 'w') as f:\n",
    "        for item in data_list:\n",
    "            f.write(f\"{item}\\n\")"
   ]
  },
  {
   "cell_type": "code",
   "execution_count": null,
   "id": "5fd1ee0e",
   "metadata": {},
   "outputs": [],
   "source": [
    "save_list_to_txt('failed_urls_till501.txt', failed_url)\n",
    "final.to_csv('desserts_201_501.csv', index=False)"
   ]
  },
  {
   "cell_type": "code",
   "execution_count": null,
   "id": "f2e767bb",
   "metadata": {},
   "outputs": [],
   "source": []
  },
  {
   "cell_type": "code",
   "execution_count": null,
   "id": "382f90d1",
   "metadata": {},
   "outputs": [],
   "source": []
  },
  {
   "cell_type": "code",
   "execution_count": null,
   "id": "76e81e61",
   "metadata": {},
   "outputs": [],
   "source": []
  },
  {
   "cell_type": "code",
   "execution_count": null,
   "id": "df03c5d3",
   "metadata": {},
   "outputs": [],
   "source": []
  },
  {
   "cell_type": "code",
   "execution_count": null,
   "id": "1e10152e",
   "metadata": {},
   "outputs": [],
   "source": []
  },
  {
   "cell_type": "code",
   "execution_count": null,
   "id": "f73e7e1b",
   "metadata": {},
   "outputs": [],
   "source": []
  },
  {
   "cell_type": "code",
   "execution_count": null,
   "id": "109578be",
   "metadata": {},
   "outputs": [],
   "source": []
  },
  {
   "cell_type": "code",
   "execution_count": null,
   "id": "1d416d69",
   "metadata": {},
   "outputs": [],
   "source": []
  },
  {
   "cell_type": "code",
   "execution_count": null,
   "id": "ae4b1919",
   "metadata": {},
   "outputs": [],
   "source": []
  },
  {
   "cell_type": "code",
   "execution_count": null,
   "id": "11fd3c4e",
   "metadata": {},
   "outputs": [],
   "source": []
  },
  {
   "cell_type": "code",
   "execution_count": null,
   "id": "9df36c54",
   "metadata": {},
   "outputs": [],
   "source": []
  },
  {
   "cell_type": "code",
   "execution_count": null,
   "id": "bf6c7112",
   "metadata": {},
   "outputs": [],
   "source": []
  },
  {
   "cell_type": "markdown",
   "id": "c2c25062",
   "metadata": {},
   "source": [
    "### Recipes 501-800"
   ]
  },
  {
   "cell_type": "code",
   "execution_count": null,
   "id": "bf153261",
   "metadata": {
    "scrolled": true
   },
   "outputs": [],
   "source": [
    "# Read proxies from the file and create a cycle iterator\n",
    "with open('proxies.txt', 'r') as f:\n",
    "    proxies = [line.strip() for line in f if line.strip()]\n",
    "\n",
    "# Check if proxies are being read correctly\n",
    "if not proxies:\n",
    "    print(\"No valid proxies found in proxies.txt\")\n",
    "else:\n",
    "    print(f\"Proxies loaded: {proxies}\")\n",
    "\n",
    "proxy_cycle = itertools.cycle(proxies)\n",
    "\n",
    "# Initialize an empty DataFrame to store results\n",
    "temp_recipes_4 = pd.DataFrame(columns=columns)\n",
    "title = []\n",
    "prep_time = []\n",
    "cook_time = []\n",
    "total_time = []\n",
    "\n",
    "ingredients_measurment = []\n",
    "ingredients = []\n",
    "instructions = []\n",
    "\n",
    "calories = []\n",
    "servings = []\n",
    "images = []\n",
    "\n",
    "# Loop over the desired number of pages\n",
    "for i in range(501, 792):\n",
    "    proxy = next(proxy_cycle)\n",
    "\n",
    "    # Set up request with proxy\n",
    "    headers = {'User-Agent': 'Mozilla/5.0 (Windows NT 6.3; Win64; x64) AppleWebKit/537.36 (KHTML, like Gecko) Chrome/80.0.3987.162 Safari/537.36'}\n",
    "    url = all_recipes_url[i]\n",
    "    proxy_dict = {'http': proxy, 'https': proxy}\n",
    "\n",
    "    try:\n",
    "        response = requests.get(url, headers=headers, proxies=proxy_dict, timeout=30)\n",
    "        \n",
    "        # Check if the request was successful\n",
    "        if response.status_code == 200:\n",
    "            soup = BeautifulSoup(response.content, 'html.parser')\n",
    "            extract(soup)\n",
    "            print(f\"Successfully retrieved {i} - {url} with proxy {proxy}\")\n",
    "        else:\n",
    "            failed_url.append(url)\n",
    "            print(f\"Failed to retrieve page {url} with proxy {proxy}. Status code: {response.status_code}\")\n",
    "    except (requests.ConnectionError, requests.Timeout) as e:\n",
    "        failed_url.append(url)\n",
    "        print(f\"Proxy {proxy} failed for {url}: {e}\")\n",
    "    except ChunkedEncodingError as e:  # Handle ChunkedEncodingError\n",
    "        failed_url.append(url)\n",
    "        print(f\"ChunkedEncodingError occurred for proxy {proxy} and {url}: {e}\")\n",
    "        continue  # Move to the next page\n",
    "\n",
    "\n",
    "\n",
    "temp_recipes_4['title'] = title\n",
    "temp_recipes_4['prep_time'] = prep_time\n",
    "temp_recipes_4['cook_time'] = cook_time\n",
    "temp_recipes_4['total_time'] = total_time\n",
    "temp_recipes_4['ingredients'] = ingredients\n",
    "temp_recipes_4['ingredients with measurement'] = ingredients_measurment\n",
    "temp_recipes_4['instructions'] = instructions\n",
    "temp_recipes_4['calories'] = calories\n",
    "temp_recipes_4['servings'] = servings\n",
    "temp_recipes_4['images']= images\n",
    "\n",
    "\n",
    "\n",
    "    "
   ]
  },
  {
   "cell_type": "code",
   "execution_count": null,
   "id": "3ee03d80",
   "metadata": {},
   "outputs": [],
   "source": [
    "len(failed_url)"
   ]
  },
  {
   "cell_type": "code",
   "execution_count": null,
   "id": "2600aa35",
   "metadata": {},
   "outputs": [],
   "source": [
    "temp_recipes_4"
   ]
  },
  {
   "cell_type": "code",
   "execution_count": null,
   "id": "15b8297f",
   "metadata": {},
   "outputs": [],
   "source": [
    "final = pd.concat([final, temp_recipes_4], ignore_index=True)\n",
    "final"
   ]
  },
  {
   "cell_type": "code",
   "execution_count": null,
   "id": "866bb7b8",
   "metadata": {},
   "outputs": [],
   "source": [
    "save_list_to_txt('failed_urls_till201_792.txt', failed_url)\n",
    "final.to_csv('recipes_501_792.csv', index=False)"
   ]
  },
  {
   "cell_type": "code",
   "execution_count": null,
   "id": "5124a2ae",
   "metadata": {},
   "outputs": [],
   "source": []
  },
  {
   "cell_type": "code",
   "execution_count": null,
   "id": "a353e6c1",
   "metadata": {},
   "outputs": [],
   "source": []
  },
  {
   "cell_type": "code",
   "execution_count": null,
   "id": "0ad8b628",
   "metadata": {},
   "outputs": [],
   "source": []
  },
  {
   "cell_type": "code",
   "execution_count": null,
   "id": "4380119e",
   "metadata": {},
   "outputs": [],
   "source": [
    "urls2 = []\n",
    "\n",
    "with open('all_urls.txt', 'r') as file:\n",
    "    for line in file:\n",
    "        urls2.append(line.strip())\n",
    "\n",
    "print(urls2)"
   ]
  },
  {
   "cell_type": "code",
   "execution_count": null,
   "id": "3f3ba63d",
   "metadata": {},
   "outputs": [],
   "source": [
    "failed_url = []"
   ]
  },
  {
   "cell_type": "markdown",
   "id": "cad1c608",
   "metadata": {},
   "source": [
    "### Recipes 801-1001"
   ]
  },
  {
   "cell_type": "code",
   "execution_count": null,
   "id": "4c995dc5",
   "metadata": {
    "scrolled": true
   },
   "outputs": [],
   "source": [
    "# Read proxies from the file and create a cycle iterator\n",
    "with open('proxies.txt', 'r') as f:\n",
    "    proxies = [line.strip() for line in f if line.strip()]\n",
    "\n",
    "# Check if proxies are being read correctly\n",
    "if not proxies:\n",
    "    print(\"No valid proxies found in proxies.txt\")\n",
    "else:\n",
    "    print(f\"Proxies loaded: {proxies}\")\n",
    "\n",
    "proxy_cycle = itertools.cycle(proxies)\n",
    "\n",
    "# Initialize an empty DataFrame to store results\n",
    "temp_recipes_5 = pd.DataFrame(columns=columns)\n",
    "title = []\n",
    "prep_time = []\n",
    "cook_time = []\n",
    "total_time = []\n",
    "\n",
    "ingredients_measurment = []\n",
    "ingredients = []\n",
    "instructions = []\n",
    "\n",
    "calories = []\n",
    "servings = []\n",
    "images = []\n",
    "\n",
    "# Loop over the desired number of pages\n",
    "for i in range(801, 1001):\n",
    "    proxy = next(proxy_cycle)\n",
    "\n",
    "    # Set up request with proxy\n",
    "    headers = {'User-Agent': 'Mozilla/5.0 (Windows NT 6.3; Win64; x64) AppleWebKit/537.36 (KHTML, like Gecko) Chrome/80.0.3987.162 Safari/537.36'}\n",
    "    url = urls2[i]\n",
    "    proxy_dict = {'http': proxy, 'https': proxy}\n",
    "\n",
    "    try:\n",
    "        response = requests.get(url, headers=headers, proxies=proxy_dict, timeout=30)\n",
    "        \n",
    "        # Check if the request was successful\n",
    "        if response.status_code == 200:\n",
    "            soup = BeautifulSoup(response.content, 'html.parser')\n",
    "            extract(soup)\n",
    "            print(f\"Successfully retrieved {i} - {url} with proxy {proxy}\")\n",
    "        else:\n",
    "            failed_url.append(url)\n",
    "            print(f\"Failed to retrieve page {url} with proxy {proxy}. Status code: {response.status_code}\")\n",
    "    except (requests.ConnectionError, requests.Timeout) as e:\n",
    "        failed_url.append(url)\n",
    "        print(f\"Proxy {proxy} failed for {url}: {e}\")\n",
    "    except ChunkedEncodingError as e:  # Handle ChunkedEncodingError\n",
    "        failed_url.append(url)\n",
    "        print(f\"ChunkedEncodingError occurred for proxy {proxy} and {url}: {e}\")\n",
    "        continue  # Move to the next page\n",
    "\n",
    "\n",
    "\n",
    "temp_recipes_5['title'] = title\n",
    "temp_recipes_5['prep_time'] = prep_time\n",
    "temp_recipes_5['cook_time'] = cook_time\n",
    "temp_recipes_5['total_time'] = total_time\n",
    "temp_recipes_5['ingredients'] = ingredients\n",
    "temp_recipes_5['ingredients with measurement'] = ingredients_measurment\n",
    "temp_recipes_5['instructions'] = instructions\n",
    "temp_recipes_5['calories'] = calories\n",
    "temp_recipes_5['servings'] = servings\n",
    "temp_recipes_5['images']= images\n",
    "\n",
    "\n",
    "\n",
    "    "
   ]
  },
  {
   "cell_type": "code",
   "execution_count": null,
   "id": "90f1e496",
   "metadata": {},
   "outputs": [],
   "source": []
  },
  {
   "cell_type": "code",
   "execution_count": null,
   "id": "bbc61ddc",
   "metadata": {},
   "outputs": [],
   "source": [
    "final3 = pd.DataFrame(columns=columns)\n",
    "final3"
   ]
  },
  {
   "cell_type": "code",
   "execution_count": null,
   "id": "9418d2e5",
   "metadata": {},
   "outputs": [],
   "source": [
    "len(failed_url)"
   ]
  },
  {
   "cell_type": "code",
   "execution_count": null,
   "id": "0a31ba5e",
   "metadata": {},
   "outputs": [],
   "source": [
    "temp_recipes_5"
   ]
  },
  {
   "cell_type": "code",
   "execution_count": null,
   "id": "676eed53",
   "metadata": {},
   "outputs": [],
   "source": [
    "final3 = pd.concat([final3, temp_recipes_5], ignore_index=True)\n",
    "final3"
   ]
  },
  {
   "cell_type": "code",
   "execution_count": null,
   "id": "a6bd2510",
   "metadata": {},
   "outputs": [],
   "source": [
    "# Read proxies from the file and create a cycle iterator\n",
    "with open('proxies.txt', 'r') as f:\n",
    "    proxies = [line.strip() for line in f if line.strip()]\n",
    "\n",
    "# Check if proxies are being read correctly\n",
    "if not proxies:\n",
    "    print(\"No valid proxies found in proxies.txt\")\n",
    "else:\n",
    "    print(f\"Proxies loaded: {proxies}\")\n",
    "\n",
    "proxy_cycle = itertools.cycle(proxies)\n",
    "\n",
    "# Initialize an empty DataFrame to store results\n",
    "temp_recipes_6 = pd.DataFrame(columns=columns)\n",
    "title = []\n",
    "prep_time = []\n",
    "cook_time = []\n",
    "total_time = []\n",
    "\n",
    "ingredients_measurment = []\n",
    "ingredients = []\n",
    "instructions = []\n",
    "\n",
    "calories = []\n",
    "servings = []\n",
    "images = []\n",
    "\n",
    "# Loop over the desired number of pages\n",
    "for i in range(1001, 1401):\n",
    "    proxy = next(proxy_cycle)\n",
    "\n",
    "    # Set up request with proxy\n",
    "    headers = {'User-Agent': 'Mozilla/5.0 (Windows NT 6.3; Win64; x64) AppleWebKit/537.36 (KHTML, like Gecko) Chrome/80.0.3987.162 Safari/537.36'}\n",
    "    url = urls2[i]\n",
    "    proxy_dict = {'http': proxy, 'https': proxy}\n",
    "\n",
    "    try:\n",
    "        response = requests.get(url, headers=headers, proxies=proxy_dict, timeout=30)\n",
    "        \n",
    "        # Check if the request was successful\n",
    "        if response.status_code == 200:\n",
    "            soup = BeautifulSoup(response.content, 'html.parser')\n",
    "            extract(soup)\n",
    "            print(f\"Successfully retrieved {i} - {url} with proxy {proxy}\")\n",
    "        else:\n",
    "            failed_url.append(url)\n",
    "            print(f\"Failed to retrieve page {url} with proxy {proxy}. Status code: {response.status_code}\")\n",
    "    except (requests.ConnectionError, requests.Timeout) as e:\n",
    "        failed_url.append(url)\n",
    "        print(f\"Proxy {proxy} failed for {url}: {e}\")\n",
    "    except ChunkedEncodingError as e:  # Handle ChunkedEncodingError\n",
    "        failed_url.append(url)\n",
    "        print(f\"ChunkedEncodingError occurred for proxy {proxy} and {url}: {e}\")\n",
    "        continue  # Move to the next page\n",
    "\n",
    "\n",
    "\n",
    "temp_recipes_6['title'] = title\n",
    "temp_recipes_6['prep_time'] = prep_time\n",
    "temp_recipes_6['cook_time'] = cook_time\n",
    "temp_recipes_6['total_time'] = total_time\n",
    "temp_recipes_6['ingredients'] = ingredients\n",
    "temp_recipes_6['ingredients with measurement'] = ingredients_measurment\n",
    "temp_recipes_6['instructions'] = instructions\n",
    "temp_recipes_6['calories'] = calories\n",
    "temp_recipes_6['servings'] = servings\n",
    "temp_recipes_6['images']= images\n",
    "\n",
    "\n",
    "\n",
    "    "
   ]
  },
  {
   "cell_type": "code",
   "execution_count": null,
   "id": "7a5cdb65",
   "metadata": {},
   "outputs": [],
   "source": [
    "len(failed_url)"
   ]
  },
  {
   "cell_type": "code",
   "execution_count": null,
   "id": "a23c55c6",
   "metadata": {},
   "outputs": [],
   "source": [
    "temp_recipes_6"
   ]
  },
  {
   "cell_type": "code",
   "execution_count": null,
   "id": "dd24a144",
   "metadata": {},
   "outputs": [],
   "source": [
    "final3 = pd.concat([final3, temp_recipes_6], ignore_index=True)\n",
    "final3"
   ]
  },
  {
   "cell_type": "code",
   "execution_count": null,
   "id": "82f16ddb",
   "metadata": {},
   "outputs": [],
   "source": []
  },
  {
   "cell_type": "code",
   "execution_count": null,
   "id": "8937c767",
   "metadata": {},
   "outputs": [],
   "source": []
  },
  {
   "cell_type": "code",
   "execution_count": null,
   "id": "ec75a1fb",
   "metadata": {},
   "outputs": [],
   "source": []
  },
  {
   "cell_type": "code",
   "execution_count": null,
   "id": "6859b2d4",
   "metadata": {},
   "outputs": [],
   "source": []
  },
  {
   "cell_type": "code",
   "execution_count": null,
   "id": "518412b0",
   "metadata": {},
   "outputs": [],
   "source": []
  },
  {
   "cell_type": "code",
   "execution_count": null,
   "id": "2ede269f",
   "metadata": {},
   "outputs": [],
   "source": []
  },
  {
   "cell_type": "code",
   "execution_count": null,
   "id": "5d657072",
   "metadata": {},
   "outputs": [],
   "source": []
  },
  {
   "cell_type": "code",
   "execution_count": null,
   "id": "502adb25",
   "metadata": {},
   "outputs": [],
   "source": [
    "# Read proxies from the file and create a cycle iterator\n",
    "with open('proxies.txt', 'r') as f:\n",
    "    proxies = [line.strip() for line in f if line.strip()]\n",
    "\n",
    "# Check if proxies are being read correctly\n",
    "if not proxies:\n",
    "    print(\"No valid proxies found in proxies.txt\")\n",
    "else:\n",
    "    print(f\"Proxies loaded: {proxies}\")\n",
    "\n",
    "proxy_cycle = itertools.cycle(proxies)\n",
    "\n",
    "# Initialize an empty DataFrame to store results\n",
    "temp_recipes_7 = pd.DataFrame(columns=columns)\n",
    "title = []\n",
    "prep_time = []\n",
    "cook_time = []\n",
    "total_time = []\n",
    "\n",
    "ingredients_measurment = []\n",
    "ingredients = []\n",
    "instructions = []\n",
    "\n",
    "calories = []\n",
    "servings = []\n",
    "images = []\n",
    "\n",
    "# Loop over the desired number of pages\n",
    "for i in range(1401, 1607):\n",
    "    proxy = next(proxy_cycle)\n",
    "\n",
    "    # Set up request with proxy\n",
    "    headers = {'User-Agent': 'Mozilla/5.0 (Windows NT 6.3; Win64; x64) AppleWebKit/537.36 (KHTML, like Gecko) Chrome/80.0.3987.162 Safari/537.36'}\n",
    "    url = urls2[i]\n",
    "    proxy_dict = {'http': proxy, 'https': proxy}\n",
    "\n",
    "    try:\n",
    "        response = requests.get(url, headers=headers, proxies=proxy_dict, timeout=30)\n",
    "        \n",
    "        # Check if the request was successful\n",
    "        if response.status_code == 200:\n",
    "            soup = BeautifulSoup(response.content, 'html.parser')\n",
    "            extract(soup)\n",
    "            print(f\"Successfully retrieved {i} - {url} with proxy {proxy}\")\n",
    "        else:\n",
    "            failed_url.append(url)\n",
    "            print(f\"Failed to retrieve page {url} with proxy {proxy}. Status code: {response.status_code}\")\n",
    "    except (requests.ConnectionError, requests.Timeout) as e:\n",
    "        failed_url.append(url)\n",
    "        print(f\"Proxy {proxy} failed for {url}: {e}\")\n",
    "    except ChunkedEncodingError as e:  # Handle ChunkedEncodingError\n",
    "        failed_url.append(url)\n",
    "        print(f\"ChunkedEncodingError occurred for proxy {proxy} and {url}: {e}\")\n",
    "        continue  # Move to the next page\n",
    "\n",
    "\n",
    "\n",
    "temp_recipes_7['title'] = title\n",
    "temp_recipes_7['prep_time'] = prep_time\n",
    "temp_recipes_7['cook_time'] = cook_time\n",
    "temp_recipes_7['total_time'] = total_time\n",
    "temp_recipes_7['ingredients'] = ingredients\n",
    "temp_recipes_7['ingredients with measurement'] = ingredients_measurment\n",
    "temp_recipes_7['instructions'] = instructions\n",
    "temp_recipes_7['calories'] = calories\n",
    "temp_recipes_7['servings'] = servings\n",
    "temp_recipes_7['images']= images\n",
    "\n",
    "\n",
    "\n",
    "    "
   ]
  },
  {
   "cell_type": "code",
   "execution_count": null,
   "id": "74d0eb6d",
   "metadata": {},
   "outputs": [],
   "source": [
    "len(failed_url)"
   ]
  },
  {
   "cell_type": "code",
   "execution_count": null,
   "id": "61ece967",
   "metadata": {},
   "outputs": [],
   "source": [
    "temp_recipes_7"
   ]
  },
  {
   "cell_type": "code",
   "execution_count": null,
   "id": "1e642971",
   "metadata": {},
   "outputs": [],
   "source": []
  }
 ],
 "metadata": {
  "kernelspec": {
   "display_name": "Python 3 (ipykernel)",
   "language": "python",
   "name": "python3"
  },
  "language_info": {
   "codemirror_mode": {
    "name": "ipython",
    "version": 3
   },
   "file_extension": ".py",
   "mimetype": "text/x-python",
   "name": "python",
   "nbconvert_exporter": "python",
   "pygments_lexer": "ipython3",
   "version": "3.9.8"
  }
 },
 "nbformat": 4,
 "nbformat_minor": 5
}
