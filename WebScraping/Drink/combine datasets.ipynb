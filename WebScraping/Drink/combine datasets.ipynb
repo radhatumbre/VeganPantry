{
 "cells": [
  {
   "cell_type": "code",
   "execution_count": 1,
   "id": "d5d06e24",
   "metadata": {},
   "outputs": [],
   "source": [
    "import pandas as pd\n",
    "import numpy as np"
   ]
  },
  {
   "cell_type": "code",
   "execution_count": 2,
   "id": "61cd8bac",
   "metadata": {},
   "outputs": [],
   "source": [
    "df1 = pd.read_csv('failed_drinks.csv')\n",
    "df2 = pd.read_csv('drinks_1_end.csv')"
   ]
  },
  {
   "cell_type": "code",
   "execution_count": 3,
   "id": "8145af10",
   "metadata": {},
   "outputs": [
    {
     "name": "stdout",
     "output_type": "stream",
     "text": [
      "<class 'pandas.core.frame.DataFrame'>\n",
      "RangeIndex: 47 entries, 0 to 46\n",
      "Data columns (total 10 columns):\n",
      " #   Column                        Non-Null Count  Dtype \n",
      "---  ------                        --------------  ----- \n",
      " 0   title                         47 non-null     object\n",
      " 1   prep_time                     47 non-null     object\n",
      " 2   cook_time                     47 non-null     object\n",
      " 3   total_time                    47 non-null     object\n",
      " 4   ingredients                   47 non-null     object\n",
      " 5   ingredients with measurement  47 non-null     object\n",
      " 6   instructions                  47 non-null     object\n",
      " 7   calories                      47 non-null     object\n",
      " 8   servings                      47 non-null     object\n",
      " 9   images                        47 non-null     object\n",
      "dtypes: object(10)\n",
      "memory usage: 3.8+ KB\n"
     ]
    }
   ],
   "source": [
    "df1.info()"
   ]
  },
  {
   "cell_type": "code",
   "execution_count": 4,
   "id": "033e8c01",
   "metadata": {},
   "outputs": [
    {
     "name": "stdout",
     "output_type": "stream",
     "text": [
      "<class 'pandas.core.frame.DataFrame'>\n",
      "RangeIndex: 110 entries, 0 to 109\n",
      "Data columns (total 10 columns):\n",
      " #   Column                        Non-Null Count  Dtype \n",
      "---  ------                        --------------  ----- \n",
      " 0   title                         110 non-null    object\n",
      " 1   prep_time                     110 non-null    object\n",
      " 2   cook_time                     110 non-null    object\n",
      " 3   total_time                    110 non-null    object\n",
      " 4   ingredients                   110 non-null    object\n",
      " 5   ingredients with measurement  110 non-null    object\n",
      " 6   instructions                  110 non-null    object\n",
      " 7   calories                      110 non-null    object\n",
      " 8   servings                      110 non-null    object\n",
      " 9   images                        110 non-null    object\n",
      "dtypes: object(10)\n",
      "memory usage: 8.7+ KB\n"
     ]
    }
   ],
   "source": [
    "df2.info()"
   ]
  },
  {
   "cell_type": "code",
   "execution_count": null,
   "id": "809d1df2",
   "metadata": {},
   "outputs": [],
   "source": []
  },
  {
   "cell_type": "code",
   "execution_count": null,
   "id": "21d8202d",
   "metadata": {},
   "outputs": [],
   "source": []
  },
  {
   "cell_type": "code",
   "execution_count": 5,
   "id": "4278398b",
   "metadata": {},
   "outputs": [],
   "source": [
    "# Empty Dataframe\n",
    "columns = [\n",
    "    'title',\n",
    "    'prep_time',\n",
    "    'cook_time',\n",
    "    'total_time',\n",
    "    'ingredients',\n",
    "    'ingredients with measurement',\n",
    "    'instructions',\n",
    "    'calories',\n",
    "    'servings',\n",
    "    'images'\n",
    "]"
   ]
  },
  {
   "cell_type": "code",
   "execution_count": 6,
   "id": "c22fb984",
   "metadata": {},
   "outputs": [
    {
     "data": {
      "text/html": [
       "<div>\n",
       "<style scoped>\n",
       "    .dataframe tbody tr th:only-of-type {\n",
       "        vertical-align: middle;\n",
       "    }\n",
       "\n",
       "    .dataframe tbody tr th {\n",
       "        vertical-align: top;\n",
       "    }\n",
       "\n",
       "    .dataframe thead th {\n",
       "        text-align: right;\n",
       "    }\n",
       "</style>\n",
       "<table border=\"1\" class=\"dataframe\">\n",
       "  <thead>\n",
       "    <tr style=\"text-align: right;\">\n",
       "      <th></th>\n",
       "      <th>title</th>\n",
       "      <th>prep_time</th>\n",
       "      <th>cook_time</th>\n",
       "      <th>total_time</th>\n",
       "      <th>ingredients</th>\n",
       "      <th>ingredients with measurement</th>\n",
       "      <th>instructions</th>\n",
       "      <th>calories</th>\n",
       "      <th>servings</th>\n",
       "      <th>images</th>\n",
       "    </tr>\n",
       "  </thead>\n",
       "  <tbody>\n",
       "  </tbody>\n",
       "</table>\n",
       "</div>"
      ],
      "text/plain": [
       "Empty DataFrame\n",
       "Columns: [title, prep_time, cook_time, total_time, ingredients, ingredients with measurement, instructions, calories, servings, images]\n",
       "Index: []"
      ]
     },
     "execution_count": 6,
     "metadata": {},
     "output_type": "execute_result"
    }
   ],
   "source": [
    "final = pd.DataFrame(columns=columns)\n",
    "final"
   ]
  },
  {
   "cell_type": "code",
   "execution_count": 7,
   "id": "a98d4da7",
   "metadata": {},
   "outputs": [
    {
     "name": "stdout",
     "output_type": "stream",
     "text": [
      "<class 'pandas.core.frame.DataFrame'>\n",
      "RangeIndex: 47 entries, 0 to 46\n",
      "Data columns (total 10 columns):\n",
      " #   Column                        Non-Null Count  Dtype \n",
      "---  ------                        --------------  ----- \n",
      " 0   title                         47 non-null     object\n",
      " 1   prep_time                     47 non-null     object\n",
      " 2   cook_time                     47 non-null     object\n",
      " 3   total_time                    47 non-null     object\n",
      " 4   ingredients                   47 non-null     object\n",
      " 5   ingredients with measurement  47 non-null     object\n",
      " 6   instructions                  47 non-null     object\n",
      " 7   calories                      47 non-null     object\n",
      " 8   servings                      47 non-null     object\n",
      " 9   images                        47 non-null     object\n",
      "dtypes: object(10)\n",
      "memory usage: 3.8+ KB\n"
     ]
    }
   ],
   "source": [
    "final = pd.concat([final, df1], ignore_index=True)\n",
    "final.info()"
   ]
  },
  {
   "cell_type": "code",
   "execution_count": 8,
   "id": "e787425d",
   "metadata": {},
   "outputs": [
    {
     "name": "stdout",
     "output_type": "stream",
     "text": [
      "<class 'pandas.core.frame.DataFrame'>\n",
      "RangeIndex: 157 entries, 0 to 156\n",
      "Data columns (total 10 columns):\n",
      " #   Column                        Non-Null Count  Dtype \n",
      "---  ------                        --------------  ----- \n",
      " 0   title                         157 non-null    object\n",
      " 1   prep_time                     157 non-null    object\n",
      " 2   cook_time                     157 non-null    object\n",
      " 3   total_time                    157 non-null    object\n",
      " 4   ingredients                   157 non-null    object\n",
      " 5   ingredients with measurement  157 non-null    object\n",
      " 6   instructions                  157 non-null    object\n",
      " 7   calories                      157 non-null    object\n",
      " 8   servings                      157 non-null    object\n",
      " 9   images                        157 non-null    object\n",
      "dtypes: object(10)\n",
      "memory usage: 12.4+ KB\n"
     ]
    }
   ],
   "source": [
    "final = pd.concat([final, df2], ignore_index=True)\n",
    "final.info()"
   ]
  },
  {
   "cell_type": "code",
   "execution_count": 9,
   "id": "6a803449",
   "metadata": {},
   "outputs": [],
   "source": [
    "final['type_of_meal'] = 'drink'"
   ]
  },
  {
   "cell_type": "code",
   "execution_count": 10,
   "id": "d6fc1189",
   "metadata": {},
   "outputs": [
    {
     "data": {
      "text/html": [
       "<div>\n",
       "<style scoped>\n",
       "    .dataframe tbody tr th:only-of-type {\n",
       "        vertical-align: middle;\n",
       "    }\n",
       "\n",
       "    .dataframe tbody tr th {\n",
       "        vertical-align: top;\n",
       "    }\n",
       "\n",
       "    .dataframe thead th {\n",
       "        text-align: right;\n",
       "    }\n",
       "</style>\n",
       "<table border=\"1\" class=\"dataframe\">\n",
       "  <thead>\n",
       "    <tr style=\"text-align: right;\">\n",
       "      <th></th>\n",
       "      <th>title</th>\n",
       "      <th>prep_time</th>\n",
       "      <th>cook_time</th>\n",
       "      <th>total_time</th>\n",
       "      <th>ingredients</th>\n",
       "      <th>ingredients with measurement</th>\n",
       "      <th>instructions</th>\n",
       "      <th>calories</th>\n",
       "      <th>servings</th>\n",
       "      <th>images</th>\n",
       "      <th>type_of_meal</th>\n",
       "    </tr>\n",
       "  </thead>\n",
       "  <tbody>\n",
       "    <tr>\n",
       "      <th>5</th>\n",
       "      <td>Voldemort’s Dark Serum</td>\n",
       "      <td>{'minutes': '5'}</td>\n",
       "      <td>-</td>\n",
       "      <td>{'minutes': '5'}</td>\n",
       "      <td>['pomegranate juice', 'silver tequila or Mezca...</td>\n",
       "      <td>{'pomegranate juice': '1', 'silver tequila or ...</td>\n",
       "      <td>['1. Combine the pomegranate juice, tequila, C...</td>\n",
       "      <td>448 kcal</td>\n",
       "      <td>1</td>\n",
       "      <td>https://www.halfbakedharvest.com/wp-content/up...</td>\n",
       "      <td>drink</td>\n",
       "    </tr>\n",
       "    <tr>\n",
       "      <th>135</th>\n",
       "      <td>Frothy Whipped Coffee White Russian</td>\n",
       "      <td>{'minutes': '5'}</td>\n",
       "      <td>-</td>\n",
       "      <td>{'minutes': '5'}</td>\n",
       "      <td>['hot water', 'instant coffee powder', 'honey ...</td>\n",
       "      <td>{'hot water': '1', 'instant coffee powder': '1...</td>\n",
       "      <td>['1. Combine the hot water, instant coffee, an...</td>\n",
       "      <td>372 kcal</td>\n",
       "      <td>1</td>\n",
       "      <td>https://www.halfbakedharvest.com/wp-content/up...</td>\n",
       "      <td>drink</td>\n",
       "    </tr>\n",
       "    <tr>\n",
       "      <th>32</th>\n",
       "      <td>Smashed Berry Rosè Spritz</td>\n",
       "      <td>{'minutes': '10'}</td>\n",
       "      <td>-</td>\n",
       "      <td>{'minutes': '10'}</td>\n",
       "      <td>['fresh blackberries', 'fresh raspberries', 'b...</td>\n",
       "      <td>{'fresh blackberries': '1/2', 'fresh raspberri...</td>\n",
       "      <td>['In a pitcher, muddle the raspberries, blackb...</td>\n",
       "      <td>211 kcal</td>\n",
       "      <td>6</td>\n",
       "      <td>https://www.halfbakedharvest.com/wp-content/up...</td>\n",
       "      <td>drink</td>\n",
       "    </tr>\n",
       "    <tr>\n",
       "      <th>3</th>\n",
       "      <td>Spiced Cranberry Punch</td>\n",
       "      <td>{'minutes': '10'}</td>\n",
       "      <td>{'minutes': '5'}</td>\n",
       "      <td>{'minutes': '15'}</td>\n",
       "      <td>['fresh cranberries', 'honey or maple syrup, u...</td>\n",
       "      <td>{'fresh cranberries': '2', 'honey or maple syr...</td>\n",
       "      <td>['1. In a pot, bring 1/2 cup water, the cranbe...</td>\n",
       "      <td>296 kcal</td>\n",
       "      <td>8</td>\n",
       "      <td>https://www.halfbakedharvest.com/wp-content/up...</td>\n",
       "      <td>drink</td>\n",
       "    </tr>\n",
       "    <tr>\n",
       "      <th>97</th>\n",
       "      <td>Vanilla Chai Tea White Russian</td>\n",
       "      <td>{'minutes': '5'}</td>\n",
       "      <td>{'minutes': '5'}</td>\n",
       "      <td>{'minutes': '10'}</td>\n",
       "      <td>['chai tea bags', 'honey', 'vanilla extract', ...</td>\n",
       "      <td>{'chai tea bags': '4', 'honey': '1/3', 'vanill...</td>\n",
       "      <td>['1. In a medium pot, bring 1 cup water to a b...</td>\n",
       "      <td>934 kcal</td>\n",
       "      <td>1</td>\n",
       "      <td>https://www.halfbakedharvest.com/wp-content/up...</td>\n",
       "      <td>drink</td>\n",
       "    </tr>\n",
       "  </tbody>\n",
       "</table>\n",
       "</div>"
      ],
      "text/plain": [
       "                                   title          prep_time         cook_time  \\\n",
       "5                 Voldemort’s Dark Serum   {'minutes': '5'}                 -   \n",
       "135  Frothy Whipped Coffee White Russian   {'minutes': '5'}                 -   \n",
       "32             Smashed Berry Rosè Spritz  {'minutes': '10'}                 -   \n",
       "3                 Spiced Cranberry Punch  {'minutes': '10'}  {'minutes': '5'}   \n",
       "97        Vanilla Chai Tea White Russian   {'minutes': '5'}  {'minutes': '5'}   \n",
       "\n",
       "            total_time                                        ingredients  \\\n",
       "5     {'minutes': '5'}  ['pomegranate juice', 'silver tequila or Mezca...   \n",
       "135   {'minutes': '5'}  ['hot water', 'instant coffee powder', 'honey ...   \n",
       "32   {'minutes': '10'}  ['fresh blackberries', 'fresh raspberries', 'b...   \n",
       "3    {'minutes': '15'}  ['fresh cranberries', 'honey or maple syrup, u...   \n",
       "97   {'minutes': '10'}  ['chai tea bags', 'honey', 'vanilla extract', ...   \n",
       "\n",
       "                          ingredients with measurement  \\\n",
       "5    {'pomegranate juice': '1', 'silver tequila or ...   \n",
       "135  {'hot water': '1', 'instant coffee powder': '1...   \n",
       "32   {'fresh blackberries': '1/2', 'fresh raspberri...   \n",
       "3    {'fresh cranberries': '2', 'honey or maple syr...   \n",
       "97   {'chai tea bags': '4', 'honey': '1/3', 'vanill...   \n",
       "\n",
       "                                          instructions  calories servings  \\\n",
       "5    ['1. Combine the pomegranate juice, tequila, C...  448 kcal        1   \n",
       "135  ['1. Combine the hot water, instant coffee, an...  372 kcal        1   \n",
       "32   ['In a pitcher, muddle the raspberries, blackb...  211 kcal        6   \n",
       "3    ['1. In a pot, bring 1/2 cup water, the cranbe...  296 kcal        8   \n",
       "97   ['1. In a medium pot, bring 1 cup water to a b...  934 kcal        1   \n",
       "\n",
       "                                                images type_of_meal  \n",
       "5    https://www.halfbakedharvest.com/wp-content/up...        drink  \n",
       "135  https://www.halfbakedharvest.com/wp-content/up...        drink  \n",
       "32   https://www.halfbakedharvest.com/wp-content/up...        drink  \n",
       "3    https://www.halfbakedharvest.com/wp-content/up...        drink  \n",
       "97   https://www.halfbakedharvest.com/wp-content/up...        drink  "
      ]
     },
     "execution_count": 10,
     "metadata": {},
     "output_type": "execute_result"
    }
   ],
   "source": [
    "final.sample(5)"
   ]
  },
  {
   "cell_type": "code",
   "execution_count": 11,
   "id": "d31d9aef",
   "metadata": {},
   "outputs": [],
   "source": [
    "def save_list_to_txt(filename, data_list):\n",
    "    \"\"\"\n",
    "    Save a list of strings to a text file, one item per line.\n",
    "    \n",
    "    :param filename: The name of the file to save the list to.\n",
    "    :param data_list: The list of strings to save.\n",
    "    \"\"\"\n",
    "    with open(filename, 'w') as f:\n",
    "        for item in data_list:\n",
    "            f.write(f\"{item}\\n\")"
   ]
  },
  {
   "cell_type": "code",
   "execution_count": 12,
   "id": "00d63265",
   "metadata": {},
   "outputs": [],
   "source": [
    "final.to_csv('recipes_drinks.csv', index=False)"
   ]
  },
  {
   "cell_type": "code",
   "execution_count": null,
   "id": "d3a9f970",
   "metadata": {},
   "outputs": [],
   "source": []
  }
 ],
 "metadata": {
  "kernelspec": {
   "display_name": "Python 3 (ipykernel)",
   "language": "python",
   "name": "python3"
  },
  "language_info": {
   "codemirror_mode": {
    "name": "ipython",
    "version": 3
   },
   "file_extension": ".py",
   "mimetype": "text/x-python",
   "name": "python",
   "nbconvert_exporter": "python",
   "pygments_lexer": "ipython3",
   "version": "3.9.8"
  }
 },
 "nbformat": 4,
 "nbformat_minor": 5
}
