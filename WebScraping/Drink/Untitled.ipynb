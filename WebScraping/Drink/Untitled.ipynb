{
 "cells": [
  {
   "cell_type": "code",
   "execution_count": 4,
   "id": "05e08611",
   "metadata": {},
   "outputs": [
    {
     "data": {
      "text/plain": [
       "['4.234.52.159:8080', '4.159.24.156:8080', '20.26.186.150:8080']"
      ]
     },
     "execution_count": 4,
     "metadata": {},
     "output_type": "execute_result"
    }
   ],
   "source": [
    "\n",
    "# Open and read the text file\n",
    "with open('proxies.txt', 'r') as file:\n",
    "    # Read each line and strip newline characters, converting to a list\n",
    "    proxylist = [line.strip() for line in file]\n",
    "\n",
    "# Print the list\n",
    "proxylist"
   ]
  },
  {
   "cell_type": "code",
   "execution_count": 5,
   "id": "2bd3f954",
   "metadata": {},
   "outputs": [
    {
     "name": "stdout",
     "output_type": "stream",
     "text": [
      "File proxy-list.txt not found.\n",
      "[]\n"
     ]
    }
   ],
   "source": [
    "import requests\n",
    "from bs4 import BeautifulSoup\n",
    "import concurrent.futures\n",
    "\n",
    "def getProxies():\n",
    "    with open('yourfile.txt', 'r') as file:\n",
    "        lines = [line.strip() for line in file]\n",
    "\n",
    "def proxy_from_txt(filename):\n",
    "    \"\"\"\n",
    "    Read proxies from a given file and return a list of proxies.\n",
    "    If the file is not found, return an empty list.\n",
    "    \"\"\"\n",
    "    try:\n",
    "        with open(filename, 'r') as f:\n",
    "            txt_proxies = [line.strip() for line in f]\n",
    "        return txt_proxies\n",
    "    except FileNotFoundError:\n",
    "        print(f\"File {filename} not found.\")\n",
    "        return []\n",
    "\n",
    "def extract(proxy):\n",
    "    \"\"\"\n",
    "    Test a proxy by making a request to a specified URL and return the result.\n",
    "    \"\"\"\n",
    "    headers = {'User-Agent': 'Mozilla/5.0 (Windows NT 6.3; Win64; x64) AppleWebKit/537.36 (KHTML, like Gecko) Chrome/80.0.3987.162 Safari/537.36'} \n",
    "    try:\n",
    "        r = requests.get('https://www.halfbakedharvest.com/category/recipes/type-of-meal/appetizers/2/', headers=headers, proxies={'http': proxy, 'https': proxy}, timeout=5)\n",
    "        if r.status_code == 200:\n",
    "            working = {\n",
    "                'proxy': proxy,\n",
    "                'statuscode': r.status_code,\n",
    "                'data': r.text[:200],\n",
    "            }\n",
    "            print(proxy)\n",
    "            return working\n",
    "    except Exception as e:\n",
    "        # Silent pass to move on to the next proxy\n",
    "        pass\n",
    "    return None\n",
    "\n",
    "def main():\n",
    "    \"\"\"\n",
    "    Main function to orchestrate fetching and testing of proxies.\n",
    "    \"\"\"\n",
    "    txt_prox = proxy_from_txt('proxy-list.txt')\n",
    "    \n",
    "    proxylist.extend(txt_prox)\n",
    "    \n",
    "    with concurrent.futures.ThreadPoolExecutor() as executor:\n",
    "        results = list(executor.map(extract, proxylist))\n",
    "    \n",
    "    # Filter out None results\n",
    "    results = [result for result in results if result is not None]\n",
    "    return results\n",
    "\n",
    "if __name__ == '__main__':\n",
    "    results = main()\n",
    "    print(results)\n"
   ]
  },
  {
   "cell_type": "code",
   "execution_count": null,
   "id": "b8c6ff2a",
   "metadata": {},
   "outputs": [],
   "source": []
  }
 ],
 "metadata": {
  "kernelspec": {
   "display_name": "Python 3 (ipykernel)",
   "language": "python",
   "name": "python3"
  },
  "language_info": {
   "codemirror_mode": {
    "name": "ipython",
    "version": 3
   },
   "file_extension": ".py",
   "mimetype": "text/x-python",
   "name": "python",
   "nbconvert_exporter": "python",
   "pygments_lexer": "ipython3",
   "version": "3.9.8"
  }
 },
 "nbformat": 4,
 "nbformat_minor": 5
}
